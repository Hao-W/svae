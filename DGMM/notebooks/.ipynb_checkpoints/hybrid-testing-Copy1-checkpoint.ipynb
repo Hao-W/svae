{
 "cells": [
  {
   "cell_type": "code",
   "execution_count": 1,
   "metadata": {},
   "outputs": [
    {
     "name": "stdout",
     "output_type": "stream",
     "text": [
      "probtorch: 0.0+5a2c637 torch: 1.3.0\n"
     ]
    }
   ],
   "source": [
    "%matplotlib inline\n",
    "%run ../../import_envs.py\n",
    "\n",
    "K = 4\n",
    "D = 2\n",
    "NUM_HIDDEN_GLOBAL = 32\n",
    "NUM_HIDDEN_STATE = 32\n",
    "NUM_HIDDEN_ANGLE = 32\n",
    "NUM_HIDDEN_DEC = 32\n",
    "NUM_NSS = 8\n",
    "RECON_SIGMA =  1.0\n",
    "model_params = (K, D, NUM_HIDDEN_GLOBAL, NUM_NSS, NUM_HIDDEN_STATE, NUM_HIDDEN_ANGLE, NUM_HIDDEN_DEC, RECON_SIGMA)\n",
    "LOAD_VERSION = 'dgmm-new-apg-systematic-9sweeps-10samples-0.00050lr'\n",
    "\n",
    "CUDA = torch.cuda.is_available()\n",
    "DEVICE = torch.device('cuda:0')"
   ]
  },
  {
   "cell_type": "code",
   "execution_count": 2,
   "metadata": {},
   "outputs": [],
   "source": [
    "# load test data\n",
    "# test_sets = ['pts_120', 'pts_160', 'pts_200', 'pts_400', 'pts_600']\n",
    "test_sets = ['pts_600']\n",
    "\n",
    "DATAs = []\n",
    "for s in test_sets:\n",
    "    data = torch.from_numpy(np.load(DATA_DIR + 'dgmm/test/' + s + '/' + 'ob.npy')).float() ## load testing datasets\n",
    "    DATAs.append(data)\n",
    "## load the weights\n",
    "from apg_modeling import init_model\n",
    "\n",
    "model = init_model(model_params=model_params, \n",
    "                    CUDA=CUDA, \n",
    "                    DEVICE=DEVICE, \n",
    "                    LOAD_VERSION=LOAD_VERSION,\n",
    "                    LR=None)\n"
   ]
  },
  {
   "cell_type": "code",
   "execution_count": null,
   "metadata": {},
   "outputs": [],
   "source": [
    "## visualize samples\n",
    "%run ../hybrid_testing.py\n",
    "from viz import viz_samples\n",
    "SAMPLE_SIZE_TEST = 20\n",
    "APG_SWEEPS_TEST = 20\n",
    "DATA_PTR = 107\n",
    "\n",
    "\n",
    "datas = sample_data_uniform(DATAs=DATAs, \n",
    "                            data_ptr=DATA_PTR)\n",
    "FLAGs = {'hmc' : True, 'apg' : False, 'bps' : False}\n",
    "\n",
    "metrics = test_hybrid_all(model=model, \n",
    "                            flags=FLAGs,\n",
    "                            DATA=DATAs[0], \n",
    "                            batch_size=50,\n",
    "                            sample_size=SAMPLE_SIZE_TEST, \n",
    "                            apg_sweeps=APG_SWEEPS_TEST,\n",
    "                            K=K,\n",
    "                            hmc_num_steps=APG_SWEEPS_TEST, \n",
    "                            leapfrog_step_size= 1e-5, \n",
    "                            leapfrog_num_steps=5,\n",
    "                            filename='test',\n",
    "                            CUDA=CUDA, \n",
    "                            DEVICE=DEVICE)\n",
    "\n",
    "# test_hybrid(model=model, \n",
    "#             flags=FLAGs,\n",
    "#             datas=datas, \n",
    "#             sample_size=SAMPLE_SIZE_TEST, \n",
    "#             apg_sweeps=APG_SWEEPS_TEST,\n",
    "#             K=K,\n",
    "#             hmc_num_steps=APG_SWEEPS_TEST, \n",
    "#             leapfrog_step_size= 1e-4, \n",
    "#             leapfrog_num_steps=5,\n",
    "#             filename='test',\n",
    "#             CUDA=CUDA, \n",
    "#             DEVICE=DEVICE)"
   ]
  },
  {
   "cell_type": "code",
   "execution_count": null,
   "metadata": {},
   "outputs": [],
   "source": [
    "torch.Tensor(metrics['hmc']).mean()"
   ]
  },
  {
   "cell_type": "code",
   "execution_count": null,
   "metadata": {},
   "outputs": [],
   "source": [
    "import matplotlib.pyplot as plt\n",
    "\n",
    "def plot_density(flags, fs, fs_title, lw, filename):\n",
    "    fig = plt.figure(figsize=(fs*3,fs)) \n",
    "    ax = fig.add_subplot(111)\n",
    "    COLORS = ['#EE7733', '#009988', '#AA3377', '#0077BB', '#555555', '#999933']\n",
    "    lw = lw\n",
    "    fs_title= fs_title\n",
    "    if flags['apg']:\n",
    "        log_joint_apg = np.load('log_joint_apg_%s.npy' % filename)\n",
    "        apg_mean = log_joint_apg.mean(1)\n",
    "        apg_std = log_joint_apg.std(1)\n",
    "        ax.plot(apg_mean, c=COLORS[0], label='APG')\n",
    "\n",
    "    if flags['hmc']:\n",
    "        log_joint_hmc = np.load('log_joint_hmc_%s.npy' % filename)\n",
    "        hmc_mean = log_joint_hmc.mean(1)\n",
    "        hmc_std = log_joint_hmc.std(1)\n",
    "        ax.plot(hmc_mean, c=COLORS[1], label='HMC')\n",
    "        \n",
    "    if flags['bps']:\n",
    "        log_joint_gibbs = np.load('log_joint_bps_%s.npy' % filename)\n",
    "        gibbs_mean = log_joint_gibbs.mean(1)\n",
    "        gibbs_std = log_joint_gibbs.std(1)\n",
    "        ax.plot(gibbs_mean, c=COLORS[3], label='BPS')  \n",
    "    ax.legend(fontsize=20)\n",
    "    \n",
    "plot_density(flags=FLAGs, fs=8, fs_title=14, lw=2, filename='test')"
   ]
  },
  {
   "cell_type": "code",
   "execution_count": null,
   "metadata": {},
   "outputs": [],
   "source": [
    "log_joint_hmc = np.load('log_joint_hmc_%s.npy' % 'test')\n",
    "hmc_mean = log_joint_hmc.mean(1)"
   ]
  },
  {
   "cell_type": "code",
   "execution_count": null,
   "metadata": {},
   "outputs": [],
   "source": [
    "hmc_mean"
   ]
  },
  {
   "cell_type": "code",
   "execution_count": null,
   "metadata": {},
   "outputs": [],
   "source": [
    "log_ws = metrics[0]['elbo']\n",
    "\n",
    "rws_log_w = log_ws[0].cpu().squeeze(-1)"
   ]
  },
  {
   "cell_type": "code",
   "execution_count": null,
   "metadata": {},
   "outputs": [],
   "source": [
    "\n",
    "\n",
    "# normalized_rws = F.softmax(rws_log_w, 0)\n",
    "# plt.scatter(np.arange(apg_log_w.shape[0]), normalized_rws)\n",
    "apg_log_w = log_ws[-1].cpu().squeeze(-1)\n",
    "apg_log_w\n",
    "# normalized_w = F.softmax(apg_log_w, 0)\n",
    "plt.scatter(np.arange(apg_log_w.shape[0]), apg_log_w)"
   ]
  },
  {
   "cell_type": "code",
   "execution_count": null,
   "metadata": {},
   "outputs": [],
   "source": [
    "zs = metrics[0]['zs'][-1].squeeze(1).argmax(-1).cpu()\n",
    "mus = metrics[0]['mus'][-2].squeeze(1).cpu()\n",
    "colors=['#AA3377', '#EE7733', '#009988', '#0077BB', '#BBBBBB', '#EE3377', '#DDCC77']\n",
    "for i in range(zs.shape[0]):\n",
    "    for j in range(4):\n",
    "#     plt.plot(zs[i][10:20], 'o-')\n",
    "        plt.scatter(mus[i, j, 0], mus[i, j, 1], color=colors[j])"
   ]
  },
  {
   "cell_type": "code",
   "execution_count": null,
   "metadata": {},
   "outputs": [],
   "source": [
    "log_wb = metrics[0]['log_pb'][-1] - metrics[0]['log_qb'][-1]\n",
    "log_wf = metrics[0]['log_pf'][-1] - metrics[0]['log_qf'][-1]\n",
    "log_w = (log_wf - log_wb).squeeze(0).cpu()\n",
    "plt.scatter(np.arange(log_w.shape[0]), log_w.exp())"
   ]
  },
  {
   "cell_type": "code",
   "execution_count": null,
   "metadata": {},
   "outputs": [],
   "source": [
    "log_w"
   ]
  },
  {
   "cell_type": "code",
   "execution_count": null,
   "metadata": {},
   "outputs": [],
   "source": [
    "from torch.distributions.multivariate_normal import MultivariateNormal as mvn\n",
    "from torch.distributions.categorical import Categorical as cat\n",
    "import matplotlib.pyplot as plt\n",
    "p1 = mvn(torch.zeros(2), torch.Tensor([[2.0, 1.8], [1.8, 2.0]]))\n",
    "# p2 = mvn(torch.zeros(2), torch.Tensor([[1.0, -1.8], [-1.8, 1.0]]))\n",
    "# c1 = cat(torch.ones(2) * 0.5)\n",
    "# zn = c1.sample((1000,))\n",
    "samples_mvn = p1.sample((1000,))\n",
    "samples_banana = torch.zeros(1000, 2)\n",
    "samples_banana[:, 1] = samples_mvn[:, 1] * 0.3 + samples_mvn[:, 0]**2 \n",
    "samples_banana[:, 0] = samples_mvn[:, 0]\n",
    "\n",
    "fig = plt.figure(figsize=(6,6))\n",
    "ax = fig.add_subplot(111)\n",
    "ax.scatter(samples_banana[:,0], samples_banana[:, 1])\n",
    "ax.set_xlim([-10, 10])\n",
    "ax.set_ylim([-10, 10])"
   ]
  },
  {
   "cell_type": "code",
   "execution_count": null,
   "metadata": {},
   "outputs": [],
   "source": [
    "sigma = 2.0\n",
    "p1 = mvn(torch.zeros(2), torch.Tensor([[1.0, sigma], [sigma, 1.0]]))\n",
    "p1.sample((1,))"
   ]
  },
  {
   "cell_type": "code",
   "execution_count": null,
   "metadata": {},
   "outputs": [],
   "source": [
    "xn"
   ]
  },
  {
   "cell_type": "code",
   "execution_count": null,
   "metadata": {},
   "outputs": [],
   "source": []
  },
  {
   "cell_type": "code",
   "execution_count": null,
   "metadata": {},
   "outputs": [],
   "source": [
    "c1.sample((1000,))"
   ]
  },
  {
   "cell_type": "code",
   "execution_count": null,
   "metadata": {},
   "outputs": [],
   "source": []
  },
  {
   "cell_type": "code",
   "execution_count": null,
   "metadata": {},
   "outputs": [],
   "source": [
    "budget = 1000\n",
    "apg_sweeps = [1, 2, 5, 10 , 20 , 50, 100, 200]\n",
    "baseline = np.array(apg_sweeps) / budget\n",
    "%run ../apg_testing.py\n",
    "DATA_PTR = 10\n",
    "\n",
    "datas = sample_data_uniform(DATAs=DATAs, \n",
    "                            data_ptr=DATA_PTR)\n",
    "\n",
    "ESSs, DENSITIES = test_budget(model=model,\n",
    "                              budget=budget,\n",
    "                              apg_sweeps=apg_sweeps,\n",
    "                              datas=datas,\n",
    "                              K=K,\n",
    "                              CUDA=CUDA,\n",
    "                              DEVICE=DEVICE)\n",
    "\n",
    "ESSs_cpu = torch.Tensor(ESSs).cpu()\n",
    "DENSITIES_cpu = torch.Tensor(DENSITIES).cpu()"
   ]
  },
  {
   "cell_type": "code",
   "execution_count": null,
   "metadata": {},
   "outputs": [],
   "source": [
    "\n",
    "pts = [200, 400, 600]\n",
    "fig = plt.figure(figsize=(12,8))\n",
    "ax = fig.add_subplot(111)\n",
    "\n",
    "ax.plot(baseline, 'k:', label='baseline', lw=5)\n",
    "for i in range(ESSs_cpu.shape[1]):\n",
    "    ess = ESSs_cpu[:, i]\n",
    "    plt.plot(ess, 'o-', label='N=%d' % pts[i])\n",
    "    ax.legend()\n",
    "#     ax.set_yscale('log')\n",
    "#     ax.set_ylim([1e-3, 1.0])"
   ]
  },
  {
   "cell_type": "code",
   "execution_count": null,
   "metadata": {},
   "outputs": [],
   "source": [
    "fig = plt.figure(figsize=(12,8))\n",
    "ax = fig.add_subplot(111)\n",
    "for i in range(DENSITIES_cpu.shape[1]):\n",
    "    density = DENSITIES_cpu[:, i]\n",
    "    plt.plot(density, 'o-', label='N=%d' % pts[i])\n",
    "    ax.legend()\n",
    "#     ax.set_ylim([-1000, -200])"
   ]
  },
  {
   "cell_type": "code",
   "execution_count": null,
   "metadata": {},
   "outputs": [],
   "source": []
  }
 ],
 "metadata": {
  "kernelspec": {
   "display_name": "Python 3",
   "language": "python",
   "name": "python3"
  },
  "language_info": {
   "codemirror_mode": {
    "name": "ipython",
    "version": 3
   },
   "file_extension": ".py",
   "mimetype": "text/x-python",
   "name": "python",
   "nbconvert_exporter": "python",
   "pygments_lexer": "ipython3",
   "version": "3.7.3"
  }
 },
 "nbformat": 4,
 "nbformat_minor": 4
}
