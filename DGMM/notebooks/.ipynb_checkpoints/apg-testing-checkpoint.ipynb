{
 "cells": [
  {
   "cell_type": "code",
   "execution_count": 1,
   "metadata": {},
   "outputs": [
    {
     "name": "stdout",
     "output_type": "stream",
     "text": [
      "probtorch: 0.0+5a2c637 torch: 1.3.0\n",
      "inference method:apg, apg sweeps:9, epochs:200, sample size:10, batch size:20, learning rate:0.0005\n"
     ]
    }
   ],
   "source": [
    "%matplotlib inline\n",
    "%run ../../import_envs.py\n",
    "# %run ../apg_hyperparams_v3.py\n",
    "%run ../apg_hyperparams.py\n",
    "CUDA = torch.cuda.is_available()\n",
    "DEVICE = torch.device('cuda:1')"
   ]
  },
  {
   "cell_type": "code",
   "execution_count": 2,
   "metadata": {},
   "outputs": [],
   "source": [
    "# load test data\n",
    "# test_sets = ['pts_120', 'pts_160', 'pts_200', 'pts_400', 'pts_600']\n",
    "test_sets = ['pts_600']\n",
    "\n",
    "DATAs = []\n",
    "for s in test_sets:\n",
    "    data = torch.from_numpy(np.load(DATA_DIR + 'dgmm/test/' + s + '/' + 'ob.npy')).float() ## load testing datasets\n",
    "    DATAs.append(data)\n",
    "## load the weights\n",
    "from apg_modeling import init_model\n",
    "\n",
    "model = init_model(model_params=model_params, \n",
    "                    CUDA=CUDA, \n",
    "                    DEVICE=DEVICE, \n",
    "                    LOAD_VERSION=LOAD_VERSION,\n",
    "                    LR=None)\n"
   ]
  },
  {
   "cell_type": "code",
   "execution_count": 3,
   "metadata": {},
   "outputs": [],
   "source": [
    "SAMPLE_SIZE_TEST = 1\n",
    "from resample import Resampler\n",
    "resampler = Resampler(strategy=RESAMPLING_STRATEGY,\n",
    "                      sample_size=SAMPLE_SIZE_TEST,\n",
    "                      CUDA=CUDA, \n",
    "                      DEVICE=DEVICE)\n",
    "\n",
    "\n",
    "## visualize samples\n",
    "%run ../apg_testing.py\n",
    "from viz import viz_samples\n",
    "\n",
    "APG_SWEEPS_TEST = 12\n",
    "DATA_PTR = 107\n",
    "\n",
    "\n",
    "SAVE_NAME = 'samples-%d' % DATA_PTR\n",
    "\n",
    "datas = sample_data_uniform(DATAs=DATAs, \n",
    "                            data_ptr=DATA_PTR)\n",
    "\n",
    "# metrics = test_single(model=model, \n",
    "#                       resampler=resampler,\n",
    "#                       apg_sweeps=APG_SWEEPS_TEST, \n",
    "#                       datas=datas, \n",
    "#                       K=K,\n",
    "#                       sample_size=SAMPLE_SIZE_TEST,\n",
    "#                       CUDA=CUDA, \n",
    "#                       DEVICE=DEVICE)\n",
    "\n",
    "\n",
    "# viz_samples(datas=datas,\n",
    "#             metrics=metrics,\n",
    "#             apg_sweeps=APG_SWEEPS_TEST,\n",
    "#             K=K, \n",
    "#             viz_interval=3, \n",
    "#             figure_size=30, \n",
    "#             title_fontsize=20, \n",
    "#             mu_marker_size=100,\n",
    "#             marker_size=1.0, \n",
    "#             opacity=1.0, \n",
    "#             bound=10, \n",
    "#             colors=['#0077BB', '#AA3377', '#EE7733', '#009988', '#BBBBBB', '#EE3377', '#DDCC77'],\n",
    "#             save_name=None)"
   ]
  },
  {
   "cell_type": "code",
   "execution_count": 5,
   "metadata": {},
   "outputs": [],
   "source": [
    "apg_sweeps = [1, 2, 5, 10 , 20 , 50, 100, 200]\n",
    "sample_sizes = [1000, 500, 200, 100, 50, 20, 10, 5]\n",
    "\n",
    "# apg_sweeps = [1, 2, 5, 10 , 20]\n",
    "# sample_sizes = [100, 50, 20, 10, 5]\n",
    "datas = sample_data_uniform(DATAs=DATAs, \n",
    "                            data_ptr=DATA_PTR)\n",
    "ob = datas[0]\n",
    "ESS = []\n",
    "DENSITY = []\n",
    "ess, density = test_budget_grid(model=model,\n",
    "                                apg_sweeps=apg_sweeps,\n",
    "                                sample_sizes=sample_sizes,\n",
    "                                data=ob.unsqueeze(0),\n",
    "                                K=K,\n",
    "                                CUDA=CUDA,\n",
    "                                DEVICE=DEVICE)\n",
    "\n",
    "ess = torch.Tensor(ess).cpu()\n",
    "density = torch.Tensor(density).cpu()\n",
    "DENSITY.append(density)\n",
    "ESS.append(ess)\n"
   ]
  },
  {
   "cell_type": "code",
   "execution_count": 6,
   "metadata": {},
   "outputs": [],
   "source": [
    "ess = ESS[0]\n",
    "ss = torch.Tensor(sample_sizes)"
   ]
  },
  {
   "cell_type": "code",
   "execution_count": 11,
   "metadata": {},
   "outputs": [
    {
     "data": {
      "text/plain": [
       "[<matplotlib.lines.Line2D at 0x7fe1dc107ba8>]"
      ]
     },
     "execution_count": 11,
     "metadata": {},
     "output_type": "execute_result"
    },
    {
     "data": {
      "image/png": "[encoded data removed]",
      "text/plain": [
       "<Figure size 432x288 with 1 Axes>"
      ]
     },
     "metadata": {
      "needs_background": "light"
     },
     "output_type": "display_data"
    }
   ],
   "source": [
    "plt.plot(DENSITY[0])"
   ]
  },
  {
   "cell_type": "code",
   "execution_count": 10,
   "metadata": {},
   "outputs": [
    {
     "ename": "AttributeError",
     "evalue": "'list' object has no attribute 'mean'",
     "output_type": "error",
     "traceback": [
      "\u001b[0;31m---------------------------------------------------------------------------\u001b[0m",
      "\u001b[0;31mAttributeError\u001b[0m                            Traceback (most recent call last)",
      "\u001b[0;32m<ipython-input-10-8316f0c0e3a9>\u001b[0m in \u001b[0;36m<module>\u001b[0;34m\u001b[0m\n\u001b[1;32m      2\u001b[0m \u001b[0mfig\u001b[0m \u001b[0;34m=\u001b[0m \u001b[0mplt\u001b[0m\u001b[0;34m.\u001b[0m\u001b[0mfigure\u001b[0m\u001b[0;34m(\u001b[0m\u001b[0mfigsize\u001b[0m\u001b[0;34m=\u001b[0m\u001b[0;34m(\u001b[0m\u001b[0;36m12\u001b[0m\u001b[0;34m,\u001b[0m \u001b[0;36m12\u001b[0m\u001b[0;34m)\u001b[0m\u001b[0;34m)\u001b[0m\u001b[0;34m\u001b[0m\u001b[0;34m\u001b[0m\u001b[0m\n\u001b[1;32m      3\u001b[0m \u001b[0max\u001b[0m \u001b[0;34m=\u001b[0m \u001b[0mfig\u001b[0m\u001b[0;34m.\u001b[0m\u001b[0madd_subplot\u001b[0m\u001b[0;34m(\u001b[0m\u001b[0;36m111\u001b[0m\u001b[0;34m)\u001b[0m\u001b[0;34m\u001b[0m\u001b[0;34m\u001b[0m\u001b[0m\n\u001b[0;32m----> 4\u001b[0;31m \u001b[0max\u001b[0m\u001b[0;34m.\u001b[0m\u001b[0mimshow\u001b[0m\u001b[0;34m(\u001b[0m\u001b[0mfinal\u001b[0m\u001b[0;34m.\u001b[0m\u001b[0mmean\u001b[0m\u001b[0;34m(\u001b[0m\u001b[0;36m0\u001b[0m\u001b[0;34m)\u001b[0m\u001b[0;34m,\u001b[0m \u001b[0mcmap\u001b[0m\u001b[0;34m=\u001b[0m\u001b[0;34m'inferno'\u001b[0m\u001b[0;34m,\u001b[0m \u001b[0mvmin\u001b[0m\u001b[0;34m=\u001b[0m\u001b[0;34m-\u001b[0m\u001b[0;36m2100\u001b[0m\u001b[0;34m,\u001b[0m \u001b[0mvmax\u001b[0m\u001b[0;34m=\u001b[0m\u001b[0;34m-\u001b[0m\u001b[0;36m1370\u001b[0m\u001b[0;34m)\u001b[0m\u001b[0;34m\u001b[0m\u001b[0;34m\u001b[0m\u001b[0m\n\u001b[0m\u001b[1;32m      5\u001b[0m \u001b[0;34m\u001b[0m\u001b[0m\n\u001b[1;32m      6\u001b[0m \u001b[0;34m\u001b[0m\u001b[0m\n",
      "\u001b[0;31mAttributeError\u001b[0m: 'list' object has no attribute 'mean'"
     ]
    },
    {
     "data": {
      "image/png": "[encoded data removed]",
      "text/plain": [
       "<Figure size 864x864 with 1 Axes>"
      ]
     },
     "metadata": {
      "needs_background": "light"
     },
     "output_type": "display_data"
    }
   ],
   "source": [
    "import matplotlib.pyplot as plt\n",
    "fig = plt.figure(figsize=(12, 12))\n",
    "ax = fig.add_subplot(111)\n",
    "ax.imshow(final.mean(0), cmap='inferno', vmin=-2100, vmax=-1370)\n",
    "\n",
    "\n",
    "\n",
    "apg_sweeps_ticks = ['K=1', 'K=2', 'K=5', 'K=10', 'K=20' , \"K=50\", 'K=100', 'K=200']\n",
    "sample_sizes_ticks = ['L=1000', 'L=500', 'L=200', 'L=100', 'L=50', 'L=20', 'L=10', 'L=5']\n",
    "\n",
    "# We want to show all ticks...\n",
    "ax.set_xticks(np.arange(len(apg_sweeps)))\n",
    "ax.set_yticks(np.arange(len(sample_sizes)))\n",
    "# ... and label them with the respective list entries\n",
    "ax.set_xticklabels(apg_sweeps_ticks, fontsize=18)\n",
    "ax.set_yticklabels(sample_sizes_ticks, fontsize=18)\n",
    "\n",
    "# # Rotate the tick labels and set their alignment.\n",
    "# plt.setp(ax.get_xticklabels(), ha=\"right\",\n",
    "#          rotation_mode=\"anchor\")\n",
    "\n",
    "# Loop over data dimensions and create text annotations.\n",
    "for i in range(len(apg_sweeps)):\n",
    "    for j in range(len(apg_sweeps)):\n",
    "        text = ax.text(j, i, round(final.mean(0)[i, j], 4),\n",
    "                       ha=\"center\", va=\"center\", color='black', fontsize=20)\n",
    "# plt.savefig('heatmap_log_joint_dgmm.svg', dpi=300)"
   ]
  },
  {
   "cell_type": "code",
   "execution_count": null,
   "metadata": {},
   "outputs": [],
   "source": [
    "import numpy as np\n",
    "a = np.load('heatmap_ess_dgmm.npy')\n",
    "np.diagonal(a.mean(0))"
   ]
  },
  {
   "cell_type": "code",
   "execution_count": null,
   "metadata": {},
   "outputs": [],
   "source": [
    "\n",
    "pts = [200, 400, 600]\n",
    "fig = plt.figure(figsize=(12,8))\n",
    "ax = fig.add_subplot(111)\n",
    "\n",
    "ax.plot(baseline, 'k:', label='baseline', lw=5)\n",
    "for i in range(ESSs_cpu.shape[1]):\n",
    "    ess = ESSs_cpu[:, i]\n",
    "    plt.plot(ess, 'o-', label='N=%d' % pts[i])\n",
    "    ax.legend()\n",
    "#     ax.set_yscale('log')\n",
    "#     ax.set_ylim([1e-3, 1.0])"
   ]
  },
  {
   "cell_type": "code",
   "execution_count": null,
   "metadata": {},
   "outputs": [],
   "source": [
    "fig = plt.figure(figsize=(12,8))\n",
    "ax = fig.add_subplot(111)\n",
    "for i in range(DENSITIES_cpu.shape[1]):\n",
    "    density = DENSITIES_cpu[:, i]\n",
    "    plt.plot(density, 'o-', label='N=%d' % pts[i])\n",
    "    ax.legend()\n",
    "#     ax.set_ylim([-1000, -200])"
   ]
  },
  {
   "cell_type": "code",
   "execution_count": null,
   "metadata": {},
   "outputs": [],
   "source": []
  }
 ],
 "metadata": {
  "kernelspec": {
   "display_name": "Python 3",
   "language": "python",
   "name": "python3"
  },
  "language_info": {
   "codemirror_mode": {
    "name": "ipython",
    "version": 3
   },
   "file_extension": ".py",
   "mimetype": "text/x-python",
   "name": "python",
   "nbconvert_exporter": "python",
   "pygments_lexer": "ipython3",
   "version": "3.7.3"
  }
 },
 "nbformat": 4,
 "nbformat_minor": 4
}
