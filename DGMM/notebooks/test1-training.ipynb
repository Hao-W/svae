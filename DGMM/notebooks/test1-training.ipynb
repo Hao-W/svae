{
 "cells": [
  {
   "cell_type": "code",
   "execution_count": 1,
   "metadata": {},
   "outputs": [
    {
     "name": "stdout",
     "output_type": "stream",
     "text": [
      "probtorch: 0.0+5a2c637 torch: 1.3.0\n",
      "inference method:test1, apg sweeps:10, epochs:300, sample size:10, batch size:20, learning rate:0.0005\n"
     ]
    }
   ],
   "source": [
    "%run ../../import_envs.py\n",
    "%run ../test1_hyperparams.py\n",
    "\n",
    "CUDA = torch.cuda.is_available()\n",
    "DEVICE = torch.device('cuda:0')"
   ]
  },
  {
   "cell_type": "code",
   "execution_count": 2,
   "metadata": {},
   "outputs": [],
   "source": [
    "DATA = torch.from_numpy(np.load(DATA_DIR + 'dgmm/train/' + 'ob.npy')).float() ## load training datasets"
   ]
  },
  {
   "cell_type": "code",
   "execution_count": 3,
   "metadata": {},
   "outputs": [],
   "source": [
    "from apg_modeling import init_model\n",
    "model, optimizer = init_model(model_params=model_params, \n",
    "                              CUDA=CUDA, \n",
    "                              DEVICE=DEVICE, \n",
    "                              LOAD_VERSION=None, ## set to None if do not restore\n",
    "                              LR=LR)"
   ]
  },
  {
   "cell_type": "code",
   "execution_count": null,
   "metadata": {},
   "outputs": [
    {
     "name": "stdout",
     "output_type": "stream",
     "text": [
      "Epoch=0 completed  in (98s),  \n"
     ]
    }
   ],
   "source": [
    "%run ../test1_training.py\n",
    "\n",
    "train(optimizer=optimizer, \n",
    "      model=model, \n",
    "      apg_sweeps=APG_SWEEPS, \n",
    "      data=DATA, \n",
    "      K=K,\n",
    "      num_epochs=NUM_EPOCHS, \n",
    "      sample_size=SAMPLE_SIZE, \n",
    "      batch_size=BATCH_SIZE, \n",
    "      CUDA=CUDA, \n",
    "      DEVICE=DEVICE, \n",
    "      MODEL_VERSION=MODEL_VERSION)"
   ]
  },
  {
   "cell_type": "code",
   "execution_count": null,
   "metadata": {},
   "outputs": [],
   "source": []
  }
 ],
 "metadata": {
  "kernelspec": {
   "display_name": "Python 3",
   "language": "python",
   "name": "python3"
  },
  "language_info": {
   "codemirror_mode": {
    "name": "ipython",
    "version": 3
   },
   "file_extension": ".py",
   "mimetype": "text/x-python",
   "name": "python",
   "nbconvert_exporter": "python",
   "pygments_lexer": "ipython3",
   "version": "3.7.3"
  }
 },
 "nbformat": 4,
 "nbformat_minor": 4
}
