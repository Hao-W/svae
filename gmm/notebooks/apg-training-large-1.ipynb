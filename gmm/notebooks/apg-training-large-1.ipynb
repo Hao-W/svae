{
 "cells": [
  {
   "cell_type": "code",
   "execution_count": 1,
   "metadata": {},
   "outputs": [
    {
     "name": "stdout",
     "output_type": "stream",
     "text": [
      "probtorch: 0.0+5a2c637 torch: 1.3.0\n"
     ]
    }
   ],
   "source": [
    "%run ../../import_envs.py\n",
    "%run ../apg_hyperparams.py\n",
    "\n",
    "CUDA = torch.cuda.is_available()\n",
    "DEVICE = torch.device('cuda:1')"
   ]
  },
  {
   "cell_type": "code",
   "execution_count": 2,
   "metadata": {},
   "outputs": [],
   "source": [
    "DATA = torch.from_numpy(np.load(DATA_DIR + 'gmm/train/' + 'ob.npy')).float() ## load training datasets\n",
    "ASSIGNMENT = torch.from_numpy(np.load(DATA_DIR + 'gmm/train/' + 'assignment.npy')).float()"
   ]
  },
  {
   "cell_type": "code",
   "execution_count": null,
   "metadata": {},
   "outputs": [
    {
     "name": "stdout",
     "output_type": "stream",
     "text": [
      "apg sweeps:1, epochs:100, sample size:50\n",
      "Epoch=0 completed  in (201s),  \n",
      "Epoch=1 completed  in (198s),  \n",
      "Epoch=2 completed  in (200s),  \n",
      "Epoch=3 completed  in (199s),  \n",
      "Epoch=4 completed  in (198s),  \n",
      "Epoch=5 completed  in (200s),  \n",
      "Epoch=6 completed  in (197s),  \n",
      "Epoch=7 completed  in (199s),  \n",
      "Epoch=8 completed  in (198s),  \n",
      "Epoch=9 completed  in (209s),  \n",
      "Epoch=10 completed  in (199s),  \n",
      "Epoch=11 completed  in (198s),  \n",
      "Epoch=12 completed  in (199s),  \n",
      "Epoch=13 completed  in (199s),  \n",
      "Epoch=14 completed  in (200s),  \n",
      "Epoch=15 completed  in (199s),  \n",
      "Epoch=16 completed  in (199s),  \n",
      "Epoch=17 completed  in (202s),  \n",
      "Epoch=18 completed  in (200s),  \n",
      "Epoch=19 completed  in (199s),  \n",
      "Epoch=20 completed  in (200s),  \n",
      "Epoch=21 completed  in (200s),  \n",
      "Epoch=22 completed  in (257s),  \n",
      "Epoch=23 completed  in (200s),  \n",
      "Epoch=24 completed  in (395s),  \n",
      "Epoch=25 completed  in (556s),  \n",
      "Epoch=26 completed  in (351s),  \n",
      "Epoch=27 completed  in (240s),  \n"
     ]
    }
   ],
   "source": [
    "from apg_modeling import init_model\n",
    "from resample import Resampler\n",
    "\n",
    "%run ../apg_training.py\n",
    "\n",
    "budget = 100\n",
    "sweeps = [2]\n",
    "epochs = [100]\n",
    "\n",
    "\n",
    "sample_size = int(budget / sweeps[0])\n",
    "\n",
    "MODEL_VERSION = 'apg-large-%s-%dsweeps-%dsamples' % (RESAMPLING_STRATEGY, sweeps[0]-1, sample_size)\n",
    "\n",
    "model, optimizer = init_model(model_params=model_params, \n",
    "                              CUDA=CUDA, \n",
    "                              DEVICE=DEVICE, \n",
    "                              LOAD_VERSION=None, ## set to None if do not restore\n",
    "                              LR=LR)\n",
    "\n",
    "resampler = Resampler(strategy=RESAMPLING_STRATEGY,\n",
    "                      sample_size=sample_size,\n",
    "                      CUDA=CUDA, \n",
    "                      DEVICE=DEVICE)\n",
    "\n",
    "print('apg sweeps:%s, epochs:%s, sample size:%s' % (sweeps[0]-1, epochs[0], sample_size))\n",
    "train(optimizer=optimizer, \n",
    "      model=model, \n",
    "      resampler=resampler,\n",
    "      apg_sweeps=sweeps[0] - 1, \n",
    "      data=DATA, \n",
    "      true_z=ASSIGNMENT,\n",
    "      num_epochs=epochs[0], \n",
    "      sample_size=sample_size, \n",
    "      batch_size=BATCH_SIZE, \n",
    "      CUDA=CUDA, \n",
    "      DEVICE=DEVICE, \n",
    "      MODEL_VERSION=MODEL_VERSION)"
   ]
  },
  {
   "cell_type": "code",
   "execution_count": null,
   "metadata": {},
   "outputs": [],
   "source": []
  }
 ],
 "metadata": {
  "kernelspec": {
   "display_name": "Python 3",
   "language": "python",
   "name": "python3"
  },
  "language_info": {
   "codemirror_mode": {
    "name": "ipython",
    "version": 3
   },
   "file_extension": ".py",
   "mimetype": "text/x-python",
   "name": "python",
   "nbconvert_exporter": "python",
   "pygments_lexer": "ipython3",
   "version": "3.7.3"
  }
 },
 "nbformat": 4,
 "nbformat_minor": 4
}
