{
 "cells": [
  {
   "cell_type": "code",
   "execution_count": 1,
   "metadata": {},
   "outputs": [
    {
     "name": "stdout",
     "output_type": "stream",
     "text": [
      "probtorch: 0.0+5a2c637 torch: 0.5.0a0+3bb8c5e cuda: True\n"
     ]
    }
   ],
   "source": [
    "%matplotlib inline\n",
    "import numpy as np\n",
    "import torch.nn as nn\n",
    "import torch.nn.functional as F\n",
    "import matplotlib.pyplot as plt\n",
    "from util_data_pixels import *\n",
    "from amorgibbs_v import *\n",
    "from smc_v import *\n",
    "from util_plots import *\n",
    "from torch.distributions.dirichlet import Dirichlet\n",
    "import sys\n",
    "sys.path.append('/home/hao/Research/probtorch/')\n",
    "from probtorch.util import expand_inputs\n",
    "import probtorch\n",
    "print('probtorch:', probtorch.__version__, \n",
    "      'torch:', torch.__version__, \n",
    "      'cuda:', torch.cuda.is_available())"
   ]
  },
  {
   "cell_type": "code",
   "execution_count": 6,
   "metadata": {},
   "outputs": [],
   "source": [
    "## Dataset parameters\n",
    "T = 30\n",
    "K = 4\n",
    "D = 2\n",
    "dt = 6\n",
    "Boundary = 32\n",
    "radius =0.5\n",
    "noise_ratio = 0.5\n",
    "num_seq = 200\n",
    "## image paramters\n",
    "pixels = 64\n",
    "dpi = 200\n",
    "radius = 3\n",
    "\n",
    "## Model Parameters\n",
    "num_particles_rws = 30\n",
    "mcmc_steps = 3\n",
    "num_particles_smc = 30\n",
    "NUM_HIDDEN = 256\n",
    "NUM_LATENTS = K*K\n",
    "NUM_OBS = 2 * K\n",
    "## VAE\n",
    "num_particles_rws_outer = 5\n",
    "NUM_PIXELS = 64*64\n",
    "NUM_LATENT = 2 \n",
    "NUM_SAMPLES = 1\n",
    "EPS = 1e-9\n",
    "ALPHA = 0.1\n",
    "BETA = (2.0, 2.0, 1.0, 0.0, 1.0) \n",
    "BATCH_SIZE = T+1\n",
    "\n",
    "NUM_EPOCHS = 1000\n",
    "LEARNING_RATE = 1e-3\n",
    "CUDA = False\n",
    "RESTORE = False\n",
    "PATH_Amor_ENC = \"experiment/pixels_enc-%drwsvae-%drws-%dmcmc-%dsmc-enc\" % (num_particles_rws_outer, num_particles_rws, mcmc_steps, num_particles_smc)\n",
    "PATH_ENC = \"highvarprior-pretrained-vae-enc\"\n",
    "PATH_DEC = \"highvarprior-pretrained-vae-dec\""
   ]
  },
  {
   "cell_type": "code",
   "execution_count": 7,
   "metadata": {},
   "outputs": [],
   "source": [
    "## return samples in order to compute the weights and \n",
    "class Amor_Encoder(nn.Module):\n",
    "    def __init__(self, num_obs=NUM_OBS,\n",
    "                       num_hidden=NUM_HIDDEN,\n",
    "                       num_latents=NUM_LATENTS):\n",
    "        super(self.__class__, self).__init__()\n",
    "        self.enc_hidden = nn.Sequential(\n",
    "            nn.Linear(num_obs, num_hidden),\n",
    "            nn.ReLU(),\n",
    "            nn.Linear(num_hidden, num_hidden),\n",
    "            nn.ReLU())\n",
    "        self.latent_dir = nn.Sequential(\n",
    "            nn.Linear(num_hidden, num_latents))\n",
    "        \n",
    "    def forward(self, obs):\n",
    "        A_samples = torch.zeros((K, K))\n",
    "        hidden = self.enc_hidden(obs)\n",
    "        latents_dirs = torch.exp(self.latent_dir(hidden)).sum(0).view(K, K)\n",
    "        for k in range(K):\n",
    "            A_samples[k] = Dirichlet(latents_dirs[k]).sample()\n",
    "        return latents_dirs, A_samples\n",
    "## VAE\n",
    "class Encoder(nn.Module):\n",
    "    def __init__(self, num_pixels=NUM_PIXELS, \n",
    "                       num_hidden=NUM_HIDDEN,\n",
    "                       num_latent=NUM_LATENT):\n",
    "        super(self.__class__, self).__init__()\n",
    "\n",
    "        self.enc_hidden = nn.Sequential( \n",
    "                            nn.Linear(num_pixels, num_hidden),\n",
    "                            nn.ReLU(),\n",
    "                            nn.Linear(num_hidden, num_hidden),\n",
    "                            nn.ReLU())\n",
    "        \n",
    "        self.z_mean = nn.Linear(num_hidden, num_latent)\n",
    "        self.z_log_std = nn.Linear(num_hidden, num_latent)\n",
    "    @expand_inputs\n",
    "    def forward(self, images, labels=None, num_samples=NUM_SAMPLES):\n",
    "        q = probtorch.Trace()\n",
    "        hiddens = self.enc_hidden(images)\n",
    "        q.normal(self.z_mean(hiddens),\n",
    "                 self.z_log_std(hiddens).exp(),\n",
    "                 name='z')\n",
    "        return q\n",
    "    \n",
    "def binary_cross_entropy(x_mean, x, EPS=1e-9):\n",
    "    return - (torch.log(x_mean + EPS) * x + \n",
    "              torch.log(1 - x_mean + EPS) * (1 - x)).sum(-1)\n",
    "\n",
    "class Decoder(nn.Module):\n",
    "    def __init__(self, num_pixels=NUM_PIXELS, \n",
    "                       num_hidden=NUM_HIDDEN,\n",
    "                       num_latent=NUM_LATENT):\n",
    "        super(self.__class__, self).__init__()\n",
    "        \n",
    "        self.dec_image = nn.Sequential(\n",
    "                           nn.Linear(num_latent, num_hidden),\n",
    "                           nn.ReLU(),\n",
    "                           nn.Linear(num_hidden, num_pixels),\n",
    "                           nn.Sigmoid())\n",
    "\n",
    "    def forward(self, images, q=None, num_samples=NUM_SAMPLES, batch_size=BATCH_SIZE, num_latent=NUM_LATENT):\n",
    "        p = probtorch.Trace()\n",
    "        z_mean = torch.zeros(num_samples, batch_size, num_latent)\n",
    "        z_std = torch.ones(num_samples, batch_size, num_latent)*210\n",
    "        \n",
    "        if CUDA:\n",
    "            z_mean = z_mean.cuda()\n",
    "            z_std = z_std.cuda()\n",
    "        \n",
    "        z = p.normal(z_mean, \n",
    "                     z_std,\n",
    "                     value=q['z'],\n",
    "                     name='z')\n",
    "        \n",
    "        images_mean = self.dec_image(z)\n",
    "        p.loss(binary_cross_entropy, images_mean, images, name='images')\n",
    "        return p"
   ]
  },
  {
   "cell_type": "code",
   "execution_count": 8,
   "metadata": {},
   "outputs": [],
   "source": [
    "def initialize():\n",
    "    amor_enc = Amor_Encoder()\n",
    "    enc = Encoder()\n",
    "    dec = Decoder()\n",
    "    \n",
    "    enc.load_state_dict(torch.load(PATH_ENC))\n",
    "    dec.load_state_dict(torch.load(PATH_DEC))\n",
    "    optimizer =  torch.optim.Adam(list(enc.parameters())+list(amor_enc.parameters()),lr=LEARNING_RATE)    \n",
    "    return amor_enc, enc, dec, optimizer\n",
    "amor_enc, enc, dec, optimizer = initialize()"
   ]
  },
  {
   "cell_type": "code",
   "execution_count": 9,
   "metadata": {},
   "outputs": [
    {
     "data": {
      "image/png": "[encoded data removed]",
      "text/plain": [
       "<Figure size 288x288 with 1 Axes>"
      ]
     },
     "metadata": {},
     "output_type": "display_data"
    }
   ],
   "source": [
    "init_v = init_velocity(dt)\n",
    "alpha_trans_0 = initial_trans_prior(K)\n",
    "noise_cov = np.array([[1, 0], [0, 1]]) * noise_ratio\n",
    "STATE, mu_ks, cov_ks, Pi, Y_true, A_true, Zs_true = generate_seq_T(T, K, dt, Boundary, init_v, noise_cov, radius)\n",
    "generate_frames(STATE, Boundary, pixels, dpi, radius, 0)    \n",
    "X_imgs = sample_pixels(T, pixels, 0).view(-1, NUM_PIXELS)\n",
    "q = enc(X_imgs,num_samples=NUM_SAMPLES)\n",
    "p = dec(X_imgs, q, num_samples=NUM_SAMPLES, batch_size=BATCH_SIZE)\n",
    "z_means = q['z'].dist.mean.detach().squeeze(0).data.numpy()\n",
    "\n",
    "coor = q['z'].value.squeeze(0)\n",
    "Y = coor[1:] - coor[:-1]\n",
    "cov_true = np.tile(noise_cov, (K, 1, 1))\n",
    "dirs = np.array([[1, 1], [1, -1], [-1, -1], [-1, 1]])\n",
    "mu_true = np.tile(np.absolute(init_v), (K, 1)) * dirs\n",
    "plot_clusters(Y_true.data.numpy(), mu_true, cov_true, K)"
   ]
  },
  {
   "cell_type": "code",
   "execution_count": 10,
   "metadata": {},
   "outputs": [
    {
     "data": {
      "image/png": "[encoded data removed]",
      "text/plain": [
       "<Figure size 288x288 with 1 Axes>"
      ]
     },
     "metadata": {},
     "output_type": "display_data"
    }
   ],
   "source": [
    "plot_clusters(Y.detach().data.numpy(), mu_true, cov_true, K)"
   ]
  },
  {
   "cell_type": "code",
   "execution_count": null,
   "metadata": {},
   "outputs": [],
   "source": [
    "KLs = []\n",
    "EUBOs = []\n",
    "LOG_Qs = []\n",
    "ESSs = []\n",
    "\n",
    "for epoch in range(NUM_EPOCHS):\n",
    "    time_start = time.time()\n",
    "    optimizer.zero_grad()\n",
    "    #     T = np.random.randint(T_min, T_max)\n",
    "    init_v = init_velocity(dt)\n",
    "    alpha_trans_0 = initial_trans_prior(necessarily the case. We just need to\n",
    "understand that observe and sample expressions affK)\n",
    "    noise_cov = np.array([[1, 0], [0, 1]]) * noise_ratio\n",
    "    STATE, mu_ks, cov_ks, Pi, Y, A_true, Zs_true = generate_seq_T(T, K, dt, Boundary, init_v, noise_cov, radius)\n",
    "    generate_frames(STATE, Boundary, pixels, dpi, radius, epoch)    \n",
    "    X_imgs = sample_pixels(T, pixels, epoch).view(-1, NUM_PIXELS)\n",
    "    log_weights = torch.zeros((num_particles_rws_outer, num_particles_rws))\n",
    "    loss_infer = torch.zeros((num_particles_rws_outer, num_particles_rws))\n",
    "    klss = torch.zeros((num_particles_rws_outer, num_particles_rws))\n",
    "    eubos = torch.zeros((num_particles_rws_outer, num_particles_rws))\n",
    "    for r in range(num_particles_rws_outer):\n",
    "        q = enc(X_imgs,num_samples=NUM_SAMPLES)\n",
    "        p = dec(X_imgs, q, num_samples=NUM_SAMPLES, batch_size=BATCH_SIZE)\n",
    "        coor = q['z'].value.squeeze(0)\n",
    "        Y = coor[1:] - coor[:-1]\n",
    "        cov_true = np.tile(noise_cov, (K, 1, 1))\n",
    "        dirs = np.array([[1, 1], [1, -1], [-1, -1], [-1, 1]])\n",
    "        mu_true = np.tile(np.absolute(init_v), (K, 1)) * dirs\n",
    "        plot_clusters(Y.detach().data.numpy(), mu_true, cov_true, K)\n",
    "        \n",
    "        amor_enc, log_weight_rwss, log_p_smcss, log_qs, log_p_joints, kls = rws_pixels(amor_enc, alpha_trans_0, Pi, mu_ks, cov_ks, Y, T, D, K, num_particles_rws, num_particles_smc, mcmc_steps)\n",
    "    #     p.log_joint() - q.log_joint() # + incremental weight - log_smc_joint - log_q_amorNN\n",
    "        log_weights[r] = (p['images'].log_prob.sum() - q['z'].log_prob.sum() + log_weight_rwss - log_p_smcss - log_qs).detach()\n",
    "        eubos[r] = (p['images'].log_prob.sum() - q['z'].log_prob.sum() + log_weight_rwss + log_p_joints - log_p_smcss - log_qs).detach()\n",
    "        loss_infer[r] = - log_qs - q['z'].log_prob.sum()\n",
    "        klss[r] = kls\n",
    "        \n",
    "    log_weights = log_weights.view(1, num_particles_rws_outer * num_particles_rws)\n",
    "    loss_infer = loss_infer.view(1, num_particles_rws_outer * num_particles_rws)\n",
    "    eubos = eubos.view(1, num_particles_rws_outer * num_particles_rws)\n",
    "    weights = torch.exp(log_weights - logsumexp(log_weights, dim=0))\n",
    "    ess = (1. / (weights ** 2 ).sum()).item()\n",
    "    klss = klss.view(1, num_particles_rws_outer * num_particles_rws)\n",
    "    Loss = torch.mul(weights, loss_infer).sum()\n",
    "    KL = torch.mul(weights, klss).sum().item()\n",
    "    eubo = torch.mul(weights, eubos).sum().item()\n",
    "\n",
    "    Loss.backward()\n",
    "    KLs.append(KL)\n",
    "    EUBOs.append(eubo)\n",
    "    ESSs.append(ess)\n",
    "    LOG_Qs.append(-Loss.item())\n",
    "    optimizer.step()\n",
    "    time_end = time.time()\n",
    "    print('epoch : %d, eubo : %f, log_q : %f, KL : %f (%ds)' % (epoch, eubo, -Loss.item(), KL, time_end - time_start))"
   ]
  },
  {
   "cell_type": "code",
   "execution_count": null,
   "metadata": {},
   "outputs": [],
   "source": [
    "plot_dirs(enc, alpha_trans_0, Z_ret, Zs_true, T, K, num_particles_rws, vmax=15)"
   ]
  },
  {
   "cell_type": "code",
   "execution_count": null,
   "metadata": {},
   "outputs": [],
   "source": [
    "plot_results(EUBOs, log_qs, KLs, ESSs, num_particles_rws)"
   ]
  },
  {
   "cell_type": "code",
   "execution_count": null,
   "metadata": {},
   "outputs": [],
   "source": [
    "if RESTORE:\n",
    "    enc.load_state_dict(torch.load(PATH_ENC))\n",
    "else:\n",
    "    torch.save(enc.state_dict(), PATH_ENC)"
   ]
  },
  {
   "cell_type": "code",
   "execution_count": null,
   "metadata": {},
   "outputs": [],
   "source": [
    "mu_true"
   ]
  },
  {
   "cell_type": "code",
   "execution_count": null,
   "metadata": {},
   "outputs": [],
   "source": [
    "cov_true"
   ]
  },
  {
   "cell_type": "code",
   "execution_count": null,
   "metadata": {},
   "outputs": [],
   "source": []
  }
 ],
 "metadata": {
  "kernelspec": {
   "display_name": "Python 3",
   "language": "python",
   "name": "python3"
  },
  "language_info": {
   "codemirror_mode": {
    "name": "ipython",
    "version": 3
   },
   "file_extension": ".py",
   "mimetype": "text/x-python",
   "name": "python",
   "nbconvert_exporter": "python",
   "pygments_lexer": "ipython3",
   "version": "3.6.6"
  }
 },
 "nbformat": 4,
 "nbformat_minor": 2
}
