{
 "cells": [
  {
   "cell_type": "code",
   "execution_count": null,
   "metadata": {},
   "outputs": [
    {
     "name": "stdout",
     "output_type": "stream",
     "text": [
      "probtorch: 0.0+5a2c637 torch: 0.5.0a0+3bb8c5e cuda: True\n"
     ]
    }
   ],
   "source": [
    "%matplotlib inline\n",
    "import numpy as np\n",
    "import torch.nn as nn\n",
    "import torch.nn.functional as F\n",
    "import matplotlib.pyplot as plt\n",
    "from util_data import *\n",
    "from baseline_smc import *\n",
    "from util_plots import *\n",
    "from torch.distributions.dirichlet import Dirichlet\n",
    "import sys\n",
    "import datetime\n",
    "import time \n",
    "sys.path.append('/home/hao/Research/probtorch/')\n",
    "import probtorch\n",
    "print('probtorch:', probtorch.__version__, \n",
    "      'torch:', torch.__version__, \n",
    "      'cuda:', torch.cuda.is_available())"
   ]
  },
  {
   "cell_type": "code",
   "execution_count": 2,
   "metadata": {},
   "outputs": [],
   "source": [
    "## Dataset parameters\n",
    "num_series = 1\n",
    "## range of length of tracjectories, need to be positive integers\n",
    "T_min = 30\n",
    "T_max = 50\n",
    "K = 4\n",
    "D = 2\n",
    "dt = 10\n",
    "Boundary = 30\n",
    "noise_ratio = 10\n",
    "\n",
    "## Model Parameters\n",
    "num_particles = 50\n",
    "num_particles_smc = 50\n",
    "NUM_HIDDEN = 128\n",
    "NUM_LATENTS = K*K\n",
    "NUM_OBS = 2 * D\n",
    "\n",
    "NUM_EPOCHS = 1000\n",
    "LEARNING_RATE = 1e-3\n",
    "CUDA = False\n",
    "RESTORE = False\n",
    "PATH_ENC = \"baseline_smc/hao/baseline_naive-%dIS-enc-%s\" % (num_particles, datetime.datetime.fromtimestamp(time.time()).strftime('%Y-%m-%d %H:%M:%S'))"
   ]
  },
  {
   "cell_type": "code",
   "execution_count": 8,
   "metadata": {},
   "outputs": [
    {
     "data": {
      "image/png": "[encoded data removed]",
      "text/plain": [
       "<Figure size 288x288 with 1 Axes>"
      ]
     },
     "metadata": {},
     "output_type": "display_data"
    },
    {
     "data": {
      "text/plain": [
       "array([[ 8.67727206,  4.97040738],\n",
       "       [ 8.67727206, -4.97040738],\n",
       "       [-8.67727206, -4.97040738],\n",
       "       [-8.67727206,  4.97040738]])"
      ]
     },
     "execution_count": 8,
     "metadata": {},
     "output_type": "execute_result"
    }
   ],
   "source": [
    "T_sample = 50\n",
    "noise_cov = np.array([[1, 0], [0, 1]]) * noise_ratio       \n",
    "init_v = np.random.random(2) * np.random.choice([-1,1], size=2)\n",
    "v_norm = ((init_v ** 2 ).sum()) ** 0.5 ## compute norm for each initial velocity\n",
    "init_v = init_v / v_norm * dt ## to make the velocity lying on a circle\n",
    "STATE, Disp, A_true, Zs_true = generate_seq(T_sample, dt, Boundary, init_v, noise_cov)\n",
    "## true global variables\n",
    "cov_true = np.tile(noise_cov, (K, 1, 1))\n",
    "dirs = np.array([[1, 1], [1, -1], [-1, -1], [-1, 1]])\n",
    "mu_true = np.tile(np.absolute(init_v), (K, 1)) * dirs\n",
    "plot_clusters(Disp, mu_true, cov_true, K)\n",
    "mu_true"
   ]
  },
  {
   "cell_type": "code",
   "execution_count": 4,
   "metadata": {},
   "outputs": [],
   "source": [
    "class Encoder(nn.Module):\n",
    "    def __init__(self, num_obs=NUM_OBS,\n",
    "                       num_hidden=NUM_HIDDEN,\n",
    "                       num_latents=NUM_LATENTS):\n",
    "        super(self.__class__, self).__init__()\n",
    "        self.enc_hidden = nn.Sequential(\n",
    "            nn.Linear(num_obs, num_hidden),\n",
    "            nn.ReLU())\n",
    "        self.latent_dir = nn.Sequential(\n",
    "            nn.Linear(num_hidden, num_latents))\n",
    "        \n",
    "    def forward(self, obs):\n",
    "        A_samples = torch.zeros((K, K))\n",
    "        hidden = self.enc_hidden(obs)\n",
    "        latents_dirs = torch.exp(self.latent_dir(hidden)).sum(0).view(K, K)\n",
    "        for k in range(K):\n",
    "            A_samples[k] = Dirichlet(latents_dirs[k]).sample()\n",
    "        return latents_dirs, A_samples"
   ]
  },
  {
   "cell_type": "code",
   "execution_count": 5,
   "metadata": {},
   "outputs": [],
   "source": [
    "def initialize():\n",
    "    enc = Encoder()\n",
    "    if CUDA:\n",
    "        enc.cuda()\n",
    "    optimizer =  torch.optim.Adam(list(enc.parameters()),lr=LEARNING_RATE)    \n",
    "    return enc, optimizer\n",
    "enc, optimizer = initialize()"
   ]
  },
  {
   "cell_type": "code",
   "execution_count": 6,
   "metadata": {},
   "outputs": [
    {
     "name": "stdout",
     "output_type": "stream",
     "text": [
      "epoch : 0, eubo : -275.174591, KL : 476.518311, ELBO : -14337.915039 (4s)\n",
      "epoch : 1, eubo : -297.006500, KL : 460.664032, ELBO : -15227.607422 (4s)\n",
      "epoch : 2, eubo : -294.369415, KL : 528.331787, ELBO : -15033.324219 (4s)\n",
      "epoch : 3, eubo : -230.181702, KL : 367.001648, ELBO : -11986.369141 (3s)\n",
      "epoch : 4, eubo : -257.471985, KL : 409.058838, ELBO : -13095.407227 (4s)\n",
      "epoch : 5, eubo : -299.130737, KL : 541.824646, ELBO : -15179.857422 (5s)\n",
      "epoch : 6, eubo : -231.285736, KL : 270.771210, ELBO : -11967.578125 (3s)\n",
      "epoch : 7, eubo : -273.804291, KL : 356.193939, ELBO : -14211.345703 (4s)\n",
      "epoch : 8, eubo : -279.428436, KL : 358.145538, ELBO : -14324.330078 (4s)\n",
      "epoch : 9, eubo : -308.106628, KL : 298.555054, ELBO : -15650.494141 (5s)\n",
      "epoch : 10, eubo : -255.660553, KL : 458.486603, ELBO : -12942.032227 (4s)\n",
      "epoch : 11, eubo : -275.933624, KL : 225.034180, ELBO : -14117.860352 (4s)\n",
      "epoch : 12, eubo : -229.303955, KL : 220.308441, ELBO : -11663.898438 (3s)\n",
      "epoch : 13, eubo : -270.055756, KL : 335.166595, ELBO : -14021.390625 (4s)\n",
      "epoch : 14, eubo : -231.926651, KL : 164.928970, ELBO : -11848.787109 (3s)\n",
      "epoch : 15, eubo : -303.201355, KL : 282.502045, ELBO : -15552.188477 (4s)\n",
      "epoch : 16, eubo : -192.199539, KL : 146.290939, ELBO : -9994.074219 (3s)\n",
      "epoch : 17, eubo : -246.451050, KL : 150.933502, ELBO : -12510.943359 (4s)\n",
      "epoch : 18, eubo : -211.285889, KL : 203.868759, ELBO : -10721.274414 (3s)\n",
      "epoch : 19, eubo : -298.030670, KL : 262.668335, ELBO : -15169.483398 (4s)\n",
      "epoch : 20, eubo : -305.061554, KL : 372.940216, ELBO : -15537.033203 (5s)\n",
      "epoch : 21, eubo : -291.999908, KL : 271.237579, ELBO : -14802.880859 (5s)\n",
      "epoch : 22, eubo : -317.845734, KL : 350.384796, ELBO : -16242.603516 (5s)\n",
      "epoch : 23, eubo : -215.674347, KL : 131.988281, ELBO : -11253.925781 (3s)\n",
      "epoch : 24, eubo : -296.574402, KL : 226.091232, ELBO : -15138.510742 (4s)\n",
      "epoch : 25, eubo : -270.515778, KL : 249.587631, ELBO : -13875.394531 (4s)\n",
      "epoch : 26, eubo : -261.935608, KL : 387.832733, ELBO : -13505.833008 (4s)\n",
      "epoch : 27, eubo : -209.672546, KL : 108.970459, ELBO : -11054.626953 (3s)\n",
      "epoch : 28, eubo : -318.508240, KL : 203.695282, ELBO : -16259.539062 (5s)\n",
      "epoch : 29, eubo : -296.862427, KL : 216.673523, ELBO : -15151.791992 (5s)\n",
      "epoch : 30, eubo : -254.734787, KL : 202.128342, ELBO : -13177.233398 (4s)\n",
      "epoch : 31, eubo : -233.667450, KL : 115.254097, ELBO : -11882.928711 (4s)\n",
      "epoch : 32, eubo : -277.419647, KL : 193.849365, ELBO : -14100.793945 (5s)\n",
      "epoch : 33, eubo : -276.315460, KL : 153.710312, ELBO : -14218.978516 (5s)\n",
      "epoch : 34, eubo : -254.782562, KL : 119.092201, ELBO : -12992.229492 (4s)\n",
      "epoch : 35, eubo : -307.013916, KL : 152.922836, ELBO : -15827.041016 (5s)\n",
      "epoch : 36, eubo : -276.587494, KL : 173.383118, ELBO : -14205.652344 (5s)\n",
      "epoch : 37, eubo : -265.765320, KL : 149.128799, ELBO : -13616.183594 (5s)\n",
      "epoch : 38, eubo : -295.618958, KL : 121.895226, ELBO : -15019.413086 (5s)\n",
      "epoch : 39, eubo : -276.024689, KL : 167.248596, ELBO : -14031.779297 (4s)\n",
      "epoch : 40, eubo : -257.732880, KL : 167.637360, ELBO : -13223.019531 (4s)\n",
      "epoch : 41, eubo : -257.428040, KL : 117.590714, ELBO : -13195.865234 (4s)\n",
      "epoch : 42, eubo : -293.919098, KL : 162.853928, ELBO : -15120.162109 (5s)\n",
      "epoch : 43, eubo : -200.749573, KL : 71.103745, ELBO : -10189.062500 (3s)\n",
      "epoch : 44, eubo : -198.095535, KL : 123.399330, ELBO : -10121.875000 (3s)\n",
      "epoch : 45, eubo : -233.895996, KL : 171.799011, ELBO : -12028.533203 (3s)\n",
      "epoch : 46, eubo : -234.667511, KL : 106.099579, ELBO : -12221.181641 (4s)\n",
      "epoch : 47, eubo : -240.349808, KL : 91.634087, ELBO : -12349.761719 (4s)\n",
      "epoch : 48, eubo : -207.293533, KL : 164.045868, ELBO : -10884.044922 (3s)\n",
      "epoch : 49, eubo : -189.285339, KL : 100.585518, ELBO : -9830.208984 (3s)\n",
      "epoch : 50, eubo : -266.206146, KL : 115.445312, ELBO : -13519.104492 (4s)\n",
      "epoch : 51, eubo : -185.417511, KL : 181.957504, ELBO : -9586.907227 (3s)\n",
      "epoch : 52, eubo : -257.786652, KL : 99.756432, ELBO : -13106.411133 (4s)\n",
      "epoch : 53, eubo : -236.578537, KL : 121.002472, ELBO : -11983.264648 (4s)\n",
      "epoch : 54, eubo : -319.373718, KL : 133.978531, ELBO : -16251.649414 (5s)\n",
      "epoch : 55, eubo : -219.068268, KL : 102.568352, ELBO : -11209.484375 (3s)\n",
      "epoch : 56, eubo : -214.448517, KL : 84.886116, ELBO : -11211.144531 (3s)\n",
      "epoch : 57, eubo : -230.749664, KL : 116.937576, ELBO : -11914.626953 (3s)\n",
      "epoch : 58, eubo : -225.664948, KL : 97.720734, ELBO : -11631.203125 (3s)\n",
      "epoch : 59, eubo : -242.853912, KL : 75.983078, ELBO : -12354.469727 (4s)\n",
      "epoch : 60, eubo : -279.617950, KL : 114.509651, ELBO : -14445.530273 (4s)\n",
      "epoch : 61, eubo : -235.905685, KL : 118.144676, ELBO : -12176.970703 (4s)\n",
      "epoch : 62, eubo : -305.183197, KL : 124.920540, ELBO : -15413.743164 (5s)\n",
      "epoch : 63, eubo : -232.930008, KL : 101.002907, ELBO : -11902.163086 (4s)\n",
      "epoch : 64, eubo : -201.448029, KL : 57.886909, ELBO : -10402.159180 (3s)\n",
      "epoch : 65, eubo : -272.004852, KL : 80.002655, ELBO : -14009.242188 (4s)\n",
      "epoch : 66, eubo : -253.517090, KL : 83.534950, ELBO : -13071.419922 (4s)\n",
      "epoch : 67, eubo : -308.584351, KL : 108.401176, ELBO : -15851.065430 (5s)\n",
      "epoch : 68, eubo : -192.169510, KL : 58.033955, ELBO : -9850.059570 (3s)\n",
      "epoch : 69, eubo : -262.277069, KL : 62.811733, ELBO : -13381.184570 (4s)\n",
      "epoch : 70, eubo : -276.693268, KL : 216.299911, ELBO : -14147.798828 (5s)\n"
     ]
    },
    {
     "ename": "KeyboardInterrupt",
     "evalue": "",
     "output_type": "error",
     "traceback": [
      "\u001b[0;31m---------------------------------------------------------------------------\u001b[0m",
      "\u001b[0;31mKeyboardInterrupt\u001b[0m                         Traceback (most recent call last)",
      "\u001b[0;32m<ipython-input-6-f2c337017734>\u001b[0m in \u001b[0;36m<module>\u001b[0;34m()\u001b[0m\n\u001b[1;32m     10\u001b[0m     \u001b[0mT\u001b[0m \u001b[0;34m=\u001b[0m \u001b[0mnp\u001b[0m\u001b[0;34m.\u001b[0m\u001b[0mrandom\u001b[0m\u001b[0;34m.\u001b[0m\u001b[0mrandint\u001b[0m\u001b[0;34m(\u001b[0m\u001b[0mT_min\u001b[0m\u001b[0;34m,\u001b[0m \u001b[0mT_max\u001b[0m\u001b[0;34m)\u001b[0m\u001b[0;34m\u001b[0m\u001b[0m\n\u001b[1;32m     11\u001b[0m     \u001b[0mmu_ks\u001b[0m\u001b[0;34m,\u001b[0m \u001b[0mcov_ks\u001b[0m\u001b[0;34m,\u001b[0m \u001b[0mPi\u001b[0m\u001b[0;34m,\u001b[0m \u001b[0mY\u001b[0m\u001b[0;34m,\u001b[0m \u001b[0mA_true\u001b[0m\u001b[0;34m,\u001b[0m \u001b[0mZ_true\u001b[0m \u001b[0;34m=\u001b[0m \u001b[0mgenerate_seq_T\u001b[0m\u001b[0;34m(\u001b[0m\u001b[0mT\u001b[0m\u001b[0;34m,\u001b[0m \u001b[0mK\u001b[0m\u001b[0;34m,\u001b[0m \u001b[0mdt\u001b[0m\u001b[0;34m,\u001b[0m \u001b[0mBoundary\u001b[0m\u001b[0;34m,\u001b[0m \u001b[0minit_v\u001b[0m\u001b[0;34m,\u001b[0m \u001b[0mnoise_cov\u001b[0m\u001b[0;34m)\u001b[0m\u001b[0;34m\u001b[0m\u001b[0m\n\u001b[0;32m---> 12\u001b[0;31m     \u001b[0menc\u001b[0m\u001b[0;34m,\u001b[0m \u001b[0meubo\u001b[0m\u001b[0;34m,\u001b[0m \u001b[0mkl\u001b[0m\u001b[0;34m,\u001b[0m \u001b[0mess\u001b[0m\u001b[0;34m,\u001b[0m \u001b[0mlatents_dirs\u001b[0m\u001b[0;34m,\u001b[0m \u001b[0melbo\u001b[0m \u001b[0;34m=\u001b[0m \u001b[0monesmc_sampling\u001b[0m\u001b[0;34m(\u001b[0m\u001b[0menc\u001b[0m\u001b[0;34m,\u001b[0m \u001b[0malpha_trans_0\u001b[0m\u001b[0;34m,\u001b[0m \u001b[0mPi\u001b[0m\u001b[0;34m,\u001b[0m \u001b[0mmu_ks\u001b[0m\u001b[0;34m,\u001b[0m \u001b[0mcov_ks\u001b[0m\u001b[0;34m,\u001b[0m \u001b[0mZ_true\u001b[0m\u001b[0;34m,\u001b[0m \u001b[0mY\u001b[0m\u001b[0;34m,\u001b[0m \u001b[0mT\u001b[0m\u001b[0;34m,\u001b[0m \u001b[0mD\u001b[0m\u001b[0;34m,\u001b[0m \u001b[0mK\u001b[0m\u001b[0;34m,\u001b[0m \u001b[0mnum_particles\u001b[0m\u001b[0;34m,\u001b[0m \u001b[0mnum_particles_smc\u001b[0m\u001b[0;34m)\u001b[0m\u001b[0;34m\u001b[0m\u001b[0m\n\u001b[0m\u001b[1;32m     13\u001b[0m     \u001b[0meubo\u001b[0m\u001b[0;34m.\u001b[0m\u001b[0mbackward\u001b[0m\u001b[0;34m(\u001b[0m\u001b[0;34m)\u001b[0m\u001b[0;34m\u001b[0m\u001b[0m\n\u001b[1;32m     14\u001b[0m     \u001b[0mKLs\u001b[0m\u001b[0;34m.\u001b[0m\u001b[0mappend\u001b[0m\u001b[0;34m(\u001b[0m\u001b[0mkl\u001b[0m\u001b[0;34m.\u001b[0m\u001b[0mitem\u001b[0m\u001b[0;34m(\u001b[0m\u001b[0;34m)\u001b[0m\u001b[0;34m)\u001b[0m\u001b[0;34m\u001b[0m\u001b[0m\n",
      "\u001b[0;32m~/Research/amortized/AmortizedGibbs/BNP/baseline_smc.py\u001b[0m in \u001b[0;36monesmc_sampling\u001b[0;34m(enc, alpha_trans_0, Pi, mu_ks, cov_ks, Z_true, Y, T, D, K, num_particles, num_particles_smc)\u001b[0m\n\u001b[1;32m     67\u001b[0m         \u001b[0mlatents_dirs\u001b[0m\u001b[0;34m,\u001b[0m \u001b[0mA_sample\u001b[0m \u001b[0;34m=\u001b[0m \u001b[0menc\u001b[0m\u001b[0;34m(\u001b[0m\u001b[0mY_pairwise\u001b[0m\u001b[0;34m)\u001b[0m\u001b[0;34m\u001b[0m\u001b[0m\n\u001b[1;32m     68\u001b[0m         \u001b[0mlog_q_mlp\u001b[0m \u001b[0;34m=\u001b[0m \u001b[0mlog_q_hmm\u001b[0m\u001b[0;34m(\u001b[0m\u001b[0mlatents_dirs\u001b[0m\u001b[0;34m,\u001b[0m \u001b[0mA_sample\u001b[0m\u001b[0;34m)\u001b[0m\u001b[0;34m\u001b[0m\u001b[0m\n\u001b[0;32m---> 69\u001b[0;31m         \u001b[0mZs\u001b[0m\u001b[0;34m,\u001b[0m \u001b[0mlog_weights\u001b[0m\u001b[0;34m,\u001b[0m \u001b[0mlog_normalizer\u001b[0m \u001b[0;34m=\u001b[0m \u001b[0msmc_hmm\u001b[0m\u001b[0;34m(\u001b[0m\u001b[0mPi\u001b[0m\u001b[0;34m,\u001b[0m \u001b[0mA_sample\u001b[0m\u001b[0;34m,\u001b[0m \u001b[0mmu_ks\u001b[0m\u001b[0;34m,\u001b[0m \u001b[0mcov_ks\u001b[0m\u001b[0;34m,\u001b[0m \u001b[0mY\u001b[0m\u001b[0;34m,\u001b[0m \u001b[0mT\u001b[0m\u001b[0;34m,\u001b[0m \u001b[0mD\u001b[0m\u001b[0;34m,\u001b[0m \u001b[0mK\u001b[0m\u001b[0;34m,\u001b[0m \u001b[0mnum_particles_smc\u001b[0m\u001b[0;34m)\u001b[0m\u001b[0;34m\u001b[0m\u001b[0m\n\u001b[0m\u001b[1;32m     70\u001b[0m         \u001b[0mZ_ret\u001b[0m \u001b[0;34m=\u001b[0m \u001b[0mresampling_smc\u001b[0m\u001b[0;34m(\u001b[0m\u001b[0mZs\u001b[0m\u001b[0;34m,\u001b[0m \u001b[0mlog_weights\u001b[0m\u001b[0;34m)\u001b[0m\u001b[0;34m\u001b[0m\u001b[0m\n\u001b[1;32m     71\u001b[0m         \u001b[0mlog_q_smc\u001b[0m \u001b[0;34m=\u001b[0m \u001b[0mlog_joint_smc\u001b[0m\u001b[0;34m(\u001b[0m\u001b[0mZ_ret\u001b[0m\u001b[0;34m,\u001b[0m \u001b[0mPi\u001b[0m\u001b[0;34m,\u001b[0m \u001b[0mA_sample\u001b[0m\u001b[0;34m,\u001b[0m \u001b[0mmu_ks\u001b[0m\u001b[0;34m,\u001b[0m \u001b[0mcov_ks\u001b[0m\u001b[0;34m,\u001b[0m \u001b[0mY\u001b[0m\u001b[0;34m,\u001b[0m \u001b[0mT\u001b[0m\u001b[0;34m,\u001b[0m \u001b[0mD\u001b[0m\u001b[0;34m,\u001b[0m \u001b[0mK\u001b[0m\u001b[0;34m)\u001b[0m\u001b[0;34m\u001b[0m\u001b[0m\n",
      "\u001b[0;32m~/Research/amortized/AmortizedGibbs/BNP/smc.py\u001b[0m in \u001b[0;36msmc_hmm\u001b[0;34m(Pi, A, mu_ks, cov_ks, Y, T, D, K, num_particles_smc)\u001b[0m\n\u001b[1;32m     86\u001b[0m         \u001b[0;32melse\u001b[0m\u001b[0;34m:\u001b[0m\u001b[0;34m\u001b[0m\u001b[0m\n\u001b[1;32m     87\u001b[0m             \u001b[0mreweight\u001b[0m \u001b[0;34m=\u001b[0m \u001b[0mtorch\u001b[0m\u001b[0;34m.\u001b[0m\u001b[0mexp\u001b[0m\u001b[0;34m(\u001b[0m\u001b[0mlog_weights\u001b[0m\u001b[0;34m[\u001b[0m\u001b[0;34m:\u001b[0m\u001b[0;34m,\u001b[0m \u001b[0mt\u001b[0m\u001b[0;34m-\u001b[0m\u001b[0;36m1\u001b[0m\u001b[0;34m]\u001b[0m \u001b[0;34m-\u001b[0m \u001b[0mlogsumexp\u001b[0m\u001b[0;34m(\u001b[0m\u001b[0mlog_weights\u001b[0m\u001b[0;34m[\u001b[0m\u001b[0;34m:\u001b[0m\u001b[0;34m,\u001b[0m \u001b[0mt\u001b[0m\u001b[0;34m-\u001b[0m\u001b[0;36m1\u001b[0m\u001b[0;34m]\u001b[0m\u001b[0;34m,\u001b[0m \u001b[0mdim\u001b[0m\u001b[0;34m=\u001b[0m\u001b[0;36m0\u001b[0m\u001b[0;34m)\u001b[0m\u001b[0;34m)\u001b[0m\u001b[0;34m\u001b[0m\u001b[0m\n\u001b[0;32m---> 88\u001b[0;31m             \u001b[0mancesters\u001b[0m \u001b[0;34m=\u001b[0m \u001b[0mCategorical\u001b[0m\u001b[0;34m(\u001b[0m\u001b[0mreweight\u001b[0m\u001b[0;34m)\u001b[0m\u001b[0;34m.\u001b[0m\u001b[0msample\u001b[0m\u001b[0;34m(\u001b[0m\u001b[0;34m(\u001b[0m\u001b[0mnum_particles_smc\u001b[0m\u001b[0;34m,\u001b[0m\u001b[0;34m)\u001b[0m\u001b[0;34m)\u001b[0m\u001b[0;34m\u001b[0m\u001b[0m\n\u001b[0m\u001b[1;32m     89\u001b[0m             \u001b[0mZs\u001b[0m \u001b[0;34m=\u001b[0m \u001b[0mZs\u001b[0m\u001b[0;34m[\u001b[0m\u001b[0mancesters\u001b[0m\u001b[0;34m]\u001b[0m\u001b[0;34m\u001b[0m\u001b[0m\n\u001b[1;32m     90\u001b[0m             \u001b[0mlabels\u001b[0m \u001b[0;34m=\u001b[0m \u001b[0mZs\u001b[0m\u001b[0;34m[\u001b[0m\u001b[0;34m:\u001b[0m\u001b[0;34m,\u001b[0m \u001b[0mt\u001b[0m\u001b[0;34m-\u001b[0m\u001b[0;36m1\u001b[0m\u001b[0;34m,\u001b[0m \u001b[0;34m:\u001b[0m\u001b[0;34m]\u001b[0m\u001b[0;34m.\u001b[0m\u001b[0mnonzero\u001b[0m\u001b[0;34m(\u001b[0m\u001b[0;34m)\u001b[0m\u001b[0;34m[\u001b[0m\u001b[0;34m:\u001b[0m\u001b[0;34m,\u001b[0m \u001b[0;36m1\u001b[0m\u001b[0;34m]\u001b[0m\u001b[0;34m\u001b[0m\u001b[0m\n",
      "\u001b[0;31mKeyboardInterrupt\u001b[0m: "
     ]
    }
   ],
   "source": [
    "KLs = []\n",
    "EUBOs = []\n",
    "ESSs = []\n",
    "ELBOs = []\n",
    "for epoch in range(NUM_EPOCHS):\n",
    "    time_start = time.time()\n",
    "    optimizer.zero_grad()\n",
    "    alpha_trans_0 = initial_trans_prior(K)\n",
    "    init_v = init_velocity(dt)\n",
    "    T = np.random.randint(T_min, T_max)\n",
    "    mu_ks, cov_ks, Pi, Y, A_true, Z_true = generate_seq_T(T, K, dt, Boundary, init_v, noise_cov)\n",
    "    enc, eubo, kl, ess, latents_dirs, elbo = onesmc_sampling(enc, alpha_trans_0, Pi, mu_ks, cov_ks, Z_true, Y, T, D, K, num_particles, num_particles_smc)\n",
    "    eubo.backward()\n",
    "    KLs.append(kl.item())\n",
    "    EUBOs.append(eubo.item())\n",
    "    ESSs.append(ess / num_particles)\n",
    "    ELBOs.append(elbo.item())\n",
    "#     log_qs.append(loss_infer.item())\n",
    "    optimizer.step()\n",
    "    time_end = time.time()\n",
    "    print('epoch : %d, eubo : %f, KL : %f, ELBO : %f (%ds)' % (epoch, eubo, kl, elbo, time_end - time_start))\n",
    "\n",
    "if RESTORE:\n",
    "    enc.load_state_dict(torch.load(PATH_ENC))\n",
    "else:\n",
    "    torch.save(enc.state_dict(), PATH_ENC)\n",
    "    save_params(KLs, EUBOs, ESSs, PATH_ENC)"
   ]
  },
  {
   "cell_type": "code",
   "execution_count": null,
   "metadata": {},
   "outputs": [],
   "source": [
    "plot_dirs(latents_dirs, alpha_trans_0, Z_true, T, K, vmax=10)"
   ]
  },
  {
   "cell_type": "code",
   "execution_count": null,
   "metadata": {},
   "outputs": [],
   "source": [
    "plot_results(EUBOs, KLs, ESSs, ELBOs)"
   ]
  },
  {
   "cell_type": "code",
   "execution_count": null,
   "metadata": {},
   "outputs": [],
   "source": []
  }
 ],
 "metadata": {
  "kernelspec": {
   "display_name": "Python 3",
   "language": "python",
   "name": "python3"
  },
  "language_info": {
   "codemirror_mode": {
    "name": "ipython",
    "version": 3
   },
   "file_extension": ".py",
   "mimetype": "text/x-python",
   "name": "python",
   "nbconvert_exporter": "python",
   "pygments_lexer": "ipython3",
   "version": "3.6.6"
  }
 },
 "nbformat": 4,
 "nbformat_minor": 2
}
