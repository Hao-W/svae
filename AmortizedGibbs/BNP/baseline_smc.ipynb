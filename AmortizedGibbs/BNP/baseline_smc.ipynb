{
 "cells": [
  {
   "cell_type": "code",
   "execution_count": 6,
   "metadata": {},
   "outputs": [
    {
     "name": "stdout",
     "output_type": "stream",
     "text": [
      "probtorch: 0.0+5a2c637 torch: 0.5.0a0+3bb8c5e cuda: True\n"
     ]
    }
   ],
   "source": [
    "%matplotlib inline\n",
    "import numpy as np\n",
    "import torch.nn as nn\n",
    "import torch.nn.functional as F\n",
    "import matplotlib.pyplot as plt\n",
    "from util_data import *\n",
    "from baseline_smc import *\n",
    "from util_plots import *\n",
    "from torch.distributions.dirichlet import Dirichlet\n",
    "import sys\n",
    "import datetime\n",
    "import time \n",
    "sys.path.append('/home/hao/Research/probtorch/')\n",
    "import probtorch\n",
    "print('probtorch:', probtorch.__version__, \n",
    "      'torch:', torch.__version__, \n",
    "      'cuda:', torch.cuda.is_available())"
   ]
  },
  {
   "cell_type": "code",
   "execution_count": 9,
   "metadata": {},
   "outputs": [],
   "source": [
    "## Dataset parameters\n",
    "num_series = 1\n",
    "## range of length of tracjectories, need to be positive integers\n",
    "T_min = 30\n",
    "T_max = 50\n",
    "K = 4\n",
    "D = 2\n",
    "dt = 10\n",
    "Boundary = 30\n",
    "noise_ratio = 0.5\n",
    "\n",
    "## Model Parameters\n",
    "num_particles = 50\n",
    "num_particles_smc = 50\n",
    "NUM_HIDDEN = 128\n",
    "NUM_LATENTS = K*K\n",
    "NUM_OBS = 2 * D\n",
    "\n",
    "NUM_EPOCHS = 1000\n",
    "LEARNING_RATE = 1e-3\n",
    "CUDA = False\n",
    "RESTORE = False\n",
    "PATH_ENC = \"baseline_smc/hao/baseline_naive-%dIS-enc-%s\" % (num_particles, datetime.datetime.fromtimestamp(time.time()).strftime('%Y-%m-%d %H:%M:%S'))"
   ]
  },
  {
   "cell_type": "code",
   "execution_count": 10,
   "metadata": {},
   "outputs": [
    {
     "data": {
      "image/png": "[encoded data removed]",
      "text/plain": [
       "<Figure size 288x288 with 1 Axes>"
      ]
     },
     "metadata": {},
     "output_type": "display_data"
    }
   ],
   "source": [
    "T_sample = 50\n",
    "noise_cov = np.array([[1, 0], [0, 1]]) * noise_ratio       \n",
    "init_v = np.random.random(2) * np.random.choice([-1,1], size=2)\n",
    "v_norm = ((init_v ** 2 ).sum()) ** 0.5 ## compute norm for each initial velocity\n",
    "init_v = init_v / v_norm * dt ## to make the velocity lying on a circle\n",
    "STATE, Disp, A_true, Zs_true = generate_seq(T_sample, dt, Boundary, init_v, noise_cov)\n",
    "## true global variables\n",
    "cov_true = np.tile(noise_cov, (K, 1, 1))\n",
    "dirs = np.array([[1, 1], [1, -1], [-1, -1], [-1, 1]])\n",
    "mu_true = np.tile(np.absolute(init_v), (K, 1)) * dirs\n",
    "plot_clusters(Disp, mu_true, cov_true, K)"
   ]
  },
  {
   "cell_type": "code",
   "execution_count": 11,
   "metadata": {},
   "outputs": [],
   "source": [
    "class Encoder(nn.Module):\n",
    "    def __init__(self, num_obs=NUM_OBS,\n",
    "                       num_hidden=NUM_HIDDEN,\n",
    "                       num_latents=NUM_LATENTS):\n",
    "        super(self.__class__, self).__init__()\n",
    "        self.enc_hidden = nn.Sequential(\n",
    "            nn.Linear(num_obs, num_hidden),\n",
    "            nn.ReLU(),\n",
    "            nn.Linear(num_hidden, num_hidden),\n",
    "            nn.ReLU())\n",
    "        self.latent_dir = nn.Sequential(\n",
    "            nn.Linear(num_hidden, num_latents))\n",
    "        \n",
    "    def forward(self, obs):\n",
    "        A_samples = torch.zeros((K, K))\n",
    "        hidden = self.enc_hidden(obs)\n",
    "        latents_dirs = torch.exp(self.latent_dir(hidden)).sum(0).view(K, K)\n",
    "        for k in range(K):\n",
    "            A_samples[k] = Dirichlet(latents_dirs[k]).sample()\n",
    "        return latents_dirs, A_samples"
   ]
  },
  {
   "cell_type": "code",
   "execution_count": 12,
   "metadata": {},
   "outputs": [],
   "source": [
    "def initialize():\n",
    "    enc = Encoder()\n",
    "    if CUDA:\n",
    "        enc.cuda()K\n",
    "    optimizer =  torch.optim.Adam(list(enc.parameters()),lr=LEARNING_RATE)    \n",
    "    return enc, optimizer\n",
    "enc, optimizer = initialize()"
   ]
  },
  {
   "cell_type": "code",
   "execution_count": null,
   "metadata": {},
   "outputs": [
    {
     "name": "stdout",
     "output_type": "stream",
     "text": [
      "epoch : 0, eubo : -384.888275, KL : 598.608521 (8s)\n",
      "epoch : 1, eubo : -322.946930, KL : 558.876404 (7s)\n",
      "epoch : 2, eubo : -346.547180, KL : 276.174164 (5s)\n",
      "epoch : 3, eubo : -352.574615, KL : 390.914215 (8s)\n",
      "epoch : 4, eubo : -309.688690, KL : 237.525055 (5s)\n",
      "epoch : 5, eubo : -400.613098, KL : 335.135681 (6s)\n",
      "epoch : 6, eubo : -331.078186, KL : 408.248322 (6s)\n",
      "epoch : 7, eubo : -469.855530, KL : 565.323853 (8s)\n",
      "epoch : 8, eubo : -377.128906, KL : 192.974091 (5s)\n",
      "epoch : 9, eubo : -256.533813, KL : 249.658707 (5s)\n",
      "epoch : 10, eubo : -315.333252, KL : 220.564590 (5s)\n",
      "epoch : 11, eubo : -316.119507, KL : 202.740784 (6s)\n",
      "epoch : 12, eubo : -399.568726, KL : 143.909424 (7s)\n",
      "epoch : 13, eubo : -727.184326, KL : 240.120972 (7s)\n",
      "epoch : 14, eubo : -377.596161, KL : 181.803192 (6s)\n",
      "epoch : 15, eubo : -362.787964, KL : 96.056900 (5s)\n",
      "epoch : 16, eubo : -336.233032, KL : 173.515900 (8s)\n",
      "epoch : 17, eubo : -453.835327, KL : 187.736633 (8s)\n",
      "epoch : 18, eubo : -304.025269, KL : 155.902573 (8s)\n",
      "epoch : 19, eubo : -488.548218, KL : 134.495193 (8s)\n",
      "epoch : 20, eubo : -241.013733, KL : 180.658859 (6s)\n",
      "epoch : 21, eubo : -404.098511, KL : 439.041260 (7s)\n",
      "epoch : 22, eubo : -333.632721, KL : 323.937164 (6s)\n",
      "epoch : 23, eubo : -406.680725, KL : 117.895721 (8s)\n",
      "epoch : 24, eubo : -393.261108, KL : 107.414711 (8s)\n",
      "epoch : 25, eubo : -397.935883, KL : 246.868393 (8s)\n",
      "epoch : 26, eubo : -440.631165, KL : 125.522026 (9s)\n",
      "epoch : 27, eubo : -522.953247, KL : 143.076782 (10s)\n",
      "epoch : 28, eubo : -490.723297, KL : 173.201660 (9s)\n",
      "epoch : 29, eubo : -452.460541, KL : 115.057755 (9s)\n",
      "epoch : 30, eubo : -339.794312, KL : 168.334106 (6s)\n",
      "epoch : 31, eubo : -328.618652, KL : 133.852264 (7s)\n",
      "epoch : 32, eubo : -413.127686, KL : 200.062408 (7s)\n",
      "epoch : 33, eubo : -460.260681, KL : 142.134781 (7s)\n",
      "epoch : 34, eubo : -469.668762, KL : 117.773712 (8s)\n",
      "epoch : 35, eubo : -474.198029, KL : 143.898071 (8s)\n",
      "epoch : 36, eubo : -291.701050, KL : 70.593910 (6s)\n",
      "epoch : 37, eubo : -323.605530, KL : 88.076485 (6s)\n",
      "epoch : 38, eubo : -479.052795, KL : 92.223778 (8s)\n",
      "epoch : 39, eubo : -591.566711, KL : 208.251144 (10s)\n",
      "epoch : 40, eubo : -445.989441, KL : 123.758118 (8s)\n",
      "epoch : 41, eubo : -486.137085, KL : 192.329880 (8s)\n"
     ]
    }
   ],
   "source": [
    "KLs = []\n",
    "EUBOs = []\n",
    "ESSs = []\n",
    "\n",
    "for epoch in range(NUM_EPOCHS):\n",
    "    time_start = time.time()\n",
    "    optimizer.zero_grad()\n",
    "    alpha_trans_0 = initial_trans_prior(K)\n",
    "    init_v = init_velocity(dt)\n",
    "    T = np.random.randint(T_min, T_max)\n",
    "    mu_ks, cov_ks, Pi, Y, A_true, Z_true = generate_seq_T(T, K, dt, Boundary, init_v, noise_cov)\n",
    "    enc, eubo, kl, ess, latents_dirs = onesmc_sampling(enc, alpha_trans_0, Pi, mu_ks, cov_ks, Z_true, Y, T, D, K, num_particles, num_particles_smc)\n",
    "    eubo.backward()\n",
    "    KLs.append(kl.item())\n",
    "    EUBOs.append(eubo.item())\n",
    "    ESSs.append(ess / num_particles)\n",
    "#     log_qs.append(loss_infer.item())\n",
    "    optimizer.step()\n",
    "    time_end = time.time()\n",
    "    print('epoch : %d, eubo : %f, KL : %f (%ds)' % (epoch, eubo, kl, time_end - time_start))\n",
    "\n",
    "if RESTORE:\n",
    "    enc.load_state_dict(torch.load(PATH_ENC))\n",
    "else:\n",
    "    torch.save(enc.state_dict(), PATH_ENC)\n",
    "    save_params(KLs, EUBOs, ESSs, PATH_ENC)"
   ]
  },
  {
   "cell_type": "code",
   "execution_count": null,
   "metadata": {},
   "outputs": [],
   "source": [
    "plot_dirs(latents_dirs, alpha_trans_0, Z_true, T, K, vmax=15)"
   ]
  },
  {
   "cell_type": "code",
   "execution_count": null,
   "metadata": {},
   "outputs": [],
   "source": [
    "plot_results(EUBOs, KLs, ESSs, num_particles)"
   ]
  },
  {
   "cell_type": "code",
   "execution_count": null,
   "metadata": {},
   "outputs": [],
   "source": []
  }
 ],
 "metadata": {
  "kernelspec": {
   "display_name": "Python 3",
   "language": "python",
   "name": "python3"
  },
  "language_info": {
   "codemirror_mode": {
    "name": "ipython",
    "version": 3
   },
   "file_extension": ".py",
   "mimetype": "text/x-python",
   "name": "python",
   "nbconvert_exporter": "python",
   "pygments_lexer": "ipython3",
   "version": "3.6.6"
  }
 },
 "nbformat": 4,
 "nbformat_minor": 2
}
