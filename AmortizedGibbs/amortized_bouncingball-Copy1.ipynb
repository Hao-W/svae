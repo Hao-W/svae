{
 "cells": [
  {
   "cell_type": "code",
   "execution_count": 1,
   "metadata": {},
   "outputs": [
    {
     "name": "stdout",
     "output_type": "stream",
     "text": [
      "probtorch: 0.0+5a2c637 torch: 0.5.0a0+3bb8c5e cuda: True\n"
     ]
    }
   ],
   "source": [
    "%matplotlib inline\n",
    "import numpy as np\n",
    "import torch.nn as nn\n",
    "import torch.nn.functional as F\n",
    "import matplotlib.pyplot as plt\n",
    "from util_data import *\n",
    "from amorgibbs_v import *\n",
    "from smc_v import *\n",
    "from util_plots import *\n",
    "from torch.distributions.dirichlet import Dirichlet\n",
    "import sys\n",
    "sys.path.append('/home/hao/Research/probtorch/')\n",
    "import probtorch\n",
    "print('probtorch:', probtorch.__version__, \n",
    "      'torch:', torch.__version__, \n",
    "      'cuda:', torch.cuda.is_available())"
   ]
  },
  {
   "cell_type": "code",
   "execution_count": 2,
   "metadata": {},
   "outputs": [],
   "source": [
    "## Dataset parameters\n",
    "num_series = 1\n",
    "## range of length of tracjectories, need to be positive integers\n",
    "T_min = 30\n",
    "T_max = 50\n",
    "K = 4\n",
    "D = 2\n",
    "dt = 10\n",
    "Boundary = 30\n",
    "noise_ratio = 0.5\n",
    "\n",
    "## Model Parameters\n",
    "num_particles_rws = 50\n",
    "mcmc_steps = 3\n",
    "num_particles_smc = 50\n",
    "NUM_HIDDEN = 128\n",
    "NUM_LATENTS = K*K\n",
    "NUM_OBS = 2 * K\n",
    "\n",
    "NUM_EPOCHS = 1000\n",
    "LEARNING_RATE = 1e-3\n",
    "CUDA = False\n",
    "RESTORE = False\n",
    "PATH_ENC = \"experiment/enc-%drws-%dmcmc-%dsmc-enc\" % (num_particles_rws, mcmc_steps, num_particles_smc)"
   ]
  },
  {
   "cell_type": "code",
   "execution_count": 3,
   "metadata": {},
   "outputs": [
    {
     "data": {
      "image/png": "[encoded data removed]",
      "text/plain": [
       "<Figure size 288x288 with 1 Axes>"
      ]
     },
     "metadata": {},
     "output_type": "display_data"
    }
   ],
   "source": [
    "T_sample = 50\n",
    "noise_cov = np.array([[1, 0], [0, 1]]) * noise_ratio        # Zs, log_weights, log_normalizers = csmc_hmm_v(Z_ret, Pi, A_samples, mu_ks, cov_ks, Y, T, D, K, num_particles_smc, num_particles_rws)\n",
    "        # Z_ret = resampling_smc_v(Zs, log_weights, num_particles_rws)\n",
    "        # Z_ret_pair = torch.cat((Z_ret[:, :T-1, :].unsqueeze(1), Z_ret[:, 1:, :].unsqueeze(1)), 1)o\n",
    "init_v = np.random.random(2) * np.random.choice([-1,1], size=2)\n",
    "v_norm = ((init_v ** 2 ).sum()) ** 0.5 ## compute norm for each initial velocity\n",
    "init_v = init_v / v_norm * dt ## to make the velocity lying on a circle\n",
    "STATE, Disp, A_true, Zs_true = generate_seq(T_sample, dt, Boundary, init_v, noise_cov)\n",
    "## true global variables\n",
    "cov_true = np.tile(noise_cov, (K, 1, 1))\n",
    "dirs = np.array([[1, 1], [1, -1], [-1, -1], [-1, 1]])\n",
    "mu_true = np.tile(np.absolute(init_v), (K, 1)) * dirs\n",
    "plot_clusters(Disp, mu_true, cov_true, K)"
   ]
  },
  {
   "cell_type": "code",
   "execution_count": 4,
   "metadata": {},
   "outputs": [],
   "source": [
    "class Encoder(nn.Module):\n",
    "    def __init__(self, num_obs=NUM_OBS,\n",
    "                       num_hidden=NUM_HIDDEN,\n",
    "                       num_latents=NUM_LATENTS):\n",
    "        super(self.__class__, self).__init__()\n",
    "        self.enc_hidden = nn.Sequential(\n",
    "            nn.Linear(num_obs, num_hidden),\n",
    "            nn.ReLU(),\n",
    "            nn.Linear(num_hidden, num_hidden),\n",
    "            nn.ReLU())\n",
    "        self.latent_dir = nn.Sequential(\n",
    "            nn.Linear(num_hidden, num_latents))\n",
    "        \n",
    "    def forward(self, obs):\n",
    "        A_samples = torch.zeros((K, K))\n",
    "        hidden = self.enc_hidden(obs)\n",
    "        latents_dirs = torch.exp(self.latent_dir(hidden)).sum(0).view(K, K)\n",
    "        for k in range(K):\n",
    "            A_samples[k] = Dirichlet(latents_dirs[k]).sample()\n",
    "        return latents_dirs, A_samples"
   ]
  },
  {
   "cell_type": "code",
   "execution_count": 5,
   "metadata": {},
   "outputs": [],
   "source": [
    "def initialize():\n",
    "    enc = Encoder()\n",
    "    if CUDA:\n",
    "        enc.cuda()\n",
    "    optimizer =  torch.optim.Adam(list(enc.parameters()),lr=LEARNING_RATE)    \n",
    "    return enc, optimizer\n",
    "enc, optimizer = initialize()"
   ]
  },
  {
   "cell_type": "code",
   "execution_count": null,
   "metadata": {},
   "outputs": [
    {
     "name": "stdout",
     "output_type": "stream",
     "text": [
      "epoch : 0, eubo : 193.520630, KL : 590.040588 (11s)\n",
      "epoch : 1, eubo : 268.137726, KL : 503.848053 (11s)\n",
      "epoch : 2, eubo : 223.998947, KL : 489.563141 (11s)\n",
      "epoch : 3, eubo : 132.009827, KL : 645.747437 (14s)\n",
      "epoch : 4, eubo : 172.967300, KL : 586.534729 (13s)\n",
      "epoch : 5, eubo : 236.288147, KL : 529.841064 (14s)\n",
      "epoch : 6, eubo : 152.260284, KL : 509.899933 (12s)\n",
      "epoch : 7, eubo : 205.573746, KL : 200.039810 (8s)\n",
      "epoch : 8, eubo : 181.064865, KL : 294.324341 (8s)\n",
      "epoch : 9, eubo : 214.229126, KL : 331.468140 (14s)\n",
      "epoch : 10, eubo : 170.213882, KL : 433.087433 (11s)\n",
      "epoch : 11, eubo : 101.747063, KL : 362.864502 (8s)\n",
      "epoch : 12, eubo : -43.905365, KL : 521.513916 (12s)\n",
      "epoch : 13, eubo : 58.108288, KL : 497.679504 (13s)\n",
      "epoch : 14, eubo : 316.616760, KL : 545.678162 (14s)\n",
      "epoch : 15, eubo : 192.044922, KL : 542.569092 (12s)\n",
      "epoch : 16, eubo : 164.170914, KL : 364.279968 (8s)\n",
      "epoch : 17, eubo : 96.403015, KL : 435.343414 (10s)\n",
      "epoch : 18, eubo : 113.397392, KL : 364.126434 (9s)\n",
      "epoch : 19, eubo : 126.462219, KL : 423.276489 (10s)\n",
      "epoch : 20, eubo : 135.745392, KL : 310.356781 (8s)\n",
      "epoch : 21, eubo : 137.994019, KL : 557.006287 (14s)\n",
      "epoch : 22, eubo : 233.091339, KL : 428.504395 (10s)\n",
      "epoch : 23, eubo : 99.780495, KL : 582.365967 (13s)\n",
      "epoch : 24, eubo : 200.304642, KL : 558.708923 (14s)\n",
      "epoch : 25, eubo : 223.234802, KL : 559.189270 (13s)\n",
      "epoch : 26, eubo : 133.377853, KL : 311.034058 (8s)\n",
      "epoch : 27, eubo : -44.637066, KL : 520.544067 (13s)\n",
      "epoch : 28, eubo : 175.896225, KL : 595.297119 (21s)\n",
      "epoch : 29, eubo : 196.441956, KL : 471.437378 (21s)\n",
      "epoch : 30, eubo : 119.200989, KL : 328.309021 (14s)\n",
      "epoch : 31, eubo : 125.800179, KL : 350.993500 (14s)\n",
      "epoch : 32, eubo : 187.864700, KL : 351.440979 (16s)\n",
      "epoch : 33, eubo : 125.172943, KL : 386.108154 (22s)\n",
      "epoch : 34, eubo : 112.393593, KL : 325.596466 (14s)\n",
      "epoch : 35, eubo : 191.703857, KL : 530.817139 (23s)\n",
      "epoch : 36, eubo : 177.320435, KL : 523.949341 (19s)\n",
      "epoch : 37, eubo : 221.689209, KL : 480.100647 (13s)\n",
      "epoch : 38, eubo : 156.770996, KL : 289.835876 (8s)\n",
      "epoch : 39, eubo : 40.499310, KL : 482.502655 (11s)\n",
      "epoch : 40, eubo : 58.975266, KL : 449.185760 (11s)\n",
      "epoch : 41, eubo : 107.145737, KL : 298.141174 (8s)\n",
      "epoch : 42, eubo : 46.672443, KL : 312.548523 (9s)\n",
      "epoch : 43, eubo : 139.907120, KL : 487.250946 (13s)\n",
      "epoch : 44, eubo : 29.748407, KL : 265.920319 (13s)\n",
      "epoch : 45, eubo : -80.254929, KL : 326.407562 (10s)\n",
      "epoch : 46, eubo : 213.380737, KL : 464.594513 (15s)\n",
      "epoch : 47, eubo : -45.229404, KL : 186.389969 (8s)\n",
      "epoch : 48, eubo : 10.021675, KL : 455.954346 (12s)\n",
      "epoch : 49, eubo : -167.534088, KL : 466.226990 (12s)\n",
      "epoch : 50, eubo : 123.240654, KL : 419.099976 (11s)\n",
      "epoch : 51, eubo : 127.890961, KL : 389.505585 (13s)\n",
      "epoch : 52, eubo : 63.588493, KL : 415.090027 (12s)\n",
      "epoch : 53, eubo : 55.452950, KL : 329.843811 (10s)\n",
      "epoch : 54, eubo : 57.209373, KL : 390.561157 (11s)\n",
      "epoch : 55, eubo : 96.844292, KL : 333.927582 (11s)\n",
      "epoch : 56, eubo : -39.555008, KL : 315.427979 (10s)\n",
      "epoch : 57, eubo : 20.339905, KL : 388.777710 (12s)\n",
      "epoch : 58, eubo : -0.972570, KL : 404.831726 (13s)\n",
      "epoch : 59, eubo : 49.621258, KL : 254.281693 (13s)\n",
      "epoch : 60, eubo : -57.269840, KL : 364.052185 (12s)\n",
      "epoch : 61, eubo : 20.493694, KL : 233.769958 (9s)\n",
      "epoch : 62, eubo : -1.050417, KL : 280.516998 (9s)\n",
      "epoch : 63, eubo : 141.678772, KL : 335.405304 (10s)\n",
      "epoch : 64, eubo : 29.096577, KL : 429.029419 (13s)\n",
      "epoch : 65, eubo : -18.997429, KL : 384.095673 (10s)\n",
      "epoch : 66, eubo : -26.546579, KL : 406.772552 (13s)\n",
      "epoch : 67, eubo : -8.235885, KL : 331.060608 (11s)\n",
      "epoch : 68, eubo : -83.348717, KL : 332.167755 (14s)\n",
      "epoch : 69, eubo : -1.680345, KL : 257.387482 (8s)\n",
      "epoch : 70, eubo : -9.818237, KL : 451.713898 (14s)\n",
      "epoch : 71, eubo : 19.066929, KL : 323.861938 (10s)\n",
      "epoch : 72, eubo : -105.645470, KL : 376.926025 (11s)\n",
      "epoch : 73, eubo : -74.278870, KL : 352.942627 (13s)\n",
      "epoch : 74, eubo : -71.199242, KL : 332.358246 (10s)\n",
      "epoch : 75, eubo : 86.283661, KL : 274.463562 (14s)\n",
      "epoch : 76, eubo : 58.397888, KL : 190.518448 (9s)\n",
      "epoch : 77, eubo : -84.553482, KL : 297.308441 (9s)\n",
      "epoch : 78, eubo : -17.282598, KL : 224.998245 (8s)\n",
      "epoch : 79, eubo : -63.753723, KL : 315.028625 (11s)\n",
      "epoch : 80, eubo : -113.291832, KL : 287.681671 (9s)\n",
      "epoch : 81, eubo : -206.416214, KL : 146.665070 (9s)\n",
      "epoch : 82, eubo : -79.253685, KL : 290.060333 (12s)\n",
      "epoch : 83, eubo : -116.459015, KL : 334.241516 (12s)\n",
      "epoch : 84, eubo : -146.026199, KL : 373.464417 (12s)\n",
      "epoch : 85, eubo : -42.984062, KL : 354.711395 (11s)\n",
      "epoch : 86, eubo : -42.810425, KL : 329.834381 (11s)\n",
      "epoch : 87, eubo : -69.205109, KL : 238.267975 (10s)\n",
      "epoch : 88, eubo : -8.753375, KL : 241.731705 (8s)\n",
      "epoch : 89, eubo : -99.021881, KL : 348.464081 (13s)\n",
      "epoch : 90, eubo : -117.021881, KL : 341.186493 (13s)\n",
      "epoch : 91, eubo : -153.127197, KL : 346.900085 (11s)\n",
      "epoch : 92, eubo : -314.463867, KL : 249.660843 (10s)\n",
      "epoch : 93, eubo : -146.553345, KL : 325.670624 (13s)\n",
      "epoch : 94, eubo : -31.599766, KL : 230.109756 (10s)\n",
      "epoch : 95, eubo : -77.652718, KL : 274.608459 (11s)\n",
      "epoch : 96, eubo : -116.857925, KL : 256.656769 (14s)\n",
      "epoch : 97, eubo : -295.510193, KL : 246.688675 (18s)\n",
      "epoch : 98, eubo : -197.451904, KL : 226.784866 (16s)\n",
      "epoch : 99, eubo : -362.797424, KL : 307.245300 (20s)\n",
      "epoch : 100, eubo : -144.335709, KL : 222.288361 (14s)\n",
      "epoch : 101, eubo : -269.400330, KL : 322.931763 (20s)\n",
      "epoch : 102, eubo : -296.406891, KL : 210.079941 (14s)\n",
      "epoch : 103, eubo : -346.077942, KL : 293.244354 (18s)\n",
      "epoch : 104, eubo : -218.826965, KL : 212.767075 (14s)\n",
      "epoch : 105, eubo : -363.375061, KL : 234.309921 (14s)\n",
      "epoch : 106, eubo : -307.614136, KL : 204.859375 (14s)\n",
      "epoch : 107, eubo : -512.600952, KL : 325.342590 (22s)\n",
      "epoch : 108, eubo : -477.499939, KL : 255.090439 (18s)\n",
      "epoch : 109, eubo : -403.894958, KL : 186.750137 (14s)\n",
      "epoch : 110, eubo : -635.292603, KL : 318.638275 (21s)\n",
      "epoch : 111, eubo : -712.505310, KL : 180.139297 (15s)\n",
      "epoch : 112, eubo : -714.100586, KL : 229.472733 (19s)\n",
      "epoch : 113, eubo : -645.080017, KL : 349.748901 (22s)\n",
      "epoch : 114, eubo : -470.079346, KL : 212.999435 (13s)\n"
     ]
    }
   ],
   "source": [
    "KLs = []\n",
    "EUBOs = []\n",
    "log_qs = []\n",
    "ESSs = []\n",
    "\n",
    "for epoch in range(NUM_EPOCHS):\n",
    "    time_start = time.time()\n",
    "    optimizer.zero_grad()\n",
    "    alpha_trans_0 = initial_trans_prior(K)\n",
    "    init_v = init_velocity(dt)\n",
    "    T = np.random.randint(T_min, T_max)\n",
    "    mu_ks, cov_ks, Pi, Y, A_true, Zs_true = generate_seq_T(T, K, dt, Boundary, init_v, noise_cov)\n",
    "    enc, eubo, kl, ess, latents_dirs, Z_ret, loss_infer = rws_v(enc, alpha_trans_0, Pi, mu_ks, cov_ks, Y, T, D, K, num_particles_rws, num_particles_smc, mcmc_steps)\n",
    "    loss_infer.backward()\n",
    "    KLs.append(kl.item())\n",
    "    EUBOs.append(eubo.item())\n",
    "    ESSs.append(ess)\n",
    "#     log_qs.append(loss_infer.item())\n",
    "    optimizer.step()\n",
    "    time_end = time.time()\n",
    "    print('epoch : %d, eubo : %f, KL : %f (%ds)' % (epoch, eubo, kl, time_end - time_start))"
   ]
  },
  {
   "cell_type": "code",
   "execution_count": null,
   "metadata": {},
   "outputs": [],
   "source": [
    "plot_dirs(enc, alpha_trans_0, Z_ret, Zs_true, T, K, num_particles_rws, vmax=15)"
   ]
  },
  {
   "cell_type": "code",
   "execution_count": null,
   "metadata": {},
   "outputs": [],
   "source": [
    "plot_results(EUBOs, log_qs, KLs, ESSs, num_particles_rws)"
   ]
  },
  {
   "cell_type": "code",
   "execution_count": null,
   "metadata": {},
   "outputs": [],
   "source": [
    "if RESTORE:\n",
    "    enc.load_state_dict(torch.load(PATH_ENC))\n",
    "else:\n",
    "    torch.save(enc.state_dict(), PATH_ENC)"
   ]
  },
  {
   "cell_type": "code",
   "execution_count": null,
   "metadata": {},
   "outputs": [],
   "source": [
    "fig, ax = plt.subplots(figsize=(4, 4))\n",
    "ax.set_xlim(-(Boundary-radius), Boundary-radius)\n",
    "ax.set_ylim(-(Boundary-radius), Boundary-radius)\n",
    "# ax.axis('equal')\n",
    "plot_cov_ellipse(cov=np.eye(2)*210, pos=np.array([0, 0]), nstd=2, ax=ax, alpha=0.5)"
   ]
  },
  {
   "cell_type": "code",
   "execution_count": null,
   "metadata": {},
   "outputs": [],
   "source": []
  }
 ],
 "metadata": {
  "kernelspec": {
   "display_name": "Python 3",
   "language": "python",
   "name": "python3"
  },
  "language_info": {
   "codemirror_mode": {
    "name": "ipython",
    "version": 3
   },
   "file_extension": ".py",
   "mimetype": "text/x-python",
   "name": "python",
   "nbconvert_exporter": "python",
   "pygments_lexer": "ipython3",
   "version": "3.6.6"
  }
 },
 "nbformat": 4,
 "nbformat_minor": 2
}
