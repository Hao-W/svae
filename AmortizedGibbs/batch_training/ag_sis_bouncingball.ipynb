{
 "cells": [
  {
   "cell_type": "code",
   "execution_count": null,
   "metadata": {},
   "outputs": [],
   "source": [
    "%matplotlib inline\n",
    "import numpy as np\n",
    "import torch.nn as nn\n",
    "import torch.nn.functional as F\n",
    "import matplotlib.pyplot as plt\n",
    "from data import *\n",
    "from objectives import *\n",
    "from plots import *\n",
    "from torch.distributions.dirichlet import Dirichlet\n",
    "import sys\n",
    "import time\n",
    "import datetime\n",
    "sys.path.append('/home/hao/Research/probtorch/')\n",
    "import probtorch\n",
    "print('probtorch:', probtorch.__version__, \n",
    "      'torch:', torch.__version__, \n",
    "      'cuda:', torch.cuda.is_available())"
   ]
  },
  {
   "cell_type": "code",
   "execution_count": null,
   "metadata": {},
   "outputs": [],
   "source": [
    "T = 30\n",
    "K = 3\n",
    "D = 2\n",
    "\n",
    "## Model Parameters\n",
    "num_particles_rws = 20\n",
    "mcmc_steps = 3\n",
    "num_particles_smc = 80\n",
    "NUM_HIDDEN = 64\n",
    "NUM_LATENTS = K*K\n",
    "NUM_OBS = 2 * K\n",
    "BATCH_SIZE = 1\n",
    "NUM_EPOCHS = 1000\n",
    "LEARNING_RATE = 1e-3\n",
    "CUDA = False\n",
    "RESTORE = False\n",
    "PATH_ENC = \"stepwise_enc-%drws-%dmcmc-%dsmc-enc-%s\" % (num_particles_rws, mcmc_steps, num_particles_smc, datetime.datetime.fromtimestamp(time.time()).strftime('%Y-%m-%d %H:%M:%S'))"
   ]
  },
  {
   "cell_type": "code",
   "execution_count": null,
   "metadata": {},
   "outputs": [],
   "source": [
    "generate_seq(T, K, dt, Boundary, init_v, noise_cov)"
   ]
  },
  {
   "cell_type": "code",
   "execution_count": null,
   "metadata": {},
   "outputs": [],
   "source": [
    "Ys = np.load('ball_dataset/sequences.npy')\n",
    "As_true = torch.from_numpy(np.load('ball_dataset/transitions.npy')).float()\n",
    "Zs_true = np.load('ball_dataset/states.npy')\n",
    "mu_ks = torch.from_numpy(np.load('ball_dataset/means.npy')).float()\n",
    "cov_ks = torch.from_numpy(np.load('ball_dataset/covariances.npy')).float()\n",
    "Pi = torch.from_numpy(np.load('ball_dataset/init.npy')).float()\n",
    "\n",
    "prior = initial_trans_prior(K)\n",
    "\n",
    "Ys_Zs = np.concatenate((Ys, Zs_true), axis=-1)"
   ]
  },
  {
   "cell_type": "code",
   "execution_count": null,
   "metadata": {},
   "outputs": [],
   "source": [
    "# Ys_test = torch.from_numpy(Ys[0]).float().unsqueeze(0)\n",
    "# Zs_test = torch.from_numpy(Zs_true[0]).float().unsqueeze(0)\n",
    "# As = As_true[0].unsqueeze(0)\n",
    "# Accus = []\n",
    "# for i in range(100):\n",
    "#     Zs, log_weights, log_normalizers = smc_hmm_batch(Pi, As, mu_ks, cov_ks, Ys_test, T, D, K, num_particles_smc, 1)\n",
    "#     ## Z B * T * K\n",
    "#     Z = smc_resamplings(Zs, log_weights, 1)\n",
    "#     ## compute accuracy\n",
    "#     accuracy = torch.abs(Zs_test - Z).sum().item() / 2.0\n",
    "#     Accus.append(accuracy)"
   ]
  },
  {
   "cell_type": "code",
   "execution_count": null,
   "metadata": {},
   "outputs": [],
   "source": [
    "# plt.plot(Accus)"
   ]
  },
  {
   "cell_type": "code",
   "execution_count": null,
   "metadata": {},
   "outputs": [],
   "source": [
    "class Encoder(nn.Module):\n",
    "    def __init__(self, num_obs=NUM_OBS,\n",
    "                       num_hidden=NUM_HIDDEN,\n",
    "                       num_latents=NUM_LATENTS):\n",
    "        super(self.__class__, self).__init__()\n",
    "        self.enc_hidden = nn.Sequential(\n",
    "            nn.Linear(num_obs, num_hidden),\n",
    "            nn.Tanh())\n",
    "        self.latent_dir = nn.Sequential(\n",
    "            nn.Linear(num_hidden, num_latents))\n",
    "        \n",
    "    def forward(self, obs, prior, batch_size):\n",
    "        As = torch.zeros((batch_size, K, K))\n",
    "        hidden = self.enc_hidden(obs)\n",
    "        alphas = F.softmax(self.latent_dir(hidden), -1).view(batch_size, T-1, K*K).sum(1).view(batch_size, K, K) + prior\n",
    "        for k in range(K):\n",
    "            As[:, k, :] = Dirichlet(alphas[:, k, :]).sample()\n",
    "        return alphas, As"
   ]
  },
  {
   "cell_type": "code",
   "execution_count": null,
   "metadata": {},
   "outputs": [],
   "source": [
    "def initialize():\n",
    "    enc = Encoder()\n",
    "    if CUDA:\n",
    "        enc.cuda()\n",
    "    optimizer =  torch.optim.Adam(list(enc.parameters()),lr=LEARNING_RATE)    \n",
    "    return enc, optimizer\n",
    "enc, optimizer = initialize()"
   ]
  },
  {
   "cell_type": "code",
   "execution_count": null,
   "metadata": {},
   "outputs": [],
   "source": [
    "EUBOs = []\n",
    "ELBOs = []\n",
    "ESSs = []\n",
    "KLs = []\n",
    "LOSSs = []\n",
    "\n",
    "prior_mcmc = torch.ones((K, K)).float()\n",
    "for k in range(K):\n",
    "    prior_mcmc[k, k] = 2.0\n",
    "\n",
    "Grad_Steps = int((Ys.shape[0] / BATCH_SIZE))\n",
    "for epoch in range(NUM_EPOCHS):\n",
    "#     np.random.shuffle(Ys_Zs)\n",
    "    Ys_shuffled = torch.from_numpy(Ys_Zs[:BATCH_SIZE, :, :2]).float()\n",
    "    Zs_true_shuffled = torch.from_numpy(Ys_Zs[:BATCH_SIZE, :, 2:]).float()\n",
    "    for step in range(Grad_Steps):\n",
    "        time_start = time.time()\n",
    "        optimizer.zero_grad()\n",
    "#         batch_data = Ys_shuffled[step*BATCH_SIZE : (step+1)*BATCH_SIZE]\n",
    "#         batch_zs = Zs_true_shuffled[step*BATCH_SIZE : (step+1)*BATCH_SIZE]\n",
    "        batch_data = Ys_shuffled\n",
    "        batch_zs = Zs_true_shuffled\n",
    "        batch_As = As_true[:BATCH_SIZE]\n",
    "        eubo, elbo, ess, kl = ag_sis_adaptive(enc, prior, prior_mcmc, batch_As, batch_zs, Pi, mu_ks, cov_ks, batch_data, T, D, K, num_particles_rws, num_particles_smc, mcmc_steps, BATCH_SIZE)\n",
    "       \n",
    "        eubo.backward()\n",
    "        optimizer.step()\n",
    "        EUBOs.append(eubo.item())\n",
    "        ELBOs.append(elbo.item())\n",
    "        ESSs.append(ess.item())\n",
    "        KLs.append(kl.item())\n",
    "#         LOSSs.append(loss.item())\n",
    "        time_end = time.time()\n",
    "        print('epoch : %d, step : %d, EUBO : %f, ELBO : %f, KL : %f, ESS : %f (%ds)' % (epoch, step, eubo, elbo, kl, ess, time_end - time_start))"
   ]
  },
  {
   "cell_type": "code",
   "execution_count": null,
   "metadata": {},
   "outputs": [],
   "source": [
    "plot_results(EUBOs, ELBOs, ESSs, KLs, 'results_sis.png')"
   ]
  },
  {
   "cell_type": "code",
   "execution_count": null,
   "metadata": {},
   "outputs": [],
   "source": [
    "Ys_test = torch.from_numpy(Ys_Zs[0, :, :2]).float().unsqueeze(0)\n",
    "Zs_true_test = torch.from_numpy(Ys_Zs[0, :, 2:]).float().unsqueeze(0)"
   ]
  },
  {
   "cell_type": "code",
   "execution_count": null,
   "metadata": {},
   "outputs": [],
   "source": [
    "mcmc_steps = 5\n",
    "\n",
    "log_uptonow_weights = torch.zeros((1, mcmc_steps, num_particles_rws))\n",
    "log_increment_weights = torch.zeros((1, mcmc_steps, num_particles_rws))\n",
    "Zs_candidates = torch.zeros((num_particles_rws, 1, T, K))\n",
    "log_normalizers_candidates = torch.zeros((num_particles_rws, 1))\n",
    "\n",
    "conj_posts = conj_posterior(prior.unsqueeze(0), Zs_true_test, T, K, 1)\n",
    "Z_pairs_true = flatz(Zs_true_test, T, K, 1)\n",
    "\n",
    "batch_As = As_true[:1]\n",
    "\n",
    "\n",
    "for m in range(mcmc_steps):\n",
    "    if m == 0:\n",
    "        for l in range(num_particles_rws):\n",
    "            ## As B * K * K\n",
    "            As = initial_trans(prior, K, 1)\n",
    "            Zs, log_weights, log_normalizers = smc_hmm_batch(Pi, As, mu_ks, cov_ks, Ys_test, T, D, K, num_particles_smc, 1)\n",
    "            ## Z B * T * K\n",
    "            Z = smc_resamplings(Zs, log_weights, 1)\n",
    "            Zs_candidates[l] = Z\n",
    "            log_increment_weights[:, m, l] = log_normalizers\n",
    "            log_uptonow_weights[:, m, l] = log_normalizers\n",
    "            \n",
    "    else:\n",
    "        for l in range(num_particles_rws):\n",
    "            ## z_pairs (B * T-1)-by-(2K)\n",
    "            Z_pairs = flatz(Zs_candidates[l], T, K, 1)\n",
    "            variational, As = enc(Z_pairs, prior, 1)\n",
    "\n",
    "            Zs, log_weights, log_normalizers = smc_hmm_batch(Pi,As, mu_ks, cov_ks, Ys_test, T, D, K, num_particles_smc, 1)\n",
    "            Z = smc_resamplings(Zs, log_weights, 1)\n",
    "            Zs_candidates[l] = Z\n",
    "            \n",
    "            log_ps = log_joints(prior, Z, Pi, As, mu_ks, cov_ks, Ys_test, T, D, K, 1)\n",
    "            log_ps_smc = smc_log_joints(Z, Pi, As, mu_ks, cov_ks, Ys_test, T, D, K, 1)\n",
    "            log_increment_weights[:, m, l] =  log_ps.detach() + log_normalizers - log_qs(variational, As) - log_ps_smc.detach()\n",
    "            log_uptonow_weights[:, m, l] = log_uptonow_weights[:, m-1, l] + log_increment_weights[:, m, l]\n",
    "            \n",
    "variational_true, As_notusing = enc(Z_pairs_true, prior, 1)\n",
    "kls = log_qs(conj_posts, As_true[0].unsqueeze(0)) - log_qs(variational_true, As_true[0].unsqueeze(0))\n",
    "\n",
    "log_final_weights = log_increment_weights[:, -1, :]\n",
    "weights_rws = torch.exp(log_final_weights - logsumexp(log_final_weights, dim=1).unsqueeze(1)).detach()\n",
    "uptonow_weights = torch.exp(log_uptonow_weights - logsumexp(log_uptonow_weights, dim=-1).unsqueeze(-1)).detach()\n",
    "\n",
    "log_overall_weights = log_uptonow_weights[:, -1, :]\n",
    "\n",
    "ess = (1. / (weights_rws ** 2 ).sum(1)).mean()\n",
    "eubos = torch.mul(weights_rws, log_final_weights).sum(1)\n",
    "#     elbos =  log_overall_weights.mean(-1)\n",
    "elbos2 = log_final_weights.mean(-1)"
   ]
  },
  {
   "cell_type": "code",
   "execution_count": null,
   "metadata": {},
   "outputs": [],
   "source": [
    "plot_results(EUBOs, ELBOs, ESSs, KLs, 'filename.png')"
   ]
  },
  {
   "cell_type": "code",
   "execution_count": null,
   "metadata": {},
   "outputs": [],
   "source": [
    "torch.abs(Zs_candidates.squeeze(1) - Zs_true_test).sum(1).sum(1)"
   ]
  },
  {
   "cell_type": "code",
   "execution_count": null,
   "metadata": {},
   "outputs": [],
   "source": [
    "variational_true, As_notusing = enc(Z_pairs_true, prior, 1)\n",
    "kls = log_qs(conj_posts, As_true[0].unsqueeze(0)) - log_qs(variational_true, As_true[0].unsqueeze(0))"
   ]
  },
  {
   "cell_type": "code",
   "execution_count": null,
   "metadata": {},
   "outputs": [],
   "source": [
    "kls"
   ]
  },
  {
   "cell_type": "code",
   "execution_count": null,
   "metadata": {},
   "outputs": [],
   "source": []
  }
 ],
 "metadata": {
  "kernelspec": {
   "display_name": "Python 3",
   "language": "python",
   "name": "python3"
  },
  "language_info": {
   "codemirror_mode": {
    "name": "ipython",
    "version": 3
   },
   "file_extension": ".py",
   "mimetype": "text/x-python",
   "name": "python",
   "nbconvert_exporter": "python",
   "pygments_lexer": "ipython3",
   "version": "3.6.7"
  }
 },
 "nbformat": 4,
 "nbformat_minor": 2
}
