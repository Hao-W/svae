{
 "cells": [
  {
   "cell_type": "code",
   "execution_count": 1,
   "metadata": {},
   "outputs": [
    {
     "name": "stdout",
     "output_type": "stream",
     "text": [
      "probtorch: 0.0+5a2c637 torch: 1.0.0 cuda: True\n"
     ]
    }
   ],
   "source": [
    "%matplotlib inline\n",
    "import numpy as np\n",
    "import torch.nn as nn\n",
    "import torch.nn.functional as F\n",
    "import matplotlib.pyplot as plt\n",
    "from data import *\n",
    "from objectives import *\n",
    "from plots import *\n",
    "import sys\n",
    "import time\n",
    "import datetime\n",
    "sys.path.append('/home/hao/Research/probtorch/')\n",
    "from torch.distributions.uniform import Uniform\n",
    "from torch.distributions.normal import Normal\n",
    "import probtorch\n",
    "from probtorch.util import expand_inputs\n",
    "\n",
    "print('probtorch:', probtorch.__version__, \n",
    "      'torch:', torch.__version__, \n",
    "      'cuda:', torch.cuda.is_available())"
   ]
  },
  {
   "cell_type": "code",
   "execution_count": null,
   "metadata": {},
   "outputs": [],
   "source": [
    "T = 50\n",
    "D = 4\n",
    "NUM_OBS = 2 * D\n",
    "NUM_SAMPLES = 10\n",
    "## Model Parameters\n",
    "NUM_HIDDEN = 64\n",
    "NUM_LATENT = D \n",
    "BATCH_SIZE = 20\n",
    "NUM_EPOCHS = 100\n",
    "LEARNING_RATE = 1e-3\n",
    "CUDA = torch.cuda.is_available()"
   ]
  },
  {
   "cell_type": "code",
   "execution_count": null,
   "metadata": {},
   "outputs": [],
   "source": [
    "Ys = np.load('signals/sequences.npy')"
   ]
  },
  {
   "cell_type": "code",
   "execution_count": null,
   "metadata": {},
   "outputs": [],
   "source": [
    "class Encoder(nn.Module):\n",
    "    def __init__(self, num_obs=NUM_OBS,\n",
    "                       num_hidden=NUM_HIDDEN,\n",
    "                       num_latents=NUM_LATENT):\n",
    "        super(self.__class__, self).__init__()\n",
    "        self.enc_hidden = nn.Sequential(\n",
    "            nn.Linear(num_obs, num_hidden),\n",
    "            nn.Tanh())\n",
    "        self.latent_mean = nn.Sequential(\n",
    "            nn.Linear(num_hidden, num_latents))\n",
    "        self.latent_log_std = nn.Sequential(\n",
    "            nn.Linear(num_hidden, num_latents))\n",
    "        \n",
    "    def forward(self, obs, batch_size):\n",
    "        hidden = self.enc_hidden(obs)\n",
    "        mean = self.latent_mean(hidden).view(batch_size, T-1, D).sum(1).view(batch_size, D)\n",
    "        std = torch.exp(self.latent_log_std(hidden).view(batch_size, T-1, D).sum(1).view(batch_size, D))\n",
    "        return mean, std"
   ]
  },
  {
   "cell_type": "code",
   "execution_count": null,
   "metadata": {},
   "outputs": [],
   "source": [
    "def initialize():\n",
    "    enc = Encoder()\n",
    "    if CUDA:\n",
    "        enc.cuda()\n",
    "    optimizer =  torch.optim.Adam(list(enc.parameters()),lr=LEARNING_RATE)    \n",
    "    return enc, optimizer\n",
    "enc, optimizer = initialize()"
   ]
  },
  {
   "cell_type": "code",
   "execution_count": null,
   "metadata": {},
   "outputs": [],
   "source": [
    "def log_ps_lds(As, data, num_samples, T, D, batch_size):\n",
    "    ## As_expanded is SB-D-D\n",
    "    cov_noise = (torch.ones(D) * (0.02 ** 2)).cuda()\n",
    "    ## As S-B-D\n",
    "    log_p = torch.zeros((num_samples, batch_size)).cuda()\n",
    "    x0 = data[:, 0, :].unsqueeze(0).repeat(num_samples, 1, 1)\n",
    "    log_p = log_p + Uniform((torch.ones(D)*(-1)).cuda(), torch.ones(D).cuda()).log_prob(x0).sum(-1)\n",
    "    for t in range(T-1):\n",
    "        ## S-B-D\n",
    "        xt = data[:, t, :].unsqueeze(0).repeat(num_samples, 1, 1)\n",
    "        xtp1 = data[:, t+1, :].unsqueeze(0).repeat(num_samples, 1, 1)\n",
    "        mus = torch.mul(As, xt)\n",
    "        log_p = log_p + Normal(mus, cov_noise).log_prob(xtp1).sum(-1)\n",
    "    return log_p"
   ]
  },
  {
   "cell_type": "code",
   "execution_count": null,
   "metadata": {},
   "outputs": [],
   "source": [
    "Grad_Steps = int((Ys.shape[0] / BATCH_SIZE))\n",
    "\n",
    "for epoch in range(NUM_EPOCHS):\n",
    "    np.random.shuffle(Ys)\n",
    "    for steps in range(Grad_Steps):\n",
    "        time_start = time.time()\n",
    "        batch = torch.from_numpy(Ys[:BATCH_SIZE, :, :]).float()\n",
    "        batch_flat = torch.cat((batch[:, :T-1, :].unsqueeze(2), batch[:, 1:, :].unsqueeze(2)), 2).view(BATCH_SIZE * (T-1), 2*D)\n",
    "        batch_flat = batch_flat.cuda()\n",
    "        batch = batch.cuda()\n",
    "        optimizer.zero_grad()\n",
    "        mean, std = enc(batch_flat, BATCH_SIZE)\n",
    "        epsilons = Normal(torch.zeros(D), torch.ones(D)).sample((NUM_SAMPLES, BATCH_SIZE)).cuda()\n",
    "        As = (torch.mul(epsilons, std.unsqueeze(0).repeat(NUM_SAMPLES, 1, 1)) + mean.unsqueeze(0).repeat(NUM_SAMPLES, 1, 1)).detach()\n",
    "        log_q_As = Normal(mean, std).log_prob(As).sum(-1)\n",
    "        prior_mean = torch.zeros(D).cuda()\n",
    "        prior_std = torch.ones(D).cuda()\n",
    "        log_p_As = Normal(prior_mean, prior_std).log_prob(As).sum(-1)\n",
    "        log_p_xs = log_ps_lds(As, batch, NUM_SAMPLES, T, D, BATCH_SIZE)\n",
    "        elbo = (log_p_xs.detach() + log_p_As.detach() - log_q_As).mean(0).mean(0)\n",
    "        loss = -elbo\n",
    "        loss.backward()\n",
    "        optimizer.step()\n",
    "        time_end = time.time()\n",
    "        print('epoch : %d, ELBO : %f (%ds)' % (epoch, elbo, time_end - time_start))"
   ]
  },
  {
   "cell_type": "code",
   "execution_count": null,
   "metadata": {},
   "outputs": [],
   "source": [
    "elbo"
   ]
  },
  {
   "cell_type": "code",
   "execution_count": null,
   "metadata": {},
   "outputs": [],
   "source": [
    "plot_results(EUBOs, ELBOs, ESSs, KLs, 'results_sis.png')"
   ]
  },
  {
   "cell_type": "code",
   "execution_count": 2,
   "metadata": {},
   "outputs": [
    {
     "data": {
      "text/plain": [
       "array([1.81194319, 1.62139272, 1.59213494])"
      ]
     },
     "execution_count": 2,
     "metadata": {},
     "output_type": "execute_result"
    }
   ],
   "source": [
    "np.random.uniform(1, 2, 3)"
   ]
  },
  {
   "cell_type": "code",
   "execution_count": null,
   "metadata": {},
   "outputs": [],
   "source": [
    "x0"
   ]
  },
  {
   "cell_type": "code",
   "execution_count": null,
   "metadata": {},
   "outputs": [],
   "source": []
  }
 ],
 "metadata": {
  "kernelspec": {
   "display_name": "Python 3",
   "language": "python",
   "name": "python3"
  },
  "language_info": {
   "codemirror_mode": {
    "name": "ipython",
    "version": 3
   },
   "file_extension": ".py",
   "mimetype": "text/x-python",
   "name": "python",
   "nbconvert_exporter": "python",
   "pygments_lexer": "ipython3",
   "version": "3.6.7"
  }
 },
 "nbformat": 4,
 "nbformat_minor": 2
}
