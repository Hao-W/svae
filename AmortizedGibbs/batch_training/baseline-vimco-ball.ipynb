{
 "cells": [
  {
   "cell_type": "code",
   "execution_count": 1,
   "metadata": {},
   "outputs": [
    {
     "name": "stdout",
     "output_type": "stream",
     "text": [
      "probtorch: 0.0+5a2c637 torch: 1.0.0 cuda: True\n"
     ]
    }
   ],
   "source": [
    "%matplotlib inline\n",
    "import numpy as np\n",
    "import torch.nn as nn\n",
    "import torch.nn.functional as F\n",
    "import matplotlib.pyplot as plt\n",
    "from data import *\n",
    "from vimco import *\n",
    "from plots import *\n",
    "from torch.distributions.dirichlet import Dirichlet\n",
    "import sys\n",
    "import time\n",
    "import datetime\n",
    "sys.path.append('/home/hao/Research/probtorch/')\n",
    "import probtorch\n",
    "print('probtorch:', probtorch.__version__, \n",
    "      'torch:', torch.__version__, \n",
    "      'cuda:', torch.cuda.is_available())"
   ]
  },
  {
   "cell_type": "code",
   "execution_count": 2,
   "metadata": {},
   "outputs": [],
   "source": [
    "T = 50\n",
    "K = 4\n",
    "D = 2\n",
    "\n",
    "## Model Parameters\n",
    "num_samples = 20\n",
    "num_particles_smc = 100\n",
    "NUM_HIDDEN = 64\n",
    "NUM_LATENTS = K*K\n",
    "NUM_OBS = 2 * D\n",
    "BATCH_SIZE = 20\n",
    "NUM_EPOCHS = 1000\n",
    "LEARNING_RATE = 1e-3\n",
    "CUDA = False\n",
    "RESTORE = False\n",
    "# PATH_ENC = \"stepwise_enc-%drws-%dmcmc-%dsmc-enc-%s\" % (num_particles_rws, mcmc_steps, num_particles_smc, datetime.datetime.fromtimestamp(time.time()).strftime('%Y-%m-%d %H:%M:%S'))"
   ]
  },
  {
   "cell_type": "code",
   "execution_count": 3,
   "metadata": {},
   "outputs": [],
   "source": [
    "Ys = np.load('dataset/sequences.npy')\n",
    "As_true = torch.from_numpy(np.load('dataset/transitions.npy')).float()\n",
    "Zs_true = np.load('dataset/states.npy')\n",
    "mu_ks = torch.from_numpy(np.load('dataset/means.npy')).float()\n",
    "cov_ks = torch.from_numpy(np.load('dataset/covariances.npy')).float()\n",
    "Pi = torch.from_numpy(np.load('dataset/init.npy')).float()\n",
    "\n",
    "prior = initial_trans_prior(K)\n",
    "\n",
    "Ys_Zs = np.concatenate((Ys, Zs_true), axis=-1)"
   ]
  },
  {
   "cell_type": "code",
   "execution_count": 4,
   "metadata": {},
   "outputs": [],
   "source": [
    "class Encoder(nn.Module):\n",
    "    def __init__(self, num_obs=NUM_OBS,\n",
    "                       num_hidden=NUM_HIDDEN,\n",
    "                       num_latents=NUM_LATENTS):\n",
    "        super(self.__class__, self).__init__()\n",
    "        self.enc_hidden = nn.Sequential(\n",
    "            nn.Linear(num_obs, num_hidden),\n",
    "            nn.Tanh())\n",
    "        self.latent_dir = nn.Sequential(\n",
    "            nn.Linear(num_hidden, num_latents))\n",
    "        \n",
    "    def forward(self, obs, prior, batch_size):\n",
    "        As = torch.zeros((batch_size, K, K))\n",
    "        hidden = self.enc_hidden(obs)\n",
    "        alphas = F.softmax(self.latent_dir(hidden), -1).view(batch_size, T-1, K*K).sum(1).view(batch_size, K, K) + prior\n",
    "        for k in range(K):\n",
    "            As[:, k, :] = Dirichlet(alphas[:, k, :]).sample()\n",
    "        return alphas, As"
   ]
  },
  {
   "cell_type": "code",
   "execution_count": 8,
   "metadata": {},
   "outputs": [],
   "source": [
    "def initialize():\n",
    "    enc = Encoder()\n",
    "    if CUDA:\n",
    "        enc.cuda()\n",
    "    optimizer =  torch.optim.Adam(list(enc.parameters()),lr=LEARNING_RATE)    \n",
    "    return enc, optimizer\n",
    "enc, optimizer = initialize()"
   ]
  },
  {
   "cell_type": "code",
   "execution_count": 9,
   "metadata": {},
   "outputs": [],
   "source": [
    "ELBOs = []\n",
    "ESSs = []\n",
    "KLs = []\n",
    "Grads = []\n",
    "\n",
    "prior_mcmc = torch.ones((K, K)).float()\n",
    "for k in range(K):\n",
    "    prior_mcmc[k, k] = 2.0\n",
    "    \n",
    "Grad_Steps = int((Ys.shape[0] / BATCH_SIZE))\n",
    "for epoch in range(NUM_EPOCHS):\n",
    "    np.random.shuffle(Ys_Zs)\n",
    "    Ys_shuffled = torch.from_numpy(Ys_Zs[:, :, :2]).float()\n",
    "    Zs_true_shuffled = torch.from_numpy(Ys_Zs[:, :, 2:]).float()\n",
    "    for step in range(Grad_Steps):\n",
    "        time_start = time.time()\n",
    "        optimizer.zero_grad()\n",
    "#         batch_data = Ys_shuffled\n",
    "#         batch_zs = Zs_true_shuffled\n",
    "        batch_data = Ys_shuffled[step*BATCH_SIZE : (step+1)*BATCH_SIZE]\n",
    "        batch_zs = Zs_true_shuffled[step*BATCH_SIZE : (step+1)*BATCH_SIZE]\n",
    "#         batch_As = As_true[:BATCH_SIZE]\n",
    "#         gradient, elbo, ess, kl = ag_mcmc_vimco(enc, prior, prior_mcmc, batch_zs, Pi, mu_ks, cov_ks, batch_data, T, D, K, num_samples, num_particles_smc, mcmc_steps, BATCH_SIZE)\n",
    "#         loss = - gradient\n",
    "#         loss.backward()\n",
    "#         optimizer.step()\n",
    "#         ELBOs.append(elbo.item())\n",
    "#         ESSs.append(ess.item())\n",
    "#         KLs.append(kl.item())\n",
    "#         Grads.append(loss.item())\n",
    "#         time_end = time.time()\n",
    "#         print('epoch : %d, step : %d, ELBO : %f, KL : %f (%ds)' % (epoch, step, elbo, kl, time_end - time_start))"
   ]
  },
  {
   "cell_type": "code",
   "execution_count": 11,
   "metadata": {},
   "outputs": [],
   "source": [
    "Z_pairs_true = flatz(batch_zs, T, K, BATCH_SIZE)"
   ]
  },
  {
   "cell_type": "code",
   "execution_count": 13,
   "metadata": {},
   "outputs": [],
   "source": [
    "variational_new, As_notusing = enc(Z_pairs_true, prior_mcmc, BATCH_SIZE)"
   ]
  },
  {
   "cell_type": "code",
   "execution_count": 18,
   "metadata": {},
   "outputs": [],
   "source": [
    "hidden = enc.enc_hidden(Z_pairs_true)\n",
    "alphas = F.softmax(enc.latent_dir(hidden), -1).view(BATCH_SIZE, T-1, K*K).sum(1).view(BATCH_SIZE, K, K) + prior"
   ]
  },
  {
   "cell_type": "code",
   "execution_count": 20,
   "metadata": {},
   "outputs": [
    {
     "data": {
      "text/plain": [
       "tensor([[0.5570, 0.1388, 0.3042],\n",
       "        [0.6438, 0.1909, 0.1652],\n",
       "        [0.6278, 0.2709, 0.1013],\n",
       "        [0.4039, 0.3735, 0.2226],\n",
       "        [0.3093, 0.4136, 0.2770],\n",
       "        [0.2902, 0.1720, 0.5378],\n",
       "        [0.5810, 0.3837, 0.0353],\n",
       "        [0.3962, 0.3567, 0.2472],\n",
       "        [0.2537, 0.6450, 0.1013],\n",
       "        [0.5471, 0.3459, 0.1070],\n",
       "        [0.4156, 0.3854, 0.1989],\n",
       "        [0.3869, 0.2875, 0.3256],\n",
       "        [0.3625, 0.4143, 0.2232],\n",
       "        [0.5628, 0.1495, 0.2878],\n",
       "        [0.3259, 0.4018, 0.2723],\n",
       "        [0.5278, 0.2365, 0.2357],\n",
       "        [0.5634, 0.2044, 0.2322],\n",
       "        [0.4361, 0.1766, 0.3873],\n",
       "        [0.6356, 0.1236, 0.2409],\n",
       "        [0.3140, 0.2250, 0.4610],\n",
       "        [0.6709, 0.1881, 0.1410],\n",
       "        [0.3744, 0.4301, 0.1954],\n",
       "        [0.6564, 0.0670, 0.2766],\n",
       "        [0.5846, 0.3144, 0.1010],\n",
       "        [0.6007, 0.1655, 0.2338],\n",
       "        [0.4873, 0.4506, 0.0621],\n",
       "        [0.3577, 0.3285, 0.3138],\n",
       "        [0.5828, 0.3269, 0.0903],\n",
       "        [0.5137, 0.1154, 0.3709],\n",
       "        [0.4937, 0.0511, 0.4552],\n",
       "        [0.3311, 0.3153, 0.3536],\n",
       "        [0.4566, 0.3266, 0.2168],\n",
       "        [0.5463, 0.2820, 0.1716],\n",
       "        [0.3951, 0.2879, 0.3170],\n",
       "        [0.5762, 0.3608, 0.0630],\n",
       "        [0.6590, 0.1606, 0.1804],\n",
       "        [0.2184, 0.2338, 0.5479],\n",
       "        [0.2642, 0.3614, 0.3744],\n",
       "        [0.4209, 0.2762, 0.3029],\n",
       "        [0.4171, 0.1264, 0.4566],\n",
       "        [0.7459, 0.0845, 0.1695],\n",
       "        [0.6418, 0.0708, 0.2874],\n",
       "        [0.5466, 0.0571, 0.3963],\n",
       "        [0.4922, 0.2271, 0.2807],\n",
       "        [0.5355, 0.1684, 0.2961],\n",
       "        [0.3903, 0.2954, 0.3143],\n",
       "        [0.6304, 0.2181, 0.1515],\n",
       "        [0.7019, 0.2221, 0.0760],\n",
       "        [0.4528, 0.3950, 0.1522],\n",
       "        [0.3009, 0.2884, 0.4107]])"
      ]
     },
     "execution_count": 20,
     "metadata": {},
     "output_type": "execute_result"
    }
   ],
   "source": [
    "Dirichlet(alphas[:, 0, :]).sample()"
   ]
  },
  {
   "cell_type": "code",
   "execution_count": null,
   "metadata": {},
   "outputs": [],
   "source": []
  }
 ],
 "metadata": {
  "kernelspec": {
   "display_name": "Python 3",
   "language": "python",
   "name": "python3"
  },
  "language_info": {
   "codemirror_mode": {
    "name": "ipython",
    "version": 3
   },
   "file_extension": ".py",
   "mimetype": "text/x-python",
   "name": "python",
   "nbconvert_exporter": "python",
   "pygments_lexer": "ipython3",
   "version": "3.6.7"
  }
 },
 "nbformat": 4,
 "nbformat_minor": 2
}
