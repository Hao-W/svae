{
 "cells": [
  {
   "cell_type": "code",
   "execution_count": 1,
   "metadata": {},
   "outputs": [
    {
     "name": "stdout",
     "output_type": "stream",
     "text": [
      "probtorch: 0.0+5a2c637 torch: 0.5.0a0+3bb8c5e cuda: True\n"
     ]
    }
   ],
   "source": [
    "%matplotlib inline\n",
    "import numpy as np\n",
    "import torch.nn as nn\n",
    "import torch.nn.functional as F\n",
    "import matplotlib.pyplot as plt\n",
    "from data import *\n",
    "from baseline_smc import *\n",
    "from plots import *\n",
    "from torch.distributions.dirichlet import Dirichlet\n",
    "import sys\n",
    "import time\n",
    "import datetime\n",
    "sys.path.append('/home/hao/Research/probtorch/')\n",
    "import probtorch\n",
    "print('probtorch:', probtorch.__version__, \n",
    "      'torch:', torch.__version__, \n",
    "      'cuda:', torch.cuda.is_available())"
   ]
  },
  {
   "cell_type": "code",
   "execution_count": 2,
   "metadata": {},
   "outputs": [],
   "source": [
    "T = 50\n",
    "K = 3\n",
    "D = 2\n",
    "\n",
    "## Model Parameters\n",
    "num_particles = 50\n",
    "num_particles_smc = 30\n",
    "NUM_HIDDEN = 32\n",
    "NUM_LATENTS = K*K\n",
    "NUM_OBS = 2 * D\n",
    "\n",
    "NUM_EPOCHS = 100\n",
    "LEARNING_RATE = 1e-3\n",
    "CUDA = False\n",
    "RESTORE = False\n",
    "PATH_ENC = \"hmm-smc-%dIS-enc-%s\" % (num_particles, datetime.datetime.fromtimestamp(time.time()).strftime('%Y-%m-%d %H:%M:%S'))"
   ]
  },
  {
   "cell_type": "code",
   "execution_count": 3,
   "metadata": {},
   "outputs": [],
   "source": [
    "Ys_array = np.load('sequences.npy')[:200]\n",
    "As_true = torch.from_numpy(np.load('transitions.npy')).float()\n",
    "Zs_true = torch.from_numpy(np.load('states.npy')).float()\n",
    "mu_ks = torch.from_numpy(np.load('means.npy')).float()\n",
    "cov_ks = torch.from_numpy(np.load('covariances.npy')).float()\n",
    "Pi = torch.from_numpy(np.load('init.npy')).float()\n",
    "alpha_trans_0 = initial_trans_prior(K)\n",
    "Grad_Steps = Ys_array.shape[0]"
   ]
  },
  {
   "cell_type": "code",
   "execution_count": 4,
   "metadata": {},
   "outputs": [],
   "source": [
    "class Encoder(nn.Module):\n",
    "    def __init__(self, num_obs=NUM_OBS,\n",
    "                       num_hidden=NUM_HIDDEN,\n",
    "                       num_latents=NUM_LATENTS):\n",
    "        super(self.__class__, self).__init__()\n",
    "        self.enc_hidden = nn.Sequential(\n",
    "            nn.Linear(num_obs, num_hidden),\n",
    "            nn.Tanh())\n",
    "        self.latent_dir = nn.Sequential(\n",
    "            nn.Linear(num_hidden, num_latents))\n",
    "        \n",
    "    def forward(self, obs, prior):\n",
    "        A_sample = torch.zeros((K, K))\n",
    "        hidden = self.enc_hidden(obs)\n",
    "        variational = F.softmax(self.latent_dir(hidden), -1).sum(0).view(K, K) + prior\n",
    "        for k in range(K):\n",
    "            A_sample[k] = Dirichlet(variational[k]).sample()\n",
    "        return variational, A_sample"
   ]
  },
  {
   "cell_type": "code",
   "execution_count": 5,
   "metadata": {},
   "outputs": [],
   "source": [
    "def initialize():\n",
    "    enc = Encoder()\n",
    "    if CUDA:\n",
    "        enc.cuda()\n",
    "    optimizer =  torch.optim.Adam(list(enc.parameters()),lr=LEARNING_RATE)    \n",
    "    return enc, optimizer\n",
    "enc, optimizer = initialize()"
   ]
  },
  {
   "cell_type": "code",
   "execution_count": null,
   "metadata": {},
   "outputs": [
    {
     "name": "stdout",
     "output_type": "stream",
     "text": [
      "epoch : 0, eubo : -42780.136719, elbo : -45807.843750 (861s)\n",
      "epoch : 1, eubo : -42610.285156, elbo : -46189.593750 (860s)\n",
      "epoch : 2, eubo : -42572.484375, elbo : -46112.382812 (841s)\n",
      "epoch : 3, eubo : -42556.699219, elbo : -46079.984375 (839s)\n",
      "epoch : 4, eubo : -42562.535156, elbo : -46032.488281 (839s)\n",
      "epoch : 5, eubo : -42563.218750, elbo : -46069.605469 (842s)\n",
      "epoch : 6, eubo : -42512.800781, elbo : -46416.437500 (842s)\n",
      "epoch : 7, eubo : -42539.101562, elbo : -46120.394531 (843s)\n",
      "epoch : 8, eubo : -42514.054688, elbo : -46259.667969 (838s)\n",
      "epoch : 9, eubo : -42583.367188, elbo : -45801.718750 (832s)\n",
      "epoch : 10, eubo : -42506.628906, elbo : -45881.664062 (840s)\n",
      "epoch : 11, eubo : -42507.261719, elbo : -46109.273438 (846s)\n",
      "epoch : 12, eubo : -42507.707031, elbo : -46060.167969 (845s)\n",
      "epoch : 13, eubo : -42492.980469, elbo : -46012.851562 (864s)\n",
      "epoch : 14, eubo : -42513.484375, elbo : -45877.625000 (854s)\n",
      "epoch : 15, eubo : -42485.421875, elbo : -46013.500000 (900s)\n",
      "epoch : 16, eubo : -42511.781250, elbo : -45903.839844 (859s)\n"
     ]
    }
   ],
   "source": [
    "KLs = []\n",
    "EUBOs = []\n",
    "ESSs = []\n",
    "ELBOs = []\n",
    "for epoch in range(NUM_EPOCHS):\n",
    "    time_start = time.time()\n",
    "    np.random.shuffle(Ys_array)\n",
    "    Ys = torch.from_numpy(Ys_array).float()\n",
    "    ave_elbo = 0.0\n",
    "    ave_eubo = 0.0\n",
    "    for n in range(Grad_Steps):\n",
    "        optimizer.zero_grad()\n",
    "        eubo, kl, ess, variational, elbo = oneshot_sampling(enc, alpha_trans_0, Pi, mu_ks, cov_ks, Ys[n], T, D, K, num_particles, num_particles_smc)\n",
    "        ave_elbo += elbo\n",
    "        ave_eubo += eubo\n",
    "        eubo.backward()\n",
    "        optimizer.step()\n",
    "        \n",
    "    EUBOs.append(ave_eubo / Grad_Steps)\n",
    "    ELBOs.append(ave_elbo / Grad_Steps)\n",
    "        \n",
    "    time_end = time.time() \n",
    "    print('epoch : %d, eubo : %f, elbo : %f (%ds)' % (epoch, ave_eubo, ave_elbo, time_end - time_start))\n",
    "\n",
    "if RESTORE:\n",
    "    enc.load_state_dict(torch.load(PATH_ENC))\n",
    "else:\n",
    "    torch.save(enc.state_dict(), PATH_ENC)\n",
    "    save_params(EUBOs, ELBOs, PATH_ENC)"
   ]
  },
  {
   "cell_type": "code",
   "execution_count": null,
   "metadata": {},
   "outputs": [],
   "source": [
    "plot_dirs(latents_dirs, alpha_trans_0, Z_true, T, K, vmax=15)"
   ]
  },
  {
   "cell_type": "code",
   "execution_count": null,
   "metadata": {},
   "outputs": [],
   "source": [
    "def plot_results(EUBOs, ELBOs, KLs, ESSs, PATH_ENC):\n",
    "    fig, ax = plt.subplots(figsize=(16, 24))\n",
    "    ax1 = fig.add_subplot(3,1,1)\n",
    "    x = np.arange(len(EUBOs))\n",
    "    ax1.plot(EUBOs, 'r-', label='eubo')\n",
    "    ax1.plot(ELBOs, 'b-', label='elbo')\n",
    "    ax1.legend()\n",
    "    ax1.set_xlabel('epochs')\n",
    "    ax2 = fig.add_subplot(3,1,2)\n",
    "    ax2.plot(KLs, 'g-', label='KL')\n",
    "    ax3 = fig.add_subplot(3, 1, 3)\n",
    "    ax3.plot(np.array(ESSs))\n",
    "    fig.savefig(PATH_ENC + 'results.png')\n",
    "plot_results(EUBOs, ELBOs, KLs, ESSs, PATH_ENC)"
   ]
  },
  {
   "cell_type": "code",
   "execution_count": null,
   "metadata": {},
   "outputs": [],
   "source": [
    "\n",
    "\n",
    "Zs, log_weights, log_normalizer = smc_hmm(Pi, A_true, mu_ks, cov_ks, Y, T, D, K, num_particles_smc)\n",
    "Z_true = resampling_smc(Zs, log_weights)"
   ]
  },
  {
   "cell_type": "code",
   "execution_count": null,
   "metadata": {},
   "outputs": [],
   "source": [
    "accuracy = []\n",
    "for i in range(1000):\n",
    "    alpha_trans_0 = initial_trans_prior(K)\n",
    "    init_v = init_velocity(dt)\n",
    "    T = np.random.randint(T_min, T_max)\n",
    "    STATE, mu_ks, cov_ks, Pi, Y, A_true, Zs_true = generate_seq(T, K, dt, Boundary, init_v, noise_cov)\n",
    "\n",
    "    Y_pairwise = torch.cat((Y[:-1].unsqueeze(0), Y[1:].unsqueeze(0)), 0).transpose(0, 1).contiguous().view(T-1, 2*D)\n",
    "    variational, A_sample = enc(Y_pairwise, alpha_trans_0)\n",
    "    Zs, log_weights, log_normalizer = smc_hmm(Pi, A_sample, mu_ks, cov_ks, Y, T, D, K, num_particles_smc)\n",
    "    Z_ret = resampling_smc(Zs, log_weights)\n",
    "\n",
    "    accuracy.append((Zs_true.nonzero()[:, 1] == Z_ret.nonzero()[:, 1]).sum().float().item() / T)"
   ]
  },
  {
   "cell_type": "code",
   "execution_count": null,
   "metadata": {},
   "outputs": [],
   "source": [
    "fig, ax = plt.subplots(figsize=(16,8))\n",
    "ax1 = fig.add_subplot(1,1,1)\n",
    "ax1.plot(accuracy, 'ro')\n",
    "ax1.set_ylim(0,1)\n",
    "fig.savefig('accuracy_smc_noisy.png')"
   ]
  },
  {
   "cell_type": "code",
   "execution_count": null,
   "metadata": {},
   "outputs": [],
   "source": [
    "torch.Tensor([3]) == torch.Tensor([3])"
   ]
  },
  {
   "cell_type": "code",
   "execution_count": null,
   "metadata": {},
   "outputs": [],
   "source": [
    "accuracy"
   ]
  },
  {
   "cell_type": "code",
   "execution_count": null,
   "metadata": {},
   "outputs": [],
   "source": []
  }
 ],
 "metadata": {
  "kernelspec": {
   "display_name": "Python 3",
   "language": "python",
   "name": "python3"
  },
  "language_info": {
   "codemirror_mode": {
    "name": "ipython",
    "version": 3
   },
   "file_extension": ".py",
   "mimetype": "text/x-python",
   "name": "python",
   "nbconvert_exporter": "python",
   "pygments_lexer": "ipython3",
   "version": "3.6.6"
  }
 },
 "nbformat": 4,
 "nbformat_minor": 2
}
