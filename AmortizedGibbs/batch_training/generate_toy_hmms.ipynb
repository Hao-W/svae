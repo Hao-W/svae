{
 "cells": [
  {
   "cell_type": "code",
   "execution_count": 1,
   "metadata": {},
   "outputs": [],
   "source": [
    "import numpy as np\n",
    "import torch\n",
    "import matplotlib.pyplot as plt\n",
    "%matplotlib inline\n",
    "from gmm_dataset import *\n",
    "from util import *"
   ]
  },
  {
   "cell_type": "code",
   "execution_count": 2,
   "metadata": {},
   "outputs": [
    {
     "name": "stdout",
     "output_type": "stream",
     "text": [
      "0\n"
     ]
    }
   ],
   "source": [
    "T = 25\n",
    "K = 3\n",
    "D = 2\n",
    "num_seqs = 100\n",
    "Ys = np.zeros((num_seqs, T, D))\n",
    "Zs_true = np.zeros((num_seqs, T, K))\n",
    "As_true = np.zeros((num_seqs, K, K))\n",
    "\n",
    "\n",
    "for n in range(num_seqs):\n",
    "    Y, mus_true, covs_true, Z, Pi, A = sampling_hmm(T, K, D)\n",
    "    Ys[n] = Y.data.numpy()\n",
    "    Zs_true[n] = Z.data.numpy()\n",
    "    As_true[n] = A.data.numpy()\n",
    "    if n % 100 == 0:\n",
    "        print(n)"
   ]
  },
  {
   "cell_type": "code",
   "execution_count": 3,
   "metadata": {},
   "outputs": [],
   "source": [
    "np.save('dataset/sequences', Ys)\n",
    "np.save('dataset/transitions', As_true)\n",
    "np.save('dataset/states', Zs_true)\n",
    "np.save('dataset/means', mus_true.data.numpy())\n",
    "np.save('dataset/covariances', covs_true.data.numpy())\n",
    "np.save('dataset/init', Pi.data.numpy())"
   ]
  },
  {
   "cell_type": "code",
   "execution_count": null,
   "metadata": {},
   "outputs": [],
   "source": [
    "# T = 30\n",
    "# K = 3\n",
    "# D = 2\n",
    "\n",
    "# fig, ax = plt.subplots(figsize=(4,20))\n",
    "# ax.set_xticks([])\n",
    "# ax.set_yticks([])\n",
    "# Xs, mus_true, covs_true, Z, Pi, A = sampling_hmm(T, K, D)\n",
    "# Xs = Xs.data.numpy()\n",
    "# mus_true = mus_true.data.numpy()\n",
    "# covs_true = covs_true.numpy()\n",
    "# ax1 = fig.add_subplot(5,1,1)\n",
    "# # ax1.set_xlim(-5, 15)\n",
    "# # ax1.set_ylim(-5, 15)\n",
    "# ax1.plot(Xs[:,0], Xs[:,1], 'ro')\n",
    "# plot_cov_ellipse(cov=covs_true[0], pos=mus_true[0], nstd=2, ax=ax1, alpha=0.5)\n",
    "# plot_cov_ellipse(cov=covs_true[1], pos=mus_true[1], nstd=2, ax=ax1, alpha=0.5)\n",
    "# plot_cov_ellipse(cov=covs_true[2], pos=mus_true[2], nstd=2, ax=ax1, alpha=0.5)\n",
    "\n",
    "# Xs, mus_true, covs_true, Z, Pi, A = sampling_hmm(T, K, D)\n",
    "# Xs = Xs.data.numpy()\n",
    "# mus_true = mus_true.data.numpy()\n",
    "# covs_true = covs_true.numpy()\n",
    "# ax2 = fig.add_subplot(5,1,2)\n",
    "# # ax2.set_xlim(-5, 15)\n",
    "# # ax2.set_ylim(-5, 15)\n",
    "# ax2.plot(Xs[:,0], Xs[:,1], 'ro')\n",
    "\n",
    "# plot_cov_ellipse(cov=covs_true[0], pos=mus_true[0], nstd=2, ax=ax2, alpha=0.5)\n",
    "# plot_cov_ellipse(cov=covs_true[1], pos=mus_true[1], nstd=2, ax=ax2, alpha=0.5)\n",
    "# plot_cov_ellipse(cov=covs_true[2], pos=mus_true[2], nstd=2, ax=ax2, alpha=0.5)\n",
    "\n",
    "# Xs, mus_true, covs_true, Z, Pi, A = sampling_hmm(T, K, D)\n",
    "# Xs = Xs.data.numpy()\n",
    "# mus_true = mus_true.data.numpy()\n",
    "# covs_true = covs_true.numpy()\n",
    "# ax3 = fig.add_subplot(5,1,3)\n",
    "# ax3.set_xlim(-5, 15)\n",
    "# ax3.set_ylim(-5, 15)\n",
    "# ax3.plot(Xs[:,0], Xs[:,1], 'ro')\n",
    "\n",
    "# plot_cov_ellipse(cov=covs_true[0], pos=mus_true[0], nstd=2, ax=ax3, alpha=0.5)\n",
    "# plot_cov_ellipse(cov=covs_true[1], pos=mus_true[1], nstd=2, ax=ax3, alpha=0.5)\n",
    "# plot_cov_ellipse(cov=covs_true[2], pos=mus_true[2], nstd=2, ax=ax3, alpha=0.5)\n",
    "\n",
    "# Xs, mus_true, covs_true, Z, Pi, A = sampling_hmm(T, K, D)\n",
    "# Xs = Xs.data.numpy()\n",
    "# mus_true = mus_true.data.numpy()\n",
    "# covs_true = covs_true.numpy()\n",
    "# ax4 = fig.add_subplot(5,1,4)\n",
    "# ax4.set_xlim(-5, 15)\n",
    "# ax4.set_ylim(-5, 15)\n",
    "# ax4.plot(Xs[:,0], Xs[:,1], 'ro')\n",
    "\n",
    "# plot_cov_ellipse(cov=covs_true[0], pos=mus_true[0], nstd=2, ax=ax4, alpha=0.5)\n",
    "# plot_cov_ellipse(cov=covs_true[1], pos=mus_true[1], nstd=2, ax=ax4, alpha=0.5)\n",
    "# plot_cov_ellipse(cov=covs_true[2], pos=mus_true[2], nstd=2, ax=ax4, alpha=0.5)\n",
    "\n",
    "# Xs, mus_true, covs_true, Z, Pi, A = sampling_hmm(T, K, D)\n",
    "# Xs = Xs.data.numpy()\n",
    "# mus_true = mus_true.data.numpy()\n",
    "# covs_true = covs_true.numpy()\n",
    "# ax5 = fig.add_subplot(5,1,5)\n",
    "# ax5.set_xlim(-5, 15)\n",
    "# ax5.set_ylim(-5, 15)\n",
    "# ax5.plot(Xs[:,0], Xs[:,1], 'ro')\n",
    "\n",
    "plot_cov_ellipse(cov=covs_true[0], pos=mus_true[0], nstd=2, ax=ax5, alpha=0.5)\n",
    "plot_cov_ellipse(cov=covs_true[1], pos=mus_true[1], nstd=2, ax=ax5, alpha=0.5)\n",
    "plot_cov_ellipse(cov=covs_true[2], pos=mus_true[2], nstd=2, ax=ax5, alpha=0.5)\n",
    "\n",
    "\n",
    "plt.savefig('hmm_dataset_samplse.png')"
   ]
  },
  {
   "cell_type": "code",
   "execution_count": null,
   "metadata": {},
   "outputs": [],
   "source": [
    "plot_samples(Y, mus_true, covs_true)"
   ]
  },
  {
   "cell_type": "code",
   "execution_count": null,
   "metadata": {},
   "outputs": [],
   "source": [
    "prior = initial_trans_prior(K)\n",
    "Dirichlet(prior).sample()"
   ]
  },
  {
   "cell_type": "code",
   "execution_count": null,
   "metadata": {},
   "outputs": [],
   "source": []
  },
  {
   "cell_type": "code",
   "execution_count": null,
   "metadata": {},
   "outputs": [],
   "source": []
  }
 ],
 "metadata": {
  "kernelspec": {
   "display_name": "Python 3",
   "language": "python",
   "name": "python3"
  },
  "language_info": {
   "codemirror_mode": {
    "name": "ipython",
    "version": 3
   },
   "file_extension": ".py",
   "mimetype": "text/x-python",
   "name": "python",
   "nbconvert_exporter": "python",
   "pygments_lexer": "ipython3",
   "version": "3.6.6"
  }
 },
 "nbformat": 4,
 "nbformat_minor": 2
}
