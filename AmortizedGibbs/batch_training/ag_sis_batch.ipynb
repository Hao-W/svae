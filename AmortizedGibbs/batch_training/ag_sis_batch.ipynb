{
 "cells": [
  {
   "cell_type": "code",
   "execution_count": 1,
   "metadata": {},
   "outputs": [
    {
     "name": "stdout",
     "output_type": "stream",
     "text": [
      "probtorch: 0.0+5a2c637 torch: 0.5.0a0+3bb8c5e cuda: True\n"
     ]
    }
   ],
   "source": [
    "%matplotlib inline\n",
    "import numpy as np\n",
    "import torch.nn as nn\n",
    "import torch.nn.functional as F\n",
    "import matplotlib.pyplot as plt\n",
    "from data import *\n",
    "from objectives import *\n",
    "from plots import *\n",
    "from torch.distributions.dirichlet import Dirichlet\n",
    "import sys\n",
    "import time\n",
    "import datetime\n",
    "sys.path.append('/home/hao/Research/probtorch/')\n",
    "import probtorch\n",
    "print('probtorch:', probtorch.__version__, \n",
    "      'torch:', torch.__version__, \n",
    "      'cuda:', torch.cuda.is_available())"
   ]
  },
  {
   "cell_type": "code",
   "execution_count": 2,
   "metadata": {},
   "outputs": [],
   "source": [
    "T = 30\n",
    "K = 3\n",
    "D = 2\n",
    "\n",
    "## Model Parameters\n",
    "num_particles_rws = 15\n",
    "mcmc_steps = 4\n",
    "num_particles_smc = 30\n",
    "NUM_HIDDEN = 64\n",
    "NUM_LATENTS = K*K\n",
    "NUM_OBS = 2 * K\n",
    "BATCH_SIZE = 50\n",
    "NUM_EPOCHS = 1000\n",
    "LEARNING_RATE = 1e-4\n",
    "CUDA = False\n",
    "RESTORE = False\n",
    "PATH_ENC = \"stepwise_enc-%drws-%dmcmc-%dsmc-enc-%s\" % (num_particles_rws, mcmc_steps, num_particles_smc, datetime.datetime.fromtimestamp(time.time()).strftime('%Y-%m-%d %H:%M:%S'))"
   ]
  },
  {
   "cell_type": "code",
   "execution_count": 3,
   "metadata": {},
   "outputs": [],
   "source": [
    "Ys = np.load('dataset/sequences.npy')\n",
    "As_true = torch.from_numpy(np.load('dataset/transitions.npy')).float()\n",
    "Zs_true = np.load('dataset/states.npy')\n",
    "mu_ks = torch.from_numpy(np.load('dataset/means.npy')).float()\n",
    "cov_ks = torch.from_numpy(np.load('dataset/covariances.npy')).float()\n",
    "Pi = torch.from_numpy(np.load('dataset/init.npy')).float()\n",
    "\n",
    "prior = initial_trans_prior(K)\n",
    "\n",
    "Ys_Zs = np.concatenate((Ys, Zs_true), axis=-1)"
   ]
  },
  {
   "cell_type": "code",
   "execution_count": 4,
   "metadata": {},
   "outputs": [],
   "source": [
    "class Encoder(nn.Module):\n",
    "    def __init__(self, num_obs=NUM_OBS,\n",
    "                       num_hidden=NUM_HIDDEN,\n",
    "                       num_latents=NUM_LATENTS):\n",
    "        super(self.__class__, self).__init__()\n",
    "        self.enc_hidden = nn.Sequential(\n",
    "            nn.Linear(num_obs, num_hidden),\n",
    "            nn.Tanh())\n",
    "        self.latent_dir = nn.Sequential(\n",
    "            nn.Linear(num_hidden, num_latents))\n",
    "        \n",
    "    def forward(self, obs, prior, batch_size):\n",
    "        As = torch.zeros((batch_size, K, K))\n",
    "        hidden = self.enc_hidden(obs)\n",
    "        alphas = F.softmax(self.latent_dir(hidden), -1).view(batch_size, T-1, K*K).sum(1).view(batch_size, K, K)\n",
    "        for k in range(K):\n",
    "            As[:, k, :] = Dirichlet(alphas[:, k, :]).sample()\n",
    "        return alphas, As"
   ]
  },
  {
   "cell_type": "code",
   "execution_count": 5,
   "metadata": {},
   "outputs": [],
   "source": [
    "def initialize():\n",
    "    enc = Encoder()\n",
    "    if CUDA:\n",
    "        enc.cuda()\n",
    "    optimizer =  torch.optim.Adam(list(enc.parameters()),lr=LEARNING_RATE)    \n",
    "    return enc, optimizer\n",
    "enc, optimizer = initialize()"
   ]
  },
  {
   "cell_type": "code",
   "execution_count": null,
   "metadata": {},
   "outputs": [
    {
     "name": "stdout",
     "output_type": "stream",
     "text": [
      "epoch : 0, step : 0, EUBO : -137.135300, ELBO2 : -155.538727, ELBO : -633.028809, KL : 8.143072 (80s)\n",
      "epoch : 0, step : 1, EUBO : -136.387650, ELBO2 : -156.219391, ELBO : -636.452454, KL : 8.167732 (83s)\n",
      "epoch : 0, step : 2, EUBO : -136.308090, ELBO2 : -155.527924, ELBO : -633.579590, KL : 8.070945 (80s)\n",
      "epoch : 0, step : 3, EUBO : -138.355804, ELBO2 : -157.004990, ELBO : -636.964844, KL : 7.968321 (85s)\n",
      "epoch : 0, step : 4, EUBO : -137.809540, ELBO2 : -156.701752, ELBO : -636.592529, KL : 7.749455 (82s)\n",
      "epoch : 0, step : 5, EUBO : -139.476822, ELBO2 : -157.243500, ELBO : -641.338989, KL : 7.569567 (81s)\n",
      "epoch : 0, step : 6, EUBO : -137.626892, ELBO2 : -156.656677, ELBO : -636.660522, KL : 7.481657 (82s)\n",
      "epoch : 0, step : 7, EUBO : -138.609818, ELBO2 : -157.624344, ELBO : -642.637634, KL : 7.698624 (88s)\n",
      "epoch : 0, step : 8, EUBO : -137.310837, ELBO2 : -155.132568, ELBO : -633.225037, KL : 7.712729 (83s)\n",
      "epoch : 0, step : 9, EUBO : -139.823578, ELBO2 : -158.250488, ELBO : -642.751953, KL : 7.831550 (82s)\n",
      "epoch : 0, step : 10, EUBO : -138.946869, ELBO2 : -158.626999, ELBO : -643.039795, KL : 7.860721 (82s)\n",
      "epoch : 0, step : 11, EUBO : -137.255768, ELBO2 : -156.654388, ELBO : -637.820251, KL : 7.647118 (86s)\n",
      "epoch : 0, step : 12, EUBO : -136.343369, ELBO2 : -156.562637, ELBO : -635.357788, KL : 7.712746 (94s)\n",
      "epoch : 0, step : 13, EUBO : -138.317337, ELBO2 : -157.231750, ELBO : -636.983765, KL : 7.224845 (86s)\n",
      "epoch : 0, step : 14, EUBO : -136.993393, ELBO2 : -155.028503, ELBO : -630.644531, KL : 7.485867 (82s)\n",
      "epoch : 0, step : 15, EUBO : -135.901718, ELBO2 : -156.251373, ELBO : -634.749695, KL : 7.225143 (81s)\n",
      "epoch : 0, step : 16, EUBO : -137.870316, ELBO2 : -156.835236, ELBO : -641.775085, KL : 7.404710 (84s)\n",
      "epoch : 0, step : 17, EUBO : -136.994583, ELBO2 : -156.145782, ELBO : -637.601501, KL : 7.426156 (84s)\n",
      "epoch : 0, step : 18, EUBO : -136.916214, ELBO2 : -154.792007, ELBO : -632.848389, KL : 7.407235 (85s)\n",
      "epoch : 0, step : 19, EUBO : -139.098587, ELBO2 : -158.100800, ELBO : -643.229248, KL : 7.363789 (83s)\n",
      "epoch : 1, step : 0, EUBO : -139.060974, ELBO2 : -158.679092, ELBO : -646.813110, KL : 7.135183 (84s)\n",
      "epoch : 1, step : 1, EUBO : -137.148895, ELBO2 : -155.485931, ELBO : -629.400574, KL : 7.257451 (83s)\n",
      "epoch : 1, step : 2, EUBO : -137.347855, ELBO2 : -154.431030, ELBO : -631.389465, KL : 7.485579 (87s)\n",
      "epoch : 1, step : 3, EUBO : -137.068985, ELBO2 : -156.025574, ELBO : -632.235352, KL : 7.241561 (84s)\n",
      "epoch : 1, step : 4, EUBO : -137.104492, ELBO2 : -155.253784, ELBO : -630.953247, KL : 7.036927 (91s)\n",
      "epoch : 1, step : 5, EUBO : -137.531021, ELBO2 : -155.857193, ELBO : -634.802551, KL : 7.131036 (86s)\n"
     ]
    }
   ],
   "source": [
    "EUBOs = []\n",
    "ELBOs = []\n",
    "ELBOs2= [] \n",
    "ESSs = []\n",
    "KLs = []\n",
    "LOSSs = []\n",
    "\n",
    "weights = []\n",
    "\n",
    "Grad_Steps = int((Ys.shape[0] / BATCH_SIZE))\n",
    "for epoch in range(NUM_EPOCHS):\n",
    "    np.random.shuffle(Ys_Zs)\n",
    "    Ys_shuffled = torch.from_numpy(Ys_Zs[:, :, :2]).float()\n",
    "    Zs_true_shuffled = torch.from_numpy(Ys_Zs[:, :, 2:]).float()\n",
    "    for step in range(Grad_Steps):\n",
    "        time_start = time.time()\n",
    "        optimizer.zero_grad()\n",
    "        batch_data = Ys_shuffled[step*BATCH_SIZE : (step+1)*BATCH_SIZE]\n",
    "        batch_zs = Zs_true_shuffled[step*BATCH_SIZE : (step+1)*BATCH_SIZE]\n",
    "\n",
    "        batch_As = As_true[:BATCH_SIZE]\n",
    "        loss, eubo, elbo2, elbo, ess, kl = ag_sis_stepwise3(enc, prior, batch_As, batch_zs, Pi, mu_ks, cov_ks, batch_data, T, D, K, num_particles_rws, num_particles_smc, mcmc_steps, BATCH_SIZE)\n",
    "       \n",
    "        loss.backward()\n",
    "        optimizer.step()\n",
    "        EUBOs.append(eubo.item())\n",
    "        ELBOs.append(elbo.item())\n",
    "        ELBOs2.append(elbo2.item())\n",
    "        ESSs.append(ess.item())\n",
    "        KLs.append(kl.item())\n",
    "        LOSSs.append(loss.item())\n",
    "        time_end = time.time()\n",
    "        print('epoch : %d, step : %d, EUBO : %f, ELBO2 : %f, ELBO : %f, KL : %f (%ds)' % (epoch, step, eubo, elbo2, elbo, kl, time_end - time_start))"
   ]
  },
  {
   "cell_type": "code",
   "execution_count": null,
   "metadata": {},
   "outputs": [],
   "source": [
    "plot_results(EUBOs, ELBOs, ESSs, KLs, 'results_sis.png')"
   ]
  },
  {
   "cell_type": "code",
   "execution_count": null,
   "metadata": {},
   "outputs": [],
   "source": []
  }
 ],
 "metadata": {
  "kernelspec": {
   "display_name": "Python 3",
   "language": "python",
   "name": "python3"
  },
  "language_info": {
   "codemirror_mode": {
    "name": "ipython",
    "version": 3
   },
   "file_extension": ".py",
   "mimetype": "text/x-python",
   "name": "python",
   "nbconvert_exporter": "python",
   "pygments_lexer": "ipython3",
   "version": "3.6.6"
  }
 },
 "nbformat": 4,
 "nbformat_minor": 2
}
