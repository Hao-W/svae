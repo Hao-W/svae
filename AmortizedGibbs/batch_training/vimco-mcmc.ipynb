{
 "cells": [
  {
   "cell_type": "code",
   "execution_count": 9,
   "metadata": {},
   "outputs": [
    {
     "name": "stdout",
     "output_type": "stream",
     "text": [
      "probtorch: 0.0+5a2c637 torch: 1.0.0 cuda: True\n"
     ]
    }
   ],
   "source": [
    "%matplotlib inline\n",
    "import numpy as np\n",
    "import torch.nn as nn\n",
    "import torch.nn.functional as F\n",
    "import matplotlib.pyplot as plt\n",
    "from data import *\n",
    "from vimco import *\n",
    "from plots import *\n",
    "from torch.distributions.dirichlet import Dirichlet\n",
    "import sys\n",
    "import time\n",
    "import datetime\n",
    "sys.path.append('/home/hao/Research/probtorch/')\n",
    "import probtorch\n",
    "print('probtorch:', probtorch.__version__, \n",
    "      'torch:', torch.__version__, \n",
    "      'cuda:', torch.cuda.is_available())"
   ]
  },
  {
   "cell_type": "code",
   "execution_count": 10,
   "metadata": {},
   "outputs": [],
   "source": [
    "T = 25\n",
    "K = 3\n",
    "D = 2\n",
    "\n",
    "## Model Parameters\n",
    "num_samples = 20\n",
    "mcmc_steps = 4\n",
    "num_particles_smc = 80\n",
    "NUM_HIDDEN = 64\n",
    "NUM_LATENTS = K*K\n",
    "NUM_OBS = 2 * K\n",
    "BATCH_SIZE = 20\n",
    "NUM_EPOCHS = 1000\n",
    "LEARNING_RATE = 1e-4\n",
    "CUDA = False"
   ]
  },
  {
   "cell_type": "code",
   "execution_count": 11,
   "metadata": {},
   "outputs": [],
   "source": [
    "Ys = np.load('dataset/sequences.npy')\n",
    "As_true = torch.from_numpy(np.load('dataset/transitions.npy')).float()\n",
    "Zs_true = np.load('dataset/states.npy')\n",
    "mu_ks = torch.from_numpy(np.load('dataset/means.npy')).float()\n",
    "cov_ks = torch.from_numpy(np.load('dataset/covariances.npy')).float()\n",
    "Pi = torch.from_numpy(np.load('dataset/init.npy')).float()\n",
    "\n",
    "prior = initial_trans_prior(K)\n",
    "\n",
    "Ys_Zs = np.concatenate((Ys, Zs_true), axis=-1)"
   ]
  },
  {
   "cell_type": "code",
   "execution_count": 12,
   "metadata": {},
   "outputs": [],
   "source": [
    "class Encoder(nn.Module):\n",
    "    def __init__(self, num_obs=NUM_OBS,\n",
    "                       num_hidden=NUM_HIDDEN,\n",
    "                       num_latents=NUM_LATENTS):\n",
    "        super(self.__class__, self).__init__()\n",
    "        self.enc_hidden = nn.Sequential(\n",
    "            nn.Linear(num_obs, num_hidden),\n",
    "            nn.Tanh())\n",
    "        self.latent_dir = nn.Sequential(\n",
    "            nn.Linear(num_hidden, num_latents))\n",
    "        \n",
    "    def forward(self, obs, prior, batch_size):\n",
    "        As = torch.zeros((batch_size, K, K))\n",
    "        hidden = self.enc_hidden(obs)\n",
    "        alphas = F.softmax(self.latent_dir(hidden), -1).view(batch_size, T-1, K*K).sum(1).view(batch_size, K, K) + prior\n",
    "        for k in range(K):\n",
    "            As[:, k, :] = Dirichlet(alphas[:, k, :]).sample()\n",
    "        return alphas, As"
   ]
  },
  {
   "cell_type": "code",
   "execution_count": 13,
   "metadata": {},
   "outputs": [],
   "source": [
    "def initialize():\n",
    "    enc = Encoder()\n",
    "    if CUDA:\n",
    "        enc.cuda()\n",
    "    optimizer =  torch.optim.Adam(list(enc.parameters()),lr=LEARNING_RATE)    \n",
    "    return enc, optimizer\n",
    "enc, optimizer = initialize()"
   ]
  },
  {
   "cell_type": "code",
   "execution_count": null,
   "metadata": {},
   "outputs": [
    {
     "name": "stdout",
     "output_type": "stream",
     "text": [
      "epoch : 0, step : 0, ELBO : -117.623001, KL : 10.553387 (52s)\n",
      "epoch : 0, step : 1, ELBO : -116.324989, KL : 10.050009 (51s)\n",
      "epoch : 0, step : 2, ELBO : -114.077354, KL : 11.068739 (53s)\n",
      "epoch : 0, step : 3, ELBO : -115.420425, KL : 11.904242 (52s)\n",
      "epoch : 0, step : 4, ELBO : -115.007034, KL : 11.214079 (52s)\n",
      "epoch : 1, step : 0, ELBO : -116.978226, KL : 11.845148 (52s)\n",
      "epoch : 1, step : 1, ELBO : -114.084877, KL : 11.120382 (53s)\n",
      "epoch : 1, step : 2, ELBO : -115.325851, KL : 11.124056 (52s)\n",
      "epoch : 1, step : 3, ELBO : -116.323959, KL : 10.972084 (52s)\n",
      "epoch : 1, step : 4, ELBO : -116.680565, KL : 9.796953 (52s)\n",
      "epoch : 2, step : 0, ELBO : -116.509842, KL : 10.649562 (52s)\n",
      "epoch : 2, step : 1, ELBO : -116.671608, KL : 11.555799 (51s)\n",
      "epoch : 2, step : 2, ELBO : -115.517761, KL : 10.715003 (52s)\n",
      "epoch : 2, step : 3, ELBO : -115.079735, KL : 11.304388 (52s)\n",
      "epoch : 2, step : 4, ELBO : -115.195541, KL : 10.747190 (52s)\n",
      "epoch : 3, step : 0, ELBO : -115.642715, KL : 11.926935 (52s)\n",
      "epoch : 3, step : 1, ELBO : -114.385666, KL : 11.078632 (51s)\n",
      "epoch : 3, step : 2, ELBO : -114.088699, KL : 11.788590 (51s)\n",
      "epoch : 3, step : 3, ELBO : -115.962730, KL : 10.590509 (52s)\n",
      "epoch : 3, step : 4, ELBO : -116.962463, KL : 9.553270 (51s)\n",
      "epoch : 4, step : 0, ELBO : -115.955460, KL : 12.691366 (54s)\n",
      "epoch : 4, step : 1, ELBO : -115.284767, KL : 10.716996 (51s)\n",
      "epoch : 4, step : 2, ELBO : -115.926186, KL : 11.220353 (51s)\n",
      "epoch : 4, step : 3, ELBO : -114.835899, KL : 10.357507 (52s)\n",
      "epoch : 4, step : 4, ELBO : -114.985214, KL : 9.894022 (52s)\n",
      "epoch : 5, step : 0, ELBO : -114.897972, KL : 11.569803 (51s)\n",
      "epoch : 5, step : 1, ELBO : -115.617065, KL : 11.553658 (51s)\n",
      "epoch : 5, step : 2, ELBO : -115.962280, KL : 11.092700 (51s)\n",
      "epoch : 5, step : 3, ELBO : -115.428299, KL : 10.339774 (51s)\n",
      "epoch : 5, step : 4, ELBO : -116.200500, KL : 10.258966 (51s)\n",
      "epoch : 6, step : 0, ELBO : -116.449173, KL : 10.827534 (51s)\n",
      "epoch : 6, step : 1, ELBO : -115.738869, KL : 10.824851 (51s)\n",
      "epoch : 6, step : 2, ELBO : -115.085815, KL : 11.792059 (52s)\n",
      "epoch : 6, step : 3, ELBO : -117.762840, KL : 10.078500 (52s)\n",
      "epoch : 6, step : 4, ELBO : -113.941360, KL : 11.229245 (51s)\n",
      "epoch : 7, step : 0, ELBO : -115.593994, KL : 10.841669 (51s)\n",
      "epoch : 7, step : 1, ELBO : -115.704811, KL : 10.859529 (52s)\n",
      "epoch : 7, step : 2, ELBO : -115.665977, KL : 10.591249 (51s)\n",
      "epoch : 7, step : 3, ELBO : -115.740990, KL : 11.388035 (52s)\n",
      "epoch : 7, step : 4, ELBO : -116.025963, KL : 10.984414 (52s)\n",
      "epoch : 8, step : 0, ELBO : -116.857582, KL : 11.413568 (52s)\n",
      "epoch : 8, step : 1, ELBO : -115.997375, KL : 11.764831 (51s)\n",
      "epoch : 8, step : 2, ELBO : -114.109352, KL : 10.553928 (52s)\n",
      "epoch : 8, step : 3, ELBO : -114.192665, KL : 9.821672 (55s)\n",
      "epoch : 8, step : 4, ELBO : -116.067184, KL : 11.089595 (52s)\n",
      "epoch : 9, step : 0, ELBO : -115.569290, KL : 10.547092 (52s)\n",
      "epoch : 9, step : 1, ELBO : -117.015236, KL : 10.002314 (52s)\n",
      "epoch : 9, step : 2, ELBO : -115.309372, KL : 11.588434 (52s)\n",
      "epoch : 9, step : 3, ELBO : -116.490494, KL : 11.265674 (53s)\n",
      "epoch : 9, step : 4, ELBO : -115.603172, KL : 11.241968 (53s)\n",
      "epoch : 10, step : 0, ELBO : -114.388748, KL : 10.930237 (53s)\n",
      "epoch : 10, step : 1, ELBO : -115.733315, KL : 10.017812 (54s)\n",
      "epoch : 10, step : 2, ELBO : -114.732689, KL : 12.925573 (53s)\n",
      "epoch : 10, step : 3, ELBO : -117.010033, KL : 9.950330 (53s)\n",
      "epoch : 10, step : 4, ELBO : -115.490128, KL : 10.757279 (52s)\n",
      "epoch : 11, step : 0, ELBO : -115.967674, KL : 9.259865 (54s)\n"
     ]
    }
   ],
   "source": [
    "ELBOs = []\n",
    "ESSs = []\n",
    "KLs = []\n",
    "Grads = []\n",
    "\n",
    "prior_mcmc = torch.ones((K, K)).float()\n",
    "for k in range(K):\n",
    "    prior_mcmc[k, k] = 2.0\n",
    "    \n",
    "Grad_Steps = int((Ys.shape[0] / BATCH_SIZE))\n",
    "for epoch in range(NUM_EPOCHS):\n",
    "    np.random.shuffle(Ys_Zs)\n",
    "    Ys_shuffled = torch.from_numpy(Ys_Zs[:, :, :2]).float()\n",
    "    Zs_true_shuffled = torch.from_numpy(Ys_Zs[:, :, 2:]).float()\n",
    "    for step in range(Grad_Steps):\n",
    "        time_start = time.time()\n",
    "        optimizer.zero_grad()\n",
    "        batch_data = Ys_shuffled[step*BATCH_SIZE : (step+1)*BATCH_SIZE]\n",
    "        batch_zs = Zs_true_shuffled[step*BATCH_SIZE : (step+1)*BATCH_SIZE]\n",
    "        batch_As = As_true[:BATCH_SIZE]\n",
    "        gradient, elbo, ess, kl = ag_mcmc_vimco(enc, prior, prior_mcmc, batch_zs, Pi, mu_ks, cov_ks, batch_data, T, D, K, num_samples, num_particles_smc, mcmc_steps, BATCH_SIZE)\n",
    "        loss = - gradient\n",
    "        loss.backward()\n",
    "        optimizer.step()\n",
    "        ELBOs.append(elbo.item())\n",
    "        ESSs.append(ess.item())\n",
    "        KLs.append(kl.item())\n",
    "        Grads.append(loss.item())\n",
    "        time_end = time.time()\n",
    "        print('epoch : %d, step : %d, ELBO : %f, KL : %f (%ds)' % (epoch, step, elbo, kl, time_end - time_start))"
   ]
  },
  {
   "cell_type": "code",
   "execution_count": null,
   "metadata": {},
   "outputs": [],
   "source": [
    "Z_pairs_true = flatz(batch_zs, T, K, BATCH_SIZE)"
   ]
  },
  {
   "cell_type": "code",
   "execution_count": null,
   "metadata": {},
   "outputs": [],
   "source": [
    "variational_new, As_notusing = enc(Z_pairs_true, prior_mcmc, BATCH_SIZE)"
   ]
  },
  {
   "cell_type": "code",
   "execution_count": null,
   "metadata": {},
   "outputs": [],
   "source": [
    "hidden = enc.enc_hidden(Z_pairs_true)\n",
    "alphas = F.softmax(enc.latent_dir(hidden), -1).view(BATCH_SIZE, T-1, K*K).sum(1).view(BATCH_SIZE, K, K) + prior"
   ]
  },
  {
   "cell_type": "code",
   "execution_count": null,
   "metadata": {},
   "outputs": [],
   "source": [
    "Dirichlet(alphas[:, 0, :]).sample()"
   ]
  },
  {
   "cell_type": "code",
   "execution_count": null,
   "metadata": {},
   "outputs": [],
   "source": []
  }
 ],
 "metadata": {
  "kernelspec": {
   "display_name": "Python 3",
   "language": "python",
   "name": "python3"
  },
  "language_info": {
   "codemirror_mode": {
    "name": "ipython",
    "version": 3
   },
   "file_extension": ".py",
   "mimetype": "text/x-python",
   "name": "python",
   "nbconvert_exporter": "python",
   "pygments_lexer": "ipython3",
   "version": "3.6.7"
  }
 },
 "nbformat": 4,
 "nbformat_minor": 2
}
