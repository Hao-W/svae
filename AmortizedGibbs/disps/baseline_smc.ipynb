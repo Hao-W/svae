{
 "cells": [
  {
   "cell_type": "code",
   "execution_count": 1,
   "metadata": {},
   "outputs": [
    {
     "name": "stdout",
     "output_type": "stream",
     "text": [
      "probtorch: 0.0+5a2c637 torch: 0.5.0a0+3bb8c5e cuda: True\n"
     ]
    }
   ],
   "source": [
    "%matplotlib inline\n",
    "import numpy as np\n",
    "import torch.nn as nn\n",
    "import torch.nn.functional as F\n",
    "import matplotlib.pyplot as plt\n",
    "from util_data import *\n",
    "from baseline_smc import *\n",
    "from util_plots import *\n",
    "from torch.distributions.dirichlet import Dirichlet\n",
    "import sys\n",
    "import datetime\n",
    "import time \n",
    "sys.path.append('/home/hao/Research/probtorch/')\n",
    "import probtorch\n",
    "print('probtorch:', probtorch.__version__, \n",
    "      'torch:', torch.__version__, \n",
    "      'cuda:', torch.cuda.is_available())"
   ]
  },
  {
   "cell_type": "code",
   "execution_count": 2,
   "metadata": {},
   "outputs": [],
   "source": [
    "## Dataset parameters\n",
    "num_series = 1\n",
    "## range of length of tracjectories, need to be positive integers\n",
    "T_min = 50\n",
    "T_max = 60\n",
    "K = 4\n",
    "D = 2\n",
    "dt = 6\n",
    "Boundary = 30\n",
    "noise_ratio = 10.0\n",
    "\n",
    "## Model Parameters\n",
    "num_particles = 50\n",
    "num_particles_smc = 30\n",
    "NUM_HIDDEN = 32\n",
    "NUM_LATENTS = K*K\n",
    "NUM_OBS = 2 * D\n",
    "\n",
    "NUM_EPOCHS = 400\n",
    "LEARNING_RATE = 1e-3\n",
    "CUDA = False\n",
    "RESTORE = False\n",
    "PATH_ENC = \"baseline/1shot_enc-%dIS-enc-%s\" % (num_particles, datetime.datetime.fromtimestamp(time.time()).strftime('%Y-%m-%d %H:%M:%S'))"
   ]
  },
  {
   "cell_type": "code",
   "execution_count": 3,
   "metadata": {},
   "outputs": [
    {
     "data": {
      "image/png": "[encoded data removed]",
      "text/plain": [
       "<Figure size 288x288 with 1 Axes>"
      ]
     },
     "metadata": {},
     "output_type": "display_data"
    }
   ],
   "source": [
    "T_sample = 100\n",
    "noise_cov = np.array([[1, 0], [0, 1]]) * noise_ratio       \n",
    "init_v = np.random.random(2) * np.random.choice([-1,1], size=2)\n",
    "v_norm = ((init_v ** 2 ).sum()) ** 0.5 ## compute norm for each initial velocity\n",
    "init_v = init_v / v_norm * dt ## to make the velocity lying on a circle\n",
    "mu_ks, cov_ks, Pi, Y, A_true, Zs_true = generate_seq_T(T_sample, K, dt, Boundary, init_v, noise_cov)\n",
    "## true global variables\n",
    "cov_true = np.tile(noise_cov, (K, 1, 1))\n",
    "dirs = np.array([[1, 1], [1, -1], [-1, -1], [-1, 1]])\n",
    "mu_true = np.tile(np.absolute(init_v), (K, 1)) * dirs\n",
    "plot_clusters(Y.data.numpy(), mu_ks.data.numpy(), cov_ks.data.numpy(), K)"
   ]
  },
  {
   "cell_type": "code",
   "execution_count": 4,
   "metadata": {},
   "outputs": [],
   "source": [
    "class Encoder(nn.Module):\n",
    "    def __init__(self, num_obs=NUM_OBS,\n",
    "                       num_hidden=NUM_HIDDEN,\n",
    "                       num_latents=NUM_LATENTS):\n",
    "        super(self.__class__, self).__init__()\n",
    "        self.enc_hidden = nn.Sequential(\n",
    "            nn.Linear(num_obs, num_hidden),\n",
    "            nn.Tanh())\n",
    "        self.latent_dir = nn.Sequential(\n",
    "            nn.Linear(num_hidden, num_latents))\n",
    "        \n",
    "    def forward(self, obs):\n",
    "        A_samples = torch.zeros((K, K))\n",
    "        hidden = self.enc_hidden(obs)\n",
    "        latents_dirs = F.softmax(self.latent_dir(hidden), -1).sum(0).view(K, K)\n",
    "        for k in range(K):\n",
    "            A_samples[k] = Dirichlet(latents_dirs[k]).sample()\n",
    "        return latents_dirs, A_samples"
   ]
  },
  {
   "cell_type": "code",
   "execution_count": 5,
   "metadata": {},
   "outputs": [],
   "source": [
    "def initialize():\n",
    "    enc = Encoder()\n",
    "    if CUDA:\n",
    "        enc.cuda()\n",
    "    optimizer =  torch.optim.Adam(list(enc.parameters()),lr=LEARNING_RATE)    \n",
    "    return enc, optimizer\n",
    "enc, optimizer = initialize()"
   ]
  },
  {
   "cell_type": "code",
   "execution_count": 6,
   "metadata": {},
   "outputs": [
    {
     "name": "stdout",
     "output_type": "stream",
     "text": [
      "epoch : 0, eubo : -334.304382, elbo : -344.354523,  KL : 14.782564 (4s)\n",
      "epoch : 1, eubo : -326.908539, elbo : -339.996246,  KL : 13.986224 (4s)\n",
      "epoch : 2, eubo : -342.303009, elbo : -358.309601,  KL : 13.938396 (4s)\n",
      "epoch : 3, eubo : -334.102966, elbo : -344.292267,  KL : 15.105906 (4s)\n",
      "epoch : 4, eubo : -339.088562, elbo : -346.776062,  KL : 13.601841 (4s)\n",
      "epoch : 5, eubo : -330.618805, elbo : -341.141541,  KL : 16.033827 (4s)\n",
      "epoch : 6, eubo : -317.266479, elbo : -331.771759,  KL : 15.121728 (4s)\n",
      "epoch : 7, eubo : -317.236145, elbo : -325.874908,  KL : 13.745158 (4s)\n",
      "epoch : 8, eubo : -331.243042, elbo : -341.547272,  KL : 11.749863 (4s)\n",
      "epoch : 9, eubo : -309.808289, elbo : -319.700989,  KL : 15.198503 (4s)\n",
      "epoch : 10, eubo : -288.904541, elbo : -298.930664,  KL : 15.005093 (3s)\n",
      "epoch : 11, eubo : -316.300537, elbo : -330.273376,  KL : 15.182055 (4s)\n",
      "epoch : 12, eubo : -299.825256, elbo : -313.344666,  KL : 12.671234 (4s)\n",
      "epoch : 13, eubo : -301.943573, elbo : -313.462433,  KL : 12.386633 (4s)\n",
      "epoch : 14, eubo : -306.933777, elbo : -327.423676,  KL : 14.437678 (4s)\n",
      "epoch : 15, eubo : -321.743988, elbo : -329.982697,  KL : 14.487675 (3s)\n",
      "epoch : 16, eubo : -304.012726, elbo : -317.397980,  KL : 10.984607 (3s)\n",
      "epoch : 17, eubo : -291.454529, elbo : -306.242584,  KL : 13.753017 (4s)\n",
      "epoch : 18, eubo : -338.503296, elbo : -351.718414,  KL : 12.141098 (4s)\n",
      "epoch : 19, eubo : -320.073090, elbo : -336.630981,  KL : 15.600338 (4s)\n",
      "epoch : 20, eubo : -332.621613, elbo : -342.998138,  KL : 15.651372 (4s)\n"
     ]
    },
    {
     "ename": "KeyboardInterrupt",
     "evalue": "",
     "output_type": "error",
     "traceback": [
      "\u001b[0;31m---------------------------------------------------------------------------\u001b[0m",
      "\u001b[0;31mKeyboardInterrupt\u001b[0m                         Traceback (most recent call last)",
      "\u001b[0;32m<ipython-input-6-63d32b478835>\u001b[0m in \u001b[0;36m<module>\u001b[0;34m()\u001b[0m\n\u001b[1;32m     10\u001b[0m     \u001b[0mT\u001b[0m \u001b[0;34m=\u001b[0m \u001b[0mnp\u001b[0m\u001b[0;34m.\u001b[0m\u001b[0mrandom\u001b[0m\u001b[0;34m.\u001b[0m\u001b[0mrandint\u001b[0m\u001b[0;34m(\u001b[0m\u001b[0mT_min\u001b[0m\u001b[0;34m,\u001b[0m \u001b[0mT_max\u001b[0m\u001b[0;34m)\u001b[0m\u001b[0;34m\u001b[0m\u001b[0m\n\u001b[1;32m     11\u001b[0m     \u001b[0mmu_ks\u001b[0m\u001b[0;34m,\u001b[0m \u001b[0mcov_ks\u001b[0m\u001b[0;34m,\u001b[0m \u001b[0mPi\u001b[0m\u001b[0;34m,\u001b[0m \u001b[0mY\u001b[0m\u001b[0;34m,\u001b[0m \u001b[0mA_true\u001b[0m\u001b[0;34m,\u001b[0m \u001b[0mZ_true\u001b[0m \u001b[0;34m=\u001b[0m \u001b[0mgenerate_seq_T\u001b[0m\u001b[0;34m(\u001b[0m\u001b[0mT\u001b[0m\u001b[0;34m,\u001b[0m \u001b[0mK\u001b[0m\u001b[0;34m,\u001b[0m \u001b[0mdt\u001b[0m\u001b[0;34m,\u001b[0m \u001b[0mBoundary\u001b[0m\u001b[0;34m,\u001b[0m \u001b[0minit_v\u001b[0m\u001b[0;34m,\u001b[0m \u001b[0mnoise_cov\u001b[0m\u001b[0;34m)\u001b[0m\u001b[0;34m\u001b[0m\u001b[0m\n\u001b[0;32m---> 12\u001b[0;31m     \u001b[0menc\u001b[0m\u001b[0;34m,\u001b[0m \u001b[0meubo\u001b[0m\u001b[0;34m,\u001b[0m \u001b[0mkl\u001b[0m\u001b[0;34m,\u001b[0m \u001b[0mess\u001b[0m\u001b[0;34m,\u001b[0m \u001b[0mlatents_dirs\u001b[0m\u001b[0;34m,\u001b[0m \u001b[0melbo\u001b[0m \u001b[0;34m=\u001b[0m \u001b[0moneshot_sampling\u001b[0m\u001b[0;34m(\u001b[0m\u001b[0menc\u001b[0m\u001b[0;34m,\u001b[0m \u001b[0malpha_trans_0\u001b[0m\u001b[0;34m,\u001b[0m \u001b[0mPi\u001b[0m\u001b[0;34m,\u001b[0m \u001b[0mmu_ks\u001b[0m\u001b[0;34m,\u001b[0m \u001b[0mcov_ks\u001b[0m\u001b[0;34m,\u001b[0m \u001b[0mZ_true\u001b[0m\u001b[0;34m,\u001b[0m \u001b[0mY\u001b[0m\u001b[0;34m,\u001b[0m \u001b[0mT\u001b[0m\u001b[0;34m,\u001b[0m \u001b[0mD\u001b[0m\u001b[0;34m,\u001b[0m \u001b[0mK\u001b[0m\u001b[0;34m,\u001b[0m \u001b[0mnum_particles\u001b[0m\u001b[0;34m,\u001b[0m \u001b[0mnum_particles_smc\u001b[0m\u001b[0;34m)\u001b[0m\u001b[0;34m\u001b[0m\u001b[0m\n\u001b[0m\u001b[1;32m     13\u001b[0m     \u001b[0meubo\u001b[0m\u001b[0;34m.\u001b[0m\u001b[0mbackward\u001b[0m\u001b[0;34m(\u001b[0m\u001b[0;34m)\u001b[0m\u001b[0;34m\u001b[0m\u001b[0m\n\u001b[1;32m     14\u001b[0m     \u001b[0mKLs\u001b[0m\u001b[0;34m.\u001b[0m\u001b[0mappend\u001b[0m\u001b[0;34m(\u001b[0m\u001b[0mkl\u001b[0m\u001b[0;34m.\u001b[0m\u001b[0mitem\u001b[0m\u001b[0;34m(\u001b[0m\u001b[0;34m)\u001b[0m\u001b[0;34m)\u001b[0m\u001b[0;34m\u001b[0m\u001b[0m\n",
      "\u001b[0;32m~/Research/amortized/AmortizedGibbs/disps/baseline_smc.py\u001b[0m in \u001b[0;36moneshot_sampling\u001b[0;34m(enc, alpha_trans_0, Pi, mu_ks, cov_ks, Z_true, Y, T, D, K, num_particles, num_particles_smc)\u001b[0m\n\u001b[1;32m     65\u001b[0m         \u001b[0mlatents_dirs\u001b[0m\u001b[0;34m,\u001b[0m \u001b[0mA_sample\u001b[0m \u001b[0;34m=\u001b[0m \u001b[0menc\u001b[0m\u001b[0;34m(\u001b[0m\u001b[0mY_pairwise\u001b[0m\u001b[0;34m)\u001b[0m\u001b[0;34m\u001b[0m\u001b[0m\n\u001b[1;32m     66\u001b[0m         \u001b[0mlog_q_mlp\u001b[0m \u001b[0;34m=\u001b[0m \u001b[0mlog_q_hmm\u001b[0m\u001b[0;34m(\u001b[0m\u001b[0mlatents_dirs\u001b[0m\u001b[0;34m,\u001b[0m \u001b[0mA_sample\u001b[0m\u001b[0;34m)\u001b[0m\u001b[0;34m\u001b[0m\u001b[0m\n\u001b[0;32m---> 67\u001b[0;31m         \u001b[0mZs\u001b[0m\u001b[0;34m,\u001b[0m \u001b[0mlog_weights\u001b[0m\u001b[0;34m,\u001b[0m \u001b[0mlog_normalizer\u001b[0m \u001b[0;34m=\u001b[0m \u001b[0msmc_hmm\u001b[0m\u001b[0;34m(\u001b[0m\u001b[0mPi\u001b[0m\u001b[0;34m,\u001b[0m \u001b[0mA_sample\u001b[0m\u001b[0;34m,\u001b[0m \u001b[0mmu_ks\u001b[0m\u001b[0;34m,\u001b[0m \u001b[0mcov_ks\u001b[0m\u001b[0;34m,\u001b[0m \u001b[0mY\u001b[0m\u001b[0;34m,\u001b[0m \u001b[0mT\u001b[0m\u001b[0;34m,\u001b[0m \u001b[0mD\u001b[0m\u001b[0;34m,\u001b[0m \u001b[0mK\u001b[0m\u001b[0;34m,\u001b[0m \u001b[0mnum_particles_smc\u001b[0m\u001b[0;34m)\u001b[0m\u001b[0;34m\u001b[0m\u001b[0m\n\u001b[0m\u001b[1;32m     68\u001b[0m         \u001b[0mZ_ret\u001b[0m \u001b[0;34m=\u001b[0m \u001b[0mresampling_smc\u001b[0m\u001b[0;34m(\u001b[0m\u001b[0mZs\u001b[0m\u001b[0;34m,\u001b[0m \u001b[0mlog_weights\u001b[0m\u001b[0;34m)\u001b[0m\u001b[0;34m\u001b[0m\u001b[0m\n\u001b[1;32m     69\u001b[0m         \u001b[0mlog_q_smc\u001b[0m \u001b[0;34m=\u001b[0m \u001b[0mlog_joint_smc\u001b[0m\u001b[0;34m(\u001b[0m\u001b[0mZ_ret\u001b[0m\u001b[0;34m,\u001b[0m \u001b[0mPi\u001b[0m\u001b[0;34m,\u001b[0m \u001b[0mA_sample\u001b[0m\u001b[0;34m,\u001b[0m \u001b[0mmu_ks\u001b[0m\u001b[0;34m,\u001b[0m \u001b[0mcov_ks\u001b[0m\u001b[0;34m,\u001b[0m \u001b[0mY\u001b[0m\u001b[0;34m,\u001b[0m \u001b[0mT\u001b[0m\u001b[0;34m,\u001b[0m \u001b[0mD\u001b[0m\u001b[0;34m,\u001b[0m \u001b[0mK\u001b[0m\u001b[0;34m)\u001b[0m\u001b[0;34m\u001b[0m\u001b[0m\n",
      "\u001b[0;32m~/Research/amortized/AmortizedGibbs/disps/smc.py\u001b[0m in \u001b[0;36msmc_hmm\u001b[0;34m(Pi, A, mu_ks, cov_ks, Y, T, D, K, num_particles_smc)\u001b[0m\n\u001b[1;32m     85\u001b[0m         \u001b[0;32melse\u001b[0m\u001b[0;34m:\u001b[0m\u001b[0;34m\u001b[0m\u001b[0m\n\u001b[1;32m     86\u001b[0m             \u001b[0mreweight\u001b[0m \u001b[0;34m=\u001b[0m \u001b[0mtorch\u001b[0m\u001b[0;34m.\u001b[0m\u001b[0mexp\u001b[0m\u001b[0;34m(\u001b[0m\u001b[0mlog_weights\u001b[0m\u001b[0;34m[\u001b[0m\u001b[0;34m:\u001b[0m\u001b[0;34m,\u001b[0m \u001b[0mt\u001b[0m\u001b[0;34m-\u001b[0m\u001b[0;36m1\u001b[0m\u001b[0;34m]\u001b[0m \u001b[0;34m-\u001b[0m \u001b[0mlogsumexp\u001b[0m\u001b[0;34m(\u001b[0m\u001b[0mlog_weights\u001b[0m\u001b[0;34m[\u001b[0m\u001b[0;34m:\u001b[0m\u001b[0;34m,\u001b[0m \u001b[0mt\u001b[0m\u001b[0;34m-\u001b[0m\u001b[0;36m1\u001b[0m\u001b[0;34m]\u001b[0m\u001b[0;34m,\u001b[0m \u001b[0mdim\u001b[0m\u001b[0;34m=\u001b[0m\u001b[0;36m0\u001b[0m\u001b[0;34m)\u001b[0m\u001b[0;34m)\u001b[0m\u001b[0;34m\u001b[0m\u001b[0m\n\u001b[0;32m---> 87\u001b[0;31m             \u001b[0mancesters\u001b[0m \u001b[0;34m=\u001b[0m \u001b[0mCategorical\u001b[0m\u001b[0;34m(\u001b[0m\u001b[0mreweight\u001b[0m\u001b[0;34m)\u001b[0m\u001b[0;34m.\u001b[0m\u001b[0msample\u001b[0m\u001b[0;34m(\u001b[0m\u001b[0;34m(\u001b[0m\u001b[0mnum_particles_smc\u001b[0m\u001b[0;34m,\u001b[0m\u001b[0;34m)\u001b[0m\u001b[0;34m)\u001b[0m\u001b[0;34m\u001b[0m\u001b[0m\n\u001b[0m\u001b[1;32m     88\u001b[0m             \u001b[0mZs\u001b[0m \u001b[0;34m=\u001b[0m \u001b[0mZs\u001b[0m\u001b[0;34m[\u001b[0m\u001b[0mancesters\u001b[0m\u001b[0;34m]\u001b[0m\u001b[0;34m\u001b[0m\u001b[0m\n\u001b[1;32m     89\u001b[0m             \u001b[0mlabels\u001b[0m \u001b[0;34m=\u001b[0m \u001b[0mZs\u001b[0m\u001b[0;34m[\u001b[0m\u001b[0;34m:\u001b[0m\u001b[0;34m,\u001b[0m \u001b[0mt\u001b[0m\u001b[0;34m-\u001b[0m\u001b[0;36m1\u001b[0m\u001b[0;34m,\u001b[0m \u001b[0;34m:\u001b[0m\u001b[0;34m]\u001b[0m\u001b[0;34m.\u001b[0m\u001b[0mnonzero\u001b[0m\u001b[0;34m(\u001b[0m\u001b[0;34m)\u001b[0m\u001b[0;34m[\u001b[0m\u001b[0;34m:\u001b[0m\u001b[0;34m,\u001b[0m \u001b[0;36m1\u001b[0m\u001b[0;34m]\u001b[0m\u001b[0;34m\u001b[0m\u001b[0m\n",
      "\u001b[0;32m~/anaconda3/envs/dev/lib/python3.6/site-packages/torch/distributions/categorical.py\u001b[0m in \u001b[0;36m__init__\u001b[0;34m(self, probs, logits, validate_args)\u001b[0m\n\u001b[1;32m     45\u001b[0m             \u001b[0;32mraise\u001b[0m \u001b[0mValueError\u001b[0m\u001b[0;34m(\u001b[0m\u001b[0;34m\"Either `probs` or `logits` must be specified, but not both.\"\u001b[0m\u001b[0;34m)\u001b[0m\u001b[0;34m\u001b[0m\u001b[0m\n\u001b[1;32m     46\u001b[0m         \u001b[0;32mif\u001b[0m \u001b[0mprobs\u001b[0m \u001b[0;32mis\u001b[0m \u001b[0;32mnot\u001b[0m \u001b[0;32mNone\u001b[0m\u001b[0;34m:\u001b[0m\u001b[0;34m\u001b[0m\u001b[0m\n\u001b[0;32m---> 47\u001b[0;31m             \u001b[0mself\u001b[0m\u001b[0;34m.\u001b[0m\u001b[0mprobs\u001b[0m \u001b[0;34m=\u001b[0m \u001b[0mprobs\u001b[0m \u001b[0;34m/\u001b[0m \u001b[0mprobs\u001b[0m\u001b[0;34m.\u001b[0m\u001b[0msum\u001b[0m\u001b[0;34m(\u001b[0m\u001b[0;34m-\u001b[0m\u001b[0;36m1\u001b[0m\u001b[0;34m,\u001b[0m \u001b[0mkeepdim\u001b[0m\u001b[0;34m=\u001b[0m\u001b[0;32mTrue\u001b[0m\u001b[0;34m)\u001b[0m\u001b[0;34m\u001b[0m\u001b[0m\n\u001b[0m\u001b[1;32m     48\u001b[0m         \u001b[0;32melse\u001b[0m\u001b[0;34m:\u001b[0m\u001b[0;34m\u001b[0m\u001b[0m\n\u001b[1;32m     49\u001b[0m             \u001b[0mself\u001b[0m\u001b[0;34m.\u001b[0m\u001b[0mlogits\u001b[0m \u001b[0;34m=\u001b[0m \u001b[0mlogits\u001b[0m \u001b[0;34m-\u001b[0m \u001b[0mlogits\u001b[0m\u001b[0;34m.\u001b[0m\u001b[0mlogsumexp\u001b[0m\u001b[0;34m(\u001b[0m\u001b[0mdim\u001b[0m\u001b[0;34m=\u001b[0m\u001b[0;34m-\u001b[0m\u001b[0;36m1\u001b[0m\u001b[0;34m,\u001b[0m \u001b[0mkeepdim\u001b[0m\u001b[0;34m=\u001b[0m\u001b[0;32mTrue\u001b[0m\u001b[0;34m)\u001b[0m\u001b[0;34m\u001b[0m\u001b[0m\n",
      "\u001b[0;31mKeyboardInterrupt\u001b[0m: "
     ]
    }
   ],
   "source": [
    "KLs = []\n",
    "EUBOs = []\n",
    "ESSs = []\n",
    "ELBOs = []\n",
    "for epoch in range(NUM_EPOCHS):\n",
    "    time_start = time.time()\n",
    "    optimizer.zero_grad()\n",
    "    alpha_trans_0 = initial_trans_prior(K)\n",
    "    init_v = init_velocity(dt)\n",
    "    T = np.random.randint(T_min, T_max)\n",
    "    mu_ks, cov_ks, Pi, Y, A_true, Z_true = generate_seq_T(T, K, dt, Boundary, init_v, noise_cov)\n",
    "    enc, eubo, kl, ess, latents_dirs, elbo = oneshot_sampling(enc, alpha_trans_0, Pi, mu_ks, cov_ks, Z_true, Y, T, D, K, num_particles, num_particles_smc)\n",
    "    eubo.backward()\n",
    "    KLs.append(kl.item())\n",
    "    EUBOs.append(eubo.item())\n",
    "    ESSs.append(ess / num_particles)\n",
    "    ELBOs.append(elbo.item())\n",
    "#     log_qs.append(loss_infer.item())\n",
    "    optimizer.step()\n",
    "    time_end = time.time()\n",
    "    print('epoch : %d, eubo : %f, elbo : %f,  KL : %f (%ds)' % (epoch, eubo, elbo, kl, time_end - time_start))\n",
    "\n",
    "if RESTORE:\n",
    "    enc.load_state_dict(torch.load(PATH_ENC))\n",
    "else:\n",
    "    torch.save(enc.state_dict(), PATH_ENC)\n",
    "    save_params(KLs, EUBOs, ESSs, PATH_ENC)"
   ]
  },
  {
   "cell_type": "code",
   "execution_count": null,
   "metadata": {},
   "outputs": [],
   "source": [
    "plot_dirs(latents_dirs, alpha_trans_0, Z_true, T, K, vmax=15)"
   ]
  },
  {
   "cell_type": "code",
   "execution_count": null,
   "metadata": {},
   "outputs": [],
   "source": [
    "plot_results(EUBOs, ELBOs, log_qs, KLs, ESSs)"
   ]
  },
  {
   "cell_type": "code",
   "execution_count": null,
   "metadata": {},
   "outputs": [],
   "source": [
    "# a = \n",
    "# for i in range(10):\n",
    "#     a = log_weights[:, -1] - logsumexp(log_weights[:, -1], dim=0)\n",
    "#     print(Categorical(a).sample().item())\n",
    "# b = torch.FloatTensor([-3,-2,-1,-4])\n",
    "# for i in range(10):\n",
    "#     print(Categorical(b).sample())\n",
    "#     c = torch.exp(b - logsumexp(b, dim=0))\n",
    "#     print(Categorical(c).sample())\n",
    "#     print('===============')"
   ]
  },
  {
   "cell_type": "code",
   "execution_count": null,
   "metadata": {},
   "outputs": [],
   "source": []
  }
 ],
 "metadata": {
  "kernelspec": {
   "display_name": "Python 3",
   "language": "python",
   "name": "python3"
  },
  "language_info": {
   "codemirror_mode": {
    "name": "ipython",
    "version": 3
   },
   "file_extension": ".py",
   "mimetype": "text/x-python",
   "name": "python",
   "nbconvert_exporter": "python",
   "pygments_lexer": "ipython3",
   "version": "3.6.6"
  }
 },
 "nbformat": 4,
 "nbformat_minor": 2
}
