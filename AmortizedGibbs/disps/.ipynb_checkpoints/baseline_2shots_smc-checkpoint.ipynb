{
 "cells": [
  {
   "cell_type": "code",
   "execution_count": 1,
   "metadata": {},
   "outputs": [
    {
     "name": "stdout",
     "output_type": "stream",
     "text": [
      "probtorch: 0.0+5a2c637 torch: 0.5.0a0+3bb8c5e cuda: True\n"
     ]
    }
   ],
   "source": [
    "%matplotlib inline\n",
    "import numpy as np\n",
    "import torch.nn as nn\n",
    "import torch.nn.functional as F\n",
    "import matplotlib.pyplot as plt\n",
    "from util_data import *\n",
    "from baseline_smc import *\n",
    "from util_plots import *\n",
    "from torch.distributions.dirichlet import Dirichlet\n",
    "import sys\n",
    "import datetime\n",
    "import time \n",
    "sys.path.append('/home/hao/Research/probtorch/')\n",
    "import probtorch\n",
    "print('probtorch:', probtorch.__version__, \n",
    "      'torch:', torch.__version__, \n",
    "      'cuda:', torch.cuda.is_available())"
   ]
  },
  {
   "cell_type": "code",
   "execution_count": 2,
   "metadata": {},
   "outputs": [],
   "source": [
    "## Dataset parameters\n",
    "num_series = 1\n",
    "## range of length of tracjectories, need to be positive integers\n",
    "T_min = 40\n",
    "T_max = 60\n",
    "K = 4\n",
    "D = 2\n",
    "dt = 8\n",
    "Boundary = 30\n",
    "noise_ratio = 10\n",
    "\n",
    "## Model Parameters\n",
    "num_particles = 50\n",
    "num_particles_smc = 50\n",
    "NUM_HIDDEN = 32\n",
    "NUM_LATENTS = K*K\n",
    "DIM_ENC_TRANS = 2 * K\n",
    "DIM_ENC_DISPS = 2 * D\n",
    "\n",
    "NUM_EPOCHS = 200\n",
    "LEARNING_RATE = 1e-3\n",
    "RESTORE = False\n",
    "PATH_ENC = \"baseline_smc/hao/baseline_2shots-%dIS-enc-%s\" % (num_particles, datetime.datetime.fromtimestamp(time.time()).strftime('%Y-%m-%d %H:%M:%S'))"
   ]
  },
  {
   "cell_type": "code",
   "execution_count": 3,
   "metadata": {},
   "outputs": [
    {
     "data": {
      "image/png": "[encoded data removed]",
      "text/plain": [
       "<Figure size 288x288 with 1 Axes>"
      ]
     },
     "metadata": {},
     "output_type": "display_data"
    }
   ],
   "source": [
    "T = 50\n",
    "noise_cov = np.array([[1, 0], [0, 1]]) * noise_ratio       \n",
    "init_v = np.random.random(2) * np.random.choice([-1,1], size=2)\n",
    "v_norm = ((init_v ** 2 ).sum()) ** 0.5 ## compute norm for each initial velocity\n",
    "init_v = init_v / v_norm * dt ## to make the velocity lying on a circle\n",
    "mu_ks, cov_ks, Pi, Y, A_true, Zs_true = generate_seq_T(T, K, dt, Boundary, init_v, noise_cov)\n",
    "## true global variables\n",
    "cov_true = np.tile(noise_cov, (K, 1, 1))\n",
    "dirs = np.array([[1, 1], [1, -1], [-1, -1], [-1, 1]])\n",
    "mu_true = np.tile(np.absolute(init_v), (K, 1)) * dirs\n",
    "plot_clusters(Y.data.numpy(), mu_ks.data.numpy(), cov_ks.data.numpy(), K)"
   ]
  },
  {
   "cell_type": "code",
   "execution_count": 4,
   "metadata": {},
   "outputs": [],
   "source": [
    "class Encoder_Trans(nn.Module):\n",
    "    def __init__(self, num_obs=DIM_ENC_TRANS,\n",
    "                       num_hidden=NUM_HIDDEN,\n",
    "                       num_latents=NUM_LATENTS):\n",
    "        super(self.__class__, self).__init__()\n",
    "        self.enc_hidden = nn.Sequential(\n",
    "            nn.Linear(num_obs, num_hidden),\n",
    "            nn.Tanh())\n",
    "        self.latent_dir = nn.Sequential(\n",
    "            nn.Linear(num_hidden, num_latents))\n",
    "        \n",
    "    def forward(self, obs):\n",
    "        A_samples = torch.zeros((K, K))\n",
    "        hidden = self.enc_hidden(obs)\n",
    "        latents_dirs = F.softmax(self.latent_dir(hidden), -1).sum(0).view(K, K)\n",
    "        for k in range(K):\n",
    "            A_samples[k] = Dirichlet(latents_dirs[k]).sample()\n",
    "        return latents_dirs, A_samples"
   ]
  },
  {
   "cell_type": "code",
   "execution_count": 5,
   "metadata": {},
   "outputs": [],
   "source": [
    "class Encoder_Disp(nn.Module):\n",
    "    def __init__(self, num_obs=DIM_ENC_DISPS,\n",
    "                       num_hidden=NUM_HIDDEN,\n",
    "                       num_latents=NUM_LATENTS):\n",
    "        super(self.__class__, self).__init__()\n",
    "        self.enc_hidden = nn.Sequential(\n",
    "            nn.Linear(num_obs, num_hidden),\n",
    "            nn.Tanh())\n",
    "        self.latent_dir = nn.Sequential(\n",
    "            nn.Linear(num_hidden, num_latents))\n",
    "        \n",
    "    def forward(self, obs):\n",
    "        A_samples = torch.zeros((K, K))\n",
    "        hidden = self.enc_hidden(obs)\n",
    "        latents_dirs = F.softmax(self.latent_dir(hidden), -1).sum(0).view(K, K)\n",
    "        for k in range(K):\n",
    "            A_samples[k] = Dirichlet(latents_dirs[k]).sample()\n",
    "        return latents_dirs, A_samples"
   ]
  },
  {
   "cell_type": "code",
   "execution_count": 6,
   "metadata": {},
   "outputs": [],
   "source": [
    "def initialize():\n",
    "    enc_trans = Encoder_Trans()\n",
    "    enc_disp = Encoder_Disp()\n",
    "    optimizer =  torch.optim.Adam(list(enc_trans.parameters()) + list(enc_disp.parameters()),lr=LEARNING_RATE)    \n",
    "    return enc_trans, enc_disp, optimizer\n",
    "\n",
    "enc_trans, enc_disp, optimizer = initialize()"
   ]
  },
  {
   "cell_type": "code",
   "execution_count": null,
   "metadata": {},
   "outputs": [
    {
     "name": "stdout",
     "output_type": "stream",
     "text": [
      "epoch : 0, eubo : -320.348663, elbo : -342.121918, KL : 17.692108 (10s)\n",
      "epoch : 1, eubo : -329.838745, elbo : -347.262390, KL : 21.172470 (10s)\n",
      "epoch : 2, eubo : -245.809052, elbo : -261.868256, KL : 11.463478 (8s)\n",
      "epoch : 3, eubo : -290.460358, elbo : -313.209442, KL : 15.934342 (10s)\n",
      "epoch : 4, eubo : -330.458496, elbo : -349.704559, KL : 15.159503 (11s)\n",
      "epoch : 5, eubo : -242.373367, elbo : -261.616455, KL : 9.149508 (8s)\n",
      "epoch : 6, eubo : -346.837677, elbo : -367.353149, KL : 17.438978 (12s)\n",
      "epoch : 7, eubo : -318.982941, elbo : -340.748322, KL : 18.516718 (10s)\n",
      "epoch : 8, eubo : -257.970642, elbo : -274.039246, KL : 13.199965 (8s)\n",
      "epoch : 9, eubo : -287.020325, elbo : -306.328369, KL : 13.813136 (9s)\n",
      "epoch : 10, eubo : -267.040466, elbo : -287.376007, KL : 12.570797 (9s)\n",
      "epoch : 11, eubo : -263.291443, elbo : -280.219452, KL : 11.698223 (9s)\n",
      "epoch : 12, eubo : -254.963623, elbo : -268.655090, KL : 12.059903 (9s)\n",
      "epoch : 13, eubo : -325.101685, elbo : -341.785583, KL : 17.633652 (11s)\n",
      "epoch : 14, eubo : -331.461456, elbo : -350.397858, KL : 20.632158 (11s)\n",
      "epoch : 15, eubo : -273.081696, elbo : -294.346924, KL : 15.683874 (9s)\n",
      "epoch : 16, eubo : -246.403961, elbo : -262.030121, KL : 8.912692 (9s)\n",
      "epoch : 17, eubo : -269.220306, elbo : -290.304169, KL : 12.873016 (12s)\n",
      "epoch : 18, eubo : -288.195374, elbo : -303.111176, KL : 12.778695 (15s)\n",
      "epoch : 19, eubo : -337.504517, elbo : -354.195160, KL : 18.343578 (20s)\n",
      "epoch : 20, eubo : -256.896790, elbo : -273.773346, KL : 12.834380 (14s)\n",
      "epoch : 21, eubo : -254.605499, elbo : -265.050507, KL : 9.998248 (14s)\n",
      "epoch : 22, eubo : -274.786102, elbo : -287.052704, KL : 11.414324 (14s)\n",
      "epoch : 23, eubo : -239.773392, elbo : -255.574005, KL : 8.397814 (10s)\n",
      "epoch : 24, eubo : -246.117905, elbo : -261.294800, KL : 10.167903 (8s)\n",
      "epoch : 25, eubo : -318.092682, elbo : -334.965302, KL : 13.813341 (10s)\n",
      "epoch : 26, eubo : -347.941833, elbo : -374.990112, KL : 21.533215 (11s)\n",
      "epoch : 27, eubo : -275.508759, elbo : -301.222809, KL : 12.344049 (10s)\n",
      "epoch : 28, eubo : -342.706604, elbo : -361.501556, KL : 17.976891 (11s)\n",
      "epoch : 29, eubo : -357.627716, elbo : -375.091400, KL : 16.400993 (11s)\n",
      "epoch : 30, eubo : -261.956635, elbo : -280.297058, KL : 12.488177 (9s)\n"
     ]
    }
   ],
   "source": [
    "KLs = []\n",
    "EUBOs = []\n",
    "ESSs = []\n",
    "\n",
    "for epoch in range(NUM_EPOCHS):\n",
    "    time_start = time.time()\n",
    "    optimizer.zero_grad()\n",
    "    alpha_trans_0 = initial_trans_prior(K)\n",
    "    init_v = init_velocity(dt)\n",
    "    T = np.random.randint(T_min, T_max)\n",
    "    mu_ks, cov_ks, Pi, Y, A_true, Z_true = generate_seq_T(T, K, dt, Boundary, init_v, noise_cov)\n",
    "    eubo, kl, ess, latents_dirs_trans, elbo = twoshots_sampling(enc_trans, enc_disp, alpha_trans_0, Pi, mu_ks, cov_ks, Z_true, Y, T, D, K, num_particles, num_particles_smc)\n",
    "    eubo.backward()\n",
    "    KLs.append(kl.item())\n",
    "    EUBOs.append(eubo.item())\n",
    "    ESSs.append(ess)\n",
    "#     log_qs.append(loss_infer.item())\n",
    "    optimizer.step()\n",
    "    time_end = time.time()\n",
    "    print('epoch : %d, eubo : %f, elbo : %f, KL : %f (%ds)' % (epoch, eubo, elbo, kl, time_end - time_start))\n",
    "\n",
    "if RESTORE:\n",
    "    enc.load_state_dict(torch.load(PATH_ENC))\n",
    "else:\n",
    "    torch.save(enc.state_dict(), PATH_ENC)\n",
    "    save_params(KLs, EUBOs, ESSs, PATH_ENC)"
   ]
  },
  {
   "cell_type": "code",
   "execution_count": null,
   "metadata": {},
   "outputs": [],
   "source": [
    "plot_dirs(latents_dirs, alpha_trans_0, Z_true, T, K, vmax=15)"
   ]
  },
  {
   "cell_type": "code",
   "execution_count": null,
   "metadata": {},
   "outputs": [],
   "source": [
    "plot_results(EUBOs, KLs, ESSs)"
   ]
  },
  {
   "cell_type": "code",
   "execution_count": null,
   "metadata": {},
   "outputs": [],
   "source": [
    "if RESTORE:\n",
    "    enc.load_state_dict(torch.load(PATH_ENC))\n",
    "else:\n",
    "    torch.save(enc.state_dict(), PATH_ENC)\n",
    "    save_params(KLs, EUBOs, ESSs, PATH_ENC)"
   ]
  },
  {
   "cell_type": "code",
   "execution_count": null,
   "metadata": {},
   "outputs": [],
   "source": []
  }
 ],
 "metadata": {
  "kernelspec": {
   "display_name": "Python 3",
   "language": "python",
   "name": "python3"
  },
  "language_info": {
   "codemirror_mode": {
    "name": "ipython",
    "version": 3
   },
   "file_extension": ".py",
   "mimetype": "text/x-python",
   "name": "python",
   "nbconvert_exporter": "python",
   "pygments_lexer": "ipython3",
   "version": "3.6.6"
  }
 },
 "nbformat": 4,
 "nbformat_minor": 2
}
