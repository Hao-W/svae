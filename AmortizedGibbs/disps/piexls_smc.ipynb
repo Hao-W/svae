{
 "cells": [
  {
   "cell_type": "code",
   "execution_count": 10,
   "metadata": {},
   "outputs": [
    {
     "name": "stdout",
     "output_type": "stream",
     "text": [
      "('probtorch:', '0.0+5a2c637', 'torch:', '1.0.0.dev20181029', 'cuda:', True)\n"
     ]
    }
   ],
   "source": [
    "%matplotlib inline\n",
    "import numpy as np\n",
    "import torch.nn as nn\n",
    "import torch.nn.functional as F\n",
    "import matplotlib.pyplot as plt\n",
    "from data import *\n",
    "from baseline_smc import *\n",
    "from plots import *\n",
    "from torch.distributions.dirichlet import Dirichlet\n",
    "from torch.distributions.normal import Normal\n",
    "import sys\n",
    "import datetime\n",
    "import time \n",
    "sys.path.append('/home/hao/Research/probtorch/')\n",
    "import probtorch\n",
    "print('probtorch:', probtorch.__version__, \n",
    "      'torch:', torch.__version__, \n",
    "      'cuda:', torch.cuda.is_available())"
   ]
  },
  {
   "cell_type": "code",
   "execution_count": 11,
   "metadata": {},
   "outputs": [],
   "source": [
    "## Dataset parameters\n",
    "num_series = 1\n",
    "## range of length of tracjectories, need to be positive integers\n",
    "T_min = 50\n",
    "T_max = 60\n",
    "K = 4\n",
    "D = 2\n",
    "dt = 5\n",
    "Boundary = 30\n",
    "noise_ratio = 2.0\n",
    "\n",
    "## Model Parameters\n",
    "num_particles = 50\n",
    "num_particles_smc = 30\n",
    "NUM_HIDDEN_TRANS = 32\n",
    "NUM_LATENTS_TRANS = K*K\n",
    "NUM_OBS_TRANS = 2 * D\n",
    "\n",
    "#\n",
    "NUM_PIXELS = 28*28\n",
    "NUM_HIDDEN_VAE = 128\n",
    "NUM_LATENT_VAE = 2\n",
    "NUM_SAMPLES = 50\n",
    "\n",
    "\n",
    "NUM_EPOCHS = 400\n",
    "LEARNING_RATE = 1e-3\n",
    "CUDA = False\n",
    "RESTORE = False\n",
    "PATH_ENC = \"weights/1shot_enc-%dIS-enc-%s\" % (num_particles, datetime.datetime.fromtimestamp(time.time()).strftime('%Y-%m-%d %H:%M:%S'))"
   ]
  },
  {
   "cell_type": "code",
   "execution_count": 12,
   "metadata": {},
   "outputs": [
    {
     "data": {
      "image/png": "[encoded data removed]",
      "text/plain": [
       "<Figure size 288x288 with 1 Axes>"
      ]
     },
     "metadata": {
      "needs_background": "light"
     },
     "output_type": "display_data"
    }
   ],
   "source": [
    "T = 50\n",
    "noise_cov = np.array([[1, 0], [0, 1]]) * noise_ratio       \n",
    "init_v = np.random.random(2) * np.random.choice([-1,1], size=2)\n",
    "v_norm = ((init_v ** 2 ).sum()) ** 0.5 ## compute norm for each initial velocity\n",
    "init_v = init_v / v_norm * dt ## to make the velocity lying on a circle\n",
    "STATE, mu_ks, cov_ks, Pi, Y, A_true, Zs_true = generate_seq(T, K, dt, Boundary, init_v, noise_cov)\n",
    "\n",
    "plot_clusters(Y.data.numpy(), mu_ks.data.numpy(), cov_ks.data.numpy(), K)"
   ]
  },
  {
   "cell_type": "code",
   "execution_count": 6,
   "metadata": {},
   "outputs": [
    {
     "ename": "NameError",
     "evalue": "name 'expand_inputs' is not defined",
     "output_type": "error",
     "traceback": [
      "\u001b[0;31m---------------------------------------------------------------------------\u001b[0m",
      "\u001b[0;31mNameError\u001b[0m                                 Traceback (most recent call last)",
      "\u001b[0;32m<ipython-input-6-f109beaa830f>\u001b[0m in \u001b[0;36m<module>\u001b[0;34m()\u001b[0m\n\u001b[1;32m     20\u001b[0m \u001b[0;34m\u001b[0m\u001b[0m\n\u001b[1;32m     21\u001b[0m  \u001b[0;31m## VAE\u001b[0m\u001b[0;34m\u001b[0m\u001b[0;34m\u001b[0m\u001b[0m\n\u001b[0;32m---> 22\u001b[0;31m \u001b[0;32mclass\u001b[0m \u001b[0mEncoder\u001b[0m\u001b[0;34m(\u001b[0m\u001b[0mnn\u001b[0m\u001b[0;34m.\u001b[0m\u001b[0mModule\u001b[0m\u001b[0;34m)\u001b[0m\u001b[0;34m:\u001b[0m\u001b[0;34m\u001b[0m\u001b[0m\n\u001b[0m\u001b[1;32m     23\u001b[0m     def __init__(self, num_pixels=NUM_PIXELS, \n\u001b[1;32m     24\u001b[0m                        \u001b[0mnum_hidden\u001b[0m\u001b[0;34m=\u001b[0m\u001b[0mNUM_HIDDEN_VAE\u001b[0m\u001b[0;34m,\u001b[0m\u001b[0;34m\u001b[0m\u001b[0m\n",
      "\u001b[0;32m<ipython-input-6-f109beaa830f>\u001b[0m in \u001b[0;36mEncoder\u001b[0;34m()\u001b[0m\n\u001b[1;32m     34\u001b[0m         \u001b[0mself\u001b[0m\u001b[0;34m.\u001b[0m\u001b[0mz_mean\u001b[0m \u001b[0;34m=\u001b[0m \u001b[0mnn\u001b[0m\u001b[0;34m.\u001b[0m\u001b[0mLinear\u001b[0m\u001b[0;34m(\u001b[0m\u001b[0mnum_hidden\u001b[0m\u001b[0;34m,\u001b[0m \u001b[0mnum_latent\u001b[0m\u001b[0;34m)\u001b[0m\u001b[0;34m\u001b[0m\u001b[0m\n\u001b[1;32m     35\u001b[0m         \u001b[0mself\u001b[0m\u001b[0;34m.\u001b[0m\u001b[0mz_log_std\u001b[0m \u001b[0;34m=\u001b[0m \u001b[0mnn\u001b[0m\u001b[0;34m.\u001b[0m\u001b[0mLinear\u001b[0m\u001b[0;34m(\u001b[0m\u001b[0mnum_hidden\u001b[0m\u001b[0;34m,\u001b[0m \u001b[0mnum_latent\u001b[0m\u001b[0;34m)\u001b[0m\u001b[0;34m\u001b[0m\u001b[0m\n\u001b[0;32m---> 36\u001b[0;31m     \u001b[0;34m@\u001b[0m\u001b[0mexpand_inputs\u001b[0m\u001b[0;34m\u001b[0m\u001b[0m\n\u001b[0m\u001b[1;32m     37\u001b[0m     \u001b[0;32mdef\u001b[0m \u001b[0mforward\u001b[0m\u001b[0;34m(\u001b[0m\u001b[0mself\u001b[0m\u001b[0;34m,\u001b[0m \u001b[0mimages\u001b[0m\u001b[0;34m,\u001b[0m \u001b[0mlabels\u001b[0m\u001b[0;34m=\u001b[0m\u001b[0mNone\u001b[0m\u001b[0;34m,\u001b[0m \u001b[0mnum_samples\u001b[0m\u001b[0;34m=\u001b[0m\u001b[0mNUM_SAMPLES\u001b[0m\u001b[0;34m)\u001b[0m\u001b[0;34m:\u001b[0m\u001b[0;34m\u001b[0m\u001b[0m\n\u001b[1;32m     38\u001b[0m         \u001b[0mq\u001b[0m \u001b[0;34m=\u001b[0m \u001b[0mprobtorch\u001b[0m\u001b[0;34m.\u001b[0m\u001b[0mTrace\u001b[0m\u001b[0;34m(\u001b[0m\u001b[0;34m)\u001b[0m\u001b[0;34m\u001b[0m\u001b[0m\n",
      "\u001b[0;31mNameError\u001b[0m: name 'expand_inputs' is not defined"
     ]
    }
   ],
   "source": [
    "class Trans_Encoder(nn.Module):\n",
    "    def __init__(self, num_obs=NUM_OBS_TRANS,\n",
    "                       num_hidden=NUM_HIDDEN_TRANS,\n",
    "                       num_latents=NUM_HIDDEN_TRANS):\n",
    "        super(self.__class__, self).__init__()\n",
    "        self.enc_hidden = nn.Sequential(\n",
    "            nn.Linear(num_obs, num_hidden),\n",
    "            nn.Tanh())\n",
    "        self.latent_dir = nn.Sequential(\n",
    "            nn.Linear(num_hidden, num_latents))\n",
    "        \n",
    "    def forward(self, obs, prior):\n",
    "        A_sample = torch.zeros((K, K))\n",
    "        hidden = self.enc_hidden(obs)\n",
    "        variational = F.softmax(self.latent_dir(hidden), -1).sum(0).view(K, K) + prior\n",
    "        for k in range(K):\n",
    "            A_sample[k] = Dirichlet(variational[k]).sample()\n",
    "        return variational, A_sample\n",
    "    \n",
    "\n",
    " ## VAE\n",
    "class Encoder(nn.Module):\n",
    "    def __init__(self, num_pixels=NUM_PIXELS, \n",
    "                       num_hidden=NUM_HIDDEN_VAE,\n",
    "                       num_latent=NUM_LATENT_VAE):\n",
    "        super(self.__class__, self).__init__()\n",
    "\n",
    "        self.enc_hidden = nn.Sequential( \n",
    "                            nn.Linear(num_pixels, num_hidden),\n",
    "                            nn.ReLU(),\n",
    "                            nn.Linear(num_hidden, num_hidden),\n",
    "                            nn.ReLU())\n",
    "        \n",
    "        self.z_mean = nn.Linear(num_hidden, num_latent)\n",
    "        self.z_log_std = nn.Linear(num_hidden, num_latent)\n",
    "        \n",
    "    def forward(self, images, num_samples=NUM_SAMPLES):\n",
    "        hiddens = self.enc_hidden(images)\n",
    "        latents_means = self.z_mean(hiddens),\n",
    "        latents_std = self.z_log_std(hiddens).exp()\n",
    "        Normal(latents_means, latents_std).sample(())\n",
    "        return q   "
   ]
  },
  {
   "cell_type": "code",
   "execution_count": null,
   "metadata": {},
   "outputs": [],
   "source": [
    "def initialize():\n",
    "    enc = Encoder()\n",
    "    if CUDA:\n",
    "        enc.cuda()\n",
    "    optimizer =  torch.optim.Adam(list(enc.parameters()),lr=LEARNING_RATE)    \n",
    "    return enc, optimizer\n",
    "enc, optimizer = initialize()"
   ]
  },
  {
   "cell_type": "code",
   "execution_count": null,
   "metadata": {},
   "outputs": [],
   "source": [
    "KLs = []\n",
    "EUBOs = []\n",
    "ESSs = []\n",
    "ELBOs = []\n",
    "for epoch in range(NUM_EPOCHS):\n",
    "    time_start = time.time()\n",
    "    optimizer.zero_grad()\n",
    "    alpha_trans_0 = initial_trans_prior(K)\n",
    "    init_v = init_velocity(dt)\n",
    "    T = np.random.randint(T_min, T_max)\n",
    "    STATE, mu_ks, cov_ks, Pi, Y, A_true, Zs_true = generate_seq(T, K, dt, Boundary, init_v, noise_cov)\n",
    "    enc, eubo, kl, ess, variational, elbo = oneshot_sampling(enc, alpha_trans_0, Pi, mu_ks, cov_ks, Y, T, D, K, num_particles, num_particles_smc)\n",
    "    eubo.backward()\n",
    "    KLs.append(kl.item())\n",
    "    EUBOs.append(eubo.item())\n",
    "    ESSs.append(ess)\n",
    "    ELBOs.append(elbo.item())\n",
    "#     log_qs.append(loss_infer.item())\n",
    "    optimizer.step()\n",
    "    time_end = time.time()\n",
    "    print('epoch : %d, eubo : %f, elbo : %f,  KL : %f (%ds)' % (epoch, eubo, elbo, kl, time_end - time_start))\n",
    "\n",
    "if RESTORE:\n",
    "    enc.load_state_dict(torch.load(PATH_ENC))\n",
    "else:\n",
    "    torch.save(enc.state_dict(), PATH_ENC)\n",
    "    save_params(KLs, EUBOs, ESSs, PATH_ENC)"
   ]
  },
  {
   "cell_type": "code",
   "execution_count": null,
   "metadata": {},
   "outputs": [],
   "source": [
    "# plot_dirs(variational, alpha_trans_0, Zs_true, T, K, vmax=15)"
   ]
  },
  {
   "cell_type": "code",
   "execution_count": null,
   "metadata": {},
   "outputs": [],
   "source": [
    "# conjugate_post = alpha_trans_0 + pairwise(Z_true, T).sum(0)\n",
    "# variational = alpha_trans_0 + latents_dirs\n",
    "# conjugate_post.sum()"
   ]
  },
  {
   "cell_type": "code",
   "execution_count": null,
   "metadata": {},
   "outputs": [],
   "source": [
    "def plot_results(EUBOs, ELBOs, KLs, ESSs, PATH_ENC):\n",
    "    fig, ax = plt.subplots(figsize=(16, 8))\n",
    "    ax1 = fig.add_subplot(1,2,1)\n",
    "    x = np.arange(len(EUBOs))\n",
    "    ax1.plot(EUBOs, 'r-', label='eubo')\n",
    "    ax1.plot(ELBOs, 'b-', label='elbo')\n",
    "    ax1.plot(KLs, 'g-', label='KL')\n",
    "    ax1.legend()\n",
    "    ax1.set_xlabel('epochs')\n",
    "    ax2 = fig.add_subplot(1,2,2)\n",
    "    ax2.plot(np.array(ESSs))\n",
    "    fig.savefig(PATH_ENC + 'results.png')\n",
    "\n",
    "plot_results(EUBOs, ELBOs, KLs, ESSs, PATH_ENC)"
   ]
  },
  {
   "cell_type": "code",
   "execution_count": null,
   "metadata": {},
   "outputs": [],
   "source": []
  },
  {
   "cell_type": "code",
   "execution_count": null,
   "metadata": {},
   "outputs": [],
   "source": [
    "init_v = init_velocity(dt)\n",
    "T = np.random.randint(T_min, T_max)\n",
    "STATE, mu_ks, cov_ks, Pi, Y, A_true, Zs_true = generate_seq(T, K, dt, Boundary, init_v, noise_cov)\n",
    "\n",
    "Y_pairwise = torch.cat((Y[:-1].unsqueeze(0), Y[1:].unsqueeze(0)), 0).transpose(0, 1).contiguous().view(T-1, 2*D)\n",
    "variational, A_sample = enc(Y_pairwise, alpha_trans_0)\n",
    "Zs, log_weights, log_normalizer = smc_hmm(Pi, A_sample, mu_ks, cov_ks, Y, T, D, K, num_particles_smc)\n",
    "Z_ret = resampling_smc(Zs, log_weights)"
   ]
  },
  {
   "cell_type": "code",
   "execution_count": null,
   "metadata": {},
   "outputs": [],
   "source": [
    "np.around(torch.cat((Z_ret, Y), -1).data.numpy(), 2)"
   ]
  },
  {
   "cell_type": "code",
   "execution_count": null,
   "metadata": {},
   "outputs": [],
   "source": []
  }
 ],
 "metadata": {
  "kernelspec": {
   "display_name": "Python 2",
   "language": "python",
   "name": "python2"
  },
  "language_info": {
   "codemirror_mode": {
    "name": "ipython",
    "version": 2
   },
   "file_extension": ".py",
   "mimetype": "text/x-python",
   "name": "python",
   "nbconvert_exporter": "python",
   "pygments_lexer": "ipython2",
   "version": "2.7.15rc1"
  }
 },
 "nbformat": 4,
 "nbformat_minor": 2
}
