{
 "cells": [
  {
   "cell_type": "code",
   "execution_count": 1,
   "metadata": {},
   "outputs": [],
   "source": [
    "%matplotlib inline\n",
    "import matplotlib.pyplot as plt\n",
    "import time\n",
    "import torch\n",
    "from torch import logsumexp\n",
    "import torch.nn.functional as F\n",
    "from torch.distributions.normal import Normal\n",
    "\n",
    "import numpy as np\n",
    "from utils_v2 import *\n",
    "from plots import *\n",
    "from objectives_v2 import *"
   ]
  },
  {
   "cell_type": "code",
   "execution_count": 10,
   "metadata": {},
   "outputs": [],
   "source": [
    "## training parameters\n",
    "NUM_SAMPLES = 1000\n",
    "# ## model parameters\n",
    "# p_mu = torch.tensor([0.0])\n",
    "# p_sigma = torch.tensor([1.0])\n",
    "q_mu = torch.tensor([8.0], requires_grad=True)\n",
    "q_sigma = torch.tensor([2.0], requires_grad=True) \n",
    "# ## initialize optimizer\n",
    "# optimizer = torch.optim.SGD([q_mu, q_sigma], lr=LEARNING_RATE)"
   ]
  },
  {
   "cell_type": "code",
   "execution_count": 11,
   "metadata": {},
   "outputs": [],
   "source": [
    "epsilon = Normal(torch.zeros(NUM_SAMPLES), torch.ones(NUM_SAMPLES)).sample()\n",
    "x = epsilon * q_sigma + q_mu\n",
    "grad_mu = - q_mu - q_sigma * epsilon\n",
    "grad_mu_d = - q_mu - q_sigma * epsilon + epsilon / q_sigma"
   ]
  },
  {
   "cell_type": "code",
   "execution_count": 12,
   "metadata": {},
   "outputs": [
    {
     "data": {
      "text/plain": [
       "<matplotlib.legend.Legend at 0x7fd599ba9588>"
      ]
     },
     "execution_count": 12,
     "metadata": {},
     "output_type": "execute_result"
    },
    {
     "data": {
      "image/png": "[encoded data removed]",
      "text/plain": [
       "<Figure size 432x288 with 1 Axes>"
      ]
     },
     "metadata": {},
     "output_type": "display_data"
    }
   ],
   "source": [
    "plt.scatter(x.data.numpy(), grad_mu.data.numpy(), label='Re')\n",
    "plt.scatter(x.data.numpy(), grad_mu_d.data.numpy(), label='DRe')\n",
    "plt.legend()"
   ]
  },
  {
   "cell_type": "code",
   "execution_count": null,
   "metadata": {},
   "outputs": [],
   "source": []
  }
 ],
 "metadata": {
  "kernelspec": {
   "display_name": "Python 3",
   "language": "python",
   "name": "python3"
  },
  "language_info": {
   "codemirror_mode": {
    "name": "ipython",
    "version": 3
   },
   "file_extension": ".py",
   "mimetype": "text/x-python",
   "name": "python",
   "nbconvert_exporter": "python",
   "pygments_lexer": "ipython3",
   "version": "3.6.7"
  }
 },
 "nbformat": 4,
 "nbformat_minor": 2
}
