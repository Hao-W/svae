{
 "cells": [
  {
   "cell_type": "code",
   "execution_count": 1,
   "metadata": {},
   "outputs": [
    {
     "name": "stdout",
     "output_type": "stream",
     "text": [
      "probtorch: 0.0+5a2c637 torch: 1.3.0\n",
      "inference method:baseline-lstm, epochs:300, sample size:10, batch size:20, learning rate:0.0001\n"
     ]
    }
   ],
   "source": [
    "%run ../../import_envs.py\n",
    "%run ../baseline_hyperparams.py\n",
    "\n",
    "CUDA = torch.cuda.is_available()\n",
    "DEVICE = torch.device('cuda:1')"
   ]
  },
  {
   "cell_type": "code",
   "execution_count": 3,
   "metadata": {},
   "outputs": [
    {
     "ename": "NameError",
     "evalue": "name 'LOAD_VERSION' is not defined",
     "output_type": "error",
     "traceback": [
      "\u001b[0;31m---------------------------------------------------------------------------\u001b[0m",
      "\u001b[0;31mNameError\u001b[0m                                 Traceback (most recent call last)",
      "\u001b[0;32m<ipython-input-3-8f5f1771f3ab>\u001b[0m in \u001b[0;36m<module>\u001b[0;34m\u001b[0m\n\u001b[1;32m     10\u001b[0m                     \u001b[0mCUDA\u001b[0m\u001b[0;34m=\u001b[0m\u001b[0mCUDA\u001b[0m\u001b[0;34m,\u001b[0m\u001b[0;34m\u001b[0m\u001b[0;34m\u001b[0m\u001b[0m\n\u001b[1;32m     11\u001b[0m                     \u001b[0mDEVICE\u001b[0m\u001b[0;34m=\u001b[0m\u001b[0mDEVICE\u001b[0m\u001b[0;34m,\u001b[0m\u001b[0;34m\u001b[0m\u001b[0;34m\u001b[0m\u001b[0m\n\u001b[0;32m---> 12\u001b[0;31m                     \u001b[0mLOAD_VERSION\u001b[0m\u001b[0;34m=\u001b[0m\u001b[0mLOAD_VERSION\u001b[0m\u001b[0;34m,\u001b[0m\u001b[0;34m\u001b[0m\u001b[0;34m\u001b[0m\u001b[0m\n\u001b[0m\u001b[1;32m     13\u001b[0m                     LR=None)\n",
      "\u001b[0;31mNameError\u001b[0m: name 'LOAD_VERSION' is not defined"
     ]
    }
   ],
   "source": [
    "# load test data\n",
    "test_sets = ['pts_120', 'pts_160', 'pts_200', 'pts_400', 'pts_600']\n",
    "DATAs = []\n",
    "for s in test_sets:\n",
    "    data = torch.from_numpy(np.load(DATA_DIR + 'ncmm/test/' + s + '/' + 'ob.npy')).float() ## load testing datasets\n",
    "    DATAs.append(data)\n",
    "## load the weights\n",
    "from apg_modeling import init_model\n",
    "model = init_model(model_params=model_params, \n",
    "                    CUDA=CUDA, \n",
    "                    DEVICE=DEVICE, \n",
    "                    LOAD_VERSION=LOAD_VERSION,\n",
    "                    LR=None)"
   ]
  },
  {
   "cell_type": "code",
   "execution_count": 3,
   "metadata": {},
   "outputs": [],
   "source": [
    "## visualize samples\n",
    "from apg_testing import sample_data_uniform, test_single\n",
    "from apg_objective import apg_objective\n",
    "from viz import viz_samples\n",
    "\n",
    "APG_SWEEPS_TEST = 12\n",
    "DATA_PTR = 3\n",
    "SAVE_NAME = 'samples-%d' % DATA_PTR\n",
    "\n",
    "datas = sample_data_uniform(DATAs=DATAs, \n",
    "                            data_ptr=DATA_PTR)\n",
    "\n",
    "metrics = test_single(model=model, \n",
    "                      apg_objective=apg_objective, \n",
    "                      apg_sweeps=APG_SWEEPS_TEST, \n",
    "                      datas=datas, \n",
    "                      sample_size=1, \n",
    "                      CUDA=CUDA, \n",
    "                      DEVICE=DEVICE)\n",
    "\n",
    "viz_samples(datas=datas,\n",
    "            metrics=metrics,\n",
    "            apg_sweeps=APG_SWEEPS_TEST,\n",
    "            K=K, \n",
    "            viz_interval=3, \n",
    "            figure_size=15, \n",
    "            title_fontsize=20, \n",
    "            marker_size=5.0, \n",
    "            opacity=0.3, \n",
    "            bound=15, \n",
    "            colors=['#AA3377', '#EE7733', '#009988', '#0077BB', '#BBBBBB', '#EE3377', '#DDCC77'],\n",
    "            save_name=None)"
   ]
  },
  {
   "cell_type": "code",
   "execution_count": 6,
   "metadata": {},
   "outputs": [],
   "source": [
    "## plot the ess and log joint\n",
    "APG_SWEEP_TEST = 30\n",
    "SAMPLE_SIZE_TEST = 100\n",
    "metrics = test_single(model=model, \n",
    "                      apg_objective=apg_objective, \n",
    "                      apg_sweeps=APG_SWEEP_TEST, \n",
    "                      datas=datas, \n",
    "                      sample_size=SAMPLE_SIZE_TEST, \n",
    "                      CUDA=CUDA, \n",
    "                      DEVICE=DEVICE)\n",
    "\n",
    "# viz_metrics(metrics, figure_size, title_fontsize, save_name=)"
   ]
  },
  {
   "cell_type": "code",
   "execution_count": null,
   "metadata": {},
   "outputs": [],
   "source": []
  }
 ],
 "metadata": {
  "kernelspec": {
   "display_name": "Python 3",
   "language": "python",
   "name": "python3"
  },
  "language_info": {
   "codemirror_mode": {
    "name": "ipython",
    "version": 3
   },
   "file_extension": ".py",
   "mimetype": "text/x-python",
   "name": "python",
   "nbconvert_exporter": "python",
   "pygments_lexer": "ipython3",
   "version": "3.7.3"
  }
 },
 "nbformat": 4,
 "nbformat_minor": 4
}
