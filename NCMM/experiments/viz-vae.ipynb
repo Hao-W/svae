{
 "cells": [
  {
   "cell_type": "code",
   "execution_count": 1,
   "metadata": {},
   "outputs": [
    {
     "name": "stdout",
     "output_type": "stream",
     "text": [
      "probtorch: 0.0+5a2c637 torch: 1.0.0 cuda: True\n"
     ]
    }
   ],
   "source": [
    "%matplotlib inline\n",
    "%run ../../import_envs.py\n",
    "print('probtorch:', probtorch.__version__, \n",
    "      'torch:', torch.__version__, \n",
    "      'cuda:', torch.cuda.is_available())"
   ]
  },
  {
   "cell_type": "code",
   "execution_count": 2,
   "metadata": {},
   "outputs": [],
   "source": [
    "%run PARAMETERS.py\n",
    "NAME = 'VAE'\n",
    "PATH = 'VAE-200pts' \n",
    "CUDA = torch.cuda.is_available()\n",
    "DEVICE = torch.device('cuda:0')\n",
    "\n",
    "Data_test = []\n",
    "Ns = [120, 160, 200, 400, 600] \n",
    "for i in range(5):\n",
    "    data = torch.from_numpy(np.load('/home/hao/Research/ncmm/rings_%d/' % (Ns[i]) + 'ob_%d.npy' % (Ns[i]))).float()\n",
    "    Data_test.append(data)"
   ]
  },
  {
   "cell_type": "code",
   "execution_count": 3,
   "metadata": {},
   "outputs": [],
   "source": [
    "from model_operations import Init_models_test\n",
    "\n",
    "models = Init_models_test(K, \n",
    "                        D, \n",
    "                        hidden_list=HIDDEN_LIST, \n",
    "                        RECON_SIGMA=RECON_SIGMA, \n",
    "                        CUDA=CUDA, \n",
    "                        device=DEVICE, \n",
    "                        lr=LEARNING_RATE, \n",
    "                        RESTORE=True, \n",
    "                        PATH=PATH,\n",
    "                        NAME=NAME)"
   ]
  },
  {
   "cell_type": "code",
   "execution_count": 4,
   "metadata": {},
   "outputs": [],
   "source": [
    "from vae import VAE_test\n",
    "MCMC_STEPS = 0\n",
    "S = 500\n",
    "B = 20\n",
    "Test_Params = (K, S, B, DEVICE)\n",
    "def Test_ALL(objective, data_g, mcmc_steps, Test_Params):\n",
    "    Metrics = {'log_joint' : [], 'ess' : []}\n",
    "    (K, S, B, DEVICE) = Test_Params\n",
    "    NUM_DATASETS = data_g.shape[0]\n",
    "    NUM_BATCHES = int((NUM_DATASETS / B))\n",
    "    for step in range(NUM_BATCHES):\n",
    "        ob = data_g[step*B : (step+1)*B]\n",
    "        ob = ob.repeat(S, 1, 1, 1)\n",
    "        ob = ob.cuda().to(DEVICE)\n",
    "        metrics = VAE_test(models, ob, 0, K)\n",
    "        Metrics['ess'].append(metrics['ess'] / S)\n",
    "        Metrics['log_joint'].append(metrics['log_joint'])\n",
    "\n",
    "    return Metrics"
   ]
  },
  {
   "cell_type": "code",
   "execution_count": 5,
   "metadata": {},
   "outputs": [
    {
     "name": "stdout",
     "output_type": "stream",
     "text": [
      "CPU times: user 9.36 s, sys: 2.56 s, total: 11.9 s\n",
      "Wall time: 11.9 s\n",
      "group=0 (11s)\n",
      "CPU times: user 12.6 s, sys: 3.41 s, total: 16 s\n",
      "Wall time: 16 s\n",
      "group=1 (15s)\n",
      "CPU times: user 15.3 s, sys: 4.32 s, total: 19.6 s\n",
      "Wall time: 19.6 s\n",
      "group=2 (19s)\n",
      "CPU times: user 30.5 s, sys: 8.53 s, total: 39 s\n",
      "Wall time: 39.1 s\n",
      "group=3 (39s)\n",
      "CPU times: user 46.6 s, sys: 14.6 s, total: 1min 1s\n",
      "Wall time: 1min 1s\n",
      "group=4 (61s)\n"
     ]
    }
   ],
   "source": [
    "for g, data_g in enumerate(Data_test):\n",
    "    time_start = time.time()\n",
    "    %time Metrics = Test_ALL(VAE_test, data_g, MCMC_STEPS, Test_Params)\n",
    "    time_end = time.time()\n",
    "    print('group=%d (%ds)' % (g, (time_end - time_start)))\n",
    "    for key in Metrics.keys():\n",
    "        np.save('vae_%s-%s' % (Ns[g], key), torch.cat(Metrics[key], 0))"
   ]
  },
  {
   "cell_type": "code",
   "execution_count": null,
   "metadata": {},
   "outputs": [],
   "source": [
    "from testing import Eval\n",
    "from viz_mc import Viz_MC\n",
    "from apg import APG_test\n",
    "\n",
    "\n",
    "BATCH_SIZE = 5\n",
    "Viz_INTERVAL = 4\n",
    "FS = 10\n",
    "TITLE_FS = 20\n",
    "OB_MS = 2.0\n",
    "MU_MARKER = 'X'\n",
    "MU_MS = 100\n",
    "OPACITY = 1.0\n",
    "BOUND = 10\n",
    "COLORS = ['#EE7733', '#0077BB', '#AA3377', '#009988']\n",
    "DATA_PTR = 3\n",
    "\n",
    "Data = []"
   ]
  },
  {
   "cell_type": "code",
   "execution_count": null,
   "metadata": {},
   "outputs": [],
   "source": [
    "evaluator = Eval(K, D, BATCH_SIZE, CUDA, DEVICE)\n",
    "visualizer = Viz_MC(K, Viz_INTERVAL, FS, TITLE_FS, OB_MS, MU_MARKER, MU_MS, OPACITY, BOUND, COLORS)\n",
    "# Metrics_sample = evaluator.Test_uniform(models, APG_test, Data, DATA_PTR, mcmc_steps=8, sample_size=1)\n",
    "\n",
    "# visualizer.Plot_chains(Metrics_sample['data'], Metrics_sample['samples'], Metrics_sample['recon'], filename='ncmm-samples-%d' % DATA_PTR)"
   ]
  },
  {
   "cell_type": "code",
   "execution_count": null,
   "metadata": {},
   "outputs": [],
   "source": [
    "L = 100\n",
    "Metrics_converge = evaluator.Test_uniform(models, APG_test, Data, DATA_PTR, mcmc_steps=15, sample_size=L)\n",
    "visualizer.Plot_metrics(Metrics_converge['ll'], Metrics_converge['ess'], sample_size=L, filename='ncmm-metrics-1')"
   ]
  },
  {
   "cell_type": "code",
   "execution_count": null,
   "metadata": {},
   "outputs": [],
   "source": []
  }
 ],
 "metadata": {
  "kernelspec": {
   "display_name": "Python 3",
   "language": "python",
   "name": "python3"
  },
  "language_info": {
   "codemirror_mode": {
    "name": "ipython",
    "version": 3
   },
   "file_extension": ".py",
   "mimetype": "text/x-python",
   "name": "python",
   "nbconvert_exporter": "python",
   "pygments_lexer": "ipython3",
   "version": "3.6.7"
  }
 },
 "nbformat": 4,
 "nbformat_minor": 2
}
