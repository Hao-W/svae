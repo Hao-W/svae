{
 "cells": [
  {
   "cell_type": "code",
   "execution_count": 1,
   "metadata": {},
   "outputs": [
    {
     "name": "stdout",
     "output_type": "stream",
     "text": [
      "probtorch: 0.0+5a2c637 torch: 1.0.0 cuda: True\n"
     ]
    }
   ],
   "source": [
    "%matplotlib inline\n",
    "%run ../../import_envs.py\n",
    "print('probtorch:', probtorch.__version__, \n",
    "      'torch:', torch.__version__, \n",
    "      'cuda:', torch.cuda.is_available())"
   ]
  },
  {
   "cell_type": "code",
   "execution_count": 4,
   "metadata": {},
   "outputs": [],
   "source": [
    "%run PARAMETERS.py\n",
    "NAME = 'APG'\n",
    "MCMC_STEPS = 6\n",
    "PATH = NAME + '-1st-arch-%dpts-%dsamples' % ((N*K), SAMPLE_SIZE)\n",
    "\n",
    "CUDA = torch.cuda.is_available()\n",
    "DEVICE = torch.device('cuda:1')"
   ]
  },
  {
   "cell_type": "code",
   "execution_count": 5,
   "metadata": {},
   "outputs": [],
   "source": [
    "from model_operations import Init_models, Save_models\n",
    "\n",
    "models, optimizer = Init_models(K, \n",
    "                                D, \n",
    "                                hidden_list=HIDDEN_LIST, \n",
    "                                RECON_SIGMA=RECON_SIGMA, \n",
    "                                CUDA=CUDA, \n",
    "                                device=DEVICE, \n",
    "                                lr=LEARNING_RATE, \n",
    "                                RESTORE=True, \n",
    "                                PATH=PATH, \n",
    "                                NAME=NAME)"
   ]
  },
  {
   "cell_type": "code",
   "execution_count": null,
   "metadata": {},
   "outputs": [
    {
     "name": "stdout",
     "output_type": "stream",
     "text": [
      "Completed  in (108s),  phi_loss: -322.059,  theta_loss: 891.528,  ess_z: 8.111,  ess_mu: 4.309\n",
      "Completed  in (108s),  phi_loss: -251.052,  theta_loss: 943.776,  ess_z: 9.175,  ess_mu: 3.847\n",
      "Completed  in (107s),  phi_loss: -198.362,  theta_loss: 993.182,  ess_z: 10.427,  ess_mu: 3.568\n",
      "Completed  in (107s),  phi_loss: -161.290,  theta_loss: 1034.693,  ess_z: 11.839,  ess_mu: 3.396\n",
      "Completed  in (107s),  phi_loss: -136.625,  theta_loss: 1069.240,  ess_z: 12.914,  ess_mu: 3.359\n",
      "Completed  in (108s),  phi_loss: -121.885,  theta_loss: 1090.184,  ess_z: 13.319,  ess_mu: 3.378\n",
      "Completed  in (109s),  phi_loss: -116.445,  theta_loss: 1099.457,  ess_z: 13.528,  ess_mu: 3.455\n",
      "Completed  in (108s),  phi_loss: -113.401,  theta_loss: 1106.022,  ess_z: 13.681,  ess_mu: 3.485\n",
      "Completed  in (108s),  phi_loss: -110.558,  theta_loss: 1110.530,  ess_z: 13.754,  ess_mu: 3.476\n",
      "Completed  in (109s),  phi_loss: -107.653,  theta_loss: 1117.750,  ess_z: 13.778,  ess_mu: 3.438\n",
      "Completed  in (109s),  phi_loss: -105.102,  theta_loss: 1123.644,  ess_z: 13.781,  ess_mu: 3.398\n",
      "Completed  in (110s),  phi_loss: -102.383,  theta_loss: 1129.562,  ess_z: 13.800,  ess_mu: 3.350\n",
      "Completed  in (110s),  phi_loss: -99.959,  theta_loss: 1137.128,  ess_z: 13.853,  ess_mu: 3.305\n",
      "Completed  in (109s),  phi_loss: -98.113,  theta_loss: 1143.072,  ess_z: 13.912,  ess_mu: 3.268\n",
      "Completed  in (107s),  phi_loss: -96.192,  theta_loss: 1149.139,  ess_z: 14.005,  ess_mu: 3.222\n",
      "Completed  in (108s),  phi_loss: -95.399,  theta_loss: 1154.384,  ess_z: 14.077,  ess_mu: 3.185\n",
      "Completed  in (107s),  phi_loss: -94.319,  theta_loss: 1158.177,  ess_z: 14.154,  ess_mu: 3.129\n",
      "Completed  in (107s),  phi_loss: -93.712,  theta_loss: 1160.859,  ess_z: 14.238,  ess_mu: 3.100\n",
      "Completed  in (106s),  phi_loss: -93.194,  theta_loss: 1164.084,  ess_z: 14.340,  ess_mu: 3.069\n",
      "Completed  in (106s),  phi_loss: -92.833,  theta_loss: 1167.021,  ess_z: 14.450,  ess_mu: 3.043\n",
      "Completed  in (107s),  phi_loss: -92.619,  theta_loss: 1169.031,  ess_z: 14.561,  ess_mu: 3.041\n",
      "Completed  in (106s),  phi_loss: -92.449,  theta_loss: 1171.505,  ess_z: 14.657,  ess_mu: 3.002\n",
      "Completed  in (107s),  phi_loss: -92.256,  theta_loss: 1173.145,  ess_z: 14.739,  ess_mu: 3.002\n",
      "Completed  in (107s),  phi_loss: -92.032,  theta_loss: 1175.616,  ess_z: 14.822,  ess_mu: 2.976\n",
      "Completed  in (106s),  phi_loss: -91.968,  theta_loss: 1177.478,  ess_z: 14.919,  ess_mu: 2.954\n",
      "Completed  in (107s),  phi_loss: -91.958,  theta_loss: 1178.573,  ess_z: 14.979,  ess_mu: 2.962\n",
      "Completed  in (106s),  phi_loss: -92.117,  theta_loss: 1179.375,  ess_z: 15.070,  ess_mu: 2.962\n",
      "Completed  in (106s),  phi_loss: -92.088,  theta_loss: 1180.326,  ess_z: 15.133,  ess_mu: 2.943\n",
      "Completed  in (106s),  phi_loss: -92.090,  theta_loss: 1181.381,  ess_z: 15.180,  ess_mu: 2.922\n",
      "Completed  in (106s),  phi_loss: -92.264,  theta_loss: 1182.000,  ess_z: 15.230,  ess_mu: 2.928\n",
      "Completed  in (106s),  phi_loss: -92.181,  theta_loss: 1182.620,  ess_z: 15.291,  ess_mu: 2.906\n",
      "Completed  in (107s),  phi_loss: -92.383,  theta_loss: 1183.093,  ess_z: 15.331,  ess_mu: 2.922\n",
      "Completed  in (106s),  phi_loss: -92.348,  theta_loss: 1183.542,  ess_z: 15.369,  ess_mu: 2.928\n",
      "Completed  in (106s),  phi_loss: -92.385,  theta_loss: 1183.953,  ess_z: 15.394,  ess_mu: 2.913\n",
      "Completed  in (107s),  phi_loss: -92.429,  theta_loss: 1184.280,  ess_z: 15.430,  ess_mu: 2.904\n",
      "Completed  in (106s),  phi_loss: -92.558,  theta_loss: 1184.516,  ess_z: 15.479,  ess_mu: 2.902\n",
      "Completed  in (106s),  phi_loss: -92.529,  theta_loss: 1184.160,  ess_z: 15.487,  ess_mu: 2.905\n",
      "Completed  in (106s),  phi_loss: -92.606,  theta_loss: 1184.529,  ess_z: 15.502,  ess_mu: 2.893\n",
      "Completed  in (106s),  phi_loss: -92.528,  theta_loss: 1184.881,  ess_z: 15.510,  ess_mu: 2.891\n",
      "Completed  in (106s),  phi_loss: -92.703,  theta_loss: 1185.446,  ess_z: 15.524,  ess_mu: 2.910\n",
      "Completed  in (107s),  phi_loss: -92.632,  theta_loss: 1185.258,  ess_z: 15.516,  ess_mu: 2.883\n",
      "Completed  in (107s),  phi_loss: -92.731,  theta_loss: 1184.503,  ess_z: 15.528,  ess_mu: 2.892\n",
      "Completed  in (107s),  phi_loss: -92.486,  theta_loss: 1184.671,  ess_z: 15.518,  ess_mu: 2.911\n",
      "Completed  in (107s),  phi_loss: -92.680,  theta_loss: 1185.078,  ess_z: 15.549,  ess_mu: 2.906\n",
      "Completed  in (106s),  phi_loss: -92.748,  theta_loss: 1185.355,  ess_z: 15.549,  ess_mu: 2.890\n",
      "Completed  in (107s),  phi_loss: -92.809,  theta_loss: 1184.126,  ess_z: 15.547,  ess_mu: 2.915\n",
      "Completed  in (106s),  phi_loss: -92.630,  theta_loss: 1184.512,  ess_z: 15.561,  ess_mu: 2.895\n",
      "Completed  in (107s),  phi_loss: -92.733,  theta_loss: 1184.710,  ess_z: 15.546,  ess_mu: 2.892\n",
      "Completed  in (107s),  phi_loss: -92.668,  theta_loss: 1185.506,  ess_z: 15.565,  ess_mu: 2.892\n",
      "Completed  in (107s),  phi_loss: -92.703,  theta_loss: 1184.162,  ess_z: 15.566,  ess_mu: 2.920\n",
      "Completed  in (107s),  phi_loss: -92.659,  theta_loss: 1185.346,  ess_z: 15.573,  ess_mu: 2.892\n",
      "Completed  in (106s),  phi_loss: -92.641,  theta_loss: 1185.348,  ess_z: 15.566,  ess_mu: 2.888\n",
      "Completed  in (107s),  phi_loss: -92.824,  theta_loss: 1185.137,  ess_z: 15.583,  ess_mu: 2.890\n",
      "Completed  in (107s),  phi_loss: -92.725,  theta_loss: 1184.346,  ess_z: 15.578,  ess_mu: 2.901\n",
      "Completed  in (107s),  phi_loss: -92.777,  theta_loss: 1185.180,  ess_z: 15.577,  ess_mu: 2.900\n",
      "Completed  in (107s),  phi_loss: -92.771,  theta_loss: 1184.347,  ess_z: 15.575,  ess_mu: 2.878\n",
      "Completed  in (107s),  phi_loss: -92.774,  theta_loss: 1184.672,  ess_z: 15.595,  ess_mu: 2.901\n",
      "Completed  in (107s),  phi_loss: -92.735,  theta_loss: 1185.121,  ess_z: 15.586,  ess_mu: 2.894\n",
      "Completed  in (107s),  phi_loss: -92.692,  theta_loss: 1184.496,  ess_z: 15.605,  ess_mu: 2.891\n",
      "Completed  in (107s),  phi_loss: -92.745,  theta_loss: 1184.845,  ess_z: 15.598,  ess_mu: 2.888\n",
      "Completed  in (107s),  phi_loss: -92.718,  theta_loss: 1184.653,  ess_z: 15.612,  ess_mu: 2.899\n",
      "Completed  in (107s),  phi_loss: -92.769,  theta_loss: 1184.869,  ess_z: 15.602,  ess_mu: 2.908\n",
      "Completed  in (106s),  phi_loss: -92.680,  theta_loss: 1185.510,  ess_z: 15.613,  ess_mu: 2.905\n",
      "Completed  in (106s),  phi_loss: -92.639,  theta_loss: 1184.629,  ess_z: 15.611,  ess_mu: 2.901\n"
     ]
    }
   ],
   "source": [
    "from apg import APG\n",
    "train(models=models, \n",
    "      objective=APG, \n",
    "      optimizer=optimizer, \n",
    "      data=Data, \n",
    "      mcmc_steps=MCMC_STEPS,\n",
    "      Train_Params=Train_Params,\n",
    "      CUDA=CUDA,\n",
    "      device=DEVICE,\n",
    "      PATH=PATH+ '-after')"
   ]
  },
  {
   "cell_type": "code",
   "execution_count": null,
   "metadata": {},
   "outputs": [],
   "source": [
    "Save_models(models, PATH)"
   ]
  },
  {
   "cell_type": "code",
   "execution_count": null,
   "metadata": {},
   "outputs": [],
   "source": []
  }
 ],
 "metadata": {
  "kernelspec": {
   "display_name": "Python 3",
   "language": "python",
   "name": "python3"
  },
  "language_info": {
   "codemirror_mode": {
    "name": "ipython",
    "version": 3
   },
   "file_extension": ".py",
   "mimetype": "text/x-python",
   "name": "python",
   "nbconvert_exporter": "python",
   "pygments_lexer": "ipython3",
   "version": "3.6.7"
  }
 },
 "nbformat": 4,
 "nbformat_minor": 2
}
