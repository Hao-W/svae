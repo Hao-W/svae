{
 "cells": [
  {
   "cell_type": "code",
   "execution_count": 1,
   "metadata": {},
   "outputs": [
    {
     "name": "stdout",
     "output_type": "stream",
     "text": [
      "probtorch: 0.0+5a2c637 torch: 1.0.0 cuda: True\n"
     ]
    }
   ],
   "source": [
    "%matplotlib inline\n",
    "%run ../../import_envs.py\n",
    "print('probtorch:', probtorch.__version__, \n",
    "      'torch:', torch.__version__, \n",
    "      'cuda:', torch.cuda.is_available())"
   ]
  },
  {
   "cell_type": "code",
   "execution_count": 7,
   "metadata": {},
   "outputs": [],
   "source": [
    "## Load dataset\n",
    "data_dir = '/home/hao/Research/apg_data'\n",
    "data_path = data_dir + \"/gmm/gmm_10size\"\n",
    "Data = []\n",
    "for i in range(5):\n",
    "    data = torch.from_numpy(np.load(data_path + '/obs_%d.npy' % ((i+1)*20))).float()\n",
    "    Data.append(data)\n",
    "K = 3 ## number of clusters\n",
    "D = 2\n",
    "NUM_HIDDEN_LOCAL = 32\n",
    "NUM_HIDDEN_GLOBAL = 32\n",
    "CUDA = torch.cuda.is_available()\n",
    "DEVICE = torch.device('cuda:1')\n",
    "\n",
    "PATH = 'lstm-60pts-10samples'\n",
    "B=20\n",
    "SAMPLE_SIZE = 1000\n",
    "NUM_LAYERS = 2 \n",
    "\n",
    "Data_test = []\n",
    "Ns = [120, 160, 200, 400, 600] \n",
    "for i in range(5):\n",
    "    data = torch.from_numpy(np.load('/home/hao/Research/ncmm/rings_%d/' % (Ns[i]) + 'ob_%d.npy' % (Ns[i]))).float()\n",
    "    Data_test.append(data)"
   ]
  },
  {
   "cell_type": "code",
   "execution_count": 8,
   "metadata": {},
   "outputs": [],
   "source": [
    "from model_operations_lstm import Init_models_test\n",
    "models = Init_models_test(K, D, B, SAMPLE_SIZE, NUM_HIDDEN_GLOBAL, NUM_HIDDEN_LOCAL, NUM_LAYERS, CUDA, DEVICE, lr=1e-4, RESTORE=True, PATH=PATH)"
   ]
  },
  {
   "cell_type": "code",
   "execution_count": 9,
   "metadata": {},
   "outputs": [],
   "source": [
    "from vae import VAE_test\n",
    "S = 1000\n",
    "B = 20\n",
    "MCMC_STEPS = 15\n",
    "Test_Params = (S, B, DEVICE)\n",
    "\n",
    "def Test_ALL(objective, data_g, mcmc_steps, Test_Params):\n",
    "    Metrics = {'ll' : [], 'ess' : []}\n",
    "    (S, B, DEVICE) = Test_Params\n",
    "    EPS = torch.FloatTensor([1e-15]).log() ## EPS for KL between categorial distributions\n",
    "    EPS = EPS.cuda().to(DEVICE) ## EPS for KL between categorial distributions\n",
    "    NUM_DATASETS = data_g.shape[0]\n",
    "    NUM_BATCHES = int((NUM_DATASETS / B))\n",
    "    for step in range(NUM_BATCHES):\n",
    "        ob = data_g[step*B : (step+1)*B]\n",
    "        ob = shuffler(ob).repeat(S, 1, 1, 1)\n",
    "        ob = ob.cuda().to(DEVICE)\n",
    "        metrics = objective(models, ob, mcmc_steps)\n",
    "        Metrics['ess'].append(metrics['ess'] / S)\n",
    "        Metrics['ll'].append(metrics['ll'])\n",
    "    return Metrics"
   ]
  },
  {
   "cell_type": "code",
   "execution_count": 5,
   "metadata": {},
   "outputs": [],
   "source": [
    "for g, data_g in enumerate(Data):\n",
    "    time_start = time.time()\n",
    "    Metrics = Test_ALL(VAE_test, data_g, 0, Test_Params)\n",
    "    for key in Metrics.keys():\n",
    "        np.save('lstm_%d-%s' % (((g+1)*20), key), torch.cat(Metrics[key], 0))\n",
    "    time_end = time.time()    \n",
    "    print('group=%d (%ds)' % (g, time_end - time_start))"
   ]
  },
  {
   "cell_type": "code",
   "execution_count": null,
   "metadata": {},
   "outputs": [],
   "source": [
    "torch.cat(Metrics['ll'], 0).mean(0)"
   ]
  },
  {
   "cell_type": "code",
   "execution_count": null,
   "metadata": {},
   "outputs": [],
   "source": [
    "LLs = []\n",
    "for i in range(5):\n",
    "    log_j = np.load('lstm_data_%i-ll.npy' % i).mean(0)\n",
    "    LLs.append(log_j)"
   ]
  },
  {
   "cell_type": "code",
   "execution_count": null,
   "metadata": {},
   "outputs": [],
   "source": [
    "np.array(LLs).mean()"
   ]
  },
  {
   "cell_type": "code",
   "execution_count": null,
   "metadata": {},
   "outputs": [],
   "source": [
    "from testing import Eval\n",
    "from viz_mc import Viz_MC\n",
    "from vae import VAE_test\n",
    "\n",
    "BATCH_SIZE = 5\n",
    "Viz_INTERVAL = 4\n",
    "FS = 5\n",
    "TITLE_FS = 20\n",
    "OB_MS = 5.0\n",
    "MU_MARKER = 'X'\n",
    "MU_MS = 100\n",
    "OPACITY = 0.3\n",
    "BOUND = 12\n",
    "COLORS = ['#AA3377', '#EE7733', '#0077BB', '#009988']\n",
    "DATA_PTR = 73"
   ]
  },
  {
   "cell_type": "code",
   "execution_count": null,
   "metadata": {},
   "outputs": [],
   "source": [
    "visualizer = Viz_MC(K, Viz_INTERVAL, FS, TITLE_FS, OB_MS, OPACITY, BOUND, COLORS)\n",
    "evaluator = Eval(models, K, D, BATCH_SIZE, CUDA, DEVICE)\n",
    "\n",
    "Metrics_sample = evaluator.Test_uniform(VAE_test, Data, DATA_PTR, mcmc_steps=None, sample_size=1)\n",
    "visualizer.Plot_chains(Metrics_sample['data'], Metrics_sample['samples'], filename='gmm-samples-%d' % DATA_PTR)"
   ]
  },
  {
   "cell_type": "code",
   "execution_count": null,
   "metadata": {},
   "outputs": [],
   "source": [
    "# L = 1000\n",
    "# Metrics_converge = evaluator.Test_uniform(APG_test, Data, DATA_PTR, mcmc_steps=30, sample_size=L)\n",
    "# visualizer.Plot_metrics(Metrics_converge['log_joint'], Metrics_converge['ess'], sample_size=L, filename='gmm-metrics-LL-ESS-%d' % DATA_PTR)"
   ]
  },
  {
   "cell_type": "code",
   "execution_count": null,
   "metadata": {},
   "outputs": [],
   "source": [
    "Metrics_sample.keys()\n"
   ]
  },
  {
   "cell_type": "code",
   "execution_count": null,
   "metadata": {},
   "outputs": [],
   "source": [
    "aa = evaluator.Sample_data_uniform(Data, DATA_PTR)"
   ]
  },
  {
   "cell_type": "code",
   "execution_count": null,
   "metadata": {},
   "outputs": [],
   "source": [
    "aa[3]"
   ]
  },
  {
   "cell_type": "code",
   "execution_count": null,
   "metadata": {},
   "outputs": [],
   "source": []
  }
 ],
 "metadata": {
  "kernelspec": {
   "display_name": "Python 3",
   "language": "python",
   "name": "python3"
  },
  "language_info": {
   "codemirror_mode": {
    "name": "ipython",
    "version": 3
   },
   "file_extension": ".py",
   "mimetype": "text/x-python",
   "name": "python",
   "nbconvert_exporter": "python",
   "pygments_lexer": "ipython3",
   "version": "3.6.7"
  }
 },
 "nbformat": 4,
 "nbformat_minor": 2
}
