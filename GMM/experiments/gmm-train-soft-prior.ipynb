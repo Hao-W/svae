{
 "cells": [
  {
   "cell_type": "code",
   "execution_count": 1,
   "metadata": {},
   "outputs": [
    {
     "name": "stdout",
     "output_type": "stream",
     "text": [
      "probtorch: 0.0+5a2c637 torch: 1.1.0 cuda: True\n"
     ]
    }
   ],
   "source": [
    "%matplotlib inline\n",
    "%run ../../import_envs.py\n",
    "print('probtorch:', probtorch.__version__, \n",
    "      'torch:', torch.__version__, \n",
    "      'cuda:', torch.cuda.is_available())"
   ]
  },
  {
   "cell_type": "code",
   "execution_count": 2,
   "metadata": {},
   "outputs": [],
   "source": [
    "## Load dataset\n",
    "data_path = \"../gmm_dataset_c20k\"\n",
    "Data = torch.from_numpy(np.load(data_path + '/obs.npy')).float()\n",
    "\n",
    "NUM_DATASETS, N, D = Data.shape\n",
    "K = 3 ## number of clusters\n",
    "SAMPLE_SIZE = 10\n",
    "NUM_HIDDEN_LOCAL = 32\n",
    "\n",
    "MCMC_SIZE = 10\n",
    "BATCH_SIZE = 20\n",
    "NUM_EPOCHS = 250\n",
    "LEARNING_RATE = 1e-4\n",
    "CUDA = torch.cuda.is_available()\n",
    "PATH = 'soft-%dsteps-%dsamples' % (MCMC_SIZE, SAMPLE_SIZE)\n",
    "DEVICE = torch.device('cuda:1')\n",
    "\n",
    "Train_Params = (NUM_EPOCHS, NUM_DATASETS, SAMPLE_SIZE, BATCH_SIZE, CUDA, DEVICE, PATH)\n",
    "Model_Params = (N, K, D, MCMC_SIZE)"
   ]
  },
  {
   "cell_type": "code",
   "execution_count": 3,
   "metadata": {},
   "outputs": [],
   "source": [
    "from local_enc import *\n",
    "from global_enc_v1 import *\n",
    "## if reparameterize continuous variables\n",
    "Reparameterized = False\n",
    "# initialization\n",
    "enc_z = Enc_z(K, D, NUM_HIDDEN_LOCAL, CUDA, DEVICE)\n",
    "enc_eta = Enc_eta(K, D, CUDA, DEVICE, Reparameterized)\n",
    "if CUDA:\n",
    "    enc_z.cuda().to(DEVICE)\n",
    "    enc_eta.cuda().to(DEVICE)\n",
    "optimizer =  torch.optim.Adam(list(enc_eta.parameters())+list(enc_z.parameters()),lr=LEARNING_RATE, betas=(0.9, 0.99))\n",
    "models = (enc_eta, enc_z)"
   ]
  },
  {
   "cell_type": "code",
   "execution_count": null,
   "metadata": {},
   "outputs": [
    {
     "name": "stdout",
     "output_type": "stream",
     "text": [
      "epoch: 0\\250 (102s),  symKL_DB_eta: 436.933,  symKL_DB_z: 545.433,  loss: -1739.091,  ess: 2.940,  kl_eta_ex: 1352.962,  kl_eta_in: 222.310,  kl_z_ex: 402.771,  kl_z_in: 41.329\n",
      "epoch: 1\\250 (107s),  symKL_DB_eta: 292.882,  symKL_DB_z: 295.346,  loss: -1374.128,  ess: 3.281,  kl_eta_ex: 801.393,  kl_eta_in: 205.828,  kl_z_ex: 201.177,  kl_z_in: 31.610\n",
      "epoch: 2\\250 (116s),  symKL_DB_eta: 213.515,  symKL_DB_z: 167.851,  loss: -1173.647,  ess: 3.557,  kl_eta_ex: 515.081,  kl_eta_in: 202.498,  kl_z_ex: 99.580,  kl_z_in: 23.954\n",
      "epoch: 3\\250 (116s),  symKL_DB_eta: 167.444,  symKL_DB_z: 110.060,  loss: -1059.778,  ess: 3.812,  kl_eta_ex: 379.192,  kl_eta_in: 213.740,  kl_z_ex: 58.290,  kl_z_in: 18.532\n",
      "epoch: 4\\250 (116s),  symKL_DB_eta: 141.116,  symKL_DB_z: 85.719,  loss: -988.941,  ess: 4.035,  kl_eta_ex: 313.263,  kl_eta_in: 238.470,  kl_z_ex: 44.044,  kl_z_in: 15.586\n",
      "epoch: 5\\250 (115s),  symKL_DB_eta: 127.562,  symKL_DB_z: 75.146,  loss: -941.669,  ess: 4.210,  kl_eta_ex: 282.725,  kl_eta_in: 273.963,  kl_z_ex: 39.258,  kl_z_in: 14.052\n",
      "epoch: 6\\250 (116s),  symKL_DB_eta: 120.702,  symKL_DB_z: 68.396,  loss: -915.753,  ess: 4.339,  kl_eta_ex: 269.997,  kl_eta_in: 311.340,  kl_z_ex: 37.536,  kl_z_in: 13.049\n",
      "epoch: 7\\250 (116s),  symKL_DB_eta: 117.015,  symKL_DB_z: 64.192,  loss: -900.917,  ess: 4.428,  kl_eta_ex: 263.913,  kl_eta_in: 341.379,  kl_z_ex: 35.870,  kl_z_in: 12.229\n",
      "epoch: 8\\250 (115s),  symKL_DB_eta: 115.007,  symKL_DB_z: 59.270,  loss: -891.965,  ess: 4.491,  kl_eta_ex: 258.973,  kl_eta_in: 362.254,  kl_z_ex: 33.974,  kl_z_in: 11.555\n",
      "epoch: 9\\250 (116s),  symKL_DB_eta: 113.934,  symKL_DB_z: 56.555,  loss: -886.386,  ess: 4.527,  kl_eta_ex: 254.458,  kl_eta_in: 377.165,  kl_z_ex: 31.954,  kl_z_in: 11.030\n",
      "epoch: 10\\250 (116s),  symKL_DB_eta: 113.778,  symKL_DB_z: 54.821,  loss: -880.617,  ess: 4.542,  kl_eta_ex: 251.286,  kl_eta_in: 391.267,  kl_z_ex: 30.803,  kl_z_in: 10.708\n",
      "epoch: 11\\250 (116s),  symKL_DB_eta: 112.393,  symKL_DB_z: 52.442,  loss: -875.883,  ess: 4.570,  kl_eta_ex: 246.964,  kl_eta_in: 400.001,  kl_z_ex: 29.449,  kl_z_in: 10.357\n",
      "epoch: 12\\250 (116s),  symKL_DB_eta: 112.462,  symKL_DB_z: 50.977,  loss: -870.871,  ess: 4.581,  kl_eta_ex: 244.125,  kl_eta_in: 408.977,  kl_z_ex: 28.497,  kl_z_in: 10.121\n",
      "epoch: 13\\250 (116s),  symKL_DB_eta: 112.822,  symKL_DB_z: 50.200,  loss: -865.674,  ess: 4.591,  kl_eta_ex: 241.129,  kl_eta_in: 411.372,  kl_z_ex: 27.521,  kl_z_in: 9.826\n",
      "epoch: 14\\250 (116s),  symKL_DB_eta: 113.234,  symKL_DB_z: 48.772,  loss: -862.560,  ess: 4.610,  kl_eta_ex: 238.735,  kl_eta_in: 415.979,  kl_z_ex: 26.901,  kl_z_in: 9.594\n",
      "epoch: 15\\250 (116s),  symKL_DB_eta: 113.686,  symKL_DB_z: 48.548,  loss: -856.455,  ess: 4.618,  kl_eta_ex: 235.961,  kl_eta_in: 419.207,  kl_z_ex: 26.031,  kl_z_in: 9.258\n",
      "epoch: 16\\250 (116s),  symKL_DB_eta: 114.627,  symKL_DB_z: 47.305,  loss: -851.036,  ess: 4.647,  kl_eta_ex: 233.995,  kl_eta_in: 418.832,  kl_z_ex: 25.637,  kl_z_in: 8.969\n",
      "epoch: 17\\250 (116s),  symKL_DB_eta: 112.837,  symKL_DB_z: 46.109,  loss: -846.811,  ess: 4.671,  kl_eta_ex: 230.703,  kl_eta_in: 417.993,  kl_z_ex: 24.680,  kl_z_in: 8.496\n"
     ]
    }
   ],
   "source": [
    "from ag_ep import *\n",
    "\n",
    "train_prior(models, EUBO_init_eta_prior, optimizer, Data, Model_Params, Train_Params)"
   ]
  },
  {
   "cell_type": "code",
   "execution_count": null,
   "metadata": {},
   "outputs": [],
   "source": [
    "torch.save(enc_z.state_dict(), \"../weights/enc-z-%s\" % PATH)\n",
    "torch.save(enc_eta.state_dict(), \"../weights/enc-eta-%s\" % PATH)"
   ]
  },
  {
   "cell_type": "code",
   "execution_count": null,
   "metadata": {},
   "outputs": [],
   "source": []
  },
  {
   "cell_type": "code",
   "execution_count": null,
   "metadata": {},
   "outputs": [],
   "source": []
  }
 ],
 "metadata": {
  "kernelspec": {
   "display_name": "Python 3",
   "language": "python",
   "name": "python3"
  },
  "language_info": {
   "codemirror_mode": {
    "name": "ipython",
    "version": 3
   },
   "file_extension": ".py",
   "mimetype": "text/x-python",
   "name": "python",
   "nbconvert_exporter": "python",
   "pygments_lexer": "ipython3",
   "version": "3.7.3"
  }
 },
 "nbformat": 4,
 "nbformat_minor": 2
}
