{
 "cells": [
  {
   "cell_type": "code",
   "execution_count": 1,
   "metadata": {},
   "outputs": [
    {
     "name": "stdout",
     "output_type": "stream",
     "text": [
      "probtorch: 0.0+5a2c637 torch: 1.0.0 cuda: True\n"
     ]
    }
   ],
   "source": [
    "%matplotlib inline\n",
    "%run ../../import_envs.py\n",
    "print('probtorch:', probtorch.__version__, \n",
    "      'torch:', torch.__version__, \n",
    "      'cuda:', torch.cuda.is_available())"
   ]
  },
  {
   "cell_type": "code",
   "execution_count": 2,
   "metadata": {},
   "outputs": [],
   "source": [
    "data_path = \"../gmm_dataset_c5k\"\n",
    "Data = torch.from_numpy(np.load(data_path + '/obs.npy')).float()\n",
    "NUM_SEQS, N, D = Data.shape\n",
    "K = 3 ## number of clusters\n",
    "## Model Parameters\n",
    "MCMC_SIZE = 2\n",
    "SAMPLE_SIZE = 10\n",
    "NUM_HIDDEN_LOCAL = 32\n",
    "## Training Parameters\n",
    "BATCH_SIZE = 20\n",
    "NUM_BATCHES = int((NUM_SEQS / BATCH_SIZE))\n",
    "NUM_EPOCHS = 500\n",
    "LEARNING_RATE = 5 * 1e-4\n",
    "CUDA = torch.cuda.is_available()\n",
    "PATH = 'ag-os-%dsteps-%dsamples' % (MCMC_SIZE, SAMPLE_SIZE)\n",
    "DEVICE = torch.device('cuda:0')\n",
    "## wrap up the parameters\n",
    "Train_Params = (NUM_EPOCHS, NUM_BATCHES, NUM_SEQS, CUDA, DEVICE, PATH)\n",
    "Model_Params = (N, K, D, MCMC_SIZE, SAMPLE_SIZE, BATCH_SIZE)"
   ]
  },
  {
   "cell_type": "code",
   "execution_count": 3,
   "metadata": {},
   "outputs": [],
   "source": [
    "from local_gibbs import *\n",
    "from global_oneshot import *\n",
    "from global_enc import *\n",
    "## if reparameterize continuous variables\n",
    "Reparameterized = True\n",
    "# initialization\n",
    "enc_z = Gibbs_z(K, CUDA, DEVICE)\n",
    "enc_eta = Enc_eta(K, D, CUDA, DEVICE, Reparameterized)\n",
    "oneshot_eta = Oneshot_eta(K, D, CUDA, DEVICE, Reparameterized)\n",
    "if CUDA:\n",
    "    enc_eta.cuda().to(DEVICE)\n",
    "    oneshot_eta.cuda().to(DEVICE)\n",
    "optimizer =  torch.optim.Adam(list(oneshot_eta.parameters())+list(enc_eta.parameters()),lr=LEARNING_RATE, betas=(0.9, 0.99))\n",
    "\n",
    "models = (oneshot_eta, enc_eta, enc_z)"
   ]
  },
  {
   "cell_type": "code",
   "execution_count": 4,
   "metadata": {},
   "outputs": [
    {
     "name": "stdout",
     "output_type": "stream",
     "text": [
      "epoch: 0\\500 (13s),  symKL: 3720.272,  eubo: -11460.959,  elbo: -15181.230,  ess: 1.139,  kl_eta_ex: 1062.783,  kl_eta_in: 215.299,  kl_z_ex: 145.061,  kl_z_in: 120.632\n",
      "epoch: 1\\500 (12s),  symKL: 2619.924,  eubo: -10540.473,  elbo: -13160.397,  ess: 1.151,  kl_eta_ex: 621.059,  kl_eta_in: 209.402,  kl_z_ex: 103.698,  kl_z_in: 87.814\n",
      "epoch: 2\\500 (12s),  symKL: 2069.721,  eubo: -9945.848,  elbo: -12015.569,  ess: 1.174,  kl_eta_ex: 415.960,  kl_eta_in: 197.199,  kl_z_ex: 75.417,  kl_z_in: 62.799\n",
      "epoch: 3\\500 (12s),  symKL: 1693.024,  eubo: -9600.316,  elbo: -11293.340,  ess: 1.208,  kl_eta_ex: 296.052,  kl_eta_in: 195.147,  kl_z_ex: 53.838,  kl_z_in: 44.537\n",
      "epoch: 4\\500 (13s),  symKL: 1447.691,  eubo: -9345.037,  elbo: -10792.728,  ess: 1.237,  kl_eta_ex: 224.663,  kl_eta_in: 199.277,  kl_z_ex: 39.546,  kl_z_in: 33.572\n",
      "epoch: 5\\500 (13s),  symKL: 1258.554,  eubo: -9195.044,  elbo: -10453.598,  ess: 1.282,  kl_eta_ex: 181.223,  kl_eta_in: 209.686,  kl_z_ex: 31.163,  kl_z_in: 26.603\n",
      "epoch: 6\\500 (12s),  symKL: 1114.514,  eubo: -9089.861,  elbo: -10204.375,  ess: 1.316,  kl_eta_ex: 151.661,  kl_eta_in: 224.569,  kl_z_ex: 25.001,  kl_z_in: 21.363\n",
      "epoch: 7\\500 (12s),  symKL: 1009.948,  eubo: -9032.853,  elbo: -10042.801,  ess: 1.335,  kl_eta_ex: 132.698,  kl_eta_in: 241.443,  kl_z_ex: 20.973,  kl_z_in: 17.912\n",
      "epoch: 8\\500 (13s),  symKL: 909.122,  eubo: -9047.069,  elbo: -9956.191,  ess: 1.365,  kl_eta_ex: 121.089,  kl_eta_in: 263.821,  kl_z_ex: 18.060,  kl_z_in: 15.798\n",
      "epoch: 9\\500 (13s),  symKL: 856.530,  eubo: -9040.987,  elbo: -9897.517,  ess: 1.371,  kl_eta_ex: 115.582,  kl_eta_in: 289.882,  kl_z_ex: 16.056,  kl_z_in: 14.388\n",
      "epoch: 10\\500 (12s),  symKL: 803.206,  eubo: -9079.796,  elbo: -9883.002,  ess: 1.378,  kl_eta_ex: 112.251,  kl_eta_in: 321.406,  kl_z_ex: 14.743,  kl_z_in: 12.588\n",
      "epoch: 11\\500 (13s),  symKL: 773.998,  eubo: -9104.796,  elbo: -9878.793,  ess: 1.382,  kl_eta_ex: 111.817,  kl_eta_in: 358.329,  kl_z_ex: 13.422,  kl_z_in: 11.649\n",
      "epoch: 12\\500 (13s),  symKL: 744.409,  eubo: -9141.055,  elbo: -9885.464,  ess: 1.376,  kl_eta_ex: 112.496,  kl_eta_in: 388.633,  kl_z_ex: 12.374,  kl_z_in: 10.669\n",
      "epoch: 13\\500 (13s),  symKL: 724.280,  eubo: -9171.774,  elbo: -9896.054,  ess: 1.373,  kl_eta_ex: 114.132,  kl_eta_in: 428.232,  kl_z_ex: 11.718,  kl_z_in: 10.009\n",
      "epoch: 14\\500 (13s),  symKL: 710.478,  eubo: -9205.118,  elbo: -9915.596,  ess: 1.366,  kl_eta_ex: 116.938,  kl_eta_in: 462.343,  kl_z_ex: 11.337,  kl_z_in: 9.611\n",
      "epoch: 15\\500 (13s),  symKL: 693.157,  eubo: -9254.729,  elbo: -9947.886,  ess: 1.360,  kl_eta_ex: 119.261,  kl_eta_in: 502.068,  kl_z_ex: 10.512,  kl_z_in: 9.082\n",
      "epoch: 16\\500 (12s),  symKL: 685.591,  eubo: -9291.331,  elbo: -9976.922,  ess: 1.362,  kl_eta_ex: 121.868,  kl_eta_in: 537.658,  kl_z_ex: 10.117,  kl_z_in: 8.580\n",
      "epoch: 17\\500 (12s),  symKL: 670.725,  eubo: -9331.611,  elbo: -10002.335,  ess: 1.359,  kl_eta_ex: 124.956,  kl_eta_in: 582.365,  kl_z_ex: 9.585,  kl_z_in: 8.274\n",
      "epoch: 18\\500 (12s),  symKL: 660.884,  eubo: -9377.925,  elbo: -10038.809,  ess: 1.359,  kl_eta_ex: 128.173,  kl_eta_in: 627.798,  kl_z_ex: 9.091,  kl_z_in: 7.782\n",
      "epoch: 19\\500 (13s),  symKL: 650.339,  eubo: -9416.690,  elbo: -10067.029,  ess: 1.361,  kl_eta_ex: 131.252,  kl_eta_in: 678.099,  kl_z_ex: 8.818,  kl_z_in: 7.332\n",
      "epoch: 20\\500 (13s),  symKL: 634.665,  eubo: -9460.839,  elbo: -10095.505,  ess: 1.359,  kl_eta_ex: 135.083,  kl_eta_in: 734.075,  kl_z_ex: 8.426,  kl_z_in: 7.565\n",
      "epoch: 21\\500 (11s),  symKL: 628.850,  eubo: -9501.193,  elbo: -10130.043,  ess: 1.353,  kl_eta_ex: 138.126,  kl_eta_in: 788.447,  kl_z_ex: 8.103,  kl_z_in: 6.888\n",
      "epoch: 22\\500 (13s),  symKL: 627.839,  eubo: -9540.723,  elbo: -10168.562,  ess: 1.360,  kl_eta_ex: 141.558,  kl_eta_in: 845.397,  kl_z_ex: 7.694,  kl_z_in: 6.610\n",
      "epoch: 23\\500 (13s),  symKL: 619.365,  eubo: -9573.606,  elbo: -10192.971,  ess: 1.357,  kl_eta_ex: 145.285,  kl_eta_in: 911.864,  kl_z_ex: 7.552,  kl_z_in: 6.477\n",
      "epoch: 24\\500 (12s),  symKL: 612.313,  eubo: -9618.095,  elbo: -10230.408,  ess: 1.354,  kl_eta_ex: 148.541,  kl_eta_in: 971.334,  kl_z_ex: 7.064,  kl_z_in: 6.103\n",
      "epoch: 25\\500 (12s),  symKL: 603.366,  eubo: -9654.914,  elbo: -10258.281,  ess: 1.358,  kl_eta_ex: 152.200,  kl_eta_in: 1040.864,  kl_z_ex: 6.808,  kl_z_in: 5.957\n",
      "epoch: 26\\500 (13s),  symKL: 602.772,  eubo: -9694.585,  elbo: -10297.356,  ess: 1.360,  kl_eta_ex: 155.417,  kl_eta_in: 1104.384,  kl_z_ex: 6.610,  kl_z_in: 5.909\n",
      "epoch: 27\\500 (13s),  symKL: 595.343,  eubo: -9739.694,  elbo: -10335.038,  ess: 1.362,  kl_eta_ex: 158.368,  kl_eta_in: 1171.756,  kl_z_ex: 6.391,  kl_z_in: 5.663\n",
      "epoch: 28\\500 (12s),  symKL: 593.285,  eubo: -9771.048,  elbo: -10364.333,  ess: 1.357,  kl_eta_ex: 160.801,  kl_eta_in: 1231.585,  kl_z_ex: 6.252,  kl_z_in: 5.515\n",
      "epoch: 29\\500 (12s),  symKL: 592.137,  eubo: -9806.497,  elbo: -10398.634,  ess: 1.360,  kl_eta_ex: 163.390,  kl_eta_in: 1292.390,  kl_z_ex: 6.068,  kl_z_in: 5.295\n",
      "epoch: 30\\500 (13s),  symKL: 584.024,  eubo: -9843.372,  elbo: -10427.396,  ess: 1.357,  kl_eta_ex: 166.266,  kl_eta_in: 1347.424,  kl_z_ex: 5.910,  kl_z_in: 5.319\n",
      "epoch: 31\\500 (13s),  symKL: 583.533,  eubo: -9879.271,  elbo: -10462.804,  ess: 1.356,  kl_eta_ex: 168.409,  kl_eta_in: 1401.631,  kl_z_ex: 5.880,  kl_z_in: 5.186\n",
      "epoch: 32\\500 (13s),  symKL: 578.876,  eubo: -9908.276,  elbo: -10487.152,  ess: 1.362,  kl_eta_ex: 170.581,  kl_eta_in: 1447.797,  kl_z_ex: 5.703,  kl_z_in: 5.049\n",
      "epoch: 33\\500 (12s),  symKL: 579.029,  eubo: -9946.307,  elbo: -10525.336,  ess: 1.364,  kl_eta_ex: 172.316,  kl_eta_in: 1480.723,  kl_z_ex: 5.460,  kl_z_in: 4.767\n",
      "epoch: 34\\500 (12s),  symKL: 570.397,  eubo: -9978.125,  elbo: -10548.522,  ess: 1.368,  kl_eta_ex: 173.717,  kl_eta_in: 1518.681,  kl_z_ex: 5.525,  kl_z_in: 4.850\n",
      "epoch: 35\\500 (12s),  symKL: 576.739,  eubo: -9996.742,  elbo: -10573.481,  ess: 1.371,  kl_eta_ex: 175.094,  kl_eta_in: 1548.767,  kl_z_ex: 5.456,  kl_z_in: 4.744\n",
      "epoch: 36\\500 (12s),  symKL: 567.065,  eubo: -10033.722,  elbo: -10600.786,  ess: 1.368,  kl_eta_ex: 176.025,  kl_eta_in: 1573.283,  kl_z_ex: 5.229,  kl_z_in: 4.724\n",
      "epoch: 37\\500 (13s),  symKL: 569.087,  eubo: -10053.300,  elbo: -10622.387,  ess: 1.368,  kl_eta_ex: 176.866,  kl_eta_in: 1590.026,  kl_z_ex: 5.232,  kl_z_in: 4.608\n",
      "epoch: 38\\500 (13s),  symKL: 566.997,  eubo: -10077.581,  elbo: -10644.578,  ess: 1.374,  kl_eta_ex: 176.912,  kl_eta_in: 1605.565,  kl_z_ex: 5.129,  kl_z_in: 4.590\n",
      "epoch: 39\\500 (13s),  symKL: 562.060,  eubo: -10101.637,  elbo: -10663.697,  ess: 1.371,  kl_eta_ex: 177.660,  kl_eta_in: 1619.977,  kl_z_ex: 5.201,  kl_z_in: 4.605\n",
      "epoch: 40\\500 (12s),  symKL: 559.924,  eubo: -10119.293,  elbo: -10679.216,  ess: 1.377,  kl_eta_ex: 177.399,  kl_eta_in: 1621.583,  kl_z_ex: 5.006,  kl_z_in: 4.501\n",
      "epoch: 41\\500 (13s),  symKL: 558.778,  eubo: -10138.837,  elbo: -10697.615,  ess: 1.371,  kl_eta_ex: 177.223,  kl_eta_in: 1631.386,  kl_z_ex: 4.984,  kl_z_in: 4.507\n",
      "epoch: 42\\500 (13s),  symKL: 553.549,  eubo: -10157.869,  elbo: -10711.418,  ess: 1.382,  kl_eta_ex: 176.590,  kl_eta_in: 1640.909,  kl_z_ex: 4.758,  kl_z_in: 4.271\n",
      "epoch: 43\\500 (13s),  symKL: 553.246,  eubo: -10169.906,  elbo: -10723.152,  ess: 1.379,  kl_eta_ex: 176.286,  kl_eta_in: 1663.232,  kl_z_ex: 4.726,  kl_z_in: 4.347\n",
      "epoch: 44\\500 (12s),  symKL: 548.879,  eubo: -10182.914,  elbo: -10731.792,  ess: 1.376,  kl_eta_ex: 176.153,  kl_eta_in: 1671.804,  kl_z_ex: 4.739,  kl_z_in: 4.297\n",
      "epoch: 45\\500 (12s),  symKL: 546.048,  eubo: -10190.854,  elbo: -10736.902,  ess: 1.378,  kl_eta_ex: 175.617,  kl_eta_in: 1694.146,  kl_z_ex: 4.677,  kl_z_in: 4.294\n",
      "epoch: 46\\500 (13s),  symKL: 543.127,  eubo: -10207.040,  elbo: -10750.168,  ess: 1.386,  kl_eta_ex: 175.736,  kl_eta_in: 1708.300,  kl_z_ex: 4.550,  kl_z_in: 4.161\n",
      "epoch: 47\\500 (13s),  symKL: 544.834,  eubo: -10209.962,  elbo: -10754.795,  ess: 1.379,  kl_eta_ex: 175.310,  kl_eta_in: 1738.521,  kl_z_ex: 4.455,  kl_z_in: 4.116\n",
      "epoch: 48\\500 (13s),  symKL: 541.746,  eubo: -10217.531,  elbo: -10759.276,  ess: 1.387,  kl_eta_ex: 175.827,  kl_eta_in: 1769.244,  kl_z_ex: 4.550,  kl_z_in: 4.069\n",
      "epoch: 49\\500 (12s),  symKL: 538.058,  eubo: -10226.854,  elbo: -10764.912,  ess: 1.386,  kl_eta_ex: 175.383,  kl_eta_in: 1803.222,  kl_z_ex: 4.358,  kl_z_in: 3.945\n",
      "epoch: 50\\500 (12s),  symKL: 539.642,  eubo: -10231.726,  elbo: -10771.368,  ess: 1.388,  kl_eta_ex: 174.990,  kl_eta_in: 1831.534,  kl_z_ex: 4.261,  kl_z_in: 3.844\n",
      "epoch: 51\\500 (12s),  symKL: 534.127,  eubo: -10229.893,  elbo: -10764.020,  ess: 1.389,  kl_eta_ex: 174.952,  kl_eta_in: 1867.037,  kl_z_ex: 4.318,  kl_z_in: 3.910\n",
      "epoch: 52\\500 (12s),  symKL: 536.600,  eubo: -10220.018,  elbo: -10756.619,  ess: 1.391,  kl_eta_ex: 174.616,  kl_eta_in: 1908.405,  kl_z_ex: 4.174,  kl_z_in: 3.909\n",
      "epoch: 53\\500 (11s),  symKL: 535.335,  eubo: -10209.358,  elbo: -10744.693,  ess: 1.386,  kl_eta_ex: 174.074,  kl_eta_in: 1947.252,  kl_z_ex: 4.109,  kl_z_in: 3.799\n",
      "epoch: 54\\500 (13s),  symKL: 530.992,  eubo: -10203.536,  elbo: -10734.528,  ess: 1.391,  kl_eta_ex: 173.576,  kl_eta_in: 1977.431,  kl_z_ex: 4.093,  kl_z_in: 3.756\n",
      "epoch: 55\\500 (13s),  symKL: 524.852,  eubo: -10197.170,  elbo: -10722.022,  ess: 1.382,  kl_eta_ex: 172.822,  kl_eta_in: 2007.076,  kl_z_ex: 4.037,  kl_z_in: 3.719\n",
      "epoch: 56\\500 (11s),  symKL: 524.363,  eubo: -10182.508,  elbo: -10706.871,  ess: 1.388,  kl_eta_ex: 172.599,  kl_eta_in: 2066.466,  kl_z_ex: 4.014,  kl_z_in: 3.742\n",
      "epoch: 57\\500 (12s),  symKL: 525.689,  eubo: -10171.154,  elbo: -10696.843,  ess: 1.396,  kl_eta_ex: 171.709,  kl_eta_in: 2102.270,  kl_z_ex: 3.928,  kl_z_in: 3.722\n",
      "epoch: 58\\500 (12s),  symKL: 517.454,  eubo: -10163.470,  elbo: -10680.924,  ess: 1.399,  kl_eta_ex: 170.909,  kl_eta_in: 2141.700,  kl_z_ex: 3.915,  kl_z_in: 3.656\n"
     ]
    },
    {
     "ename": "KeyboardInterrupt",
     "evalue": "",
     "output_type": "error",
     "traceback": [
      "\u001b[0;31m---------------------------------------------------------------------------\u001b[0m",
      "\u001b[0;31mKeyboardInterrupt\u001b[0m                         Traceback (most recent call last)",
      "\u001b[0;32m<ipython-input-4-aab66625ce21>\u001b[0m in \u001b[0;36m<module>\u001b[0;34m()\u001b[0m\n\u001b[1;32m      1\u001b[0m \u001b[0;32mfrom\u001b[0m \u001b[0meubo_ag\u001b[0m \u001b[0;32mimport\u001b[0m \u001b[0;34m*\u001b[0m\u001b[0;34m\u001b[0m\u001b[0;34m\u001b[0m\u001b[0m\n\u001b[0;32m----> 2\u001b[0;31m \u001b[0mtrain\u001b[0m\u001b[0;34m(\u001b[0m\u001b[0mEubo_cfz_os_eta\u001b[0m\u001b[0;34m,\u001b[0m \u001b[0moptimizer\u001b[0m\u001b[0;34m,\u001b[0m \u001b[0mData\u001b[0m\u001b[0;34m,\u001b[0m \u001b[0mTrain_Params\u001b[0m\u001b[0;34m,\u001b[0m \u001b[0mModel_Params\u001b[0m\u001b[0;34m,\u001b[0m \u001b[0mmodels\u001b[0m\u001b[0;34m)\u001b[0m\u001b[0;34m\u001b[0m\u001b[0;34m\u001b[0m\u001b[0m\n\u001b[0m",
      "\u001b[0;32m~/Research/amortized/GMM/training.py\u001b[0m in \u001b[0;36mtrain\u001b[0;34m(objective, optimizer, data, Train_Params, Model_Params, models)\u001b[0m\n\u001b[1;32m     23\u001b[0m             \u001b[0;31m## gradient step\u001b[0m\u001b[0;34m\u001b[0m\u001b[0;34m\u001b[0m\u001b[0;34m\u001b[0m\u001b[0m\n\u001b[1;32m     24\u001b[0m             \u001b[0mloss\u001b[0m\u001b[0;34m.\u001b[0m\u001b[0mbackward\u001b[0m\u001b[0;34m(\u001b[0m\u001b[0;34m)\u001b[0m\u001b[0;34m\u001b[0m\u001b[0;34m\u001b[0m\u001b[0m\n\u001b[0;32m---> 25\u001b[0;31m             \u001b[0moptimizer\u001b[0m\u001b[0;34m.\u001b[0m\u001b[0mstep\u001b[0m\u001b[0;34m(\u001b[0m\u001b[0;34m)\u001b[0m\u001b[0;34m\u001b[0m\u001b[0;34m\u001b[0m\u001b[0m\n\u001b[0m\u001b[1;32m     26\u001b[0m             \u001b[0;32mfor\u001b[0m \u001b[0mkey\u001b[0m \u001b[0;32min\u001b[0m \u001b[0mmetric_step\u001b[0m\u001b[0;34m.\u001b[0m\u001b[0mkeys\u001b[0m\u001b[0;34m(\u001b[0m\u001b[0;34m)\u001b[0m\u001b[0;34m:\u001b[0m\u001b[0;34m\u001b[0m\u001b[0;34m\u001b[0m\u001b[0m\n\u001b[1;32m     27\u001b[0m                 \u001b[0;32mif\u001b[0m \u001b[0mkey\u001b[0m \u001b[0;32min\u001b[0m \u001b[0mmetrics\u001b[0m\u001b[0;34m:\u001b[0m\u001b[0;34m\u001b[0m\u001b[0;34m\u001b[0m\u001b[0m\n",
      "\u001b[0;32m~/anaconda3/envs/dev/lib/python3.6/site-packages/torch/tensor.py\u001b[0m in \u001b[0;36mbackward\u001b[0;34m(self, gradient, retain_graph, create_graph)\u001b[0m\n\u001b[1;32m    100\u001b[0m                 \u001b[0mproducts\u001b[0m\u001b[0;34m.\u001b[0m \u001b[0mDefaults\u001b[0m \u001b[0mto\u001b[0m\u001b[0;31m \u001b[0m\u001b[0;31m`\u001b[0m\u001b[0;31m`\u001b[0m\u001b[0;32mFalse\u001b[0m\u001b[0;31m`\u001b[0m\u001b[0;31m`\u001b[0m\u001b[0;34m.\u001b[0m\u001b[0;34m\u001b[0m\u001b[0;34m\u001b[0m\u001b[0m\n\u001b[1;32m    101\u001b[0m         \"\"\"\n\u001b[0;32m--> 102\u001b[0;31m         \u001b[0mtorch\u001b[0m\u001b[0;34m.\u001b[0m\u001b[0mautograd\u001b[0m\u001b[0;34m.\u001b[0m\u001b[0mbackward\u001b[0m\u001b[0;34m(\u001b[0m\u001b[0mself\u001b[0m\u001b[0;34m,\u001b[0m \u001b[0mgradient\u001b[0m\u001b[0;34m,\u001b[0m \u001b[0mretain_graph\u001b[0m\u001b[0;34m,\u001b[0m \u001b[0mcreate_graph\u001b[0m\u001b[0;34m)\u001b[0m\u001b[0;34m\u001b[0m\u001b[0;34m\u001b[0m\u001b[0m\n\u001b[0m\u001b[1;32m    103\u001b[0m \u001b[0;34m\u001b[0m\u001b[0m\n\u001b[1;32m    104\u001b[0m     \u001b[0;32mdef\u001b[0m \u001b[0mregister_hook\u001b[0m\u001b[0;34m(\u001b[0m\u001b[0mself\u001b[0m\u001b[0;34m,\u001b[0m \u001b[0mhook\u001b[0m\u001b[0;34m)\u001b[0m\u001b[0;34m:\u001b[0m\u001b[0;34m\u001b[0m\u001b[0;34m\u001b[0m\u001b[0m\n",
      "\u001b[0;32m~/anaconda3/envs/dev/lib/python3.6/site-packages/torch/autograd/__init__.py\u001b[0m in \u001b[0;36mbackward\u001b[0;34m(tensors, grad_tensors, retain_graph, create_graph, grad_variables)\u001b[0m\n\u001b[1;32m     88\u001b[0m     Variable._execution_engine.run_backward(\n\u001b[1;32m     89\u001b[0m         \u001b[0mtensors\u001b[0m\u001b[0;34m,\u001b[0m \u001b[0mgrad_tensors\u001b[0m\u001b[0;34m,\u001b[0m \u001b[0mretain_graph\u001b[0m\u001b[0;34m,\u001b[0m \u001b[0mcreate_graph\u001b[0m\u001b[0;34m,\u001b[0m\u001b[0;34m\u001b[0m\u001b[0;34m\u001b[0m\u001b[0m\n\u001b[0;32m---> 90\u001b[0;31m         allow_unreachable=True)  # allow_unreachable flag\n\u001b[0m\u001b[1;32m     91\u001b[0m \u001b[0;34m\u001b[0m\u001b[0m\n\u001b[1;32m     92\u001b[0m \u001b[0;34m\u001b[0m\u001b[0m\n",
      "\u001b[0;31mKeyboardInterrupt\u001b[0m: "
     ]
    }
   ],
   "source": [
    "from eubo_ag import *\n",
    "train(Eubo_cfz_os_eta, optimizer, Data, Train_Params, Model_Params, models)"
   ]
  },
  {
   "cell_type": "code",
   "execution_count": null,
   "metadata": {},
   "outputs": [],
   "source": [
    "torch.save(enc_eta.state_dict(), '../weights/enc-eta-%s' + PATH)\n",
    "torch.save(oneshot_eta.state_dict(), '../weights/oneshot-eta-%s' + PATH)"
   ]
  },
  {
   "cell_type": "code",
   "execution_count": null,
   "metadata": {},
   "outputs": [],
   "source": [
    "BATCH_SIZE_TEST = 50\n",
    "Model_Params_Test = (N, K, D, MCMC_SIZE, SAMPLE_SIZE, BATCH_SIZE_TEST)\n",
    "obs, metric_step, reused = test(Eubo_cfz_os_eta, Data, Train_Params, Model_Params_Test, models)\n",
    "(q_eta, _, q_z, _, _, _) = reused"
   ]
  },
  {
   "cell_type": "code",
   "execution_count": null,
   "metadata": {},
   "outputs": [],
   "source": [
    "%time plot_samples(obs, q_eta, q_z, PATH)"
   ]
  },
  {
   "cell_type": "code",
   "execution_count": null,
   "metadata": {},
   "outputs": [],
   "source": [
    "incremental_gap = symkl_test.cpu().data.numpy()[1:]\n",
    "M = incremental_gap.shape[0]\n",
    "overall_gap = np.zeros(M)\n",
    "for m in range(M):\n",
    "    overall_gap[m] = incremental_gap[:m+1].sum()"
   ]
  },
  {
   "cell_type": "code",
   "execution_count": null,
   "metadata": {},
   "outputs": [],
   "source": [
    "fig = plt.figure(figsize=(12,6))\n",
    "ax = fig.add_subplot(111)\n",
    "plt.yscale(\"log\")\n",
    "ax.plot(incremental_gap, label=\"incremental gap\")\n",
    "ax.plot(overall_gap, label='overall gap')\n",
    "ax.legend(fontsize=14)\n",
    "ax.set_xlabel('Steps')"
   ]
  },
  {
   "cell_type": "code",
   "execution_count": null,
   "metadata": {},
   "outputs": [],
   "source": [
    "incremental_gap"
   ]
  },
  {
   "cell_type": "code",
   "execution_count": null,
   "metadata": {},
   "outputs": [],
   "source": []
  }
 ],
 "metadata": {
  "kernelspec": {
   "display_name": "Python 3",
   "language": "python",
   "name": "python3"
  },
  "language_info": {
   "codemirror_mode": {
    "name": "ipython",
    "version": 3
   },
   "file_extension": ".py",
   "mimetype": "text/x-python",
   "name": "python",
   "nbconvert_exporter": "python",
   "pygments_lexer": "ipython3",
   "version": "3.6.7"
  }
 },
 "nbformat": 4,
 "nbformat_minor": 2
}
