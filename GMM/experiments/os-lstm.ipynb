{
 "cells": [
  {
   "cell_type": "code",
   "execution_count": null,
   "metadata": {},
   "outputs": [],
   "source": [
    "%matplotlib inline\n",
    "%run ../../import_envs.py\n",
    "print('probtorch:', probtorch.__version__, \n",
    "      'torch:', torch.__version__, \n",
    "      'cuda:', torch.cuda.is_available())"
   ]
  },
  {
   "cell_type": "code",
   "execution_count": null,
   "metadata": {},
   "outputs": [],
   "source": [
    "## Load dataset\n",
    "N = 20\n",
    "data_path = data_dir + \"/gmm_test/gmm_%d\" % N\n",
    "Data = []\n",
    "data = torch.from_numpy(np.load(data_path + '/obs_%d.npy' % N)).float()\n",
    "Data.append(data)\n",
    "## Train Parameters\n",
    "NUM_EPOCHS = 500\n",
    "K = 3 \n",
    "D = 2\n",
    "SAMPLE_SIZE = 10\n",
    "BATCH_SIZE = 40\n",
    "CUDA = torch.cuda.is_available()\n",
    "DEVICE = torch.device('cuda:0')\n",
    "PATH = 'vae-%dpts-%dsamples' % (N, SAMPLE_SIZE)\n",
    "Train_Params = (NUM_EPOCHS, K, D, SAMPLE_SIZE, BATCH_SIZE, CUDA, DEVICE, PATH) \n",
    "## Model Parameters\n",
    "NUM_HIDDEN_GLOBAL = 32\n",
    "NUM_HIDDEN_LOCAL = 32\n",
    "LEARNING_RATE =  1e-4"
   ]
  },
  {
   "cell_type": "code",
   "execution_count": null,
   "metadata": {},
   "outputs": [],
   "source": [
    "## model initialization\n",
    "from global_lstm_no_ss import *\n",
    "from local_enc import *\n",
    "\n",
    "vae_eta = LSTM_eta(K, D, BATCH_SIZE, SAMPLE_SIZE, NUM_HIDDEN_GLOBAL, NUM_HIDDEN_LOCAL, CUDA, DEVICE)\n",
    "vae_z = Enc_z(K, D, NUM_HIDDEN_LOCAL, CUDA, DEVICE)\n",
    "if CUDA:\n",
    "    with torch.cuda.device(DEVICE):\n",
    "        vae_eta.cuda()\n",
    "        vae_z.cuda()\n",
    "optimizer =  torch.optim.Adam(list(vae_z.parameters()) + list(vae_eta.parameters()),lr=LEARNING_RATE, betas=(0.9, 0.99))\n",
    "models = (vae_eta, vae_z)"
   ]
  },
  {
   "cell_type": "code",
   "execution_count": null,
   "metadata": {},
   "outputs": [],
   "source": [
    "from vae import EUBO ## objective for baseline\n",
    "from training_vae import train_vae ## training function for baseline\n",
    "train_vae(models, EUBO, optimizer, Data, Train_Params)"
   ]
  },
  {
   "cell_type": "code",
   "execution_count": null,
   "metadata": {},
   "outputs": [],
   "source": [
    "torch.save(os_eta.state_dict(), '../weights/vae-eta-%s' + PATH)\n",
    "torch.save(os_z.state_dict(), '../weights/vae-z-%s' + PATH)"
   ]
  },
  {
   "cell_type": "code",
   "execution_count": null,
   "metadata": {},
   "outputs": [],
   "source": []
  }
 ],
 "metadata": {
  "kernelspec": {
   "display_name": "Python 3",
   "language": "python",
   "name": "python3"
  },
  "language_info": {
   "codemirror_mode": {
    "name": "ipython",
    "version": 3
   },
   "file_extension": ".py",
   "mimetype": "text/x-python",
   "name": "python",
   "nbconvert_exporter": "python",
   "pygments_lexer": "ipython3",
   "version": "3.6.7"
  }
 },
 "nbformat": 4,
 "nbformat_minor": 2
}
