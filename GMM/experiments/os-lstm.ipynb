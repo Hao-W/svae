{
 "cells": [
  {
   "cell_type": "code",
   "execution_count": null,
   "metadata": {},
   "outputs": [],
   "source": [
    "%matplotlib inline\n",
    "%run ../../import_envs.py\n",
    "print('probtorch:', probtorch.__version__, \n",
    "      'torch:', torch.__version__, \n",
    "      'cuda:', torch.cuda.is_available())"
   ]
  },
  {
   "cell_type": "code",
   "execution_count": null,
   "metadata": {},
   "outputs": [],
   "source": [
    "N = 60\n",
    "## Load dataset\n",
    "data_path = \"/home/hao/Research/apg_data/gmm/gmm_%d\" % N\n",
    "Data = []\n",
    "# for i in range(10):\n",
    "data = torch.from_numpy(np.load(data_path + '/obs_%d.npy' % N)).float()\n",
    "Data.append(data)\n",
    "\n",
    "K = 3 ## number of clusters\n",
    "D = 2\n",
    "NUM_HIDDEN_LOCAL = 32\n",
    "NUM_HIDDEN_GLOBAL = 32\n",
    "CUDA = torch.cuda.is_available()\n",
    "DEVICE = torch.device('cuda:1')\n",
    "NUM_EPOCHS = 500\n",
    "BATCH_SIZE = 20\n",
    "SAMPLE_SIZE = 10\n",
    "NUM_LAYERS =2\n",
    "PATH = 'lstm-%dpts-%dsamples' % (N, SAMPLE_SIZE)\n",
    "Train_Params = (NUM_EPOCHS, K, D, SAMPLE_SIZE, BATCH_SIZE, CUDA, DEVICE, PATH) \n",
    "LEARNING_RATE =  5* 1e-4"
   ]
  },
  {
   "cell_type": "code",
   "execution_count": null,
   "metadata": {},
   "outputs": [],
   "source": [
    "from model_operations_lstm import Init_models, Save_models\n",
    "models, optimizer = Init_models(K, D, BATCH_SIZE, SAMPLE_SIZE, NUM_HIDDEN_GLOBAL, NUM_HIDDEN_LOCAL, NUM_LAYERS, CUDA, DEVICE, LEARNING_RATE, RESTORE=False, PATH=PATH)"
   ]
  },
  {
   "cell_type": "code",
   "execution_count": null,
   "metadata": {},
   "outputs": [],
   "source": [
    "from vae import VAE ## objective for baseline\n",
    "from training_vae import train_vae ## training function for baseline\n",
    "train_vae(models, VAE, optimizer, Data, Train_Params)"
   ]
  },
  {
   "cell_type": "code",
   "execution_count": null,
   "metadata": {},
   "outputs": [],
   "source": [
    "Save_models(models, path=PATH)"
   ]
  },
  {
   "cell_type": "code",
   "execution_count": null,
   "metadata": {},
   "outputs": [],
   "source": []
  }
 ],
 "metadata": {
  "kernelspec": {
   "display_name": "Python 3",
   "language": "python",
   "name": "python3"
  },
  "language_info": {
   "codemirror_mode": {
    "name": "ipython",
    "version": 3
   },
   "file_extension": ".py",
   "mimetype": "text/x-python",
   "name": "python",
   "nbconvert_exporter": "python",
   "pygments_lexer": "ipython3",
   "version": "3.6.7"
  }
 },
 "nbformat": 4,
 "nbformat_minor": 2
}
