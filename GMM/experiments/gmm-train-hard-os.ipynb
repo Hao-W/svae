{
 "cells": [
  {
   "cell_type": "code",
   "execution_count": 1,
   "metadata": {},
   "outputs": [
    {
     "name": "stdout",
     "output_type": "stream",
     "text": [
      "probtorch: 0.0+5a2c637 torch: 0.4.1 cuda: True\n"
     ]
    }
   ],
   "source": [
    "%matplotlib inline\n",
    "%run ../../import_envs.py\n",
    "print('probtorch:', probtorch.__version__, \n",
    "      'torch:', torch.__version__, \n",
    "      'cuda:', torch.cuda.is_available())"
   ]
  },
  {
   "cell_type": "code",
   "execution_count": 2,
   "metadata": {},
   "outputs": [],
   "source": [
    "## Load dataset\n",
    "data_path = \"../gmm_dataset_c20k\"\n",
    "Data = torch.from_numpy(np.load(data_path + '/obs.npy')).float()\n",
    "\n",
    "NUM_DATASETS, N, D = Data.shape\n",
    "K = 3 ## number of clusters\n",
    "SAMPLE_SIZE = 10\n",
    "NUM_HIDDEN_LOCAL = 32\n",
    "\n",
    "MCMC_SIZE = 10\n",
    "BATCH_SIZE = 20\n",
    "NUM_EPOCHS = 250\n",
    "LEARNING_RATE = 5 * 1e-4\n",
    "CUDA = torch.cuda.is_available()\n",
    "PATH = 'AG-os-%dsteps-%dsamples' % (MCMC_SIZE, SAMPLE_SIZE)\n",
    "DEVICE = torch.device('cuda:1')\n",
    "\n",
    "Train_Params = (NUM_EPOCHS, NUM_DATASETS, SAMPLE_SIZE, BATCH_SIZE, CUDA, DEVICE, PATH)\n",
    "Model_Params = (N, K, D, MCMC_SIZE)"
   ]
  },
  {
   "cell_type": "code",
   "execution_count": 3,
   "metadata": {},
   "outputs": [],
   "source": [
    "from local_enc import *\n",
    "from global_oneshot import *\n",
    "from global_enc_v2 import *\n",
    "## if reparameterize continuous variables\n",
    "Reparameterized = False\n",
    "# initialization\n",
    "enc_z = Enc_z(K, D, NUM_HIDDEN_LOCAL, CUDA, DEVICE)\n",
    "enc_eta = Enc_eta(K, D, CUDA, DEVICE, Reparameterized)\n",
    "oneshot_eta = Oneshot_eta(K, D, CUDA, DEVICE, Reparameterized)\n",
    "\n",
    "if CUDA:\n",
    "    enc_z.cuda().to(DEVICE)\n",
    "    enc_eta.cuda().to(DEVICE)\n",
    "    oneshot_eta.cuda().to(DEVICE)\n",
    "optimizer =  torch.optim.Adam(list(oneshot_eta.parameters())+list(enc_eta.parameters())+list(enc_z.parameters()),lr=LEARNING_RATE, betas=(0.9, 0.99))\n",
    "models = (oneshot_eta, enc_eta, enc_z)"
   ]
  },
  {
   "cell_type": "code",
   "execution_count": null,
   "metadata": {},
   "outputs": [
    {
     "name": "stdout",
     "output_type": "stream",
     "text": [
      "epoch: 0\\250 (325s),  symKL_DB_eta: 426.972,  symKL_DB_z: 596.779,  loss: -1718.491,  ess: 2.703,  kl_eta_ex: 806.139,  kl_eta_in: 136.026,  kl_z_ex: 187.317,  kl_z_in: 32.957\n",
      "epoch: 1\\250 (325s),  symKL_DB_eta: 296.650,  symKL_DB_z: 446.616,  loss: -1303.040,  ess: 3.047,  kl_eta_ex: 517.116,  kl_eta_in: 124.662,  kl_z_ex: 129.397,  kl_z_in: 27.054\n",
      "epoch: 2\\250 (320s),  symKL_DB_eta: 229.583,  symKL_DB_z: 335.020,  loss: -1081.865,  ess: 3.352,  kl_eta_ex: 362.185,  kl_eta_in: 124.642,  kl_z_ex: 103.870,  kl_z_in: 23.354\n",
      "epoch: 3\\250 (311s),  symKL_DB_eta: 195.605,  symKL_DB_z: 263.110,  loss: -962.391,  ess: 3.604,  kl_eta_ex: 277.851,  kl_eta_in: 133.357,  kl_z_ex: 87.366,  kl_z_in: 19.906\n",
      "epoch: 4\\250 (320s),  symKL_DB_eta: 174.211,  symKL_DB_z: 198.464,  loss: -886.403,  ess: 3.891,  kl_eta_ex: 233.064,  kl_eta_in: 151.291,  kl_z_ex: 73.748,  kl_z_in: 16.716\n",
      "epoch: 5\\250 (323s),  symKL_DB_eta: 157.606,  symKL_DB_z: 151.187,  loss: -832.709,  ess: 4.153,  kl_eta_ex: 208.433,  kl_eta_in: 177.282,  kl_z_ex: 62.123,  kl_z_in: 14.279\n",
      "epoch: 6\\250 (323s),  symKL_DB_eta: 144.283,  symKL_DB_z: 117.153,  loss: -801.929,  ess: 4.360,  kl_eta_ex: 198.516,  kl_eta_in: 207.623,  kl_z_ex: 54.201,  kl_z_in: 12.633\n",
      "epoch: 7\\250 (325s),  symKL_DB_eta: 136.698,  symKL_DB_z: 98.462,  loss: -784.925,  ess: 4.509,  kl_eta_ex: 195.373,  kl_eta_in: 237.801,  kl_z_ex: 48.210,  kl_z_in: 11.495\n",
      "epoch: 8\\250 (326s),  symKL_DB_eta: 134.292,  symKL_DB_z: 86.205,  loss: -778.075,  ess: 4.601,  kl_eta_ex: 195.453,  kl_eta_in: 262.110,  kl_z_ex: 44.012,  kl_z_in: 10.752\n",
      "epoch: 9\\250 (326s),  symKL_DB_eta: 132.393,  symKL_DB_z: 77.657,  loss: -774.119,  ess: 4.662,  kl_eta_ex: 199.527,  kl_eta_in: 284.610,  kl_z_ex: 41.699,  kl_z_in: 10.296\n",
      "epoch: 10\\250 (325s),  symKL_DB_eta: 131.318,  symKL_DB_z: 71.835,  loss: -769.003,  ess: 4.710,  kl_eta_ex: 200.041,  kl_eta_in: 298.966,  kl_z_ex: 39.169,  kl_z_in: 9.877\n",
      "epoch: 11\\250 (320s),  symKL_DB_eta: 130.464,  symKL_DB_z: 67.241,  loss: -769.501,  ess: 4.756,  kl_eta_ex: 201.950,  kl_eta_in: 311.255,  kl_z_ex: 37.244,  kl_z_in: 9.479\n",
      "epoch: 12\\250 (320s),  symKL_DB_eta: 130.302,  symKL_DB_z: 62.868,  loss: -767.145,  ess: 4.793,  kl_eta_ex: 203.712,  kl_eta_in: 320.674,  kl_z_ex: 35.281,  kl_z_in: 8.941\n",
      "epoch: 13\\250 (325s),  symKL_DB_eta: 130.200,  symKL_DB_z: 59.021,  loss: -766.503,  ess: 4.832,  kl_eta_ex: 203.124,  kl_eta_in: 321.122,  kl_z_ex: 33.190,  kl_z_in: 8.420\n",
      "epoch: 14\\250 (331s),  symKL_DB_eta: 130.957,  symKL_DB_z: 56.404,  loss: -766.330,  ess: 4.872,  kl_eta_ex: 204.562,  kl_eta_in: 324.204,  kl_z_ex: 31.534,  kl_z_in: 7.977\n",
      "epoch: 15\\250 (323s),  symKL_DB_eta: 132.459,  symKL_DB_z: 53.396,  loss: -764.839,  ess: 4.904,  kl_eta_ex: 204.380,  kl_eta_in: 324.300,  kl_z_ex: 29.674,  kl_z_in: 7.514\n",
      "epoch: 16\\250 (325s),  symKL_DB_eta: 132.547,  symKL_DB_z: 50.968,  loss: -765.474,  ess: 4.940,  kl_eta_ex: 206.809,  kl_eta_in: 326.324,  kl_z_ex: 28.008,  kl_z_in: 7.144\n",
      "epoch: 17\\250 (325s),  symKL_DB_eta: 131.448,  symKL_DB_z: 47.907,  loss: -763.764,  ess: 4.974,  kl_eta_ex: 206.448,  kl_eta_in: 323.671,  kl_z_ex: 26.342,  kl_z_in: 6.729\n"
     ]
    }
   ],
   "source": [
    "from ag_ep import *\n",
    "train(models, EUBO_init_eta, optimizer, Data, Model_Params, Train_Params)"
   ]
  },
  {
   "cell_type": "code",
   "execution_count": null,
   "metadata": {},
   "outputs": [],
   "source": [
    "torch.save(enc_z.state_dict(), \"../weights/enc-z-%s\" % PATH)\n",
    "torch.save(enc_eta.state_dict(), \"../weights/enc-eta-%s\" % PATH)\n",
    "torch.save(oneshot_eta.state_dict(), \"../weights/oneshot-eta-%s\" % PATH)"
   ]
  },
  {
   "cell_type": "code",
   "execution_count": null,
   "metadata": {},
   "outputs": [],
   "source": []
  },
  {
   "cell_type": "code",
   "execution_count": null,
   "metadata": {},
   "outputs": [],
   "source": []
  }
 ],
 "metadata": {
  "kernelspec": {
   "display_name": "Python 3",
   "language": "python",
   "name": "python3"
  },
  "language_info": {
   "codemirror_mode": {
    "name": "ipython",
    "version": 3
   },
   "file_extension": ".py",
   "mimetype": "text/x-python",
   "name": "python",
   "nbconvert_exporter": "python",
   "pygments_lexer": "ipython3",
   "version": "3.6.6"
  }
 },
 "nbformat": 4,
 "nbformat_minor": 2
}
