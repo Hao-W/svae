{
 "cells": [
  {
   "cell_type": "code",
   "execution_count": 1,
   "metadata": {},
   "outputs": [
    {
     "name": "stdout",
     "output_type": "stream",
     "text": [
      "probtorch: 0.0+5a2c637 torch: 1.1.0 cuda: True\n"
     ]
    }
   ],
   "source": [
    "%matplotlib inline\n",
    "%run ../../import_envs.py\n",
    "print('probtorch:', probtorch.__version__, \n",
    "      'torch:', torch.__version__, \n",
    "      'cuda:', torch.cuda.is_available())"
   ]
  },
  {
   "cell_type": "code",
   "execution_count": 2,
   "metadata": {},
   "outputs": [],
   "source": [
    "from ag_ep import *\n",
    "\n",
    "from local_enc import *\n",
    "from global_oneshot import *\n",
    "from global_enc_v1 import *\n",
    "## if reparameterize continuous variables\n",
    "Reparameterized = False\n",
    "## Load dataset\n",
    "data_path = \"../gmm_dataset_3c\"\n",
    "Data = torch.from_numpy(np.load(data_path + '/obs.npy')).float()\n",
    "\n",
    "NUM_DATASETS, N, D = Data.shape\n",
    "K = 3 ## number of clusters\n",
    "SAMPLE_SIZE = 10\n",
    "NUM_HIDDEN_LOCAL = 32\n",
    "\n",
    "MCMC_SIZE = 10\n",
    "BATCH_SIZE = 20\n",
    "NUM_EPOCHS = 200\n",
    "LEARNING_RATE = 5 * 1e-4\n",
    "CUDA = torch.cuda.is_available()\n",
    "\n",
    "DEVICE = torch.device('cuda:1')\n",
    "Model_Params = (N, K, D, MCMC_SIZE)"
   ]
  },
  {
   "cell_type": "code",
   "execution_count": null,
   "metadata": {},
   "outputs": [
    {
     "name": "stdout",
     "output_type": "stream",
     "text": [
      "run 7 starting...\n",
      "oneshot 7 loaded!\n",
      "epoch: 0\\200 (107s),  symKL_DB_eta: 364.659,  symKL_DB_z: 101.828,  loss: -1335.800,  ess: 4.755,  kl_eta_ex: 774.362,  kl_eta_in: 172.731,  kl_z_ex: 72.281,  kl_z_in: 16.786\n"
     ]
    }
   ],
   "source": [
    "for i in range(7, 10, 1):\n",
    "    PATH = 'ag-10runs-%dround' % i\n",
    "    print(\"run %d starting...\" % i)\n",
    "    Train_Params = (NUM_EPOCHS, NUM_DATASETS, SAMPLE_SIZE, BATCH_SIZE, CUDA, DEVICE, PATH)\n",
    "    # initialization\n",
    "    enc_z = Enc_z(K, D, NUM_HIDDEN_LOCAL, CUDA, DEVICE)\n",
    "    enc_eta = Enc_eta(K, D, CUDA, DEVICE, Reparameterized)\n",
    "    oneshot_eta = Oneshot_eta(K, D, CUDA, DEVICE, Reparameterized)\n",
    "    if CUDA:\n",
    "        enc_z.cuda().to(DEVICE)\n",
    "        enc_eta.cuda().to(DEVICE)\n",
    "        oneshot_eta.cuda().to(DEVICE)\n",
    "    optimizer =  torch.optim.Adam(list(oneshot_eta.parameters())+list(enc_eta.parameters())+list(enc_z.parameters()),lr=LEARNING_RATE, betas=(0.9, 0.99))\n",
    "    oneshot_eta.load_state_dict(torch.load(\"../neurips/baseline-mlp-10runs/oneshot-eta-baseline-mlp-%dround\" % i))\n",
    "    enc_z.load_state_dict(torch.load(\"../neurips/baseline-mlp-10runs/enc-z-baseline-mlp-%dround\" % i))\n",
    "    print('oneshot %d loaded!' % i)\n",
    "    models = (oneshot_eta, enc_eta, enc_z)\n",
    "    train(models, EUBO_init_eta, optimizer, Data, Model_Params, Train_Params)\n",
    "    torch.save(enc_z.state_dict(), \"../weights/enc-z-%s\" % PATH)\n",
    "    torch.save(enc_eta.state_dict(), \"../weights/enc-eta-%s\" % PATH)\n",
    "    torch.save(oneshot_eta.state_dict(), \"../weights/oneshot-eta-%s\" % PATH)\n",
    "    print(\"run %d saved!\" % i)"
   ]
  },
  {
   "cell_type": "code",
   "execution_count": null,
   "metadata": {},
   "outputs": [],
   "source": [
    "\n"
   ]
  },
  {
   "cell_type": "code",
   "execution_count": null,
   "metadata": {},
   "outputs": [],
   "source": []
  },
  {
   "cell_type": "code",
   "execution_count": null,
   "metadata": {},
   "outputs": [],
   "source": [
    "indices = torch.arange(NUM_DATASETS)\n",
    "step = 2\n",
    "batch_indices = indices[step*BATCH_SIZE : (step+1)*BATCH_SIZE]\n",
    "obs = Data[batch_indices]\n",
    "obs = shuffler(obs).repeat(SAMPLE_SIZE, 1, 1, 1)\n",
    "if CUDA:\n",
    "    obs =obs.cuda().to(DEVICE)\n",
    "    \n",
    "q_eta, p_eta, q_nu = oneshot_eta(obs, K, D)\n",
    "obs_mu = q_eta['means'].value"
   ]
  },
  {
   "cell_type": "code",
   "execution_count": null,
   "metadata": {},
   "outputs": [],
   "source": [
    "obs_mu[0,0]"
   ]
  },
  {
   "cell_type": "code",
   "execution_count": null,
   "metadata": {},
   "outputs": [],
   "source": [
    "q_eta['means'].dist.loc[0]"
   ]
  },
  {
   "cell_type": "code",
   "execution_count": null,
   "metadata": {},
   "outputs": [],
   "source": []
  }
 ],
 "metadata": {
  "kernelspec": {
   "display_name": "Python 3",
   "language": "python",
   "name": "python3"
  },
  "language_info": {
   "codemirror_mode": {
    "name": "ipython",
    "version": 3
   },
   "file_extension": ".py",
   "mimetype": "text/x-python",
   "name": "python",
   "nbconvert_exporter": "python",
   "pygments_lexer": "ipython3",
   "version": "3.7.3"
  }
 },
 "nbformat": 4,
 "nbformat_minor": 2
}
