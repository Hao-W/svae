{
 "cells": [
  {
   "cell_type": "code",
   "execution_count": 1,
   "metadata": {},
   "outputs": [
    {
     "name": "stdout",
     "output_type": "stream",
     "text": [
      "probtorch: 0.0+5a2c637 torch: 1.0.0 cuda: True\n"
     ]
    }
   ],
   "source": [
    "%matplotlib inline\n",
    "%run ../../import_envs.py\n",
    "print('probtorch:', probtorch.__version__, \n",
    "      'torch:', torch.__version__, \n",
    "      'cuda:', torch.cuda.is_available())"
   ]
  },
  {
   "cell_type": "code",
   "execution_count": 2,
   "metadata": {},
   "outputs": [],
   "source": [
    "import matplotlib.pyplot as plt\n",
    "## Load dataset\n",
    "data_path = \"../gmm_dataset_3c\"\n",
    "Data = torch.from_numpy(np.load(data_path + '/obs.npy')).float()\n",
    "\n",
    "NUM_DATASETS, N, D = Data.shape\n",
    "K = 3 ## number of clusters\n",
    "SAMPLE_SIZE = 1\n",
    "NUM_HIDDEN_LOCAL = 32\n",
    "\n",
    "MCMC_SIZE = 100\n",
    "BATCH_SIZE = 1\n",
    "CUDA = torch.cuda.is_available()\n",
    "DEVICE = torch.device('cuda:1')\n",
    "\n",
    "PATH = 'ag-%dSample' % 10\n",
    "Test_Params = (NUM_DATASETS, SAMPLE_SIZE, BATCH_SIZE, CUDA, DEVICE, PATH)\n",
    "Model_Params = (N, K, D, MCMC_SIZE)"
   ]
  },
  {
   "cell_type": "code",
   "execution_count": 3,
   "metadata": {},
   "outputs": [],
   "source": [
    "from local_enc import *\n",
    "from global_oneshot import *\n",
    "from global_enc import *\n",
    "from ag_ep import ELBO\n",
    "\n",
    "Reparameterized = False\n",
    "\n",
    "# initialization\n",
    "enc_z = Enc_z(K, D, NUM_HIDDEN_LOCAL, CUDA, DEVICE)\n",
    "enc_eta = Enc_eta(K, D, CUDA, DEVICE)\n",
    "oneshot_eta = Oneshot_eta(K, D, CUDA, DEVICE)\n",
    "if CUDA:\n",
    "    enc_z.cuda().to(DEVICE)\n",
    "    enc_eta.cuda().to(DEVICE)\n",
    "    oneshot_eta.cuda().to(DEVICE)\n",
    "\n",
    "models = (oneshot_eta, enc_eta, enc_z)"
   ]
  },
  {
   "cell_type": "code",
   "execution_count": 4,
   "metadata": {},
   "outputs": [],
   "source": [
    "enc_z.load_state_dict(torch.load(\"../weights/enc-z-%s\" % PATH))\n",
    "enc_eta.load_state_dict(torch.load(\"../weights/enc-eta-%s\" % PATH))\n",
    "oneshot_eta.load_state_dict(torch.load(\"../weights/oneshot-eta-%s\" % PATH))"
   ]
  },
  {
   "cell_type": "code",
   "execution_count": 5,
   "metadata": {},
   "outputs": [],
   "source": [
    "from testing import *\n",
    "\n",
    "# DBs_eta, DBs_z, ELBOs, Ratios, LLs = Test(models, ELBO, Data, Model_Params, Test_Params)"
   ]
  },
  {
   "cell_type": "code",
   "execution_count": null,
   "metadata": {},
   "outputs": [],
   "source": [
    "from local_gibbs import *\n",
    "from global_gibbs import *\n",
    "from gibbs import *\n",
    "gibbs_z = Gibbs_z(K, CUDA, DEVICE)\n",
    "gibbs_eta = Gibbs_eta(K, D, CUDA, DEVICE)\n",
    "\n",
    "models = (gibbs_eta, gibbs_z)"
   ]
  },
  {
   "cell_type": "code",
   "execution_count": null,
   "metadata": {},
   "outputs": [],
   "source": [
    "\n",
    "DBs_eta, DBs_z, ELBOs, Ratios, LLs = Test(models, Gibbs, Data, Model_Params, Test_Params)"
   ]
  },
  {
   "cell_type": "code",
   "execution_count": null,
   "metadata": {},
   "outputs": [],
   "source": [
    "fs = 10\n",
    "fig = plt.figure(figsize=(fs * 2, fs))\n",
    "ax1 = fig.add_subplot(1, 2, 1)\n",
    "ax1.plot(ELBOs.cpu().data.numpy(), 'o-', label='elbo')\n",
    "ax1.legend()\n",
    "ax1.set_xlabel('Gibbs Update')\n",
    "ax2 = fig.add_subplot(1, 2, 2)\n",
    "ax2.plot(DBs_eta.cpu().data.numpy(), 'o-', label='DB_eta')\n",
    "ax2.plot(DBs_z.cpu().data.numpy(), 'o-', label='DB_z')\n",
    "ax2.set_xlabel('Gibbs Update')\n",
    "ax2.legend()\n",
    "plt.savefig('gibbs_results.pdf')"
   ]
  },
  {
   "cell_type": "code",
   "execution_count": null,
   "metadata": {},
   "outputs": [],
   "source": [
    "Ratios"
   ]
  },
  {
   "cell_type": "code",
   "execution_count": null,
   "metadata": {},
   "outputs": [],
   "source": [
    "L = Ratios.shape[0]\n",
    "EE = np.zeros(L)\n",
    "for i in range(L):\n",
    "    EE[i] = Ratios[:i+1].sum().cpu().data.numpy()"
   ]
  },
  {
   "cell_type": "code",
   "execution_count": null,
   "metadata": {},
   "outputs": [],
   "source": [
    "plt.plot(EE)"
   ]
  },
  {
   "cell_type": "code",
   "execution_count": null,
   "metadata": {},
   "outputs": [],
   "source": []
  }
 ],
 "metadata": {
  "kernelspec": {
   "display_name": "Python 3",
   "language": "python",
   "name": "python3"
  },
  "language_info": {
   "codemirror_mode": {
    "name": "ipython",
    "version": 3
   },
   "file_extension": ".py",
   "mimetype": "text/x-python",
   "name": "python",
   "nbconvert_exporter": "python",
   "pygments_lexer": "ipython3",
   "version": "3.6.7"
  }
 },
 "nbformat": 4,
 "nbformat_minor": 2
}
