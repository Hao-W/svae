{
 "cells": [
  {
   "cell_type": "code",
   "execution_count": 1,
   "metadata": {},
   "outputs": [
    {
     "name": "stdout",
     "output_type": "stream",
     "text": [
      "probtorch: 0.0+5a2c637 torch: 0.4.1 cuda: True\n"
     ]
    }
   ],
   "source": [
    "%matplotlib inline\n",
    "%run ../../import_envs.py\n",
    "print('probtorch:', probtorch.__version__, \n",
    "      'torch:', torch.__version__, \n",
    "      'cuda:', torch.cuda.is_available())"
   ]
  },
  {
   "cell_type": "code",
   "execution_count": 2,
   "metadata": {},
   "outputs": [],
   "source": [
    "from local_enc import *\n",
    "from global_oneshot import *\n",
    "## if reparameterize continuous variables\n",
    "Reparameterized = False\n",
    "from os_ep import *\n",
    "## Load dataset\n",
    "data_path = \"../gmm_dataset_3c\"\n",
    "Data = torch.from_numpy(np.load(data_path + '/obs.npy')).float()\n",
    "\n",
    "NUM_DATASETS, N, D = Data.shape\n",
    "K = 3 ## number of clusters\n",
    "SAMPLE_SIZE = 100\n",
    "NUM_HIDDEN_LOCAL = 32\n",
    "\n",
    "BATCH_SIZE = 20\n",
    "NUM_EPOCHS = 100\n",
    "LEARNING_RATE = 5 * 1e-4\n",
    "CUDA = torch.cuda.is_available()\n",
    "\n",
    "DEVICE = torch.device('cuda:1')\n",
    "Model_Params = (N, K, D)\n",
    "\n",
    "NUM_RUNS = 5"
   ]
  },
  {
   "cell_type": "code",
   "execution_count": null,
   "metadata": {},
   "outputs": [
    {
     "name": "stdout",
     "output_type": "stream",
     "text": [
      "run : 0 starting\n"
     ]
    }
   ],
   "source": [
    "for i in range(NUM_RUNS):\n",
    "    print('run : %d starting' % i)\n",
    "    path = 'baseline-mlp-100samples-%dround' % i\n",
    "    Train_Params = (NUM_EPOCHS, NUM_DATASETS, SAMPLE_SIZE, BATCH_SIZE, CUDA, DEVICE, path)\n",
    "    enc_z = Enc_z(K, D, NUM_HIDDEN_LOCAL, CUDA, DEVICE)\n",
    "    oneshot_eta = Oneshot_eta(K, D, CUDA, DEVICE, Reparameterized)\n",
    "    if CUDA:\n",
    "        enc_z.cuda().to(DEVICE)\n",
    "        oneshot_eta.cuda().to(DEVICE)\n",
    "    optimizer =  torch.optim.Adam(list(oneshot_eta.parameters())+list(enc_z.parameters()),lr=LEARNING_RATE, betas=(0.9, 0.99))\n",
    "    models = (oneshot_eta, enc_z)\n",
    "    train_baseline(models, EP, optimizer, Data, Model_Params, Train_Params)\n",
    "    torch.save(enc_z.state_dict(), '../weights/enc-z-%s' % path)\n",
    "    torch.save(oneshot_eta.state_dict(), '../weights/oneshot-eta-%s' % path)\n",
    "    "
   ]
  },
  {
   "cell_type": "code",
   "execution_count": null,
   "metadata": {},
   "outputs": [],
   "source": [
    "def test(models, objective, Data, Model_Params, Train_Params):\n",
    "    (NUM_EPOCHS, NUM_DATASETS, S, B, CUDA, device, path) = Train_Params\n",
    "    SubTrain_Params = (device, S, B) + Model_Params\n",
    "    ##(N, K, D, mcmc_size) = Model_Params\n",
    "#     indices = torch.randperm(NUM_DATASETS)\n",
    "    step = 8\n",
    "    indices = torch.arange(NUM_DATASETS)\n",
    "    batch_indices = indices[step*B : (step+1)*B]\n",
    "    print(batch_indices)\n",
    "    obs = Data[batch_indices]\n",
    "    obs = shuffler(obs).repeat(S, 1, 1, 1)\n",
    "    if CUDA:\n",
    "        obs =obs.cuda().to(device)\n",
    "    loss, metric_step, reused = objective(models, obs, SubTrain_Params)\n",
    "    return obs, metric_step, reused"
   ]
  },
  {
   "cell_type": "code",
   "execution_count": null,
   "metadata": {},
   "outputs": [],
   "source": [
    "BATCH_SIZE_TEST = 25\n",
    "Train_Params_Test = (NUM_EPOCHS, NUM_DATASETS, 1, BATCH_SIZE_TEST, CUDA, DEVICE, PATH)\n",
    "obs, metric_step, reused = test(models, EP, Data, Model_Params, Train_Params_Test)\n",
    "(q_eta, _, q_z, _, _, _) = reused"
   ]
  },
  {
   "cell_type": "code",
   "execution_count": null,
   "metadata": {},
   "outputs": [],
   "source": [
    "def plot_samples(obs, q_eta, q_z, PATH):\n",
    "    colors = ['#0077BB', '#009988', '#EE7733', 'm']\n",
    "    fig = plt.figure(figsize=(25,25))\n",
    "    xs = obs[0].cpu().data.numpy()\n",
    "#     E_z = q_z['zs'].value.cpu().data.numpy()[0]\n",
    "#     E_mu = q_eta['means'].value.cpu().data.numpy()[0]\n",
    "#     E_tau = q_eta['precisions'].value.cpu().data.numpy()[0]\n",
    "    E_z = q_z['zs'].dist.probs[0].cpu().data.numpy()\n",
    "    batch_size, N, K = E_z.shape\n",
    "    _, _, D = xs.shape\n",
    "    E_mu = q_eta['means'].dist.loc[0].cpu().data.numpy()\n",
    "    E_tau = (q_eta['precisions'].dist.concentration[0] / q_eta['precisions'].dist.rate[0]).cpu().data.numpy()\n",
    "    for b in range(batch_size):\n",
    "        ax = fig.add_subplot(int(batch_size / 5), 5, b+1)\n",
    "        xb = xs[b]\n",
    "        zb = E_z[b]\n",
    "        mu = E_mu[b].reshape(K, D)\n",
    "        sigma2 = 1. / E_tau[b]\n",
    "        assignments = zb.argmax(-1)\n",
    "        for k in range(K):\n",
    "            cov_k = np.diag(sigma2[k])\n",
    "            xk = xb[np.where(assignments == k)]\n",
    "            ax.scatter(xk[:, 0], xk[:, 1], c=colors[k])\n",
    "            plot_cov_ellipse(cov=cov_k, pos=mu[k], nstd=2, ax=ax, alpha=0.2, color=colors[k])\n",
    "        ax.set_ylim([-15, 15])\n",
    "        ax.set_xlim([-15, 15])\n",
    "    plt.savefig('../results/modes-' + PATH + '.svg')\n",
    "    \n",
    "    \n",
    "%time plot_samples(obs, q_eta, q_z, 'test')"
   ]
  },
  {
   "cell_type": "code",
   "execution_count": null,
   "metadata": {},
   "outputs": [],
   "source": [
    "list(oneshot_eta.parameters())"
   ]
  },
  {
   "cell_type": "code",
   "execution_count": null,
   "metadata": {},
   "outputs": [],
   "source": [
    "np.array([[-0.4972, -1.0698], [ 0.7994,  0.6396], [-1.0111,  0.8875]])"
   ]
  },
  {
   "cell_type": "code",
   "execution_count": null,
   "metadata": {},
   "outputs": [],
   "source": [
    "aa = obs[0,0].cpu().data.numpy()\n",
    "plt.scatter(aa[:,0], aa[:,1])\n",
    "plt.xlim([-15,15])\n",
    "plt.ylim([-15,15])"
   ]
  },
  {
   "cell_type": "code",
   "execution_count": null,
   "metadata": {},
   "outputs": [],
   "source": [
    "indices = torch.arange(NUM_DATASETS)\n",
    "step = 2\n",
    "batch_indices = indices[step*BATCH_SIZE_TEST : (step+1)*BATCH_SIZE_TEST]\n",
    "bb = Data[batch_indices]\n",
    "bb = bb[0].data.numpy()\n",
    "\n",
    "plt.scatter(bb[:,0], bb[:,1])\n",
    "plt.xlim([-15,15])\n",
    "plt.ylim([-15,15])"
   ]
  },
  {
   "cell_type": "code",
   "execution_count": null,
   "metadata": {},
   "outputs": [],
   "source": [
    "Data[]"
   ]
  }
 ],
 "metadata": {
  "kernelspec": {
   "display_name": "Python 3",
   "language": "python",
   "name": "python3"
  },
  "language_info": {
   "codemirror_mode": {
    "name": "ipython",
    "version": 3
   },
   "file_extension": ".py",
   "mimetype": "text/x-python",
   "name": "python",
   "nbconvert_exporter": "python",
   "pygments_lexer": "ipython3",
   "version": "3.6.7"
  }
 },
 "nbformat": 4,
 "nbformat_minor": 2
}
