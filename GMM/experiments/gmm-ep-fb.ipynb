{
 "cells": [
  {
   "cell_type": "code",
   "execution_count": 1,
   "metadata": {},
   "outputs": [
    {
     "name": "stdout",
     "output_type": "stream",
     "text": [
      "probtorch: 0.0+5a2c637 torch: 1.1.0 cuda: True\n"
     ]
    }
   ],
   "source": [
    "%matplotlib inline\n",
    "%run ../../import_envs.py\n",
    "print('probtorch:', probtorch.__version__, \n",
    "      'torch:', torch.__version__, \n",
    "      'cuda:', torch.cuda.is_available())"
   ]
  },
  {
   "cell_type": "code",
   "execution_count": 2,
   "metadata": {},
   "outputs": [],
   "source": [
    "## Load dataset\n",
    "data_path = \"../gmm_dataset_c5k\"\n",
    "Data = torch.from_numpy(np.load(data_path + '/obs.npy')).float()\n",
    "\n",
    "NUM_DATASETS, N, D = Data.shape\n",
    "K = 3 ## number of clusters\n",
    "SAMPLE_SIZE = 10\n",
    "NUM_HIDDEN_LOCAL = 32\n",
    "\n",
    "MCMC_SIZE = 10\n",
    "BATCH_SIZE = 20\n",
    "NUM_EPOCHS = 1000\n",
    "LEARNING_RATE = 1e-4\n",
    "PRIOR_FLAG = False\n",
    "ONLY_FORWARD = False\n",
    "CUDA = torch.cuda.is_available()\n",
    "PATH = 'ep-fb-%dsteps-%dsamples' % (MCMC_SIZE, SAMPLE_SIZE)\n",
    "DEVICE = torch.device('cuda:1')\n",
    "\n",
    "Train_Params = (NUM_EPOCHS, NUM_DATASETS, SAMPLE_SIZE, BATCH_SIZE, CUDA, DEVICE, PATH)\n",
    "Model_Params = (N, K, D, MCMC_SIZE, PRIOR_FLAG, ONLY_FORWARD)"
   ]
  },
  {
   "cell_type": "code",
   "execution_count": 3,
   "metadata": {},
   "outputs": [],
   "source": [
    "from local_enc import *\n",
    "from global_oneshot import *\n",
    "from global_enc import *\n",
    "## if reparameterize continuous variables\n",
    "Reparameterized = False\n",
    "# initialization\n",
    "enc_z = Enc_z(K, D, NUM_HIDDEN_LOCAL, CUDA, DEVICE)\n",
    "enc_eta = Enc_eta(K, D, CUDA, DEVICE, Reparameterized)\n",
    "oneshot_eta = Oneshot_eta(K, D, CUDA, DEVICE, Reparameterized)\n",
    "if CUDA:\n",
    "    enc_z.cuda().to(DEVICE)\n",
    "    enc_eta.cuda().to(DEVICE)\n",
    "if PRIOR_FLAG:\n",
    "    optimizer =  torch.optim.Adam(list(enc_eta.parameters())+list(enc_z.parameters()),lr=LEARNING_RATE, betas=(0.9, 0.99))\n",
    "    models = (enc_eta, enc_z)\n",
    "else:\n",
    "    oneshot_eta = Oneshot_eta(K, D, CUDA, DEVICE, Reparameterized)\n",
    "    if CUDA:\n",
    "        oneshot_eta.cuda().to(DEVICE)\n",
    "    optimizer =  torch.optim.Adam(list(oneshot_eta.parameters())+list(enc_eta.parameters())+list(enc_z.parameters()),lr=LEARNING_RATE, betas=(0.9, 0.99))\n",
    "    models = (oneshot_eta, enc_eta, enc_z)"
   ]
  },
  {
   "cell_type": "code",
   "execution_count": null,
   "metadata": {},
   "outputs": [
    {
     "name": "stdout",
     "output_type": "stream",
     "text": [
      "epoch: 0\\1000 (30s),  symKL_DB_eta: 281.044,  symKL_DB_z: 217.368,  loss: -2359.028,  ess: 3.082,  kl_eta_ex: 601.233,  kl_eta_in: 136.702,  kl_z_ex: 146.994,  kl_z_in: 30.743\n",
      "epoch: 1\\1000 (29s),  symKL_DB_eta: 264.719,  symKL_DB_z: 209.816,  loss: -2274.210,  ess: 3.104,  kl_eta_ex: 573.482,  kl_eta_in: 134.630,  kl_z_ex: 143.548,  kl_z_in: 30.154\n",
      "epoch: 2\\1000 (29s),  symKL_DB_eta: 245.316,  symKL_DB_z: 200.890,  loss: -2174.056,  ess: 3.137,  kl_eta_ex: 537.884,  kl_eta_in: 131.629,  kl_z_ex: 138.037,  kl_z_in: 29.390\n",
      "epoch: 3\\1000 (41s),  symKL_DB_eta: 225.826,  symKL_DB_z: 189.327,  loss: -2070.670,  ess: 3.176,  kl_eta_ex: 495.398,  kl_eta_in: 128.074,  kl_z_ex: 131.601,  kl_z_in: 28.494\n",
      "epoch: 4\\1000 (44s),  symKL_DB_eta: 207.085,  symKL_DB_z: 175.865,  loss: -1972.396,  ess: 3.220,  kl_eta_ex: 452.969,  kl_eta_in: 124.423,  kl_z_ex: 121.750,  kl_z_in: 27.377\n",
      "epoch: 5\\1000 (44s),  symKL_DB_eta: 189.650,  symKL_DB_z: 162.641,  loss: -1880.230,  ess: 3.267,  kl_eta_ex: 412.707,  kl_eta_in: 120.592,  kl_z_ex: 113.960,  kl_z_in: 26.458\n",
      "epoch: 6\\1000 (65s),  symKL_DB_eta: 172.416,  symKL_DB_z: 149.441,  loss: -1794.211,  ess: 3.312,  kl_eta_ex: 371.412,  kl_eta_in: 116.941,  kl_z_ex: 103.561,  kl_z_in: 25.179\n",
      "epoch: 7\\1000 (68s),  symKL_DB_eta: 157.849,  symKL_DB_z: 136.765,  loss: -1716.437,  ess: 3.363,  kl_eta_ex: 334.591,  kl_eta_in: 113.547,  kl_z_ex: 93.872,  kl_z_in: 24.034\n",
      "epoch: 8\\1000 (60s),  symKL_DB_eta: 143.809,  symKL_DB_z: 124.514,  loss: -1644.452,  ess: 3.423,  kl_eta_ex: 298.768,  kl_eta_in: 110.161,  kl_z_ex: 84.450,  kl_z_in: 22.682\n",
      "epoch: 9\\1000 (53s),  symKL_DB_eta: 132.201,  symKL_DB_z: 113.006,  loss: -1578.150,  ess: 3.492,  kl_eta_ex: 267.839,  kl_eta_in: 107.094,  kl_z_ex: 76.253,  kl_z_in: 21.362\n",
      "epoch: 10\\1000 (54s),  symKL_DB_eta: 121.248,  symKL_DB_z: 102.213,  loss: -1522.734,  ess: 3.571,  kl_eta_ex: 241.907,  kl_eta_in: 104.695,  kl_z_ex: 67.911,  kl_z_in: 19.905\n",
      "epoch: 11\\1000 (54s),  symKL_DB_eta: 112.217,  symKL_DB_z: 92.231,  loss: -1474.013,  ess: 3.660,  kl_eta_ex: 217.067,  kl_eta_in: 102.374,  kl_z_ex: 60.531,  kl_z_in: 18.529\n",
      "epoch: 12\\1000 (53s),  symKL_DB_eta: 104.297,  symKL_DB_z: 83.275,  loss: -1431.235,  ess: 3.756,  kl_eta_ex: 197.238,  kl_eta_in: 100.858,  kl_z_ex: 53.842,  kl_z_in: 17.247\n",
      "epoch: 13\\1000 (54s),  symKL_DB_eta: 98.002,  symKL_DB_z: 75.552,  loss: -1396.695,  ess: 3.846,  kl_eta_ex: 180.413,  kl_eta_in: 100.261,  kl_z_ex: 48.444,  kl_z_in: 16.188\n",
      "epoch: 14\\1000 (54s),  symKL_DB_eta: 92.237,  symKL_DB_z: 69.129,  loss: -1365.930,  ess: 3.929,  kl_eta_ex: 168.190,  kl_eta_in: 99.836,  kl_z_ex: 44.710,  kl_z_in: 15.320\n",
      "epoch: 15\\1000 (54s),  symKL_DB_eta: 87.237,  symKL_DB_z: 63.329,  loss: -1339.601,  ess: 4.012,  kl_eta_ex: 155.826,  kl_eta_in: 98.691,  kl_z_ex: 40.712,  kl_z_in: 14.604\n",
      "epoch: 16\\1000 (53s),  symKL_DB_eta: 82.594,  symKL_DB_z: 58.980,  loss: -1316.485,  ess: 4.072,  kl_eta_ex: 146.810,  kl_eta_in: 98.153,  kl_z_ex: 37.754,  kl_z_in: 13.976\n",
      "epoch: 17\\1000 (53s),  symKL_DB_eta: 78.660,  symKL_DB_z: 54.398,  loss: -1295.376,  ess: 4.136,  kl_eta_ex: 137.786,  kl_eta_in: 97.848,  kl_z_ex: 35.177,  kl_z_in: 13.578\n",
      "epoch: 18\\1000 (55s),  symKL_DB_eta: 74.917,  symKL_DB_z: 51.030,  loss: -1274.764,  ess: 4.189,  kl_eta_ex: 130.031,  kl_eta_in: 96.765,  kl_z_ex: 32.901,  kl_z_in: 13.084\n",
      "epoch: 19\\1000 (55s),  symKL_DB_eta: 71.668,  symKL_DB_z: 48.118,  loss: -1257.106,  ess: 4.233,  kl_eta_ex: 123.033,  kl_eta_in: 95.199,  kl_z_ex: 31.143,  kl_z_in: 12.699\n",
      "epoch: 20\\1000 (53s),  symKL_DB_eta: 68.338,  symKL_DB_z: 45.503,  loss: -1239.437,  ess: 4.271,  kl_eta_ex: 115.242,  kl_eta_in: 92.563,  kl_z_ex: 29.249,  kl_z_in: 12.337\n",
      "epoch: 21\\1000 (53s),  symKL_DB_eta: 65.672,  symKL_DB_z: 43.172,  loss: -1221.257,  ess: 4.311,  kl_eta_ex: 108.077,  kl_eta_in: 91.161,  kl_z_ex: 27.447,  kl_z_in: 12.013\n",
      "epoch: 22\\1000 (54s),  symKL_DB_eta: 62.697,  symKL_DB_z: 40.881,  loss: -1204.984,  ess: 4.348,  kl_eta_ex: 101.831,  kl_eta_in: 88.564,  kl_z_ex: 26.038,  kl_z_in: 11.734\n",
      "epoch: 23\\1000 (54s),  symKL_DB_eta: 59.657,  symKL_DB_z: 38.855,  loss: -1188.419,  ess: 4.381,  kl_eta_ex: 95.547,  kl_eta_in: 86.063,  kl_z_ex: 24.468,  kl_z_in: 11.386\n",
      "epoch: 24\\1000 (55s),  symKL_DB_eta: 56.955,  symKL_DB_z: 36.909,  loss: -1171.382,  ess: 4.415,  kl_eta_ex: 88.999,  kl_eta_in: 83.648,  kl_z_ex: 23.088,  kl_z_in: 11.106\n",
      "epoch: 25\\1000 (54s),  symKL_DB_eta: 54.337,  symKL_DB_z: 35.185,  loss: -1155.403,  ess: 4.447,  kl_eta_ex: 83.265,  kl_eta_in: 80.171,  kl_z_ex: 21.662,  kl_z_in: 10.717\n",
      "epoch: 26\\1000 (53s),  symKL_DB_eta: 51.577,  symKL_DB_z: 33.456,  loss: -1139.202,  ess: 4.480,  kl_eta_ex: 76.808,  kl_eta_in: 78.370,  kl_z_ex: 20.298,  kl_z_in: 10.432\n",
      "epoch: 27\\1000 (52s),  symKL_DB_eta: 49.292,  symKL_DB_z: 32.046,  loss: -1123.119,  ess: 4.510,  kl_eta_ex: 70.804,  kl_eta_in: 75.447,  kl_z_ex: 18.831,  kl_z_in: 10.005\n",
      "epoch: 28\\1000 (54s),  symKL_DB_eta: 47.009,  symKL_DB_z: 30.882,  loss: -1107.663,  ess: 4.537,  kl_eta_ex: 65.675,  kl_eta_in: 73.768,  kl_z_ex: 17.773,  kl_z_in: 9.647\n",
      "epoch: 29\\1000 (54s),  symKL_DB_eta: 44.846,  symKL_DB_z: 29.845,  loss: -1092.261,  ess: 4.569,  kl_eta_ex: 60.539,  kl_eta_in: 72.038,  kl_z_ex: 16.715,  kl_z_in: 9.246\n",
      "epoch: 30\\1000 (53s),  symKL_DB_eta: 42.669,  symKL_DB_z: 28.735,  loss: -1077.629,  ess: 4.598,  kl_eta_ex: 55.772,  kl_eta_in: 69.738,  kl_z_ex: 15.781,  kl_z_in: 8.876\n",
      "epoch: 31\\1000 (53s),  symKL_DB_eta: 40.636,  symKL_DB_z: 27.901,  loss: -1064.677,  ess: 4.627,  kl_eta_ex: 51.474,  kl_eta_in: 68.025,  kl_z_ex: 14.937,  kl_z_in: 8.474\n",
      "epoch: 32\\1000 (55s),  symKL_DB_eta: 38.654,  symKL_DB_z: 27.056,  loss: -1051.942,  ess: 4.657,  kl_eta_ex: 47.815,  kl_eta_in: 67.449,  kl_z_ex: 14.196,  kl_z_in: 8.144\n",
      "epoch: 33\\1000 (54s),  symKL_DB_eta: 37.077,  symKL_DB_z: 26.394,  loss: -1039.280,  ess: 4.685,  kl_eta_ex: 44.307,  kl_eta_in: 65.864,  kl_z_ex: 13.526,  kl_z_in: 7.822\n",
      "epoch: 34\\1000 (54s),  symKL_DB_eta: 35.778,  symKL_DB_z: 26.000,  loss: -1028.173,  ess: 4.713,  kl_eta_ex: 41.121,  kl_eta_in: 64.212,  kl_z_ex: 13.100,  kl_z_in: 7.535\n",
      "epoch: 35\\1000 (55s),  symKL_DB_eta: 34.494,  symKL_DB_z: 25.650,  loss: -1017.325,  ess: 4.742,  kl_eta_ex: 38.487,  kl_eta_in: 63.223,  kl_z_ex: 12.589,  kl_z_in: 7.125\n",
      "epoch: 36\\1000 (52s),  symKL_DB_eta: 33.152,  symKL_DB_z: 25.222,  loss: -1007.275,  ess: 4.770,  kl_eta_ex: 36.190,  kl_eta_in: 62.768,  kl_z_ex: 12.266,  kl_z_in: 6.791\n",
      "epoch: 37\\1000 (55s),  symKL_DB_eta: 32.161,  symKL_DB_z: 25.078,  loss: -998.375,  ess: 4.792,  kl_eta_ex: 34.197,  kl_eta_in: 61.723,  kl_z_ex: 12.062,  kl_z_in: 6.580\n",
      "epoch: 38\\1000 (53s),  symKL_DB_eta: 31.338,  symKL_DB_z: 24.903,  loss: -990.683,  ess: 4.816,  kl_eta_ex: 32.519,  kl_eta_in: 60.610,  kl_z_ex: 11.823,  kl_z_in: 6.363\n",
      "epoch: 39\\1000 (54s),  symKL_DB_eta: 30.584,  symKL_DB_z: 24.922,  loss: -983.976,  ess: 4.837,  kl_eta_ex: 31.004,  kl_eta_in: 59.993,  kl_z_ex: 11.687,  kl_z_in: 6.159\n",
      "epoch: 40\\1000 (54s),  symKL_DB_eta: 29.824,  symKL_DB_z: 24.801,  loss: -977.295,  ess: 4.859,  kl_eta_ex: 29.837,  kl_eta_in: 59.528,  kl_z_ex: 11.460,  kl_z_in: 5.893\n",
      "epoch: 41\\1000 (53s),  symKL_DB_eta: 29.284,  symKL_DB_z: 24.799,  loss: -972.231,  ess: 4.880,  kl_eta_ex: 28.769,  kl_eta_in: 58.611,  kl_z_ex: 11.365,  kl_z_in: 5.739\n",
      "epoch: 42\\1000 (53s),  symKL_DB_eta: 28.933,  symKL_DB_z: 24.682,  loss: -966.825,  ess: 4.898,  kl_eta_ex: 27.835,  kl_eta_in: 58.550,  kl_z_ex: 11.157,  kl_z_in: 5.587\n",
      "epoch: 43\\1000 (53s),  symKL_DB_eta: 28.396,  symKL_DB_z: 24.972,  loss: -963.034,  ess: 4.907,  kl_eta_ex: 26.945,  kl_eta_in: 57.289,  kl_z_ex: 11.250,  kl_z_in: 5.473\n",
      "epoch: 44\\1000 (55s),  symKL_DB_eta: 28.168,  symKL_DB_z: 24.952,  loss: -960.198,  ess: 4.925,  kl_eta_ex: 26.535,  kl_eta_in: 57.105,  kl_z_ex: 11.254,  kl_z_in: 5.372\n",
      "epoch: 45\\1000 (54s),  symKL_DB_eta: 27.756,  symKL_DB_z: 24.907,  loss: -957.898,  ess: 4.935,  kl_eta_ex: 25.920,  kl_eta_in: 56.868,  kl_z_ex: 11.068,  kl_z_in: 5.242\n",
      "epoch: 46\\1000 (54s),  symKL_DB_eta: 27.557,  symKL_DB_z: 25.065,  loss: -955.367,  ess: 4.951,  kl_eta_ex: 25.623,  kl_eta_in: 56.238,  kl_z_ex: 11.088,  kl_z_in: 5.153\n",
      "epoch: 47\\1000 (54s),  symKL_DB_eta: 27.342,  symKL_DB_z: 24.954,  loss: -953.945,  ess: 4.961,  kl_eta_ex: 25.242,  kl_eta_in: 55.615,  kl_z_ex: 10.986,  kl_z_in: 5.078\n",
      "epoch: 48\\1000 (56s),  symKL_DB_eta: 27.060,  symKL_DB_z: 25.118,  loss: -952.963,  ess: 4.966,  kl_eta_ex: 25.081,  kl_eta_in: 55.805,  kl_z_ex: 10.976,  kl_z_in: 5.040\n",
      "epoch: 49\\1000 (54s),  symKL_DB_eta: 26.957,  symKL_DB_z: 25.151,  loss: -953.111,  ess: 4.974,  kl_eta_ex: 24.979,  kl_eta_in: 55.460,  kl_z_ex: 11.009,  kl_z_in: 5.017\n",
      "epoch: 50\\1000 (55s),  symKL_DB_eta: 26.654,  symKL_DB_z: 24.901,  loss: -951.985,  ess: 4.984,  kl_eta_ex: 24.823,  kl_eta_in: 55.853,  kl_z_ex: 10.808,  kl_z_in: 4.934\n",
      "epoch: 51\\1000 (53s),  symKL_DB_eta: 26.468,  symKL_DB_z: 25.022,  loss: -951.814,  ess: 4.993,  kl_eta_ex: 24.675,  kl_eta_in: 56.019,  kl_z_ex: 10.793,  kl_z_in: 4.920\n",
      "epoch: 52\\1000 (53s),  symKL_DB_eta: 26.142,  symKL_DB_z: 24.773,  loss: -951.942,  ess: 5.005,  kl_eta_ex: 24.554,  kl_eta_in: 55.456,  kl_z_ex: 10.724,  kl_z_in: 4.881\n",
      "epoch: 53\\1000 (54s),  symKL_DB_eta: 26.082,  symKL_DB_z: 24.579,  loss: -951.852,  ess: 5.012,  kl_eta_ex: 24.628,  kl_eta_in: 56.824,  kl_z_ex: 10.611,  kl_z_in: 4.866\n",
      "epoch: 54\\1000 (55s),  symKL_DB_eta: 25.749,  symKL_DB_z: 24.377,  loss: -952.708,  ess: 5.020,  kl_eta_ex: 24.622,  kl_eta_in: 56.507,  kl_z_ex: 10.562,  kl_z_in: 4.848\n",
      "epoch: 55\\1000 (54s),  symKL_DB_eta: 25.573,  symKL_DB_z: 24.147,  loss: -952.784,  ess: 5.029,  kl_eta_ex: 24.539,  kl_eta_in: 56.632,  kl_z_ex: 10.488,  kl_z_in: 4.827\n",
      "epoch: 56\\1000 (54s),  symKL_DB_eta: 25.405,  symKL_DB_z: 23.760,  loss: -951.952,  ess: 5.044,  kl_eta_ex: 24.594,  kl_eta_in: 56.745,  kl_z_ex: 10.330,  kl_z_in: 4.783\n",
      "epoch: 57\\1000 (54s),  symKL_DB_eta: 25.235,  symKL_DB_z: 23.375,  loss: -952.574,  ess: 5.054,  kl_eta_ex: 24.688,  kl_eta_in: 56.874,  kl_z_ex: 10.241,  kl_z_in: 4.746\n",
      "epoch: 58\\1000 (55s),  symKL_DB_eta: 25.134,  symKL_DB_z: 23.054,  loss: -953.610,  ess: 5.067,  kl_eta_ex: 24.773,  kl_eta_in: 58.951,  kl_z_ex: 10.105,  kl_z_in: 4.755\n",
      "epoch: 59\\1000 (53s),  symKL_DB_eta: 24.780,  symKL_DB_z: 22.841,  loss: -954.461,  ess: 5.071,  kl_eta_ex: 24.749,  kl_eta_in: 59.045,  kl_z_ex: 9.933,  kl_z_in: 4.759\n",
      "epoch: 60\\1000 (54s),  symKL_DB_eta: 24.659,  symKL_DB_z: 22.395,  loss: -952.890,  ess: 5.093,  kl_eta_ex: 24.852,  kl_eta_in: 60.139,  kl_z_ex: 9.758,  kl_z_in: 4.652\n",
      "epoch: 61\\1000 (54s),  symKL_DB_eta: 24.532,  symKL_DB_z: 22.072,  loss: -953.061,  ess: 5.105,  kl_eta_ex: 24.805,  kl_eta_in: 60.745,  kl_z_ex: 9.676,  kl_z_in: 4.662\n",
      "epoch: 62\\1000 (54s),  symKL_DB_eta: 24.238,  symKL_DB_z: 21.713,  loss: -951.243,  ess: 5.121,  kl_eta_ex: 24.584,  kl_eta_in: 59.485,  kl_z_ex: 9.403,  kl_z_in: 4.550\n",
      "epoch: 63\\1000 (53s),  symKL_DB_eta: 23.914,  symKL_DB_z: 21.426,  loss: -950.924,  ess: 5.135,  kl_eta_ex: 24.434,  kl_eta_in: 59.417,  kl_z_ex: 9.238,  kl_z_in: 4.487\n",
      "epoch: 64\\1000 (53s),  symKL_DB_eta: 23.798,  symKL_DB_z: 21.155,  loss: -950.149,  ess: 5.151,  kl_eta_ex: 24.477,  kl_eta_in: 60.486,  kl_z_ex: 9.151,  kl_z_in: 4.449\n",
      "epoch: 65\\1000 (55s),  symKL_DB_eta: 23.604,  symKL_DB_z: 20.844,  loss: -948.774,  ess: 5.165,  kl_eta_ex: 24.366,  kl_eta_in: 61.508,  kl_z_ex: 8.833,  kl_z_in: 4.370\n",
      "epoch: 66\\1000 (55s),  symKL_DB_eta: 23.392,  symKL_DB_z: 20.707,  loss: -947.523,  ess: 5.177,  kl_eta_ex: 24.141,  kl_eta_in: 61.264,  kl_z_ex: 8.640,  kl_z_in: 4.302\n",
      "epoch: 67\\1000 (54s),  symKL_DB_eta: 23.344,  symKL_DB_z: 20.303,  loss: -946.069,  ess: 5.189,  kl_eta_ex: 24.124,  kl_eta_in: 61.701,  kl_z_ex: 8.439,  kl_z_in: 4.246\n",
      "epoch: 68\\1000 (56s),  symKL_DB_eta: 22.979,  symKL_DB_z: 20.223,  loss: -943.740,  ess: 5.207,  kl_eta_ex: 23.848,  kl_eta_in: 60.192,  kl_z_ex: 8.267,  kl_z_in: 4.119\n",
      "epoch: 69\\1000 (56s),  symKL_DB_eta: 22.918,  symKL_DB_z: 20.197,  loss: -941.593,  ess: 5.212,  kl_eta_ex: 23.722,  kl_eta_in: 60.300,  kl_z_ex: 8.154,  kl_z_in: 4.081\n",
      "epoch: 70\\1000 (53s),  symKL_DB_eta: 22.815,  symKL_DB_z: 20.008,  loss: -940.318,  ess: 5.225,  kl_eta_ex: 23.574,  kl_eta_in: 59.508,  kl_z_ex: 8.041,  kl_z_in: 4.012\n",
      "epoch: 71\\1000 (55s),  symKL_DB_eta: 22.632,  symKL_DB_z: 19.865,  loss: -937.807,  ess: 5.243,  kl_eta_ex: 23.151,  kl_eta_in: 58.209,  kl_z_ex: 7.864,  kl_z_in: 3.919\n",
      "epoch: 72\\1000 (54s),  symKL_DB_eta: 22.348,  symKL_DB_z: 19.907,  loss: -935.716,  ess: 5.256,  kl_eta_ex: 22.901,  kl_eta_in: 57.158,  kl_z_ex: 7.814,  kl_z_in: 3.865\n",
      "epoch: 73\\1000 (54s),  symKL_DB_eta: 22.113,  symKL_DB_z: 19.771,  loss: -932.585,  ess: 5.271,  kl_eta_ex: 22.367,  kl_eta_in: 55.305,  kl_z_ex: 7.528,  kl_z_in: 3.797\n",
      "epoch: 74\\1000 (54s),  symKL_DB_eta: 22.068,  symKL_DB_z: 19.745,  loss: -930.948,  ess: 5.280,  kl_eta_ex: 22.063,  kl_eta_in: 55.272,  kl_z_ex: 7.335,  kl_z_in: 3.686\n",
      "epoch: 75\\1000 (55s),  symKL_DB_eta: 21.876,  symKL_DB_z: 19.666,  loss: -928.333,  ess: 5.301,  kl_eta_ex: 21.654,  kl_eta_in: 52.703,  kl_z_ex: 7.252,  kl_z_in: 3.628\n",
      "epoch: 76\\1000 (54s),  symKL_DB_eta: 21.714,  symKL_DB_z: 19.885,  loss: -925.739,  ess: 5.310,  kl_eta_ex: 21.310,  kl_eta_in: 51.631,  kl_z_ex: 7.176,  kl_z_in: 3.541\n",
      "epoch: 77\\1000 (52s),  symKL_DB_eta: 21.615,  symKL_DB_z: 19.939,  loss: -923.901,  ess: 5.324,  kl_eta_ex: 20.895,  kl_eta_in: 49.781,  kl_z_ex: 7.089,  kl_z_in: 3.468\n",
      "epoch: 78\\1000 (54s),  symKL_DB_eta: 21.420,  symKL_DB_z: 19.852,  loss: -921.184,  ess: 5.337,  kl_eta_ex: 20.597,  kl_eta_in: 48.482,  kl_z_ex: 6.941,  kl_z_in: 3.404\n",
      "epoch: 79\\1000 (54s),  symKL_DB_eta: 21.299,  symKL_DB_z: 19.915,  loss: -918.799,  ess: 5.353,  kl_eta_ex: 20.167,  kl_eta_in: 47.222,  kl_z_ex: 6.865,  kl_z_in: 3.332\n",
      "epoch: 80\\1000 (56s),  symKL_DB_eta: 21.061,  symKL_DB_z: 19.910,  loss: -916.177,  ess: 5.365,  kl_eta_ex: 19.660,  kl_eta_in: 45.505,  kl_z_ex: 6.675,  kl_z_in: 3.277\n",
      "epoch: 81\\1000 (52s),  symKL_DB_eta: 21.022,  symKL_DB_z: 20.002,  loss: -914.112,  ess: 5.381,  kl_eta_ex: 19.285,  kl_eta_in: 44.050,  kl_z_ex: 6.689,  kl_z_in: 3.217\n",
      "epoch: 82\\1000 (54s),  symKL_DB_eta: 20.812,  symKL_DB_z: 20.273,  loss: -911.187,  ess: 5.396,  kl_eta_ex: 18.826,  kl_eta_in: 41.808,  kl_z_ex: 6.588,  kl_z_in: 3.178\n",
      "epoch: 83\\1000 (54s),  symKL_DB_eta: 20.565,  symKL_DB_z: 20.360,  loss: -910.039,  ess: 5.407,  kl_eta_ex: 18.493,  kl_eta_in: 40.157,  kl_z_ex: 6.651,  kl_z_in: 3.154\n",
      "epoch: 84\\1000 (45s),  symKL_DB_eta: 20.422,  symKL_DB_z: 20.241,  loss: -907.287,  ess: 5.428,  kl_eta_ex: 18.036,  kl_eta_in: 38.260,  kl_z_ex: 6.454,  kl_z_in: 3.048\n",
      "epoch: 85\\1000 (44s),  symKL_DB_eta: 20.287,  symKL_DB_z: 20.560,  loss: -905.643,  ess: 5.441,  kl_eta_ex: 17.448,  kl_eta_in: 36.154,  kl_z_ex: 6.409,  kl_z_in: 3.035\n",
      "epoch: 86\\1000 (44s),  symKL_DB_eta: 20.174,  symKL_DB_z: 20.762,  loss: -903.499,  ess: 5.455,  kl_eta_ex: 17.015,  kl_eta_in: 34.710,  kl_z_ex: 6.444,  kl_z_in: 2.982\n",
      "epoch: 87\\1000 (44s),  symKL_DB_eta: 20.070,  symKL_DB_z: 20.939,  loss: -901.248,  ess: 5.471,  kl_eta_ex: 16.530,  kl_eta_in: 32.929,  kl_z_ex: 6.376,  kl_z_in: 2.930\n",
      "epoch: 88\\1000 (44s),  symKL_DB_eta: 19.780,  symKL_DB_z: 21.167,  loss: -898.928,  ess: 5.485,  kl_eta_ex: 16.074,  kl_eta_in: 31.548,  kl_z_ex: 6.299,  kl_z_in: 2.873\n",
      "epoch: 89\\1000 (44s),  symKL_DB_eta: 19.840,  symKL_DB_z: 21.319,  loss: -897.057,  ess: 5.503,  kl_eta_ex: 15.663,  kl_eta_in: 29.866,  kl_z_ex: 6.335,  kl_z_in: 2.871\n",
      "epoch: 90\\1000 (44s),  symKL_DB_eta: 19.670,  symKL_DB_z: 21.556,  loss: -895.456,  ess: 5.514,  kl_eta_ex: 15.275,  kl_eta_in: 28.367,  kl_z_ex: 6.245,  kl_z_in: 2.798\n",
      "epoch: 91\\1000 (44s),  symKL_DB_eta: 19.469,  symKL_DB_z: 21.640,  loss: -893.924,  ess: 5.533,  kl_eta_ex: 14.856,  kl_eta_in: 27.042,  kl_z_ex: 6.264,  kl_z_in: 2.806\n",
      "epoch: 92\\1000 (44s),  symKL_DB_eta: 19.474,  symKL_DB_z: 22.044,  loss: -891.605,  ess: 5.550,  kl_eta_ex: 14.415,  kl_eta_in: 25.498,  kl_z_ex: 6.251,  kl_z_in: 2.756\n",
      "epoch: 93\\1000 (44s),  symKL_DB_eta: 19.200,  symKL_DB_z: 22.263,  loss: -889.715,  ess: 5.562,  kl_eta_ex: 13.962,  kl_eta_in: 24.259,  kl_z_ex: 6.170,  kl_z_in: 2.699\n",
      "epoch: 94\\1000 (44s),  symKL_DB_eta: 19.007,  symKL_DB_z: 22.436,  loss: -888.276,  ess: 5.575,  kl_eta_ex: 13.574,  kl_eta_in: 22.927,  kl_z_ex: 6.225,  kl_z_in: 2.682\n",
      "epoch: 95\\1000 (43s),  symKL_DB_eta: 19.129,  symKL_DB_z: 22.797,  loss: -887.546,  ess: 5.591,  kl_eta_ex: 13.248,  kl_eta_in: 22.037,  kl_z_ex: 6.202,  kl_z_in: 2.644\n",
      "epoch: 96\\1000 (44s),  symKL_DB_eta: 18.882,  symKL_DB_z: 23.011,  loss: -885.881,  ess: 5.609,  kl_eta_ex: 12.847,  kl_eta_in: 20.616,  kl_z_ex: 6.252,  kl_z_in: 2.638\n",
      "epoch: 97\\1000 (45s),  symKL_DB_eta: 18.785,  symKL_DB_z: 23.374,  loss: -884.827,  ess: 5.624,  kl_eta_ex: 12.512,  kl_eta_in: 19.633,  kl_z_ex: 6.208,  kl_z_in: 2.598\n",
      "epoch: 98\\1000 (47s),  symKL_DB_eta: 18.565,  symKL_DB_z: 23.499,  loss: -883.297,  ess: 5.644,  kl_eta_ex: 12.231,  kl_eta_in: 18.679,  kl_z_ex: 6.339,  kl_z_in: 2.635\n",
      "epoch: 99\\1000 (43s),  symKL_DB_eta: 18.463,  symKL_DB_z: 23.840,  loss: -882.118,  ess: 5.662,  kl_eta_ex: 11.799,  kl_eta_in: 17.737,  kl_z_ex: 6.202,  kl_z_in: 2.555\n",
      "epoch: 100\\1000 (44s),  symKL_DB_eta: 18.343,  symKL_DB_z: 23.991,  loss: -881.613,  ess: 5.675,  kl_eta_ex: 11.596,  kl_eta_in: 17.026,  kl_z_ex: 6.272,  kl_z_in: 2.608\n",
      "epoch: 101\\1000 (42s),  symKL_DB_eta: 18.172,  symKL_DB_z: 24.410,  loss: -879.945,  ess: 5.697,  kl_eta_ex: 11.226,  kl_eta_in: 16.073,  kl_z_ex: 6.253,  kl_z_in: 2.519\n",
      "epoch: 102\\1000 (44s),  symKL_DB_eta: 18.094,  symKL_DB_z: 24.560,  loss: -879.277,  ess: 5.714,  kl_eta_ex: 10.975,  kl_eta_in: 15.556,  kl_z_ex: 6.244,  kl_z_in: 2.509\n",
      "epoch: 103\\1000 (43s),  symKL_DB_eta: 17.990,  symKL_DB_z: 24.703,  loss: -877.957,  ess: 5.734,  kl_eta_ex: 10.639,  kl_eta_in: 14.676,  kl_z_ex: 6.217,  kl_z_in: 2.497\n",
      "epoch: 104\\1000 (43s),  symKL_DB_eta: 18.001,  symKL_DB_z: 25.241,  loss: -877.127,  ess: 5.748,  kl_eta_ex: 10.429,  kl_eta_in: 14.024,  kl_z_ex: 6.278,  kl_z_in: 2.484\n",
      "epoch: 105\\1000 (42s),  symKL_DB_eta: 17.817,  symKL_DB_z: 25.244,  loss: -876.337,  ess: 5.768,  kl_eta_ex: 10.170,  kl_eta_in: 13.431,  kl_z_ex: 6.245,  kl_z_in: 2.444\n",
      "epoch: 106\\1000 (44s),  symKL_DB_eta: 17.756,  symKL_DB_z: 25.723,  loss: -876.472,  ess: 5.780,  kl_eta_ex: 10.024,  kl_eta_in: 12.940,  kl_z_ex: 6.339,  kl_z_in: 2.462\n",
      "epoch: 107\\1000 (45s),  symKL_DB_eta: 17.591,  symKL_DB_z: 25.944,  loss: -874.833,  ess: 5.794,  kl_eta_ex: 9.719,  kl_eta_in: 12.353,  kl_z_ex: 6.287,  kl_z_in: 2.430\n",
      "epoch: 108\\1000 (44s),  symKL_DB_eta: 17.613,  symKL_DB_z: 26.024,  loss: -874.600,  ess: 5.818,  kl_eta_ex: 9.488,  kl_eta_in: 11.896,  kl_z_ex: 6.288,  kl_z_in: 2.420\n",
      "epoch: 109\\1000 (45s),  symKL_DB_eta: 17.518,  symKL_DB_z: 26.309,  loss: -873.887,  ess: 5.841,  kl_eta_ex: 9.329,  kl_eta_in: 11.507,  kl_z_ex: 6.295,  kl_z_in: 2.406\n",
      "epoch: 110\\1000 (45s),  symKL_DB_eta: 17.421,  symKL_DB_z: 26.686,  loss: -873.760,  ess: 5.856,  kl_eta_ex: 9.122,  kl_eta_in: 10.966,  kl_z_ex: 6.383,  kl_z_in: 2.394\n",
      "epoch: 111\\1000 (45s),  symKL_DB_eta: 17.341,  symKL_DB_z: 26.891,  loss: -872.747,  ess: 5.865,  kl_eta_ex: 9.001,  kl_eta_in: 10.637,  kl_z_ex: 6.341,  kl_z_in: 2.412\n",
      "epoch: 112\\1000 (43s),  symKL_DB_eta: 17.219,  symKL_DB_z: 26.666,  loss: -872.014,  ess: 5.888,  kl_eta_ex: 8.735,  kl_eta_in: 10.205,  kl_z_ex: 6.305,  kl_z_in: 2.363\n",
      "epoch: 113\\1000 (42s),  symKL_DB_eta: 17.264,  symKL_DB_z: 27.145,  loss: -871.545,  ess: 5.904,  kl_eta_ex: 8.602,  kl_eta_in: 9.823,  kl_z_ex: 6.306,  kl_z_in: 2.346\n",
      "epoch: 114\\1000 (43s),  symKL_DB_eta: 17.007,  symKL_DB_z: 27.404,  loss: -871.546,  ess: 5.919,  kl_eta_ex: 8.559,  kl_eta_in: 9.616,  kl_z_ex: 6.395,  kl_z_in: 2.378\n",
      "epoch: 115\\1000 (42s),  symKL_DB_eta: 16.954,  symKL_DB_z: 27.689,  loss: -871.014,  ess: 5.939,  kl_eta_ex: 8.362,  kl_eta_in: 9.328,  kl_z_ex: 6.364,  kl_z_in: 2.353\n",
      "epoch: 116\\1000 (44s),  symKL_DB_eta: 17.003,  symKL_DB_z: 27.799,  loss: -870.200,  ess: 5.951,  kl_eta_ex: 8.250,  kl_eta_in: 8.964,  kl_z_ex: 6.397,  kl_z_in: 2.347\n",
      "epoch: 117\\1000 (43s),  symKL_DB_eta: 17.005,  symKL_DB_z: 28.013,  loss: -870.502,  ess: 5.970,  kl_eta_ex: 8.160,  kl_eta_in: 8.773,  kl_z_ex: 6.417,  kl_z_in: 2.351\n",
      "epoch: 118\\1000 (43s),  symKL_DB_eta: 16.742,  symKL_DB_z: 28.031,  loss: -870.465,  ess: 5.988,  kl_eta_ex: 7.993,  kl_eta_in: 8.484,  kl_z_ex: 6.391,  kl_z_in: 2.337\n",
      "epoch: 119\\1000 (44s),  symKL_DB_eta: 16.774,  symKL_DB_z: 28.566,  loss: -868.830,  ess: 6.005,  kl_eta_ex: 7.822,  kl_eta_in: 8.188,  kl_z_ex: 6.367,  kl_z_in: 2.302\n"
     ]
    }
   ],
   "source": [
    "from ag_ep import *\n",
    "train(models, EUBO_init_eta, optimizer, Data, Model_Params, Train_Params)"
   ]
  },
  {
   "cell_type": "code",
   "execution_count": null,
   "metadata": {},
   "outputs": [],
   "source": []
  },
  {
   "cell_type": "code",
   "execution_count": null,
   "metadata": {},
   "outputs": [],
   "source": [
    "torch.save(enc_z.state_dict(), \"../weights/enc-z-%s\" % PATH)\n",
    "torch.save(enc_eta.state_dict(), \"../weights/enc-eta-%s\" % PATH)\n",
    "torch.save(oneshot_eta.state_dict(), \"../weights/oneshot-eta-%s\" % PATH)"
   ]
  },
  {
   "cell_type": "code",
   "execution_count": null,
   "metadata": {},
   "outputs": [],
   "source": [
    "BATCH_SIZE_TEST = 50\n",
    "Model_Params_Test = (N, K, D, MCMC_SIZE, SAMPLE_SIZE, BATCH_SIZE_TEST)\n",
    "obs, metric_step, reused = test(Eubo_cfz_os_eta, Data, Train_Params, Model_Params_Test, models)\n",
    "(q_eta, _, q_z, _, _, _) = reused"
   ]
  },
  {
   "cell_type": "code",
   "execution_count": null,
   "metadata": {},
   "outputs": [],
   "source": [
    "%time plot_samples(obs, q_eta, q_z, PATH)"
   ]
  },
  {
   "cell_type": "code",
   "execution_count": null,
   "metadata": {},
   "outputs": [],
   "source": [
    "incremental_gap = symkl_test.cpu().data.numpy()[1:]\n",
    "M = incremental_gap.shape[0]\n",
    "overall_gap = np.zeros(M)\n",
    "for m in range(M):\n",
    "    overall_gap[m] = incremental_gap[:m+1].sum()"
   ]
  },
  {
   "cell_type": "code",
   "execution_count": null,
   "metadata": {},
   "outputs": [],
   "source": [
    "fig = plt.figure(figsize=(12,6))\n",
    "ax = fig.add_subplot(111)\n",
    "plt.yscale(\"log\")\n",
    "ax.plot(incremental_gap, label=\"incremental gap\")\n",
    "ax.plot(overall_gap, label='overall gap')\n",
    "ax.legend(fontsize=14)\n",
    "ax.set_xlabel('Steps')"
   ]
  },
  {
   "cell_type": "code",
   "execution_count": null,
   "metadata": {},
   "outputs": [],
   "source": [
    "incremental_gap"
   ]
  },
  {
   "cell_type": "code",
   "execution_count": null,
   "metadata": {},
   "outputs": [],
   "source": []
  },
  {
   "cell_type": "code",
   "execution_count": null,
   "metadata": {},
   "outputs": [],
   "source": []
  },
  {
   "cell_type": "code",
   "execution_count": null,
   "metadata": {},
   "outputs": [],
   "source": []
  }
 ],
 "metadata": {
  "kernelspec": {
   "display_name": "Python 3",
   "language": "python",
   "name": "python3"
  },
  "language_info": {
   "codemirror_mode": {
    "name": "ipython",
    "version": 3
   },
   "file_extension": ".py",
   "mimetype": "text/x-python",
   "name": "python",
   "nbconvert_exporter": "python",
   "pygments_lexer": "ipython3",
   "version": "3.7.3"
  }
 },
 "nbformat": 4,
 "nbformat_minor": 2
}
