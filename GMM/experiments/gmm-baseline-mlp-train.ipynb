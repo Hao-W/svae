{
 "cells": [
  {
   "cell_type": "code",
   "execution_count": 8,
   "metadata": {},
   "outputs": [
    {
     "name": "stdout",
     "output_type": "stream",
     "text": [
      "probtorch: 0.0+5a2c637 torch: 1.1.0 cuda: True\n"
     ]
    }
   ],
   "source": [
    "%matplotlib inline\n",
    "%run ../../import_envs.py\n",
    "print('probtorch:', probtorch.__version__, \n",
    "      'torch:', torch.__version__, \n",
    "      'cuda:', torch.cuda.is_available())"
   ]
  },
  {
   "cell_type": "code",
   "execution_count": 9,
   "metadata": {},
   "outputs": [],
   "source": [
    "## Load dataset\n",
    "data_path = \"../gmm_dataset_c20k\"\n",
    "Data = torch.from_numpy(np.load(data_path + '/obs.npy')).float()\n",
    "\n",
    "NUM_DATASETS, N, D = Data.shape\n",
    "K = 3 ## number of clusters\n",
    "SAMPLE_SIZE = 10\n",
    "NUM_HIDDEN_LOCAL = 32\n",
    "\n",
    "BATCH_SIZE = 20\n",
    "NUM_EPOCHS = 1000\n",
    "LEARNING_RATE = 5 * 1e-4\n",
    "CUDA = torch.cuda.is_available()\n",
    "PATH = 'baseline-mlp-2round-%dsamples' % (SAMPLE_SIZE)\n",
    "DEVICE = torch.device('cuda:0')\n",
    "\n",
    "Train_Params = (NUM_EPOCHS, NUM_DATASETS, SAMPLE_SIZE, BATCH_SIZE, CUDA, DEVICE, PATH)\n",
    "Model_Params = (N, K, D)"
   ]
  },
  {
   "cell_type": "code",
   "execution_count": 10,
   "metadata": {},
   "outputs": [],
   "source": [
    "from local_enc import *\n",
    "from global_oneshot import *\n",
    "## if reparameterize continuous variables\n",
    "Reparameterized = False\n",
    "# initialization\n",
    "enc_z = Enc_z(K, D, NUM_HIDDEN_LOCAL, CUDA, DEVICE)\n",
    "oneshot_eta = Oneshot_eta(K, D, CUDA, DEVICE, Reparameterized)\n",
    "if CUDA:\n",
    "    enc_z.cuda().to(DEVICE)\n",
    "    oneshot_eta.cuda().to(DEVICE)\n",
    "optimizer =  torch.optim.Adam(list(oneshot_eta.parameters())+list(enc_z.parameters()),lr=LEARNING_RATE, betas=(0.9, 0.99))\n",
    "models = (oneshot_eta, enc_z)"
   ]
  },
  {
   "cell_type": "code",
   "execution_count": 12,
   "metadata": {},
   "outputs": [],
   "source": [
    "(NUM_EPOCHS, NUM_DATASETS, S, B, CUDA, device, path) = Train_Params\n",
    "SubTrain_Params = (device, S, B) + Model_Params\n",
    "\n",
    "NUM_BATCHES = int((NUM_DATASETS / B))\n",
    "\n",
    "indices = torch.randperm(NUM_DATASETS)\n",
    "for step in range(1):\n",
    "    optimizer.zero_grad()\n",
    "    batch_indices = indices[step*B : (step+1)*B]\n",
    "    obs = Data[batch_indices]\n",
    "    obs = shuffler(obs).repeat(S, 1, 1, 1)\n",
    "    if CUDA:\n",
    "        obs =obs.cuda().to(device)"
   ]
  },
  {
   "cell_type": "code",
   "execution_count": 13,
   "metadata": {},
   "outputs": [],
   "source": [
    "(device, sample_size, batch_size, N, K, D) = SubTrain_Params\n",
    "obs_tau, obs_mu, state, log_w_f_z, q_eta, p_eta, q_z, p_z = Init_step_eta(models, obs, N, K, D, sample_size, batch_size)"
   ]
  },
  {
   "cell_type": "code",
   "execution_count": 17,
   "metadata": {},
   "outputs": [
    {
     "data": {
      "text/plain": [
       "torch.Size([10, 20, 60])"
      ]
     },
     "execution_count": 17,
     "metadata": {},
     "output_type": "execute_result"
    }
   ],
   "source": [
    "q_z['zs'].log_prob.shape"
   ]
  },
  {
   "cell_type": "code",
   "execution_count": 4,
   "metadata": {},
   "outputs": [
    {
     "name": "stdout",
     "output_type": "stream",
     "text": [
      "epoch: 0\\1000 (7s),  eubo: -537.644,  elbo: -636.374,  ess: 1.103\n",
      "epoch: 1\\1000 (7s),  eubo: -348.188,  elbo: -364.218,  ess: 1.426\n",
      "epoch: 2\\1000 (7s),  eubo: -300.987,  elbo: -315.976,  ess: 1.494\n",
      "epoch: 3\\1000 (7s),  eubo: -281.840,  elbo: -294.993,  ess: 1.588\n",
      "epoch: 4\\1000 (7s),  eubo: -279.344,  elbo: -290.922,  ess: 1.643\n",
      "epoch: 5\\1000 (7s),  eubo: -278.679,  elbo: -289.474,  ess: 1.661\n",
      "epoch: 6\\1000 (7s),  eubo: -278.328,  elbo: -288.643,  ess: 1.686\n",
      "epoch: 7\\1000 (7s),  eubo: -278.147,  elbo: -288.131,  ess: 1.708\n",
      "epoch: 8\\1000 (7s),  eubo: -278.003,  elbo: -287.785,  ess: 1.719\n",
      "epoch: 9\\1000 (7s),  eubo: -277.870,  elbo: -287.524,  ess: 1.726\n",
      "epoch: 10\\1000 (7s),  eubo: -277.747,  elbo: -287.283,  ess: 1.733\n",
      "epoch: 11\\1000 (7s),  eubo: -277.663,  elbo: -287.101,  ess: 1.755\n",
      "epoch: 12\\1000 (7s),  eubo: -277.539,  elbo: -286.854,  ess: 1.753\n",
      "epoch: 13\\1000 (7s),  eubo: -277.531,  elbo: -286.750,  ess: 1.772\n",
      "epoch: 14\\1000 (7s),  eubo: -277.479,  elbo: -286.634,  ess: 1.769\n",
      "epoch: 15\\1000 (7s),  eubo: -277.383,  elbo: -286.488,  ess: 1.776\n",
      "epoch: 16\\1000 (7s),  eubo: -277.354,  elbo: -286.340,  ess: 1.795\n",
      "epoch: 17\\1000 (7s),  eubo: -277.263,  elbo: -286.164,  ess: 1.795\n",
      "epoch: 18\\1000 (7s),  eubo: -277.210,  elbo: -286.129,  ess: 1.782\n",
      "epoch: 19\\1000 (7s),  eubo: -277.181,  elbo: -286.044,  ess: 1.798\n",
      "epoch: 20\\1000 (7s),  eubo: -277.119,  elbo: -285.938,  ess: 1.800\n",
      "epoch: 21\\1000 (7s),  eubo: -277.106,  elbo: -285.886,  ess: 1.806\n",
      "epoch: 22\\1000 (7s),  eubo: -277.065,  elbo: -285.784,  ess: 1.800\n",
      "epoch: 23\\1000 (7s),  eubo: -277.010,  elbo: -285.737,  ess: 1.805\n",
      "epoch: 24\\1000 (7s),  eubo: -277.079,  elbo: -285.744,  ess: 1.818\n",
      "epoch: 25\\1000 (7s),  eubo: -276.989,  elbo: -285.645,  ess: 1.810\n",
      "epoch: 26\\1000 (7s),  eubo: -276.984,  elbo: -285.643,  ess: 1.821\n",
      "epoch: 27\\1000 (7s),  eubo: -276.917,  elbo: -285.559,  ess: 1.809\n",
      "epoch: 28\\1000 (7s),  eubo: -276.964,  elbo: -285.546,  ess: 1.827\n",
      "epoch: 29\\1000 (7s),  eubo: -276.873,  elbo: -285.515,  ess: 1.822\n",
      "epoch: 30\\1000 (7s),  eubo: -276.879,  elbo: -285.499,  ess: 1.822\n",
      "epoch: 31\\1000 (7s),  eubo: -276.911,  elbo: -285.507,  ess: 1.825\n",
      "epoch: 32\\1000 (7s),  eubo: -276.895,  elbo: -285.473,  ess: 1.823\n",
      "epoch: 33\\1000 (7s),  eubo: -276.871,  elbo: -285.460,  ess: 1.823\n",
      "epoch: 34\\1000 (7s),  eubo: -276.833,  elbo: -285.393,  ess: 1.831\n",
      "epoch: 35\\1000 (7s),  eubo: -276.819,  elbo: -285.403,  ess: 1.828\n",
      "epoch: 36\\1000 (7s),  eubo: -276.813,  elbo: -285.335,  ess: 1.825\n",
      "epoch: 37\\1000 (7s),  eubo: -276.731,  elbo: -285.340,  ess: 1.816\n",
      "epoch: 38\\1000 (7s),  eubo: -276.781,  elbo: -285.301,  ess: 1.831\n",
      "epoch: 39\\1000 (7s),  eubo: -276.744,  elbo: -285.305,  ess: 1.817\n",
      "epoch: 40\\1000 (7s),  eubo: -276.734,  elbo: -285.306,  ess: 1.831\n",
      "epoch: 41\\1000 (7s),  eubo: -276.760,  elbo: -285.256,  ess: 1.836\n",
      "epoch: 42\\1000 (7s),  eubo: -276.746,  elbo: -285.254,  ess: 1.837\n",
      "epoch: 43\\1000 (7s),  eubo: -276.702,  elbo: -285.215,  ess: 1.833\n",
      "epoch: 44\\1000 (7s),  eubo: -276.686,  elbo: -285.220,  ess: 1.841\n",
      "epoch: 45\\1000 (7s),  eubo: -276.675,  elbo: -285.175,  ess: 1.830\n",
      "epoch: 46\\1000 (7s),  eubo: -276.656,  elbo: -285.171,  ess: 1.829\n",
      "epoch: 47\\1000 (7s),  eubo: -276.676,  elbo: -285.126,  ess: 1.849\n",
      "epoch: 48\\1000 (7s),  eubo: -276.652,  elbo: -285.107,  ess: 1.835\n",
      "epoch: 49\\1000 (7s),  eubo: -276.680,  elbo: -285.153,  ess: 1.840\n",
      "epoch: 50\\1000 (7s),  eubo: -276.735,  elbo: -285.178,  ess: 1.842\n",
      "epoch: 51\\1000 (7s),  eubo: -276.685,  elbo: -285.102,  ess: 1.843\n",
      "epoch: 52\\1000 (7s),  eubo: -276.652,  elbo: -285.101,  ess: 1.833\n",
      "epoch: 53\\1000 (7s),  eubo: -276.608,  elbo: -285.054,  ess: 1.833\n",
      "epoch: 54\\1000 (7s),  eubo: -276.608,  elbo: -285.074,  ess: 1.842\n",
      "epoch: 55\\1000 (6s),  eubo: -276.555,  elbo: -285.054,  ess: 1.826\n",
      "epoch: 56\\1000 (6s),  eubo: -276.613,  elbo: -285.057,  ess: 1.850\n",
      "epoch: 57\\1000 (6s),  eubo: -276.587,  elbo: -285.032,  ess: 1.842\n",
      "epoch: 58\\1000 (6s),  eubo: -276.568,  elbo: -284.996,  ess: 1.838\n",
      "epoch: 59\\1000 (6s),  eubo: -276.570,  elbo: -284.973,  ess: 1.846\n",
      "epoch: 60\\1000 (6s),  eubo: -276.595,  elbo: -285.014,  ess: 1.846\n",
      "epoch: 61\\1000 (7s),  eubo: -276.589,  elbo: -284.998,  ess: 1.842\n",
      "epoch: 62\\1000 (7s),  eubo: -276.607,  elbo: -284.996,  ess: 1.843\n",
      "epoch: 63\\1000 (7s),  eubo: -276.592,  elbo: -285.007,  ess: 1.844\n",
      "epoch: 64\\1000 (7s),  eubo: -276.576,  elbo: -284.987,  ess: 1.850\n"
     ]
    },
    {
     "name": "stderr",
     "output_type": "stream",
     "text": [
      "ERROR:root:Internal Python error in the inspect module.\n",
      "Below is the traceback from this internal error.\n",
      "\n"
     ]
    },
    {
     "name": "stdout",
     "output_type": "stream",
     "text": [
      "Traceback (most recent call last):\n",
      "  File \"/home/hao/anaconda3/lib/python3.7/site-packages/IPython/core/interactiveshell.py\", line 3296, in run_code\n",
      "    exec(code_obj, self.user_global_ns, self.user_ns)\n",
      "  File \"<ipython-input-4-8351e0914ddb>\", line 2, in <module>\n",
      "    train_baseline(models, EP, optimizer, Data, Model_Params, Train_Params)\n",
      "  File \"../training.py\", line 161, in train_baseline\n",
      "    loss.backward()\n",
      "  File \"/home/hao/anaconda3/lib/python3.7/site-packages/torch/tensor.py\", line 107, in backward\n",
      "    torch.autograd.backward(self, gradient, retain_graph, create_graph)\n",
      "  File \"/home/hao/anaconda3/lib/python3.7/site-packages/torch/autograd/__init__.py\", line 93, in backward\n",
      "    allow_unreachable=True)  # allow_unreachable flag\n",
      "KeyboardInterrupt\n",
      "\n",
      "During handling of the above exception, another exception occurred:\n",
      "\n",
      "Traceback (most recent call last):\n",
      "  File \"/home/hao/anaconda3/lib/python3.7/site-packages/IPython/core/interactiveshell.py\", line 2033, in showtraceback\n",
      "    stb = value._render_traceback_()\n",
      "AttributeError: 'KeyboardInterrupt' object has no attribute '_render_traceback_'\n",
      "\n",
      "During handling of the above exception, another exception occurred:\n",
      "\n",
      "Traceback (most recent call last):\n",
      "  File \"/home/hao/anaconda3/lib/python3.7/site-packages/IPython/core/ultratb.py\", line 1095, in get_records\n",
      "    return _fixed_getinnerframes(etb, number_of_lines_of_context, tb_offset)\n",
      "  File \"/home/hao/anaconda3/lib/python3.7/site-packages/IPython/core/ultratb.py\", line 313, in wrapped\n",
      "    return f(*args, **kwargs)\n",
      "  File \"/home/hao/anaconda3/lib/python3.7/site-packages/IPython/core/ultratb.py\", line 347, in _fixed_getinnerframes\n",
      "    records = fix_frame_records_filenames(inspect.getinnerframes(etb, context))\n",
      "  File \"/home/hao/anaconda3/lib/python3.7/inspect.py\", line 1502, in getinnerframes\n",
      "    frameinfo = (tb.tb_frame,) + getframeinfo(tb, context)\n",
      "  File \"/home/hao/anaconda3/lib/python3.7/inspect.py\", line 1460, in getframeinfo\n",
      "    filename = getsourcefile(frame) or getfile(frame)\n",
      "  File \"/home/hao/anaconda3/lib/python3.7/inspect.py\", line 696, in getsourcefile\n",
      "    if getattr(getmodule(object, filename), '__loader__', None) is not None:\n",
      "  File \"/home/hao/anaconda3/lib/python3.7/inspect.py\", line 742, in getmodule\n",
      "    os.path.realpath(f)] = module.__name__\n",
      "AttributeError: module has no attribute '__name__'\n"
     ]
    },
    {
     "ename": "KeyboardInterrupt",
     "evalue": "",
     "output_type": "error",
     "traceback": [
      "\u001b[0;31m---------------------------------------------------------------------------\u001b[0m"
     ]
    }
   ],
   "source": [
    "from os_ep import *\n",
    "train_baseline(models, EP, optimizer, Data, Model_Params, Train_Params)"
   ]
  },
  {
   "cell_type": "code",
   "execution_count": 5,
   "metadata": {},
   "outputs": [],
   "source": [
    "torch.save(enc_z.state_dict(), '../weights/enc-z-%s' % PATH)\n",
    "torch.save(oneshot_eta.state_dict(), '../weights/oneshot-eta-%s' % PATH)"
   ]
  },
  {
   "cell_type": "code",
   "execution_count": 6,
   "metadata": {},
   "outputs": [],
   "source": [
    "def test(models, objective, Data, Model_Params, Train_Params):\n",
    "    (NUM_EPOCHS, NUM_DATASETS, S, B, CUDA, device, path) = Train_Params\n",
    "    SubTrain_Params = (device, S, B) + Model_Params\n",
    "    ##(N, K, D, mcmc_size) = Model_Params\n",
    "#     indices = torch.randperm(NUM_DATASETS)\n",
    "    step = 2\n",
    "    indices = torch.arange(NUM_DATASETS)\n",
    "    batch_indices = indices[0*B : (0+1)*B]\n",
    "    obs = Data[batch_indices]\n",
    "    obs = shuffler(obs).repeat(S, 1, 1, 1)\n",
    "    if CUDA:\n",
    "        obs =obs.cuda().to(device)\n",
    "    loss, metric_step, reused = objective(models, obs, SubTrain_Params)\n",
    "    return obs, metric_step, reused"
   ]
  },
  {
   "cell_type": "code",
   "execution_count": 7,
   "metadata": {},
   "outputs": [
    {
     "ename": "ValueError",
     "evalue": "not enough values to unpack (expected 6, got 4)",
     "output_type": "error",
     "traceback": [
      "\u001b[0;31m---------------------------------------------------------------------------\u001b[0m",
      "\u001b[0;31mValueError\u001b[0m                                Traceback (most recent call last)",
      "\u001b[0;32m<ipython-input-7-7cd2f8819132>\u001b[0m in \u001b[0;36m<module>\u001b[0;34m\u001b[0m\n\u001b[1;32m      2\u001b[0m \u001b[0mTrain_Params_Test\u001b[0m \u001b[0;34m=\u001b[0m \u001b[0;34m(\u001b[0m\u001b[0mNUM_EPOCHS\u001b[0m\u001b[0;34m,\u001b[0m \u001b[0mNUM_DATASETS\u001b[0m\u001b[0;34m,\u001b[0m \u001b[0mSAMPLE_SIZE\u001b[0m\u001b[0;34m,\u001b[0m \u001b[0mBATCH_SIZE_TEST\u001b[0m\u001b[0;34m,\u001b[0m \u001b[0mCUDA\u001b[0m\u001b[0;34m,\u001b[0m \u001b[0mDEVICE\u001b[0m\u001b[0;34m,\u001b[0m \u001b[0mPATH\u001b[0m\u001b[0;34m)\u001b[0m\u001b[0;34m\u001b[0m\u001b[0;34m\u001b[0m\u001b[0m\n\u001b[1;32m      3\u001b[0m \u001b[0mobs\u001b[0m\u001b[0;34m,\u001b[0m \u001b[0mmetric_step\u001b[0m\u001b[0;34m,\u001b[0m \u001b[0mreused\u001b[0m \u001b[0;34m=\u001b[0m \u001b[0mtest\u001b[0m\u001b[0;34m(\u001b[0m\u001b[0mmodels\u001b[0m\u001b[0;34m,\u001b[0m \u001b[0mEP\u001b[0m\u001b[0;34m,\u001b[0m \u001b[0mData\u001b[0m\u001b[0;34m,\u001b[0m \u001b[0mModel_Params\u001b[0m\u001b[0;34m,\u001b[0m \u001b[0mTrain_Params_Test\u001b[0m\u001b[0;34m)\u001b[0m\u001b[0;34m\u001b[0m\u001b[0;34m\u001b[0m\u001b[0m\n\u001b[0;32m----> 4\u001b[0;31m \u001b[0;34m(\u001b[0m\u001b[0mq_eta\u001b[0m\u001b[0;34m,\u001b[0m \u001b[0m_\u001b[0m\u001b[0;34m,\u001b[0m \u001b[0mq_z\u001b[0m\u001b[0;34m,\u001b[0m \u001b[0m_\u001b[0m\u001b[0;34m,\u001b[0m \u001b[0m_\u001b[0m\u001b[0;34m,\u001b[0m \u001b[0m_\u001b[0m\u001b[0;34m)\u001b[0m \u001b[0;34m=\u001b[0m \u001b[0mreused\u001b[0m\u001b[0;34m\u001b[0m\u001b[0;34m\u001b[0m\u001b[0m\n\u001b[0m",
      "\u001b[0;31mValueError\u001b[0m: not enough values to unpack (expected 6, got 4)"
     ]
    }
   ],
   "source": [
    "BATCH_SIZE_TEST = 50\n",
    "Train_Params_Test = (NUM_EPOCHS, NUM_DATASETS, SAMPLE_SIZE, BATCH_SIZE_TEST, CUDA, DEVICE, PATH)\n",
    "obs, metric_step, reused = test(models, EP, Data, Model_Params, Train_Params_Test)\n",
    "(q_eta, _, q_z, _, _, _) = reused"
   ]
  },
  {
   "cell_type": "code",
   "execution_count": null,
   "metadata": {},
   "outputs": [],
   "source": []
  }
 ],
 "metadata": {
  "kernelspec": {
   "display_name": "Python 3",
   "language": "python",
   "name": "python3"
  },
  "language_info": {
   "codemirror_mode": {
    "name": "ipython",
    "version": 3
   },
   "file_extension": ".py",
   "mimetype": "text/x-python",
   "name": "python",
   "nbconvert_exporter": "python",
   "pygments_lexer": "ipython3",
   "version": "3.7.3"
  }
 },
 "nbformat": 4,
 "nbformat_minor": 2
}
