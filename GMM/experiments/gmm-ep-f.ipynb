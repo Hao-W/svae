{
 "cells": [
  {
   "cell_type": "code",
   "execution_count": 1,
   "metadata": {},
   "outputs": [
    {
     "name": "stdout",
     "output_type": "stream",
     "text": [
      "probtorch: 0.0+5a2c637 torch: 1.1.0 cuda: True\n"
     ]
    }
   ],
   "source": [
    "%matplotlib inline\n",
    "%run ../../import_envs.py\n",
    "print('probtorch:', probtorch.__version__, \n",
    "      'torch:', torch.__version__, \n",
    "      'cuda:', torch.cuda.is_available())"
   ]
  },
  {
   "cell_type": "code",
   "execution_count": 2,
   "metadata": {},
   "outputs": [],
   "source": [
    "## Load dataset\n",
    "data_path = \"../gmm_dataset_c5k\"\n",
    "Data = torch.from_numpy(np.load(data_path + '/obs.npy')).float()\n",
    "\n",
    "NUM_DATASETS, N, D = Data.shape\n",
    "K = 3 ## number of clusters\n",
    "SAMPLE_SIZE = 10\n",
    "NUM_HIDDEN_LOCAL = 32\n",
    "\n",
    "MCMC_SIZE = 10\n",
    "BATCH_SIZE = 20\n",
    "NUM_EPOCHS = 1000\n",
    "LEARNING_RATE = 1e-4\n",
    "PRIOR_FLAG = False\n",
    "ONLY_FORWARD = True\n",
    "CUDA = torch.cuda.is_available()\n",
    "PATH = 'ep-onlyf-%dsteps-%dsamples' % (MCMC_SIZE, SAMPLE_SIZE)\n",
    "DEVICE = torch.device('cuda:0')\n",
    "\n",
    "Train_Params = (NUM_EPOCHS, NUM_DATASETS, SAMPLE_SIZE, BATCH_SIZE, CUDA, DEVICE, PATH)\n",
    "Model_Params = (N, K, D, MCMC_SIZE, PRIOR_FLAG, ONLY_FORWARD)"
   ]
  },
  {
   "cell_type": "code",
   "execution_count": 3,
   "metadata": {},
   "outputs": [],
   "source": [
    "from local_enc import *\n",
    "from global_oneshot import *\n",
    "from global_enc import *\n",
    "## if reparameterize continuous variables\n",
    "Reparameterized = False\n",
    "# initialization\n",
    "enc_z = Enc_z(K, D, NUM_HIDDEN_LOCAL, CUDA, DEVICE)\n",
    "enc_eta = Enc_eta(K, D, CUDA, DEVICE, Reparameterized)\n",
    "oneshot_eta = Oneshot_eta(K, D, CUDA, DEVICE, Reparameterized)\n",
    "if CUDA:\n",
    "    enc_z.cuda().to(DEVICE)\n",
    "    enc_eta.cuda().to(DEVICE)\n",
    "if PRIOR_FLAG:\n",
    "    optimizer =  torch.optim.Adam(list(enc_eta.parameters())+list(enc_z.parameters()),lr=LEARNING_RATE, betas=(0.9, 0.99))\n",
    "    models = (enc_eta, enc_z)\n",
    "else:\n",
    "    oneshot_eta = Oneshot_eta(K, D, CUDA, DEVICE, Reparameterized)\n",
    "    if CUDA:\n",
    "        oneshot_eta.cuda().to(DEVICE)\n",
    "    optimizer =  torch.optim.Adam(list(oneshot_eta.parameters())+list(enc_eta.parameters())+list(enc_z.parameters()),lr=LEARNING_RATE, betas=(0.9, 0.99))\n",
    "    models = (oneshot_eta, enc_eta, enc_z)"
   ]
  },
  {
   "cell_type": "code",
   "execution_count": null,
   "metadata": {},
   "outputs": [
    {
     "name": "stdout",
     "output_type": "stream",
     "text": [
      "epoch: 0\\1000 (29s),  symKL_DB_eta: 336.653,  symKL_DB_z: 380.606,  loss: -1327.972,  ess: 2.779,  kl_eta_ex: 962.399,  kl_eta_in: 154.028,  kl_z_ex: 317.107,  kl_z_in: 40.559\n",
      "epoch: 1\\1000 (28s),  symKL_DB_eta: 302.522,  symKL_DB_z: 322.769,  loss: -1232.269,  ess: 2.872,  kl_eta_ex: 824.548,  kl_eta_in: 146.790,  kl_z_ex: 265.859,  kl_z_in: 37.534\n",
      "epoch: 2\\1000 (28s),  symKL_DB_eta: 271.654,  symKL_DB_z: 273.672,  loss: -1155.877,  ess: 2.966,  kl_eta_ex: 711.868,  kl_eta_in: 140.045,  kl_z_ex: 223.024,  kl_z_in: 34.829\n",
      "epoch: 3\\1000 (31s),  symKL_DB_eta: 245.201,  symKL_DB_z: 233.953,  loss: -1083.435,  ess: 3.060,  kl_eta_ex: 616.075,  kl_eta_in: 134.082,  kl_z_ex: 187.381,  kl_z_in: 32.284\n",
      "epoch: 4\\1000 (34s),  symKL_DB_eta: 223.028,  symKL_DB_z: 200.901,  loss: -1027.303,  ess: 3.156,  kl_eta_ex: 537.877,  kl_eta_in: 129.037,  kl_z_ex: 157.957,  kl_z_in: 29.909\n",
      "epoch: 5\\1000 (34s),  symKL_DB_eta: 202.865,  symKL_DB_z: 173.484,  loss: -975.966,  ess: 3.247,  kl_eta_ex: 471.723,  kl_eta_in: 124.335,  kl_z_ex: 134.504,  kl_z_in: 27.893\n",
      "epoch: 6\\1000 (33s),  symKL_DB_eta: 185.297,  symKL_DB_z: 151.368,  loss: -931.513,  ess: 3.339,  kl_eta_ex: 418.050,  kl_eta_in: 120.255,  kl_z_ex: 115.488,  kl_z_in: 25.926\n",
      "epoch: 7\\1000 (40s),  symKL_DB_eta: 170.240,  symKL_DB_z: 133.112,  loss: -894.841,  ess: 3.428,  kl_eta_ex: 371.607,  kl_eta_in: 117.405,  kl_z_ex: 100.490,  kl_z_in: 24.348\n",
      "epoch: 8\\1000 (53s),  symKL_DB_eta: 155.967,  symKL_DB_z: 116.943,  loss: -863.706,  ess: 3.516,  kl_eta_ex: 333.645,  kl_eta_in: 115.145,  kl_z_ex: 88.364,  kl_z_in: 22.882\n",
      "epoch: 9\\1000 (56s),  symKL_DB_eta: 143.680,  symKL_DB_z: 104.281,  loss: -835.580,  ess: 3.599,  kl_eta_ex: 302.152,  kl_eta_in: 113.162,  kl_z_ex: 77.921,  kl_z_in: 21.509\n",
      "epoch: 10\\1000 (55s),  symKL_DB_eta: 133.604,  symKL_DB_z: 93.422,  loss: -810.837,  ess: 3.683,  kl_eta_ex: 273.994,  kl_eta_in: 112.053,  kl_z_ex: 69.803,  kl_z_in: 20.327\n",
      "epoch: 11\\1000 (51s),  symKL_DB_eta: 124.930,  symKL_DB_z: 84.431,  loss: -789.107,  ess: 3.767,  kl_eta_ex: 251.032,  kl_eta_in: 111.980,  kl_z_ex: 62.920,  kl_z_in: 19.268\n",
      "epoch: 12\\1000 (52s),  symKL_DB_eta: 116.537,  symKL_DB_z: 76.852,  loss: -770.322,  ess: 3.845,  kl_eta_ex: 230.668,  kl_eta_in: 111.950,  kl_z_ex: 57.302,  kl_z_in: 18.273\n",
      "epoch: 13\\1000 (53s),  symKL_DB_eta: 108.967,  symKL_DB_z: 70.430,  loss: -753.799,  ess: 3.918,  kl_eta_ex: 215.012,  kl_eta_in: 113.293,  kl_z_ex: 52.748,  kl_z_in: 17.553\n",
      "epoch: 14\\1000 (54s),  symKL_DB_eta: 103.033,  symKL_DB_z: 65.522,  loss: -739.986,  ess: 3.984,  kl_eta_ex: 200.542,  kl_eta_in: 114.987,  kl_z_ex: 48.900,  kl_z_in: 16.875\n",
      "epoch: 15\\1000 (52s),  symKL_DB_eta: 96.883,  symKL_DB_z: 60.253,  loss: -726.933,  ess: 4.055,  kl_eta_ex: 188.550,  kl_eta_in: 118.048,  kl_z_ex: 45.149,  kl_z_in: 16.077\n",
      "epoch: 16\\1000 (52s),  symKL_DB_eta: 92.225,  symKL_DB_z: 56.464,  loss: -715.910,  ess: 4.116,  kl_eta_ex: 177.526,  kl_eta_in: 121.693,  kl_z_ex: 42.664,  kl_z_in: 15.548\n",
      "epoch: 17\\1000 (53s),  symKL_DB_eta: 88.279,  symKL_DB_z: 53.322,  loss: -706.745,  ess: 4.168,  kl_eta_ex: 169.404,  kl_eta_in: 125.867,  kl_z_ex: 40.362,  kl_z_in: 15.011\n",
      "epoch: 18\\1000 (53s),  symKL_DB_eta: 84.568,  symKL_DB_z: 50.859,  loss: -698.166,  ess: 4.214,  kl_eta_ex: 162.579,  kl_eta_in: 129.928,  kl_z_ex: 38.331,  kl_z_in: 14.628\n",
      "epoch: 19\\1000 (52s),  symKL_DB_eta: 81.072,  symKL_DB_z: 48.182,  loss: -691.089,  ess: 4.261,  kl_eta_ex: 155.781,  kl_eta_in: 135.704,  kl_z_ex: 36.798,  kl_z_in: 14.226\n",
      "epoch: 20\\1000 (52s),  symKL_DB_eta: 78.456,  symKL_DB_z: 46.426,  loss: -685.299,  ess: 4.301,  kl_eta_ex: 150.962,  kl_eta_in: 141.593,  kl_z_ex: 35.096,  kl_z_in: 13.864\n",
      "epoch: 21\\1000 (52s),  symKL_DB_eta: 76.785,  symKL_DB_z: 44.695,  loss: -679.824,  ess: 4.332,  kl_eta_ex: 147.550,  kl_eta_in: 147.633,  kl_z_ex: 34.399,  kl_z_in: 13.703\n",
      "epoch: 22\\1000 (53s),  symKL_DB_eta: 74.216,  symKL_DB_z: 43.208,  loss: -674.878,  ess: 4.358,  kl_eta_ex: 143.321,  kl_eta_in: 152.907,  kl_z_ex: 33.043,  kl_z_in: 13.398\n",
      "epoch: 23\\1000 (54s),  symKL_DB_eta: 72.985,  symKL_DB_z: 42.253,  loss: -670.830,  ess: 4.381,  kl_eta_ex: 140.366,  kl_eta_in: 158.743,  kl_z_ex: 32.297,  kl_z_in: 13.263\n",
      "epoch: 24\\1000 (52s),  symKL_DB_eta: 71.322,  symKL_DB_z: 40.986,  loss: -667.438,  ess: 4.401,  kl_eta_ex: 137.823,  kl_eta_in: 165.969,  kl_z_ex: 31.192,  kl_z_in: 13.055\n",
      "epoch: 25\\1000 (53s),  symKL_DB_eta: 69.697,  symKL_DB_z: 39.999,  loss: -664.108,  ess: 4.412,  kl_eta_ex: 135.090,  kl_eta_in: 171.290,  kl_z_ex: 30.507,  kl_z_in: 12.845\n",
      "epoch: 26\\1000 (53s),  symKL_DB_eta: 68.919,  symKL_DB_z: 39.301,  loss: -661.732,  ess: 4.425,  kl_eta_ex: 133.482,  kl_eta_in: 176.658,  kl_z_ex: 29.894,  kl_z_in: 12.794\n",
      "epoch: 27\\1000 (54s),  symKL_DB_eta: 68.077,  symKL_DB_z: 38.504,  loss: -659.441,  ess: 4.438,  kl_eta_ex: 131.541,  kl_eta_in: 182.607,  kl_z_ex: 29.068,  kl_z_in: 12.558\n",
      "epoch: 28\\1000 (52s),  symKL_DB_eta: 67.264,  symKL_DB_z: 38.181,  loss: -657.365,  ess: 4.446,  kl_eta_ex: 130.139,  kl_eta_in: 186.585,  kl_z_ex: 29.064,  kl_z_in: 12.609\n",
      "epoch: 29\\1000 (53s),  symKL_DB_eta: 66.429,  symKL_DB_z: 37.467,  loss: -655.481,  ess: 4.454,  kl_eta_ex: 128.830,  kl_eta_in: 189.816,  kl_z_ex: 28.740,  kl_z_in: 12.471\n",
      "epoch: 30\\1000 (52s),  symKL_DB_eta: 66.086,  symKL_DB_z: 37.367,  loss: -653.668,  ess: 4.457,  kl_eta_ex: 128.605,  kl_eta_in: 194.867,  kl_z_ex: 28.945,  kl_z_in: 12.476\n",
      "epoch: 31\\1000 (51s),  symKL_DB_eta: 65.787,  symKL_DB_z: 37.111,  loss: -652.176,  ess: 4.462,  kl_eta_ex: 126.519,  kl_eta_in: 197.388,  kl_z_ex: 27.983,  kl_z_in: 12.261\n",
      "epoch: 32\\1000 (53s),  symKL_DB_eta: 65.669,  symKL_DB_z: 36.623,  loss: -650.902,  ess: 4.471,  kl_eta_ex: 126.557,  kl_eta_in: 203.245,  kl_z_ex: 28.147,  kl_z_in: 12.261\n",
      "epoch: 33\\1000 (51s),  symKL_DB_eta: 64.768,  symKL_DB_z: 36.052,  loss: -649.207,  ess: 4.478,  kl_eta_ex: 125.587,  kl_eta_in: 202.907,  kl_z_ex: 27.966,  kl_z_in: 12.310\n",
      "epoch: 34\\1000 (53s),  symKL_DB_eta: 64.459,  symKL_DB_z: 35.797,  loss: -647.563,  ess: 4.483,  kl_eta_ex: 123.925,  kl_eta_in: 204.263,  kl_z_ex: 27.627,  kl_z_in: 12.063\n",
      "epoch: 35\\1000 (53s),  symKL_DB_eta: 63.952,  symKL_DB_z: 35.445,  loss: -646.293,  ess: 4.489,  kl_eta_ex: 123.404,  kl_eta_in: 206.511,  kl_z_ex: 27.320,  kl_z_in: 12.055\n",
      "epoch: 36\\1000 (54s),  symKL_DB_eta: 63.782,  symKL_DB_z: 34.933,  loss: -645.049,  ess: 4.498,  kl_eta_ex: 122.082,  kl_eta_in: 208.958,  kl_z_ex: 26.975,  kl_z_in: 11.994\n",
      "epoch: 37\\1000 (53s),  symKL_DB_eta: 63.498,  symKL_DB_z: 34.881,  loss: -643.270,  ess: 4.501,  kl_eta_ex: 121.973,  kl_eta_in: 211.177,  kl_z_ex: 27.045,  kl_z_in: 12.064\n",
      "epoch: 38\\1000 (52s),  symKL_DB_eta: 63.195,  symKL_DB_z: 34.432,  loss: -642.687,  ess: 4.507,  kl_eta_ex: 119.879,  kl_eta_in: 210.359,  kl_z_ex: 26.379,  kl_z_in: 11.841\n",
      "epoch: 39\\1000 (52s),  symKL_DB_eta: 62.865,  symKL_DB_z: 34.097,  loss: -640.953,  ess: 4.512,  kl_eta_ex: 119.730,  kl_eta_in: 214.264,  kl_z_ex: 26.422,  kl_z_in: 11.904\n",
      "epoch: 40\\1000 (52s),  symKL_DB_eta: 62.383,  symKL_DB_z: 33.531,  loss: -639.310,  ess: 4.523,  kl_eta_ex: 118.112,  kl_eta_in: 213.175,  kl_z_ex: 26.313,  kl_z_in: 11.774\n",
      "epoch: 41\\1000 (51s),  symKL_DB_eta: 62.331,  symKL_DB_z: 33.320,  loss: -638.596,  ess: 4.527,  kl_eta_ex: 117.196,  kl_eta_in: 215.498,  kl_z_ex: 26.218,  kl_z_in: 11.756\n",
      "epoch: 42\\1000 (53s),  symKL_DB_eta: 61.897,  symKL_DB_z: 33.269,  loss: -637.527,  ess: 4.530,  kl_eta_ex: 116.599,  kl_eta_in: 214.400,  kl_z_ex: 26.074,  kl_z_in: 11.748\n",
      "epoch: 43\\1000 (52s),  symKL_DB_eta: 61.798,  symKL_DB_z: 32.856,  loss: -636.214,  ess: 4.540,  kl_eta_ex: 114.915,  kl_eta_in: 215.230,  kl_z_ex: 25.514,  kl_z_in: 11.627\n",
      "epoch: 44\\1000 (53s),  symKL_DB_eta: 61.579,  symKL_DB_z: 32.844,  loss: -634.325,  ess: 4.540,  kl_eta_ex: 114.581,  kl_eta_in: 213.983,  kl_z_ex: 25.050,  kl_z_in: 11.467\n",
      "epoch: 45\\1000 (52s),  symKL_DB_eta: 61.472,  symKL_DB_z: 32.353,  loss: -633.254,  ess: 4.547,  kl_eta_ex: 113.019,  kl_eta_in: 216.254,  kl_z_ex: 25.223,  kl_z_in: 11.477\n",
      "epoch: 46\\1000 (52s),  symKL_DB_eta: 61.133,  symKL_DB_z: 32.303,  loss: -631.995,  ess: 4.555,  kl_eta_ex: 113.213,  kl_eta_in: 216.525,  kl_z_ex: 25.720,  kl_z_in: 11.494\n",
      "epoch: 47\\1000 (54s),  symKL_DB_eta: 60.765,  symKL_DB_z: 31.715,  loss: -630.682,  ess: 4.563,  kl_eta_ex: 111.655,  kl_eta_in: 215.304,  kl_z_ex: 24.688,  kl_z_in: 11.411\n",
      "epoch: 48\\1000 (53s),  symKL_DB_eta: 60.299,  symKL_DB_z: 31.451,  loss: -629.460,  ess: 4.573,  kl_eta_ex: 110.437,  kl_eta_in: 217.004,  kl_z_ex: 24.909,  kl_z_in: 11.390\n",
      "epoch: 49\\1000 (51s),  symKL_DB_eta: 60.361,  symKL_DB_z: 31.167,  loss: -628.441,  ess: 4.576,  kl_eta_ex: 109.526,  kl_eta_in: 215.675,  kl_z_ex: 24.378,  kl_z_in: 11.285\n",
      "epoch: 50\\1000 (52s),  symKL_DB_eta: 60.256,  symKL_DB_z: 30.874,  loss: -627.748,  ess: 4.583,  kl_eta_ex: 109.400,  kl_eta_in: 214.458,  kl_z_ex: 24.380,  kl_z_in: 11.360\n",
      "epoch: 51\\1000 (53s),  symKL_DB_eta: 59.952,  symKL_DB_z: 30.776,  loss: -626.665,  ess: 4.591,  kl_eta_ex: 108.203,  kl_eta_in: 215.065,  kl_z_ex: 24.421,  kl_z_in: 11.244\n",
      "epoch: 52\\1000 (52s),  symKL_DB_eta: 59.684,  symKL_DB_z: 30.090,  loss: -624.959,  ess: 4.600,  kl_eta_ex: 106.894,  kl_eta_in: 213.984,  kl_z_ex: 23.969,  kl_z_in: 11.135\n",
      "epoch: 53\\1000 (53s),  symKL_DB_eta: 59.616,  symKL_DB_z: 29.732,  loss: -623.622,  ess: 4.606,  kl_eta_ex: 106.561,  kl_eta_in: 212.248,  kl_z_ex: 23.830,  kl_z_in: 11.125\n",
      "epoch: 54\\1000 (53s),  symKL_DB_eta: 59.475,  symKL_DB_z: 29.678,  loss: -623.163,  ess: 4.614,  kl_eta_ex: 105.607,  kl_eta_in: 212.561,  kl_z_ex: 23.612,  kl_z_in: 10.999\n",
      "epoch: 55\\1000 (53s),  symKL_DB_eta: 59.221,  symKL_DB_z: 29.157,  loss: -621.500,  ess: 4.622,  kl_eta_ex: 104.058,  kl_eta_in: 209.616,  kl_z_ex: 23.618,  kl_z_in: 11.083\n",
      "epoch: 56\\1000 (54s),  symKL_DB_eta: 59.384,  symKL_DB_z: 28.962,  loss: -621.257,  ess: 4.630,  kl_eta_ex: 104.177,  kl_eta_in: 210.449,  kl_z_ex: 23.549,  kl_z_in: 10.972\n",
      "epoch: 57\\1000 (53s),  symKL_DB_eta: 59.161,  symKL_DB_z: 28.676,  loss: -619.902,  ess: 4.638,  kl_eta_ex: 103.382,  kl_eta_in: 209.304,  kl_z_ex: 23.230,  kl_z_in: 10.946\n",
      "epoch: 58\\1000 (52s),  symKL_DB_eta: 59.047,  symKL_DB_z: 28.307,  loss: -619.408,  ess: 4.650,  kl_eta_ex: 102.708,  kl_eta_in: 210.296,  kl_z_ex: 23.353,  kl_z_in: 10.911\n",
      "epoch: 59\\1000 (52s),  symKL_DB_eta: 58.829,  symKL_DB_z: 28.137,  loss: -618.877,  ess: 4.657,  kl_eta_ex: 101.917,  kl_eta_in: 208.396,  kl_z_ex: 22.878,  kl_z_in: 10.803\n",
      "epoch: 60\\1000 (53s),  symKL_DB_eta: 58.882,  symKL_DB_z: 27.702,  loss: -618.017,  ess: 4.660,  kl_eta_ex: 101.679,  kl_eta_in: 208.286,  kl_z_ex: 23.262,  kl_z_in: 10.900\n",
      "epoch: 61\\1000 (53s),  symKL_DB_eta: 58.491,  symKL_DB_z: 27.321,  loss: -616.130,  ess: 4.673,  kl_eta_ex: 101.271,  kl_eta_in: 209.135,  kl_z_ex: 23.056,  kl_z_in: 10.839\n",
      "epoch: 62\\1000 (51s),  symKL_DB_eta: 58.628,  symKL_DB_z: 27.175,  loss: -616.193,  ess: 4.680,  kl_eta_ex: 101.219,  kl_eta_in: 204.361,  kl_z_ex: 23.610,  kl_z_in: 10.844\n",
      "epoch: 63\\1000 (53s),  symKL_DB_eta: 58.691,  symKL_DB_z: 26.794,  loss: -615.116,  ess: 4.692,  kl_eta_ex: 100.665,  kl_eta_in: 206.295,  kl_z_ex: 22.795,  kl_z_in: 10.716\n",
      "epoch: 64\\1000 (53s),  symKL_DB_eta: 58.625,  symKL_DB_z: 26.371,  loss: -614.104,  ess: 4.700,  kl_eta_ex: 99.586,  kl_eta_in: 203.390,  kl_z_ex: 22.457,  kl_z_in: 10.687\n",
      "epoch: 65\\1000 (52s),  symKL_DB_eta: 58.272,  symKL_DB_z: 26.022,  loss: -613.197,  ess: 4.715,  kl_eta_ex: 99.105,  kl_eta_in: 203.847,  kl_z_ex: 22.525,  kl_z_in: 10.723\n",
      "epoch: 66\\1000 (50s),  symKL_DB_eta: 58.127,  symKL_DB_z: 25.406,  loss: -612.085,  ess: 4.727,  kl_eta_ex: 98.464,  kl_eta_in: 201.857,  kl_z_ex: 22.346,  kl_z_in: 10.713\n",
      "epoch: 67\\1000 (54s),  symKL_DB_eta: 58.018,  symKL_DB_z: 25.076,  loss: -610.814,  ess: 4.737,  kl_eta_ex: 97.438,  kl_eta_in: 200.553,  kl_z_ex: 21.958,  kl_z_in: 10.472\n",
      "epoch: 68\\1000 (53s),  symKL_DB_eta: 57.572,  symKL_DB_z: 24.465,  loss: -609.116,  ess: 4.753,  kl_eta_ex: 96.637,  kl_eta_in: 202.094,  kl_z_ex: 21.648,  kl_z_in: 10.404\n",
      "epoch: 69\\1000 (52s),  symKL_DB_eta: 57.235,  symKL_DB_z: 24.125,  loss: -607.699,  ess: 4.768,  kl_eta_ex: 95.901,  kl_eta_in: 198.580,  kl_z_ex: 21.423,  kl_z_in: 10.249\n",
      "epoch: 70\\1000 (53s),  symKL_DB_eta: 57.246,  symKL_DB_z: 23.519,  loss: -605.724,  ess: 4.782,  kl_eta_ex: 95.171,  kl_eta_in: 195.458,  kl_z_ex: 20.997,  kl_z_in: 10.332\n",
      "epoch: 71\\1000 (52s),  symKL_DB_eta: 56.624,  symKL_DB_z: 23.117,  loss: -602.686,  ess: 4.794,  kl_eta_ex: 93.419,  kl_eta_in: 189.335,  kl_z_ex: 20.173,  kl_z_in: 10.058\n",
      "epoch: 72\\1000 (51s),  symKL_DB_eta: 56.564,  symKL_DB_z: 22.658,  loss: -600.171,  ess: 4.809,  kl_eta_ex: 93.252,  kl_eta_in: 186.296,  kl_z_ex: 20.072,  kl_z_in: 9.868\n",
      "epoch: 73\\1000 (53s),  symKL_DB_eta: 56.210,  symKL_DB_z: 22.259,  loss: -597.065,  ess: 4.821,  kl_eta_ex: 90.938,  kl_eta_in: 180.049,  kl_z_ex: 19.049,  kl_z_in: 9.660\n",
      "epoch: 74\\1000 (52s),  symKL_DB_eta: 55.612,  symKL_DB_z: 21.881,  loss: -594.850,  ess: 4.834,  kl_eta_ex: 91.634,  kl_eta_in: 177.696,  kl_z_ex: 19.586,  kl_z_in: 9.658\n",
      "epoch: 75\\1000 (50s),  symKL_DB_eta: 55.038,  symKL_DB_z: 21.516,  loss: -590.942,  ess: 4.847,  kl_eta_ex: 89.303,  kl_eta_in: 170.941,  kl_z_ex: 18.913,  kl_z_in: 9.491\n",
      "epoch: 76\\1000 (53s),  symKL_DB_eta: 54.228,  symKL_DB_z: 20.966,  loss: -587.224,  ess: 4.865,  kl_eta_ex: 86.683,  kl_eta_in: 165.493,  kl_z_ex: 17.706,  kl_z_in: 9.196\n",
      "epoch: 77\\1000 (52s),  symKL_DB_eta: 53.537,  symKL_DB_z: 20.526,  loss: -583.269,  ess: 4.880,  kl_eta_ex: 84.988,  kl_eta_in: 159.418,  kl_z_ex: 17.245,  kl_z_in: 8.957\n",
      "epoch: 78\\1000 (52s),  symKL_DB_eta: 52.990,  symKL_DB_z: 20.602,  loss: -579.259,  ess: 4.891,  kl_eta_ex: 83.677,  kl_eta_in: 154.868,  kl_z_ex: 16.389,  kl_z_in: 8.616\n",
      "epoch: 79\\1000 (53s),  symKL_DB_eta: 52.189,  symKL_DB_z: 20.256,  loss: -574.789,  ess: 4.904,  kl_eta_ex: 81.346,  kl_eta_in: 148.001,  kl_z_ex: 15.804,  kl_z_in: 8.324\n",
      "epoch: 80\\1000 (52s),  symKL_DB_eta: 51.453,  symKL_DB_z: 19.949,  loss: -569.415,  ess: 4.920,  kl_eta_ex: 79.703,  kl_eta_in: 140.033,  kl_z_ex: 15.304,  kl_z_in: 8.008\n",
      "epoch: 81\\1000 (52s),  symKL_DB_eta: 50.401,  symKL_DB_z: 19.509,  loss: -563.600,  ess: 4.943,  kl_eta_ex: 77.113,  kl_eta_in: 134.565,  kl_z_ex: 14.679,  kl_z_in: 7.735\n",
      "epoch: 82\\1000 (53s),  symKL_DB_eta: 49.608,  symKL_DB_z: 19.252,  loss: -557.608,  ess: 4.957,  kl_eta_ex: 74.596,  kl_eta_in: 127.736,  kl_z_ex: 13.842,  kl_z_in: 7.290\n",
      "epoch: 83\\1000 (51s),  symKL_DB_eta: 48.231,  symKL_DB_z: 18.789,  loss: -551.451,  ess: 4.978,  kl_eta_ex: 70.931,  kl_eta_in: 120.318,  kl_z_ex: 12.738,  kl_z_in: 6.833\n",
      "epoch: 84\\1000 (53s),  symKL_DB_eta: 47.132,  symKL_DB_z: 18.508,  loss: -545.527,  ess: 4.997,  kl_eta_ex: 67.871,  kl_eta_in: 113.501,  kl_z_ex: 12.224,  kl_z_in: 6.492\n",
      "epoch: 85\\1000 (54s),  symKL_DB_eta: 46.014,  symKL_DB_z: 18.035,  loss: -539.184,  ess: 5.018,  kl_eta_ex: 64.570,  kl_eta_in: 106.355,  kl_z_ex: 11.438,  kl_z_in: 6.213\n",
      "epoch: 86\\1000 (52s),  symKL_DB_eta: 44.789,  symKL_DB_z: 17.779,  loss: -533.842,  ess: 5.034,  kl_eta_ex: 61.516,  kl_eta_in: 99.845,  kl_z_ex: 11.057,  kl_z_in: 5.994\n",
      "epoch: 87\\1000 (52s),  symKL_DB_eta: 43.573,  symKL_DB_z: 17.530,  loss: -527.887,  ess: 5.050,  kl_eta_ex: 57.845,  kl_eta_in: 93.764,  kl_z_ex: 10.400,  kl_z_in: 5.664\n",
      "epoch: 88\\1000 (38s),  symKL_DB_eta: 42.513,  symKL_DB_z: 17.250,  loss: -522.436,  ess: 5.067,  kl_eta_ex: 54.792,  kl_eta_in: 87.589,  kl_z_ex: 9.966,  kl_z_in: 5.470\n",
      "epoch: 89\\1000 (34s),  symKL_DB_eta: 41.222,  symKL_DB_z: 16.857,  loss: -517.396,  ess: 5.091,  kl_eta_ex: 51.601,  kl_eta_in: 82.033,  kl_z_ex: 9.539,  kl_z_in: 5.359\n",
      "epoch: 90\\1000 (33s),  symKL_DB_eta: 40.199,  symKL_DB_z: 16.630,  loss: -512.807,  ess: 5.102,  kl_eta_ex: 48.681,  kl_eta_in: 77.216,  kl_z_ex: 9.197,  kl_z_in: 5.151\n",
      "epoch: 91\\1000 (34s),  symKL_DB_eta: 39.118,  symKL_DB_z: 16.406,  loss: -508.190,  ess: 5.116,  kl_eta_ex: 46.142,  kl_eta_in: 72.082,  kl_z_ex: 8.820,  kl_z_in: 4.987\n",
      "epoch: 92\\1000 (34s),  symKL_DB_eta: 38.147,  symKL_DB_z: 16.143,  loss: -504.289,  ess: 5.131,  kl_eta_ex: 43.725,  kl_eta_in: 68.187,  kl_z_ex: 8.570,  kl_z_in: 4.839\n",
      "epoch: 93\\1000 (34s),  symKL_DB_eta: 37.387,  symKL_DB_z: 15.857,  loss: -500.653,  ess: 5.146,  kl_eta_ex: 41.629,  kl_eta_in: 65.118,  kl_z_ex: 8.223,  kl_z_in: 4.739\n",
      "epoch: 94\\1000 (34s),  symKL_DB_eta: 36.515,  symKL_DB_z: 15.550,  loss: -497.478,  ess: 5.161,  kl_eta_ex: 39.647,  kl_eta_in: 61.512,  kl_z_ex: 7.963,  kl_z_in: 4.708\n",
      "epoch: 95\\1000 (34s),  symKL_DB_eta: 35.737,  symKL_DB_z: 15.337,  loss: -494.432,  ess: 5.171,  kl_eta_ex: 37.852,  kl_eta_in: 59.139,  kl_z_ex: 7.677,  kl_z_in: 4.512\n",
      "epoch: 96\\1000 (34s),  symKL_DB_eta: 35.143,  symKL_DB_z: 15.163,  loss: -491.832,  ess: 5.183,  kl_eta_ex: 36.743,  kl_eta_in: 57.388,  kl_z_ex: 7.323,  kl_z_in: 4.395\n",
      "epoch: 97\\1000 (34s),  symKL_DB_eta: 34.329,  symKL_DB_z: 15.119,  loss: -489.635,  ess: 5.191,  kl_eta_ex: 35.542,  kl_eta_in: 56.267,  kl_z_ex: 7.183,  kl_z_in: 4.320\n",
      "epoch: 98\\1000 (34s),  symKL_DB_eta: 33.904,  symKL_DB_z: 14.916,  loss: -487.828,  ess: 5.203,  kl_eta_ex: 34.388,  kl_eta_in: 54.781,  kl_z_ex: 6.926,  kl_z_in: 4.275\n",
      "epoch: 99\\1000 (34s),  symKL_DB_eta: 33.054,  symKL_DB_z: 14.676,  loss: -485.594,  ess: 5.211,  kl_eta_ex: 33.625,  kl_eta_in: 54.450,  kl_z_ex: 6.815,  kl_z_in: 4.235\n",
      "epoch: 100\\1000 (32s),  symKL_DB_eta: 32.595,  symKL_DB_z: 14.621,  loss: -484.084,  ess: 5.221,  kl_eta_ex: 32.947,  kl_eta_in: 53.459,  kl_z_ex: 6.669,  kl_z_in: 4.147\n",
      "epoch: 101\\1000 (30s),  symKL_DB_eta: 31.958,  symKL_DB_z: 14.334,  loss: -482.627,  ess: 5.223,  kl_eta_ex: 32.443,  kl_eta_in: 52.756,  kl_z_ex: 6.523,  kl_z_in: 4.103\n",
      "epoch: 102\\1000 (30s),  symKL_DB_eta: 31.658,  symKL_DB_z: 14.351,  loss: -481.420,  ess: 5.230,  kl_eta_ex: 31.834,  kl_eta_in: 52.412,  kl_z_ex: 6.351,  kl_z_in: 3.987\n",
      "epoch: 103\\1000 (31s),  symKL_DB_eta: 31.115,  symKL_DB_z: 14.371,  loss: -480.327,  ess: 5.238,  kl_eta_ex: 31.247,  kl_eta_in: 51.324,  kl_z_ex: 6.190,  kl_z_in: 3.962\n",
      "epoch: 104\\1000 (31s),  symKL_DB_eta: 30.765,  symKL_DB_z: 14.176,  loss: -478.888,  ess: 5.245,  kl_eta_ex: 30.707,  kl_eta_in: 51.334,  kl_z_ex: 6.056,  kl_z_in: 3.927\n",
      "epoch: 105\\1000 (31s),  symKL_DB_eta: 30.301,  symKL_DB_z: 14.113,  loss: -478.091,  ess: 5.254,  kl_eta_ex: 30.135,  kl_eta_in: 50.674,  kl_z_ex: 5.968,  kl_z_in: 3.852\n",
      "epoch: 106\\1000 (34s),  symKL_DB_eta: 29.958,  symKL_DB_z: 13.982,  loss: -477.048,  ess: 5.261,  kl_eta_ex: 29.819,  kl_eta_in: 50.584,  kl_z_ex: 5.846,  kl_z_in: 3.787\n",
      "epoch: 107\\1000 (35s),  symKL_DB_eta: 29.595,  symKL_DB_z: 14.013,  loss: -476.509,  ess: 5.271,  kl_eta_ex: 29.361,  kl_eta_in: 49.697,  kl_z_ex: 5.784,  kl_z_in: 3.772\n",
      "epoch: 108\\1000 (30s),  symKL_DB_eta: 29.211,  symKL_DB_z: 13.984,  loss: -475.301,  ess: 5.280,  kl_eta_ex: 28.934,  kl_eta_in: 49.476,  kl_z_ex: 5.651,  kl_z_in: 3.679\n",
      "epoch: 109\\1000 (30s),  symKL_DB_eta: 28.909,  symKL_DB_z: 13.926,  loss: -474.923,  ess: 5.287,  kl_eta_ex: 28.654,  kl_eta_in: 48.838,  kl_z_ex: 5.504,  kl_z_in: 3.646\n",
      "epoch: 110\\1000 (30s),  symKL_DB_eta: 28.573,  symKL_DB_z: 13.937,  loss: -474.111,  ess: 5.297,  kl_eta_ex: 28.258,  kl_eta_in: 48.716,  kl_z_ex: 5.379,  kl_z_in: 3.572\n",
      "epoch: 111\\1000 (31s),  symKL_DB_eta: 28.341,  symKL_DB_z: 14.103,  loss: -473.532,  ess: 5.304,  kl_eta_ex: 27.950,  kl_eta_in: 48.236,  kl_z_ex: 5.325,  kl_z_in: 3.565\n",
      "epoch: 112\\1000 (31s),  symKL_DB_eta: 28.147,  symKL_DB_z: 13.879,  loss: -472.906,  ess: 5.313,  kl_eta_ex: 27.356,  kl_eta_in: 47.516,  kl_z_ex: 5.152,  kl_z_in: 3.490\n",
      "epoch: 113\\1000 (31s),  symKL_DB_eta: 27.806,  symKL_DB_z: 13.810,  loss: -472.138,  ess: 5.324,  kl_eta_ex: 27.271,  kl_eta_in: 47.723,  kl_z_ex: 5.147,  kl_z_in: 3.474\n",
      "epoch: 114\\1000 (30s),  symKL_DB_eta: 27.620,  symKL_DB_z: 13.658,  loss: -471.802,  ess: 5.335,  kl_eta_ex: 26.980,  kl_eta_in: 47.793,  kl_z_ex: 5.096,  kl_z_in: 3.452\n",
      "epoch: 115\\1000 (30s),  symKL_DB_eta: 27.357,  symKL_DB_z: 13.797,  loss: -471.105,  ess: 5.345,  kl_eta_ex: 26.498,  kl_eta_in: 46.716,  kl_z_ex: 5.080,  kl_z_in: 3.422\n",
      "epoch: 116\\1000 (29s),  symKL_DB_eta: 27.171,  symKL_DB_z: 13.707,  loss: -470.537,  ess: 5.354,  kl_eta_ex: 26.401,  kl_eta_in: 47.015,  kl_z_ex: 4.917,  kl_z_in: 3.370\n",
      "epoch: 117\\1000 (30s),  symKL_DB_eta: 26.931,  symKL_DB_z: 13.621,  loss: -470.170,  ess: 5.364,  kl_eta_ex: 26.008,  kl_eta_in: 46.504,  kl_z_ex: 4.926,  kl_z_in: 3.349\n",
      "epoch: 118\\1000 (26s),  symKL_DB_eta: 26.672,  symKL_DB_z: 13.676,  loss: -469.477,  ess: 5.379,  kl_eta_ex: 25.513,  kl_eta_in: 45.747,  kl_z_ex: 4.825,  kl_z_in: 3.322\n",
      "epoch: 119\\1000 (29s),  symKL_DB_eta: 26.492,  symKL_DB_z: 13.764,  loss: -469.234,  ess: 5.391,  kl_eta_ex: 25.304,  kl_eta_in: 46.022,  kl_z_ex: 4.839,  kl_z_in: 3.295\n",
      "epoch: 120\\1000 (31s),  symKL_DB_eta: 26.105,  symKL_DB_z: 13.813,  loss: -468.592,  ess: 5.407,  kl_eta_ex: 24.927,  kl_eta_in: 45.825,  kl_z_ex: 4.715,  kl_z_in: 3.266\n",
      "epoch: 121\\1000 (31s),  symKL_DB_eta: 25.892,  symKL_DB_z: 13.672,  loss: -467.922,  ess: 5.421,  kl_eta_ex: 24.617,  kl_eta_in: 45.317,  kl_z_ex: 4.662,  kl_z_in: 3.227\n",
      "epoch: 122\\1000 (31s),  symKL_DB_eta: 25.634,  symKL_DB_z: 13.811,  loss: -467.431,  ess: 5.436,  kl_eta_ex: 24.269,  kl_eta_in: 45.762,  kl_z_ex: 4.619,  kl_z_in: 3.178\n",
      "epoch: 123\\1000 (30s),  symKL_DB_eta: 25.277,  symKL_DB_z: 13.755,  loss: -467.152,  ess: 5.451,  kl_eta_ex: 24.101,  kl_eta_in: 46.289,  kl_z_ex: 4.616,  kl_z_in: 3.200\n",
      "epoch: 124\\1000 (31s),  symKL_DB_eta: 24.957,  symKL_DB_z: 13.667,  loss: -466.753,  ess: 5.480,  kl_eta_ex: 23.713,  kl_eta_in: 45.418,  kl_z_ex: 4.628,  kl_z_in: 3.168\n",
      "epoch: 125\\1000 (31s),  symKL_DB_eta: 24.895,  symKL_DB_z: 13.759,  loss: -466.317,  ess: 5.497,  kl_eta_ex: 23.315,  kl_eta_in: 45.599,  kl_z_ex: 4.594,  kl_z_in: 3.180\n",
      "epoch: 126\\1000 (31s),  symKL_DB_eta: 24.547,  symKL_DB_z: 13.783,  loss: -465.590,  ess: 5.528,  kl_eta_ex: 22.832,  kl_eta_in: 45.033,  kl_z_ex: 4.550,  kl_z_in: 3.096\n",
      "epoch: 127\\1000 (31s),  symKL_DB_eta: 24.187,  symKL_DB_z: 13.754,  loss: -465.427,  ess: 5.552,  kl_eta_ex: 22.771,  kl_eta_in: 46.348,  kl_z_ex: 4.527,  kl_z_in: 3.134\n",
      "epoch: 128\\1000 (31s),  symKL_DB_eta: 23.900,  symKL_DB_z: 13.828,  loss: -464.798,  ess: 5.583,  kl_eta_ex: 22.326,  kl_eta_in: 45.797,  kl_z_ex: 4.500,  kl_z_in: 3.101\n",
      "epoch: 129\\1000 (30s),  symKL_DB_eta: 23.844,  symKL_DB_z: 13.719,  loss: -464.056,  ess: 5.610,  kl_eta_ex: 21.778,  kl_eta_in: 45.078,  kl_z_ex: 4.476,  kl_z_in: 3.072\n",
      "epoch: 130\\1000 (30s),  symKL_DB_eta: 23.654,  symKL_DB_z: 13.598,  loss: -463.267,  ess: 5.640,  kl_eta_ex: 21.561,  kl_eta_in: 45.106,  kl_z_ex: 4.410,  kl_z_in: 3.035\n",
      "epoch: 131\\1000 (29s),  symKL_DB_eta: 23.266,  symKL_DB_z: 13.614,  loss: -462.966,  ess: 5.669,  kl_eta_ex: 21.243,  kl_eta_in: 44.485,  kl_z_ex: 4.421,  kl_z_in: 3.047\n",
      "epoch: 132\\1000 (27s),  symKL_DB_eta: 23.104,  symKL_DB_z: 13.613,  loss: -462.400,  ess: 5.687,  kl_eta_ex: 20.836,  kl_eta_in: 43.639,  kl_z_ex: 4.356,  kl_z_in: 3.060\n",
      "epoch: 133\\1000 (30s),  symKL_DB_eta: 22.952,  symKL_DB_z: 13.585,  loss: -462.087,  ess: 5.709,  kl_eta_ex: 20.501,  kl_eta_in: 43.334,  kl_z_ex: 4.287,  kl_z_in: 2.966\n",
      "epoch: 134\\1000 (30s),  symKL_DB_eta: 22.826,  symKL_DB_z: 13.535,  loss: -461.164,  ess: 5.730,  kl_eta_ex: 20.177,  kl_eta_in: 42.160,  kl_z_ex: 4.308,  kl_z_in: 2.982\n",
      "epoch: 135\\1000 (30s),  symKL_DB_eta: 22.694,  symKL_DB_z: 13.517,  loss: -460.850,  ess: 5.748,  kl_eta_ex: 19.809,  kl_eta_in: 41.232,  kl_z_ex: 4.277,  kl_z_in: 2.958\n",
      "epoch: 136\\1000 (30s),  symKL_DB_eta: 22.602,  symKL_DB_z: 13.634,  loss: -460.179,  ess: 5.770,  kl_eta_ex: 19.430,  kl_eta_in: 39.994,  kl_z_ex: 4.241,  kl_z_in: 2.950\n",
      "epoch: 137\\1000 (30s),  symKL_DB_eta: 22.534,  symKL_DB_z: 13.361,  loss: -459.341,  ess: 5.787,  kl_eta_ex: 19.108,  kl_eta_in: 39.449,  kl_z_ex: 4.100,  kl_z_in: 2.865\n",
      "epoch: 138\\1000 (30s),  symKL_DB_eta: 22.276,  symKL_DB_z: 13.371,  loss: -458.765,  ess: 5.803,  kl_eta_ex: 18.722,  kl_eta_in: 37.945,  kl_z_ex: 4.149,  kl_z_in: 2.892\n",
      "epoch: 139\\1000 (30s),  symKL_DB_eta: 22.287,  symKL_DB_z: 13.393,  loss: -458.401,  ess: 5.824,  kl_eta_ex: 18.390,  kl_eta_in: 37.061,  kl_z_ex: 4.098,  kl_z_in: 2.893\n",
      "epoch: 140\\1000 (31s),  symKL_DB_eta: 22.059,  symKL_DB_z: 13.376,  loss: -457.859,  ess: 5.842,  kl_eta_ex: 18.084,  kl_eta_in: 36.541,  kl_z_ex: 4.075,  kl_z_in: 2.889\n",
      "epoch: 141\\1000 (29s),  symKL_DB_eta: 21.935,  symKL_DB_z: 13.306,  loss: -457.440,  ess: 5.863,  kl_eta_ex: 17.637,  kl_eta_in: 34.710,  kl_z_ex: 4.009,  kl_z_in: 2.830\n"
     ]
    }
   ],
   "source": [
    "from ag_ep import *\n",
    "train(models, EUBO_init_eta, optimizer, Data, Model_Params, Train_Params)"
   ]
  },
  {
   "cell_type": "code",
   "execution_count": null,
   "metadata": {},
   "outputs": [],
   "source": [
    "torch.save(enc_z.state_dict(), \"../weights/enc-z-%s\" % PATH)\n",
    "torch.save(enc_eta.state_dict(), \"../weights/enc-eta-%s\" % PATH)\n",
    "torch.save(oneshot_eta.state_dict(), \"../weights/oneshot-eta-%s\" % PATH)"
   ]
  },
  {
   "cell_type": "code",
   "execution_count": null,
   "metadata": {},
   "outputs": [],
   "source": [
    "BATCH_SIZE_TEST = 50\n",
    "Model_Params_Test = (N, K, D, MCMC_SIZE, SAMPLE_SIZE, BATCH_SIZE_TEST)\n",
    "obs, metric_step, reused = test(Eubo_cfz_os_eta, Data, Train_Params, Model_Params_Test, models)\n",
    "(q_eta, _, q_z, _, _, _) = reused"
   ]
  },
  {
   "cell_type": "code",
   "execution_count": null,
   "metadata": {},
   "outputs": [],
   "source": [
    "%time plot_samples(obs, q_eta, q_z, PATH)"
   ]
  },
  {
   "cell_type": "code",
   "execution_count": null,
   "metadata": {},
   "outputs": [],
   "source": [
    "incremental_gap = symkl_test.cpu().data.numpy()[1:]\n",
    "M = incremental_gap.shape[0]\n",
    "overall_gap = np.zeros(M)\n",
    "for m in range(M):\n",
    "    overall_gap[m] = incremental_gap[:m+1].sum()"
   ]
  },
  {
   "cell_type": "code",
   "execution_count": null,
   "metadata": {},
   "outputs": [],
   "source": [
    "fig = plt.figure(figsize=(12,6))\n",
    "ax = fig.add_subplot(111)\n",
    "plt.yscale(\"log\")\n",
    "ax.plot(incremental_gap, label=\"incremental gap\")\n",
    "ax.plot(overall_gap, label='overall gap')\n",
    "ax.legend(fontsize=14)\n",
    "ax.set_xlabel('Steps')"
   ]
  },
  {
   "cell_type": "code",
   "execution_count": null,
   "metadata": {},
   "outputs": [],
   "source": [
    "incremental_gap"
   ]
  },
  {
   "cell_type": "code",
   "execution_count": null,
   "metadata": {},
   "outputs": [],
   "source": []
  },
  {
   "cell_type": "code",
   "execution_count": null,
   "metadata": {},
   "outputs": [],
   "source": []
  },
  {
   "cell_type": "code",
   "execution_count": null,
   "metadata": {},
   "outputs": [],
   "source": []
  }
 ],
 "metadata": {
  "kernelspec": {
   "display_name": "Python 3",
   "language": "python",
   "name": "python3"
  },
  "language_info": {
   "codemirror_mode": {
    "name": "ipython",
    "version": 3
   },
   "file_extension": ".py",
   "mimetype": "text/x-python",
   "name": "python",
   "nbconvert_exporter": "python",
   "pygments_lexer": "ipython3",
   "version": "3.7.3"
  }
 },
 "nbformat": 4,
 "nbformat_minor": 2
}
