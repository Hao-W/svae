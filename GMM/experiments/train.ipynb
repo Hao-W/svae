{
 "cells": [
  {
   "cell_type": "code",
   "execution_count": 1,
   "metadata": {},
   "outputs": [
    {
     "name": "stdout",
     "output_type": "stream",
     "text": [
      "probtorch: 0.0+5a2c637 torch: 1.3.0\n",
      "inference method:APG, apg sweeps:2, epochs:1, sample size:10, batch size:40, learning rate:0.0005, cuda:True, device:cuda:1\n"
     ]
    }
   ],
   "source": [
    "%matplotlib inline\n",
    "%run ../../import_envs.py\n",
    "%run PARAMETERS.py"
   ]
  },
  {
   "cell_type": "code",
   "execution_count": 2,
   "metadata": {},
   "outputs": [],
   "source": [
    "## load training datasets\n",
    "DATA_DIR = '/home/hao/Research/apg_data/gmm_60/'\n",
    "DATA = torch.from_numpy(np.load(DATA_DIR + 'ob.npy')).float()"
   ]
  },
  {
   "cell_type": "code",
   "execution_count": 3,
   "metadata": {},
   "outputs": [],
   "source": [
    "from model_operations import init_models\n",
    "models, optimizer = init_models(model_params=model_params, \n",
    "                                CUDA=CUDA, \n",
    "                                DEVICE=DEVICE, \n",
    "                                LOAD_VERSION=None,\n",
    "                                LR=LR)"
   ]
  },
  {
   "cell_type": "code",
   "execution_count": 4,
   "metadata": {},
   "outputs": [
    {
     "name": "stdout",
     "output_type": "stream",
     "text": [
      "Completed  in (37s),  \n"
     ]
    }
   ],
   "source": [
    "from training import train\n",
    "from apg import apg_objective\n",
    "Metrics = train(optimizer=optimizer, \n",
    "                models=models, \n",
    "                apg_objective=apg_objective,\n",
    "                apg_sweeps=APG_SWEEPS, \n",
    "                data=DATA, \n",
    "                num_epochs=NUM_EPOCHS, \n",
    "                sample_size=SAMPLE_SIZE, \n",
    "                batch_size=BATCH_SIZE, \n",
    "                CUDA=CUDA, \n",
    "                DEVICE=DEVICE, \n",
    "                MODEL_VERSION=MODEL_VERSION)"
   ]
  },
  {
   "cell_type": "code",
   "execution_count": 5,
   "metadata": {},
   "outputs": [
    {
     "name": "stderr",
     "output_type": "stream",
     "text": [
      "ERROR:root:No traceback has been produced, nothing to debug.\n"
     ]
    }
   ],
   "source": [
    "%debug"
   ]
  },
  {
   "cell_type": "code",
   "execution_count": null,
   "metadata": {},
   "outputs": [],
   "source": []
  }
 ],
 "metadata": {
  "kernelspec": {
   "display_name": "Python 3",
   "language": "python",
   "name": "python3"
  },
  "language_info": {
   "codemirror_mode": {
    "name": "ipython",
    "version": 3
   },
   "file_extension": ".py",
   "mimetype": "text/x-python",
   "name": "python",
   "nbconvert_exporter": "python",
   "pygments_lexer": "ipython3",
   "version": "3.7.3"
  }
 },
 "nbformat": 4,
 "nbformat_minor": 4
}
