{
 "cells": [
  {
   "cell_type": "code",
   "execution_count": 1,
   "metadata": {},
   "outputs": [
    {
     "name": "stdout",
     "output_type": "stream",
     "text": [
      "probtorch: 0.0+5a2c637 torch: 1.0.0 cuda: True\n"
     ]
    }
   ],
   "source": [
    "%matplotlib inline\n",
    "%run ../../import_envs.py\n",
    "print('probtorch:', probtorch.__version__, \n",
    "      'torch:', torch.__version__, \n",
    "      'cuda:', torch.cuda.is_available())"
   ]
  },
  {
   "cell_type": "code",
   "execution_count": 2,
   "metadata": {},
   "outputs": [],
   "source": [
    "## Load dataset\n",
    "data_path = \"../gmm_10size\"\n",
    "Data = []\n",
    "for i in range(2):\n",
    "    data = torch.from_numpy(np.load(data_path + '/obs_%d.npy' % ((i+1)*10))).float()\n",
    "    Data.append(data)\n",
    "## Hyper Parameters\n",
    "MCMC_STEPS = 1\n",
    "## Train Parameters\n",
    "NUM_EPOCHS = 500\n",
    "K = 3 \n",
    "D = 2\n",
    "SAMPLE_SIZE = 10\n",
    "BATCH_SIZE = 40\n",
    "CUDA = torch.cuda.is_available()\n",
    "DEVICE = torch.device('cuda:1')\n",
    "PATH = 'ag-10size-%dSample' % SAMPLE_SIZE\n",
    "Train_Params = (NUM_EPOCHS, K, D, SAMPLE_SIZE, BATCH_SIZE, CUDA, DEVICE, PATH) \n",
    "## Model Parameters\n",
    "NUM_HIDDEN_LOCAL = 32\n",
    "LEARNING_RATE =  1e-4"
   ]
  },
  {
   "cell_type": "code",
   "execution_count": 3,
   "metadata": {},
   "outputs": [],
   "source": [
    "from init_models import Init_models\n",
    "models, optimizer = Init_models(K, D, NUM_HIDDEN_LOCAL, CUDA, DEVICE, LEARNING_RATE, RESTORE=False, PATH=None)"
   ]
  },
  {
   "cell_type": "code",
   "execution_count": null,
   "metadata": {},
   "outputs": [
    {
     "name": "stdout",
     "output_type": "stream",
     "text": [
      "epoch=0\\500, data order=tensor([0, 1])\n",
      "Completed  in (6s),  loss: -396.115,  ess: 2.997,  kl_eta_ex: 70.895,  kl_eta_in: 20.901,  kl_z_ex: 5.626,  kl_z_in: 0.704\n",
      "epoch=1\\500, data order=tensor([0, 1])\n",
      "Completed  in (6s),  loss: -388.915,  ess: 3.020,  kl_eta_ex: 69.173,  kl_eta_in: 20.816,  kl_z_ex: 5.473,  kl_z_in: 0.693\n",
      "epoch=2\\500, data order=tensor([0, 1])\n",
      "Completed  in (6s),  loss: -386.400,  ess: 3.045,  kl_eta_ex: 67.684,  kl_eta_in: 20.750,  kl_z_ex: 5.346,  kl_z_in: 0.681\n",
      "epoch=3\\500, data order=tensor([0, 1])\n",
      "Completed  in (6s),  loss: -379.421,  ess: 3.066,  kl_eta_ex: 66.045,  kl_eta_in: 20.636,  kl_z_ex: 5.185,  kl_z_in: 0.669\n",
      "epoch=4\\500, data order=tensor([1, 0])\n",
      "Completed  in (6s),  loss: -374.201,  ess: 3.083,  kl_eta_ex: 64.691,  kl_eta_in: 20.596,  kl_z_ex: 5.055,  kl_z_in: 0.657\n",
      "epoch=5\\500, data order=tensor([0, 1])\n",
      "Completed  in (6s),  loss: -368.613,  ess: 3.105,  kl_eta_ex: 62.963,  kl_eta_in: 20.499,  kl_z_ex: 4.928,  kl_z_in: 0.645\n",
      "epoch=6\\500, data order=tensor([1, 0])\n",
      "Completed  in (6s),  loss: -363.061,  ess: 3.140,  kl_eta_ex: 61.447,  kl_eta_in: 20.391,  kl_z_ex: 4.748,  kl_z_in: 0.631\n",
      "epoch=7\\500, data order=tensor([0, 1])\n",
      "Completed  in (5s),  loss: -357.545,  ess: 3.156,  kl_eta_ex: 59.744,  kl_eta_in: 20.232,  kl_z_ex: 4.573,  kl_z_in: 0.618\n",
      "epoch=8\\500, data order=tensor([1, 0])\n",
      "Completed  in (5s),  loss: -353.364,  ess: 3.176,  kl_eta_ex: 58.312,  kl_eta_in: 20.206,  kl_z_ex: 4.395,  kl_z_in: 0.603\n",
      "epoch=9\\500, data order=tensor([0, 1])\n",
      "Completed  in (4s),  loss: -347.946,  ess: 3.216,  kl_eta_ex: 56.602,  kl_eta_in: 20.070,  kl_z_ex: 4.259,  kl_z_in: 0.593\n",
      "epoch=10\\500, data order=tensor([0, 1])\n",
      "Completed  in (4s),  loss: -341.424,  ess: 3.241,  kl_eta_ex: 54.900,  kl_eta_in: 20.090,  kl_z_ex: 4.067,  kl_z_in: 0.578\n",
      "epoch=11\\500, data order=tensor([0, 1])\n",
      "Completed  in (5s),  loss: -337.906,  ess: 3.268,  kl_eta_ex: 53.388,  kl_eta_in: 19.941,  kl_z_ex: 3.887,  kl_z_in: 0.564\n",
      "epoch=12\\500, data order=tensor([1, 0])\n",
      "Completed  in (5s),  loss: -332.853,  ess: 3.290,  kl_eta_ex: 51.963,  kl_eta_in: 19.845,  kl_z_ex: 3.731,  kl_z_in: 0.550\n",
      "epoch=13\\500, data order=tensor([0, 1])\n",
      "Completed  in (5s),  loss: -326.210,  ess: 3.332,  kl_eta_ex: 50.298,  kl_eta_in: 19.744,  kl_z_ex: 3.572,  kl_z_in: 0.540\n",
      "epoch=14\\500, data order=tensor([0, 1])\n",
      "Completed  in (5s),  loss: -321.901,  ess: 3.363,  kl_eta_ex: 48.791,  kl_eta_in: 19.765,  kl_z_ex: 3.417,  kl_z_in: 0.527\n",
      "epoch=15\\500, data order=tensor([0, 1])\n",
      "Completed  in (5s),  loss: -318.088,  ess: 3.380,  kl_eta_ex: 47.237,  kl_eta_in: 19.644,  kl_z_ex: 3.243,  kl_z_in: 0.515\n",
      "epoch=16\\500, data order=tensor([0, 1])\n",
      "Completed  in (6s),  loss: -312.643,  ess: 3.404,  kl_eta_ex: 45.764,  kl_eta_in: 19.636,  kl_z_ex: 3.104,  kl_z_in: 0.505\n",
      "epoch=17\\500, data order=tensor([0, 1])\n",
      "Completed  in (5s),  loss: -308.087,  ess: 3.445,  kl_eta_ex: 44.564,  kl_eta_in: 19.640,  kl_z_ex: 2.963,  kl_z_in: 0.495\n",
      "epoch=18\\500, data order=tensor([1, 0])\n",
      "Completed  in (5s),  loss: -304.509,  ess: 3.476,  kl_eta_ex: 43.188,  kl_eta_in: 19.552,  kl_z_ex: 2.825,  kl_z_in: 0.483\n",
      "epoch=19\\500, data order=tensor([1, 0])\n",
      "Completed  in (5s),  loss: -301.385,  ess: 3.491,  kl_eta_ex: 42.122,  kl_eta_in: 19.605,  kl_z_ex: 2.703,  kl_z_in: 0.476\n",
      "epoch=20\\500, data order=tensor([1, 0])\n",
      "Completed  in (5s),  loss: -296.658,  ess: 3.524,  kl_eta_ex: 40.984,  kl_eta_in: 19.654,  kl_z_ex: 2.578,  kl_z_in: 0.466\n",
      "epoch=21\\500, data order=tensor([1, 0])\n",
      "Completed  in (6s),  loss: -293.528,  ess: 3.531,  kl_eta_ex: 39.668,  kl_eta_in: 19.578,  kl_z_ex: 2.480,  kl_z_in: 0.457\n",
      "epoch=22\\500, data order=tensor([1, 0])\n",
      "Completed  in (6s),  loss: -289.374,  ess: 3.566,  kl_eta_ex: 38.517,  kl_eta_in: 19.578,  kl_z_ex: 2.386,  kl_z_in: 0.451\n",
      "epoch=23\\500, data order=tensor([0, 1])\n"
     ]
    }
   ],
   "source": [
    "from apg import APG\n",
    "train(models, APG, optimizer, Data, MCMC_STEPS, Train_Params)"
   ]
  },
  {
   "cell_type": "code",
   "execution_count": null,
   "metadata": {},
   "outputs": [],
   "source": [
    "%debug"
   ]
  },
  {
   "cell_type": "code",
   "execution_count": null,
   "metadata": {},
   "outputs": [],
   "source": [
    "torch.save(enc_z.state_dict(), \"../weights/enc-z-%s\" % PATH)\n",
    "torch.save(enc_eta.state_dict(), \"../weights/enc-eta-%s\" % PATH)\n",
    "torch.save(oneshot_eta.state_dict(), \"../weights/oneshot-eta-%s\" % PATH)"
   ]
  },
  {
   "cell_type": "code",
   "execution_count": null,
   "metadata": {},
   "outputs": [],
   "source": []
  }
 ],
 "metadata": {
  "kernelspec": {
   "display_name": "Python 3",
   "language": "python",
   "name": "python3"
  },
  "language_info": {
   "codemirror_mode": {
    "name": "ipython",
    "version": 3
   },
   "file_extension": ".py",
   "mimetype": "text/x-python",
   "name": "python",
   "nbconvert_exporter": "python",
   "pygments_lexer": "ipython3",
   "version": "3.6.7"
  }
 },
 "nbformat": 4,
 "nbformat_minor": 2
}
