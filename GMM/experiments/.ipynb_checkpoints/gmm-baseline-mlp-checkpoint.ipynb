{
 "cells": [
  {
   "cell_type": "code",
   "execution_count": 1,
   "metadata": {},
   "outputs": [
    {
     "name": "stdout",
     "output_type": "stream",
     "text": [
      "probtorch: 0.0+5a2c637 torch: 1.1.0 cuda: True\n"
     ]
    }
   ],
   "source": [
    "%matplotlib inline\n",
    "%run ../../import_envs.py\n",
    "print('probtorch:', probtorch.__version__, \n",
    "      'torch:', torch.__version__, \n",
    "      'cuda:', torch.cuda.is_available())"
   ]
  },
  {
   "cell_type": "code",
   "execution_count": 2,
   "metadata": {},
   "outputs": [],
   "source": [
    "## Load dataset\n",
    "data_path = \"../gmm_dataset_c20k\"\n",
    "Data = torch.from_numpy(np.load(data_path + '/obs.npy')).float()\n",
    "\n",
    "NUM_DATASETS, N, D = Data.shape\n",
    "K = 3 ## number of clusters\n",
    "SAMPLE_SIZE = 10\n",
    "NUM_HIDDEN_LOCAL = 32\n",
    "\n",
    "BATCH_SIZE = 20\n",
    "NUM_EPOCHS = 300\n",
    "LEARNING_RATE = 1e-4\n",
    "CUDA = torch.cuda.is_available()\n",
    "PATH = 'baseline-mlp-%dsamples' % (SAMPLE_SIZE)\n",
    "DEVICE = torch.device('cuda:0')\n",
    "\n",
    "Train_Params = (NUM_EPOCHS, NUM_DATASETS, SAMPLE_SIZE, BATCH_SIZE, CUDA, DEVICE, PATH)\n",
    "Model_Params = (N, K, D)"
   ]
  },
  {
   "cell_type": "code",
   "execution_count": 3,
   "metadata": {},
   "outputs": [],
   "source": [
    "from local_enc import *\n",
    "from global_oneshot import *\n",
    "## if reparameterize continuous variables\n",
    "Reparameterized = False\n",
    "# initialization\n",
    "enc_z = Enc_z(K, D, NUM_HIDDEN_LOCAL, CUDA, DEVICE)\n",
    "oneshot_eta = Oneshot_eta(K, D, CUDA, DEVICE, Reparameterized)\n",
    "if CUDA:\n",
    "    enc_z.cuda().to(DEVICE)\n",
    "oneshot_eta = Oneshot_eta(K, D, CUDA, DEVICE, Reparameterized)\n",
    "if CUDA:\n",
    "    oneshot_eta.cuda().to(DEVICE)\n",
    "optimizer =  torch.optim.Adam(list(oneshot_eta.parameters())+list(enc_z.parameters()),lr=LEARNING_RATE, betas=(0.9, 0.99))\n",
    "models = (oneshot_eta, enc_z)"
   ]
  },
  {
   "cell_type": "code",
   "execution_count": null,
   "metadata": {},
   "outputs": [
    {
     "name": "stdout",
     "output_type": "stream",
     "text": [
      "epoch: 0\\300 (8s),  eubo: -586.026,  elbo: -692.205,  ess: 1.093\n",
      "epoch: 1\\300 (8s),  eubo: -496.624,  elbo: -570.970,  ess: 1.116\n",
      "epoch: 2\\300 (8s),  eubo: -433.592,  elbo: -480.539,  ess: 1.204\n",
      "epoch: 3\\300 (7s),  eubo: -403.787,  elbo: -439.192,  ess: 1.251\n",
      "epoch: 4\\300 (7s),  eubo: -387.014,  elbo: -414.471,  ess: 1.325\n",
      "epoch: 5\\300 (8s),  eubo: -378.872,  elbo: -404.414,  ess: 1.358\n",
      "epoch: 6\\300 (8s),  eubo: -360.463,  elbo: -379.935,  ess: 1.442\n",
      "epoch: 7\\300 (8s),  eubo: -354.090,  elbo: -371.078,  ess: 1.531\n",
      "epoch: 8\\300 (8s),  eubo: -344.948,  elbo: -358.381,  ess: 1.540\n",
      "epoch: 9\\300 (8s),  eubo: -336.561,  elbo: -347.627,  ess: 1.582\n",
      "epoch: 10\\300 (8s),  eubo: -326.535,  elbo: -337.400,  ess: 1.536\n",
      "epoch: 11\\300 (8s),  eubo: -318.676,  elbo: -330.485,  ess: 1.529\n",
      "epoch: 12\\300 (8s),  eubo: -311.779,  elbo: -324.312,  ess: 1.543\n",
      "epoch: 13\\300 (8s),  eubo: -300.245,  elbo: -313.616,  ess: 1.553\n",
      "epoch: 14\\300 (8s),  eubo: -295.677,  elbo: -310.063,  ess: 1.531\n",
      "epoch: 15\\300 (8s),  eubo: -289.220,  elbo: -304.006,  ess: 1.546\n",
      "epoch: 16\\300 (8s),  eubo: -286.131,  elbo: -301.561,  ess: 1.537\n",
      "epoch: 17\\300 (8s),  eubo: -283.085,  elbo: -296.973,  ess: 1.551\n",
      "epoch: 18\\300 (8s),  eubo: -281.483,  elbo: -296.308,  ess: 1.569\n",
      "epoch: 19\\300 (8s),  eubo: -280.779,  elbo: -293.007,  ess: 1.629\n",
      "epoch: 20\\300 (8s),  eubo: -278.791,  elbo: -290.710,  ess: 1.611\n",
      "epoch: 21\\300 (8s),  eubo: -280.317,  elbo: -292.312,  ess: 1.634\n",
      "epoch: 22\\300 (8s),  eubo: -278.217,  elbo: -290.700,  ess: 1.607\n",
      "epoch: 23\\300 (8s),  eubo: -278.857,  elbo: -290.440,  ess: 1.638\n",
      "epoch: 24\\300 (8s),  eubo: -280.026,  elbo: -291.676,  ess: 1.683\n",
      "epoch: 25\\300 (8s),  eubo: -279.785,  elbo: -292.110,  ess: 1.659\n",
      "epoch: 26\\300 (8s),  eubo: -279.974,  elbo: -291.914,  ess: 1.631\n",
      "epoch: 27\\300 (8s),  eubo: -278.305,  elbo: -289.797,  ess: 1.642\n",
      "epoch: 28\\300 (8s),  eubo: -278.525,  elbo: -289.480,  ess: 1.693\n",
      "epoch: 29\\300 (8s),  eubo: -280.060,  elbo: -291.628,  ess: 1.691\n",
      "epoch: 30\\300 (8s),  eubo: -279.232,  elbo: -291.258,  ess: 1.675\n",
      "epoch: 31\\300 (12s),  eubo: -278.643,  elbo: -289.342,  ess: 1.719\n",
      "epoch: 32\\300 (12s),  eubo: -277.149,  elbo: -288.179,  ess: 1.725\n",
      "epoch: 33\\300 (13s),  eubo: -278.622,  elbo: -289.004,  ess: 1.706\n",
      "epoch: 34\\300 (13s),  eubo: -278.132,  elbo: -288.280,  ess: 1.728\n",
      "epoch: 35\\300 (13s),  eubo: -277.226,  elbo: -287.601,  ess: 1.715\n",
      "epoch: 36\\300 (13s),  eubo: -280.887,  elbo: -291.339,  ess: 1.679\n",
      "epoch: 37\\300 (13s),  eubo: -277.955,  elbo: -287.957,  ess: 1.705\n",
      "epoch: 38\\300 (13s),  eubo: -279.231,  elbo: -288.862,  ess: 1.738\n",
      "epoch: 39\\300 (13s),  eubo: -278.020,  elbo: -288.379,  ess: 1.677\n",
      "epoch: 40\\300 (13s),  eubo: -278.948,  elbo: -289.114,  ess: 1.720\n"
     ]
    }
   ],
   "source": [
    "from os_ep import *\n",
    "train_baseline(models, EP, optimizer, Data, Model_Params, Train_Params)"
   ]
  },
  {
   "cell_type": "code",
   "execution_count": null,
   "metadata": {},
   "outputs": [],
   "source": [
    "torch.save(enc_z.state_dict(), '../weights/enc-z-%s' + PATH)\n",
    "torch.save(oneshot_eta.state_dict(), '../weights/oneshot-eta-%s' + PATH)"
   ]
  },
  {
   "cell_type": "code",
   "execution_count": null,
   "metadata": {},
   "outputs": [],
   "source": [
    "def test(models, objective, Data, Model_Params, Train_Params):\n",
    "    (NUM_EPOCHS, NUM_DATASETS, S, B, CUDA, device, path) = Train_Params\n",
    "    SubTrain_Params = (device, S, B) + Model_Params\n",
    "    ##(N, K, D, mcmc_size) = Model_Params\n",
    "    indices = torch.randperm(NUM_DATASETS)\n",
    "    batch_indices = indices[0*B : (0+1)*B]\n",
    "    obs = Data[batch_indices]\n",
    "    obs = shuffler(obs).repeat(S, 1, 1, 1)\n",
    "    if CUDA:\n",
    "        obs =obs.cuda().to(device)\n",
    "    loss, metric_step, reused = objective(models, obs, SubTrain_Params)\n",
    "    return obs, metric_step, reused"
   ]
  },
  {
   "cell_type": "code",
   "execution_count": null,
   "metadata": {},
   "outputs": [],
   "source": [
    "BATCH_SIZE_TEST = 50\n",
    "Train_Params_Test = (NUM_EPOCHS, NUM_DATASETS, SAMPLE_SIZE, BATCH_SIZE_TEST, CUDA, DEVICE, PATH)\n",
    "obs, metric_step, reused = test(models, EP, Data, Model_Params, Train_Params_Test)\n",
    "(q_eta, _, q_z, _, _, _) = reused"
   ]
  },
  {
   "cell_type": "code",
   "execution_count": null,
   "metadata": {},
   "outputs": [],
   "source": [
    "%time plot_samples(obs, q_eta, q_z, PATH)"
   ]
  },
  {
   "cell_type": "code",
   "execution_count": null,
   "metadata": {},
   "outputs": [],
   "source": [
    "incremental_gap = symkl_test.cpu().data.numpy()[1:]\n",
    "M = incremental_gap.shape[0]\n",
    "overall_gap = np.zeros(M)\n",
    "for m in range(M):\n",
    "    overall_gap[m] = incremental_gap[:m+1].sum()"
   ]
  },
  {
   "cell_type": "code",
   "execution_count": null,
   "metadata": {},
   "outputs": [],
   "source": [
    "fig = plt.figure(figsize=(12,6))\n",
    "ax = fig.add_subplot(111)\n",
    "plt.yscale(\"log\")\n",
    "ax.plot(incremental_gap, label=\"incremental gap\")\n",
    "ax.plot(overall_gap, label='overall gap')\n",
    "ax.legend(fontsize=14)\n",
    "ax.set_xlabel('Steps')"
   ]
  },
  {
   "cell_type": "code",
   "execution_count": null,
   "metadata": {},
   "outputs": [],
   "source": [
    "incremental_gap"
   ]
  },
  {
   "cell_type": "code",
   "execution_count": null,
   "metadata": {},
   "outputs": [],
   "source": []
  },
  {
   "cell_type": "code",
   "execution_count": null,
   "metadata": {},
   "outputs": [],
   "source": []
  },
  {
   "cell_type": "code",
   "execution_count": null,
   "metadata": {},
   "outputs": [],
   "source": []
  }
 ],
 "metadata": {
  "kernelspec": {
   "display_name": "Python 3",
   "language": "python",
   "name": "python3"
  },
  "language_info": {
   "codemirror_mode": {
    "name": "ipython",
    "version": 3
   },
   "file_extension": ".py",
   "mimetype": "text/x-python",
   "name": "python",
   "nbconvert_exporter": "python",
   "pygments_lexer": "ipython3",
   "version": "3.7.3"
  }
 },
 "nbformat": 4,
 "nbformat_minor": 2
}
