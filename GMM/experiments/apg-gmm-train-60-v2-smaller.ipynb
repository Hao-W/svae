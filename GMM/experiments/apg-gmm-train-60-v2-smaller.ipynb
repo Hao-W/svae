{
 "cells": [
  {
   "cell_type": "code",
   "execution_count": 1,
   "metadata": {},
   "outputs": [
    {
     "name": "stdout",
     "output_type": "stream",
     "text": [
      "probtorch: 0.0+5a2c637 torch: 1.0.0 cuda: True\n"
     ]
    }
   ],
   "source": [
    "%matplotlib inline\n",
    "%run ../../import_envs.py\n",
    "print('probtorch:', probtorch.__version__, \n",
    "      'torch:', torch.__version__, \n",
    "      'cuda:', torch.cuda.is_available())"
   ]
  },
  {
   "cell_type": "code",
   "execution_count": 2,
   "metadata": {},
   "outputs": [],
   "source": [
    "## Load dataset\n",
    "N = 60\n",
    "data_path = data_dir + \"/gmm/gmm_%d\" % N\n",
    "Data = []\n",
    "# for i in range(10):\n",
    "data = torch.from_numpy(np.load(data_path + '/obs_%d.npy' % N)).float()\n",
    "Data.append(data)\n",
    "## Hyper Parameters\n",
    "MCMC_STEPS = 10\n",
    "## Train Parameters\n",
    "NUM_EPOCHS = 500\n",
    "K = 3 \n",
    "D = 2\n",
    "SAMPLE_SIZE = 10\n",
    "BATCH_SIZE = 20\n",
    "CUDA = torch.cuda.is_available()\n",
    "DEVICE = torch.device('cuda:1')\n",
    "PATH = 'apg-v2-smaller-%dpts-%dsamples' % (N, SAMPLE_SIZE)\n",
    "Train_Params = (NUM_EPOCHS, K, D, SAMPLE_SIZE, BATCH_SIZE, CUDA, DEVICE, PATH) \n",
    "## Model Parameters\n",
    "NUM_HIDDEN_GLOBAL = 8\n",
    "NUM_HIDDEN_LOCAL = 32\n",
    "LEARNING_RATE =  1e-4"
   ]
  },
  {
   "cell_type": "code",
   "execution_count": 3,
   "metadata": {},
   "outputs": [],
   "source": [
    "from local_enc import *\n",
    "from global_oneshot_v2 import *\n",
    "from global_enc_v2 import *\n",
    "import torch\n",
    "\n",
    "def Init_models(K, D, num_hidden_global, num_hidden_local, CUDA, device, lr, RESTORE=False, PATH=None):\n",
    "    # initialization\n",
    "    os_eta = Oneshot_eta(K, D, num_hidden_global, CUDA, device)\n",
    "\n",
    "    f_z = Enc_z(K, D, num_hidden_local, CUDA, device)\n",
    "    f_eta = Enc_eta(K, D, num_hidden_global, CUDA, device)\n",
    "\n",
    "    b_z = Enc_z(K, D, num_hidden_local, CUDA, device)\n",
    "    b_eta = Enc_eta(K, D, num_hidden_global, CUDA, device)\n",
    "\n",
    "    if CUDA:\n",
    "        with torch.cuda.device(device):\n",
    "            os_eta.cuda()\n",
    "            f_z.cuda()\n",
    "            f_eta.cuda()\n",
    "            b_z.cuda()\n",
    "            b_eta.cuda()\n",
    "    if RESTORE:\n",
    "        os_eta.load_state_dict(torch.load(\"../weights/os-eta-%s\" % PATH))\n",
    "        f_z.load_state_dict(torch.load(\"../weights/f-z-%s\" % PATH))\n",
    "        f_eta.load_state_dict(torch.load(\"../weights/f-eta-%s\" % PATH))\n",
    "        b_z.load_state_dict(torch.load(\"../weights/b-z-%s\" % PATH))\n",
    "        b_eta.load_state_dict(torch.load(\"../weights/b-eta-%s\" % PATH))\n",
    "    # optimizer =  torch.optim.Adam(list(os_eta.parameters())+list(f_z.parameters())+list(f_eta.parameters()),lr=lr, betas=(0.9, 0.99))\n",
    "    optimizer =  torch.optim.Adam(list(os_eta.parameters())+list(f_z.parameters())+list(f_eta.parameters())+list(b_z.parameters())+list(b_eta.parameters()),lr=lr, betas=(0.9, 0.99))\n",
    "    return (os_eta, f_z, f_eta, b_z, b_eta), optimizer\n",
    "\n",
    "def Save_models(models, path):\n",
    "    (os_eta, f_z, f_eta, b_z, b_eta) = models\n",
    "    torch.save(os_eta.state_dict(), \"../weights/os-eta-%s\" % path)\n",
    "    torch.save(f_z.state_dict(), \"../weights/f-z-%s\" % path)\n",
    "    torch.save(f_eta.state_dict(), \"../weights/f-eta-%s\" % path)\n",
    "    \n",
    "    torch.save(b_z.state_dict(), \"../weights/b-z-%s\" % path)"
   ]
  },
  {
   "cell_type": "code",
   "execution_count": 4,
   "metadata": {},
   "outputs": [],
   "source": [
    "models, optimizer = Init_models(K, D, NUM_HIDDEN_GLOBAL, NUM_HIDDEN_LOCAL, CUDA, DEVICE, LEARNING_RATE, RESTORE=False, PATH=None)"
   ]
  },
  {
   "cell_type": "code",
   "execution_count": null,
   "metadata": {},
   "outputs": [
    {
     "name": "stdout",
     "output_type": "stream",
     "text": [
      "epoch=0\\500, data order=tensor([0])\n"
     ]
    }
   ],
   "source": [
    "from apg import APG\n",
    "train(models, APG, optimizer, Data, MCMC_STEPS, Train_Params)"
   ]
  },
  {
   "cell_type": "code",
   "execution_count": null,
   "metadata": {},
   "outputs": [],
   "source": [
    "Save_models(models, PATH)"
   ]
  },
  {
   "cell_type": "code",
   "execution_count": null,
   "metadata": {},
   "outputs": [],
   "source": []
  }
 ],
 "metadata": {
  "kernelspec": {
   "display_name": "Python 3",
   "language": "python",
   "name": "python3"
  },
  "language_info": {
   "codemirror_mode": {
    "name": "ipython",
    "version": 3
   },
   "file_extension": ".py",
   "mimetype": "text/x-python",
   "name": "python",
   "nbconvert_exporter": "python",
   "pygments_lexer": "ipython3",
   "version": "3.6.7"
  }
 },
 "nbformat": 4,
 "nbformat_minor": 2
}
