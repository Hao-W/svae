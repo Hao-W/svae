{
 "cells": [
  {
   "cell_type": "code",
   "execution_count": 1,
   "metadata": {},
   "outputs": [
    {
     "name": "stdout",
     "output_type": "stream",
     "text": [
      "probtorch: 0.0+5a2c637 torch: 0.4.1 cuda: True\n"
     ]
    }
   ],
   "source": [
    "%matplotlib inline\n",
    "%run ../../import_envs.py\n",
    "print('probtorch:', probtorch.__version__, \n",
    "      'torch:', torch.__version__, \n",
    "      'cuda:', torch.cuda.is_available())"
   ]
  },
  {
   "cell_type": "code",
   "execution_count": 2,
   "metadata": {},
   "outputs": [],
   "source": [
    "## Load dataset\n",
    "data_path = \"../gmm_dataset_c20k\"\n",
    "Data = torch.from_numpy(np.load(data_path + '/obs.npy')).float()\n",
    "\n",
    "NUM_DATASETS, N, D = Data.shape\n",
    "K = 3 ## number of clusters\n",
    "SAMPLE_SIZE = 10\n",
    "NUM_HIDDEN_LOCAL = 32\n",
    "\n",
    "MCMC_SIZE = 10\n",
    "BATCH_SIZE = 20\n",
    "NUM_EPOCHS = 250\n",
    "LEARNING_RATE = 5 * 1e-4\n",
    "CUDA = torch.cuda.is_available()\n",
    "PATH = 'soft-os-wsym'\n",
    "DEVICE = torch.device('cuda:1')\n",
    "\n",
    "Train_Params = (NUM_EPOCHS, NUM_DATASETS, SAMPLE_SIZE, BATCH_SIZE, CUDA, DEVICE, PATH)\n",
    "Model_Params = (N, K, D, MCMC_SIZE)"
   ]
  },
  {
   "cell_type": "code",
   "execution_count": 3,
   "metadata": {},
   "outputs": [],
   "source": [
    "from local_enc import *\n",
    "from global_oneshot import *\n",
    "from global_enc_v1 import *\n",
    "## if reparameterize continuous variables\n",
    "Reparameterized = False\n",
    "# initialization\n",
    "enc_z = Enc_z(K, D, NUM_HIDDEN_LOCAL, CUDA, DEVICE)\n",
    "enc_eta = Enc_eta(K, D, CUDA, DEVICE, Reparameterized)\n",
    "oneshot_eta = Oneshot_eta(K, D, CUDA, DEVICE, Reparameterized)\n",
    "\n",
    "if CUDA:\n",
    "    enc_z.cuda().to(DEVICE)\n",
    "    enc_eta.cuda().to(DEVICE)\n",
    "    oneshot_eta.cuda().to(DEVICE)\n",
    "optimizer =  torch.optim.Adam(list(oneshot_eta.parameters())+list(enc_eta.parameters())+list(enc_z.parameters()),lr=LEARNING_RATE, betas=(0.9, 0.99))\n",
    "models = (oneshot_eta, enc_eta, enc_z)"
   ]
  },
  {
   "cell_type": "code",
   "execution_count": null,
   "metadata": {},
   "outputs": [
    {
     "name": "stdout",
     "output_type": "stream",
     "text": [
      "epoch: 0\\250 (140s),  symKL_DB_eta: 117.862,  symKL_DB_z: 135.843,  loss: -844.786,  ess: 3.887,  kl_eta_ex: 300.483,  kl_eta_in: 85.927,  kl_z_ex: 83.052,  kl_z_in: 18.699\n",
      "epoch: 1\\250 (145s),  symKL_DB_eta: 18.282,  symKL_DB_z: 26.771,  loss: -505.964,  ess: 5.485,  kl_eta_ex: 28.929,  kl_eta_in: 35.341,  kl_z_ex: 13.274,  kl_z_in: 3.802\n",
      "epoch: 2\\250 (151s),  symKL_DB_eta: 10.588,  symKL_DB_z: 12.184,  loss: -465.782,  ess: 6.200,  kl_eta_ex: 12.607,  kl_eta_in: 23.974,  kl_z_ex: 5.076,  kl_z_in: 1.738\n",
      "epoch: 3\\250 (151s),  symKL_DB_eta: 7.235,  symKL_DB_z: 7.255,  loss: -451.896,  ess: 6.791,  kl_eta_ex: 7.077,  kl_eta_in: 15.192,  kl_z_ex: 2.708,  kl_z_in: 1.036\n",
      "epoch: 4\\250 (148s),  symKL_DB_eta: 5.109,  symKL_DB_z: 4.036,  loss: -443.582,  ess: 7.334,  kl_eta_ex: 3.032,  kl_eta_in: 5.637,  kl_z_ex: 1.353,  kl_z_in: 0.557\n",
      "epoch: 5\\250 (138s),  symKL_DB_eta: 3.786,  symKL_DB_z: 2.807,  loss: -440.788,  ess: 7.774,  kl_eta_ex: 1.072,  kl_eta_in: 1.681,  kl_z_ex: 0.811,  kl_z_in: 0.353\n",
      "epoch: 6\\250 (138s),  symKL_DB_eta: 2.887,  symKL_DB_z: 2.256,  loss: -440.363,  ess: 8.089,  kl_eta_ex: 0.337,  kl_eta_in: 0.490,  kl_z_ex: 0.609,  kl_z_in: 0.275\n",
      "epoch: 7\\250 (145s),  symKL_DB_eta: 2.489,  symKL_DB_z: 1.911,  loss: -440.417,  ess: 8.265,  kl_eta_ex: 0.109,  kl_eta_in: 0.118,  kl_z_ex: 0.496,  kl_z_in: 0.232\n",
      "epoch: 8\\250 (149s),  symKL_DB_eta: 2.270,  symKL_DB_z: 1.830,  loss: -440.568,  ess: 8.347,  kl_eta_ex: 0.039,  kl_eta_in: 0.038,  kl_z_ex: 0.431,  kl_z_in: 0.204\n",
      "epoch: 9\\250 (142s),  symKL_DB_eta: 2.189,  symKL_DB_z: 1.611,  loss: -440.755,  ess: 8.382,  kl_eta_ex: 0.027,  kl_eta_in: 0.020,  kl_z_ex: 0.391,  kl_z_in: 0.180\n",
      "epoch: 10\\250 (141s),  symKL_DB_eta: 2.143,  symKL_DB_z: 1.491,  loss: -440.783,  ess: 8.410,  kl_eta_ex: 0.022,  kl_eta_in: 0.017,  kl_z_ex: 0.359,  kl_z_in: 0.159\n",
      "epoch: 11\\250 (153s),  symKL_DB_eta: 2.139,  symKL_DB_z: 1.419,  loss: -440.720,  ess: 8.424,  kl_eta_ex: 0.018,  kl_eta_in: 0.015,  kl_z_ex: 0.334,  kl_z_in: 0.140\n",
      "epoch: 12\\250 (152s),  symKL_DB_eta: 2.144,  symKL_DB_z: 1.354,  loss: -441.012,  ess: 8.423,  kl_eta_ex: 0.017,  kl_eta_in: 0.014,  kl_z_ex: 0.307,  kl_z_in: 0.125\n",
      "epoch: 13\\250 (154s),  symKL_DB_eta: 2.132,  symKL_DB_z: 1.218,  loss: -440.760,  ess: 8.428,  kl_eta_ex: 0.017,  kl_eta_in: 0.015,  kl_z_ex: 0.277,  kl_z_in: 0.114\n",
      "epoch: 14\\250 (152s),  symKL_DB_eta: 2.119,  symKL_DB_z: 1.121,  loss: -440.872,  ess: 8.436,  kl_eta_ex: 0.017,  kl_eta_in: 0.015,  kl_z_ex: 0.250,  kl_z_in: 0.102\n",
      "epoch: 15\\250 (154s),  symKL_DB_eta: 2.104,  symKL_DB_z: 1.110,  loss: -440.881,  ess: 8.435,  kl_eta_ex: 0.018,  kl_eta_in: 0.015,  kl_z_ex: 0.237,  kl_z_in: 0.097\n",
      "epoch: 16\\250 (153s),  symKL_DB_eta: 2.074,  symKL_DB_z: 1.032,  loss: -440.817,  ess: 8.447,  kl_eta_ex: 0.017,  kl_eta_in: 0.014,  kl_z_ex: 0.217,  kl_z_in: 0.092\n",
      "epoch: 17\\250 (139s),  symKL_DB_eta: 2.113,  symKL_DB_z: 1.024,  loss: -440.999,  ess: 8.439,  kl_eta_ex: 0.018,  kl_eta_in: 0.015,  kl_z_ex: 0.204,  kl_z_in: 0.086\n",
      "epoch: 18\\250 (139s),  symKL_DB_eta: 2.141,  symKL_DB_z: 0.956,  loss: -440.857,  ess: 8.441,  kl_eta_ex: 0.017,  kl_eta_in: 0.014,  kl_z_ex: 0.196,  kl_z_in: 0.085\n",
      "epoch: 19\\250 (144s),  symKL_DB_eta: 2.109,  symKL_DB_z: 0.904,  loss: -440.804,  ess: 8.443,  kl_eta_ex: 0.017,  kl_eta_in: 0.014,  kl_z_ex: 0.188,  kl_z_in: 0.081\n",
      "epoch: 20\\250 (151s),  symKL_DB_eta: 2.093,  symKL_DB_z: 0.896,  loss: -440.913,  ess: 8.445,  kl_eta_ex: 0.018,  kl_eta_in: 0.015,  kl_z_ex: 0.179,  kl_z_in: 0.079\n",
      "epoch: 21\\250 (150s),  symKL_DB_eta: 2.124,  symKL_DB_z: 0.812,  loss: -440.970,  ess: 8.449,  kl_eta_ex: 0.017,  kl_eta_in: 0.015,  kl_z_ex: 0.169,  kl_z_in: 0.075\n",
      "epoch: 22\\250 (151s),  symKL_DB_eta: 2.111,  symKL_DB_z: 0.851,  loss: -441.015,  ess: 8.442,  kl_eta_ex: 0.018,  kl_eta_in: 0.015,  kl_z_ex: 0.166,  kl_z_in: 0.073\n",
      "epoch: 23\\250 (151s),  symKL_DB_eta: 2.135,  symKL_DB_z: 0.858,  loss: -441.106,  ess: 8.445,  kl_eta_ex: 0.017,  kl_eta_in: 0.015,  kl_z_ex: 0.160,  kl_z_in: 0.072\n",
      "epoch: 24\\250 (152s),  symKL_DB_eta: 2.120,  symKL_DB_z: 0.813,  loss: -441.017,  ess: 8.446,  kl_eta_ex: 0.017,  kl_eta_in: 0.014,  kl_z_ex: 0.154,  kl_z_in: 0.069\n"
     ]
    }
   ],
   "source": [
    "from ag_ep import *\n",
    "train(models, EUBO_init_eta, optimizer, Data, Model_Params, Train_Params)"
   ]
  },
  {
   "cell_type": "code",
   "execution_count": 5,
   "metadata": {},
   "outputs": [],
   "source": [
    "torch.save(enc_z.state_dict(), \"../weights/enc-z-%s\" % PATH)\n",
    "torch.save(enc_eta.state_dict(), \"../weights/enc-eta-%s\" % PATH)\n",
    "torch.save(oneshot_eta.state_dict(), \"../weights/oneshot-eta-%s\" % PATH)"
   ]
  },
  {
   "cell_type": "code",
   "execution_count": null,
   "metadata": {},
   "outputs": [],
   "source": []
  },
  {
   "cell_type": "code",
   "execution_count": null,
   "metadata": {},
   "outputs": [],
   "source": []
  }
 ],
 "metadata": {
  "kernelspec": {
   "display_name": "Python 3",
   "language": "python",
   "name": "python3"
  },
  "language_info": {
   "codemirror_mode": {
    "name": "ipython",
    "version": 3
   },
   "file_extension": ".py",
   "mimetype": "text/x-python",
   "name": "python",
   "nbconvert_exporter": "python",
   "pygments_lexer": "ipython3",
   "version": "3.6.6"
  }
 },
 "nbformat": 4,
 "nbformat_minor": 2
}
