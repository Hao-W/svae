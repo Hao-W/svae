{
 "cells": [
  {
   "cell_type": "code",
   "execution_count": 1,
   "metadata": {},
   "outputs": [
    {
     "name": "stdout",
     "output_type": "stream",
     "text": [
      "probtorch: 0.0+5a2c637 torch: 0.4.1 cuda: True\n"
     ]
    }
   ],
   "source": [
    "%matplotlib inline\n",
    "%run ../../import_envs.py\n",
    "print('probtorch:', probtorch.__version__, \n",
    "      'torch:', torch.__version__, \n",
    "      'cuda:', torch.cuda.is_available())"
   ]
  },
  {
   "cell_type": "code",
   "execution_count": 2,
   "metadata": {},
   "outputs": [],
   "source": [
    "## Load dataset\n",
    "data_path = \"../gmm_dataset_c20k\"\n",
    "Data = torch.from_numpy(np.load(data_path + '/obs.npy')).float()\n",
    "\n",
    "NUM_DATASETS, N, D = Data.shape\n",
    "K = 3 ## number of clusters\n",
    "SAMPLE_SIZE = 10\n",
    "NUM_HIDDEN_LOCAL = 32\n",
    "\n",
    "MCMC_SIZE = 10\n",
    "BATCH_SIZE = 20\n",
    "NUM_EPOCHS = 350\n",
    "LEARNING_RATE = 1e-4\n",
    "CUDA = torch.cuda.is_available()\n",
    "PATH = 'AG-only-stats-prior-%dsteps-%dsamples' % (MCMC_SIZE, SAMPLE_SIZE)\n",
    "DEVICE = torch.device('cuda:1')\n",
    "\n",
    "Train_Params = (NUM_EPOCHS, NUM_DATASETS, SAMPLE_SIZE, BATCH_SIZE, CUDA, DEVICE, PATH)\n",
    "Model_Params = (N, K, D, MCMC_SIZE)"
   ]
  },
  {
   "cell_type": "code",
   "execution_count": 3,
   "metadata": {},
   "outputs": [],
   "source": [
    "from local_enc import *\n",
    "from global_enc import *\n",
    "## if reparameterize continuous variables\n",
    "Reparameterized = False\n",
    "# initialization\n",
    "enc_z = Enc_z(K, D, NUM_HIDDEN_LOCAL, CUDA, DEVICE)\n",
    "enc_eta = Enc_eta(K, D, CUDA, DEVICE, Reparameterized)\n",
    "if CUDA:\n",
    "    enc_z.cuda().to(DEVICE)\n",
    "    enc_eta.cuda().to(DEVICE)\n",
    "optimizer =  torch.optim.Adam(list(enc_eta.parameters())+list(enc_z.parameters()),lr=LEARNING_RATE, betas=(0.9, 0.99))\n",
    "models = (enc_eta, enc_z)"
   ]
  },
  {
   "cell_type": "code",
   "execution_count": null,
   "metadata": {},
   "outputs": [
    {
     "name": "stdout",
     "output_type": "stream",
     "text": [
      "epoch: 0\\350 (152s),  symKL_DB_eta: 308.354,  symKL_DB_z: 433.543,  loss: -1252.872,  ess: 3.005,  kl_eta_ex: 891.020,  kl_eta_in: 150.277,  kl_z_ex: 303.076,  kl_z_in: 37.317\n",
      "epoch: 1\\350 (151s),  symKL_DB_eta: 209.135,  symKL_DB_z: 247.950,  loss: -989.160,  ess: 3.354,  kl_eta_ex: 527.947,  kl_eta_in: 130.426,  kl_z_ex: 163.052,  kl_z_in: 27.892\n",
      "epoch: 2\\350 (150s),  symKL_DB_eta: 149.661,  symKL_DB_z: 149.874,  loss: -858.273,  ess: 3.670,  kl_eta_ex: 338.887,  kl_eta_in: 120.987,  kl_z_ex: 90.196,  kl_z_in: 20.998\n",
      "epoch: 3\\350 (146s),  symKL_DB_eta: 110.861,  symKL_DB_z: 100.895,  loss: -781.330,  ess: 3.969,  kl_eta_ex: 237.975,  kl_eta_in: 120.578,  kl_z_ex: 55.606,  kl_z_in: 16.084\n",
      "epoch: 4\\350 (151s),  symKL_DB_eta: 87.755,  symKL_DB_z: 74.379,  loss: -732.990,  ess: 4.239,  kl_eta_ex: 183.393,  kl_eta_in: 131.037,  kl_z_ex: 38.556,  kl_z_in: 12.692\n",
      "epoch: 5\\350 (151s),  symKL_DB_eta: 75.029,  symKL_DB_z: 60.644,  loss: -704.494,  ess: 4.438,  kl_eta_ex: 155.413,  kl_eta_in: 151.404,  kl_z_ex: 30.286,  kl_z_in: 10.661\n",
      "epoch: 6\\350 (152s),  symKL_DB_eta: 67.445,  symKL_DB_z: 52.988,  loss: -688.170,  ess: 4.558,  kl_eta_ex: 141.564,  kl_eta_in: 176.609,  kl_z_ex: 26.229,  kl_z_in: 9.563\n",
      "epoch: 7\\350 (151s),  symKL_DB_eta: 63.231,  symKL_DB_z: 49.292,  loss: -678.446,  ess: 4.624,  kl_eta_ex: 134.344,  kl_eta_in: 201.703,  kl_z_ex: 23.956,  kl_z_in: 8.887\n",
      "epoch: 8\\350 (148s),  symKL_DB_eta: 60.953,  symKL_DB_z: 45.925,  loss: -673.212,  ess: 4.676,  kl_eta_ex: 130.133,  kl_eta_in: 220.821,  kl_z_ex: 22.324,  kl_z_in: 8.440\n",
      "epoch: 9\\350 (146s),  symKL_DB_eta: 58.968,  symKL_DB_z: 43.414,  loss: -667.681,  ess: 4.715,  kl_eta_ex: 126.857,  kl_eta_in: 235.537,  kl_z_ex: 21.240,  kl_z_in: 8.104\n"
     ]
    }
   ],
   "source": [
    "from ag_ep import *\n",
    "\n",
    "train_prior(models, EUBO_init_eta_prior, optimizer, Data, Model_Params, Train_Params)"
   ]
  },
  {
   "cell_type": "code",
   "execution_count": null,
   "metadata": {},
   "outputs": [],
   "source": [
    "torch.save(enc_z.state_dict(), \"../weights/enc-z-%s\" % PATH)\n",
    "torch.save(enc_eta.state_dict(), \"../weights/enc-eta-%s\" % PATH)\n",
    "torch.save(oneshot_eta.state_dict(), \"../weights/oneshot-eta-%s\" % PATH)"
   ]
  },
  {
   "cell_type": "code",
   "execution_count": null,
   "metadata": {},
   "outputs": [],
   "source": []
  },
  {
   "cell_type": "code",
   "execution_count": null,
   "metadata": {},
   "outputs": [],
   "source": []
  }
 ],
 "metadata": {
  "kernelspec": {
   "display_name": "Python 3",
   "language": "python",
   "name": "python3"
  },
  "language_info": {
   "codemirror_mode": {
    "name": "ipython",
    "version": 3
   },
   "file_extension": ".py",
   "mimetype": "text/x-python",
   "name": "python",
   "nbconvert_exporter": "python",
   "pygments_lexer": "ipython3",
   "version": "3.6.6"
  }
 },
 "nbformat": 4,
 "nbformat_minor": 2
}
