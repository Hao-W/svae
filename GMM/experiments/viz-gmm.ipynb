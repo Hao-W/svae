{
 "cells": [
  {
   "cell_type": "code",
   "execution_count": 1,
   "metadata": {},
   "outputs": [
    {
     "name": "stdout",
     "output_type": "stream",
     "text": [
      "probtorch: 0.0+5a2c637 torch: 1.0.0 cuda: True\n"
     ]
    }
   ],
   "source": [
    "%matplotlib inline\n",
    "%run ../../import_envs.py\n",
    "print('probtorch:', probtorch.__version__, \n",
    "      'torch:', torch.__version__, \n",
    "      'cuda:', torch.cuda.is_available())"
   ]
  },
  {
   "cell_type": "code",
   "execution_count": 2,
   "metadata": {},
   "outputs": [],
   "source": [
    "## Load dataset\n",
    "data_dir = '/home/hao/Research/apg_data'\n",
    "data_path = data_dir + \"/gmm/gmm_10size\"\n",
    "Data = []\n",
    "for i in range(10):\n",
    "    data = torch.from_numpy(np.load(data_path + '/obs_%d.npy' % ((i+1)*10))).float()\n",
    "    Data.append(data)\n",
    "K = 3 ## number of clusters\n",
    "D = 2\n",
    "NUM_HIDDEN_LOCAL = 32\n",
    "CUDA = torch.cuda.is_available()\n",
    "DEVICE = torch.device('cuda:1')\n",
    "\n",
    "PATH = 'apg-3run-60pts-10samples'\n",
    "# PATH = 'vae-60pts-10samples'\n",
    "# PATH = 'apg-sanity2-60pts-10samples'"
   ]
  },
  {
   "cell_type": "code",
   "execution_count": 3,
   "metadata": {},
   "outputs": [],
   "source": [
    "from model_operations import Init_models\n",
    "# from model_operations_vae import Init_models\n",
    "\n",
    "models, optimizer = Init_models(K, D, NUM_HIDDEN_LOCAL, CUDA, DEVICE, lr=1e-4, RESTORE=True, PATH=PATH)"
   ]
  },
  {
   "cell_type": "code",
   "execution_count": 4,
   "metadata": {},
   "outputs": [],
   "source": [
    "from testing import Eval\n",
    "from viz_mc import Viz_MC\n",
    "from apg import APG_test\n",
    "from vae import VAE_test\n",
    "\n",
    "BATCH_SIZE = 5\n",
    "Viz_INTERVAL = 4\n",
    "FS = 15\n",
    "TITLE_FS = 20\n",
    "OB_MS = 5.0\n",
    "MU_MARKER = 'X'\n",
    "MU_MS = 100\n",
    "OPACITY = 0.3\n",
    "BOUND = 12\n",
    "COLORS = ['#AA3377', '#EE7733', '#0077BB', '#009988']\n",
    "DATA_PTR = 73"
   ]
  },
  {
   "cell_type": "code",
   "execution_count": 5,
   "metadata": {},
   "outputs": [],
   "source": [
    "visualizer = Viz_MC(K, Viz_INTERVAL, FS, TITLE_FS, OB_MS, OPACITY, BOUND, COLORS)\n",
    "evaluator = Eval(models, K, D, BATCH_SIZE, CUDA, DEVICE)\n",
    "\n",
    "# Metrics_sample = evaluator.Test_uniform(APG_test, Data, DATA_PTR, mcmc_steps=12, sample_size=1)\n",
    "# visualizer.Plot_chains(Metrics_sample['data'], Metrics_sample['samples'], filename='gmm-samples-%d' % DATA_PTR)"
   ]
  },
  {
   "cell_type": "code",
   "execution_count": 6,
   "metadata": {},
   "outputs": [],
   "source": [
    "# L = 10\n",
    "# Metrics_converge = evaluator.Test_uniform(APG_test, Data, DATA_PTR, mcmc_steps=99, sample_size=L)\n",
    "# visualizer.Plot_metrics(Metrics_converge['log_joint'], Metrics_converge['ess'], sample_size=L, filename='gmm-metrics-LL-ESS-%d' % DATA_PTR)"
   ]
  },
  {
   "cell_type": "code",
   "execution_count": 7,
   "metadata": {},
   "outputs": [],
   "source": [
    "budgets = [[1000, 1], [500, 2], [200, 5], [100, 10], [10, 100], [5, 200]]\n",
    "\n",
    "LLs= []\n",
    "ESSs = []\n",
    "SSs = []\n",
    "for b in budgets:\n",
    "    samples = b[0]\n",
    "    steps = b[1] - 1\n",
    "    Metrics_converge = evaluator.Test_uniform(APG_test, Data, DATA_PTR, mcmc_steps=steps, sample_size=samples)\n",
    "    LLs.append(Metrics_converge['log_joint'])\n",
    "    ESSs.append(Metrics_converge['ess'])\n",
    "    SSs.append(samples)"
   ]
  },
  {
   "cell_type": "code",
   "execution_count": null,
   "metadata": {},
   "outputs": [],
   "source": []
  },
  {
   "cell_type": "code",
   "execution_count": 12,
   "metadata": {},
   "outputs": [
    {
     "data": {
      "text/plain": [
       "tensor([-136.9196, -129.4418,  -87.6638,  -86.2455,  -81.1786])"
      ]
     },
     "execution_count": 12,
     "metadata": {},
     "output_type": "execute_result"
    }
   ],
   "source": [
    "LLs[2][0]"
   ]
  },
  {
   "cell_type": "code",
   "execution_count": 30,
   "metadata": {},
   "outputs": [],
   "source": [
    "import matplotlib.gridspec as gridspec\n",
    "import matplotlib.pyplot as plt\n",
    "\n",
    "COLORS = ['#AA3377', '#EE7733', '#0077BB', '#009988', '#CCBB44','#BBBBBB']\n",
    "\n",
    "\n",
    "\n",
    "def Plot_metrics_v2(fs, LLs, ESSs, SSs, filename):\n",
    "    num_cols = len(LLs[0])\n",
    "    gs = gridspec.GridSpec(2, num_cols)\n",
    "    gs.update(left=0.05 , bottom=0.05, right=0.95, top=0.95, wspace=0.2, hspace=0.05)\n",
    "    fig = plt.figure(figsize=(fs, fs * 2 / num_cols))\n",
    "    plt.rc('axes',edgecolor='#eeeeee')\n",
    "    for col_ind in range(num_cols):\n",
    "#         ax1 = fig.add_subplot(gs[0, col_ind])\n",
    "#         ax2 = fig.add_subplot(gs[1, col_ind])\n",
    "        print('N=%d' % ((col_ind+1)*20))\n",
    "        for b, LL, in enumerate(LLs):\n",
    "            ESS = ESSs[b]\n",
    "            SS = SSs[b]\n",
    "            print(ESS[col_ind][-1] / SS)\n",
    "#             ax1.plot(LL[col_ind].data.numpy(), c=COLORS[b], marker='o')\n",
    "#             ax2.plot(ESS[col_ind].data.numpy() / SS, '--', c=COLORS[b], alpha=0.4)\n",
    "#     plt.savefig(filename + '.svg', dpi=300)\n",
    "#     plt.savefig(filename + '.pdf')"
   ]
  },
  {
   "cell_type": "code",
   "execution_count": 31,
   "metadata": {},
   "outputs": [
    {
     "name": "stdout",
     "output_type": "stream",
     "text": [
      "N=20\n",
      "tensor(0.0010)\n",
      "tensor(0.4938)\n",
      "tensor(0.7836)\n",
      "tensor(0.7571)\n",
      "tensor(0.9915)\n",
      "tensor(0.9908)\n",
      "N=40\n",
      "tensor(0.0030)\n",
      "tensor(0.6092)\n",
      "tensor(0.7646)\n",
      "tensor(0.9494)\n",
      "tensor(0.9886)\n",
      "tensor(0.9786)\n",
      "N=60\n",
      "tensor(0.0010)\n",
      "tensor(0.9631)\n",
      "tensor(0.7952)\n",
      "tensor(0.9790)\n",
      "tensor(0.9843)\n",
      "tensor(0.9965)\n",
      "N=80\n",
      "tensor(0.0010)\n",
      "tensor(0.8888)\n",
      "tensor(0.9239)\n",
      "tensor(0.9549)\n",
      "tensor(0.9841)\n",
      "tensor(0.9912)\n",
      "N=100\n",
      "tensor(0.0010)\n",
      "tensor(0.9815)\n",
      "tensor(0.8293)\n",
      "tensor(0.9715)\n",
      "tensor(0.9898)\n",
      "tensor(0.9825)\n"
     ]
    },
    {
     "data": {
      "text/plain": [
       "<Figure size 1440x576 with 0 Axes>"
      ]
     },
     "metadata": {},
     "output_type": "display_data"
    }
   ],
   "source": [
    "fs = 20\n",
    "Plot_metrics_v2(fs, LLs, ESSs, SSs, filename='test')"
   ]
  },
  {
   "cell_type": "code",
   "execution_count": null,
   "metadata": {},
   "outputs": [],
   "source": []
  }
 ],
 "metadata": {
  "kernelspec": {
   "display_name": "Python 3",
   "language": "python",
   "name": "python3"
  },
  "language_info": {
   "codemirror_mode": {
    "name": "ipython",
    "version": 3
   },
   "file_extension": ".py",
   "mimetype": "text/x-python",
   "name": "python",
   "nbconvert_exporter": "python",
   "pygments_lexer": "ipython3",
   "version": "3.6.7"
  }
 },
 "nbformat": 4,
 "nbformat_minor": 2
}
