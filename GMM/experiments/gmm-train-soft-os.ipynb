{
 "cells": [
  {
   "cell_type": "code",
   "execution_count": 1,
   "metadata": {},
   "outputs": [
    {
     "name": "stdout",
     "output_type": "stream",
     "text": [
      "probtorch: 0.0+5a2c637 torch: 1.1.0 cuda: True\n"
     ]
    }
   ],
   "source": [
    "%matplotlib inline\n",
    "%run ../../import_envs.py\n",
    "print('probtorch:', probtorch.__version__, \n",
    "      'torch:', torch.__version__, \n",
    "      'cuda:', torch.cuda.is_available())"
   ]
  },
  {
   "cell_type": "code",
   "execution_count": 2,
   "metadata": {},
   "outputs": [],
   "source": [
    "## Load dataset\n",
    "data_path = \"../gmm_dataset_c20k\"\n",
    "Data = torch.from_numpy(np.load(data_path + '/obs.npy')).float()\n",
    "\n",
    "NUM_DATASETS, N, D = Data.shape\n",
    "K = 3 ## number of clusters\n",
    "SAMPLE_SIZE = 10\n",
    "NUM_HIDDEN_LOCAL = 32\n",
    "\n",
    "MCMC_SIZE = 10\n",
    "BATCH_SIZE = 20\n",
    "NUM_EPOCHS = 250\n",
    "LEARNING_RATE = 1e-4\n",
    "CUDA = torch.cuda.is_available()\n",
    "PATH = 'soft-os-%dsteps-%dsamples' % (MCMC_SIZE, SAMPLE_SIZE)\n",
    "DEVICE = torch.device('cuda:1')\n",
    "\n",
    "Train_Params = (NUM_EPOCHS, NUM_DATASETS, SAMPLE_SIZE, BATCH_SIZE, CUDA, DEVICE, PATH)\n",
    "Model_Params = (N, K, D, MCMC_SIZE)"
   ]
  },
  {
   "cell_type": "code",
   "execution_count": 3,
   "metadata": {},
   "outputs": [],
   "source": [
    "from local_enc import *\n",
    "from global_oneshot import *\n",
    "from global_enc_v1 import *\n",
    "## if reparameterize continuous variables\n",
    "Reparameterized = False\n",
    "# initialization\n",
    "enc_z = Enc_z(K, D, NUM_HIDDEN_LOCAL, CUDA, DEVICE)\n",
    "enc_eta = Enc_eta(K, D, CUDA, DEVICE, Reparameterized)\n",
    "oneshot_eta = Oneshot_eta(K, D, CUDA, DEVICE, Reparameterized)\n",
    "\n",
    "if CUDA:\n",
    "    enc_z.cuda().to(DEVICE)\n",
    "    enc_eta.cuda().to(DEVICE)\n",
    "    oneshot_eta.cuda().to(DEVICE)\n",
    "optimizer =  torch.optim.Adam(list(oneshot_eta.parameters())+list(enc_eta.parameters())+list(enc_z.parameters()),lr=LEARNING_RATE, betas=(0.9, 0.99))\n",
    "models = (oneshot_eta, enc_eta, enc_z)"
   ]
  },
  {
   "cell_type": "code",
   "execution_count": null,
   "metadata": {},
   "outputs": [
    {
     "name": "stdout",
     "output_type": "stream",
     "text": [
      "epoch: 0\\250 (120s),  symKL_DB_eta: 231.073,  symKL_DB_z: 310.175,  loss: -1144.025,  ess: 3.140,  kl_eta_ex: 672.911,  kl_eta_in: 140.910,  kl_z_ex: 225.232,  kl_z_in: 34.264\n",
      "epoch: 1\\250 (120s),  symKL_DB_eta: 155.755,  symKL_DB_z: 171.267,  loss: -963.741,  ess: 3.578,  kl_eta_ex: 400.516,  kl_eta_in: 125.240,  kl_z_ex: 113.684,  kl_z_in: 23.747\n",
      "epoch: 2\\250 (120s),  symKL_DB_eta: 110.807,  symKL_DB_z: 104.837,  loss: -864.595,  ess: 3.956,  kl_eta_ex: 263.550,  kl_eta_in: 122.356,  kl_z_ex: 62.830,  kl_z_in: 17.042\n",
      "epoch: 3\\250 (121s),  symKL_DB_eta: 85.160,  symKL_DB_z: 71.494,  loss: -806.020,  ess: 4.270,  kl_eta_ex: 192.330,  kl_eta_in: 128.657,  kl_z_ex: 39.370,  kl_z_in: 12.757\n",
      "epoch: 4\\250 (121s),  symKL_DB_eta: 71.743,  symKL_DB_z: 54.909,  loss: -767.017,  ess: 4.510,  kl_eta_ex: 155.300,  kl_eta_in: 143.381,  kl_z_ex: 28.040,  kl_z_in: 10.012\n",
      "epoch: 5\\250 (120s),  symKL_DB_eta: 65.058,  symKL_DB_z: 45.868,  loss: -747.593,  ess: 4.673,  kl_eta_ex: 139.633,  kl_eta_in: 163.445,  kl_z_ex: 23.106,  kl_z_in: 8.571\n",
      "epoch: 6\\250 (120s),  symKL_DB_eta: 61.655,  symKL_DB_z: 42.684,  loss: -738.665,  ess: 4.732,  kl_eta_ex: 134.289,  kl_eta_in: 178.483,  kl_z_ex: 21.128,  kl_z_in: 8.008\n",
      "epoch: 7\\250 (119s),  symKL_DB_eta: 60.813,  symKL_DB_z: 41.005,  loss: -733.485,  ess: 4.751,  kl_eta_ex: 132.062,  kl_eta_in: 186.345,  kl_z_ex: 20.112,  kl_z_in: 7.734\n",
      "epoch: 8\\250 (119s),  symKL_DB_eta: 60.584,  symKL_DB_z: 39.884,  loss: -728.683,  ess: 4.767,  kl_eta_ex: 129.961,  kl_eta_in: 189.593,  kl_z_ex: 19.030,  kl_z_in: 7.495\n",
      "epoch: 9\\250 (120s),  symKL_DB_eta: 60.825,  symKL_DB_z: 38.912,  loss: -725.351,  ess: 4.786,  kl_eta_ex: 128.338,  kl_eta_in: 189.407,  kl_z_ex: 18.169,  kl_z_in: 7.231\n",
      "epoch: 10\\250 (120s),  symKL_DB_eta: 60.170,  symKL_DB_z: 37.745,  loss: -723.231,  ess: 4.799,  kl_eta_ex: 126.316,  kl_eta_in: 186.295,  kl_z_ex: 17.327,  kl_z_in: 6.965\n",
      "epoch: 11\\250 (120s),  symKL_DB_eta: 60.415,  symKL_DB_z: 36.746,  loss: -720.964,  ess: 4.822,  kl_eta_ex: 124.239,  kl_eta_in: 181.210,  kl_z_ex: 16.511,  kl_z_in: 6.672\n",
      "epoch: 12\\250 (120s),  symKL_DB_eta: 61.390,  symKL_DB_z: 35.846,  loss: -719.620,  ess: 4.838,  kl_eta_ex: 122.788,  kl_eta_in: 179.320,  kl_z_ex: 15.679,  kl_z_in: 6.389\n",
      "epoch: 13\\250 (120s),  symKL_DB_eta: 62.043,  symKL_DB_z: 34.693,  loss: -717.753,  ess: 4.854,  kl_eta_ex: 121.063,  kl_eta_in: 177.658,  kl_z_ex: 14.908,  kl_z_in: 6.115\n",
      "epoch: 14\\250 (119s),  symKL_DB_eta: 63.854,  symKL_DB_z: 35.019,  loss: -717.396,  ess: 4.865,  kl_eta_ex: 121.095,  kl_eta_in: 178.982,  kl_z_ex: 14.488,  kl_z_in: 5.945\n",
      "epoch: 15\\250 (120s),  symKL_DB_eta: 67.445,  symKL_DB_z: 35.521,  loss: -720.678,  ess: 4.866,  kl_eta_ex: 125.626,  kl_eta_in: 185.190,  kl_z_ex: 14.759,  kl_z_in: 5.862\n"
     ]
    }
   ],
   "source": [
    "from ag_ep import *\n",
    "train(models, EUBO_init_eta, optimizer, Data, Model_Params, Train_Params)"
   ]
  },
  {
   "cell_type": "code",
   "execution_count": null,
   "metadata": {},
   "outputs": [],
   "source": [
    "torch.save(enc_z.state_dict(), \"../weights/enc-z-%s\" % PATH)\n",
    "torch.save(enc_eta.state_dict(), \"../weights/enc-eta-%s\" % PATH)\n",
    "torch.save(oneshot_eta.state_dict(), \"../weights/oneshot-eta-%s\" % PATH)"
   ]
  },
  {
   "cell_type": "code",
   "execution_count": null,
   "metadata": {},
   "outputs": [],
   "source": []
  },
  {
   "cell_type": "code",
   "execution_count": null,
   "metadata": {},
   "outputs": [],
   "source": []
  }
 ],
 "metadata": {
  "kernelspec": {
   "display_name": "Python 3",
   "language": "python",
   "name": "python3"
  },
  "language_info": {
   "codemirror_mode": {
    "name": "ipython",
    "version": 3
   },
   "file_extension": ".py",
   "mimetype": "text/x-python",
   "name": "python",
   "nbconvert_exporter": "python",
   "pygments_lexer": "ipython3",
   "version": "3.7.3"
  }
 },
 "nbformat": 4,
 "nbformat_minor": 2
}
