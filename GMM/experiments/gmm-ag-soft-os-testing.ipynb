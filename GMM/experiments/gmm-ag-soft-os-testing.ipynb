{
 "cells": [
  {
   "cell_type": "code",
   "execution_count": 1,
   "metadata": {},
   "outputs": [
    {
     "name": "stdout",
     "output_type": "stream",
     "text": [
      "probtorch: 0.0+5a2c637 torch: 0.4.1 cuda: True\n"
     ]
    }
   ],
   "source": [
    "%matplotlib inline\n",
    "%run ../../import_envs.py\n",
    "print('probtorch:', probtorch.__version__, \n",
    "      'torch:', torch.__version__, \n",
    "      'cuda:', torch.cuda.is_available())"
   ]
  },
  {
   "cell_type": "code",
   "execution_count": 2,
   "metadata": {},
   "outputs": [],
   "source": [
    "## Load dataset\n",
    "data_path = \"../gmm_dataset_3c\"\n",
    "Data = torch.from_numpy(np.load(data_path + '/obs.npy')).float()\n",
    "\n",
    "NUM_DATASETS, N, D = Data.shape\n",
    "K = 3 ## number of clusters\n",
    "SAMPLE_SIZE = 10\n",
    "NUM_HIDDEN_LOCAL = 32\n",
    "\n",
    "MCMC_SIZE = 10\n",
    "BATCH_SIZE = 500\n",
    "NUM_EPOCHS = 250\n",
    "LEARNING_RATE = 5 * 1e-4\n",
    "CUDA = torch.cuda.is_available()\n",
    "PATH = '../neurips/ag-10runs/'\n",
    "DEVICE = torch.device('cuda:1')\n",
    "\n",
    "Train_Params = (NUM_DATASETS, SAMPLE_SIZE, BATCH_SIZE, CUDA, DEVICE, PATH)\n",
    "Model_Params = (N, K, D, MCMC_SIZE)"
   ]
  },
  {
   "cell_type": "code",
   "execution_count": 3,
   "metadata": {},
   "outputs": [],
   "source": [
    "from local_enc import *\n",
    "from global_oneshot import *\n",
    "from global_enc_v1 import *\n",
    "## if reparameterize continuous variables\n",
    "Reparameterized = False\n",
    "# initialization\n",
    "enc_z = Enc_z(K, D, NUM_HIDDEN_LOCAL, CUDA, DEVICE)\n",
    "enc_eta = Enc_eta(K, D, CUDA, DEVICE, Reparameterized)\n",
    "oneshot_eta = Oneshot_eta(K, D, CUDA, DEVICE, Reparameterized)\n",
    "\n",
    "if CUDA:\n",
    "    enc_z.cuda().to(DEVICE)\n",
    "    enc_eta.cuda().to(DEVICE)\n",
    "    oneshot_eta.cuda().to(DEVICE)\n",
    "optimizer =  torch.optim.Adam(list(oneshot_eta.parameters())+list(enc_eta.parameters())+list(enc_z.parameters()),lr=LEARNING_RATE, betas=(0.9, 0.99))\n",
    "models = (oneshot_eta, enc_eta, enc_z)"
   ]
  },
  {
   "cell_type": "code",
   "execution_count": 9,
   "metadata": {},
   "outputs": [
    {
     "name": "stdout",
     "output_type": "stream",
     "text": [
      "experiment : 0\n",
      "iteration:0/40\n",
      "experiment : 1\n",
      "iteration:0/40\n",
      "experiment : 2\n",
      "iteration:0/40\n",
      "experiment : 3\n",
      "iteration:0/40\n",
      "experiment : 4\n",
      "iteration:0/40\n",
      "experiment : 5\n",
      "iteration:0/40\n",
      "experiment : 6\n",
      "iteration:0/40\n",
      "experiment : 7\n",
      "iteration:0/40\n",
      "experiment : 8\n",
      "iteration:0/40\n",
      "experiment : 9\n",
      "iteration:0/40\n"
     ]
    }
   ],
   "source": [
    "logs = []\n",
    "for i in range(10):\n",
    "    print(\"experiment : %d\" % i)\n",
    "    enc_z = Enc_z(K, D, NUM_HIDDEN_LOCAL, CUDA, DEVICE)\n",
    "    enc_eta = Enc_eta(K, D, CUDA, DEVICE, Reparameterized)\n",
    "    oneshot_eta = Oneshot_eta(K, D, CUDA, DEVICE, Reparameterized)\n",
    "\n",
    "    if CUDA:\n",
    "        enc_z.cuda().to(DEVICE)\n",
    "        enc_eta.cuda().to(DEVICE)\n",
    "        oneshot_eta.cuda().to(DEVICE)\n",
    "    optimizer =  torch.optim.Adam(list(oneshot_eta.parameters())+list(enc_eta.parameters())+list(enc_z.parameters()),lr=LEARNING_RATE, betas=(0.9, 0.99))\n",
    "    models = (oneshot_eta, enc_eta, enc_z)\n",
    "    enc_z.load_state_dict(torch.load(PATH + \"enc-z-ag-10runs-%dround\" % i))\n",
    "    enc_eta.load_state_dict(torch.load(PATH + \"enc-eta-ag-10runs-%dround\" % i))\n",
    "    oneshot_eta.load_state_dict(torch.load(PATH + \"oneshot-eta-ag-10runs-%dround\" % i))\n",
    "    a = test(models, EUBO_init_eta_test, Data, Model_Params, Train_Params)\n",
    "    logs.append(a)"
   ]
  },
  {
   "cell_type": "code",
   "execution_count": 8,
   "metadata": {},
   "outputs": [],
   "source": [
    "def test(models, objective, data, Model_Params, Train_Params):\n",
    "    \"\"\"\n",
    "    generic training function\n",
    "    \"\"\"\n",
    "    Metrics = {\"DB_eta\" : [], \"DB_z\" : [], \"ess_eta\" : [], \"ess_z\": []}\n",
    "    (NUM_DATASETS, S, B, CUDA, device, path) = Train_Params\n",
    "\n",
    "    NUM_BATCHES = int((NUM_DATASETS / B))\n",
    "\n",
    "    SubTrain_Params = (device, S, B) + Model_Params\n",
    "    indices = torch.randperm(NUM_DATASETS)\n",
    "    time_start = time.time()\n",
    "    for step in range(NUM_BATCHES):\n",
    "        batch_indices = indices[step*B : (step+1)*B]\n",
    "        obs = data[batch_indices]\n",
    "        obs = shuffler(obs).repeat(S, 1, 1, 1)\n",
    "        if CUDA:\n",
    "            obs =obs.cuda().to(device)\n",
    "        metric_step = objective(models, obs, SubTrain_Params)\n",
    "        for key in Metrics.keys():\n",
    "            if Metrics[key] == None:\n",
    "                Metrics[key] = [metric_step[key].cpu().data.numpy()]\n",
    "            else:\n",
    "                Metrics[key].append(metric_step[key].cpu().data.numpy())\n",
    "\n",
    "        if step % 100 == 0:\n",
    "            time_end = time.time()\n",
    "            print('iteration:%d/%d' % (step, NUM_BATCHES))\n",
    "            time_start = time.time()\n",
    "    return Metrics"
   ]
  },
  {
   "cell_type": "code",
   "execution_count": 5,
   "metadata": {},
   "outputs": [],
   "source": [
    "def EUBO_init_eta_test(models, obs, SubTrain_Params):\n",
    "    \"\"\"\n",
    "    NO Resampling\n",
    "    Learn neural gibbs samplers for both eta and z,\n",
    "    non-reparameterized-style gradient estimation\n",
    "    initialize eta\n",
    "    \"\"\"\n",
    "    (device, sample_size, batch_size, N, K, D, mcmc_size) = SubTrain_Params\n",
    "    esss_eta = torch.zeros(mcmc_size+1).cuda().to(device)\n",
    "    esss_z = torch.zeros(mcmc_size+1).cuda().to(device)\n",
    "\n",
    "    DB_eta = torch.zeros(mcmc_size+1).cuda().to(device)\n",
    "    DB_z = torch.zeros(mcmc_size+1).cuda().to(device)\n",
    "    (oneshot_eta, enc_eta, enc_z) = models\n",
    "    model_os = (oneshot_eta, enc_z)\n",
    "    obs_tau, obs_mu, state, log_w_f_z, q_eta, p_eta, q_z, p_z = Init_step_eta(model_os, obs, N, K, D, sample_size, batch_size)\n",
    "    w_f_z = F.softmax(log_w_f_z, 0).detach()\n",
    "    DB_eta[0] = (w_f_z * log_w_f_z).sum(0).mean() - log_w_f_z.mean()\n",
    "    DB_z[0] = DB_eta[0] ##\n",
    "    esss_z[0] = (1. / (w_f_z**2).sum(0)).mean()\n",
    "    esss_eta[0] = esss_z[0]\n",
    "    for m in range(mcmc_size):\n",
    "#         if m == 0:\n",
    "#             state = resample_state(state, w_f_z, idw_flag=False) ## resample state\n",
    "#         else:\n",
    "#             state = resample_state(state, w_f_z, idw_flag=True)\n",
    "        q_eta, p_eta, q_nu = enc_eta(obs, state, K, D)\n",
    "        obs_tau, obs_mu, log_w_eta_f, log_w_eta_b  = Incremental_eta(q_eta, p_eta, obs, state, K, D, obs_tau, obs_mu)\n",
    "        symkl_detailed_balance_eta, eubo_p_q_eta, w_sym_eta, w_f_eta = detailed_balances(log_w_eta_f, log_w_eta_b)\n",
    "#         obs_mu, obs_tau = resample_eta(obs_mu, obs_tau, w_f_eta, idw_flag=True) ## resample eta\n",
    "        q_z, p_z = enc_z.forward(obs, obs_tau, obs_mu, N, K, sample_size, batch_size)\n",
    "        state, log_w_z_f, log_w_z_b = Incremental_z(q_z, p_z, obs, obs_tau, obs_mu, K, D, state)\n",
    "        symkl_detailed_balance_z, eubo_p_q_z, w_sym_z, w_f_z = detailed_balances(log_w_z_f, log_w_z_b)\n",
    "        ## symmetric KLs as metrics\n",
    "        DB_eta[m+1] = symkl_detailed_balance_eta\n",
    "        DB_z[m+1] = symkl_detailed_balance_z\n",
    "        esss_eta[m+1] = (1. / (w_sym_eta**2).sum(0)).mean()\n",
    "        esss_z[m+1] = (1. / (w_sym_z**2).sum(0)).mean()\n",
    "    metric_step = {\"DB_eta\" : DB_eta, \"DB_z\" : DB_z, \"ess_eta\" : esss_eta, \"ess_z\": esss_z}\n",
    "    return metric_step"
   ]
  },
  {
   "cell_type": "code",
   "execution_count": 10,
   "metadata": {},
   "outputs": [],
   "source": [
    "DB_etas = []\n",
    "DB_zs = []\n",
    "ESSs_eta = []\n",
    "ESSs_z = []\n",
    "for i in range(10):\n",
    "#     DB_etas.append(np.array(logs[i]['DB_eta']).mean(0))\n",
    "#     DB_zs.append(np.array(logs[i]['DB_z']).mean(0))\n",
    "    ESSs_eta.append(np.array(logs[i]['ess_eta']).mean(0))\n",
    "    ESSs_z.append(np.array(logs[i]['ess_z']).mean(0))"
   ]
  },
  {
   "cell_type": "code",
   "execution_count": 11,
   "metadata": {},
   "outputs": [],
   "source": [
    "np.save('test-10runs-ess_eta.npy', np.array(ESSs_eta))\n",
    "np.save('test-10runs-ess_z.npy', np.array(ESSs_z))\n",
    "\n",
    "# np.save('test-10runs-DB-eta.npy', np.array(DB_zs))\n",
    "# np.save('test-10runs-DB-z.npy', np.array(DB_etas))"
   ]
  },
  {
   "cell_type": "code",
   "execution_count": null,
   "metadata": {},
   "outputs": [],
   "source": []
  }
 ],
 "metadata": {
  "kernelspec": {
   "display_name": "Python 3",
   "language": "python",
   "name": "python3"
  },
  "language_info": {
   "codemirror_mode": {
    "name": "ipython",
    "version": 3
   },
   "file_extension": ".py",
   "mimetype": "text/x-python",
   "name": "python",
   "nbconvert_exporter": "python",
   "pygments_lexer": "ipython3",
   "version": "3.6.6"
  }
 },
 "nbformat": 4,
 "nbformat_minor": 2
}
