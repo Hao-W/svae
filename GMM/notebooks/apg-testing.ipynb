{
 "cells": [
  {
   "cell_type": "code",
   "execution_count": 1,
   "metadata": {},
   "outputs": [
    {
     "name": "stdout",
     "output_type": "stream",
     "text": [
      "probtorch: 0.0+5a2c637 torch: 1.3.0\n",
      "resampling:systematic, block:small, apg sweeps:4, epochs:200, sample size:20, batch size:20, learning rate:0.0005\n"
     ]
    }
   ],
   "source": [
    "%matplotlib inline\n",
    "%run ../../import_envs.py\n",
    "%run ../apg_hyperparams.py\n",
    "CUDA = torch.cuda.is_available()\n",
    "DEVICE = torch.device('cuda:1')"
   ]
  },
  {
   "cell_type": "code",
   "execution_count": 2,
   "metadata": {},
   "outputs": [],
   "source": [
    "# load test data\n",
    "test_sets = ['pts_100']\n",
    "\n",
    "DATAs = []\n",
    "for s in test_sets:\n",
    "    data = torch.from_numpy(np.load(DATA_DIR + 'gmm/test/' + s + '/' + 'ob.npy')).float() ## load testing datasets\n",
    "    DATAs.append(data)\n",
    "from apg_modeling import init_model\n",
    "model = init_model(model_params=model_params, \n",
    "                    CUDA=CUDA, \n",
    "                    DEVICE=DEVICE, \n",
    "                    LOAD_VERSION=LOAD_VERSION,\n",
    "                    LR=None)"
   ]
  },
  {
   "cell_type": "code",
   "execution_count": 3,
   "metadata": {},
   "outputs": [],
   "source": [
    "%run ../apg_testing.py\n",
    "SAMPLE_SIZE_TEST = 1\n",
    "APG_SWEEPS_TEST = 12\n",
    "DATA_PTR = 9\n",
    "SAVE_NAME = 'samples-%d' % DATA_PTR\n",
    "\n",
    "selected_data = sample_data_uniform(DATAs=DATAs, \n",
    "                                    data_ptr=DATA_PTR)\n",
    "metrics = test_single(model=model, \n",
    "                      block=BLOCK_STRATEGY,\n",
    "                      apg_sweeps=APG_SWEEPS_TEST, \n",
    "                      datas=selected_data, \n",
    "                      sample_size=SAMPLE_SIZE_TEST, \n",
    "                      CUDA=CUDA, \n",
    "                      DEVICE=DEVICE)"
   ]
  },
  {
   "cell_type": "code",
   "execution_count": null,
   "metadata": {},
   "outputs": [],
   "source": [
    "from viz import viz_samples\n",
    "# viz_samples(datas=selected_data,\n",
    "#             metrics=metrics,\n",
    "#             apg_sweeps=APG_SWEEPS_TEST,\n",
    "#             K=K, \n",
    "#             viz_interval=3, \n",
    "#             figure_size=20, \n",
    "#             title_fontsize=20, \n",
    "#             marker_size=5.0, \n",
    "#             opacity=0.3, \n",
    "#             bound=25, \n",
    "#             colors=['#AA3377','#0077BB', '#EE7733', '#009988', '#BBBBBB', '#EE3377', '#DDCC77'],\n",
    "#             save_name=None)"
   ]
  },
  {
   "cell_type": "code",
   "execution_count": null,
   "metadata": {},
   "outputs": [],
   "source": [
    "BUDGET_SWEEPS = [1, 5, 10 , 20, 25]\n",
    "BUDGET_SAMPLES = [1000, 200, 100, 50, 40]\n",
    "%run ../apg_testing.py\n",
    "DATA_PTR = 5\n",
    "\n",
    "metrics = test_budget_grid(model=model,\n",
    "                            apg_sweeps=BUDGET_SWEEPS,\n",
    "                            batch_size=50,\n",
    "                            sample_sizes=BUDGET_SAMPLES,\n",
    "                            DATA=DATAs[0],\n",
    "                            K=K,\n",
    "                            CUDA=CUDA,\n",
    "                            DEVICE=DEVICE)"
   ]
  },
  {
   "cell_type": "code",
   "execution_count": null,
   "metadata": {},
   "outputs": [],
   "source": [
    "%run ../viz.py\n",
    "viz_metrics(metrics=metrics, \n",
    "            budget_sweeps=BUDGET_SWEEPS, \n",
    "            budget_samples=BUDGET_SAMPLES,\n",
    "            figure_size=8, \n",
    "            title_fontsize=20, \n",
    "            linewidth=3, \n",
    "            colors=['#AA3377', '#009988', '#EE7733', '#0077BB', '#BBBBBB', '#EE3377', '#DDCC77'])"
   ]
  },
  {
   "cell_type": "code",
   "execution_count": null,
   "metadata": {},
   "outputs": [],
   "source": []
  }
 ],
 "metadata": {
  "kernelspec": {
   "display_name": "Python 3",
   "language": "python",
   "name": "python3"
  },
  "language_info": {
   "codemirror_mode": {
    "name": "ipython",
    "version": 3
   },
   "file_extension": ".py",
   "mimetype": "text/x-python",
   "name": "python",
   "nbconvert_exporter": "python",
   "pygments_lexer": "ipython3",
   "version": "3.7.3"
  }
 },
 "nbformat": 4,
 "nbformat_minor": 4
}
