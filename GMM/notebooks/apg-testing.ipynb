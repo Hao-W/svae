{
 "cells": [
  {
   "cell_type": "code",
   "execution_count": null,
   "metadata": {},
   "outputs": [],
   "source": [
    "%matplotlib inline\n",
    "%run ../../import_envs.py\n",
    "%run ../apg_hyperparams.py\n",
    "\n",
    "CUDA = torch.cuda.is_available()\n",
    "DEVICE = torch.device('cuda:0')"
   ]
  },
  {
   "cell_type": "code",
   "execution_count": null,
   "metadata": {},
   "outputs": [],
   "source": [
    "# load test data\n",
    "test_sets = ['pts_20', 'pts_40', 'ptd_60', 'pts_80', 'pts_100']\n",
    "DATAs = []\n",
    "for s in test_sets:\n",
    "    data = torch.from_numpy(np.load(DATA_DIR + 'gmm/test/' + s + '/' + 'ob.npy')).float() ## load testing datasets\n",
    "    DATAs.append(data)\n",
    "## load the weights\n",
    "from apg_modeling import init_model\n",
    "model = init_model(model_params=model_params, \n",
    "                    CUDA=CUDA, \n",
    "                    DEVICE=DEVICE, \n",
    "                    LOAD_VERSION=LOAD_VERSION,\n",
    "                    LR=None)"
   ]
  },
  {
   "cell_type": "code",
   "execution_count": null,
   "metadata": {},
   "outputs": [],
   "source": [
    "## visualize samples\n",
    "from apg_testing import sample_data_uniform, test_single\n",
    "from apg_objective import apg_objective\n",
    "from viz import viz_samples\n",
    "\n",
    "APG_SWEEPS_TEST = 12\n",
    "DATA_PTR = 3\n",
    "SAVE_NAME = 'samples-%d' % DATA_PTR\n",
    "\n",
    "datas = sample_data_uniform(DATAs=DATAs, \n",
    "                            data_ptr=DATA_PTR)\n",
    "\n",
    "metrics = test_single(model=model, \n",
    "                      apg_objective=apg_objective, \n",
    "                      apg_sweeps=APG_SWEEPS_TEST, \n",
    "                      datas=datas, \n",
    "                      sample_size=1, \n",
    "                      CUDA=CUDA, \n",
    "                      DEVICE=DEVICE)\n",
    "\n",
    "viz_samples(datas=datas,\n",
    "            metrics=metrics,\n",
    "            apg_sweeps=APG_SWEEPS_TEST,\n",
    "            K=K, \n",
    "            viz_interval=3, \n",
    "            figure_size=15, \n",
    "            title_fontsize=20, \n",
    "            marker_size=5.0, \n",
    "            opacity=0.3, \n",
    "            bound=15, \n",
    "            colors=['#AA3377', '#EE7733', '#009988', '#0077BB', '#BBBBBB', '#EE3377', '#DDCC77'],\n",
    "            save_name=None)"
   ]
  },
  {
   "cell_type": "code",
   "execution_count": null,
   "metadata": {},
   "outputs": [],
   "source": [
    "## plot the ess and log joint\n",
    "APG_SWEEP_TEST = 30\n",
    "SAMPLE_SIZE_TEST = 100\n",
    "metrics = test_single(model=model, \n",
    "                      apg_objective=apg_objective, \n",
    "                      apg_sweeps=APG_SWEEP_TEST, \n",
    "                      datas=datas, \n",
    "                      sample_size=SAMPLE_SIZE_TEST, \n",
    "                      CUDA=CUDA, \n",
    "                      DEVICE=DEVICE)\n",
    "\n",
    "# viz_metrics(metrics, figure_size, title_fontsize, save_name=)"
   ]
  },
  {
   "cell_type": "code",
   "execution_count": null,
   "metadata": {},
   "outputs": [],
   "source": []
  }
 ],
 "metadata": {
  "kernelspec": {
   "display_name": "Python 3",
   "language": "python",
   "name": "python3"
  },
  "language_info": {
   "codemirror_mode": {
    "name": "ipython",
    "version": 3
   },
   "file_extension": ".py",
   "mimetype": "text/x-python",
   "name": "python",
   "nbconvert_exporter": "python",
   "pygments_lexer": "ipython3",
   "version": "3.7.3"
  }
 },
 "nbformat": 4,
 "nbformat_minor": 4
}
