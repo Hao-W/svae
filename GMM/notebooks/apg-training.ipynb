{
 "cells": [
  {
   "cell_type": "code",
   "execution_count": 1,
   "metadata": {},
   "outputs": [
    {
     "name": "stdout",
     "output_type": "stream",
     "text": [
      "probtorch: 0.0+5a2c637 torch: 1.3.0\n"
     ]
    }
   ],
   "source": [
    "%run ../../import_envs.py\n",
    "%run ../apg_hyperparams.py\n",
    "\n",
    "CUDA = torch.cuda.is_available()\n",
    "DEVICE = torch.device('cuda:1')"
   ]
  },
  {
   "cell_type": "code",
   "execution_count": 2,
   "metadata": {},
   "outputs": [],
   "source": [
    "DATA = torch.from_numpy(np.load(DATA_DIR + 'gmm/train/' + 'ob.npy')).float() ## load training datasets\n",
    "ASSIGNMENT = torch.from_numpy(np.load(DATA_DIR + 'gmm/train/' + 'assignment.npy')).float()"
   ]
  },
  {
   "cell_type": "code",
   "execution_count": null,
   "metadata": {},
   "outputs": [
    {
     "name": "stdout",
     "output_type": "stream",
     "text": [
      "apg sweeps:4, epochs:100, sample size:20\n"
     ]
    }
   ],
   "source": [
    "from apg_modeling import init_model\n",
    "from resample import Resampler\n",
    "\n",
    "%run ../apg_training_small.py\n",
    "\n",
    "budget = 100\n",
    "sweeps = [5]\n",
    "epochs = [100]\n",
    "\n",
    "\n",
    "sample_size = int(budget / sweeps[0])\n",
    "\n",
    "MODEL_VERSION = 'apg-small-%s-%dsweeps-%dsamples' % (RESAMPLING_STRATEGY, sweeps[0]-1, sample_size)\n",
    "\n",
    "model, optimizer = init_model(model_params=model_params, \n",
    "                              CUDA=CUDA, \n",
    "                              DEVICE=DEVICE, \n",
    "                              LOAD_VERSION=None, ## set to None if do not restore\n",
    "                              LR=LR)\n",
    "\n",
    "resampler = Resampler(strategy=RESAMPLING_STRATEGY,\n",
    "                      sample_size=sample_size,\n",
    "                      CUDA=CUDA, \n",
    "                      DEVICE=DEVICE)\n",
    "\n",
    "print('apg sweeps:%s, epochs:%s, sample size:%s' % (sweeps[0]-1, epochs[0], sample_size))\n",
    "train(optimizer=optimizer, \n",
    "      model=model, \n",
    "      resampler=resampler,\n",
    "      apg_sweeps=sweeps[0] - 1, \n",
    "      data=DATA, \n",
    "      true_z=ASSIGNMENT,\n",
    "      num_epochs=epochs[0], \n",
    "      sample_size=sample_size, \n",
    "      batch_size=BATCH_SIZE, \n",
    "      CUDA=CUDA, \n",
    "      DEVICE=DEVICE, \n",
    "      MODEL_VERSION=MODEL_VERSION)"
   ]
  },
  {
   "cell_type": "code",
   "execution_count": null,
   "metadata": {},
   "outputs": [],
   "source": []
  }
 ],
 "metadata": {
  "kernelspec": {
   "display_name": "Python 3",
   "language": "python",
   "name": "python3"
  },
  "language_info": {
   "codemirror_mode": {
    "name": "ipython",
    "version": 3
   },
   "file_extension": ".py",
   "mimetype": "text/x-python",
   "name": "python",
   "nbconvert_exporter": "python",
   "pygments_lexer": "ipython3",
   "version": "3.7.3"
  }
 },
 "nbformat": 4,
 "nbformat_minor": 4
}
