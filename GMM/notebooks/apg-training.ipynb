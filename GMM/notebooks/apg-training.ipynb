{
 "cells": [
  {
   "cell_type": "code",
   "execution_count": 1,
   "metadata": {},
   "outputs": [
    {
     "name": "stdout",
     "output_type": "stream",
     "text": [
      "probtorch: 0.0+5a2c637 torch: 1.3.0\n",
      "inference method:apg, apg sweeps:10, epochs:300, sample size:10, batch size:20, learning rate:0.0001\n"
     ]
    }
   ],
   "source": [
    "%run ../../import_envs.py\n",
    "%run ../apg_hyperparams.py\n",
    "\n",
    "CUDA = torch.cuda.is_available()\n",
    "DEVICE = torch.device('cuda:1')"
   ]
  },
  {
   "cell_type": "code",
   "execution_count": 2,
   "metadata": {},
   "outputs": [],
   "source": [
    "DATA_DIR = '/home/hao/Research/apg_data/gmm/gmm_train/'\n",
    "DATA = torch.from_numpy(np.load(DATA_DIR + 'ob.npy')).float() ## load training datasets"
   ]
  },
  {
   "cell_type": "code",
   "execution_count": 3,
   "metadata": {},
   "outputs": [],
   "source": [
    "from apg_modeling import init_model\n",
    "model, optimizer = init_model(model_params=model_params, \n",
    "                              CUDA=CUDA, \n",
    "                              DEVICE=DEVICE, \n",
    "                              LOAD_VERSION=LOAD_VERSION, ## set to None if do not restore\n",
    "                              LR=LR)"
   ]
  },
  {
   "cell_type": "code",
   "execution_count": null,
   "metadata": {},
   "outputs": [
    {
     "name": "stdout",
     "output_type": "stream",
     "text": [
      "Epoch=0 completed  in (198s),  \n",
      "Epoch=1 completed  in (177s),  \n",
      "Epoch=2 completed  in (191s),  \n",
      "Epoch=3 completed  in (191s),  \n",
      "Epoch=4 completed  in (190s),  \n",
      "Epoch=5 completed  in (192s),  \n",
      "Epoch=6 completed  in (190s),  \n",
      "Epoch=7 completed  in (190s),  \n",
      "Epoch=8 completed  in (191s),  \n",
      "Epoch=9 completed  in (182s),  \n",
      "Epoch=10 completed  in (183s),  \n",
      "Epoch=11 completed  in (191s),  \n",
      "Epoch=12 completed  in (194s),  \n",
      "Epoch=13 completed  in (193s),  \n",
      "Epoch=14 completed  in (198s),  \n",
      "Epoch=15 completed  in (192s),  \n",
      "Epoch=16 completed  in (190s),  \n",
      "Epoch=17 completed  in (194s),  \n"
     ]
    }
   ],
   "source": [
    "from apg_training import train\n",
    "from apg_objective import apg_objective\n",
    "train(optimizer=optimizer, \n",
    "      model=model, \n",
    "      apg_objective=apg_objective,\n",
    "      apg_sweeps=APG_SWEEPS, \n",
    "      data=DATA, \n",
    "      num_epochs=NUM_EPOCHS, \n",
    "      sample_size=SAMPLE_SIZE, \n",
    "      batch_size=BATCH_SIZE, \n",
    "      CUDA=CUDA, \n",
    "      DEVICE=DEVICE, \n",
    "      MODEL_VERSION=MODEL_VERSION)"
   ]
  },
  {
   "cell_type": "code",
   "execution_count": null,
   "metadata": {},
   "outputs": [],
   "source": []
  }
 ],
 "metadata": {
  "kernelspec": {
   "display_name": "Python 3",
   "language": "python",
   "name": "python3"
  },
  "language_info": {
   "codemirror_mode": {
    "name": "ipython",
    "version": 3
   },
   "file_extension": ".py",
   "mimetype": "text/x-python",
   "name": "python",
   "nbconvert_exporter": "python",
   "pygments_lexer": "ipython3",
   "version": "3.7.3"
  }
 },
 "nbformat": 4,
 "nbformat_minor": 4
}
