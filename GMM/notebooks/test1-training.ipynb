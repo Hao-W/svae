{
 "cells": [
  {
   "cell_type": "code",
   "execution_count": 1,
   "metadata": {},
   "outputs": [
    {
     "name": "stdout",
     "output_type": "stream",
     "text": [
      "probtorch: 0.0+5a2c637 torch: 1.3.0\n",
      "inference method:test1, apg sweeps:10, epochs:300, sample size:10, batch size:40, learning rate:0.0005\n"
     ]
    }
   ],
   "source": [
    "%run ../../import_envs.py\n",
    "%run ../test1_hyperparams.py\n",
    "\n",
    "CUDA = torch.cuda.is_available()\n",
    "DEVICE = torch.device('cuda:1')"
   ]
  },
  {
   "cell_type": "code",
   "execution_count": 2,
   "metadata": {},
   "outputs": [],
   "source": [
    "DATA = torch.from_numpy(np.load(DATA_DIR + 'gmm/train/' + 'ob.npy')).float() ## load training datasets"
   ]
  },
  {
   "cell_type": "code",
   "execution_count": 3,
   "metadata": {},
   "outputs": [],
   "source": [
    "from apg_modeling import init_model\n",
    "model, optimizer = init_model(model_params=model_params, \n",
    "                              CUDA=CUDA, \n",
    "                              DEVICE=DEVICE, \n",
    "                              LOAD_VERSION=None, ## set to None if do not restore\n",
    "                              LR=LR)"
   ]
  },
  {
   "cell_type": "code",
   "execution_count": null,
   "metadata": {},
   "outputs": [
    {
     "name": "stdout",
     "output_type": "stream",
     "text": [
      "Epoch=0 completed  in (71s),  \n",
      "Epoch=1 completed  in (70s),  \n",
      "Epoch=2 completed  in (69s),  \n",
      "Epoch=3 completed  in (68s),  \n",
      "Epoch=4 completed  in (67s),  \n",
      "Epoch=5 completed  in (71s),  \n",
      "Epoch=6 completed  in (71s),  \n",
      "Epoch=7 completed  in (73s),  \n",
      "Epoch=8 completed  in (69s),  \n",
      "Epoch=9 completed  in (70s),  \n",
      "Epoch=10 completed  in (73s),  \n",
      "Epoch=11 completed  in (86s),  \n",
      "Epoch=12 completed  in (90s),  \n",
      "Epoch=13 completed  in (89s),  \n",
      "Epoch=14 completed  in (89s),  \n",
      "Epoch=15 completed  in (105s),  \n",
      "Epoch=16 completed  in (107s),  \n",
      "Epoch=17 completed  in (108s),  \n",
      "Epoch=18 completed  in (110s),  \n",
      "Epoch=19 completed  in (109s),  \n"
     ]
    }
   ],
   "source": [
    "%run ../test1_training.py\n",
    "train(optimizer=optimizer, \n",
    "      model=model, \n",
    "      apg_sweeps=APG_SWEEPS, \n",
    "      data=DATA, \n",
    "      num_epochs=NUM_EPOCHS, \n",
    "      sample_size=SAMPLE_SIZE, \n",
    "      batch_size=BATCH_SIZE, \n",
    "      CUDA=CUDA, \n",
    "      DEVICE=DEVICE, \n",
    "      MODEL_VERSION=MODEL_VERSION)"
   ]
  },
  {
   "cell_type": "code",
   "execution_count": null,
   "metadata": {},
   "outputs": [],
   "source": []
  }
 ],
 "metadata": {
  "kernelspec": {
   "display_name": "Python 3",
   "language": "python",
   "name": "python3"
  },
  "language_info": {
   "codemirror_mode": {
    "name": "ipython",
    "version": 3
   },
   "file_extension": ".py",
   "mimetype": "text/x-python",
   "name": "python",
   "nbconvert_exporter": "python",
   "pygments_lexer": "ipython3",
   "version": "3.7.3"
  }
 },
 "nbformat": 4,
 "nbformat_minor": 4
}
