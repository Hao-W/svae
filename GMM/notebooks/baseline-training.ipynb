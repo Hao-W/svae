{
 "cells": [
  {
   "cell_type": "code",
   "execution_count": null,
   "metadata": {},
   "outputs": [],
   "source": [
    "%run ../../import_envs.py\n",
    "%run ../baseline_hyperparams.py\n",
    "\n",
    "CUDA = torch.cuda.is_available()\n",
    "DEVICE = torch.device('cuda:0')"
   ]
  },
  {
   "cell_type": "code",
   "execution_count": null,
   "metadata": {},
   "outputs": [],
   "source": [
    "DATA = torch.from_numpy(np.load(DATA_DIR + 'gmm/train/' + 'ob.npy')).float() ## load training datasets"
   ]
  },
  {
   "cell_type": "code",
   "execution_count": null,
   "metadata": {},
   "outputs": [],
   "source": [
    "from baseline_modeling import init_model\n",
    "model, optimizer = init_model(architecture=ARCHITECTURE,\n",
    "                              model_params=model_params, \n",
    "                              CUDA=CUDA, \n",
    "                              DEVICE=DEVICE, \n",
    "                              LOAD_VERSION=None,\n",
    "                              LR=LR)"
   ]
  },
  {
   "cell_type": "code",
   "execution_count": null,
   "metadata": {},
   "outputs": [],
   "source": [
    "%run ../baseline_training.py\n",
    "\n",
    "train(optimizer=optimizer, \n",
    "      model=model, \n",
    "      architecture=ARCHITECTURE,\n",
    "      data=DATA, \n",
    "      num_epochs=NUM_EPOCHS, \n",
    "      sample_size=SAMPLE_SIZE, \n",
    "      batch_size=BATCH_SIZE, \n",
    "      CUDA=CUDA, \n",
    "      DEVICE=DEVICE, \n",
    "      MODEL_VERSION=MODEL_VERSION)"
   ]
  },
  {
   "cell_type": "code",
   "execution_count": null,
   "metadata": {},
   "outputs": [],
   "source": []
  }
 ],
 "metadata": {
  "kernelspec": {
   "display_name": "Python 3",
   "language": "python",
   "name": "python3"
  },
  "language_info": {
   "codemirror_mode": {
    "name": "ipython",
    "version": 3
   },
   "file_extension": ".py",
   "mimetype": "text/x-python",
   "name": "python",
   "nbconvert_exporter": "python",
   "pygments_lexer": "ipython3",
   "version": "3.7.3"
  }
 },
 "nbformat": 4,
 "nbformat_minor": 4
}
