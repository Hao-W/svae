{
 "cells": [
  {
   "cell_type": "code",
   "execution_count": 1,
   "metadata": {},
   "outputs": [
    {
     "name": "stdout",
     "output_type": "stream",
     "text": [
      "probtorch: 0.0+5a2c637 torch: 1.3.0\n",
      "inference method:baseline-mlp, epochs:30, sample size:50, batch size:10, learning rate:0.0005\n"
     ]
    }
   ],
   "source": [
    "%run ../../import_envs.py\n",
    "%run ../baseline_hyperparams.py\n",
    "\n",
    "CUDA = torch.cuda.is_available()\n",
    "DEVICE = torch.device('cuda:0')"
   ]
  },
  {
   "cell_type": "code",
   "execution_count": 2,
   "metadata": {},
   "outputs": [],
   "source": [
    "DATA = torch.from_numpy(np.load(DATA_DIR + 'gmm/train/' + 'ob.npy')).float() ## load training datasets"
   ]
  },
  {
   "cell_type": "code",
   "execution_count": null,
   "metadata": {},
   "outputs": [
    {
     "name": "stdout",
     "output_type": "stream",
     "text": [
      "Epoch=0 completed  in (54s),  \n",
      "Epoch=1 completed  in (54s),  \n",
      "Epoch=2 completed  in (55s),  \n"
     ]
    }
   ],
   "source": [
    "from baseline_modeling import init_model\n",
    "%run ../baseline_training.py\n",
    "NUM_RUNS = 5\n",
    "for r in range(NUM_RUNS):\n",
    "    model, optimizer = init_model(architecture=ARCHITECTURE,\n",
    "                                  model_params=model_params, \n",
    "                                  CUDA=CUDA, \n",
    "                                  DEVICE=DEVICE, \n",
    "                                  LOAD_VERSION=None,\n",
    "                                  LR=LR)\n",
    "    train(optimizer=optimizer, \n",
    "          model=model, \n",
    "          architecture=ARCHITECTURE,\n",
    "          data=DATA, \n",
    "          num_epochs=NUM_EPOCHS, \n",
    "          sample_size=SAMPLE_SIZE, \n",
    "          batch_size=BATCH_SIZE, \n",
    "          CUDA=CUDA, \n",
    "          DEVICE=DEVICE, \n",
    "          MODEL_VERSION=MODEL_VERSION+'-%drun' % (r+1))    "
   ]
  },
  {
   "cell_type": "code",
   "execution_count": null,
   "metadata": {},
   "outputs": [],
   "source": []
  }
 ],
 "metadata": {
  "kernelspec": {
   "display_name": "Python 3",
   "language": "python",
   "name": "python3"
  },
  "language_info": {
   "codemirror_mode": {
    "name": "ipython",
    "version": 3
   },
   "file_extension": ".py",
   "mimetype": "text/x-python",
   "name": "python",
   "nbconvert_exporter": "python",
   "pygments_lexer": "ipython3",
   "version": "3.7.3"
  }
 },
 "nbformat": 4,
 "nbformat_minor": 4
}
