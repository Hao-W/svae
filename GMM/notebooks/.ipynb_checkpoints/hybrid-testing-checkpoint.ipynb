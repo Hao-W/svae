{
 "cells": [
  {
   "cell_type": "code",
   "execution_count": null,
   "metadata": {},
   "outputs": [],
   "source": [
    "%matplotlib inline\n",
    "%run ../../import_envs.py\n",
    "%run ../apg_hyperparams.py\n",
    "CUDA = torch.cuda.is_available()\n",
    "DEVICE = torch.device('cuda:1')"
   ]
  },
  {
   "cell_type": "code",
   "execution_count": null,
   "metadata": {},
   "outputs": [],
   "source": [
    "test_sets = ['pts_100']\n",
    "DATAs = []\n",
    "for s in test_sets:\n",
    "    data = torch.from_numpy(np.load(GMM_DIR + 'gmm/test/' + s + '/' + 'ob.npy')).float() ## load testing datasets\n",
    "    DATAs.append(data)\n",
    "from apg_modeling import init_model\n",
    "\n",
    "model = init_model(model_params=model_params, \n",
    "                   CUDA=CUDA, \n",
    "                   DEVICE=DEVICE, \n",
    "                   LOAD_VERSION=LOAD_VERSION,\n",
    "                   LR=None)"
   ]
  },
  {
   "cell_type": "code",
   "execution_count": null,
   "metadata": {},
   "outputs": [],
   "source": [
    "%run ../hybrid_testing.py\n",
    "\n",
    "APG_SWEEPS_TEST = 30\n",
    "SAMPLE_SIZE_TEST = 10\n",
    "DATA_PTR = 4\n",
    "FLAGs = {'hmc' : True, 'apg' : True, 'gibbs' : True, 'bpg' : True}\n",
    "datas = sample_data_uniform(DATAs=DATAs, \n",
    "                            data_ptr=DATA_PTR)\n",
    "NUM_RUNS = 10\n",
    "DENSITIES = test_hybrid(num_runs=NUM_RUNS,\n",
    "                        model=model, \n",
    "                        flags=FLAGs,\n",
    "                        data=datas[0], \n",
    "                        sample_size=SAMPLE_SIZE_TEST, \n",
    "                        apg_sweeps=APG_SWEEPS_TEST,\n",
    "                        hmc_num_steps=APG_SWEEPS_TEST, \n",
    "                        leapfrog_step_size=1e-1, \n",
    "                        leapfrog_num_steps=5,\n",
    "                        CUDA=CUDA, \n",
    "                        DEVICE=DEVICE)"
   ]
  },
  {
   "cell_type": "code",
   "execution_count": null,
   "metadata": {},
   "outputs": [],
   "source": [
    "from viz import plot_baselines\n",
    "plot_baselines(flags=FLAGs,\n",
    "               fs=8, \n",
    "               fs_title=14, \n",
    "               opacity=0.1, \n",
    "               lw=3, \n",
    "               colors=['#0077BB', '#009988', '#EE7733', '#AA3377', '#555555', '#999933'])"
   ]
  },
  {
   "cell_type": "code",
   "execution_count": null,
   "metadata": {},
   "outputs": [],
   "source": [
    "%run ../hybrid_testing.py\n",
    "APG_SWEEPS_TEST = 30\n",
    "SAMPLE_SIZE_TEST = 10\n",
    "DATA_PTR = 4\n",
    "FLAGs = {'hmc' : True, 'apg' : True, 'gibbs' : True, 'bpg' : True}\n",
    "datas = sample_data_uniform(DATAs=DATAs, \n",
    "                            data_ptr=DATA_PTR)\n",
    "\n",
    "metrics = test_hybrid_all(model=model,\n",
    "                          flags=FLAGs,\n",
    "                          DATA=DATAs[0],\n",
    "                          batch_size=10,\n",
    "                          sample_size=SAMPLE_SIZE_TEST, \n",
    "                          apg_sweeps=APG_SWEEPS_TEST,\n",
    "                          hmc_num_steps=APG_SWEEPS_TEST, \n",
    "                          leapfrog_step_size=1e-1, \n",
    "                          leapfrog_num_steps=5,\n",
    "                          CUDA=CUDA, \n",
    "                          DEVICE=DEVICE)"
   ]
  },
  {
   "cell_type": "code",
   "execution_count": null,
   "metadata": {},
   "outputs": [],
   "source": []
  }
 ],
 "metadata": {
  "kernelspec": {
   "display_name": "Python 3",
   "language": "python",
   "name": "python3"
  },
  "language_info": {
   "codemirror_mode": {
    "name": "ipython",
    "version": 3
   },
   "file_extension": ".py",
   "mimetype": "text/x-python",
   "name": "python",
   "nbconvert_exporter": "python",
   "pygments_lexer": "ipython3",
   "version": "3.7.3"
  }
 },
 "nbformat": 4,
 "nbformat_minor": 4
}
