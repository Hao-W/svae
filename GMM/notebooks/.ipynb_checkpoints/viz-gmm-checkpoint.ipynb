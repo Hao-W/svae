{
 "cells": [
  {
   "cell_type": "code",
   "execution_count": 1,
   "metadata": {},
   "outputs": [
    {
     "name": "stdout",
     "output_type": "stream",
     "text": [
      "probtorch: 0.0+5a2c637 torch: 1.3.0 cuda: True\n"
     ]
    }
   ],
   "source": [
    "%matplotlib inline\n",
    "%run ../../import_envs.py\n",
    "print('probtorch:', probtorch.__version__, \n",
    "      'torch:', torch.__version__, \n",
    "      'cuda:', torch.cuda.is_available())"
   ]
  },
  {
   "cell_type": "code",
   "execution_count": 2,
   "metadata": {},
   "outputs": [],
   "source": [
    "## Load dataset\n",
    "data_dir = '/home/hao/Research/apg_data'\n",
    "data_path = data_dir + \"/gmm/gmm_10size\"\n",
    "Data = []\n",
    "for i in range(5):\n",
    "    data = torch.from_numpy(np.load(data_path + '/obs_%d.npy' % ((i+1)*20))).float()\n",
    "    Data.append(data)\n",
    "K = 3 ## number of clusters\n",
    "D = 2\n",
    "NUM_HIDDEN_LOCAL = 32\n",
    "CUDA = torch.cuda.is_available()\n",
    "DEVICE = torch.device('cuda:1')\n",
    "\n",
    "PATH = 'apg-3run-60pts-10samples'"
   ]
  },
  {
   "cell_type": "code",
   "execution_count": 3,
   "metadata": {},
   "outputs": [],
   "source": [
    "from model_operations import Init_models_test\n",
    "# from model_operations_vae import Init_models\n",
    "models = Init_models_test(K, D, NUM_HIDDEN_LOCAL, CUDA, DEVICE, lr=1e-4, RESTORE=True, PATH=PATH)"
   ]
  },
  {
   "cell_type": "code",
   "execution_count": 4,
   "metadata": {},
   "outputs": [],
   "source": [
    "from testing import Eval\n",
    "from viz_mc import Viz_MC\n",
    "from apg import APG_test\n",
    "\n",
    "BATCH_SIZE = 5\n",
    "Viz_INTERVAL = 4\n",
    "FS = 15\n",
    "TITLE_FS = 20\n",
    "OB_MS = 5.0\n",
    "MU_MARKER = 'X'\n",
    "MU_MS = 100\n",
    "OPACITY = 0.3\n",
    "BOUND = 12\n",
    "COLORS = ['#AA3377', '#EE7733', '#0077BB', '#009988']\n",
    "DATA_PTR = 73"
   ]
  },
  {
   "cell_type": "code",
   "execution_count": 11,
   "metadata": {},
   "outputs": [
    {
     "name": "stdout",
     "output_type": "stream",
     "text": [
      "CPU times: user 12min 23s, sys: 3min 41s, total: 16min 5s\n",
      "Wall time: 16min 4s\n"
     ]
    }
   ],
   "source": [
    "S = 1000\n",
    "B = 20\n",
    "MCMC_STEPS = 15\n",
    "Test_Params = (S, B, DEVICE)\n",
    "g = 4\n",
    "def Test_ALL(objective, data_g, mcmc_steps, Test_Params):\n",
    "    Metrics = { 'kl_in_eta' : [], 'kl_in_z' : [], 'kl_ex_eta' : [], 'kl_ex_z' : []}\n",
    "    (S, B, DEVICE) = Test_Params\n",
    "    EPS = torch.FloatTensor([1e-15]).log() ## EPS for KL between categorial distributions\n",
    "    EPS = EPS.cuda().to(DEVICE) ## EPS for KL between categorial distributions\n",
    "    NUM_DATASETS = data_g.shape[0]\n",
    "    NUM_BATCHES = int((NUM_DATASETS / B))\n",
    "    for step in range(NUM_BATCHES):\n",
    "        ob = data_g[step*B : (step+1)*B]\n",
    "        ob = shuffler(ob).repeat(S, 1, 1, 1)\n",
    "        ob = ob.cuda().to(DEVICE)\n",
    "        metrics = objective(models, ob, mcmc_steps, EPS)\n",
    "        Metrics['kl_in_eta'].append(metrics['kl_in_eta'])\n",
    "        Metrics['kl_ex_eta'].append(metrics['kl_ex_eta'])\n",
    "        Metrics['kl_in_z'].append(metrics['kl_in_z'])\n",
    "        Metrics['kl_ex_z'].append(metrics['kl_ex_z'])\n",
    "    return Metrics\n",
    "\n",
    "%time Metrics = Test_ALL(APG_test, Data[g], MCMC_STEPS, Test_Params)"
   ]
  },
  {
   "cell_type": "code",
   "execution_count": 10,
   "metadata": {},
   "outputs": [],
   "source": [
    "data_order = '%d' %  ((g+1)*20)\n",
    "for key in Metrics.keys():\n",
    "    np.save('granular_%s-%s' % (data_order, key), torch.cat(Metrics[key], 0))"
   ]
  },
  {
   "cell_type": "code",
   "execution_count": null,
   "metadata": {},
   "outputs": [],
   "source": [
    "visualizer = Viz_MC(K, Viz_INTERVAL, FS, TITLE_FS, OB_MS, OPACITY, BOUND, COLORS)\n",
    "evaluator = Eval(models, K, D, BATCH_SIZE, CUDA, DEVICE)\n",
    "\n",
    "# Metrics_sample = evaluator.Test_uniform(APG_test, Data, DATA_PTR, mcmc_steps=12, sample_size=1)\n",
    "# visualizer.Plot_chains(Metrics_sample['data'], Metrics_sample['samples'], filename='gmm-samples-%d' % DATA_PTR)"
   ]
  },
  {
   "cell_type": "code",
   "execution_count": 12,
   "metadata": {},
   "outputs": [
    {
     "ename": "OSError",
     "evalue": "[Errno 36] File name too long: 'granular_1-kl_ex_z.npygranular_1-kl_ex_z.npygranular_1-kl_ex_z.npygranular_1-kl_ex_z.npygranular_1-kl_ex_z.npygranular_1-kl_ex_z.npygranular_1-kl_ex_z.npygranular_1-kl_ex_z.npygranular_1-kl_ex_z.npygranular_1-kl_ex_z.npygranular_1-kl_ex_z.npygranular_1-kl_ex_z.npygranular_1-kl_ex_z.npygranular_1-kl_ex_z.npygranular_1-kl_ex_z.npygranular_1-kl_ex_z.npygranular_1-kl_ex_z.npygranular_1-kl_ex_z.npygranular_1-kl_ex_z.npygranular_1-kl_ex_z.npy'",
     "output_type": "error",
     "traceback": [
      "\u001b[0;31m---------------------------------------------------------------------------\u001b[0m",
      "\u001b[0;31mOSError\u001b[0m                                   Traceback (most recent call last)",
      "\u001b[0;32m<ipython-input-12-b4344c448401>\u001b[0m in \u001b[0;36m<module>\u001b[0;34m()\u001b[0m\n\u001b[1;32m      1\u001b[0m \u001b[0;32mfor\u001b[0m \u001b[0mi\u001b[0m \u001b[0;32min\u001b[0m \u001b[0mrange\u001b[0m\u001b[0;34m(\u001b[0m\u001b[0;36m4\u001b[0m\u001b[0;34m)\u001b[0m\u001b[0;34m:\u001b[0m\u001b[0;34m\u001b[0m\u001b[0;34m\u001b[0m\u001b[0m\n\u001b[0;32m----> 2\u001b[0;31m     \u001b[0mex_z\u001b[0m \u001b[0;34m=\u001b[0m \u001b[0mnp\u001b[0m\u001b[0;34m.\u001b[0m\u001b[0mload\u001b[0m\u001b[0;34m(\u001b[0m\u001b[0;34m'granular_%d-kl_ex_z.npy'\u001b[0m \u001b[0;34m%\u001b[0m \u001b[0;34m(\u001b[0m\u001b[0mi\u001b[0m\u001b[0;34m+\u001b[0m\u001b[0;36m1\u001b[0m\u001b[0;34m)\u001b[0m\u001b[0;34m*\u001b[0m\u001b[0;36m20\u001b[0m\u001b[0;34m)\u001b[0m\u001b[0;34m\u001b[0m\u001b[0;34m\u001b[0m\u001b[0m\n\u001b[0m",
      "\u001b[0;32m~/anaconda3/envs/dev/lib/python3.6/site-packages/numpy/lib/npyio.py\u001b[0m in \u001b[0;36mload\u001b[0;34m(file, mmap_mode, allow_pickle, fix_imports, encoding)\u001b[0m\n\u001b[1;32m    382\u001b[0m     \u001b[0mown_fid\u001b[0m \u001b[0;34m=\u001b[0m \u001b[0;32mFalse\u001b[0m\u001b[0;34m\u001b[0m\u001b[0;34m\u001b[0m\u001b[0m\n\u001b[1;32m    383\u001b[0m     \u001b[0;32mif\u001b[0m \u001b[0misinstance\u001b[0m\u001b[0;34m(\u001b[0m\u001b[0mfile\u001b[0m\u001b[0;34m,\u001b[0m \u001b[0mbasestring\u001b[0m\u001b[0;34m)\u001b[0m\u001b[0;34m:\u001b[0m\u001b[0;34m\u001b[0m\u001b[0;34m\u001b[0m\u001b[0m\n\u001b[0;32m--> 384\u001b[0;31m         \u001b[0mfid\u001b[0m \u001b[0;34m=\u001b[0m \u001b[0mopen\u001b[0m\u001b[0;34m(\u001b[0m\u001b[0mfile\u001b[0m\u001b[0;34m,\u001b[0m \u001b[0;34m\"rb\"\u001b[0m\u001b[0;34m)\u001b[0m\u001b[0;34m\u001b[0m\u001b[0;34m\u001b[0m\u001b[0m\n\u001b[0m\u001b[1;32m    385\u001b[0m         \u001b[0mown_fid\u001b[0m \u001b[0;34m=\u001b[0m \u001b[0;32mTrue\u001b[0m\u001b[0;34m\u001b[0m\u001b[0;34m\u001b[0m\u001b[0m\n\u001b[1;32m    386\u001b[0m     \u001b[0;32melif\u001b[0m \u001b[0mis_pathlib_path\u001b[0m\u001b[0;34m(\u001b[0m\u001b[0mfile\u001b[0m\u001b[0;34m)\u001b[0m\u001b[0;34m:\u001b[0m\u001b[0;34m\u001b[0m\u001b[0;34m\u001b[0m\u001b[0m\n",
      "\u001b[0;31mOSError\u001b[0m: [Errno 36] File name too long: 'granular_1-kl_ex_z.npygranular_1-kl_ex_z.npygranular_1-kl_ex_z.npygranular_1-kl_ex_z.npygranular_1-kl_ex_z.npygranular_1-kl_ex_z.npygranular_1-kl_ex_z.npygranular_1-kl_ex_z.npygranular_1-kl_ex_z.npygranular_1-kl_ex_z.npygranular_1-kl_ex_z.npygranular_1-kl_ex_z.npygranular_1-kl_ex_z.npygranular_1-kl_ex_z.npygranular_1-kl_ex_z.npygranular_1-kl_ex_z.npygranular_1-kl_ex_z.npygranular_1-kl_ex_z.npygranular_1-kl_ex_z.npygranular_1-kl_ex_z.npy'"
     ]
    }
   ],
   "source": [
    "for i in range(4):\n",
    "    ex_z = np.load('granular_%d-kl_ex_z.npy' % (i+1)*20)"
   ]
  },
  {
   "cell_type": "code",
   "execution_count": null,
   "metadata": {},
   "outputs": [],
   "source": []
  },
  {
   "cell_type": "code",
   "execution_count": null,
   "metadata": {},
   "outputs": [],
   "source": [
    "# L = 1000\n",
    "# Metrics = evaluator.Test_uniform(APG_test, Data, DATA_PTR, mcmc_steps=30, sample_size=L)\n",
    "# visualizer.Plot_metrics(Metrics, sample_size=L, filename='gmm-metrics-LL-ESS-%d' % DATA_PTR)"
   ]
  },
  {
   "cell_type": "code",
   "execution_count": null,
   "metadata": {},
   "outputs": [],
   "source": [
    "# Budget * Batch\n",
    "DATA_PTR = 3\n",
    "NUM_RUNS = 10\n",
    "LogJs = []\n",
    "ESSs = []\n",
    "budgets = [[1000, 1], [500, 2], [200, 5], [100, 10], [50, 20], [20, 50], [10, 100], [5, 200]]\n",
    "for r in range(NUM_RUNS):\n",
    "    LogJ= []\n",
    "    ESS = []\n",
    "    for i, b in enumerate(budgets):\n",
    "        samples = b[0]\n",
    "        steps = b[1] - 1\n",
    "        Metrics_converge = evaluator.Test_budget(APG_test, Data, DATA_PTR, mcmc_steps=steps, sample_size=samples)\n",
    "        LogJ.append(torch.cat(Metrics_converge['log_joint'], 0).unsqueeze(0))\n",
    "        ESS.append(torch.cat(Metrics_converge['ess'], 0).unsqueeze(0) / samples)\n",
    "    LogJs.append(torch.cat(LogJ, 0).unsqueeze(0))\n",
    "    ESSs.append(torch.cat(ESS, 0).unsqueeze(0))\n",
    "    %time print('run : %d' % r)\n",
    "\n",
    "LogJs = torch.cat(LogJs, 0)\n",
    "ESSs = torch.cat(ESSs, 0)"
   ]
  },
  {
   "cell_type": "code",
   "execution_count": null,
   "metadata": {},
   "outputs": [],
   "source": [
    "np.save('budget-log-joint', LogJs.data.numpy())\n",
    "np.save('budget-ess', ESSs.data.numpy())"
   ]
  },
  {
   "cell_type": "code",
   "execution_count": null,
   "metadata": {},
   "outputs": [],
   "source": [
    "LogJs.shape"
   ]
  },
  {
   "cell_type": "code",
   "execution_count": null,
   "metadata": {},
   "outputs": [],
   "source": [
    "import matplotlib.gridspec as gridspec\n",
    "import matplotlib.pyplot as plt\n",
    "\n",
    "COLORS = ['#AA3377', '#EE7733', '#0077BB', '#009988', '#CCBB44','#BBBBBB']\n",
    "\n",
    "\n",
    "\n",
    "def Plot_metrics_v2(fs, LLs, ESSs, SSs, filename):\n",
    "    num_cols = len(LLs[0])\n",
    "    gs = gridspec.GridSpec(2, num_cols)\n",
    "    gs.update(left=0.05 , bottom=0.05, right=0.95, top=0.95, wspace=0.2, hspace=0.05)\n",
    "    fig = plt.figure(figsize=(fs, fs * 2 / num_cols))\n",
    "    plt.rc('axes',edgecolor='#eeeeee')\n",
    "    for col_ind in range(num_cols):\n",
    "#         ax1 = fig.add_subplot(gs[0, col_ind])\n",
    "#         ax2 = fig.add_subplot(gs[1, col_ind])\n",
    "        print('N=%d' % ((col_ind+1)*20))\n",
    "        for b, LL, in enumerate(LLs):\n",
    "            ESS = ESSs[b]\n",
    "            SS = SSs[b]\n",
    "            print(ESS[col_ind][-1] / SS)\n",
    "#             ax1.plot(LL[col_ind].data.numpy(), c=COLORS[b], marker='o')\n",
    "#             ax2.plot(ESS[col_ind].data.numpy() / SS, '--', c=COLORS[b], alpha=0.4)\n",
    "#     plt.savefig(filename + '.svg', dpi=300)\n",
    "#     plt.savefig(filename + '.pdf')"
   ]
  },
  {
   "cell_type": "code",
   "execution_count": null,
   "metadata": {},
   "outputs": [],
   "source": [
    "fs = 20\n",
    "Plot_metrics_v2(fs, LLs, ESSs, SSs, filename='test')"
   ]
  },
  {
   "cell_type": "code",
   "execution_count": null,
   "metadata": {},
   "outputs": [],
   "source": [
    "aa = np.load('budget-ess.npy')\n",
    "bb = np.load('../aistats/budget/budget-ess.npy')"
   ]
  },
  {
   "cell_type": "code",
   "execution_count": null,
   "metadata": {},
   "outputs": [],
   "source": [
    "import matplotlib.pyplot as plt\n",
    "bb[:,:,2] = aa[:,:,2]"
   ]
  },
  {
   "cell_type": "code",
   "execution_count": null,
   "metadata": {},
   "outputs": [],
   "source": [
    "np.save('../aistats/budget/budget-ess.npy', bb)"
   ]
  },
  {
   "cell_type": "code",
   "execution_count": null,
   "metadata": {},
   "outputs": [],
   "source": []
  }
 ],
 "metadata": {
  "kernelspec": {
   "display_name": "Python 3",
   "language": "python",
   "name": "python3"
  },
  "language_info": {
   "codemirror_mode": {
    "name": "ipython",
    "version": 3
   },
   "file_extension": ".py",
   "mimetype": "text/x-python",
   "name": "python",
   "nbconvert_exporter": "python",
   "pygments_lexer": "ipython3",
   "version": "3.7.3"
  }
 },
 "nbformat": 4,
 "nbformat_minor": 4
}
