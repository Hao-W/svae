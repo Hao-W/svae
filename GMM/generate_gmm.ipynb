{
 "cells": [
  {
   "cell_type": "code",
   "execution_count": 5,
   "metadata": {},
   "outputs": [],
   "source": [
    "import numpy as np\n",
    "import torch\n",
    "import matplotlib.pyplot as plt\n",
    "%matplotlib inline\n",
    "from data_gmm import *\n",
    "from plots import *\n",
    "import math\n",
    "from torch.distributions.uniform import Uniform"
   ]
  },
  {
   "cell_type": "code",
   "execution_count": 2,
   "metadata": {},
   "outputs": [
    {
     "name": "stdout",
     "output_type": "stream",
     "text": [
      "0\n",
      "5000\n",
      "10000\n",
      "15000\n"
     ]
    }
   ],
   "source": [
    "T = 60\n",
    "K = 3\n",
    "D = 2\n",
    "num_seqs = \n",
    "\n",
    "OBS = np.zeros((num_seqs, T, D))\n",
    "STATES = np.zeros((num_seqs, T, K))\n",
    "OBS_MU = np.zeros((num_seqs, K, D))\n",
    "OBS_SIGMA = np.zeros((num_seqs, K, D)) ## diagonal covarince\n",
    "for n in range(num_seqs):\n",
    "    ind = Uniform(0, 2*math.pi).sample().item()\n",
    "    obs, obs_mu, obs_sigma, states, Pi = sampling_gmm_conjugate(T, K, D)\n",
    "#     covs_full = torch.zeros((K, D, D))\n",
    "#     for k in range(K):\n",
    "#         covs_full[k] = torch.diag(obs_sigma[k]**2)\n",
    "#     plot_clusters(obs, obs_mu, covs_full, K)\n",
    "    OBS[n] = obs.data.numpy()\n",
    "    STATES[n] = states.data.numpy()\n",
    "    OBS_MU[n] = obs_mu.data.numpy()\n",
    "    OBS_SIGMA[n] = obs_sigma.data.numpy()\n",
    "    if n % 5000 == 0:\n",
    "        print(n)"
   ]
  },
  {
   "cell_type": "code",
   "execution_count": 3,
   "metadata": {},
   "outputs": [],
   "source": [
    "path = \"gmm_dataset_3c_small_sigma\"\n",
    "np.save(path + '/obs', OBS)\n",
    "# np.save(path + '/states', STATES)\n",
    "# np.save(path + '/obs_mu', OBS_MU)\n",
    "# np.save(path + '/obs_sigma', OBS_SIGMA)\n",
    "# np.save(path + '/init', Pi.data.numpy())"
   ]
  },
  {
   "cell_type": "code",
   "execution_count": null,
   "metadata": {},
   "outputs": [],
   "source": [
    "plot_clusters(Y, mus_true, covs_true)"
   ]
  },
  {
   "cell_type": "code",
   "execution_count": 8,
   "metadata": {},
   "outputs": [],
   "source": [
    "samples = Gamma(torch.ones(2)*2, torch.ones(2)*2).sample((5000,))\n",
    "# samples = Gamma(torch.ones(D)*3, torch.ones(D)*3).sample((1000,))"
   ]
  },
  {
   "cell_type": "code",
   "execution_count": 9,
   "metadata": {},
   "outputs": [
    {
     "data": {
      "text/plain": [
       "(0, 10)"
      ]
     },
     "execution_count": 9,
     "metadata": {},
     "output_type": "execute_result"
    },
    {
     "data": {
      "image/png": "[encoded data removed]",
      "text/plain": [
       "<Figure size 432x288 with 1 Axes>"
      ]
     },
     "metadata": {},
     "output_type": "display_data"
    }
   ],
   "source": [
    "plt.scatter(1./ torch.sqrt(samples).data.numpy()[:, 0], 1. / torch.sqrt(samples).data.numpy()[:, 1])\n",
    "plt.xlim([0, 10])\n",
    "plt.ylim([0, 10])"
   ]
  },
  {
   "cell_type": "code",
   "execution_count": null,
   "metadata": {},
   "outputs": [],
   "source": [
    "mus_true = torch.zeros((K, D)).float()\n",
    "for k in range(K):\n",
    "    if k == 0 :\n",
    "    mus_true[k] = Uniform(0, boundary).sample((2,)) * torch.from_numpy(np.random.choice([-1, 1], 2)).float()\n"
   ]
  },
  {
   "cell_type": "code",
   "execution_count": null,
   "metadata": {},
   "outputs": [],
   "source": [
    "torch.norm(mus_true - next_mus, dim=-1)"
   ]
  },
  {
   "cell_type": "code",
   "execution_count": null,
   "metadata": {},
   "outputs": [],
   "source": [
    "torch.norm(next_mus)"
   ]
  },
  {
   "cell_type": "code",
   "execution_count": 4,
   "metadata": {},
   "outputs": [
    {
     "data": {
      "text/plain": [
       "array([[[1.27543342, 0.95719999],\n",
       "        [1.57808673, 0.61237037],\n",
       "        [0.86168581, 3.28094769]],\n",
       "\n",
       "       [[1.04699337, 1.65645802],\n",
       "        [1.59631693, 0.85242975],\n",
       "        [1.1200639 , 1.23072314]],\n",
       "\n",
       "       [[1.53165674, 1.03599524],\n",
       "        [0.99255013, 1.40816402],\n",
       "        [1.65661955, 1.32156563]],\n",
       "\n",
       "       ...,\n",
       "\n",
       "       [[1.04701841, 0.90348518],\n",
       "        [1.32280064, 0.86971939],\n",
       "        [1.29918945, 1.10993791]],\n",
       "\n",
       "       [[0.91680318, 0.81480366],\n",
       "        [1.15812385, 0.98106337],\n",
       "        [0.81942368, 0.87672645]],\n",
       "\n",
       "       [[1.13711107, 0.97812772],\n",
       "        [0.86348009, 0.75868106],\n",
       "        [0.82018071, 1.40595663]]])"
      ]
     },
     "execution_count": 4,
     "metadata": {},
     "output_type": "execute_result"
    }
   ],
   "source": [
    "OBS_SIGMA"
   ]
  },
  {
   "cell_type": "code",
   "execution_count": null,
   "metadata": {},
   "outputs": [],
   "source": []
  }
 ],
 "metadata": {
  "kernelspec": {
   "display_name": "Python 3",
   "language": "python",
   "name": "python3"
  },
  "language_info": {
   "codemirror_mode": {
    "name": "ipython",
    "version": 3
   },
   "file_extension": ".py",
   "mimetype": "text/x-python",
   "name": "python",
   "nbconvert_exporter": "python",
   "pygments_lexer": "ipython3",
   "version": "3.6.6"
  }
 },
 "nbformat": 4,
 "nbformat_minor": 2
}
