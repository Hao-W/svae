{
 "cells": [
  {
   "cell_type": "code",
   "execution_count": 1,
   "metadata": {},
   "outputs": [
    {
     "name": "stdout",
     "output_type": "stream",
     "text": [
      "probtorch: 0.0+5a2c637 torch: 1.0.0 cuda: True\n"
     ]
    }
   ],
   "source": [
    "%matplotlib inline\n",
    "import sys\n",
    "sys.path.append(\"../\")\n",
    "sys.path.append('/home/hao/Research/probtorch/')\n",
    "from plots import *\n",
    "from training import *\n",
    "from objectives import *\n",
    "from model_naive_natparam import *\n",
    "\n",
    "import probtorch\n",
    "print('probtorch:', probtorch.__version__, \n",
    "      'torch:', torch.__version__, \n",
    "      'cuda:', torch.cuda.is_available())"
   ]
  },
  {
   "cell_type": "code",
   "execution_count": 2,
   "metadata": {},
   "outputs": [],
   "source": [
    "data_path = \"../gmm_dataset_conjugate2k\"\n",
    "Data = torch.from_numpy(np.load(data_path + '/obs.npy')).float()\n",
    "_, N, D = Data.shape\n",
    "K = 3 ## number of clusters\n",
    "## Model Parameters\n",
    "MCMC_SIZE = 10\n",
    "SAMPLE_SIZE = 10\n",
    "NUM_HIDDEN_LOCAL = 3*D*2\n",
    "## Training Parameters\n",
    "BATCH_SIZE = 20\n",
    "NUM_EPOCHS = 2000\n",
    "LEARNING_RATE = 1e-4\n",
    "CUDA = torch.cuda.is_available()\n",
    "PATH = 'ag-sis-init-z'\n",
    "\n",
    "DEVICE = torch.device('cuda:0')"
   ]
  },
  {
   "cell_type": "code",
   "execution_count": 3,
   "metadata": {},
   "outputs": [],
   "source": [
    "enc_eta, enc_z, optimizer = initialize(K, D, NUM_HIDDEN_LOCAL, CUDA, DEVICE, LEARNING_RATE)"
   ]
  },
  {
   "cell_type": "code",
   "execution_count": null,
   "metadata": {},
   "outputs": [
    {
     "name": "stdout",
     "output_type": "stream",
     "text": [
      "epoch=0, EUBO=-1157.477, ELBO=-1437.489, ESS=1.022 (9s)\n",
      "epoch=1, EUBO=-1121.578, ELBO=-1389.339, ESS=1.023 (8s)\n",
      "epoch=2, EUBO=-1084.612, ELBO=-1342.501, ESS=1.024 (7s)\n",
      "epoch=3, EUBO=-1049.830, ELBO=-1297.715, ESS=1.024 (8s)\n",
      "epoch=4, EUBO=-1015.903, ELBO=-1253.085, ESS=1.028 (9s)\n",
      "epoch=5, EUBO=-985.799, ELBO=-1212.446, ESS=1.026 (9s)\n",
      "epoch=6, EUBO=-955.958, ELBO=-1172.275, ESS=1.029 (9s)\n",
      "epoch=7, EUBO=-924.662, ELBO=-1131.976, ESS=1.032 (9s)\n",
      "epoch=8, EUBO=-896.747, ELBO=-1095.936, ESS=1.032 (9s)\n",
      "epoch=9, EUBO=-869.913, ELBO=-1060.991, ESS=1.035 (9s)\n",
      "epoch=10, EUBO=-845.447, ELBO=-1028.223, ESS=1.034 (9s)\n",
      "epoch=11, EUBO=-822.634, ELBO=-996.782, ESS=1.040 (10s)\n",
      "epoch=12, EUBO=-802.135, ELBO=-968.181, ESS=1.039 (11s)\n",
      "epoch=13, EUBO=-781.092, ELBO=-940.503, ESS=1.042 (11s)\n",
      "epoch=14, EUBO=-762.049, ELBO=-914.925, ESS=1.045 (11s)\n",
      "epoch=15, EUBO=-742.823, ELBO=-890.592, ESS=1.042 (11s)\n",
      "epoch=16, EUBO=-727.454, ELBO=-868.170, ESS=1.049 (10s)\n",
      "epoch=17, EUBO=-710.867, ELBO=-847.440, ESS=1.048 (10s)\n",
      "epoch=18, EUBO=-695.925, ELBO=-827.726, ESS=1.054 (10s)\n",
      "epoch=19, EUBO=-682.808, ELBO=-810.205, ESS=1.056 (10s)\n",
      "epoch=20, EUBO=-669.986, ELBO=-792.238, ESS=1.059 (10s)\n",
      "epoch=21, EUBO=-658.208, ELBO=-776.397, ESS=1.058 (10s)\n",
      "epoch=22, EUBO=-646.164, ELBO=-760.735, ESS=1.064 (10s)\n",
      "epoch=23, EUBO=-635.295, ELBO=-746.395, ESS=1.069 (10s)\n",
      "epoch=24, EUBO=-625.732, ELBO=-732.744, ESS=1.066 (10s)\n",
      "epoch=25, EUBO=-614.711, ELBO=-718.546, ESS=1.074 (10s)\n",
      "epoch=26, EUBO=-604.995, ELBO=-706.280, ESS=1.074 (11s)\n",
      "epoch=27, EUBO=-595.796, ELBO=-693.999, ESS=1.077 (11s)\n",
      "epoch=28, EUBO=-587.243, ELBO=-681.989, ESS=1.080 (10s)\n",
      "epoch=29, EUBO=-577.550, ELBO=-669.850, ESS=1.089 (10s)\n",
      "epoch=30, EUBO=-569.931, ELBO=-659.170, ESS=1.094 (10s)\n",
      "epoch=31, EUBO=-561.886, ELBO=-648.215, ESS=1.096 (10s)\n",
      "epoch=32, EUBO=-553.256, ELBO=-637.194, ESS=1.101 (10s)\n",
      "epoch=33, EUBO=-545.898, ELBO=-626.958, ESS=1.105 (10s)\n",
      "epoch=34, EUBO=-538.221, ELBO=-617.046, ESS=1.110 (11s)\n",
      "epoch=35, EUBO=-531.391, ELBO=-607.536, ESS=1.114 (11s)\n",
      "epoch=36, EUBO=-525.004, ELBO=-598.507, ESS=1.119 (11s)\n",
      "epoch=37, EUBO=-517.794, ELBO=-589.502, ESS=1.126 (10s)\n",
      "epoch=38, EUBO=-511.976, ELBO=-581.531, ESS=1.128 (10s)\n",
      "epoch=39, EUBO=-506.040, ELBO=-572.978, ESS=1.139 (10s)\n",
      "epoch=40, EUBO=-500.202, ELBO=-565.590, ESS=1.141 (10s)\n",
      "epoch=41, EUBO=-494.765, ELBO=-558.017, ESS=1.148 (10s)\n",
      "epoch=42, EUBO=-489.231, ELBO=-550.997, ESS=1.153 (10s)\n",
      "epoch=43, EUBO=-484.671, ELBO=-544.175, ESS=1.159 (10s)\n",
      "epoch=44, EUBO=-480.027, ELBO=-538.087, ESS=1.157 (10s)\n",
      "epoch=45, EUBO=-475.481, ELBO=-531.854, ESS=1.169 (10s)\n",
      "epoch=46, EUBO=-471.583, ELBO=-526.373, ESS=1.171 (10s)\n",
      "epoch=47, EUBO=-467.341, ELBO=-520.661, ESS=1.178 (11s)\n",
      "epoch=48, EUBO=-463.850, ELBO=-515.546, ESS=1.183 (10s)\n",
      "epoch=49, EUBO=-460.133, ELBO=-510.584, ESS=1.185 (10s)\n",
      "epoch=50, EUBO=-456.674, ELBO=-506.000, ESS=1.188 (10s)\n",
      "epoch=51, EUBO=-453.857, ELBO=-501.606, ESS=1.194 (10s)\n",
      "epoch=52, EUBO=-450.579, ELBO=-497.269, ESS=1.200 (11s)\n",
      "epoch=53, EUBO=-447.760, ELBO=-493.438, ESS=1.198 (11s)\n",
      "epoch=54, EUBO=-445.167, ELBO=-489.807, ESS=1.204 (10s)\n",
      "epoch=55, EUBO=-442.478, ELBO=-486.338, ESS=1.204 (10s)\n",
      "epoch=56, EUBO=-440.214, ELBO=-482.774, ESS=1.211 (10s)\n",
      "epoch=57, EUBO=-437.666, ELBO=-479.680, ESS=1.218 (11s)\n",
      "epoch=58, EUBO=-435.451, ELBO=-476.654, ESS=1.221 (11s)\n",
      "epoch=59, EUBO=-433.307, ELBO=-473.538, ESS=1.217 (10s)\n",
      "epoch=60, EUBO=-431.416, ELBO=-471.054, ESS=1.219 (10s)\n",
      "epoch=61, EUBO=-429.433, ELBO=-468.421, ESS=1.223 (10s)\n",
      "epoch=62, EUBO=-427.452, ELBO=-465.718, ESS=1.226 (10s)\n",
      "epoch=63, EUBO=-425.379, ELBO=-463.157, ESS=1.228 (10s)\n",
      "epoch=64, EUBO=-423.504, ELBO=-460.494, ESS=1.232 (10s)\n",
      "epoch=65, EUBO=-421.775, ELBO=-458.131, ESS=1.226 (11s)\n",
      "epoch=66, EUBO=-420.009, ELBO=-455.809, ESS=1.237 (11s)\n",
      "epoch=67, EUBO=-418.232, ELBO=-453.590, ESS=1.240 (11s)\n"
     ]
    }
   ],
   "source": [
    "train(Eubo_init_z, enc_eta, enc_z, optimizer, Data, K, NUM_EPOCHS, MCMC_SIZE, SAMPLE_SIZE, BATCH_SIZE, PATH, CUDA, DEVICE)"
   ]
  },
  {
   "cell_type": "code",
   "execution_count": null,
   "metadata": {},
   "outputs": [],
   "source": [
    "torch.save(enc_eta.state_dict(), '../weights/enc-eta-%s' + PATH)\n",
    "torch.save(enc_z.state_dict(), '../weights/enc-z-%s' + PATH)"
   ]
  },
  {
   "cell_type": "code",
   "execution_count": null,
   "metadata": {},
   "outputs": [],
   "source": [
    "test(Eubo_init_z, enc_eta, enc_z, Data, K, MCMC_SIZE, SAMPLE_SIZE, BATCH_SIZE, CUDA, DEVICE)"
   ]
  },
  {
   "cell_type": "code",
   "execution_count": null,
   "metadata": {},
   "outputs": [],
   "source": [
    "plot_samples(obs, q_eta, q_z, PATH)"
   ]
  },
  {
   "cell_type": "code",
   "execution_count": null,
   "metadata": {},
   "outputs": [],
   "source": []
  }
 ],
 "metadata": {
  "kernelspec": {
   "display_name": "Python 3",
   "language": "python",
   "name": "python3"
  },
  "language_info": {
   "codemirror_mode": {
    "name": "ipython",
    "version": 3
   },
   "file_extension": ".py",
   "mimetype": "text/x-python",
   "name": "python",
   "nbconvert_exporter": "python",
   "pygments_lexer": "ipython3",
   "version": "3.6.7"
  }
 },
 "nbformat": 4,
 "nbformat_minor": 2
}
