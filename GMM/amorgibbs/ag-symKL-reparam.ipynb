{
 "cells": [
  {
   "cell_type": "code",
   "execution_count": 1,
   "metadata": {},
   "outputs": [
    {
     "name": "stdout",
     "output_type": "stream",
     "text": [
      "probtorch: 0.0+5a2c637 torch: 1.1.0 cuda: True\n"
     ]
    }
   ],
   "source": [
    "%matplotlib inline\n",
    "%run ../../path_import.py\n",
    "from plots import *\n",
    "from training_reparam import *\n",
    "from eubo import *\n",
    "from model_reparam import *\n",
    "\n",
    "import probtorch\n",
    "print('probtorch:', probtorch.__version__, \n",
    "      'torch:', torch.__version__, \n",
    "      'cuda:', torch.cuda.is_available())"
   ]
  },
  {
   "cell_type": "code",
   "execution_count": 2,
   "metadata": {},
   "outputs": [],
   "source": [
    "data_path = \"../gmm_dataset_c2k\"\n",
    "Data = torch.from_numpy(np.load(data_path + '/obs.npy')).float()\n",
    "_, N, D = Data.shape\n",
    "K = 3 ## number of clusters\n",
    "## Model Parameters\n",
    "MCMC_SIZE = 20\n",
    "SAMPLE_SIZE = 10\n",
    "NUM_HIDDEN_LOCAL = 32\n",
    "## Training Parameters\n",
    "BATCH_SIZE = 20\n",
    "NUM_EPOCHS = 1000\n",
    "LEARNING_RATE = 5*1e-4\n",
    "CUDA = torch.cuda.is_available()\n",
    "PATH = 'ag-mcmc-v2-%dsteps-%dsamples' % (MCMC_SIZE, SAMPLE_SIZE)\n",
    "\n",
    "DEVICE = torch.device('cuda:0')"
   ]
  },
  {
   "cell_type": "code",
   "execution_count": 3,
   "metadata": {},
   "outputs": [],
   "source": [
    "# initialization\n",
    "enc_z = Gibbs_z(K, CUDA, DEVICE)\n",
    "enc_eta = Enc_eta(K, D, CUDA, DEVICE)\n",
    "if CUDA:\n",
    "    enc_eta.cuda().to(DEVICE)\n",
    "optimizer =  torch.optim.Adam(list(enc_eta.parameters()),lr=LEARNING_RATE, betas=(0.9, 0.99))"
   ]
  },
  {
   "cell_type": "code",
   "execution_count": null,
   "metadata": {},
   "outputs": [],
   "source": [
    "# enc_eta.load_state_dict(torch.load('../weights/enc-eta-%s' + PATH))"
   ]
  },
  {
   "cell_type": "code",
   "execution_count": null,
   "metadata": {},
   "outputs": [
    {
     "name": "stdout",
     "output_type": "stream",
     "text": [
      "epoch=0, symKL=13393.713, EUBO=6302.468, ELBO=-7497.438, ESS=1.215 (23s)\n",
      "epoch=1, symKL=10959.183, EUBO=5203.762, ELBO=-6163.640, ESS=1.217 (24s)\n",
      "epoch=2, symKL=9137.110, EUBO=4379.717, ELBO=-5162.762, ESS=1.220 (24s)\n",
      "epoch=3, symKL=7814.494, EUBO=3817.742, ELBO=-4405.618, ESS=1.227 (23s)\n",
      "epoch=4, symKL=6742.078, EUBO=3353.655, ELBO=-3796.033, ESS=1.241 (25s)\n",
      "epoch=5, symKL=5923.580, EUBO=3004.624, ELBO=-3330.532, ESS=1.252 (24s)\n",
      "epoch=6, symKL=5250.435, EUBO=2696.971, ELBO=-2961.977, ESS=1.269 (21s)\n",
      "epoch=7, symKL=4732.467, EUBO=2469.796, ELBO=-2673.611, ESS=1.287 (21s)\n",
      "epoch=8, symKL=4309.627, EUBO=2261.822, ELBO=-2457.777, ESS=1.306 (21s)\n",
      "epoch=9, symKL=3974.181, EUBO=2103.369, ELBO=-2282.754, ESS=1.328 (22s)\n",
      "epoch=10, symKL=3689.424, EUBO=1948.831, ELBO=-2151.652, ESS=1.350 (21s)\n",
      "epoch=11, symKL=3456.713, EUBO=1805.229, ELBO=-2058.920, ESS=1.371 (23s)\n",
      "epoch=12, symKL=3249.216, EUBO=1664.817, ELBO=-1988.189, ESS=1.389 (23s)\n",
      "epoch=13, symKL=3096.481, EUBO=1567.770, ELBO=-1938.836, ESS=1.405 (20s)\n",
      "epoch=14, symKL=2969.981, EUBO=1469.950, ELBO=-1910.829, ESS=1.416 (20s)\n",
      "epoch=15, symKL=2839.548, EUBO=1352.457, ELBO=-1894.131, ESS=1.431 (23s)\n",
      "epoch=16, symKL=2728.684, EUBO=1251.582, ELBO=-1881.669, ESS=1.440 (25s)\n",
      "epoch=17, symKL=2650.155, EUBO=1176.731, ELBO=-1881.677, ESS=1.451 (24s)\n",
      "epoch=18, symKL=2575.824, EUBO=1110.303, ELBO=-1877.273, ESS=1.460 (23s)\n",
      "epoch=19, symKL=2495.634, EUBO=1022.777, ELBO=-1879.834, ESS=1.469 (23s)\n",
      "epoch=20, symKL=2440.156, EUBO=970.366, ELBO=-1877.154, ESS=1.478 (23s)\n",
      "epoch=21, symKL=2373.659, EUBO=910.995, ELBO=-1868.622, ESS=1.489 (23s)\n",
      "epoch=22, symKL=2299.273, EUBO=837.924, ELBO=-1868.029, ESS=1.500 (23s)\n",
      "epoch=23, symKL=2276.146, EUBO=815.374, ELBO=-1868.485, ESS=1.510 (23s)\n",
      "epoch=24, symKL=2223.829, EUBO=764.634, ELBO=-1865.752, ESS=1.516 (23s)\n",
      "epoch=25, symKL=2188.386, EUBO=735.970, ELBO=-1863.215, ESS=1.532 (23s)\n",
      "epoch=26, symKL=2146.249, EUBO=679.985, ELBO=-1871.769, ESS=1.541 (23s)\n",
      "epoch=27, symKL=2123.266, EUBO=651.592, ELBO=-1876.623, ESS=1.552 (23s)\n",
      "epoch=28, symKL=2113.320, EUBO=636.355, ELBO=-1887.086, ESS=1.553 (23s)\n",
      "epoch=29, symKL=2084.369, EUBO=598.148, ELBO=-1897.783, ESS=1.563 (23s)\n",
      "epoch=30, symKL=2069.495, EUBO=583.278, ELBO=-1897.562, ESS=1.567 (23s)\n",
      "epoch=31, symKL=2053.081, EUBO=568.779, ELBO=-1894.992, ESS=1.572 (23s)\n",
      "epoch=32, symKL=2027.598, EUBO=543.759, ELBO=-1891.583, ESS=1.575 (23s)\n",
      "epoch=33, symKL=2034.935, EUBO=557.826, ELBO=-1884.448, ESS=1.576 (24s)\n",
      "epoch=34, symKL=2020.099, EUBO=546.309, ELBO=-1879.281, ESS=1.577 (24s)\n",
      "epoch=35, symKL=2013.603, EUBO=529.962, ELBO=-1888.917, ESS=1.572 (25s)\n",
      "epoch=36, symKL=2024.839, EUBO=537.981, ELBO=-1891.532, ESS=1.574 (22s)\n",
      "epoch=37, symKL=2014.060, EUBO=516.730, ELBO=-1903.535, ESS=1.572 (22s)\n",
      "epoch=38, symKL=2011.492, EUBO=526.858, ELBO=-1894.440, ESS=1.568 (21s)\n",
      "epoch=39, symKL=2028.679, EUBO=532.887, ELBO=-1906.871, ESS=1.566 (23s)\n",
      "epoch=40, symKL=2024.086, EUBO=526.547, ELBO=-1907.148, ESS=1.566 (24s)\n",
      "epoch=41, symKL=2010.017, EUBO=507.470, ELBO=-1909.131, ESS=1.564 (23s)\n",
      "epoch=42, symKL=2023.332, EUBO=521.018, ELBO=-1913.748, ESS=1.563 (23s)\n",
      "epoch=43, symKL=2012.503, EUBO=507.201, ELBO=-1913.129, ESS=1.562 (20s)\n",
      "epoch=44, symKL=2013.797, EUBO=510.072, ELBO=-1910.443, ESS=1.563 (20s)\n",
      "epoch=45, symKL=2026.754, EUBO=520.625, ELBO=-1914.037, ESS=1.560 (20s)\n",
      "epoch=46, symKL=2006.230, EUBO=503.387, ELBO=-1908.401, ESS=1.564 (20s)\n",
      "epoch=47, symKL=2013.476, EUBO=511.478, ELBO=-1910.210, ESS=1.563 (20s)\n",
      "epoch=48, symKL=2017.524, EUBO=508.481, ELBO=-1919.157, ESS=1.562 (20s)\n",
      "epoch=49, symKL=2011.748, EUBO=515.089, ELBO=-1907.553, ESS=1.564 (22s)\n",
      "epoch=50, symKL=2027.187, EUBO=519.645, ELBO=-1915.065, ESS=1.558 (24s)\n",
      "epoch=51, symKL=2021.699, EUBO=508.028, ELBO=-1921.863, ESS=1.561 (24s)\n",
      "epoch=52, symKL=2006.512, EUBO=503.070, ELBO=-1907.736, ESS=1.562 (23s)\n",
      "epoch=53, symKL=2014.332, EUBO=517.060, ELBO=-1905.800, ESS=1.561 (23s)\n",
      "epoch=54, symKL=2006.922, EUBO=508.451, ELBO=-1905.639, ESS=1.562 (23s)\n",
      "epoch=55, symKL=2010.774, EUBO=514.119, ELBO=-1905.951, ESS=1.564 (23s)\n",
      "epoch=56, symKL=2005.644, EUBO=501.599, ELBO=-1906.667, ESS=1.563 (23s)\n",
      "epoch=57, symKL=2011.870, EUBO=520.466, ELBO=-1901.297, ESS=1.566 (22s)\n",
      "epoch=58, symKL=2009.854, EUBO=520.938, ELBO=-1898.475, ESS=1.564 (21s)\n",
      "epoch=59, symKL=2013.826, EUBO=528.836, ELBO=-1894.990, ESS=1.563 (24s)\n",
      "epoch=60, symKL=2012.744, EUBO=538.012, ELBO=-1883.937, ESS=1.566 (23s)\n",
      "epoch=61, symKL=2017.560, EUBO=529.423, ELBO=-1899.400, ESS=1.565 (24s)\n",
      "epoch=62, symKL=2011.270, EUBO=526.946, ELBO=-1893.059, ESS=1.564 (23s)\n",
      "epoch=63, symKL=2019.632, EUBO=539.405, ELBO=-1891.276, ESS=1.567 (23s)\n",
      "epoch=64, symKL=2006.246, EUBO=524.877, ELBO=-1888.422, ESS=1.567 (24s)\n",
      "epoch=65, symKL=2002.535, EUBO=525.147, ELBO=-1887.494, ESS=1.567 (23s)\n",
      "epoch=66, symKL=2015.527, EUBO=537.917, ELBO=-1885.819, ESS=1.566 (23s)\n",
      "epoch=67, symKL=2008.195, EUBO=529.884, ELBO=-1887.307, ESS=1.570 (23s)\n",
      "epoch=68, symKL=2019.670, EUBO=547.146, ELBO=-1881.344, ESS=1.568 (23s)\n",
      "epoch=69, symKL=2006.376, EUBO=538.068, ELBO=-1876.116, ESS=1.567 (23s)\n",
      "epoch=70, symKL=2010.294, EUBO=542.443, ELBO=-1874.925, ESS=1.571 (23s)\n",
      "epoch=71, symKL=2009.245, EUBO=544.245, ELBO=-1874.685, ESS=1.572 (23s)\n",
      "epoch=72, symKL=2008.926, EUBO=542.920, ELBO=-1871.247, ESS=1.569 (22s)\n",
      "epoch=73, symKL=2006.357, EUBO=546.016, ELBO=-1865.716, ESS=1.569 (20s)\n",
      "epoch=74, symKL=1999.951, EUBO=552.136, ELBO=-1857.773, ESS=1.574 (20s)\n",
      "epoch=75, symKL=2009.541, EUBO=561.349, ELBO=-1856.241, ESS=1.570 (20s)\n",
      "epoch=76, symKL=2013.877, EUBO=565.694, ELBO=-1855.960, ESS=1.571 (20s)\n",
      "epoch=77, symKL=1991.650, EUBO=549.079, ELBO=-1848.022, ESS=1.575 (20s)\n",
      "epoch=78, symKL=2006.699, EUBO=568.672, ELBO=-1843.466, ESS=1.575 (21s)\n",
      "epoch=79, symKL=1988.142, EUBO=553.466, ELBO=-1840.749, ESS=1.575 (22s)\n",
      "epoch=80, symKL=1991.245, EUBO=563.001, ELBO=-1834.056, ESS=1.570 (20s)\n",
      "epoch=81, symKL=1996.005, EUBO=573.218, ELBO=-1831.257, ESS=1.578 (21s)\n",
      "epoch=82, symKL=2003.064, EUBO=591.925, ELBO=-1823.498, ESS=1.571 (21s)\n",
      "epoch=83, symKL=1988.891, EUBO=580.818, ELBO=-1813.560, ESS=1.575 (20s)\n",
      "epoch=84, symKL=1982.543, EUBO=585.655, ELBO=-1805.945, ESS=1.574 (20s)\n",
      "epoch=85, symKL=1982.115, EUBO=586.172, ELBO=-1808.407, ESS=1.575 (20s)\n",
      "epoch=86, symKL=1984.036, EUBO=595.505, ELBO=-1795.859, ESS=1.572 (20s)\n",
      "epoch=87, symKL=1965.738, EUBO=593.463, ELBO=-1778.429, ESS=1.576 (20s)\n",
      "epoch=88, symKL=1980.639, EUBO=613.222, ELBO=-1781.212, ESS=1.574 (20s)\n",
      "epoch=89, symKL=1954.346, EUBO=601.516, ELBO=-1762.790, ESS=1.579 (20s)\n",
      "epoch=90, symKL=1944.185, EUBO=596.569, ELBO=-1756.822, ESS=1.580 (20s)\n",
      "epoch=91, symKL=1957.947, EUBO=614.973, ELBO=-1749.331, ESS=1.580 (20s)\n",
      "epoch=92, symKL=1939.011, EUBO=611.299, ELBO=-1734.501, ESS=1.584 (20s)\n",
      "epoch=93, symKL=1932.718, EUBO=611.147, ELBO=-1727.323, ESS=1.585 (20s)\n",
      "epoch=94, symKL=1942.228, EUBO=627.216, ELBO=-1722.623, ESS=1.584 (20s)\n",
      "epoch=95, symKL=1924.018, EUBO=624.886, ELBO=-1711.718, ESS=1.582 (20s)\n",
      "epoch=96, symKL=1918.256, EUBO=628.961, ELBO=-1699.607, ESS=1.584 (20s)\n",
      "epoch=97, symKL=1903.881, EUBO=621.729, ELBO=-1688.195, ESS=1.588 (20s)\n",
      "epoch=98, symKL=1890.658, EUBO=623.625, ELBO=-1674.621, ESS=1.587 (20s)\n",
      "epoch=99, symKL=1899.890, EUBO=642.899, ELBO=-1666.918, ESS=1.592 (20s)\n",
      "epoch=100, symKL=1875.887, EUBO=634.735, ELBO=-1649.568, ESS=1.590 (20s)\n",
      "epoch=101, symKL=1867.136, EUBO=626.261, ELBO=-1649.122, ESS=1.594 (20s)\n",
      "epoch=102, symKL=1848.864, EUBO=630.814, ELBO=-1625.101, ESS=1.596 (20s)\n",
      "epoch=103, symKL=1839.112, EUBO=634.191, ELBO=-1611.967, ESS=1.595 (20s)\n",
      "epoch=104, symKL=1835.252, EUBO=646.011, ELBO=-1595.859, ESS=1.597 (20s)\n",
      "epoch=105, symKL=1822.490, EUBO=645.389, ELBO=-1585.808, ESS=1.600 (20s)\n",
      "epoch=106, symKL=1819.262, EUBO=661.379, ELBO=-1571.525, ESS=1.599 (20s)\n",
      "epoch=107, symKL=1783.697, EUBO=637.337, ELBO=-1554.636, ESS=1.604 (20s)\n",
      "epoch=108, symKL=1770.967, EUBO=642.494, ELBO=-1536.207, ESS=1.607 (20s)\n",
      "epoch=109, symKL=1772.436, EUBO=660.018, ELBO=-1522.412, ESS=1.605 (20s)\n",
      "epoch=110, symKL=1758.509, EUBO=675.403, ELBO=-1493.637, ESS=1.611 (20s)\n",
      "epoch=111, symKL=1723.783, EUBO=661.706, ELBO=-1471.473, ESS=1.610 (20s)\n",
      "epoch=112, symKL=1698.650, EUBO=656.010, ELBO=-1446.762, ESS=1.615 (20s)\n"
     ]
    }
   ],
   "source": [
    "RESAMPLE = False\n",
    "DETACH=True\n",
    "train_cfz_reparam(Eubo_cfz_init_eta, enc_eta, enc_z, optimizer, Data, K, NUM_EPOCHS, MCMC_SIZE, SAMPLE_SIZE, BATCH_SIZE, PATH, CUDA, DEVICE, RESAMPLE=RESAMPLE, DETACH=DETACH)"
   ]
  },
  {
   "cell_type": "code",
   "execution_count": null,
   "metadata": {},
   "outputs": [],
   "source": [
    "# %debug"
   ]
  },
  {
   "cell_type": "code",
   "execution_count": null,
   "metadata": {},
   "outputs": [],
   "source": [
    "# torch.save(enc_eta.state_dict(), '../weights/enc-eta-%s' + PATH)"
   ]
  },
  {
   "cell_type": "code",
   "execution_count": null,
   "metadata": {},
   "outputs": [],
   "source": [
    "BATCH_SIZE_TEST = 50\n",
    "RESAMPLE= False\n",
    "obs, q_eta, q_z, symkl_test, eubo_test, elbo_test = test(Eubo_cfz_init_z, enc_eta, enc_z, Data, K, MCMC_SIZE, SAMPLE_SIZE, BATCH_SIZE_TEST, CUDA, DEVICE, RESAMPLE=RESAMPLE)"
   ]
  },
  {
   "cell_type": "code",
   "execution_count": null,
   "metadata": {},
   "outputs": [],
   "source": [
    "%time plot_samples(obs, q_eta, q_z, PATH)"
   ]
  },
  {
   "cell_type": "code",
   "execution_count": null,
   "metadata": {},
   "outputs": [],
   "source": [
    "incremental_gap = symkl_test.cpu().data.numpy()[1:]\n",
    "M = incremental_gap.shape[0]\n",
    "overall_gap = np.zeros(M)\n",
    "for m in range(M):\n",
    "    overall_gap[m] = incremental_gap[:m+1].sum()"
   ]
  },
  {
   "cell_type": "code",
   "execution_count": null,
   "metadata": {},
   "outputs": [],
   "source": [
    "fig = plt.figure(figsize=(12,6))\n",
    "ax = fig.add_subplot(111)\n",
    "plt.yscale(\"log\")\n",
    "ax.plot(incremental_gap, label=\"incremental gap\")\n",
    "ax.plot(overall_gap, label='overall gap')\n",
    "ax.legend(fontsize=14)\n",
    "ax.set_xlabel('Steps')"
   ]
  },
  {
   "cell_type": "code",
   "execution_count": null,
   "metadata": {},
   "outputs": [],
   "source": [
    "incremental_gap"
   ]
  },
  {
   "cell_type": "code",
   "execution_count": null,
   "metadata": {},
   "outputs": [],
   "source": []
  }
 ],
 "metadata": {
  "kernelspec": {
   "display_name": "Python 2",
   "language": "python",
   "name": "python2"
  },
  "language_info": {
   "codemirror_mode": {
    "name": "ipython",
    "version": 3
   },
   "file_extension": ".py",
   "mimetype": "text/x-python",
   "name": "python",
   "nbconvert_exporter": "python",
   "pygments_lexer": "ipython3",
   "version": "3.7.3"
  }
 },
 "nbformat": 4,
 "nbformat_minor": 2
}
