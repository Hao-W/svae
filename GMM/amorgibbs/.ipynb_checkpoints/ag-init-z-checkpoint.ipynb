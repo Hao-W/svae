{
 "cells": [
  {
   "cell_type": "code",
   "execution_count": 1,
   "metadata": {},
   "outputs": [
    {
     "name": "stdout",
     "output_type": "stream",
     "text": [
      "probtorch: 0.0+5a2c637 torch: 1.0.0 cuda: True\n"
     ]
    }
   ],
   "source": [
    "%matplotlib inline\n",
    "%run ../../path_import.py\n",
    "from plots import *\n",
    "from training import *\n",
    "from eubo import *\n",
    "from model_naive_natparam import *\n",
    "\n",
    "import probtorch\n",
    "print('probtorch:', probtorch.__version__, \n",
    "      'torch:', torch.__version__, \n",
    "      'cuda:', torch.cuda.is_available())"
   ]
  },
  {
   "cell_type": "code",
   "execution_count": 2,
   "metadata": {},
   "outputs": [],
   "source": [
    "data_path = \"../gmm_dataset_conjugate2k\"\n",
    "Data = torch.from_numpy(np.load(data_path + '/obs.npy')).float()\n",
    "_, N, D = Data.shape\n",
    "K = 3 ## number of clusters\n",
    "## Model Parameters\n",
    "MCMC_SIZE = 10\n",
    "SAMPLE_SIZE = 10\n",
    "NUM_HIDDEN_LOCAL = 3*D*2\n",
    "## Training Parameters\n",
    "BATCH_SIZE = 20\n",
    "NUM_EPOCHS = 2000\n",
    "LEARNING_RATE = 1e-3\n",
    "CUDA = torch.cuda.is_available()\n",
    "PATH = 'ag-idw-init-z'\n",
    "\n",
    "DEVICE = torch.device('cuda:0')"
   ]
  },
  {
   "cell_type": "code",
   "execution_count": 3,
   "metadata": {},
   "outputs": [],
   "source": [
    "enc_eta, enc_z, optimizer = initialize(K, D, NUM_HIDDEN_LOCAL, CUDA, DEVICE, LEARNING_RATE)"
   ]
  },
  {
   "cell_type": "code",
   "execution_count": null,
   "metadata": {},
   "outputs": [
    {
     "name": "stdout",
     "output_type": "stream",
     "text": [
      "epoch=0, EUBO=-838.310, ELBO=-1302.950, ESS=3.043 (10s)\n",
      "epoch=1, EUBO=-618.988, ELBO=-891.713, ESS=3.452 (11s)\n",
      "epoch=2, EUBO=-507.508, ELBO=-677.672, ESS=3.932 (12s)\n",
      "epoch=3, EUBO=-451.954, ELBO=-581.039, ESS=4.284 (12s)\n",
      "epoch=4, EUBO=-417.782, ELBO=-523.872, ESS=4.516 (12s)\n",
      "epoch=5, EUBO=-394.178, ELBO=-486.104, ESS=4.680 (12s)\n",
      "epoch=6, EUBO=-376.327, ELBO=-456.618, ESS=4.828 (12s)\n",
      "epoch=7, EUBO=-360.616, ELBO=-432.717, ESS=4.922 (12s)\n",
      "epoch=8, EUBO=-348.517, ELBO=-415.244, ESS=4.987 (12s)\n",
      "epoch=9, EUBO=-339.787, ELBO=-402.795, ESS=5.024 (12s)\n",
      "epoch=10, EUBO=-334.957, ELBO=-395.127, ESS=5.069 (12s)\n",
      "epoch=11, EUBO=-331.218, ELBO=-389.965, ESS=5.103 (11s)\n",
      "epoch=12, EUBO=-329.186, ELBO=-386.541, ESS=5.146 (12s)\n",
      "epoch=13, EUBO=-327.492, ELBO=-384.201, ESS=5.186 (12s)\n",
      "epoch=14, EUBO=-325.314, ELBO=-380.951, ESS=5.233 (12s)\n",
      "epoch=15, EUBO=-324.050, ELBO=-379.206, ESS=5.270 (11s)\n",
      "epoch=16, EUBO=-322.016, ELBO=-376.118, ESS=5.305 (11s)\n",
      "epoch=17, EUBO=-319.883, ELBO=-373.476, ESS=5.328 (11s)\n",
      "epoch=18, EUBO=-317.085, ELBO=-369.872, ESS=5.348 (11s)\n",
      "epoch=19, EUBO=-312.935, ELBO=-363.963, ESS=5.361 (11s)\n",
      "epoch=20, EUBO=-307.994, ELBO=-357.475, ESS=5.376 (11s)\n",
      "epoch=21, EUBO=-300.708, ELBO=-347.322, ESS=5.389 (11s)\n",
      "epoch=22, EUBO=-290.739, ELBO=-333.962, ESS=5.412 (11s)\n",
      "epoch=23, EUBO=-279.637, ELBO=-319.052, ESS=5.440 (11s)\n",
      "epoch=24, EUBO=-268.518, ELBO=-304.192, ESS=5.471 (11s)\n",
      "epoch=25, EUBO=-258.095, ELBO=-290.577, ESS=5.507 (11s)\n",
      "epoch=26, EUBO=-250.190, ELBO=-280.074, ESS=5.543 (12s)\n",
      "epoch=27, EUBO=-244.823, ELBO=-273.242, ESS=5.578 (12s)\n",
      "epoch=28, EUBO=-241.383, ELBO=-268.742, ESS=5.612 (12s)\n",
      "epoch=29, EUBO=-239.262, ELBO=-265.913, ESS=5.628 (12s)\n",
      "epoch=30, EUBO=-237.279, ELBO=-263.154, ESS=5.644 (12s)\n",
      "epoch=31, EUBO=-235.783, ELBO=-260.678, ESS=5.658 (12s)\n",
      "epoch=32, EUBO=-233.880, ELBO=-257.911, ESS=5.668 (12s)\n",
      "epoch=33, EUBO=-232.566, ELBO=-255.771, ESS=5.680 (12s)\n",
      "epoch=34, EUBO=-231.027, ELBO=-253.579, ESS=5.689 (12s)\n",
      "epoch=35, EUBO=-230.390, ELBO=-252.636, ESS=5.693 (12s)\n",
      "epoch=36, EUBO=-229.190, ELBO=-250.972, ESS=5.700 (12s)\n",
      "epoch=37, EUBO=-228.602, ELBO=-250.307, ESS=5.712 (11s)\n",
      "epoch=38, EUBO=-228.671, ELBO=-250.504, ESS=5.709 (11s)\n",
      "epoch=39, EUBO=-228.443, ELBO=-250.352, ESS=5.702 (11s)\n",
      "epoch=40, EUBO=-227.834, ELBO=-249.736, ESS=5.701 (11s)\n",
      "epoch=41, EUBO=-227.000, ELBO=-248.834, ESS=5.722 (11s)\n",
      "epoch=42, EUBO=-226.542, ELBO=-248.199, ESS=5.760 (11s)\n",
      "epoch=43, EUBO=-225.819, ELBO=-247.289, ESS=5.797 (12s)\n",
      "epoch=44, EUBO=-226.005, ELBO=-247.409, ESS=5.842 (12s)\n",
      "epoch=45, EUBO=-225.419, ELBO=-246.673, ESS=5.889 (11s)\n",
      "epoch=46, EUBO=-225.358, ELBO=-246.517, ESS=5.931 (11s)\n",
      "epoch=47, EUBO=-225.196, ELBO=-246.296, ESS=5.971 (12s)\n",
      "epoch=48, EUBO=-224.937, ELBO=-245.913, ESS=6.012 (12s)\n",
      "epoch=49, EUBO=-224.801, ELBO=-245.623, ESS=6.059 (12s)\n",
      "epoch=50, EUBO=-225.162, ELBO=-246.154, ESS=6.078 (12s)\n",
      "epoch=51, EUBO=-225.068, ELBO=-245.842, ESS=6.115 (11s)\n",
      "epoch=52, EUBO=-224.706, ELBO=-245.423, ESS=6.159 (11s)\n",
      "epoch=53, EUBO=-224.672, ELBO=-245.475, ESS=6.181 (11s)\n",
      "epoch=54, EUBO=-224.981, ELBO=-245.794, ESS=6.190 (11s)\n",
      "epoch=55, EUBO=-224.932, ELBO=-245.709, ESS=6.212 (11s)\n",
      "epoch=56, EUBO=-224.555, ELBO=-245.332, ESS=6.236 (11s)\n",
      "epoch=57, EUBO=-224.726, ELBO=-245.390, ESS=6.258 (11s)\n",
      "epoch=58, EUBO=-224.696, ELBO=-245.427, ESS=6.256 (11s)\n",
      "epoch=59, EUBO=-224.878, ELBO=-245.598, ESS=6.265 (11s)\n",
      "epoch=60, EUBO=-224.925, ELBO=-245.723, ESS=6.271 (11s)\n",
      "epoch=61, EUBO=-224.853, ELBO=-245.568, ESS=6.276 (11s)\n",
      "epoch=62, EUBO=-224.892, ELBO=-245.654, ESS=6.292 (11s)\n",
      "epoch=63, EUBO=-224.689, ELBO=-245.324, ESS=6.300 (11s)\n",
      "epoch=64, EUBO=-224.849, ELBO=-245.449, ESS=6.304 (11s)\n",
      "epoch=65, EUBO=-224.624, ELBO=-245.349, ESS=6.303 (11s)\n",
      "epoch=66, EUBO=-224.782, ELBO=-245.285, ESS=6.309 (11s)\n",
      "epoch=67, EUBO=-224.613, ELBO=-245.170, ESS=6.312 (11s)\n",
      "epoch=68, EUBO=-224.701, ELBO=-245.256, ESS=6.312 (11s)\n",
      "epoch=69, EUBO=-224.811, ELBO=-245.385, ESS=6.308 (12s)\n",
      "epoch=70, EUBO=-224.926, ELBO=-245.650, ESS=6.300 (12s)\n",
      "epoch=71, EUBO=-224.690, ELBO=-245.286, ESS=6.314 (12s)\n"
     ]
    }
   ],
   "source": [
    "train(Eubo_idw_init_z, enc_eta, enc_z, optimizer, Data, K, NUM_EPOCHS, MCMC_SIZE, SAMPLE_SIZE, BATCH_SIZE, PATH, CUDA, DEVICE)"
   ]
  },
  {
   "cell_type": "code",
   "execution_count": null,
   "metadata": {},
   "outputs": [],
   "source": [
    "# torch.save(enc_eta.state_dict(), '../weights/enc-eta-%s' + PATH)\n",
    "# torch.save(enc_z.state_dict(), '../weights/enc-z-%s' + PATH)"
   ]
  },
  {
   "cell_type": "code",
   "execution_count": null,
   "metadata": {},
   "outputs": [],
   "source": [
    "BATCH_SIZE_TEST = 50\n",
    "obs, q_eta, q_z = test(Eubo_init_z, enc_eta, enc_z, Data, K, MCMC_SIZE, SAMPLE_SIZE, BATCH_SIZE_TEST, CUDA, DEVICE)"
   ]
  },
  {
   "cell_type": "code",
   "execution_count": null,
   "metadata": {},
   "outputs": [],
   "source": [
    "%time plot_samples(obs, q_eta, q_z, PATH)"
   ]
  },
  {
   "cell_type": "code",
   "execution_count": null,
   "metadata": {},
   "outputs": [],
   "source": [
    "import torch"
   ]
  },
  {
   "cell_type": "code",
   "execution_count": null,
   "metadata": {},
   "outputs": [],
   "source": [
    "aa = torch.randn((3,4,5))"
   ]
  },
  {
   "cell_type": "code",
   "execution_count": null,
   "metadata": {},
   "outputs": [],
   "source": [
    "aa.permute(2,1,0).shape"
   ]
  },
  {
   "cell_type": "code",
   "execution_count": null,
   "metadata": {},
   "outputs": [],
   "source": []
  }
 ],
 "metadata": {
  "kernelspec": {
   "display_name": "Python 3",
   "language": "python",
   "name": "python3"
  },
  "language_info": {
   "codemirror_mode": {
    "name": "ipython",
    "version": 3
   },
   "file_extension": ".py",
   "mimetype": "text/x-python",
   "name": "python",
   "nbconvert_exporter": "python",
   "pygments_lexer": "ipython3",
   "version": "3.6.7"
  }
 },
 "nbformat": 4,
 "nbformat_minor": 2
}
