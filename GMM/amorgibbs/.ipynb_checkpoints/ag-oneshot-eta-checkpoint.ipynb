{
 "cells": [
  {
   "cell_type": "code",
   "execution_count": 1,
   "metadata": {},
   "outputs": [
    {
     "name": "stdout",
     "output_type": "stream",
     "text": [
      "probtorch: 0.0+5a2c637 torch: 1.1.0 cuda: True\n"
     ]
    }
   ],
   "source": [
    "%matplotlib inline\n",
    "%run ../../path_import.py\n",
    "from plots import *\n",
    "from training_oneshot import *\n",
    "from eubo import *\n",
    "from model_naive_natparam import *\n",
    "\n",
    "import probtorch\n",
    "print('probtorch:', probtorch.__version__, \n",
    "      'torch:', torch.__version__, \n",
    "      'cuda:', torch.cuda.is_available())"
   ]
  },
  {
   "cell_type": "code",
   "execution_count": 2,
   "metadata": {},
   "outputs": [],
   "source": [
    "data_path = \"../gmm_dataset_c20k\"\n",
    "Data = torch.from_numpy(np.load(data_path + '/obs.npy')).float()\n",
    "_, N, D = Data.shape\n",
    "K = 3 ## number of clusters\n",
    "## Model Parameters\n",
    "MCMC_SIZE = 20\n",
    "SAMPLE_SIZE = 10\n",
    "NUM_HIDDEN_LOCAL = 32\n",
    "## Training Parameters\n",
    "BATCH_SIZE = 20\n",
    "NUM_EPOCHS = 200\n",
    "LEARNING_RATE = 1e-4\n",
    "CUDA = torch.cuda.is_available()\n",
    "PATH = 'ag-os-prior-c20k'\n",
    "\n",
    "DEVICE = torch.device('cuda:1')"
   ]
  },
  {
   "cell_type": "code",
   "execution_count": 3,
   "metadata": {},
   "outputs": [],
   "source": [
    "# initialization\n",
    "enc_z = Enc_z(K, D, NUM_HIDDEN_LOCAL, CUDA, DEVICE)\n",
    "oneshot_eta = Oneshot_eta(K, D, CUDA, DEVICE)\n",
    "enc_eta = Enc_eta(K, D, CUDA, DEVICE)\n",
    "if CUDA:\n",
    "    oneshot_eta.cuda().to(DEVICE)\n",
    "    enc_eta.cuda().to(DEVICE)\n",
    "    enc_z.cuda().to(DEVICE)\n",
    "optimizer =  torch.optim.Adam(list(enc_z.parameters())+list(enc_eta.parameters())+list(oneshot_eta.parameters()),lr=LEARNING_RATE, betas=(0.9, 0.99))"
   ]
  },
  {
   "cell_type": "code",
   "execution_count": 4,
   "metadata": {},
   "outputs": [],
   "source": [
    "# oneshot_eta.load_state_dict(torch.load('../weights/oneshot-eta-%s' + PATH))\n",
    "# enc_eta.load_state_dict(torch.load('../weights/enc-eta-%s' + PATH))\n",
    "# enc_z.load_state_dict(torch.load('../weights/enc-z-%s' + PATH))"
   ]
  },
  {
   "cell_type": "code",
   "execution_count": 5,
   "metadata": {},
   "outputs": [
    {
     "ename": "RuntimeError",
     "evalue": "copy_if failed to synchronize: device-side assert triggered",
     "output_type": "error",
     "traceback": [
      "\u001b[0;31m---------------------------------------------------------------------------\u001b[0m",
      "\u001b[0;31mRuntimeError\u001b[0m                              Traceback (most recent call last)",
      "\u001b[0;32m<ipython-input-5-f297ebaa37ac>\u001b[0m in \u001b[0;36m<module>\u001b[0;34m\u001b[0m\n\u001b[0;32m----> 1\u001b[0;31m \u001b[0mtrain\u001b[0m\u001b[0;34m(\u001b[0m\u001b[0mEubo_oneshot_eta\u001b[0m\u001b[0;34m,\u001b[0m \u001b[0moneshot_eta\u001b[0m\u001b[0;34m,\u001b[0m \u001b[0menc_eta\u001b[0m\u001b[0;34m,\u001b[0m \u001b[0menc_z\u001b[0m\u001b[0;34m,\u001b[0m \u001b[0moptimizer\u001b[0m\u001b[0;34m,\u001b[0m \u001b[0mData\u001b[0m\u001b[0;34m,\u001b[0m \u001b[0mK\u001b[0m\u001b[0;34m,\u001b[0m \u001b[0mNUM_EPOCHS\u001b[0m\u001b[0;34m,\u001b[0m \u001b[0mMCMC_SIZE\u001b[0m\u001b[0;34m,\u001b[0m \u001b[0mSAMPLE_SIZE\u001b[0m\u001b[0;34m,\u001b[0m \u001b[0mBATCH_SIZE\u001b[0m\u001b[0;34m,\u001b[0m \u001b[0mPATH\u001b[0m\u001b[0;34m,\u001b[0m \u001b[0mCUDA\u001b[0m\u001b[0;34m,\u001b[0m \u001b[0mDEVICE\u001b[0m\u001b[0;34m)\u001b[0m\u001b[0;34m\u001b[0m\u001b[0;34m\u001b[0m\u001b[0m\n\u001b[0m",
      "\u001b[0;32m~/Research/amortized/GMM/training_oneshot.py\u001b[0m in \u001b[0;36mtrain\u001b[0;34m(Eubo, oneshot_eta, enc_eta, enc_z, optimizer, Data, K, num_epochs, mcmc_size, sample_size, batch_size, PATH, CUDA, device)\u001b[0m\n\u001b[1;32m     82\u001b[0m             \u001b[0;32mif\u001b[0m \u001b[0mCUDA\u001b[0m\u001b[0;34m:\u001b[0m\u001b[0;34m\u001b[0m\u001b[0;34m\u001b[0m\u001b[0m\n\u001b[1;32m     83\u001b[0m                 \u001b[0mobs\u001b[0m \u001b[0;34m=\u001b[0m\u001b[0mobs\u001b[0m\u001b[0;34m.\u001b[0m\u001b[0mcuda\u001b[0m\u001b[0;34m(\u001b[0m\u001b[0;34m)\u001b[0m\u001b[0;34m.\u001b[0m\u001b[0mto\u001b[0m\u001b[0;34m(\u001b[0m\u001b[0mdevice\u001b[0m\u001b[0;34m)\u001b[0m\u001b[0;34m\u001b[0m\u001b[0;34m\u001b[0m\u001b[0m\n\u001b[0;32m---> 84\u001b[0;31m             \u001b[0meubos\u001b[0m\u001b[0;34m,\u001b[0m \u001b[0melbos\u001b[0m\u001b[0;34m,\u001b[0m \u001b[0messs\u001b[0m\u001b[0;34m,\u001b[0m \u001b[0mq_eta\u001b[0m\u001b[0;34m,\u001b[0m \u001b[0mp_eta\u001b[0m\u001b[0;34m,\u001b[0m \u001b[0mq_z\u001b[0m\u001b[0;34m,\u001b[0m \u001b[0mp_z\u001b[0m\u001b[0;34m,\u001b[0m \u001b[0mq_nu\u001b[0m\u001b[0;34m,\u001b[0m \u001b[0mpr_nu\u001b[0m \u001b[0;34m=\u001b[0m \u001b[0mEubo\u001b[0m\u001b[0;34m(\u001b[0m\u001b[0moneshot_eta\u001b[0m\u001b[0;34m,\u001b[0m \u001b[0menc_eta\u001b[0m\u001b[0;34m,\u001b[0m \u001b[0menc_z\u001b[0m\u001b[0;34m,\u001b[0m \u001b[0mobs\u001b[0m\u001b[0;34m,\u001b[0m \u001b[0mN\u001b[0m\u001b[0;34m,\u001b[0m \u001b[0mK\u001b[0m\u001b[0;34m,\u001b[0m \u001b[0mD\u001b[0m\u001b[0;34m,\u001b[0m \u001b[0mmcmc_size\u001b[0m\u001b[0;34m,\u001b[0m \u001b[0msample_size\u001b[0m\u001b[0;34m,\u001b[0m \u001b[0mbatch_size\u001b[0m\u001b[0;34m,\u001b[0m \u001b[0mdevice\u001b[0m\u001b[0;34m)\u001b[0m\u001b[0;34m\u001b[0m\u001b[0;34m\u001b[0m\u001b[0m\n\u001b[0m\u001b[1;32m     85\u001b[0m             \u001b[0mkl_eta_ex\u001b[0m\u001b[0;34m,\u001b[0m \u001b[0mkl_eta_in\u001b[0m\u001b[0;34m,\u001b[0m \u001b[0mkl_z_ex\u001b[0m\u001b[0;34m,\u001b[0m \u001b[0mkl_z_in\u001b[0m \u001b[0;34m=\u001b[0m \u001b[0mkl_train\u001b[0m\u001b[0;34m(\u001b[0m\u001b[0mq_eta\u001b[0m\u001b[0;34m,\u001b[0m \u001b[0mp_eta\u001b[0m\u001b[0;34m,\u001b[0m \u001b[0mq_z\u001b[0m\u001b[0;34m,\u001b[0m \u001b[0mp_z\u001b[0m\u001b[0;34m,\u001b[0m \u001b[0mq_nu\u001b[0m\u001b[0;34m,\u001b[0m \u001b[0mpr_nu\u001b[0m\u001b[0;34m,\u001b[0m \u001b[0mobs\u001b[0m\u001b[0;34m,\u001b[0m \u001b[0mK\u001b[0m\u001b[0;34m)\u001b[0m\u001b[0;34m\u001b[0m\u001b[0;34m\u001b[0m\u001b[0m\n\u001b[1;32m     86\u001b[0m             \u001b[0;31m## gradient step\u001b[0m\u001b[0;34m\u001b[0m\u001b[0;34m\u001b[0m\u001b[0;34m\u001b[0m\u001b[0m\n",
      "\u001b[0;32m~/Research/amortized/GMM/amorgibbs/eubo.py\u001b[0m in \u001b[0;36mEubo_oneshot_eta\u001b[0;34m(oneshot_eta, enc_eta, enc_z, obs, N, K, D, mcmc_size, sample_size, batch_size, device, idw_flag)\u001b[0m\n\u001b[1;32m     80\u001b[0m             \u001b[0mstate\u001b[0m \u001b[0;34m=\u001b[0m \u001b[0mresample_state\u001b[0m\u001b[0;34m(\u001b[0m\u001b[0mstate\u001b[0m\u001b[0;34m,\u001b[0m \u001b[0mweights_local\u001b[0m\u001b[0;34m,\u001b[0m \u001b[0midw_flag\u001b[0m\u001b[0;34m=\u001b[0m\u001b[0midw_flag\u001b[0m\u001b[0;34m)\u001b[0m\u001b[0;34m\u001b[0m\u001b[0;34m\u001b[0m\u001b[0m\n\u001b[1;32m     81\u001b[0m         \u001b[0;31m## update tau and mu -- global variables\u001b[0m\u001b[0;34m\u001b[0m\u001b[0;34m\u001b[0m\u001b[0;34m\u001b[0m\u001b[0m\n\u001b[0;32m---> 82\u001b[0;31m         \u001b[0mq_eta\u001b[0m\u001b[0;34m,\u001b[0m \u001b[0mp_eta\u001b[0m\u001b[0;34m,\u001b[0m \u001b[0mq_nu\u001b[0m \u001b[0;34m=\u001b[0m \u001b[0menc_eta\u001b[0m\u001b[0;34m(\u001b[0m\u001b[0mobs\u001b[0m\u001b[0;34m,\u001b[0m \u001b[0mstate\u001b[0m\u001b[0;34m,\u001b[0m \u001b[0mK\u001b[0m\u001b[0;34m,\u001b[0m \u001b[0mD\u001b[0m\u001b[0;34m)\u001b[0m\u001b[0;34m\u001b[0m\u001b[0;34m\u001b[0m\u001b[0m\n\u001b[0m\u001b[1;32m     83\u001b[0m         \u001b[0mlog_p_eta\u001b[0m \u001b[0;34m=\u001b[0m \u001b[0mp_eta\u001b[0m\u001b[0;34m[\u001b[0m\u001b[0;34m'means'\u001b[0m\u001b[0;34m]\u001b[0m\u001b[0;34m.\u001b[0m\u001b[0mlog_prob\u001b[0m\u001b[0;34m.\u001b[0m\u001b[0msum\u001b[0m\u001b[0;34m(\u001b[0m\u001b[0;34m-\u001b[0m\u001b[0;36m1\u001b[0m\u001b[0;34m)\u001b[0m \u001b[0;34m+\u001b[0m \u001b[0mp_eta\u001b[0m\u001b[0;34m[\u001b[0m\u001b[0;34m'precisions'\u001b[0m\u001b[0;34m]\u001b[0m\u001b[0;34m.\u001b[0m\u001b[0mlog_prob\u001b[0m\u001b[0;34m.\u001b[0m\u001b[0msum\u001b[0m\u001b[0;34m(\u001b[0m\u001b[0;34m-\u001b[0m\u001b[0;36m1\u001b[0m\u001b[0;34m)\u001b[0m\u001b[0;34m\u001b[0m\u001b[0;34m\u001b[0m\u001b[0m\n\u001b[1;32m     84\u001b[0m         \u001b[0mlog_q_eta\u001b[0m \u001b[0;34m=\u001b[0m \u001b[0mq_eta\u001b[0m\u001b[0;34m[\u001b[0m\u001b[0;34m'means'\u001b[0m\u001b[0;34m]\u001b[0m\u001b[0;34m.\u001b[0m\u001b[0mlog_prob\u001b[0m\u001b[0;34m.\u001b[0m\u001b[0msum\u001b[0m\u001b[0;34m(\u001b[0m\u001b[0;34m-\u001b[0m\u001b[0;36m1\u001b[0m\u001b[0;34m)\u001b[0m \u001b[0;34m+\u001b[0m \u001b[0mq_eta\u001b[0m\u001b[0;34m[\u001b[0m\u001b[0;34m'precisions'\u001b[0m\u001b[0;34m]\u001b[0m\u001b[0;34m.\u001b[0m\u001b[0mlog_prob\u001b[0m\u001b[0;34m.\u001b[0m\u001b[0msum\u001b[0m\u001b[0;34m(\u001b[0m\u001b[0;34m-\u001b[0m\u001b[0;36m1\u001b[0m\u001b[0;34m)\u001b[0m\u001b[0;34m\u001b[0m\u001b[0;34m\u001b[0m\u001b[0m\n",
      "\u001b[0;32m~/anaconda3/lib/python3.7/site-packages/torch/nn/modules/module.py\u001b[0m in \u001b[0;36m__call__\u001b[0;34m(self, *input, **kwargs)\u001b[0m\n\u001b[1;32m    491\u001b[0m             \u001b[0mresult\u001b[0m \u001b[0;34m=\u001b[0m \u001b[0mself\u001b[0m\u001b[0;34m.\u001b[0m\u001b[0m_slow_forward\u001b[0m\u001b[0;34m(\u001b[0m\u001b[0;34m*\u001b[0m\u001b[0minput\u001b[0m\u001b[0;34m,\u001b[0m \u001b[0;34m**\u001b[0m\u001b[0mkwargs\u001b[0m\u001b[0;34m)\u001b[0m\u001b[0;34m\u001b[0m\u001b[0;34m\u001b[0m\u001b[0m\n\u001b[1;32m    492\u001b[0m         \u001b[0;32melse\u001b[0m\u001b[0;34m:\u001b[0m\u001b[0;34m\u001b[0m\u001b[0;34m\u001b[0m\u001b[0m\n\u001b[0;32m--> 493\u001b[0;31m             \u001b[0mresult\u001b[0m \u001b[0;34m=\u001b[0m \u001b[0mself\u001b[0m\u001b[0;34m.\u001b[0m\u001b[0mforward\u001b[0m\u001b[0;34m(\u001b[0m\u001b[0;34m*\u001b[0m\u001b[0minput\u001b[0m\u001b[0;34m,\u001b[0m \u001b[0;34m**\u001b[0m\u001b[0mkwargs\u001b[0m\u001b[0;34m)\u001b[0m\u001b[0;34m\u001b[0m\u001b[0;34m\u001b[0m\u001b[0m\n\u001b[0m\u001b[1;32m    494\u001b[0m         \u001b[0;32mfor\u001b[0m \u001b[0mhook\u001b[0m \u001b[0;32min\u001b[0m \u001b[0mself\u001b[0m\u001b[0;34m.\u001b[0m\u001b[0m_forward_hooks\u001b[0m\u001b[0;34m.\u001b[0m\u001b[0mvalues\u001b[0m\u001b[0;34m(\u001b[0m\u001b[0;34m)\u001b[0m\u001b[0;34m:\u001b[0m\u001b[0;34m\u001b[0m\u001b[0;34m\u001b[0m\u001b[0m\n\u001b[1;32m    495\u001b[0m             \u001b[0mhook_result\u001b[0m \u001b[0;34m=\u001b[0m \u001b[0mhook\u001b[0m\u001b[0;34m(\u001b[0m\u001b[0mself\u001b[0m\u001b[0;34m,\u001b[0m \u001b[0minput\u001b[0m\u001b[0;34m,\u001b[0m \u001b[0mresult\u001b[0m\u001b[0;34m)\u001b[0m\u001b[0;34m\u001b[0m\u001b[0;34m\u001b[0m\u001b[0m\n",
      "\u001b[0;32m~/Research/amortized/GMM/model_naive_natparam.py\u001b[0m in \u001b[0;36mforward\u001b[0;34m(self, obs, state, K, D)\u001b[0m\n\u001b[1;32m     84\u001b[0m         \u001b[0mxs\u001b[0m \u001b[0;34m=\u001b[0m \u001b[0mself\u001b[0m\u001b[0;34m.\u001b[0m\u001b[0mob\u001b[0m\u001b[0;34m(\u001b[0m\u001b[0mlocal_vars\u001b[0m\u001b[0;34m)\u001b[0m  \u001b[0;31m# S * B * N * D --> S * B * N * D\u001b[0m\u001b[0;34m\u001b[0m\u001b[0;34m\u001b[0m\u001b[0m\n\u001b[1;32m     85\u001b[0m         q_alpha, q_beta, q_mu, q_nu = Post_eta(xs, gammas,\n\u001b[0;32m---> 86\u001b[0;31m                                                  self.prior_alpha, self.prior_beta, self.prior_mu, self.prior_nu, K, D)\n\u001b[0m\u001b[1;32m     87\u001b[0m         \u001b[0mprecisions\u001b[0m \u001b[0;34m=\u001b[0m \u001b[0mGamma\u001b[0m\u001b[0;34m(\u001b[0m\u001b[0mq_alpha\u001b[0m\u001b[0;34m,\u001b[0m \u001b[0mq_beta\u001b[0m\u001b[0;34m)\u001b[0m\u001b[0;34m.\u001b[0m\u001b[0msample\u001b[0m\u001b[0;34m(\u001b[0m\u001b[0;34m)\u001b[0m\u001b[0;34m\u001b[0m\u001b[0;34m\u001b[0m\u001b[0m\n\u001b[1;32m     88\u001b[0m         q.gamma(q_alpha,\n",
      "\u001b[0;32m~/Research/amortized/GMM/normal_gamma_conjugacy.py\u001b[0m in \u001b[0;36mPost_eta\u001b[0;34m(obs, states, prior_alpha, prior_beta, prior_mu, prior_nu, K, D)\u001b[0m\n\u001b[1;32m     35\u001b[0m     \u001b[0mstat1_expand\u001b[0m \u001b[0;34m=\u001b[0m \u001b[0mstat1\u001b[0m\u001b[0;34m.\u001b[0m\u001b[0munsqueeze\u001b[0m\u001b[0;34m(\u001b[0m\u001b[0;34m-\u001b[0m\u001b[0;36m1\u001b[0m\u001b[0;34m)\u001b[0m\u001b[0;34m.\u001b[0m\u001b[0mrepeat\u001b[0m\u001b[0;34m(\u001b[0m\u001b[0;36m1\u001b[0m\u001b[0;34m,\u001b[0m \u001b[0;36m1\u001b[0m\u001b[0;34m,\u001b[0m \u001b[0;36m1\u001b[0m\u001b[0;34m,\u001b[0m \u001b[0mD\u001b[0m\u001b[0;34m)\u001b[0m \u001b[0;31m## S * B * K * D\u001b[0m\u001b[0;34m\u001b[0m\u001b[0;34m\u001b[0m\u001b[0m\n\u001b[1;32m     36\u001b[0m     \u001b[0mstat1_nonzero\u001b[0m \u001b[0;34m=\u001b[0m \u001b[0mstat1_expand\u001b[0m\u001b[0;34m\u001b[0m\u001b[0;34m\u001b[0m\u001b[0m\n\u001b[0;32m---> 37\u001b[0;31m     \u001b[0mstat1_nonzero\u001b[0m\u001b[0;34m[\u001b[0m\u001b[0mstat1_nonzero\u001b[0m \u001b[0;34m==\u001b[0m \u001b[0;36m0.0\u001b[0m\u001b[0;34m]\u001b[0m \u001b[0;34m=\u001b[0m \u001b[0;36m1.0\u001b[0m\u001b[0;34m\u001b[0m\u001b[0;34m\u001b[0m\u001b[0m\n\u001b[0m\u001b[1;32m     38\u001b[0m     \u001b[0mx_bar\u001b[0m \u001b[0;34m=\u001b[0m \u001b[0mstat2\u001b[0m \u001b[0;34m/\u001b[0m \u001b[0mstat1_nonzero\u001b[0m\u001b[0;34m\u001b[0m\u001b[0;34m\u001b[0m\u001b[0m\n\u001b[1;32m     39\u001b[0m     \u001b[0mpost_alpha\u001b[0m \u001b[0;34m=\u001b[0m \u001b[0mprior_alpha\u001b[0m \u001b[0;34m+\u001b[0m \u001b[0mstat1_expand\u001b[0m \u001b[0;34m/\u001b[0m \u001b[0;36m2\u001b[0m\u001b[0;34m\u001b[0m\u001b[0;34m\u001b[0m\u001b[0m\n",
      "\u001b[0;31mRuntimeError\u001b[0m: copy_if failed to synchronize: device-side assert triggered"
     ]
    }
   ],
   "source": [
    "train(Eubo_oneshot_eta, oneshot_eta, enc_eta, enc_z, optimizer, Data, K, NUM_EPOCHS, MCMC_SIZE, SAMPLE_SIZE, BATCH_SIZE, PATH, CUDA, DEVICE)"
   ]
  },
  {
   "cell_type": "code",
   "execution_count": null,
   "metadata": {},
   "outputs": [],
   "source": [
    "torch.save(oneshot_eta.state_dict(), '../weights/oneshot-eta-%s' + PATH)\n",
    "torch.save(enc_eta.state_dict(), '../weights/enc-eta-%s' + PATH)\n",
    "torch.save(enc_z.state_dict(), '../weights/enc-z-%s' + PATH)"
   ]
  },
  {
   "cell_type": "code",
   "execution_count": null,
   "metadata": {},
   "outputs": [],
   "source": [
    "BATCH_SIZE_TEST = 50\n",
    "obs, q_eta, q_z = test(Eubo_idw_init_eta, enc_eta, enc_z, Data, K, MCMC_SIZE, SAMPLE_SIZE, BATCH_SIZE_TEST, CUDA, DEVICE)"
   ]
  },
  {
   "cell_type": "code",
   "execution_count": null,
   "metadata": {},
   "outputs": [],
   "source": [
    "%time plot_samples(obs, q_eta, q_z, PATH)"
   ]
  },
  {
   "cell_type": "code",
   "execution_count": null,
   "metadata": {},
   "outputs": [],
   "source": [
    "\n"
   ]
  }
 ],
 "metadata": {
  "kernelspec": {
   "display_name": "Python 3",
   "language": "python",
   "name": "python3"
  },
  "language_info": {
   "codemirror_mode": {
    "name": "ipython",
    "version": 3
   },
   "file_extension": ".py",
   "mimetype": "text/x-python",
   "name": "python",
   "nbconvert_exporter": "python",
   "pygments_lexer": "ipython3",
   "version": "3.7.3"
  }
 },
 "nbformat": 4,
 "nbformat_minor": 2
}
