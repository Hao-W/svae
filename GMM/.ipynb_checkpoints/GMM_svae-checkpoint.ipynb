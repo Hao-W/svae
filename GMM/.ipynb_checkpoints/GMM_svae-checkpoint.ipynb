{
 "cells": [
  {
   "cell_type": "code",
   "execution_count": 1,
   "metadata": {},
   "outputs": [
    {
     "ename": "ModuleNotFoundError",
     "evalue": "No module named 'gmm_dataset'",
     "output_type": "error",
     "traceback": [
      "\u001b[0;31m---------------------------------------------------------------------------\u001b[0m",
      "\u001b[0;31mModuleNotFoundError\u001b[0m                       Traceback (most recent call last)",
      "\u001b[0;32m<ipython-input-1-d1cd9414df78>\u001b[0m in \u001b[0;36m<module>\u001b[0;34m()\u001b[0m\n\u001b[1;32m      9\u001b[0m \u001b[0;31m# from util_gmm_svae import *\u001b[0m\u001b[0;34m\u001b[0m\u001b[0;34m\u001b[0m\u001b[0m\n\u001b[1;32m     10\u001b[0m \u001b[0;32mfrom\u001b[0m \u001b[0mutil_svae\u001b[0m \u001b[0;32mimport\u001b[0m \u001b[0;34m*\u001b[0m\u001b[0;34m\u001b[0m\u001b[0m\n\u001b[0;32m---> 11\u001b[0;31m \u001b[0;32mfrom\u001b[0m \u001b[0mgmm_dataset\u001b[0m \u001b[0;32mimport\u001b[0m \u001b[0;34m*\u001b[0m\u001b[0;34m\u001b[0m\u001b[0m\n\u001b[0m\u001b[1;32m     12\u001b[0m \u001b[0;32mimport\u001b[0m \u001b[0mnumpy\u001b[0m \u001b[0;32mas\u001b[0m \u001b[0mnp\u001b[0m\u001b[0;34m\u001b[0m\u001b[0m\n\u001b[1;32m     13\u001b[0m \u001b[0;32mfrom\u001b[0m \u001b[0mspiral\u001b[0m \u001b[0;32mimport\u001b[0m \u001b[0;34m*\u001b[0m\u001b[0;34m\u001b[0m\u001b[0m\n",
      "\u001b[0;31mModuleNotFoundError\u001b[0m: No module named 'gmm_dataset'"
     ]
    }
   ],
   "source": [
    "import torch\n",
    "from torch.distributions.multivariate_normal import MultivariateNormal\n",
    "import matplotlib.pyplot as plt\n",
    "from matplotlib.patches import Ellipse\n",
    "import sys\n",
    "sys.path.append('/home/hao/Research/probtorch/')\n",
    "import probtorch\n",
    "from probtorch.util import log_sum_exp\n",
    "from util_svae import *\n",
    "import numpy as np\n",
    "from spiral import *\n",
    "import torch.nn as nn\n",
    "from torch.nn import Parameter\n",
    "import sys\n",
    "from torchvision import datasets, transforms\n",
    "import pickle\n",
    "import time\n",
    "%matplotlib inline\n",
    "sys.path.append('/home/hao/Research/probtorch/')\n",
    "from probtorch.util import expand_inputs\n",
    "import probtorch\n",
    "print('probtorch:', probtorch.__version__, \n",
    "      'torch:', torch.__version__, \n",
    "      'cuda:', torch.cuda.is_available())"
   ]
  },
  {
   "cell_type": "code",
   "execution_count": 2,
   "metadata": {},
   "outputs": [
    {
     "data": {
      "image/png": "[encoded data removed]",
      "text/plain": [
       "<Figure size 288x288 with 1 Axes>"
      ]
     },
     "metadata": {},
     "output_type": "display_data"
    }
   ],
   "source": [
    "num_clusters = 5          # number of clusters in pinwheel data\n",
    "samples_per_cluster = 100  # number of samples per cluster in pinwheel\n",
    "spiral_data = make_pinwheel_data(0.3, 0.05, num_clusters, samples_per_cluster, 0.25)\n",
    "plot_data(spiral_data)"
   ]
  },
  {
   "cell_type": "code",
   "execution_count": 3,
   "metadata": {},
   "outputs": [],
   "source": [
    "K = 5               # number of components in mixture model\n",
    "D = 2 # latent dimension\n",
    "B = 2\n",
    "N = num_clusters * samples_per_cluster\n",
    "Y = torch.FloatTensor(spiral_data)\n",
    "\n",
    "#############\n",
    "# model parameters\n",
    "NUM_HIDDEN = 40\n",
    "NUM_LATENTS = 2\n",
    "NUM_OBS = 2\n",
    "# training parameters\n",
    "NUM_SAMPLES = 1\n",
    "BATCH_SIZE = 500\n",
    "NUM_EPOCHS = 300\n",
    "LEARNING_RATE = 1e-4\n",
    "CUDA = torch.cuda.is_available()\n",
    "\n",
    "RESTORE = False\n",
    "\n",
    "#############\n",
    "## prior\n",
    "alpha_0 = torch.ones(K)\n",
    "m_0 = Y.mean(0)\n",
    "beta_0 = 1.0\n",
    "nu_0 = 6.0\n",
    "W_0 =  (nu_0-B-1) * torch.mm((Y - m_0).transpose(0,1), (Y - m_0)) / (N)\n",
    "W_0 = W_0.float()\n",
    "cov = torch.from_numpy(np.cov(Y.transpose(0,1))).float()\n",
    "\n",
    "alpha_hat = alpha_0\n",
    "m_ks = MultivariateNormal(m_0, cov).sample((K,))\n",
    "beta_ks = (torch.ones(K) * beta_0)\n",
    "nu_ks = (torch.ones(K) * nu_0)\n",
    "W_ks = W_0.repeat(K, 1, 1)"
   ]
  },
  {
   "cell_type": "code",
   "execution_count": 4,
   "metadata": {},
   "outputs": [],
   "source": [
    "class Encoder(nn.Module):\n",
    "    def __init__(self, num_obs=B,\n",
    "                       num_hidden=NUM_HIDDEN,\n",
    "                       num_latents=D):\n",
    "        super(self.__class__, self).__init__()\n",
    "        self.enc_hidden = nn.Sequential(\n",
    "            nn.Linear(num_obs, num_hidden),\n",
    "            nn.Tanh(),\n",
    "            nn.Linear(num_hidden, num_hidden),\n",
    "            nn.Tanh())\n",
    "        self.latent_mean = nn.Sequential(\n",
    "            nn.Linear(num_hidden, num_latents))\n",
    "        self.latent_log_var = nn.Sequential(\n",
    "            nn.Linear(num_hidden, num_latents))\n",
    "        \n",
    "    @expand_inputs\n",
    "    def forward(self, obs, log_gammas, batch_size, num_samples=None):\n",
    "        q = probtorch.Trace()\n",
    "        hidden = self.enc_hidden(obs)\n",
    "        nn_eta1 = self.latent_mean(hidden)\n",
    "        nn_eta2 = -1 * torch.exp(self.latent_log_var(hidden))\n",
    "        \n",
    "        opt_batch_eta1, opt_batch_eta2 = local_optimal(nn_eta1.cpu(), nn_eta2.cpu(), log_gammas, alpha_hat, nu_ks, W_ks, m_ks, beta_ks, D, K)\n",
    "        opt_batch_eta1 = opt_batch_eta1.float().cuda()\n",
    "        opt_batch_eta2 = opt_batch_eta2.float().cuda()\n",
    "\n",
    "        full_nn_eta2 = torch.zeros((num_samples, batch_size, D, D)).cuda()\n",
    "        full_nn_eta2[:, :, torch.arange(D).long(), torch.arange(D).long()] = nn_eta2  \n",
    "        \n",
    "        qx_eta1 = nn_eta1.squeeze(0) + opt_batch_eta1\n",
    "        qx_eta2 = full_nn_eta2.squeeze(0) + opt_batch_eta2\n",
    "        \n",
    "        qx_sigma = torch.zeros((batch_size, D, D)).cuda()\n",
    "        for n in range(batch_size):\n",
    "            qx_sigma[n] = (-1 / 2) * torch.inverse(qx_eta2[n])\n",
    "        qx_mu = torch.bmm(qx_sigma, qx_eta1.unsqueeze(-1)).permute(2, 0, 1)\n",
    "        qx_sigma = qx_sigma.unsqueeze(0)\n",
    "        q.multivariate_normal(qx_mu, qx_sigma, name='z')\n",
    "      \n",
    "        return q, qx_mu.cpu().squeeze(0), qx_sigma.cpu().squeeze(0)"
   ]
  },
  {
   "cell_type": "code",
   "execution_count": 5,
   "metadata": {},
   "outputs": [],
   "source": [
    "class Decoder(nn.Module):\n",
    "    def __init__(self, num_obs=B,\n",
    "                       num_hidden=NUM_HIDDEN,\n",
    "                       num_latents=D,\n",
    "                       num_samples=NUM_SAMPLES):\n",
    "        super(self.__class__, self).__init__()\n",
    "        self.dec_hidden = nn.Sequential(\n",
    "            nn.Linear(num_latents, num_hidden),\n",
    "            nn.Tanh(),\n",
    "            nn.Linear(num_hidden, num_hidden),\n",
    "            nn.Tanh(),\n",
    "            nn.Linear(num_hidden, num_obs)\n",
    "            )\n",
    "    def forward(self, obs, q=None, num_samples=None):\n",
    "        p = probtorch.Trace()\n",
    "        batch_size = obs.shape[0]\n",
    "        prior_mean = torch.zeros((NUM_SAMPLES, batch_size, D)).cuda()\n",
    "        prior_cov = torch.ones((NUM_SAMPLES, batch_size, D)).cuda()\n",
    "        ## here need to change value to samples from combined natparams,\n",
    "        ## also need to change the prior to \n",
    "        latents = p.normal(prior_mean, prior_cov, value=q['z'], name='z')   \n",
    "        obs_recon = self.dec_hidden(latents)\n",
    "        p.loss(mse_loss, obs_recon, obs, name='observations')\n",
    "        return p"
   ]
  },
  {
   "cell_type": "code",
   "execution_count": 6,
   "metadata": {},
   "outputs": [],
   "source": [
    "def mse_loss(x_hat, x):\n",
    "    return torch.norm(x_hat - x, p=2, dim=-1)"
   ]
  },
  {
   "cell_type": "code",
   "execution_count": 7,
   "metadata": {},
   "outputs": [],
   "source": [
    "def initialize():\n",
    "    enc = Encoder()\n",
    "    dec = Decoder()\n",
    "    if CUDA:\n",
    "        enc.cuda()\n",
    "        dec.cuda()\n",
    "    optimizer =  torch.optim.Adam(list(enc.parameters())+list(dec.parameters()),lr=LEARNING_RATE)    \n",
    "    return enc, dec, optimizer"
   ]
  },
  {
   "cell_type": "markdown",
   "metadata": {},
   "source": [
    "## VBEM"
   ]
  },
  {
   "cell_type": "code",
   "execution_count": 8,
   "metadata": {},
   "outputs": [],
   "source": [
    "iterations = 20\n",
    "enc, dec, optimizer = initialize()"
   ]
  },
  {
   "cell_type": "code",
   "execution_count": 9,
   "metadata": {},
   "outputs": [],
   "source": [
    "# epoch_elbos = []\n",
    "# for i in range(iterations):\n",
    "#     Y_shuffled = shuffler(Y).float()\n",
    "#     if CUDA:\n",
    "#         Y_shuffled = Y_shuffled.cuda()\n",
    "# #     q = enc(Y_shuffled, num_samples=NUM_SAMPLES)\n",
    "#     ## VBE step\n",
    "#     log_gammas = vbE_step(alpha_hat, nu_ks, W_ks, m_ks, beta_ks, Y, N, B, K)\n",
    "#     N_ks, Y_ks, S_ks = stats(log_gammas, Y, B, K)\n",
    "#     ## VBM step\n",
    "#     alpha_hat, nu_ks, W_ks, m_ks, beta_ks, cov_ks = vbM_step(alpha_0, nu_0, W_0, m_0, beta_0, N_ks, Y_ks, S_ks, N, B, K)\n",
    "#     epoch_elbo = elbo(log_gammas, alpha_0, nu_0, W_0, m_0, beta_0, N_ks, Y_ks, S_ks, alpha_hat, nu_ks, W_ks, m_ks, beta_ks, Y, N, B, K)\n",
    "#     epoch_elbos.append(epoch_elbo)\n",
    "# #     print('Iteration:%d, ELBO:%f' % ((i+1), epoch_elbo))\n",
    "# final_covs = cov_ks.data.numpy() ## mean of inverse wishart\n",
    "# final_mus = m_ks.data.numpy() ## mean of gaussian\n",
    "# Y_np = Y.data.numpy()\n",
    "\n",
    "# batch_eta1, batch_eta2 = gaussian_global(log_gammas, nu_ks, W_ks, m_ks, Y, N, D, K)"
   ]
  },
  {
   "cell_type": "code",
   "execution_count": 10,
   "metadata": {},
   "outputs": [],
   "source": [
    "# plot_clusters(Y_np, final_mus, cov_ks, K)"
   ]
  },
  {
   "cell_type": "code",
   "execution_count": 11,
   "metadata": {},
   "outputs": [
    {
     "name": "stdout",
     "output_type": "stream",
     "text": [
      "iteration limit reached\n"
     ]
    }
   ],
   "source": [
    "batch_size = 500\n",
    "log_gammas = torch.randn((batch_size, K))\n",
    "if CUDA:\n",
    "    Y_1 = Y.float().cuda()\n",
    "q, qx_mu, qx_sigma = enc(Y_1, log_gammas, batch_size=batch_size, num_samples=NUM_SAMPLES)  \n",
    "p = dec(Y_1, q, num_samples=NUM_SAMPLES)\n",
    "loss = - elbo_nn(qx_mu, qx_sigma, log_gammas, alpha_0, nu_0, W_0, m_0, beta_0, alpha_hat, nu_ks, W_ks, m_ks, beta_ks, batch_size, D, K, q, p, sample_dim=None, batch_dim=None, log_weights=None, size_average=True, reduce=True)\n",
    "optimizer.zero_grad()\n",
    "loss.backward()\n",
    "optimizer.step()"
   ]
  },
  {
   "cell_type": "code",
   "execution_count": 12,
   "metadata": {},
   "outputs": [],
   "source": [
    "N_ks, qx_mu_ks, NS_ks, nk_qx_sigma_ks = stats_2(log_gammas, qx_mu, qx_sigma, D, K)\n",
    "alpha_hat, nu_ks, W_ks, m_ks, beta_ks, cov_ks = global_optimal(alpha_0, nu_0, W_0, m_0, beta_0, N_ks, qx_mu_ks, NS_ks, nk_qx_sigma_ks, batch_size, D, K)"
   ]
  },
  {
   "cell_type": "code",
   "execution_count": null,
   "metadata": {},
   "outputs": [],
   "source": []
  }
 ],
 "metadata": {
  "kernelspec": {
   "display_name": "Python 3",
   "language": "python",
   "name": "python3"
  },
  "language_info": {
   "codemirror_mode": {
    "name": "ipython",
    "version": 3
   },
   "file_extension": ".py",
   "mimetype": "text/x-python",
   "name": "python",
   "nbconvert_exporter": "python",
   "pygments_lexer": "ipython3",
   "version": "3.6.5"
  }
 },
 "nbformat": 4,
 "nbformat_minor": 2
}
