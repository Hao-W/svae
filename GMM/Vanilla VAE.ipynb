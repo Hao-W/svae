{
 "cells": [
  {
   "cell_type": "code",
   "execution_count": 1,
   "metadata": {},
   "outputs": [
    {
     "name": "stdout",
     "output_type": "stream",
     "text": [
      "probtorch: 0.0+5a2c637 torch: 0.4.0 cuda: True\n"
     ]
    }
   ],
   "source": [
    "from spiral import *\n",
    "import matplotlib.pyplot as plt\n",
    "import numpy as np\n",
    "import torch\n",
    "import torch.nn as nn\n",
    "from torch.nn import Parameter\n",
    "import sys\n",
    "from torchvision import datasets, transforms\n",
    "import pickle\n",
    "import os\n",
    "import random\n",
    "import time\n",
    "import numpy.random as npr\n",
    "%matplotlib inline\n",
    "sys.path.append('/home/hao/Research/probtorch/')\n",
    "from probtorch.util import expand_inputs\n",
    "import probtorch\n",
    "print('probtorch:', probtorch.__version__, \n",
    "      'torch:', torch.__version__, \n",
    "      'cuda:', torch.cuda.is_available())"
   ]
  },
  {
   "cell_type": "code",
   "execution_count": 2,
   "metadata": {},
   "outputs": [],
   "source": [
    "# model parameters\n",
    "NUM_HIDDEN = 40\n",
    "NUM_LATENTS = 2\n",
    "NUM_OBS = 2\n",
    "# training parameters\n",
    "NUM_SAMPLES = 1\n",
    "BATCH_SIZE = 500\n",
    "NUM_EPOCHS = 2\n",
    "LEARNING_RATE = 1e-4\n",
    "CUDA = torch.cuda.is_available()\n",
    "\n",
    "RESTORE = False"
   ]
  },
  {
   "cell_type": "code",
   "execution_count": 3,
   "metadata": {},
   "outputs": [],
   "source": [
    "num_clusters = 5           # number of clusters in pinwheel data\n",
    "samples_per_cluster = 100  # number of samples per cluster in pinwheel\n",
    "K = 15                     # number of components in mixture model\n",
    "N = 2                      # number of latent dimensions\n",
    "P = 2 \n",
    "train_dataset = make_pinwheel_data(0.3, 0.05, num_clusters, samples_per_cluster, 0.25)\n",
    "dataset_size = num_clusters * samples_per_cluster"
   ]
  },
  {
   "cell_type": "code",
   "execution_count": 4,
   "metadata": {},
   "outputs": [
    {
     "data": {
      "image/png": "[encoded data removed]",
      "text/plain": [
       "<Figure size 288x288 with 1 Axes>"
      ]
     },
     "metadata": {},
     "output_type": "display_data"
    }
   ],
   "source": [
    "plot_data(train_dataset)"
   ]
  },
  {
   "cell_type": "code",
   "execution_count": 5,
   "metadata": {},
   "outputs": [],
   "source": [
    "class Encoder(nn.Module):\n",
    "    def __init__(self, num_obs=NUM_OBS,\n",
    "                       num_hidden=NUM_HIDDEN,\n",
    "                       num_latents=NUM_LATENTS):\n",
    "        super(self.__class__, self).__init__()\n",
    "        self.enc_hidden = nn.Sequential(\n",
    "            nn.Linear(num_obs, num_hidden),\n",
    "            nn.ReLU(),\n",
    "            nn.Linear(num_hidden, num_hidden),\n",
    "            nn.ReLU())\n",
    "        self.latent_mean = nn.Sequential(\n",
    "            nn.Linear(num_hidden, num_latents))\n",
    "        self.latent_log_std = nn.Sequential(\n",
    "            nn.Linear(num_hidden, num_latents))\n",
    "        \n",
    "    @expand_inputs\n",
    "    def forward(self, obs, num_samples=None):\n",
    "        q = probtorch.Trace()\n",
    "        hidden = self.enc_hidden(obs)\n",
    "        eta1 = self.latent_mean(hidden)\n",
    "        eta2 = -1 * torch.exp(self.latent_log_std(hidden))\n",
    "        latents_std = (-1 / 2) * (1 / eta2)\n",
    "        batch_size = latents_std.shape[1]\n",
    "        latents_mean = torch.mul(latents_std, eta1)\n",
    "        full_std = latents_std.repeat(NUM_LATENTS, 1, 1, 1).permute(1, 2, 3, 0)\n",
    "        filter_std = torch.eye(NUM_LATENTS).repeat(batch_size, 1, 1).unsqueeze(0).cuda()\n",
    "        full_latents_std = torch.mul(full_std, filter_std)\n",
    "#         full_std = torch.zeros((batch_size, NUM_LATENTS, NUM_LATENTS))\n",
    "#         for n in range(batch_size):\n",
    "#             full_std[n] = torch.diag(latents_std[0, n])\n",
    "#         if CUDA:\n",
    "#             full_std = full_std.cuda()\n",
    "#         full_std = full_std.unsqueeze(0)\n",
    "     \n",
    "        \n",
    "        q.multivariate_normal(latents_mean, full_latents_std, name='z')\n",
    "        return q"
   ]
  },
  {
   "cell_type": "code",
   "execution_count": 6,
   "metadata": {},
   "outputs": [],
   "source": [
    "class Decoder(nn.Module):\n",
    "    def __init__(self, num_obs=NUM_OBS,\n",
    "                       num_hidden=NUM_HIDDEN,\n",
    "                       num_latents=NUM_LATENTS,\n",
    "                       num_samples=NUM_SAMPLES):\n",
    "        super(self.__class__, self).__init__()\n",
    "        self.dec_hidden = nn.Sequential(\n",
    "            nn.Linear(num_latents, num_hidden),\n",
    "            nn.ReLU(),\n",
    "            nn.Linear(num_hidden, num_hidden),\n",
    "            nn.ReLU(),\n",
    "            nn.Linear(num_hidden, num_obs)\n",
    "            )\n",
    "\n",
    "\n",
    "    def forward(self, obs, q=None, num_samples=None):\n",
    "        p = probtorch.Trace()\n",
    "        batch_size = obs.shape[0]\n",
    "        prior_mean = torch.zeros((NUM_SAMPLES, batch_size, NUM_LATENTS)).cuda()\n",
    "        prior_cov = torch.ones((NUM_SAMPLES, batch_size, NUM_LATENTS)).cuda()\n",
    "        \n",
    "        latents = p.normal(prior_mean, prior_cov, value=q['z'], name='z')   \n",
    "        obs_recon = self.dec_hidden(latents)\n",
    "        p.loss(mse_loss, obs_recon, obs, name='observations')\n",
    "        return p\n"
   ]
  },
  {
   "cell_type": "code",
   "execution_count": 7,
   "metadata": {},
   "outputs": [],
   "source": [
    "def mse_loss(x_hat, x):\n",
    "    return torch.norm(x_hat - x, p=2, dim=-1)\n",
    "def l1_loss(x_hat, x):\n",
    "    return torch.abs(x_hat - x).sum(-1)"
   ]
  },
  {
   "cell_type": "code",
   "execution_count": 8,
   "metadata": {},
   "outputs": [],
   "source": [
    "def initialize():\n",
    "    enc = Encoder()\n",
    "    dec = Decoder()\n",
    "    if CUDA:\n",
    "        enc.cuda()\n",
    "        dec.cuda()\n",
    "    optimizer =  torch.optim.Adam(list(enc.parameters())+list(dec.parameters()),lr=LEARNING_RATE)    \n",
    "    return enc, dec, optimizer"
   ]
  },
  {
   "cell_type": "code",
   "execution_count": 9,
   "metadata": {},
   "outputs": [],
   "source": [
    "def elbo(q, p):\n",
    "    if NUM_SAMPLES is None:\n",
    "        elbo = probtorch.objectives.montecarlo.elbo(q, p, sample_dim=None, batch_dim=0)\n",
    "        return elbo\n",
    "    else:\n",
    "        elbo = probtorch.objectives.montecarlo.elbo(q, p, sample_dim=0, batch_dim=1)\n",
    "        return elbo"
   ]
  },
  {
   "cell_type": "code",
   "execution_count": 10,
   "metadata": {},
   "outputs": [],
   "source": [
    "def shuffler(train_dataset):\n",
    "    index = np.arange(train_dataset.shape[0])\n",
    "    np.random.shuffle(index)\n",
    "    return train_dataset[index, :]\n",
    "\n",
    "def NUM_ITERS(train_dataset, batch_size):\n",
    "    remainder = train_dataset.shape[0] % batch_size\n",
    "    if remainder == 0:\n",
    "        num_iters = int(train_dataset.shape[0] / batch_size)\n",
    "    else:\n",
    "        num_iters = int(((train_dataset.shape[0] - remainder) / batch_size) + 1)\n",
    "    return num_iters"
   ]
  },
  {
   "cell_type": "code",
   "execution_count": 11,
   "metadata": {},
   "outputs": [],
   "source": [
    "def train(enc, dec, optimizer):\n",
    "    if RESTORE == False:\n",
    "        num_iters = NUM_ITERS(train_dataset, BATCH_SIZE)\n",
    "        elbos_list = []\n",
    "        time_start = time.time()\n",
    "        \n",
    "        for epoch in range(NUM_EPOCHS):\n",
    "            train_dataset_shuffled = shuffler(train_dataset)\n",
    "            epoch_elbo = 0.0\n",
    "            N = 0.0\n",
    "            for i in range(num_iters):\n",
    "                data = train_dataset_shuffled[i * BATCH_SIZE : (i + 1) * BATCH_SIZE, :]\n",
    "                data = torch.FloatTensor(data)\n",
    "                if CUDA:\n",
    "                    data = data.cuda()\n",
    "           \n",
    "                optimizer.zero_grad()\n",
    "                q = enc(data, num_samples=NUM_SAMPLES)\n",
    "                p = dec(data, q, num_samples=NUM_SAMPLES)\n",
    "                ave_elbo = elbo(q, p)\n",
    "                loss = -ave_elbo\n",
    "                loss.backward()\n",
    "                optimizer.step()\n",
    "                if CUDA:\n",
    "                    loss = loss.cpu()\n",
    "                    epoch_elbo += -loss.data.numpy()\n",
    "            epoch_elbo /= num_iters\n",
    "            elbos_list.append(epoch_elbo)\n",
    "            if epoch % 1 == 0:\n",
    "                time_end = time.time()\n",
    "                print('Epoch : %d, ELBO : %f (%ds)' % (epoch+1, epoch_elbo, time_end - time_start))\n",
    "                time_start = time.time()\n",
    "        return elbos_list "
   ]
  },
  {
   "cell_type": "code",
   "execution_count": 12,
   "metadata": {},
   "outputs": [
    {
     "name": "stdout",
     "output_type": "stream",
     "text": [
      "Epoch : 1, ELBO : -10.460518 (5s)\n",
      "Epoch : 2, ELBO : -10.423105 (5s)\n"
     ]
    }
   ],
   "source": [
    "enc, dec, optimizer = initialize()\n",
    "elbos_list = train(enc, dec, optimizer)"
   ]
  },
  {
   "cell_type": "code",
   "execution_count": 13,
   "metadata": {},
   "outputs": [
    {
     "data": {
      "text/plain": [
       "[<matplotlib.lines.Line2D at 0x7f00a8faf6a0>]"
      ]
     },
     "execution_count": 13,
     "metadata": {},
     "output_type": "execute_result"
    },
    {
     "data": {
      "image/png": "[encoded data removed]",
      "text/plain": [
       "<Figure size 432x288 with 1 Axes>"
      ]
     },
     "metadata": {},
     "output_type": "display_data"
    }
   ],
   "source": [
    "plt.plot(elbos_list)"
   ]
  },
  {
   "cell_type": "code",
   "execution_count": 24,
   "metadata": {},
   "outputs": [],
   "source": [
    "enc, dec, optimizer = initialize()\n",
    "for i in range(10):\n",
    "    data = train_dataset[i * BATCH_SIZE : (i + 1) * BATCH_SIZE, :]\n",
    "    data = torch.FloatTensor(data)\n",
    "    if CUDA:\n",
    "        data = data.cuda()\n",
    "    break \n",
    "q = probtorch.Trace()\n",
    "hidden = enc.enc_hidden(data)\n",
    "eta1 = enc.latent_mean(hidden).unsqueeze(0)\n",
    "eta2 = -1 * torch.exp(enc.latent_log_std(hidden)).unsqueeze(0)\n",
    "latents_std = (-1 / 2) * (1 / eta2)\n",
    "batch_size = latents_std.shape[1]\n",
    "latents_mean = torch.mul(latents_std, eta1)\n",
    "full_std = latents_std.repeat(NUM_LATENTS, 1, 1, 1).permute(1, 2, 3, 0)\n",
    "filter_std = torch.eye(NUM_LATENTS).repeat(batch_size, 1, 1).unsqueeze(0).cuda()\n",
    "full_latents_std = torch.mul(full_std, filter_std)\n",
    "#         full_std = torch.zeros((batch_size, NUM_LATENTS, NUM_LATENTS))\n",
    "#         for n in range(batch_size):\n",
    "#             full_std[n] = torch.diag(latents_std[0, n])\n",
    "#         if CUDA:\n",
    "#             full_std = full_std.cuda()\n",
    "#         full_std = full_std.unsqueeze(0)\n",
    "\n",
    "\n",
    "# q.multivariate_normal(latents_mean, full_latents_std, name='z')"
   ]
  },
  {
   "cell_type": "code",
   "execution_count": 26,
   "metadata": {},
   "outputs": [
    {
     "data": {
      "text/plain": [
       "tensor([[ 0.6543,  0.6543],\n",
       "        [ 0.3834,  0.3834]], device='cuda:0')"
      ]
     },
     "execution_count": 26,
     "metadata": {},
     "output_type": "execute_result"
    }
   ],
   "source": [
    "full_std[0,0]"
   ]
  },
  {
   "cell_type": "code",
   "execution_count": 27,
   "metadata": {},
   "outputs": [
    {
     "data": {
      "text/plain": [
       "tensor([[ 0.6543,  0.0000],\n",
       "        [ 0.0000,  0.3834]], device='cuda:0')"
      ]
     },
     "execution_count": 27,
     "metadata": {},
     "output_type": "execute_result"
    }
   ],
   "source": [
    "full_latents_std[0,0]"
   ]
  },
  {
   "cell_type": "code",
   "execution_count": null,
   "metadata": {},
   "outputs": [],
   "source": []
  }
 ],
 "metadata": {
  "kernelspec": {
   "display_name": "Python 3",
   "language": "python",
   "name": "python3"
  },
  "language_info": {
   "codemirror_mode": {
    "name": "ipython",
    "version": 3
   },
   "file_extension": ".py",
   "mimetype": "text/x-python",
   "name": "python",
   "nbconvert_exporter": "python",
   "pygments_lexer": "ipython3",
   "version": "3.6.5"
  }
 },
 "nbformat": 4,
 "nbformat_minor": 2
}
