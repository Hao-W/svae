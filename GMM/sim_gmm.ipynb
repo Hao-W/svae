{
 "cells": [
  {
   "cell_type": "code",
   "execution_count": 4,
   "metadata": {},
   "outputs": [],
   "source": [
    "%matplotlib inline\n",
    "%run ../import_envs.py\n",
    "import numpy as np\n",
    "import matplotlib.pyplot as plt\n",
    "from data_gmm import *\n",
    "from plots import *\n",
    "import math\n",
    "import os"
   ]
  },
  {
   "cell_type": "code",
   "execution_count": null,
   "metadata": {},
   "outputs": [],
   "source": [
    "# T = 60\n",
    "# K = 3\n",
    "# D = 2\n",
    "# num_seqs = 2000\n",
    "# for t in range(10):\n",
    "#     T = (t+1) * 10\n",
    "#     OBS = np.zeros((num_seqs, T, D))\n",
    "#     STATES = np.zeros((num_seqs, T, K))\n",
    "#     OBS_MU = np.zeros((num_seqs, K, D))\n",
    "#     OBS_SIGMA = np.zeros((num_seqs, K, D)) ## diagonal covarince\n",
    "#     for n in range(num_seqs):\n",
    "#         obs, obs_mu, obs_sigma, states, Pi = sampling_gmm_conjugate(T, K, D)\n",
    "# #         covs_full = torch.zeros((K, D, D))\n",
    "# #         for k in range(K):\n",
    "# #             covs_full[k] = torch.diag(obs_sigma[k]**2)\n",
    "# #         plot_clusters(obs, obs_mu, covs_full, K)\n",
    "#         OBS[n] = obs.data.numpy()\n",
    "#         STATES[n] = states.data.numpy()\n",
    "#         OBS_MU[n] = obs_mu.data.numpy()\n",
    "#         OBS_SIGMA[n] = obs_sigma.data.numpy()\n",
    "#     path = \"gmm_10size\"\n",
    "#     np.save(path + '/obs_%d' % T, OBS)\n",
    "#     print(T)"
   ]
  },
  {
   "cell_type": "code",
   "execution_count": 8,
   "metadata": {},
   "outputs": [],
   "source": [
    "N = 20\n",
    "K = 3\n",
    "D = 2\n",
    "\n",
    "num_seqs = 200\n",
    "\n",
    "OBS = np.zeros((num_seqs, N, D))\n",
    "STATES = np.zeros((num_seqs, N, K))\n",
    "OBS_MU = np.zeros((num_seqs, K, D))\n",
    "OBS_SIGMA = np.zeros((num_seqs, K, D)) ## diagonal covarince\n",
    "for n in range(num_seqs):\n",
    "    obs, obs_mu, obs_sigma, states, Pi = sampling_gmm_conjugate(N, K, D)\n",
    "    OBS[n] = obs.data.numpy()\n",
    "    STATES[n] = states.data.numpy()\n",
    "    OBS_MU[n] = obs_mu.data.numpy()\n",
    "    OBS_SIGMA[n] = obs_sigma.data.numpy()\n",
    "## create the directory if it doesn't exist    \n",
    "path = data_dir + \"gmm_test/gmm_%d\" % N\n",
    "if not os.path.exists(path):\n",
    "    os.makedirs(path)\n",
    "np.save(path + '/obs_%d' % N, OBS)"
   ]
  },
  {
   "cell_type": "code",
   "execution_count": null,
   "metadata": {},
   "outputs": [],
   "source": []
  }
 ],
 "metadata": {
  "kernelspec": {
   "display_name": "Python 3",
   "language": "python",
   "name": "python3"
  },
  "language_info": {
   "codemirror_mode": {
    "name": "ipython",
    "version": 3
   },
   "file_extension": ".py",
   "mimetype": "text/x-python",
   "name": "python",
   "nbconvert_exporter": "python",
   "pygments_lexer": "ipython3",
   "version": "3.7.3"
  }
 },
 "nbformat": 4,
 "nbformat_minor": 4
}
