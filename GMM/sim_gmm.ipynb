{
 "cells": [
  {
   "cell_type": "code",
   "execution_count": 1,
   "metadata": {},
   "outputs": [],
   "source": [
    "%matplotlib inline\n",
    "%run ../import_envs.py"
   ]
  },
  {
   "cell_type": "code",
   "execution_count": 9,
   "metadata": {},
   "outputs": [],
   "source": [
    "N = 60\n",
    "K = 3\n",
    "D = 2\n",
    "alpha = 4.0\n",
    "beta = 4.0\n",
    "mu = 0.0\n",
    "nu = 0.3\n",
    "\n",
    "from sim_gmm import Sim_GMM\n",
    "simulator = Sim_GMM(N, K, D, alpha, beta, mu, nu)"
   ]
  },
  {
   "cell_type": "code",
   "execution_count": 11,
   "metadata": {},
   "outputs": [],
   "source": [
    "num_seqs = 20\n",
    "fs = 6\n",
    "bound = 15\n",
    "colors = ['#AA3377', '#EE7733', '#0077BB', '#009988', '#555555', '#999933']\n",
    "# simulator.viz_data(num_seqs=num_seqs, fs=fs, bound=bound, colors=colors)"
   ]
  },
  {
   "cell_type": "code",
   "execution_count": 13,
   "metadata": {},
   "outputs": [],
   "source": [
    "num_seqs = 20000\n",
    "PATH = '/home/hao/Research/apg_data/gmm_%d/' % N\n",
    "simulator.sim_save_data(num_seqs, PATH)"
   ]
  },
  {
   "cell_type": "code",
   "execution_count": null,
   "metadata": {},
   "outputs": [],
   "source": []
  }
 ],
 "metadata": {
  "kernelspec": {
   "display_name": "Python 3",
   "language": "python",
   "name": "python3"
  },
  "language_info": {
   "codemirror_mode": {
    "name": "ipython",
    "version": 3
   },
   "file_extension": ".py",
   "mimetype": "text/x-python",
   "name": "python",
   "nbconvert_exporter": "python",
   "pygments_lexer": "ipython3",
   "version": "3.7.3"
  }
 },
 "nbformat": 4,
 "nbformat_minor": 4
}
