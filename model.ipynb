{
 "cells": [
  {
   "cell_type": "code",
   "execution_count": 1,
   "metadata": {},
   "outputs": [],
   "source": [
    "import autograd.numpy as np\n",
    "import autograd.numpy.random as npr\n",
    "import matplotlib.pyplot as plt\n",
    "%matplotlib inline"
   ]
  },
  {
   "cell_type": "code",
   "execution_count": 2,
   "metadata": {},
   "outputs": [],
   "source": [
    "num_sequences = 50\n",
    "time_length = 100\n",
    "image_length = 20\n",
    "generate_dataset_filename = './bouncingball'\n",
    "dataset_filename = './bouncingball.npy'"
   ]
  },
  {
   "cell_type": "markdown",
   "metadata": {},
   "source": [
    "## Generate Dataset"
   ]
  },
  {
   "cell_type": "code",
   "execution_count": 3,
   "metadata": {},
   "outputs": [],
   "source": [
    "def generate_video(image_length, time_length):\n",
    "    video = np.empty([image_length, time_length])\n",
    "    rand_pt = npr.randint(image_length)\n",
    "    rand_dir = npr.randint(2) ## 0 for downwards, 1 for upwards\n",
    "    for i in range(time_length):\n",
    "        one_hot = np.zeros(image_length)\n",
    "        one_hot[rand_pt] = 1.0\n",
    "        video[:, i] = one_hot\n",
    "        if rand_pt == 0:\n",
    "            rand_dir = 0\n",
    "        if rand_pt == 19:\n",
    "            rand_dir = 1\n",
    "\n",
    "        if rand_dir == 0:        \n",
    "            rand_pt += 1\n",
    "        else:\n",
    "            rand_pt -= 1\n",
    "    return video\n",
    "\n",
    "def generate_dataset(generate_dataset_filename, num_sequences, image_length, time_length):\n",
    "    video_lists = []\n",
    "    for i in range(num_sequences):\n",
    "        video = generate_video(image_length, time_length)\n",
    "#         plt.imshow(video, cmap='gray', vmin=0, vmax=1)\n",
    "#         plt.colorbar()\n",
    "        video_lists.append(video.reshape(1, image_length * time_length))\n",
    "    video_arrays = np.concatenate(video_lists, 0)\n",
    "    np.save(generate_dataset_filename, video_arrays)\n",
    "    return video_arrays\n",
    "\n",
    "video_arrays = generate_dataset(generate_dataset_filename, num_sequences, image_length, time_length)\n",
    "\n"
   ]
  },
  {
   "cell_type": "markdown",
   "metadata": {},
   "source": [
    "## Load Dataset"
   ]
  },
  {
   "cell_type": "code",
   "execution_count": 17,
   "metadata": {},
   "outputs": [
    {
     "name": "stdout",
     "output_type": "stream",
     "text": [
      "dataset size : 50, image length : 20, sequence length : 100\n"
     ]
    }
   ],
   "source": [
    "def load_data(dataset_filename, num_sequences, image_length, time_length):\n",
    "    train_dataset = np.load(dataset_filename).reshape(num_sequences, image_length, time_length)\n",
    "#     for i in range(num_sequences):\n",
    "#         plt.imshow(train_dataset[i, :, :], cmap='gray', vmin=0, vmax=1)\n",
    "#         plt.show()\n",
    "    x, y, z = train_dataset.shape\n",
    "    print('dataset size : %d, image length : %d, sequence length : %d' % (x, y, z))\n",
    "    return train_dataset\n",
    "\n",
    "train_dataset = load_data(dataset_filename, num_sequences, image_length, time_length)"
   ]
  },
  {
   "cell_type": "code",
   "execution_count": null,
   "metadata": {},
   "outputs": [],
   "source": []
  }
 ],
 "metadata": {
  "kernelspec": {
   "display_name": "Python 3",
   "language": "python",
   "name": "python3"
  },
  "language_info": {
   "codemirror_mode": {
    "name": "ipython",
    "version": 3
   },
   "file_extension": ".py",
   "mimetype": "text/x-python",
   "name": "python",
   "nbconvert_exporter": "python",
   "pygments_lexer": "ipython3",
   "version": "3.6.5"
  }
 },
 "nbformat": 4,
 "nbformat_minor": 2
}
