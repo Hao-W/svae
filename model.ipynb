{
 "cells": [
  {
   "cell_type": "code",
   "execution_count": 1,
   "metadata": {},
   "outputs": [],
   "source": [
    "%matplotlib inline\n",
    "import autograd.numpy as np\n",
    "from autograd.numpy.linalg import inv, det\n",
    "from autograd import grad\n",
    "from functools import reduce\n",
    "import autograd.numpy.random as npr\n",
    "import matplotlib.pyplot as plt\n",
    "from scipy.stats import multivariate_normal, gamma, invgamma \n",
    "from scipy.special import digamma, polygamma\n",
    "from scipy.special import gamma as gafun\n",
    "from util import *\n",
    "from kalman import *"
   ]
  },
  {
   "cell_type": "code",
   "execution_count": 2,
   "metadata": {},
   "outputs": [],
   "source": [
    "num_sequences = 50\n",
    "time_length = 100\n",
    "image_length = 20\n",
    "generate_dataset_filename = './bouncingball'\n",
    "dataset_filename = './bouncingball.npy'"
   ]
  },
  {
   "cell_type": "markdown",
   "metadata": {},
   "source": [
    "## Load Dataset"
   ]
  },
  {
   "cell_type": "code",
   "execution_count": 3,
   "metadata": {},
   "outputs": [
    {
     "name": "stdout",
     "output_type": "stream",
     "text": [
      "dataset size : 50, image length : 20, sequence length : 100\n"
     ]
    }
   ],
   "source": [
    "## generate dataset\n",
    "# video_arrays = generate_dataset(generate_dataset_filename, num_sequences, image_length, time_length)\n",
    "train_dataset = load_data(dataset_filename, num_sequences, image_length, time_length)\n",
    "## just take one video\n",
    "video = train_dataset[0, :, :]"
   ]
  },
  {
   "cell_type": "markdown",
   "metadata": {},
   "source": [
    "## Hyper-parameters"
   ]
  },
  {
   "cell_type": "code",
   "execution_count": 4,
   "metadata": {},
   "outputs": [],
   "source": [
    "N = train_dataset.shape[1]\n",
    "T = train_dataset.shape[2]\n",
    "K = 8\n",
    "\n",
    "# initialize hyperpriors\n",
    "alpha_a_0, alpha_b_0, r_a_0, r_b_0, rho_a, rho_b, mu_x0_0_sigma_diag, sigma_x0_a, sigma_x0_b = init_hyper(K)\n",
    "hyperpriors_list = [alpha_a_0, alpha_b_0, r_a_0, r_b_0, rho_a, rho_b, mu_x0_0_sigma_diag, sigma_x0_a, sigma_x0_b]\n",
    "\n",
    "## sample hyper parameters, hidden state priors\n",
    "alpha = gamma.rvs(a=alpha_a_0, scale=(1.0 / alpha_b_0))\n",
    "r = gamma.rvs(a=r_a_0, scale=(1.0 / r_b_0))\n",
    "\n",
    "mu_x0 = multivariate_normal.rvs(np.zeros(K), np.diag(mu_x0_0_sigma_diag))\n",
    "mu_x0.shape = (K, 1)\n",
    "sigma_x0 = 1.0 / gamma.rvs(a=sigma_x0_a, scale=(1.0 / sigma_x0_b))\n",
    "sigma_x0 = np.diag(sigma_x0)\n",
    "\n",
    "## Initialize Hidden State Sufficient Statistics\n",
    "W_A, S_A, W_C, S_C = init_hsss(mu_x0, video, N, T, K)\n",
    "Y_hat = compute_yhat(video, N, T)"
   ]
  },
  {
   "cell_type": "markdown",
   "metadata": {},
   "source": [
    "## ELBO"
   ]
  },
  {
   "cell_type": "code",
   "execution_count": 5,
   "metadata": {},
   "outputs": [
    {
     "name": "stdout",
     "output_type": "stream",
     "text": [
      "EPOCH : 1, ELBO : 472.310581, \n",
      "EPOCH : 2, ELBO : 633.692855, \n",
      "EPOCH : 3, ELBO : 638.780459, \n",
      "EPOCH : 4, ELBO : 650.048973, \n",
      "EPOCH : 5, ELBO : 655.590726, \n",
      "EPOCH : 6, ELBO : 658.333354, \n",
      "EPOCH : 7, ELBO : 660.606441, \n",
      "EPOCH : 8, ELBO : 660.244972, \n",
      "EPOCH : 9, ELBO : 662.179484, \n",
      "EPOCH : 10, ELBO : 665.743509, \n",
      "EPOCH : 11, ELBO : 670.556922, \n",
      "EPOCH : 12, ELBO : 667.132540, \n",
      "EPOCH : 13, ELBO : 665.091926, \n",
      "EPOCH : 14, ELBO : 664.345723, \n",
      "EPOCH : 15, ELBO : 668.915570, \n",
      "EPOCH : 16, ELBO : 666.315867, \n",
      "EPOCH : 17, ELBO : 664.542347, \n",
      "EPOCH : 18, ELBO : 668.405858, \n",
      "EPOCH : 19, ELBO : 672.933433, \n",
      "EPOCH : 20, ELBO : 668.053341, \n",
      "EPOCH : 21, ELBO : 672.312824, \n",
      "EPOCH : 22, ELBO : 672.133186, \n",
      "EPOCH : 23, ELBO : 671.842184, \n",
      "EPOCH : 24, ELBO : 674.882477, \n",
      "EPOCH : 25, ELBO : 671.875743, \n",
      "EPOCH : 26, ELBO : 668.996440, \n",
      "EPOCH : 27, ELBO : 671.728665, \n",
      "EPOCH : 28, ELBO : 670.669118, \n",
      "EPOCH : 29, ELBO : 674.860361, \n",
      "EPOCH : 30, ELBO : 671.091327, \n",
      "EPOCH : 31, ELBO : 671.719571, \n",
      "EPOCH : 32, ELBO : 670.397860, \n",
      "EPOCH : 33, ELBO : 673.399874, \n",
      "EPOCH : 34, ELBO : 673.926281, \n",
      "EPOCH : 35, ELBO : 672.226533, \n",
      "EPOCH : 36, ELBO : 671.372401, \n",
      "EPOCH : 37, ELBO : 671.964298, \n",
      "EPOCH : 38, ELBO : 674.333548, \n",
      "EPOCH : 39, ELBO : 670.072500, \n",
      "EPOCH : 40, ELBO : 672.876474, \n",
      "EPOCH : 41, ELBO : 672.614644, \n",
      "EPOCH : 42, ELBO : 669.770223, \n",
      "EPOCH : 43, ELBO : 670.747847, \n",
      "EPOCH : 44, ELBO : 677.465557, \n",
      "EPOCH : 45, ELBO : 675.732433, \n",
      "EPOCH : 46, ELBO : 674.155182, \n",
      "EPOCH : 47, ELBO : 673.933800, \n",
      "EPOCH : 48, ELBO : 672.095506, \n",
      "EPOCH : 49, ELBO : 675.318281, \n",
      "EPOCH : 50, ELBO : 673.282471, \n",
      "EPOCH : 51, ELBO : 671.691114, \n",
      "EPOCH : 52, ELBO : 671.867034, \n",
      "EPOCH : 53, ELBO : 673.174203, \n",
      "EPOCH : 54, ELBO : 675.611101, \n",
      "EPOCH : 55, ELBO : 674.607667, \n",
      "EPOCH : 56, ELBO : 672.921952, \n",
      "EPOCH : 57, ELBO : 670.526753, \n",
      "EPOCH : 58, ELBO : 673.650941, \n",
      "EPOCH : 59, ELBO : 673.557341, \n",
      "EPOCH : 60, ELBO : 668.072637, \n",
      "EPOCH : 61, ELBO : 674.929762, \n",
      "EPOCH : 62, ELBO : 671.046748, \n",
      "EPOCH : 63, ELBO : 674.812879, \n",
      "EPOCH : 64, ELBO : 670.119651, \n",
      "EPOCH : 65, ELBO : 673.671528, \n",
      "EPOCH : 66, ELBO : 668.158039, \n",
      "EPOCH : 67, ELBO : 673.718007, \n",
      "EPOCH : 68, ELBO : 675.460853, \n",
      "EPOCH : 69, ELBO : 673.714993, \n",
      "EPOCH : 70, ELBO : 671.271327, \n",
      "EPOCH : 71, ELBO : 672.137623, \n",
      "EPOCH : 72, ELBO : 672.791625, \n",
      "EPOCH : 73, ELBO : 675.304963, \n",
      "EPOCH : 74, ELBO : 667.720227, \n",
      "EPOCH : 75, ELBO : 675.504795, \n",
      "EPOCH : 76, ELBO : 672.951223, \n",
      "EPOCH : 77, ELBO : 669.591457, \n",
      "EPOCH : 78, ELBO : 676.368465, \n",
      "EPOCH : 79, ELBO : 678.644201, \n",
      "EPOCH : 80, ELBO : 672.260017, \n",
      "EPOCH : 81, ELBO : 671.647467, \n",
      "EPOCH : 82, ELBO : 671.977421, \n",
      "EPOCH : 83, ELBO : 678.891337, \n",
      "EPOCH : 84, ELBO : 673.858486, \n",
      "EPOCH : 85, ELBO : 672.722267, \n",
      "EPOCH : 86, ELBO : 669.266343, \n",
      "EPOCH : 87, ELBO : 673.039639, \n",
      "EPOCH : 88, ELBO : 674.087798, \n",
      "EPOCH : 89, ELBO : 675.742863, \n",
      "EPOCH : 90, ELBO : 671.174768, \n",
      "EPOCH : 91, ELBO : 669.882843, \n",
      "EPOCH : 92, ELBO : 673.109179, \n",
      "EPOCH : 93, ELBO : 672.925488, \n",
      "EPOCH : 94, ELBO : 675.120489, \n",
      "EPOCH : 95, ELBO : 672.459800, \n",
      "EPOCH : 96, ELBO : 672.988136, \n",
      "EPOCH : 97, ELBO : 671.622723, \n",
      "EPOCH : 98, ELBO : 673.612415, \n",
      "EPOCH : 99, ELBO : 674.348487, \n",
      "EPOCH : 100, ELBO : 671.909003, \n"
     ]
    }
   ],
   "source": [
    "Epoch = 100\n",
    "ELBOs_list = []\n",
    "kl_A_list = []\n",
    "kl_C_list = []\n",
    "kl_rho_list = []\n",
    "log_Z_list = []\n",
    "for epoch in range(Epoch):\n",
    "    ## VBM step\n",
    "    ## infer variational distributions\n",
    "    q_sigma_A, q_mu_A, sigma_C, q_rho_a, q_rho_b, q_mu_C = infer_qs(W_A, S_A, W_C, S_C, Y_hat, alpha, r, rho_a, rho_b, N, T)\n",
    "    ## compute expected natural parameters\n",
    "    E_A, E_ATA, E_rho_s, E_log_rho_s, E_R_inv, E_C, E_R_inv_C, E_CT_R_inv_C = natstats(q_rho_a, q_rho_b, S_A, S_C, q_sigma_A, sigma_C, N, K)\n",
    "    natstats_list = [E_A, E_ATA, E_rho_s, E_log_rho_s, E_R_inv, E_C, E_R_inv_C, E_CT_R_inv_C]\n",
    "    \n",
    "    ## VBE step\n",
    "    # forward recursion\n",
    "    Mu_xt, Sigma_xt, Sigma_star, log_Z = forward(mu_x0, sigma_x0, N, T, K, video, *natstats_list)\n",
    "    # backward recursion\n",
    "    psi_T_inv = np.zeros((K, K))\n",
    "    eta_T = np.ones((K, 1))\n",
    "    Psi, Eta = backward(psi_T_inv, eta_T, video, N, T, K, *natstats_list)\n",
    "    # update Gamma and Omega\n",
    "    Gamma_ts, Omega_ts, Gamma_ttp1s = update_marginals(Mu_xt, Sigma_xt, Sigma_star, Psi, Eta, N, T, K, E_A, E_CT_R_inv_C)\n",
    "    # update hsss\n",
    "    W_A, S_A, W_C, S_C = update_hsss(Gamma_ts, Omega_ts, Gamma_ttp1s, video, N, T)\n",
    "    \n",
    "    ## update hyper-parameters\n",
    "    alpha_new, r_new, mu_x0_new, sigma_x0_new, rho_a_new, rho_b_new = update_hyper(Gamma_ts, Omega_ts, S_A, S_C, q_sigma_A, sigma_C, E_R_inv, E_rho_s, E_log_rho_s, N, rho_a, rho_b)\n",
    "    alpha = alpha_new\n",
    "    r = r_new\n",
    "    mu_x0 = mu_x0_new\n",
    "    sigma_x0 = sigma_x0_new\n",
    "    rho_a = rho_a_new\n",
    "    rho_b = rho_b_new\n",
    "    \n",
    "    ## ELBO\n",
    "    \n",
    "    p_sigma_A = np.diag(1.0 / alpha)\n",
    "    p_sigma_C = np.diag(1.0 / r)\n",
    "    q_rho_a_vec = q_rho_a * np.ones(N)\n",
    "    q_rho_b_vec = q_rho_b * np.ones(N)\n",
    "    q_rhos = gamma.rvs(a=q_rho_a_vec, scale=(1.0 / q_rho_b_vec))\n",
    "    kl_A = KL_A(q_mu_A, q_sigma_A, p_sigma_A, K)\n",
    "    kl_C = KL_C(q_mu_C, q_rhos, sigma_C, p_sigma_C, N)\n",
    "    rho_a_vec = rho_a * np.ones(N)\n",
    "    rho_b_vec = rho_b * np.ones(N)\n",
    "    kl_rho = KL_gamma(q_rho_a, q_rho_b, rho_a_vec, rho_b_vec)\n",
    "    ELBO = - kl_A - kl_C - kl_rho + log_Z\n",
    "    ELBOs_list.append(ELBO)\n",
    "    kl_A_list.append(kl_A)\n",
    "    kl_C_list.append(kl_C)\n",
    "    kl_rho_list.append(kl_rho)\n",
    "    log_Z_list.append(log_Z)\n",
    "    print('EPOCH : %d, ELBO : %f, ' % ((epoch+1), ELBO))\n",
    "#     print('kl_A : %f, kl_C : %f, kl_rho : %f, log_Z : %f' % (kl_A, kl_C, kl_rho, log_Z))"
   ]
  },
  {
   "cell_type": "code",
   "execution_count": 20,
   "metadata": {},
   "outputs": [
    {
     "data": {
      "text/plain": [
       "<matplotlib.legend.Legend at 0x7fe912d22dd8>"
      ]
     },
     "execution_count": 20,
     "metadata": {},
     "output_type": "execute_result"
    },
    {
     "data": {
      "image/png": "[encoded data removed]",
      "text/plain": [
       "<Figure size 432x288 with 1 Axes>"
      ]
     },
     "metadata": {},
     "output_type": "display_data"
    }
   ],
   "source": [
    "ax = plt.gca()\n",
    "ax.plot(ELBOs_list, label='ELBO')\n",
    "ax.plot(kl_A_list, label='kl_A')\n",
    "ax.plot(kl_C_list, label='kl_C')\n",
    "ax.plot(kl_rho_list, label='kl_rho')\n",
    "ax.plot(log_Z_list, label='log_Z')\n",
    "ax.legend()"
   ]
  },
  {
   "cell_type": "markdown",
   "metadata": {},
   "source": [
    "## Generative "
   ]
  },
  {
   "cell_type": "code",
   "execution_count": 7,
   "metadata": {},
   "outputs": [],
   "source": [
    "# A = np.zeros((K, K))\n",
    "# C = np.zeros((N, K))\n",
    "# q_rho = gamma.rvs(a=q_rho_a, scale=(1.0 / q_rho_b))\n",
    "# R = np.diag((1.0 / q_rho))\n",
    "# for j in range(K):\n",
    "#     aj = multivariate_normal.rvs(q_mu_A[:, j], q_sigma_A)\n",
    "#     A[j, :] = aj\n",
    "# for n in range(N):\n",
    "#     cn = multivariate_normal.rvs(q_mu_C[:, n], (1.0 / q_rho[n]) * sigma_C)\n",
    "#     C[n, :] = cn\n",
    "# # sample x0\n",
    "# mu_x0.shape = (K,)\n",
    "# x0 = multivariate_normal.rvs(mu_x0, sigma_x0)\n",
    "# xtm1 = x0\n",
    "# xtm1.shape = (K, 1)\n",
    "# Y = []\n",
    "# for t in range(T):\n",
    "#     wt = multivariate_normal.rvs(np.zeros(K), np.eye(K))\n",
    "#     wt.shape = (K, 1)\n",
    "#     xt = np.dot(A, xtm1) + wt\n",
    "#     vt = multivariate_normal.rvs(np.zeros(N), R)\n",
    "#     vt.shape = (N, 1)\n",
    "#     yt = np.dot(C, xt) + vt\n",
    "#     Y.append(yt)\n",
    "#     xtm1 = xt\n",
    "# Y = np.concatenate(Y, 1)\n",
    "# Y.shape\n",
    "# plt.imshow(Y, cmap='gray', vmin=0, vmax=1)\n",
    "# plt.colorbar()"
   ]
  },
  {
   "cell_type": "code",
   "execution_count": 34,
   "metadata": {},
   "outputs": [
    {
     "data": {
      "text/plain": [
       "2.5"
      ]
     },
     "execution_count": 34,
     "metadata": {},
     "output_type": "execute_result"
    }
   ],
   "source": []
  }
 ],
 "metadata": {
  "kernelspec": {
   "display_name": "Python 3",
   "language": "python",
   "name": "python3"
  },
  "language_info": {
   "codemirror_mode": {
    "name": "ipython",
    "version": 3
   },
   "file_extension": ".py",
   "mimetype": "text/x-python",
   "name": "python",
   "nbconvert_exporter": "python",
   "pygments_lexer": "ipython3",
   "version": "3.6.5"
  }
 },
 "nbformat": 4,
 "nbformat_minor": 2
}
