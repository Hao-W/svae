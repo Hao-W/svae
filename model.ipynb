{
 "cells": [
  {
   "cell_type": "code",
   "execution_count": 1,
   "metadata": {},
   "outputs": [],
   "source": [
    "%matplotlib inline\n",
    "import autograd.numpy as np\n",
    "from autograd.numpy.linalg import inv, det\n",
    "from autograd import grad\n",
    "from functools import reduce\n",
    "import autograd.numpy.random as npr\n",
    "import matplotlib.pyplot as plt\n",
    "from scipy.stats import multivariate_normal, gamma, invgamma \n",
    "from scipy.special import digamma, polygamma\n",
    "from scipy.special import gamma as gafun\n",
    "from util import *\n",
    "from kalman import *"
   ]
  },
  {
   "cell_type": "code",
   "execution_count": 2,
   "metadata": {},
   "outputs": [],
   "source": [
    "num_sequences = 50\n",
    "time_length = 100\n",
    "image_length = 20\n",
    "generate_dataset_filename = './bouncingball'\n",
    "dataset_filename = './bouncingball.npy'"
   ]
  },
  {
   "cell_type": "markdown",
   "metadata": {},
   "source": [
    "## Load Dataset"
   ]
  },
  {
   "cell_type": "code",
   "execution_count": 3,
   "metadata": {},
   "outputs": [
    {
     "name": "stdout",
     "output_type": "stream",
     "text": [
      "dataset size : 50, image length : 20, sequence length : 100\n"
     ]
    }
   ],
   "source": [
    "## generate dataset\n",
    "# video_arrays = generate_dataset(generate_dataset_filename, num_sequences, image_length, time_length)\n",
    "train_dataset = load_data(dataset_filename, num_sequences, image_length, time_length)\n",
    "## just take one video\n",
    "video = train_dataset[0, :, :]"
   ]
  },
  {
   "cell_type": "markdown",
   "metadata": {},
   "source": [
    "## Hyper-parameters"
   ]
  },
  {
   "cell_type": "code",
   "execution_count": 17,
   "metadata": {},
   "outputs": [],
   "source": [
    "N = train_dataset.shape[1]\n",
    "T = train_dataset.shape[2]\n",
    "K = 8\n",
    "\n",
    "# initialize hyperpriors\n",
    "alpha_a_0, alpha_b_0, r_a_0, r_b_0, rho_a, rho_b, mu_x0_0_sigma_diag, sigma_x0_a, sigma_x0_b = init_hyper(K)\n",
    "\n",
    "## sample hyper parameters, hidden state priors\n",
    "alpha = gamma.rvs(a=alpha_a_0, scale=(1.0 / alpha_b_0))\n",
    "r = gamma.rvs(a=r_a_0, scale=(1.0 / r_b_0))\n",
    "mu_x0 = multivariate_normal.rvs(np.zeros(K), np.diag(mu_x0_0_sigma_diag))\n",
    "mu_x0.shape = (K, 1)\n",
    "sigma_x0 = 1.0 / gamma.rvs(a=sigma_x0_a, scale=(1.0 / sigma_x0_b))\n",
    "sigma_x0 = np.diag(sigma_x0)\n",
    "\n",
    "## Initialize Hidden State Sufficient Statistics\n",
    "W_A, S_A, W_C, S_C = init_hsss(N, K)\n",
    "Y_hat = compute_yhat(video, N, T)"
   ]
  },
  {
   "cell_type": "markdown",
   "metadata": {},
   "source": [
    "## VBM Step"
   ]
  },
  {
   "cell_type": "code",
   "execution_count": 18,
   "metadata": {},
   "outputs": [],
   "source": [
    "## infer variational distributions\n",
    "q_sigma_A, q_mu_A, sigma_C, q_rho_a, q_rho_b, q_mu_C = infer_qs(W_A, S_A, W_C, S_C, Y_hat, alpha, r, rho_a, rho_b, N, T)\n",
    "## compute expected natural parameters\n",
    "E_A, E_ATA, E_rho_s, E_log_rho_s, E_R_inv, E_C, E_R_inv_C, E_CT_R_inv_C = natstats(q_rho_a, q_rho_b, S_A, S_C, q_sigma_A, sigma_C, N, K)\n",
    "natstats_list = [E_A, E_ATA, E_rho_s, E_log_rho_s, E_R_inv, E_C, E_R_inv_C, E_CT_R_inv_C]"
   ]
  },
  {
   "cell_type": "markdown",
   "metadata": {},
   "source": [
    "## VBE Step"
   ]
  },
  {
   "cell_type": "code",
   "execution_count": 20,
   "metadata": {},
   "outputs": [
    {
     "name": "stderr",
     "output_type": "stream",
     "text": [
      "/home/hao/anaconda3/envs/dev/lib/python3.6/site-packages/autograd/tracer.py:48: RuntimeWarning: invalid value encountered in log\n",
      "  return f_raw(*args, **kwargs)\n"
     ]
    }
   ],
   "source": [
    "# forward recursion\n",
    "Mu_xt, Sigma_xt, Sigma_star, log_Z = forward(mu_x0, sigma_x0, N, T, K, video, *natstats_list)\n",
    "# backward recursion\n",
    "psi_T_inv = np.zeros((K, K))\n",
    "eta_T = np.ones((K, 1))\n",
    "Psi, Eta = backward(psi_T_inv, eta_T, video, N, T, K, *natstats_list)\n",
    "# update Gamma and Omega\n",
    "Gamma_ts, Omega_ts, Gamma_ttp1s = update_marginals(Mu_xt, Sigma_xt, Sigma_star, Psi, Eta, N, T, K, E_A, E_CT_R_inv_C)\n",
    "# update hsss\n",
    "W_A, S_A, W_C, S_C = update_hsss(Gamma_ts, Omega_ts, Gamma_ttp1s, video, N, T)"
   ]
  },
  {
   "cell_type": "markdown",
   "metadata": {},
   "source": [
    "## Update Hyper-parameters"
   ]
  },
  {
   "cell_type": "code",
   "execution_count": 7,
   "metadata": {},
   "outputs": [],
   "source": [
    "alpha_new, r_new, mu_x0_new, sigma_x0_new, rho_a_new, rho_b_new = update_hyper(Gamma_ts, Omega_ts, S_A, S_C, q_sigma_A, sigma_C, E_R_inv, E_rho_s, E_log_rho_s, N, rho_a, rho_b)"
   ]
  },
  {
   "cell_type": "markdown",
   "metadata": {},
   "source": [
    "## ELBO"
   ]
  },
  {
   "cell_type": "code",
   "execution_count": 17,
   "metadata": {},
   "outputs": [
    {
     "name": "stderr",
     "output_type": "stream",
     "text": [
      "/home/hao/anaconda3/envs/dev/lib/python3.6/site-packages/autograd/tracer.py:48: RuntimeWarning: invalid value encountered in log\n",
      "  return f_raw(*args, **kwargs)\n"
     ]
    }
   ],
   "source": [
    "p_sigma_A = np.diag(1.0 / alpha_new)\n",
    "p_sigma_C = np.diag(1.0 / r_new)\n",
    "\n",
    "kl_A = KL_A(q_mu_A, q_sigma_A, p_sigma_A, K)\n",
    "kl_C = KL_C(q_mu_C, q_rhos, sigma_C, p_sigma_C, N)\n",
    "kl_rho = KL_gamma(q_rho_a, q_rho_b, rho_a, rho_b)\n",
    "ELBO = - kl_A - kl_C - kl_rho + log_Z"
   ]
  }
 ],
 "metadata": {
  "kernelspec": {
   "display_name": "Python 3",
   "language": "python",
   "name": "python3"
  },
  "language_info": {
   "codemirror_mode": {
    "name": "ipython",
    "version": 3
   },
   "file_extension": ".py",
   "mimetype": "text/x-python",
   "name": "python",
   "nbconvert_exporter": "python",
   "pygments_lexer": "ipython3",
   "version": "3.6.5"
  }
 },
 "nbformat": 4,
 "nbformat_minor": 2
}
