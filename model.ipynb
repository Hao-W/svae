{
 "cells": [
  {
   "cell_type": "code",
   "execution_count": 1,
   "metadata": {},
   "outputs": [],
   "source": [
    "%matplotlib inline\n",
    "import autograd.numpy as np\n",
    "from autograd.numpy.linalg import inv, det\n",
    "from autograd import grad\n",
    "from functools import reduce\n",
    "import autograd.numpy.random as npr\n",
    "import matplotlib.pyplot as plt\n",
    "from scipy.stats import multivariate_normal, gamma, invgamma \n",
    "from scipy.special import digamma, polygamma\n",
    "from scipy.special import gamma as gafun\n",
    "from util import *\n",
    "from kalman import *"
   ]
  },
  {
   "cell_type": "code",
   "execution_count": 2,
   "metadata": {},
   "outputs": [],
   "source": [
    "num_sequences = 50\n",
    "time_length = 100\n",
    "image_length = 20\n",
    "generate_dataset_filename = './bouncingball'\n",
    "dataset_filename = './bouncingball.npy'"
   ]
  },
  {
   "cell_type": "markdown",
   "metadata": {},
   "source": [
    "## Load Dataset"
   ]
  },
  {
   "cell_type": "code",
   "execution_count": 34,
   "metadata": {},
   "outputs": [],
   "source": [
    "# ## generate dataset\n",
    "# # video_arrays = generate_dataset(generate_dataset_filename, num_sequences, image_length, time_length)\n",
    "# train_dataset = load_data(dataset_filename, num_sequences, image_length, time_length)\n",
    "# ## just take one video\n",
    "# video = train_dataset[0, :, :]\n",
    "rnd = np.random.RandomState(0)\n",
    "n_timesteps = 100\n",
    "x = np.linspace(0, 3 * np.pi, n_timesteps)\n",
    "observations = 20 * (np.sin(x))\n",
    "video = observations\n",
    "video.shape = (1, 100)"
   ]
  },
  {
   "cell_type": "markdown",
   "metadata": {},
   "source": [
    "## Hyper-parameters"
   ]
  },
  {
   "cell_type": "code",
   "execution_count": 36,
   "metadata": {},
   "outputs": [],
   "source": [
    "N = 1\n",
    "T = 100\n",
    "K = 2\n",
    "\n",
    "# initialize hyperpriors\n",
    "alpha_a_0, alpha_b_0, r_a_0, r_b_0, mu_x0_0_sigma_diag, sigma_x0_a, sigma_x0_b = init_hyper(K)\n",
    "rhos = np.ones(N) * 0.01 ## rhos is constant !!!\n",
    "## sample hyper parameters, hidden state priors\n",
    "alpha = gamma.rvs(a=alpha_a_0, scale=(1.0 / alpha_b_0))\n",
    "r = gamma.rvs(a=r_a_0, scale=(1.0 / r_b_0))\n",
    "\n",
    "mu_x0 = multivariate_normal.rvs(np.zeros(K), np.diag(mu_x0_0_sigma_diag))\n",
    "mu_x0.shape = (K, 1)\n",
    "sigma_x0 = 1.0 / gamma.rvs(a=sigma_x0_a, scale=(1.0 / sigma_x0_b))\n",
    "sigma_x0 = np.diag(sigma_x0)\n",
    "\n",
    "Y_hat = compute_yhat(video, N, T)\n",
    "\n",
    "# q_sigma_A, q_mu_A, sigma_C, q_mu_C = init_qs(alpha, r, N, T, K)\n",
    "W_A, S_A, W_C, S_C = init_hsss(mu_x0, video, N, T, K)"
   ]
  },
  {
   "cell_type": "markdown",
   "metadata": {},
   "source": [
    "## ELBO"
   ]
  },
  {
   "cell_type": "code",
   "execution_count": 37,
   "metadata": {},
   "outputs": [],
   "source": [
    "## VBM step\n",
    "## infer variational distributions\n",
    "q_sigma_A, q_mu_A, sigma_C, q_mu_C = infer_qs(W_A, S_A, W_C, S_C, Y_hat, alpha, r, rhos, N, T)\n",
    "## compute expected natural parameters\n",
    "E_A, E_ATA, E_R_inv, E_C, E_R_inv_C, E_CT_R_inv_C = natstats(rhos, S_A, S_C, q_sigma_A, sigma_C, N, K)\n",
    "natstats_list = [E_A, E_ATA, E_R_inv, E_C, E_R_inv_C, E_CT_R_inv_C]\n"
   ]
  },
  {
   "cell_type": "code",
   "execution_count": 38,
   "metadata": {},
   "outputs": [],
   "source": [
    "## VBE step\n",
    "# forward recursion\n",
    "Mu_xt, Sigma_xt, Sigma_star, log_Z = forward(mu_x0, sigma_x0, N, T, K, video, *natstats_list)\n",
    "# backward recursion\n",
    "psi_T_inv = np.zeros((K, K))\n",
    "eta_T = np.ones((K, 1))\n",
    "Psi, Eta = backward(psi_T_inv, eta_T, video, N, T, K, *natstats_list)\n",
    "# update Gamma and Omega\n",
    "Gamma_ts, Omega_ts, Gamma_ttp1s = update_marginals(Mu_xt, Sigma_xt, Sigma_star, Psi, Eta, N, T, K, E_A, E_CT_R_inv_C)\n",
    "# update hsss\n",
    "W_A, S_A, W_C, S_C = update_hsss(Gamma_ts, Omega_ts, Gamma_ttp1s, video, N, T)\n",
    "\n",
    "## update hyper-parameters\n",
    "alpha_new, r_new, mu_x0_new, sigma_x0_new = update_hyper(Gamma_ts, Omega_ts, S_A, S_C, q_sigma_A, sigma_C, E_R_inv, N)\n",
    "alpha = alpha_new\n",
    "r = r_new\n",
    "mu_x0 = mu_x0_new\n",
    "sigma_x0 = sigma_x0_new"
   ]
  },
  {
   "cell_type": "code",
   "execution_count": 39,
   "metadata": {},
   "outputs": [
    {
     "name": "stdout",
     "output_type": "stream",
     "text": [
      "EPOCH : 1, ELBO : -200.564618, \n",
      "EPOCH : 2, ELBO : -195.673508, \n",
      "EPOCH : 3, ELBO : -194.459682, \n",
      "EPOCH : 4, ELBO : -193.063964, \n",
      "EPOCH : 5, ELBO : -192.048771, \n",
      "EPOCH : 6, ELBO : -191.649170, \n",
      "EPOCH : 7, ELBO : -191.484223, \n",
      "EPOCH : 8, ELBO : -191.385416, \n",
      "EPOCH : 9, ELBO : -191.315693, \n",
      "EPOCH : 10, ELBO : -191.263422, \n",
      "EPOCH : 11, ELBO : -191.222735, \n",
      "EPOCH : 12, ELBO : -191.190149, \n",
      "EPOCH : 13, ELBO : -191.163458, \n",
      "EPOCH : 14, ELBO : -191.141189, \n",
      "EPOCH : 15, ELBO : -191.122327, \n",
      "EPOCH : 16, ELBO : -191.106142, \n",
      "EPOCH : 17, ELBO : -191.092102, \n",
      "EPOCH : 18, ELBO : -191.079807, \n",
      "EPOCH : 19, ELBO : -191.068949, \n",
      "EPOCH : 20, ELBO : -191.059290, \n",
      "EPOCH : 21, ELBO : -191.050643, \n",
      "EPOCH : 22, ELBO : -191.042855, \n",
      "EPOCH : 23, ELBO : -191.035804, \n",
      "EPOCH : 24, ELBO : -191.029391, \n",
      "EPOCH : 25, ELBO : -191.023533, \n",
      "EPOCH : 26, ELBO : -191.018160, \n",
      "EPOCH : 27, ELBO : -191.013215, \n",
      "EPOCH : 28, ELBO : -191.008649, \n",
      "EPOCH : 29, ELBO : -191.004419, \n",
      "EPOCH : 30, ELBO : -191.000490, \n",
      "EPOCH : 31, ELBO : -190.996830, \n",
      "EPOCH : 32, ELBO : -190.993414, \n",
      "EPOCH : 33, ELBO : -190.990217, \n",
      "EPOCH : 34, ELBO : -190.987219, \n",
      "EPOCH : 35, ELBO : -190.984401, \n",
      "EPOCH : 36, ELBO : -190.981749, \n",
      "EPOCH : 37, ELBO : -190.979248, \n",
      "EPOCH : 38, ELBO : -190.976885, \n",
      "EPOCH : 39, ELBO : -190.974650, \n",
      "EPOCH : 40, ELBO : -190.972532, \n",
      "EPOCH : 41, ELBO : -190.970522, \n",
      "EPOCH : 42, ELBO : -190.968612, \n",
      "EPOCH : 43, ELBO : -190.966795, \n",
      "EPOCH : 44, ELBO : -190.965064, \n",
      "EPOCH : 45, ELBO : -190.963413, \n",
      "EPOCH : 46, ELBO : -190.961837, \n",
      "EPOCH : 47, ELBO : -190.960331, \n",
      "EPOCH : 48, ELBO : -190.958891, \n",
      "EPOCH : 49, ELBO : -190.957511, \n",
      "EPOCH : 50, ELBO : -190.956189, \n",
      "EPOCH : 51, ELBO : -190.954920, \n",
      "EPOCH : 52, ELBO : -190.953703, \n",
      "EPOCH : 53, ELBO : -190.952532, \n",
      "EPOCH : 54, ELBO : -190.951407, \n",
      "EPOCH : 55, ELBO : -190.950324, \n",
      "EPOCH : 56, ELBO : -190.949281, \n",
      "EPOCH : 57, ELBO : -190.948276, \n",
      "EPOCH : 58, ELBO : -190.947306, \n",
      "EPOCH : 59, ELBO : -190.946371, \n",
      "EPOCH : 60, ELBO : -190.945468, \n",
      "EPOCH : 61, ELBO : -190.944595, \n",
      "EPOCH : 62, ELBO : -190.943751, \n",
      "EPOCH : 63, ELBO : -190.942935, \n",
      "EPOCH : 64, ELBO : -190.942145, \n",
      "EPOCH : 65, ELBO : -190.941380, \n",
      "EPOCH : 66, ELBO : -190.940639, \n",
      "EPOCH : 67, ELBO : -190.939921, \n",
      "EPOCH : 68, ELBO : -190.939225, \n",
      "EPOCH : 69, ELBO : -190.938549, \n",
      "EPOCH : 70, ELBO : -190.937893, \n",
      "EPOCH : 71, ELBO : -190.937256, \n",
      "EPOCH : 72, ELBO : -190.936637, \n",
      "EPOCH : 73, ELBO : -190.936036, \n",
      "EPOCH : 74, ELBO : -190.935451, \n",
      "EPOCH : 75, ELBO : -190.934882, \n",
      "EPOCH : 76, ELBO : -190.934329, \n",
      "EPOCH : 77, ELBO : -190.933790, \n",
      "EPOCH : 78, ELBO : -190.933266, \n",
      "EPOCH : 79, ELBO : -190.932755, \n",
      "EPOCH : 80, ELBO : -190.932257, \n",
      "EPOCH : 81, ELBO : -190.931772, \n",
      "EPOCH : 82, ELBO : -190.931298, \n",
      "EPOCH : 83, ELBO : -190.930837, \n",
      "EPOCH : 84, ELBO : -190.930387, \n",
      "EPOCH : 85, ELBO : -190.929947, \n",
      "EPOCH : 86, ELBO : -190.929518, \n",
      "EPOCH : 87, ELBO : -190.929099, \n",
      "EPOCH : 88, ELBO : -190.928690, \n",
      "EPOCH : 89, ELBO : -190.928290, \n",
      "EPOCH : 90, ELBO : -190.927900, \n",
      "EPOCH : 91, ELBO : -190.927518, \n",
      "EPOCH : 92, ELBO : -190.927144, \n",
      "EPOCH : 93, ELBO : -190.926779, \n",
      "EPOCH : 94, ELBO : -190.926422, \n",
      "EPOCH : 95, ELBO : -190.926072, \n",
      "EPOCH : 96, ELBO : -190.925730, \n",
      "EPOCH : 97, ELBO : -190.925395, \n",
      "EPOCH : 98, ELBO : -190.925067, \n",
      "EPOCH : 99, ELBO : -190.924745, \n",
      "EPOCH : 100, ELBO : -190.924430, \n"
     ]
    }
   ],
   "source": [
    "Epoch = 100\n",
    "ELBOs_list = []\n",
    "kl_A_list = []\n",
    "kl_C_list = []\n",
    "kl_rho_list = []\n",
    "log_Z_list = []\n",
    "for epoch in range(Epoch):\n",
    "    ## VBM step\n",
    "    ## infer variational distributions\n",
    "    q_sigma_A, q_mu_A, sigma_C, q_mu_C = infer_qs(W_A, S_A, W_C, S_C, Y_hat, alpha, r, rhos, N, T)\n",
    "    ## compute expected natural parameters\n",
    "    E_A, E_ATA, E_R_inv, E_C, E_R_inv_C, E_CT_R_inv_C = natstats(rhos, S_A, S_C, q_sigma_A, sigma_C, N, K)\n",
    "    natstats_list = [E_A, E_ATA, E_R_inv, E_C, E_R_inv_C, E_CT_R_inv_C]\n",
    "    \n",
    "    ## VBE step\n",
    "    # forward recursion\n",
    "    Mu_xt, Sigma_xt, Sigma_star, log_Z = forward(mu_x0, sigma_x0, N, T, K, video, *natstats_list)\n",
    "    # backward recursion\n",
    "    psi_T_inv = np.zeros((K, K))\n",
    "    eta_T = np.ones((K, 1))\n",
    "    Psi, Eta = backward(psi_T_inv, eta_T, video, N, T, K, *natstats_list)\n",
    "    # update Gamma and Omega\n",
    "    Gamma_ts, Omega_ts, Gamma_ttp1s = update_marginals(Mu_xt, Sigma_xt, Sigma_star, Psi, Eta, N, T, K, E_A, E_CT_R_inv_C)\n",
    "    # update hsss\n",
    "    W_A, S_A, W_C, S_C = update_hsss(Gamma_ts, Omega_ts, Gamma_ttp1s, video, N, T)\n",
    "    \n",
    "    ## update hyper-parameters\n",
    "    alpha_new, r_new, mu_x0_new, sigma_x0_new = update_hyper(Gamma_ts, Omega_ts, S_A, S_C, q_sigma_A, sigma_C, E_R_inv, N)\n",
    "    alpha = alpha_new\n",
    "    r = r_new\n",
    "    mu_x0 = mu_x0_new\n",
    "    sigma_x0 = sigma_x0_new\n",
    "\n",
    "    \n",
    "    ## ELBO\n",
    "    \n",
    "    p_sigma_A = np.diag(1.0 / alpha)\n",
    "    p_sigma_C = np.diag(1.0 / r)\n",
    "\n",
    "    kl_A = KL_A(q_mu_A, q_sigma_A, p_sigma_A, K)\n",
    "    kl_C = KL_C(q_mu_C, sigma_C, p_sigma_C, N)\n",
    "\n",
    "  \n",
    "    ELBO = - kl_A - kl_C + log_Z\n",
    "    ELBOs_list.append(ELBO)\n",
    "    kl_A_list.append(kl_A)\n",
    "    kl_C_list.append(kl_C)\n",
    "    log_Z_list.append(log_Z)\n",
    "    print('EPOCH : %d, ELBO : %f, ' % ((epoch+1), ELBO))\n",
    "#     print('kl_A : %f, kl_C : %f, kl_rho : %f, log_Z : %f' % (kl_A, kl_C, kl_rho, log_Z))"
   ]
  },
  {
   "cell_type": "code",
   "execution_count": 41,
   "metadata": {},
   "outputs": [
    {
     "data": {
      "text/plain": [
       "<matplotlib.legend.Legend at 0x7f4e6fde1f28>"
      ]
     },
     "execution_count": 41,
     "metadata": {},
     "output_type": "execute_result"
    },
    {
     "data": {
      "image/png": "[encoded data removed]",
      "text/plain": [
       "<Figure size 432x288 with 1 Axes>"
      ]
     },
     "metadata": {},
     "output_type": "display_data"
    }
   ],
   "source": [
    "ax = plt.gca()\n",
    "ax.plot(ELBOs_list, label='ELBO')\n",
    "# ax.plot(kl_A_list, label='kl_A')\n",
    "# ax.plot(kl_C_list, label='kl_C')\n",
    "\n",
    "# ax.plot(log_Z_list, label='log_Z')\n",
    "ax.legend()"
   ]
  },
  {
   "cell_type": "markdown",
   "metadata": {},
   "source": [
    "## Generative "
   ]
  },
  {
   "cell_type": "code",
   "execution_count": 53,
   "metadata": {},
   "outputs": [],
   "source": [
    "# A = np.zeros((K, K))\n",
    "# C = np.zeros((N, K))\n",
    "\n",
    "# R = np.diag(rhos)\n",
    "# for j in range(K):\n",
    "#     aj = multivariate_normal.rvs(q_mu_A[:, j], q_sigma_A)\n",
    "#     A[j, :] = aj\n",
    "# for n in range(N):\n",
    "#     cn = multivariate_normal.rvs(q_mu_C[:, n],  sigma_C)\n",
    "#     C[n, :] = cn\n",
    "# # sample x0\n",
    "# mu_x0.shape = (K,)\n",
    "# x0 = multivariate_normal.rvs(mu_x0, sigma_x0)\n",
    "# xtm1 = x0\n",
    "# xtm1.shape = (K, 1)\n",
    "# Y = []\n",
    "# for t in range(T):\n",
    "#     wt = multivariate_normal.rvs(np.zeros(K), np.eye(K))\n",
    "#     wt.shape = (K, 1)\n",
    "#     xt = np.dot(A, xtm1)\n",
    "#     vt = multivariate_normal.rvs(np.zeros(N), R)\n",
    "# #     vt.shape = (N, 1)\n",
    "#     yt = np.dot(C, xt)\n",
    "#     Y.append(yt)\n",
    "#     xtm1 = xt\n",
    "# Y = np.concatenate(Y, 1)\n",
    "# Y.shape = (100,)\n",
    "# plt.plot(Y)"
   ]
  },
  {
   "cell_type": "code",
   "execution_count": 42,
   "metadata": {},
   "outputs": [],
   "source": [
    "# forward recursion\n",
    "Mu_xt, Sigma_xt, Sigma_star, log_Z = forward(mu_x0, sigma_x0, N, T, K, video, *natstats_list)\n",
    "# backward recursion\n",
    "psi_T_inv = np.zeros((K, K))\n",
    "eta_T = np.ones((K, 1))\n",
    "Psi, Eta = backward(psi_T_inv, eta_T, video, N, T, K, *natstats_list)\n",
    "# update Gamma and Omega\n",
    "Gamma_ts, Omega_ts, Gamma_ttp1s = update_marginals(Mu_xt, Sigma_xt, Sigma_star, Psi, Eta, N, T, K, E_A, E_CT_R_inv_C)"
   ]
  },
  {
   "cell_type": "code",
   "execution_count": 43,
   "metadata": {},
   "outputs": [
    {
     "data": {
      "image/png": "[encoded data removed]",
      "text/plain": [
       "<Figure size 432x288 with 1 Axes>"
      ]
     },
     "metadata": {},
     "output_type": "display_data"
    }
   ],
   "source": [
    "for i in range(K):\n",
    "    xt = Omega_ts[11:, i]\n",
    "    xt.shape = (90,)\n",
    "    plt.plot(xt)\n"
   ]
  },
  {
   "cell_type": "code",
   "execution_count": 45,
   "metadata": {},
   "outputs": [
    {
     "ename": "NameError",
     "evalue": "name 'pl' is not defined",
     "output_type": "error",
     "traceback": [
      "\u001b[0;31m---------------------------------------------------------------------------\u001b[0m",
      "\u001b[0;31mNameError\u001b[0m                                 Traceback (most recent call last)",
      "\u001b[0;32m<ipython-input-45-9219fa23e88c>\u001b[0m in \u001b[0;36m<module>\u001b[0;34m()\u001b[0m\n\u001b[1;32m      3\u001b[0m                          label='observations')\n\u001b[1;32m      4\u001b[0m \u001b[0;34m\u001b[0m\u001b[0m\n\u001b[0;32m----> 5\u001b[0;31m \u001b[0mpl\u001b[0m\u001b[0;34m.\u001b[0m\u001b[0mlegend\u001b[0m\u001b[0;34m(\u001b[0m\u001b[0mloc\u001b[0m\u001b[0;34m=\u001b[0m\u001b[0;34m'lower right'\u001b[0m\u001b[0;34m)\u001b[0m\u001b[0;34m\u001b[0m\u001b[0m\n\u001b[0m\u001b[1;32m      6\u001b[0m \u001b[0mpl\u001b[0m\u001b[0;34m.\u001b[0m\u001b[0mxlim\u001b[0m\u001b[0;34m(\u001b[0m\u001b[0mxmin\u001b[0m\u001b[0;34m=\u001b[0m\u001b[0;36m0\u001b[0m\u001b[0;34m,\u001b[0m \u001b[0mxmax\u001b[0m\u001b[0;34m=\u001b[0m\u001b[0mx\u001b[0m\u001b[0;34m.\u001b[0m\u001b[0mmax\u001b[0m\u001b[0;34m(\u001b[0m\u001b[0;34m)\u001b[0m\u001b[0;34m)\u001b[0m\u001b[0;34m\u001b[0m\u001b[0m\n\u001b[1;32m      7\u001b[0m \u001b[0mpl\u001b[0m\u001b[0;34m.\u001b[0m\u001b[0mxlabel\u001b[0m\u001b[0;34m(\u001b[0m\u001b[0;34m'time'\u001b[0m\u001b[0;34m)\u001b[0m\u001b[0;34m\u001b[0m\u001b[0m\n",
      "\u001b[0;31mNameError\u001b[0m: name 'pl' is not defined"
     ]
    },
    {
     "data": {
      "image/png": "[encoded data removed]",
      "text/plain": [
       "<Figure size 1152x432 with 1 Axes>"
      ]
     },
     "metadata": {},
     "output_type": "display_data"
    }
   ],
   "source": [
    "plt.figure(figsize=(16, 6))\n",
    "obs_scatter = plt.scatter(x, observations, marker='x', color='b',\n",
    "                         label='observations')\n",
    "\n",
    "pl.legend(loc='lower right')\n",
    "pl.xlim(xmin=0, xmax=x.max())\n",
    "pl.xlabel('time')\n",
    "pl.show()"
   ]
  }
 ],
 "metadata": {
  "kernelspec": {
   "display_name": "Python 3",
   "language": "python",
   "name": "python3"
  },
  "language_info": {
   "codemirror_mode": {
    "name": "ipython",
    "version": 3
   },
   "file_extension": ".py",
   "mimetype": "text/x-python",
   "name": "python",
   "nbconvert_exporter": "python",
   "pygments_lexer": "ipython3",
   "version": "3.6.5"
  }
 },
 "nbformat": 4,
 "nbformat_minor": 2
}
