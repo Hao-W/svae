{
 "cells": [
  {
   "cell_type": "code",
   "execution_count": 1,
   "metadata": {},
   "outputs": [
    {
     "name": "stdout",
     "output_type": "stream",
     "text": [
      "probtorch: 0.0+5a2c637 torch: 1.3.0\n",
      "inference method:sis, apg sweeps:10, epochs:300, sample size:10, batch size:20, learning rate:0.0005\n"
     ]
    }
   ],
   "source": [
    "%run ../../import_envs.py\n",
    "%run ../sis_hyperparams.py\n",
    "\n",
    "CUDA = torch.cuda.is_available()\n",
    "DEVICE = torch.device('cuda:0')"
   ]
  },
  {
   "cell_type": "code",
   "execution_count": 2,
   "metadata": {},
   "outputs": [],
   "source": [
    "DATA = torch.from_numpy(np.load(DATA_DIR + 'dgmm/train/' + 'ob.npy')).float() ## load training datasets"
   ]
  },
  {
   "cell_type": "code",
   "execution_count": 3,
   "metadata": {},
   "outputs": [],
   "source": [
    "from apg_modeling import init_model\n",
    "model, optimizer = init_model(model_params=model_params, \n",
    "                              CUDA=CUDA, \n",
    "                              DEVICE=DEVICE, \n",
    "                              LOAD_VERSION=None, ## set to None if do not restore\n",
    "                              LR=LR)"
   ]
  },
  {
   "cell_type": "code",
   "execution_count": null,
   "metadata": {},
   "outputs": [
    {
     "name": "stdout",
     "output_type": "stream",
     "text": [
      "Epoch=0 completed  in (151s),  \n",
      "Epoch=1 completed  in (149s),  \n",
      "Epoch=2 completed  in (152s),  \n",
      "Epoch=3 completed  in (158s),  \n",
      "Epoch=4 completed  in (155s),  \n",
      "Epoch=5 completed  in (153s),  \n",
      "Epoch=6 completed  in (156s),  \n",
      "Epoch=7 completed  in (155s),  \n",
      "Epoch=8 completed  in (153s),  \n",
      "Epoch=9 completed  in (155s),  \n",
      "Epoch=10 completed  in (151s),  \n",
      "Epoch=11 completed  in (150s),  \n",
      "Epoch=12 completed  in (150s),  \n",
      "Epoch=13 completed  in (150s),  \n",
      "Epoch=14 completed  in (149s),  \n",
      "Epoch=15 completed  in (149s),  \n",
      "Epoch=16 completed  in (150s),  \n",
      "Epoch=17 completed  in (149s),  \n",
      "Epoch=18 completed  in (152s),  \n",
      "Epoch=19 completed  in (152s),  \n",
      "Epoch=20 completed  in (150s),  \n",
      "Epoch=21 completed  in (148s),  \n",
      "Epoch=22 completed  in (149s),  \n",
      "Epoch=23 completed  in (150s),  \n",
      "Epoch=24 completed  in (150s),  \n",
      "Epoch=25 completed  in (149s),  \n",
      "Epoch=26 completed  in (149s),  \n",
      "Epoch=27 completed  in (148s),  \n",
      "Epoch=28 completed  in (148s),  \n",
      "Epoch=29 completed  in (149s),  \n",
      "Epoch=30 completed  in (150s),  \n",
      "Epoch=31 completed  in (149s),  \n",
      "Epoch=32 completed  in (149s),  \n",
      "Epoch=33 completed  in (149s),  \n",
      "Epoch=34 completed  in (150s),  \n",
      "Epoch=35 completed  in (151s),  \n",
      "Epoch=36 completed  in (149s),  \n",
      "Epoch=37 completed  in (148s),  \n",
      "Epoch=38 completed  in (148s),  \n",
      "Epoch=39 completed  in (151s),  \n",
      "Epoch=40 completed  in (148s),  \n",
      "Epoch=41 completed  in (148s),  \n",
      "Epoch=42 completed  in (149s),  \n",
      "Epoch=43 completed  in (148s),  \n",
      "Epoch=44 completed  in (150s),  \n",
      "Epoch=45 completed  in (149s),  \n",
      "Epoch=46 completed  in (149s),  \n",
      "Epoch=47 completed  in (150s),  \n",
      "Epoch=48 completed  in (150s),  \n",
      "Epoch=49 completed  in (148s),  \n",
      "Epoch=50 completed  in (148s),  \n",
      "Epoch=51 completed  in (152s),  \n",
      "Epoch=52 completed  in (150s),  \n",
      "Epoch=53 completed  in (151s),  \n",
      "Epoch=54 completed  in (149s),  \n",
      "Epoch=55 completed  in (149s),  \n",
      "Epoch=56 completed  in (149s),  \n",
      "Epoch=57 completed  in (150s),  \n",
      "Epoch=58 completed  in (150s),  \n",
      "Epoch=59 completed  in (148s),  \n",
      "Epoch=60 completed  in (149s),  \n",
      "Epoch=61 completed  in (149s),  \n",
      "Epoch=62 completed  in (149s),  \n",
      "Epoch=63 completed  in (148s),  \n",
      "Epoch=64 completed  in (153s),  \n",
      "Epoch=65 completed  in (148s),  \n",
      "Epoch=66 completed  in (149s),  \n",
      "Epoch=67 completed  in (149s),  \n",
      "Epoch=68 completed  in (149s),  \n",
      "Epoch=69 completed  in (149s),  \n",
      "Epoch=70 completed  in (150s),  \n",
      "Epoch=71 completed  in (148s),  \n",
      "Epoch=72 completed  in (149s),  \n",
      "Epoch=73 completed  in (149s),  \n",
      "Epoch=74 completed  in (150s),  \n",
      "Epoch=75 completed  in (149s),  \n",
      "Epoch=76 completed  in (149s),  \n",
      "Epoch=77 completed  in (149s),  \n",
      "Epoch=78 completed  in (149s),  \n",
      "Epoch=79 completed  in (151s),  \n",
      "Epoch=80 completed  in (149s),  \n",
      "Epoch=81 completed  in (150s),  \n",
      "Epoch=82 completed  in (149s),  \n",
      "Epoch=83 completed  in (149s),  \n",
      "Epoch=84 completed  in (150s),  \n",
      "Epoch=85 completed  in (149s),  \n",
      "Epoch=86 completed  in (149s),  \n",
      "Epoch=87 completed  in (150s),  \n",
      "Epoch=88 completed  in (150s),  \n",
      "Epoch=89 completed  in (149s),  \n",
      "Epoch=90 completed  in (149s),  \n",
      "Epoch=91 completed  in (149s),  \n",
      "Epoch=92 completed  in (151s),  \n",
      "Epoch=93 completed  in (150s),  \n"
     ]
    }
   ],
   "source": [
    "%run ../sis_training.py\n",
    "\n",
    "train(optimizer=optimizer, \n",
    "      model=model, \n",
    "      apg_sweeps=APG_SWEEPS, \n",
    "      data=DATA, \n",
    "      K=K,\n",
    "      num_epochs=NUM_EPOCHS, \n",
    "      sample_size=SAMPLE_SIZE, \n",
    "      batch_size=BATCH_SIZE, \n",
    "      CUDA=CUDA, \n",
    "      DEVICE=DEVICE, \n",
    "      MODEL_VERSION=MODEL_VERSION)"
   ]
  },
  {
   "cell_type": "code",
   "execution_count": null,
   "metadata": {},
   "outputs": [],
   "source": []
  }
 ],
 "metadata": {
  "kernelspec": {
   "display_name": "Python 3",
   "language": "python",
   "name": "python3"
  },
  "language_info": {
   "codemirror_mode": {
    "name": "ipython",
    "version": 3
   },
   "file_extension": ".py",
   "mimetype": "text/x-python",
   "name": "python",
   "nbconvert_exporter": "python",
   "pygments_lexer": "ipython3",
   "version": "3.7.3"
  }
 },
 "nbformat": 4,
 "nbformat_minor": 4
}
