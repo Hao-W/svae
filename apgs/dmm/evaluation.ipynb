{
 "cells": [
  {
   "cell_type": "markdown",
   "metadata": {},
   "source": [
    "### Load Test Data and Trained APG Sampler"
   ]
  },
  {
   "cell_type": "code",
   "execution_count": null,
   "metadata": {},
   "outputs": [],
   "source": [
    "%matplotlib inline\n",
    "import torch\n",
    "import numpy as np\n",
    "from apgs.dmm.apg_training import init_apg_models, init_rws_models\n",
    "\n",
    "CUDA = torch.cuda.is_available()\n",
    "device = torch.device('cuda:1')\n",
    "data_dir = '../../data/dmm/'\n",
    "K, D = 4, 2\n",
    "num_hidden_mu, num_nss, num_hidden_local, num_hidden_dec, recon_sigma = 32, 8, 32, 32, 1.5\n",
    "data = torch.from_numpy(np.load(data_dir + 'ob_test.npy')).float() \n",
    "model_version = 'apg-dmm-num_sweeps=7-num_samples=10'\n",
    "models = init_apg_models(K, D, num_hidden_mu, num_nss, num_hidden_local, num_hidden_dec, recon_sigma, CUDA, device, model_version, lr=None)"
   ]
  },
  {
   "cell_type": "markdown",
   "metadata": {},
   "source": [
    "### Visualize Samples"
   ]
  },
  {
   "cell_type": "code",
   "execution_count": null,
   "metadata": {},
   "outputs": [],
   "source": [
    "# from apgs.resampler import Resampler\n",
    "# from apgs.dmm.objectives import apg_objective\n",
    "# from apgs.dmm.evaluation import viz_samples\n",
    "\n",
    "# batch_size, num_sweeps = 5, 13\n",
    "# batch_data = data[torch.randperm(data.shape[0])[:batch_size]].unsqueeze(0)\n",
    "# if CUDA:\n",
    "#     batch_data = batch_data.cuda().to(device)\n",
    "# result_flags = {'loss_required' : False, 'ess_required' : False, 'mode_required' : True, 'density_required': False}\n",
    "# trace = apg_objective(models, batch_data, K, result_flags, num_sweeps, Resampler('systematic', 1, CUDA, device))\n",
    "# viz_samples(batch_data.cpu().squeeze(), trace, num_sweeps, K, save_name=None)"
   ]
  },
  {
   "cell_type": "markdown",
   "metadata": {},
   "source": [
    "### Computing log joint across all methods"
   ]
  },
  {
   "cell_type": "code",
   "execution_count": null,
   "metadata": {},
   "outputs": [],
   "source": [
    "from apgs.dmm.evaluation import density_all_instances\n",
    "sample_size, num_sweeps = 1000, 20\n",
    "lf_step_size, lf_num_steps, bpg_factor = 1e-4, [1, 5, 10], 100\n",
    "density_all_instances(models, data, sample_size, K, num_sweeps, lf_step_size, lf_num_steps, bpg_factor, CUDA, device)"
   ]
  },
  {
   "cell_type": "code",
   "execution_count": null,
   "metadata": {},
   "outputs": [],
   "source": []
  }
 ],
 "metadata": {
  "kernelspec": {
   "display_name": "Python 3",
   "language": "python",
   "name": "python3"
  },
  "language_info": {
   "codemirror_mode": {
    "name": "ipython",
    "version": 3
   },
   "file_extension": ".py",
   "mimetype": "text/x-python",
   "name": "python",
   "nbconvert_exporter": "python",
   "pygments_lexer": "ipython3",
   "version": "3.7.3"
  }
 },
 "nbformat": 4,
 "nbformat_minor": 4
}
