{
 "cells": [
  {
   "cell_type": "code",
   "execution_count": 1,
   "metadata": {},
   "outputs": [
    {
     "name": "stdout",
     "output_type": "stream",
     "text": [
      "probtorch: 0.0+5a2c637 torch: 1.3.0\n"
     ]
    }
   ],
   "source": [
    "%matplotlib inline\n",
    "%run ../../import_envs.py\n",
    "\n",
    "K = 5 # number of digits\n",
    "T = 100 # timesteps\n",
    "## Model Parameters\n",
    "FRAME_PIXELS = 96\n",
    "DIGIT_PIXELS = 28\n",
    "NUM_HIDDEN_DIGIT = 200\n",
    "NUM_HIDDEN_COOR = 200\n",
    "Z_WHERE_DIM = 2 # z_where dims\n",
    "Z_WHAT_DIM = 10\n",
    "\n",
    "MODEL_NAME = 'apg'\n",
    "RESAMPLING_STRATEGY = 'systematic'\n",
    "LOAD_VERSION = 'bmnist-3digits-apg-systematic-4sweeps-20samples-0.00020lr'\n",
    "MNIST_MEAN_PATH = '../mnist_mean.npy'\n",
    "\n",
    "CUDA = torch.cuda.is_available()\n",
    "DEVICE = torch.device('cuda:0')"
   ]
  },
  {
   "cell_type": "code",
   "execution_count": 2,
   "metadata": {},
   "outputs": [
    {
     "name": "stdout",
     "output_type": "stream",
     "text": [
      "===Loading testing data from /data/hao/apg_data/bmnist/test/===\n",
      "===1 groups of data files are loaded.===\n"
     ]
    }
   ],
   "source": [
    "# train data path\n",
    "DATA_PATHS = []\n",
    "TEST_DATA_DIR = '/data/hao/apg_data/bmnist/test/'\n",
    "print('===Loading testing data from %s===' % TEST_DATA_DIR)\n",
    "# for file in os.listdir(TEST_DATA_DIR):\n",
    "#     DATA_PATHS.append(os.path.join(TEST_DATA_DIR, file))\n",
    "    \n",
    "DATA_PATHS.append(os.path.join(TEST_DATA_DIR, 'ob-1.npy'))\n",
    "print('===%d groups of data files are loaded.===' % len(DATA_PATHS))"
   ]
  },
  {
   "cell_type": "code",
   "execution_count": 3,
   "metadata": {},
   "outputs": [],
   "source": [
    "from apg_modeling import init_model\n",
    "from affine_transformer import Affine_Transformer\n",
    "\n",
    "model = init_model(frame_pixels=FRAME_PIXELS,\n",
    "                               digit_pixels=DIGIT_PIXELS, \n",
    "                               num_hidden_digit=NUM_HIDDEN_DIGIT, \n",
    "                               num_hidden_coor=NUM_HIDDEN_COOR, \n",
    "                               z_where_dim=Z_WHERE_DIM, \n",
    "                               z_what_dim=Z_WHAT_DIM, \n",
    "                               CUDA=CUDA, \n",
    "                               DEVICE=DEVICE, \n",
    "                               LOAD_VERSION=LOAD_VERSION, \n",
    "                               LR=None)\n",
    "AT = Affine_Transformer(frame_pixels=FRAME_PIXELS, \n",
    "                        digit_pixels=DIGIT_PIXELS, \n",
    "                        CUDA=CUDA, \n",
    "                        DEVICE=DEVICE)"
   ]
  },
  {
   "cell_type": "code",
   "execution_count": null,
   "metadata": {},
   "outputs": [
    {
     "name": "stderr",
     "output_type": "stream",
     "text": [
      "/home/hao/anaconda3/lib/python3.7/site-packages/torch/nn/functional.py:2751: UserWarning: Default grid_sample and affine_grid behavior will be changed to align_corners=False from 1.4.0. See the documentation of grid_sample for details.\n",
      "  warnings.warn(\"Default grid_sample and affine_grid behavior will be changed \"\n",
      "/home/hao/anaconda3/lib/python3.7/site-packages/torch/nn/functional.py:2693: UserWarning: Default grid_sample and affine_grid behavior will be changed to align_corners=False from 1.4.0. See the documentation of grid_sample for details.\n",
      "  warnings.warn(\"Default grid_sample and affine_grid behavior will be changed \"\n"
     ]
    },
    {
     "name": "stdout",
     "output_type": "stream",
     "text": [
      "Running HMC updates..\n",
      "1 / 250 in group 0 completed (785s)\n",
      "Running HMC updates..\n"
     ]
    }
   ],
   "source": [
    "## visualize samples\n",
    "%run ../hybrid_testing.py\n",
    "APG_SWEEPS_TEST = 20\n",
    "SAMPLE_SIZE_TEST = 10\n",
    "BATCH_SIZE_TEST = 4\n",
    "# DATA_PTR = 11\n",
    "FLAGs = {'hmc' : True, 'apg' : False, 'bps' : False}\n",
    "\n",
    "metrics = test_hybrid_all(model=model, \n",
    "                            flags=FLAGs,\n",
    "                            AT=AT,\n",
    "                            apg_sweeps=APG_SWEEPS_TEST, \n",
    "                            data_paths=DATA_PATHS, \n",
    "                            mnist_mean_path=MNIST_MEAN_PATH,\n",
    "                            T=T,\n",
    "                            K=K,\n",
    "                            D=Z_WHERE_DIM,\n",
    "                            z_what_dim=Z_WHAT_DIM,\n",
    "                            batch_size=BATCH_SIZE_TEST,\n",
    "                            sample_size=SAMPLE_SIZE_TEST, \n",
    "                            hmc_num_steps=APG_SWEEPS_TEST,\n",
    "                            leapfrog_step_size=1e-4,\n",
    "                            leapfrog_num_steps=20,\n",
    "                            filename='test',\n",
    "                            CUDA=CUDA, \n",
    "                            DEVICE=DEVICE)\n",
    "\n",
    "# frames = sample_data_uniform(DATA_PATHS=DATA_PATHS, \n",
    "#                             data_ptr=DATA_PTR)"
   ]
  },
  {
   "cell_type": "code",
   "execution_count": null,
   "metadata": {},
   "outputs": [],
   "source": [
    "# test_hybrid(model=model, \n",
    "#             flags=FLAGs,\n",
    "#             AT=AT,\n",
    "#             apg_sweeps=APG_SWEEPS_TEST, \n",
    "#             frames=frames, \n",
    "#             mnist_mean_path=MNIST_MEAN_PATH,\n",
    "#             K=K,\n",
    "#             D=Z_WHERE_DIM,\n",
    "#             z_what_dim=Z_WHAT_DIM,\n",
    "#             sample_size=SAMPLE_SIZE_TEST, \n",
    "#             hmc_num_steps=APG_SWEEPS_TEST,\n",
    "#             leapfrog_step_size=1e-3,\n",
    "#             leapfrog_num_steps=5,\n",
    "#             filename='test',\n",
    "#             CUDA=CUDA, \n",
    "#             DEVICE=DEVICE)"
   ]
  },
  {
   "cell_type": "code",
   "execution_count": null,
   "metadata": {},
   "outputs": [],
   "source": [
    "import matplotlib.pyplot as plt\n",
    "filename = 'test'\n",
    "def plot_density(flags, fs, fs_title, lw):\n",
    "    fig = plt.figure(figsize=(fs*3,fs)) \n",
    "    ax = fig.add_subplot(111)\n",
    "    COLORS = ['#EE7733', '#009988', '#AA3377', '#0077BB', '#555555', '#999933']\n",
    "    lw = lw\n",
    "    fs_title= fs_title\n",
    "    if flags['apg']:\n",
    "        log_joint_apg = np.load('log_joint_apg_%s.npy' % filename)\n",
    "        apg_mean = log_joint_apg.mean(1)\n",
    "        apg_std = log_joint_apg.std(1)\n",
    "        ax.plot(apg_mean, c=COLORS[0], label='APG')\n",
    "\n",
    "    if flags['hmc']:\n",
    "        log_joint_hmc = np.load('log_joint_hmc_%s.npy' % filename)\n",
    "        hmc_mean = log_joint_hmc.mean(1)\n",
    "        hmc_std = log_joint_hmc.std(1)\n",
    "        ax.plot(hmc_mean, c=COLORS[1], label='HMC')\n",
    "\n",
    "    if flags['bps']:\n",
    "        log_joint_gibbs = np.load('log_joint_bps_%s.npy' % filename)\n",
    "        gibbs_mean = log_joint_gibbs.mean(1)\n",
    "        gibbs_std = log_joint_gibbs.std(1)\n",
    "        ax.plot(gibbs_mean, c=COLORS[3], label='BPS')  \n",
    "    ax.legend()\n",
    "plot_density(flags=FLAGs, fs=8, fs_title=14, lw=2)"
   ]
  },
  {
   "cell_type": "code",
   "execution_count": null,
   "metadata": {},
   "outputs": [],
   "source": [
    "filename = 'test'\n",
    "log_joint_hmc = np.load('log_joint_hmc_%s.npy' % filename)\n",
    "hmc_mean = log_joint_hmc.mean(1)\n",
    "\n",
    "hmc_mean"
   ]
  },
  {
   "cell_type": "code",
   "execution_count": null,
   "metadata": {},
   "outputs": [],
   "source": []
  }
 ],
 "metadata": {
  "kernelspec": {
   "display_name": "Python 3",
   "language": "python",
   "name": "python3"
  },
  "language_info": {
   "codemirror_mode": {
    "name": "ipython",
    "version": 3
   },
   "file_extension": ".py",
   "mimetype": "text/x-python",
   "name": "python",
   "nbconvert_exporter": "python",
   "pygments_lexer": "ipython3",
   "version": "3.7.3"
  }
 },
 "nbformat": 4,
 "nbformat_minor": 4
}
