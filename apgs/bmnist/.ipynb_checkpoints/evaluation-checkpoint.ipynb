{
 "cells": [
  {
   "cell_type": "markdown",
   "metadata": {},
   "source": [
    "### Load Test Data and Trained APG Sampler"
   ]
  },
  {
   "cell_type": "code",
   "execution_count": null,
   "metadata": {},
   "outputs": [],
   "source": [
    "%matplotlib inline\n",
    "import os\n",
    "import torch\n",
    "import numpy as np\n",
    "from apgs.bmnist.apg_training import init_models\n",
    "from apgs.bmnist.affine_transformer import Affine_Transformer\n",
    "\n",
    "CUDA = torch.cuda.is_available()\n",
    "device = torch.device('cuda:1')\n",
    "data_dir = '../../data/bmnist/'\n",
    "timesteps, num_digits, frame_pixels, mnist_pixels, num_hidden_digit, num_hidden_coor, z_where_dim, z_what_dim = 10, 3, 96, 28, 400, 400, 2, 10\n",
    "data_paths = []\n",
    "for file in os.listdir(data_dir + 'train/'):\n",
    "    data_paths.append(os.path.join(data_dir, 'train', file))\n",
    "model_version = 'apg-bmnist-num_sweeps=6-num_samples=16'\n",
    "models = init_models(frame_pixels, mnist_pixels, num_hidden_digit, num_hidden_coor, z_where_dim, z_what_dim, CUDA, device, model_version, lr=None)\n",
    "AT = Affine_Transformer(frame_pixels, mnist_pixels, CUDA, device)  "
   ]
  },
  {
   "cell_type": "markdown",
   "metadata": {},
   "source": [
    "### Visualize Samples"
   ]
  },
  {
   "cell_type": "code",
   "execution_count": null,
   "metadata": {},
   "outputs": [],
   "source": [
    "from apgs.resampler import Resampler\n",
    "from apgs.bmnist.objectives import apg_objective\n",
    "from apgs.bmnist.evaluation import viz_samples\n",
    "from random import shuffle\n",
    "batch_size, num_sweeps = 5, 10\n",
    "shuffle(data_paths)\n",
    "data = torch.from_numpy(np.load(data_paths[0])).float()[:batch_size].unsqueeze(0)\n",
    "mnist_mean = torch.from_numpy(np.load('mnist_mean.npy')).float()\n",
    "mnist_mean = mnist_mean.repeat(batch_size, num_digits, 1, 1).unsqueeze(0)\n",
    "if CUDA:\n",
    "    data = data.cuda().to(device)\n",
    "    mnist_mean = mnist_mean.cuda().to(device)\n",
    "result_flags = {'loss_required' : False, 'ess_required' : False, 'mode_required' : True, 'density_required': False}\n",
    "trace = apg_objective(models, AT, data, num_digits, result_flags, num_sweeps, Resampler('systematic', 1, CUDA, device), mnist_mean)\n",
    "viz_samples(data.squeeze(0).cpu(), trace, num_sweeps, num_digits)"
   ]
  },
  {
   "cell_type": "markdown",
   "metadata": {},
   "source": [
    "### Computing log joint across all methods"
   ]
  },
  {
   "cell_type": "code",
   "execution_count": null,
   "metadata": {},
   "outputs": [],
   "source": [
    "from apgs.bmnist.evaluation import density_all_instances\n",
    "from random import shuffle\n",
    "sample_size, num_sweeps = 1000, 10\n",
    "lf_step_size, lf_num_steps, bpg_factor = 1e-4, [1, 5, 10], 100\n",
    "density_all_instances(models, AT, data_paths, sample_size, num_digits, z_where_dim, z_what_dim, num_sweeps, lf_step_size, lf_num_steps, bpg_factor, CUDA, device)"
   ]
  },
  {
   "cell_type": "code",
   "execution_count": null,
   "metadata": {},
   "outputs": [],
   "source": []
  }
 ],
 "metadata": {
  "kernelspec": {
   "display_name": "Python 3",
   "language": "python",
   "name": "python3"
  },
  "language_info": {
   "codemirror_mode": {
    "name": "ipython",
    "version": 3
   },
   "file_extension": ".py",
   "mimetype": "text/x-python",
   "name": "python",
   "nbconvert_exporter": "python",
   "pygments_lexer": "ipython3",
   "version": "3.7.3"
  }
 },
 "nbformat": 4,
 "nbformat_minor": 4
}
