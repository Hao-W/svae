{
 "cells": [
  {
   "cell_type": "code",
   "execution_count": 4,
   "metadata": {},
   "outputs": [
    {
     "name": "stdout",
     "output_type": "stream",
     "text": [
      "probtorch: 0.0+5a2c637 torch: 1.3.0\n"
     ]
    }
   ],
   "source": [
    "%matplotlib inline\n",
    "%run ../../import_envs.py\n",
    "%run ../hmc_hyperparams.py\n",
    "\n",
    "CUDA = torch.cuda.is_available()\n",
    "DEVICE = torch.device('cuda:1')"
   ]
  },
  {
   "cell_type": "code",
   "execution_count": 2,
   "metadata": {},
   "outputs": [],
   "source": [
    "# load test data\n",
    "# test_sets = ['pts_20', 'pts_40', 'pts_60', 'pts_80', 'pts_100']\n",
    "test_sets = ['pts_100']\n",
    "\n",
    "DATAs = []\n",
    "for s in test_sets:\n",
    "    data = torch.from_numpy(np.load(DATA_DIR + 'gmm/test/' + s + '/' + 'ob.npy')).float() ## load testing datasets\n",
    "    DATAs.append(data)\n",
    "## load the weights\n",
    "# from apg_modeling_neural import init_model\n",
    "from baseline_modeling import init_model\n",
    "\n",
    "model = init_model(architecture='mlp',\n",
    "                      model_params=model_params, \n",
    "                      CUDA=CUDA, \n",
    "                      DEVICE=DEVICE, \n",
    "                      LOAD_VERSION='apg-new-systematic-9sweeps-5samples',\n",
    "                      LR=None)"
   ]
  },
  {
   "cell_type": "code",
   "execution_count": 5,
   "metadata": {},
   "outputs": [
    {
     "data": {
      "text/plain": [
       "[<matplotlib.lines.Line2D at 0x7fb4eeb516d8>]"
      ]
     },
     "execution_count": 5,
     "metadata": {},
     "output_type": "execute_result"
    },
    {
     "data": {
      "image/png": "[encoded data removed]",
      "text/plain": [
       "<Figure size 432x288 with 1 Axes>"
      ]
     },
     "metadata": {
      "needs_background": "light"
     },
     "output_type": "display_data"
    }
   ],
   "source": [
    "import numpy as np\n",
    "test = np.load('log_joint_hmc_hmc1x_0.npy').mean(1)\n",
    "import matplotlib.pyplot as plt\n",
    "plt.plot(test)"
   ]
  },
  {
   "cell_type": "markdown",
   "metadata": {},
   "source": [
    "#### HMC updates after one-shot "
   ]
  },
  {
   "cell_type": "code",
   "execution_count": 10,
   "metadata": {},
   "outputs": [
    {
     "name": "stdout",
     "output_type": "stream",
     "text": [
      "hmc-step=1\n",
      "hmc-step=2\n",
      "hmc-step=3\n",
      "hmc-step=4\n",
      "hmc-step=5\n",
      "hmc-step=6\n",
      "hmc-step=7\n",
      "hmc-step=8\n",
      "hmc-step=9\n",
      "hmc-step=10\n",
      "hmc-step=11\n",
      "hmc-step=12\n"
     ]
    }
   ],
   "source": [
    "## visualize samples\n",
    "%run ../hmc_testing.py\n",
    "from viz import viz_samples\n",
    "\n",
    "APG_SWEEPS_TEST = 0\n",
    "DATA_PTR = 4\n",
    "SAVE_NAME = 'samples-%d' % DATA_PTR\n",
    "\n",
    "datas = sample_data_uniform(DATAs=DATAs, \n",
    "                            data_ptr=DATA_PTR)\n",
    "\n",
    "\n",
    "SAMPLE_SIZE_TEST = 1000\n",
    "\n",
    "metrics = test_single_hmc(model=model, \n",
    "                          datas=datas, \n",
    "                          sample_size=SAMPLE_SIZE_TEST, \n",
    "                          hmc_num_steps=12, \n",
    "                          leapfrog_step_size=1e-3, \n",
    "                          leapfrog_num_steps=100,\n",
    "                          CUDA=CUDA, \n",
    "                          DEVICE=DEVICE)\n",
    "\n",
    "\n",
    "# viz_samples(datas=datas,\n",
    "#             metrics=metrics,\n",
    "#             apg_sweeps=APG_SWEEPS_TEST,\n",
    "#             K=K, \n",
    "#             viz_interval=1, \n",
    "#             figure_size=5, \n",
    "#             title_fontsize=20, \n",
    "#             marker_size=5.0, \n",
    "#             opacity=0.3, \n",
    "#             bound=15, \n",
    "#             colors=['#AA3377', '#EE7733', '#009988', '#0077BB', '#BBBBBB', '#EE3377', '#DDCC77'],\n",
    "#             save_name=None)"
   ]
  },
  {
   "cell_type": "code",
   "execution_count": 12,
   "metadata": {},
   "outputs": [],
   "source": [
    "log_joint = metrics[0]['density'].cpu()\n",
    "# np.save('log_joint_hmc', log_joint.squeeze(-1).data.numpy())"
   ]
  },
  {
   "cell_type": "code",
   "execution_count": 13,
   "metadata": {},
   "outputs": [
    {
     "data": {
      "text/plain": [
       "tensor([[-1191.5570],\n",
       "        [ -871.2000],\n",
       "        [ -851.5919],\n",
       "        [ -843.1304],\n",
       "        [ -838.9656],\n",
       "        [ -835.7849],\n",
       "        [ -833.4294],\n",
       "        [ -831.2433],\n",
       "        [ -829.5875],\n",
       "        [ -827.8098],\n",
       "        [ -826.4559],\n",
       "        [ -824.9517],\n",
       "        [ -823.5536]])"
      ]
     },
     "execution_count": 13,
     "metadata": {},
     "output_type": "execute_result"
    }
   ],
   "source": [
    "log_joint.mean(1)"
   ]
  },
  {
   "cell_type": "code",
   "execution_count": null,
   "metadata": {},
   "outputs": [],
   "source": []
  }
 ],
 "metadata": {
  "kernelspec": {
   "display_name": "Python 3",
   "language": "python",
   "name": "python3"
  },
  "language_info": {
   "codemirror_mode": {
    "name": "ipython",
    "version": 3
   },
   "file_extension": ".py",
   "mimetype": "text/x-python",
   "name": "python",
   "nbconvert_exporter": "python",
   "pygments_lexer": "ipython3",
   "version": "3.7.3"
  }
 },
 "nbformat": 4,
 "nbformat_minor": 4
}
