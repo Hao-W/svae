{
 "cells": [
  {
   "cell_type": "markdown",
   "metadata": {},
   "source": [
    "### Load Test Data and Trained APG Sampler"
   ]
  },
  {
   "cell_type": "code",
   "execution_count": 1,
   "metadata": {},
   "outputs": [],
   "source": [
    "%matplotlib inline\n",
    "import torch\n",
    "import numpy as np\n",
    "from apgs.gmm.apg_training import init_apg_models, init_rws_models\n",
    "\n",
    "CUDA = torch.cuda.is_available()\n",
    "device = torch.device('cuda:1')\n",
    "data_dir = '../../../data/gmm/'\n",
    "K, D, num_hidden = 3, 2, 32\n",
    "\n",
    "data = torch.from_numpy(np.load(data_dir + 'ob_test.npy')).float() \n",
    "model_version = 'apg-gmm-block=decomposed-num_sweeps=5-num_samples=20'\n",
    "models = init_apg_models(K, D, num_hidden, CUDA, device, model_version, lr=None)"
   ]
  },
  {
   "cell_type": "markdown",
   "metadata": {},
   "source": [
    "### Visualize Samples"
   ]
  },
  {
   "cell_type": "code",
   "execution_count": null,
   "metadata": {},
   "outputs": [],
   "source": [
    "from apgs.resampler import Resampler\n",
    "from apgs.gmm.objectives import apg_objective\n",
    "from apgs.gmm.evaluation import viz_samples\n",
    "\n",
    "batch_size, num_sweeps = 5, 13\n",
    "batch_data = data[torch.randperm(data.shape[0])[:batch_size]].unsqueeze(0)\n",
    "if CUDA:\n",
    "    batch_data = batch_data.cuda().to(device)\n",
    "result_flags = {'loss_required' : False, 'ess_required' : False, 'mode_required' : True, 'density_required': False}\n",
    "trace = apg_objective(models, batch_data, result_flags, num_sweeps, 'decomposed', Resampler('systematic', 1, CUDA, device))\n",
    "viz_samples(batch_data.cpu().squeeze(), trace, num_sweeps, K, save_name=None)"
   ]
  },
  {
   "cell_type": "markdown",
   "metadata": {},
   "source": [
    "### Computational Budget Analysis"
   ]
  },
  {
   "cell_type": "code",
   "execution_count": null,
   "metadata": {},
   "outputs": [],
   "source": [
    "from apgs.gmm.evaluation import budget_analysis, plot_budget_analyais_results\n",
    "budget = 1000\n",
    "num_sweeps = np.array([1, 5, 10 , 20, 25])\n",
    "sample_sizes = 1000 / num_sweeps\n",
    "blocks = ['decomposed', 'joint']\n",
    "df = budget_analysis(models, blocks, num_sweeps, sample_sizes, data, K, CUDA, device)\n",
    "plot_budget_analyais_results(df)"
   ]
  },
  {
   "cell_type": "markdown",
   "metadata": {},
   "source": [
    "### Comparison with Baselines"
   ]
  },
  {
   "cell_type": "code",
   "execution_count": null,
   "metadata": {},
   "outputs": [],
   "source": [
    "from apgs.gmm.evaluation import density_convergence, plot_convergence\n",
    "seed = 1\n",
    "sample_size, num_sweeps, num_runs = 100, 30, 10\n",
    "lp_step_size, lp_num_steps, bpg_factor = 1e-1, [1, 5, 10], 100\n",
    "x = data[torch.randperm(data.shape[0])[0]].repeat(sample_size, 1, 1, 1)\n",
    "if CUDA:\n",
    "    x = x.cuda().to(device)\n",
    "densities = density_convergence(models, x, K, num_runs, num_sweeps, lp_step_size, lp_num_steps, bpg_factor, CUDA, device)\n",
    "plot_convergence(densities)"
   ]
  }
 ],
 "metadata": {
  "kernelspec": {
   "display_name": "Python 3",
   "language": "python",
   "name": "python3"
  },
  "language_info": {
   "codemirror_mode": {
    "name": "ipython",
    "version": 3
   },
   "file_extension": ".py",
   "mimetype": "text/x-python",
   "name": "python",
   "nbconvert_exporter": "python",
   "pygments_lexer": "ipython3",
   "version": "3.7.3"
  }
 },
 "nbformat": 4,
 "nbformat_minor": 4
}
