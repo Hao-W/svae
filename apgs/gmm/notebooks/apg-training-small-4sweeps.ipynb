{
 "cells": [
  {
   "cell_type": "code",
   "execution_count": 1,
   "metadata": {},
   "outputs": [
    {
     "name": "stdout",
     "output_type": "stream",
     "text": [
      "probtorch: 0.0+5a2c637 torch: 1.3.0\n"
     ]
    }
   ],
   "source": [
    "%run ../../import_envs.py\n",
    "%run ../apg_hyperparams.py\n",
    "\n",
    "CUDA = torch.cuda.is_available()\n",
    "DEVICE = torch.device('cuda:1')"
   ]
  },
  {
   "cell_type": "code",
   "execution_count": 2,
   "metadata": {},
   "outputs": [],
   "source": [
    "DATA = torch.from_numpy(np.load(DATA_DIR + 'gmm/train/' + 'ob.npy')).float() ## load training datasets\n",
    "ASSIGNMENT = torch.from_numpy(np.load(DATA_DIR + 'gmm/train/' + 'assignment.npy')).float()"
   ]
  },
  {
   "cell_type": "code",
   "execution_count": 3,
   "metadata": {},
   "outputs": [
    {
     "name": "stderr",
     "output_type": "stream",
     "text": [
      "ERROR:root:Internal Python error in the inspect module.\n",
      "Below is the traceback from this internal error.\n",
      "\n"
     ]
    },
    {
     "name": "stdout",
     "output_type": "stream",
     "text": [
      "Traceback (most recent call last):\n",
      "  File \"/home/hao/anaconda3/lib/python3.7/site-packages/IPython/core/interactiveshell.py\", line 3325, in run_code\n",
      "    exec(code_obj, self.user_global_ns, self.user_ns)\n",
      "  File \"<ipython-input-3-192769b641f8>\", line 20, in <module>\n",
      "    DEVICE=DEVICE)\n",
      "  File \"../../resample.py\", line 40, in __init__\n",
      "    self.uniformer = Uniform(low=torch.Tensor([0.0]).cuda().to(DEVICE), high=torch.Tensor([1.0]).cuda().to(DEVICE))\n",
      "KeyboardInterrupt\n",
      "\n",
      "During handling of the above exception, another exception occurred:\n",
      "\n",
      "Traceback (most recent call last):\n",
      "  File \"/home/hao/anaconda3/lib/python3.7/site-packages/IPython/core/interactiveshell.py\", line 2039, in showtraceback\n",
      "    stb = value._render_traceback_()\n",
      "AttributeError: 'KeyboardInterrupt' object has no attribute '_render_traceback_'\n",
      "\n",
      "During handling of the above exception, another exception occurred:\n",
      "\n",
      "Traceback (most recent call last):\n",
      "  File \"/home/hao/anaconda3/lib/python3.7/site-packages/IPython/core/ultratb.py\", line 1101, in get_records\n",
      "    return _fixed_getinnerframes(etb, number_of_lines_of_context, tb_offset)\n",
      "  File \"/home/hao/anaconda3/lib/python3.7/site-packages/IPython/core/ultratb.py\", line 319, in wrapped\n",
      "    return f(*args, **kwargs)\n",
      "  File \"/home/hao/anaconda3/lib/python3.7/site-packages/IPython/core/ultratb.py\", line 353, in _fixed_getinnerframes\n",
      "    records = fix_frame_records_filenames(inspect.getinnerframes(etb, context))\n",
      "  File \"/home/hao/anaconda3/lib/python3.7/inspect.py\", line 1502, in getinnerframes\n",
      "    frameinfo = (tb.tb_frame,) + getframeinfo(tb, context)\n",
      "  File \"/home/hao/anaconda3/lib/python3.7/inspect.py\", line 1460, in getframeinfo\n",
      "    filename = getsourcefile(frame) or getfile(frame)\n",
      "  File \"/home/hao/anaconda3/lib/python3.7/inspect.py\", line 696, in getsourcefile\n",
      "    if getattr(getmodule(object, filename), '__loader__', None) is not None:\n",
      "  File \"/home/hao/anaconda3/lib/python3.7/inspect.py\", line 742, in getmodule\n",
      "    os.path.realpath(f)] = module.__name__\n",
      "AttributeError: module has no attribute '__name__'\n"
     ]
    },
    {
     "ename": "KeyboardInterrupt",
     "evalue": "",
     "output_type": "error",
     "traceback": [
      "\u001b[0;31m---------------------------------------------------------------------------\u001b[0m"
     ]
    }
   ],
   "source": [
    "from apg_modeling import init_model\n",
    "from resample import Resampler\n",
    "\n",
    "%run ../apg_training.py\n",
    "\n",
    "budget = 50\n",
    "sweeps = [5]\n",
    "epochs = [140]\n",
    "for i in range(3):\n",
    "    sample_size = int(budget / sweeps[i])\n",
    "    model, optimizer = init_model(model_params=model_params, \n",
    "                                  CUDA=CUDA, \n",
    "                                  DEVICE=DEVICE, \n",
    "                                  LOAD_VERSION=None, ## set to None if do not restore\n",
    "                                  LR=LR)\n",
    "\n",
    "    resampler = Resampler(strategy=RESAMPLING_STRATEGY,\n",
    "                          sample_size=sample_size,\n",
    "                          CUDA=CUDA, \n",
    "                          DEVICE=DEVICE)\n",
    "    MODEL_VERSION = 'apg-smallB-%s-%dsweeps-%dsamples' % (RESAMPLING_STRATEGY, sweeps[i]-1, sample_size)\n",
    "\n",
    "    print('apg sweeps:%s, epochs:%s, sample size:%s' % (sweeps[i]-1, epochs[i], sample_size))\n",
    "    train(optimizer=optimizer, \n",
    "          model=model, \n",
    "          resampler=resampler,\n",
    "          apg_sweeps=sweeps[i] - 1, \n",
    "          data=DATA, \n",
    "          true_z=ASSIGNMENT,\n",
    "          num_epochs=epochs[i], \n",
    "          sample_size=sample_size, \n",
    "          batch_size=BATCH_SIZE, \n",
    "          CUDA=CUDA, \n",
    "          DEVICE=DEVICE, \n",
    "          MODEL_VERSION=MODEL_VERSION)"
   ]
  },
  {
   "cell_type": "code",
   "execution_count": null,
   "metadata": {},
   "outputs": [],
   "source": []
  },
  {
   "cell_type": "code",
   "execution_count": null,
   "metadata": {},
   "outputs": [],
   "source": []
  }
 ],
 "metadata": {
  "kernelspec": {
   "display_name": "Python 3",
   "language": "python",
   "name": "python3"
  },
  "language_info": {
   "codemirror_mode": {
    "name": "ipython",
    "version": 3
   },
   "file_extension": ".py",
   "mimetype": "text/x-python",
   "name": "python",
   "nbconvert_exporter": "python",
   "pygments_lexer": "ipython3",
   "version": "3.7.3"
  }
 },
 "nbformat": 4,
 "nbformat_minor": 4
}
