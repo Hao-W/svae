{
 "cells": [
  {
   "cell_type": "code",
   "execution_count": 1,
   "metadata": {},
   "outputs": [],
   "source": [
    "import torch\n",
    "from torch.distributions.multivariate_normal import MultivariateNormal\n",
    "from torch.distributions.multinomial import Multinomial\n",
    "import matplotlib.pyplot as plt\n",
    "from matplotlib.patches import Ellipse\n",
    "import sys\n",
    "sys.path.append('/home/hao/Research/probtorch/')\n",
    "import probtorch\n",
    "from probtorch.util import log_sum_exp\n",
    "from util_hmm_pytorch import *\n",
    "from util_data import *\n",
    "import numpy as np\n",
    "\n",
    "# output_notebook()"
   ]
  },
  {
   "cell_type": "code",
   "execution_count": 2,
   "metadata": {},
   "outputs": [],
   "source": [
    "# K = 3\n",
    "# N = 500\n",
    "# D = 2\n",
    "# Y = sampling()\n",
    "# plot_samples(Y)\n",
    "# Y = torch.from_numpy(Y)\n",
    "\n",
    "T = 500\n",
    "dt = 1\n",
    "Boundary = 6 ## unit box is amplified by this value, centered at origin\n",
    "signal_noise_ratio = 0.2 # the noise is multiplied by this param\n",
    "\n",
    "init_state = np.random.random(4) * 8\n",
    "# init_state = np.array([0,0,0.2,-0.1])\n",
    "Y, A_true, STATE = generate_data(T, dt, init_state, Boundary, signal_noise_ratio)\n",
    "Y = torch.from_numpy(Y)\n",
    "N, D = Y.shape"
   ]
  },
  {
   "cell_type": "code",
   "execution_count": 22,
   "metadata": {},
   "outputs": [
    {
     "data": {
      "text/plain": [
       "<matplotlib.colorbar.Colorbar at 0x7fbc4c4ca860>"
      ]
     },
     "execution_count": 22,
     "metadata": {},
     "output_type": "execute_result"
    },
    {
     "data": {
      "image/png": "[encoded data removed]",
      "text/plain": [
       "<Figure size 432x288 with 2 Axes>"
      ]
     },
     "metadata": {},
     "output_type": "display_data"
    }
   ],
   "source": [
    "\n",
    "## prior\n",
    "alpha_init_0 = torch.ones(K).double()\n",
    "# L = torch.ones((K, K))  / (2 *(K-1))\n",
    "# alpha_trans_0 = torch.cat((torch.cat((torch.eye(4)*0.5, torch.ones((4, K-4)) * (0.5 / (K-4))), 1),\\\n",
    "# torch.ones((K-4, K)) * (1.0 / K)), 0).double()\n",
    "alpha_trans_0 = torch.ones((K, K)).double()\n",
    "m_0 = Y.mean(0)\n",
    "beta_0 = 1.0\n",
    "nu_0 = 3.1\n",
    "W_0 =  (nu_0-D-1) * torch.mm((Y - m_0).transpose(0,1), (Y - m_0)) / (N)\n",
    "cov = torch.from_numpy(np.cov(Y.transpose(0,1)))\n",
    "## plot transition prior\n",
    "a = alpha_trans_0.data.numpy()\n",
    "plt.imshow(a)\n",
    "plt.colorbar()"
   ]
  },
  {
   "cell_type": "code",
   "execution_count": 23,
   "metadata": {},
   "outputs": [],
   "source": [
    "alpha_init_hat = alpha_init_0\n",
    "alpha_trans_hat = alpha_trans_0\n",
    "m_ks = MultivariateNormal(m_0, cov).sample((K,))\n",
    "beta_ks = (torch.ones(K) * beta_0).double()\n",
    "nu_ks = (torch.ones(K) * nu_0).double()\n",
    "W_ks = W_0.repeat(K, 1, 1)\n",
    "# cov_ks = np.tile(cov,(K,1,1)) "
   ]
  },
  {
   "cell_type": "code",
   "execution_count": 24,
   "metadata": {},
   "outputs": [],
   "source": [
    "iterations = 100"
   ]
  },
  {
   "cell_type": "code",
   "execution_count": 25,
   "metadata": {},
   "outputs": [
    {
     "name": "stdout",
     "output_type": "stream",
     "text": [
      "Iteration:1, ELBO:-2139.333722\n",
      "Iteration:2, ELBO:-1985.792123\n",
      "Iteration:3, ELBO:-1956.506297\n",
      "Iteration:4, ELBO:-1949.788361\n",
      "Iteration:5, ELBO:-1946.156963\n",
      "Iteration:6, ELBO:-1942.265621\n",
      "Iteration:7, ELBO:-1940.514775\n",
      "Iteration:8, ELBO:-1940.315549\n",
      "Iteration:9, ELBO:-1940.325143\n",
      "Iteration:10, ELBO:-1940.387734\n",
      "Iteration:11, ELBO:-1940.459218\n",
      "Iteration:12, ELBO:-1940.524180\n",
      "Iteration:13, ELBO:-1940.577969\n",
      "Iteration:14, ELBO:-1940.620264\n",
      "Iteration:15, ELBO:-1940.652436\n",
      "Iteration:16, ELBO:-1940.676361\n",
      "Iteration:17, ELBO:-1940.693870\n",
      "Iteration:18, ELBO:-1940.706542\n",
      "Iteration:19, ELBO:-1940.715639\n",
      "Iteration:20, ELBO:-1940.722134\n",
      "Iteration:21, ELBO:-1940.726753\n",
      "Iteration:22, ELBO:-1940.730028\n",
      "Iteration:23, ELBO:-1940.732345\n",
      "Iteration:24, ELBO:-1940.733983\n",
      "Iteration:25, ELBO:-1940.735140\n",
      "Iteration:26, ELBO:-1940.735955\n",
      "Iteration:27, ELBO:-1940.736531\n",
      "Iteration:28, ELBO:-1940.736936\n",
      "Iteration:29, ELBO:-1940.737222\n",
      "Iteration:30, ELBO:-1940.737424\n",
      "Iteration:31, ELBO:-1940.737566\n",
      "Iteration:32, ELBO:-1940.737666\n",
      "Iteration:33, ELBO:-1940.737736\n",
      "Iteration:34, ELBO:-1940.737786\n",
      "Iteration:35, ELBO:-1940.737821\n",
      "Iteration:36, ELBO:-1940.737846\n",
      "Iteration:37, ELBO:-1940.737863\n",
      "Iteration:38, ELBO:-1940.737875\n",
      "Iteration:39, ELBO:-1940.737884\n",
      "Iteration:40, ELBO:-1940.737890\n",
      "Iteration:41, ELBO:-1940.737894\n",
      "Iteration:42, ELBO:-1940.737897\n",
      "Iteration:43, ELBO:-1940.737899\n",
      "Iteration:44, ELBO:-1940.737901\n",
      "Iteration:45, ELBO:-1940.737902\n",
      "Iteration:46, ELBO:-1940.737902\n",
      "Iteration:47, ELBO:-1940.737903\n",
      "Iteration:48, ELBO:-1940.737903\n",
      "Iteration:49, ELBO:-1940.737904\n",
      "Iteration:50, ELBO:-1940.737904\n",
      "Iteration:51, ELBO:-1940.737904\n",
      "Iteration:52, ELBO:-1940.737904\n",
      "Iteration:53, ELBO:-1940.737904\n",
      "Iteration:54, ELBO:-1940.737904\n",
      "Iteration:55, ELBO:-1940.737904\n",
      "Iteration:56, ELBO:-1940.737904\n",
      "Iteration:57, ELBO:-1940.737904\n",
      "Iteration:58, ELBO:-1940.737904\n",
      "Iteration:59, ELBO:-1940.737904\n",
      "Iteration:60, ELBO:-1940.737904\n",
      "Iteration:61, ELBO:-1940.737904\n",
      "Iteration:62, ELBO:-1940.737904\n",
      "Iteration:63, ELBO:-1940.737904\n",
      "Iteration:64, ELBO:-1940.737904\n",
      "Iteration:65, ELBO:-1940.737904\n",
      "Iteration:66, ELBO:-1940.737904\n",
      "Iteration:67, ELBO:-1940.737904\n",
      "Iteration:68, ELBO:-1940.737904\n",
      "Iteration:69, ELBO:-1940.737904\n",
      "Iteration:70, ELBO:-1940.737904\n",
      "Iteration:71, ELBO:-1940.737904\n",
      "Iteration:72, ELBO:-1940.737904\n",
      "Iteration:73, ELBO:-1940.737904\n",
      "Iteration:74, ELBO:-1940.737904\n",
      "Iteration:75, ELBO:-1940.737904\n",
      "Iteration:76, ELBO:-1940.737904\n",
      "Iteration:77, ELBO:-1940.737904\n",
      "Iteration:78, ELBO:-1940.737904\n",
      "Iteration:79, ELBO:-1940.737904\n",
      "Iteration:80, ELBO:-1940.737904\n",
      "Iteration:81, ELBO:-1940.737904\n",
      "Iteration:82, ELBO:-1940.737904\n",
      "Iteration:83, ELBO:-1940.737904\n",
      "Iteration:84, ELBO:-1940.737904\n",
      "Iteration:85, ELBO:-1940.737904\n",
      "Iteration:86, ELBO:-1940.737904\n",
      "Iteration:87, ELBO:-1940.737904\n",
      "Iteration:88, ELBO:-1940.737904\n",
      "Iteration:89, ELBO:-1940.737904\n",
      "Iteration:90, ELBO:-1940.737904\n",
      "Iteration:91, ELBO:-1940.737904\n",
      "Iteration:92, ELBO:-1940.737904\n",
      "Iteration:93, ELBO:-1940.737904\n",
      "Iteration:94, ELBO:-1940.737904\n",
      "Iteration:95, ELBO:-1940.737904\n",
      "Iteration:96, ELBO:-1940.737904\n",
      "Iteration:97, ELBO:-1940.737904\n",
      "Iteration:98, ELBO:-1940.737904\n",
      "Iteration:99, ELBO:-1940.737904\n",
      "Iteration:100, ELBO:-1940.737904\n"
     ]
    }
   ],
   "source": [
    "epoch_elbos = []\n",
    "for i in range(iterations):\n",
    "    ## VBE step\n",
    "    log_gammas, log_eta = vbE_step(alpha_init_hat, alpha_trans_hat, nu_ks, W_ks, m_ks, beta_ks, Y, N, D, K)\n",
    "    N_ks, Y_ks, S_ks = stats(log_gammas, Y, D, K)\n",
    "    ## VBM step\n",
    "    alpha_init_hat, alpha_trans_hat, nu_ks, W_ks, m_ks, beta_ks, cov_ks = vbM_step(log_eta, alpha_init_0, alpha_trans_0, nu_0, W_0, m_0, beta_0, N_ks, Y_ks, S_ks, N, D, K)\n",
    "#     ## elbokl_niw(nu_0, W_0, nu_ks, W_ks, D, K)\n",
    "    epoch_elbo = elbo(log_gammas, log_eta, alpha_init_0, alpha_trans_0, nu_0, W_0, m_0, beta_0, N_ks, Y_ks, S_ks, alpha_init_hat, alpha_trans_hat, nu_ks, W_ks, m_ks, beta_ks, Y, N, D, K)\n",
    "    epoch_elbos.append(epoch_elbo)\n",
    "    print('Iteration:%d, ELBO:%f' % ((i+1), epoch_elbo))\n",
    "# # final_covs = cov_ks ## mean of inverse wishart\n",
    "# # final_mus = m_ks ## mean of gaussian"
   ]
  },
  {
   "cell_type": "code",
   "execution_count": 26,
   "metadata": {},
   "outputs": [
    {
     "data": {
      "text/plain": [
       "<matplotlib.image.AxesImage at 0x7fbc4c4b5c88>"
      ]
     },
     "execution_count": 26,
     "metadata": {},
     "output_type": "execute_result"
    },
    {
     "data": {
      "image/png": "[encoded data removed]",
      "text/plain": [
       "<Figure size 432x288 with 1 Axes>"
      ]
     },
     "metadata": {},
     "output_type": "display_data"
    }
   ],
   "source": [
    "a = output_transition(alpha_trans_hat)\n",
    "# fig=plt.figure(figsize=(8, 8))\n",
    "# fig.add_subplot(1, 2, 1)\n",
    "plt.imshow(a, cmap='viridis', vmin=0, vmax=1.0)\n",
    "# fig.add_subplot(1, 2, 2)\n",
    "# plt.imshow(A_true, cmap='viridis', vmin=0, vmax=1)"
   ]
  },
  {
   "cell_type": "code",
   "execution_count": 27,
   "metadata": {},
   "outputs": [],
   "source": [
    "## sample from initial distribution\n",
    "final_init_prob = alpha_init_hat / alpha_init_hat.sum()\n",
    "init_obj = Multinomial(1, final_init_prob)\n",
    "init_hidden = torch.nonzero(init_obj.sample()).item()\n",
    "## transition matrix\n",
    "A = (alpha_trans_hat.transpose(0,1) / alpha_trans_hat.sum(1)).transpose(0,1)"
   ]
  },
  {
   "cell_type": "code",
   "execution_count": 28,
   "metadata": {},
   "outputs": [],
   "source": [
    "from probtorch.util import log_sum_exp\n",
    "from bokeh.plotting import figure, output_notebook, show\n",
    "from bokeh.models import Range1d\n",
    "from bokeh.io import push_notebook, show, output_notebook\n",
    "import time"
   ]
  },
  {
   "cell_type": "code",
   "execution_count": 29,
   "metadata": {},
   "outputs": [],
   "source": [
    "# box_bound = np.array([-200, 200, -200, 200])\n",
    "# plot = figure(plot_width=300, plot_height=300)\n",
    "# plot.x_range = Range1d(box_bound[0], box_bound[1])\n",
    "# plot.y_range = Range1d(box_bound[2], box_bound[3])\n",
    "# # m_ks_np = m_ks.data.numpy()\n",
    "# c = plot.circle(x=[init_state[0]], y=[init_state[1]])\n",
    "# target = show(plot, notebook_handle=True)"
   ]
  },
  {
   "cell_type": "code",
   "execution_count": 30,
   "metadata": {},
   "outputs": [],
   "source": [
    "# for t in range(T):\n",
    "#     if t == 0:\n",
    "#         new_pos = m_ks[init_hidden] + init_state[:2]\n",
    "#         old_hidden = init_hidden\n",
    "#     else:\n",
    "#         new_hidden_obj = Multinomial(1, A[old_hidden])\n",
    "#         new_hidden = torch.nonzero(new_hidden_obj.sample()).item()\n",
    "#         new_pos += m_ks[new_hidden]\n",
    "#         old_hidden = new_hidden\n",
    "#     c.data_source.data['x'] = [new_pos[0]]\n",
    "#     c.data_source.data['y'] = [new_pos[1]]\n",
    "#     push_notebook(handle=target)\n",
    "#     time.sleep(0.2)"
   ]
  },
  {
   "cell_type": "code",
   "execution_count": 31,
   "metadata": {},
   "outputs": [
    {
     "data": {
      "text/plain": [
       "<matplotlib.collections.PathCollection at 0x7fbc4c403f98>"
      ]
     },
     "execution_count": 31,
     "metadata": {},
     "output_type": "execute_result"
    },
    {
     "data": {
      "image/png": "[encoded data removed]",
      "text/plain": [
       "<Figure size 432x288 with 1 Axes>"
      ]
     },
     "metadata": {},
     "output_type": "display_data"
    }
   ],
   "source": [
    "plt.scatter(m_ks[:,0], m_ks[:,1])"
   ]
  },
  {
   "cell_type": "code",
   "execution_count": 20,
   "metadata": {},
   "outputs": [
    {
     "data": {
      "text/plain": [
       "tensor([[ 0.1325,  0.2969],\n",
       "        [ 1.3317, -6.0021],\n",
       "        [ 0.6661,  1.1086],\n",
       "        [ 0.1325,  0.2969],\n",
       "        [ 1.3761,  5.9365],\n",
       "        [-1.4785, -6.0857],\n",
       "        [-1.2171, -1.0974],\n",
       "        [ 0.1325,  0.2969],\n",
       "        [-1.3321,  6.1368],\n",
       "        [ 0.1325,  0.2969],\n",
       "        [ 0.1325,  0.2969],\n",
       "        [ 1.0767, -0.8686]], dtype=torch.float64)"
      ]
     },
     "execution_count": 20,
     "metadata": {},
     "output_type": "execute_result"
    }
   ],
   "source": [
    "m_ks"
   ]
  },
  {
   "cell_type": "code",
   "execution_count": null,
   "metadata": {},
   "outputs": [],
   "source": []
  },
  {
   "cell_type": "code",
   "execution_count": null,
   "metadata": {},
   "outputs": [],
   "source": []
  },
  {
   "cell_type": "code",
   "execution_count": null,
   "metadata": {},
   "outputs": [],
   "source": []
  },
  {
   "cell_type": "code",
   "execution_count": null,
   "metadata": {},
   "outputs": [],
   "source": []
  }
 ],
 "metadata": {
  "kernelspec": {
   "display_name": "Python 3",
   "language": "python",
   "name": "python3"
  },
  "language_info": {
   "codemirror_mode": {
    "name": "ipython",
    "version": 3
   },
   "file_extension": ".py",
   "mimetype": "text/x-python",
   "name": "python",
   "nbconvert_exporter": "python",
   "pygments_lexer": "ipython3",
   "version": "3.6.6"
  }
 },
 "nbformat": 4,
 "nbformat_minor": 2
}
