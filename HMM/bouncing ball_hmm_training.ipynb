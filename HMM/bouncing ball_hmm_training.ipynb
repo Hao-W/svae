{
 "cells": [
  {
   "cell_type": "code",
   "execution_count": 1,
   "metadata": {
    "collapsed": false
   },
   "outputs": [],
   "source": [
    "%matplotlib inline\n",
    "from matplotlib import pyplot as plt\n",
    "import torch\n",
    "import numpy as np\n",
    "import time\n",
    "from util_hmm_pytorch import *\n",
    "from util_data import *\n",
    "from util_plots import *\n",
    "# from bokeh.plotting import figure, output_notebook, show\n",
    "# from bokeh.models import Range1d\n",
    "# from bokeh.io import push_notebook, show, output_notebook\n",
    "# output_notebook()"
   ]
  },
  {
   "cell_type": "code",
   "execution_count": 2,
   "metadata": {
    "collapsed": true
   },
   "outputs": [],
   "source": [
    "## dataset parameters\n",
    "T = 200 ## sequence length\n",
    "num_series = 20\n",
    "dt = 1 ## \\delta t\n",
    "Boundary = 10 ## unit box is amplified by this value, centered at origin\n",
    "signal_noise_ratio = 0.2 # the noise is multiplied by this param\n",
    "training_epochs = 50 \n",
    "D = 2\n",
    "## Model parameters\n",
    "K =  4## number of hidden states"
   ]
  },
  {
   "cell_type": "code",
   "execution_count": 16,
   "metadata": {
    "collapsed": false
   },
   "outputs": [],
   "source": [
    "## generate time series\n",
    "x0, y0, init_v, init_v_rand_dir = intialization(T, num_series, Boundary)\n",
    "final_mus = np.zeros((num_series, K, D))\n",
    "final_covs = np.zeros((num_series, K, D, D))\n",
    "STATEs = np.zeros((num_series, T+1, 4))\n",
    "Disps = np.zeros((num_series, T, D))\n",
    "As_true = np.zeros((num_series, 4, 4))\n",
    "As_pred = np.zeros((num_series, K, K))\n",
    "for s in range(num_series):\n",
    "    init_state = np.array([x0[s], y0[s], init_v_rand_dir[s, 0], init_v_rand_dir[s, 1]])\n",
    "    STATEs[s], Disps[s], As_true[s] = generate_data(T, dt, init_state, Boundary, signal_noise_ratio)"
   ]
  },
  {
   "cell_type": "code",
   "execution_count": 17,
   "metadata": {},
   "outputs": [
    {
     "name": "stdout",
     "output_type": "stream",
     "text": [
      "training : 0\n",
      "training : 1\n",
      "training : 2\n",
      "training : 3\n",
      "training : 4\n",
      "training : 5\n",
      "training : 6\n",
      "training : 7\n",
      "training : 8\n",
      "training : 9\n",
      "training : 10\n",
      "training : 11\n",
      "training : 12\n",
      "training : 13\n",
      "training : 14\n",
      "training : 15\n",
      "training : 16\n",
      "training : 17\n",
      "training : 18\n",
      "training : 19\n"
     ]
    }
   ],
   "source": [
    "## training with one time series at a time, i.e. there are num_series models\n",
    "for s in range(num_series):\n",
    "    Y = torch.from_numpy(Disps[s]).float()\n",
    "    alpha_init_0, alpha_trans_0, m_0, beta_0, nu_0, W_0, alpha_init_hat, alpha_trans_hat, m_ks, beta_ks, nu_ks, W_ks = pirors(Y, T, D, K)\n",
    "    epoch_elbos = []\n",
    "    for i in range(training_epochs):\n",
    "        ## VBE step\n",
    "        log_gammas, log_eta = vbE_step(alpha_init_hat, alpha_trans_hat, nu_ks, W_ks, m_ks, beta_ks, Y, T, D, K)\n",
    "        N_ks, Y_ks, S_ks = stats(log_gammas, Y, D, K)\n",
    "        ## VBM step\n",
    "        alpha_init_hat, alpha_trans_hat, nu_ks, W_ks, m_ks, beta_ks, cov_ks = vbM_step(log_eta, alpha_init_0, alpha_trans_0, nu_0, W_0, m_0, beta_0, N_ks, Y_ks, S_ks, T, D, K)\n",
    "    #     epoch_elbo = elbo(log_gammas, log_eta, alpha_init_0, alpha_trans_0, nu_0, W_0, m_0, beta_0, N_ks, Y_ks, S_ks, alpha_init_hat, alpha_trans_hat, nu_ks, W_ks, m_ks, beta_ks, Y, N, D, K)\n",
    "    #     epoch_elbos.append(epoch_elbo)\n",
    "    #     print('Iteration:%d, ELBO:%f' % ((i+1), epoch_elbo))\n",
    "    final_covs[s] = cov_ks ## mean of inverse wishart\n",
    "    final_mus[s] = m_ks.data.numpy() ## mean of gaussian\n",
    "    As_pred[s] = alpha_trans_hat.data.numpy()\n",
    "    print('training : %d' % (s))"
   ]
  },
  {
   "cell_type": "code",
   "execution_count": 18,
   "metadata": {},
   "outputs": [
    {
     "data": {
      "text/plain": [
       "<matplotlib.legend.Legend at 0x7f8a82718240>"
      ]
     },
     "execution_count": 18,
     "metadata": {},
     "output_type": "execute_result"
    },
    {
     "data": {
      "image/png": "[encoded data removed]",
      "text/plain": [
       "<Figure size 432x432 with 1 Axes>"
      ]
     },
     "metadata": {},
     "output_type": "display_data"
    }
   ],
   "source": [
    "## visualize true velocity and the mean of clusters in gaussian mixture HMM\n",
    "fig = plt.figure(figsize=(6,6))\n",
    "ax = fig.gca()\n",
    "ax.scatter(init_v[:,0], init_v[:,1], label='z=1')\n",
    "ax.scatter(init_v[:,0], -init_v[:,1], label='z=2')\n",
    "ax.scatter(-init_v[:,0], -init_v[:,1], label='z=3')\n",
    "ax.scatter(-init_v[:,0], init_v[:,1], label='z=4')\n",
    "colors = ['b', 'orange', 'g', 'r', 'k']\n",
    "for k in range(K):\n",
    "    ax.scatter(final_mus[:,k,0], final_mus[:,k,1], c=colors[k], marker='x')\n",
    "## uncomment these two lines to plot the uncertainty for each point\n",
    "#     for s in range(num_series):\n",
    "#         plot_cov_ellipse(cov=final_covs[s, k, :, :], pos=final_mus[s, k, :], nstd=0.3, ax=ax, alpha=0.5)\n",
    "ax.set_xlabel('x velocity')\n",
    "ax.set_ylabel('y velocity')\n",
    "ax.legend(loc='upper center', bbox_to_anchor=(0.5, 1.15), ncol=4)"
   ]
  },
  {
   "cell_type": "code",
   "execution_count": 24,
   "metadata": {},
   "outputs": [
    {
     "data": {
      "image/png": "[encoded data removed]",
      "text/plain": [
       "<Figure size 576x576 with 3 Axes>"
      ]
     },
     "metadata": {},
     "output_type": "display_data"
    }
   ],
   "source": [
    "## visualize the averaged transition matrix for groud truth and estimation\n",
    "\"\"\"\n",
    "   1      2           3     4\n",
    "  _                         _\n",
    "  /|     \\           /     |\\\n",
    " /        \\         /        \\\n",
    "/         _\\|     |/_         \\\n",
    "\n",
    "1 to 2    2 to 1   3 to 2    4 to 3\n",
    "1 to 4    2 to 3   3 to 4    4 to 1\n",
    "\"\"\"\n",
    "As_infer, As_true_ave = plot_transition(As_pred, As_true, 0.3)"
   ]
  },
  {
   "cell_type": "code",
   "execution_count": null,
   "metadata": {},
   "outputs": [],
   "source": []
  },
  {
   "cell_type": "code",
   "execution_count": null,
   "metadata": {},
   "outputs": [],
   "source": []
  },
  {
   "cell_type": "code",
   "execution_count": null,
   "metadata": {},
   "outputs": [],
   "source": []
  },
  {
   "cell_type": "code",
   "execution_count": null,
   "metadata": {},
   "outputs": [],
   "source": []
  }
 ],
 "metadata": {
  "kernelspec": {
   "display_name": "Python 3",
   "language": "python",
   "name": "python3"
  },
  "language_info": {
   "codemirror_mode": {
    "name": "ipython",
    "version": 3
   },
   "file_extension": ".py",
   "mimetype": "text/x-python",
   "name": "python",
   "nbconvert_exporter": "python",
   "pygments_lexer": "ipython3",
   "version": "3.6.6"
  }
 },
 "nbformat": 4,
 "nbformat_minor": 2
}
