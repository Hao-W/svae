{
 "cells": [
  {
   "cell_type": "code",
   "execution_count": 1,
   "metadata": {
    "collapsed": false
   },
   "outputs": [],
   "source": [
    "%matplotlib inline\n",
    "from matplotlib import pyplot as plt\n",
    "import torch\n",
    "import numpy as np\n",
    "import time\n",
    "from util_hmm_pytorch import *\n",
    "from util_data import *\n",
    "from util_plots import *"
   ]
  },
  {
   "cell_type": "code",
   "execution_count": 2,
   "metadata": {
    "collapsed": true
   },
   "outputs": [],
   "source": [
    "## dataset parameters\n",
    "T = 200 ## sequence length\n",
    "num_series = 30\n",
    "dt = 1 ## \\delta t\n",
    "Boundary = 6 ## unit box is amplified by this value, centered at origin\n",
    "signal_noise_ratio = 0.2 # the noise is multiplied by this param\n",
    "training_epochs = 50 \n",
    "D = 2\n",
    "## Model parameters\n",
    "K =  4## number of hidden states"
   ]
  },
  {
   "cell_type": "code",
   "execution_count": 3,
   "metadata": {},
   "outputs": [],
   "source": [
    "Disps = np.load('/home/hao/Research/probprog/Disps.bin.npy')\n",
    "As_true = np.load('/home/hao/Research/probprog/As_true.bin.npy')\n",
    "As_pred = np.zeros((num_series, K, K))\n",
    "final_mus = np.zeros((num_series, K, D))\n",
    "final_covs = np.zeros((num_series, K, D, D))"
   ]
  },
  {
   "cell_type": "code",
   "execution_count": 4,
   "metadata": {
    "collapsed": false
   },
   "outputs": [],
   "source": [
    "## generate time series\n",
    "x0, y0, init_v, init_v_rand_dir = intialization(T, num_series, Boundary)\n",
    "final_mus = np.zeros((num_series, K, D))\n",
    "final_covs = np.zeros((num_series, K, D, D))\n",
    "STATEs = np.zeros((num_series, T+1, 4))\n",
    "Disps = np.zeros((num_series, T, D))\n",
    "As_true = np.zeros((num_series, 4, 4))\n",
    "As_pred = np.zeros((num_series, K, K))\n",
    "for s in range(num_series):\n",
    "    init_state = np.array([x0[s], y0[s], init_v_rand_dir[s, 0], init_v_rand_dir[s, 1]])\n",
    "    STATEs[s], Disps[s], As_true[s] = generate_data(T, dt, init_state, Boundary, signal_noise_ratio)"
   ]
  },
  {
   "cell_type": "code",
   "execution_count": 16,
   "metadata": {},
   "outputs": [
    {
     "data": {
      "text/plain": [
       "(30, 200, 2)"
      ]
     },
     "execution_count": 16,
     "metadata": {},
     "output_type": "execute_result"
    }
   ],
   "source": [
    "Disps.shape"
   ]
  },
  {
   "cell_type": "code",
   "execution_count": 5,
   "metadata": {},
   "outputs": [
    {
     "name": "stdout",
     "output_type": "stream",
     "text": [
      "training completed : 0\n",
      "training completed : 1\n",
      "training completed : 2\n",
      "training completed : 3\n",
      "training completed : 4\n",
      "training completed : 5\n",
      "training completed : 6\n",
      "training completed : 7\n",
      "training completed : 8\n",
      "training completed : 9\n",
      "training completed : 10\n",
      "training completed : 11\n",
      "training completed : 12\n",
      "training completed : 13\n",
      "training completed : 14\n",
      "training completed : 15\n",
      "training completed : 16\n",
      "training completed : 17\n",
      "training completed : 18\n",
      "training completed : 19\n",
      "training completed : 20\n",
      "training completed : 21\n",
      "training completed : 22\n",
      "training completed : 23\n",
      "training completed : 24\n",
      "training completed : 25\n",
      "training completed : 26\n",
      "training completed : 27\n",
      "training completed : 28\n",
      "training completed : 29\n"
     ]
    }
   ],
   "source": [
    "## training with one time series at a time, i.e. there are num_series models\n",
    "for s in range(num_series):\n",
    "    Y = torch.from_numpy(Disps[s]).float()\n",
    "    alpha_init_0, alpha_trans_0, m_0, beta_0, nu_0, W_0, alpha_init_hat, alpha_trans_hat, m_ks, beta_ks, nu_ks, W_ks = pirors(Y, T, D, K)\n",
    "    epoch_elbos = []\n",
    "    for i in range(training_epochs):\n",
    "        ## VBE step\n",
    "        log_gammas, log_eta = vbE_step(alpha_init_hat, alpha_trans_hat, nu_ks, W_ks, m_ks, beta_ks, Y, T, D, K)\n",
    "        N_ks, Y_ks, S_ks = stats(log_gammas, Y, D, K)\n",
    "        ## VBM step\n",
    "        alpha_init_hat, alpha_trans_hat, nu_ks, W_ks, m_ks, beta_ks, cov_ks = vbM_step(log_eta, alpha_init_0, alpha_trans_0, nu_0, W_0, m_0, beta_0, N_ks, Y_ks, S_ks, T, D, K)\n",
    "    #     epoch_elbo = elbo(log_gammas, log_eta, alpha_init_0, alpha_trans_0, nu_0, W_0, m_0, beta_0, N_ks, Y_ks, S_ks, alpha_init_hat, alpha_trans_hat, nu_ks, W_ks, m_ks, beta_ks, Y, N, D, K)\n",
    "    #     epoch_elbos.append(epoch_elbo)\n",
    "    #     print('Iteration:%d, ELBO:%f' % ((i+1), epoch_elbo))\n",
    "    final_covs[s] = cov_ks ## mean of inverse wishart\n",
    "    final_mus[s] = m_ks.data.numpy() ## mean of gaussian\n",
    "    As_pred[s] = alpha_trans_hat.data.numpy()\n",
    "    print('training completed : %d' % (s))"
   ]
  },
  {
   "cell_type": "raw",
   "metadata": {},
   "source": [
    "By setting the prior of mean of clusters as torch.FloatTensor([[1, 1], [1, -1], [-1, -1], [-1, 1]]) * (1 / math.sqrt(2)), the state name (1, 2, 3, 4) always indicates the following velocity direction :\n",
    "\"\"\"\n",
    "   1      2           3     4\n",
    "  _                         _\n",
    "  /|     \\           /     |\\\n",
    " /        \\         /        \\\n",
    "/         _\\|     |/_         \\\n",
    "\n",
    "1 to 2    2 to 1   3 to 2    4 to 3\n",
    "1 to 4    2 to 3   3 to 4    4 to 1\n",
    "\"\"\""
   ]
  },
  {
   "cell_type": "code",
   "execution_count": 7,
   "metadata": {},
   "outputs": [],
   "source": [
    "fs = 3.0 ## figure size\n",
    "vmax = 0.3 ## cmap maximum value, to make off-diagonal elements more visible\n",
    "width_space = 0.05 # space between figures\n",
    "height_space = 0.05 # space between figures\n",
    "cov_flag = False # plot the covariances or not\n",
    "legend_flag = False # plot the legend bar or not\n",
    "save_flag = True ## save or not"
   ]
  },
  {
   "cell_type": "code",
   "execution_count": 8,
   "metadata": {},
   "outputs": [],
   "source": [
    "## plot method 1\n",
    "# plot_circle_transition(init_v, final_mus, final_covs, As_pred, As_true, K, fs, vmax, width_space, height_space, cov_flag, legend_flag, save_flag)"
   ]
  },
  {
   "cell_type": "code",
   "execution_count": 8,
   "metadata": {},
   "outputs": [
    {
     "data": {
      "image/png": "[encoded data removed]",
      "text/plain": [
       "<Figure size 327.6x219.6 with 9 Axes>"
      ]
     },
     "metadata": {},
     "output_type": "display_data"
    }
   ],
   "source": [
    "## plot method 2\n",
    "plot_circle_transition_colorcode(num_series, init_v, final_mus, final_covs, As_pred, As_true, K, fs, vmax, width_space, height_space, cov_flag, legend_flag, save_flag)"
   ]
  },
  {
   "cell_type": "code",
   "execution_count": 10,
   "metadata": {},
   "outputs": [],
   "source": [
    "# def plot_circle_transition_colorcode(num_series, init_v, final_mus, final_covs, As_pred, As_true, K, fs, vmax, width_space, height_space, cov_flag, legend_flag, save_flag):\n",
    "\n",
    "#     As_infer = As_pred / As_pred.sum(-1)[:, :, None]\n",
    "#     As_infer = As_infer.mean(0)\n",
    "#     As_true_ave = As_true.mean(0)\n",
    "\n",
    "#     fig = plt.figure(figsize=(fs*1.5 + width_space,fs + height_space))\n",
    "#     gs1 = gridspec.GridSpec(1, 1)\n",
    "#     # , width_ratios=[2,1], height_ratios=[1,1]\n",
    "#     gs1.update(left=0.0, bottom=0.0, right=(2/3), top=1.0, wspace=width_space, hspace=height_space)\n",
    "#     ax1 = fig.add_subplot(gs1[0])\n",
    "\n",
    "#     # ax3 = fig.add_subplot(gs[1, 1])\n",
    "#     ax1.set_xticks([])\n",
    "#     ax1.set_yticks([])\n",
    "\n",
    "#     gs2 = gridspec.GridSpec(4, 1)\n",
    "#     gs2.update(left=2/3 + (1/3)*width_space, bottom=0.5+(1/2)*width_space, right=1.0, top=1.0, wspace=0, hspace=0)\n",
    "#     ax2 = fig.add_subplot(gs2[0, 0])\n",
    "#     ax2.set_xticks([])\n",
    "#     ax2.set_yticks([])\n",
    "#     ax3 = fig.add_subplot(gs2[1, 0])\n",
    "#     ax3.set_xticks([])\n",
    "#     ax3.set_yticks([])\n",
    "#     ax4 = fig.add_subplot(gs2[2, 0])\n",
    "#     ax4.set_xticks([])\n",
    "#     ax4.set_yticks([])\n",
    "#     ax5 = fig.add_subplot(gs2[3, 0])\n",
    "#     ax5.set_xticks([])\n",
    "#     ax5.set_yticks([])\n",
    "\n",
    "#     gs3 = gridspec.GridSpec(4, 1)\n",
    "#     gs3.update(left=2/3 + (1/3)*width_space, bottom=0.0, right=1.0, top=0.5 - (1/2)*width_space, wspace=0, hspace=0)\n",
    "#     ax6 = fig.add_subplot(gs3[0, 0])\n",
    "#     ax6.set_xticks([])\n",
    "#     ax6.set_yticks([])\n",
    "#     ax7 = fig.add_subplot(gs3[1, 0])\n",
    "#     ax7.set_xticks([])\n",
    "#     ax7.set_yticks([])\n",
    "#     ax8 = fig.add_subplot(gs3[2, 0])\n",
    "#     ax8.set_xticks([])\n",
    "#     ax8.set_yticks([])\n",
    "#     ax9 = fig.add_subplot(gs3[3, 0])\n",
    "#     ax9.set_xticks([])\n",
    "#     ax9.set_yticks([])\n",
    "#     markersize = 10.0\n",
    "#     colors = ['b', 'Purple', 'g', 'r']\n",
    "#     ## plot left one\n",
    "#     ax1.scatter(init_v[:,0], init_v[:,1], s=markersize, color=colors[0], label='z=1')\n",
    "#     ax1.scatter(init_v[:,0], -init_v[:,1], s=markersize, color=colors[1], label='z=2')\n",
    "#     ax1.scatter(-init_v[:,0], -init_v[:,1], s=markersize, color=colors[2], label='z=3')\n",
    "#     ax1.scatter(-init_v[:,0], init_v[:,1], s=markersize, color=colors[3], label='z=4')\n",
    "\n",
    "#     for k in range(K):\n",
    "#         ax1.scatter(final_mus[:,k,0], final_mus[:,k,1], c=colors[k], marker='x')\n",
    "#     if cov_flag:\n",
    "#         for k in range(K):\n",
    "#             for s in range(num_series):\n",
    "#                 plot_cov_ellipse(cov=final_covs[s, k, :, :], pos=final_mus[s, k, :], nstd=0.3, ax=ax1, alpha=0.1)\n",
    "#     #    ax1.set_xlabel('x velocity')\n",
    "#     #    ax1.set_ylabel('y velocity')\n",
    "#     if legend_flag:\n",
    "#         ax1.legend(loc='upper center', bbox_to_anchor=(0.75, 1.15), ncol=4)\n",
    "\n",
    "#     ax2.imshow(As_infer[None, 0,:], cmap='Blues', vmin=0, vmax=vmax)\n",
    "#     ax3.imshow(As_infer[None, 1,:], cmap='Purples', vmin=0, vmax=vmax)\n",
    "#     ax4.imshow(As_infer[None, 2,:], cmap='Greens', vmin=0, vmax=vmax)\n",
    "#     ax5.imshow(As_infer[None, 3,:], cmap='Reds', vmin=0, vmax=vmax)\n",
    "\n",
    "#     ax6.imshow(As_true_ave[None, 0,:], cmap='Blues', vmin=0, vmax=vmax)\n",
    "#     ax7.imshow(As_true_ave[None, 1,:], cmap='Purples', vmin=0, vmax=vmax)\n",
    "#     ax8.imshow(As_true_ave[None, 2,:], cmap='Greens', vmin=0, vmax=vmax)\n",
    "#     ax9.imshow(As_true_ave[None, 3,:], cmap='Reds', vmin=0, vmax=vmax)\n",
    "#     ax1.set_xlim(-1.8, 1.8)\n",
    "#     ax1.set_ylim(-1.8, 1.8)\n",
    "#     if save_flag:\n",
    "#         fig.savefig('baseline_results_v3.pdf', bbox_inches='tight')\n",
    "#         fig.savefig('baseline_results_v3.svg', bbox_inches='tight')\n",
    "#         fig.savefig('baseline_results_v3.png', dpi=600, bbox_inches='tight')"
   ]
  },
  {
   "cell_type": "code",
   "execution_count": 13,
   "metadata": {},
   "outputs": [
    {
     "data": {
      "image/png": "[encoded data removed]",
      "text/plain": [
       "<Figure size 216x216 with 1 Axes>"
      ]
     },
     "metadata": {},
     "output_type": "display_data"
    }
   ],
   "source": [
    "a = np.arange(5)\n",
    "fig2 = plt.figure(figsize=(3,3))\n",
    "ax1 = fig2.add_subplot(111)\n",
    "ax1.scatter(a, a, color='k', marker='x', label='inference')\n",
    "ax1.scatter(a, a, color='k', marker='o', label='ground truth')\n",
    "ax1.legend(loc='upper center', bbox_to_anchor=(0.75, 1.15), ncol=2)\n",
    "fig2.savefig('legend_v1.svg', bbox_inches='tight')"
   ]
  },
  {
   "cell_type": "code",
   "execution_count": null,
   "metadata": {},
   "outputs": [],
   "source": []
  }
 ],
 "metadata": {
  "kernelspec": {
   "display_name": "Python 3",
   "language": "python",
   "name": "python3"
  },
  "language_info": {
   "codemirror_mode": {
    "name": "ipython",
    "version": 3
   },
   "file_extension": ".py",
   "mimetype": "text/x-python",
   "name": "python",
   "nbconvert_exporter": "python",
   "pygments_lexer": "ipython3",
   "version": "3.6.6"
  }
 },
 "nbformat": 4,
 "nbformat_minor": 2
}
