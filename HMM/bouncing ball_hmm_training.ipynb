{
 "cells": [
  {
   "cell_type": "code",
   "execution_count": 1,
   "metadata": {
    "collapsed": false
   },
   "outputs": [],
   "source": [
    "%matplotlib inline\n",
    "from matplotlib import pyplot as plt\n",
    "import torch\n",
    "import numpy as np\n",
    "import time\n",
    "from util_hmm_pytorch import *\n",
    "from util_data import *\n",
    "from util_plots import *"
   ]
  },
  {
   "cell_type": "code",
   "execution_count": 2,
   "metadata": {
    "collapsed": true
   },
   "outputs": [],
   "source": [
    "## dataset parameters\n",
    "T = 200 ## sequence length\n",
    "num_series = 30\n",
    "dt = 1 ## \\delta t\n",
    "Boundary = 6 ## unit box is amplified by this value, centered at origin\n",
    "signal_noise_ratio = 0.2 # the noise is multiplied by this param\n",
    "training_epochs = 50 \n",
    "D = 2\n",
    "## Model parameters\n",
    "K =  4## number of hidden states"
   ]
  },
  {
   "cell_type": "code",
   "execution_count": 3,
   "metadata": {},
   "outputs": [],
   "source": [
    "Disps = np.load('/home/hao/Research/amortized/data/Disps.bin.npy')\n",
    "As_true = np.load('/home/hao/Research/amortized/data/As_true.bin.npy')\n",
    "As_pred = np.zeros((num_series, K, K))\n",
    "final_mus = np.zeros((num_series, K, D))\n",
    "final_covs = np.zeros((num_series, K, D, D))"
   ]
  },
  {
   "cell_type": "code",
   "execution_count": 4,
   "metadata": {
    "collapsed": false
   },
   "outputs": [],
   "source": [
    "## generate time series\n",
    "x0, y0, init_v, init_v_rand_dir = intialization(T, num_series, Boundary)\n",
    "final_mus = np.zeros((num_series, K, D))\n",
    "final_covs = np.zeros((num_series, K, D, D))\n",
    "STATEs = np.zeros((num_series, T+1, 4))\n",
    "Disps = np.zeros((num_series, T, D))\n",
    "As_true = np.zeros((num_series, 4, 4))\n",
    "As_pred = np.zeros((num_series, K, K))\n",
    "for s in range(num_series):\n",
    "    init_state = np.array([x0[s], y0[s], init_v_rand_dir[s, 0], init_v_rand_dir[s, 1]])\n",
    "    STATEs[s], Disps[s], As_true[s] = generate_data(T, dt, init_state, Boundary, signal_noise_ratio)"
   ]
  },
  {
   "cell_type": "code",
   "execution_count": 5,
   "metadata": {},
   "outputs": [
    {
     "data": {
      "text/plain": [
       "(30, 200, 2)"
      ]
     },
     "execution_count": 5,
     "metadata": {},
     "output_type": "execute_result"
    }
   ],
   "source": [
    "Disps.shape"
   ]
  },
  {
   "cell_type": "code",
   "execution_count": 6,
   "metadata": {},
   "outputs": [
    {
     "name": "stdout",
     "output_type": "stream",
     "text": [
      "training completed : 0\n",
      "training completed : 1\n",
      "training completed : 2\n",
      "training completed : 3\n",
      "training completed : 4\n",
      "training completed : 5\n",
      "training completed : 6\n",
      "training completed : 7\n",
      "training completed : 8\n",
      "training completed : 9\n",
      "training completed : 10\n",
      "training completed : 11\n",
      "training completed : 12\n",
      "training completed : 13\n",
      "training completed : 14\n",
      "training completed : 15\n",
      "training completed : 16\n",
      "training completed : 17\n",
      "training completed : 18\n",
      "training completed : 19\n",
      "training completed : 20\n",
      "training completed : 21\n",
      "training completed : 22\n",
      "training completed : 23\n",
      "training completed : 24\n",
      "training completed : 25\n",
      "training completed : 26\n",
      "training completed : 27\n",
      "training completed : 28\n",
      "training completed : 29\n"
     ]
    }
   ],
   "source": [
    "## training with one time series at a time, i.e. there are num_series models\n",
    "for s in range(num_series):\n",
    "    Y = torch.from_numpy(Disps[s]).float()\n",
    "    alpha_init_0, alpha_trans_0, m_0, beta_0, nu_0, W_0, alpha_init_hat, alpha_trans_hat, m_ks, beta_ks, nu_ks, W_ks = pirors(Y, T, D, K)\n",
    "    epoch_elbos = []\n",
    "    for i in range(training_epochs):\n",
    "        ## VBE step\n",
    "        log_gammas, log_eta = vbE_step(alpha_init_hat, alpha_trans_hat, nu_ks, W_ks, m_ks, beta_ks, Y, T, D, K)\n",
    "        N_ks, Y_ks, S_ks = stats(log_gammas, Y, D, K)\n",
    "        ## VBM step\n",
    "        alpha_init_hat, alpha_trans_hat, nu_ks, W_ks, m_ks, beta_ks, cov_ks = vbM_step(log_eta, alpha_init_0, alpha_trans_0, nu_0, W_0, m_0, beta_0, N_ks, Y_ks, S_ks, T, D, K)\n",
    "    #     epoch_elbo = elbo(log_gammas, log_eta, alpha_init_0, alpha_trans_0, nu_0, W_0, m_0, beta_0, N_ks, Y_ks, S_ks, alpha_init_hat, alpha_trans_hat, nu_ks, W_ks, m_ks, beta_ks, Y, N, D, K)\n",
    "    #     epoch_elbos.append(epoch_elbo)\n",
    "    #     print('Iteration:%d, ELBO:%f' % ((i+1), epoch_elbo))\n",
    "    final_covs[s] = cov_ks ## mean of inverse wishart\n",
    "    final_mus[s] = m_ks.data.numpy() ## mean of gaussian\n",
    "    As_pred[s] = alpha_trans_hat.data.numpy()\n",
    "    print('training completed : %d' % (s))"
   ]
  },
  {
   "cell_type": "raw",
   "metadata": {},
   "source": [
    "By setting the prior of mean of clusters as torch.FloatTensor([[1, 1], [1, -1], [-1, -1], [-1, 1]]) * (1 / math.sqrt(2)), the state name (1, 2, 3, 4) always indicates the following velocity direction :\n",
    "\"\"\"\n",
    "   1      2           3     4\n",
    "  _                         _\n",
    "  /|     \\           /     |\\\n",
    " /        \\         /        \\\n",
    "/         _\\|     |/_         \\\n",
    "\n",
    "1 to 2    2 to 1   3 to 2    4 to 3\n",
    "1 to 4    2 to 3   3 to 4    4 to 1\n",
    "\"\"\""
   ]
  },
  {
   "cell_type": "code",
   "execution_count": 8,
   "metadata": {},
   "outputs": [],
   "source": [
    "fs = 3.0 ## figure size\n",
    "vmax = 0.3 ## cmap maximum value, to make off-diagonal elements more visible\n",
    "width_space = 0.05 # space between figures\n",
    "height_space = 0.05 # space between figures\n",
    "cov_flag = False # plot the covariances or not\n",
    "legend_flag = False # plot the legend bar or not\n",
    "save_flag = True ## save or not"
   ]
  },
  {
   "cell_type": "code",
   "execution_count": 8,
   "metadata": {},
   "outputs": [],
   "source": [
    "## plot method 1\n",
    "# plot_circle_transition(init_v, final_mus, final_covs, As_pred, As_true, K, fs, vmax, width_space, height_space, cov_flag, legend_flag, save_flag)"
   ]
  },
  {
   "cell_type": "code",
   "execution_count": 9,
   "metadata": {},
   "outputs": [
    {
     "data": {
      "image/png": "[encoded data removed]",
      "text/plain": [
       "<Figure size 327.6x219.6 with 9 Axes>"
      ]
     },
     "metadata": {},
     "output_type": "display_data"
    }
   ],
   "source": [
    "## plot method 2\n",
    "plot_circle_transition_colorcode(num_series, init_v, final_mus, final_covs, As_pred, As_true, K, fs, vmax, width_space, height_space, cov_flag, legend_flag, save_flag)"
   ]
  },
  {
   "cell_type": "code",
   "execution_count": 13,
   "metadata": {},
   "outputs": [
    {
     "data": {
      "image/png": "[encoded data removed]",
      "text/plain": [
       "<Figure size 216x216 with 1 Axes>"
      ]
     },
     "metadata": {},
     "output_type": "display_data"
    }
   ],
   "source": [
    "a = np.arange(5)\n",
    "fig2 = plt.figure(figsize=(3,3))\n",
    "ax1 = fig2.add_subplot(111)\n",
    "ax1.scatter(a, a, color='k', marker='x', label='inference')\n",
    "ax1.scatter(a, a, color='k', marker='o', label='ground truth')\n",
    "ax1.legend(loc='upper center', bbox_to_anchor=(0.75, 1.15), ncol=2)\n",
    "fig2.savefig('legend_v1.svg', bbox_inches='tight')"
   ]
  },
  {
   "cell_type": "code",
   "execution_count": null,
   "metadata": {},
   "outputs": [],
   "source": []
  }
 ],
 "metadata": {
  "kernelspec": {
   "display_name": "Python 3",
   "language": "python",
   "name": "python3"
  },
  "language_info": {
   "codemirror_mode": {
    "name": "ipython",
    "version": 3
   },
   "file_extension": ".py",
   "mimetype": "text/x-python",
   "name": "python",
   "nbconvert_exporter": "python",
   "pygments_lexer": "ipython3",
   "version": "3.6.6"
  }
 },
 "nbformat": 4,
 "nbformat_minor": 2
}
