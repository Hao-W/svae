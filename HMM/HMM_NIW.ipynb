{
 "cells": [
  {
   "cell_type": "code",
   "execution_count": 1,
   "metadata": {},
   "outputs": [],
   "source": [
    "%matplotlib inline\n",
    "import numpy as np\n",
    "import matplotlib.pyplot as plt\n",
    "from autograd.numpy.linalg import inv, det\n",
    "from autograd import grad\n",
    "from functools import reduce\n",
    "import autograd.numpy.random as npr\n",
    "import matplotlib.pyplot as plt\n",
    "from scipy.stats import multivariate_normal, multinomial, gamma, invwishart\n",
    "from scipy.special import logsumexp, digamma, loggamma\n",
    "from numpy.linalg import inv\n",
    "from util_hmm import *\n",
    "from gmm_dataset import *"
   ]
  },
  {
   "cell_type": "code",
   "execution_count": 2,
   "metadata": {},
   "outputs": [
    {
     "data": {
      "image/png": "[encoded data removed]",
      "text/plain": [
       "<Figure size 288x288 with 1 Axes>"
      ]
     },
     "metadata": {},
     "output_type": "display_data"
    }
   ],
   "source": [
    "K = 3\n",
    "N = 500\n",
    "D = 2\n",
    "Y = sampling()\n",
    "plot_samples(Y)"
   ]
  },
  {
   "cell_type": "code",
   "execution_count": 7,
   "metadata": {},
   "outputs": [],
   "source": [
    "## prior\n",
    "alpha_init_0 = np.ones(K)\n",
    "L = np.ones((K, K))  / (2 *(K-1))\n",
    "alpha_trans_0 = L - np.diag(np.diag(L)) + np.eye(K) * 0.5\n",
    "m_0 = Y.mean(0)\n",
    "beta_0 = 1.0\n",
    "nu_0 = 3.1\n",
    "W_0 =  (nu_0-D-1) * np.dot((Y - m_0).T, (Y - m_0)) / (N)\n",
    "cov = np.cov(Y.T)"
   ]
  },
  {
   "cell_type": "code",
   "execution_count": 8,
   "metadata": {},
   "outputs": [],
   "source": [
    "alpha_init_hat = alpha_init_0\n",
    "alpha_trans_hat = alpha_trans_0\n",
    "m_ks = multivariate_normal.rvs(size=K, mean=m_0, cov=cov)\n",
    "beta_ks = np.tile(beta_0, K)\n",
    "nu_ks = np.tile(nu_0, K)\n",
    "W_ks = np.tile(W_0, (K, 1, 1))\n",
    "# cov_ks = np.tile(cov,(K,1,1)) "
   ]
  },
  {
   "cell_type": "code",
   "execution_count": 9,
   "metadata": {},
   "outputs": [],
   "source": [
    "iterations = 10"
   ]
  },
  {
   "cell_type": "code",
   "execution_count": 10,
   "metadata": {},
   "outputs": [
    {
     "name": "stdout",
     "output_type": "stream",
     "text": [
      "100.67703984932608\n",
      "NLL : -1350.449007, KL_z : 227.459172, KL_pi : 4.426865, KL_trans : 11.999688, KL_phi 100.677040\n",
      "108.99859313759235\n",
      "NLL : -1301.988135, KL_z : 225.783717, KL_pi : 4.426233, KL_trans : 11.981387, KL_phi 108.998593\n",
      "108.99859314542744\n",
      "NLL : -1301.988136, KL_z : 225.783716, KL_pi : 4.426233, KL_trans : 11.981387, KL_phi 108.998593\n",
      "108.9985931454278\n",
      "NLL : -1301.988136, KL_z : 225.783716, KL_pi : 4.426233, KL_trans : 11.981387, KL_phi 108.998593\n",
      "108.9985931454278\n",
      "NLL : -1301.988136, KL_z : 225.783716, KL_pi : 4.426233, KL_trans : 11.981387, KL_phi 108.998593\n",
      "108.9985931454278\n",
      "NLL : -1301.988136, KL_z : 225.783716, KL_pi : 4.426233, KL_trans : 11.981387, KL_phi 108.998593\n",
      "108.9985931454278\n",
      "NLL : -1301.988136, KL_z : 225.783716, KL_pi : 4.426233, KL_trans : 11.981387, KL_phi 108.998593\n",
      "108.9985931454278\n",
      "NLL : -1301.988136, KL_z : 225.783716, KL_pi : 4.426233, KL_trans : 11.981387, KL_phi 108.998593\n",
      "108.9985931454278\n",
      "NLL : -1301.988136, KL_z : 225.783716, KL_pi : 4.426233, KL_trans : 11.981387, KL_phi 108.998593\n",
      "108.9985931454278\n",
      "NLL : -1301.988136, KL_z : 225.783716, KL_pi : 4.426233, KL_trans : 11.981387, KL_phi 108.998593\n"
     ]
    }
   ],
   "source": [
    "epoch_elbos = []\n",
    "for i in range(iterations):\n",
    "    ## VBE step\n",
    "    log_gammas, log_eta = vbE_step(alpha_init_hat, alpha_trans_hat, nu_ks, W_ks, m_ks, beta_ks, Y, N, D, K)\n",
    "    N_ks, Y_ks, S_ks = stats(log_gammas, Y, D, K)\n",
    "    ## VBM step\n",
    "    alpha_init_hat, alpha_trans_hat, nu_ks, W_ks, m_ks, beta_ks, cov_ks = vbM_step(log_eta, alpha_init_0, alpha_trans_0, nu_0, W_0, m_0, beta_0, N_ks, Y_ks, S_ks, N, D, K)\n",
    "    ## elbokl_niw(nu_0, W_0, nu_ks, W_ks, D, K)\n",
    "    epoch_elbo = elbo(log_gammas, log_eta, alpha_init_0, alpha_trans_0, nu_0, W_0, m_0, beta_0, N_ks, Y_ks, S_ks, alpha_init_hat, alpha_trans_hat, nu_ks, W_ks, m_ks, beta_ks, Y, N, D, K)\n",
    "#     epoch_elbos.append(epoch_elbo)\n",
    "#     print('Iteration:%d, ELBO:%f' % ((i+1), epoch_elbo))\n",
    "# final_covs = cov_ks ## mean of inverse wishart\n",
    "# final_mus = m_ks ## mean of gaussian"
   ]
  },
  {
   "cell_type": "code",
   "execution_count": null,
   "metadata": {},
   "outputs": [],
   "source": []
  },
  {
   "cell_type": "code",
   "execution_count": null,
   "metadata": {},
   "outputs": [],
   "source": []
  },
  {
   "cell_type": "code",
   "execution_count": null,
   "metadata": {},
   "outputs": [],
   "source": []
  }
 ],
 "metadata": {
  "kernelspec": {
   "display_name": "Python 3",
   "language": "python",
   "name": "python3"
  },
  "language_info": {
   "codemirror_mode": {
    "name": "ipython",
    "version": 3
   },
   "file_extension": ".py",
   "mimetype": "text/x-python",
   "name": "python",
   "nbconvert_exporter": "python",
   "pygments_lexer": "ipython3",
   "version": "3.6.5"
  }
 },
 "nbformat": 4,
 "nbformat_minor": 2
}
