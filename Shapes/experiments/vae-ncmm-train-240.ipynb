{
 "cells": [
  {
   "cell_type": "code",
   "execution_count": 1,
   "metadata": {},
   "outputs": [
    {
     "name": "stdout",
     "output_type": "stream",
     "text": [
      "probtorch: 0.0+5a2c637 torch: 1.0.0 cuda: True\n"
     ]
    }
   ],
   "source": [
    "%matplotlib inline\n",
    "%run ../../import_envs.py\n",
    "print('probtorch:', probtorch.__version__, \n",
    "      'torch:', torch.__version__, \n",
    "      'cuda:', torch.cuda.is_available())"
   ]
  },
  {
   "cell_type": "code",
   "execution_count": 2,
   "metadata": {},
   "outputs": [],
   "source": [
    "%run PARAMETERS.py\n",
    "NAME = 'VAE'\n",
    "PATH = NAME + '-%dpts-%dsamples' % (N, SAMPLE_SIZE)\n",
    "CUDA = torch.cuda.is_available()\n",
    "DEVICE = torch.device('cuda:0')"
   ]
  },
  {
   "cell_type": "code",
   "execution_count": 3,
   "metadata": {},
   "outputs": [],
   "source": [
    "from model_operations import Init_models, Save_models\n",
    "\n",
    "models, optimizer = Init_models(K, \n",
    "                                D, \n",
    "                                hidden_list=HIDDEN_LIST, \n",
    "                                RECON_SIGMA=RECON_SIGMA, \n",
    "                                CUDA=CUDA, \n",
    "                                device=DEVICE, \n",
    "                                lr=LEARNING_RATE, \n",
    "                                RESTORE=False, \n",
    "                                PATH=PATH, \n",
    "                                NAME=NAME)"
   ]
  },
  {
   "cell_type": "code",
   "execution_count": null,
   "metadata": {},
   "outputs": [
    {
     "name": "stdout",
     "output_type": "stream",
     "text": [
      "epoch=0\\500, data order=tensor([0])\n",
      "Completed  in (17s),  phi_loss: -11794.619,  theta_loss: 11417.709,  ess: 1.005\n",
      "epoch=1\\500, data order=tensor([0])\n",
      "Completed  in (21s),  phi_loss: -3927.312,  theta_loss: 3370.295,  ess: 1.017\n",
      "epoch=2\\500, data order=tensor([0])\n",
      "Completed  in (18s),  phi_loss: -3105.427,  theta_loss: 2434.338,  ess: 1.026\n",
      "epoch=3\\500, data order=tensor([0])\n",
      "Completed  in (21s),  phi_loss: -2913.434,  theta_loss: 2190.051,  ess: 1.030\n",
      "epoch=4\\500, data order=tensor([0])\n",
      "Completed  in (19s),  phi_loss: -2821.074,  theta_loss: 2068.241,  ess: 1.030\n",
      "epoch=5\\500, data order=tensor([0])\n",
      "Completed  in (22s),  phi_loss: -2745.565,  theta_loss: 1971.315,  ess: 1.031\n",
      "epoch=6\\500, data order=tensor([0])\n",
      "Completed  in (21s),  phi_loss: -2693.938,  theta_loss: 1906.064,  ess: 1.034\n",
      "epoch=7\\500, data order=tensor([0])\n",
      "Completed  in (21s),  phi_loss: -2642.082,  theta_loss: 1846.788,  ess: 1.034\n",
      "epoch=8\\500, data order=tensor([0])\n",
      "Completed  in (22s),  phi_loss: -2593.071,  theta_loss: 1780.696,  ess: 1.032\n",
      "epoch=9\\500, data order=tensor([0])\n",
      "Completed  in (18s),  phi_loss: -2551.739,  theta_loss: 1732.516,  ess: 1.033\n",
      "epoch=10\\500, data order=tensor([0])\n",
      "Completed  in (17s),  phi_loss: -2519.657,  theta_loss: 1695.798,  ess: 1.035\n",
      "epoch=11\\500, data order=tensor([0])\n",
      "Completed  in (16s),  phi_loss: -2498.110,  theta_loss: 1666.679,  ess: 1.031\n",
      "epoch=12\\500, data order=tensor([0])\n"
     ]
    }
   ],
   "source": [
    "from vae import VAE\n",
    "train(models=models, \n",
    "      objective=VAE, \n",
    "      optimizer=optimizer, \n",
    "      data=Data, \n",
    "      mcmc_steps=None,\n",
    "      Train_Params=Train_Params,\n",
    "      CUDA=CUDA,\n",
    "      device=DEVICE,\n",
    "      path=PATH)"
   ]
  },
  {
   "cell_type": "code",
   "execution_count": null,
   "metadata": {},
   "outputs": [],
   "source": [
    "Save_models(models=models, path=PATH, NAME=NAME)"
   ]
  },
  {
   "cell_type": "code",
   "execution_count": null,
   "metadata": {},
   "outputs": [],
   "source": []
  }
 ],
 "metadata": {
  "kernelspec": {
   "display_name": "Python 3",
   "language": "python",
   "name": "python3"
  },
  "language_info": {
   "codemirror_mode": {
    "name": "ipython",
    "version": 3
   },
   "file_extension": ".py",
   "mimetype": "text/x-python",
   "name": "python",
   "nbconvert_exporter": "python",
   "pygments_lexer": "ipython3",
   "version": "3.6.7"
  }
 },
 "nbformat": 4,
 "nbformat_minor": 2
}
