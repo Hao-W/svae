{
 "cells": [
  {
   "cell_type": "code",
   "execution_count": 1,
   "metadata": {},
   "outputs": [
    {
     "name": "stdout",
     "output_type": "stream",
     "text": [
      "probtorch: 0.0+5a2c637 torch: 1.0.0 cuda: True\n"
     ]
    }
   ],
   "source": [
    "import matplotlib.pyplot as plt\n",
    "import numpy as np\n",
    "import torch\n",
    "import torch.nn as nn\n",
    "from torch.nn import Parameter\n",
    "import sys\n",
    "sys.path.append('/home/hao/Research/probtorch/')\n",
    "sys.path.append('../models/')\n",
    "\n",
    "import probtorch\n",
    "from probtorch.util import expand_inputs\n",
    "print('probtorch:', probtorch.__version__, \n",
    "      'torch:', torch.__version__, \n",
    "      'cuda:', torch.cuda.is_available())"
   ]
  },
  {
   "cell_type": "code",
   "execution_count": 2,
   "metadata": {},
   "outputs": [],
   "source": [
    "NUM_PIXELS = 784\n",
    "NUM_HIDDEN = 400\n",
    "NUM_LATENT = 10   \n",
    "\n",
    "# training parameters\n",
    "NUM_SAMPLES = 10\n",
    "NUM_BATCH = 100\n",
    "NUM_EPOCHS = 500\n",
    "LEARNING_RATE = 1e-3\n",
    "BETA1 = 0.90\n",
    "EPS = 1e-9\n",
    "CUDA = torch.cuda.is_available()\n",
    "\n",
    "# path parameters\n",
    "MODEL_NAME = 'vanilla-vae-%02ddim' % NUM_LATENT\n",
    "DATA_PATH = '/home/hao/Research/apg_data/mnist/vanilla/data'\n",
    "WEIGHTS_PATH = '../weights/'\n",
    "RESTORE = False"
   ]
  },
  {
   "cell_type": "code",
   "execution_count": 3,
   "metadata": {},
   "outputs": [],
   "source": [
    "from vae_dec_digit import Decoder\n",
    "from vae_enc_digit import Encoder\n",
    "enc = Encoder(num_pixels=NUM_PIXELS, num_hidden=NUM_HIDDEN, z_what_dim=NUM_LATENT)\n",
    "dec = Decoder(num_pixels=NUM_PIXELS, num_hidden=NUM_HIDDEN, z_what_dim=NUM_LATENT)\n",
    "if CUDA:\n",
    "    enc.cuda()\n",
    "    dec.cuda()\n",
    "\n",
    "optimizer =  torch.optim.Adam(list(enc.parameters())+list(dec.parameters()), lr=LEARNING_RATE, betas=(BETA1, 0.999))"
   ]
  },
  {
   "cell_type": "code",
   "execution_count": 4,
   "metadata": {},
   "outputs": [],
   "source": [
    "def elbo(q, p, alpha=0.1):\n",
    "    if NUM_SAMPLES is None:\n",
    "        return probtorch.objectives.montecarlo.elbo(q, p, sample_dim=None, batch_dim=0, alpha=alpha)\n",
    "    else:\n",
    "        return probtorch.objectives.montecarlo.elbo(q, p, sample_dim=0, batch_dim=1, alpha=alpha)"
   ]
  },
  {
   "cell_type": "code",
   "execution_count": 5,
   "metadata": {},
   "outputs": [],
   "source": [
    "from torchvision import datasets, transforms\n",
    "train_data = torch.utils.data.DataLoader(datasets.MNIST(DATA_PATH, train=True, download=True, transform=transforms.ToTensor()), batch_size=NUM_BATCH, shuffle=True) "
   ]
  },
  {
   "cell_type": "code",
   "execution_count": 6,
   "metadata": {},
   "outputs": [],
   "source": [
    "def train(data, enc, dec, optimizer):\n",
    "    epoch_elbo = 0.0\n",
    "    enc.train()\n",
    "    dec.train()\n",
    "    N = 0\n",
    "    for b, (images, labels) in enumerate(data):\n",
    "        if images.size()[0] == NUM_BATCH:\n",
    "            N += 1\n",
    "            images = images.view(-1, NUM_PIXELS)\n",
    "            if CUDA:\n",
    "                images = images.cuda()\n",
    "            optimizer.zero_grad()\n",
    "            q = enc(images, num_samples=NUM_SAMPLES)\n",
    "            p = dec(images, q, num_samples=NUM_SAMPLES)\n",
    "            loss = -elbo(q, p)\n",
    "            loss.backward()\n",
    "            optimizer.step()\n",
    "            if CUDA:\n",
    "                loss = loss.cpu()\n",
    "            epoch_elbo -= float(loss.item())\n",
    "\n",
    "    return epoch_elbo / N"
   ]
  },
  {
   "cell_type": "code",
   "execution_count": null,
   "metadata": {},
   "outputs": [
    {
     "name": "stdout",
     "output_type": "stream",
     "text": [
      "[Epoch 0] Train: ELBO -1.6539e+02 (10s)\n",
      "[Epoch 1] Train: ELBO -1.2132e+02 (10s)\n",
      "[Epoch 2] Train: ELBO -1.1335e+02 (10s)\n",
      "[Epoch 3] Train: ELBO -1.1013e+02 (10s)\n",
      "[Epoch 4] Train: ELBO -1.0815e+02 (10s)\n",
      "[Epoch 5] Train: ELBO -1.0677e+02 (10s)\n",
      "[Epoch 6] Train: ELBO -1.0573e+02 (10s)\n",
      "[Epoch 7] Train: ELBO -1.0493e+02 (9s)\n",
      "[Epoch 8] Train: ELBO -1.0425e+02 (9s)\n",
      "[Epoch 9] Train: ELBO -1.0371e+02 (9s)\n",
      "[Epoch 10] Train: ELBO -1.0325e+02 (9s)\n",
      "[Epoch 11] Train: ELBO -1.0281e+02 (9s)\n",
      "[Epoch 12] Train: ELBO -1.0246e+02 (9s)\n",
      "[Epoch 13] Train: ELBO -1.0213e+02 (9s)\n",
      "[Epoch 14] Train: ELBO -1.0185e+02 (10s)\n",
      "[Epoch 15] Train: ELBO -1.0152e+02 (10s)\n",
      "[Epoch 16] Train: ELBO -1.0130e+02 (10s)\n",
      "[Epoch 17] Train: ELBO -1.0108e+02 (10s)\n",
      "[Epoch 18] Train: ELBO -1.0087e+02 (10s)\n",
      "[Epoch 19] Train: ELBO -1.0067e+02 (10s)\n",
      "[Epoch 20] Train: ELBO -1.0047e+02 (10s)\n",
      "[Epoch 21] Train: ELBO -1.0032e+02 (9s)\n",
      "[Epoch 22] Train: ELBO -1.0016e+02 (9s)\n",
      "[Epoch 23] Train: ELBO -9.9992e+01 (9s)\n",
      "[Epoch 24] Train: ELBO -9.9855e+01 (9s)\n",
      "[Epoch 25] Train: ELBO -9.9728e+01 (9s)\n",
      "[Epoch 26] Train: ELBO -9.9632e+01 (9s)\n",
      "[Epoch 27] Train: ELBO -9.9479e+01 (9s)\n",
      "[Epoch 28] Train: ELBO -9.9354e+01 (9s)\n",
      "[Epoch 29] Train: ELBO -9.9268e+01 (9s)\n",
      "[Epoch 30] Train: ELBO -9.9161e+01 (9s)\n",
      "[Epoch 31] Train: ELBO -9.9060e+01 (9s)\n",
      "[Epoch 32] Train: ELBO -9.8990e+01 (9s)\n",
      "[Epoch 33] Train: ELBO -9.8888e+01 (9s)\n",
      "[Epoch 34] Train: ELBO -9.8773e+01 (9s)\n",
      "[Epoch 35] Train: ELBO -9.8730e+01 (9s)\n",
      "[Epoch 36] Train: ELBO -9.8625e+01 (9s)\n",
      "[Epoch 37] Train: ELBO -9.8565e+01 (10s)\n"
     ]
    }
   ],
   "source": [
    "import time\n",
    "from random import random\n",
    "if not RESTORE:\n",
    "    mask = {}\n",
    "    for e in range(NUM_EPOCHS):\n",
    "        train_start = time.time()\n",
    "        train_elbo = train(train_data, enc, dec, optimizer)\n",
    "        train_end = time.time()\n",
    "        print('[Epoch %d] Train: ELBO %.4e (%ds)' % (e, train_elbo, train_end - train_start))\n",
    "torch.save(enc.state_dict(), WEIGHTS_PATH +'vanilla-vae-enc')\n",
    "torch.save(dec.state_dict(), WEIGHTS_PATH +'vanilla-vae-dec')"
   ]
  },
  {
   "cell_type": "code",
   "execution_count": null,
   "metadata": {},
   "outputs": [],
   "source": []
  }
 ],
 "metadata": {
  "kernelspec": {
   "display_name": "Python 3",
   "language": "python",
   "name": "python3"
  },
  "language_info": {
   "codemirror_mode": {
    "name": "ipython",
    "version": 3
   },
   "file_extension": ".py",
   "mimetype": "text/x-python",
   "name": "python",
   "nbconvert_exporter": "python",
   "pygments_lexer": "ipython3",
   "version": "3.6.7"
  }
 },
 "nbformat": 4,
 "nbformat_minor": 2
}
