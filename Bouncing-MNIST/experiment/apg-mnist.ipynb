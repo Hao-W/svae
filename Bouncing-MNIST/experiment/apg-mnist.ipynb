{
 "cells": [
  {
   "cell_type": "code",
   "execution_count": 1,
   "metadata": {},
   "outputs": [
    {
     "name": "stdout",
     "output_type": "stream",
     "text": [
      "probtorch: 0.0+5a2c637 torch: 1.0.0 cuda: True\n"
     ]
    }
   ],
   "source": [
    "%matplotlib inline\n",
    "%run ../../import_envs.py\n",
    "print('probtorch:', probtorch.__version__, \n",
    "      'torch:', torch.__version__, \n",
    "      'cuda:', torch.cuda.is_available())"
   ]
  },
  {
   "cell_type": "code",
   "execution_count": 2,
   "metadata": {},
   "outputs": [],
   "source": [
    "%run PARAMETERS.py\n",
    "NAME = 'APG'\n",
    "MCMC_STEPS = 5\n",
    "PATH = NAME + '-bmnist-%dsamples' % (SAMPLE_SIZE)\n",
    "CUDA = torch.cuda.is_available()\n",
    "DEVICE = torch.device('cuda:1')"
   ]
  },
  {
   "cell_type": "code",
   "execution_count": 5,
   "metadata": {},
   "outputs": [
    {
     "data": {
      "text/plain": [
       "<matplotlib.image.AxesImage at 0x7f479791d9e8>"
      ]
     },
     "execution_count": 5,
     "metadata": {},
     "output_type": "execute_result"
    },
    {
     "data": {
      "image/png": "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\n",
      "text/plain": [
       "<Figure size 432x288 with 1 Axes>"
      ]
     },
     "metadata": {
      "needs_background": "light"
     },
     "output_type": "display_data"
    }
   ],
   "source": [
    "import matplotlib.pyplot as plt\n",
    "mnist_mean = np.load('../mnist_mean.npy')\n",
    "plt.imshow(mnist_mean)"
   ]
  },
  {
   "cell_type": "code",
   "execution_count": 3,
   "metadata": {},
   "outputs": [],
   "source": [
    "from model_operations import Init_models, Save_models\n",
    "\n",
    "models, optimizer, AT = Init_models(K=K,\n",
    "                                D=D,\n",
    "                                FRAME_PIXELS=FRAME_PIXELS, \n",
    "                                DIGIT_PIXELS=DIGIT_PIXELS, \n",
    "                                HIDDEN_LIST=HIDDEN_LIST, \n",
    "                                Sigma0=Sigma0,\n",
    "                                CUDA=CUDA, \n",
    "                                DEVICE=DEVICE, \n",
    "                                lr=LEARNING_RATE, \n",
    "                                RESTORE=False, \n",
    "                                PATH=PATH)\n",
    "\n",
    "mnist_mean = mnist_mean.cuda().to(DEVICE)"
   ]
  },
  {
   "cell_type": "code",
   "execution_count": null,
   "metadata": {},
<<<<<<< HEAD
   "outputs": [],
=======
   "outputs": [
    {
     "name": "stdout",
     "output_type": "stream",
     "text": [
      "0\n",
      "1\n",
      "2\n",
      "3\n",
      "4\n",
      "5\n",
      "6\n"
     ]
    },
    {
     "ename": "KeyboardInterrupt",
     "evalue": "",
     "output_type": "error",
     "traceback": [
      "\u001b[0;31m---------------------------------------------------------------------------\u001b[0m",
      "\u001b[0;31mKeyboardInterrupt\u001b[0m                         Traceback (most recent call last)",
      "\u001b[0;32m<ipython-input-4-b86601994947>\u001b[0m in \u001b[0;36m<module>\u001b[0;34m()\u001b[0m\n\u001b[1;32m     17\u001b[0m       \u001b[0mTrain_Params\u001b[0m\u001b[0;34m=\u001b[0m\u001b[0mTrain_Params\u001b[0m\u001b[0;34m,\u001b[0m\u001b[0;34m\u001b[0m\u001b[0;34m\u001b[0m\u001b[0m\n\u001b[1;32m     18\u001b[0m       \u001b[0mDEVICE\u001b[0m\u001b[0;34m=\u001b[0m\u001b[0mDEVICE\u001b[0m\u001b[0;34m,\u001b[0m\u001b[0;34m\u001b[0m\u001b[0;34m\u001b[0m\u001b[0m\n\u001b[0;32m---> 19\u001b[0;31m       PATH=PATH)\n\u001b[0m",
      "\u001b[0;32m~/Research/amortized/Bouncing-MNIST/training.py\u001b[0m in \u001b[0;36mtrain\u001b[0;34m(APG, optimizer, data_path, Train_Params, DEVICE, PATH)\u001b[0m\n\u001b[1;32m     21\u001b[0m                 \u001b[0mb_ind\u001b[0m \u001b[0;34m=\u001b[0m \u001b[0mindices\u001b[0m\u001b[0;34m[\u001b[0m\u001b[0mstep\u001b[0m\u001b[0;34m*\u001b[0m\u001b[0mB\u001b[0m \u001b[0;34m:\u001b[0m \u001b[0;34m(\u001b[0m\u001b[0mstep\u001b[0m\u001b[0;34m+\u001b[0m\u001b[0;36m1\u001b[0m\u001b[0;34m)\u001b[0m\u001b[0;34m*\u001b[0m\u001b[0mB\u001b[0m\u001b[0;34m]\u001b[0m\u001b[0;34m\u001b[0m\u001b[0;34m\u001b[0m\u001b[0m\n\u001b[1;32m     22\u001b[0m                 \u001b[0mframes\u001b[0m \u001b[0;34m=\u001b[0m \u001b[0mdata\u001b[0m\u001b[0;34m[\u001b[0m\u001b[0mb_ind\u001b[0m\u001b[0;34m]\u001b[0m\u001b[0;34m.\u001b[0m\u001b[0mrepeat\u001b[0m\u001b[0;34m(\u001b[0m\u001b[0mS\u001b[0m\u001b[0;34m,\u001b[0m \u001b[0;36m1\u001b[0m\u001b[0;34m,\u001b[0m \u001b[0;36m1\u001b[0m\u001b[0;34m,\u001b[0m \u001b[0;36m1\u001b[0m\u001b[0;34m,\u001b[0m \u001b[0;36m1\u001b[0m\u001b[0;34m)\u001b[0m\u001b[0;34m.\u001b[0m\u001b[0mcuda\u001b[0m\u001b[0;34m(\u001b[0m\u001b[0;34m)\u001b[0m\u001b[0;34m.\u001b[0m\u001b[0mto\u001b[0m\u001b[0;34m(\u001b[0m\u001b[0mDEVICE\u001b[0m\u001b[0;34m)\u001b[0m \u001b[0;31m## S * B * T * 64 * 64\u001b[0m\u001b[0;34m\u001b[0m\u001b[0;34m\u001b[0m\u001b[0m\n\u001b[0;32m---> 23\u001b[0;31m                 \u001b[0mmetrics\u001b[0m \u001b[0;34m=\u001b[0m \u001b[0mAPG\u001b[0m\u001b[0;34m.\u001b[0m\u001b[0mSweeps\u001b[0m\u001b[0;34m(\u001b[0m\u001b[0mframes\u001b[0m\u001b[0;34m)\u001b[0m\u001b[0;34m\u001b[0m\u001b[0;34m\u001b[0m\u001b[0m\n\u001b[0m\u001b[1;32m     24\u001b[0m                 \u001b[0mphi_loss\u001b[0m \u001b[0;34m=\u001b[0m \u001b[0mtorch\u001b[0m\u001b[0;34m.\u001b[0m\u001b[0mcat\u001b[0m\u001b[0;34m(\u001b[0m\u001b[0mmetrics\u001b[0m\u001b[0;34m[\u001b[0m\u001b[0;34m'phi_loss'\u001b[0m\u001b[0;34m]\u001b[0m\u001b[0;34m,\u001b[0m \u001b[0;36m0\u001b[0m\u001b[0;34m)\u001b[0m\u001b[0;34m.\u001b[0m\u001b[0msum\u001b[0m\u001b[0;34m(\u001b[0m\u001b[0;34m)\u001b[0m\u001b[0;34m\u001b[0m\u001b[0;34m\u001b[0m\u001b[0m\n\u001b[1;32m     25\u001b[0m                 \u001b[0mtheta_loss\u001b[0m \u001b[0;34m=\u001b[0m \u001b[0;34m(\u001b[0m\u001b[0mtorch\u001b[0m\u001b[0;34m.\u001b[0m\u001b[0mcat\u001b[0m\u001b[0;34m(\u001b[0m\u001b[0mmetrics\u001b[0m\u001b[0;34m[\u001b[0m\u001b[0;34m'theta_loss'\u001b[0m\u001b[0;34m]\u001b[0m\u001b[0;34m,\u001b[0m \u001b[0;36m0\u001b[0m\u001b[0;34m)\u001b[0m\u001b[0;34m)\u001b[0m\u001b[0;34m.\u001b[0m\u001b[0msum\u001b[0m\u001b[0;34m(\u001b[0m\u001b[0;34m)\u001b[0m\u001b[0;34m\u001b[0m\u001b[0;34m\u001b[0m\u001b[0m\n",
      "\u001b[0;32m~/Research/amortized/Bouncing-MNIST/objectives/apg.py\u001b[0m in \u001b[0;36mSweeps\u001b[0;34m(self, frames)\u001b[0m\n\u001b[1;32m     51\u001b[0m         \u001b[0;32mfor\u001b[0m \u001b[0mm\u001b[0m \u001b[0;32min\u001b[0m \u001b[0mrange\u001b[0m\u001b[0;34m(\u001b[0m\u001b[0mself\u001b[0m\u001b[0;34m.\u001b[0m\u001b[0mmcmc_steps\u001b[0m\u001b[0;34m)\u001b[0m\u001b[0;34m:\u001b[0m\u001b[0;34m\u001b[0m\u001b[0;34m\u001b[0m\u001b[0m\n\u001b[1;32m     52\u001b[0m             \u001b[0mz_what\u001b[0m \u001b[0;34m=\u001b[0m \u001b[0mself\u001b[0m\u001b[0;34m.\u001b[0m\u001b[0mResample_what\u001b[0m\u001b[0;34m(\u001b[0m\u001b[0mvars\u001b[0m\u001b[0;34m[\u001b[0m\u001b[0;34m'z_what'\u001b[0m\u001b[0;34m]\u001b[0m\u001b[0;34m,\u001b[0m \u001b[0mw_what\u001b[0m\u001b[0;34m)\u001b[0m\u001b[0;34m\u001b[0m\u001b[0;34m\u001b[0m\u001b[0m\n\u001b[0;32m---> 53\u001b[0;31m             \u001b[0mphi_loss_where\u001b[0m\u001b[0;34m,\u001b[0m \u001b[0mtheta_loss_where\u001b[0m\u001b[0;34m,\u001b[0m \u001b[0mw_where\u001b[0m\u001b[0;34m,\u001b[0m \u001b[0mvars_where\u001b[0m \u001b[0;34m=\u001b[0m \u001b[0mself\u001b[0m\u001b[0;34m.\u001b[0m\u001b[0mAPG_where\u001b[0m\u001b[0;34m(\u001b[0m\u001b[0mframes\u001b[0m\u001b[0;34m,\u001b[0m \u001b[0mz_what\u001b[0m\u001b[0;34m=\u001b[0m\u001b[0mz_what\u001b[0m\u001b[0;34m,\u001b[0m \u001b[0mz_where_old\u001b[0m\u001b[0;34m=\u001b[0m\u001b[0mvars\u001b[0m\u001b[0;34m[\u001b[0m\u001b[0;34m'z_where'\u001b[0m\u001b[0;34m]\u001b[0m\u001b[0;34m,\u001b[0m \u001b[0mtraining\u001b[0m\u001b[0;34m=\u001b[0m\u001b[0mself\u001b[0m\u001b[0;34m.\u001b[0m\u001b[0mtraining\u001b[0m\u001b[0;34m)\u001b[0m\u001b[0;34m\u001b[0m\u001b[0;34m\u001b[0m\u001b[0m\n\u001b[0m\u001b[1;32m     54\u001b[0m             \u001b[0mphi_loss_what\u001b[0m\u001b[0;34m,\u001b[0m \u001b[0mtheta_loss_what\u001b[0m\u001b[0;34m,\u001b[0m \u001b[0mw_what\u001b[0m\u001b[0;34m,\u001b[0m \u001b[0mvars\u001b[0m \u001b[0;34m=\u001b[0m \u001b[0mself\u001b[0m\u001b[0;34m.\u001b[0m\u001b[0mAPG_what\u001b[0m\u001b[0;34m(\u001b[0m\u001b[0mframes\u001b[0m\u001b[0;34m,\u001b[0m \u001b[0mz_where\u001b[0m\u001b[0;34m=\u001b[0m\u001b[0mvars_where\u001b[0m\u001b[0;34m[\u001b[0m\u001b[0;34m'z_where'\u001b[0m\u001b[0;34m]\u001b[0m\u001b[0;34m,\u001b[0m \u001b[0mz_what_old\u001b[0m\u001b[0;34m=\u001b[0m\u001b[0mz_what\u001b[0m\u001b[0;34m,\u001b[0m \u001b[0mtraining\u001b[0m\u001b[0;34m=\u001b[0m\u001b[0mself\u001b[0m\u001b[0;34m.\u001b[0m\u001b[0mtraining\u001b[0m\u001b[0;34m)\u001b[0m\u001b[0;34m\u001b[0m\u001b[0;34m\u001b[0m\u001b[0m\n\u001b[1;32m     55\u001b[0m             \u001b[0mmetrics\u001b[0m\u001b[0;34m[\u001b[0m\u001b[0;34m'phi_loss'\u001b[0m\u001b[0;34m]\u001b[0m\u001b[0;34m.\u001b[0m\u001b[0mappend\u001b[0m\u001b[0;34m(\u001b[0m\u001b[0;34m(\u001b[0m\u001b[0mphi_loss_what\u001b[0m \u001b[0;34m+\u001b[0m \u001b[0mphi_loss_where\u001b[0m\u001b[0;34m)\u001b[0m\u001b[0;34m.\u001b[0m\u001b[0munsqueeze\u001b[0m\u001b[0;34m(\u001b[0m\u001b[0;36m0\u001b[0m\u001b[0;34m)\u001b[0m\u001b[0;34m)\u001b[0m\u001b[0;34m\u001b[0m\u001b[0;34m\u001b[0m\u001b[0m\n",
      "\u001b[0;32m~/Research/amortized/Bouncing-MNIST/objectives/apg.py\u001b[0m in \u001b[0;36mAPG_where\u001b[0;34m(self, frames, z_what, z_where_old, training)\u001b[0m\n\u001b[1;32m    159\u001b[0m                 \u001b[0mlog_w_t\u001b[0m\u001b[0;34m,\u001b[0m \u001b[0mlog_q_t\u001b[0m\u001b[0;34m,\u001b[0m \u001b[0mz_where_t\u001b[0m\u001b[0;34m,\u001b[0m \u001b[0mE_where_t\u001b[0m \u001b[0;34m=\u001b[0m \u001b[0mself\u001b[0m\u001b[0;34m.\u001b[0m\u001b[0mWhere_apg_step\u001b[0m\u001b[0;34m(\u001b[0m\u001b[0mframe_t\u001b[0m\u001b[0;34m=\u001b[0m\u001b[0mframe_t\u001b[0m\u001b[0;34m,\u001b[0m \u001b[0mdigit\u001b[0m\u001b[0;34m=\u001b[0m\u001b[0mdigit\u001b[0m\u001b[0;34m,\u001b[0m \u001b[0mz_where_old_t\u001b[0m\u001b[0;34m=\u001b[0m\u001b[0mz_where_old\u001b[0m\u001b[0;34m[\u001b[0m\u001b[0;34m:\u001b[0m\u001b[0;34m,\u001b[0m\u001b[0;34m:\u001b[0m\u001b[0;34m,\u001b[0m\u001b[0mt\u001b[0m\u001b[0;34m,\u001b[0m \u001b[0;34m:\u001b[0m\u001b[0;34m,\u001b[0m \u001b[0;34m:\u001b[0m\u001b[0;34m]\u001b[0m\u001b[0;34m,\u001b[0m \u001b[0mz_where_old_t_1\u001b[0m\u001b[0;34m=\u001b[0m\u001b[0;32mNone\u001b[0m\u001b[0;34m,\u001b[0m \u001b[0mz_where_t_1\u001b[0m\u001b[0;34m=\u001b[0m\u001b[0;32mNone\u001b[0m\u001b[0;34m)\u001b[0m\u001b[0;34m\u001b[0m\u001b[0;34m\u001b[0m\u001b[0m\n\u001b[1;32m    160\u001b[0m             \u001b[0;32melse\u001b[0m\u001b[0;34m:\u001b[0m\u001b[0;34m\u001b[0m\u001b[0;34m\u001b[0m\u001b[0m\n\u001b[0;32m--> 161\u001b[0;31m                 \u001b[0mlog_w_t\u001b[0m\u001b[0;34m,\u001b[0m \u001b[0mlog_q_t\u001b[0m\u001b[0;34m,\u001b[0m \u001b[0mz_where_t\u001b[0m\u001b[0;34m,\u001b[0m \u001b[0mE_where_t\u001b[0m \u001b[0;34m=\u001b[0m \u001b[0mself\u001b[0m\u001b[0;34m.\u001b[0m\u001b[0mWhere_apg_step\u001b[0m\u001b[0;34m(\u001b[0m\u001b[0mframe_t\u001b[0m\u001b[0;34m=\u001b[0m\u001b[0mframe_t\u001b[0m\u001b[0;34m,\u001b[0m \u001b[0mdigit\u001b[0m\u001b[0;34m=\u001b[0m\u001b[0mdigit\u001b[0m\u001b[0;34m,\u001b[0m \u001b[0mz_where_old_t\u001b[0m\u001b[0;34m=\u001b[0m\u001b[0mz_where_old\u001b[0m\u001b[0;34m[\u001b[0m\u001b[0;34m:\u001b[0m\u001b[0;34m,\u001b[0m\u001b[0;34m:\u001b[0m\u001b[0;34m,\u001b[0m\u001b[0mt\u001b[0m\u001b[0;34m,\u001b[0m \u001b[0;34m:\u001b[0m\u001b[0;34m,\u001b[0m \u001b[0;34m:\u001b[0m\u001b[0;34m]\u001b[0m\u001b[0;34m,\u001b[0m  \u001b[0mz_where_old_t_1\u001b[0m\u001b[0;34m=\u001b[0m\u001b[0mz_where_old\u001b[0m\u001b[0;34m[\u001b[0m\u001b[0;34m:\u001b[0m\u001b[0;34m,\u001b[0m\u001b[0;34m:\u001b[0m\u001b[0;34m,\u001b[0m\u001b[0mt\u001b[0m\u001b[0;34m-\u001b[0m\u001b[0;36m1\u001b[0m\u001b[0;34m,\u001b[0m \u001b[0;34m:\u001b[0m\u001b[0;34m,\u001b[0m\u001b[0;34m:\u001b[0m\u001b[0;34m]\u001b[0m\u001b[0;34m,\u001b[0m \u001b[0mz_where_t_1\u001b[0m\u001b[0;34m=\u001b[0m\u001b[0mz_where_t\u001b[0m\u001b[0;34m)\u001b[0m\u001b[0;34m\u001b[0m\u001b[0;34m\u001b[0m\u001b[0m\n\u001b[0m\u001b[1;32m    162\u001b[0m \u001b[0;34m\u001b[0m\u001b[0m\n\u001b[1;32m    163\u001b[0m             \u001b[0mrecon_t\u001b[0m\u001b[0;34m,\u001b[0m \u001b[0mll_f_t\u001b[0m \u001b[0;34m=\u001b[0m \u001b[0mself\u001b[0m\u001b[0;34m.\u001b[0m\u001b[0mdec_digit\u001b[0m\u001b[0;34m(\u001b[0m\u001b[0mframe_t\u001b[0m\u001b[0;34m,\u001b[0m \u001b[0mz_what\u001b[0m\u001b[0;34m,\u001b[0m \u001b[0mz_where\u001b[0m\u001b[0;34m=\u001b[0m\u001b[0mz_where_t\u001b[0m\u001b[0;34m)\u001b[0m\u001b[0;34m\u001b[0m\u001b[0;34m\u001b[0m\u001b[0m\n",
      "\u001b[0;32m~/Research/amortized/Bouncing-MNIST/objectives/apg.py\u001b[0m in \u001b[0;36mWhere_apg_step\u001b[0;34m(self, frame_t, digit, z_where_old_t, z_where_old_t_1, z_where_t_1)\u001b[0m\n\u001b[1;32m    126\u001b[0m             \u001b[0mCP\u001b[0m \u001b[0;34m=\u001b[0m \u001b[0mconved_k\u001b[0m\u001b[0;34m.\u001b[0m\u001b[0mshape\u001b[0m\u001b[0;34m[\u001b[0m\u001b[0;34m-\u001b[0m\u001b[0;36m1\u001b[0m\u001b[0;34m]\u001b[0m \u001b[0;31m# convolved output pixels ## T * S * B * CP * CP\u001b[0m\u001b[0;34m\u001b[0m\u001b[0;34m\u001b[0m\u001b[0m\n\u001b[1;32m    127\u001b[0m             \u001b[0mconved_k\u001b[0m \u001b[0;34m=\u001b[0m \u001b[0mF\u001b[0m\u001b[0;34m.\u001b[0m\u001b[0msoftmax\u001b[0m\u001b[0;34m(\u001b[0m\u001b[0mconved_k\u001b[0m\u001b[0;34m.\u001b[0m\u001b[0msqueeze\u001b[0m\u001b[0;34m(\u001b[0m\u001b[0;36m0\u001b[0m\u001b[0;34m)\u001b[0m\u001b[0;34m.\u001b[0m\u001b[0mview\u001b[0m\u001b[0;34m(\u001b[0m\u001b[0mself\u001b[0m\u001b[0;34m.\u001b[0m\u001b[0mS\u001b[0m\u001b[0;34m,\u001b[0m \u001b[0mself\u001b[0m\u001b[0;34m.\u001b[0m\u001b[0mB\u001b[0m\u001b[0;34m,\u001b[0m \u001b[0mCP\u001b[0m\u001b[0;34m,\u001b[0m \u001b[0mCP\u001b[0m\u001b[0;34m)\u001b[0m\u001b[0;34m.\u001b[0m\u001b[0mview\u001b[0m\u001b[0;34m(\u001b[0m\u001b[0mself\u001b[0m\u001b[0;34m.\u001b[0m\u001b[0mS\u001b[0m\u001b[0;34m,\u001b[0m \u001b[0mself\u001b[0m\u001b[0;34m.\u001b[0m\u001b[0mB\u001b[0m\u001b[0;34m,\u001b[0m \u001b[0mCP\u001b[0m\u001b[0;34m*\u001b[0m\u001b[0mCP\u001b[0m\u001b[0;34m)\u001b[0m\u001b[0;34m,\u001b[0m \u001b[0;34m-\u001b[0m\u001b[0;36m1\u001b[0m\u001b[0;34m)\u001b[0m \u001b[0;31m## S * B * 1639\u001b[0m\u001b[0;34m\u001b[0m\u001b[0;34m\u001b[0m\u001b[0m\n\u001b[0;32m--> 128\u001b[0;31m             \u001b[0mq_k\u001b[0m \u001b[0;34m=\u001b[0m \u001b[0mself\u001b[0m\u001b[0;34m.\u001b[0m\u001b[0menc_coor\u001b[0m\u001b[0;34m.\u001b[0m\u001b[0mforward\u001b[0m\u001b[0;34m(\u001b[0m\u001b[0mconved_k\u001b[0m\u001b[0;34m)\u001b[0m\u001b[0;34m\u001b[0m\u001b[0;34m\u001b[0m\u001b[0m\n\u001b[0m\u001b[1;32m    129\u001b[0m             \u001b[0mz_where_k\u001b[0m \u001b[0;34m=\u001b[0m \u001b[0mq_k\u001b[0m\u001b[0;34m[\u001b[0m\u001b[0;34m'z_where'\u001b[0m\u001b[0;34m]\u001b[0m\u001b[0;34m.\u001b[0m\u001b[0mvalue\u001b[0m\u001b[0;34m\u001b[0m\u001b[0;34m\u001b[0m\u001b[0m\n\u001b[1;32m    130\u001b[0m             \u001b[0mvars\u001b[0m\u001b[0;34m[\u001b[0m\u001b[0;34m'z_where_t'\u001b[0m\u001b[0;34m]\u001b[0m\u001b[0;34m.\u001b[0m\u001b[0mappend\u001b[0m\u001b[0;34m(\u001b[0m\u001b[0mz_where_k\u001b[0m\u001b[0;34m.\u001b[0m\u001b[0munsqueeze\u001b[0m\u001b[0;34m(\u001b[0m\u001b[0;36m2\u001b[0m\u001b[0;34m)\u001b[0m\u001b[0;34m)\u001b[0m \u001b[0;31m## expand to S B 1 2\u001b[0m\u001b[0;34m\u001b[0m\u001b[0;34m\u001b[0m\u001b[0m\n",
      "\u001b[0;32m~/Research/amortized/Bouncing-MNIST/models/enc_coor.py\u001b[0m in \u001b[0;36mforward\u001b[0;34m(self, conved, sampled, z_where_old)\u001b[0m\n\u001b[1;32m     38\u001b[0m         \u001b[0;32mif\u001b[0m \u001b[0msampled\u001b[0m\u001b[0;34m:\u001b[0m\u001b[0;34m\u001b[0m\u001b[0;34m\u001b[0m\u001b[0m\n\u001b[1;32m     39\u001b[0m             \u001b[0mz_where\u001b[0m \u001b[0;34m=\u001b[0m \u001b[0mNormal\u001b[0m\u001b[0;34m(\u001b[0m\u001b[0mq_mean\u001b[0m\u001b[0;34m,\u001b[0m \u001b[0mq_std\u001b[0m\u001b[0;34m)\u001b[0m\u001b[0;34m.\u001b[0m\u001b[0msample\u001b[0m\u001b[0;34m(\u001b[0m\u001b[0;34m)\u001b[0m\u001b[0;34m\u001b[0m\u001b[0;34m\u001b[0m\u001b[0m\n\u001b[0;32m---> 40\u001b[0;31m             \u001b[0mq\u001b[0m\u001b[0;34m.\u001b[0m\u001b[0mnormal\u001b[0m\u001b[0;34m(\u001b[0m\u001b[0mloc\u001b[0m\u001b[0;34m=\u001b[0m\u001b[0mq_mean\u001b[0m\u001b[0;34m,\u001b[0m \u001b[0mscale\u001b[0m\u001b[0;34m=\u001b[0m\u001b[0mq_std\u001b[0m\u001b[0;34m,\u001b[0m \u001b[0mvalue\u001b[0m\u001b[0;34m=\u001b[0m\u001b[0mz_where\u001b[0m\u001b[0;34m,\u001b[0m \u001b[0mname\u001b[0m\u001b[0;34m=\u001b[0m\u001b[0;34m'z_where'\u001b[0m\u001b[0;34m)\u001b[0m\u001b[0;34m\u001b[0m\u001b[0;34m\u001b[0m\u001b[0m\n\u001b[0m\u001b[1;32m     41\u001b[0m         \u001b[0;32melse\u001b[0m\u001b[0;34m:\u001b[0m\u001b[0;34m\u001b[0m\u001b[0;34m\u001b[0m\u001b[0m\n\u001b[1;32m     42\u001b[0m             \u001b[0mq\u001b[0m\u001b[0;34m.\u001b[0m\u001b[0mnormal\u001b[0m\u001b[0;34m(\u001b[0m\u001b[0mloc\u001b[0m\u001b[0;34m=\u001b[0m\u001b[0mq_mean\u001b[0m\u001b[0;34m,\u001b[0m \u001b[0mscale\u001b[0m\u001b[0;34m=\u001b[0m\u001b[0mq_std\u001b[0m\u001b[0;34m,\u001b[0m \u001b[0mvalue\u001b[0m\u001b[0;34m=\u001b[0m\u001b[0mz_where_old\u001b[0m\u001b[0;34m,\u001b[0m \u001b[0mname\u001b[0m\u001b[0;34m=\u001b[0m\u001b[0;34m'z_where'\u001b[0m\u001b[0;34m)\u001b[0m\u001b[0;34m\u001b[0m\u001b[0;34m\u001b[0m\u001b[0m\n",
      "\u001b[0;32m<string>\u001b[0m in \u001b[0;36mf\u001b[0;34m(self, loc, scale, validate_args, name, value)\u001b[0m\n",
      "\u001b[0;32m~/Research/probtorch/probtorch/stochastic.py\u001b[0m in \u001b[0;36mvariable\u001b[0;34m(self, Dist, *args, **kwargs)\u001b[0m\n\u001b[1;32m    290\u001b[0m             \u001b[0mself\u001b[0m\u001b[0;34m.\u001b[0m\u001b[0mappend\u001b[0m\u001b[0;34m(\u001b[0m\u001b[0mnode\u001b[0m\u001b[0;34m)\u001b[0m\u001b[0;34m\u001b[0m\u001b[0;34m\u001b[0m\u001b[0m\n\u001b[1;32m    291\u001b[0m         \u001b[0;32melse\u001b[0m\u001b[0;34m:\u001b[0m\u001b[0;34m\u001b[0m\u001b[0;34m\u001b[0m\u001b[0m\n\u001b[0;32m--> 292\u001b[0;31m             \u001b[0mself\u001b[0m\u001b[0;34m[\u001b[0m\u001b[0mname\u001b[0m\u001b[0;34m]\u001b[0m \u001b[0;34m=\u001b[0m \u001b[0mnode\u001b[0m\u001b[0;34m\u001b[0m\u001b[0;34m\u001b[0m\u001b[0m\n\u001b[0m\u001b[1;32m    293\u001b[0m         \u001b[0;32mreturn\u001b[0m \u001b[0mvalue\u001b[0m\u001b[0;34m\u001b[0m\u001b[0;34m\u001b[0m\u001b[0m\n\u001b[1;32m    294\u001b[0m \u001b[0;34m\u001b[0m\u001b[0m\n",
      "\u001b[0;32m~/Research/probtorch/probtorch/stochastic.py\u001b[0m in \u001b[0;36m__setitem__\u001b[0;34m(self, name, node)\u001b[0m\n\u001b[1;32m    183\u001b[0m             raise ValueError(\"Trace already contains a node with \"\n\u001b[1;32m    184\u001b[0m                              \"name: \" + name)\n\u001b[0;32m--> 185\u001b[0;31m         \u001b[0;32mif\u001b[0m \u001b[0;34m(\u001b[0m\u001b[0mnode\u001b[0m\u001b[0;34m.\u001b[0m\u001b[0mlog_prob\u001b[0m \u001b[0;34m!=\u001b[0m \u001b[0mnode\u001b[0m\u001b[0;34m.\u001b[0m\u001b[0mlog_prob\u001b[0m\u001b[0;34m)\u001b[0m\u001b[0;34m.\u001b[0m\u001b[0msum\u001b[0m\u001b[0;34m(\u001b[0m\u001b[0;34m)\u001b[0m \u001b[0;34m>\u001b[0m \u001b[0;36m0\u001b[0m\u001b[0;34m:\u001b[0m\u001b[0;34m\u001b[0m\u001b[0;34m\u001b[0m\u001b[0m\n\u001b[0m\u001b[1;32m    186\u001b[0m             raise ValueError(\"NaN log prob encountered in node\"\n\u001b[1;32m    187\u001b[0m                              \"with name: \" + name)\n",
      "\u001b[0;31mKeyboardInterrupt\u001b[0m: "
     ]
    }
   ],
>>>>>>> e14d8109a46e36eb9f4a580398c88f39d49149cb
   "source": [
    "from apg import APG\n",
    "apg = APG(models=models, \n",
    "          AT=AT, \n",
    "          K=K, \n",
    "          D=D, \n",
    "          T=T, \n",
    "          B=BATCH_SIZE, \n",
    "          S=SAMPLE_SIZE, \n",
    "          mcmc_steps=MCMC_STEPS, \n",
    "          mnist_mean=mnist_mean, \n",
    "          training=True)\n",
    "\n",
    "\n",
    "train(APG=apg, \n",
    "      optimizer=optimizer, \n",
    "      data_path=data_path, \n",
    "      Train_Params=Train_Params,\n",
    "      DEVICE=DEVICE,\n",
    "      PATH=PATH)"
   ]
  },
  {
   "cell_type": "code",
   "execution_count": null,
   "metadata": {},
   "outputs": [],
   "source": [
    "%debug"
   ]
  },
  {
   "cell_type": "code",
   "execution_count": null,
   "metadata": {},
   "outputs": [],
   "source": [
    "Save_models(models, PATH=PATH)"
   ]
  },
  {
   "cell_type": "code",
   "execution_count": null,
   "metadata": {},
   "outputs": [],
   "source": []
  }
 ],
 "metadata": {
  "kernelspec": {
   "display_name": "Python 3",
   "language": "python",
   "name": "python3"
  },
  "language_info": {
   "codemirror_mode": {
    "name": "ipython",
    "version": 3
   },
   "file_extension": ".py",
   "mimetype": "text/x-python",
   "name": "python",
   "nbconvert_exporter": "python",
   "pygments_lexer": "ipython3",
   "version": "3.6.7"
  }
 },
 "nbformat": 4,
 "nbformat_minor": 2
}
