{
 "cells": [
  {
   "cell_type": "code",
   "execution_count": 1,
   "metadata": {},
   "outputs": [
    {
     "name": "stdout",
     "output_type": "stream",
     "text": [
      "probtorch: 0.0+5a2c637 torch: 1.0.0 cuda: True\n"
     ]
    }
   ],
   "source": [
    "%matplotlib inline\n",
    "%run ../../import_envs.py\n",
    "print('probtorch:', probtorch.__version__, \n",
    "      'torch:', torch.__version__, \n",
    "      'cuda:', torch.cuda.is_available())"
   ]
  },
  {
   "cell_type": "code",
   "execution_count": 2,
   "metadata": {},
   "outputs": [],
   "source": [
    "%run PARAMETERS.py\n",
    "NAME = 'APG'\n",
    "MCMC_STEPS = 5\n",
    "PATH = NAME + '-bmnist-%dsamples' % (SAMPLE_SIZE)\n",
    "CUDA = torch.cuda.is_available()\n",
    "DEVICE = torch.device('cuda:1')"
   ]
  },
  {
   "cell_type": "code",
   "execution_count": 3,
   "metadata": {},
   "outputs": [],
   "source": [
    "from model_operations import Init_models, Save_models\n",
    "models, optimizer = Init_models(FRAME_PIXELS=FRAME_PIXELS, \n",
    "                                DIGIT_PIXELS=DIGIT_PIXELS, \n",
    "                                HIDDEN_LIST=HIDDEN_LIST, \n",
    "                                CUDA=CUDA, \n",
    "                                device=DEVICE, \n",
    "                                lr=LEARNING_RATE, \n",
    "                                RESTORE=False, \n",
    "                                PATH=None)\n",
    "\n",
    "(enc_coor, enc_digit, dec_digit) = models\n",
    "\n",
    "from crop import *\n",
    "crop = Crop(digit_size=28, \n",
    "            frame_size=64, \n",
    "            CUDA=CUDA, \n",
    "            device=DEVICE)"
   ]
  },
  {
   "cell_type": "code",
   "execution_count": null,
   "metadata": {},
   "outputs": [],
   "source": [
    "from apg import APG\n",
    "train(models=models, \n",
    "      objective=APG, \n",
    "      optimizer=optimizer, \n",
    "      data_path=data_path, \n",
    "      tjs=tjs,\n",
    "      mcmc_steps=MCMC_STEPS,\n",
    "      mnist_mean=mnist_mean,\n",
    "      crop=crop,\n",
    "      Train_Params=Train_Params,\n",
    "      CUDA=CUDA,\n",
    "      device=DEVICE,\n",
    "      path=PATH)"
   ]
  },
  {
   "cell_type": "code",
   "execution_count": null,
   "metadata": {},
   "outputs": [],
   "source": []
  }
 ],
 "metadata": {
  "kernelspec": {
   "display_name": "Python 3",
   "language": "python",
   "name": "python3"
  },
  "language_info": {
   "codemirror_mode": {
    "name": "ipython",
    "version": 3
   },
   "file_extension": ".py",
   "mimetype": "text/x-python",
   "name": "python",
   "nbconvert_exporter": "python",
   "pygments_lexer": "ipython3",
   "version": "3.6.7"
  }
 },
 "nbformat": 4,
 "nbformat_minor": 2
}
