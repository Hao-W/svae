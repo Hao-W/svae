{
 "cells": [
  {
   "cell_type": "code",
   "execution_count": 1,
   "metadata": {},
   "outputs": [
    {
     "name": "stdout",
     "output_type": "stream",
     "text": [
      "probtorch: 0.0+5a2c637 torch: 1.0.0 cuda: True\n"
     ]
    }
   ],
   "source": [
    "%matplotlib inline\n",
    "%run ../../import_envs.py\n",
    "print('probtorch:', probtorch.__version__, \n",
    "      'torch:', torch.__version__, \n",
    "      'cuda:', torch.cuda.is_available())"
   ]
  },
  {
   "cell_type": "code",
   "execution_count": 2,
   "metadata": {},
   "outputs": [],
   "source": [
    "%run PARAMETERS.py\n",
    "NAME = 'APG'\n",
    "MCMC_STEPS = 5\n",
    "PATH = NAME + '-bmnist-%dsamples' % (SAMPLE_SIZE)\n",
    "CUDA = torch.cuda.is_available()\n",
    "DEVICE = torch.device('cuda:1')"
   ]
  },
  {
   "cell_type": "code",
   "execution_count": 4,
   "metadata": {},
   "outputs": [],
   "source": [
    "from model_operations import Init_models, Save_models\n",
    "from crop import *\n",
    "\n",
    "models, optimizer = Init_models(K=K,\n",
    "                                D=D,\n",
    "                                FRAME_PIXELS=FRAME_PIXELS, \n",
    "                                DIGIT_PIXELS=DIGIT_PIXELS, \n",
    "                                HIDDEN_LIST=HIDDEN_LIST, \n",
    "                                Sigma0=Sigma0,\n",
    "                                CUDA=CUDA, \n",
    "                                device=DEVICE, \n",
    "                                lr=LEARNING_RATE, \n",
    "                                RESTORE=False, \n",
    "                                PATH=PATH)\n",
    "crop = Crop(digit_size=28, \n",
    "            frame_size=64, \n",
    "            CUDA=CUDA, \n",
    "            device=DEVICE)"
   ]
  },
  {
   "cell_type": "code",
   "execution_count": null,
   "metadata": {},
   "outputs": [
    {
     "name": "stdout",
     "output_type": "stream",
     "text": [
      "Completed  in (132s),  phi_loss: -62.281,  theta_loss: 19000.575,  ess: 1.045\n",
      "Completed  in (134s),  phi_loss: -65.343,  theta_loss: 18958.704,  ess: 1.046\n",
      "Completed  in (132s),  phi_loss: -69.073,  theta_loss: 18961.124,  ess: 1.050\n",
      "Completed  in (132s),  phi_loss: -66.556,  theta_loss: 19009.732,  ess: 1.047\n",
      "Completed  in (133s),  phi_loss: -69.117,  theta_loss: 18773.351,  ess: 1.049\n",
      "Completed  in (133s),  phi_loss: -69.822,  theta_loss: 18701.833,  ess: 1.046\n",
      "Completed  in (132s),  phi_loss: -68.981,  theta_loss: 18770.548,  ess: 1.046\n",
      "Completed  in (132s),  phi_loss: -70.363,  theta_loss: 18825.449,  ess: 1.046\n",
      "Completed  in (133s),  phi_loss: -70.890,  theta_loss: 18891.125,  ess: 1.049\n",
      "Completed  in (133s),  phi_loss: -69.961,  theta_loss: 18832.224,  ess: 1.047\n"
     ]
    }
   ],
   "source": [
    "from apg import APG\n",
    "train(models=models, \n",
    "      objective=APG, \n",
    "      optimizer=optimizer, \n",
    "      data_path=data_path, \n",
    "      mcmc_steps=MCMC_STEPS,\n",
    "      mnist_mean=mnist_mean,\n",
    "      crop=crop,\n",
    "      Train_Params=Train_Params,\n",
    "      CUDA=CUDA,\n",
    "      device=DEVICE,\n",
    "      path=PATH)"
   ]
  },
  {
   "cell_type": "code",
   "execution_count": null,
   "metadata": {},
   "outputs": [],
   "source": [
    "Save_models(models, PATH=PATH)"
   ]
  },
  {
   "cell_type": "code",
   "execution_count": null,
   "metadata": {},
   "outputs": [],
   "source": []
  }
 ],
 "metadata": {
  "kernelspec": {
   "display_name": "Python 3",
   "language": "python",
   "name": "python3"
  },
  "language_info": {
   "codemirror_mode": {
    "name": "ipython",
    "version": 3
   },
   "file_extension": ".py",
   "mimetype": "text/x-python",
   "name": "python",
   "nbconvert_exporter": "python",
   "pygments_lexer": "ipython3",
   "version": "3.6.7"
  }
 },
 "nbformat": 4,
 "nbformat_minor": 2
}
