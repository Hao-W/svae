{
 "cells": [
  {
   "cell_type": "code",
   "execution_count": null,
   "metadata": {},
   "outputs": [],
   "source": [
    "%matplotlib inline\n",
    "%run ../../import_envs.py\n",
    "print('probtorch:', probtorch.__version__, \n",
    "      'torch:', torch.__version__, \n",
    "      'cuda:', torch.cuda.is_available())"
   ]
  },
  {
   "cell_type": "code",
   "execution_count": null,
   "metadata": {},
   "outputs": [],
   "source": [
    "%run PARAMETERS.py\n",
    "NAME = 'APG'\n",
    "APG_STEPS = 5 \n",
    "PATH = NAME + '-bmnist-%dsamples' % (SAMPLE_SIZE)\n",
    "CUDA = torch.cuda.is_available()\n",
    "DEVICE = torch.device('cuda:1')"
   ]
  },
  {
   "cell_type": "code",
   "execution_count": null,
   "metadata": {},
   "outputs": [],
   "source": [
    "from model_operations import Init_models, Save_models\n",
    "\n",
    "models, optimizer, AT = Init_models(K=K,\n",
    "                                D=D,\n",
    "                                FRAME_PIXELS=FRAME_PIXELS, \n",
    "                                DIGIT_PIXELS=DIGIT_PIXELS, \n",
    "                                HIDDEN_LIST=HIDDEN_LIST, \n",
    "                                Sigma0=Sigma0,\n",
    "                                CUDA=CUDA, \n",
    "                                DEVICE=DEVICE, \n",
    "                                lr=LEARNING_RATE, \n",
    "                                RESTORE=True, \n",
    "                                PATH=PATH)\n",
    "\n",
    "mnist_mean = mnist_mean.cuda().to(DEVICE)"
   ]
  },
  {
   "cell_type": "code",
   "execution_count": null,
   "metadata": {},
   "outputs": [],
   "source": [
    "from apg import APG\n",
    "from viz_mc import Viz_MC\n",
    "from testing import Eval\n",
    "BATCH_SIZE = 5\n",
    "Viz_INTERVAL = 1\n",
    "FS = 15\n",
    "TITLE_FS = 20\n",
    "BOUND = 10\n",
    "DATA_PTR = 23\n",
    "\n",
    "apg = APG(models=models, \n",
    "          AT=AT, \n",
    "          K=K, \n",
    "          D=D, \n",
    "          T=T, \n",
    "          mnist_mean=mnist_mean, \n",
    "          training=False)\n",
    "\n",
    "evaluator = Eval(DATA_PATH=data_path,\n",
    "                 NUM_GROUPS=NUM_GROUPS, \n",
    "                 K=K, \n",
    "                 D=D)\n",
    "visualizer = Viz_MC(K=K, \n",
    "                    viz_interval=Viz_INTERVAL, \n",
    "                    FS=FS, \n",
    "                    TITLE_FS=TITLE_FS, \n",
    "                    bound=BOUND)\n"
   ]
  },
  {
   "cell_type": "code",
   "execution_count": null,
   "metadata": {},
   "outputs": [],
   "source": [
    "\n",
    "Metrics = evaluator.Test_uniform(APG=apg, \n",
    "                                        optimizer=optimizer,\n",
    "                                        data_ptr=DATA_PTR,\n",
    "                                        APG_STEPS=APG_STEPS, \n",
    "                                        S=1,\n",
    "                                        B=BATCH_SIZE,\n",
    "                                        DEVICE=DEVICE,\n",
    "                                        PATH=PATH)"
   ]
  },
  {
   "cell_type": "code",
   "execution_count": null,
   "metadata": {},
   "outputs": [],
   "source": [
    "visualizer.Plot_samples(Metrics, filename='bmnist-samples-%d' % DATA_PTR)"
   ]
  },
  {
   "cell_type": "code",
   "execution_count": null,
   "metadata": {},
   "outputs": [],
   "source": []
  }
 ],
 "metadata": {
  "kernelspec": {
   "display_name": "Python 3",
   "language": "python",
   "name": "python3"
  },
  "language_info": {
   "codemirror_mode": {
    "name": "ipython",
    "version": 3
   },
   "file_extension": ".py",
   "mimetype": "text/x-python",
   "name": "python",
   "nbconvert_exporter": "python",
   "pygments_lexer": "ipython3",
   "version": "3.6.7"
  }
 },
 "nbformat": 4,
 "nbformat_minor": 2
}
