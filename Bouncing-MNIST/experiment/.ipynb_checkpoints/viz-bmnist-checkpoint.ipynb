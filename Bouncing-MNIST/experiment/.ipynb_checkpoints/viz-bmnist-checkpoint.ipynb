{
 "cells": [
  {
   "cell_type": "code",
   "execution_count": 1,
   "metadata": {},
   "outputs": [
    {
     "name": "stdout",
     "output_type": "stream",
     "text": [
      "probtorch: 0.0+5a2c637 torch: 1.0.0 cuda: True\n"
     ]
    }
   ],
   "source": [
    "%matplotlib inline\n",
    "%run ../../import_envs.py\n",
    "print('probtorch:', probtorch.__version__, \n",
    "      'torch:', torch.__version__, \n",
    "      'cuda:', torch.cuda.is_available())"
   ]
  },
  {
   "cell_type": "code",
   "execution_count": 2,
   "metadata": {},
   "outputs": [],
   "source": [
    "%run PARAMETERS.py\n",
    "NAME = 'APG'\n",
    "MCMC_STEPS = 5\n",
    "PATH = NAME + '-bmnist-%dsamples' % (SAMPLE_SIZE)\n",
    "CUDA = torch.cuda.is_available()\n",
    "DEVICE = torch.device('cuda:1')"
   ]
  },
  {
   "cell_type": "code",
   "execution_count": 3,
   "metadata": {},
   "outputs": [],
   "source": [
    "from model_operations import Init_models, Save_models\n",
    "models, optimizer = Init_models(K=K,\n",
    "                                D=D,\n",
    "                                FRAME_PIXELS=FRAME_PIXELS, \n",
    "                                DIGIT_PIXELS=DIGIT_PIXELS, \n",
    "                                HIDDEN_LIST=HIDDEN_LIST, \n",
    "                                CUDA=CUDA, \n",
    "                                device=DEVICE, \n",
    "                                lr=LEARNING_RATE, \n",
    "                                RESTORE=True, \n",
    "                                PATH=PATH)\n",
    "\n",
    "from crop import *\n",
    "crop = Crop(digit_size=28, \n",
    "            frame_size=64, \n",
    "            CUDA=CUDA, \n",
    "            device=DEVICE)"
   ]
  },
  {
   "cell_type": "code",
   "execution_count": 8,
   "metadata": {},
   "outputs": [],
   "source": [
    "from apg import APG_test\n",
    "from testing import Eval\n",
    "from viz_mc import Viz_MC\n",
    "BATCH_SIZE = 5\n",
    "Viz_INTERVAL = 4\n",
    "FS = 15\n",
    "TITLE_FS = 20\n",
    "BOUND = 10\n",
    "DATA_PTR = 23\n",
    "\n",
    "Data = []"
   ]
  },
  {
   "cell_type": "code",
   "execution_count": 9,
   "metadata": {},
   "outputs": [],
   "source": [
    "evaluator = Eval(NUM_GROUPS, K, D, BATCH_SIZE, CUDA, DEVICE)\n",
    "visualizer = Viz_MC(K, Viz_INTERVAL, FS, TITLE_FS, BOUND)\n",
    "Metrics_sample = evaluator.Test_uniform(models, APG_test, data_path, mnist_mean, crop, data_ptr=DATA_PTR, mcmc_steps=8, sample_size=1)"
   ]
  },
  {
   "cell_type": "code",
   "execution_count": null,
   "metadata": {},
   "outputs": [],
   "source": [
    "visualizer.Plot_TJs(Metrics_sample['data'], Metrics_sample['samples'], Metrics_sample['recon'], filename='bmnist-samples-%d' % DATA_PTR)"
   ]
  },
  {
   "cell_type": "code",
   "execution_count": null,
   "metadata": {},
   "outputs": [],
   "source": []
  }
 ],
 "metadata": {
  "kernelspec": {
   "display_name": "Python 3",
   "language": "python",
   "name": "python3"
  },
  "language_info": {
   "codemirror_mode": {
    "name": "ipython",
    "version": 3
   },
   "file_extension": ".py",
   "mimetype": "text/x-python",
   "name": "python",
   "nbconvert_exporter": "python",
   "pygments_lexer": "ipython3",
   "version": "3.6.7"
  }
 },
 "nbformat": 4,
 "nbformat_minor": 2
}
