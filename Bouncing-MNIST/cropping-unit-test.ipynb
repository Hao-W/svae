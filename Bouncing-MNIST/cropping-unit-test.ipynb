{
 "cells": [
  {
   "cell_type": "code",
   "execution_count": 1,
   "metadata": {},
   "outputs": [],
   "source": [
    "%matplotlib inline\n",
    "import matplotlib.pyplot as plt\n",
    "import numpy as np\n",
    "import torch\n",
    "from torchvision import datasets, transforms\n",
    "from torch.nn.functional import affine_grid, grid_sample, conv2d\n",
    "from sim_moving import *"
   ]
  },
  {
   "cell_type": "code",
   "execution_count": 2,
   "metadata": {},
   "outputs": [],
   "source": [
    "from crop import *\n",
    "crop = Crop(digit_size=28, frame_size=64, CUDA=False, device=None)"
   ]
  },
  {
   "cell_type": "code",
   "execution_count": 3,
   "metadata": {},
   "outputs": [],
   "source": [
    "num_videoes = 10000\n",
    "T = 10\n",
    "num_digits = 1\n",
    "step_length = 0.2\n",
    "frame_size = 64\n",
    "PATH = '/home/hao/Research/amortized/Moving-MNIST/data/'\n",
    "mnist_path = '/home/hao/Research/apg_data/mnist/'\n",
    "file_size = 1000\n",
    "simulator = BouncingMNIST(mnist_path=mnist_path, path=PATH, timesteps=T, num_digits=num_digits, step_length=step_length, file_size=file_size)"
   ]
  },
  {
   "cell_type": "code",
   "execution_count": 4,
   "metadata": {},
   "outputs": [
    {
     "ename": "AttributeError",
     "evalue": "'int' object has no attribute 'shape'",
     "output_type": "error",
     "traceback": [
      "\u001b[0;31m---------------------------------------------------------------------------\u001b[0m",
      "\u001b[0;31mAttributeError\u001b[0m                            Traceback (most recent call last)",
      "\u001b[0;32m<ipython-input-4-860bfe2af345>\u001b[0m in \u001b[0;36m<module>\u001b[0;34m()\u001b[0m\n\u001b[0;32m----> 1\u001b[0;31m \u001b[0msimulator\u001b[0m\u001b[0;34m.\u001b[0m\u001b[0msave_data\u001b[0m\u001b[0;34m(\u001b[0m\u001b[0mnum_videoes\u001b[0m\u001b[0;34m=\u001b[0m\u001b[0mnum_videoes\u001b[0m\u001b[0;34m)\u001b[0m\u001b[0;34m\u001b[0m\u001b[0;34m\u001b[0m\u001b[0m\n\u001b[0m",
      "\u001b[0;32m~/Research/amortized/Bouncing-MNIST/sim_moving.py\u001b[0m in \u001b[0;36msave_data\u001b[0;34m(self, num_videoes)\u001b[0m\n\u001b[1;32m    107\u001b[0m     \u001b[0;32mdef\u001b[0m \u001b[0msave_data\u001b[0m\u001b[0;34m(\u001b[0m\u001b[0mself\u001b[0m\u001b[0;34m,\u001b[0m \u001b[0mnum_videoes\u001b[0m\u001b[0;34m,\u001b[0m \u001b[0;34m)\u001b[0m\u001b[0;34m:\u001b[0m\u001b[0;34m\u001b[0m\u001b[0;34m\u001b[0m\u001b[0m\n\u001b[1;32m    108\u001b[0m         \u001b[0mdata\u001b[0m\u001b[0;34m,\u001b[0m \u001b[0mTJs\u001b[0m \u001b[0;34m=\u001b[0m \u001b[0mself\u001b[0m\u001b[0;34m.\u001b[0m\u001b[0msim_videoes\u001b[0m\u001b[0;34m(\u001b[0m\u001b[0mnum_videoes\u001b[0m\u001b[0;34m)\u001b[0m\u001b[0;34m\u001b[0m\u001b[0;34m\u001b[0m\u001b[0m\n\u001b[0;32m--> 109\u001b[0;31m         \u001b[0mnum_files\u001b[0m \u001b[0;34m=\u001b[0m \u001b[0mint\u001b[0m\u001b[0;34m(\u001b[0m\u001b[0mnum_videoes\u001b[0m\u001b[0;34m.\u001b[0m\u001b[0mshape\u001b[0m\u001b[0;34m[\u001b[0m\u001b[0;36m0\u001b[0m\u001b[0;34m]\u001b[0m \u001b[0;34m/\u001b[0m \u001b[0mself\u001b[0m\u001b[0;34m.\u001b[0m\u001b[0mfile_size\u001b[0m\u001b[0;34m)\u001b[0m\u001b[0;34m\u001b[0m\u001b[0;34m\u001b[0m\u001b[0m\n\u001b[0m\u001b[1;32m    110\u001b[0m         \u001b[0;32mfor\u001b[0m \u001b[0mi\u001b[0m \u001b[0;32min\u001b[0m \u001b[0mrange\u001b[0m\u001b[0;34m(\u001b[0m\u001b[0mnum_files\u001b[0m\u001b[0;34m)\u001b[0m\u001b[0;34m:\u001b[0m\u001b[0;34m\u001b[0m\u001b[0;34m\u001b[0m\u001b[0m\n\u001b[1;32m    111\u001b[0m             \u001b[0mnp\u001b[0m\u001b[0;34m.\u001b[0m\u001b[0msave\u001b[0m\u001b[0;34m(\u001b[0m\u001b[0mself\u001b[0m\u001b[0;34m.\u001b[0m\u001b[0mmnist_path\u001b[0m \u001b[0;34m+\u001b[0m \u001b[0;34m'/bmnist/ob_%d'\u001b[0m \u001b[0;34m%\u001b[0m \u001b[0mi\u001b[0m\u001b[0;34m,\u001b[0m \u001b[0mdata\u001b[0m\u001b[0;34m[\u001b[0m\u001b[0mi\u001b[0m\u001b[0;34m*\u001b[0m\u001b[0mself\u001b[0m\u001b[0;34m.\u001b[0m\u001b[0mfile_size\u001b[0m\u001b[0;34m:\u001b[0m\u001b[0;34m(\u001b[0m\u001b[0mi\u001b[0m\u001b[0;34m+\u001b[0m\u001b[0;36m1\u001b[0m\u001b[0;34m)\u001b[0m\u001b[0;34m*\u001b[0m\u001b[0mself\u001b[0m\u001b[0;34m.\u001b[0m\u001b[0mfile_size\u001b[0m\u001b[0;34m]\u001b[0m\u001b[0;34m)\u001b[0m\u001b[0;34m\u001b[0m\u001b[0;34m\u001b[0m\u001b[0m\n",
      "\u001b[0;31mAttributeError\u001b[0m: 'int' object has no attribute 'shape'"
     ]
    }
   ],
   "source": [
    "simulator.save_data(num_videoes=num_videoes)"
   ]
  },
  {
   "cell_type": "code",
   "execution_count": null,
   "metadata": {},
   "outputs": [],
   "source": [
    "B = 3\n",
    "S = 2\n",
    "# T = 10\n",
    "z_where = []\n",
    "for i in range(B*S):\n",
    "    X, _ = simulator.sim_trajectory()\n",
    "    z_where.append(X.unsqueeze(0))\n",
    "z_where = torch.cat(z_where, 0).view(S, B, 10, 2)\n",
    "\n",
    "mnist = simulator.load_mnist()\n",
    "digit = torch.from_numpy(mnist[150:150+S*B]).float().view(S, B, 28, 28)\n",
    "frames = crop.digit_to_frame(digit, z_where)\n",
    "\n",
    "videoes = frames.view(S*B, T, 64, 64)\n",
    "num_cols = T\n",
    "num_rows = S*B\n",
    "fs = 15\n",
    "gs = gridspec.GridSpec(num_rows, num_cols)\n",
    "gs.update(left=0.0 , bottom=0.0, right=1.0, top=1.0, wspace=0.05, hspace=0.05)\n",
    "fig = plt.figure(figsize=(fs, fs * num_rows / num_cols))\n",
    "for i in range(num_rows):\n",
    "    for j in range(num_cols):\n",
    "        ax = fig.add_subplot(gs[i, j])\n",
    "        ax.set_xticks([])\n",
    "        ax.set_yticks([])\n",
    "        ax.imshow(videoes[i, j, :, :], cmap='gray', vmin=0.0, vmax=1.0)\n",
    "\n",
    "# digit_re = crop.frame_to_digit(frames[0], z_where)\n",
    "# num_cols = T\n",
    "# num_rows = 1*B\n",
    "# fs = 15\n",
    "# gs = gridspec.GridSpec(num_rows, num_cols)\n",
    "# gs.update(left=0.0 , bottom=0.0, right=1.0, top=1.0, wspace=0.05, hspace=0.05)\n",
    "# fig = plt.figure(figsize=(fs, fs * num_rows / num_cols))\n",
    "# for i in range(num_rows):\n",
    "#     for j in range(num_cols):\n",
    "#         ax = fig.add_subplot(gs[i, j])\n",
    "#         ax.set_xticks([])\n",
    "#         ax.set_yticks([])\n",
    "#         ax.imshow(digit_re[i, j, :, :], cmap='gray', vmin=0.0, vmax=1.0)"
   ]
  },
  {
   "cell_type": "code",
   "execution_count": null,
   "metadata": {},
   "outputs": [],
   "source": [
    "# digit to frame\n",
    "theta = torch.Tensor([[64/28, 0, -1*(64/28)*(36/64)], [0, 64/28, 1*(64/28)*(36/64)]])\n",
    "grid = affine_grid(theta.unsqueeze(0), torch.Size((1, 1, 64, 64)))\n",
    "output = grid_sample(torch.from_numpy(a).float().unsqueeze(0).unsqueeze(0), grid, mode='nearest')[0,0]\n",
    "plt.imshow(output.data.numpy(), cmap='gray')\n",
    "plt.show()\n",
    "# # frame to digit\n",
    "theta2 = torch.Tensor([[(28/64), 0, 1*(36/64)], [0, (28/64), -1*(36/64)]])\n",
    "grid2 = affine_grid(theta2.unsqueeze(0), torch.Size((1, 1, 28, 28)))\n",
    "output2 = grid_sample(output.unsqueeze(0).unsqueeze(0), grid2, mode='nearest')[0,0]\n",
    "plt.imshow(output2.data.numpy(), cmap='gray')\n",
    "plt.show()\n",
    "## analytical solution\n",
    "x = 1.\n",
    "y = 0.0\n",
    "top = int(y * 36)\n",
    "left = int(x * 36)\n",
    "canvas = np.zeros((64, 64))\n",
    "canvas[top:top+28, left:left+28] = a\n",
    "plt.imshow(canvas, cmap='gray')\n",
    "plt.show()"
   ]
  },
  {
   "cell_type": "code",
   "execution_count": null,
   "metadata": {},
   "outputs": [],
   "source": []
  }
 ],
 "metadata": {
  "kernelspec": {
   "display_name": "Python 3",
   "language": "python",
   "name": "python3"
  },
  "language_info": {
   "codemirror_mode": {
    "name": "ipython",
    "version": 3
   },
   "file_extension": ".py",
   "mimetype": "text/x-python",
   "name": "python",
   "nbconvert_exporter": "python",
   "pygments_lexer": "ipython3",
   "version": "3.6.7"
  }
 },
 "nbformat": 4,
 "nbformat_minor": 2
}
