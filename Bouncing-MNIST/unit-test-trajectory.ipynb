{
 "cells": [
  {
   "cell_type": "code",
   "execution_count": 1,
   "metadata": {},
   "outputs": [],
   "source": [
    "%matplotlib inline\n",
    "import matplotlib.pyplot as plt\n",
    "import torch\n",
    "import torch.nn as nn\n",
    "from sim_moving import *\n",
    "from torch.distributions.normal import Normal"
   ]
  },
  {
   "cell_type": "code",
   "execution_count": 2,
   "metadata": {},
   "outputs": [],
   "source": [
    "num_tjs = 10000\n",
    "T = 20\n",
    "num_digits = 1\n",
    "step_length = 0.2\n",
    "frame_size = 64\n",
    "PATH = '/home/hao/Research/amortized/Moving-MNIST/data/'\n",
    "mnist_path = '/home/hao/Research/apg_data/mnist/'\n",
    "simulator = BouncingMNIST(mnist_path=mnist_path, path=PATH, timesteps=T, num_digits=num_digits, step_length=step_length)\n",
    "# simulator.sim_tjs(num_tjs)"
   ]
  },
  {
   "cell_type": "code",
   "execution_count": null,
   "metadata": {},
   "outputs": [],
   "source": [
    "Vs = torch.from_numpy(np.load('./data/tjs_v.npy')).float()\n",
    "Xs = torch.from_numpy(np.load('./data/tjs_x.npy')).float()\n",
    "##\n",
    "NUM_HIDDEN = 64\n",
    "NUM_STEPS = 1000\n",
    "BATCH_SIZE = 10\n",
    "SAMPLE_SIZE = 10\n",
    "num_tjs = Vs.shape[0]\n",
    "num_batches = int(num_tjs /  BATCH_SIZE)"
   ]
  },
  {
   "cell_type": "code",
   "execution_count": null,
   "metadata": {},
   "outputs": [],
   "source": [
    "class Enc_tj(nn.Module):\n",
    "    def __init__(self, num_hidden):\n",
    "        super(self.__class__, self).__init__()\n",
    "        self.enc_hidden = nn.Sequential(\n",
    "                            nn.Linear(4, num_hidden),\n",
    "                            nn.Linear(num_hidden, 2),\n",
    "                            nn.Tanh())\n",
    "    def forward(self, x, v):\n",
    "        v_new = self.enc_hidden(torch.cat((x, v), -1))\n",
    "        x_new = x + 0.2 * v_new\n",
    "        return x_new"
   ]
  },
  {
   "cell_type": "code",
   "execution_count": null,
   "metadata": {},
   "outputs": [],
   "source": [
    "enc = Enc_tj(num_hidden=NUM_HIDDEN)\n",
    "enc.cuda()\n",
    "optimizer =  torch.optim.Adam(list(enc.parameters()),lr=1e-5, betas=(0.9, 0.99))"
   ]
  },
  {
   "cell_type": "code",
   "execution_count": null,
   "metadata": {},
   "outputs": [],
   "source": [
    "for i in range(NUM_STEPS):\n",
    "    optimizer.zero_grad()\n",
    "    indices = torch.randperm(num_tjs)\n",
    "    LOSS = 0.0\n",
    "    for b in range(num_batches):\n",
    "        b_ind = indices[b*BATCH_SIZE:(b+1)*BATCH_SIZE]\n",
    "        xb = Xs[b_ind].cuda()\n",
    "        vb = Vs[b_ind].cuda()\n",
    "        x_pred = enc(xb[:,:-1, :], vb[:, :-1, :])\n",
    "        loss = ((x_pred - xb[:, 1:, :])**2).sum(-1).mean()\n",
    "        loss.backward()\n",
    "        optimizer.step()\n",
    "        LOSS += loss\n",
    "    %time print('iter=%d, loss=%.6f' % (i, LOSS / num_batches))"
   ]
  },
  {
   "cell_type": "code",
   "execution_count": null,
   "metadata": {},
   "outputs": [],
   "source": [
    "xb = Xs[1:(1+1)].cuda()\n",
    "vb = Vs[1:(1+1)].cuda()\n",
    "x_pred = enc(xb[:,:-1, :], vb[:, :-1, :])"
   ]
  },
  {
   "cell_type": "code",
   "execution_count": null,
   "metadata": {},
   "outputs": [],
   "source": [
    "x_pred.shape"
   ]
  },
  {
   "cell_type": "code",
   "execution_count": null,
   "metadata": {},
   "outputs": [],
   "source": [
    "plt.scatter(xb[0, 1:, 0].cpu().data.numpy(), xb[0, 1:, 1].cpu().data.numpy(), c='r')\n",
    "plt.scatter(x_pred[0, :, 0].cpu().data.numpy(), x_pred[0, :, 1].cpu().data.numpy(), c='b')"
   ]
  },
  {
   "cell_type": "code",
   "execution_count": null,
   "metadata": {},
   "outputs": [],
   "source": [
    "xb.shape"
   ]
  },
  {
   "cell_type": "code",
   "execution_count": null,
   "metadata": {},
   "outputs": [],
   "source": []
  }
 ],
 "metadata": {
  "kernelspec": {
   "display_name": "Python 3",
   "language": "python",
   "name": "python3"
  },
  "language_info": {
   "codemirror_mode": {
    "name": "ipython",
    "version": 3
   },
   "file_extension": ".py",
   "mimetype": "text/x-python",
   "name": "python",
   "nbconvert_exporter": "python",
   "pygments_lexer": "ipython3",
   "version": "3.6.7"
  }
 },
 "nbformat": 4,
 "nbformat_minor": 2
}
