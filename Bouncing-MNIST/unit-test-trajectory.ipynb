{
 "cells": [
  {
   "cell_type": "code",
   "execution_count": 2,
   "metadata": {},
   "outputs": [],
   "source": [
    "%matplotlib inline\n",
    "import matplotlib.pyplot as plt\n",
    "import torch\n",
    "import torch.nn as nn\n",
    "from sim_moving import *\n",
    "from torch.distributions.normal import Normal\n",
    "import numpy as np\n",
    "import sys\n",
    "sys.path.append('/home/hao/Research/probtorch/')\n",
    "import probtorch"
   ]
  },
  {
   "cell_type": "code",
   "execution_count": 74,
   "metadata": {},
   "outputs": [],
   "source": [
    "num_tjs = 10000\n",
    "T = 20\n",
    "num_digits = 1\n",
    "step_length = 1.0\n",
    "frame_size = 64\n",
    "PATH = '/home/hao/Research/amortized/Moving-MNIST/data/'\n",
    "mnist_path = '/home/hao/Research/apg_data/mnist/'\n",
    "simulator = BouncingMNIST(mnist_path=mnist_path, path=PATH, timesteps=T, num_digits=num_digits, step_length=step_length)\n",
    "# simulator.sim_tjs(num_tjs)\n",
    "\n",
    "Vs = torch.from_numpy(np.load('./data/tjs_v.npy')).float()\n",
    "Xs = torch.from_numpy(np.load('./data/tjs_x.npy')).float()\n",
    "##\n",
    "NUM_HIDDEN = 16\n",
    "NUM_STEPS = 1000\n",
    "BATCH_SIZE = 10\n",
    "SAMPLE_SIZE = 10\n",
    "CUDA = torch.cuda.is_available()\n",
    "num_tjs = Vs.shape[0]\n",
    "num_batches = int(num_tjs /  BATCH_SIZE)\n",
    "latent_dim = 8\n",
    "delta_t = 0.2"
   ]
  },
  {
   "cell_type": "code",
   "execution_count": 65,
   "metadata": {},
   "outputs": [],
   "source": [
    "# class Enc_tj(nn.Module):\n",
    "#     def __init__(self, input_dim, num_hidden, latent_dim):\n",
    "#         super(self.__class__, self).__init__()\n",
    "#         self.enc_w = nn.Sequential(\n",
    "#                             nn.Linear(input_dim, latent_dim))\n",
    "#         self.enc_alpha = nn.Sequential(\n",
    "#                             nn.Linear(input_dim, latent_dim))\n",
    "#         self.enc_t = nn.Sequential(\n",
    "#                             nn.Linear(input_dim, latent_dim))\n",
    "#     def forward(self, x, v):\n",
    "#         xv = torch.cat((x, v), -1)\n",
    "#         w = self.enc_w(xv)\n",
    "#         alpha = self.enc_alpha(xv)\n",
    "#         t = self.enc_t(xv)\n",
    "#         x_pred = (w * torch.sin(x * alpha + t)).sum(-1).unsqueeze(-1)\n",
    "#         min_ind = torch.argmin(alpha, dim=-1).unsqueeze(-1).detach()\n",
    "        \n",
    "# #         alpha_min = torch.gather(alpha, 2, min_ind).detach()\n",
    "# #         w_min = torch.gather(w, 2, min_ind).detach()\n",
    "# #         t_min = torch.gather(t, 2, min_ind).detach()\n",
    "#         v_pred = (alpha * w * torch.cos(x * alpha + t)).sum(-1).unsqueeze(-1).detach().sign() * v.abs()\n",
    "#         return x_pred, v_pred, alpha, w, t"
   ]
  },
  {
   "cell_type": "code",
   "execution_count": 66,
   "metadata": {},
   "outputs": [],
   "source": [
    "class Enc_tj(nn.Module):\n",
    "    def __init__(self, input_dim, num_hidden, latent_dim, T, delta_t, CUDA):\n",
    "        super(self.__class__, self).__init__()\n",
    "        self.enc_w = nn.Sequential(\n",
    "                            nn.Linear(input_dim, latent_dim))\n",
    "        self.enc_alpha = nn.Sequential(\n",
    "                            nn.Linear(input_dim, latent_dim))\n",
    "        self.enc_t = nn.Sequential(\n",
    "                            nn.Linear(input_dim, latent_dim))\n",
    "        \n",
    "        \n",
    "        self.ts =  torch.arange(0, T*delta_t, delta_t).float()\n",
    "        if CUDA:\n",
    "            self.ts = self.ts.cuda()\n",
    "    def forward(self, x):\n",
    "        B, _ = x.shape\n",
    "        w = self.enc_w(x)\n",
    "        alpha = self.enc_alpha(x)\n",
    "        phase = self.enc_t(x)\n",
    "        x_pred = (w.unsqueeze(1).repeat(1, T, 1) * torch.sin(torch.bmm(self.ts.repeat(B, 1).unsqueeze(-1), alpha.unsqueeze(1)) + phase.unsqueeze(1).repeat(1, T, 1))).sum(-1)\n",
    "#         min_ind = torch.argmin(alpha, dim=-1).unsqueeze(-1).detach()\n",
    "        \n",
    "#         alpha_min = torch.gather(alpha, 2, min_ind).detach()\n",
    "#         w_min = torch.gather(w, 2, min_ind).detach()\n",
    "#         t_min = torch.gather(t, 2, min_ind).detach()\n",
    "#         v_pred = (alpha * w * torch.cos(x * alpha + t)).sum(-1).unsqueeze(-1).detach().sign() * v.abs()\n",
    "        return x_pred"
   ]
  },
  {
   "cell_type": "code",
   "execution_count": 67,
   "metadata": {},
   "outputs": [],
   "source": [
    "# class Enc_tj(nn.Module):\n",
    "#     def __init__(self, num_hidden):\n",
    "#         super(self.__class__, self).__init__()\n",
    "#         self.enc_hidden = nn.Sequential(\n",
    "#                             nn.Linear(4, num_hidden),\n",
    "#                             nn.Linear(num_hidden, 2),\n",
    "#                             nn.Tanh())\n",
    "#     def forward(self, x, v):\n",
    "#         v_new = self.enc_hidden(torch.cat((x, v), -1))\n",
    "#         x_new = x + 0.2 * v_new\n",
    "#         return x_new, v_new"
   ]
  },
  {
   "cell_type": "code",
   "execution_count": 68,
   "metadata": {},
   "outputs": [],
   "source": [
    "enc = Enc_tj(input_dim=T, num_hidden=NUM_HIDDEN, latent_dim=latent_dim, T=T, delta_t=delta_t, CUDA=CUDA)\n",
    "enc.cuda()\n",
    "optimizer =  torch.optim.Adam(list(enc.parameters()),lr=1e-5, betas=(0.9, 0.99))"
   ]
  },
  {
   "cell_type": "code",
   "execution_count": 69,
   "metadata": {},
   "outputs": [],
   "source": [
    "# for i in range(NUM_STEPS):\n",
    "#     optimizer.zero_grad()\n",
    "#     indices = torch.randperm(num_tjs)\n",
    "#     LOSS = 0.0\n",
    "#     for b in range(num_batches):\n",
    "#         b_ind = indices[b*BATCH_SIZE:(b+1)*BATCH_SIZE]\n",
    "#         xb = Xs[b_ind].cuda()[:, :, 0].unsqueeze(-1)\n",
    "#         vb = Vs[b_ind].cuda()[:, :, 0].unsqueeze(-1)\n",
    "#         for t in range(T-1):\n",
    "#             if t == 0:\n",
    "#                 x_pred, v_pred = enc(xb[:, t, 0].unsqueeze(-1), vb[:, t, 0].unsqueeze(-1))\n",
    "#             else:\n",
    "#                 x_pred, v_pred = enc(x_pred, v_pred)\n",
    "#             loss = ((x_pred - xb[:, t+1, 0])**2).sum(-1).mean()\n",
    "#         loss.backward()\n",
    "#         optimizer.step()\n",
    "#         LOSS += loss\n",
    "#     %time print('iter=%d, loss=%.6f' % (i, LOSS / num_batches))"
   ]
  },
  {
   "cell_type": "code",
   "execution_count": 70,
   "metadata": {},
   "outputs": [
    {
     "name": "stdout",
     "output_type": "stream",
     "text": [
      "iter=0, loss=10.981545\n",
      "CPU times: user 0 ns, sys: 962 µs, total: 962 µs\n",
      "Wall time: 968 µs\n",
      "iter=1, loss=6.773578\n",
      "CPU times: user 231 µs, sys: 12 µs, total: 243 µs\n",
      "Wall time: 248 µs\n",
      "iter=2, loss=4.433617\n",
      "CPU times: user 473 µs, sys: 23 µs, total: 496 µs\n",
      "Wall time: 463 µs\n",
      "iter=3, loss=2.955575\n",
      "CPU times: user 1.65 ms, sys: 0 ns, total: 1.65 ms\n",
      "Wall time: 1.6 ms\n",
      "iter=4, loss=2.144525\n",
      "CPU times: user 654 µs, sys: 32 µs, total: 686 µs\n",
      "Wall time: 655 µs\n",
      "iter=5, loss=1.650230\n",
      "CPU times: user 255 µs, sys: 13 µs, total: 268 µs\n",
      "Wall time: 283 µs\n",
      "iter=6, loss=1.257206\n",
      "CPU times: user 391 µs, sys: 19 µs, total: 410 µs\n",
      "Wall time: 417 µs\n",
      "iter=7, loss=0.938890\n",
      "CPU times: user 1.01 ms, sys: 49 µs, total: 1.05 ms\n",
      "Wall time: 1.02 ms\n",
      "iter=8, loss=0.730393\n",
      "CPU times: user 183 µs, sys: 9 µs, total: 192 µs\n",
      "Wall time: 197 µs\n",
      "iter=9, loss=0.604006\n",
      "CPU times: user 247 µs, sys: 12 µs, total: 259 µs\n",
      "Wall time: 264 µs\n",
      "iter=10, loss=0.525012\n",
      "CPU times: user 427 µs, sys: 20 µs, total: 447 µs\n",
      "Wall time: 454 µs\n",
      "iter=11, loss=0.462206\n",
      "CPU times: user 699 µs, sys: 34 µs, total: 733 µs\n",
      "Wall time: 707 µs\n",
      "iter=12, loss=0.419237\n",
      "CPU times: user 187 µs, sys: 9 µs, total: 196 µs\n",
      "Wall time: 202 µs\n",
      "iter=13, loss=0.379281\n",
      "CPU times: user 184 µs, sys: 8 µs, total: 192 µs\n",
      "Wall time: 199 µs\n",
      "iter=14, loss=0.345895\n",
      "CPU times: user 197 µs, sys: 9 µs, total: 206 µs\n",
      "Wall time: 211 µs\n",
      "iter=15, loss=0.296268\n",
      "CPU times: user 445 µs, sys: 22 µs, total: 467 µs\n",
      "Wall time: 472 µs\n",
      "iter=16, loss=0.248614\n",
      "CPU times: user 501 µs, sys: 24 µs, total: 525 µs\n",
      "Wall time: 531 µs\n",
      "iter=17, loss=0.220191\n",
      "CPU times: user 199 µs, sys: 10 µs, total: 209 µs\n",
      "Wall time: 215 µs\n",
      "iter=18, loss=0.209272\n",
      "CPU times: user 209 µs, sys: 10 µs, total: 219 µs\n",
      "Wall time: 225 µs\n",
      "iter=19, loss=0.193664\n",
      "CPU times: user 681 µs, sys: 32 µs, total: 713 µs\n",
      "Wall time: 675 µs\n",
      "iter=20, loss=0.175984\n",
      "CPU times: user 438 µs, sys: 21 µs, total: 459 µs\n",
      "Wall time: 465 µs\n",
      "iter=21, loss=0.164017\n",
      "CPU times: user 430 µs, sys: 20 µs, total: 450 µs\n",
      "Wall time: 457 µs\n",
      "iter=22, loss=0.159064\n",
      "CPU times: user 2.19 ms, sys: 102 µs, total: 2.29 ms\n",
      "Wall time: 2.3 ms\n",
      "iter=23, loss=0.172103\n",
      "CPU times: user 207 µs, sys: 10 µs, total: 217 µs\n",
      "Wall time: 223 µs\n",
      "iter=24, loss=0.152898\n",
      "CPU times: user 203 µs, sys: 10 µs, total: 213 µs\n",
      "Wall time: 218 µs\n",
      "iter=25, loss=0.151669\n",
      "CPU times: user 191 µs, sys: 9 µs, total: 200 µs\n",
      "Wall time: 205 µs\n",
      "iter=26, loss=0.132295\n",
      "CPU times: user 979 µs, sys: 46 µs, total: 1.03 ms\n",
      "Wall time: 1.03 ms\n",
      "iter=27, loss=0.128915\n",
      "CPU times: user 577 µs, sys: 27 µs, total: 604 µs\n",
      "Wall time: 610 µs\n",
      "iter=28, loss=0.123065\n",
      "CPU times: user 183 µs, sys: 8 µs, total: 191 µs\n",
      "Wall time: 197 µs\n",
      "iter=29, loss=0.128746\n",
      "CPU times: user 1.21 ms, sys: 56 µs, total: 1.26 ms\n",
      "Wall time: 1.24 ms\n",
      "iter=30, loss=0.124184\n",
      "CPU times: user 637 µs, sys: 29 µs, total: 666 µs\n",
      "Wall time: 636 µs\n",
      "iter=31, loss=0.136055\n",
      "CPU times: user 183 µs, sys: 9 µs, total: 192 µs\n",
      "Wall time: 197 µs\n",
      "iter=32, loss=0.121931\n",
      "CPU times: user 200 µs, sys: 10 µs, total: 210 µs\n",
      "Wall time: 216 µs\n",
      "iter=33, loss=0.119892\n",
      "CPU times: user 1.15 ms, sys: 53 µs, total: 1.2 ms\n",
      "Wall time: 1.21 ms\n",
      "iter=34, loss=0.115989\n",
      "CPU times: user 656 µs, sys: 30 µs, total: 686 µs\n",
      "Wall time: 654 µs\n",
      "iter=35, loss=0.127270\n",
      "CPU times: user 1.24 ms, sys: 58 µs, total: 1.3 ms\n",
      "Wall time: 1.3 ms\n",
      "iter=36, loss=0.118960\n",
      "CPU times: user 202 µs, sys: 9 µs, total: 211 µs\n",
      "Wall time: 218 µs\n"
     ]
    },
    {
     "ename": "KeyboardInterrupt",
     "evalue": "",
     "output_type": "error",
     "traceback": [
      "\u001b[0;31m---------------------------------------------------------------------------\u001b[0m",
      "\u001b[0;31mKeyboardInterrupt\u001b[0m                         Traceback (most recent call last)",
      "\u001b[0;32m<ipython-input-70-163947ffee56>\u001b[0m in \u001b[0;36m<module>\u001b[0;34m()\u001b[0m\n\u001b[1;32m     10\u001b[0m         \u001b[0mx_pred\u001b[0m \u001b[0;34m=\u001b[0m \u001b[0menc\u001b[0m\u001b[0;34m(\u001b[0m\u001b[0mxb\u001b[0m\u001b[0;34m)\u001b[0m\u001b[0;34m\u001b[0m\u001b[0;34m\u001b[0m\u001b[0m\n\u001b[1;32m     11\u001b[0m         \u001b[0mloss\u001b[0m \u001b[0;34m=\u001b[0m \u001b[0;34m(\u001b[0m\u001b[0;34m(\u001b[0m\u001b[0mx_pred\u001b[0m \u001b[0;34m-\u001b[0m \u001b[0mxb\u001b[0m\u001b[0;34m)\u001b[0m\u001b[0;34m**\u001b[0m\u001b[0;36m2\u001b[0m\u001b[0;34m)\u001b[0m\u001b[0;34m.\u001b[0m\u001b[0msum\u001b[0m\u001b[0;34m(\u001b[0m\u001b[0;34m-\u001b[0m\u001b[0;36m1\u001b[0m\u001b[0;34m)\u001b[0m\u001b[0;34m.\u001b[0m\u001b[0mmean\u001b[0m\u001b[0;34m(\u001b[0m\u001b[0;34m)\u001b[0m\u001b[0;34m\u001b[0m\u001b[0;34m\u001b[0m\u001b[0m\n\u001b[0;32m---> 12\u001b[0;31m         \u001b[0mloss\u001b[0m\u001b[0;34m.\u001b[0m\u001b[0mbackward\u001b[0m\u001b[0;34m(\u001b[0m\u001b[0;34m)\u001b[0m\u001b[0;34m\u001b[0m\u001b[0;34m\u001b[0m\u001b[0m\n\u001b[0m\u001b[1;32m     13\u001b[0m \u001b[0;31m#         v_pred = (torch.sign(xb.grad) * vb.abs()).detach()\u001b[0m\u001b[0;34m\u001b[0m\u001b[0;34m\u001b[0m\u001b[0;34m\u001b[0m\u001b[0m\n\u001b[1;32m     14\u001b[0m         \u001b[0moptimizer\u001b[0m\u001b[0;34m.\u001b[0m\u001b[0mstep\u001b[0m\u001b[0;34m(\u001b[0m\u001b[0;34m)\u001b[0m\u001b[0;34m\u001b[0m\u001b[0;34m\u001b[0m\u001b[0m\n",
      "\u001b[0;32m~/anaconda3/envs/dev/lib/python3.6/site-packages/torch/tensor.py\u001b[0m in \u001b[0;36mbackward\u001b[0;34m(self, gradient, retain_graph, create_graph)\u001b[0m\n\u001b[1;32m    100\u001b[0m                 \u001b[0mproducts\u001b[0m\u001b[0;34m.\u001b[0m \u001b[0mDefaults\u001b[0m \u001b[0mto\u001b[0m\u001b[0;31m \u001b[0m\u001b[0;31m`\u001b[0m\u001b[0;31m`\u001b[0m\u001b[0;32mFalse\u001b[0m\u001b[0;31m`\u001b[0m\u001b[0;31m`\u001b[0m\u001b[0;34m.\u001b[0m\u001b[0;34m\u001b[0m\u001b[0;34m\u001b[0m\u001b[0m\n\u001b[1;32m    101\u001b[0m         \"\"\"\n\u001b[0;32m--> 102\u001b[0;31m         \u001b[0mtorch\u001b[0m\u001b[0;34m.\u001b[0m\u001b[0mautograd\u001b[0m\u001b[0;34m.\u001b[0m\u001b[0mbackward\u001b[0m\u001b[0;34m(\u001b[0m\u001b[0mself\u001b[0m\u001b[0;34m,\u001b[0m \u001b[0mgradient\u001b[0m\u001b[0;34m,\u001b[0m \u001b[0mretain_graph\u001b[0m\u001b[0;34m,\u001b[0m \u001b[0mcreate_graph\u001b[0m\u001b[0;34m)\u001b[0m\u001b[0;34m\u001b[0m\u001b[0;34m\u001b[0m\u001b[0m\n\u001b[0m\u001b[1;32m    103\u001b[0m \u001b[0;34m\u001b[0m\u001b[0m\n\u001b[1;32m    104\u001b[0m     \u001b[0;32mdef\u001b[0m \u001b[0mregister_hook\u001b[0m\u001b[0;34m(\u001b[0m\u001b[0mself\u001b[0m\u001b[0;34m,\u001b[0m \u001b[0mhook\u001b[0m\u001b[0;34m)\u001b[0m\u001b[0;34m:\u001b[0m\u001b[0;34m\u001b[0m\u001b[0;34m\u001b[0m\u001b[0m\n",
      "\u001b[0;32m~/anaconda3/envs/dev/lib/python3.6/site-packages/torch/autograd/__init__.py\u001b[0m in \u001b[0;36mbackward\u001b[0;34m(tensors, grad_tensors, retain_graph, create_graph, grad_variables)\u001b[0m\n\u001b[1;32m     86\u001b[0m         \u001b[0mretain_graph\u001b[0m \u001b[0;34m=\u001b[0m \u001b[0mcreate_graph\u001b[0m\u001b[0;34m\u001b[0m\u001b[0;34m\u001b[0m\u001b[0m\n\u001b[1;32m     87\u001b[0m \u001b[0;34m\u001b[0m\u001b[0m\n\u001b[0;32m---> 88\u001b[0;31m     Variable._execution_engine.run_backward(\n\u001b[0m\u001b[1;32m     89\u001b[0m         \u001b[0mtensors\u001b[0m\u001b[0;34m,\u001b[0m \u001b[0mgrad_tensors\u001b[0m\u001b[0;34m,\u001b[0m \u001b[0mretain_graph\u001b[0m\u001b[0;34m,\u001b[0m \u001b[0mcreate_graph\u001b[0m\u001b[0;34m,\u001b[0m\u001b[0;34m\u001b[0m\u001b[0;34m\u001b[0m\u001b[0m\n\u001b[1;32m     90\u001b[0m         allow_unreachable=True)  # allow_unreachable flag\n",
      "\u001b[0;31mKeyboardInterrupt\u001b[0m: "
     ]
    }
   ],
   "source": [
    "for i in range(NUM_STEPS):\n",
    "    optimizer.zero_grad()\n",
    "    indices = torch.randperm(num_tjs)\n",
    "    LOSS = 0.0\n",
    "    for b in range(num_batches):\n",
    "        b_ind = indices[b*BATCH_SIZE:(b+1)*BATCH_SIZE]\n",
    "        xb = Xs[b_ind].cuda()[:, :, 0] ## B * T\n",
    "#         xb.requires_grad_(True)\n",
    "#         vb = Vs[b_ind].cuda()[:,:, 0]\n",
    "        x_pred = enc(xb)\n",
    "        loss = ((x_pred - xb)**2).sum(-1).mean()\n",
    "        loss.backward()\n",
    "#         v_pred = (torch.sign(xb.grad) * vb.abs()).detach()\n",
    "        optimizer.step()\n",
    "        LOSS += loss\n",
    "        \n",
    "    %time print('iter=%d, loss=%.6f' % (i, LOSS / num_batches))"
   ]
  },
  {
   "cell_type": "code",
   "execution_count": null,
   "metadata": {},
   "outputs": [],
   "source": [
    "# optimizer.zero_grad()\n",
    "# indices = torch.randperm(num_tjs)\n",
    "# b_ind = indices[0*BATCH_SIZE:(0+1)*BATCH_SIZE]\n",
    "# xb = Xs[b_ind].cuda()[:, :-1, 0].unsqueeze(-1)\n",
    "# xb.requires_grad_(True)\n",
    "\n",
    "# vb = Vs[b_ind].cuda()[:,:-1, 0].unsqueeze(-1)\n",
    "# x_pred = enc(xb, vb)\n",
    "# loss = ((x_pred - xb)**2).sum(-1).mean()\n",
    "# loss.backward()"
   ]
  },
  {
   "cell_type": "code",
   "execution_count": 55,
   "metadata": {},
   "outputs": [],
   "source": [
    "s = 4\n",
    "optimizer.zero_grad()\n",
    "xb = Xs[s:(s+1)].cuda()[:,:, 0]\n",
    "# xb.requires_grad_(True)\n",
    "x_pred = enc(xb)\n",
    "# x_pred.backward()\n",
    "# v_pred = (torch.sign(xb.grad) * vb.abs()).detach()\n",
    "# x_pred = x_pred.squeeze(0)"
   ]
  },
  {
   "cell_type": "code",
   "execution_count": null,
   "metadata": {},
   "outputs": [],
   "source": [
    "P = 20\n",
    "XP = []\n",
    "VP = []\n",
    "xp = x_pred[0, 0, :].unsqueeze(0).unsqueeze(0)\n",
    "# vp = v_pred[0, -1, :].unsqueeze(0).unsqueeze(0)\n",
    "vp = vb[0, 0, :].unsqueeze(0).unsqueeze(0)\n",
    "VP.append(vp.unsqueeze(0))\n",
    "XP.append(xp.unsqueeze(0))\n",
    "\n",
    "for p in range(P):\n",
    "    xp, vp, _, _, _ = enc(xp,vp)\n",
    "    XP.append(xp.unsqueeze(0))\n",
    "    VP.append(vp.unsqueeze(0))\n",
    "VP = torch.cat(VP, 0).squeeze(1)\n",
    "XP = torch.cat(XP, 0).squeeze(1)"
   ]
  },
  {
   "cell_type": "code",
   "execution_count": 58,
   "metadata": {},
   "outputs": [
    {
     "data": {
      "text/plain": [
       "torch.Size([1, 20])"
      ]
     },
     "execution_count": 58,
     "metadata": {},
     "output_type": "execute_result"
    }
   ],
   "source": [
    "xb.shape"
   ]
  },
  {
   "cell_type": "code",
   "execution_count": 60,
   "metadata": {},
   "outputs": [],
   "source": [
    "# space = torch.linspace(0, 20, 200)\n",
    "# wave = (w.cpu()[0, 0, :] * torch.sin(space.unsqueeze(-1).repeat(1, 8) * alpha.cpu()[0, 0, :] + t.cpu()[0, 0, :])).sum(-1).unsqueeze(-1)\n",
    "# grad = (alpha.cpu()[0, 0, :] * w.cpu()[0, 0, :] * torch.cos(space.unsqueeze(-1).repeat(1, 8) * alpha.cpu()[0, 0, :] + t.cpu()[0, 0, :])).sum(-1).unsqueeze(-1).detach().sign() * vb[0, 0, 0].cpu().abs()"
   ]
  },
  {
   "cell_type": "code",
   "execution_count": 73,
   "metadata": {},
   "outputs": [
    {
     "data": {
      "text/plain": [
       "[<matplotlib.lines.Line2D at 0x7f24b013e828>]"
      ]
     },
     "execution_count": 73,
     "metadata": {},
     "output_type": "execute_result"
    },
    {
     "data": {
      "image/png": "[encoded data removed]",
      "text/plain": [
       "<Figure size 432x288 with 1 Axes>"
      ]
     },
     "metadata": {},
     "output_type": "display_data"
    }
   ],
   "source": [
    "s = 19\n",
    "optimizer.zero_grad()\n",
    "xb = Xs[s:(s+1)].cuda()[:,:, 0]\n",
    "# xb.requires_grad_(True)\n",
    "x_pred = enc(xb)\n",
    "\n",
    "x_plt = np.arange(0, 0.2*20, 0.2)\n",
    "plt.plot(x_plt, xb[0].cpu().data.numpy(), c='r', marker='o')\n",
    "plt.plot(x_plt, x_pred[0].cpu().data.numpy(), c='b', marker='o')\n",
    "# plt.plot(x_plt, XP[:, 0, 0].cpu().data.numpy(), c='m')\n",
    "# plt.plot(space.data.numpy(), wave.data.numpy())\n",
    "# plt.plot(space.data.numpy(), grad.data.numpy(), marker='o')"
   ]
  },
  {
   "cell_type": "code",
   "execution_count": null,
   "metadata": {},
   "outputs": [],
   "source": []
  },
  {
   "cell_type": "code",
   "execution_count": null,
   "metadata": {},
   "outputs": [],
   "source": []
  },
  {
   "cell_type": "code",
   "execution_count": null,
   "metadata": {},
   "outputs": [],
   "source": [
    "plt.scatter(xb[0, 1:, 0].cpu().data.numpy(), xb[0, 1:, 1].cpu().data.numpy(), c='r')\n",
    "# plt.scatter(x_pred[:, 0].cpu().data.numpy(), x_pred[:, 1].cpu().data.numpy(), c='b')\n",
    "# plt.scatter(XP[:, 0].cpu().data.numpy(), XP[:, 1].cpu().data.numpy(), c='m')"
   ]
  },
  {
   "cell_type": "code",
   "execution_count": null,
   "metadata": {},
   "outputs": [],
   "source": [
    "list(enc.parameters())"
   ]
  },
  {
   "cell_type": "code",
   "execution_count": null,
   "metadata": {},
   "outputs": [],
   "source": [
    "x_plt.shape"
   ]
  },
  {
   "cell_type": "code",
   "execution_count": null,
   "metadata": {},
   "outputs": [],
   "source": [
    "xb.shape"
   ]
  },
  {
   "cell_type": "code",
   "execution_count": null,
   "metadata": {},
   "outputs": [],
   "source": []
  }
 ],
 "metadata": {
  "kernelspec": {
   "display_name": "Python 3",
   "language": "python",
   "name": "python3"
  },
  "language_info": {
   "codemirror_mode": {
    "name": "ipython",
    "version": 3
   },
   "file_extension": ".py",
   "mimetype": "text/x-python",
   "name": "python",
   "nbconvert_exporter": "python",
   "pygments_lexer": "ipython3",
   "version": "3.6.7"
  }
 },
 "nbformat": 4,
 "nbformat_minor": 2
}
