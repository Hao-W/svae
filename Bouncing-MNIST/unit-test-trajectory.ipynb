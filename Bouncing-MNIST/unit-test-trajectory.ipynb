{
 "cells": [
  {
   "cell_type": "code",
   "execution_count": 1,
   "metadata": {},
   "outputs": [],
   "source": [
    "%matplotlib inline\n",
    "import matplotlib.pyplot as plt\n",
    "import torch\n",
    "import torch.nn as nn\n",
    "from sim_moving import *\n",
    "from torch.distributions.normal import Normal\n",
    "import numpy as np\n",
    "import sys\n",
    "sys.path.append('/home/hao/Research/probtorch/')\n",
    "import probtorch"
   ]
  },
  {
   "cell_type": "code",
   "execution_count": 2,
   "metadata": {},
   "outputs": [],
   "source": [
    "num_tjs = 10000\n",
    "T = 20\n",
    "num_digits = 1\n",
    "step_length = 1.0\n",
    "frame_size = 64\n",
    "PATH = '/home/hao/Research/amortized/Moving-MNIST/data/'\n",
    "mnist_path = '/home/hao/Research/apg_data/mnist/'\n",
    "file_size = 10000\n",
    "# simulator = BouncingMNIST(mnist_path=mnist_path, path=PATH, timesteps=T, num_digits=num_digits, step_length=step_length, file_size=file_size)\n",
    "# simulator.sim_tjs(num_tjs)\n",
    "\n",
    "Vs = torch.from_numpy(np.load('./data/tjs_v.npy')).float()\n",
    "Xs = torch.from_numpy(np.load('./data/tjs_x.npy')).float()\n",
    "##\n",
    "NUM_HIDDEN = 64\n",
    "NUM_STEPS = 1000\n",
    "BATCH_SIZE = 10\n",
    "SAMPLE_SIZE = 10\n",
    "CUDA = torch.cuda.is_available()\n",
    "num_tjs = Vs.shape[0]\n",
    "num_batches = int(num_tjs /  BATCH_SIZE)\n",
    "latent_dim = 8\n",
    "delta_t = 0.2"
   ]
  },
  {
   "cell_type": "code",
   "execution_count": 3,
   "metadata": {},
   "outputs": [],
   "source": [
    "# class Enc_tj(nn.Module):\n",
    "#     def __init__(self, input_dim, num_hidden, latent_dim):\n",
    "#         super(self.__class__, self).__init__()\n",
    "#         self.enc_w = nn.Sequential(\n",
    "#                             nn.Linear(input_dim, latent_dim))\n",
    "#         self.enc_alpha = nn.Sequential(\n",
    "#                             nn.Linear(input_dim, latent_dim))\n",
    "#         self.enc_t = nn.Sequential(\n",
    "#                             nn.Linear(input_dim, latent_dim))\n",
    "#     def forward(self, x, v):\n",
    "#         xv = torch.cat((x, v), -1)\n",
    "#         w = self.enc_w(xv)\n",
    "#         alpha = self.enc_alpha(xv)\n",
    "#         t = self.enc_t(xv)\n",
    "#         x_pred = (w * torch.sin(x * alpha + t)).sum(-1).unsqueeze(-1)\n",
    "#         min_ind = torch.argmin(alpha, dim=-1).unsqueeze(-1).detach()\n",
    "        \n",
    "# #         alpha_min = torch.gather(alpha, 2, min_ind).detach()\n",
    "# #         w_min = torch.gather(w, 2, min_ind).detach()\n",
    "# #         t_min = torch.gather(t, 2, min_ind).detach()\n",
    "#         v_pred = (alpha * w * torch.cos(x * alpha + t)).sum(-1).unsqueeze(-1).detach().sign() * v.abs()\n",
    "#         return x_pred, v_pred, alpha, w, t"
   ]
  },
  {
   "cell_type": "code",
   "execution_count": 4,
   "metadata": {},
   "outputs": [],
   "source": [
    "class Enc_tj(nn.Module):\n",
    "    def __init__(self, input_dim, num_hidden, latent_dim, T, delta_t, CUDA):\n",
    "        super(self.__class__, self).__init__()\n",
    "        self.enc_w = nn.Sequential(\n",
    "                            nn.Linear(input_dim, num_hidden),\n",
    "                            nn.ReLU(),\n",
    "                            nn.Linear(num_hidden, latent_dim))\n",
    "        self.enc_alpha = nn.Sequential(\n",
    "                            nn.Linear(input_dim, num_hidden),\n",
    "                            nn.ReLU(),\n",
    "                            nn.Linear(num_hidden, latent_dim))\n",
    "        self.enc_t = nn.Sequential(\n",
    "                            nn.Linear(input_dim, num_hidden),\n",
    "                            nn.ReLU(),\n",
    "                            nn.Linear(num_hidden, latent_dim))\n",
    "        \n",
    "        \n",
    "        self.ts =  torch.arange(0, T*delta_t, delta_t).float()\n",
    "        if CUDA:\n",
    "            self.ts = self.ts.cuda()\n",
    "    def forward(self, x):\n",
    "        B, _ = x.shape\n",
    "        w = self.enc_w(x)\n",
    "        alpha = self.enc_alpha(x)\n",
    "        phase = self.enc_t(x)\n",
    "        x_pred = (w.unsqueeze(1).repeat(1, T, 1) * torch.sin(torch.bmm(self.ts.repeat(B, 1).unsqueeze(-1), alpha.unsqueeze(1)) + phase.unsqueeze(1).repeat(1, T, 1))).sum(-1)\n",
    "#         min_ind = torch.argmin(alpha, dim=-1).unsqueeze(-1).detach()\n",
    "        \n",
    "#         alpha_min = torch.gather(alpha, 2, min_ind).detach()\n",
    "#         w_min = torch.gather(w, 2, min_ind).detach()\n",
    "#         t_min = torch.gather(t, 2, min_ind).detach()\n",
    "#         v_pred = (alpha * w * torch.cos(x * alpha + t)).sum(-1).unsqueeze(-1).detach().sign() * v.abs()\n",
    "        return x_pred"
   ]
  },
  {
   "cell_type": "code",
   "execution_count": 5,
   "metadata": {},
   "outputs": [],
   "source": [
    "enc = Enc_tj(input_dim=T, num_hidden=NUM_HIDDEN, latent_dim=latent_dim, T=T, delta_t=delta_t, CUDA=CUDA)\n",
    "enc.cuda()\n",
    "optimizer =  torch.optim.Adam(list(enc.parameters()),lr=1e-4, betas=(0.9, 0.99))"
   ]
  },
  {
   "cell_type": "code",
   "execution_count": 7,
   "metadata": {},
   "outputs": [
    {
     "name": "stdout",
     "output_type": "stream",
     "text": [
      "iter=0, loss=6.682208\n",
      "CPU times: user 340 µs, sys: 0 ns, total: 340 µs\n",
      "Wall time: 326 µs\n",
      "iter=1, loss=6.675648\n",
      "CPU times: user 159 µs, sys: 7 µs, total: 166 µs\n",
      "Wall time: 171 µs\n",
      "iter=2, loss=6.674612\n",
      "CPU times: user 183 µs, sys: 8 µs, total: 191 µs\n",
      "Wall time: 196 µs\n",
      "iter=3, loss=6.670956\n",
      "CPU times: user 391 µs, sys: 16 µs, total: 407 µs\n",
      "Wall time: 412 µs\n",
      "iter=4, loss=6.671676\n",
      "CPU times: user 416 µs, sys: 17 µs, total: 433 µs\n",
      "Wall time: 438 µs\n",
      "iter=5, loss=6.672876\n",
      "CPU times: user 155 µs, sys: 6 µs, total: 161 µs\n",
      "Wall time: 166 µs\n"
     ]
    },
    {
     "ename": "KeyboardInterrupt",
     "evalue": "",
     "output_type": "error",
     "traceback": [
      "\u001b[0;31m---------------------------------------------------------------------------\u001b[0m",
      "\u001b[0;31mKeyboardInterrupt\u001b[0m                         Traceback (most recent call last)",
      "\u001b[0;32m<ipython-input-7-ee1bbebf4a66>\u001b[0m in \u001b[0;36m<module>\u001b[0;34m()\u001b[0m\n\u001b[1;32m      9\u001b[0m         \u001b[0mx_pred\u001b[0m \u001b[0;34m=\u001b[0m \u001b[0menc\u001b[0m\u001b[0;34m(\u001b[0m\u001b[0mxb\u001b[0m\u001b[0;34m)\u001b[0m\u001b[0;34m\u001b[0m\u001b[0;34m\u001b[0m\u001b[0m\n\u001b[1;32m     10\u001b[0m         \u001b[0mloss\u001b[0m \u001b[0;34m=\u001b[0m \u001b[0;34m(\u001b[0m\u001b[0;34m(\u001b[0m\u001b[0mx_pred\u001b[0m \u001b[0;34m-\u001b[0m \u001b[0mxb\u001b[0m\u001b[0;34m)\u001b[0m\u001b[0;34m**\u001b[0m\u001b[0;36m2\u001b[0m\u001b[0;34m)\u001b[0m\u001b[0;34m.\u001b[0m\u001b[0msum\u001b[0m\u001b[0;34m(\u001b[0m\u001b[0;34m-\u001b[0m\u001b[0;36m1\u001b[0m\u001b[0;34m)\u001b[0m\u001b[0;34m.\u001b[0m\u001b[0mmean\u001b[0m\u001b[0;34m(\u001b[0m\u001b[0;34m)\u001b[0m\u001b[0;34m\u001b[0m\u001b[0;34m\u001b[0m\u001b[0m\n\u001b[0;32m---> 11\u001b[0;31m         \u001b[0mloss\u001b[0m\u001b[0;34m.\u001b[0m\u001b[0mbackward\u001b[0m\u001b[0;34m(\u001b[0m\u001b[0;34m)\u001b[0m\u001b[0;34m\u001b[0m\u001b[0;34m\u001b[0m\u001b[0m\n\u001b[0m\u001b[1;32m     12\u001b[0m \u001b[0;31m#         v_pred = (torch.sign(xb.grad) * vb.abs()).detach()\u001b[0m\u001b[0;34m\u001b[0m\u001b[0;34m\u001b[0m\u001b[0;34m\u001b[0m\u001b[0m\n\u001b[1;32m     13\u001b[0m         \u001b[0moptimizer\u001b[0m\u001b[0;34m.\u001b[0m\u001b[0mstep\u001b[0m\u001b[0;34m(\u001b[0m\u001b[0;34m)\u001b[0m\u001b[0;34m\u001b[0m\u001b[0;34m\u001b[0m\u001b[0m\n",
      "\u001b[0;32m~/anaconda3/envs/dev/lib/python3.6/site-packages/torch/tensor.py\u001b[0m in \u001b[0;36mbackward\u001b[0;34m(self, gradient, retain_graph, create_graph)\u001b[0m\n\u001b[1;32m    100\u001b[0m                 \u001b[0mproducts\u001b[0m\u001b[0;34m.\u001b[0m \u001b[0mDefaults\u001b[0m \u001b[0mto\u001b[0m\u001b[0;31m \u001b[0m\u001b[0;31m`\u001b[0m\u001b[0;31m`\u001b[0m\u001b[0;32mFalse\u001b[0m\u001b[0;31m`\u001b[0m\u001b[0;31m`\u001b[0m\u001b[0;34m.\u001b[0m\u001b[0;34m\u001b[0m\u001b[0;34m\u001b[0m\u001b[0m\n\u001b[1;32m    101\u001b[0m         \"\"\"\n\u001b[0;32m--> 102\u001b[0;31m         \u001b[0mtorch\u001b[0m\u001b[0;34m.\u001b[0m\u001b[0mautograd\u001b[0m\u001b[0;34m.\u001b[0m\u001b[0mbackward\u001b[0m\u001b[0;34m(\u001b[0m\u001b[0mself\u001b[0m\u001b[0;34m,\u001b[0m \u001b[0mgradient\u001b[0m\u001b[0;34m,\u001b[0m \u001b[0mretain_graph\u001b[0m\u001b[0;34m,\u001b[0m \u001b[0mcreate_graph\u001b[0m\u001b[0;34m)\u001b[0m\u001b[0;34m\u001b[0m\u001b[0;34m\u001b[0m\u001b[0m\n\u001b[0m\u001b[1;32m    103\u001b[0m \u001b[0;34m\u001b[0m\u001b[0m\n\u001b[1;32m    104\u001b[0m     \u001b[0;32mdef\u001b[0m \u001b[0mregister_hook\u001b[0m\u001b[0;34m(\u001b[0m\u001b[0mself\u001b[0m\u001b[0;34m,\u001b[0m \u001b[0mhook\u001b[0m\u001b[0;34m)\u001b[0m\u001b[0;34m:\u001b[0m\u001b[0;34m\u001b[0m\u001b[0;34m\u001b[0m\u001b[0m\n",
      "\u001b[0;32m~/anaconda3/envs/dev/lib/python3.6/site-packages/torch/autograd/__init__.py\u001b[0m in \u001b[0;36mbackward\u001b[0;34m(tensors, grad_tensors, retain_graph, create_graph, grad_variables)\u001b[0m\n\u001b[1;32m     88\u001b[0m     Variable._execution_engine.run_backward(\n\u001b[1;32m     89\u001b[0m         \u001b[0mtensors\u001b[0m\u001b[0;34m,\u001b[0m \u001b[0mgrad_tensors\u001b[0m\u001b[0;34m,\u001b[0m \u001b[0mretain_graph\u001b[0m\u001b[0;34m,\u001b[0m \u001b[0mcreate_graph\u001b[0m\u001b[0;34m,\u001b[0m\u001b[0;34m\u001b[0m\u001b[0;34m\u001b[0m\u001b[0m\n\u001b[0;32m---> 90\u001b[0;31m         allow_unreachable=True)  # allow_unreachable flag\n\u001b[0m\u001b[1;32m     91\u001b[0m \u001b[0;34m\u001b[0m\u001b[0m\n\u001b[1;32m     92\u001b[0m \u001b[0;34m\u001b[0m\u001b[0m\n",
      "\u001b[0;31mKeyboardInterrupt\u001b[0m: "
     ]
    }
   ],
   "source": [
    "optimizer =  torch.optim.Adam(list(enc.parameters()),lr=1e-4, betas=(0.9, 0.99))\n",
    "for i in range(NUM_STEPS):\n",
    "    optimizer.zero_grad()\n",
    "    indices = torch.randperm(num_tjs)\n",
    "    LOSS = 0.0\n",
    "    for b in range(num_batches):\n",
    "        b_ind = indices[b*BATCH_SIZE:(b+1)*BATCH_SIZE]\n",
    "        xb = Xs[b_ind].cuda()[:, :, 0] ## B * T\n",
    "        x_pred = enc(xb)\n",
    "        loss = ((x_pred - xb)**2).sum(-1).mean()\n",
    "        loss.backward()\n",
    "#         v_pred = (torch.sign(xb.grad) * vb.abs()).detach()\n",
    "        optimizer.step()\n",
    "        LOSS += loss\n",
    "        \n",
    "    %time print('iter=%d, loss=%.6f' % (i, LOSS / num_batches))"
   ]
  },
  {
   "cell_type": "code",
   "execution_count": null,
   "metadata": {},
   "outputs": [],
   "source": [
    "# optimizer.zero_grad()\n",
    "# indices = torch.randperm(num_tjs)\n",
    "# b_ind = indices[0*BATCH_SIZE:(0+1)*BATCH_SIZE]\n",
    "# xb = Xs[b_ind].cuda()[:, :-1, 0].unsqueeze(-1)\n",
    "# xb.requires_grad_(True)\n",
    "\n",
    "# vb = Vs[b_ind].cuda()[:,:-1, 0].unsqueeze(-1)\n",
    "# x_pred = enc(xb, vb)\n",
    "# loss = ((x_pred - xb)**2).sum(-1).mean()\n",
    "# loss.backward()"
   ]
  },
  {
   "cell_type": "code",
   "execution_count": null,
   "metadata": {},
   "outputs": [],
   "source": [
    "s = 4\n",
    "optimizer.zero_grad()\n",
    "xb = Xs[s:(s+1)].cuda()[:,:, 0]\n",
    "# xb.requires_grad_(True)\n",
    "x_pred = enc(xb)\n",
    "# x_pred.backward()\n",
    "# v_pred = (torch.sign(xb.grad) * vb.abs()).detach()\n",
    "# x_pred = x_pred.squeeze(0)"
   ]
  },
  {
   "cell_type": "code",
   "execution_count": 8,
   "metadata": {},
   "outputs": [
    {
     "ename": "IndexError",
     "evalue": "too many indices for tensor of dimension 2",
     "output_type": "error",
     "traceback": [
      "\u001b[0;31m---------------------------------------------------------------------------\u001b[0m",
      "\u001b[0;31mIndexError\u001b[0m                                Traceback (most recent call last)",
      "\u001b[0;32m<ipython-input-8-3aa05605804a>\u001b[0m in \u001b[0;36m<module>\u001b[0;34m()\u001b[0m\n\u001b[1;32m      2\u001b[0m \u001b[0mXP\u001b[0m \u001b[0;34m=\u001b[0m \u001b[0;34m[\u001b[0m\u001b[0;34m]\u001b[0m\u001b[0;34m\u001b[0m\u001b[0;34m\u001b[0m\u001b[0m\n\u001b[1;32m      3\u001b[0m \u001b[0mVP\u001b[0m \u001b[0;34m=\u001b[0m \u001b[0;34m[\u001b[0m\u001b[0;34m]\u001b[0m\u001b[0;34m\u001b[0m\u001b[0;34m\u001b[0m\u001b[0m\n\u001b[0;32m----> 4\u001b[0;31m \u001b[0mxp\u001b[0m \u001b[0;34m=\u001b[0m \u001b[0mx_pred\u001b[0m\u001b[0;34m[\u001b[0m\u001b[0;36m0\u001b[0m\u001b[0;34m,\u001b[0m \u001b[0;36m0\u001b[0m\u001b[0;34m,\u001b[0m \u001b[0;34m:\u001b[0m\u001b[0;34m]\u001b[0m\u001b[0;34m.\u001b[0m\u001b[0munsqueeze\u001b[0m\u001b[0;34m(\u001b[0m\u001b[0;36m0\u001b[0m\u001b[0;34m)\u001b[0m\u001b[0;34m.\u001b[0m\u001b[0munsqueeze\u001b[0m\u001b[0;34m(\u001b[0m\u001b[0;36m0\u001b[0m\u001b[0;34m)\u001b[0m\u001b[0;34m\u001b[0m\u001b[0;34m\u001b[0m\u001b[0m\n\u001b[0m\u001b[1;32m      5\u001b[0m \u001b[0;31m# vp = v_pred[0, -1, :].unsqueeze(0).unsqueeze(0)\u001b[0m\u001b[0;34m\u001b[0m\u001b[0;34m\u001b[0m\u001b[0;34m\u001b[0m\u001b[0m\n\u001b[1;32m      6\u001b[0m \u001b[0mvp\u001b[0m \u001b[0;34m=\u001b[0m \u001b[0mvb\u001b[0m\u001b[0;34m[\u001b[0m\u001b[0;36m0\u001b[0m\u001b[0;34m,\u001b[0m \u001b[0;36m0\u001b[0m\u001b[0;34m,\u001b[0m \u001b[0;34m:\u001b[0m\u001b[0;34m]\u001b[0m\u001b[0;34m.\u001b[0m\u001b[0munsqueeze\u001b[0m\u001b[0;34m(\u001b[0m\u001b[0;36m0\u001b[0m\u001b[0;34m)\u001b[0m\u001b[0;34m.\u001b[0m\u001b[0munsqueeze\u001b[0m\u001b[0;34m(\u001b[0m\u001b[0;36m0\u001b[0m\u001b[0;34m)\u001b[0m\u001b[0;34m\u001b[0m\u001b[0;34m\u001b[0m\u001b[0m\n",
      "\u001b[0;31mIndexError\u001b[0m: too many indices for tensor of dimension 2"
     ]
    }
   ],
   "source": [
    "P = 20\n",
    "XP = []\n",
    "VP = []\n",
    "xp = x_pred[0, 0, :].unsqueeze(0).unsqueeze(0)\n",
    "# vp = v_pred[0, -1, :].unsqueeze(0).unsqueeze(0)\n",
    "vp = vb[0, 0, :].unsqueeze(0).unsqueeze(0)\n",
    "VP.append(vp.unsqueeze(0))\n",
    "XP.append(xp.unsqueeze(0))\n",
    "\n",
    "for p in range(P):\n",
    "    xp, vp, _, _, _ = enc(xp,vp)\n",
    "    XP.append(xp.unsqueeze(0))\n",
    "    VP.append(vp.unsqueeze(0))\n",
    "VP = torch.cat(VP, 0).squeeze(1)\n",
    "XP = torch.cat(XP, 0).squeeze(1)"
   ]
  },
  {
   "cell_type": "code",
   "execution_count": null,
   "metadata": {},
   "outputs": [],
   "source": [
    "xb.shape"
   ]
  },
  {
   "cell_type": "code",
   "execution_count": null,
   "metadata": {},
   "outputs": [],
   "source": [
    "# space = torch.linspace(0, 20, 200)\n",
    "# wave = (w.cpu()[0, 0, :] * torch.sin(space.unsqueeze(-1).repeat(1, 8) * alpha.cpu()[0, 0, :] + t.cpu()[0, 0, :])).sum(-1).unsqueeze(-1)\n",
    "# grad = (alpha.cpu()[0, 0, :] * w.cpu()[0, 0, :] * torch.cos(space.unsqueeze(-1).repeat(1, 8) * alpha.cpu()[0, 0, :] + t.cpu()[0, 0, :])).sum(-1).unsqueeze(-1).detach().sign() * vb[0, 0, 0].cpu().abs()"
   ]
  },
  {
   "cell_type": "code",
   "execution_count": 10,
   "metadata": {},
   "outputs": [
    {
     "data": {
      "text/plain": [
       "<matplotlib.legend.Legend at 0x7f51b843ac88>"
      ]
     },
     "execution_count": 10,
     "metadata": {},
     "output_type": "execute_result"
    },
    {
     "data": {
      "image/png": "[encoded data removed]",
      "text/plain": [
       "<Figure size 432x288 with 1 Axes>"
      ]
     },
     "metadata": {},
     "output_type": "display_data"
    }
   ],
   "source": [
    "s = 9\n",
    "optimizer.zero_grad()\n",
    "xb = Xs[s:(s+1)].cuda()[:,:, 0]\n",
    "# xb.requires_grad_(True)\n",
    "x_pred = enc(xb)\n",
    "\n",
    "x_plt = np.arange(0, 0.2*20, 0.2)\n",
    "plt.plot(x_plt, xb[0].cpu().data.numpy(), c='r', marker='o', label='data')\n",
    "plt.plot(x_plt, x_pred[0].cpu().data.numpy(), c='b', marker='o', label='prediction')\n",
    "plt.legend()\n",
    "# plt.plot(x_plt, XP[:, 0, 0].cpu().data.numpy(), c='m')\n",
    "# plt.plot(space.data.numpy(), wave.data.numpy())\n",
    "# plt.plot(space.data.numpy(), grad.data.numpy(), marker='o')"
   ]
  },
  {
   "cell_type": "code",
   "execution_count": null,
   "metadata": {},
   "outputs": [],
   "source": []
  },
  {
   "cell_type": "code",
   "execution_count": null,
   "metadata": {},
   "outputs": [],
   "source": []
  },
  {
   "cell_type": "code",
   "execution_count": null,
   "metadata": {},
   "outputs": [],
   "source": [
    "plt.scatter(xb[0, 1:, 0].cpu().data.numpy(), xb[0, 1:, 1].cpu().data.numpy(), c='r')\n",
    "# plt.scatter(x_pred[:, 0].cpu().data.numpy(), x_pred[:, 1].cpu().data.numpy(), c='b')\n",
    "# plt.scatter(XP[:, 0].cpu().data.numpy(), XP[:, 1].cpu().data.numpy(), c='m')"
   ]
  },
  {
   "cell_type": "code",
   "execution_count": null,
   "metadata": {},
   "outputs": [],
   "source": [
    "list(enc.parameters())"
   ]
  },
  {
   "cell_type": "code",
   "execution_count": null,
   "metadata": {},
   "outputs": [],
   "source": [
    "x_plt.shape"
   ]
  },
  {
   "cell_type": "code",
   "execution_count": null,
   "metadata": {},
   "outputs": [],
   "source": [
    "xb.shape"
   ]
  },
  {
   "cell_type": "code",
   "execution_count": null,
   "metadata": {},
   "outputs": [],
   "source": []
  }
 ],
 "metadata": {
  "kernelspec": {
   "display_name": "Python 3",
   "language": "python",
   "name": "python3"
  },
  "language_info": {
   "codemirror_mode": {
    "name": "ipython",
    "version": 3
   },
   "file_extension": ".py",
   "mimetype": "text/x-python",
   "name": "python",
   "nbconvert_exporter": "python",
   "pygments_lexer": "ipython3",
   "version": "3.6.7"
  }
 },
 "nbformat": 4,
 "nbformat_minor": 2
}
