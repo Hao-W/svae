{
 "cells": [
  {
   "cell_type": "code",
   "execution_count": 2,
   "metadata": {},
   "outputs": [],
   "source": [
    "import matplotlib.pyplot as plt\n",
    "import time\n",
    "import torch\n",
    "from torch import logsumexp\n",
    "from torch.distributions.multivariate_normal import MultivariateNormal\n",
    "from torch.distributions.normal import Normal\n",
    "import numpy as np"
   ]
  },
  {
   "cell_type": "code",
   "execution_count": 2,
   "metadata": {},
   "outputs": [],
   "source": [
    "num_samples = 50\n",
    "iterations = 100\n",
    "p_mu = 0.0\n",
    "q_mu = torch.tensor([10.0], requires_grad=True)\n",
    "# q_mu = torch.tensor([1.0], requires_grad=True)\n",
    "q_sigma = torch.tensor([1.0])\n",
    "\n",
    "lr = 1e-3\n",
    "\n",
    "log_Z = np.log(np.sqrt((2*np.pi)))"
   ]
  },
  {
   "cell_type": "code",
   "execution_count": 3,
   "metadata": {},
   "outputs": [],
   "source": [
    "EUBOs = []\n",
    "ELBOs = []\n",
    "for i in range(iterations):\n",
    "    proposal = Normal(q_mu, q_sigma)\n",
    "    xs = proposal.sample((num_samples,))\n",
    "    log_gammas = (-1.0 / 2.0) * ((xs - p_mu) ** 2)\n",
    "    log_q = proposal.log_prob(xs)\n",
    "\n",
    "    log_weights = log_gammas - log_q\n",
    "    weights = torch.exp(log_weights - logsumexp(log_weights, dim=0)).detach()\n",
    "    eubo = torch.mul(weights, log_weights).sum()\n",
    "    elbo = log_weights.mean()\n",
    "    gradient = torch.autograd.grad(eubo, q_mu)\n",
    "    q_mu = q_mu - lr * gradient[0]\n",
    "    EUBOs.append(eubo.item())\n",
    "    ELBOs.append(elbo.item())\n",
    "#     print('iteration : %d, eubo : %f' % (i, eubo))"
   ]
  },
  {
   "cell_type": "code",
   "execution_count": null,
   "metadata": {},
   "outputs": [],
   "source": []
  },
  {
   "cell_type": "code",
   "execution_count": 7,
   "metadata": {},
   "outputs": [
    {
     "data": {
      "text/plain": [
       "0.9189385332046727"
      ]
     },
     "execution_count": 7,
     "metadata": {},
     "output_type": "execute_result"
    }
   ],
   "source": [
    "log_Z"
   ]
  },
  {
   "cell_type": "code",
   "execution_count": null,
   "metadata": {},
   "outputs": [],
   "source": []
  }
 ],
 "metadata": {
  "kernelspec": {
   "display_name": "Python 3",
   "language": "python",
   "name": "python3"
  },
  "language_info": {
   "codemirror_mode": {
    "name": "ipython",
    "version": 3
   },
   "file_extension": ".py",
   "mimetype": "text/x-python",
   "name": "python",
   "nbconvert_exporter": "python",
   "pygments_lexer": "ipython3",
   "version": "3.6.7"
  }
 },
 "nbformat": 4,
 "nbformat_minor": 2
}
