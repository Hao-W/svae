{
 "cells": [
  {
   "cell_type": "code",
   "execution_count": 3,
   "metadata": {},
   "outputs": [],
   "source": [
    "import matplotlib.pyplot as plt\n",
    "import time\n",
    "import torch\n",
    "from torch import logsumexp\n",
    "from torch.distributions.multivariate_normal import MultivariateNormal\n",
    "from torch.distributions.normal import Normal"
   ]
  },
  {
   "cell_type": "code",
   "execution_count": 16,
   "metadata": {},
   "outputs": [],
   "source": [
    "num_samples = 100\n",
    "\n",
    "p_mu = 10.0\n",
    "q_mu = 1.0\n",
    "q_sigma = 1.0\n",
    "proposal = Normal(q_mu, q_sigma)"
   ]
  },
  {
   "cell_type": "code",
   "execution_count": 12,
   "metadata": {},
   "outputs": [
    {
     "data": {
      "text/plain": [
       "tensor(2.2891)"
      ]
     },
     "execution_count": 12,
     "metadata": {},
     "output_type": "execute_result"
    }
   ],
   "source": [
    "proposal.sample()"
   ]
  },
  {
   "cell_type": "code",
   "execution_count": 18,
   "metadata": {},
   "outputs": [
    {
     "data": {
      "text/plain": [
       "tensor([0.3800, 0.7344, 0.3409, 0.1920, 0.5064, 0.9573, 0.4630, 0.9508, 2.3016,\n",
       "        0.7860, 0.5941, 0.8553, 0.5977, 1.0904, 0.4666, 0.2205, 0.8791, 0.5451,\n",
       "        0.6753, 0.2760, 0.3105, 0.3446, 1.0788, 0.1940, 0.5072, 2.3792, 1.5536,\n",
       "        0.2761, 0.3275, 0.5267, 0.4739, 2.1298, 0.7336, 1.0794, 0.9868, 0.6325,\n",
       "        0.8843, 0.4998, 0.6145, 0.3060, 0.6751, 0.4805, 0.3843, 0.6962, 0.5019,\n",
       "        0.5070, 0.5609, 0.6902, 0.3544, 0.9328, 0.5279, 0.6899, 0.4374, 0.4756,\n",
       "        0.6299, 0.8955, 0.5370, 0.3767, 0.3411, 0.4676, 0.9476, 1.1709, 1.2859,\n",
       "        0.1754, 0.5085, 0.4546, 1.1128, 0.3948, 0.4179, 0.3722, 0.9279, 0.9576,\n",
       "        0.3107, 0.7508, 0.6931, 0.8323, 0.3476, 1.5146, 0.3364, 0.3737, 0.9076,\n",
       "        0.3105, 0.5770, 0.7813, 0.6331, 0.3655, 1.3148, 0.3380, 0.4333, 0.6744,\n",
       "        0.3470, 0.5462, 1.0197, 0.7068, 0.4812, 0.3278, 1.2633, 1.0721, 0.5104,\n",
       "        0.5943])"
      ]
     },
     "execution_count": 18,
     "metadata": {},
     "output_type": "execute_result"
    }
   ],
   "source": [
    "xs = proposal.sample((num_samples,))\n",
    "torch.exp((-1.0 / 2.0) * xs)"
   ]
  },
  {
   "cell_type": "code",
   "execution_count": null,
   "metadata": {},
   "outputs": [],
   "source": []
  }
 ],
 "metadata": {
  "kernelspec": {
   "display_name": "Python 3",
   "language": "python",
   "name": "python3"
  },
  "language_info": {
   "codemirror_mode": {
    "name": "ipython",
    "version": 3
   },
   "file_extension": ".py",
   "mimetype": "text/x-python",
   "name": "python",
   "nbconvert_exporter": "python",
   "pygments_lexer": "ipython3",
   "version": "3.6.7"
  }
 },
 "nbformat": 4,
 "nbformat_minor": 2
}
