{
 "cells": [
  {
   "cell_type": "code",
   "execution_count": 1,
   "metadata": {},
   "outputs": [],
   "source": [
    "import numpy as np\n",
    "import numpy.random as npr\n",
    "import matplotlib.pyplot as plt\n",
    "import numpy as np\n",
    "import matplotlib.pyplot as plt\n",
    "%matplotlib inline"
   ]
  },
  {
   "cell_type": "code",
   "execution_count": 2,
   "metadata": {},
   "outputs": [],
   "source": [
    "def make_pinwheel_data(radial_std, tangential_std, num_classes, num_per_class, rate):\n",
    "    rads = np.linspace(0, 2*np.pi, num_classes, endpoint=False)\n",
    "\n",
    "    features = npr.randn(num_classes*num_per_class, 2) \\\n",
    "        * np.array([radial_std, tangential_std])\n",
    "    features[:,0] += 1.\n",
    "    labels = np.repeat(np.arange(num_classes), num_per_class)\n",
    "\n",
    "    angles = rads[labels] + rate * np.exp(features[:,0])\n",
    "    rotations = np.stack([np.cos(angles), -np.sin(angles), np.sin(angles), np.cos(angles)])\n",
    "    rotations = np.reshape(rotations.T, (-1, 2, 2))\n",
    "\n",
    "    return 10*npr.permutation(np.einsum('ti,tij->tj', features, rotations))"
   ]
  },
  {
   "cell_type": "code",
   "execution_count": 3,
   "metadata": {},
   "outputs": [],
   "source": [
    "num_clusters = 5           # number of clusters in pinwheel data\n",
    "samples_per_cluster = 100  # number of samples per cluster in pinwheel\n",
    "K = 15                     # number of components in mixture model\n",
    "N = 2                      # number of latent dimensions\n",
    "P = 2 "
   ]
  },
  {
   "cell_type": "code",
   "execution_count": 4,
   "metadata": {},
   "outputs": [],
   "source": [
    "# generate synthetic data\n",
    "data = make_pinwheel_data(0.3, 0.05, num_clusters, samples_per_cluster, 0.25)"
   ]
  },
  {
   "cell_type": "code",
   "execution_count": 5,
   "metadata": {},
   "outputs": [
    {
     "data": {
      "image/png": "[encoded data removed]",
      "text/plain": [
       "<Figure size 288x288 with 1 Axes>"
      ]
     },
     "metadata": {},
     "output_type": "display_data"
    }
   ],
   "source": [
    "markersize = 4\n",
    "def make_figure():\n",
    "    fig, ax = plt.subplots(figsize=(4, 4))\n",
    "    ax.axis('off')\n",
    "    fig.tight_layout()\n",
    "    fig.subplots_adjust(top=1, bottom=0, right=1, left=0, hspace=0, wspace=0)\n",
    "    ax.margins(0, 0)\n",
    "    ax.xaxis.set_major_locator(plt.NullLocator())\n",
    "    ax.yaxis.set_major_locator(plt.NullLocator())\n",
    "    return fig, ax\n",
    "\n",
    "def plot_data(data):\n",
    "    fig, ax = make_figure()\n",
    "    ax.plot(data[:,0], data[:,1], 'k.', markersize=markersize)\n",
    "#     save_figure(fig, 'figures/mainfig_mix_data')\n",
    "#     plt.close()\n",
    "plot_data(data)"
   ]
  },
  {
   "cell_type": "code",
   "execution_count": null,
   "metadata": {},
   "outputs": [],
   "source": []
  }
 ],
 "metadata": {
  "kernelspec": {
   "display_name": "Python 3",
   "language": "python",
   "name": "python3"
  },
  "language_info": {
   "codemirror_mode": {
    "name": "ipython",
    "version": 3
   },
   "file_extension": ".py",
   "mimetype": "text/x-python",
   "name": "python",
   "nbconvert_exporter": "python",
   "pygments_lexer": "ipython3",
   "version": "3.6.5"
  }
 },
 "nbformat": 4,
 "nbformat_minor": 2
}
