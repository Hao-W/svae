{
 "cells": [
  {
   "cell_type": "code",
   "execution_count": 1,
   "metadata": {},
   "outputs": [
    {
     "name": "stdout",
     "output_type": "stream",
     "text": [
      "probtorch: 0.0+5a2c637 torch: 1.3.0 cuda: True\n"
     ]
    }
   ],
   "source": [
    "%matplotlib inline\n",
    "%run ../../import_envs.py\n",
    "print('probtorch:', probtorch.__version__, \n",
    "      'torch:', torch.__version__, \n",
    "      'cuda:', torch.cuda.is_available())"
   ]
  },
  {
   "cell_type": "code",
   "execution_count": 2,
   "metadata": {},
   "outputs": [],
   "source": [
    "%run PARAMETERS.py\n",
    "NAME = 'APG'\n",
    "PATH = NAME + '-bmnist-3digits-galileo-96'\n",
    "CUDA = torch.cuda.is_available()\n",
    "DEVICE = torch.device('cuda:1')\n",
    "\n",
    "Viz_INTERVAL = 5\n",
    "FS = 30*1.5\n",
    "TITLE_FS = 20\n",
    "LW= 3\n",
    "COLORS = ['#AA3377', '#EE7733', '#009988', '#0077BB', '#BBBBBB', '#EE3377', '#DDCC77']"
   ]
  },
  {
   "cell_type": "code",
   "execution_count": 3,
   "metadata": {},
   "outputs": [],
   "source": [
    "from model_operations import Init_models, Save_models\n",
    "models, AT = Init_models(K=K,\n",
    "                         D=D,\n",
    "                         FRAME_PIXELS=FRAME_PIXELS, \n",
    "                         DIGIT_PIXELS=DIGIT_PIXELS, \n",
    "                         HIDDEN_LIST=HIDDEN_LIST, \n",
    "                         CUDA=CUDA, \n",
    "                         DEVICE=DEVICE, \n",
    "                         lr=LEARNING_RATE, \n",
    "                         Test=True, \n",
    "                         RESTORE=True, \n",
    "                         PATH=PATH)\n",
    "\n",
    "mnist_mean = mnist_mean.cuda().to(DEVICE)"
   ]
  },
  {
   "cell_type": "code",
   "execution_count": 4,
   "metadata": {},
   "outputs": [],
   "source": [
    "K_test= 5\n",
    "T_test =100\n",
    "DATA_PATH_test = \"/data/hao/apg_data/mnist/test_T%dD%d/\" % (T_test, K_test)"
   ]
  },
  {
   "cell_type": "code",
   "execution_count": 5,
   "metadata": {},
   "outputs": [],
   "source": [
    "from apg_galileo import APG\n",
    "from viz_mc import Viz_MC\n",
    "from testing import Eval\n",
    "\n",
    "apg = APG(models=models, \n",
    "          AT=AT, \n",
    "          K=K_test, \n",
    "          T=T_test, \n",
    "          mnist_mean=mnist_mean, \n",
    "          frame_size=FRAME_PIXELS,\n",
    "          training=False)\n",
    "\n",
    "APG_STEPS = 5\n",
    "\n",
    "evaluator = Eval(APG=apg,\n",
    "                 APG_STEPS=APG_STEPS, \n",
    "                 S=5,\n",
    "                 DATA_PATH=DATA_PATH_test,\n",
    "                 DEVICE=DEVICE)\n",
    "\n",
    "visualizer = Viz_MC(K=K_test, \n",
    "                    viz_interval=Viz_INTERVAL, \n",
    "                    FS=FS, \n",
    "                    TITLE_FS=TITLE_FS, \n",
    "                    COLORS=COLORS,\n",
    "                    LW=LW)"
   ]
  },
  {
   "cell_type": "code",
   "execution_count": 6,
   "metadata": {},
   "outputs": [
    {
     "name": "stderr",
     "output_type": "stream",
     "text": [
      "/home/hao/anaconda3/lib/python3.7/site-packages/torch/nn/functional.py:2751: UserWarning: Default grid_sample and affine_grid behavior will be changed to align_corners=False from 1.4.0. See the documentation of grid_sample for details.\n",
      "  warnings.warn(\"Default grid_sample and affine_grid behavior will be changed \"\n",
      "/home/hao/anaconda3/lib/python3.7/site-packages/torch/nn/functional.py:2693: UserWarning: Default grid_sample and affine_grid behavior will be changed to align_corners=False from 1.4.0. See the documentation of grid_sample for details.\n",
      "  warnings.warn(\"Default grid_sample and affine_grid behavior will be changed \"\n"
     ]
    }
   ],
   "source": [
    "GROUP_PTR = 0\n",
    "DATA_PTR= 2\n",
    "\n",
    "\n",
    "\n",
    "Metrics = evaluator.Test_single_video(group_ptr=GROUP_PTR, \n",
    "                                      data_ptr=DATA_PTR)"
   ]
  },
  {
   "cell_type": "code",
   "execution_count": 7,
   "metadata": {},
   "outputs": [],
   "source": [
    "import os\n",
    "save_path_imgs = '/home/hao/Research/amortized/Bouncing-MNIST/results/%d-%d/' % (GROUP_PTR, DATA_PTR)\n",
    "save_path_video = '/home/hao/Research/amortized/Bouncing-MNIST/results/'\n",
    "\n",
    "# visualizer.Plot_long_video(Metrics, PATH=save_path_video, save_flag=False)"
   ]
  },
  {
   "cell_type": "code",
   "execution_count": 8,
   "metadata": {},
   "outputs": [],
   "source": [
    "visualizer.Save_imgs(Metrics, PATH=save_path_imgs, FS=6)"
   ]
  },
  {
   "cell_type": "code",
   "execution_count": null,
   "metadata": {},
   "outputs": [],
   "source": []
  }
 ],
 "metadata": {
  "kernelspec": {
   "display_name": "Python 3",
   "language": "python",
   "name": "python3"
  },
  "language_info": {
   "codemirror_mode": {
    "name": "ipython",
    "version": 3
   },
   "file_extension": ".py",
   "mimetype": "text/x-python",
   "name": "python",
   "nbconvert_exporter": "python",
   "pygments_lexer": "ipython3",
   "version": "3.7.3"
  }
 },
 "nbformat": 4,
 "nbformat_minor": 4
}
