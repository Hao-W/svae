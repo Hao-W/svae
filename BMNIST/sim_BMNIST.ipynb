{
 "cells": [
  {
   "cell_type": "code",
   "execution_count": 1,
   "metadata": {},
   "outputs": [],
   "source": [
    "%matplotlib inline\n",
    "import matplotlib.pyplot as plt\n",
    "import numpy as np\n",
    "import torch\n",
    "from torchvision import datasets, transforms\n",
    "from torch.nn.functional import affine_grid, grid_sample, conv2d\n",
    "from sim_moving import *"
   ]
  },
  {
   "cell_type": "code",
   "execution_count": 2,
   "metadata": {},
   "outputs": [],
   "source": [
    "# num_videoes = 10000\n",
    "# T = 10\n",
    "# num_digits = 3\n",
    "# step_length = 0.3\n",
    "# image_size = 96\n",
    "# PATH = '/data/hao/apg_data/mnist/test_T%dD%d/' % (T, num_digits) \n",
    "# mnist_path = '/home/hao/Research/apg_data/mnist/'\n",
    "# file_size = 1000\n",
    "# simulator = BouncingMNIST(mnist_path=mnist_path, path=PATH, timesteps=T, num_digits=num_digits, image_size=image_size, step_length=step_length, file_size=file_size)"
   ]
  },
  {
   "cell_type": "code",
   "execution_count": 3,
   "metadata": {},
   "outputs": [],
   "source": [
    "# simulator.save_data(num_videoes=num_videoes)"
   ]
  },
  {
   "cell_type": "code",
   "execution_count": 4,
   "metadata": {},
   "outputs": [],
   "source": [
    "# simulator.viz_moving_mnist(fs=15, num_videoes=num_videoes)"
   ]
  },
  {
   "cell_type": "code",
   "execution_count": 5,
   "metadata": {},
   "outputs": [
    {
     "name": "stderr",
     "output_type": "stream",
     "text": [
      "/home/hao/anaconda3/lib/python3.7/site-packages/torch/nn/functional.py:2751: UserWarning: Default grid_sample and affine_grid behavior will be changed to align_corners=False from 1.4.0. See the documentation of grid_sample for details.\n",
      "  warnings.warn(\"Default grid_sample and affine_grid behavior will be changed \"\n",
      "/home/hao/anaconda3/lib/python3.7/site-packages/torch/nn/functional.py:2693: UserWarning: Default grid_sample and affine_grid behavior will be changed to align_corners=False from 1.4.0. See the documentation of grid_sample for details.\n",
      "  warnings.warn(\"Default grid_sample and affine_grid behavior will be changed \"\n"
     ]
    },
    {
     "name": "stdout",
     "output_type": "stream",
     "text": [
      "digit=3 completed!\n",
      "digit=4 completed!\n",
      "digit=5 completed!\n",
      "digit=6 completed!\n"
     ]
    }
   ],
   "source": [
    "for d in range(3, 7, 1):\n",
    "    num_videoes = 10000\n",
    "    T = 100\n",
    "    num_digits = d\n",
    "    step_length = 0.3\n",
    "    image_size = 96\n",
    "    PATH = '/data/hao/apg_data/mnist/test_T%dD%d/' % (T, num_digits) \n",
    "    mnist_path = '/home/hao/Research/apg_data/mnist/'\n",
    "    file_size = 1000\n",
    "    simulator = BouncingMNIST(mnist_path=mnist_path, path=PATH, timesteps=T, num_digits=num_digits, image_size=image_size, step_length=step_length, file_size=file_size)\n",
    "    simulator.save_data(num_videoes=num_videoes)\n",
    "    print('digit=%d completed!' % num_digits)"
   ]
  },
  {
   "cell_type": "code",
   "execution_count": null,
   "metadata": {},
   "outputs": [],
   "source": []
  }
 ],
 "metadata": {
  "kernelspec": {
   "display_name": "Python 3",
   "language": "python",
   "name": "python3"
  },
  "language_info": {
   "codemirror_mode": {
    "name": "ipython",
    "version": 3
   },
   "file_extension": ".py",
   "mimetype": "text/x-python",
   "name": "python",
   "nbconvert_exporter": "python",
   "pygments_lexer": "ipython3",
   "version": "3.7.3"
  }
 },
 "nbformat": 4,
 "nbformat_minor": 4
}
