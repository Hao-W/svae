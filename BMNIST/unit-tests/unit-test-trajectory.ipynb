{
 "cells": [
  {
   "cell_type": "code",
   "execution_count": 3,
   "metadata": {},
   "outputs": [],
   "source": [
    "%matplotlib inline\n",
    "import matplotlib.pyplot as plt\n",
    "import torch\n",
    "import torch.nn as nn\n",
    "from sim_moving import *\n",
    "from torch.distributions.normal import Normal\n",
    "import numpy as np\n",
    "import sys\n",
    "sys.path.append('/home/hao/Research/probtorch/')\n",
    "import probtorch"
   ]
  },
  {
   "cell_type": "code",
   "execution_count": 4,
   "metadata": {},
   "outputs": [],
   "source": [
    "num_tjs = 10000\n",
    "T = 20\n",
    "num_digits = 1\n",
    "step_length = 1.0\n",
    "frame_size = 64\n",
    "PATH = '/home/hao/Research/amortized/Moving-MNIST/data/'\n",
    "mnist_path = '/home/hao/Research/apg_data/mnist/'\n",
    "file_size = 10000\n",
    "# simulator = BouncingMNIST(mnist_path=mnist_path, path=PATH, timesteps=T, num_digits=num_digits, step_length=step_length, file_size=file_size)\n",
    "# simulator.sim_tjs(num_tjs)\n",
    "\n",
    "Vs = torch.from_numpy(np.load('./data/tjs_v.npy')).float()\n",
    "Xs = torch.from_numpy(np.load('./data/tjs_x.npy')).float()\n",
    "##\n",
    "NUM_HIDDEN = 64\n",
    "NUM_STEPS = 1000\n",
    "BATCH_SIZE = 10\n",
    "SAMPLE_SIZE = 10\n",
    "CUDA = torch.cuda.is_available()\n",
    "num_tjs = Vs.shape[0]\n",
    "num_batches = int(num_tjs /  BATCH_SIZE)\n",
    "latent_dim = 8\n",
    "delta_t = 0.2"
   ]
  },
  {
   "cell_type": "code",
   "execution_count": 96,
   "metadata": {},
   "outputs": [],
   "source": [
    "x = np.linspace(0, 10, 10)\n",
    "f0 = 6\n",
    "N =4\n",
    "y = 0.0\n",
    "for i in range(N):\n",
    "    n = 2*i+1\n",
    "    y += (-1)**(i) * (n**(-2)) * np.sin(2*math.pi*f0*n*x+2)\n",
    "y *= math.pi / 4"
   ]
  },
  {
   "cell_type": "code",
   "execution_count": 97,
   "metadata": {},
   "outputs": [
    {
     "data": {
      "text/plain": [
       "[<matplotlib.lines.Line2D at 0x7f6e15358f60>]"
      ]
     },
     "execution_count": 97,
     "metadata": {},
     "output_type": "execute_result"
    },
    {
     "data": {
      "image/png": "[encoded data removed]",
      "text/plain": [
       "<Figure size 432x288 with 1 Axes>"
      ]
     },
     "metadata": {},
     "output_type": "display_data"
    }
   ],
   "source": [
    "plt.plot(x, y)"
   ]
  },
  {
   "cell_type": "code",
   "execution_count": 109,
   "metadata": {},
   "outputs": [],
   "source": [
    "class Enc_tj(nn.Module):\n",
    "    def __init__(self, input_dim, num_hidden, latent_dim, T, N, delta_t, CUDA):\n",
    "        super(self.__class__, self).__init__()\n",
    "        self.enc_phi = nn.Sequential(\n",
    "                            nn.Linear(input_dim, num_hidden),\n",
    "                            nn.ReLU(),\n",
    "                            nn.Linear(num_hidden, 1))\n",
    "        \n",
    "        self.enc_freq =  nn.Sequential(\n",
    "                            nn.Linear(input_dim, num_hidden),\n",
    "                            nn.ReLU(),\n",
    "                            nn.Linear(num_hidden, 1))\n",
    "        \n",
    "        self.ts = torch.arange(0, T*delta_t, delta_t).float()\n",
    "        self.iis = torch.arange(0, N, 1).float()\n",
    "        if CUDA:\n",
    "            self.ts = self.ts.cuda()\n",
    "            self.iis =self.iis.cuda()\n",
    "        self.ns = 2 * self.iis + 1\n",
    "        self.coef = (-1)**(self.iis) * (self.ns**(-2)) ## N\n",
    "    def forward(self, x, T, N):\n",
    "        B, _ = x.shape\n",
    "        phi = self.enc_phi(x)\n",
    "        freq = self.enc_freq(x)\n",
    "        temp1 = (2*math.pi*freq) * self.ts.repeat(B, 1) # B * T\n",
    "        y = (temp1.unsqueeze(-1).repeat(1,1,N) * self.ns.repeat(B, T, 1) + phi.unsqueeze(-1)).sum(-1) * (math.pi / 4)\n",
    "\n",
    "        return y"
   ]
  },
  {
   "cell_type": "code",
   "execution_count": 110,
   "metadata": {},
   "outputs": [],
   "source": [
    "N= 4\n",
    "enc = Enc_tj(input_dim=T, num_hidden=NUM_HIDDEN, latent_dim=latent_dim, T=T, N=N, delta_t=delta_t, CUDA=CUDA)\n",
    "enc.cuda()\n",
    "optimizer =  torch.optim.Adam(list(enc.parameters()),lr=1e-4, betas=(0.9, 0.99))"
   ]
  },
  {
   "cell_type": "code",
   "execution_count": null,
   "metadata": {},
   "outputs": [],
   "source": [
    "optimizer =  torch.optim.Adam(list(enc.parameters()),lr=1e-5, betas=(0.9, 0.99))\n",
    "for i in range(NUM_STEPS):\n",
    "    optimizer.zero_grad()\n",
    "    indices = torch.randperm(num_tjs)\n",
    "    LOSS = 0.0\n",
    "    for b in range(num_batches):\n",
    "        b_ind = indices[b*BATCH_SIZE:(b+1)*BATCH_SIZE]\n",
    "        xb = Xs[b_ind].cuda()[:, :, 0] ## B * T\n",
    "        x_pred = enc(xb, T=T, N=N)\n",
    "        loss = ((x_pred - xb)**2).sum(-1).mean()\n",
    "        loss.backward()\n",
    "        optimizer.step()\n",
    "        LOSS += loss        \n",
    "    %time print('iter=%d, loss=%.6f' % (i, LOSS / num_batches))"
   ]
  },
  {
   "cell_type": "code",
   "execution_count": null,
   "metadata": {},
   "outputs": [],
   "source": [
    "# optimizer.zero_grad()\n",
    "# indices = torch.randperm(num_tjs)\n",
    "# b_ind = indices[0*BATCH_SIZE:(0+1)*BATCH_SIZE]\n",
    "# xb = Xs[b_ind].cuda()[:, :-1, 0].unsqueeze(-1)\n",
    "# xb.requires_grad_(True)\n",
    "\n",
    "# vb = Vs[b_ind].cuda()[:,:-1, 0].unsqueeze(-1)\n",
    "# x_pred = enc(xb, vb)\n",
    "# loss = ((x_pred - xb)**2).sum(-1).mean()\n",
    "# loss.backward()"
   ]
  },
  {
   "cell_type": "code",
   "execution_count": null,
   "metadata": {},
   "outputs": [],
   "source": [
    "s = 4\n",
    "optimizer.zero_grad()\n",
    "xb = Xs[s:(s+1)].cuda()[:,:, 0]\n",
    "# xb.requires_grad_(True)\n",
    "x_pred = enc(xb)\n",
    "# x_pred.backward()\n",
    "# v_pred = (torch.sign(xb.grad) * vb.abs()).detach()\n",
    "# x_pred = x_pred.squeeze(0)"
   ]
  },
  {
   "cell_type": "code",
   "execution_count": 8,
   "metadata": {},
   "outputs": [
    {
     "ename": "IndexError",
     "evalue": "too many indices for tensor of dimension 2",
     "output_type": "error",
     "traceback": [
      "\u001b[0;31m---------------------------------------------------------------------------\u001b[0m",
      "\u001b[0;31mIndexError\u001b[0m                                Traceback (most recent call last)",
      "\u001b[0;32m<ipython-input-8-3aa05605804a>\u001b[0m in \u001b[0;36m<module>\u001b[0;34m()\u001b[0m\n\u001b[1;32m      2\u001b[0m \u001b[0mXP\u001b[0m \u001b[0;34m=\u001b[0m \u001b[0;34m[\u001b[0m\u001b[0;34m]\u001b[0m\u001b[0;34m\u001b[0m\u001b[0;34m\u001b[0m\u001b[0m\n\u001b[1;32m      3\u001b[0m \u001b[0mVP\u001b[0m \u001b[0;34m=\u001b[0m \u001b[0;34m[\u001b[0m\u001b[0;34m]\u001b[0m\u001b[0;34m\u001b[0m\u001b[0;34m\u001b[0m\u001b[0m\n\u001b[0;32m----> 4\u001b[0;31m \u001b[0mxp\u001b[0m \u001b[0;34m=\u001b[0m \u001b[0mx_pred\u001b[0m\u001b[0;34m[\u001b[0m\u001b[0;36m0\u001b[0m\u001b[0;34m,\u001b[0m \u001b[0;36m0\u001b[0m\u001b[0;34m,\u001b[0m \u001b[0;34m:\u001b[0m\u001b[0;34m]\u001b[0m\u001b[0;34m.\u001b[0m\u001b[0munsqueeze\u001b[0m\u001b[0;34m(\u001b[0m\u001b[0;36m0\u001b[0m\u001b[0;34m)\u001b[0m\u001b[0;34m.\u001b[0m\u001b[0munsqueeze\u001b[0m\u001b[0;34m(\u001b[0m\u001b[0;36m0\u001b[0m\u001b[0;34m)\u001b[0m\u001b[0;34m\u001b[0m\u001b[0;34m\u001b[0m\u001b[0m\n\u001b[0m\u001b[1;32m      5\u001b[0m \u001b[0;31m# vp = v_pred[0, -1, :].unsqueeze(0).unsqueeze(0)\u001b[0m\u001b[0;34m\u001b[0m\u001b[0;34m\u001b[0m\u001b[0;34m\u001b[0m\u001b[0m\n\u001b[1;32m      6\u001b[0m \u001b[0mvp\u001b[0m \u001b[0;34m=\u001b[0m \u001b[0mvb\u001b[0m\u001b[0;34m[\u001b[0m\u001b[0;36m0\u001b[0m\u001b[0;34m,\u001b[0m \u001b[0;36m0\u001b[0m\u001b[0;34m,\u001b[0m \u001b[0;34m:\u001b[0m\u001b[0;34m]\u001b[0m\u001b[0;34m.\u001b[0m\u001b[0munsqueeze\u001b[0m\u001b[0;34m(\u001b[0m\u001b[0;36m0\u001b[0m\u001b[0;34m)\u001b[0m\u001b[0;34m.\u001b[0m\u001b[0munsqueeze\u001b[0m\u001b[0;34m(\u001b[0m\u001b[0;36m0\u001b[0m\u001b[0;34m)\u001b[0m\u001b[0;34m\u001b[0m\u001b[0;34m\u001b[0m\u001b[0m\n",
      "\u001b[0;31mIndexError\u001b[0m: too many indices for tensor of dimension 2"
     ]
    }
   ],
   "source": [
    "P = 20\n",
    "XP = []\n",
    "VP = []\n",
    "xp = x_pred[0, 0, :].unsqueeze(0).unsqueeze(0)\n",
    "# vp = v_pred[0, -1, :].unsqueeze(0).unsqueeze(0)\n",
    "vp = vb[0, 0, :].unsqueeze(0).unsqueeze(0)\n",
    "VP.append(vp.unsqueeze(0))\n",
    "XP.append(xp.unsqueeze(0))\n",
    "\n",
    "for p in range(P):\n",
    "    xp, vp, _, _, _ = enc(xp,vp)\n",
    "    XP.append(xp.unsqueeze(0))\n",
    "    VP.append(vp.unsqueeze(0))\n",
    "VP = torch.cat(VP, 0).squeeze(1)\n",
    "XP = torch.cat(XP, 0).squeeze(1)"
   ]
  },
  {
   "cell_type": "code",
   "execution_count": null,
   "metadata": {},
   "outputs": [],
   "source": [
    "xb.shape"
   ]
  },
  {
   "cell_type": "code",
   "execution_count": null,
   "metadata": {},
   "outputs": [],
   "source": [
    "# space = torch.linspace(0, 20, 200)\n",
    "# wave = (w.cpu()[0, 0, :] * torch.sin(space.unsqueeze(-1).repeat(1, 8) * alpha.cpu()[0, 0, :] + t.cpu()[0, 0, :])).sum(-1).unsqueeze(-1)\n",
    "# grad = (alpha.cpu()[0, 0, :] * w.cpu()[0, 0, :] * torch.cos(space.unsqueeze(-1).repeat(1, 8) * alpha.cpu()[0, 0, :] + t.cpu()[0, 0, :])).sum(-1).unsqueeze(-1).detach().sign() * vb[0, 0, 0].cpu().abs()"
   ]
  },
  {
   "cell_type": "code",
   "execution_count": 10,
   "metadata": {},
   "outputs": [
    {
     "data": {
      "text/plain": [
       "<matplotlib.legend.Legend at 0x7f51b843ac88>"
      ]
     },
     "execution_count": 10,
     "metadata": {},
     "output_type": "execute_result"
    },
    {
     "data": {
      "image/png": "[encoded data removed]",
      "text/plain": [
       "<Figure size 432x288 with 1 Axes>"
      ]
     },
     "metadata": {},
     "output_type": "display_data"
    }
   ],
   "source": [
    "s = 9\n",
    "optimizer.zero_grad()\n",
    "xb = Xs[s:(s+1)].cuda()[:,:, 0]\n",
    "# xb.requires_grad_(True)\n",
    "x_pred = enc(xb)\n",
    "\n",
    "x_plt = np.arange(0, 0.2*20, 0.2)\n",
    "plt.plot(x_plt, xb[0].cpu().data.numpy(), c='r', marker='o', label='data')\n",
    "plt.plot(x_plt, x_pred[0].cpu().data.numpy(), c='b', marker='o', label='prediction')\n",
    "plt.legend()\n",
    "# plt.plot(x_plt, XP[:, 0, 0].cpu().data.numpy(), c='m')\n",
    "# plt.plot(space.data.numpy(), wave.data.numpy())\n",
    "# plt.plot(space.data.numpy(), grad.data.numpy(), marker='o')"
   ]
  },
  {
   "cell_type": "code",
   "execution_count": null,
   "metadata": {},
   "outputs": [],
   "source": []
  },
  {
   "cell_type": "code",
   "execution_count": null,
   "metadata": {},
   "outputs": [],
   "source": []
  },
  {
   "cell_type": "code",
   "execution_count": null,
   "metadata": {},
   "outputs": [],
   "source": [
    "plt.scatter(xb[0, 1:, 0].cpu().data.numpy(), xb[0, 1:, 1].cpu().data.numpy(), c='r')\n",
    "# plt.scatter(x_pred[:, 0].cpu().data.numpy(), x_pred[:, 1].cpu().data.numpy(), c='b')\n",
    "# plt.scatter(XP[:, 0].cpu().data.numpy(), XP[:, 1].cpu().data.numpy(), c='m')"
   ]
  },
  {
   "cell_type": "code",
   "execution_count": null,
   "metadata": {},
   "outputs": [],
   "source": [
    "list(enc.parameters())"
   ]
  },
  {
   "cell_type": "code",
   "execution_count": null,
   "metadata": {},
   "outputs": [],
   "source": [
    "x_plt.shape"
   ]
  },
  {
   "cell_type": "code",
   "execution_count": null,
   "metadata": {},
   "outputs": [],
   "source": [
    "xb.shape"
   ]
  },
  {
   "cell_type": "code",
   "execution_count": null,
   "metadata": {},
   "outputs": [],
   "source": []
  }
 ],
 "metadata": {
  "kernelspec": {
   "display_name": "Python 3",
   "language": "python",
   "name": "python3"
  },
  "language_info": {
   "codemirror_mode": {
    "name": "ipython",
    "version": 3
   },
   "file_extension": ".py",
   "mimetype": "text/x-python",
   "name": "python",
   "nbconvert_exporter": "python",
   "pygments_lexer": "ipython3",
   "version": "3.7.3"
  }
 },
 "nbformat": 4,
 "nbformat_minor": 4
}
