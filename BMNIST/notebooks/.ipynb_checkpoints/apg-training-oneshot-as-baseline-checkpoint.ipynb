{
 "cells": [
  {
   "cell_type": "code",
   "execution_count": null,
   "metadata": {},
   "outputs": [],
   "source": [
    "%run ../../import_envs.py\n",
    "import numpy as np\n",
    "import torch\n",
    "import os\n",
    "# training parameters\n",
    "K = 3 # number of digits\n",
    "T = 10 # timesteps\n",
    "NUM_EPOCHS = 1000\n",
    "APG_SWEEPS = 0\n",
    "SAMPLE_SIZE = 20\n",
    "BATCH_SIZE = 10\n",
    "LR =  1 * 1e-4\n",
    "\n",
    "## Model Parameters\n",
    "FRAME_PIXELS = 96\n",
    "DIGIT_PIXELS = 28\n",
    "NUM_HIDDEN_DIGIT = 200\n",
    "NUM_HIDDEN_COOR = 200\n",
    "Z_WHERE_DIM = 2 # z_where dims\n",
    "Z_WHAT_DIM = 10\n",
    "\n",
    "MODEL_NAME = 'oneshot-as-baseline'\n",
    "RESAMPLING_STRATEGY = 'systematic'\n",
    "MODEL_VERSION = 'bmnist-%ddigits-%s' % (K, MODEL_NAME)\n",
    "\n",
    "print('inference method:%s, resampling:%s, apg sweeps:%s, epochs:%s, sample size:%s, batch size:%s, learning rate:%s' % (MODEL_NAME, RESAMPLING_STRATEGY, APG_SWEEPS, NUM_EPOCHS, SAMPLE_SIZE, BATCH_SIZE, LR))\n",
    "\n",
    "MNIST_MEAN_PATH = '../mnist_mean.npy'\n",
    "\n",
    "CUDA = torch.cuda.is_available()\n",
    "DEVICE = torch.device('cuda:0')"
   ]
  },
  {
   "cell_type": "code",
   "execution_count": null,
   "metadata": {},
   "outputs": [],
   "source": [
    "# train data path\n",
    "DATA_PATHS = []\n",
    "TRAIN_DATA_DIR = '/data/hao/nvi_data/bmnist/%ddigits/' % K\n",
    "# TRAIN_DATA_DIR = '/data/hao/apg_data/bmnist/train/'\n",
    "\n",
    "print('===Loading training data from %s===' % TRAIN_DATA_DIR)\n",
    "for file in os.listdir(TRAIN_DATA_DIR):\n",
    "    DATA_PATHS.append(os.path.join(TRAIN_DATA_DIR, file))\n",
    "print('===%d groups of data files are loaded.===' % len(DATA_PATHS))"
   ]
  },
  {
   "cell_type": "code",
   "execution_count": null,
   "metadata": {},
   "outputs": [],
   "source": [
    "from BMNIST.apg_modeling import init_model\n",
    "from BMNIST.affine_transformer import Affine_Transformer\n",
    "\n",
    "model, optimizer = init_model(frame_pixels=FRAME_PIXELS,\n",
    "                               digit_pixels=DIGIT_PIXELS, \n",
    "                               num_hidden_digit=NUM_HIDDEN_DIGIT, \n",
    "                               num_hidden_coor=NUM_HIDDEN_COOR, \n",
    "                               z_where_dim=Z_WHERE_DIM, \n",
    "                               z_what_dim=Z_WHAT_DIM, \n",
    "                               CUDA=CUDA, \n",
    "                               DEVICE=DEVICE, \n",
    "                               LOAD_VERSION=MODEL_VERSION, \n",
    "                               LR=LR)\n",
    "AT = Affine_Transformer(frame_pixels=FRAME_PIXELS, \n",
    "                        digit_pixels=DIGIT_PIXELS, \n",
    "                        CUDA=CUDA, \n",
    "                        DEVICE=DEVICE)\n",
    "\n",
    "from resample import Resampler\n",
    "resampler = Resampler(strategy=RESAMPLING_STRATEGY,\n",
    "                      sample_size=SAMPLE_SIZE,\n",
    "                      CUDA=CUDA, \n",
    "                      DEVICE=DEVICE)"
   ]
  },
  {
   "cell_type": "code",
   "execution_count": null,
   "metadata": {},
   "outputs": [],
   "source": [
    "from BMNIST.apg_training import train\n",
    "train(optimizer=optimizer, \n",
    "      model=model,\n",
    "      AT=AT,\n",
    "      resampler=resampler,\n",
    "      apg_sweeps=APG_SWEEPS,\n",
    "      data_paths=DATA_PATHS,\n",
    "      mnist_mean_path=MNIST_MEAN_PATH, \n",
    "      K=K,\n",
    "      num_epochs=NUM_EPOCHS,\n",
    "      sample_size=SAMPLE_SIZE,\n",
    "      batch_size=BATCH_SIZE,\n",
    "      CUDA=CUDA,\n",
    "      DEVICE=DEVICE,\n",
    "      MODEL_VERSION=MODEL_VERSION)"
   ]
  },
  {
   "cell_type": "code",
   "execution_count": null,
   "metadata": {},
   "outputs": [],
   "source": []
  }
 ],
 "metadata": {
  "kernelspec": {
   "display_name": "Python 3",
   "language": "python",
   "name": "python3"
  },
  "language_info": {
   "codemirror_mode": {
    "name": "ipython",
    "version": 3
   },
   "file_extension": ".py",
   "mimetype": "text/x-python",
   "name": "python",
   "nbconvert_exporter": "python",
   "pygments_lexer": "ipython3",
   "version": "3.7.3"
  }
 },
 "nbformat": 4,
 "nbformat_minor": 4
}
