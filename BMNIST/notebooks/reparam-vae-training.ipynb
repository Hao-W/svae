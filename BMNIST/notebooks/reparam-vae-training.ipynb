{
 "cells": [
  {
   "cell_type": "code",
   "execution_count": 1,
   "metadata": {},
   "outputs": [
    {
     "name": "stdout",
     "output_type": "stream",
     "text": [
      "probtorch: 0.0+5a2c637 torch: 1.3.0\n",
      "inference method:vae, epochs:500, sample size:10, batch size:10, learning rate:0.0001\n"
     ]
    }
   ],
   "source": [
    "%run ../../import_envs.py\n",
    "%run ../vae_hyperparams.py\n",
    "\n",
    "CUDA = torch.cuda.is_available()\n",
    "DEVICE = torch.device('cuda:1')"
   ]
  },
  {
   "cell_type": "code",
   "execution_count": 2,
   "metadata": {},
   "outputs": [
    {
     "name": "stdout",
     "output_type": "stream",
     "text": [
      "===Loading training data from /data/hao/apg_data/bmnist/train/===\n",
      "===60 groups of data files are loaded.===\n"
     ]
    }
   ],
   "source": [
    "# train data path\n",
    "DATA_PATHS = []\n",
    "TRAIN_DATA_DIR = '/data/hao/apg_data/bmnist/train/'\n",
    "print('===Loading training data from %s===' % TRAIN_DATA_DIR)\n",
    "for file in os.listdir(TRAIN_DATA_DIR):\n",
    "    DATA_PATHS.append(os.path.join(TRAIN_DATA_DIR, file))\n",
    "print('===%d groups of data files are loaded.===' % len(DATA_PATHS))"
   ]
  },
  {
   "cell_type": "code",
   "execution_count": 3,
   "metadata": {},
   "outputs": [],
   "source": [
    "from vae_modeling import init_model\n",
    "from affine_transformer import Affine_Transformer\n",
    "\n",
    "model, optimizer = init_model(frame_pixels=FRAME_PIXELS,\n",
    "                               digit_pixels=DIGIT_PIXELS, \n",
    "                               num_hidden_digit=NUM_HIDDEN_DIGIT, \n",
    "                               num_hidden_coor=NUM_HIDDEN_COOR, \n",
    "                               z_where_dim=Z_WHERE_DIM, \n",
    "                               z_what_dim=Z_WHAT_DIM, \n",
    "                               CUDA=CUDA, \n",
    "                               DEVICE=DEVICE, \n",
    "                               LOAD_VERSION=None, \n",
    "                               LR=LR)\n",
    "AT = Affine_Transformer(frame_pixels=FRAME_PIXELS, \n",
    "                        digit_pixels=DIGIT_PIXELS, \n",
    "                        CUDA=CUDA, \n",
    "                        DEVICE=DEVICE)"
   ]
  },
  {
   "cell_type": "code",
   "execution_count": null,
   "metadata": {},
   "outputs": [
    {
     "name": "stdout",
     "output_type": "stream",
     "text": [
      "Start to train the VAE samplers with 60 groups of datasets...\n"
     ]
    },
    {
     "name": "stderr",
     "output_type": "stream",
     "text": [
      "/home/hao/anaconda3/lib/python3.7/site-packages/torch/nn/functional.py:2751: UserWarning: Default grid_sample and affine_grid behavior will be changed to align_corners=False from 1.4.0. See the documentation of grid_sample for details.\n",
      "  warnings.warn(\"Default grid_sample and affine_grid behavior will be changed \"\n",
      "/home/hao/anaconda3/lib/python3.7/site-packages/torch/nn/functional.py:2693: UserWarning: Default grid_sample and affine_grid behavior will be changed to align_corners=False from 1.4.0. See the documentation of grid_sample for details.\n",
      "  warnings.warn(\"Default grid_sample and affine_grid behavior will be changed \"\n"
     ]
    },
    {
     "name": "stdout",
     "output_type": "stream",
     "text": [
      "Epoch=0, Group=0 completed in (44s),  \n"
     ]
    }
   ],
   "source": [
    "%run ../vae_training.py\n",
    "\n",
    "train(optimizer=optimizer, \n",
    "      model=model,\n",
    "      AT=AT,\n",
    "      data_paths=DATA_PATHS,\n",
    "      mnist_mean_path=MNIST_MEAN_PATH, \n",
    "      K=K,\n",
    "      num_epochs=NUM_EPOCHS,\n",
    "      sample_size=SAMPLE_SIZE,\n",
    "      batch_size=BATCH_SIZE,\n",
    "      CUDA=CUDA,\n",
    "      DEVICE=DEVICE,\n",
    "      MODEL_VERSION=MODEL_VERSION)"
   ]
  },
  {
   "cell_type": "code",
   "execution_count": null,
   "metadata": {},
   "outputs": [],
   "source": [
    "%debug"
   ]
  },
  {
   "cell_type": "code",
   "execution_count": null,
   "metadata": {},
   "outputs": [],
   "source": []
  }
 ],
 "metadata": {
  "kernelspec": {
   "display_name": "Python 3",
   "language": "python",
   "name": "python3"
  },
  "language_info": {
   "codemirror_mode": {
    "name": "ipython",
    "version": 3
   },
   "file_extension": ".py",
   "mimetype": "text/x-python",
   "name": "python",
   "nbconvert_exporter": "python",
   "pygments_lexer": "ipython3",
   "version": "3.7.3"
  }
 },
 "nbformat": 4,
 "nbformat_minor": 4
}
