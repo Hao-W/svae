{
 "cells": [
  {
   "cell_type": "code",
   "execution_count": 1,
   "metadata": {},
   "outputs": [
    {
     "name": "stdout",
     "output_type": "stream",
     "text": [
      "probtorch: 0.0+5a2c637 torch: 1.3.0\n",
      "inference method:apg, apg sweeps:1, epochs:500, sample size:10, batch size:10, learning rate:0.0001\n"
     ]
    }
   ],
   "source": [
    "%run ../../import_envs.py\n",
    "%run ../apg_hyperparams.py\n",
    "\n",
    "CUDA = torch.cuda.is_available()\n",
    "DEVICE = torch.device('cuda:1')"
   ]
  },
  {
   "cell_type": "code",
   "execution_count": 2,
   "metadata": {},
   "outputs": [
    {
     "name": "stdout",
     "output_type": "stream",
     "text": [
      "===Loading training data from /data/hao/apg_data/bmnist/train/===\n",
      "===60 groups of data files are loaded.===\n"
     ]
    }
   ],
   "source": [
    "# train data path\n",
    "DATA_PATHS = []\n",
    "TRAIN_DATA_DIR = '/data/hao/apg_data/bmnist/train/'\n",
    "print('===Loading training data from %s===' % TRAIN_DATA_DIR)\n",
    "for file in os.listdir(TRAIN_DATA_DIR):\n",
    "    DATA_PATHS.append(os.path.join(TRAIN_DATA_DIR, file))\n",
    "print('===%d groups of data files are loaded.===' % len(DATA_PATHS))"
   ]
  },
  {
   "cell_type": "code",
   "execution_count": 3,
   "metadata": {},
   "outputs": [],
   "source": [
    "from apg_modeling import init_model\n",
    "from affine_transformer import Affine_Transformer\n",
    "\n",
    "model, optimizer = init_model(frame_pixels=FRAME_PIXELS,\n",
    "                               digit_pixels=DIGIT_PIXELS, \n",
    "                               num_hidden_digit=NUM_HIDDEN_DIGIT, \n",
    "                               num_hidden_coor=NUM_HIDDEN_COOR, \n",
    "                               z_where_dim=Z_WHERE_DIM, \n",
    "                               z_what_dim=Z_WHAT_DIM, \n",
    "                               CUDA=CUDA, \n",
    "                               DEVICE=DEVICE, \n",
    "                               LOAD_VERSION=None, \n",
    "                               LR=LR)\n",
    "AT = Affine_Transformer(frame_pixels=FRAME_PIXELS, \n",
    "                        digit_pixels=DIGIT_PIXELS, \n",
    "                        CUDA=CUDA, \n",
    "                        DEVICE=DEVICE)"
   ]
  },
  {
   "cell_type": "code",
   "execution_count": 4,
   "metadata": {},
   "outputs": [
    {
     "name": "stdout",
     "output_type": "stream",
     "text": [
      "Start to train the APG samplers with 60 groups of datasets...\n"
     ]
    },
    {
     "name": "stderr",
     "output_type": "stream",
     "text": [
      "/home/hao/anaconda3/lib/python3.7/site-packages/torch/nn/functional.py:2751: UserWarning: Default grid_sample and affine_grid behavior will be changed to align_corners=False from 1.4.0. See the documentation of grid_sample for details.\n",
      "  warnings.warn(\"Default grid_sample and affine_grid behavior will be changed \"\n",
      "/home/hao/anaconda3/lib/python3.7/site-packages/torch/nn/functional.py:2693: UserWarning: Default grid_sample and affine_grid behavior will be changed to align_corners=False from 1.4.0. See the documentation of grid_sample for details.\n",
      "  warnings.warn(\"Default grid_sample and affine_grid behavior will be changed \"\n"
     ]
    },
    {
     "name": "stdout",
     "output_type": "stream",
     "text": [
      "Epoch=0, Group=0 completed in (56s),  \n",
      "Epoch=0, Group=1 completed in (56s),  \n",
      "Epoch=0, Group=2 completed in (56s),  \n",
      "Epoch=0, Group=3 completed in (56s),  \n",
      "Epoch=0, Group=4 completed in (56s),  \n",
      "Epoch=0, Group=5 completed in (56s),  \n",
      "Epoch=0, Group=6 completed in (56s),  \n"
     ]
    },
    {
     "name": "stderr",
     "output_type": "stream",
     "text": [
      "ERROR:root:Internal Python error in the inspect module.\n",
      "Below is the traceback from this internal error.\n",
      "\n"
     ]
    },
    {
     "name": "stdout",
     "output_type": "stream",
     "text": [
      "Traceback (most recent call last):\n",
      "  File \"/home/hao/anaconda3/lib/python3.7/site-packages/IPython/core/interactiveshell.py\", line 3325, in run_code\n",
      "    exec(code_obj, self.user_global_ns, self.user_ns)\n",
      "  File \"<ipython-input-4-7f5dcd85ad28>\", line 15, in <module>\n",
      "    MODEL_VERSION=MODEL_VERSION)\n",
      "  File \"/home/hao/Research/amortized/BMNIST/apg_training.py\", line 52, in train\n",
      "    density_required=density_required)\n",
      "  File \"/home/hao/Research/amortized/BMNIST/apg_objective.py\", line 66, in apg_objective\n",
      "    density_required=density_required)\n",
      "  File \"/home/hao/Research/amortized/BMNIST/apg_objective.py\", line 167, in rws\n",
      "    z_where_old_t_1=None)\n",
      "  File \"/home/hao/Research/amortized/BMNIST/apg_objective.py\", line 127, in propose_one_movement\n",
      "    q_k_f = enc_coor.forward(conved=conved_k, sampled=True)\n",
      "  File \"../modules/enc_coor.py\", line 31, in forward\n",
      "    q.normal(loc=q_mean, scale=q_std, value=z_where, name='z_where')\n",
      "  File \"<string>\", line 2, in f\n",
      "  File \"/home/hao/Research/probtorch/probtorch/stochastic.py\", line 292, in variable\n",
      "    self[name] = node\n",
      "  File \"/home/hao/Research/probtorch/probtorch/stochastic.py\", line 187, in __setitem__\n",
      "    \"with name: \" + name)\n",
      "ValueError: NaN log prob encountered in nodewith name: z_where\n",
      "\n",
      "During handling of the above exception, another exception occurred:\n",
      "\n",
      "Traceback (most recent call last):\n",
      "  File \"/home/hao/anaconda3/lib/python3.7/site-packages/IPython/core/interactiveshell.py\", line 2039, in showtraceback\n",
      "    stb = value._render_traceback_()\n",
      "AttributeError: 'ValueError' object has no attribute '_render_traceback_'\n",
      "\n",
      "During handling of the above exception, another exception occurred:\n",
      "\n",
      "Traceback (most recent call last):\n",
      "  File \"/home/hao/anaconda3/lib/python3.7/site-packages/IPython/core/ultratb.py\", line 1101, in get_records\n",
      "    return _fixed_getinnerframes(etb, number_of_lines_of_context, tb_offset)\n",
      "  File \"/home/hao/anaconda3/lib/python3.7/site-packages/IPython/core/ultratb.py\", line 319, in wrapped\n",
      "    return f(*args, **kwargs)\n",
      "  File \"/home/hao/anaconda3/lib/python3.7/site-packages/IPython/core/ultratb.py\", line 353, in _fixed_getinnerframes\n",
      "    records = fix_frame_records_filenames(inspect.getinnerframes(etb, context))\n",
      "  File \"/home/hao/anaconda3/lib/python3.7/inspect.py\", line 1502, in getinnerframes\n",
      "    frameinfo = (tb.tb_frame,) + getframeinfo(tb, context)\n",
      "  File \"/home/hao/anaconda3/lib/python3.7/inspect.py\", line 1460, in getframeinfo\n",
      "    filename = getsourcefile(frame) or getfile(frame)\n",
      "  File \"/home/hao/anaconda3/lib/python3.7/inspect.py\", line 696, in getsourcefile\n",
      "    if getattr(getmodule(object, filename), '__loader__', None) is not None:\n",
      "  File \"/home/hao/anaconda3/lib/python3.7/inspect.py\", line 742, in getmodule\n",
      "    os.path.realpath(f)] = module.__name__\n",
      "AttributeError: module has no attribute '__name__'\n"
     ]
    },
    {
     "ename": "ValueError",
     "evalue": "NaN log prob encountered in nodewith name: z_where",
     "output_type": "error",
     "traceback": [
      "\u001b[0;31m---------------------------------------------------------------------------\u001b[0m"
     ]
    }
   ],
   "source": [
    "%run ../apg_training.py\n",
    "\n",
    "train(optimizer=optimizer, \n",
    "      model=model,\n",
    "      AT=AT,\n",
    "      apg_sweeps=APG_SWEEPS,\n",
    "      data_paths=DATA_PATHS,\n",
    "      mnist_mean_path=MNIST_MEAN_PATH, \n",
    "      K=K,\n",
    "      num_epochs=NUM_EPOCHS,\n",
    "      sample_size=SAMPLE_SIZE,\n",
    "      batch_size=BATCH_SIZE,\n",
    "      CUDA=CUDA,\n",
    "      DEVICE=DEVICE,\n",
    "      MODEL_VERSION=MODEL_VERSION)"
   ]
  },
  {
   "cell_type": "code",
   "execution_count": null,
   "metadata": {},
   "outputs": [
    {
     "name": "stdout",
     "output_type": "stream",
     "text": [
      "> \u001b[0;32m/home/hao/Research/probtorch/probtorch/stochastic.py\u001b[0m(187)\u001b[0;36m__setitem__\u001b[0;34m()\u001b[0m\n",
      "\u001b[0;32m    185 \u001b[0;31m        \u001b[0;32mif\u001b[0m \u001b[0;34m(\u001b[0m\u001b[0mnode\u001b[0m\u001b[0;34m.\u001b[0m\u001b[0mlog_prob\u001b[0m \u001b[0;34m!=\u001b[0m \u001b[0mnode\u001b[0m\u001b[0;34m.\u001b[0m\u001b[0mlog_prob\u001b[0m\u001b[0;34m)\u001b[0m\u001b[0;34m.\u001b[0m\u001b[0msum\u001b[0m\u001b[0;34m(\u001b[0m\u001b[0;34m)\u001b[0m \u001b[0;34m>\u001b[0m \u001b[0;36m0\u001b[0m\u001b[0;34m:\u001b[0m\u001b[0;34m\u001b[0m\u001b[0;34m\u001b[0m\u001b[0m\n",
      "\u001b[0m\u001b[0;32m    186 \u001b[0;31m            raise ValueError(\"NaN log prob encountered in node\"\n",
      "\u001b[0m\u001b[0;32m--> 187 \u001b[0;31m                             \"with name: \" + name)\n",
      "\u001b[0m\u001b[0;32m    188 \u001b[0;31m        \u001b[0mself\u001b[0m\u001b[0;34m.\u001b[0m\u001b[0m_nodes\u001b[0m\u001b[0;34m[\u001b[0m\u001b[0mname\u001b[0m\u001b[0;34m]\u001b[0m \u001b[0;34m=\u001b[0m \u001b[0mnode\u001b[0m\u001b[0;34m\u001b[0m\u001b[0;34m\u001b[0m\u001b[0m\n",
      "\u001b[0m\u001b[0;32m    189 \u001b[0;31m\u001b[0;34m\u001b[0m\u001b[0m\n",
      "\u001b[0m\n"
     ]
    },
    {
     "name": "stdin",
     "output_type": "stream",
     "text": [
      "ipdb>  u\n"
     ]
    },
    {
     "name": "stdout",
     "output_type": "stream",
     "text": [
      "> \u001b[0;32m/home/hao/Research/probtorch/probtorch/stochastic.py\u001b[0m(292)\u001b[0;36mvariable\u001b[0;34m()\u001b[0m\n",
      "\u001b[0;32m    290 \u001b[0;31m            \u001b[0mself\u001b[0m\u001b[0;34m.\u001b[0m\u001b[0mappend\u001b[0m\u001b[0;34m(\u001b[0m\u001b[0mnode\u001b[0m\u001b[0;34m)\u001b[0m\u001b[0;34m\u001b[0m\u001b[0;34m\u001b[0m\u001b[0m\n",
      "\u001b[0m\u001b[0;32m    291 \u001b[0;31m        \u001b[0;32melse\u001b[0m\u001b[0;34m:\u001b[0m\u001b[0;34m\u001b[0m\u001b[0;34m\u001b[0m\u001b[0m\n",
      "\u001b[0m\u001b[0;32m--> 292 \u001b[0;31m            \u001b[0mself\u001b[0m\u001b[0;34m[\u001b[0m\u001b[0mname\u001b[0m\u001b[0;34m]\u001b[0m \u001b[0;34m=\u001b[0m \u001b[0mnode\u001b[0m\u001b[0;34m\u001b[0m\u001b[0;34m\u001b[0m\u001b[0m\n",
      "\u001b[0m\u001b[0;32m    293 \u001b[0;31m        \u001b[0;32mreturn\u001b[0m \u001b[0mvalue\u001b[0m\u001b[0;34m\u001b[0m\u001b[0;34m\u001b[0m\u001b[0m\n",
      "\u001b[0m\u001b[0;32m    294 \u001b[0;31m\u001b[0;34m\u001b[0m\u001b[0m\n",
      "\u001b[0m\n"
     ]
    },
    {
     "name": "stdin",
     "output_type": "stream",
     "text": [
      "ipdb>  u\n"
     ]
    },
    {
     "name": "stdout",
     "output_type": "stream",
     "text": [
      "> \u001b[0;32m<string>\u001b[0m(2)\u001b[0;36mf\u001b[0;34m()\u001b[0m\n",
      "\n"
     ]
    },
    {
     "name": "stdin",
     "output_type": "stream",
     "text": [
      "ipdb>  u\n"
     ]
    },
    {
     "name": "stdout",
     "output_type": "stream",
     "text": [
      "> \u001b[0;32m/home/hao/Research/amortized/BMNIST/modules/enc_coor.py\u001b[0m(31)\u001b[0;36mforward\u001b[0;34m()\u001b[0m\n",
      "\u001b[0;32m     29 \u001b[0;31m        \u001b[0;32mif\u001b[0m \u001b[0msampled\u001b[0m\u001b[0;34m:\u001b[0m\u001b[0;34m\u001b[0m\u001b[0;34m\u001b[0m\u001b[0m\n",
      "\u001b[0m\u001b[0;32m     30 \u001b[0;31m            \u001b[0mz_where\u001b[0m \u001b[0;34m=\u001b[0m \u001b[0mNormal\u001b[0m\u001b[0;34m(\u001b[0m\u001b[0mq_mean\u001b[0m\u001b[0;34m,\u001b[0m \u001b[0mq_std\u001b[0m\u001b[0;34m)\u001b[0m\u001b[0;34m.\u001b[0m\u001b[0msample\u001b[0m\u001b[0;34m(\u001b[0m\u001b[0;34m)\u001b[0m\u001b[0;34m\u001b[0m\u001b[0;34m\u001b[0m\u001b[0m\n",
      "\u001b[0m\u001b[0;32m---> 31 \u001b[0;31m            \u001b[0mq\u001b[0m\u001b[0;34m.\u001b[0m\u001b[0mnormal\u001b[0m\u001b[0;34m(\u001b[0m\u001b[0mloc\u001b[0m\u001b[0;34m=\u001b[0m\u001b[0mq_mean\u001b[0m\u001b[0;34m,\u001b[0m \u001b[0mscale\u001b[0m\u001b[0;34m=\u001b[0m\u001b[0mq_std\u001b[0m\u001b[0;34m,\u001b[0m \u001b[0mvalue\u001b[0m\u001b[0;34m=\u001b[0m\u001b[0mz_where\u001b[0m\u001b[0;34m,\u001b[0m \u001b[0mname\u001b[0m\u001b[0;34m=\u001b[0m\u001b[0;34m'z_where'\u001b[0m\u001b[0;34m)\u001b[0m\u001b[0;34m\u001b[0m\u001b[0;34m\u001b[0m\u001b[0m\n",
      "\u001b[0m\u001b[0;32m     32 \u001b[0;31m        \u001b[0;32melse\u001b[0m\u001b[0;34m:\u001b[0m\u001b[0;34m\u001b[0m\u001b[0;34m\u001b[0m\u001b[0m\n",
      "\u001b[0m\u001b[0;32m     33 \u001b[0;31m            \u001b[0mq\u001b[0m\u001b[0;34m.\u001b[0m\u001b[0mnormal\u001b[0m\u001b[0;34m(\u001b[0m\u001b[0mloc\u001b[0m\u001b[0;34m=\u001b[0m\u001b[0mq_mean\u001b[0m\u001b[0;34m,\u001b[0m \u001b[0mscale\u001b[0m\u001b[0;34m=\u001b[0m\u001b[0mq_std\u001b[0m\u001b[0;34m,\u001b[0m \u001b[0mvalue\u001b[0m\u001b[0;34m=\u001b[0m\u001b[0mz_where_old\u001b[0m\u001b[0;34m,\u001b[0m \u001b[0mname\u001b[0m\u001b[0;34m=\u001b[0m\u001b[0;34m'z_where'\u001b[0m\u001b[0;34m)\u001b[0m\u001b[0;34m\u001b[0m\u001b[0;34m\u001b[0m\u001b[0m\n",
      "\u001b[0m\n"
     ]
    },
    {
     "name": "stdin",
     "output_type": "stream",
     "text": [
      "ipdb>  torch.isnan(z_where).sum()\n"
     ]
    },
    {
     "name": "stdout",
     "output_type": "stream",
     "text": [
      "tensor(200, device='cuda:1')\n"
     ]
    },
    {
     "name": "stdin",
     "output_type": "stream",
     "text": [
      "ipdb>  torch.isnan(q_mean).sum()\n"
     ]
    },
    {
     "name": "stdout",
     "output_type": "stream",
     "text": [
      "tensor(200, device='cuda:1')\n"
     ]
    },
    {
     "name": "stdin",
     "output_type": "stream",
     "text": [
      "ipdb>  conved_k\n"
     ]
    },
    {
     "name": "stdout",
     "output_type": "stream",
     "text": [
      "*** NameError: name 'conved_k' is not defined\n"
     ]
    },
    {
     "name": "stdin",
     "output_type": "stream",
     "text": [
      "ipdb>  u\n"
     ]
    },
    {
     "name": "stdout",
     "output_type": "stream",
     "text": [
      "> \u001b[0;32m/home/hao/Research/amortized/BMNIST/apg_objective.py\u001b[0m(127)\u001b[0;36mpropose_one_movement\u001b[0;34m()\u001b[0m\n",
      "\u001b[0;32m    125 \u001b[0;31m        \u001b[0mCP\u001b[0m \u001b[0;34m=\u001b[0m \u001b[0mconved_k\u001b[0m\u001b[0;34m.\u001b[0m\u001b[0mshape\u001b[0m\u001b[0;34m[\u001b[0m\u001b[0;34m-\u001b[0m\u001b[0;36m1\u001b[0m\u001b[0;34m]\u001b[0m \u001b[0;31m# convolved output pixels ##  S * B * CP * CP\u001b[0m\u001b[0;34m\u001b[0m\u001b[0;34m\u001b[0m\u001b[0m\n",
      "\u001b[0m\u001b[0;32m    126 \u001b[0;31m        \u001b[0mconved_k\u001b[0m \u001b[0;34m=\u001b[0m \u001b[0mF\u001b[0m\u001b[0;34m.\u001b[0m\u001b[0msoftmax\u001b[0m\u001b[0;34m(\u001b[0m\u001b[0mconved_k\u001b[0m\u001b[0;34m.\u001b[0m\u001b[0msqueeze\u001b[0m\u001b[0;34m(\u001b[0m\u001b[0;36m0\u001b[0m\u001b[0;34m)\u001b[0m\u001b[0;34m.\u001b[0m\u001b[0mview\u001b[0m\u001b[0;34m(\u001b[0m\u001b[0mS\u001b[0m\u001b[0;34m,\u001b[0m \u001b[0mB\u001b[0m\u001b[0;34m,\u001b[0m \u001b[0mCP\u001b[0m\u001b[0;34m,\u001b[0m \u001b[0mCP\u001b[0m\u001b[0;34m)\u001b[0m\u001b[0;34m.\u001b[0m\u001b[0mview\u001b[0m\u001b[0;34m(\u001b[0m\u001b[0mS\u001b[0m\u001b[0;34m,\u001b[0m \u001b[0mB\u001b[0m\u001b[0;34m,\u001b[0m \u001b[0mCP\u001b[0m\u001b[0;34m*\u001b[0m\u001b[0mCP\u001b[0m\u001b[0;34m)\u001b[0m\u001b[0;34m,\u001b[0m \u001b[0;34m-\u001b[0m\u001b[0;36m1\u001b[0m\u001b[0;34m)\u001b[0m \u001b[0;31m## S * B * 1639\u001b[0m\u001b[0;34m\u001b[0m\u001b[0;34m\u001b[0m\u001b[0m\n",
      "\u001b[0m\u001b[0;32m--> 127 \u001b[0;31m        \u001b[0mq_k_f\u001b[0m \u001b[0;34m=\u001b[0m \u001b[0menc_coor\u001b[0m\u001b[0;34m.\u001b[0m\u001b[0mforward\u001b[0m\u001b[0;34m(\u001b[0m\u001b[0mconved\u001b[0m\u001b[0;34m=\u001b[0m\u001b[0mconved_k\u001b[0m\u001b[0;34m,\u001b[0m \u001b[0msampled\u001b[0m\u001b[0;34m=\u001b[0m\u001b[0;32mTrue\u001b[0m\u001b[0;34m)\u001b[0m\u001b[0;34m\u001b[0m\u001b[0;34m\u001b[0m\u001b[0m\n",
      "\u001b[0m\u001b[0;32m    128 \u001b[0;31m        \u001b[0mz_where_k\u001b[0m \u001b[0;34m=\u001b[0m \u001b[0mq_k_f\u001b[0m\u001b[0;34m[\u001b[0m\u001b[0;34m'z_where'\u001b[0m\u001b[0;34m]\u001b[0m\u001b[0;34m.\u001b[0m\u001b[0mvalue\u001b[0m\u001b[0;34m\u001b[0m\u001b[0;34m\u001b[0m\u001b[0m\n",
      "\u001b[0m\u001b[0;32m    129 \u001b[0;31m        \u001b[0mz_where\u001b[0m\u001b[0;34m.\u001b[0m\u001b[0mappend\u001b[0m\u001b[0;34m(\u001b[0m\u001b[0mz_where_k\u001b[0m\u001b[0;34m.\u001b[0m\u001b[0munsqueeze\u001b[0m\u001b[0;34m(\u001b[0m\u001b[0;36m2\u001b[0m\u001b[0;34m)\u001b[0m\u001b[0;34m)\u001b[0m \u001b[0;31m## expand to S * B * 1 * 2\u001b[0m\u001b[0;34m\u001b[0m\u001b[0;34m\u001b[0m\u001b[0m\n",
      "\u001b[0m\n"
     ]
    },
    {
     "name": "stdin",
     "output_type": "stream",
     "text": [
      "ipdb>  conved_k\n"
     ]
    },
    {
     "name": "stdout",
     "output_type": "stream",
     "text": [
      "tensor([[[1.3336e-15, 1.3336e-15, 1.3336e-15,  ..., 1.3336e-15,\n",
      "          1.3336e-15, 1.3336e-15],\n",
      "         [9.1190e-20, 9.1190e-20, 9.1190e-20,  ..., 9.1190e-20,\n",
      "          9.1190e-20, 9.1190e-20],\n",
      "         [2.8625e-22, 2.8625e-22, 2.8625e-22,  ..., 2.8625e-22,\n",
      "          2.8625e-22, 2.8625e-22],\n",
      "         ...,\n",
      "         [4.6983e-19, 4.6983e-19, 4.6983e-19,  ..., 4.6983e-19,\n",
      "          4.6983e-19, 4.6983e-19],\n",
      "         [1.7095e-19, 1.7095e-19, 1.7095e-19,  ..., 1.7095e-19,\n",
      "          1.7095e-19, 1.7095e-19],\n",
      "         [1.0783e-06, 1.0683e-05, 9.0844e-05,  ..., 3.8147e-20,\n",
      "          3.8147e-20, 3.8147e-20]],\n",
      "\n",
      "        [[1.3336e-15, 1.3336e-15, 1.3336e-15,  ..., 1.3336e-15,\n",
      "          1.3336e-15, 1.3336e-15],\n",
      "         [9.1190e-20, 9.1190e-20, 9.1190e-20,  ..., 9.1190e-20,\n",
      "          9.1190e-20, 9.1190e-20],\n",
      "         [2.8625e-22, 2.8625e-22, 2.8625e-22,  ..., 2.8625e-22,\n",
      "          2.8625e-22, 2.8625e-22],\n",
      "         ...,\n",
      "         [4.6983e-19, 4.6983e-19, 4.6983e-19,  ..., 4.6983e-19,\n",
      "          4.6983e-19, 4.6983e-19],\n",
      "         [1.7095e-19, 1.7095e-19, 1.7095e-19,  ..., 1.7095e-19,\n",
      "          1.7095e-19, 1.7095e-19],\n",
      "         [1.0783e-06, 1.0683e-05, 9.0844e-05,  ..., 3.8147e-20,\n",
      "          3.8147e-20, 3.8147e-20]],\n",
      "\n",
      "        [[1.3336e-15, 1.3336e-15, 1.3336e-15,  ..., 1.3336e-15,\n",
      "          1.3336e-15, 1.3336e-15],\n",
      "         [9.1190e-20, 9.1190e-20, 9.1190e-20,  ..., 9.1190e-20,\n",
      "          9.1190e-20, 9.1190e-20],\n",
      "         [2.8625e-22, 2.8625e-22, 2.8625e-22,  ..., 2.8625e-22,\n",
      "          2.8625e-22, 2.8625e-22],\n",
      "         ...,\n",
      "         [4.6983e-19, 4.6983e-19, 4.6983e-19,  ..., 4.6983e-19,\n",
      "          4.6983e-19, 4.6983e-19],\n",
      "         [1.7095e-19, 1.7095e-19, 1.7095e-19,  ..., 1.7095e-19,\n",
      "          1.7095e-19, 1.7095e-19],\n",
      "         [1.0783e-06, 1.0683e-05, 9.0844e-05,  ..., 3.8147e-20,\n",
      "          3.8147e-20, 3.8147e-20]],\n",
      "\n",
      "        ...,\n",
      "\n",
      "        [[1.3336e-15, 1.3336e-15, 1.3336e-15,  ..., 1.3336e-15,\n",
      "          1.3336e-15, 1.3336e-15],\n",
      "         [9.1190e-20, 9.1190e-20, 9.1190e-20,  ..., 9.1190e-20,\n",
      "          9.1190e-20, 9.1190e-20],\n",
      "         [2.8625e-22, 2.8625e-22, 2.8625e-22,  ..., 2.8625e-22,\n",
      "          2.8625e-22, 2.8625e-22],\n",
      "         ...,\n",
      "         [4.6983e-19, 4.6983e-19, 4.6983e-19,  ..., 4.6983e-19,\n",
      "          4.6983e-19, 4.6983e-19],\n",
      "         [1.7095e-19, 1.7095e-19, 1.7095e-19,  ..., 1.7095e-19,\n",
      "          1.7095e-19, 1.7095e-19],\n",
      "         [1.0783e-06, 1.0683e-05, 9.0844e-05,  ..., 3.8147e-20,\n",
      "          3.8147e-20, 3.8147e-20]],\n",
      "\n",
      "        [[1.3336e-15, 1.3336e-15, 1.3336e-15,  ..., 1.3336e-15,\n",
      "          1.3336e-15, 1.3336e-15],\n",
      "         [9.1190e-20, 9.1190e-20, 9.1190e-20,  ..., 9.1190e-20,\n",
      "          9.1190e-20, 9.1190e-20],\n",
      "         [2.8625e-22, 2.8625e-22, 2.8625e-22,  ..., 2.8625e-22,\n",
      "          2.8625e-22, 2.8625e-22],\n",
      "         ...,\n",
      "         [4.6983e-19, 4.6983e-19, 4.6983e-19,  ..., 4.6983e-19,\n",
      "          4.6983e-19, 4.6983e-19],\n",
      "         [1.7095e-19, 1.7095e-19, 1.7095e-19,  ..., 1.7095e-19,\n",
      "          1.7095e-19, 1.7095e-19],\n",
      "         [1.0783e-06, 1.0683e-05, 9.0844e-05,  ..., 3.8147e-20,\n",
      "          3.8147e-20, 3.8147e-20]],\n",
      "\n",
      "        [[1.3336e-15, 1.3336e-15, 1.3336e-15,  ..., 1.3336e-15,\n",
      "          1.3336e-15, 1.3336e-15],\n",
      "         [9.1190e-20, 9.1190e-20, 9.1190e-20,  ..., 9.1190e-20,\n",
      "          9.1190e-20, 9.1190e-20],\n",
      "         [2.8625e-22, 2.8625e-22, 2.8625e-22,  ..., 2.8625e-22,\n",
      "          2.8625e-22, 2.8625e-22],\n",
      "         ...,\n",
      "         [4.6983e-19, 4.6983e-19, 4.6983e-19,  ..., 4.6983e-19,\n",
      "          4.6983e-19, 4.6983e-19],\n",
      "         [1.7095e-19, 1.7095e-19, 1.7095e-19,  ..., 1.7095e-19,\n",
      "          1.7095e-19, 1.7095e-19],\n",
      "         [1.0783e-06, 1.0683e-05, 9.0844e-05,  ..., 3.8147e-20,\n",
      "          3.8147e-20, 3.8147e-20]]], device='cuda:1')\n"
     ]
    }
   ],
   "source": [
    "%debug"
   ]
  },
  {
   "cell_type": "code",
   "execution_count": null,
   "metadata": {},
   "outputs": [],
   "source": []
  }
 ],
 "metadata": {
  "kernelspec": {
   "display_name": "Python 3",
   "language": "python",
   "name": "python3"
  },
  "language_info": {
   "codemirror_mode": {
    "name": "ipython",
    "version": 3
   },
   "file_extension": ".py",
   "mimetype": "text/x-python",
   "name": "python",
   "nbconvert_exporter": "python",
   "pygments_lexer": "ipython3",
   "version": "3.7.3"
  }
 },
 "nbformat": 4,
 "nbformat_minor": 4
}
