{
 "cells": [
  {
   "cell_type": "code",
   "execution_count": 1,
   "metadata": {},
   "outputs": [
    {
     "name": "stdout",
     "output_type": "stream",
     "text": [
      "probtorch: 0.0+5a2c637 torch: 1.3.0\n",
      "inference method:apg, apg sweeps:10, epochs:500, sample size:10, batch size:20, learning rate:0.0001\n"
     ]
    }
   ],
   "source": [
    "%run ../../import_envs.py\n",
    "%run ../apg_hyperparams.py\n",
    "\n",
    "CUDA = torch.cuda.is_available()\n",
    "DEVICE = torch.device('cuda:0')"
   ]
  },
  {
   "cell_type": "code",
   "execution_count": 2,
   "metadata": {},
   "outputs": [],
   "source": [
    "from affine_transformer import Affine_Transformer\n",
    "AT = Affine_Transformer(frame_pixels=FRAME_PIXELS, digit_pixels=DIGIT_PIXELS, CUDA=CUDA, DEVICE=DEVICE)\n",
    "mnist_mean = torch.from_numpy(np.load('../mnist_mean.npy')).float()\n",
    "mnist_mean = mnist_mean.cuda().to(DEVICE)"
   ]
  },
  {
   "cell_type": "code",
   "execution_count": 3,
   "metadata": {},
   "outputs": [],
   "source": [
    "from apg_modeling import init_model\n",
    "models, optimizer = init_model(frame_pixels=FRAME_PIXELS,\n",
    "                               digit_pixels=DIGIT_PIXELS, \n",
    "                               num_hidden_digit=NUM_HIDDEN_DIGIT, \n",
    "                               num_hidden_coor=NUM_HIDDEN_COOR, \n",
    "                               z_where_dim=Z_WHERE_DIM, \n",
    "                               z_what_dim=Z_WHAT_DIM, \n",
    "                               CUDA=CUDA, \n",
    "                               DEVICE=DEVICE, \n",
    "                               LOAD_VERSION=None, \n",
    "                               LR=LR)"
   ]
  },
  {
   "cell_type": "code",
   "execution_count": null,
   "metadata": {},
   "outputs": [],
   "source": [
    "from apg import APG\n",
    "apg = APG(models=models, \n",
    "          AT=AT, \n",
    "          K=K, \n",
    "          D=D, \n",
    "          T=T, \n",
    "          mnist_mean=mnist_mean, \n",
    "          training=True)\n",
    "\n",
    "\n",
    "train(APG=apg, \n",
    "      optimizer=optimizer, \n",
    "      data_path=data_path, \n",
    "      Train_Params=Train_Params,\n",
    "      APG_STEPS=APG_STEPS,\n",
    "      DEVICE=DEVICE,\n",
    "      PATH=PATH)"
   ]
  },
  {
   "cell_type": "code",
   "execution_count": null,
   "metadata": {},
   "outputs": [],
   "source": [
    "Save_models(models, PATH=PATH)"
   ]
  },
  {
   "cell_type": "code",
   "execution_count": null,
   "metadata": {},
   "outputs": [],
   "source": []
  }
 ],
 "metadata": {
  "kernelspec": {
   "display_name": "Python 3",
   "language": "python",
   "name": "python3"
  },
  "language_info": {
   "codemirror_mode": {
    "name": "ipython",
    "version": 3
   },
   "file_extension": ".py",
   "mimetype": "text/x-python",
   "name": "python",
   "nbconvert_exporter": "python",
   "pygments_lexer": "ipython3",
   "version": "3.7.3"
  }
 },
 "nbformat": 4,
 "nbformat_minor": 4
}
