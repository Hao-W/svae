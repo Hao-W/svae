{
 "cells": [
  {
   "cell_type": "code",
   "execution_count": 1,
   "metadata": {},
   "outputs": [
    {
     "name": "stdout",
     "output_type": "stream",
     "text": [
      "probtorch: 0.0+5a2c637 torch: 1.3.0\n",
      "inference method:dlgm, epochs:15, sample size:10, batch size:5, learning rate:0.0002\n"
     ]
    }
   ],
   "source": [
    "%run ../../import_envs.py\n",
    "%run ../vae_hyperparams.py\n",
    "\n",
    "\n",
    "CUDA = torch.cuda.is_available()\n",
    "DEVICE = torch.device('cuda:1')"
   ]
  },
  {
   "cell_type": "code",
   "execution_count": 2,
   "metadata": {},
   "outputs": [
    {
     "name": "stdout",
     "output_type": "stream",
     "text": [
      "===Loading training data from /data/hao/apg_data/bmnist/train/===\n",
      "===180 groups of data files are loaded.===\n"
     ]
    }
   ],
   "source": [
    "# train data path\n",
    "DATA_PATHS = []\n",
    "TRAIN_DATA_DIR = '/data/hao/apg_data/bmnist/train/'\n",
    "print('===Loading training data from %s===' % TRAIN_DATA_DIR)\n",
    "for file in os.listdir(TRAIN_DATA_DIR):\n",
    "    DATA_PATHS.append(os.path.join(TRAIN_DATA_DIR, file))\n",
    "print('===%d groups of data files are loaded.===' % len(DATA_PATHS))"
   ]
  },
  {
   "cell_type": "code",
   "execution_count": 3,
   "metadata": {},
   "outputs": [],
   "source": [
    "from dlgm_modeling import init_model\n",
    "from affine_transformer import Affine_Transformer\n",
    "from hmc_objective import HMC\n",
    "model, optimizer_phi, optimizer_theta = init_model(frame_pixels=FRAME_PIXELS,\n",
    "                                                   digit_pixels=DIGIT_PIXELS, \n",
    "                                                   num_hidden_digit=NUM_HIDDEN_DIGIT, \n",
    "                                                   num_hidden_coor=NUM_HIDDEN_COOR, \n",
    "                                                   z_where_dim=Z_WHERE_DIM, \n",
    "                                                   z_what_dim=Z_WHAT_DIM, \n",
    "                                                   CUDA=CUDA, \n",
    "                                                   DEVICE=DEVICE, \n",
    "                                                   LOAD_VERSION=None, \n",
    "                                                   LR=LR)\n",
    "AT = Affine_Transformer(frame_pixels=FRAME_PIXELS, \n",
    "                        digit_pixels=DIGIT_PIXELS, \n",
    "                        CUDA=CUDA, \n",
    "                        DEVICE=DEVICE)\n",
    "\n",
    "hmc = HMC(model=model,\n",
    "          AT=AT,\n",
    "          burn_in=None,\n",
    "          S=SAMPLE_SIZE,\n",
    "          B=BATCH_SIZE,\n",
    "          T=T,\n",
    "          K=K,\n",
    "          D=2,\n",
    "          z_what_dim=Z_WHAT_DIM,\n",
    "          CUDA=CUDA,\n",
    "          DEVICE=DEVICE)"
   ]
  },
  {
   "cell_type": "code",
   "execution_count": 4,
   "metadata": {},
   "outputs": [
    {
     "name": "stdout",
     "output_type": "stream",
     "text": [
      "Start to train the DLGM model with 180 groups of datasets...\n"
     ]
    },
    {
     "name": "stderr",
     "output_type": "stream",
     "text": [
      "/home/hao/anaconda3/lib/python3.7/site-packages/torch/nn/functional.py:2751: UserWarning: Default grid_sample and affine_grid behavior will be changed to align_corners=False from 1.4.0. See the documentation of grid_sample for details.\n",
      "  warnings.warn(\"Default grid_sample and affine_grid behavior will be changed \"\n",
      "/home/hao/anaconda3/lib/python3.7/site-packages/torch/nn/functional.py:2693: UserWarning: Default grid_sample and affine_grid behavior will be changed to align_corners=False from 1.4.0. See the documentation of grid_sample for details.\n",
      "  warnings.warn(\"Default grid_sample and affine_grid behavior will be changed \"\n"
     ]
    },
    {
     "name": "stdout",
     "output_type": "stream",
     "text": [
      "Epoch=0, Group=0 completed in (2741s),  \n",
      "Epoch=0, Group=1 completed in (7203s),  \n"
     ]
    },
    {
     "name": "stderr",
     "output_type": "stream",
     "text": [
      "ERROR:root:Internal Python error in the inspect module.\n",
      "Below is the traceback from this internal error.\n",
      "\n"
     ]
    },
    {
     "name": "stdout",
     "output_type": "stream",
     "text": [
      "Traceback (most recent call last):\n",
      "  File \"/home/hao/anaconda3/lib/python3.7/site-packages/IPython/core/interactiveshell.py\", line 3325, in run_code\n",
      "    exec(code_obj, self.user_global_ns, self.user_ns)\n",
      "  File \"<ipython-input-4-737fe1c77bfb>\", line 16, in <module>\n",
      "    MODEL_VERSION=MODEL_VERSION)\n",
      "  File \"/home/hao/Research/amortized/BMNIST/dlgm_training.py\", line 55, in train\n",
      "    density_required=density_required)\n",
      "  File \"/home/hao/Research/amortized/BMNIST/dlgm_objective.py\", line 43, in dlgm_objective\n",
      "    density_required=density_required)\n",
      "  File \"/home/hao/Research/amortized/BMNIST/dlgm_objective.py\", line 175, in vae\n",
      "    leapfrog_num_steps=leapfrog_num_steps)\n",
      "  File \"../hmc_objective.py\", line 42, in hmc_sampling\n",
      "    z_where, z_what = self.metrioplis(ob=ob, z_where=z_where.detach(), z_what=z_what.detach(), step_size_what=step_size_what, step_size_where=step_size_where, num_steps=leapfrog_num_steps)\n",
      "  File \"../hmc_objective.py\", line 68, in metrioplis\n",
      "    new_where, new_what, new_r_where, new_r_what = self.leapfrog(ob, z_where, z_what, r_where, r_what, step_size_what, step_size_where, num_steps)\n",
      "  File \"../hmc_objective.py\", line 89, in leapfrog\n",
      "    log_p = self.log_joint(ob=ob, z_where=z_where, z_what=z_what)\n",
      "  File \"../hmc_objective.py\", line 59, in log_joint\n",
      "    log_prior_what, ll, _ = self.dec_digit(frames=ob, z_what=z_what, z_where=z_where, AT=self.AT)\n",
      "  File \"/home/hao/anaconda3/lib/python3.7/site-packages/torch/nn/modules/module.py\", line 541, in __call__\n",
      "    result = self.forward(*input, **kwargs)\n",
      "  File \"../modules/dec_digit_reparam.py\", line 39, in forward\n",
      "    recon_frames = torch.clamp(AT.digit_to_frame(digit=digit_mean, z_where=z_where.detach()).sum(-3), min=0.0, max=1.0) # S * B * T * FP * FP\n",
      "  File \"../affine_transformer.py\", line 50, in digit_to_frame\n",
      "    grid = affine_grid(torch.cat((affine_p1, affine_p2), -1).view(S*B*T*K, 2, 3), torch.Size((S*B*T*K, 1, self.frame_pixels, self.frame_pixels)))\n",
      "  File \"/home/hao/anaconda3/lib/python3.7/site-packages/torch/nn/functional.py\", line 2785, in affine_grid\n",
      "    return torch.affine_grid_generator(theta, size, align_corners)\n",
      "KeyboardInterrupt\n",
      "\n",
      "During handling of the above exception, another exception occurred:\n",
      "\n",
      "Traceback (most recent call last):\n",
      "  File \"/home/hao/anaconda3/lib/python3.7/site-packages/IPython/core/interactiveshell.py\", line 2039, in showtraceback\n",
      "    stb = value._render_traceback_()\n",
      "AttributeError: 'KeyboardInterrupt' object has no attribute '_render_traceback_'\n",
      "\n",
      "During handling of the above exception, another exception occurred:\n",
      "\n",
      "Traceback (most recent call last):\n",
      "  File \"/home/hao/anaconda3/lib/python3.7/site-packages/IPython/core/ultratb.py\", line 1101, in get_records\n",
      "    return _fixed_getinnerframes(etb, number_of_lines_of_context, tb_offset)\n",
      "  File \"/home/hao/anaconda3/lib/python3.7/site-packages/IPython/core/ultratb.py\", line 319, in wrapped\n",
      "    return f(*args, **kwargs)\n",
      "  File \"/home/hao/anaconda3/lib/python3.7/site-packages/IPython/core/ultratb.py\", line 353, in _fixed_getinnerframes\n",
      "    records = fix_frame_records_filenames(inspect.getinnerframes(etb, context))\n",
      "  File \"/home/hao/anaconda3/lib/python3.7/inspect.py\", line 1502, in getinnerframes\n",
      "    frameinfo = (tb.tb_frame,) + getframeinfo(tb, context)\n",
      "  File \"/home/hao/anaconda3/lib/python3.7/inspect.py\", line 1460, in getframeinfo\n",
      "    filename = getsourcefile(frame) or getfile(frame)\n",
      "  File \"/home/hao/anaconda3/lib/python3.7/inspect.py\", line 696, in getsourcefile\n",
      "    if getattr(getmodule(object, filename), '__loader__', None) is not None:\n",
      "  File \"/home/hao/anaconda3/lib/python3.7/inspect.py\", line 742, in getmodule\n",
      "    os.path.realpath(f)] = module.__name__\n",
      "AttributeError: module has no attribute '__name__'\n"
     ]
    },
    {
     "ename": "KeyboardInterrupt",
     "evalue": "",
     "output_type": "error",
     "traceback": [
      "\u001b[0;31m---------------------------------------------------------------------------\u001b[0m"
     ]
    }
   ],
   "source": [
    "%run ../dlgm_training.py\n",
    "\n",
    "train(optimizer_phi=optimizer_phi, \n",
    "      optimizer_theta=optimizer_theta,\n",
    "      model=model,\n",
    "      HMC=hmc,\n",
    "      AT=AT,\n",
    "      data_paths=DATA_PATHS,\n",
    "      mnist_mean_path=MNIST_MEAN_PATH, \n",
    "      K=K,\n",
    "      num_epochs=NUM_EPOCHS,\n",
    "      sample_size=SAMPLE_SIZE,\n",
    "      batch_size=BATCH_SIZE,\n",
    "      CUDA=CUDA,\n",
    "      DEVICE=DEVICE,\n",
    "      MODEL_VERSION=MODEL_VERSION)"
   ]
  },
  {
   "cell_type": "code",
   "execution_count": null,
   "metadata": {},
   "outputs": [],
   "source": []
  }
 ],
 "metadata": {
  "kernelspec": {
   "display_name": "Python 3",
   "language": "python",
   "name": "python3"
  },
  "language_info": {
   "codemirror_mode": {
    "name": "ipython",
    "version": 3
   },
   "file_extension": ".py",
   "mimetype": "text/x-python",
   "name": "python",
   "nbconvert_exporter": "python",
   "pygments_lexer": "ipython3",
   "version": "3.7.3"
  }
 },
 "nbformat": 4,
 "nbformat_minor": 4
}
