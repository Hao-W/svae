{
 "cells": [
  {
   "cell_type": "code",
   "execution_count": 48,
   "metadata": {},
   "outputs": [],
   "source": [
    "import os\n",
    "import matplotlib.pyplot as plt\n",
    "import time\n",
    "import numpy as np\n",
    "import matplotlib.ticker as ticker\n",
    "\n",
    "FS = 6\n",
    "path = '/data/hao/apg_data/bmnist/gif/1/'\n",
    "video = np.load(path + 'ob-1.npy')"
   ]
  },
  {
   "cell_type": "code",
   "execution_count": 50,
   "metadata": {},
   "outputs": [
    {
     "data": {
      "text/plain": [
       "<matplotlib.image.AxesImage at 0x7f7834661fd0>"
      ]
     },
     "execution_count": 50,
     "metadata": {},
     "output_type": "execute_result"
    },
    {
     "data": {
      "image/png": "[encoded data removed]",
      "text/plain": [
       "<Figure size 432x288 with 1 Axes>"
      ]
     },
     "metadata": {
      "needs_background": "light"
     },
     "output_type": "display_data"
    }
   ],
   "source": [
    "i =53\n",
    "plt.imshow(video[i, 15], cmap='gray')"
   ]
  },
  {
   "cell_type": "code",
   "execution_count": 51,
   "metadata": {},
   "outputs": [
    {
     "name": "stdout",
     "output_type": "stream",
     "text": [
      "video 53 completed in 65s\n"
     ]
    }
   ],
   "source": [
    "imgs_path = path + '%d/' % i\n",
    "time_start = time.time()\n",
    "if not os.path.exists(imgs_path):\n",
    "    os.makedirs(imgs_path)\n",
    "\n",
    "for j in range(100):\n",
    "#     misc.imsave(imgs_path + '%03d.png' % (j+1), video[i ,j])\n",
    "    fig = plt.figure(figsize=(FS, FS))\n",
    "    ax = fig.add_subplot(111)\n",
    "    ax.set_axis_off()\n",
    "    ax.set_xticks([])\n",
    "    ax.set_yticks([])\n",
    "    ax.xaxis.set_major_locator(ticker.NullLocator())\n",
    "    ax.yaxis.set_major_locator(ticker.NullLocator())\n",
    "    ax.imshow(video[i ,j], cmap='gray')\n",
    "    plt.savefig(imgs_path + '%03d.png' % (j+1), dpi=300, bbox_inches='tight',pad_inches = 0)\n",
    "    plt.close()\n",
    "    time_end = time.time()\n",
    "print('video %d completed in %ds' % (i, time_end - time_start))"
   ]
  },
  {
   "cell_type": "code",
   "execution_count": null,
   "metadata": {},
   "outputs": [],
   "source": []
  }
 ],
 "metadata": {
  "kernelspec": {
   "display_name": "Python 3",
   "language": "python",
   "name": "python3"
  },
  "language_info": {
   "codemirror_mode": {
    "name": "ipython",
    "version": 3
   },
   "file_extension": ".py",
   "mimetype": "text/x-python",
   "name": "python",
   "nbconvert_exporter": "python",
   "pygments_lexer": "ipython3",
   "version": "3.7.3"
  }
 },
 "nbformat": 4,
 "nbformat_minor": 4
}
