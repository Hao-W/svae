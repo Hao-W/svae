{
 "cells": [
  {
   "cell_type": "code",
   "execution_count": 1,
   "metadata": {},
   "outputs": [
    {
     "name": "stdout",
     "output_type": "stream",
     "text": [
      "probtorch: 0.0+5a2c637 torch: 1.3.0\n"
     ]
    }
   ],
   "source": [
    "%matplotlib inline\n",
    "%run ../../import_envs.py\n",
    "from sim_bmnist import Sim_BMNIST"
   ]
  },
  {
   "cell_type": "code",
   "execution_count": 4,
   "metadata": {},
   "outputs": [],
   "source": [
    "timesteps = 100\n",
    "num_digits = 5\n",
    "delta_t = 0.3\n",
    "frame_size = 96\n",
    "chunk_size = 1000\n",
    "MNIST_DIR = '/data/hao/apg_data/mnist/'\n",
    "simulator = Sim_BMNIST(timesteps=timesteps, num_digits=num_digits, frame_size=frame_size, delta_t=delta_t, chunk_size=chunk_size)\n",
    "# simulator.viz_data(MNIST_DIR=MNIST_DIR)"
   ]
  },
  {
   "cell_type": "code",
   "execution_count": 5,
   "metadata": {},
   "outputs": [
    {
     "name": "stdout",
     "output_type": "stream",
     "text": [
      "Start to simulate bouncing mnist sequences...\n",
      "(100s) Simulated 1000 sequences, saved to '/data/hao/apg_data/bmnist/test/ob-1', 9000 sequences left.\n",
      "(89s) Simulated 1000 sequences, saved to '/data/hao/apg_data/bmnist/test/ob-2', 8000 sequences left.\n",
      "(69s) Simulated 1000 sequences, saved to '/data/hao/apg_data/bmnist/test/ob-3', 7000 sequences left.\n",
      "(69s) Simulated 1000 sequences, saved to '/data/hao/apg_data/bmnist/test/ob-4', 6000 sequences left.\n",
      "(68s) Simulated 1000 sequences, saved to '/data/hao/apg_data/bmnist/test/ob-5', 5000 sequences left.\n",
      "(68s) Simulated 1000 sequences, saved to '/data/hao/apg_data/bmnist/test/ob-6', 4000 sequences left.\n",
      "(68s) Simulated 1000 sequences, saved to '/data/hao/apg_data/bmnist/test/ob-7', 3000 sequences left.\n",
      "(69s) Simulated 1000 sequences, saved to '/data/hao/apg_data/bmnist/test/ob-8', 2000 sequences left.\n",
      "(68s) Simulated 1000 sequences, saved to '/data/hao/apg_data/bmnist/test/ob-9', 1000 sequences left.\n",
      "(69s) Simulated 1000 sequences, saved to '/data/hao/apg_data/bmnist/test/ob-10', 0 sequences left.\n"
     ]
    }
   ],
   "source": [
    "PATH = '/data/hao/apg_data/bmnist/test/' \n",
    "simulator.sim_save_data(num_seqs=10000, MNIST_DIR=MNIST_DIR, PATH=PATH)"
   ]
  },
  {
   "cell_type": "code",
   "execution_count": null,
   "metadata": {},
   "outputs": [],
   "source": [
    "a = torch.from_numpy(np.load('/data/hao/apg_data/bmnist/train/ob-1.npy')).float()"
   ]
  },
  {
   "cell_type": "code",
   "execution_count": null,
   "metadata": {},
   "outputs": [],
   "source": [
    "a.shape"
   ]
  },
  {
   "cell_type": "code",
   "execution_count": null,
   "metadata": {},
   "outputs": [],
   "source": []
  }
 ],
 "metadata": {
  "kernelspec": {
   "display_name": "Python 3",
   "language": "python",
   "name": "python3"
  },
  "language_info": {
   "codemirror_mode": {
    "name": "ipython",
    "version": 3
   },
   "file_extension": ".py",
   "mimetype": "text/x-python",
   "name": "python",
   "nbconvert_exporter": "python",
   "pygments_lexer": "ipython3",
   "version": "3.7.3"
  }
 },
 "nbformat": 4,
 "nbformat_minor": 4
}
