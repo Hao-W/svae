{
 "cells": [
  {
   "cell_type": "code",
   "execution_count": null,
   "metadata": {},
   "outputs": [],
   "source": [
    "%matplotlib inline\n",
    "%run ../../import_envs.py\n",
    "from sim_bmnist import Sim_BMNIST"
   ]
  },
  {
   "cell_type": "code",
   "execution_count": null,
   "metadata": {},
   "outputs": [],
   "source": [
    "timesteps = 10\n",
    "num_digits = 3\n",
    "delta_t = 0.3\n",
    "frame_size = 96\n",
    "chunk_size = 1000\n",
    "MNIST_DIR = '/data/hao/apg_data/mnist/'\n",
    "simulator = Sim_BMNIST(timesteps=timesteps, num_digits=num_digits, frame_size=frame_size, delta_t=delta_t, chunk_size=chunk_size)\n",
    "# simulator.viz_data(MNIST_DIR=MNIST_DIR)"
   ]
  },
  {
   "cell_type": "code",
   "execution_count": null,
   "metadata": {},
   "outputs": [],
   "source": [
    "PATH = '/data/hao/apg_data/bmnist/train/'\n",
    "simulator.sim_save_data(num_seqs=60000, MNIST_DIR=MNIST_DIR, PATH=PATH)"
   ]
  },
  {
   "cell_type": "code",
   "execution_count": null,
   "metadata": {},
   "outputs": [],
   "source": []
  }
 ],
 "metadata": {
  "kernelspec": {
   "display_name": "Python 3",
   "language": "python",
   "name": "python3"
  },
  "language_info": {
   "codemirror_mode": {
    "name": "ipython",
    "version": 3
   },
   "file_extension": ".py",
   "mimetype": "text/x-python",
   "name": "python",
   "nbconvert_exporter": "python",
   "pygments_lexer": "ipython3",
   "version": "3.7.3"
  }
 },
 "nbformat": 4,
 "nbformat_minor": 4
}
