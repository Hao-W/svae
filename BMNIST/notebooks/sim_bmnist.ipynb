{
 "cells": [
  {
   "cell_type": "code",
   "execution_count": 7,
   "metadata": {},
   "outputs": [
    {
     "name": "stdout",
     "output_type": "stream",
     "text": [
      "probtorch: 0.0+5a2c637 torch: 1.3.0\n"
     ]
    }
   ],
   "source": [
    "%matplotlib inline\n",
    "%run ../../import_envs.py\n",
    "from sim_bmnist import Sim_BMNIST"
   ]
  },
  {
   "cell_type": "code",
   "execution_count": 9,
   "metadata": {},
   "outputs": [],
   "source": [
    "timesteps = 10\n",
    "num_digits = 5\n",
    "delta_t = 0.3\n",
    "frame_size = 96\n",
    "chunk_size = 1000\n",
    "MNIST_DIR = BMNIST_DIR + 'mnist/'\n",
    "simulator = Sim_BMNIST(timesteps=timesteps, num_digits=num_digits, frame_size=frame_size, delta_t=delta_t, chunk_size=chunk_size)\n",
    "# simulator.viz_data(MNIST_DIR=MNIST_DIR)"
   ]
  },
  {
   "cell_type": "code",
   "execution_count": null,
   "metadata": {},
   "outputs": [],
   "source": [
    "PATH = BMNIST_DIR + 'bmnist/test/' \n",
    "simulator.sim_save_data(num_seqs=10000, MNIST_DIR=MNIST_DIR, PATH=PATH)"
   ]
  },
  {
   "cell_type": "code",
   "execution_count": null,
   "metadata": {},
   "outputs": [],
   "source": []
  }
 ],
 "metadata": {
  "kernelspec": {
   "display_name": "Python 3",
   "language": "python",
   "name": "python3"
  },
  "language_info": {
   "codemirror_mode": {
    "name": "ipython",
    "version": 3
   },
   "file_extension": ".py",
   "mimetype": "text/x-python",
   "name": "python",
   "nbconvert_exporter": "python",
   "pygments_lexer": "ipython3",
   "version": "3.7.3"
  }
 },
 "nbformat": 4,
 "nbformat_minor": 4
}
