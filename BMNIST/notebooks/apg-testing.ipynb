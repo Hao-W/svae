{
 "cells": [
  {
   "cell_type": "code",
   "execution_count": 1,
   "metadata": {},
   "outputs": [
    {
     "name": "stdout",
     "output_type": "stream",
     "text": [
      "probtorch: 0.0+5a2c637 torch: 1.3.0\n",
      "inference method:apg, resampling:systematic, apg sweeps:3, epochs:100, sample size:20, batch size:5, learning rate:0.0002\n"
     ]
    }
   ],
   "source": [
    "%matplotlib inline\n",
    "%run ../../import_envs.py\n",
    "%run ../apg_hyperparams.py\n",
    "\n",
    "CUDA = torch.cuda.is_available()\n",
    "DEVICE = torch.device('cuda:1')"
   ]
  },
  {
   "cell_type": "code",
   "execution_count": 2,
   "metadata": {},
   "outputs": [
    {
     "name": "stdout",
     "output_type": "stream",
     "text": [
      "===Loading testing data from /data/hao/apg_data/bmnist/test_100T_5D/===\n"
     ]
    }
   ],
   "source": [
    "K = 5\n",
    "T = 100\n",
    "\n",
    "# train data path\n",
    "DATA_PATHS = []\n",
    "TEST_DATA_DIR = BMNIST_DIR + 'bmnist/test_%dT_%dD/' % (T, K)\n",
    "print('===Loading testing data from %s===' % TEST_DATA_DIR)\n",
    "for file in os.listdir(TEST_DATA_DIR):\n",
    "    DATA_PATHS.append(os.path.join(TEST_DATA_DIR, file))"
   ]
  },
  {
   "cell_type": "code",
   "execution_count": null,
   "metadata": {},
   "outputs": [],
   "source": [
    "from apg_modeling import init_model\n",
    "from affine_transformer import Affine_Transformer\n",
    "\n",
    "model, optimizer = init_model(frame_pixels=FRAME_PIXELS,\n",
    "                               digit_pixels=DIGIT_PIXELS, \n",
    "                               num_hidden_digit=NUM_HIDDEN_DIGIT, \n",
    "                               num_hidden_coor=NUM_HIDDEN_COOR, \n",
    "                               z_where_dim=Z_WHERE_DIM, \n",
    "                               z_what_dim=Z_WHAT_DIM, \n",
    "                               CUDA=CUDA, \n",
    "                               DEVICE=DEVICE, \n",
    "                               LOAD_VERSION=LOAD_VERSION, \n",
    "                               LR=LR)\n",
    "AT = Affine_Transformer(frame_pixels=FRAME_PIXELS, \n",
    "                        digit_pixels=DIGIT_PIXELS, \n",
    "                        CUDA=CUDA, \n",
    "                        DEVICE=DEVICE)"
   ]
  },
  {
   "cell_type": "code",
   "execution_count": null,
   "metadata": {},
   "outputs": [],
   "source": [
    "%run ../apg_testing.py\n",
    "BATCH_SIZE_TEST = 1\n",
    "SAMPLE_SIZE_TEST = 1\n",
    "APG_SWEEPS_TEST = 10\n",
    "DATA_PTR = 5\n",
    "SAVE_NAME = 'samples-%d' % DATA_PTR\n",
    "frames = sample_data_uniform(DATA_PATHS, DATA_PTR)\n",
    "metrics = test_single(model=model, \n",
    "                      AT=AT,\n",
    "                      apg_sweeps=APG_SWEEPS_TEST, \n",
    "                      frames=frames, \n",
    "                      mnist_mean_path=MNIST_MEAN_PATH,\n",
    "                      K=K,\n",
    "                      sample_size=SAMPLE_SIZE_TEST, \n",
    "                      CUDA=CUDA, \n",
    "                      DEVICE=DEVICE)"
   ]
  },
  {
   "cell_type": "code",
   "execution_count": null,
   "metadata": {},
   "outputs": [],
   "source": [
    "from viz import viz_samples\n",
    "viz_samples(frames=frames,\n",
    "            metrics=metrics,\n",
    "            apg_sweeps=APG_SWEEPS_TEST,\n",
    "            K=K, \n",
    "            viz_interval=3, \n",
    "            figure_size=30, \n",
    "            title_fontsize=20, \n",
    "            linewidth=2,\n",
    "            colors=['#AA3377', '#EE7733', '#009988', '#0077BB', '#BBBBBB', '#EE3377', '#DDCC77'],\n",
    "            save_name=None)"
   ]
  },
  {
   "cell_type": "code",
   "execution_count": null,
   "metadata": {},
   "outputs": [],
   "source": [
    "## RWS results\n",
    "APG_SWEEPS_TEST = 0\n",
    "metrics = test_single(model=model, \n",
    "                      AT=AT,\n",
    "                      apg_sweeps=APG_SWEEPS_TEST, \n",
    "                      frames=frames, \n",
    "                      mnist_mean_path=MNIST_MEAN_PATH,\n",
    "                      K=K,\n",
    "                      sample_size=SAMPLE_SIZE_TEST, \n",
    "                      CUDA=CUDA, \n",
    "                      DEVICE=DEVICE)\n",
    "viz_samples(frames=frames,\n",
    "            metrics=metrics,\n",
    "            apg_sweeps=APG_SWEEPS_TEST,\n",
    "            K=K, \n",
    "            viz_interval=3, \n",
    "            figure_size=30, \n",
    "            title_fontsize=20, \n",
    "            linewidth=2,\n",
    "            colors=['#AA3377', '#EE7733', '#009988', '#0077BB', '#BBBBBB', '#EE3377', '#DDCC77'],\n",
    "            save_name=None)"
   ]
  },
  {
   "cell_type": "code",
   "execution_count": null,
   "metadata": {},
   "outputs": [],
   "source": []
  }
 ],
 "metadata": {
  "kernelspec": {
   "display_name": "Python 3",
   "language": "python",
   "name": "python3"
  },
  "language_info": {
   "codemirror_mode": {
    "name": "ipython",
    "version": 3
   },
   "file_extension": ".py",
   "mimetype": "text/x-python",
   "name": "python",
   "nbconvert_exporter": "python",
   "pygments_lexer": "ipython3",
   "version": "3.7.3"
  }
 },
 "nbformat": 4,
 "nbformat_minor": 4
}
