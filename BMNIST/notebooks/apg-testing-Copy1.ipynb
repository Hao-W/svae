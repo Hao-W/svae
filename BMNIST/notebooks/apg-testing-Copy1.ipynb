{
 "cells": [
  {
   "cell_type": "code",
   "execution_count": 1,
   "metadata": {},
   "outputs": [
    {
     "name": "stdout",
     "output_type": "stream",
     "text": [
      "probtorch: 0.0+5a2c637 torch: 1.3.0\n",
      "inference method:apg, resampling:systematic, apg sweeps:4, epochs:15, sample size:20, batch size:5, learning rate:0.0002\n"
     ]
    }
   ],
   "source": [
    "%matplotlib inline\n",
    "%run ../../import_envs.py\n",
    "%run ../apg_hyperparams.py\n",
    "\n",
    "CUDA = torch.cuda.is_available()\n",
    "DEVICE = torch.device('cuda:0')"
   ]
  },
  {
   "cell_type": "code",
   "execution_count": 6,
   "metadata": {},
   "outputs": [
    {
     "name": "stdout",
     "output_type": "stream",
     "text": [
      "===Loading testing data from /data/hao/apg_data/bmnist/test_20T_5D/===\n",
      "===1 groups of data files are loaded.===\n"
     ]
    }
   ],
   "source": [
    "K = 5\n",
    "T = 20\n",
    "# train data path\n",
    "DATA_PATHS = []\n",
    "TEST_DATA_DIR = '/data/hao/apg_data/bmnist/test_%dT_%dD/' % (T, K)\n",
    "print('===Loading testing data from %s===' % TEST_DATA_DIR)\n",
    "# for file in os.listdir(TEST_DATA_DIR):\n",
    "#     DATA_PATHS.append(os.path.join(TEST_DATA_DIR, file))\n",
    "\n",
    "DATA_PATHS.append(os.path.join(TEST_DATA_DIR, 'ob-1.npy'))\n",
    "print('===%d groups of data files are loaded.===' % len(DATA_PATHS))"
   ]
  },
  {
   "cell_type": "code",
   "execution_count": 7,
   "metadata": {},
   "outputs": [],
   "source": [
    "from apg_modeling import init_model\n",
    "from affine_transformer import Affine_Transformer\n",
    "\n",
    "model, optimizer = init_model(frame_pixels=FRAME_PIXELS,\n",
    "                               digit_pixels=DIGIT_PIXELS, \n",
    "                               num_hidden_digit=NUM_HIDDEN_DIGIT, \n",
    "                               num_hidden_coor=NUM_HIDDEN_COOR, \n",
    "                               z_where_dim=Z_WHERE_DIM, \n",
    "                               z_what_dim=Z_WHAT_DIM, \n",
    "                               CUDA=CUDA, \n",
    "                               DEVICE=DEVICE, \n",
    "                               LOAD_VERSION=LOAD_VERSION, \n",
    "                               LR=LR)\n",
    "AT = Affine_Transformer(frame_pixels=FRAME_PIXELS, \n",
    "                        digit_pixels=DIGIT_PIXELS, \n",
    "                        CUDA=CUDA, \n",
    "                        DEVICE=DEVICE)"
   ]
  },
  {
   "cell_type": "code",
   "execution_count": 8,
   "metadata": {},
   "outputs": [
    {
     "name": "stdout",
     "output_type": "stream",
     "text": [
      "1 / 100 in group 0 completed (25s)\n",
      "2 / 100 in group 0 completed (25s)\n",
      "3 / 100 in group 0 completed (26s)\n",
      "4 / 100 in group 0 completed (27s)\n",
      "5 / 100 in group 0 completed (26s)\n",
      "6 / 100 in group 0 completed (26s)\n",
      "7 / 100 in group 0 completed (26s)\n",
      "8 / 100 in group 0 completed (26s)\n",
      "9 / 100 in group 0 completed (26s)\n",
      "10 / 100 in group 0 completed (26s)\n",
      "11 / 100 in group 0 completed (26s)\n"
     ]
    }
   ],
   "source": [
    "## visualize samples\n",
    "%run ../apg_testing.py\n",
    "from viz import viz_samples\n",
    "\n",
    "APG_SWEEPS_TEST = 19\n",
    "BATCH_SIZE_TEST = 10\n",
    "SAMPLE_SIZE_TEST = 10\n",
    "# SAVE_NAME = 'samples-%d' % DATA_PTR\n",
    "metrics = test_all(model=model,\n",
    "                   AT=AT, \n",
    "                   apg_sweeps=APG_SWEEPS_TEST, \n",
    "                   data_paths=DATA_PATHS, \n",
    "                   mnist_mean_path=MNIST_MEAN_PATH, \n",
    "                   T=T, \n",
    "                   K=K, \n",
    "                   D=2, \n",
    "                   z_what_dim=Z_WHAT_DIM, \n",
    "                   batch_size=BATCH_SIZE_TEST, \n",
    "                   sample_size=SAMPLE_SIZE_TEST, \n",
    "                   CUDA=CUDA, \n",
    "                   DEVICE=DEVICE)"
   ]
  },
  {
   "cell_type": "code",
   "execution_count": 9,
   "metadata": {},
   "outputs": [],
   "source": [
    "mses = []\n",
    "for mse in metrics['mse']:\n",
    "    mses.append(mse.unsqueeze(0))\n",
    "mses = torch.cat(mses, 0)\n",
    "\n",
    "np.save('mse_%dT_%dD' % (T, K), mses.mean(0).data.numpy())"
   ]
  },
  {
   "cell_type": "code",
   "execution_count": null,
   "metadata": {},
   "outputs": [],
   "source": [
    "torch.Tensor(metrics['mse']).mean()"
   ]
  },
  {
   "cell_type": "code",
   "execution_count": null,
   "metadata": {},
   "outputs": [],
   "source": [
    "\n",
    "\n",
    "metrics = test_single(model=model, \n",
    "                      AT=AT,\n",
    "                      apg_sweeps=APG_SWEEPS_TEST, \n",
    "                      frames=frames, \n",
    "                      mnist_mean_path=MNIST_MEAN_PATH,\n",
    "                      K=K,\n",
    "                      sample_size=10, \n",
    "                      CUDA=CUDA, \n",
    "                      DEVICE=DEVICE)\n",
    "\n",
    "viz_samples(frames=frames,\n",
    "            metrics=metrics,\n",
    "            apg_sweeps=APG_SWEEPS_TEST,\n",
    "            K=K, \n",
    "            viz_interval=3, \n",
    "            figure_size=15, \n",
    "            title_fontsize=20, \n",
    "            linewidth=2,\n",
    "            colors=['#AA3377', '#EE7733', '#009988', '#0077BB', '#BBBBBB', '#EE3377', '#DDCC77'],\n",
    "            save_name=None)"
   ]
  },
  {
   "cell_type": "code",
   "execution_count": null,
   "metadata": {},
   "outputs": [],
   "source": [
    "metrics['density']"
   ]
  },
  {
   "cell_type": "code",
   "execution_count": 21,
   "metadata": {},
   "outputs": [],
   "source": [
    "# import matplotlib.pyplot as plt\n",
    "# fs = 8\n",
    "# COLORS = ['#EE7733', '#009988', '#AA3377', '#0077BB', '#555555', '#999933']\n",
    "# lw = 3\n",
    "# fs_title= 14\n",
    "# fontsize = 20\n",
    "# fig = plt.figure(figsize=(2.5*fs,fs))\n",
    "# ax1 = fig.add_subplot(1, 2, 1)\n",
    "# ax2 = fig.add_subplot(1, 2, 2)\n",
    "# Ts = [20, 50, 100]\n",
    "# for i, t in enumerate(Ts):\n",
    "#     mse = np.load('mse_%dT_3D.npy' % (t))\n",
    "#     print(mse[11])\n",
    "#     ax1.plot(mse, 'o-', c=COLORS[i], linewidth=lw, label='T=%d' % t)\n",
    "# for i, t in enumerate(Ts):\n",
    "#     mse = np.load('mse_%dT_5D.npy' % (t))\n",
    "#     ax2.plot(mse, 'o-', c=COLORS[i+3], linewidth=lw, label='T=%d' % t)\n",
    "#     print(mse[11])\n",
    "# ax1.legend(fontsize=fontsize)\n",
    "# ax2.legend(fontsize=fontsize)"
   ]
  },
  {
   "cell_type": "code",
   "execution_count": null,
   "metadata": {},
   "outputs": [],
   "source": []
  }
 ],
 "metadata": {
  "kernelspec": {
   "display_name": "Python 3",
   "language": "python",
   "name": "python3"
  },
  "language_info": {
   "codemirror_mode": {
    "name": "ipython",
    "version": 3
   },
   "file_extension": ".py",
   "mimetype": "text/x-python",
   "name": "python",
   "nbconvert_exporter": "python",
   "pygments_lexer": "ipython3",
   "version": "3.7.3"
  }
 },
 "nbformat": 4,
 "nbformat_minor": 4
}
