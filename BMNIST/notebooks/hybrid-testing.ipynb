{
 "cells": [
  {
   "cell_type": "code",
   "execution_count": null,
   "metadata": {},
   "outputs": [],
   "source": [
    "%matplotlib inline\n",
    "%run ../../import_envs.py\n",
    "%run ../apg_hyperparams.py\n",
    "\n",
    "CUDA = torch.cuda.is_available()\n",
    "DEVICE = torch.device('cuda:1')"
   ]
  },
  {
   "cell_type": "code",
   "execution_count": null,
   "metadata": {},
   "outputs": [],
   "source": [
    "K = 3\n",
    "T = 20\n",
    "# train data path\n",
    "DATA_PATHS = []\n",
    "TEST_DATA_DIR = BMNIST_DIR + 'bmnist/test_%dT_%dD/' % (T, K)\n",
    "print('===Loading testing data from %s===' % TEST_DATA_DIR)\n",
    "for file in os.listdir(TEST_DATA_DIR):\n",
    "    DATA_PATHS.append(os.path.join(TEST_DATA_DIR, file))"
   ]
  },
  {
   "cell_type": "code",
   "execution_count": null,
   "metadata": {},
   "outputs": [],
   "source": [
    "from apg_modeling import init_model\n",
    "from affine_transformer import Affine_Transformer\n",
    "\n",
    "model = init_model(frame_pixels=FRAME_PIXELS,\n",
    "                               digit_pixels=DIGIT_PIXELS, \n",
    "                               num_hidden_digit=NUM_HIDDEN_DIGIT, \n",
    "                               num_hidden_coor=NUM_HIDDEN_COOR, \n",
    "                               z_where_dim=Z_WHERE_DIM, \n",
    "                               z_what_dim=Z_WHAT_DIM, \n",
    "                               CUDA=CUDA, \n",
    "                               DEVICE=DEVICE, \n",
    "                               LOAD_VERSION=LOAD_VERSION, \n",
    "                               LR=None)\n",
    "AT = Affine_Transformer(frame_pixels=FRAME_PIXELS, \n",
    "                        digit_pixels=DIGIT_PIXELS, \n",
    "                        CUDA=CUDA, \n",
    "                        DEVICE=DEVICE)"
   ]
  },
  {
   "cell_type": "code",
   "execution_count": null,
   "metadata": {},
   "outputs": [],
   "source": [
    "%run ../hybrid_testing.py\n",
    "APG_SWEEPS_TEST = 20\n",
    "SAMPLE_SIZE_TEST = 10\n",
    "BATCH_SIZE_TEST = 4\n",
    "DATA_PTR = 11\n",
    "FLAGs = {'hmc' : True, 'apg' : True, 'bpg' : True}\n",
    "frames = sample_data_uniform(DATA_PATHS=DATA_PATHS, \n",
    "                                data_ptr=DATA_PTR)\n",
    "\n",
    "NUM_RUNS = 2\n",
    "test_hybrid(num_runs=NUM_RUNS,\n",
    "            model=model, \n",
    "            flags=FLAGs,\n",
    "            AT=AT,\n",
    "            apg_sweeps=APG_SWEEPS_TEST, \n",
    "            frames=frames, \n",
    "            mnist_mean_path=MNIST_MEAN_PATH,\n",
    "            K=K,\n",
    "            D=Z_WHERE_DIM,\n",
    "            z_what_dim=Z_WHAT_DIM,\n",
    "            sample_size=SAMPLE_SIZE_TEST, \n",
    "            hmc_num_steps=APG_SWEEPS_TEST,\n",
    "            leapfrog_step_size=1e-4,\n",
    "            leapfrog_num_steps=5,\n",
    "            CUDA=CUDA, \n",
    "            DEVICE=DEVICE)"
   ]
  },
  {
   "cell_type": "code",
   "execution_count": null,
   "metadata": {},
   "outputs": [],
   "source": [
    "%run ../hybrid_testing.py\n",
    "APG_SWEEPS_TEST = 20\n",
    "SAMPLE_SIZE_TEST = 10\n",
    "BATCH_SIZE_TEST = 4\n",
    "FLAGs = {'hmc' : True, 'apg' : True, 'bpg' : True}\n",
    "\n",
    "metrics = test_hybrid_all(model=model, \n",
    "                            flags=FLAGs,\n",
    "                            AT=AT,\n",
    "                            apg_sweeps=APG_SWEEPS_TEST, \n",
    "                            data_paths=DATA_PATHS, \n",
    "                            mnist_mean_path=MNIST_MEAN_PATH,\n",
    "                            T=T,\n",
    "                            K=K,\n",
    "                            D=Z_WHERE_DIM,\n",
    "                            z_what_dim=Z_WHAT_DIM,\n",
    "                            batch_size=BATCH_SIZE_TEST,\n",
    "                            sample_size=SAMPLE_SIZE_TEST, \n",
    "                            hmc_num_steps=APG_SWEEPS_TEST,\n",
    "                            leapfrog_step_size=1e-4,\n",
    "                            leapfrog_num_steps=20,\n",
    "                            CUDA=CUDA, \n",
    "                            DEVICE=DEVICE)"
   ]
  },
  {
   "cell_type": "code",
   "execution_count": null,
   "metadata": {},
   "outputs": [],
   "source": []
  }
 ],
 "metadata": {
  "kernelspec": {
   "display_name": "Python 3",
   "language": "python",
   "name": "python3"
  },
  "language_info": {
   "codemirror_mode": {
    "name": "ipython",
    "version": 3
   },
   "file_extension": ".py",
   "mimetype": "text/x-python",
   "name": "python",
   "nbconvert_exporter": "python",
   "pygments_lexer": "ipython3",
   "version": "3.7.3"
  }
 },
 "nbformat": 4,
 "nbformat_minor": 4
}
