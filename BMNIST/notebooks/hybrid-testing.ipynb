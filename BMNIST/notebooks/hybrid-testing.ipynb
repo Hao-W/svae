{
 "cells": [
  {
   "cell_type": "code",
   "execution_count": 1,
   "metadata": {},
   "outputs": [
    {
     "name": "stdout",
     "output_type": "stream",
     "text": [
      "probtorch: 0.0+5a2c637 torch: 1.3.0\n",
      "inference method:apg, resampling:systematic, apg sweeps:3, epochs:100, sample size:20, batch size:5, learning rate:0.0002\n"
     ]
    }
   ],
   "source": [
    "%matplotlib inline\n",
    "%run ../../import_envs.py\n",
    "%run ../apg_hyperparams.py\n",
    "\n",
    "CUDA = torch.cuda.is_available()\n",
    "DEVICE = torch.device('cuda:1')"
   ]
  },
  {
   "cell_type": "code",
   "execution_count": 2,
   "metadata": {},
   "outputs": [
    {
     "name": "stdout",
     "output_type": "stream",
     "text": [
      "===Loading testing data from /data/hao/apg_data/bmnist/test_20T_3D/===\n"
     ]
    }
   ],
   "source": [
    "K = 3\n",
    "T = 20\n",
    "# train data path\n",
    "DATA_PATHS = []\n",
    "TEST_DATA_DIR = BMNIST_DIR + 'bmnist/test_%dT_%dD/' % (T, K)\n",
    "print('===Loading testing data from %s===' % TEST_DATA_DIR)\n",
    "for file in os.listdir(TEST_DATA_DIR):\n",
    "    DATA_PATHS.append(os.path.join(TEST_DATA_DIR, file))"
   ]
  },
  {
   "cell_type": "code",
   "execution_count": 3,
   "metadata": {},
   "outputs": [],
   "source": [
    "from apg_modeling import init_model\n",
    "from affine_transformer import Affine_Transformer\n",
    "\n",
    "model = init_model(frame_pixels=FRAME_PIXELS,\n",
    "                               digit_pixels=DIGIT_PIXELS, \n",
    "                               num_hidden_digit=NUM_HIDDEN_DIGIT, \n",
    "                               num_hidden_coor=NUM_HIDDEN_COOR, \n",
    "                               z_where_dim=Z_WHERE_DIM, \n",
    "                               z_what_dim=Z_WHAT_DIM, \n",
    "                               CUDA=CUDA, \n",
    "                               DEVICE=DEVICE, \n",
    "                               LOAD_VERSION=LOAD_VERSION, \n",
    "                               LR=None)\n",
    "AT = Affine_Transformer(frame_pixels=FRAME_PIXELS, \n",
    "                        digit_pixels=DIGIT_PIXELS, \n",
    "                        CUDA=CUDA, \n",
    "                        DEVICE=DEVICE)"
   ]
  },
  {
   "cell_type": "code",
   "execution_count": 4,
   "metadata": {},
   "outputs": [
    {
     "name": "stderr",
     "output_type": "stream",
     "text": [
      "/home/hao/anaconda3/lib/python3.7/site-packages/torch/nn/functional.py:2751: UserWarning: Default grid_sample and affine_grid behavior will be changed to align_corners=False from 1.4.0. See the documentation of grid_sample for details.\n",
      "  warnings.warn(\"Default grid_sample and affine_grid behavior will be changed \"\n",
      "/home/hao/anaconda3/lib/python3.7/site-packages/torch/nn/functional.py:2693: UserWarning: Default grid_sample and affine_grid behavior will be changed to align_corners=False from 1.4.0. See the documentation of grid_sample for details.\n",
      "  warnings.warn(\"Default grid_sample and affine_grid behavior will be changed \"\n"
     ]
    },
    {
     "name": "stdout",
     "output_type": "stream",
     "text": [
      "Running HMC-RWS updates..\n",
      "Run=1/2 completed in 7s\n",
      "Running HMC-RWS updates..\n"
     ]
    },
    {
     "name": "stderr",
     "output_type": "stream",
     "text": [
      "ERROR:root:Internal Python error in the inspect module.\n",
      "Below is the traceback from this internal error.\n",
      "\n"
     ]
    },
    {
     "name": "stdout",
     "output_type": "stream",
     "text": [
      "Run=2/2 completed in 7s\n",
      "Merged individual results..\n",
      "Traceback (most recent call last):\n",
      "  File \"/home/hao/anaconda3/lib/python3.7/site-packages/IPython/core/interactiveshell.py\", line 3325, in run_code\n",
      "    exec(code_obj, self.user_global_ns, self.user_ns)\n",
      "  File \"<ipython-input-4-e85218aa364e>\", line 26, in <module>\n",
      "    DEVICE=DEVICE)\n",
      "  File \"/home/hao/Research/amortized/BMNIST/hybrid_testing.py\", line 81, in test_hybrid\n",
      "    np.save('log_joint_apg', np.concatenate(DENSITIES['apg'], 0))\n",
      "ValueError: need at least one array to concatenate\n",
      "\n",
      "During handling of the above exception, another exception occurred:\n",
      "\n",
      "Traceback (most recent call last):\n",
      "  File \"/home/hao/anaconda3/lib/python3.7/site-packages/IPython/core/interactiveshell.py\", line 2039, in showtraceback\n",
      "    stb = value._render_traceback_()\n",
      "AttributeError: 'ValueError' object has no attribute '_render_traceback_'\n",
      "\n",
      "During handling of the above exception, another exception occurred:\n",
      "\n",
      "Traceback (most recent call last):\n",
      "  File \"/home/hao/anaconda3/lib/python3.7/site-packages/IPython/core/ultratb.py\", line 1101, in get_records\n",
      "    return _fixed_getinnerframes(etb, number_of_lines_of_context, tb_offset)\n",
      "  File \"/home/hao/anaconda3/lib/python3.7/site-packages/IPython/core/ultratb.py\", line 319, in wrapped\n",
      "    return f(*args, **kwargs)\n",
      "  File \"/home/hao/anaconda3/lib/python3.7/site-packages/IPython/core/ultratb.py\", line 353, in _fixed_getinnerframes\n",
      "    records = fix_frame_records_filenames(inspect.getinnerframes(etb, context))\n",
      "  File \"/home/hao/anaconda3/lib/python3.7/inspect.py\", line 1502, in getinnerframes\n",
      "    frameinfo = (tb.tb_frame,) + getframeinfo(tb, context)\n",
      "  File \"/home/hao/anaconda3/lib/python3.7/inspect.py\", line 1460, in getframeinfo\n",
      "    filename = getsourcefile(frame) or getfile(frame)\n",
      "  File \"/home/hao/anaconda3/lib/python3.7/inspect.py\", line 696, in getsourcefile\n",
      "    if getattr(getmodule(object, filename), '__loader__', None) is not None:\n",
      "  File \"/home/hao/anaconda3/lib/python3.7/inspect.py\", line 742, in getmodule\n",
      "    os.path.realpath(f)] = module.__name__\n",
      "AttributeError: module has no attribute '__name__'\n"
     ]
    },
    {
     "ename": "ValueError",
     "evalue": "need at least one array to concatenate",
     "output_type": "error",
     "traceback": [
      "\u001b[0;31m---------------------------------------------------------------------------\u001b[0m"
     ]
    }
   ],
   "source": [
    "%run ../hybrid_testing.py\n",
    "APG_SWEEPS_TEST = 20\n",
    "SAMPLE_SIZE_TEST = 10\n",
    "BATCH_SIZE_TEST = 4\n",
    "DATA_PTR = 11\n",
    "FLAGs = {'hmc' : True, 'apg' : False, 'bpg' : False}\n",
    "frames = sample_data_uniform(DATA_PATHS=DATA_PATHS, \n",
    "                                data_ptr=DATA_PTR)\n",
    "\n",
    "NUM_RUNS = 2\n",
    "test_hybrid(num_runs=NUM_RUNS,\n",
    "            model=model, \n",
    "            flags=FLAGs,\n",
    "            AT=AT,\n",
    "            apg_sweeps=APG_SWEEPS_TEST, \n",
    "            frames=frames, \n",
    "            mnist_mean_path=MNIST_MEAN_PATH,\n",
    "            K=K,\n",
    "            D=Z_WHERE_DIM,\n",
    "            z_what_dim=Z_WHAT_DIM,\n",
    "            sample_size=SAMPLE_SIZE_TEST, \n",
    "            hmc_num_steps=APG_SWEEPS_TEST,\n",
    "            leapfrog_step_size=1e-5,\n",
    "            leapfrog_num_steps=5,\n",
    "            CUDA=CUDA, \n",
    "            DEVICE=DEVICE)"
   ]
  },
  {
   "cell_type": "code",
   "execution_count": null,
   "metadata": {},
   "outputs": [],
   "source": [
    "%run ../hybrid_testing.py\n",
    "APG_SWEEPS_TEST = 20\n",
    "SAMPLE_SIZE_TEST = 10\n",
    "BATCH_SIZE_TEST = 4\n",
    "FLAGs = {'hmc' : True, 'apg' : True, 'bpg' : True}\n",
    "\n",
    "metrics = test_hybrid_all(model=model, \n",
    "                            flags=FLAGs,\n",
    "                            AT=AT,\n",
    "                            apg_sweeps=APG_SWEEPS_TEST, \n",
    "                            data_paths=DATA_PATHS, \n",
    "                            mnist_mean_path=MNIST_MEAN_PATH,\n",
    "                            T=T,\n",
    "                            K=K,\n",
    "                            D=Z_WHERE_DIM,\n",
    "                            z_what_dim=Z_WHAT_DIM,\n",
    "                            batch_size=BATCH_SIZE_TEST,\n",
    "                            sample_size=SAMPLE_SIZE_TEST, \n",
    "                            hmc_num_steps=APG_SWEEPS_TEST,\n",
    "                            leapfrog_step_size=1e-4,\n",
    "                            leapfrog_num_steps=20,\n",
    "                            CUDA=CUDA, \n",
    "                            DEVICE=DEVICE)"
   ]
  },
  {
   "cell_type": "code",
   "execution_count": null,
   "metadata": {},
   "outputs": [],
   "source": []
  }
 ],
 "metadata": {
  "kernelspec": {
   "display_name": "Python 3",
   "language": "python",
   "name": "python3"
  },
  "language_info": {
   "codemirror_mode": {
    "name": "ipython",
    "version": 3
   },
   "file_extension": ".py",
   "mimetype": "text/x-python",
   "name": "python",
   "nbconvert_exporter": "python",
   "pygments_lexer": "ipython3",
   "version": "3.7.3"
  }
 },
 "nbformat": 4,
 "nbformat_minor": 4
}
