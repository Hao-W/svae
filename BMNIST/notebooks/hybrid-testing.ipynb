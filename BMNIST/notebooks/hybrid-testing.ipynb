{
 "cells": [
  {
   "cell_type": "code",
   "execution_count": 1,
   "metadata": {},
   "outputs": [
    {
     "name": "stdout",
     "output_type": "stream",
     "text": [
      "probtorch: 0.0+5a2c637 torch: 1.3.0\n"
     ]
    }
   ],
   "source": [
    "%matplotlib inline\n",
    "%run ../../import_envs.py\n",
    "\n",
    "K = 5 # number of digits\n",
    "T = 100 # timesteps\n",
    "## Model Parameters\n",
    "FRAME_PIXELS = 96\n",
    "DIGIT_PIXELS = 28\n",
    "NUM_HIDDEN_DIGIT = 200\n",
    "NUM_HIDDEN_COOR = 200\n",
    "Z_WHERE_DIM = 2 # z_where dims\n",
    "Z_WHAT_DIM = 10\n",
    "\n",
    "MODEL_NAME = 'apg'\n",
    "RESAMPLING_STRATEGY = 'systematic'\n",
    "LOAD_VERSION = 'bmnist-3digits-apg-systematic-4sweeps-20samples-0.00020lr'\n",
    "MNIST_MEAN_PATH = '../mnist_mean.npy'\n",
    "\n",
    "CUDA = torch.cuda.is_available()\n",
    "DEVICE = torch.device('cuda:0')"
   ]
  },
  {
   "cell_type": "code",
   "execution_count": 2,
   "metadata": {},
   "outputs": [
    {
     "name": "stdout",
     "output_type": "stream",
     "text": [
      "===Loading testing data from /data/hao/apg_data/bmnist/test/===\n",
      "===1 groups of data files are loaded.===\n"
     ]
    }
   ],
   "source": [
    "# train data path\n",
    "DATA_PATHS = []\n",
    "TEST_DATA_DIR = '/data/hao/apg_data/bmnist/test/'\n",
    "print('===Loading testing data from %s===' % TEST_DATA_DIR)\n",
    "# for file in os.listdir(TEST_DATA_DIR):\n",
    "#     DATA_PATHS.append(os.path.join(TEST_DATA_DIR, file))\n",
    "    \n",
    "DATA_PATHS.append(os.path.join(TEST_DATA_DIR, 'ob-1.npy'))\n",
    "print('===%d groups of data files are loaded.===' % len(DATA_PATHS))"
   ]
  },
  {
   "cell_type": "code",
   "execution_count": 3,
   "metadata": {},
   "outputs": [],
   "source": [
    "from apg_modeling import init_model\n",
    "from affine_transformer import Affine_Transformer\n",
    "\n",
    "model = init_model(frame_pixels=FRAME_PIXELS,\n",
    "                               digit_pixels=DIGIT_PIXELS, \n",
    "                               num_hidden_digit=NUM_HIDDEN_DIGIT, \n",
    "                               num_hidden_coor=NUM_HIDDEN_COOR, \n",
    "                               z_where_dim=Z_WHERE_DIM, \n",
    "                               z_what_dim=Z_WHAT_DIM, \n",
    "                               CUDA=CUDA, \n",
    "                               DEVICE=DEVICE, \n",
    "                               LOAD_VERSION=LOAD_VERSION, \n",
    "                               LR=None)\n",
    "AT = Affine_Transformer(frame_pixels=FRAME_PIXELS, \n",
    "                        digit_pixels=DIGIT_PIXELS, \n",
    "                        CUDA=CUDA, \n",
    "                        DEVICE=DEVICE)"
   ]
  },
  {
   "cell_type": "code",
   "execution_count": 4,
   "metadata": {},
   "outputs": [
    {
     "name": "stderr",
     "output_type": "stream",
     "text": [
      "/home/hao/anaconda3/lib/python3.7/site-packages/torch/nn/functional.py:2751: UserWarning: Default grid_sample and affine_grid behavior will be changed to align_corners=False from 1.4.0. See the documentation of grid_sample for details.\n",
      "  warnings.warn(\"Default grid_sample and affine_grid behavior will be changed \"\n",
      "/home/hao/anaconda3/lib/python3.7/site-packages/torch/nn/functional.py:2693: UserWarning: Default grid_sample and affine_grid behavior will be changed to align_corners=False from 1.4.0. See the documentation of grid_sample for details.\n",
      "  warnings.warn(\"Default grid_sample and affine_grid behavior will be changed \"\n"
     ]
    },
    {
     "name": "stdout",
     "output_type": "stream",
     "text": [
      "Running HMC updates..\n",
      "1 / 250 in group 0 completed (785s)\n",
      "Running HMC updates..\n"
     ]
    },
    {
     "name": "stderr",
     "output_type": "stream",
     "text": [
      "ERROR:root:Internal Python error in the inspect module.\n",
      "Below is the traceback from this internal error.\n",
      "\n"
     ]
    },
    {
     "name": "stdout",
     "output_type": "stream",
     "text": [
      "Traceback (most recent call last):\n",
      "  File \"/home/hao/anaconda3/lib/python3.7/site-packages/IPython/core/interactiveshell.py\", line 3325, in run_code\n",
      "    exec(code_obj, self.user_global_ns, self.user_ns)\n",
      "  File \"<ipython-input-4-a6107436dd92>\", line 26, in <module>\n",
      "    DEVICE=DEVICE)\n",
      "  File \"/home/hao/Research/amortized/BMNIST/hybrid_testing.py\", line 120, in test_hybrid_all\n",
      "    leapfrog_num_steps=leapfrog_num_steps)\n",
      "  File \"/home/hao/Research/amortized/BMNIST/hybrid_objective.py\", line 40, in hybrid_objective\n",
      "    leapfrog_num_steps=leapfrog_num_steps)\n",
      "  File \"/home/hao/Research/amortized/BMNIST/hmc_objective.py\", line 41, in hmc_sampling\n",
      "    z_where, z_what = self.metrioplis(ob=ob, z_where=z_where.detach(), z_what=z_what.detach(), step_size_what=step_size_what, step_size_where=step_size_where, num_steps=leapfrog_num_steps)\n",
      "  File \"/home/hao/Research/amortized/BMNIST/hmc_objective.py\", line 67, in metrioplis\n",
      "    new_where, new_what, new_r_where, new_r_what = self.leapfrog(ob, z_where, z_what, r_where, r_what, step_size_what, step_size_where, num_steps)\n",
      "  File \"/home/hao/Research/amortized/BMNIST/hmc_objective.py\", line 97, in leapfrog\n",
      "    log_p = self.log_joint(ob=ob, z_where=z_where, z_what=z_what)\n",
      "  File \"/home/hao/Research/amortized/BMNIST/hmc_objective.py\", line 58, in log_joint\n",
      "    log_prior_what, ll, _ = self.dec_digit(frames=ob, z_what=z_what, z_where=z_where, AT=self.AT)\n",
      "  File \"/home/hao/anaconda3/lib/python3.7/site-packages/torch/nn/modules/module.py\", line 541, in __call__\n",
      "    result = self.forward(*input, **kwargs)\n",
      "  File \"../modules/dec_digit.py\", line 38, in forward\n",
      "    recon_frames = torch.clamp(AT.digit_to_frame(digit=digit_mean, z_where=z_where).sum(-3), min=0.0, max=1.0) # S * B * T * FP * FP\n",
      "  File \"../affine_transformer.py\", line 50, in digit_to_frame\n",
      "    grid = affine_grid(torch.cat((affine_p1, affine_p2), -1).view(S*B*T*K, 2, 3), torch.Size((S*B*T*K, 1, self.frame_pixels, self.frame_pixels)))\n",
      "  File \"/home/hao/anaconda3/lib/python3.7/site-packages/torch/nn/functional.py\", line 2785, in affine_grid\n",
      "    return torch.affine_grid_generator(theta, size, align_corners)\n",
      "KeyboardInterrupt\n",
      "\n",
      "During handling of the above exception, another exception occurred:\n",
      "\n",
      "Traceback (most recent call last):\n",
      "  File \"/home/hao/anaconda3/lib/python3.7/site-packages/IPython/core/interactiveshell.py\", line 2039, in showtraceback\n",
      "    stb = value._render_traceback_()\n",
      "AttributeError: 'KeyboardInterrupt' object has no attribute '_render_traceback_'\n",
      "\n",
      "During handling of the above exception, another exception occurred:\n",
      "\n",
      "Traceback (most recent call last):\n",
      "  File \"/home/hao/anaconda3/lib/python3.7/site-packages/IPython/core/ultratb.py\", line 1101, in get_records\n",
      "    return _fixed_getinnerframes(etb, number_of_lines_of_context, tb_offset)\n",
      "  File \"/home/hao/anaconda3/lib/python3.7/site-packages/IPython/core/ultratb.py\", line 319, in wrapped\n",
      "    return f(*args, **kwargs)\n",
      "  File \"/home/hao/anaconda3/lib/python3.7/site-packages/IPython/core/ultratb.py\", line 353, in _fixed_getinnerframes\n",
      "    records = fix_frame_records_filenames(inspect.getinnerframes(etb, context))\n",
      "  File \"/home/hao/anaconda3/lib/python3.7/inspect.py\", line 1502, in getinnerframes\n",
      "    frameinfo = (tb.tb_frame,) + getframeinfo(tb, context)\n",
      "  File \"/home/hao/anaconda3/lib/python3.7/inspect.py\", line 1460, in getframeinfo\n",
      "    filename = getsourcefile(frame) or getfile(frame)\n",
      "  File \"/home/hao/anaconda3/lib/python3.7/inspect.py\", line 696, in getsourcefile\n",
      "    if getattr(getmodule(object, filename), '__loader__', None) is not None:\n",
      "  File \"/home/hao/anaconda3/lib/python3.7/inspect.py\", line 742, in getmodule\n",
      "    os.path.realpath(f)] = module.__name__\n",
      "AttributeError: module has no attribute '__name__'\n"
     ]
    },
    {
     "ename": "KeyboardInterrupt",
     "evalue": "",
     "output_type": "error",
     "traceback": [
      "\u001b[0;31m---------------------------------------------------------------------------\u001b[0m"
     ]
    }
   ],
   "source": [
    "## visualize samples\n",
    "%run ../hybrid_testing.py\n",
    "APG_SWEEPS_TEST = 20\n",
    "SAMPLE_SIZE_TEST = 10\n",
    "BATCH_SIZE_TEST = 4\n",
    "# DATA_PTR = 11\n",
    "FLAGs = {'hmc' : True, 'apg' : False, 'bps' : False}\n",
    "\n",
    "metrics = test_hybrid_all(model=model, \n",
    "                            flags=FLAGs,\n",
    "                            AT=AT,\n",
    "                            apg_sweeps=APG_SWEEPS_TEST, \n",
    "                            data_paths=DATA_PATHS, \n",
    "                            mnist_mean_path=MNIST_MEAN_PATH,\n",
    "                            T=T,\n",
    "                            K=K,\n",
    "                            D=Z_WHERE_DIM,\n",
    "                            z_what_dim=Z_WHAT_DIM,\n",
    "                            batch_size=BATCH_SIZE_TEST,\n",
    "                            sample_size=SAMPLE_SIZE_TEST, \n",
    "                            hmc_num_steps=APG_SWEEPS_TEST,\n",
    "                            leapfrog_step_size=1e-4,\n",
    "                            leapfrog_num_steps=20,\n",
    "                            filename='test',\n",
    "                            CUDA=CUDA, \n",
    "                            DEVICE=DEVICE)\n",
    "\n",
    "# frames = sample_data_uniform(DATA_PATHS=DATA_PATHS, \n",
    "#                             data_ptr=DATA_PTR)"
   ]
  },
  {
   "cell_type": "code",
   "execution_count": null,
   "metadata": {},
   "outputs": [],
   "source": [
    "# test_hybrid(model=model, \n",
    "#             flags=FLAGs,\n",
    "#             AT=AT,\n",
    "#             apg_sweeps=APG_SWEEPS_TEST, \n",
    "#             frames=frames, \n",
    "#             mnist_mean_path=MNIST_MEAN_PATH,\n",
    "#             K=K,\n",
    "#             D=Z_WHERE_DIM,\n",
    "#             z_what_dim=Z_WHAT_DIM,\n",
    "#             sample_size=SAMPLE_SIZE_TEST, \n",
    "#             hmc_num_steps=APG_SWEEPS_TEST,\n",
    "#             leapfrog_step_size=1e-3,\n",
    "#             leapfrog_num_steps=5,\n",
    "#             filename='test',\n",
    "#             CUDA=CUDA, \n",
    "#             DEVICE=DEVICE)"
   ]
  },
  {
   "cell_type": "code",
   "execution_count": null,
   "metadata": {},
   "outputs": [],
   "source": [
    "import matplotlib.pyplot as plt\n",
    "filename = 'test'\n",
    "def plot_density(flags, fs, fs_title, lw):\n",
    "    fig = plt.figure(figsize=(fs*3,fs)) \n",
    "    ax = fig.add_subplot(111)\n",
    "    COLORS = ['#EE7733', '#009988', '#AA3377', '#0077BB', '#555555', '#999933']\n",
    "    lw = lw\n",
    "    fs_title= fs_title\n",
    "    if flags['apg']:\n",
    "        log_joint_apg = np.load('log_joint_apg_%s.npy' % filename)\n",
    "        apg_mean = log_joint_apg.mean(1)\n",
    "        apg_std = log_joint_apg.std(1)\n",
    "        ax.plot(apg_mean, c=COLORS[0], label='APG')\n",
    "\n",
    "    if flags['hmc']:\n",
    "        log_joint_hmc = np.load('log_joint_hmc_%s.npy' % filename)\n",
    "        hmc_mean = log_joint_hmc.mean(1)\n",
    "        hmc_std = log_joint_hmc.std(1)\n",
    "        ax.plot(hmc_mean, c=COLORS[1], label='HMC')\n",
    "\n",
    "    if flags['bps']:\n",
    "        log_joint_gibbs = np.load('log_joint_bps_%s.npy' % filename)\n",
    "        gibbs_mean = log_joint_gibbs.mean(1)\n",
    "        gibbs_std = log_joint_gibbs.std(1)\n",
    "        ax.plot(gibbs_mean, c=COLORS[3], label='BPS')  \n",
    "    ax.legend()\n",
    "plot_density(flags=FLAGs, fs=8, fs_title=14, lw=2)"
   ]
  },
  {
   "cell_type": "code",
   "execution_count": null,
   "metadata": {},
   "outputs": [],
   "source": [
    "filename = 'test'\n",
    "log_joint_hmc = np.load('log_joint_hmc_%s.npy' % filename)\n",
    "hmc_mean = log_joint_hmc.mean(1)\n",
    "\n",
    "hmc_mean"
   ]
  },
  {
   "cell_type": "code",
   "execution_count": null,
   "metadata": {},
   "outputs": [],
   "source": []
  }
 ],
 "metadata": {
  "kernelspec": {
   "display_name": "Python 3",
   "language": "python",
   "name": "python3"
  },
  "language_info": {
   "codemirror_mode": {
    "name": "ipython",
    "version": 3
   },
   "file_extension": ".py",
   "mimetype": "text/x-python",
   "name": "python",
   "nbconvert_exporter": "python",
   "pygments_lexer": "ipython3",
   "version": "3.7.3"
  }
 },
 "nbformat": 4,
 "nbformat_minor": 4
}
