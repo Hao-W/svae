{
 "cells": [
  {
   "cell_type": "code",
   "execution_count": 1,
   "metadata": {},
   "outputs": [],
   "source": [
    "import matplotlib.pyplot as plt\n",
    "import time\n",
    "import torch\n",
    "from torch import logsumexp\n",
    "from torch.distributions.normal import Normal\n",
    "import numpy as np\n",
    "from utils import *\n",
    "from plots import *\n",
    "# from objectives import *"
   ]
  },
  {
   "cell_type": "code",
   "execution_count": 15,
   "metadata": {},
   "outputs": [],
   "source": [
    "iterations = 40000\n",
    "num_samples = 20\n",
    "p_mu = 0.0\n",
    "p_sigma2 = 1.0\n",
    "\n",
    "LEARNING_RATE = 5*1e-3\n",
    "log_Z = np.log(np.sqrt((2*np.pi)))\n",
    "\n",
    "q_mu = torch.tensor([4.0], requires_grad=True)\n",
    "q_sigma = torch.tensor([2.0], requires_grad=True) \n",
    "optimizer = torch.optim.SGD([q_mu, q_sigma], lr=LEARNING_RATE)\n"
   ]
  },
  {
   "cell_type": "code",
   "execution_count": 16,
   "metadata": {},
   "outputs": [],
   "source": [
    "def iwae(num_samples, q_mu, q_sigma, p_mu, p_sigma2, iterations, optimizer):\n",
    "    ELBO = []\n",
    "    Mu = []\n",
    "    Sigma = []\n",
    "    Grad_mu = []\n",
    "    Grad_sigma = []\n",
    "    ESS = []\n",
    "    time_start = time.time()\n",
    "    for i in range(iterations):\n",
    "        optimizer.zero_grad()\n",
    "        q = Normal(q_mu, q_sigma)\n",
    "        xs = q.rsample((num_samples,))\n",
    "        log_p = (-1.0 / (p_sigma2 *2.0)) * ((xs - p_mu) ** 2)\n",
    "        log_q = q.log_prob(xs)\n",
    "        log_weights = log_p - log_q\n",
    "        weights = torch.exp(log_weights - logsumexp(log_weights, dim=0)).detach()\n",
    "        ess = 1. / (weights ** 2).sum()\n",
    "        elbo = logsumexp(log_weights, 0) - torch.log(torch.FloatTensor([num_samples]))\n",
    "        estor = torch.mul(weights, log_weights).sum()\n",
    "        loss = - estor\n",
    "        loss.backward()\n",
    "        optimizer.step()\n",
    "        ELBO.append(elbo.item())\n",
    "        Mu.append(q_mu.item())\n",
    "        Sigma.append(q_sigma.item())\n",
    "        Grad_mu.append((- q_mu.grad).item())\n",
    "        Grad_sigma.append((- q_sigma.grad).item())\n",
    "        ESS.append(ess.item())\n",
    "        if i % 1000 == 0:\n",
    "            time_end = time.time()\n",
    "            print('iteration:%d, ELBO:%.3f, ESS:%.3f (%ds)' % (i, elbo, ess, (time_end - time_start)))\n",
    "            time_start = time.time()\n",
    "    return ELBO, Mu, Sigma, Grad_mu, Grad_sigma, ESS"
   ]
  },
  {
   "cell_type": "code",
   "execution_count": 17,
   "metadata": {},
   "outputs": [
    {
     "name": "stdout",
     "output_type": "stream",
     "text": [
      "iteration:0, ELBO:0.891, ESS:1.946 (0s)\n",
      "iteration:1000, ELBO:1.297, ESS:7.175 (0s)\n",
      "iteration:2000, ELBO:1.186, ESS:5.823 (0s)\n",
      "iteration:3000, ELBO:1.022, ESS:5.477 (0s)\n",
      "iteration:4000, ELBO:0.716, ESS:6.355 (0s)\n",
      "iteration:5000, ELBO:0.994, ESS:6.360 (0s)\n",
      "iteration:6000, ELBO:0.660, ESS:6.740 (0s)\n",
      "iteration:7000, ELBO:0.444, ESS:4.530 (0s)\n",
      "iteration:8000, ELBO:0.967, ESS:8.190 (0s)\n",
      "iteration:9000, ELBO:1.083, ESS:9.850 (0s)\n",
      "iteration:10000, ELBO:0.997, ESS:8.445 (0s)\n",
      "iteration:11000, ELBO:0.822, ESS:8.977 (0s)\n",
      "iteration:12000, ELBO:0.525, ESS:8.323 (0s)\n",
      "iteration:13000, ELBO:0.448, ESS:6.612 (0s)\n",
      "iteration:14000, ELBO:1.101, ESS:10.857 (0s)\n",
      "iteration:15000, ELBO:0.908, ESS:9.743 (0s)\n",
      "iteration:16000, ELBO:0.441, ESS:6.144 (0s)\n",
      "iteration:17000, ELBO:0.791, ESS:8.408 (0s)\n",
      "iteration:18000, ELBO:0.978, ESS:9.235 (0s)\n",
      "iteration:19000, ELBO:1.015, ESS:11.278 (0s)\n",
      "iteration:20000, ELBO:0.651, ESS:9.044 (0s)\n",
      "iteration:21000, ELBO:1.149, ESS:14.466 (0s)\n",
      "iteration:22000, ELBO:1.174, ESS:13.543 (0s)\n",
      "iteration:23000, ELBO:0.487, ESS:9.524 (0s)\n",
      "iteration:24000, ELBO:0.627, ESS:11.202 (0s)\n",
      "iteration:25000, ELBO:0.983, ESS:13.643 (0s)\n",
      "iteration:26000, ELBO:0.755, ESS:12.783 (0s)\n",
      "iteration:27000, ELBO:0.789, ESS:13.272 (0s)\n",
      "iteration:28000, ELBO:1.001, ESS:14.253 (0s)\n",
      "iteration:29000, ELBO:0.742, ESS:13.810 (0s)\n",
      "iteration:30000, ELBO:0.870, ESS:14.973 (0s)\n",
      "iteration:31000, ELBO:0.700, ESS:13.337 (0s)\n",
      "iteration:32000, ELBO:0.870, ESS:16.713 (1s)\n",
      "iteration:33000, ELBO:0.941, ESS:15.625 (0s)\n",
      "iteration:34000, ELBO:0.850, ESS:16.984 (0s)\n",
      "iteration:35000, ELBO:0.988, ESS:19.254 (0s)\n",
      "iteration:36000, ELBO:0.836, ESS:18.022 (0s)\n",
      "iteration:37000, ELBO:0.939, ESS:18.390 (0s)\n",
      "iteration:38000, ELBO:0.758, ESS:17.055 (0s)\n",
      "iteration:39000, ELBO:0.891, ESS:18.553 (0s)\n"
     ]
    }
   ],
   "source": [
    "ELBO, Mu, Sigma, Grad_mu, Grad_sigma, ESS = iwae(num_samples, q_mu, q_sigma, p_mu, p_sigma2, iterations, optimizer)\n"
   ]
  },
  {
   "cell_type": "code",
   "execution_count": 18,
   "metadata": {},
   "outputs": [
    {
     "ename": "KeyboardInterrupt",
     "evalue": "",
     "output_type": "error",
     "traceback": [
      "\u001b[0;31m---------------------------------------------------------------------------\u001b[0m",
      "\u001b[0;31mKeyboardInterrupt\u001b[0m                         Traceback (most recent call last)",
      "\u001b[0;32m<ipython-input-18-9e32ef828aff>\u001b[0m in \u001b[0;36m<module>\u001b[0;34m()\u001b[0m\n\u001b[1;32m      1\u001b[0m \u001b[0meg_mu\u001b[0m\u001b[0;34m,\u001b[0m \u001b[0meg2_mu\u001b[0m\u001b[0;34m,\u001b[0m \u001b[0mvar_mu\u001b[0m\u001b[0;34m,\u001b[0m \u001b[0msnr_mu\u001b[0m \u001b[0;34m=\u001b[0m \u001b[0mSNR\u001b[0m\u001b[0;34m(\u001b[0m\u001b[0mnp\u001b[0m\u001b[0;34m.\u001b[0m\u001b[0marray\u001b[0m\u001b[0;34m(\u001b[0m\u001b[0mGrad_mu\u001b[0m\u001b[0;34m)\u001b[0m\u001b[0;34m,\u001b[0m \u001b[0miterations\u001b[0m\u001b[0;34m,\u001b[0m \u001b[0mbeta1\u001b[0m\u001b[0;34m=\u001b[0m\u001b[0;36m0.99\u001b[0m\u001b[0;34m,\u001b[0m \u001b[0mbeta2\u001b[0m\u001b[0;34m=\u001b[0m\u001b[0;36m0.999\u001b[0m\u001b[0;34m)\u001b[0m\u001b[0;34m\u001b[0m\u001b[0;34m\u001b[0m\u001b[0m\n\u001b[0;32m----> 2\u001b[0;31m \u001b[0meg_sigma\u001b[0m\u001b[0;34m,\u001b[0m \u001b[0meg2_sigma\u001b[0m\u001b[0;34m,\u001b[0m \u001b[0mvar_sigma\u001b[0m\u001b[0;34m,\u001b[0m \u001b[0msnr_sigma\u001b[0m \u001b[0;34m=\u001b[0m \u001b[0mSNR\u001b[0m\u001b[0;34m(\u001b[0m\u001b[0mnp\u001b[0m\u001b[0;34m.\u001b[0m\u001b[0marray\u001b[0m\u001b[0;34m(\u001b[0m\u001b[0mGrad_sigma\u001b[0m\u001b[0;34m)\u001b[0m\u001b[0;34m,\u001b[0m \u001b[0miterations\u001b[0m\u001b[0;34m,\u001b[0m \u001b[0mbeta1\u001b[0m\u001b[0;34m=\u001b[0m\u001b[0;36m0.99\u001b[0m\u001b[0;34m,\u001b[0m \u001b[0mbeta2\u001b[0m\u001b[0;34m=\u001b[0m\u001b[0;36m0.999\u001b[0m\u001b[0;34m)\u001b[0m\u001b[0;34m\u001b[0m\u001b[0;34m\u001b[0m\u001b[0m\n\u001b[0m",
      "\u001b[0;32m~/Research/amortized/amorgibbs/Univariate Gaussian/utils.py\u001b[0m in \u001b[0;36mSNR\u001b[0;34m(grads, N, beta1, beta2)\u001b[0m\n\u001b[1;32m     13\u001b[0m \u001b[0;34m\u001b[0m\u001b[0m\n\u001b[1;32m     14\u001b[0m \u001b[0;32mdef\u001b[0m \u001b[0mSNR\u001b[0m\u001b[0;34m(\u001b[0m\u001b[0mgrads\u001b[0m\u001b[0;34m,\u001b[0m \u001b[0mN\u001b[0m\u001b[0;34m,\u001b[0m \u001b[0mbeta1\u001b[0m\u001b[0;34m,\u001b[0m \u001b[0mbeta2\u001b[0m\u001b[0;34m)\u001b[0m\u001b[0;34m:\u001b[0m\u001b[0;34m\u001b[0m\u001b[0;34m\u001b[0m\u001b[0m\n\u001b[0;32m---> 15\u001b[0;31m     \u001b[0mltr1\u001b[0m\u001b[0;34m,\u001b[0m \u001b[0mltr2\u001b[0m \u001b[0;34m=\u001b[0m \u001b[0minit_tril\u001b[0m\u001b[0;34m(\u001b[0m\u001b[0mN\u001b[0m\u001b[0;34m,\u001b[0m \u001b[0mbeta1\u001b[0m\u001b[0;34m,\u001b[0m \u001b[0mbeta2\u001b[0m\u001b[0;34m)\u001b[0m\u001b[0;34m\u001b[0m\u001b[0;34m\u001b[0m\u001b[0m\n\u001b[0m\u001b[1;32m     16\u001b[0m     \u001b[0mgrads2\u001b[0m \u001b[0;34m=\u001b[0m \u001b[0mgrads\u001b[0m \u001b[0;34m**\u001b[0m \u001b[0;36m2\u001b[0m\u001b[0;34m\u001b[0m\u001b[0;34m\u001b[0m\u001b[0m\n\u001b[1;32m     17\u001b[0m     \u001b[0mE_g\u001b[0m \u001b[0;34m=\u001b[0m \u001b[0;34m(\u001b[0m\u001b[0mltr1\u001b[0m \u001b[0;34m*\u001b[0m \u001b[0mgrads\u001b[0m\u001b[0;34m)\u001b[0m\u001b[0;34m.\u001b[0m\u001b[0msum\u001b[0m\u001b[0;34m(\u001b[0m\u001b[0;34m-\u001b[0m\u001b[0;36m1\u001b[0m\u001b[0;34m)\u001b[0m \u001b[0;34m*\u001b[0m \u001b[0;34m(\u001b[0m\u001b[0;36m1\u001b[0m \u001b[0;34m-\u001b[0m \u001b[0mbeta1\u001b[0m\u001b[0;34m)\u001b[0m \u001b[0;34m/\u001b[0m \u001b[0;34m(\u001b[0m\u001b[0;36m1\u001b[0m \u001b[0;34m-\u001b[0m \u001b[0mltr1\u001b[0m\u001b[0;34m[\u001b[0m\u001b[0;34m:\u001b[0m\u001b[0;34m,\u001b[0m \u001b[0;36m0\u001b[0m\u001b[0;34m]\u001b[0m \u001b[0;34m*\u001b[0m \u001b[0mbeta1\u001b[0m\u001b[0;34m)\u001b[0m\u001b[0;34m\u001b[0m\u001b[0;34m\u001b[0m\u001b[0m\n",
      "\u001b[0;32m~/Research/amortized/amorgibbs/Univariate Gaussian/utils.py\u001b[0m in \u001b[0;36minit_tril\u001b[0;34m(T, beta1, beta2)\u001b[0m\n\u001b[1;32m      8\u001b[0m     \u001b[0;32mfor\u001b[0m \u001b[0mn\u001b[0m \u001b[0;32min\u001b[0m \u001b[0mrange\u001b[0m\u001b[0;34m(\u001b[0m\u001b[0mT\u001b[0m\u001b[0;34m)\u001b[0m\u001b[0;34m:\u001b[0m\u001b[0;34m\u001b[0m\u001b[0;34m\u001b[0m\u001b[0m\n\u001b[1;32m      9\u001b[0m         \u001b[0mltr\u001b[0m\u001b[0;34m[\u001b[0m\u001b[0mn\u001b[0m\u001b[0;34m:\u001b[0m\u001b[0;34m,\u001b[0m \u001b[0mn\u001b[0m\u001b[0;34m]\u001b[0m \u001b[0;34m=\u001b[0m \u001b[0mtt\u001b[0m\u001b[0;34m[\u001b[0m\u001b[0;34m:\u001b[0m\u001b[0mT\u001b[0m\u001b[0;34m-\u001b[0m\u001b[0mn\u001b[0m\u001b[0;34m]\u001b[0m\u001b[0;34m\u001b[0m\u001b[0;34m\u001b[0m\u001b[0m\n\u001b[0;32m---> 10\u001b[0;31m     \u001b[0mtril1\u001b[0m \u001b[0;34m=\u001b[0m \u001b[0mnp\u001b[0m\u001b[0;34m.\u001b[0m\u001b[0mtril\u001b[0m\u001b[0;34m(\u001b[0m\u001b[0mnp\u001b[0m\u001b[0;34m.\u001b[0m\u001b[0mexp\u001b[0m\u001b[0;34m(\u001b[0m\u001b[0mnp\u001b[0m\u001b[0;34m.\u001b[0m\u001b[0mones\u001b[0m\u001b[0;34m(\u001b[0m\u001b[0;34m(\u001b[0m\u001b[0mT\u001b[0m\u001b[0;34m,\u001b[0m \u001b[0mT\u001b[0m\u001b[0;34m)\u001b[0m\u001b[0;34m)\u001b[0m \u001b[0;34m*\u001b[0m \u001b[0mlbeta1\u001b[0m \u001b[0;34m*\u001b[0m \u001b[0mltr\u001b[0m\u001b[0;34m)\u001b[0m\u001b[0;34m)\u001b[0m\u001b[0;34m\u001b[0m\u001b[0;34m\u001b[0m\u001b[0m\n\u001b[0m\u001b[1;32m     11\u001b[0m     \u001b[0mtril2\u001b[0m \u001b[0;34m=\u001b[0m \u001b[0mnp\u001b[0m\u001b[0;34m.\u001b[0m\u001b[0mtril\u001b[0m\u001b[0;34m(\u001b[0m\u001b[0mnp\u001b[0m\u001b[0;34m.\u001b[0m\u001b[0mexp\u001b[0m\u001b[0;34m(\u001b[0m\u001b[0mnp\u001b[0m\u001b[0;34m.\u001b[0m\u001b[0mones\u001b[0m\u001b[0;34m(\u001b[0m\u001b[0;34m(\u001b[0m\u001b[0mT\u001b[0m\u001b[0;34m,\u001b[0m \u001b[0mT\u001b[0m\u001b[0;34m)\u001b[0m\u001b[0;34m)\u001b[0m \u001b[0;34m*\u001b[0m \u001b[0mlbeta2\u001b[0m \u001b[0;34m*\u001b[0m \u001b[0mltr\u001b[0m\u001b[0;34m)\u001b[0m\u001b[0;34m)\u001b[0m\u001b[0;34m\u001b[0m\u001b[0;34m\u001b[0m\u001b[0m\n\u001b[1;32m     12\u001b[0m     \u001b[0;32mreturn\u001b[0m \u001b[0mtril1\u001b[0m\u001b[0;34m,\u001b[0m \u001b[0mtril2\u001b[0m\u001b[0;34m\u001b[0m\u001b[0;34m\u001b[0m\u001b[0m\n",
      "\u001b[0;32m~/anaconda3/envs/dev/lib/python3.6/site-packages/numpy/core/numeric.py\u001b[0m in \u001b[0;36mones\u001b[0;34m(shape, dtype, order)\u001b[0m\n\u001b[1;32m    202\u001b[0m     \"\"\"\n\u001b[1;32m    203\u001b[0m     \u001b[0ma\u001b[0m \u001b[0;34m=\u001b[0m \u001b[0mempty\u001b[0m\u001b[0;34m(\u001b[0m\u001b[0mshape\u001b[0m\u001b[0;34m,\u001b[0m \u001b[0mdtype\u001b[0m\u001b[0;34m,\u001b[0m \u001b[0morder\u001b[0m\u001b[0;34m)\u001b[0m\u001b[0;34m\u001b[0m\u001b[0;34m\u001b[0m\u001b[0m\n\u001b[0;32m--> 204\u001b[0;31m     \u001b[0mmultiarray\u001b[0m\u001b[0;34m.\u001b[0m\u001b[0mcopyto\u001b[0m\u001b[0;34m(\u001b[0m\u001b[0ma\u001b[0m\u001b[0;34m,\u001b[0m \u001b[0;36m1\u001b[0m\u001b[0;34m,\u001b[0m \u001b[0mcasting\u001b[0m\u001b[0;34m=\u001b[0m\u001b[0;34m'unsafe'\u001b[0m\u001b[0;34m)\u001b[0m\u001b[0;34m\u001b[0m\u001b[0;34m\u001b[0m\u001b[0m\n\u001b[0m\u001b[1;32m    205\u001b[0m     \u001b[0;32mreturn\u001b[0m \u001b[0ma\u001b[0m\u001b[0;34m\u001b[0m\u001b[0;34m\u001b[0m\u001b[0m\n\u001b[1;32m    206\u001b[0m \u001b[0;34m\u001b[0m\u001b[0m\n",
      "\u001b[0;31mKeyboardInterrupt\u001b[0m: "
     ]
    }
   ],
   "source": [
    "eg_mu, eg2_mu, var_mu, snr_mu = SNR(np.array(Grad_mu), iterations, beta1=0.99, beta2=0.999)    \n",
    "eg_sigma, eg2_sigma, var_sigma, snr_sigma = SNR(np.array(Grad_sigma), iterations, beta1=0.99, beta2=0.999)    "
   ]
  },
  {
   "cell_type": "code",
   "execution_count": null,
   "metadata": {},
   "outputs": [],
   "source": [
    "def plot_results(ELBO, ESS, num_samples, snr_mu, snr_sigma):\n",
    "    fig = plt.figure(figsize=(10,10))\n",
    "    ax1, ax2, ax3 = fig.subplots(3, 1, sharex=True)\n",
    "    plt.tight_layout()\n",
    "    ax1.plot(ELBO, 'b', label='ELBOs')\n",
    "    ax1.legend()\n",
    "    ## SNR\n",
    "    ax2.plot(snr_sigma, label='SNR_sigma')\n",
    "    ax2.plot(snr_mu, label='SNR_mu')\n",
    "    ax2.legend()\n",
    "    # ax2.set_ylim([-1,5])\n",
    "    ## ESS\n",
    "    ess_ratio = np.array(ESS) / num_samples\n",
    "    ave_ess = np.reshape(ess_ratio, (-1, 10)).mean(-1)\n",
    "    N = ave_ess.shape[0]\n",
    "    ax3.plot(np.arange(N) * 10, ave_ess, 'go', label='ESS')\n",
    "    ax3.set_ylim([0, 1])\n",
    "plot_results(ELBO, ESS, num_samples, snr_mu, snr_sigma)"
   ]
  },
  {
   "cell_type": "code",
   "execution_count": null,
   "metadata": {},
   "outputs": [],
   "source": []
  },
  {
   "cell_type": "code",
   "execution_count": null,
   "metadata": {},
   "outputs": [],
   "source": []
  }
 ],
 "metadata": {
  "kernelspec": {
   "display_name": "Python 3",
   "language": "python",
   "name": "python3"
  },
  "language_info": {
   "codemirror_mode": {
    "name": "ipython",
    "version": 3
   },
   "file_extension": ".py",
   "mimetype": "text/x-python",
   "name": "python",
   "nbconvert_exporter": "python",
   "pygments_lexer": "ipython3",
   "version": "3.6.7"
  }
 },
 "nbformat": 4,
 "nbformat_minor": 2
}
