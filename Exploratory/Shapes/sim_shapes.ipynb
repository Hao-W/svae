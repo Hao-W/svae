{
 "cells": [
  {
   "cell_type": "code",
   "execution_count": 1,
   "metadata": {},
   "outputs": [],
   "source": [
    "%matplotlib inline\n",
    "DATA_DIR = '/home/hao/Research/apg_data/'\n",
    "from sim_shapes import *\n",
    "import os"
   ]
  },
  {
   "cell_type": "code",
   "execution_count": 3,
   "metadata": {},
   "outputs": [],
   "source": [
    "period = 2\n",
    "bound = 10\n",
    "K = 4\n",
    "D = 2\n",
    "radi = 2.0\n",
    "noise_std = 0.1\n",
    "center_std = 3.0\n",
    "fixed_radi = True\n",
    "\n",
    "num_seqs = 10000\n",
    "Nc = 70\n",
    "Ns = 48\n",
    "Nt = 48\n",
    "N = (Nc, Ns, Nt)\n",
    "path = DATA_DIR + \"shapes/squares_%d\" % (Ns*K)\n",
    "if not os.path.exists(path):\n",
    "    os.makedirs(path)\n",
    "shape = Shapes(N, K, period, bound, center_std, noise_std, radi)\n",
    "# shape.visual_data(num_seqs, shape='squares')\n",
    "shape.sim_save_data(num_seqs, path, shape='squares')"
   ]
  },
  {
   "cell_type": "code",
   "execution_count": null,
   "metadata": {},
   "outputs": [],
   "source": [
    "period = 2\n",
    "bound = 10\n",
    "K = 3\n",
    "D = 2\n",
    "radi = 2.0\n",
    "noise_std = 0.1\n",
    "center_std = 2.5\n",
    "fixed_radi = True\n",
    "\n",
    "num_seqs = 2000\n",
    "Ns = [(20, 24, 24), (50, 48, 48), (70, 72, 72), (100, 96, 96)]\n",
    "for N in Ns:\n",
    "    path = data_dir + \"ncmm/shapes_4size/shapes_c=%d_s=%d_t=%d\" % (N[0], N[1], N[2])\n",
    "    if not os.path.exists(path):\n",
    "        os.makedirs(path)\n",
    "    shape = Shapes(N, K, period, bound, center_std, noise_std, radi)\n",
    "    shape.sim_save_data(num_seqs, path)"
   ]
  },
  {
   "cell_type": "code",
   "execution_count": null,
   "metadata": {},
   "outputs": [],
   "source": [
    "np.random.uniform(4/3 * math.pi, 2 * math.pi, 1)"
   ]
  },
  {
   "cell_type": "code",
   "execution_count": null,
   "metadata": {},
   "outputs": [],
   "source": []
  }
 ],
 "metadata": {
  "kernelspec": {
   "display_name": "Python 3",
   "language": "python",
   "name": "python3"
  },
  "language_info": {
   "codemirror_mode": {
    "name": "ipython",
    "version": 3
   },
   "file_extension": ".py",
   "mimetype": "text/x-python",
   "name": "python",
   "nbconvert_exporter": "python",
   "pygments_lexer": "ipython3",
   "version": "3.7.3"
  }
 },
 "nbformat": 4,
 "nbformat_minor": 4
}
