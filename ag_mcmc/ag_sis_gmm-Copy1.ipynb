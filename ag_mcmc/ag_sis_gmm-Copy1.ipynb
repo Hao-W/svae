{
 "cells": [
  {
   "cell_type": "code",
   "execution_count": 1,
   "metadata": {},
   "outputs": [
    {
     "name": "stdout",
     "output_type": "stream",
     "text": [
      "probtorch: 0.0+5a2c637 torch: 1.0.0 cuda: True\n"
     ]
    }
   ],
   "source": [
    "%matplotlib inline\n",
    "import numpy as np\n",
    "import torch.nn as nn\n",
    "import torch.nn.functional as F\n",
    "import matplotlib.pyplot as plt\n",
    "from plots import *\n",
    "import sys\n",
    "import time\n",
    "import datetime\n",
    "sys.path.append('/home/hao/Research/probtorch/')\n",
    "from torch.distributions.uniform import Uniform\n",
    "from torch.distributions.normal import Normal\n",
    "from torch.distributions.one_hot_categorical import OneHotCategorical as cat\n",
    "from torch import logsumexp\n",
    "\n",
    "import probtorch\n",
    "from probtorch.util import expand_inputs\n",
    "\n",
    "print('probtorch:', probtorch.__version__, \n",
    "      'torch:', torch.__version__, \n",
    "      'cuda:', torch.cuda.is_available())"
   ]
  },
  {
   "cell_type": "code",
   "execution_count": 8,
   "metadata": {},
   "outputs": [],
   "source": [
    "T = 30\n",
    "D = 2\n",
    "K = 3\n",
    "\n",
    "NUM_OBS = D * K + K\n",
    "rws_samples = 50\n",
    "steps = 5\n",
    "## Model Parameters\n",
    "NUM_HIDDEN = 128\n",
    "NUM_LATENT = D * K\n",
    "BATCH_SIZE = 100\n",
    "NUM_EPOCHS = 1000\n",
    "LEARNING_RATE = 1e-4\n",
    "CUDA = False"
   ]
  },
  {
   "cell_type": "code",
   "execution_count": 9,
   "metadata": {},
   "outputs": [],
   "source": [
    "Ys = torch.from_numpy(np.load('gmm_dataset/sequences.npy')).float()\n",
    "Zs_true = np.load('gmm_dataset/states.npy')\n",
    "mu_ks = torch.from_numpy(np.load('gmm_dataset/means.npy')).float()\n",
    "cov_ks = torch.from_numpy(np.load('gmm_dataset/covariances.npy')).float()\n",
    "Pi = torch.from_numpy(np.load('gmm_dataset/init.npy')).float()\n",
    "\n",
    "num_seqs = Ys.shape[0]"
   ]
  },
  {
   "cell_type": "code",
   "execution_count": 10,
   "metadata": {},
   "outputs": [],
   "source": [
    "class Encoder(nn.Module):\n",
    "    def __init__(self, num_obs=NUM_OBS,\n",
    "                       num_hidden=NUM_HIDDEN,\n",
    "                       num_latents=NUM_LATENT):\n",
    "        super(self.__class__, self).__init__()\n",
    "        self.enc_hidden = nn.Sequential(\n",
    "            nn.Linear(num_obs, num_hidden),\n",
    "            nn.Tanh())\n",
    "        self.mean = nn.Sequential(\n",
    "            nn.Linear(num_hidden, num_latents))\n",
    "        self.log_std = nn.Sequential(\n",
    "            nn.Linear(num_hidden, num_latents))\n",
    "        \n",
    "    def forward(self, obs, K, D):\n",
    "        hidden = self.enc_hidden(obs)\n",
    "        mean = self.mean(hidden).view(-1, K, D)\n",
    "        std = torch.exp(self.log_std(hidden).view(-1, K, D))\n",
    "        mus = Normal(mean, std).sample()\n",
    "        return mean, std, mus"
   ]
  },
  {
   "cell_type": "code",
   "execution_count": 11,
   "metadata": {},
   "outputs": [],
   "source": [
    "def initialize():\n",
    "    enc = Encoder()\n",
    "    if CUDA:\n",
    "        enc.cuda()\n",
    "    optimizer =  torch.optim.Adam(list(enc.parameters()),lr=LEARNING_RATE)    \n",
    "    return enc, optimizer\n",
    "enc, optimizer = initialize()"
   ]
  },
  {
   "cell_type": "code",
   "execution_count": 12,
   "metadata": {},
   "outputs": [],
   "source": [
    "def flatz(Z, T, K, batch_size):\n",
    "    return torch.cat((Z[:, :T-1, :].unsqueeze(2), Z[:, 1:, :].unsqueeze(2)), 2).view(batch_size * (T-1), 2*K)\n",
    "\n",
    "def init_mus(K, D, batch_size):\n",
    "    mus = Normal(torch.zeros((batch_size, K, D)), torch.ones((batch_size, K, D))  * 0.5).sample()\n",
    "    log_p_init = Normal(torch.zeros((batch_size, K, D)), torch.ones((batch_size, K, D))  * 0.5).log_prob(mus).sum(-1).sum(-1)\n",
    "    return mus, log_p_init\n",
    "\n",
    "def E_step_gmm(mus, Sigmas, Ys, T, D, K):\n",
    "    ## Ys is B-by-T-by-D\n",
    "    log_gammas = Normal(mus.unsqueeze(0).repeat(T, 1, 1, 1).transpose(0,2), Sigmas.unsqueeze(0).repeat(T, 1, 1, 1).transpose(0,2)).log_prob(Ys).sum(-1).transpose(0,1).transpose(1,2)\n",
    "    gammas = torch.exp(log_gammas - logsumexp(log_gammas, -1).unsqueeze(-1))\n",
    "    Z = cat(gammas).sample()\n",
    "    log_qz = cat(F.softmax(gammas, -1)).log_prob(Z).sum(-1)\n",
    "    return Z, log_qz\n",
    "\n",
    "def log_qs_gmm(mean, std, mus):\n",
    "    log_q = Normal(mean, std).log_prob(mus).sum(-1).sum(-1)\n",
    "    return log_q\n",
    "\n",
    "def log_joints_gmm(Z, Pi, mus, Sigmas, Ys, T, D, K, batch_size):\n",
    "    log_probs = torch.zeros(batch_size).float()\n",
    "    ## mus B-by-K-by-D\n",
    "    log_probs = log_probs + Normal(torch.zeros((batch_size, K, D)), torch.ones((batch_size, K, D)) * 0.5).log_prob(mus).sum(-1).sum(-1)\n",
    "    ## Z B-by-T-by-K\n",
    "    log_probs = log_probs + cat(Pi).log_prob(Z).sum(-1)\n",
    "    labels = Z.nonzero()\n",
    "    log_probs = log_probs + Normal(mus[labels[:, 0], labels[:, -1]].view(batch_size, T, D), Sigmas[labels[:, 0], labels[:, -1]].view(batch_size, T, D)).log_prob(Ys).sum(-1).sum(-1)\n",
    "    return log_probs\n",
    "\n",
    "def eubo_gmm_rws(enc, Pi, Sigmas, Ys, T, D, K, rws_samples, steps, batch_size):\n",
    "    \"\"\"\n",
    "    rws gradient estimator\n",
    "    sis sampling scheme\n",
    "    no resampling\n",
    "    \"\"\"\n",
    "    log_increment_weights = torch.zeros((steps, rws_samples, batch_size))\n",
    "    log_uptonow_weights = torch.zeros((steps, rws_samples, batch_size))\n",
    "    for m in range(steps):\n",
    "        if m == 0:\n",
    "            for l in range(rws_samples):\n",
    "                mus, log_p_init = init_mus(K, D, batch_size)\n",
    "                Z, log_qz = E_step_gmm(mus, Sigmas, Ys, T, D, K)\n",
    "                ## the first incremental weight is just log normalizer since As is sampled from prior\n",
    "                log_p_joint = log_joints_gmm(Z, Pi, mus, Sigmas, Ys, T, D, K, batch_size)\n",
    "                log_increment_weights[m, l] = log_p_joint - log_p_init - log_qz\n",
    "                log_uptonow_weights[m, l] = log_p_joint - log_p_init - log_qz\n",
    "\n",
    "        else:\n",
    "            for l in range(rws_samples):\n",
    "                stats1 = Z.sum(1)\n",
    "                stats2 = torch.mul(stats1.unsqueeze(-1).unsqueeze(-1).repeat(1, 1, T, D).transpose(0, 1), Ys.unsqueeze(0).repeat(K, 1, 1, 1)).sum(2).transpose(0,1).contiguous().view(-1, K*D) ## should be B-K*D\n",
    "                stats = torch.cat((stats1, stats2), -1)\n",
    "                mean, std, mus = enc(stats, K, D)\n",
    "                log_q_mus = Normal(mean, std).log_prob(mus).sum(-1).sum(-1)\n",
    "                Z, log_qz = E_step_gmm(mus, Sigmas, Ys, T, D, K)\n",
    "                ## the first incremental weight is just log normalizer since As is sampled from prior\n",
    "                log_p_joint = log_joints_gmm(Z, Pi, mus, Sigmas, Ys, T, D, K, batch_size)\n",
    "                log_increment_weights[m, l] = log_p_joint - log_q_mus - log_qz\n",
    "                log_uptonow_weights[m, l] = log_uptonow_weights[m-1, l] + log_increment_weights[m, l]\n",
    "    weights = torch.exp(log_uptonow_weights - logsumexp(log_uptonow_weights, 1).unsqueeze(1).repeat(1, rws_samples, 1)).detach()\n",
    "    eubo = torch.mul(weights, log_increment_weights).sum(1).sum(0).mean()\n",
    "    elbo = log_increment_weights.sum(0).mean(0).mean()\n",
    "    return eubo, elbo"
   ]
  },
  {
   "cell_type": "code",
   "execution_count": null,
   "metadata": {},
   "outputs": [
    {
     "name": "stdout",
     "output_type": "stream",
     "text": [
      "iteration: 0, EUBO : -1622.852539, ELBO : -1919.715576 (2s)\n",
      "iteration: 1, EUBO : -1630.539673, ELBO : -1943.644653 (2s)\n",
      "iteration: 2, EUBO : -1616.107666, ELBO : -1919.119995 (1s)\n",
      "iteration: 3, EUBO : -1602.652832, ELBO : -1912.339111 (1s)\n",
      "iteration: 4, EUBO : -1596.050903, ELBO : -1900.983154 (2s)\n",
      "iteration: 5, EUBO : -1641.996094, ELBO : -1929.222046 (2s)\n",
      "iteration: 6, EUBO : -1604.303711, ELBO : -1902.790771 (1s)\n",
      "iteration: 7, EUBO : -1601.426270, ELBO : -1912.208130 (1s)\n",
      "iteration: 8, EUBO : -1629.720337, ELBO : -1930.871704 (2s)\n",
      "iteration: 9, EUBO : -1595.321533, ELBO : -1896.315308 (2s)\n"
     ]
    }
   ],
   "source": [
    "EUBOs = []\n",
    "ELBOs = []\n",
    "ESSs = []\n",
    "Sigmas = torch.diagonal(cov_ks, 0, -2, -1).unsqueeze(0).repeat(BATCH_SIZE, 1, 1)\n",
    "Grad_Steps = int((Ys.shape[0] / BATCH_SIZE))\n",
    "for epoch in range(NUM_EPOCHS):\n",
    "#     np.random.shuffle(Ys_Zs)\n",
    "    indices = torch.randperm(num_seqs)\n",
    "#     Ys_shuffled = torch.from_numpy(Ys_Zs[:, :, :2]).float()\n",
    "#     Zs_true_shuffled = torch.from_numpy(Ys_Zs[:, :, 2:]).float()\n",
    "    for step in range(Grad_Steps):\n",
    "        time_start = time.time()\n",
    "        optimizer.zero_grad()\n",
    "        batch_indices = indices[step*BATCH_SIZE : (step+1)*BATCH_SIZE]\n",
    "        batch_data = Ys[batch_indices]\n",
    "        eubo, elbo = eubo_gmm_rws(enc, Pi, Sigmas, batch_data, T, D, K, rws_samples, steps, BATCH_SIZE)\n",
    "        eubo.backward()\n",
    "        optimizer.step()\n",
    "        EUBOs.append(eubo.item())\n",
    "        ELBOs.append(elbo.item())\n",
    "    \n",
    "        time_end = time.time()\n",
    "        print('iteration: %d, EUBO : %f, ELBO : %f (%ds)' % (epoch*Grad_Steps+step, eubo, elbo, time_end - time_start))"
   ]
  },
  {
   "cell_type": "code",
   "execution_count": null,
   "metadata": {},
   "outputs": [],
   "source": []
  },
  {
   "cell_type": "code",
   "execution_count": null,
   "metadata": {},
   "outputs": [],
   "source": [
    "batch_data"
   ]
  },
  {
   "cell_type": "code",
   "execution_count": null,
   "metadata": {},
   "outputs": [],
   "source": []
  }
 ],
 "metadata": {
  "kernelspec": {
   "display_name": "Python 3",
   "language": "python",
   "name": "python3"
  },
  "language_info": {
   "codemirror_mode": {
    "name": "ipython",
    "version": 3
   },
   "file_extension": ".py",
   "mimetype": "text/x-python",
   "name": "python",
   "nbconvert_exporter": "python",
   "pygments_lexer": "ipython3",
   "version": "3.6.7"
  }
 },
 "nbformat": 4,
 "nbformat_minor": 2
}
