{
 "cells": [
  {
   "cell_type": "code",
   "execution_count": 5,
   "metadata": {},
   "outputs": [],
   "source": [
    "import numpy as np\n",
    "import torch\n",
    "import matplotlib.pyplot as plt\n",
    "%matplotlib inline\n",
    "from gmm_dataset import *\n",
    "from util import *\n",
    "from torch.distributions.normal import Normal\n",
    "from torch.distributions.uniform import Uniform\n",
    "import math"
   ]
  },
  {
   "cell_type": "code",
   "execution_count": 6,
   "metadata": {},
   "outputs": [
    {
     "name": "stdout",
     "output_type": "stream",
     "text": [
      "0\n"
     ]
    }
   ],
   "source": [
    "T = 30\n",
    "K = 3\n",
    "D = 2\n",
    "num_seqs = 100\n",
    "Ys = np.zeros((num_seqs, T, D))\n",
    "Zs_true = np.zeros((num_seqs, T, K))\n",
    "Mus = np.zeros((num_seqs, K, D))\n",
    "for n in range(num_seqs):\n",
    "    Y, mus_true, covs_true, Z, Pi = sampling_gmm(T, K, D)\n",
    "    Ys[n] = Y.data.numpy()\n",
    "    Zs_true[n] = Z.data.numpy()\n",
    "    Mus[n] = mus_true.data.numpy()\n",
    "    if n % 100 == 0:\n",
    "        print(n)"
   ]
  },
  {
   "cell_type": "code",
   "execution_count": 7,
   "metadata": {},
   "outputs": [],
   "source": [
    "np.save('gmm_dataset/sequences', Ys)\n",
    "np.save('gmm_dataset/states', Zs_true)\n",
    "np.save('gmm_dataset/means', Mus)\n",
    "np.save('gmm_dataset/covariances', covs_true.data.numpy())\n",
    "np.save('gmm_dataset/init', Pi.data.numpy())"
   ]
  },
  {
   "cell_type": "code",
   "execution_count": 8,
   "metadata": {},
   "outputs": [
    {
     "data": {
      "image/png": "[encoded data removed]",
      "text/plain": [
       "<Figure size 288x288 with 1 Axes>"
      ]
     },
     "metadata": {},
     "output_type": "display_data"
    }
   ],
   "source": [
    "plot_samples(Y, mus_true, torch.eye(2).unsqueeze(0).repeat(K, 1, 1) * 0.5)"
   ]
  },
  {
   "cell_type": "code",
   "execution_count": null,
   "metadata": {},
   "outputs": [],
   "source": [
    "prior = initial_trans_prior(K)\n",
    "Dirichlet(prior).sample()"
   ]
  },
  {
   "cell_type": "code",
   "execution_count": null,
   "metadata": {},
   "outputs": [],
   "source": [
    "\n",
    "radius = 2.0\n",
    "C = np.zeros((3, 2))\n",
    "\n",
    "angle1 = Uniform(0.0, 2 * math.pi).sample().item()\n",
    "C[0, 0] = math.cos(angle1) * radius\n",
    "C[0, 1] = math.sin(angle1) * radius\n",
    "angle2 = angle1 + 2 * math.pi / 3\n",
    "if angle2 > 2 * math.pi:\n",
    "    angle2 -= 2 * math.pi\n",
    "C[1, 0] = math.cos(angle2) * radius\n",
    "C[1, 1] = math.sin(angle2) * radius\n",
    "angle3 = angle2 + 2 * math.pi / 3\n",
    "if angle3 > 2 * math.pi:\n",
    "    angle3 -= 2 * math.pi\n",
    "C[2, 0] = math.cos(angle3) * radius\n",
    "C[2, 1] = math.sin(angle3) * radius"
   ]
  },
  {
   "cell_type": "code",
   "execution_count": null,
   "metadata": {},
   "outputs": [],
   "source": [
    "plt.scatter(C[:, 0], C[:, 1])"
   ]
  },
  {
   "cell_type": "code",
   "execution_count": null,
   "metadata": {},
   "outputs": [],
   "source": []
  }
 ],
 "metadata": {
  "kernelspec": {
   "display_name": "Python 3",
   "language": "python",
   "name": "python3"
  },
  "language_info": {
   "codemirror_mode": {
    "name": "ipython",
    "version": 3
   },
   "file_extension": ".py",
   "mimetype": "text/x-python",
   "name": "python",
   "nbconvert_exporter": "python",
   "pygments_lexer": "ipython3",
   "version": "3.6.7"
  }
 },
 "nbformat": 4,
 "nbformat_minor": 2
}
