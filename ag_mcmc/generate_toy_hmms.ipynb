{
 "cells": [
  {
   "cell_type": "code",
   "execution_count": 1,
   "metadata": {},
   "outputs": [],
   "source": [
    "import numpy as np\n",
    "import torch\n",
    "import matplotlib.pyplot as plt\n",
    "%matplotlib inline\n",
    "from gmm_dataset import *\n",
    "from util import *"
   ]
  },
  {
   "cell_type": "code",
   "execution_count": 4,
   "metadata": {},
   "outputs": [
    {
     "name": "stdout",
     "output_type": "stream",
     "text": [
      "0\n",
      "100\n",
      "200\n",
      "300\n",
      "400\n"
     ]
    }
   ],
   "source": [
    "T = 30\n",
    "K = 3\n",
    "D = 2\n",
    "num_seqs = 500\n",
    "Ys = np.zeros((num_seqs, T, D))\n",
    "Zs_true = np.zeros((num_seqs, T, K))\n",
    "As_true = np.zeros((num_seqs, K, K))\n",
    "\n",
    "\n",
    "for n in range(num_seqs):\n",
    "    Y, mus_true, covs_true, Z, Pi, A = sampling_hmm(T, K, D)\n",
    "    Ys[n] = Y.data.numpy()\n",
    "    Zs_true[n] = Z.data.numpy()\n",
    "    As_true[n] = A.data.numpy()\n",
    "    if n % 100 == 0:\n",
    "        print(n)"
   ]
  },
  {
   "cell_type": "code",
   "execution_count": 7,
   "metadata": {},
   "outputs": [],
   "source": [
    "np.save('dataset/sequences', Ys)\n",
    "np.save('dataset/transitions', As_true)\n",
    "np.save('dataset/states', Zs_true)\n",
    "np.save('dataset/means', mus_true.data.numpy())\n",
    "np.save('dataset/covariances', covs_true.data.numpy())\n",
    "np.save('dataset/init', Pi.data.numpy())"
   ]
  },
  {
   "cell_type": "code",
   "execution_count": 6,
   "metadata": {},
   "outputs": [
    {
     "data": {
      "image/png": "[encoded data removed]",
      "text/plain": [
       "<Figure size 288x288 with 1 Axes>"
      ]
     },
     "metadata": {},
     "output_type": "display_data"
    }
   ],
   "source": [
    "plot_samples(Y, mus_true, covs_true)"
   ]
  },
  {
   "cell_type": "code",
   "execution_count": null,
   "metadata": {},
   "outputs": [],
   "source": []
  },
  {
   "cell_type": "code",
   "execution_count": null,
   "metadata": {},
   "outputs": [],
   "source": []
  }
 ],
 "metadata": {
  "kernelspec": {
   "display_name": "Python 3",
   "language": "python",
   "name": "python3"
  },
  "language_info": {
   "codemirror_mode": {
    "name": "ipython",
    "version": 3
   },
   "file_extension": ".py",
   "mimetype": "text/x-python",
   "name": "python",
   "nbconvert_exporter": "python",
   "pygments_lexer": "ipython3",
   "version": "3.6.7"
  }
 },
 "nbformat": 4,
 "nbformat_minor": 2
}
