{
 "cells": [
  {
   "cell_type": "code",
   "execution_count": 2,
   "metadata": {},
   "outputs": [
    {
     "name": "stdout",
     "output_type": "stream",
     "text": [
      "probtorch: 0.0+5a2c637 torch: 1.0.0 cuda: True\n"
     ]
    }
   ],
   "source": [
    "%matplotlib inline\n",
    "import numpy as np\n",
    "import torch.nn as nn\n",
    "import torch.nn.functional as F\n",
    "import matplotlib.pyplot as plt\n",
    "from plots import *\n",
    "import sys\n",
    "import time\n",
    "import datetime\n",
    "sys.path.append('/home/hao/Research/probtorch/')\n",
    "from torch.distributions.uniform import Uniform\n",
    "from torch.distributions.normal import Normal\n",
    "import probtorch\n",
    "from probtorch.util import expand_inputs\n",
    "\n",
    "print('probtorch:', probtorch.__version__, \n",
    "      'torch:', torch.__version__, \n",
    "      'cuda:', torch.cuda.is_available())"
   ]
  },
  {
   "cell_type": "code",
   "execution_count": 3,
   "metadata": {},
   "outputs": [],
   "source": [
    "T = 30\n",
    "D = 2\n",
    "K = 3\n",
    "\n",
    "NUM_OBS = D + K\n",
    "NUM_SAMPLES = 20\n",
    "mcmc_steps = 8\n",
    "## Model Parameters\n",
    "NUM_HIDDEN = 128\n",
    "NUM_LATENT = D * K\n",
    "BATCH_SIZE = 20\n",
    "NUM_EPOCHS = 1000\n",
    "LEARNING_RATE = 1e-4\n",
    "CUDA = False"
   ]
  },
  {
   "cell_type": "code",
   "execution_count": 4,
   "metadata": {},
   "outputs": [],
   "source": [
    "Ys = np.load('gmm_dataset/sequences.npy')\n",
    "Zs_true = np.load('gmm_dataset/states.npy')\n",
    "mu_ks = torch.from_numpy(np.load('gmm_dataset/means.npy')).float()\n",
    "cov_ks = torch.from_numpy(np.load('gmm_dataset/covariances.npy')).float()\n",
    "Pi = torch.from_numpy(np.load('gmm_dataset/init.npy')).float()\n",
    "\n",
    "num_seqs = Ys.shape[0]\n",
    "\n",
    "Ys_Zs = np.concatenate((Ys, Zs_true), axis=-1)"
   ]
  },
  {
   "cell_type": "code",
   "execution_count": null,
   "metadata": {},
   "outputs": [],
   "source": [
    "class Encoder(nn.Module):\n",
    "    def __init__(self, num_obs=NUM_OBS,\n",
    "                       num_hidden=NUM_HIDDEN,\n",
    "                       num_latents=NUM_LATENT):\n",
    "        super(self.__class__, self).__init__()\n",
    "        self.enc_hidden = nn.Sequential(\n",
    "            nn.Linear(num_obs, num_hidden),\n",
    "            nn.Tanh())\n",
    "        self.latent_mean = nn.Sequential(\n",
    "            nn.Linear(num_hidden, num_latents))\n",
    "        self.latent_log_std = nn.Sequential(\n",
    "            nn.Linear(num_hidden, num_latents))\n",
    "        \n",
    "    def forward(self, obs, T, K, batch_size):\n",
    "        hidden = self.enc_hidden(obs)\n",
    "        mean = self.latent_mean(hidden).view(batch_size, T, D*K).mean(1).view(batch_size, K, D)\n",
    "        std = torch.exp(self.latent_log_std(hidden).view(batch_size, T, D*K)).mean(1).view(batch_size, K, D)\n",
    "        \n",
    "        mus = Normal(mean, std).sample()\n",
    "        return mean, std, mus"
   ]
  },
  {
   "cell_type": "code",
   "execution_count": null,
   "metadata": {},
   "outputs": [],
   "source": [
    "def initialize():\n",
    "    enc = Encoder()\n",
    "    if CUDA:\n",
    "        enc.cuda()\n",
    "    optimizer =  torch.optim.Adam(list(enc.parameters()),lr=LEARNING_RATE)    \n",
    "    return enc, optimizer\n",
    "enc, optimizer = initialize()"
   ]
  },
  {
   "cell_type": "code",
   "execution_count": null,
   "metadata": {},
   "outputs": [],
   "source": [
    "ELBOs = []\n",
    "ESSs = []\n",
    "KLs = []\n",
    "Grads = []\n",
    "Sigmas = cov_ks.unsqueeze(0).repeat(BATCH_SIZE, 1, 1)\n",
    "Grad_Steps = int((Ys.shape[0] / BATCH_SIZE))\n",
    "for epoch in range(NUM_EPOCHS):\n",
    "    np.random.shuffle(Ys_Zs)\n",
    "#     indices = torch.randperm(num_seqs)\n",
    "    Ys_shuffled = torch.from_numpy(Ys_Zs[:, :, :2]).float()\n",
    "    Zs_true_shuffled = torch.from_numpy(Ys_Zs[:, :, 2:]).float()\n",
    "    for step in range(Grad_Steps):\n",
    "        time_start = time.time()\n",
    "        optimizer.zero_grad()\n",
    "        batch_data = Ys_shuffled[step*BATCH_SIZE : (step+1)*BATCH_SIZE]\n",
    "        batch_zs = Zs_true_shuffled[step*BATCH_SIZE : (step+1)*BATCH_SIZE]\n",
    "        gradient, elbo = ag_mcmc_vimco_gmm(enc, batch_zs, Pi, Sigmas, batch_data, T, D, K, NUM_SAMPLES, mcmc_steps, BATCH_SIZE)\n",
    "        loss = - gradient\n",
    "        loss.backward()\n",
    "        optimizer.step()\n",
    "        ELBOs.append(elbo.item())\n",
    "#         ESSs.append(ess.item())\n",
    "#         KLs.append(kl.item())\n",
    "        Grads.append(loss.item())\n",
    "        time_end = time.time()\n",
    "        print('epoch : %d, step : %d, ELBO : %f (%ds)' % (epoch, step, elbo, time_end - time_start))"
   ]
  },
  {
   "cell_type": "code",
   "execution_count": null,
   "metadata": {},
   "outputs": [],
   "source": [
    "BATCH_SIZE = 10\n",
    "Ys_test = torch.from_numpy(Ys[:BATCH_SIZE, :]).float()\n",
    "Zs_test = torch.from_numpy(Zs_true[:BATCH_SIZE, :]).float()\n",
    "mu_ks = torch.from_numpy(np.load('gmm_dataset/means.npy')).float()[:BATCH_SIZE]\n",
    "Sigmas = cov_ks.unsqueeze(0).repeat(BATCH_SIZE, 1, 1)"
   ]
  },
  {
   "cell_type": "code",
   "execution_count": null,
   "metadata": {},
   "outputs": [],
   "source": [
    "Zs_candidates = torch.zeros((NUM_SAMPLES, BATCH_SIZE, T, K)).float()\n",
    "mcmc_steps = 20\n",
    "for m in range(mcmc_steps):\n",
    "    if m == 0:\n",
    "        for l in range(NUM_SAMPLES):\n",
    "            mus, log_p_init = init_mus(K, D, BATCH_SIZE)\n",
    "       \n",
    "            Z, log_qz = E_step_gmm(mus, Sigmas, Ys_test, T, D, K)\n",
    "            Zs_candidates[l] = Z\n",
    "            ## the first incremental weight is just log normalizer since As is sampled from prior\n",
    "    else:\n",
    "        for l in range(NUM_SAMPLES):\n",
    "            Ys_Z = torch.cat((Ys_test, Zs_candidates[l]), -1)\n",
    "            mean, std, mus = enc(Ys_Z, T, K, BATCH_SIZE)\n",
    "            ## Sigmas needs to be B-K-D\n",
    "            Z, log_qz = E_step_gmm(mus, Sigmas, Ys_test, T, D, K)\n",
    "            Zs_candidates[l] = Z"
   ]
  },
  {
   "cell_type": "code",
   "execution_count": null,
   "metadata": {},
   "outputs": [],
   "source": [
    "for b in range(BATCH_SIZE):\n",
    "    mu = mean.data.numpy()[b]\n",
    "    sigma = torch.zeros((K, D, D)).float()\n",
    "    for k in range(K):\n",
    "        sigma[k] = torch.diag(std[b, k])\n",
    "    sigma = sigma.data.numpy()\n",
    "    plot_clusters(mu_ks[b].data.numpy(), mu, sigma, K)\n",
    "    plt.show()"
   ]
  },
  {
   "cell_type": "code",
   "execution_count": null,
   "metadata": {},
   "outputs": [],
   "source": [
    "def plot_results(ELBOs, ESSs, KLs, filename):\n",
    "    fig, ax = plt.subplots(figsize=(8,24))\n",
    "    ax.set_xticks([])\n",
    "    ax.set_yticks([])\n",
    "    ax1 = fig.add_subplot(3,1,1)\n",
    "    ax1.plot(ELBOs, 'b-', label='elbo')\n",
    "    ax1.legend(fontsize=18)\n",
    "    ax1.set_xlabel('gradient steps', fontsize=18)\n",
    "    ax1.set_ylabel('elbo estimators', fontsize=18)\n",
    "    ax2 = fig.add_subplot(3,1,2)\n",
    "    ax2.plot(KLs, 'g-', label='true kl')\n",
    "    ax2.set_xlabel('gradient steps', fontsize=18)\n",
    "    ax2.set_ylabel('KL(p(eta | z, y) || q_phi (\\eta | z))', fontsize=18)\n",
    "    ax2.legend(fontsize=18)\n",
    "    ax3 = fig.add_subplot(3,1,3)\n",
    "    ax3.plot(ESSs, 'm-o')\n",
    "    ax3.set_xlabel('gradient steps', fontsize=18)\n",
    "    ax3.set_ylabel('effective sample sizes', fontsize=18)\n",
    "    ax3.set_ylim([1, 2])\n",
    "    plt.savefig(filename)\n",
    "plot_results(ELBOs, ESSs, KLs, 'results_sis.png')"
   ]
  },
  {
   "cell_type": "code",
   "execution_count": null,
   "metadata": {},
   "outputs": [],
   "source": []
  },
  {
   "cell_type": "code",
   "execution_count": null,
   "metadata": {},
   "outputs": [],
   "source": []
  }
 ],
 "metadata": {
  "kernelspec": {
   "display_name": "Python 3",
   "language": "python",
   "name": "python3"
  },
  "language_info": {
   "codemirror_mode": {
    "name": "ipython",
    "version": 3
   },
   "file_extension": ".py",
   "mimetype": "text/x-python",
   "name": "python",
   "nbconvert_exporter": "python",
   "pygments_lexer": "ipython3",
   "version": "3.6.7"
  }
 },
 "nbformat": 4,
 "nbformat_minor": 2
}
