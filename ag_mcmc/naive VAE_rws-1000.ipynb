{
 "cells": [
  {
   "cell_type": "code",
   "execution_count": 1,
   "metadata": {},
   "outputs": [
    {
     "name": "stdout",
     "output_type": "stream",
     "text": [
      "probtorch: 0.0+5a2c637 torch: 1.0.0 cuda: True\n"
     ]
    }
   ],
   "source": [
    "%matplotlib inline\n",
    "import numpy as np\n",
    "import torch.nn as nn\n",
    "import torch.nn.functional as F\n",
    "import matplotlib.pyplot as plt\n",
    "from util import *\n",
    "from plots import *\n",
    "from torch.distributions.dirichlet import Dirichlet\n",
    "import sys\n",
    "import time\n",
    "import datetime\n",
    "sys.path.append('/home/hao/Research/probtorch/')\n",
    "import probtorch\n",
    "print('probtorch:', probtorch.__version__, \n",
    "      'torch:', torch.__version__, \n",
    "      'cuda:', torch.cuda.is_available())"
   ]
  },
  {
   "cell_type": "code",
   "execution_count": 2,
   "metadata": {},
   "outputs": [],
   "source": [
    "T = 50\n",
    "K = 3\n",
    "D = 2\n",
    "\n",
    "## Model Parameters\n",
    "NUM_SAMPLES = 1000\n",
    "NUM_HIDDEN = 64\n",
    "NUM_LATENTS = K*K\n",
    "NUM_OBS =  2 * K\n",
    "BATCH_SIZE = 100\n",
    "NUM_EPOCHS = 1000\n",
    "LEARNING_RATE = 1e-4\n",
    "CUDA = False"
   ]
  },
  {
   "cell_type": "code",
   "execution_count": 3,
   "metadata": {},
   "outputs": [],
   "source": [
    "# Ys = torch.from_numpy(np.load('dataset/sequences.npy')).float()\n",
    "As_true = torch.from_numpy(np.load('hmm_dataset/transitions.npy')).float()\n",
    "Zs = torch.from_numpy(np.load('hmm_dataset/states.npy')).float()\n",
    "# mus_true = torch.from_numpy(np.load('dataset/means.npy')).float()\n",
    "# covs_true = torch.from_numpy(np.load('dataset/covariances.npy')).float()\n",
    "Pi = torch.from_numpy(np.load('hmm_dataset/init.npy')).float()\n",
    "num_seqs = Zs.shape[0]"
   ]
  },
  {
   "cell_type": "code",
   "execution_count": 4,
   "metadata": {},
   "outputs": [],
   "source": [
    "class Encoder(nn.Module):\n",
    "    def __init__(self, num_obs=NUM_OBS,\n",
    "                       num_hidden=NUM_HIDDEN,\n",
    "                       num_latents=NUM_LATENTS):\n",
    "        super(self.__class__, self).__init__()\n",
    "        self.enc_hidden = nn.Sequential(\n",
    "            nn.Linear(num_obs, num_hidden),\n",
    "            nn.Tanh())\n",
    "        self.latent_dir = nn.Sequential(\n",
    "            nn.Linear(num_hidden, num_latents))\n",
    "        \n",
    "    def forward(self, obs, prior, num_samples, batch_size):\n",
    "        As = torch.zeros((num_samples, batch_size, K, K))\n",
    "        hidden = self.enc_hidden(obs)\n",
    "        alphas = F.softmax(self.latent_dir(hidden), -1).view(batch_size, T-1, K*K).sum(1).view(batch_size, K, K) + prior\n",
    "        for k in range(K):\n",
    "            As[:, :, k, :] = Dirichlet(alphas[:, k, :]).sample((num_samples,))\n",
    "        return alphas, As"
   ]
  },
  {
   "cell_type": "code",
   "execution_count": 5,
   "metadata": {},
   "outputs": [],
   "source": [
    "def initialize():\n",
    "    enc = Encoder()\n",
    "    if CUDA:\n",
    "        enc.cuda()\n",
    "    optimizer =  torch.optim.Adam(list(enc.parameters()),lr=LEARNING_RATE)    \n",
    "    return enc, optimizer\n",
    "enc, optimizer = initialize()"
   ]
  },
  {
   "cell_type": "code",
   "execution_count": 6,
   "metadata": {},
   "outputs": [],
   "source": [
    "def flatz(Z, T, K, batch_size):\n",
    "    return torch.cat((Z[:, :T-1, :].unsqueeze(2), Z[:, 1:, :].unsqueeze(2)), 2).view(batch_size * (T-1), 2*K)\n",
    "\n",
    "def eubo_rws(Zs, prior, Pi, T, K, num_samples, batch_size):\n",
    "    \"\"\"\n",
    "    Zs is B-T-K\n",
    "    As is S-B-K-K\n",
    "    \"\"\"\n",
    "    Zs_pairs = flatz(Zs, T, K, batch_size)\n",
    "    log_trans = torch.zeros((num_samples, batch_size)).float()\n",
    "    labels = Zs.nonzero()\n",
    "    inds = labels.view(batch_size, T, 3)[:, :-1, :].contiguous().view(batch_size * (T-1), 3)\n",
    "    alphas, As = enc(Zs_pairs, prior, num_samples, batch_size)\n",
    "    log_init = cat(Pi).log_prob(Zs[:, 0])\n",
    "    log_prior = Dirichlet(prior).log_prob(As).sum(-1) ## prior of A\n",
    "    for s in range(num_samples):\n",
    "        log_trans[s] = (cat(As[s][inds[:, 0], inds[:, -1]].view(batch_size, T-1, K)).log_prob(Zs[:, 1:])).sum(1)\n",
    "    log_q = Dirichlet(alphas).log_prob(As).sum(-1)\n",
    "    log_weights = log_prior + log_init + log_trans - log_q\n",
    "    weights = torch.exp(log_weights - logsumexp(log_weights, dim=0)).detach()\n",
    "    eubo = torch.mul(weights, log_weights).sum(0).mean()\n",
    "    elbo = log_weights.mean(0).mean()\n",
    "    ess = (1. / (weights ** 2).sum(0)).mean()\n",
    "    return eubo, elbo, ess"
   ]
  },
  {
   "cell_type": "code",
   "execution_count": null,
   "metadata": {},
   "outputs": [
    {
     "name": "stdout",
     "output_type": "stream",
     "text": [
      "epoch : 0, EUBO : -35.519529, ELBO : -56.736916 (40s)\n",
      "epoch : 1, EUBO : -35.291854, ELBO : -56.101947 (41s)\n",
      "epoch : 2, EUBO : -35.131857, ELBO : -55.432926 (40s)\n",
      "epoch : 3, EUBO : -34.681915, ELBO : -54.803577 (41s)\n",
      "epoch : 4, EUBO : -34.493126, ELBO : -54.171357 (43s)\n",
      "epoch : 5, EUBO : -34.303660, ELBO : -53.568830 (41s)\n",
      "epoch : 6, EUBO : -34.269695, ELBO : -52.974410 (41s)\n",
      "epoch : 7, EUBO : -34.006641, ELBO : -52.388316 (39s)\n",
      "epoch : 8, EUBO : -33.695560, ELBO : -51.804251 (42s)\n",
      "epoch : 9, EUBO : -33.530100, ELBO : -51.255654 (40s)\n",
      "epoch : 10, EUBO : -33.339430, ELBO : -50.689750 (40s)\n",
      "epoch : 11, EUBO : -33.165955, ELBO : -50.161503 (41s)\n",
      "epoch : 12, EUBO : -32.935258, ELBO : -49.622523 (39s)\n",
      "epoch : 13, EUBO : -32.834246, ELBO : -49.107270 (42s)\n",
      "epoch : 14, EUBO : -32.758660, ELBO : -48.602980 (39s)\n",
      "epoch : 15, EUBO : -32.621421, ELBO : -48.132901 (40s)\n",
      "epoch : 16, EUBO : -32.537431, ELBO : -47.654786 (42s)\n",
      "epoch : 17, EUBO : -32.488560, ELBO : -47.213177 (36s)\n",
      "epoch : 18, EUBO : -32.467724, ELBO : -46.770537 (25s)\n",
      "epoch : 19, EUBO : -32.318341, ELBO : -46.359539 (25s)\n",
      "epoch : 20, EUBO : -32.105052, ELBO : -45.953252 (26s)\n",
      "epoch : 21, EUBO : -32.104188, ELBO : -45.570430 (26s)\n",
      "epoch : 22, EUBO : -31.979172, ELBO : -45.188509 (26s)\n",
      "epoch : 23, EUBO : -31.903176, ELBO : -44.836310 (26s)\n",
      "epoch : 24, EUBO : -31.931060, ELBO : -44.510384 (25s)\n",
      "epoch : 25, EUBO : -31.883352, ELBO : -44.189378 (26s)\n",
      "epoch : 26, EUBO : -31.780749, ELBO : -43.901196 (25s)\n",
      "epoch : 27, EUBO : -31.761027, ELBO : -43.633474 (26s)\n",
      "epoch : 28, EUBO : -31.692500, ELBO : -43.363183 (26s)\n",
      "epoch : 29, EUBO : -31.799866, ELBO : -43.131137 (26s)\n",
      "epoch : 30, EUBO : -31.728660, ELBO : -42.903207 (25s)\n",
      "epoch : 31, EUBO : -31.852107, ELBO : -42.690056 (25s)\n",
      "epoch : 32, EUBO : -31.702139, ELBO : -42.497204 (26s)\n",
      "epoch : 33, EUBO : -31.838143, ELBO : -42.305964 (26s)\n",
      "epoch : 34, EUBO : -31.658906, ELBO : -42.149740 (25s)\n",
      "epoch : 35, EUBO : -31.681771, ELBO : -41.990571 (25s)\n",
      "epoch : 36, EUBO : -31.658666, ELBO : -41.847071 (26s)\n",
      "epoch : 37, EUBO : -31.603662, ELBO : -41.719026 (26s)\n",
      "epoch : 38, EUBO : -31.651961, ELBO : -41.598838 (26s)\n",
      "epoch : 39, EUBO : -31.729841, ELBO : -41.481798 (26s)\n",
      "epoch : 40, EUBO : -31.717280, ELBO : -41.369403 (26s)\n",
      "epoch : 41, EUBO : -31.705254, ELBO : -41.278807 (26s)\n",
      "epoch : 42, EUBO : -31.648446, ELBO : -41.187786 (25s)\n",
      "epoch : 43, EUBO : -31.651554, ELBO : -41.101445 (25s)\n",
      "epoch : 44, EUBO : -31.707939, ELBO : -41.034854 (25s)\n",
      "epoch : 45, EUBO : -31.624557, ELBO : -40.956646 (25s)\n",
      "epoch : 46, EUBO : -31.693965, ELBO : -40.890125 (25s)\n",
      "epoch : 47, EUBO : -31.699952, ELBO : -40.827573 (26s)\n",
      "epoch : 48, EUBO : -31.701989, ELBO : -40.770571 (26s)\n",
      "epoch : 49, EUBO : -31.673548, ELBO : -40.713949 (26s)\n",
      "epoch : 50, EUBO : -31.732128, ELBO : -40.660173 (25s)\n",
      "epoch : 51, EUBO : -31.657376, ELBO : -40.606019 (26s)\n",
      "epoch : 52, EUBO : -31.705119, ELBO : -40.562820 (26s)\n",
      "epoch : 53, EUBO : -31.723795, ELBO : -40.517886 (26s)\n"
     ]
    }
   ],
   "source": [
    "ELBOs = []\n",
    "EUBOs = []\n",
    "ESSs = []\n",
    "prior = torch.ones((K, K)).float()\n",
    "for k in range(K):\n",
    "    prior[k, k] = 2.0\n",
    "    \n",
    "Grad_Steps = int((Zs.shape[0] / BATCH_SIZE))\n",
    "for epoch in range(NUM_EPOCHS):\n",
    "    indices = torch.randperm(num_seqs)\n",
    "    time_start = time.time()\n",
    "    EUBO = 0.0\n",
    "    ELBO = 0.0\n",
    "    ESS = 0.0\n",
    "    for step in range(Grad_Steps):\n",
    "        optimizer.zero_grad()\n",
    "        batch_indices = indices[step*BATCH_SIZE : (step+1)*BATCH_SIZE]\n",
    "        batch_zs = Zs[batch_indices]\n",
    "        eubo, elbo, ess = eubo_rws(batch_zs, prior, Pi, T, K, NUM_SAMPLES, BATCH_SIZE)\n",
    "        eubo.backward()\n",
    "        optimizer.step()\n",
    "        EUBO += eubo.item()\n",
    "        ELBO += elbo.item()\n",
    "        ESS += ess.item()\n",
    "    EUBO /= Grad_Steps\n",
    "    ELBO /= Grad_Steps\n",
    "    ESS /= Grad_Steps\n",
    "    EUBOs.append(EUBO)\n",
    "    ELBOs.append(ELBO)\n",
    "    ESSs.append(ESS)\n",
    "    time_end = time.time()\n",
    "    print('epoch : %d, EUBO : %f, ELBO : %f (%ds)' % (epoch, EUBO, ELBO, time_end - time_start))"
   ]
  },
  {
   "cell_type": "code",
   "execution_count": null,
   "metadata": {},
   "outputs": [],
   "source": [
    "def plot_results(EUBOs, ELBOs):\n",
    "    fig, ax = plt.subplots(figsize=(10,10))\n",
    "    ax.set_xticks([])\n",
    "    ax.set_yticks([])\n",
    "    ax1 = fig.add_subplot(1,1,1)\n",
    "    ax1.plot(ELBOs, 'b-', label='elbo')\n",
    "    ax1.plot(EUBOs, 'r-', label='eubo')\n",
    "    ax1.legend(fontsize=18)\n",
    "    ax1.set_xlabel('epoch', fontsize=16)\n",
    "    ax1.set_ylabel('EUBO and ELBO', fontsize=16)\n",
    "    ax1.tick_params(labelsize=18)\n",
    "    plt.savefig('results_VAE_hmm_samples=%d.svg' % (NUM_SAMPLES))"
   ]
  },
  {
   "cell_type": "code",
   "execution_count": null,
   "metadata": {},
   "outputs": [],
   "source": [
    "plot_results(EUBOs, ELBOs)"
   ]
  },
  {
   "cell_type": "code",
   "execution_count": null,
   "metadata": {},
   "outputs": [],
   "source": [
    "save_params(EUBOs, ELBOs, ESSs, 'VAE_hmm_samples=%d' % (NUM_SAMPLES))"
   ]
  }
 ],
 "metadata": {
  "kernelspec": {
   "display_name": "Python 3",
   "language": "python",
   "name": "python3"
  },
  "language_info": {
   "codemirror_mode": {
    "name": "ipython",
    "version": 3
   },
   "file_extension": ".py",
   "mimetype": "text/x-python",
   "name": "python",
   "nbconvert_exporter": "python",
   "pygments_lexer": "ipython3",
   "version": "3.6.7"
  }
 },
 "nbformat": 4,
 "nbformat_minor": 2
}
