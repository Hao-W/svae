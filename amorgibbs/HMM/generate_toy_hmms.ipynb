{
 "cells": [
  {
   "cell_type": "code",
   "execution_count": 6,
   "metadata": {},
   "outputs": [],
   "source": [
    "import numpy as np\n",
    "import torch\n",
    "import matplotlib.pyplot as plt\n",
    "%matplotlib inline\n",
    "from data_hmm import *\n",
    "from plots import *"
   ]
  },
  {
   "cell_type": "code",
   "execution_count": 8,
   "metadata": {},
   "outputs": [
    {
     "name": "stdout",
     "output_type": "stream",
     "text": [
      "0\n",
      "100\n",
      "200\n",
      "300\n",
      "400\n",
      "500\n",
      "600\n",
      "700\n",
      "800\n",
      "900\n"
     ]
    }
   ],
   "source": [
    "T = 30\n",
    "K = 3\n",
    "D = 2\n",
    "num_seqs = 1000\n",
    "boundary = 7.0\n",
    "Xs = np.zeros((num_seqs, T, D))\n",
    "Zs = np.zeros((num_seqs, T, K))\n",
    "Mus = np.zeros((num_seqs, K, D))\n",
    "Covs = np.zeros((num_seqs, K, D)) ## diagonal covarince\n",
    "As = np.zeros((num_seqs, K, K))\n",
    "\n",
    "for n in range(num_seqs):\n",
    "    X, Z, mus_true, covs_true, A_true, Pi = sampling_hmm(T, K, D, boundary)\n",
    "#     covs_full = torch.zeros((K, D, D))\n",
    "#     for k in range(K):\n",
    "#         covs_full[k] = torch.diag(covs_true[k])\n",
    "#     plot_clusters(X, mus_true, covs_full)\n",
    "    \n",
    "    Xs[n] = X.data.numpy()\n",
    "    Zs[n] = Z.data.numpy()\n",
    "    Mus[n] = mus_true.data.numpy()\n",
    "    Covs[n] = covs_true.data.numpy()   \n",
    "    As[n] = A_true.data.numpy()\n",
    "    if n % 100 == 0:\n",
    "        print(n)"
   ]
  },
  {
   "cell_type": "code",
   "execution_count": 9,
   "metadata": {},
   "outputs": [],
   "source": [
    "np.save('hmm_dataset/sequences', Xs)\n",
    "np.save('hmm_dataset/transitions', As)\n",
    "np.save('hmm_dataset/states', Zs)\n",
    "np.save('hmm_dataset/means', Mus)\n",
    "np.save('hmm_dataset/covariances', Covs)\n",
    "np.save('hmm_dataset/init', Pi.data.numpy())"
   ]
  },
  {
   "cell_type": "code",
   "execution_count": null,
   "metadata": {},
   "outputs": [],
   "source": [
    "plot_clusters(Y, mus_true, covs_true)"
   ]
  },
  {
   "cell_type": "code",
   "execution_count": null,
   "metadata": {},
   "outputs": [],
   "source": []
  },
  {
   "cell_type": "code",
   "execution_count": null,
   "metadata": {},
   "outputs": [],
   "source": []
  }
 ],
 "metadata": {
  "kernelspec": {
   "display_name": "Python 3",
   "language": "python",
   "name": "python3"
  },
  "language_info": {
   "codemirror_mode": {
    "name": "ipython",
    "version": 3
   },
   "file_extension": ".py",
   "mimetype": "text/x-python",
   "name": "python",
   "nbconvert_exporter": "python",
   "pygments_lexer": "ipython3",
   "version": "3.6.6"
  }
 },
 "nbformat": 4,
 "nbformat_minor": 2
}
