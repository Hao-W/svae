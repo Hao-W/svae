{
 "cells": [
  {
   "cell_type": "code",
   "execution_count": 1,
   "metadata": {},
   "outputs": [
    {
     "name": "stdout",
     "output_type": "stream",
     "text": [
      "probtorch: 0.0+5a2c637 torch: 1.0.0 cuda: True\n"
     ]
    }
   ],
   "source": [
    "%matplotlib inline\n",
    "import sys\n",
    "sys.path.append(\"../\")\n",
    "sys.path.append('/home/hao/Research/probtorch/')\n",
    "import numpy as np\n",
    "import torch\n",
    "import torch.nn as nn\n",
    "import matplotlib.pyplot as plt\n",
    "from plots import *\n",
    "from utils import *\n",
    "from objectives import *\n",
    "from model import *\n",
    "import time\n",
    "import probtorch\n",
    "print('probtorch:', probtorch.__version__, \n",
    "      'torch:', torch.__version__, \n",
    "      'cuda:', torch.cuda.is_available())"
   ]
  },
  {
   "cell_type": "code",
   "execution_count": 2,
   "metadata": {},
   "outputs": [],
   "source": [
    "N = 300\n",
    "K = 3\n",
    "D = 2\n",
    "## Model Parameters\n",
    "MCMC_SIZE = 2\n",
    "SAMPLE_SIZE = 10\n",
    "NUM_HIDDEN_GLOBAL = 8\n",
    "NUM_HIDDEN_LOCAL = 64\n",
    "STAT_SIZE = 8\n",
    "## Training Parameters\n",
    "BATCH_SIZE = 50\n",
    "NUM_EPOCHS = 1000\n",
    "LEARNING_RATE = 1e-3\n",
    "CUDA = torch.cuda.is_available()\n",
    "DEVICE = torch.device('cuda:0')\n",
    "PATH = 'ag-sis-mu-rad-v1'"
   ]
  },
  {
   "cell_type": "code",
   "execution_count": 3,
   "metadata": {},
   "outputs": [],
   "source": [
    "Xs = torch.from_numpy(np.load('rings_varying_radius/obs.npy')).float()\n",
    "OBS_RAD = torch.from_numpy(np.load('rings_varying_radius/obs_rad.npy')).float()\n",
    "NUM_SEQS = Xs.shape[0]\n",
    "NUM_BATCHES = int((Xs.shape[0] / BATCH_SIZE))"
   ]
  },
  {
   "cell_type": "code",
   "execution_count": 4,
   "metadata": {},
   "outputs": [],
   "source": [
    "enc_mu_rad, enc_z, optimizer = initialize(NUM_HIDDEN_GLOBAL, STAT_SIZE, NUM_HIDDEN_LOCAL, K, D, CUDA, DEVICE, LEARNING_RATE)"
   ]
  },
  {
   "cell_type": "code",
   "execution_count": 5,
   "metadata": {},
   "outputs": [
    {
     "name": "stdout",
     "output_type": "stream",
     "text": [
      "epoch=0, EUBO=-148730.119, ELBO=-655732.381, ESS=2.236 (3s)\n",
      "epoch=1, EUBO=-92651.178, ELBO=-602439.098, ESS=2.291 (2s)\n",
      "epoch=2, EUBO=-79593.036, ELBO=-516023.454, ESS=2.332 (2s)\n",
      "epoch=3, EUBO=-71216.943, ELBO=-385058.565, ESS=2.401 (2s)\n",
      "epoch=4, EUBO=-65700.604, ELBO=-275792.336, ESS=2.487 (2s)\n",
      "epoch=5, EUBO=-61352.627, ELBO=-201508.343, ESS=2.576 (3s)\n",
      "epoch=6, EUBO=-56456.803, ELBO=-156349.119, ESS=2.670 (2s)\n",
      "epoch=7, EUBO=-51606.915, ELBO=-133100.483, ESS=2.748 (2s)\n",
      "epoch=8, EUBO=-48208.921, ELBO=-119784.412, ESS=2.834 (2s)\n",
      "epoch=9, EUBO=-46492.433, ELBO=-111494.640, ESS=2.948 (2s)\n",
      "epoch=10, EUBO=-43899.554, ELBO=-102523.092, ESS=3.101 (3s)\n",
      "epoch=11, EUBO=-42569.646, ELBO=-95795.923, ESS=3.239 (2s)\n",
      "epoch=12, EUBO=-41580.292, ELBO=-89091.421, ESS=3.384 (2s)\n",
      "epoch=13, EUBO=-41459.799, ELBO=-87644.613, ESS=3.518 (2s)\n",
      "epoch=14, EUBO=-40819.312, ELBO=-83616.675, ESS=3.653 (2s)\n",
      "epoch=15, EUBO=-40723.207, ELBO=-81089.498, ESS=3.756 (3s)\n",
      "epoch=16, EUBO=-39528.583, ELBO=-77619.377, ESS=3.872 (2s)\n",
      "epoch=17, EUBO=-39628.550, ELBO=-77925.139, ESS=3.968 (2s)\n",
      "epoch=18, EUBO=-39127.259, ELBO=-75427.611, ESS=4.055 (2s)\n",
      "epoch=19, EUBO=-39135.922, ELBO=-74775.688, ESS=4.135 (2s)\n"
     ]
    },
    {
     "ename": "KeyboardInterrupt",
     "evalue": "",
     "output_type": "error",
     "traceback": [
      "\u001b[0;31m---------------------------------------------------------------------------\u001b[0m",
      "\u001b[0;31mKeyboardInterrupt\u001b[0m                         Traceback (most recent call last)",
      "\u001b[0;32m<ipython-input-5-1af697f534f4>\u001b[0m in \u001b[0;36m<module>\u001b[0;34m()\u001b[0m\n\u001b[1;32m     21\u001b[0m         \u001b[0meubos\u001b[0m\u001b[0;34m,\u001b[0m \u001b[0melbos\u001b[0m\u001b[0;34m,\u001b[0m \u001b[0messs\u001b[0m \u001b[0;34m=\u001b[0m \u001b[0mEubo_ag_rad\u001b[0m\u001b[0;34m(\u001b[0m\u001b[0menc_mu_rad\u001b[0m\u001b[0;34m,\u001b[0m \u001b[0menc_z\u001b[0m\u001b[0;34m,\u001b[0m \u001b[0mobs\u001b[0m\u001b[0;34m,\u001b[0m \u001b[0mN\u001b[0m\u001b[0;34m,\u001b[0m \u001b[0mK\u001b[0m\u001b[0;34m,\u001b[0m \u001b[0mD\u001b[0m\u001b[0;34m,\u001b[0m \u001b[0mMCMC_SIZE\u001b[0m\u001b[0;34m,\u001b[0m \u001b[0mSAMPLE_SIZE\u001b[0m\u001b[0;34m,\u001b[0m \u001b[0mBATCH_SIZE\u001b[0m\u001b[0;34m,\u001b[0m \u001b[0mnoise_sigma\u001b[0m\u001b[0;34m=\u001b[0m\u001b[0;36m0.05\u001b[0m\u001b[0;34m,\u001b[0m \u001b[0mdevice\u001b[0m\u001b[0;34m=\u001b[0m\u001b[0mDEVICE\u001b[0m\u001b[0;34m)\u001b[0m\u001b[0;34m\u001b[0m\u001b[0;34m\u001b[0m\u001b[0m\n\u001b[1;32m     22\u001b[0m         \u001b[0;31m## gradient step\u001b[0m\u001b[0;34m\u001b[0m\u001b[0;34m\u001b[0m\u001b[0;34m\u001b[0m\u001b[0m\n\u001b[0;32m---> 23\u001b[0;31m         \u001b[0meubos\u001b[0m\u001b[0;34m.\u001b[0m\u001b[0mmean\u001b[0m\u001b[0;34m(\u001b[0m\u001b[0;34m)\u001b[0m\u001b[0;34m.\u001b[0m\u001b[0mbackward\u001b[0m\u001b[0;34m(\u001b[0m\u001b[0;34m)\u001b[0m\u001b[0;34m\u001b[0m\u001b[0;34m\u001b[0m\u001b[0m\n\u001b[0m\u001b[1;32m     24\u001b[0m         \u001b[0moptimizer\u001b[0m\u001b[0;34m.\u001b[0m\u001b[0mstep\u001b[0m\u001b[0;34m(\u001b[0m\u001b[0;34m)\u001b[0m\u001b[0;34m\u001b[0m\u001b[0;34m\u001b[0m\u001b[0m\n\u001b[1;32m     25\u001b[0m         \u001b[0mEUBO\u001b[0m \u001b[0;34m+=\u001b[0m \u001b[0meubos\u001b[0m\u001b[0;34m[\u001b[0m\u001b[0;34m-\u001b[0m\u001b[0;36m1\u001b[0m\u001b[0;34m]\u001b[0m\u001b[0;34m.\u001b[0m\u001b[0mitem\u001b[0m\u001b[0;34m(\u001b[0m\u001b[0;34m)\u001b[0m\u001b[0;34m\u001b[0m\u001b[0;34m\u001b[0m\u001b[0m\n",
      "\u001b[0;32m~/anaconda3/envs/dev/lib/python3.6/site-packages/torch/tensor.py\u001b[0m in \u001b[0;36mbackward\u001b[0;34m(self, gradient, retain_graph, create_graph)\u001b[0m\n\u001b[1;32m    100\u001b[0m                 \u001b[0mproducts\u001b[0m\u001b[0;34m.\u001b[0m \u001b[0mDefaults\u001b[0m \u001b[0mto\u001b[0m\u001b[0;31m \u001b[0m\u001b[0;31m`\u001b[0m\u001b[0;31m`\u001b[0m\u001b[0;32mFalse\u001b[0m\u001b[0;31m`\u001b[0m\u001b[0;31m`\u001b[0m\u001b[0;34m.\u001b[0m\u001b[0;34m\u001b[0m\u001b[0;34m\u001b[0m\u001b[0m\n\u001b[1;32m    101\u001b[0m         \"\"\"\n\u001b[0;32m--> 102\u001b[0;31m         \u001b[0mtorch\u001b[0m\u001b[0;34m.\u001b[0m\u001b[0mautograd\u001b[0m\u001b[0;34m.\u001b[0m\u001b[0mbackward\u001b[0m\u001b[0;34m(\u001b[0m\u001b[0mself\u001b[0m\u001b[0;34m,\u001b[0m \u001b[0mgradient\u001b[0m\u001b[0;34m,\u001b[0m \u001b[0mretain_graph\u001b[0m\u001b[0;34m,\u001b[0m \u001b[0mcreate_graph\u001b[0m\u001b[0;34m)\u001b[0m\u001b[0;34m\u001b[0m\u001b[0;34m\u001b[0m\u001b[0m\n\u001b[0m\u001b[1;32m    103\u001b[0m \u001b[0;34m\u001b[0m\u001b[0m\n\u001b[1;32m    104\u001b[0m     \u001b[0;32mdef\u001b[0m \u001b[0mregister_hook\u001b[0m\u001b[0;34m(\u001b[0m\u001b[0mself\u001b[0m\u001b[0;34m,\u001b[0m \u001b[0mhook\u001b[0m\u001b[0;34m)\u001b[0m\u001b[0;34m:\u001b[0m\u001b[0;34m\u001b[0m\u001b[0;34m\u001b[0m\u001b[0m\n",
      "\u001b[0;32m~/anaconda3/envs/dev/lib/python3.6/site-packages/torch/autograd/__init__.py\u001b[0m in \u001b[0;36mbackward\u001b[0;34m(tensors, grad_tensors, retain_graph, create_graph, grad_variables)\u001b[0m\n\u001b[1;32m     88\u001b[0m     Variable._execution_engine.run_backward(\n\u001b[1;32m     89\u001b[0m         \u001b[0mtensors\u001b[0m\u001b[0;34m,\u001b[0m \u001b[0mgrad_tensors\u001b[0m\u001b[0;34m,\u001b[0m \u001b[0mretain_graph\u001b[0m\u001b[0;34m,\u001b[0m \u001b[0mcreate_graph\u001b[0m\u001b[0;34m,\u001b[0m\u001b[0;34m\u001b[0m\u001b[0;34m\u001b[0m\u001b[0m\n\u001b[0;32m---> 90\u001b[0;31m         allow_unreachable=True)  # allow_unreachable flag\n\u001b[0m\u001b[1;32m     91\u001b[0m \u001b[0;34m\u001b[0m\u001b[0m\n\u001b[1;32m     92\u001b[0m \u001b[0;34m\u001b[0m\u001b[0m\n",
      "\u001b[0;31mKeyboardInterrupt\u001b[0m: "
     ]
    }
   ],
   "source": [
    "EUBOs = []\n",
    "ELBOs = []\n",
    "ESSs = []\n",
    "\n",
    "flog = open('results/log-' + PATH + '.txt', 'w+')\n",
    "flog.write('EUBO\\tELBO\\tESS\\n')\n",
    "flog.close()\n",
    "for epoch in range(NUM_EPOCHS):\n",
    "    time_start = time.time()\n",
    "    indices = torch.randperm(NUM_SEQS)\n",
    "    EUBO = 0.0\n",
    "    ELBO = 0.0\n",
    "    ESS = 0.0\n",
    "    for step in range(NUM_BATCHES):\n",
    "        optimizer.zero_grad()\n",
    "        batch_indices = indices[step*BATCH_SIZE : (step+1)*BATCH_SIZE]\n",
    "        obs = Xs[batch_indices]\n",
    "        obs = shuffler(obs).repeat(SAMPLE_SIZE, 1, 1, 1)\n",
    "        if CUDA:\n",
    "            obs = obs.cuda().to(DEVICE)\n",
    "        eubos, elbos, esss = Eubo_ag_rad(enc_mu_rad, enc_z, obs, N, K, D, MCMC_SIZE, SAMPLE_SIZE, BATCH_SIZE, noise_sigma=0.05, device=DEVICE)\n",
    "        ## gradient step\n",
    "        eubos.mean().backward()\n",
    "        optimizer.step()\n",
    "        EUBO += eubos[-1].item()\n",
    "        ELBO += elbos[-1].item()\n",
    "        ESS += esss[-1].item()\n",
    "    EUBOs.append(EUBO / NUM_BATCHES)\n",
    "    ELBOs.append(ELBO / NUM_BATCHES)\n",
    "    ESSs.append(ESS / NUM_BATCHES) \n",
    "    flog = open('results/log-' + PATH + '.txt', 'a+')\n",
    "    print('%.3f\\t%.3f\\t%.3f'\n",
    "            % (EUBO/NUM_BATCHES, ELBO/NUM_BATCHES, ESS/NUM_BATCHES), file=flog)\n",
    "    flog.close()\n",
    "    time_end = time.time()\n",
    "    print('epoch=%d, EUBO=%.3f, ELBO=%.3f, ESS=%.3f (%ds)'\n",
    "            % (epoch, EUBO/NUM_BATCHES, ELBO/NUM_BATCHES, ESS/NUM_BATCHES, \n",
    "               time_end - time_start))\n"
   ]
  },
  {
   "cell_type": "code",
   "execution_count": null,
   "metadata": {},
   "outputs": [],
   "source": [
    "BATCH_SIZE_TEST = 50\n",
    "\n",
    "def test(enc_mu, enc_z, obs, obs_rad, N, K, D, mcmc_size, sample_size, batch_size, gpu, noise_sigma=0.1):\n",
    "    p_init_z = cat(enc_z.prior_pi)\n",
    "    states = p_init_z.sample((sample_size, batch_size, N,))\n",
    "    log_p_z = p_init_z.log_prob(states)## S * B * N\n",
    "    log_q_z = p_init_z.log_prob(states)\n",
    "    for m in range(mcmc_size):\n",
    "        q_mu, p_mu = enc_mu(obs, states, sample_size, batch_size)\n",
    "        log_q_mu = q_mu['means'].log_prob.sum(-1)\n",
    "        log_p_mu = p_mu['means'].log_prob.sum(-1) # S * B * K\n",
    "        obs_mu = q_mu['means'].value\n",
    "        log_obs_k = True_Log_likelihood(obs, states, obs_mu, obs_rad, K, D, noise_sigma=noise_sigma, gpu=gpu, cluster_flag=True)\n",
    "        log_weights_global = log_obs_k + log_p_mu - log_q_mu\n",
    "        weights_global = F.softmax(log_weights_global, 0).detach()\n",
    "        ## resample mu\n",
    "        obs_mu = resample_mu(obs_mu, weights_global)\n",
    "        ## update z -- cluster assignments\n",
    "        q_z, p_z = enc_z(obs, obs_mu, obs_rad, sample_size, batch_size, decay_factor=0)\n",
    "        log_p_z = p_z['zs'].log_prob\n",
    "        log_q_z = q_z['zs'].log_prob ## S * B * N\n",
    "        states = q_z['zs'].value\n",
    "        log_obs_n = True_Log_likelihood(obs, states, obs_mu, obs_rad, K, D, noise_sigma=noise_sigma, gpu=gpu, cluster_flag=False)        \n",
    "        log_weights_local = log_obs_n + log_p_z - log_q_z\n",
    "        weights_local = F.softmax(log_weights_local, 0).detach()\n",
    "\n",
    "    return q_mu, q_z\n",
    "def plot_samples(obs, q_eta, q_z, K, batch_size, PATH):\n",
    "    colors = ['r', 'b', 'g']\n",
    "    fig = plt.figure(figsize=(25,50))\n",
    "    xs = obs[0].cpu()\n",
    "    mu_mu = q_eta['means'].dist.loc[0].cpu().data.numpy()\n",
    "    mu_sigma = q_eta['means'].dist.scale[0].cpu().data.numpy()\n",
    "    zs = q_z['zs'].dist.probs[0].cpu().data.numpy()\n",
    "    for b in range(batch_size):\n",
    "        ax = fig.add_subplot(int(batch_size / 5), 5, b+1)\n",
    "        x = xs[b]\n",
    "        z = zs[b]\n",
    "        mu_mu_b = mu_mu[b]\n",
    "        mu_sigma_b = mu_sigma[b]\n",
    "        assignments = z.argmax(-1)\n",
    "        for k in range(K):\n",
    "            cov_k = np.diag(mu_sigma_b[k]**2)\n",
    "            xk = x[np.where(assignments == k)]\n",
    "            ax.scatter(xk[:, 0], xk[:, 1], c=colors[k], alpha=0.2)\n",
    "            plot_cov_ellipse(cov=cov_k, pos=mu_mu_b[k], nstd=2, ax=ax, alpha=1.0, color=colors[k])\n",
    "        ax.set_ylim([-8, 8])\n",
    "        ax.set_xlim([-8, 8])\n",
    "    plt.savefig('results/modes-' + PATH + '.svg')\n",
    "obs, obs_rad = sample_single_batch(NUM_SEQS, Xs, OBS_RAD, SAMPLE_SIZE, BATCH_SIZE_TEST, gpu)\n",
    "q_eta, q_z = test(enc_mu, enc_z, obs, obs_rad, N, K, D, 20, SAMPLE_SIZE, BATCH_SIZE_TEST, gpu)\n",
    "%time plot_samples(obs, q_eta, q_z, K, BATCH_SIZE_TEST, PATH)"
   ]
  },
  {
   "cell_type": "code",
   "execution_count": null,
   "metadata": {},
   "outputs": [],
   "source": []
  }
 ],
 "metadata": {
  "kernelspec": {
   "display_name": "Python 3",
   "language": "python",
   "name": "python3"
  },
  "language_info": {
   "codemirror_mode": {
    "name": "ipython",
    "version": 3
   },
   "file_extension": ".py",
   "mimetype": "text/x-python",
   "name": "python",
   "nbconvert_exporter": "python",
   "pygments_lexer": "ipython3",
   "version": "3.6.7"
  }
 },
 "nbformat": 4,
 "nbformat_minor": 2
}
