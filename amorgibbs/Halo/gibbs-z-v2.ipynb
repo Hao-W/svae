{
 "cells": [
  {
   "cell_type": "code",
   "execution_count": 1,
   "metadata": {},
   "outputs": [
    {
     "name": "stdout",
     "output_type": "stream",
     "text": [
      "probtorch: 0.0+5a2c637 torch: 1.0.0 cuda: True\n"
     ]
    }
   ],
   "source": [
    "%matplotlib inline\n",
    "import sys\n",
    "sys.path.append(\"../\")\n",
    "sys.path.append('/home/hao/Research/probtorch/')\n",
    "import numpy as np\n",
    "import torch.nn as nn\n",
    "import math\n",
    "import matplotlib.pyplot as plt\n",
    "from plots import *\n",
    "from utils import *\n",
    "from objectives import *\n",
    "from torch.distributions.normal import Normal\n",
    "from torch.distributions.one_hot_categorical import OneHotCategorical as cat\n",
    "import time\n",
    "import probtorch\n",
    "print('probtorch:', probtorch.__version__, \n",
    "      'torch:', torch.__version__, \n",
    "      'cuda:', torch.cuda.is_available())"
   ]
  },
  {
   "cell_type": "code",
   "execution_count": 2,
   "metadata": {},
   "outputs": [],
   "source": [
    "N = 300\n",
    "K = 3\n",
    "D = 2\n",
    "\n",
    "## Model Parameters\n",
    "SAMPLE_SIZE = 10\n",
    "NUM_HIDDEN1 = 8\n",
    "STAT_SIZE = 8\n",
    "NUM_LATENTS =  D\n",
    "## Training Parameters\n",
    "BATCH_SIZE = 20\n",
    "NUM_EPOCHS = 10000\n",
    "LEARNING_RATE = 1e-3\n",
    "CUDA = torch.cuda.is_available()\n",
    "PATH = 'gibbs-z-v2'\n",
    "\n",
    "gpu = torch.device('cuda:0')"
   ]
  },
  {
   "cell_type": "code",
   "execution_count": 3,
   "metadata": {},
   "outputs": [],
   "source": [
    "Xs = torch.from_numpy(np.load('rings_dataset/obs.npy')).float()\n",
    "# STATES = torch.from_numpy(np.load('rings_dataset/states.npy')).float()\n",
    "OBS_MU = torch.from_numpy(np.load('rings_dataset/obs_mu.npy')).float()\n",
    "NUM_SEQS = Xs.shape[0]\n",
    "NUM_BATCHES = int((Xs.shape[0] / BATCH_SIZE))"
   ]
  },
  {
   "cell_type": "code",
   "execution_count": 4,
   "metadata": {},
   "outputs": [],
   "source": [
    "class Enc_z(nn.Module):\n",
    "    def __init__(self, num_hidden=2*D,\n",
    "                       sample_size=SAMPLE_SIZE,\n",
    "                       batch_size=BATCH_SIZE):\n",
    "        super(self.__class__, self).__init__()\n",
    "#         self.potential = nn.Sequential(\n",
    "#             nn.Linear(2*D+2, num_hidden),\n",
    "#             nn.Tanh(),\n",
    "#             nn.Linear(num_hidden, num_hidden),\n",
    "#             nn.Tanh(),\n",
    "#             nn.Linear(num_hidden, int(0.5*num_hidden)),\n",
    "#             nn.Tanh(),\n",
    "#             nn.Linear(int(0.5*num_hidden), int(0.25*num_hidden)),\n",
    "#             nn.Tanh(),\n",
    "#             nn.Linear(int(0.25*num_hidden), 1))\n",
    "        \n",
    "        self.log_distance = nn.Sequential(\n",
    "            nn.Linear(2*D, D),\n",
    "            nn.Tanh(),\n",
    "            nn.Linear(D, D),\n",
    "            nn.Tanh(),\n",
    "            nn.Linear(D, 1))\n",
    "        \n",
    "        self.prior_pi = torch.ones(K) * (1./ K)\n",
    "        self.radius = torch.ones((sample_size, batch_size, N, 1)) *  1.5\n",
    "        self.noise_sigma = torch.ones((sample_size, batch_size, N, 1)) *  0.2\n",
    "        if CUDA:\n",
    "            self.prior_pi = self.prior_pi.cuda().to(gpu)\n",
    "            self.radius = self.radius.cuda().to(gpu)\n",
    "            self.noise_sigma = self.noise_sigma.cuda().to(gpu)\n",
    "  \n",
    "    def forward(self, obs, obs_mu, sample_size, batch_size, ee):\n",
    "        obs_mu_c1 = obs_mu[:, :, 0, :].unsqueeze(-2).repeat(1,1,N,1)\n",
    "        obs_mu_c2 = obs_mu[:, :, 1, :].unsqueeze(-2).repeat(1,1,N,1)\n",
    "        obs_mu_c3 = obs_mu[:, :, 2, :].unsqueeze(-2).repeat(1,1,N,1)\n",
    "        \n",
    "#         dis_c1 = self.potential(torch.cat((obs, obs_mu_c1, self.radius, self.noise_sigma), -1))\n",
    "#         dis_c2 = self.potential(torch.cat((obs, obs_mu_c2, self.radius, self.noise_sigma), -1))\n",
    "#         dis_c3 = self.potential(torch.cat((obs, obs_mu_c3, self.radius, self.noise_sigma), -1))\n",
    "        \n",
    "        log_dis_c1 = self.log_distance(torch.cat((obs, obs_mu_c1), -1))\n",
    "        log_dis_c2 = self.log_distance(torch.cat((obs, obs_mu_c2), -1))\n",
    "        log_dis_c3 = self.log_distance(torch.cat((obs, obs_mu_c3), -1))\n",
    "#         ## S * B * N * (1+D) --> S * B * N * 1\n",
    "#         z_pi_c1 = self.pi_prob(torch.cat((self.radius - dis_c1, self.noise_sigma), -1) )\n",
    "#         z_pi_c2 = self.pi_prob(torch.cat((self.radius - dis_c2, self.noise_sigma), -1) )\n",
    "#         z_pi_c3 = self.pi_prob(torch.cat((self.radius - dis_c3, self.noise_sigma), -1) )\n",
    "        log_distances = torch.cat((log_dis_c1, log_dis_c1, log_dis_c1), -1) # S * B * N * K\n",
    "        obs_dist = Normal(torch.ones(1).cuda().to(gpu) * 1.5, torch.ones(1).cuda().to(gpu) * 0.2)\n",
    "        potentials = obs_dist.log_prob(log_distances.exp()) - log_distances # S * B * N * K   \n",
    "\n",
    "        q_pi = F.softmax(potentials * (1 - 0.9**ee), -1)\n",
    "        \n",
    "        q = probtorch.Trace()\n",
    "        p = probtorch.Trace()\n",
    "        \n",
    "        z = cat(q_pi).sample()\n",
    "        _ = q.variable(cat, probs=q_pi, value=z, name='zs')\n",
    "        _ = p.variable(cat, probs=self.prior_pi, value=z, name='zs')\n",
    "        return q, p\n",
    "    \n",
    "def initialize():\n",
    "    enc_z = Enc_z()\n",
    "    if CUDA:\n",
    "        enc_z.cuda().to(gpu)\n",
    "    optimizer =  torch.optim.Adam(list(enc_z.parameters()),lr=LEARNING_RATE, betas=(0.9, 0.99))    \n",
    "    return enc_z, optimizer"
   ]
  },
  {
   "cell_type": "code",
   "execution_count": 5,
   "metadata": {},
   "outputs": [],
   "source": [
    "enc_z, optimizer = initialize()"
   ]
  },
  {
   "cell_type": "code",
   "execution_count": 6,
   "metadata": {},
   "outputs": [],
   "source": [
    "def Eubo(enc_z, obs, obs_mu, N, K, D, sample_size, batch_size, gpu, ee):\n",
    "    q_z, p_z = enc_z(obs, obs_mu, sample_size, batch_size, ee)\n",
    "    log_p_z = p_z['zs'].log_prob\n",
    "    log_q_z = q_z['zs'].log_prob ## S * B * N\n",
    "    states = q_z['zs'].value\n",
    "    log_obs_n = True_Log_likelihood(obs, states, obs_mu, K, D, radius=1.5, noise_sigma = 0.2, gpu=gpu, cluster_flag=False)\n",
    "    log_weights_local = log_obs_n + log_p_z - log_q_z\n",
    "    weights_local = F.softmax(log_weights_local, 0).detach()\n",
    "\n",
    "    eubo =(weights_local * log_weights_local).sum(0).sum(-1).mean()\n",
    "    elbo = log_weights_local.sum(-1).mean()\n",
    "    ess = (1. / (weights_local**2).sum(0)).mean()\n",
    "    return eubo, elbo, ess"
   ]
  },
  {
   "cell_type": "code",
   "execution_count": 7,
   "metadata": {},
   "outputs": [
    {
     "name": "stdout",
     "output_type": "stream",
     "text": [
      "epoch=0, EUBO=-792.222, ELBO=-24067.385, ESS=3.989 (0s)\n",
      "epoch=1, EUBO=-797.753, ELBO=-24070.292, ESS=3.993 (0s)\n",
      "epoch=2, EUBO=-786.997, ELBO=-24074.168, ESS=3.993 (0s)\n",
      "epoch=3, EUBO=-791.076, ELBO=-24084.270, ESS=3.993 (0s)\n",
      "epoch=4, EUBO=-800.964, ELBO=-24078.032, ESS=3.992 (0s)\n",
      "epoch=5, EUBO=-790.607, ELBO=-24061.427, ESS=3.993 (0s)\n",
      "epoch=6, EUBO=-787.909, ELBO=-24092.539, ESS=3.992 (0s)\n",
      "epoch=7, EUBO=-798.853, ELBO=-24081.453, ESS=3.993 (0s)\n",
      "epoch=8, EUBO=-795.509, ELBO=-24069.633, ESS=3.992 (0s)\n",
      "epoch=9, EUBO=-792.458, ELBO=-24069.228, ESS=3.994 (0s)\n",
      "epoch=10, EUBO=-791.305, ELBO=-24048.955, ESS=3.995 (0s)\n",
      "epoch=11, EUBO=-790.983, ELBO=-24092.268, ESS=3.990 (0s)\n",
      "epoch=12, EUBO=-791.208, ELBO=-24053.636, ESS=3.994 (0s)\n",
      "epoch=13, EUBO=-788.377, ELBO=-24061.815, ESS=3.991 (0s)\n",
      "epoch=14, EUBO=-796.374, ELBO=-24064.255, ESS=3.995 (0s)\n",
      "epoch=15, EUBO=-794.104, ELBO=-24075.725, ESS=3.993 (0s)\n",
      "epoch=16, EUBO=-790.679, ELBO=-24054.999, ESS=3.992 (0s)\n",
      "epoch=17, EUBO=-791.701, ELBO=-24089.847, ESS=3.992 (0s)\n",
      "epoch=18, EUBO=-790.655, ELBO=-24085.878, ESS=3.994 (0s)\n",
      "epoch=19, EUBO=-799.310, ELBO=-24065.913, ESS=3.994 (0s)\n",
      "epoch=20, EUBO=-795.631, ELBO=-24056.331, ESS=3.994 (0s)\n",
      "epoch=21, EUBO=-795.948, ELBO=-24068.150, ESS=3.992 (0s)\n",
      "epoch=22, EUBO=-796.153, ELBO=-24078.910, ESS=3.995 (0s)\n",
      "epoch=23, EUBO=-799.337, ELBO=-24059.081, ESS=3.994 (0s)\n",
      "epoch=24, EUBO=-782.812, ELBO=-24052.907, ESS=3.996 (0s)\n",
      "epoch=25, EUBO=-800.543, ELBO=-24074.432, ESS=3.997 (0s)\n",
      "epoch=26, EUBO=-797.528, ELBO=-24055.062, ESS=3.996 (0s)\n",
      "epoch=27, EUBO=-781.295, ELBO=-24064.734, ESS=3.993 (0s)\n"
     ]
    },
    {
     "ename": "KeyboardInterrupt",
     "evalue": "",
     "output_type": "error",
     "traceback": [
      "\u001b[0;31m---------------------------------------------------------------------------\u001b[0m",
      "\u001b[0;31mKeyboardInterrupt\u001b[0m                         Traceback (most recent call last)",
      "\u001b[0;32m<ipython-input-7-98f0099327bc>\u001b[0m in \u001b[0;36m<module>\u001b[0;34m()\u001b[0m\n\u001b[1;32m     21\u001b[0m             \u001b[0mobs\u001b[0m \u001b[0;34m=\u001b[0m \u001b[0mobs\u001b[0m\u001b[0;34m.\u001b[0m\u001b[0mcuda\u001b[0m\u001b[0;34m(\u001b[0m\u001b[0;34m)\u001b[0m\u001b[0;34m.\u001b[0m\u001b[0mto\u001b[0m\u001b[0;34m(\u001b[0m\u001b[0mgpu\u001b[0m\u001b[0;34m)\u001b[0m\u001b[0;34m\u001b[0m\u001b[0;34m\u001b[0m\u001b[0m\n\u001b[1;32m     22\u001b[0m             \u001b[0mobs_mu\u001b[0m \u001b[0;34m=\u001b[0m \u001b[0mobs_mu\u001b[0m\u001b[0;34m.\u001b[0m\u001b[0mcuda\u001b[0m\u001b[0;34m(\u001b[0m\u001b[0;34m)\u001b[0m\u001b[0;34m.\u001b[0m\u001b[0mto\u001b[0m\u001b[0;34m(\u001b[0m\u001b[0mgpu\u001b[0m\u001b[0;34m)\u001b[0m\u001b[0;34m\u001b[0m\u001b[0;34m\u001b[0m\u001b[0m\n\u001b[0;32m---> 23\u001b[0;31m         \u001b[0meubo\u001b[0m\u001b[0;34m,\u001b[0m \u001b[0melbo\u001b[0m\u001b[0;34m,\u001b[0m \u001b[0mess\u001b[0m \u001b[0;34m=\u001b[0m \u001b[0mEubo\u001b[0m\u001b[0;34m(\u001b[0m\u001b[0menc_z\u001b[0m\u001b[0;34m,\u001b[0m \u001b[0mobs\u001b[0m\u001b[0;34m,\u001b[0m \u001b[0mobs_mu\u001b[0m\u001b[0;34m,\u001b[0m \u001b[0mN\u001b[0m\u001b[0;34m,\u001b[0m \u001b[0mK\u001b[0m\u001b[0;34m,\u001b[0m \u001b[0mD\u001b[0m\u001b[0;34m,\u001b[0m \u001b[0mSAMPLE_SIZE\u001b[0m\u001b[0;34m,\u001b[0m \u001b[0mBATCH_SIZE\u001b[0m\u001b[0;34m,\u001b[0m \u001b[0mgpu\u001b[0m\u001b[0;34m,\u001b[0m \u001b[0mepoch\u001b[0m\u001b[0;34m)\u001b[0m\u001b[0;34m\u001b[0m\u001b[0;34m\u001b[0m\u001b[0m\n\u001b[0m\u001b[1;32m     24\u001b[0m         \u001b[0;31m## gradient step\u001b[0m\u001b[0;34m\u001b[0m\u001b[0;34m\u001b[0m\u001b[0;34m\u001b[0m\u001b[0m\n\u001b[1;32m     25\u001b[0m         \u001b[0meubo\u001b[0m\u001b[0;34m.\u001b[0m\u001b[0mbackward\u001b[0m\u001b[0;34m(\u001b[0m\u001b[0;34m)\u001b[0m\u001b[0;34m\u001b[0m\u001b[0;34m\u001b[0m\u001b[0m\n",
      "\u001b[0;32m<ipython-input-6-486300711a5f>\u001b[0m in \u001b[0;36mEubo\u001b[0;34m(enc_z, obs, obs_mu, N, K, D, sample_size, batch_size, gpu, ee)\u001b[0m\n\u001b[1;32m      1\u001b[0m \u001b[0;32mdef\u001b[0m \u001b[0mEubo\u001b[0m\u001b[0;34m(\u001b[0m\u001b[0menc_z\u001b[0m\u001b[0;34m,\u001b[0m \u001b[0mobs\u001b[0m\u001b[0;34m,\u001b[0m \u001b[0mobs_mu\u001b[0m\u001b[0;34m,\u001b[0m \u001b[0mN\u001b[0m\u001b[0;34m,\u001b[0m \u001b[0mK\u001b[0m\u001b[0;34m,\u001b[0m \u001b[0mD\u001b[0m\u001b[0;34m,\u001b[0m \u001b[0msample_size\u001b[0m\u001b[0;34m,\u001b[0m \u001b[0mbatch_size\u001b[0m\u001b[0;34m,\u001b[0m \u001b[0mgpu\u001b[0m\u001b[0;34m,\u001b[0m \u001b[0mee\u001b[0m\u001b[0;34m)\u001b[0m\u001b[0;34m:\u001b[0m\u001b[0;34m\u001b[0m\u001b[0;34m\u001b[0m\u001b[0m\n\u001b[0;32m----> 2\u001b[0;31m     \u001b[0mq_z\u001b[0m\u001b[0;34m,\u001b[0m \u001b[0mp_z\u001b[0m \u001b[0;34m=\u001b[0m \u001b[0menc_z\u001b[0m\u001b[0;34m(\u001b[0m\u001b[0mobs\u001b[0m\u001b[0;34m,\u001b[0m \u001b[0mobs_mu\u001b[0m\u001b[0;34m,\u001b[0m \u001b[0msample_size\u001b[0m\u001b[0;34m,\u001b[0m \u001b[0mbatch_size\u001b[0m\u001b[0;34m,\u001b[0m \u001b[0mee\u001b[0m\u001b[0;34m)\u001b[0m\u001b[0;34m\u001b[0m\u001b[0;34m\u001b[0m\u001b[0m\n\u001b[0m\u001b[1;32m      3\u001b[0m     \u001b[0mlog_p_z\u001b[0m \u001b[0;34m=\u001b[0m \u001b[0mp_z\u001b[0m\u001b[0;34m[\u001b[0m\u001b[0;34m'zs'\u001b[0m\u001b[0;34m]\u001b[0m\u001b[0;34m.\u001b[0m\u001b[0mlog_prob\u001b[0m\u001b[0;34m\u001b[0m\u001b[0;34m\u001b[0m\u001b[0m\n\u001b[1;32m      4\u001b[0m     \u001b[0mlog_q_z\u001b[0m \u001b[0;34m=\u001b[0m \u001b[0mq_z\u001b[0m\u001b[0;34m[\u001b[0m\u001b[0;34m'zs'\u001b[0m\u001b[0;34m]\u001b[0m\u001b[0;34m.\u001b[0m\u001b[0mlog_prob\u001b[0m \u001b[0;31m## S * B * N\u001b[0m\u001b[0;34m\u001b[0m\u001b[0;34m\u001b[0m\u001b[0m\n\u001b[1;32m      5\u001b[0m     \u001b[0mstates\u001b[0m \u001b[0;34m=\u001b[0m \u001b[0mq_z\u001b[0m\u001b[0;34m[\u001b[0m\u001b[0;34m'zs'\u001b[0m\u001b[0;34m]\u001b[0m\u001b[0;34m.\u001b[0m\u001b[0mvalue\u001b[0m\u001b[0;34m\u001b[0m\u001b[0;34m\u001b[0m\u001b[0m\n",
      "\u001b[0;32m~/anaconda3/envs/dev/lib/python3.6/site-packages/torch/nn/modules/module.py\u001b[0m in \u001b[0;36m__call__\u001b[0;34m(self, *input, **kwargs)\u001b[0m\n\u001b[1;32m    487\u001b[0m             \u001b[0mresult\u001b[0m \u001b[0;34m=\u001b[0m \u001b[0mself\u001b[0m\u001b[0;34m.\u001b[0m\u001b[0m_slow_forward\u001b[0m\u001b[0;34m(\u001b[0m\u001b[0;34m*\u001b[0m\u001b[0minput\u001b[0m\u001b[0;34m,\u001b[0m \u001b[0;34m**\u001b[0m\u001b[0mkwargs\u001b[0m\u001b[0;34m)\u001b[0m\u001b[0;34m\u001b[0m\u001b[0;34m\u001b[0m\u001b[0m\n\u001b[1;32m    488\u001b[0m         \u001b[0;32melse\u001b[0m\u001b[0;34m:\u001b[0m\u001b[0;34m\u001b[0m\u001b[0;34m\u001b[0m\u001b[0m\n\u001b[0;32m--> 489\u001b[0;31m             \u001b[0mresult\u001b[0m \u001b[0;34m=\u001b[0m \u001b[0mself\u001b[0m\u001b[0;34m.\u001b[0m\u001b[0mforward\u001b[0m\u001b[0;34m(\u001b[0m\u001b[0;34m*\u001b[0m\u001b[0minput\u001b[0m\u001b[0;34m,\u001b[0m \u001b[0;34m**\u001b[0m\u001b[0mkwargs\u001b[0m\u001b[0;34m)\u001b[0m\u001b[0;34m\u001b[0m\u001b[0;34m\u001b[0m\u001b[0m\n\u001b[0m\u001b[1;32m    490\u001b[0m         \u001b[0;32mfor\u001b[0m \u001b[0mhook\u001b[0m \u001b[0;32min\u001b[0m \u001b[0mself\u001b[0m\u001b[0;34m.\u001b[0m\u001b[0m_forward_hooks\u001b[0m\u001b[0;34m.\u001b[0m\u001b[0mvalues\u001b[0m\u001b[0;34m(\u001b[0m\u001b[0;34m)\u001b[0m\u001b[0;34m:\u001b[0m\u001b[0;34m\u001b[0m\u001b[0;34m\u001b[0m\u001b[0m\n\u001b[1;32m    491\u001b[0m             \u001b[0mhook_result\u001b[0m \u001b[0;34m=\u001b[0m \u001b[0mhook\u001b[0m\u001b[0;34m(\u001b[0m\u001b[0mself\u001b[0m\u001b[0;34m,\u001b[0m \u001b[0minput\u001b[0m\u001b[0;34m,\u001b[0m \u001b[0mresult\u001b[0m\u001b[0;34m)\u001b[0m\u001b[0;34m\u001b[0m\u001b[0;34m\u001b[0m\u001b[0m\n",
      "\u001b[0;32m<ipython-input-4-f0d0d18779ba>\u001b[0m in \u001b[0;36mforward\u001b[0;34m(self, obs, obs_mu, sample_size, batch_size, ee)\u001b[0m\n\u001b[1;32m     41\u001b[0m         \u001b[0mlog_dis_c1\u001b[0m \u001b[0;34m=\u001b[0m \u001b[0mself\u001b[0m\u001b[0;34m.\u001b[0m\u001b[0mlog_distance\u001b[0m\u001b[0;34m(\u001b[0m\u001b[0mtorch\u001b[0m\u001b[0;34m.\u001b[0m\u001b[0mcat\u001b[0m\u001b[0;34m(\u001b[0m\u001b[0;34m(\u001b[0m\u001b[0mobs\u001b[0m\u001b[0;34m,\u001b[0m \u001b[0mobs_mu_c1\u001b[0m\u001b[0;34m)\u001b[0m\u001b[0;34m,\u001b[0m \u001b[0;34m-\u001b[0m\u001b[0;36m1\u001b[0m\u001b[0;34m)\u001b[0m\u001b[0;34m)\u001b[0m\u001b[0;34m\u001b[0m\u001b[0;34m\u001b[0m\u001b[0m\n\u001b[1;32m     42\u001b[0m         \u001b[0mlog_dis_c2\u001b[0m \u001b[0;34m=\u001b[0m \u001b[0mself\u001b[0m\u001b[0;34m.\u001b[0m\u001b[0mlog_distance\u001b[0m\u001b[0;34m(\u001b[0m\u001b[0mtorch\u001b[0m\u001b[0;34m.\u001b[0m\u001b[0mcat\u001b[0m\u001b[0;34m(\u001b[0m\u001b[0;34m(\u001b[0m\u001b[0mobs\u001b[0m\u001b[0;34m,\u001b[0m \u001b[0mobs_mu_c2\u001b[0m\u001b[0;34m)\u001b[0m\u001b[0;34m,\u001b[0m \u001b[0;34m-\u001b[0m\u001b[0;36m1\u001b[0m\u001b[0;34m)\u001b[0m\u001b[0;34m)\u001b[0m\u001b[0;34m\u001b[0m\u001b[0;34m\u001b[0m\u001b[0m\n\u001b[0;32m---> 43\u001b[0;31m         \u001b[0mlog_dis_c3\u001b[0m \u001b[0;34m=\u001b[0m \u001b[0mself\u001b[0m\u001b[0;34m.\u001b[0m\u001b[0mlog_distance\u001b[0m\u001b[0;34m(\u001b[0m\u001b[0mtorch\u001b[0m\u001b[0;34m.\u001b[0m\u001b[0mcat\u001b[0m\u001b[0;34m(\u001b[0m\u001b[0;34m(\u001b[0m\u001b[0mobs\u001b[0m\u001b[0;34m,\u001b[0m \u001b[0mobs_mu_c3\u001b[0m\u001b[0;34m)\u001b[0m\u001b[0;34m,\u001b[0m \u001b[0;34m-\u001b[0m\u001b[0;36m1\u001b[0m\u001b[0;34m)\u001b[0m\u001b[0;34m)\u001b[0m\u001b[0;34m\u001b[0m\u001b[0;34m\u001b[0m\u001b[0m\n\u001b[0m\u001b[1;32m     44\u001b[0m \u001b[0;31m#         ## S * B * N * (1+D) --> S * B * N * 1\u001b[0m\u001b[0;34m\u001b[0m\u001b[0;34m\u001b[0m\u001b[0;34m\u001b[0m\u001b[0m\n\u001b[1;32m     45\u001b[0m \u001b[0;31m#         z_pi_c1 = self.pi_prob(torch.cat((self.radius - dis_c1, self.noise_sigma), -1) )\u001b[0m\u001b[0;34m\u001b[0m\u001b[0;34m\u001b[0m\u001b[0;34m\u001b[0m\u001b[0m\n",
      "\u001b[0;32m~/anaconda3/envs/dev/lib/python3.6/site-packages/torch/nn/modules/module.py\u001b[0m in \u001b[0;36m__call__\u001b[0;34m(self, *input, **kwargs)\u001b[0m\n\u001b[1;32m    487\u001b[0m             \u001b[0mresult\u001b[0m \u001b[0;34m=\u001b[0m \u001b[0mself\u001b[0m\u001b[0;34m.\u001b[0m\u001b[0m_slow_forward\u001b[0m\u001b[0;34m(\u001b[0m\u001b[0;34m*\u001b[0m\u001b[0minput\u001b[0m\u001b[0;34m,\u001b[0m \u001b[0;34m**\u001b[0m\u001b[0mkwargs\u001b[0m\u001b[0;34m)\u001b[0m\u001b[0;34m\u001b[0m\u001b[0;34m\u001b[0m\u001b[0m\n\u001b[1;32m    488\u001b[0m         \u001b[0;32melse\u001b[0m\u001b[0;34m:\u001b[0m\u001b[0;34m\u001b[0m\u001b[0;34m\u001b[0m\u001b[0m\n\u001b[0;32m--> 489\u001b[0;31m             \u001b[0mresult\u001b[0m \u001b[0;34m=\u001b[0m \u001b[0mself\u001b[0m\u001b[0;34m.\u001b[0m\u001b[0mforward\u001b[0m\u001b[0;34m(\u001b[0m\u001b[0;34m*\u001b[0m\u001b[0minput\u001b[0m\u001b[0;34m,\u001b[0m \u001b[0;34m**\u001b[0m\u001b[0mkwargs\u001b[0m\u001b[0;34m)\u001b[0m\u001b[0;34m\u001b[0m\u001b[0;34m\u001b[0m\u001b[0m\n\u001b[0m\u001b[1;32m    490\u001b[0m         \u001b[0;32mfor\u001b[0m \u001b[0mhook\u001b[0m \u001b[0;32min\u001b[0m \u001b[0mself\u001b[0m\u001b[0;34m.\u001b[0m\u001b[0m_forward_hooks\u001b[0m\u001b[0;34m.\u001b[0m\u001b[0mvalues\u001b[0m\u001b[0;34m(\u001b[0m\u001b[0;34m)\u001b[0m\u001b[0;34m:\u001b[0m\u001b[0;34m\u001b[0m\u001b[0;34m\u001b[0m\u001b[0m\n\u001b[1;32m    491\u001b[0m             \u001b[0mhook_result\u001b[0m \u001b[0;34m=\u001b[0m \u001b[0mhook\u001b[0m\u001b[0;34m(\u001b[0m\u001b[0mself\u001b[0m\u001b[0;34m,\u001b[0m \u001b[0minput\u001b[0m\u001b[0;34m,\u001b[0m \u001b[0mresult\u001b[0m\u001b[0;34m)\u001b[0m\u001b[0;34m\u001b[0m\u001b[0;34m\u001b[0m\u001b[0m\n",
      "\u001b[0;32m~/anaconda3/envs/dev/lib/python3.6/site-packages/torch/nn/modules/container.py\u001b[0m in \u001b[0;36mforward\u001b[0;34m(self, input)\u001b[0m\n\u001b[1;32m     90\u001b[0m     \u001b[0;32mdef\u001b[0m \u001b[0mforward\u001b[0m\u001b[0;34m(\u001b[0m\u001b[0mself\u001b[0m\u001b[0;34m,\u001b[0m \u001b[0minput\u001b[0m\u001b[0;34m)\u001b[0m\u001b[0;34m:\u001b[0m\u001b[0;34m\u001b[0m\u001b[0;34m\u001b[0m\u001b[0m\n\u001b[1;32m     91\u001b[0m         \u001b[0;32mfor\u001b[0m \u001b[0mmodule\u001b[0m \u001b[0;32min\u001b[0m \u001b[0mself\u001b[0m\u001b[0;34m.\u001b[0m\u001b[0m_modules\u001b[0m\u001b[0;34m.\u001b[0m\u001b[0mvalues\u001b[0m\u001b[0;34m(\u001b[0m\u001b[0;34m)\u001b[0m\u001b[0;34m:\u001b[0m\u001b[0;34m\u001b[0m\u001b[0;34m\u001b[0m\u001b[0m\n\u001b[0;32m---> 92\u001b[0;31m             \u001b[0minput\u001b[0m \u001b[0;34m=\u001b[0m \u001b[0mmodule\u001b[0m\u001b[0;34m(\u001b[0m\u001b[0minput\u001b[0m\u001b[0;34m)\u001b[0m\u001b[0;34m\u001b[0m\u001b[0;34m\u001b[0m\u001b[0m\n\u001b[0m\u001b[1;32m     93\u001b[0m         \u001b[0;32mreturn\u001b[0m \u001b[0minput\u001b[0m\u001b[0;34m\u001b[0m\u001b[0;34m\u001b[0m\u001b[0m\n\u001b[1;32m     94\u001b[0m \u001b[0;34m\u001b[0m\u001b[0m\n",
      "\u001b[0;32m~/anaconda3/envs/dev/lib/python3.6/site-packages/torch/nn/modules/module.py\u001b[0m in \u001b[0;36m__call__\u001b[0;34m(self, *input, **kwargs)\u001b[0m\n\u001b[1;32m    487\u001b[0m             \u001b[0mresult\u001b[0m \u001b[0;34m=\u001b[0m \u001b[0mself\u001b[0m\u001b[0;34m.\u001b[0m\u001b[0m_slow_forward\u001b[0m\u001b[0;34m(\u001b[0m\u001b[0;34m*\u001b[0m\u001b[0minput\u001b[0m\u001b[0;34m,\u001b[0m \u001b[0;34m**\u001b[0m\u001b[0mkwargs\u001b[0m\u001b[0;34m)\u001b[0m\u001b[0;34m\u001b[0m\u001b[0;34m\u001b[0m\u001b[0m\n\u001b[1;32m    488\u001b[0m         \u001b[0;32melse\u001b[0m\u001b[0;34m:\u001b[0m\u001b[0;34m\u001b[0m\u001b[0;34m\u001b[0m\u001b[0m\n\u001b[0;32m--> 489\u001b[0;31m             \u001b[0mresult\u001b[0m \u001b[0;34m=\u001b[0m \u001b[0mself\u001b[0m\u001b[0;34m.\u001b[0m\u001b[0mforward\u001b[0m\u001b[0;34m(\u001b[0m\u001b[0;34m*\u001b[0m\u001b[0minput\u001b[0m\u001b[0;34m,\u001b[0m \u001b[0;34m**\u001b[0m\u001b[0mkwargs\u001b[0m\u001b[0;34m)\u001b[0m\u001b[0;34m\u001b[0m\u001b[0;34m\u001b[0m\u001b[0m\n\u001b[0m\u001b[1;32m    490\u001b[0m         \u001b[0;32mfor\u001b[0m \u001b[0mhook\u001b[0m \u001b[0;32min\u001b[0m \u001b[0mself\u001b[0m\u001b[0;34m.\u001b[0m\u001b[0m_forward_hooks\u001b[0m\u001b[0;34m.\u001b[0m\u001b[0mvalues\u001b[0m\u001b[0;34m(\u001b[0m\u001b[0;34m)\u001b[0m\u001b[0;34m:\u001b[0m\u001b[0;34m\u001b[0m\u001b[0;34m\u001b[0m\u001b[0m\n\u001b[1;32m    491\u001b[0m             \u001b[0mhook_result\u001b[0m \u001b[0;34m=\u001b[0m \u001b[0mhook\u001b[0m\u001b[0;34m(\u001b[0m\u001b[0mself\u001b[0m\u001b[0;34m,\u001b[0m \u001b[0minput\u001b[0m\u001b[0;34m,\u001b[0m \u001b[0mresult\u001b[0m\u001b[0;34m)\u001b[0m\u001b[0;34m\u001b[0m\u001b[0;34m\u001b[0m\u001b[0m\n",
      "\u001b[0;32m~/anaconda3/envs/dev/lib/python3.6/site-packages/torch/nn/modules/activation.py\u001b[0m in \u001b[0;36mforward\u001b[0;34m(self, input)\u001b[0m\n\u001b[1;32m    290\u001b[0m     \u001b[0;34m@\u001b[0m\u001b[0mweak_script_method\u001b[0m\u001b[0;34m\u001b[0m\u001b[0;34m\u001b[0m\u001b[0m\n\u001b[1;32m    291\u001b[0m     \u001b[0;32mdef\u001b[0m \u001b[0mforward\u001b[0m\u001b[0;34m(\u001b[0m\u001b[0mself\u001b[0m\u001b[0;34m,\u001b[0m \u001b[0minput\u001b[0m\u001b[0;34m)\u001b[0m\u001b[0;34m:\u001b[0m\u001b[0;34m\u001b[0m\u001b[0;34m\u001b[0m\u001b[0m\n\u001b[0;32m--> 292\u001b[0;31m         \u001b[0;32mreturn\u001b[0m \u001b[0mtorch\u001b[0m\u001b[0;34m.\u001b[0m\u001b[0mtanh\u001b[0m\u001b[0;34m(\u001b[0m\u001b[0minput\u001b[0m\u001b[0;34m)\u001b[0m\u001b[0;34m\u001b[0m\u001b[0;34m\u001b[0m\u001b[0m\n\u001b[0m\u001b[1;32m    293\u001b[0m \u001b[0;34m\u001b[0m\u001b[0m\n\u001b[1;32m    294\u001b[0m \u001b[0;34m\u001b[0m\u001b[0m\n",
      "\u001b[0;31mKeyboardInterrupt\u001b[0m: "
     ]
    }
   ],
   "source": [
    "EUBOs = []\n",
    "ELBOs = []\n",
    "ESSs = []\n",
    "\n",
    "flog = open('results/log-' + PATH + '.txt', 'w+')\n",
    "flog.write('EUBO\\tELBO\\tESS\\n')\n",
    "flog.close()\n",
    "for epoch in range(NUM_EPOCHS):\n",
    "    time_start = time.time()\n",
    "    indices = torch.randperm(NUM_SEQS)\n",
    "    EUBO = 0.0\n",
    "    ELBO = 0.0\n",
    "    ESS = 0.0\n",
    "    for step in range(NUM_BATCHES):\n",
    "        optimizer.zero_grad()\n",
    "        batch_indices = indices[step*BATCH_SIZE : (step+1)*BATCH_SIZE]\n",
    "        obs = Xs[batch_indices]\n",
    "        obs_mu = OBS_MU[batch_indices].repeat(SAMPLE_SIZE, 1, 1, 1)\n",
    "        obs = shuffler(obs).repeat(SAMPLE_SIZE, 1, 1, 1)\n",
    "        if CUDA:\n",
    "            obs = obs.cuda().to(gpu)\n",
    "            obs_mu = obs_mu.cuda().to(gpu)\n",
    "        eubo, elbo, ess = Eubo(enc_z, obs, obs_mu, N, K, D, SAMPLE_SIZE, BATCH_SIZE, gpu, epoch)\n",
    "        ## gradient step\n",
    "        eubo.backward()\n",
    "        optimizer.step()\n",
    "        EUBO += eubo.item()\n",
    "        ELBO += elbo.item()\n",
    "        ESS += ess.item()\n",
    "    EUBOs.append(EUBO / NUM_BATCHES)\n",
    "    ELBOs.append(ELBO / NUM_BATCHES)\n",
    "    ESSs.append(ESS / NUM_BATCHES) \n",
    "    flog = open('results/log-' + PATH + '.txt', 'a+')\n",
    "    print('%.3f\\t%.3f\\t%.3f'\n",
    "            % (EUBO/NUM_BATCHES, ELBO/NUM_BATCHES, ESS/NUM_BATCHES), file=flog)\n",
    "    flog.close()\n",
    "    time_end = time.time()\n",
    "    print('epoch=%d, EUBO=%.3f, ELBO=%.3f, ESS=%.3f (%ds)'\n",
    "            % (epoch, EUBO/NUM_BATCHES, ELBO/NUM_BATCHES, ESS/NUM_BATCHES, \n",
    "               time_end - time_start))"
   ]
  },
  {
   "cell_type": "code",
   "execution_count": null,
   "metadata": {},
   "outputs": [],
   "source": [
    "BATCH_SIZE_TEST = 20\n",
    "\n",
    "def sample_single_batch(num_seqs, Xs, OBS_MU, sample_size, batch_size, gpu):\n",
    "    indices = torch.randperm(num_seqs)\n",
    "    batch_indices = indices[0*batch_size : (0+1)*batch_size]\n",
    "    obs = Xs[batch_indices]\n",
    "    obs_mu = OBS_MU[batch_indices].repeat(sample_size, 1, 1, 1)\n",
    "    obs = shuffler(obs).repeat(sample_size, 1, 1, 1)\n",
    "    if CUDA:\n",
    "        obs = obs.cuda().to(gpu)\n",
    "        obs_mu = obs_mu.cuda().to(gpu)\n",
    "    return obs, obs_mu\n",
    "\n",
    "def test(enc_z, obs, obs_mu, sample_size, batch_size):\n",
    "        ## update z -- cluster assignments\n",
    "    q_z, p_z = enc_z(obs, obs_mu, sample_size, batch_size, 0)\n",
    "    return q_z\n",
    "\n",
    "def plot_samples(obs, q_eta, q_z, K, batch_size, PATH):\n",
    "    colors = ['r', 'b', 'g']\n",
    "    fig = plt.figure(figsize=(25,20))\n",
    "    xs = obs[0].cpu().data.numpy()\n",
    "    mu = obs_mu[0].cpu().data.numpy()\n",
    "    zs = q_z['zs'].dist.probs[0].cpu().data.numpy()\n",
    "    for b in range(batch_size):\n",
    "        ax = fig.add_subplot(int(batch_size / 5), 5, b+1)\n",
    "        x = xs[b]\n",
    "        z = zs[b]\n",
    "        mu_b = mu[b]\n",
    "        assignments = z.argmax(-1)\n",
    "        for k in range(K):\n",
    "            xk = x[np.where(assignments == k)]\n",
    "            ax.scatter(xk[:, 0], xk[:, 1], c=colors[k], alpha=0.2)\n",
    "            ax.scatter(mu_b[k, 0], mu_b[k, 1], c=colors[k])\n",
    "        ax.set_ylim([-5, 5])\n",
    "        ax.set_xlim([-5, 5])\n",
    "    plt.savefig('results/modes-' + PATH + '.svg')\n",
    "    \n",
    "obs, obs_mu = sample_single_batch(NUM_SEQS, Xs, OBS_MU, SAMPLE_SIZE, BATCH_SIZE_TEST, gpu)\n",
    "q_z = test(enc_z, obs, obs_mu, SAMPLE_SIZE, BATCH_SIZE_TEST)\n",
    "%time plot_samples(obs, obs_mu, q_z, K, BATCH_SIZE_TEST, PATH)"
   ]
  },
  {
   "cell_type": "code",
   "execution_count": null,
   "metadata": {},
   "outputs": [],
   "source": [
    "ob1 = obs[0, 0].cpu().data.numpy()"
   ]
  },
  {
   "cell_type": "code",
   "execution_count": null,
   "metadata": {},
   "outputs": [],
   "source": [
    "fig = plt.figure(figsize=(5,5))\n",
    "ax = fig.add_subplot(111)\n",
    "ax.scatter(ob1[:, 0], ob1[:, 1])\n",
    "ax.set_xlim([-5,5])\n",
    "ax.set_ylim([-5,5])"
   ]
  },
  {
   "cell_type": "code",
   "execution_count": null,
   "metadata": {},
   "outputs": [],
   "source": [
    "def test(enc_z, obs, obs_mu, sample_size, batch_size):\n",
    "        ## update z -- cluster assignments\n",
    "    q_z, p_z = enc_z(obs, obs_mu, sample_size, batch_size)\n",
    "    log_p_z = p_z['zs'].log_prob\n",
    "    log_q_z = q_z['zs'].log_prob ## S * B * N\n",
    "    states = q_z['zs'].value\n",
    "    log_obs_n = True_Log_likelihood(obs, states, obs_mu, K, D, radius=1.5, noise_sigma = 0.05, gpu=gpu, cluster_flag=False)\n",
    "    log_weights_local = log_obs_n + log_p_z - log_q_z\n",
    "    return log_p_z, log_q_z, log_obs_n, log_weights_local\n",
    "\n",
    "log_p_z, log_q_z, log_obs_n, log_weights_local = test(enc_z, obs, obs_mu, SAMPLE_SIZE, BATCH_SIZE_TEST)"
   ]
  },
  {
   "cell_type": "code",
   "execution_count": null,
   "metadata": {},
   "outputs": [],
   "source": [
    "colors = ['r', 'b', 'g']\n",
    "fig = plt.figure(figsize=(5,5))\n",
    "ax = fig.add_subplot(111)\n",
    "x = obs[0, 0].cpu().data.numpy()\n",
    "mu = obs_mu[0, 0].cpu().data.numpy()\n",
    "z = q_z['zs'].dist.probs[0].cpu().data.numpy()[0]\n",
    "assignments = z.argmax(-1)\n",
    "for k in range(K):\n",
    "    xk = x[np.where(assignments == k)]\n",
    "    ax.scatter(xk[:, 0], xk[:, 1], c=colors[k], alpha=0.2)\n",
    "    ax.scatter(mu[k, 0], mu[k, 1], c=colors[k])\n",
    "    if k == 2:\n",
    "        xk1 = xk\n",
    "ax.set_ylim([-5, 5])\n",
    "ax.set_xlim([-5, 5])"
   ]
  },
  {
   "cell_type": "code",
   "execution_count": null,
   "metadata": {},
   "outputs": [],
   "source": [
    "plt.scatter(xk1[:,0], xk1[:,1])"
   ]
  },
  {
   "cell_type": "code",
   "execution_count": null,
   "metadata": {},
   "outputs": [],
   "source": [
    "mu1 = obs_mu[0, 0].cpu()\n",
    "ob1 = torch.from_numpy(xk1).float()\n",
    "Nk = ob1.shape[0]\n",
    "mu1_exp = mu1.unsqueeze(-2).repeat(1, Nk, 1) #  K * N * D\n",
    "ob1_exp = ob1.unsqueeze(0).repeat(K, 1, 1) #  K * N * D\n",
    "distance = ((ob1_exp - mu1_exp)**2).sum(-1).sqrt()"
   ]
  },
  {
   "cell_type": "code",
   "execution_count": null,
   "metadata": {},
   "outputs": [],
   "source": [
    "distance"
   ]
  },
  {
   "cell_type": "code",
   "execution_count": null,
   "metadata": {},
   "outputs": [],
   "source": [
    "obs_dist = Normal(torch.ones(1) * 1.5, torch.ones(1) * 0.05)\n",
    "log_distance = obs_dist.log_prob(distance) / (2*math.pi*distance)\n",
    "log_distance = log_distance.transpose(0, 1) # N * K   \n"
   ]
  },
  {
   "cell_type": "code",
   "execution_count": null,
   "metadata": {},
   "outputs": [],
   "source": [
    "log_distance.shape"
   ]
  },
  {
   "cell_type": "code",
   "execution_count": null,
   "metadata": {},
   "outputs": [],
   "source": [
    "z1 = F.softmax(log_distance, -1)\n",
    "aa1 = z1.argmax(-1)\n",
    "mu1_np = mu1.data.numpy()\n",
    "fig = plt.figure(figsize=(5,5))\n",
    "ax = fig.add_subplot(111)\n",
    "for k in range(K):\n",
    "    xk = xk1[np.where(aa1 == k)]\n",
    "    ax.scatter(xk[:, 0], xk[:, 1], c=colors[k], alpha=0.2)\n",
    "    ax.scatter(mu1_np[k, 0], mu1_np[k, 1], c=colors[k])\n",
    "    if k == 2:\n",
    "        aaa = xk\n",
    "ax.set_ylim([-5, 5])\n",
    "ax.set_xlim([-5, 5])"
   ]
  },
  {
   "cell_type": "code",
   "execution_count": null,
   "metadata": {},
   "outputs": [],
   "source": [
    "z1"
   ]
  },
  {
   "cell_type": "code",
   "execution_count": null,
   "metadata": {},
   "outputs": [],
   "source": []
  }
 ],
 "metadata": {
  "kernelspec": {
   "display_name": "Python 3",
   "language": "python",
   "name": "python3"
  },
  "language_info": {
   "codemirror_mode": {
    "name": "ipython",
    "version": 3
   },
   "file_extension": ".py",
   "mimetype": "text/x-python",
   "name": "python",
   "nbconvert_exporter": "python",
   "pygments_lexer": "ipython3",
   "version": "3.6.7"
  }
 },
 "nbformat": 4,
 "nbformat_minor": 2
}
