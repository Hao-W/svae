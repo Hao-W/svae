{
 "cells": [
  {
   "cell_type": "code",
   "execution_count": 1,
   "metadata": {},
   "outputs": [
    {
     "name": "stdout",
     "output_type": "stream",
     "text": [
      "probtorch: 0.0+5a2c637 torch: 1.0.0 cuda: True\n"
     ]
    }
   ],
   "source": [
    "%matplotlib inline\n",
    "import sys\n",
    "sys.path.append(\"../\")\n",
    "sys.path.append('/home/hao/Research/probtorch/')\n",
    "import numpy as np\n",
    "import torch.nn as nn\n",
    "import math\n",
    "import matplotlib.pyplot as plt\n",
    "from plots import *\n",
    "from utils import *\n",
    "from objectives import *\n",
    "from torch.distributions.normal import Normal\n",
    "from torch.distributions.one_hot_categorical import OneHotCategorical as cat\n",
    "import time\n",
    "import probtorch\n",
    "print('probtorch:', probtorch.__version__, \n",
    "      'torch:', torch.__version__, \n",
    "      'cuda:', torch.cuda.is_available())"
   ]
  },
  {
   "cell_type": "code",
   "execution_count": 2,
   "metadata": {},
   "outputs": [],
   "source": [
    "N = 300\n",
    "K = 3\n",
    "D = 2\n",
    "\n",
    "## Model Parameters\n",
    "SAMPLE_SIZE = 10\n",
    "NUM_HIDDEN1 = 8\n",
    "STAT_SIZE = 8\n",
    "NUM_LATENTS =  D\n",
    "## Training Parameters\n",
    "BATCH_SIZE = 20\n",
    "NUM_EPOCHS = 10000\n",
    "LEARNING_RATE = 1e-3\n",
    "CUDA = torch.cuda.is_available()\n",
    "PATH = 'gibbs-z'\n",
    "\n",
    "gpu = torch.device('cuda:1')"
   ]
  },
  {
   "cell_type": "code",
   "execution_count": 3,
   "metadata": {},
   "outputs": [],
   "source": [
    "Xs = torch.from_numpy(np.load('rings_dataset/obs.npy')).float()\n",
    "# STATES = torch.from_numpy(np.load('rings_dataset/states.npy')).float()\n",
    "OBS_MU = torch.from_numpy(np.load('rings_dataset/obs_mu.npy')).float()\n",
    "NUM_SEQS = Xs.shape[0]\n",
    "NUM_BATCHES = int((Xs.shape[0] / BATCH_SIZE))"
   ]
  },
  {
   "cell_type": "code",
   "execution_count": 4,
   "metadata": {},
   "outputs": [],
   "source": [
    "class Enc_z(nn.Module):\n",
    "    def __init__(self, num_hidden=8,\n",
    "                       sample_size=SAMPLE_SIZE,\n",
    "                       batch_size=BATCH_SIZE):\n",
    "        super(self.__class__, self).__init__()\n",
    "#         self.potential = nn.Sequential(\n",
    "#             nn.Linear(2*D+2, num_hidden),\n",
    "#             nn.Tanh(),\n",
    "#             nn.Linear(num_hidden, num_hidden),\n",
    "#             nn.Tanh(),\n",
    "#             nn.Linear(num_hidden, int(0.5*num_hidden)),\n",
    "#             nn.Tanh(),\n",
    "#             nn.Linear(int(0.5*num_hidden), int(0.25*num_hidden)),\n",
    "#             nn.Tanh(),\n",
    "#             nn.Linear(int(0.25*num_hidden), 1))\n",
    "        self.diff = nn.Sequential(\n",
    "            nn.Linear(2*D, D))\n",
    "    \n",
    "#         self.pi_logits = nn.Sequential(\n",
    "#             nn.Linear(3, num_hidden),\n",
    "#             nn.Tanh(),\n",
    "#             nn.Linear(num_hidden,int(0.5*num_hidden)),\n",
    "#             nn.Tanh(),\n",
    "#             nn.Linear(int(0.5*num_hidden), int(0.25*num_hidden)),\n",
    "#             nn.Tanh(),\n",
    "#             nn.Linear(int(0.25*num_hidden), 1))\n",
    "        \n",
    "        self.prior_pi = torch.ones(K) * (1./ K)\n",
    "        self.radius = torch.ones((sample_size, batch_size, N, 1)) *  1.5\n",
    "        self.noise_sigma = torch.ones((sample_size, batch_size, N, 1)) *  0.05\n",
    "        if CUDA:\n",
    "            self.prior_pi = self.prior_pi.cuda().to(gpu)\n",
    "            self.radius = self.radius.cuda().to(gpu)\n",
    "            self.noise_sigma = self.noise_sigma.cuda().to(gpu)\n",
    "  \n",
    "    def forward(self, obs, obs_mu, sample_size, batch_size, ee):\n",
    "        obs_mu_c1 = obs_mu[:, :, 0, :].unsqueeze(-2).repeat(1,1,N,1)\n",
    "        obs_mu_c2 = obs_mu[:, :, 1, :].unsqueeze(-2).repeat(1,1,N,1)\n",
    "        obs_mu_c3 = obs_mu[:, :, 2, :].unsqueeze(-2).repeat(1,1,N,1)\n",
    "        \n",
    "\n",
    "        \n",
    "        dis_c1 = (self.diff(torch.cat((obs, obs_mu_c1), -1))**2).sum(-1).sqrt().unsqueeze(-1)\n",
    "        dis_c2 = (self.diff(torch.cat((obs, obs_mu_c2), -1))**2).sum(-1).sqrt().unsqueeze(-1)\n",
    "        dis_c3 = (self.diff(torch.cat((obs, obs_mu_c3), -1))**2).sum(-1).sqrt().unsqueeze(-1)\n",
    "#         ## S * B * N * (1+D) --> S * B * N * 1\n",
    "#         z_pi_c1 = self.pi_logits(torch.cat((self.radius, dis_c1, self.noise_sigma), -1) )\n",
    "#         z_pi_c2 = self.pi_logits(torch.cat((self.radius, dis_c2, self.noise_sigma), -1) )\n",
    "#         z_pi_c3 = self.pi_logits(torch.cat((self.radius, dis_c3, self.noise_sigma), -1) )\n",
    "        \n",
    "#         potential_c1 = self.pi_logits(z_pi_c1)\n",
    "#         potential_c2 = self.pi_logits(z_pi_c2)\n",
    "#         potential_c3 = self.pi_logits(z_pi_c3)\n",
    "        distances = torch.cat((dis_c1, dis_c2, dis_c3), -1) # S * B * N * K\n",
    "        \n",
    "        obs_dist = Normal(torch.ones(1).cuda().to(gpu) * 1.5, torch.ones(1).cuda().to(gpu) * 0.05)\n",
    "        potentials = obs_dist.log_prob(distances) - (2*math.pi*distances).log()# S * B * N * K   \n",
    "\n",
    "        q_pi = F.softmax(potentials, -1)\n",
    "        \n",
    "        q = probtorch.Trace()\n",
    "        p = probtorch.Trace()\n",
    "        \n",
    "        z = cat(q_pi).sample()\n",
    "        _ = q.variable(cat, probs=q_pi, value=z, name='zs')\n",
    "        _ = p.variable(cat, probs=self.prior_pi, value=z, name='zs')\n",
    "        return q, p\n",
    "    \n",
    "def initialize():\n",
    "    enc_z = Enc_z()\n",
    "    if CUDA:\n",
    "        enc_z.cuda().to(gpu)\n",
    "    optimizer =  torch.optim.Adam(list(enc_z.parameters()),lr=LEARNING_RATE, betas=(0.9, 0.99))    \n",
    "    return enc_z, optimizer"
   ]
  },
  {
   "cell_type": "code",
   "execution_count": 5,
   "metadata": {},
   "outputs": [],
   "source": [
    "enc_z, optimizer = initialize()"
   ]
  },
  {
   "cell_type": "code",
   "execution_count": 6,
   "metadata": {},
   "outputs": [],
   "source": [
    "def Eubo(enc_z, obs, obs_mu, N, K, D, sample_size, batch_size, gpu, ee):\n",
    "    q_z, p_z = enc_z(obs, obs_mu, sample_size, batch_size, ee)\n",
    "    log_p_z = p_z['zs'].log_prob\n",
    "    log_q_z = q_z['zs'].log_prob ## S * B * N\n",
    "    states = q_z['zs'].value\n",
    "    log_obs_n = True_Log_likelihood(obs, states, obs_mu, K, D, radius=1.5, noise_sigma = 0.05, gpu=gpu, cluster_flag=False)\n",
    "    log_weights_local = log_obs_n + log_p_z - log_q_z\n",
    "    weights_local = F.softmax(log_weights_local, 0).detach()\n",
    "\n",
    "    eubo =(weights_local * log_weights_local).sum(0).sum(-1).mean()\n",
    "    elbo = log_weights_local.sum(-1).mean()\n",
    "    ess = (1. / (weights_local**2).sum(0)).mean()\n",
    "    return eubo, elbo, ess"
   ]
  },
  {
   "cell_type": "code",
   "execution_count": 7,
   "metadata": {},
   "outputs": [
    {
     "name": "stdout",
     "output_type": "stream",
     "text": [
      "epoch=0, EUBO=-302653.774, ELBO=-333176.677, ESS=9.386 (0s)\n",
      "epoch=1, EUBO=-227566.800, ELBO=-248851.438, ESS=9.468 (0s)\n",
      "epoch=2, EUBO=-154073.927, ELBO=-167073.486, ESS=9.561 (0s)\n",
      "epoch=3, EUBO=-94107.668, ELBO=-101240.650, ESS=9.652 (0s)\n",
      "epoch=4, EUBO=-61080.658, ELBO=-65131.432, ESS=9.717 (0s)\n",
      "epoch=5, EUBO=-42596.657, ELBO=-45020.722, ESS=9.768 (0s)\n",
      "epoch=6, EUBO=-31024.596, ELBO=-32782.100, ESS=9.795 (0s)\n",
      "epoch=7, EUBO=-21809.086, ELBO=-23104.524, ESS=9.816 (0s)\n",
      "epoch=8, EUBO=-14578.401, ELBO=-15544.793, ESS=9.825 (0s)\n",
      "epoch=9, EUBO=-9648.535, ELBO=-10430.550, ESS=9.822 (0s)\n",
      "epoch=10, EUBO=-5670.640, ELBO=-6199.954, ESS=9.822 (0s)\n",
      "epoch=11, EUBO=-2197.538, ELBO=-2471.506, ESS=9.791 (0s)\n",
      "epoch=12, EUBO=-607.604, ELBO=-673.438, ESS=9.782 (0s)\n",
      "epoch=13, EUBO=-515.996, ELBO=-526.628, ESS=9.875 (0s)\n",
      "epoch=14, EUBO=-517.478, ELBO=-517.951, ESS=9.987 (0s)\n",
      "epoch=15, EUBO=-517.674, ELBO=-517.683, ESS=10.000 (0s)\n",
      "epoch=16, EUBO=-517.673, ELBO=-517.687, ESS=10.000 (0s)\n",
      "epoch=17, EUBO=-517.671, ELBO=-517.688, ESS=9.999 (0s)\n",
      "epoch=18, EUBO=-517.671, ELBO=-517.689, ESS=9.999 (0s)\n",
      "epoch=19, EUBO=-517.670, ELBO=-517.692, ESS=9.999 (0s)\n",
      "epoch=20, EUBO=-517.668, ELBO=-517.691, ESS=9.999 (0s)\n"
     ]
    },
    {
     "ename": "KeyboardInterrupt",
     "evalue": "",
     "output_type": "error",
     "traceback": [
      "\u001b[0;31m---------------------------------------------------------------------------\u001b[0m",
      "\u001b[0;31mKeyboardInterrupt\u001b[0m                         Traceback (most recent call last)",
      "\u001b[0;32m<ipython-input-7-5c3268a831bf>\u001b[0m in \u001b[0;36m<module>\u001b[0;34m()\u001b[0m\n\u001b[1;32m     21\u001b[0m             \u001b[0mobs\u001b[0m \u001b[0;34m=\u001b[0m \u001b[0mobs\u001b[0m\u001b[0;34m.\u001b[0m\u001b[0mcuda\u001b[0m\u001b[0;34m(\u001b[0m\u001b[0;34m)\u001b[0m\u001b[0;34m.\u001b[0m\u001b[0mto\u001b[0m\u001b[0;34m(\u001b[0m\u001b[0mgpu\u001b[0m\u001b[0;34m)\u001b[0m\u001b[0;34m\u001b[0m\u001b[0;34m\u001b[0m\u001b[0m\n\u001b[1;32m     22\u001b[0m             \u001b[0mobs_mu\u001b[0m \u001b[0;34m=\u001b[0m \u001b[0mobs_mu\u001b[0m\u001b[0;34m.\u001b[0m\u001b[0mcuda\u001b[0m\u001b[0;34m(\u001b[0m\u001b[0;34m)\u001b[0m\u001b[0;34m.\u001b[0m\u001b[0mto\u001b[0m\u001b[0;34m(\u001b[0m\u001b[0mgpu\u001b[0m\u001b[0;34m)\u001b[0m\u001b[0;34m\u001b[0m\u001b[0;34m\u001b[0m\u001b[0m\n\u001b[0;32m---> 23\u001b[0;31m         \u001b[0meubo\u001b[0m\u001b[0;34m,\u001b[0m \u001b[0melbo\u001b[0m\u001b[0;34m,\u001b[0m \u001b[0mess\u001b[0m \u001b[0;34m=\u001b[0m \u001b[0mEubo\u001b[0m\u001b[0;34m(\u001b[0m\u001b[0menc_z\u001b[0m\u001b[0;34m,\u001b[0m \u001b[0mobs\u001b[0m\u001b[0;34m,\u001b[0m \u001b[0mobs_mu\u001b[0m\u001b[0;34m,\u001b[0m \u001b[0mN\u001b[0m\u001b[0;34m,\u001b[0m \u001b[0mK\u001b[0m\u001b[0;34m,\u001b[0m \u001b[0mD\u001b[0m\u001b[0;34m,\u001b[0m \u001b[0mSAMPLE_SIZE\u001b[0m\u001b[0;34m,\u001b[0m \u001b[0mBATCH_SIZE\u001b[0m\u001b[0;34m,\u001b[0m \u001b[0mgpu\u001b[0m\u001b[0;34m,\u001b[0m \u001b[0mepoch\u001b[0m\u001b[0;34m)\u001b[0m\u001b[0;34m\u001b[0m\u001b[0;34m\u001b[0m\u001b[0m\n\u001b[0m\u001b[1;32m     24\u001b[0m         \u001b[0;31m## gradient step\u001b[0m\u001b[0;34m\u001b[0m\u001b[0;34m\u001b[0m\u001b[0;34m\u001b[0m\u001b[0m\n\u001b[1;32m     25\u001b[0m         \u001b[0meubo\u001b[0m\u001b[0;34m.\u001b[0m\u001b[0mbackward\u001b[0m\u001b[0;34m(\u001b[0m\u001b[0;34m)\u001b[0m\u001b[0;34m\u001b[0m\u001b[0;34m\u001b[0m\u001b[0m\n",
      "\u001b[0;32m<ipython-input-6-3f7213ac37ce>\u001b[0m in \u001b[0;36mEubo\u001b[0;34m(enc_z, obs, obs_mu, N, K, D, sample_size, batch_size, gpu, ee)\u001b[0m\n\u001b[1;32m      1\u001b[0m \u001b[0;32mdef\u001b[0m \u001b[0mEubo\u001b[0m\u001b[0;34m(\u001b[0m\u001b[0menc_z\u001b[0m\u001b[0;34m,\u001b[0m \u001b[0mobs\u001b[0m\u001b[0;34m,\u001b[0m \u001b[0mobs_mu\u001b[0m\u001b[0;34m,\u001b[0m \u001b[0mN\u001b[0m\u001b[0;34m,\u001b[0m \u001b[0mK\u001b[0m\u001b[0;34m,\u001b[0m \u001b[0mD\u001b[0m\u001b[0;34m,\u001b[0m \u001b[0msample_size\u001b[0m\u001b[0;34m,\u001b[0m \u001b[0mbatch_size\u001b[0m\u001b[0;34m,\u001b[0m \u001b[0mgpu\u001b[0m\u001b[0;34m,\u001b[0m \u001b[0mee\u001b[0m\u001b[0;34m)\u001b[0m\u001b[0;34m:\u001b[0m\u001b[0;34m\u001b[0m\u001b[0;34m\u001b[0m\u001b[0m\n\u001b[0;32m----> 2\u001b[0;31m     \u001b[0mq_z\u001b[0m\u001b[0;34m,\u001b[0m \u001b[0mp_z\u001b[0m \u001b[0;34m=\u001b[0m \u001b[0menc_z\u001b[0m\u001b[0;34m(\u001b[0m\u001b[0mobs\u001b[0m\u001b[0;34m,\u001b[0m \u001b[0mobs_mu\u001b[0m\u001b[0;34m,\u001b[0m \u001b[0msample_size\u001b[0m\u001b[0;34m,\u001b[0m \u001b[0mbatch_size\u001b[0m\u001b[0;34m,\u001b[0m \u001b[0mee\u001b[0m\u001b[0;34m)\u001b[0m\u001b[0;34m\u001b[0m\u001b[0;34m\u001b[0m\u001b[0m\n\u001b[0m\u001b[1;32m      3\u001b[0m     \u001b[0mlog_p_z\u001b[0m \u001b[0;34m=\u001b[0m \u001b[0mp_z\u001b[0m\u001b[0;34m[\u001b[0m\u001b[0;34m'zs'\u001b[0m\u001b[0;34m]\u001b[0m\u001b[0;34m.\u001b[0m\u001b[0mlog_prob\u001b[0m\u001b[0;34m\u001b[0m\u001b[0;34m\u001b[0m\u001b[0m\n\u001b[1;32m      4\u001b[0m     \u001b[0mlog_q_z\u001b[0m \u001b[0;34m=\u001b[0m \u001b[0mq_z\u001b[0m\u001b[0;34m[\u001b[0m\u001b[0;34m'zs'\u001b[0m\u001b[0;34m]\u001b[0m\u001b[0;34m.\u001b[0m\u001b[0mlog_prob\u001b[0m \u001b[0;31m## S * B * N\u001b[0m\u001b[0;34m\u001b[0m\u001b[0;34m\u001b[0m\u001b[0m\n\u001b[1;32m      5\u001b[0m     \u001b[0mstates\u001b[0m \u001b[0;34m=\u001b[0m \u001b[0mq_z\u001b[0m\u001b[0;34m[\u001b[0m\u001b[0;34m'zs'\u001b[0m\u001b[0;34m]\u001b[0m\u001b[0;34m.\u001b[0m\u001b[0mvalue\u001b[0m\u001b[0;34m\u001b[0m\u001b[0;34m\u001b[0m\u001b[0m\n",
      "\u001b[0;32m~/anaconda3/envs/dev/lib/python3.6/site-packages/torch/nn/modules/module.py\u001b[0m in \u001b[0;36m__call__\u001b[0;34m(self, *input, **kwargs)\u001b[0m\n\u001b[1;32m    487\u001b[0m             \u001b[0mresult\u001b[0m \u001b[0;34m=\u001b[0m \u001b[0mself\u001b[0m\u001b[0;34m.\u001b[0m\u001b[0m_slow_forward\u001b[0m\u001b[0;34m(\u001b[0m\u001b[0;34m*\u001b[0m\u001b[0minput\u001b[0m\u001b[0;34m,\u001b[0m \u001b[0;34m**\u001b[0m\u001b[0mkwargs\u001b[0m\u001b[0;34m)\u001b[0m\u001b[0;34m\u001b[0m\u001b[0;34m\u001b[0m\u001b[0m\n\u001b[1;32m    488\u001b[0m         \u001b[0;32melse\u001b[0m\u001b[0;34m:\u001b[0m\u001b[0;34m\u001b[0m\u001b[0;34m\u001b[0m\u001b[0m\n\u001b[0;32m--> 489\u001b[0;31m             \u001b[0mresult\u001b[0m \u001b[0;34m=\u001b[0m \u001b[0mself\u001b[0m\u001b[0;34m.\u001b[0m\u001b[0mforward\u001b[0m\u001b[0;34m(\u001b[0m\u001b[0;34m*\u001b[0m\u001b[0minput\u001b[0m\u001b[0;34m,\u001b[0m \u001b[0;34m**\u001b[0m\u001b[0mkwargs\u001b[0m\u001b[0;34m)\u001b[0m\u001b[0;34m\u001b[0m\u001b[0;34m\u001b[0m\u001b[0m\n\u001b[0m\u001b[1;32m    490\u001b[0m         \u001b[0;32mfor\u001b[0m \u001b[0mhook\u001b[0m \u001b[0;32min\u001b[0m \u001b[0mself\u001b[0m\u001b[0;34m.\u001b[0m\u001b[0m_forward_hooks\u001b[0m\u001b[0;34m.\u001b[0m\u001b[0mvalues\u001b[0m\u001b[0;34m(\u001b[0m\u001b[0;34m)\u001b[0m\u001b[0;34m:\u001b[0m\u001b[0;34m\u001b[0m\u001b[0;34m\u001b[0m\u001b[0m\n\u001b[1;32m    491\u001b[0m             \u001b[0mhook_result\u001b[0m \u001b[0;34m=\u001b[0m \u001b[0mhook\u001b[0m\u001b[0;34m(\u001b[0m\u001b[0mself\u001b[0m\u001b[0;34m,\u001b[0m \u001b[0minput\u001b[0m\u001b[0;34m,\u001b[0m \u001b[0mresult\u001b[0m\u001b[0;34m)\u001b[0m\u001b[0;34m\u001b[0m\u001b[0;34m\u001b[0m\u001b[0m\n",
      "\u001b[0;32m<ipython-input-4-4636791e9996>\u001b[0m in \u001b[0;36mforward\u001b[0;34m(self, obs, obs_mu, sample_size, batch_size, ee)\u001b[0m\n\u001b[1;32m     57\u001b[0m         \u001b[0mpotentials\u001b[0m \u001b[0;34m=\u001b[0m \u001b[0mobs_dist\u001b[0m\u001b[0;34m.\u001b[0m\u001b[0mlog_prob\u001b[0m\u001b[0;34m(\u001b[0m\u001b[0mdistances\u001b[0m\u001b[0;34m)\u001b[0m \u001b[0;34m-\u001b[0m \u001b[0;34m(\u001b[0m\u001b[0;36m2\u001b[0m\u001b[0;34m*\u001b[0m\u001b[0mmath\u001b[0m\u001b[0;34m.\u001b[0m\u001b[0mpi\u001b[0m\u001b[0;34m*\u001b[0m\u001b[0mdistances\u001b[0m\u001b[0;34m)\u001b[0m\u001b[0;34m.\u001b[0m\u001b[0mlog\u001b[0m\u001b[0;34m(\u001b[0m\u001b[0;34m)\u001b[0m\u001b[0;31m# S * B * N * K\u001b[0m\u001b[0;34m\u001b[0m\u001b[0;34m\u001b[0m\u001b[0m\n\u001b[1;32m     58\u001b[0m \u001b[0;34m\u001b[0m\u001b[0m\n\u001b[0;32m---> 59\u001b[0;31m         \u001b[0mq_pi\u001b[0m \u001b[0;34m=\u001b[0m \u001b[0mF\u001b[0m\u001b[0;34m.\u001b[0m\u001b[0msoftmax\u001b[0m\u001b[0;34m(\u001b[0m\u001b[0mpotentials\u001b[0m\u001b[0;34m,\u001b[0m \u001b[0;34m-\u001b[0m\u001b[0;36m1\u001b[0m\u001b[0;34m)\u001b[0m\u001b[0;34m\u001b[0m\u001b[0;34m\u001b[0m\u001b[0m\n\u001b[0m\u001b[1;32m     60\u001b[0m \u001b[0;34m\u001b[0m\u001b[0m\n\u001b[1;32m     61\u001b[0m         \u001b[0mq\u001b[0m \u001b[0;34m=\u001b[0m \u001b[0mprobtorch\u001b[0m\u001b[0;34m.\u001b[0m\u001b[0mTrace\u001b[0m\u001b[0;34m(\u001b[0m\u001b[0;34m)\u001b[0m\u001b[0;34m\u001b[0m\u001b[0;34m\u001b[0m\u001b[0m\n",
      "\u001b[0;32m~/anaconda3/envs/dev/lib/python3.6/site-packages/torch/nn/functional.py\u001b[0m in \u001b[0;36msoftmax\u001b[0;34m(input, dim, _stacklevel, dtype)\u001b[0m\n\u001b[1;32m   1186\u001b[0m         \u001b[0mdim\u001b[0m \u001b[0;34m=\u001b[0m \u001b[0mtorch\u001b[0m\u001b[0;34m.\u001b[0m\u001b[0mjit\u001b[0m\u001b[0;34m.\u001b[0m\u001b[0m_unwrap_optional\u001b[0m\u001b[0;34m(\u001b[0m\u001b[0mdim\u001b[0m\u001b[0;34m)\u001b[0m\u001b[0;34m\u001b[0m\u001b[0;34m\u001b[0m\u001b[0m\n\u001b[1;32m   1187\u001b[0m     \u001b[0;32mif\u001b[0m \u001b[0mdtype\u001b[0m \u001b[0;32mis\u001b[0m \u001b[0;32mNone\u001b[0m\u001b[0;34m:\u001b[0m\u001b[0;34m\u001b[0m\u001b[0;34m\u001b[0m\u001b[0m\n\u001b[0;32m-> 1188\u001b[0;31m         \u001b[0mret\u001b[0m \u001b[0;34m=\u001b[0m \u001b[0minput\u001b[0m\u001b[0;34m.\u001b[0m\u001b[0msoftmax\u001b[0m\u001b[0;34m(\u001b[0m\u001b[0mdim\u001b[0m\u001b[0;34m)\u001b[0m\u001b[0;34m\u001b[0m\u001b[0;34m\u001b[0m\u001b[0m\n\u001b[0m\u001b[1;32m   1189\u001b[0m     \u001b[0;32melse\u001b[0m\u001b[0;34m:\u001b[0m\u001b[0;34m\u001b[0m\u001b[0;34m\u001b[0m\u001b[0m\n\u001b[1;32m   1190\u001b[0m         \u001b[0mdtype\u001b[0m \u001b[0;34m=\u001b[0m \u001b[0mtorch\u001b[0m\u001b[0;34m.\u001b[0m\u001b[0mjit\u001b[0m\u001b[0;34m.\u001b[0m\u001b[0m_unwrap_optional\u001b[0m\u001b[0;34m(\u001b[0m\u001b[0mdtype\u001b[0m\u001b[0;34m)\u001b[0m\u001b[0;34m\u001b[0m\u001b[0;34m\u001b[0m\u001b[0m\n",
      "\u001b[0;31mKeyboardInterrupt\u001b[0m: "
     ]
    }
   ],
   "source": [
    "EUBOs = []\n",
    "ELBOs = []\n",
    "ESSs = []\n",
    "\n",
    "flog = open('results/log-' + PATH + '.txt', 'w+')\n",
    "flog.write('EUBO\\tELBO\\tESS\\n')\n",
    "flog.close()\n",
    "for epoch in range(NUM_EPOCHS):\n",
    "    time_start = time.time()\n",
    "    indices = torch.randperm(NUM_SEQS)\n",
    "    EUBO = 0.0\n",
    "    ELBO = 0.01\n",
    "    ESS = 0.0\n",
    "    for step in range(NUM_BATCHES):\n",
    "        optimizer.zero_grad()\n",
    "        batch_indices = indices[step*BATCH_SIZE : (step+1)*BATCH_SIZE]\n",
    "        obs = Xs[batch_indices]\n",
    "        obs_mu = OBS_MU[batch_indices].repeat(SAMPLE_SIZE, 1, 1, 1)\n",
    "        obs = shuffler(obs).repeat(SAMPLE_SIZE, 1, 1, 1)\n",
    "        if CUDA:\n",
    "            obs = obs.cuda().to(gpu)\n",
    "            obs_mu = obs_mu.cuda().to(gpu)\n",
    "        eubo, elbo, ess = Eubo(enc_z, obs, obs_mu, N, K, D, SAMPLE_SIZE, BATCH_SIZE, gpu, epoch)\n",
    "        ## gradient step\n",
    "        eubo.backward()\n",
    "        optimizer.step()\n",
    "        EUBO += eubo.item()\n",
    "        ELBO += elbo.item()\n",
    "        ESS += ess.item()\n",
    "    EUBOs.append(EUBO / NUM_BATCHES)\n",
    "    ELBOs.append(ELBO / NUM_BATCHES)\n",
    "    ESSs.append(ESS / NUM_BATCHES) \n",
    "    flog = open('results/log-' + PATH + '.txt', 'a+')\n",
    "    print('%.3f\\t%.3f\\t%.3f'\n",
    "            % (EUBO/NUM_BATCHES, ELBO/NUM_BATCHES, ESS/NUM_BATCHES), file=flog)\n",
    "    flog.close()\n",
    "    time_end = time.time()\n",
    "    print('epoch=%d, EUBO=%.3f, ELBO=%.3f, ESS=%.3f (%ds)'\n",
    "            % (epoch, EUBO/NUM_BATCHES, ELBO/NUM_BATCHES, ESS/NUM_BATCHES, \n",
    "               time_end - time_start))"
   ]
  },
  {
   "cell_type": "code",
   "execution_count": null,
   "metadata": {},
   "outputs": [],
   "source": [
    "a = np.exp(np.arange(50) * np.log(0.99))\n",
    "plt.plot(a)"
   ]
  },
  {
   "cell_type": "code",
   "execution_count": null,
   "metadata": {},
   "outputs": [],
   "source": [
    "BATCH_SIZE_TEST = 20\n",
    "\n",
    "def sample_single_batch(num_seqs, Xs, OBS_MU, sample_size, batch_size, gpu):\n",
    "    indices = torch.randperm(num_seqs)\n",
    "    batch_indices = indices[0*batch_size : (0+1)*batch_size]\n",
    "    obs = Xs[batch_indices]\n",
    "    obs_mu = OBS_MU[batch_indices].repeat(sample_size, 1, 1, 1)\n",
    "    obs = shuffler(obs).repeat(sample_size, 1, 1, 1)\n",
    "    if CUDA:\n",
    "        obs = obs.cuda().to(gpu)\n",
    "        obs_mu = obs_mu.cuda().to(gpu)\n",
    "    return obs, obs_mu\n",
    "\n",
    "def test(enc_z, obs, obs_mu, sample_size, batch_size):\n",
    "        ## update z -- cluster assignments\n",
    "    q_z, p_z = enc_z(obs, obs_mu, sample_size, batch_size, 0)\n",
    "    return q_z\n",
    "\n",
    "def plot_samples(obs, q_eta, q_z, K, batch_size, PATH):\n",
    "    colors = ['r', 'b', 'g']\n",
    "    fig = plt.figure(figsize=(25,20))\n",
    "    xs = obs[0].cpu().data.numpy()\n",
    "    mu = obs_mu[0].cpu().data.numpy()\n",
    "    zs = q_z['zs'].dist.probs[0].cpu().data.numpy()\n",
    "    for b in range(batch_size):\n",
    "        ax = fig.add_subplot(int(batch_size / 5), 5, b+1)\n",
    "        x = xs[b]\n",
    "        z = zs[b]\n",
    "        mu_b = mu[b]\n",
    "        assignments = z.argmax(-1)\n",
    "        for k in range(K):\n",
    "            xk = x[np.where(assignments == k)]\n",
    "            ax.scatter(xk[:, 0], xk[:, 1], c=colors[k], alpha=0.2)\n",
    "            ax.scatter(mu_b[k, 0], mu_b[k, 1], c=colors[k])\n",
    "        ax.set_ylim([-5, 5])\n",
    "        ax.set_xlim([-5, 5])\n",
    "    plt.savefig('results/modes-' + PATH + '.svg')\n",
    "    \n",
    "obs, obs_mu = sample_single_batch(NUM_SEQS, Xs, OBS_MU, SAMPLE_SIZE, BATCH_SIZE_TEST, gpu)\n",
    "q_z = test(enc_z, obs, obs_mu, SAMPLE_SIZE, BATCH_SIZE_TEST)\n",
    "%time plot_samples(obs, obs_mu, q_z, K, BATCH_SIZE_TEST, PATH)"
   ]
  },
  {
   "cell_type": "code",
   "execution_count": null,
   "metadata": {},
   "outputs": [],
   "source": [
    "ob1 = obs[0, 0].cpu().data.numpy()"
   ]
  },
  {
   "cell_type": "code",
   "execution_count": null,
   "metadata": {},
   "outputs": [],
   "source": [
    "fig = plt.figure(figsize=(5,5))\n",
    "ax = fig.add_subplot(111)\n",
    "ax.scatter(ob1[:, 0], ob1[:, 1])\n",
    "ax.set_xlim([-5,5])\n",
    "ax.set_ylim([-5,5])"
   ]
  },
  {
   "cell_type": "code",
   "execution_count": null,
   "metadata": {},
   "outputs": [],
   "source": [
    "def test(enc_z, obs, obs_mu, sample_size, batch_size):\n",
    "        ## update z -- cluster assignments\n",
    "    q_z, p_z = enc_z(obs, obs_mu, sample_size, batch_size)\n",
    "    log_p_z = p_z['zs'].log_prob\n",
    "    log_q_z = q_z['zs'].log_prob ## S * B * N\n",
    "    states = q_z['zs'].value\n",
    "    log_obs_n = True_Log_likelihood(obs, states, obs_mu, K, D, radius=1.5, noise_sigma = 0.05, gpu=gpu, cluster_flag=False)\n",
    "    log_weights_local = log_obs_n + log_p_z - log_q_z\n",
    "    return log_p_z, log_q_z, log_obs_n, log_weights_local\n",
    "\n",
    "log_p_z, log_q_z, log_obs_n, log_weights_local = test(enc_z, obs, obs_mu, SAMPLE_SIZE, BATCH_SIZE_TEST)"
   ]
  },
  {
   "cell_type": "code",
   "execution_count": null,
   "metadata": {},
   "outputs": [],
   "source": [
    "colors = ['r', 'b', 'g']\n",
    "fig = plt.figure(figsize=(5,5))\n",
    "ax = fig.add_subplot(111)\n",
    "x = obs[0, 0].cpu().data.numpy()\n",
    "mu = obs_mu[0, 0].cpu().data.numpy()\n",
    "z = q_z['zs'].dist.probs[0].cpu().data.numpy()[0]\n",
    "assignments = z.argmax(-1)\n",
    "for k in range(K):\n",
    "    xk = x[np.where(assignments == k)]\n",
    "    ax.scatter(xk[:, 0], xk[:, 1], c=colors[k], alpha=0.2)\n",
    "    ax.scatter(mu[k, 0], mu[k, 1], c=colors[k])\n",
    "    if k == 2:\n",
    "        xk1 = xk\n",
    "ax.set_ylim([-5, 5])\n",
    "ax.set_xlim([-5, 5])"
   ]
  },
  {
   "cell_type": "code",
   "execution_count": null,
   "metadata": {},
   "outputs": [],
   "source": [
    "plt.scatter(xk1[:,0], xk1[:,1])"
   ]
  },
  {
   "cell_type": "code",
   "execution_count": null,
   "metadata": {},
   "outputs": [],
   "source": [
    "mu1 = obs_mu[0, 0].cpu()\n",
    "ob1 = torch.from_numpy(xk1).float()\n",
    "Nk = ob1.shape[0]\n",
    "mu1_exp = mu1.unsqueeze(-2).repeat(1, Nk, 1) #  K * N * D\n",
    "ob1_exp = ob1.unsqueeze(0).repeat(K, 1, 1) #  K * N * D\n",
    "distance = ((ob1_exp - mu1_exp)**2).sum(-1).sqrt()"
   ]
  },
  {
   "cell_type": "code",
   "execution_count": null,
   "metadata": {},
   "outputs": [],
   "source": [
    "distance"
   ]
  },
  {
   "cell_type": "code",
   "execution_count": null,
   "metadata": {},
   "outputs": [],
   "source": [
    "obs_dist = Normal(torch.ones(1) * 1.5, torch.ones(1) * 0.05)\n",
    "log_distance = obs_dist.log_prob(distance) / (2*math.pi*distance)\n",
    "log_distance = log_distance.transpose(0, 1) # N * K   \n"
   ]
  },
  {
   "cell_type": "code",
   "execution_count": null,
   "metadata": {},
   "outputs": [],
   "source": [
    "log_distance.shape"
   ]
  },
  {
   "cell_type": "code",
   "execution_count": null,
   "metadata": {},
   "outputs": [],
   "source": [
    "z1 = F.softmax(log_distance, -1)\n",
    "aa1 = z1.argmax(-1)\n",
    "mu1_np = mu1.data.numpy()\n",
    "fig = plt.figure(figsize=(5,5))\n",
    "ax = fig.add_subplot(111)\n",
    "for k in range(K):\n",
    "    xk = xk1[np.where(aa1 == k)]\n",
    "    ax.scatter(xk[:, 0], xk[:, 1], c=colors[k], alpha=0.2)\n",
    "    ax.scatter(mu1_np[k, 0], mu1_np[k, 1], c=colors[k])\n",
    "    if k == 2:\n",
    "        aaa = xk\n",
    "ax.set_ylim([-5, 5])\n",
    "ax.set_xlim([-5, 5])"
   ]
  },
  {
   "cell_type": "code",
   "execution_count": null,
   "metadata": {},
   "outputs": [],
   "source": [
    "z1"
   ]
  },
  {
   "cell_type": "code",
   "execution_count": null,
   "metadata": {},
   "outputs": [],
   "source": []
  }
 ],
 "metadata": {
  "kernelspec": {
   "display_name": "Python 3",
   "language": "python",
   "name": "python3"
  },
  "language_info": {
   "codemirror_mode": {
    "name": "ipython",
    "version": 3
   },
   "file_extension": ".py",
   "mimetype": "text/x-python",
   "name": "python",
   "nbconvert_exporter": "python",
   "pygments_lexer": "ipython3",
   "version": "3.6.7"
  }
 },
 "nbformat": 4,
 "nbformat_minor": 2
}
