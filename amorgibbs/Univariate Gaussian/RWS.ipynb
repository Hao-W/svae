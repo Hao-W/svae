{
 "cells": [
  {
   "cell_type": "code",
   "execution_count": 1,
   "metadata": {},
   "outputs": [],
   "source": [
    "import matplotlib.pyplot as plt\n",
    "import time\n",
    "import torch\n",
    "from torch import logsumexp\n",
    "from torch.distributions.normal import Normal\n",
    "import numpy as np\n",
    "from utils import *\n",
    "from plots import *\n",
    "from objectives import *"
   ]
  },
  {
   "cell_type": "code",
   "execution_count": 4,
   "metadata": {},
   "outputs": [],
   "source": [
    "iterations = 100000\n",
    "num_samples = 20\n",
    "p_mu = 0.0\n",
    "p_sigma2 = 1.0\n",
    "\n",
    "LEARNING_RATE = 1e-3\n",
    "log_Z = np.log(np.sqrt((2*np.pi)))\n",
    "\n",
    "q_mu = torch.tensor([6.0], requires_grad=True)\n",
    "q_sigma = torch.tensor([2.0], requires_grad=True) \n",
    "optimizer = torch.optim.SGD([q_mu, q_sigma], lr=LEARNING_RATE)\n"
   ]
  },
  {
   "cell_type": "code",
   "execution_count": 5,
   "metadata": {},
   "outputs": [
    {
     "name": "stdout",
     "output_type": "stream",
     "text": [
      "iteration:0, EUBO:4.685, ELBO:1.705, ESS:1.004 (0s)\n",
      "iteration:1000, EUBO:3.459, ELBO:1.682, ESS:2.943 (0s)\n",
      "iteration:2000, EUBO:2.598, ELBO:0.888, ESS:3.027 (0s)\n",
      "iteration:3000, EUBO:2.347, ELBO:1.163, ESS:5.026 (0s)\n",
      "iteration:4000, EUBO:2.319, ELBO:0.612, ESS:2.924 (0s)\n",
      "iteration:5000, EUBO:2.488, ELBO:0.984, ESS:4.015 (0s)\n",
      "iteration:6000, EUBO:2.053, ELBO:0.806, ESS:4.612 (0s)\n",
      "iteration:7000, EUBO:2.000, ELBO:0.904, ESS:5.219 (0s)\n",
      "iteration:8000, EUBO:2.248, ELBO:1.341, ESS:7.345 (0s)\n",
      "iteration:9000, EUBO:2.059, ELBO:0.994, ESS:6.027 (0s)\n",
      "iteration:10000, EUBO:2.240, ELBO:1.223, ESS:6.578 (0s)\n",
      "iteration:11000, EUBO:2.267, ELBO:1.175, ESS:6.223 (0s)\n",
      "iteration:12000, EUBO:1.932, ELBO:1.022, ESS:7.239 (0s)\n",
      "iteration:13000, EUBO:1.634, ELBO:0.773, ESS:7.113 (0s)\n",
      "iteration:14000, EUBO:1.860, ELBO:1.145, ESS:8.728 (0s)\n",
      "iteration:15000, EUBO:1.395, ELBO:0.802, ESS:9.952 (0s)\n",
      "iteration:16000, EUBO:1.767, ELBO:1.159, ESS:9.924 (0s)\n",
      "iteration:17000, EUBO:1.505, ELBO:1.027, ESS:11.117 (0s)\n",
      "iteration:18000, EUBO:1.287, ELBO:0.704, ESS:9.364 (0s)\n",
      "iteration:19000, EUBO:1.278, ELBO:0.867, ESS:11.804 (0s)\n",
      "iteration:20000, EUBO:1.163, ELBO:0.920, ESS:14.249 (0s)\n",
      "iteration:21000, EUBO:1.010, ELBO:0.907, ESS:16.978 (0s)\n",
      "iteration:22000, EUBO:0.888, ELBO:0.824, ESS:18.013 (0s)\n",
      "iteration:23000, EUBO:0.965, ELBO:0.963, ESS:19.948 (0s)\n",
      "iteration:24000, EUBO:0.911, ELBO:0.911, ESS:19.983 (0s)\n",
      "iteration:25000, EUBO:0.924, ELBO:0.924, ESS:19.996 (0s)\n",
      "iteration:26000, EUBO:0.919, ELBO:0.919, ESS:19.998 (0s)\n",
      "iteration:27000, EUBO:0.917, ELBO:0.917, ESS:19.999 (0s)\n",
      "iteration:28000, EUBO:0.920, ELBO:0.920, ESS:20.000 (0s)\n"
     ]
    },
    {
     "ename": "KeyboardInterrupt",
     "evalue": "",
     "output_type": "error",
     "traceback": [
      "\u001b[0;31m---------------------------------------------------------------------------\u001b[0m",
      "\u001b[0;31mKeyboardInterrupt\u001b[0m                         Traceback (most recent call last)",
      "\u001b[0;32m<ipython-input-5-6c7147c03e8f>\u001b[0m in \u001b[0;36m<module>\u001b[0;34m()\u001b[0m\n\u001b[0;32m----> 1\u001b[0;31m \u001b[0mEUBO\u001b[0m\u001b[0;34m,\u001b[0m \u001b[0mELBO\u001b[0m\u001b[0;34m,\u001b[0m \u001b[0mMu\u001b[0m\u001b[0;34m,\u001b[0m \u001b[0mSigma\u001b[0m\u001b[0;34m,\u001b[0m \u001b[0mGrad_mu\u001b[0m\u001b[0;34m,\u001b[0m \u001b[0mGrad_sigma\u001b[0m\u001b[0;34m,\u001b[0m \u001b[0mESS\u001b[0m \u001b[0;34m=\u001b[0m \u001b[0mrws\u001b[0m\u001b[0;34m(\u001b[0m\u001b[0mnum_samples\u001b[0m\u001b[0;34m,\u001b[0m \u001b[0mq_mu\u001b[0m\u001b[0;34m,\u001b[0m \u001b[0mq_sigma\u001b[0m\u001b[0;34m,\u001b[0m \u001b[0mp_mu\u001b[0m\u001b[0;34m,\u001b[0m \u001b[0mp_sigma2\u001b[0m\u001b[0;34m,\u001b[0m \u001b[0miterations\u001b[0m\u001b[0;34m,\u001b[0m \u001b[0moptimizer\u001b[0m\u001b[0;34m)\u001b[0m\u001b[0;34m\u001b[0m\u001b[0;34m\u001b[0m\u001b[0m\n\u001b[0m",
      "\u001b[0;32m~/Research/amortized/amorgibbs/Univariate Gaussian/objectives.py\u001b[0m in \u001b[0;36mrws\u001b[0;34m(num_samples, q_mu, q_sigma, p_mu, p_sigma2, iterations, optimizer)\u001b[0m\n\u001b[1;32m    100\u001b[0m         \u001b[0mlog_p\u001b[0m \u001b[0;34m=\u001b[0m \u001b[0;34m(\u001b[0m\u001b[0;34m-\u001b[0m\u001b[0;36m1.0\u001b[0m \u001b[0;34m/\u001b[0m \u001b[0;34m(\u001b[0m\u001b[0mp_sigma2\u001b[0m \u001b[0;34m*\u001b[0m\u001b[0;36m2.0\u001b[0m\u001b[0;34m)\u001b[0m\u001b[0;34m)\u001b[0m \u001b[0;34m*\u001b[0m \u001b[0;34m(\u001b[0m\u001b[0;34m(\u001b[0m\u001b[0mxs\u001b[0m \u001b[0;34m-\u001b[0m \u001b[0mp_mu\u001b[0m\u001b[0;34m)\u001b[0m \u001b[0;34m**\u001b[0m \u001b[0;36m2\u001b[0m\u001b[0;34m)\u001b[0m\u001b[0;34m\u001b[0m\u001b[0;34m\u001b[0m\u001b[0m\n\u001b[1;32m    101\u001b[0m         \u001b[0mlog_q\u001b[0m \u001b[0;34m=\u001b[0m \u001b[0mq\u001b[0m\u001b[0;34m.\u001b[0m\u001b[0mlog_prob\u001b[0m\u001b[0;34m(\u001b[0m\u001b[0mxs\u001b[0m\u001b[0;34m)\u001b[0m\u001b[0;34m\u001b[0m\u001b[0;34m\u001b[0m\u001b[0m\n\u001b[0;32m--> 102\u001b[0;31m         \u001b[0mlog_weights\u001b[0m \u001b[0;34m=\u001b[0m \u001b[0mlog_p\u001b[0m \u001b[0;34m-\u001b[0m \u001b[0mlog_q\u001b[0m\u001b[0;34m\u001b[0m\u001b[0;34m\u001b[0m\u001b[0m\n\u001b[0m\u001b[1;32m    103\u001b[0m         \u001b[0mweights\u001b[0m \u001b[0;34m=\u001b[0m \u001b[0mtorch\u001b[0m\u001b[0;34m.\u001b[0m\u001b[0mexp\u001b[0m\u001b[0;34m(\u001b[0m\u001b[0mlog_weights\u001b[0m \u001b[0;34m-\u001b[0m \u001b[0mlogsumexp\u001b[0m\u001b[0;34m(\u001b[0m\u001b[0mlog_weights\u001b[0m\u001b[0;34m,\u001b[0m \u001b[0mdim\u001b[0m\u001b[0;34m=\u001b[0m\u001b[0;36m0\u001b[0m\u001b[0;34m)\u001b[0m\u001b[0;34m)\u001b[0m\u001b[0;34m.\u001b[0m\u001b[0mdetach\u001b[0m\u001b[0;34m(\u001b[0m\u001b[0;34m)\u001b[0m\u001b[0;34m\u001b[0m\u001b[0;34m\u001b[0m\u001b[0m\n\u001b[1;32m    104\u001b[0m         \u001b[0mess\u001b[0m \u001b[0;34m=\u001b[0m \u001b[0;36m1.\u001b[0m \u001b[0;34m/\u001b[0m \u001b[0;34m(\u001b[0m\u001b[0mweights\u001b[0m \u001b[0;34m**\u001b[0m \u001b[0;36m2\u001b[0m\u001b[0;34m)\u001b[0m\u001b[0;34m.\u001b[0m\u001b[0msum\u001b[0m\u001b[0;34m(\u001b[0m\u001b[0;34m)\u001b[0m\u001b[0;34m\u001b[0m\u001b[0;34m\u001b[0m\u001b[0m\n",
      "\u001b[0;31mKeyboardInterrupt\u001b[0m: "
     ]
    }
   ],
   "source": [
    "EUBO, ELBO, Mu, Sigma, Grad_mu, Grad_sigma, ESS = rws(num_samples, q_mu, q_sigma, p_mu, p_sigma2, iterations, optimizer)\n"
   ]
  },
  {
   "cell_type": "code",
   "execution_count": null,
   "metadata": {},
   "outputs": [],
   "source": [
    "eg_mu, eg2_mu, var_mu, snr_mu = SNR(np.array(Grad_mu), iterations, beta1=0.99, beta2=0.999)    \n",
    "eg_sigma, eg2_sigma, var_sigma, snr_sigma = SNR(np.array(Grad_sigma), iterations, beta1=0.99, beta2=0.999)    "
   ]
  },
  {
   "cell_type": "code",
   "execution_count": null,
   "metadata": {},
   "outputs": [],
   "source": [
    "def plot_results(EUBO, ELBO, ESS, num_samples, snr_mu, snr_sigma):\n",
    "    fig = plt.figure(figsize=(10,10))\n",
    "    ax1, ax2, ax3 = fig.subplots(3, 1, sharex=True)\n",
    "    plt.tight_layout()\n",
    "    ax1.plot(EUBO, 'r', label='EUBOs')\n",
    "    ax1.plot(ELBO, 'b', label='ELBOs')\n",
    "    ax1.legend()\n",
    "    ## SNR\n",
    "    ax2.plot(snr_sigma, label='SNR_sigma')\n",
    "    ax2.plot(snr_mu, label='SNR_mu')\n",
    "    ax2.legend()\n",
    "    # ax2.set_ylim([-1,5])\n",
    "    ## ESS\n",
    "    ess_ratio = np.array(ESS) / num_samples\n",
    "    ave_ess = np.reshape(ess_ratio, (-1, 10)).mean(-1)\n",
    "    N = ave_ess.shape[0]\n",
    "    ax3.plot(np.arange(N) * 10, ave_ess, 'go', label='ESS')\n",
    "    ax3.set_ylim([0, 1])\n",
    "plot_results(EUBO, ELBO, ESS, num_samples, snr_mu, snr_sigma)"
   ]
  },
  {
   "cell_type": "code",
   "execution_count": null,
   "metadata": {},
   "outputs": [],
   "source": []
  },
  {
   "cell_type": "code",
   "execution_count": null,
   "metadata": {},
   "outputs": [],
   "source": []
  }
 ],
 "metadata": {
  "kernelspec": {
   "display_name": "Python 3",
   "language": "python",
   "name": "python3"
  },
  "language_info": {
   "codemirror_mode": {
    "name": "ipython",
    "version": 3
   },
   "file_extension": ".py",
   "mimetype": "text/x-python",
   "name": "python",
   "nbconvert_exporter": "python",
   "pygments_lexer": "ipython3",
   "version": "3.6.7"
  }
 },
 "nbformat": 4,
 "nbformat_minor": 2
}
