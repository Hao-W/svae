{
 "cells": [
  {
   "cell_type": "code",
   "execution_count": null,
   "metadata": {},
   "outputs": [],
   "source": [
    "import matplotlib.pyplot as plt\n",
    "import matplotlib.gridspec as gridspec\n",
    "import time\n",
    "import torch\n",
    "from torch import logsumexp\n",
    "from torch.distributions.multivariate_normal import MultivariateNormal\n",
    "from torch.distributions.normal import Normal\n",
    "import numpy as np"
   ]
  },
  {
   "cell_type": "code",
   "execution_count": null,
   "metadata": {},
   "outputs": [],
   "source": [
    "iterations = 6000\n",
    "num_samples = 100\n",
    "p_mu = 0.0\n",
    "\n",
    "lr = 5*1e-3\n",
    "log_Z = np.log(np.sqrt((2*np.pi)))"
   ]
  },
  {
   "cell_type": "code",
   "execution_count": null,
   "metadata": {},
   "outputs": [],
   "source": [
    "def rws(num_samples, q_mu, q_sigma, lr):\n",
    "    EUBO = []\n",
    "    ELBO = []\n",
    "    Mu = []\n",
    "    Grad_mu = []\n",
    "    SNR_mu = []\n",
    "    for i in range(iterations):\n",
    "        proposal = Normal(q_mu, q_sigma)\n",
    "        xs = proposal.sample((num_samples,))\n",
    "        log_gammas = (-1.0 / 2.0) * ((xs - p_mu) ** 2)\n",
    "        log_q = proposal.log_prob(xs)\n",
    "\n",
    "        log_weights = log_gammas - log_q\n",
    "        weights = torch.exp(log_weights - logsumexp(log_weights, dim=0)).detach()\n",
    "        eubo = torch.mul(weights, log_weights).sum()\n",
    "        elbo = log_weights.mean()\n",
    "        gradient = torch.autograd.grad(eubo, q_mu)\n",
    "        q_mu = q_mu - lr * gradient[0]\n",
    "        EUBO.append(eubo.item())\n",
    "        ELBO.append(elbo.item())\n",
    "        Mu.append(q_mu.item())\n",
    "        SNR_mu.append()\n",
    "        Grad_mu.append(gradient[0].item())\n",
    "#         AdamGrad = smooth_exponential(Grad, adam_b1) / (smooth_exponential(Grad, adam_b2) ** 0.5) \n",
    "    return EUBO, ELBO, Mu, Grad_mu, SNR_mu"
   ]
  },
  {
   "cell_type": "code",
   "execution_count": null,
   "metadata": {},
   "outputs": [],
   "source": [
    "def train(mu, init_sigmas, num_samples, lr):\n",
    "    num_sigmas = init_sigmas.shape[0]\n",
    "    EUBOs = []\n",
    "    ELBOs = []\n",
    "    Grad_mus = []\n",
    "    Mus = []\n",
    "    SNR_mus = []\n",
    "    for j in range(num_sigmas):\n",
    "        time_start = time.time()\n",
    "        q_mu = torch.tensor([1.0], requires_grad=True) * mu\n",
    "        q_sigma = torch.tensor([1.0]) * init_sigmas[j]\n",
    "        EUBO, ELBO, Mu, Grad_mu, SNR_mu = rws(num_samples, q_mu, q_sigma, lr)\n",
    "        EUBOs.append(EUBO)\n",
    "        ELBOs.append(ELBO)\n",
    "        Mus.append(Mu)\n",
    "        Grad_mus.append(Grad_mu)\n",
    "        SNR_mus.append(SNR_mu)\n",
    "        time_end = time.time()\n",
    "        print('init_mu=%d, init_sigma=%d, samples : %d (%ds)' % (init_mus[i], init_sigmas[j], num_samples, time_end - time_start))    \n",
    "    return EUBOs, ELBOs, Mus, Grad_mus, SNR_mus"
   ]
  },
  {
   "cell_type": "code",
   "execution_count": null,
   "metadata": {},
   "outputs": [],
   "source": [
    "def plot_results(EUBOs, ELBOs, Mus, Grad_mus, SNR_mus, mu, init_sigmas, num_samples):\n",
    "    num_sigmas = init_sigmas.shape[0]\n",
    "    fig = plt.figure(figsize=(20, 15))\n",
    "    for j in range(num_sigmas):\n",
    "        fig.tight_layout()\n",
    "        ax1 = fig.add_subplot(num_sigmas, 3, j*3 + 1)\n",
    "        ax2 = fig.add_subplot(num_sigmas, 3, j*3 + 2)\n",
    "        ax3 = fig.add_subplot(num_sigmas, 3, j*3 + 3)\n",
    "        ax1.plot(EUBOs[j], 'r', label='EUBOs')\n",
    "        ax1.plot(ELBOs[j], 'b', label='ELBOs')\n",
    "        ax1.plot(np.ones(iterations) * log_Z, 'k', label='log_Z')\n",
    "        ax1.set_ylim([-50, 20])\n",
    "        ax1.tick_params(labelsize=14)\n",
    "        ax2.plot(Mus[j], 'm', label='mu')\n",
    "        ax2.tick_params(labelsize=14)\n",
    "        ax3.plot(Grad_mus[j], 'g', label='grad mu')\n",
    "        ax3.tick_params(labelsize=14)\n",
    "        ax3.set_ylim([-8, 3])        \n",
    "\n",
    "        ax1.set_title('mu=%d, sigma=%d, samples=%d' % (mu, init_sigmas[j], num_samples), fontsize=11)\n",
    "        if j == 0:\n",
    "            ax1.legend()\n",
    "            ax2.legend()\n",
    "            ax3.legend()\n",
    "\n",
    "    plt.savefig('univariate_gaussian_rws_onlylearn_mu=%d_samples=%d_iters=%d.svg' % (mu, num_samples, iterations))"
   ]
  },
  {
   "cell_type": "code",
   "execution_count": null,
   "metadata": {},
   "outputs": [],
   "source": [
    "init_mus = np.array([6, 8, 10])\n",
    "init_sigmas = np.array([1.0, 2.0, 4.0, 6.0])\n",
    "num_mus = init_mus.shape[0]\n",
    "\n",
    "for i in range(num_mus):\n",
    "    EUBOs, ELBOs, Mus, Grad_mus, SNR_mus = train(init_mus[i], init_sigmas, num_samples, lr)\n",
    "    plot_results(EUBOs, ELBOs, Mus, Grad_mus, SNR_mus, init_mus[i], init_sigmas, num_samples)"
   ]
  },
  {
   "cell_type": "code",
   "execution_count": null,
   "metadata": {},
   "outputs": [],
   "source": []
  }
 ],
 "metadata": {
  "kernelspec": {
   "display_name": "Python 3",
   "language": "python",
   "name": "python3"
  },
  "language_info": {
   "codemirror_mode": {
    "name": "ipython",
    "version": 3
   },
   "file_extension": ".py",
   "mimetype": "text/x-python",
   "name": "python",
   "nbconvert_exporter": "python",
   "pygments_lexer": "ipython3",
   "version": "3.6.7"
  }
 },
 "nbformat": 4,
 "nbformat_minor": 2
}
