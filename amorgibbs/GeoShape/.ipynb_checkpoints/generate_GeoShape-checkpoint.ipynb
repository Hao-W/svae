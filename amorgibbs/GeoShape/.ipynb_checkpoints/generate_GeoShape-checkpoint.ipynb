{
 "cells": [
  {
   "cell_type": "code",
   "execution_count": 1,
   "metadata": {},
   "outputs": [],
   "source": [
    "%matplotlib inline\n",
    "import matplotlib.pyplot as plt\n",
    "import torch\n",
    "import numpy as np\n",
    "import math"
   ]
  },
  {
   "cell_type": "code",
   "execution_count": 2,
   "metadata": {},
   "outputs": [],
   "source": [
    "N = 80\n",
    "thick = 0.4\n",
    "bound = 10.0\n",
    "dict_shapes = {'circle' : 0, 'square' : 1, 'triangle' : 2, 'cross' : 3}\n",
    "rad = 2.0\n",
    "noise_dist = 'uniform'\n",
    "period = 2"
   ]
  },
  {
   "cell_type": "code",
   "execution_count": 3,
   "metadata": {},
   "outputs": [],
   "source": [
    "def circle(N, rad, thick, period=1.0, noise_dist='uniform'):\n",
    "    rads = np.ones(N) * rad\n",
    "    if noise_dist == 'uniform':\n",
    "        noise = np.random.uniform(-thick / 2., thick / 2., N)\n",
    "    elif noise_dist == 'gaussian':\n",
    "        noise = np.random.normal(0.0, thick, N)\n",
    "    else:\n",
    "        print('error : noise distribution undefined...either uniform or gaussian')\n",
    "        return None\n",
    "    rads = rads + noise\n",
    "    angles = np.linspace(0, period * 2 * math.pi, N, endpoint=False)\n",
    "    x = np.cos(angles) * rads\n",
    "    y = np.sin(angles) * rads\n",
    "    fig = plt.figure(figsize=(5,5))\n",
    "    ax = fig.add_subplot(1,1,1)\n",
    "    ax.scatter(x, y)\n",
    "    return x, y"
   ]
  },
  {
   "cell_type": "code",
   "execution_count": 4,
   "metadata": {},
   "outputs": [
    {
     "data": {
      "image/png": "[encoded data removed]",
      "text/plain": [
       "<Figure size 360x360 with 1 Axes>"
      ]
     },
     "metadata": {},
     "output_type": "display_data"
    }
   ],
   "source": [
    "x, y = circle(N, rad, thick, period, noise_dist='uniform')"
   ]
  },
  {
   "cell_type": "code",
   "execution_count": 12,
   "metadata": {},
   "outputs": [],
   "source": [
    "def square(N, rad, thick, period=1.0, noise_dist='uniform'):\n",
    "    if noise_dist == 'uniform':\n",
    "        noise = np.random.uniform(-thick / 2., thick / 2., N)\n",
    "    elif noise_dist == 'gaussian':\n",
    "        noise = np.random.normal(0.0, thick, N)\n",
    "    else:\n",
    "        print('error : noise distribution undefined...either uniform or gaussian')\n",
    "        return None\n",
    "    \n",
    "    pts_edge = int((N / period) / 4.)\n",
    "    bottom_x = np.linspace(-rad, rad, pts_edge)\n",
    "    bottom_y = np.ones(pts_edge) * (-rad)\n",
    "    bottom_x = np.tile(bottom_x, period)\n",
    "    bottom_y = np.tile(bottom_y, period) + noise[:int(N/4.)]\n",
    "    \n",
    "    left_x = np.ones(pts_edge) * (-rad)\n",
    "    left_y = np.linspace(-rad, rad, pts_edge)\n",
    "    left_x = np.tile(left_x, period) + noise[int(N/4.) : int(N/2.)]\n",
    "    left_y = np.tile(left_y, period)\n",
    "    \n",
    "    top_x = np.linspace(-rad, rad, pts_edge)\n",
    "    top_y = np.ones(pts_edge) * (rad)\n",
    "    top_x = np.tile(top_x, period)\n",
    "    top_y = np.tile(top_y, period) + noise[int(N/2.) : int(N*3/4.)]\n",
    "    \n",
    "    right_x = np.ones(pts_edge) * (rad)\n",
    "    right_y = np.linspace(-rad, rad, pts_edge)\n",
    "    right_x = np.tile(right_x, period) + noise[int(N*3/4.) :]\n",
    "    right_y = np.tile(right_y, period)\n",
    "\n",
    "    x = np.concatenate((bottom_x, left_x, top_x, right_x), 0)\n",
    "    y = np.concatenate((bottom_y, left_y, top_y, right_y), 0)\n",
    "    fig = plt.figure(figsize=(5,5))\n",
    "    ax = fig.add_subplot(1,1,1)\n",
    "    ax.scatter(x, y)    \n",
    "    return x, y"
   ]
  },
  {
   "cell_type": "code",
   "execution_count": 13,
   "metadata": {},
   "outputs": [
    {
     "data": {
      "image/png": "[encoded data removed]",
      "text/plain": [
       "<Figure size 360x360 with 1 Axes>"
      ]
     },
     "metadata": {},
     "output_type": "display_data"
    }
   ],
   "source": [
    "x, y = square(N, rad, thick, period, noise_dist='uniform')"
   ]
  },
  {
   "cell_type": "code",
   "execution_count": 16,
   "metadata": {},
   "outputs": [],
   "source": [
    "def cross(N, rad, thick, period, noise_dist='uniform'):\n",
    "    if noise_dist == 'uniform':\n",
    "        noise = np.random.uniform(-thick / 2., thick / 2., N)\n",
    "    elif noise_dist == 'gaussian':\n",
    "        noise = np.random.normal(0.0, thick, N)\n",
    "    else:\n",
    "        print('error : noise distribution undefined...either uniform or gaussian')\n",
    "        return None\n",
    "    \n",
    "    rotate = np.array([[np.cos(math.pi/4.), - np.sin(math.pi/4.)], [np.sin(math.pi/4.), np.cos(math.pi/4.)]])\n",
    "    pts_edge = int((N / period) / 2.)\n",
    "    vertical_x = np.zeros(pts_edge)\n",
    "    vertical_y = np.linspace(-rad, rad, pts_edge)\n",
    "    vertical_x = np.tile(vertical_x, period) + noise[: int(N/2.)]\n",
    "    vertical_y = np.tile(vertical_y, period)\n",
    "    \n",
    "    horizontal_y = np.zeros(pts_edge)\n",
    "    horizontal_x = np.linspace(-rad, rad, pts_edge)\n",
    "    horizontal_x = np.tile(horizontal_x, period)\n",
    "    horizontal_y = np.tile(horizontal_y, period) + noise[int(N/2.):]\n",
    "    \n",
    "    x = np.concatenate((vertical_x, horizontal_x), 0)\n",
    "    y = np.concatenate((vertical_y, horizontal_y), 0)\n",
    "    pos = np.concatenate((x[None, :], y[None, :]), 0)\n",
    "    pos = np.dot(rotate, pos)\n",
    "    fig = plt.figure(figsize=(5,5))\n",
    "    ax = fig.add_subplot(1,1,1)\n",
    "    ax.scatter(pos[0], pos[1])    \n",
    "    return pos[0], pos[1]"
   ]
  },
  {
   "cell_type": "code",
   "execution_count": 20,
   "metadata": {},
   "outputs": [
    {
     "data": {
      "image/png": "[encoded data removed]",
      "text/plain": [
       "<Figure size 360x360 with 1 Axes>"
      ]
     },
     "metadata": {},
     "output_type": "display_data"
    }
   ],
   "source": [
    "x, y = cross(N, rad* np.sqrt(2), thick, period, noise_dist='uniform')"
   ]
  },
  {
   "cell_type": "code",
   "execution_count": 46,
   "metadata": {},
   "outputs": [],
   "source": [
    "def triangle(N, rad, thick, period, noise_dist='uniform'):\n",
    "    if noise_dist == 'uniform':\n",
    "        noise = np.random.uniform(-thick / 2., thick / 2., N)\n",
    "    elif noise_dist == 'gaussian':\n",
    "        noise = np.random.normal(0.0, thick, N)\n",
    "    else:\n",
    "        print('error : noise distribution undefined...either uniform or gaussian')\n",
    "        return None\n",
    "    \n",
    "    right_rotate = np.array([[np.cos(math.pi/6.), - np.sin(math.pi/6.)], [np.sin(math.pi/6.), np.cos(math.pi/6.)]])\n",
    "    left_rotate = np.array([[np.cos(math.pi/6.), np.sin(math.pi/6.)], [- np.sin(math.pi/6.), np.cos(math.pi/6.)]])\n",
    "    \n",
    "    pts_edge = int((N / period ) / 3.)\n",
    "    bottom_x = np.linspace(-rad, rad, pts_edge)\n",
    "    bottom_y = np.zeros(pts_edge)\n",
    "    bottom_x = np.tile(bottom_x, period)\n",
    "    bottom_y = np.tile(bottom_y, period) + noise[:pts_edge*period]\n",
    "    bottom_pos = np.concatenate((bottom_x[None, :], bottom_y[None, :]), 0)\n",
    "    \n",
    "    left_x = np.zeros(pts_edge)\n",
    "    left_y = np.linspace(0, 2*rad, pts_edge)\n",
    "    left_x = np.tile(left_x, period) + noise[pts_edge*period:pts_edge*period*2]\n",
    "    left_y = np.tile(left_y, period)    \n",
    "    left_pos = np.concatenate((left_x[None, :], left_y[None, :]), 0)\n",
    "    left_pos = np.dot(left_rotate, left_pos)\n",
    "    left_pos[0] = left_pos[0] - rad\n",
    "    \n",
    "    right_x = np.zeros(pts_edge)\n",
    "    right_y = np.linspace(0, 2*rad, pts_edge)\n",
    "    right_x = np.tile(right_x, period) + noise[pts_edge*period*2:pts_edge*period*3]\n",
    "    right_y = np.tile(right_y, period)\n",
    "    right_pos = np.concatenate((right_x[None, :], right_y[None, :]), 0)\n",
    "    right_pos = np.dot(right_rotate, right_pos) \n",
    "    right_pos[0] = right_pos[0] + rad\n",
    "    \n",
    "    pos = np.concatenate((bottom_pos, left_pos, right_pos), -1)\n",
    "    \n",
    "#     fig = plt.figure(figsize=(5,5))\n",
    "#     ax = fig.add_subplot(1,1,1)\n",
    "#     ax.scatter(pos[0], pos[1])  \n",
    "    return pos[0], pos[1]"
   ]
  },
  {
   "cell_type": "code",
   "execution_count": 48,
   "metadata": {},
   "outputs": [
    {
     "data": {
      "image/png": "[encoded data removed]",
      "text/plain": [
       "<Figure size 360x360 with 1 Axes>"
      ]
     },
     "metadata": {},
     "output_type": "display_data"
    }
   ],
   "source": [
    "x, y = triangle(N, rad, thick, period, noise_dist='uniform')"
   ]
  },
  {
   "cell_type": "code",
   "execution_count": null,
   "metadata": {},
   "outputs": [],
   "source": []
  }
 ],
 "metadata": {
  "kernelspec": {
   "display_name": "Python 3",
   "language": "python",
   "name": "python3"
  },
  "language_info": {
   "codemirror_mode": {
    "name": "ipython",
    "version": 3
   },
   "file_extension": ".py",
   "mimetype": "text/x-python",
   "name": "python",
   "nbconvert_exporter": "python",
   "pygments_lexer": "ipython3",
   "version": "3.6.7"
  }
 },
 "nbformat": 4,
 "nbformat_minor": 2
}
