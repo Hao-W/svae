{
 "cells": [
  {
   "cell_type": "code",
   "execution_count": 1,
   "metadata": {},
   "outputs": [],
   "source": [
    "%matplotlib inline\n",
    "import matplotlib.pyplot as plt\n",
    "import torch\n",
    "import numpy as np\n",
    "import math\n",
    "# from generate_geoshape import *"
   ]
  },
  {
   "cell_type": "code",
   "execution_count": 2,
   "metadata": {},
   "outputs": [],
   "source": [
    "N = 200\n",
    "thick = 0.05\n",
    "bound = 5.0\n",
    "rad = 1.0\n",
    "period = 5"
   ]
  },
  {
   "cell_type": "code",
   "execution_count": 3,
   "metadata": {},
   "outputs": [],
   "source": [
    "# pos = sim_shapes(bound, N, rad, thick, period, noise_dist='uniform')"
   ]
  },
  {
   "cell_type": "code",
   "execution_count": 4,
   "metadata": {},
   "outputs": [],
   "source": [
    "def circle(N, rad, thick, period, noise_dist):\n",
    "\n",
    "    if noise_dist == 'uniform':\n",
    "        noise = np.random.uniform(-thick / 2., thick / 2., N)\n",
    "        rads = np.ones(N) * rad + noise\n",
    "        angles = np.linspace(0, 2 * math.pi, int(N / period), endpoint=False)\n",
    "        x = np.cos(angles)\n",
    "        y = np.sin(angles) \n",
    "        pos = np.concatenate((x[None,:], y[None, :]), 0)\n",
    "        pos = np.tile(pos, period) * rads\n",
    "    elif noise_dist == 'gaussian':\n",
    "        angles = np.linspace(0, 2 * math.pi, int(N / period))\n",
    "        x = np.cos(angles) * rad\n",
    "        y = np.sin(angles) * rad\n",
    "        pos = np.concatenate((x[None,:], y[None, :]), 0)\n",
    "        noise = np.random.normal(0.0, thick, (2, N))\n",
    "        pos = np.tile(pos, period) + noise\n",
    "    else:\n",
    "        print('error : noise distribution undefined...either uniform or gaussian')\n",
    "        return None    \n",
    "#     fig = plt.figure(figsize=(5,5))\n",
    "#     ax = fig.add_subplot(1,1,1)\n",
    "#     ax.scatter(pos[0], pos[1])\n",
    "#     ax.set_xlim([-3,3])\n",
    "#     ax.set_ylim([-3,3])\n",
    "    return pos"
   ]
  },
  {
   "cell_type": "code",
   "execution_count": null,
   "metadata": {},
   "outputs": [],
   "source": [
    "pos = circle(N, rad, thick, period, noise_dist='gaussian')\n",
    "np.save('circles/obs.npy', pos)"
   ]
  },
  {
   "cell_type": "code",
   "execution_count": null,
   "metadata": {},
   "outputs": [],
   "source": [
    "def sim_cirlces(num_seqs, N, rad, thick, period, noise_dist):\n",
    "    Pos = np.zeros((num_seqs, 2, N))\n",
    "    Mus = np.zeros((num_seqs, 2))\n",
    "    Rads = np.zeros(num_seqs)\n",
    "    for i in range(num_seqs):\n",
    "        pos = circle(N, rad, thick, pe#         fig = plt.figure(figsize=(5,5))\n",
    "#         ax = fig.add_subplot(1,1,1)\n",
    "#         ax.scatter(Pos[i, 0], Pos[i,1])\n",
    "#         ax.set_xlim([-3,3])\n",
    "#         ax.set_ylim([-3,3])riod, noise_dist)\n",
    "        mu = np.random.uniform(-2, 2, 2)\n",
    "        Pos[i] = mu[:, None] + pos2\n",
    "        Mus[i] = mu\n",
    "        Rads[i] = rad\n",
    "#         fig = plt.figure(figsize=(5,5))\n",
    "#         ax = fig.add_subplot(1,1,1)\n",
    "#         ax.scatter(Pos[i, 0], Pos[i,1])\n",
    "#         ax.set_xlim([-3,3])\n",
    "#         ax.set_ylim([-3,3])\n",
    "    return Pos, Mus, Rads"
   ]
  },
  {
   "cell_type": "code",
   "execution_count": null,
   "metadata": {},
   "outputs": [],
   "source": [
    "num_seqs = 100\n",
    "Pos, Mus, Rads = sim_cirlces(num_seqs, N, rad, thick, period, noise_dist='gaussian')\n",
    "np.save('circles/obs.npy', Pos)\n",
    "np.save('circles/mus.npy', Mus)\n",
    "np.save('circles/rads.npy', Rads)"
   ]
  },
  {
   "cell_type": "code",
   "execution_count": 16,
   "metadata": {},
   "outputs": [],
   "source": [
    "def square(N, rad, thick, period, noise_dist):\n",
    "    if noise_dist == 'uniform':\n",
    "        noise = np.random.uniform(-thick / 2., thick / 2., N)\n",
    "    elif noise_dist == 'gaussian':\n",
    "        noise = np.random.normal(0.0, thick, (2, N))\n",
    "    else:\n",
    "        print('error : noise distribution undefined...either uniform or gaussian')\n",
    "        return None\n",
    "    rotate = np.array([[np.cos(math.pi/4.), - np.sin(math.pi/4.)], [np.sin(math.pi/4.), np.cos(math.pi/4.)]])\n",
    "    \n",
    "    pts_edge = int((N / period) / 4.)\n",
    "    bottom_x = np.linspace(-rad, rad, pts_edge)\n",
    "    bottom_y = np.ones(pts_edge) * (-rad)\n",
    "    \n",
    "    left_x = np.ones(pts_edge) * (-rad)\n",
    "    left_y = np.linspace(-rad, rad, pts_edge)\n",
    "    \n",
    "    top_x = np.linspace(-rad, rad, pts_edge)\n",
    "    top_y = np.ones(pts_edge) * (rad)\n",
    " \n",
    "    right_x = np.ones(pts_edge) * (rad)\n",
    "    right_y = np.linspace(-rad, rad, pts_edge)\n",
    "\n",
    "\n",
    "    x = np.concatenate((bottom_x, left_x, top_x, right_x), 0)\n",
    "    y = np.concatenate((bottom_y, left_y, top_y, right_y), 0)\n",
    "    x = np.tile(x, period)\n",
    "    y = np.tile(y, period)\n",
    "    pos = np.concatenate((x[None,:], y[None, :]), 0) + noise\n",
    "#     pos = np.dot(rotate, pos)\n",
    "#     fig = plt.figure(figsize=(5,5))\n",
    "#     ax = fig.add_subplot(1,1,1)\n",
    "#     ax.scatter(pos[0], pos[1])\n",
    "#     ax.set_xlim([-3,3])\n",
    "#     ax.set_ylim([-3,3])\n",
    "    return pos"
   ]
  },
  {
   "cell_type": "code",
   "execution_count": null,
   "metadata": {},
   "outputs": [],
   "source": [
    "N = 200\n",
    "period = 5\n",
    "rad = 1.0\n",
    "pos = square(N, rad, thick, period, noise_dist='gaussian')\n",
    "np.save('squares/obs.npy', pos)"
   ]
  },
  {
   "cell_type": "code",
   "execution_count": null,
   "metadata": {},
   "outputs": [],
   "source": [
    "def sim_squares(num_seqs, N, rad, thick, period, noise_dist='uniform'):\n",
    "    Pos = np.zeros((num_seqs, 2, N))\n",
    "    Mus = np.zeros((num_seqs, 2))\n",
    "    Rads = np.zeros(num_seqs)\n",
    "    for i in range(num_seqs):\n",
    "        pos = square(N, rad, thick, period, noise_dist='uniform')\n",
    "        mu = np.random.uniform(-2, 2, 2)\n",
    "        Pos[i] = mu[:, None] + pos\n",
    "        Mus[i] = mu\n",
    "        Rads[i] = rad\n",
    "    return Pos, Mus, Rads\n",
    "\n",
    "num_seqs = 100\n",
    "Pos, Mus, Rads = sim_squares(num_seqs, N, rad, thick, period, noise_dist='uniform')\n",
    "np.save('squares/obs.npy', Pos)\n",
    "np.save('squares/mus.npy', Mus)\n",
    "np.save('squares/rads.npy', Rads)"
   ]
  },
  {
   "cell_type": "code",
   "execution_count": 5,
   "metadata": {},
   "outputs": [],
   "source": [
    "def cross(N, rad, thick, period, noise_dist='uniform'):\n",
    "    if noise_dist == 'uniform':\n",
    "        noise = np.random.uniform(-thick / 2., thick / 2., N)\n",
    "    elif noise_dist == 'gaussian':\n",
    "        noise = np.random.normal(0.0, thick, (2, N))\n",
    "    else:\n",
    "        print('error : noise distribution undefined...either uniform or gaussian')\n",
    "        return None\n",
    "    \n",
    "    rotate = np.array([[np.cos(math.pi/4.), - np.sin(math.pi/4.)], [np.sin(math.pi/4.), np.cos(math.pi/4.)]])\n",
    "    pts_edge = int((N / period) / 2.)\n",
    "    vertical_x = np.zeros(pts_edge)\n",
    "    vertical_y = np.linspace(-rad, rad, pts_edge)\n",
    "    \n",
    "    horizontal_y = np.zeros(pts_edge)\n",
    "    horizontal_x = np.linspace(-rad, rad, pts_edge)\n",
    "\n",
    "    \n",
    "    x = np.concatenate((vertical_x, horizontal_x), 0)\n",
    "    y = np.concatenate((vertical_y, horizontal_y), 0)\n",
    "    pos = np.concatenate((x[None, :], y[None, :]), 0)\n",
    "    pos = np.dot(rotate, pos) \n",
    "    pos = np.tile(pos, (1, period)) + noise\n",
    "#     fig = plt.figure(figsize=(5,5))\n",
    "#     ax = fig.add_subplot(1,1,1)\n",
    "#     ax.scatter(pos[0], pos[1])    \n",
    "    return pos"
   ]
  },
  {
   "cell_type": "code",
   "execution_count": 6,
   "metadata": {},
   "outputs": [],
   "source": [
    "def sim_crosses(num_seqs, N, rad, thick, period, noise_dist):\n",
    "    Pos = np.zeros((num_seqs, 2, N))\n",
    "    Mus = np.zeros((num_seqs, 2))\n",
    "    Rads = np.zeros(num_seqs)\n",
    "    for i in range(num_seqs):\n",
    "        pos = cross(N, rad, thick, period, noise_dist)\n",
    "        mu = np.random.uniform(-2, 2, 2)\n",
    "        Pos[i] = mu[:, None] + pos\n",
    "        Mus[i] = mu\n",
    "        Rads[i] = rad\n",
    "    return Pos, Mus, Rads"
   ]
  },
  {
   "cell_type": "code",
   "execution_count": 7,
   "metadata": {},
   "outputs": [],
   "source": [
    "N = 200\n",
    "thick = 0.05\n",
    "num_seqs = 100\n",
    "Pos, Mus, Rads = sim_crosses(num_seqs, N, rad, thick, period, noise_dist='gaussian')\n",
    "np.save('crosses/obs.npy', Pos)\n",
    "np.save('crosses/mus.npy', Mus)\n",
    "np.save('crosses/rads.npy', Rads)"
   ]
  },
  {
   "cell_type": "code",
   "execution_count": null,
   "metadata": {},
   "outputs": [],
   "source": [
    "N = 200\n",
    "period = 5\n",
    "pos = cross(N, rad* np.sqrt(2), thick, period, noise_dist='gaussian')\n",
    "np.save('crosses/obs.npy', pos)"
   ]
  },
  {
   "cell_type": "code",
   "execution_count": 10,
   "metadata": {},
   "outputs": [],
   "source": [
    "def triangle(N, rad, thick, period, noise_dist='uniform'):\n",
    "    if noise_dist == 'uniform':\n",
    "        noise = np.random.uniform(-thick / 2., thick / 2., N)\n",
    "    elif noise_dist == 'gaussian':\n",
    "        noise = np.random.normal(0.0, thick, (2, N))\n",
    "    else:\n",
    "        print('error : noise distribution undefined...either uniform or gaussian')\n",
    "        return None\n",
    "    \n",
    "    right_rotate = np.array([[np.cos(math.pi/6.), - np.sin(math.pi/6.)], [np.sin(math.pi/6.), np.cos(math.pi/6.)]])\n",
    "    left_rotate = np.array([[np.cos(math.pi/6.), np.sin(math.pi/6.)], [- np.sin(math.pi/6.), np.cos(math.pi/6.)]])\n",
    "    \n",
    "    pts_edge = int((N / period ) / 3.)\n",
    "    bottom_x = np.linspace(-rad, rad, pts_edge)\n",
    "    bottom_y = np.zeros(pts_edge)\n",
    "    bottom_pos = np.concatenate((bottom_x[None, :], bottom_y[None, :]), 0)\n",
    "    \n",
    "    left_x = np.zeros(pts_edge)\n",
    "    left_y = np.linspace(0, 2*rad, pts_edge)\n",
    "    left_pos = np.concatenate((left_x[None, :], left_y[None, :]), 0)\n",
    "    left_pos = np.dot(left_rotate, left_pos)\n",
    "    left_pos[0] = left_pos[0] - rad\n",
    "    \n",
    "    right_x = np.zeros(pts_edge)\n",
    "    right_y = np.linspace(0, 2*rad, pts_edge)\n",
    "    right_pos = np.concatenate((right_x[None, :], right_y[None, :]), 0)\n",
    "    right_pos = np.dot(right_rotate, right_pos) \n",
    "    right_pos[0] = right_pos[0] + rad\n",
    "\n",
    "    pos = np.concatenate((bottom_pos, right_pos, np.flip(left_pos, -1)), -1)\n",
    "    pos = np.tile(pos, (1, period))\n",
    "    pos[1] = pos[1] - rad * np.sqrt(3) /2 \n",
    "    pos = pos + noise\n",
    "#     fig = plt.figure(figsize=(5,5))\n",
    "#     ax = fig.add_subplot(1,1,1)\n",
    "#     ax.scatter(pos[0], pos[1])  \n",
    "    return pos"
   ]
  },
  {
   "cell_type": "code",
   "execution_count": 11,
   "metadata": {},
   "outputs": [],
   "source": [
    "def sim_triangles(num_seqs, N, rad, thick, period, noise_dist):\n",
    "    Pos = np.zeros((num_seqs, 2, N))\n",
    "    Mus = np.zeros((num_seqs, 2))\n",
    "    Rads = np.zeros(num_seqs)\n",
    "    for i in range(num_seqs):\n",
    "        pos = triangle(N, rad, thick, period, noise_dist)\n",
    "        mu = np.random.uniform(-2, 2, 2)\n",
    "        Pos[i] = mu[:, None] + pos\n",
    "        Mus[i] = mu\n",
    "        Rads[i] = rad\n",
    "    return Pos, Mus, Rads"
   ]
  },
  {
   "cell_type": "code",
   "execution_count": null,
   "metadata": {},
   "outputs": [],
   "source": [
    "N = 210\n",
    "period = 5\n",
    "thick = 0.05\n",
    "pos = triangle(N, rad, thick, period, noise_dist='gaussian')\n",
    "np.save('triangles/obs.npy', pos)"
   ]
  },
  {
   "cell_type": "code",
   "execution_count": 13,
   "metadata": {},
   "outputs": [],
   "source": [
    "num_seqs = 100\n",
    "N = 210\n",
    "period = 5\n",
    "thick = 0.05\n",
    "Pos, Mus, Rads = sim_triangles(num_seqs, N, rad, thick, period, noise_dist='gaussian')\n",
    "np.save('triangles/obs.npy', Pos)\n",
    "np.save('triangles/mus.npy', Mus)\n",
    "np.save('triangles/rads.npy', Rads)"
   ]
  },
  {
   "cell_type": "code",
   "execution_count": 38,
   "metadata": {},
   "outputs": [
    {
     "data": {
      "image/png": "[encoded data removed]",
      "text/plain": [
       "<Figure size 360x360 with 1 Axes>"
      ]
     },
     "metadata": {
      "needs_background": "light"
     },
     "output_type": "display_data"
    }
   ],
   "source": [
    "thick = 0.05\n",
    "noise_dist = 'gaussian'\n",
    "\n",
    "Mus = np.array([[-3, -3], [-2, -0.5], [0.5, -2], [-3.5, -5]])\n",
    "pos_c = circle(200, rad, thick, period, noise_dist) + Mus[0][:, None]\n",
    "pos_s = square(200, rad, thick, period, noise_dist)+ Mus[1][:, None]\n",
    "pos_x = cross(200, rad, thick, period, noise_dist)+ Mus[2][:, None]\n",
    "pos_t = triangle(210, rad, thick, period, noise_dist)+ Mus[3][:, None]\n",
    "pos = np.concatenate((pos_c, pos_s, pos_x, pos_t), 1)\n",
    "\n",
    "\n",
    "fig = plt.figure(figsize=(5,5))\n",
    "ax = fig.add_subplot(1,1,1)\n",
    "ax.scatter(pos[0], pos[1])    \n",
    "np.save('Shapes2.npy', pos)\n",
    "np.save('Mus2.npy', Mus)"
   ]
  },
  {
   "cell_type": "code",
   "execution_count": null,
   "metadata": {},
   "outputs": [],
   "source": [
    "mu"
   ]
  }
 ],
 "metadata": {
  "kernelspec": {
   "display_name": "Python 3",
   "language": "python",
   "name": "python3"
  },
  "language_info": {
   "codemirror_mode": {
    "name": "ipython",
    "version": 3
   },
   "file_extension": ".py",
   "mimetype": "text/x-python",
   "name": "python",
   "nbconvert_exporter": "python",
   "pygments_lexer": "ipython3",
   "version": "3.6.6"
  }
 },
 "nbformat": 4,
 "nbformat_minor": 2
}
