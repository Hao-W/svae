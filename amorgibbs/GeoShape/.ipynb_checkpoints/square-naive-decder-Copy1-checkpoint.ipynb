{
 "cells": [
  {
   "cell_type": "code",
   "execution_count": 1,
   "metadata": {},
   "outputs": [],
   "source": [
    "%matplotlib inline\n",
    "import numpy as np\n",
    "import torch.nn as nn\n",
    "import torch.nn.functional as F\n",
    "import matplotlib.pyplot as plt\n",
    "from plots import *\n",
    "from kls import *\n",
    "from torch.distributions.normal import Normal\n",
    "from torch.distributions.one_hot_categorical import OneHotCategorical as cat\n",
    "from torch.distributions.beta import Beta\n",
    "from torch.distributions.uniform import Uniform\n",
    "from torch import logsumexp\n",
    "import sys\n",
    "import time\n",
    "import datetime\n",
    "import math"
   ]
  },
  {
   "cell_type": "code",
   "execution_count": 2,
   "metadata": {},
   "outputs": [],
   "source": [
    "N = 1000\n",
    "D = 2\n",
    "## Model Parameters\n",
    "NUM_SAMPLES = 10\n",
    "NUM_HIDDEN = 64\n",
    "NUM_LATENTS = 1\n",
    "NUM_OBS = D\n",
    "BATCH_SIZE = 20\n",
    "NUM_EPOCHS = 6000\n",
    "LEARNING_RATE = 1e-4\n",
    "CUDA = False\n",
    "PATH = 'circles'"
   ]
  },
  {
   "cell_type": "code",
   "execution_count": 3,
   "metadata": {},
   "outputs": [],
   "source": [
    "Xs = torch.from_numpy(np.load('squares/obs.npy')).float()\n",
    "Xs = Xs.transpose(1,0)\n",
    "# mus_true = torch.from_numpy(np.load('circles/mus.npy')).float()\n",
    "# rads_true = torch.from_numpy(np.load('circles/rads.npy')).float()\n",
    "# num_seqs = Xs.shape[0]"
   ]
  },
  {
   "cell_type": "code",
   "execution_count": 4,
   "metadata": {},
   "outputs": [],
   "source": [
    "class Encoder(nn.Module):\n",
    "    def __init__(self, num_obs= D,\n",
    "                       num_hidden=NUM_HIDDEN,\n",
    "                       num_latents=NUM_LATENTS):\n",
    "        super(self.__class__, self).__init__()\n",
    "        self.enc_hidden = nn.Sequential(\n",
    "            nn.Linear(num_obs, num_hidden),\n",
    "            nn.ReLU(),\n",
    "            nn.Linear(num_hidden, num_hidden),\n",
    "            nn.ReLU())\n",
    "        self.local_log_alpha = nn.Sequential(\n",
    "            nn.Linear(num_hidden, num_latents))\n",
    "        self.local_log_beta = nn.Sequential(\n",
    "            nn.Linear(num_hidden, num_latents))\n",
    "        \n",
    "    def forward(self, obs, N, D, num_samples):\n",
    "        hidden = self.enc_hidden(obs)\n",
    "        q_alpha = torch.exp(self.local_log_alpha(hidden))\n",
    "        q_beta = torch.exp(self.local_log_beta(hidden))\n",
    "        embed = Beta(q_alpha, q_beta).sample((num_samples,)) ## S * N\n",
    "        log_q = Beta(q_alpha, q_beta).log_prob(embed)\n",
    "        return q_alpha, q_beta, embed, log_q\n",
    "    \n",
    "    \n",
    "class Decoder(nn.Module):\n",
    "    def __init__(self, num_obs=NUM_OBS,\n",
    "                       num_hidden=NUM_HIDDEN,\n",
    "                       num_latents=NUM_LATENTS):\n",
    "        super(self.__class__, self).__init__()\n",
    "        self.dec_angles = nn.Sequential(\n",
    "            nn.Linear(num_latents, num_hidden),\n",
    "            nn.ReLU(),\n",
    "            nn.Linear(num_hidden, num_hidden),\n",
    "            nn.ReLU(),\n",
    "            nn.Linear(num_hidden, num_obs))\n",
    "        self.dec_rad = nn.Sequential(\n",
    "            nn.Linear(num_latents, num_hidden),\n",
    "            nn.ReLU(),\n",
    "            nn.Linear(num_hidden, num_hidden),\n",
    "            nn.ReLU(),\n",
    "            nn.Linear(num_hidden, 1))\n",
    "\n",
    "    def forward(self, angle, obs, N, D):\n",
    "        axis = self.dec_angles(angle) \n",
    "        rads = self.dec_rad(angle)\n",
    "        x_mus = axis * rads\n",
    "        x_sigma = torch.ones((N, D)) * 0.01\n",
    "        log_p_x = Normal(x_mus, x_sigma).log_prob(obs).sum(-1)\n",
    "        return x_mus, log_p_x"
   ]
  },
  {
   "cell_type": "code",
   "execution_count": 5,
   "metadata": {},
   "outputs": [],
   "source": [
    "def weights_init(m):\n",
    "    classname = m.__class__.__name__\n",
    "    if classname.find('Linear') != -1:\n",
    "        m.weight.data.normal_(0.0, 1e-2)     \n",
    "        \n",
    "def initialize():\n",
    "    enc = Encoder()\n",
    "    dec = Decoder()\n",
    "#     enc.apply(weights_init)\n",
    "    opt1 =  torch.optim.Adam(list(enc.parameters()),lr=LEARNING_RATE, betas=(0.9, 0.99)) \n",
    "    opt2 = torch.optim.Adam(list(dec.parameters()),lr=LEARNING_RATE, betas=(0.9, 0.99))\n",
    "    return enc, dec, opt1, opt2\n",
    "enc, dec, opt1, opt2 = initialize()"
   ]
  },
  {
   "cell_type": "code",
   "execution_count": 6,
   "metadata": {},
   "outputs": [],
   "source": [
    "# def reparam(q_mus, q_sigma, N, D, num_samples, batch_size):\n",
    "#     eps = Normal(torch.zeros((num_samples, batch_size, N, D)), torch.ones((num_samples, batch_size, N, D))).sample()\n",
    "#     ws = q_mus.unsqueeze(0).repeat(num_samples, 1, 1, 1) + torch.mul(q_sigma.unsqueeze(0).repeat(num_samples, 1, 1, 1), eps)\n",
    "#     log_qs = Normal(q_mus, q_sigma).log_prob(ws).sum(-1).sum(-1) ## S * B\n",
    "#     return ws, log_qs\n",
    "\n",
    "def oneshot(x, angles, N, D, num_samples):\n",
    "    log_p_xs = torch.zeros((num_samples, N))\n",
    "    log_prs = torch.zeros((num_samples, N))\n",
    "    log_qs = torch.zeros((num_samples, N))\n",
    "    X_mus = torch.zeros((num_samples, N, D))\n",
    "#     angles = embed * 2*math.pi\n",
    "#     angles = embed\n",
    "#     yaxis = torch.cos(angles) * 2.0\n",
    "#     xaxis = torch.sin(angles) * 2.0\n",
    "#     x_mus = torch.cat((xaxis, yaxis), dim=-1)\n",
    "#     x_sigma = torch.ones((N, D)) * 0.01\n",
    "    for s in range(num_samples):\n",
    "        noise = Normal(torch.zeros(N), torch.ones(N) * 0.05).sample()\n",
    "#         log_qs[s] = Normal(torch.zeros(N), torch.ones(N) * 0.05).log_prob(noise)\n",
    "        angles_noisy = angles\n",
    "        x_mus, log_p_x = dec(angles_noisy[:, None], x, N, D)\n",
    "        X_mus[s] = x_mus\n",
    "        log_p_xs[s] = log_p_x\n",
    "#         log_prs[s] = Uniform(torch.zeros(N), torch.ones(N)* 2*math.pi).log_prob(angles[s].squeeze(-1)) # S * N \n",
    "#     log_p_x = Normal(x_mus, x_sigma).log_prob(x).sum(-1) ## S * N\n",
    "#     log_pr = Uniform(torch.zeros(N), torch.ones(N)*2*math.pi).log_prob(embed.squeeze(-1)) # S * N \n",
    "    log_weights = log_p_xs \n",
    "#     weights = torch.exp(log_weights - logsumexp(log_weights, 0)).detach()\n",
    "    elbo = log_weights.mean(0).mean()\n",
    "    return elbo, X_mus\n"
   ]
  },
  {
   "cell_type": "code",
   "execution_count": 13,
   "metadata": {},
   "outputs": [
    {
     "name": "stdout",
     "output_type": "stream",
     "text": [
      "epoch=0, ELBO=-1291.587 (0s)\n",
      "epoch=100, ELBO=-1267.553 (1s)\n",
      "epoch=200, ELBO=-1243.115 (1s)\n",
      "epoch=300, ELBO=-1220.791 (1s)\n",
      "epoch=400, ELBO=-1201.039 (1s)\n",
      "epoch=500, ELBO=-1183.431 (1s)\n",
      "epoch=600, ELBO=-1169.172 (1s)\n",
      "epoch=700, ELBO=-1159.107 (1s)\n",
      "epoch=800, ELBO=-1137.269 (1s)\n",
      "epoch=900, ELBO=-1110.509 (1s)\n",
      "epoch=1000, ELBO=-1116.069 (1s)\n",
      "epoch=1100, ELBO=-1088.365 (1s)\n",
      "epoch=1200, ELBO=-1078.892 (1s)\n",
      "epoch=1300, ELBO=-1060.131 (1s)\n",
      "epoch=1400, ELBO=-1060.527 (1s)\n",
      "epoch=1500, ELBO=-1040.580 (1s)\n",
      "epoch=1600, ELBO=-1031.445 (1s)\n",
      "epoch=1700, ELBO=-1017.899 (1s)\n",
      "epoch=1800, ELBO=-1008.860 (1s)\n",
      "epoch=1900, ELBO=-1044.269 (1s)\n",
      "epoch=2000, ELBO=-994.140 (1s)\n",
      "epoch=2100, ELBO=-981.773 (1s)\n",
      "epoch=2200, ELBO=-1031.970 (1s)\n",
      "epoch=2300, ELBO=-972.922 (1s)\n",
      "epoch=2400, ELBO=-962.470 (1s)\n",
      "epoch=2500, ELBO=-954.697 (1s)\n",
      "epoch=2600, ELBO=-953.494 (1s)\n",
      "epoch=2700, ELBO=-951.707 (1s)\n",
      "epoch=2800, ELBO=-947.629 (1s)\n",
      "epoch=2900, ELBO=-929.368 (1s)\n",
      "epoch=3000, ELBO=-930.903 (1s)\n",
      "epoch=3100, ELBO=-920.481 (1s)\n",
      "epoch=3200, ELBO=-918.541 (1s)\n",
      "epoch=3300, ELBO=-909.978 (1s)\n",
      "epoch=3400, ELBO=-931.001 (1s)\n",
      "epoch=3500, ELBO=-905.099 (1s)\n",
      "epoch=3600, ELBO=-901.877 (1s)\n",
      "epoch=3700, ELBO=-895.126 (1s)\n",
      "epoch=3800, ELBO=-891.802 (1s)\n",
      "epoch=3900, ELBO=-953.199 (1s)\n",
      "epoch=4000, ELBO=-883.912 (1s)\n",
      "epoch=4100, ELBO=-918.935 (1s)\n",
      "epoch=4200, ELBO=-874.570 (1s)\n",
      "epoch=4300, ELBO=-876.592 (1s)\n",
      "epoch=4400, ELBO=-867.528 (1s)\n",
      "epoch=4500, ELBO=-864.316 (1s)\n",
      "epoch=4600, ELBO=-861.508 (1s)\n",
      "epoch=4700, ELBO=-860.783 (1s)\n",
      "epoch=4800, ELBO=-875.179 (1s)\n",
      "epoch=4900, ELBO=-855.713 (1s)\n",
      "epoch=5000, ELBO=-875.999 (1s)\n",
      "epoch=5100, ELBO=-847.909 (1s)\n",
      "epoch=5200, ELBO=-845.715 (1s)\n",
      "epoch=5300, ELBO=-845.729 (1s)\n",
      "epoch=5400, ELBO=-851.161 (1s)\n",
      "epoch=5500, ELBO=-836.889 (1s)\n",
      "epoch=5600, ELBO=-843.910 (1s)\n",
      "epoch=5700, ELBO=-868.763 (1s)\n",
      "epoch=5800, ELBO=-830.740 (1s)\n",
      "epoch=5900, ELBO=-889.000 (1s)\n"
     ]
    }
   ],
   "source": [
    "ELBOs = []\n",
    "EUBOs = []\n",
    "num_batches = int((Xs.shape[0] / BATCH_SIZE))\n",
    "time_start = time.time()\n",
    "angles = torch.linspace(0, 1.0, 200).repeat(5)\n",
    "for epoch in range(NUM_EPOCHS):\n",
    "    indices = torch.randperm(N)\n",
    "    Xs_shuffle = Xs[indices]\n",
    "    angles_shuffle = angles[indices]\n",
    "    opt2.zero_grad()\n",
    "    elbo, X_mus = oneshot(Xs_shuffle, angles_shuffle, N, D, NUM_SAMPLES)\n",
    "    (-elbo).backward()\n",
    "    opt2.step()\n",
    "    \n",
    "    ELBOs.append(elbo.item())\n",
    "    \n",
    "    if epoch%100 == 0:\n",
    "        time_end = time.time()  \n",
    "        print('epoch=%d, ELBO=%.3f (%ds)' % (epoch, elbo, time_end - time_start))\n",
    "        time_start = time.time()\n"
   ]
  },
  {
   "cell_type": "code",
   "execution_count": 12,
   "metadata": {},
   "outputs": [
    {
     "data": {
      "image/png": "[encoded data removed]",
      "text/plain": [
       "<Figure size 864x360 with 2 Axes>"
      ]
     },
     "metadata": {
      "needs_background": "light"
     },
     "output_type": "display_data"
    }
   ],
   "source": [
    "T = 200\n",
    "for s in range(1):\n",
    "    fig = plt.figure(figsize=(12,5))\n",
    "    ax1 = fig.add_subplot(1,2,1)\n",
    "    ax2 = fig.add_subplot(1,2,2)   \n",
    "    ax1.scatter(X_mus[s, :T, 0].data.numpy(), X_mus[s, :T, 1].data.numpy())\n",
    "    ax2.scatter(Xs_shuffle[:T, 0].data.numpy(), Xs_shuffle[:T, 1].data.numpy())\n",
    "#     ax3.plot(embed[s, :T, 0].data.numpy(), 'ro')\n",
    "    ax1.set_xlim([-3,3])\n",
    "    ax1.set_ylim([-3,3])\n"
   ]
  },
  {
   "cell_type": "code",
   "execution_count": 9,
   "metadata": {},
   "outputs": [],
   "source": [
    "a = torch.linspace(0.0, math.pi*2*4/ 4, 100)\n",
    "x_mus, log_p_x = dec(a[:, None], Xs_shuffle[:100], 100, D)"
   ]
  },
  {
   "cell_type": "code",
   "execution_count": 10,
   "metadata": {},
   "outputs": [
    {
     "data": {
      "text/plain": [
       "(-3, 3)"
      ]
     },
     "execution_count": 10,
     "metadata": {},
     "output_type": "execute_result"
    },
    {
     "data": {
      "image/png": "[encoded data removed]",
      "text/plain": [
       "<Figure size 360x360 with 1 Axes>"
      ]
     },
     "metadata": {
      "needs_background": "light"
     },
     "output_type": "display_data"
    }
   ],
   "source": [
    "fig = plt.figure(figsize=(5,5))\n",
    "ax1 = fig.add_subplot(1,1,1)\n",
    "ax1.scatter(x_mus[:, 0].data.numpy(), x_mus[:, 1].data.numpy())\n",
    "ax1.set_xlim([-3,3])\n",
    "ax1.set_ylim([-3,3])"
   ]
  },
  {
   "cell_type": "code",
   "execution_count": 11,
   "metadata": {},
   "outputs": [
    {
     "ename": "NameError",
     "evalue": "name 'ESSs' is not defined",
     "output_type": "error",
     "traceback": [
      "\u001b[0;31m---------------------------------------------------------------------------\u001b[0m",
      "\u001b[0;31mNameError\u001b[0m                                 Traceback (most recent call last)",
      "\u001b[0;32m<ipython-input-11-7eb2989deb9b>\u001b[0m in \u001b[0;36m<module>\u001b[0;34m\u001b[0m\n\u001b[1;32m      6\u001b[0m                    + str(KLs_eta_ex[i]) + str(KLs_eta_in[i]) + str(KLs_z_ex[i]) + str(KLs_z_in[i]) + '\\n')\n\u001b[1;32m      7\u001b[0m     \u001b[0mfout\u001b[0m\u001b[0;34m.\u001b[0m\u001b[0mclose\u001b[0m\u001b[0;34m(\u001b[0m\u001b[0;34m)\u001b[0m\u001b[0;34m\u001b[0m\u001b[0m\n\u001b[0;32m----> 8\u001b[0;31m \u001b[0msave_results\u001b[0m\u001b[0;34m(\u001b[0m\u001b[0mEUBOs\u001b[0m\u001b[0;34m,\u001b[0m \u001b[0mELBOs\u001b[0m\u001b[0;34m,\u001b[0m \u001b[0mESSs\u001b[0m\u001b[0;34m,\u001b[0m \u001b[0mKLs_eta_ex\u001b[0m\u001b[0;34m,\u001b[0m \u001b[0mKLs_eta_in\u001b[0m\u001b[0;34m,\u001b[0m \u001b[0mKLs_z_ex\u001b[0m\u001b[0;34m,\u001b[0m \u001b[0mKLs_z_in\u001b[0m\u001b[0;34m)\u001b[0m\u001b[0;34m\u001b[0m\u001b[0m\n\u001b[0m",
      "\u001b[0;31mNameError\u001b[0m: name 'ESSs' is not defined"
     ]
    }
   ],
   "source": [
    "def save_results(EUBOs, ELBOs, ESSs, KLs_eta_ex, KLs_eta_in, KL_z_ex, KL_z_in):\n",
    "    fout = open('results/logs-' + PATH +'.txt', 'w+')\n",
    "    fout.write('EUBOs, ELBOs, ESSs, KLs_eta_ex, KLs_eta_in, KL_z_ex, KL_z_in\\n')\n",
    "    for i in range(len(EUBOs)):\n",
    "        fout.write(str(EUBOs[i]) + ', ' + str(ELBOs[i]) + ', ' + str(ESSs[i]) \n",
    "                   + str(KLs_eta_ex[i]) + str(KLs_eta_in[i]) + str(KLs_z_ex[i]) + str(KLs_z_in[i]) + '\\n')\n",
    "    fout.close()\n",
    "save_results(EUBOs, ELBOs, ESSs, KLs_eta_ex, KLs_eta_in, KLs_z_ex, KLs_z_in)"
   ]
  },
  {
   "cell_type": "code",
   "execution_count": null,
   "metadata": {},
   "outputs": [],
   "source": [
    "def plot_results(EUBOs, ELBOs, ESSs, KLs_eta_ex, KLs_eta_in, KLs_z_ex, KLs_z_in, num_samples):\n",
    "    fig = plt.figure(figsize=(20, 30))\n",
    "    ax1 = fig.add_subplot(3, 1, 1)\n",
    "    ax1.plot(EUBOs, 'r', label='EUBOs')\n",
    "    ax1.plot(ELBOs, 'b', label='ELBOs')\n",
    "    ax1.tick_params(labelsize=18)\n",
    "    ax1.set_ylim([-220, -130])\n",
    "    ax1.legend(fontsize=18)\n",
    "    ##\n",
    "    ax2 = fig.add_subplot(3, 1, 2)\n",
    "    ax2.plot(KLs_eta_ex, '#66b3ff', label='KLs_eta_ex')\n",
    "    ax2.plot(KLs_eta_in, '#ff9999', label='KLs_eta_in')\n",
    "    ax2.plot(KLs_z_ex, '#99ff99', label='KLs_z_ex')\n",
    "    ax2.plot(KLs_z_in, 'gold', label='KLs_z_in')   \n",
    "    ax2.plot(np.ones(len(KLs_z_in)) * 5, 'k', label='const=5.0')\n",
    "    ax2.legend(fontsize=18)\n",
    "    ax2.tick_params(labelsize=18)\n",
    "    ax2.set_ylim([-1, 30])\n",
    "    ##\n",
    "    ax3 = fig.add_subplot(3, 1, 3)\n",
    "    ax3.plot(np.array(ESSs) / num_samples, 'm', label='ESS')\n",
    "    ax3.tick_params(labelsize=18)\n",
    "    ax3.set_xlabel('epochs (%d gradient steps per epoch)'  % num_batches, size=18)\n",
    "    ax3.legend()\n",
    "    plt.savefig('results/train-' + PATH + '.svg')"
   ]
  },
  {
   "cell_type": "code",
   "execution_count": null,
   "metadata": {},
   "outputs": [],
   "source": [
    "plot_results(EUBOs, ELBOs, ESSs, KLs_eta_ex, KLs_eta_in, KLs_z_ex, KLs_z_in, NUM_SAMPLES)"
   ]
  },
  {
   "cell_type": "code",
   "execution_count": null,
   "metadata": {},
   "outputs": [],
   "source": [
    "STEPS = 50\n",
    "def reverse(X, z, mus_prev, precisions_prev, N, D, K, batch_size):\n",
    "    data = torch.cat((X, z), dim=-1).view(batch_size*N, -1)\n",
    "    q_mean, q_nu, q_alpha, q_beta, q_sigma, mus, precisions = enc_global(data, K, D, 1, batch_size)  \n",
    "    log_q_eta =  Normal(q_mean[0], q_sigma[0]).log_prob(mus_prev).sum(-1).sum(-1) + Gamma(q_alpha, q_beta).log_prob(precisions_prev).sum(-1).sum(-1)## B\n",
    "    return log_q_eta\n",
    "\n",
    "def test(x, Pi, N, K, D, num_samples, steps, batch_size):\n",
    "    log_increment_weights = torch.zeros((steps, num_samples, batch_size))\n",
    "    log_p_joints = torch.zeros((steps, num_samples, batch_size))\n",
    "    log_qf = torch.zeros((steps-1, num_samples, batch_size))\n",
    "    log_qr = torch.zeros((steps-1, num_samples, batch_size))\n",
    "    Z_samples = torch.zeros((num_samples, batch_size, N, K))\n",
    "    mus_prevs = torch.zeros((num_samples, batch_size, K, D))\n",
    "    precisions_prevs = torch.zeros((num_samples, batch_size, K, D))\n",
    "    \n",
    "    for m in range(steps):\n",
    "        if m == 0:\n",
    "            for l in range(num_samples):\n",
    "                q_mean, q_nu, q_alpha, q_beta, q_sigma, mus, precisions, log_q_eta = Init_step(x, N, D, K, batch_size)\n",
    "                mus_prevs[l] = mus\n",
    "                precisions_prevs[l] = precisions\n",
    "                zs_pi, z, log_q_z = E_step(x, mus, precisions, N, D, K, batch_size)\n",
    "                Z_samples[l] = z\n",
    "                labels = z.nonzero()\n",
    "                log_p_z = cat(Pi).log_prob(z).sum(-1)\n",
    "                sigmas = 1. / torch.sqrt(precisions)\n",
    "                log_p_x = Normal(mus[labels[:, 0], labels[:, -1], :].view(batch_size, N, D), sigmas[labels[:, 0], labels[:, -1], :].view(batch_size, N, D)).log_prob(x).sum(-1).sum(-1)\n",
    "                log_increment_weights[m, l] = log_p_x + log_p_z - log_q_z     \n",
    "                log_p_joints[m, l] = log_joints_gmm(x, z, Pi, mus, precisions, N, D, K, prior_mean, prior_nu, prior_alpha, prior_beta, batch_size)\n",
    "                \n",
    "        else:\n",
    "            for l in range(num_samples):\n",
    "                z_prev = Z_samples[l]\n",
    "                q_mean, q_nu, q_alpha, q_beta, q_sigma, mus, precisions, log_q_eta = M_step(x, z_prev, N, D, K, batch_size)\n",
    "                zs_pi, z, log_q_z = E_step(x, mus, precisions, N, D, K, batch_size)\n",
    "                Z_samples[l] = z\n",
    "                log_p_joints[m, l] = log_joints_gmm(x, z, Pi, mus, precisions, N, D, K, prior_mean, prior_nu, prior_alpha, prior_beta, batch_size)\n",
    "                log_qf[m-1, l] = log_q_eta + log_q_z\n",
    "                \n",
    "                mus_prev = mus_prevs[l]\n",
    "                precisions_prev = precisions_prevs[l]\n",
    "                \n",
    "                log_qr[m-1, l] = reverse(x, z, mus_prev, precisions_prev, N, D, K, batch_size)\n",
    "                log_p_joint = log_joints_gmm(x, z, Pi, mus, precisions, N, D, K, prior_mean, prior_nu, prior_alpha, prior_beta, batch_size)\n",
    "                log_increment_weights[m, l] = log_p_joint - log_q_z - log_q_eta\n",
    "                mus_prevs[l] = mus\n",
    "                precisions_prevs[l] = precisions\n",
    "    detail_balances = log_p_joints[1:] - log_p_joints[:-1] -log_qf + log_qr\n",
    "    increment_weights = torch.exp(log_increment_weights - logsumexp(log_increment_weights, 1).unsqueeze(1).repeat(1, num_samples, 1)).detach()\n",
    "    esses = (1./ (increment_weights ** 2).sum(1))                   \n",
    "    log_last_weights = log_increment_weights[-1] ## S * B\n",
    "    ## EUBO and ELBO\n",
    "    eubos = torch.mul(increment_weights, log_increment_weights).sum(1).mean(-1)\n",
    "    elbos = log_increment_weights.mean(1).mean(-1)     \n",
    "    return eubos, elbos, esses, log_increment_weights, detail_balances"
   ]
  },
  {
   "cell_type": "code",
   "execution_count": null,
   "metadata": {},
   "outputs": [],
   "source": [
    "def sample_single_batch(num_seqs, N, K, D, batch_size):\n",
    "    indices = torch.randperm(num_seqs)\n",
    "    batch_indices = indices[0*batch_size : (0+1)*batch_size]\n",
    "    batch_Xs = Xs[batch_indices]\n",
    "    batch_Xs = shuffler(batch_Xs, N, K, D, batch_size)\n",
    "    return batch_Xs\n",
    "batch_Xs = sample_single_batch(num_seqs, N, K, D, BATCH_SIZE)\n",
    "eubo, elbo, ess, log_increment_weights, detail_balances = test(batch_Xs, Pi, N, K, D, NUM_SAMPLES, STEPS, BATCH_SIZE)"
   ]
  },
  {
   "cell_type": "code",
   "execution_count": null,
   "metadata": {},
   "outputs": [],
   "source": [
    "\n",
    "detail_balances.shape"
   ]
  },
  {
   "cell_type": "code",
   "execution_count": null,
   "metadata": {},
   "outputs": [],
   "source": [
    "for i in range(BATCH_SIZE):\n",
    "    log_weights = log_increment_weights[:, :, i]\n",
    "    ess_stepwise = ess[:, i].data.numpy()\n",
    "    fig = plt.figure(figsize=(20,6))\n",
    "    ax1 = fig.add_subplot(1,3,1)\n",
    "    ax2 = fig.add_subplot(1,3,2)\n",
    "    ax3 = fig.add_subplot(1,3,3)\n",
    "    weights = torch.exp(log_weights - logsumexp(log_weights, -1)[:, None]).data.numpy()\n",
    "    db = detail_balances[:, :, i].mean(-1)\n",
    "    ax1.plot(db.data.numpy(), 'r-o')\n",
    "    ax1.set_ylim([-20, 20])\n",
    "    for s in range(NUM_SAMPLES):\n",
    "        ax2.plot(ess_stepwise, 'b-o')\n",
    "        ax3.plot(weights[:, s], 'g-o')\n",
    "        ax2.set_ylim([1.0, 7])\n"
   ]
  },
  {
   "cell_type": "code",
   "execution_count": null,
   "metadata": {},
   "outputs": [],
   "source": [
    "ess"
   ]
  },
  {
   "cell_type": "code",
   "execution_count": null,
   "metadata": {},
   "outputs": [],
   "source": [
    "\n",
    "\n",
    "def test(x, num_seqs, Pi, N, K, D, steps, batch_size):\n",
    "    LLs = [] \n",
    "    for m in range(steps):\n",
    "        if m == 0:\n",
    "            mus, precisions, log_p_eta = inti_global(K, D, prior_mean, prior_nu, prior_alpha, prior_beta, batch_size)\n",
    "            zs_pi, z, log_q_z = E_step(x, mus, precisions, N, D, K, batch_size)\n",
    "        else:\n",
    "            q_mean, q_nu, q_alpha, q_beta, q_sigma, mus, precisions, log_q_eta = M_step(x, z, N, D, K, batch_size)\n",
    "            zs_pi, z, log_q_z = E_step(x, mus, precisions, N, D, K, batch_size)\n",
    "            labels = z.nonzero()\n",
    "            sigmas = 1. / torch.sqrt(precisions)\n",
    "            ll = Normal(mus[labels[:, 0], labels[:, -1], :].view(batch_size, N, D), sigmas[labels[:, 0], labels[:, -1], :].view(batch_size, N, D)).log_prob(x).sum(-1).sum(-1).mean()\n",
    "            LLs.append(ll.item())\n",
    "    E_precisions = q_alpha / q_beta\n",
    "    E_mus = q_mean\n",
    "    E_z = torch.argmax(zs_pi, dim=-1)\n",
    "\n",
    "    return z, mus, precisions, LLs, E_mus, E_precisions, E_z\n",
    "\n",
    "x,z_true = sample_single_batch(num_seqs, N, K, D, BATCH_SIZE)\n",
    "z, mus, precisions, LLs, E_mus, E_precisions, E_z = test(x, num_seqs, Pi, N, K, D, STEPS, BATCH_SIZE)"
   ]
  },
  {
   "cell_type": "code",
   "execution_count": null,
   "metadata": {},
   "outputs": [],
   "source": [
    "def plot_final_samples(Xs, Zs, mus, precisions, steps, batch_size):\n",
    "    colors = ['r', 'b', 'gold']\n",
    "    fig = plt.figure(figsize=(25,100))\n",
    "    for b in range(batch_size):\n",
    "        ax = fig.add_subplot(int(batch_size / 5), 5, b+1)\n",
    "        x = Xs[b].data.numpy()\n",
    "        z = Zs[b].data.numpy()\n",
    "        mu = mus[b].data.numpy()\n",
    "        precision = precisions[b].data.numpy()\n",
    "\n",
    "        covs = np.zeros((K, D, D))\n",
    "        assignments = z\n",
    "        for k in range(K):\n",
    "            covs[k] = np.diag(1. / precision[k])\n",
    "            xk = x[np.where(assignments == k)]\n",
    "            ax.scatter(xk[:, 0], xk[:, 1], c=colors[k])\n",
    "            plot_cov_ellipse(cov=covs[k], pos=mu[k], nstd=2, ax=ax, alpha=0.2, color=colors[k])\n",
    "        ax.set_ylim([-10, 10])\n",
    "        ax.set_xlim([-10, 10])\n",
    "    plt.savefig('results/modes' + PATH + '.svg')"
   ]
  },
  {
   "cell_type": "code",
   "execution_count": null,
   "metadata": {},
   "outputs": [],
   "source": [
    "plot_final_samples(x, E_z, E_mus, E_precisions, STEPS, BATCH_SIZE)"
   ]
  },
  {
   "cell_type": "code",
   "execution_count": null,
   "metadata": {},
   "outputs": [],
   "source": [
    "plt.plot(LLs[:20])"
   ]
  },
  {
   "cell_type": "code",
   "execution_count": null,
   "metadata": {},
   "outputs": [],
   "source": [
    "plt.plot(LLs)"
   ]
  },
  {
   "cell_type": "code",
   "execution_count": null,
   "metadata": {},
   "outputs": [],
   "source": [
    "plt.plot(LLs[:10])"
   ]
  },
  {
   "cell_type": "code",
   "execution_count": null,
   "metadata": {},
   "outputs": [],
   "source": [
    "np.array(LLs).mean()"
   ]
  },
  {
   "cell_type": "code",
   "execution_count": null,
   "metadata": {},
   "outputs": [],
   "source": [
    "np.exp(-3)"
   ]
  },
  {
   "cell_type": "code",
   "execution_count": null,
   "metadata": {},
   "outputs": [],
   "source": []
  },
  {
   "cell_type": "code",
   "execution_count": null,
   "metadata": {},
   "outputs": [],
   "source": []
  }
 ],
 "metadata": {
  "kernelspec": {
   "display_name": "Python 3",
   "language": "python",
   "name": "python3"
  },
  "language_info": {
   "codemirror_mode": {
    "name": "ipython",
    "version": 3
   },
   "file_extension": ".py",
   "mimetype": "text/x-python",
   "name": "python",
   "nbconvert_exporter": "python",
   "pygments_lexer": "ipython3",
   "version": "3.6.6"
  }
 },
 "nbformat": 4,
 "nbformat_minor": 2
}
