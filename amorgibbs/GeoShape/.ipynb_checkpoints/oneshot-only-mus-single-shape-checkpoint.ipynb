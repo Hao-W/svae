{
 "cells": [
  {
   "cell_type": "code",
   "execution_count": 1,
   "metadata": {},
   "outputs": [],
   "source": [
    "%matplotlib inline\n",
    "import numpy as np\n",
    "import torch.nn as nn\n",
    "import torch.nn.functional as F\n",
    "import matplotlib.pyplot as plt\n",
    "from plots import *\n",
    "from kls import *\n",
    "from torch.distributions.normal import Normal\n",
    "from torch.distributions.one_hot_categorical import OneHotCategorical as cat\n",
    "from torch.distributions.beta import Beta\n",
    "from torch.distributions.uniform import Uniform\n",
    "from torch.distributions.relaxed_categorical import RelaxedOneHotCategorical as rcat\n",
    "\n",
    "from torch import logsumexp\n",
    "import sys\n",
    "import time\n",
    "import datetime\n",
    "import math"
   ]
  },
  {
   "cell_type": "code",
   "execution_count": 2,
   "metadata": {},
   "outputs": [],
   "source": [
    "Xs = torch.from_numpy(np.load('circles/obs.npy')).float()\n",
    "Mus = torch.from_numpy(np.load('circles/mus.npy')).float()\n",
    "# Zs = torch.from_numpy(np.load('multishapes/Zs.npy')).float()\n",
    "\n",
    "num_seqs, N, D = Xs.shape\n",
    "K = 4\n",
    "## Model Parameters\n",
    "NUM_SAMPLES = 10\n",
    "NUM_HIDDEN = 32\n",
    "NUM_LATENTS = 2\n",
    "NUM_OBS = D\n",
    "NUM_EPOCHS = 1000\n",
    "BATCH_SIZE = 100\n",
    "LEARNING_RATE = 1e-4\n",
    "CUDA = True\n",
    "PATH = 'oneshot-only-mus'"
   ]
  },
  {
   "cell_type": "code",
   "execution_count": 3,
   "metadata": {},
   "outputs": [
    {
     "data": {
      "text/plain": [
       "200"
      ]
     },
     "execution_count": 3,
     "metadata": {},
     "output_type": "execute_result"
    }
   ],
   "source": [
    "N"
   ]
  },
  {
   "cell_type": "code",
   "execution_count": 4,
   "metadata": {},
   "outputs": [],
   "source": [
    "class Encoder(nn.Module):\n",
    "    def __init__(self, num_obs= NUM_OBS,\n",
    "                       num_hidden=NUM_HIDDEN,\n",
    "                       num_latents=NUM_LATENTS):\n",
    "        super(self.__class__, self).__init__()\n",
    "        self.enc_h = nn.Sequential(\n",
    "            nn.Linear(num_obs, num_hidden),\n",
    "            nn.Tanh())\n",
    "        self.enc_mu = nn.Sequential(\n",
    "            nn.Linear(num_hidden, int(0.5*num_hidden)),\n",
    "            nn.Tanh(),\n",
    "            nn.Linear(int(0.5*num_hidden), num_latents))\n",
    "        self.enc_log_sigma = nn.Sequential(\n",
    "            nn.Linear(num_hidden, int(0.5*num_hidden)),\n",
    "            nn.Tanh(),\n",
    "            nn.Linear(int(0.5*num_hidden), num_latents))\n",
    "\n",
    "    def forward(self, obs, num_samples):\n",
    "        h = self.enc_h(obs) # (B, H)\n",
    "        mu = self.enc_mu(h) # (B, 2)\n",
    "        sigma = torch.exp(self.enc_log_sigma(h)) # (B, 2)\n",
    "        q_u = Normal(mu, sigma)\n",
    "        u = q_u.sample((num_samples,)) # (S, B, 2)\n",
    "        log_q_u = q_u.log_prob(u).sum(-1)\n",
    "        return u, log_q_u\n",
    "    \n",
    "    \n",
    "class Decoder(nn.Module):\n",
    "    def __init__(self, num_obs=D,\n",
    "                       num_hidden=NUM_HIDDEN,\n",
    "                       num_latents=NUM_LATENTS):\n",
    "        super(self.__class__, self).__init__()\n",
    "\n",
    "        self.x_sigma = 0.1 * torch.ones(num_obs).cuda()\n",
    "        self.dec_mu = nn.Sequential(\n",
    "            nn.Linear(num_latents, num_hidden),\n",
    "            nn.Tanh(),\n",
    "            nn.Linear(num_hidden, num_obs))\n",
    "\n",
    "    def forward(self, u, obs, num_samples):\n",
    "        mu = self.dec_mu(u) # (S, B, K) -> (S, B, O)\n",
    "        Nk = mu.shape[1]\n",
    "        p_x = Normal(mu, self.x_sigma.unsqueeze(0).unsqueeze(0).repeat(num_samples, Nk, 1)) # (S, B, O)\n",
    "        log_p_x = p_x.log_prob(obs).sum(-1) # (S, B)\n",
    "        return mu, log_p_x"
   ]
  },
  {
   "cell_type": "code",
   "execution_count": 5,
   "metadata": {},
   "outputs": [],
   "source": [
    "def initialize():\n",
    "    enc_circle = Encoder().cuda()\n",
    "    dec_circle = Decoder().cuda()\n",
    "\n",
    "    return enc_circle, dec_circle\n",
    "enc_circle, dec_circle = initialize()"
   ]
  },
  {
   "cell_type": "code",
   "execution_count": 6,
   "metadata": {},
   "outputs": [],
   "source": [
    "enc_circle.load_state_dict(torch.load('VAE/enc-circle'))\n",
    "dec_circle.load_state_dict(torch.load('VAE/dec-circle'))"
   ]
  },
  {
   "cell_type": "code",
   "execution_count": 7,
   "metadata": {},
   "outputs": [],
   "source": [
    "class Encoder_global(nn.Module):\n",
    "    def __init__(self, num_obs=D,\n",
    "                       num_stats=10,\n",
    "                       num_hidden=NUM_HIDDEN,\n",
    "                       num_latents=D):\n",
    "        super(self.__class__, self).__init__()\n",
    "        self.enc_stats = nn.Sequential(\n",
    "            nn.Linear(num_obs, num_hidden),\n",
    "            nn.Tanh(),\n",
    "            nn.Linear(num_hidden, num_stats))\n",
    "\n",
    "        self.mus_mean = nn.Sequential(\n",
    "            nn.Linear(num_stats, num_hidden),\n",
    "            nn.Tanh(),\n",
    "            nn.Linear(num_hidden, num_latents))\n",
    "        self.mus_log_sigma = nn.Sequential(\n",
    "            nn.Linear(num_stats, num_hidden),\n",
    "            nn.Tanh(),\n",
    "            nn.Linear(num_hidden, num_latents))\n",
    "        \n",
    "    def forward(self, obs, N, D, batch_size):\n",
    "        stats = self.enc_stats(obs).view(batch_size, N, -1).sum(1)\n",
    "        q_mean = self.mus_mean(stats)\n",
    "        q_sigma = torch.exp(self.mus_log_sigma(stats))\n",
    "        q = Normal(q_mean, q_sigma)\n",
    "        mus = q.sample()  \n",
    "        log_q = q.log_prob(mus).sum(-1)\n",
    "        return q_mean, q_sigma, mus, log_q ## mus_mean and mus_sigma are B * K * D"
   ]
  },
  {
   "cell_type": "code",
   "execution_count": 8,
   "metadata": {},
   "outputs": [],
   "source": [
    "prior_mean = torch.zeros((BATCH_SIZE, D)).cuda()\n",
    "prior_sigma = torch.ones((BATCH_SIZE, D)).cuda()\n",
    "\n",
    "\n",
    "def shuffler(batch_Xs, N, D, batch_size):\n",
    "    indices = torch.cat([torch.randperm(N).unsqueeze(0) for b in range(batch_size)])\n",
    "    indices_Xs = indices.unsqueeze(-1).repeat(1, 1, D)\n",
    "#     indices_Zs = indices.unsqueeze(-1).repeat(1, 1, K)\n",
    "    return torch.gather(batch_Xs, 1, indices_Xs)\n",
    "\n",
    "def log_joints(x, q_mean, q_sigma, mus, N, D, prior_mean, prior_sigma, batch_size):\n",
    "    log_pr = Normal(prior_mean, prior_sigma).log_prob(mus).sum(-1) # B\n",
    "    log_p_xs = torch.zeros(batch_size).cuda()\n",
    "    for b in range(batch_size):\n",
    "        xb = x[b]\n",
    "        xbk = xb - mus[b]\n",
    "        u, log_q = enc_circle(xbk, 1)\n",
    "        mu, log_p_x = dec_circle(u, xbk, 1)\n",
    "        log_p_xs[b] += log_p_x.sum()\n",
    "    return log_p_xs + log_pr\n",
    "\n",
    "\n",
    "def oneshot(x, N, D, num_samples, batch_size):\n",
    "    log_weights = torch.zeros((num_samples, batch_size)).cuda()\n",
    "    for l in range(num_samples):\n",
    "        data = x.view(batch_size*N, -1)\n",
    "        q_mean, q_sigma, mus, log_q = enc_global(data, N, D, batch_size)\n",
    "        log_p = log_joints(x, q_mean, q_sigma, mus, N, D, prior_mean, prior_sigma, batch_size)\n",
    "        log_weights[l] = log_p - log_q\n",
    "\n",
    "    weights = torch.exp(log_weights - logsumexp(log_weights, 0)).detach()\n",
    "    ess = (1./ (weights ** 2).sum(0)).mean()\n",
    "    ## EUBO and ELBO\n",
    "    eubo = torch.mul(weights, log_weights).sum(0).mean()\n",
    "    elbo = log_weights.mean(0).mean()\n",
    "\n",
    "    return eubo, elbo, ess\n"
   ]
  },
  {
   "cell_type": "code",
   "execution_count": 9,
   "metadata": {},
   "outputs": [],
   "source": [
    "def weights_init(m):\n",
    "    classname = m.__class__.__name__\n",
    "    if classname.find('Linear') != -1:\n",
    "        m.weight.data.normal_(0.0, 1e-2)     \n",
    "        \n",
    "enc_global = Encoder_global()\n",
    "enc_global = enc_global.cuda()\n",
    "enc_global.apply(weights_init)\n",
    "optimizer = torch.optim.Adam(list(enc_global.parameters()),lr=LEARNING_RATE, betas=(0.9, 0.99))"
   ]
  },
  {
   "cell_type": "code",
   "execution_count": 10,
   "metadata": {},
   "outputs": [
    {
     "name": "stdout",
     "output_type": "stream",
     "text": [
      "epoch=0, step=0, EUBO=85.914894, ELBO=-15066.287109, ESS=1.022 (0s)\n",
      "epoch=0, step=1, EUBO=113.803345, ELBO=-17279.382812, ESS=1.025 (0s)\n",
      "epoch=0, step=2, EUBO=255.904572, ELBO=-14285.001953, ESS=1.035 (0s)\n",
      "epoch=0, step=3, EUBO=44.753689, ELBO=-15495.067383, ESS=1.033 (0s)\n",
      "epoch=0, step=4, EUBO=157.286209, ELBO=-12420.082031, ESS=1.022 (0s)\n",
      "epoch=0, step=5, EUBO=125.138062, ELBO=-13016.625977, ESS=1.021 (0s)\n",
      "epoch=0, step=6, EUBO=-57.718235, ELBO=-14887.336914, ESS=1.005 (0s)\n",
      "epoch=0, step=7, EUBO=114.578438, ELBO=-13790.662109, ESS=1.015 (0s)\n",
      "epoch=0, step=8, EUBO=-327.213318, ELBO=-13564.597656, ESS=1.020 (0s)\n",
      "epoch=0, step=9, EUBO=69.292931, ELBO=-14575.319336, ESS=1.017 (0s)\n",
      "epoch=1, step=0, EUBO=145.509262, ELBO=-13818.910156, ESS=1.011 (0s)\n",
      "epoch=1, step=1, EUBO=-5.797024, ELBO=-14462.607422, ESS=1.018 (0s)\n",
      "epoch=1, step=2, EUBO=145.313782, ELBO=-13328.273438, ESS=1.011 (0s)\n",
      "epoch=1, step=3, EUBO=-272.219055, ELBO=-13288.707031, ESS=1.016 (0s)\n",
      "epoch=1, step=4, EUBO=179.707413, ELBO=-16324.484375, ESS=1.023 (0s)\n",
      "epoch=1, step=5, EUBO=23.389439, ELBO=-16613.816406, ESS=1.026 (0s)\n",
      "epoch=1, step=6, EUBO=132.614868, ELBO=-13098.759766, ESS=1.033 (0s)\n",
      "epoch=1, step=7, EUBO=-363.478363, ELBO=-14781.353516, ESS=1.021 (0s)\n",
      "epoch=1, step=8, EUBO=68.671158, ELBO=-11438.004883, ESS=1.031 (0s)\n",
      "epoch=1, step=9, EUBO=46.695961, ELBO=-13395.647461, ESS=1.013 (0s)\n",
      "epoch=2, step=0, EUBO=65.779327, ELBO=-12311.432617, ESS=1.008 (0s)\n",
      "epoch=2, step=1, EUBO=60.605873, ELBO=-13786.308594, ESS=1.021 (0s)\n",
      "epoch=2, step=2, EUBO=-292.070740, ELBO=-15433.267578, ESS=1.007 (0s)\n",
      "epoch=2, step=3, EUBO=76.220161, ELBO=-10683.932617, ESS=1.023 (0s)\n",
      "epoch=2, step=4, EUBO=8.761240, ELBO=-12768.637695, ESS=1.031 (0s)\n",
      "epoch=2, step=5, EUBO=-193.418198, ELBO=-13336.447266, ESS=1.016 (0s)\n",
      "epoch=2, step=6, EUBO=258.912842, ELBO=-13294.086914, ESS=1.050 (0s)\n",
      "epoch=2, step=7, EUBO=142.842529, ELBO=-14411.737305, ESS=1.006 (0s)\n",
      "epoch=2, step=8, EUBO=-84.962852, ELBO=-13453.330078, ESS=1.010 (0s)\n",
      "epoch=2, step=9, EUBO=-177.272171, ELBO=-16044.332031, ESS=1.015 (0s)\n",
      "epoch=3, step=0, EUBO=-99.588631, ELBO=-13404.461914, ESS=1.017 (0s)\n",
      "epoch=3, step=1, EUBO=-205.018967, ELBO=-13573.879883, ESS=1.049 (0s)\n",
      "epoch=3, step=2, EUBO=73.182373, ELBO=-12264.916992, ESS=1.009 (0s)\n",
      "epoch=3, step=3, EUBO=175.422638, ELBO=-11110.224609, ESS=1.036 (0s)\n",
      "epoch=3, step=4, EUBO=-79.312653, ELBO=-11632.397461, ESS=1.014 (0s)\n",
      "epoch=3, step=5, EUBO=-108.654922, ELBO=-12923.242188, ESS=1.038 (0s)\n",
      "epoch=3, step=6, EUBO=-61.676971, ELBO=-16383.437500, ESS=1.014 (0s)\n",
      "epoch=3, step=7, EUBO=110.967087, ELBO=-11662.992188, ESS=1.027 (0s)\n",
      "epoch=3, step=8, EUBO=26.211449, ELBO=-14620.916992, ESS=1.012 (0s)\n",
      "epoch=3, step=9, EUBO=140.777893, ELBO=-11317.648438, ESS=1.014 (0s)\n",
      "epoch=4, step=0, EUBO=5.001396, ELBO=-12418.541992, ESS=1.004 (0s)\n",
      "epoch=4, step=1, EUBO=277.144257, ELBO=-12408.447266, ESS=1.005 (0s)\n",
      "epoch=4, step=2, EUBO=158.982208, ELBO=-11818.586914, ESS=1.025 (0s)\n",
      "epoch=4, step=3, EUBO=-42.465416, ELBO=-13060.977539, ESS=1.010 (0s)\n",
      "epoch=4, step=4, EUBO=-292.968353, ELBO=-12611.620117, ESS=1.006 (0s)\n",
      "epoch=4, step=5, EUBO=-66.908203, ELBO=-14121.247070, ESS=1.002 (0s)\n",
      "epoch=4, step=6, EUBO=25.278151, ELBO=-13444.250977, ESS=1.016 (0s)\n",
      "epoch=4, step=7, EUBO=74.761230, ELBO=-13226.801758, ESS=1.016 (0s)\n",
      "epoch=4, step=8, EUBO=-43.710594, ELBO=-11763.856445, ESS=1.005 (0s)\n",
      "epoch=4, step=9, EUBO=-500.444061, ELBO=-12130.322266, ESS=1.003 (0s)\n",
      "epoch=5, step=0, EUBO=-199.518219, ELBO=-11312.933594, ESS=1.003 (0s)\n",
      "epoch=5, step=1, EUBO=-84.204170, ELBO=-12880.090820, ESS=1.015 (0s)\n",
      "epoch=5, step=2, EUBO=206.119446, ELBO=-10703.558594, ESS=1.029 (0s)\n",
      "epoch=5, step=3, EUBO=-333.499847, ELBO=-11955.720703, ESS=1.029 (0s)\n",
      "epoch=5, step=4, EUBO=2.119521, ELBO=-13510.214844, ESS=1.029 (0s)\n",
      "epoch=5, step=5, EUBO=174.168533, ELBO=-12240.019531, ESS=1.001 (0s)\n",
      "epoch=5, step=6, EUBO=-56.992302, ELBO=-13374.185547, ESS=1.020 (0s)\n",
      "epoch=5, step=7, EUBO=161.729767, ELBO=-12197.089844, ESS=1.018 (0s)\n",
      "epoch=5, step=8, EUBO=-208.470535, ELBO=-13657.944336, ESS=1.022 (0s)\n",
      "epoch=5, step=9, EUBO=-63.959618, ELBO=-14061.129883, ESS=1.020 (0s)\n",
      "epoch=6, step=0, EUBO=126.831169, ELBO=-10048.296875, ESS=1.002 (0s)\n",
      "epoch=6, step=1, EUBO=18.818876, ELBO=-12682.076172, ESS=1.011 (0s)\n",
      "epoch=6, step=2, EUBO=-60.603806, ELBO=-13802.761719, ESS=1.003 (0s)\n",
      "epoch=6, step=3, EUBO=-194.121796, ELBO=-13961.555664, ESS=1.019 (0s)\n",
      "epoch=6, step=4, EUBO=119.468842, ELBO=-11771.586914, ESS=1.014 (0s)\n",
      "epoch=6, step=5, EUBO=-203.539017, ELBO=-14763.410156, ESS=1.011 (0s)\n",
      "epoch=6, step=6, EUBO=-223.121796, ELBO=-14854.519531, ESS=1.026 (0s)\n",
      "epoch=6, step=7, EUBO=233.948318, ELBO=-8856.120117, ESS=1.037 (0s)\n",
      "epoch=6, step=8, EUBO=-417.391388, ELBO=-12278.957031, ESS=1.016 (0s)\n",
      "epoch=6, step=9, EUBO=37.135590, ELBO=-11778.185547, ESS=1.038 (0s)\n",
      "epoch=7, step=0, EUBO=105.619980, ELBO=-11878.904297, ESS=1.029 (0s)\n",
      "epoch=7, step=1, EUBO=37.148174, ELBO=-12208.653320, ESS=1.007 (0s)\n",
      "epoch=7, step=2, EUBO=-515.330078, ELBO=-15545.319336, ESS=1.019 (0s)\n",
      "epoch=7, step=3, EUBO=-82.995468, ELBO=-12553.786133, ESS=1.031 (0s)\n",
      "epoch=7, step=4, EUBO=36.390388, ELBO=-13672.179688, ESS=1.021 (0s)\n",
      "epoch=7, step=5, EUBO=-32.196095, ELBO=-13750.511719, ESS=1.002 (0s)\n",
      "epoch=7, step=6, EUBO=-0.491953, ELBO=-12884.358398, ESS=1.014 (0s)\n",
      "epoch=7, step=7, EUBO=128.414536, ELBO=-12441.638672, ESS=1.019 (0s)\n",
      "epoch=7, step=8, EUBO=209.601303, ELBO=-11649.026367, ESS=1.000 (0s)\n",
      "epoch=7, step=9, EUBO=136.215225, ELBO=-11858.975586, ESS=1.009 (0s)\n",
      "epoch=8, step=0, EUBO=-32.366825, ELBO=-13114.216797, ESS=1.001 (0s)\n",
      "epoch=8, step=1, EUBO=28.753515, ELBO=-14281.689453, ESS=1.010 (0s)\n",
      "epoch=8, step=2, EUBO=244.024796, ELBO=-11430.303711, ESS=1.021 (0s)\n",
      "epoch=8, step=3, EUBO=84.662857, ELBO=-12318.341797, ESS=1.001 (0s)\n",
      "epoch=8, step=4, EUBO=-47.292168, ELBO=-12542.466797, ESS=1.022 (0s)\n",
      "epoch=8, step=5, EUBO=-139.060471, ELBO=-13470.291992, ESS=1.049 (0s)\n",
      "epoch=8, step=6, EUBO=73.585983, ELBO=-12774.996094, ESS=1.022 (0s)\n",
      "epoch=8, step=7, EUBO=-54.335945, ELBO=-10950.825195, ESS=1.043 (0s)\n",
      "epoch=8, step=8, EUBO=11.299628, ELBO=-14294.419922, ESS=1.018 (0s)\n",
      "epoch=8, step=9, EUBO=-380.192566, ELBO=-14036.722656, ESS=1.006 (0s)\n",
      "epoch=9, step=0, EUBO=-0.599268, ELBO=-12969.671875, ESS=1.033 (0s)\n",
      "epoch=9, step=1, EUBO=-212.569260, ELBO=-12205.827148, ESS=1.014 (0s)\n",
      "epoch=9, step=2, EUBO=-96.551270, ELBO=-13101.168945, ESS=1.003 (0s)\n",
      "epoch=9, step=3, EUBO=-344.068054, ELBO=-16054.892578, ESS=1.009 (0s)\n",
      "epoch=9, step=4, EUBO=-12.371308, ELBO=-13327.009766, ESS=1.013 (0s)\n",
      "epoch=9, step=5, EUBO=-130.389328, ELBO=-12891.557617, ESS=1.005 (0s)\n",
      "epoch=9, step=6, EUBO=145.425873, ELBO=-12233.142578, ESS=1.008 (0s)\n",
      "epoch=9, step=7, EUBO=88.078003, ELBO=-12868.701172, ESS=1.020 (0s)\n",
      "epoch=9, step=8, EUBO=-12.400347, ELBO=-11613.410156, ESS=1.012 (0s)\n",
      "epoch=9, step=9, EUBO=-131.520355, ELBO=-12017.508789, ESS=1.010 (0s)\n",
      "epoch=10, step=0, EUBO=97.987244, ELBO=-12580.084961, ESS=1.014 (0s)\n",
      "epoch=10, step=1, EUBO=-86.414909, ELBO=-13273.384766, ESS=1.006 (0s)\n",
      "epoch=10, step=2, EUBO=-2.735137, ELBO=-11811.040039, ESS=1.032 (0s)\n",
      "epoch=10, step=3, EUBO=-105.958099, ELBO=-11423.408203, ESS=1.031 (0s)\n",
      "epoch=10, step=4, EUBO=-26.094179, ELBO=-11800.479492, ESS=1.015 (0s)\n",
      "epoch=10, step=5, EUBO=9.761885, ELBO=-12684.027344, ESS=1.026 (0s)\n",
      "epoch=10, step=6, EUBO=-56.810867, ELBO=-12937.854492, ESS=1.011 (0s)\n",
      "epoch=10, step=7, EUBO=-187.953217, ELBO=-11654.841797, ESS=1.005 (0s)\n",
      "epoch=10, step=8, EUBO=-186.129318, ELBO=-12980.316406, ESS=1.013 (0s)\n",
      "epoch=10, step=9, EUBO=85.473976, ELBO=-12806.862305, ESS=1.016 (0s)\n",
      "epoch=11, step=0, EUBO=-369.113770, ELBO=-13464.875000, ESS=1.017 (0s)\n",
      "epoch=11, step=1, EUBO=-153.679550, ELBO=-14341.180664, ESS=1.012 (0s)\n",
      "epoch=11, step=2, EUBO=-69.103058, ELBO=-12970.567383, ESS=1.009 (0s)\n",
      "epoch=11, step=3, EUBO=29.256517, ELBO=-12042.317383, ESS=1.012 (0s)\n",
      "epoch=11, step=4, EUBO=81.028999, ELBO=-11572.935547, ESS=1.014 (0s)\n",
      "epoch=11, step=5, EUBO=-49.140369, ELBO=-14284.573242, ESS=1.035 (0s)\n",
      "epoch=11, step=6, EUBO=-17.505571, ELBO=-12527.804688, ESS=1.021 (0s)\n",
      "epoch=11, step=7, EUBO=185.773376, ELBO=-11903.769531, ESS=1.018 (0s)\n",
      "epoch=11, step=8, EUBO=17.828382, ELBO=-11159.171875, ESS=1.027 (0s)\n",
      "epoch=11, step=9, EUBO=-44.962967, ELBO=-9513.506836, ESS=1.026 (0s)\n",
      "epoch=12, step=0, EUBO=-244.072586, ELBO=-13945.901367, ESS=1.050 (0s)\n",
      "epoch=12, step=1, EUBO=138.582657, ELBO=-9441.953125, ESS=1.003 (0s)\n",
      "epoch=12, step=2, EUBO=171.527191, ELBO=-12619.108398, ESS=1.013 (0s)\n",
      "epoch=12, step=3, EUBO=-103.936317, ELBO=-13391.652344, ESS=1.011 (0s)\n",
      "epoch=12, step=4, EUBO=83.282860, ELBO=-12500.277344, ESS=1.010 (0s)\n",
      "epoch=12, step=5, EUBO=-349.728455, ELBO=-11619.381836, ESS=1.036 (0s)\n",
      "epoch=12, step=6, EUBO=89.068878, ELBO=-12028.872070, ESS=1.006 (0s)\n",
      "epoch=12, step=7, EUBO=24.750917, ELBO=-13310.165039, ESS=1.008 (0s)\n",
      "epoch=12, step=8, EUBO=-37.008560, ELBO=-12499.710938, ESS=1.023 (0s)\n",
      "epoch=12, step=9, EUBO=49.731052, ELBO=-11921.548828, ESS=1.016 (0s)\n",
      "epoch=13, step=0, EUBO=106.320740, ELBO=-11474.581055, ESS=1.020 (0s)\n",
      "epoch=13, step=1, EUBO=8.040191, ELBO=-10746.889648, ESS=1.026 (0s)\n",
      "epoch=13, step=2, EUBO=193.038147, ELBO=-11941.399414, ESS=1.018 (0s)\n",
      "epoch=13, step=3, EUBO=-47.183475, ELBO=-10451.365234, ESS=1.014 (0s)\n",
      "epoch=13, step=4, EUBO=170.842651, ELBO=-12669.853516, ESS=1.033 (0s)\n",
      "epoch=13, step=5, EUBO=-199.765717, ELBO=-13580.671875, ESS=1.016 (0s)\n",
      "epoch=13, step=6, EUBO=182.910049, ELBO=-9944.993164, ESS=1.020 (0s)\n",
      "epoch=13, step=7, EUBO=-118.266090, ELBO=-12281.410156, ESS=1.007 (0s)\n",
      "epoch=13, step=8, EUBO=196.328323, ELBO=-9921.277344, ESS=1.037 (0s)\n",
      "epoch=13, step=9, EUBO=-39.462948, ELBO=-10936.538086, ESS=1.000 (0s)\n",
      "epoch=14, step=0, EUBO=-143.003128, ELBO=-11605.881836, ESS=1.011 (0s)\n",
      "epoch=14, step=1, EUBO=1.575312, ELBO=-10897.341797, ESS=1.022 (0s)\n",
      "epoch=14, step=2, EUBO=-16.071152, ELBO=-12716.807617, ESS=1.027 (0s)\n",
      "epoch=14, step=3, EUBO=-425.929749, ELBO=-12576.764648, ESS=1.028 (0s)\n",
      "epoch=14, step=4, EUBO=60.382923, ELBO=-10933.210938, ESS=1.018 (0s)\n",
      "epoch=14, step=5, EUBO=42.180302, ELBO=-11174.492188, ESS=1.025 (0s)\n",
      "epoch=14, step=6, EUBO=113.398979, ELBO=-11369.015625, ESS=1.027 (0s)\n",
      "epoch=14, step=7, EUBO=-120.198265, ELBO=-14022.460938, ESS=1.020 (0s)\n",
      "epoch=14, step=8, EUBO=-29.533588, ELBO=-10390.408203, ESS=1.024 (0s)\n",
      "epoch=14, step=9, EUBO=-9.188251, ELBO=-10342.425781, ESS=1.010 (0s)\n",
      "epoch=15, step=0, EUBO=149.195328, ELBO=-11476.514648, ESS=1.013 (0s)\n",
      "epoch=15, step=1, EUBO=-151.396286, ELBO=-11572.166016, ESS=1.005 (0s)\n",
      "epoch=15, step=2, EUBO=-119.040321, ELBO=-11325.522461, ESS=1.012 (0s)\n",
      "epoch=15, step=3, EUBO=-312.492126, ELBO=-13100.831055, ESS=1.022 (0s)\n",
      "epoch=15, step=4, EUBO=14.632412, ELBO=-10956.380859, ESS=1.024 (0s)\n",
      "epoch=15, step=5, EUBO=42.604744, ELBO=-11165.321289, ESS=1.034 (0s)\n",
      "epoch=15, step=6, EUBO=118.786636, ELBO=-10489.359375, ESS=1.002 (0s)\n",
      "epoch=15, step=7, EUBO=72.351898, ELBO=-11048.646484, ESS=1.026 (0s)\n",
      "epoch=15, step=8, EUBO=125.013924, ELBO=-11962.286133, ESS=1.021 (0s)\n",
      "epoch=15, step=9, EUBO=43.957676, ELBO=-12450.114258, ESS=1.005 (0s)\n",
      "epoch=16, step=0, EUBO=230.704758, ELBO=-11120.682617, ESS=1.011 (0s)\n",
      "epoch=16, step=1, EUBO=24.693062, ELBO=-12302.389648, ESS=1.019 (0s)\n",
      "epoch=16, step=2, EUBO=34.815872, ELBO=-14237.876953, ESS=1.017 (0s)\n",
      "epoch=16, step=3, EUBO=138.527313, ELBO=-11776.352539, ESS=1.014 (0s)\n",
      "epoch=16, step=4, EUBO=-189.535507, ELBO=-13591.987305, ESS=1.041 (0s)\n",
      "epoch=16, step=5, EUBO=107.135513, ELBO=-9405.366211, ESS=1.018 (0s)\n",
      "epoch=16, step=6, EUBO=-1.496562, ELBO=-12586.390625, ESS=1.006 (0s)\n",
      "epoch=16, step=7, EUBO=43.220852, ELBO=-11506.960938, ESS=1.013 (0s)\n",
      "epoch=16, step=8, EUBO=127.109917, ELBO=-9059.358398, ESS=1.003 (0s)\n",
      "epoch=16, step=9, EUBO=198.676514, ELBO=-9518.118164, ESS=1.010 (0s)\n",
      "epoch=17, step=0, EUBO=173.940521, ELBO=-9584.100586, ESS=1.019 (0s)\n",
      "epoch=17, step=1, EUBO=-234.520096, ELBO=-11702.270508, ESS=1.008 (0s)\n",
      "epoch=17, step=2, EUBO=99.285622, ELBO=-9766.616211, ESS=1.021 (0s)\n",
      "epoch=17, step=3, EUBO=-177.625351, ELBO=-14096.563477, ESS=1.008 (0s)\n",
      "epoch=17, step=4, EUBO=165.738586, ELBO=-11241.844727, ESS=1.006 (0s)\n",
      "epoch=17, step=5, EUBO=194.885803, ELBO=-9223.437500, ESS=1.019 (0s)\n",
      "epoch=17, step=6, EUBO=171.678238, ELBO=-11929.375000, ESS=1.025 (0s)\n",
      "epoch=17, step=7, EUBO=191.405228, ELBO=-10348.689453, ESS=1.019 (0s)\n",
      "epoch=17, step=8, EUBO=242.361084, ELBO=-11116.290039, ESS=1.019 (0s)\n",
      "epoch=17, step=9, EUBO=84.819939, ELBO=-11295.037109, ESS=1.006 (0s)\n",
      "epoch=18, step=0, EUBO=-137.539886, ELBO=-13111.965820, ESS=1.002 (0s)\n",
      "epoch=18, step=1, EUBO=24.570585, ELBO=-12753.932617, ESS=1.032 (0s)\n",
      "epoch=18, step=2, EUBO=-96.718613, ELBO=-11712.517578, ESS=1.019 (0s)\n",
      "epoch=18, step=3, EUBO=136.865448, ELBO=-9838.416992, ESS=1.006 (0s)\n",
      "epoch=18, step=4, EUBO=86.270851, ELBO=-9713.813477, ESS=1.019 (0s)\n",
      "epoch=18, step=5, EUBO=102.601151, ELBO=-11436.912109, ESS=1.027 (0s)\n",
      "epoch=18, step=6, EUBO=266.965668, ELBO=-8870.698242, ESS=1.037 (0s)\n",
      "epoch=18, step=7, EUBO=40.345020, ELBO=-10122.327148, ESS=1.002 (0s)\n",
      "epoch=18, step=8, EUBO=246.727539, ELBO=-9450.430664, ESS=1.005 (0s)\n",
      "epoch=18, step=9, EUBO=139.252472, ELBO=-9716.597656, ESS=1.006 (0s)\n",
      "epoch=19, step=0, EUBO=103.757851, ELBO=-10203.390625, ESS=1.012 (0s)\n",
      "epoch=19, step=1, EUBO=147.927551, ELBO=-10091.740234, ESS=1.028 (0s)\n",
      "epoch=19, step=2, EUBO=36.060028, ELBO=-10439.880859, ESS=1.027 (0s)\n",
      "epoch=19, step=3, EUBO=231.337021, ELBO=-9084.558594, ESS=1.021 (0s)\n",
      "epoch=19, step=4, EUBO=112.298279, ELBO=-10352.891602, ESS=1.013 (0s)\n",
      "epoch=19, step=5, EUBO=307.808044, ELBO=-9320.046875, ESS=1.029 (0s)\n",
      "epoch=19, step=6, EUBO=245.805191, ELBO=-8364.079102, ESS=1.016 (0s)\n",
      "epoch=19, step=7, EUBO=39.706749, ELBO=-9620.310547, ESS=1.032 (0s)\n",
      "epoch=19, step=8, EUBO=201.469833, ELBO=-10276.583984, ESS=1.016 (0s)\n",
      "epoch=19, step=9, EUBO=219.419876, ELBO=-9131.308594, ESS=1.025 (0s)\n",
      "epoch=20, step=0, EUBO=171.405426, ELBO=-10174.468750, ESS=1.033 (0s)\n",
      "epoch=20, step=1, EUBO=293.666687, ELBO=-9328.331055, ESS=1.016 (0s)\n",
      "epoch=20, step=2, EUBO=275.195862, ELBO=-8637.333008, ESS=1.024 (0s)\n",
      "epoch=20, step=3, EUBO=241.423386, ELBO=-9960.767578, ESS=1.019 (0s)\n",
      "epoch=20, step=4, EUBO=146.440918, ELBO=-8886.122070, ESS=1.050 (0s)\n",
      "epoch=20, step=5, EUBO=297.025543, ELBO=-7563.931152, ESS=1.032 (0s)\n",
      "epoch=20, step=6, EUBO=283.501923, ELBO=-8414.519531, ESS=1.026 (0s)\n",
      "epoch=20, step=7, EUBO=252.077301, ELBO=-7351.726074, ESS=1.024 (0s)\n",
      "epoch=20, step=8, EUBO=301.285278, ELBO=-8365.751953, ESS=1.025 (0s)\n",
      "epoch=20, step=9, EUBO=142.293030, ELBO=-8230.160156, ESS=1.011 (0s)\n",
      "epoch=21, step=0, EUBO=238.465439, ELBO=-10124.099609, ESS=1.025 (0s)\n",
      "epoch=21, step=1, EUBO=258.329865, ELBO=-8028.081055, ESS=1.030 (0s)\n",
      "epoch=21, step=2, EUBO=314.616638, ELBO=-6885.953613, ESS=1.015 (0s)\n",
      "epoch=21, step=3, EUBO=147.666031, ELBO=-7786.308594, ESS=1.012 (0s)\n",
      "epoch=21, step=4, EUBO=249.491943, ELBO=-7695.273438, ESS=1.042 (0s)\n",
      "epoch=21, step=5, EUBO=78.196609, ELBO=-8682.916016, ESS=1.043 (0s)\n",
      "epoch=21, step=6, EUBO=381.986542, ELBO=-7047.505371, ESS=1.046 (0s)\n",
      "epoch=21, step=7, EUBO=209.149246, ELBO=-7133.290039, ESS=1.029 (0s)\n",
      "epoch=21, step=8, EUBO=258.253357, ELBO=-6921.773438, ESS=1.031 (0s)\n",
      "epoch=21, step=9, EUBO=357.403503, ELBO=-6813.185547, ESS=1.031 (0s)\n",
      "epoch=22, step=0, EUBO=256.523499, ELBO=-5882.664062, ESS=1.013 (0s)\n",
      "epoch=22, step=1, EUBO=228.583710, ELBO=-7820.703613, ESS=1.055 (0s)\n",
      "epoch=22, step=2, EUBO=309.392365, ELBO=-6713.109375, ESS=1.034 (0s)\n",
      "epoch=22, step=3, EUBO=341.070068, ELBO=-6146.773438, ESS=1.027 (0s)\n",
      "epoch=22, step=4, EUBO=249.514786, ELBO=-6178.264648, ESS=1.030 (0s)\n",
      "epoch=22, step=5, EUBO=273.018463, ELBO=-6976.341309, ESS=1.041 (0s)\n",
      "epoch=22, step=6, EUBO=278.214874, ELBO=-6943.969727, ESS=1.042 (0s)\n",
      "epoch=22, step=7, EUBO=195.434082, ELBO=-6060.942383, ESS=1.023 (0s)\n",
      "epoch=22, step=8, EUBO=231.339600, ELBO=-6944.875977, ESS=1.037 (0s)\n",
      "epoch=22, step=9, EUBO=212.169357, ELBO=-7282.120605, ESS=1.013 (0s)\n",
      "epoch=23, step=0, EUBO=327.711243, ELBO=-5602.813477, ESS=1.032 (0s)\n",
      "epoch=23, step=1, EUBO=277.575165, ELBO=-6695.468750, ESS=1.026 (0s)\n",
      "epoch=23, step=2, EUBO=337.204803, ELBO=-6083.064941, ESS=1.026 (0s)\n",
      "epoch=23, step=3, EUBO=317.518768, ELBO=-5291.253418, ESS=1.033 (0s)\n",
      "epoch=23, step=4, EUBO=171.566559, ELBO=-7514.190918, ESS=1.033 (0s)\n",
      "epoch=23, step=5, EUBO=278.905579, ELBO=-5773.924805, ESS=1.046 (0s)\n",
      "epoch=23, step=6, EUBO=388.022949, ELBO=-4774.234863, ESS=1.018 (0s)\n",
      "epoch=23, step=7, EUBO=365.013397, ELBO=-4987.181641, ESS=1.047 (0s)\n",
      "epoch=23, step=8, EUBO=317.130035, ELBO=-5320.902344, ESS=1.039 (0s)\n",
      "epoch=23, step=9, EUBO=80.025162, ELBO=-6492.346191, ESS=1.043 (0s)\n",
      "epoch=24, step=0, EUBO=273.801788, ELBO=-5320.435547, ESS=1.027 (0s)\n",
      "epoch=24, step=1, EUBO=265.290527, ELBO=-4869.620117, ESS=1.062 (0s)\n",
      "epoch=24, step=2, EUBO=333.610687, ELBO=-5075.160645, ESS=1.025 (0s)\n",
      "epoch=24, step=3, EUBO=399.771393, ELBO=-5318.044922, ESS=1.032 (0s)\n",
      "epoch=24, step=4, EUBO=259.420837, ELBO=-4985.360352, ESS=1.026 (0s)\n",
      "epoch=24, step=5, EUBO=332.257965, ELBO=-5596.603516, ESS=1.034 (0s)\n",
      "epoch=24, step=6, EUBO=428.844788, ELBO=-4109.770996, ESS=1.066 (0s)\n",
      "epoch=24, step=7, EUBO=308.431213, ELBO=-4873.926270, ESS=1.053 (0s)\n",
      "epoch=24, step=8, EUBO=373.801544, ELBO=-3391.973877, ESS=1.046 (0s)\n",
      "epoch=24, step=9, EUBO=244.290390, ELBO=-5646.417969, ESS=1.011 (0s)\n",
      "epoch=25, step=0, EUBO=391.885071, ELBO=-4402.941895, ESS=1.043 (0s)\n",
      "epoch=25, step=1, EUBO=404.433594, ELBO=-3650.729492, ESS=1.042 (0s)\n",
      "epoch=25, step=2, EUBO=368.025391, ELBO=-3593.798340, ESS=1.042 (0s)\n",
      "epoch=25, step=3, EUBO=287.982483, ELBO=-3941.093750, ESS=1.035 (0s)\n",
      "epoch=25, step=4, EUBO=330.613983, ELBO=-3605.988770, ESS=1.025 (0s)\n",
      "epoch=25, step=5, EUBO=261.301819, ELBO=-4480.605957, ESS=1.067 (0s)\n",
      "epoch=25, step=6, EUBO=348.354523, ELBO=-4544.493164, ESS=1.047 (0s)\n",
      "epoch=25, step=7, EUBO=385.998596, ELBO=-4445.661621, ESS=1.027 (0s)\n",
      "epoch=25, step=8, EUBO=368.415436, ELBO=-4144.739746, ESS=1.064 (0s)\n",
      "epoch=25, step=9, EUBO=417.910339, ELBO=-3701.227539, ESS=1.071 (0s)\n",
      "epoch=26, step=0, EUBO=357.984711, ELBO=-4953.793457, ESS=1.042 (0s)\n",
      "epoch=26, step=1, EUBO=428.085846, ELBO=-3405.622314, ESS=1.056 (0s)\n",
      "epoch=26, step=2, EUBO=380.582336, ELBO=-2946.489502, ESS=1.089 (0s)\n",
      "epoch=26, step=3, EUBO=385.144928, ELBO=-4057.333984, ESS=1.048 (0s)\n",
      "epoch=26, step=4, EUBO=432.124237, ELBO=-3766.416260, ESS=1.058 (0s)\n",
      "epoch=26, step=5, EUBO=387.124847, ELBO=-3809.186768, ESS=1.035 (0s)\n",
      "epoch=26, step=6, EUBO=281.240540, ELBO=-3426.625488, ESS=1.059 (0s)\n",
      "epoch=26, step=7, EUBO=283.671326, ELBO=-3630.915771, ESS=1.026 (0s)\n",
      "epoch=26, step=8, EUBO=388.473907, ELBO=-3046.947998, ESS=1.054 (0s)\n",
      "epoch=26, step=9, EUBO=318.229279, ELBO=-3076.224854, ESS=1.037 (0s)\n",
      "epoch=27, step=0, EUBO=409.931305, ELBO=-3432.149414, ESS=1.059 (0s)\n",
      "epoch=27, step=1, EUBO=270.644897, ELBO=-4359.337891, ESS=1.064 (0s)\n",
      "epoch=27, step=2, EUBO=379.763336, ELBO=-2847.662354, ESS=1.049 (0s)\n",
      "epoch=27, step=3, EUBO=288.811432, ELBO=-3122.477783, ESS=1.052 (0s)\n",
      "epoch=27, step=4, EUBO=438.582458, ELBO=-2576.653809, ESS=1.068 (0s)\n",
      "epoch=27, step=5, EUBO=374.262482, ELBO=-2965.278564, ESS=1.094 (0s)\n",
      "epoch=27, step=6, EUBO=332.554626, ELBO=-2725.234375, ESS=1.044 (0s)\n",
      "epoch=27, step=7, EUBO=416.998199, ELBO=-2588.937988, ESS=1.049 (0s)\n",
      "epoch=27, step=8, EUBO=293.593964, ELBO=-3082.893066, ESS=1.089 (0s)\n",
      "epoch=27, step=9, EUBO=397.337646, ELBO=-2795.464844, ESS=1.041 (0s)\n",
      "epoch=28, step=0, EUBO=387.628357, ELBO=-2529.495605, ESS=1.029 (0s)\n",
      "epoch=28, step=1, EUBO=377.381165, ELBO=-2889.297363, ESS=1.076 (0s)\n",
      "epoch=28, step=2, EUBO=385.520447, ELBO=-2570.552246, ESS=1.057 (0s)\n",
      "epoch=28, step=3, EUBO=319.911346, ELBO=-3201.681885, ESS=1.071 (0s)\n",
      "epoch=28, step=4, EUBO=431.857849, ELBO=-2297.840576, ESS=1.074 (0s)\n",
      "epoch=28, step=5, EUBO=312.989410, ELBO=-2921.887939, ESS=1.051 (0s)\n",
      "epoch=28, step=6, EUBO=392.712616, ELBO=-2093.289551, ESS=1.070 (0s)\n",
      "epoch=28, step=7, EUBO=369.312714, ELBO=-2665.961426, ESS=1.064 (0s)\n",
      "epoch=28, step=8, EUBO=356.928131, ELBO=-2654.864258, ESS=1.036 (0s)\n",
      "epoch=28, step=9, EUBO=399.603363, ELBO=-2584.691895, ESS=1.076 (0s)\n",
      "epoch=29, step=0, EUBO=347.297729, ELBO=-2505.672363, ESS=1.063 (0s)\n",
      "epoch=29, step=1, EUBO=380.863312, ELBO=-2143.310059, ESS=1.053 (0s)\n",
      "epoch=29, step=2, EUBO=345.198975, ELBO=-2207.767822, ESS=1.063 (0s)\n",
      "epoch=29, step=3, EUBO=447.038147, ELBO=-2245.400635, ESS=1.076 (0s)\n",
      "epoch=29, step=4, EUBO=404.306976, ELBO=-2263.042725, ESS=1.079 (0s)\n",
      "epoch=29, step=5, EUBO=356.558044, ELBO=-2516.532227, ESS=1.065 (0s)\n",
      "epoch=29, step=6, EUBO=349.980743, ELBO=-2417.547363, ESS=1.056 (0s)\n",
      "epoch=29, step=7, EUBO=335.735779, ELBO=-2092.282227, ESS=1.089 (0s)\n",
      "epoch=29, step=8, EUBO=328.391327, ELBO=-2500.189209, ESS=1.045 (0s)\n",
      "epoch=29, step=9, EUBO=367.547577, ELBO=-2500.962646, ESS=1.073 (0s)\n",
      "epoch=30, step=0, EUBO=338.952026, ELBO=-2445.025635, ESS=1.051 (0s)\n",
      "epoch=30, step=1, EUBO=426.352661, ELBO=-2136.704834, ESS=1.067 (0s)\n",
      "epoch=30, step=2, EUBO=331.426178, ELBO=-2039.931519, ESS=1.067 (0s)\n",
      "epoch=30, step=3, EUBO=407.581390, ELBO=-1826.317749, ESS=1.073 (0s)\n",
      "epoch=30, step=4, EUBO=417.188324, ELBO=-1676.760620, ESS=1.079 (0s)\n",
      "epoch=30, step=5, EUBO=302.878052, ELBO=-2025.103394, ESS=1.066 (0s)\n",
      "epoch=30, step=6, EUBO=424.127106, ELBO=-2239.998779, ESS=1.101 (0s)\n",
      "epoch=30, step=7, EUBO=361.918732, ELBO=-1647.414917, ESS=1.102 (0s)\n",
      "epoch=30, step=8, EUBO=442.454041, ELBO=-2001.145996, ESS=1.076 (0s)\n",
      "epoch=30, step=9, EUBO=387.062531, ELBO=-1965.927124, ESS=1.078 (0s)\n",
      "epoch=31, step=0, EUBO=286.852112, ELBO=-2363.749023, ESS=1.051 (0s)\n",
      "epoch=31, step=1, EUBO=440.140656, ELBO=-1281.937134, ESS=1.111 (0s)\n",
      "epoch=31, step=2, EUBO=358.012848, ELBO=-2006.943359, ESS=1.051 (0s)\n",
      "epoch=31, step=3, EUBO=377.066162, ELBO=-1908.698975, ESS=1.024 (0s)\n",
      "epoch=31, step=4, EUBO=451.265991, ELBO=-1516.359375, ESS=1.089 (0s)\n",
      "epoch=31, step=5, EUBO=445.894836, ELBO=-1514.590698, ESS=1.100 (0s)\n",
      "epoch=31, step=6, EUBO=304.751678, ELBO=-1872.761230, ESS=1.110 (0s)\n",
      "epoch=31, step=7, EUBO=370.088104, ELBO=-1736.235596, ESS=1.128 (0s)\n",
      "epoch=31, step=8, EUBO=358.004761, ELBO=-1664.052490, ESS=1.070 (0s)\n",
      "epoch=31, step=9, EUBO=376.322906, ELBO=-1823.686890, ESS=1.046 (0s)\n",
      "epoch=32, step=0, EUBO=359.773193, ELBO=-2033.990601, ESS=1.069 (0s)\n",
      "epoch=32, step=1, EUBO=447.464905, ELBO=-1245.720703, ESS=1.067 (0s)\n",
      "epoch=32, step=2, EUBO=393.809906, ELBO=-1601.835938, ESS=1.086 (0s)\n",
      "epoch=32, step=3, EUBO=356.989441, ELBO=-2134.909912, ESS=1.053 (0s)\n",
      "epoch=32, step=4, EUBO=372.267303, ELBO=-1549.347656, ESS=1.071 (0s)\n",
      "epoch=32, step=5, EUBO=304.140656, ELBO=-1529.659180, ESS=1.101 (0s)\n",
      "epoch=32, step=6, EUBO=437.152802, ELBO=-1482.822754, ESS=1.050 (0s)\n",
      "epoch=32, step=7, EUBO=408.957672, ELBO=-1492.081055, ESS=1.123 (0s)\n",
      "epoch=32, step=8, EUBO=346.662720, ELBO=-1671.158691, ESS=1.117 (0s)\n",
      "epoch=32, step=9, EUBO=422.442963, ELBO=-1615.114014, ESS=1.072 (0s)\n",
      "epoch=33, step=0, EUBO=407.378204, ELBO=-1636.775757, ESS=1.063 (0s)\n",
      "epoch=33, step=1, EUBO=349.667816, ELBO=-1449.059937, ESS=1.077 (0s)\n",
      "epoch=33, step=2, EUBO=455.020447, ELBO=-1190.205933, ESS=1.109 (0s)\n",
      "epoch=33, step=3, EUBO=399.483887, ELBO=-1486.433716, ESS=1.064 (0s)\n",
      "epoch=33, step=4, EUBO=413.606506, ELBO=-1334.690918, ESS=1.052 (0s)\n",
      "epoch=33, step=5, EUBO=312.412689, ELBO=-1799.023682, ESS=1.076 (0s)\n",
      "epoch=33, step=6, EUBO=425.184052, ELBO=-1195.535645, ESS=1.112 (0s)\n",
      "epoch=33, step=7, EUBO=363.827179, ELBO=-1748.602173, ESS=1.105 (0s)\n",
      "epoch=33, step=8, EUBO=450.442139, ELBO=-1130.664062, ESS=1.072 (0s)\n",
      "epoch=33, step=9, EUBO=429.388824, ELBO=-1266.976929, ESS=1.144 (0s)\n",
      "epoch=34, step=0, EUBO=447.445770, ELBO=-1230.692261, ESS=1.077 (0s)\n",
      "epoch=34, step=1, EUBO=405.429138, ELBO=-1219.040771, ESS=1.097 (0s)\n",
      "epoch=34, step=2, EUBO=414.477570, ELBO=-1414.416992, ESS=1.086 (0s)\n",
      "epoch=34, step=3, EUBO=427.689606, ELBO=-1288.431274, ESS=1.058 (0s)\n",
      "epoch=34, step=4, EUBO=407.803986, ELBO=-1279.613770, ESS=1.106 (0s)\n",
      "epoch=34, step=5, EUBO=433.783081, ELBO=-1199.757812, ESS=1.112 (0s)\n",
      "epoch=34, step=6, EUBO=394.486908, ELBO=-1381.439941, ESS=1.127 (0s)\n",
      "epoch=34, step=7, EUBO=407.068848, ELBO=-1406.216553, ESS=1.084 (0s)\n",
      "epoch=34, step=8, EUBO=431.872711, ELBO=-1056.514893, ESS=1.086 (0s)\n",
      "epoch=34, step=9, EUBO=383.979126, ELBO=-1314.722046, ESS=1.083 (0s)\n",
      "epoch=35, step=0, EUBO=456.057343, ELBO=-1190.892212, ESS=1.065 (0s)\n",
      "epoch=35, step=1, EUBO=459.942047, ELBO=-1199.568115, ESS=1.088 (0s)\n",
      "epoch=35, step=2, EUBO=418.800140, ELBO=-1301.336426, ESS=1.112 (0s)\n",
      "epoch=35, step=3, EUBO=370.829742, ELBO=-1509.021851, ESS=1.113 (0s)\n",
      "epoch=35, step=4, EUBO=416.610291, ELBO=-1263.332642, ESS=1.131 (0s)\n",
      "epoch=35, step=5, EUBO=363.697327, ELBO=-1144.248413, ESS=1.098 (0s)\n",
      "epoch=35, step=6, EUBO=401.233276, ELBO=-1432.228394, ESS=1.131 (0s)\n",
      "epoch=35, step=7, EUBO=405.477966, ELBO=-1238.044067, ESS=1.085 (0s)\n",
      "epoch=35, step=8, EUBO=405.634125, ELBO=-1175.252319, ESS=1.108 (0s)\n",
      "epoch=35, step=9, EUBO=437.604675, ELBO=-1178.428467, ESS=1.095 (0s)\n",
      "epoch=36, step=0, EUBO=462.292816, ELBO=-796.414856, ESS=1.120 (0s)\n",
      "epoch=36, step=1, EUBO=386.507721, ELBO=-1236.205200, ESS=1.097 (0s)\n",
      "epoch=36, step=2, EUBO=393.080109, ELBO=-1147.791504, ESS=1.069 (0s)\n",
      "epoch=36, step=3, EUBO=399.080292, ELBO=-1109.745728, ESS=1.104 (0s)\n",
      "epoch=36, step=4, EUBO=445.155182, ELBO=-1070.557617, ESS=1.186 (0s)\n",
      "epoch=36, step=5, EUBO=394.390076, ELBO=-1202.867310, ESS=1.086 (0s)\n",
      "epoch=36, step=6, EUBO=412.127075, ELBO=-1078.136719, ESS=1.102 (0s)\n",
      "epoch=36, step=7, EUBO=461.231476, ELBO=-934.337463, ESS=1.131 (0s)\n",
      "epoch=36, step=8, EUBO=437.628265, ELBO=-1012.514954, ESS=1.104 (0s)\n",
      "epoch=36, step=9, EUBO=427.662231, ELBO=-985.438110, ESS=1.129 (0s)\n",
      "epoch=37, step=0, EUBO=444.070068, ELBO=-845.341675, ESS=1.171 (0s)\n",
      "epoch=37, step=1, EUBO=369.342560, ELBO=-1281.296631, ESS=1.103 (0s)\n",
      "epoch=37, step=2, EUBO=377.656097, ELBO=-1128.129028, ESS=1.107 (0s)\n",
      "epoch=37, step=3, EUBO=373.597961, ELBO=-1197.790283, ESS=1.120 (0s)\n",
      "epoch=37, step=4, EUBO=446.916229, ELBO=-928.109985, ESS=1.048 (0s)\n",
      "epoch=37, step=5, EUBO=518.532593, ELBO=-627.949768, ESS=1.128 (0s)\n",
      "epoch=37, step=6, EUBO=454.376678, ELBO=-975.191467, ESS=1.098 (0s)\n",
      "epoch=37, step=7, EUBO=482.581146, ELBO=-1157.305786, ESS=1.110 (0s)\n",
      "epoch=37, step=8, EUBO=402.745605, ELBO=-1116.231323, ESS=1.131 (0s)\n",
      "epoch=37, step=9, EUBO=458.937408, ELBO=-893.899048, ESS=1.156 (0s)\n",
      "epoch=38, step=0, EUBO=466.755798, ELBO=-870.230225, ESS=1.167 (0s)\n",
      "epoch=38, step=1, EUBO=442.496643, ELBO=-932.493286, ESS=1.082 (0s)\n",
      "epoch=38, step=2, EUBO=418.254608, ELBO=-1034.224243, ESS=1.154 (0s)\n",
      "epoch=38, step=3, EUBO=437.079926, ELBO=-887.604492, ESS=1.088 (0s)\n",
      "epoch=38, step=4, EUBO=452.340546, ELBO=-703.234680, ESS=1.190 (0s)\n",
      "epoch=38, step=5, EUBO=417.300079, ELBO=-829.005920, ESS=1.133 (0s)\n",
      "epoch=38, step=6, EUBO=417.257568, ELBO=-1131.214478, ESS=1.120 (0s)\n",
      "epoch=38, step=7, EUBO=462.504639, ELBO=-764.502197, ESS=1.115 (0s)\n",
      "epoch=38, step=8, EUBO=464.570221, ELBO=-920.954651, ESS=1.103 (0s)\n",
      "epoch=38, step=9, EUBO=449.642517, ELBO=-831.260437, ESS=1.159 (0s)\n",
      "epoch=39, step=0, EUBO=478.684052, ELBO=-758.916565, ESS=1.223 (0s)\n",
      "epoch=39, step=1, EUBO=495.524139, ELBO=-935.956848, ESS=1.091 (0s)\n",
      "epoch=39, step=2, EUBO=454.409607, ELBO=-917.329956, ESS=1.104 (0s)\n",
      "epoch=39, step=3, EUBO=419.817566, ELBO=-1029.866211, ESS=1.085 (0s)\n",
      "epoch=39, step=4, EUBO=496.875153, ELBO=-646.566650, ESS=1.197 (0s)\n",
      "epoch=39, step=5, EUBO=472.280151, ELBO=-670.962585, ESS=1.139 (0s)\n",
      "epoch=39, step=6, EUBO=458.195770, ELBO=-898.535034, ESS=1.106 (0s)\n",
      "epoch=39, step=7, EUBO=468.873962, ELBO=-906.312805, ESS=1.130 (0s)\n",
      "epoch=39, step=8, EUBO=452.509277, ELBO=-881.173279, ESS=1.135 (0s)\n",
      "epoch=39, step=9, EUBO=499.832031, ELBO=-510.344635, ESS=1.114 (0s)\n",
      "epoch=40, step=0, EUBO=478.809875, ELBO=-695.359802, ESS=1.109 (0s)\n",
      "epoch=40, step=1, EUBO=474.895782, ELBO=-521.983948, ESS=1.150 (0s)\n",
      "epoch=40, step=2, EUBO=448.499207, ELBO=-908.201843, ESS=1.132 (0s)\n",
      "epoch=40, step=3, EUBO=469.335785, ELBO=-686.379700, ESS=1.155 (0s)\n",
      "epoch=40, step=4, EUBO=426.576447, ELBO=-1093.324219, ESS=1.134 (0s)\n",
      "epoch=40, step=5, EUBO=491.582031, ELBO=-538.161926, ESS=1.145 (0s)\n",
      "epoch=40, step=6, EUBO=464.907593, ELBO=-728.675842, ESS=1.182 (0s)\n",
      "epoch=40, step=7, EUBO=460.691254, ELBO=-844.194641, ESS=1.178 (0s)\n",
      "epoch=40, step=8, EUBO=496.737488, ELBO=-733.917236, ESS=1.187 (0s)\n",
      "epoch=40, step=9, EUBO=463.782715, ELBO=-649.466858, ESS=1.162 (0s)\n",
      "epoch=41, step=0, EUBO=493.472565, ELBO=-656.540466, ESS=1.150 (0s)\n",
      "epoch=41, step=1, EUBO=511.279602, ELBO=-577.721680, ESS=1.127 (0s)\n",
      "epoch=41, step=2, EUBO=488.229767, ELBO=-588.563171, ESS=1.225 (0s)\n",
      "epoch=41, step=3, EUBO=483.233398, ELBO=-466.338593, ESS=1.114 (0s)\n",
      "epoch=41, step=4, EUBO=474.235352, ELBO=-645.722656, ESS=1.176 (0s)\n",
      "epoch=41, step=5, EUBO=486.075104, ELBO=-802.698120, ESS=1.081 (0s)\n",
      "epoch=41, step=6, EUBO=484.697266, ELBO=-739.981384, ESS=1.193 (0s)\n",
      "epoch=41, step=7, EUBO=508.338806, ELBO=-372.628418, ESS=1.142 (0s)\n",
      "epoch=41, step=8, EUBO=472.038025, ELBO=-694.927856, ESS=1.158 (0s)\n",
      "epoch=41, step=9, EUBO=479.971680, ELBO=-819.057251, ESS=1.157 (0s)\n",
      "epoch=42, step=0, EUBO=502.424286, ELBO=-461.918518, ESS=1.167 (0s)\n",
      "epoch=42, step=1, EUBO=499.743347, ELBO=-659.399658, ESS=1.148 (0s)\n",
      "epoch=42, step=2, EUBO=499.007416, ELBO=-680.803406, ESS=1.171 (0s)\n",
      "epoch=42, step=3, EUBO=513.462646, ELBO=-422.769531, ESS=1.231 (0s)\n",
      "epoch=42, step=4, EUBO=484.304535, ELBO=-989.767334, ESS=1.169 (0s)\n",
      "epoch=42, step=5, EUBO=464.438965, ELBO=-769.608643, ESS=1.157 (0s)\n",
      "epoch=42, step=6, EUBO=502.501526, ELBO=-557.935242, ESS=1.151 (0s)\n",
      "epoch=42, step=7, EUBO=488.689209, ELBO=-502.856537, ESS=1.136 (0s)\n",
      "epoch=42, step=8, EUBO=506.338257, ELBO=-499.346436, ESS=1.241 (0s)\n",
      "epoch=42, step=9, EUBO=493.322632, ELBO=-548.266724, ESS=1.171 (0s)\n",
      "epoch=43, step=0, EUBO=504.299896, ELBO=-438.377991, ESS=1.160 (0s)\n",
      "epoch=43, step=1, EUBO=510.237030, ELBO=-607.933044, ESS=1.153 (0s)\n",
      "epoch=43, step=2, EUBO=501.019043, ELBO=-418.290619, ESS=1.195 (0s)\n",
      "epoch=43, step=3, EUBO=451.345978, ELBO=-733.488098, ESS=1.150 (0s)\n",
      "epoch=43, step=4, EUBO=494.174103, ELBO=-453.199982, ESS=1.226 (0s)\n",
      "epoch=43, step=5, EUBO=488.318817, ELBO=-486.821869, ESS=1.169 (0s)\n",
      "epoch=43, step=6, EUBO=527.587280, ELBO=-353.414795, ESS=1.174 (0s)\n",
      "epoch=43, step=7, EUBO=516.826111, ELBO=-477.353180, ESS=1.163 (0s)\n",
      "epoch=43, step=8, EUBO=490.619598, ELBO=-540.192688, ESS=1.238 (0s)\n",
      "epoch=43, step=9, EUBO=456.400757, ELBO=-615.224182, ESS=1.170 (0s)\n",
      "epoch=44, step=0, EUBO=507.046936, ELBO=-424.392761, ESS=1.148 (0s)\n",
      "epoch=44, step=1, EUBO=522.208435, ELBO=-445.766937, ESS=1.214 (0s)\n",
      "epoch=44, step=2, EUBO=493.245544, ELBO=-356.405914, ESS=1.200 (0s)\n",
      "epoch=44, step=3, EUBO=506.208984, ELBO=-398.386017, ESS=1.154 (0s)\n",
      "epoch=44, step=4, EUBO=511.103821, ELBO=-443.621399, ESS=1.207 (0s)\n",
      "epoch=44, step=5, EUBO=498.718750, ELBO=-445.416779, ESS=1.159 (0s)\n",
      "epoch=44, step=6, EUBO=529.540161, ELBO=-326.179413, ESS=1.240 (0s)\n",
      "epoch=44, step=7, EUBO=505.514313, ELBO=-354.082428, ESS=1.226 (0s)\n",
      "epoch=44, step=8, EUBO=513.319763, ELBO=-391.193268, ESS=1.221 (0s)\n",
      "epoch=44, step=9, EUBO=507.986237, ELBO=-413.677185, ESS=1.262 (0s)\n",
      "epoch=45, step=0, EUBO=495.028900, ELBO=-560.746521, ESS=1.264 (0s)\n",
      "epoch=45, step=1, EUBO=523.283813, ELBO=-331.333832, ESS=1.223 (0s)\n",
      "epoch=45, step=2, EUBO=503.810425, ELBO=-231.274689, ESS=1.335 (0s)\n",
      "epoch=45, step=3, EUBO=494.517426, ELBO=-377.180145, ESS=1.226 (0s)\n",
      "epoch=45, step=4, EUBO=512.516968, ELBO=-480.028412, ESS=1.178 (0s)\n",
      "epoch=45, step=5, EUBO=511.765533, ELBO=-417.187500, ESS=1.322 (0s)\n",
      "epoch=45, step=6, EUBO=519.052734, ELBO=-332.718506, ESS=1.275 (0s)\n",
      "epoch=45, step=7, EUBO=515.180359, ELBO=-358.327728, ESS=1.244 (0s)\n",
      "epoch=45, step=8, EUBO=530.336487, ELBO=-201.559097, ESS=1.244 (0s)\n",
      "epoch=45, step=9, EUBO=514.809143, ELBO=-457.936157, ESS=1.249 (0s)\n",
      "epoch=46, step=0, EUBO=497.672089, ELBO=-558.740417, ESS=1.292 (0s)\n",
      "epoch=46, step=1, EUBO=531.196411, ELBO=-43.730801, ESS=1.356 (0s)\n",
      "epoch=46, step=2, EUBO=522.294922, ELBO=-225.623077, ESS=1.326 (0s)\n",
      "epoch=46, step=3, EUBO=529.742126, ELBO=-201.290497, ESS=1.224 (0s)\n",
      "epoch=46, step=4, EUBO=521.342590, ELBO=-276.798920, ESS=1.270 (0s)\n",
      "epoch=46, step=5, EUBO=514.280701, ELBO=-230.655380, ESS=1.332 (0s)\n",
      "epoch=46, step=6, EUBO=515.596008, ELBO=-291.459869, ESS=1.187 (0s)\n",
      "epoch=46, step=7, EUBO=523.377930, ELBO=-169.060623, ESS=1.275 (0s)\n",
      "epoch=46, step=8, EUBO=520.431641, ELBO=-84.598473, ESS=1.328 (0s)\n",
      "epoch=46, step=9, EUBO=519.428650, ELBO=-228.710693, ESS=1.311 (0s)\n",
      "epoch=47, step=0, EUBO=527.404541, ELBO=-182.299606, ESS=1.209 (0s)\n",
      "epoch=47, step=1, EUBO=523.270142, ELBO=-70.274773, ESS=1.280 (0s)\n",
      "epoch=47, step=2, EUBO=518.227112, ELBO=-90.115486, ESS=1.286 (0s)\n",
      "epoch=47, step=3, EUBO=494.820496, ELBO=-218.232376, ESS=1.349 (0s)\n",
      "epoch=47, step=4, EUBO=513.813599, ELBO=-201.396942, ESS=1.242 (0s)\n",
      "epoch=47, step=5, EUBO=521.170288, ELBO=-155.370880, ESS=1.406 (0s)\n",
      "epoch=47, step=6, EUBO=525.642944, ELBO=-139.450012, ESS=1.325 (0s)\n",
      "epoch=47, step=7, EUBO=527.137146, ELBO=-108.599899, ESS=1.442 (0s)\n",
      "epoch=47, step=8, EUBO=521.852905, ELBO=-136.507263, ESS=1.296 (0s)\n",
      "epoch=47, step=9, EUBO=526.437622, ELBO=-167.570465, ESS=1.332 (0s)\n",
      "epoch=48, step=0, EUBO=529.256714, ELBO=-91.067764, ESS=1.347 (0s)\n",
      "epoch=48, step=1, EUBO=513.053711, ELBO=-44.144802, ESS=1.287 (0s)\n",
      "epoch=48, step=2, EUBO=507.203491, ELBO=-252.579636, ESS=1.283 (0s)\n",
      "epoch=48, step=3, EUBO=528.587402, ELBO=-190.532318, ESS=1.294 (0s)\n",
      "epoch=48, step=4, EUBO=522.463501, ELBO=-11.083714, ESS=1.325 (0s)\n",
      "epoch=48, step=5, EUBO=525.931091, ELBO=-25.010878, ESS=1.290 (0s)\n",
      "epoch=48, step=6, EUBO=527.289734, ELBO=-81.232071, ESS=1.317 (0s)\n",
      "epoch=48, step=7, EUBO=529.061829, ELBO=-86.172775, ESS=1.286 (0s)\n",
      "epoch=48, step=8, EUBO=523.453674, ELBO=66.996948, ESS=1.419 (0s)\n",
      "epoch=48, step=9, EUBO=528.875916, ELBO=-63.876579, ESS=1.325 (0s)\n",
      "epoch=49, step=0, EUBO=528.444153, ELBO=10.913645, ESS=1.366 (0s)\n",
      "epoch=49, step=1, EUBO=525.396912, ELBO=37.246998, ESS=1.463 (0s)\n",
      "epoch=49, step=2, EUBO=533.213989, ELBO=74.341377, ESS=1.310 (0s)\n",
      "epoch=49, step=3, EUBO=522.236328, ELBO=-14.043174, ESS=1.357 (0s)\n",
      "epoch=49, step=4, EUBO=526.831299, ELBO=-27.889259, ESS=1.349 (0s)\n",
      "epoch=49, step=5, EUBO=527.621521, ELBO=2.230596, ESS=1.408 (0s)\n",
      "epoch=49, step=6, EUBO=523.486877, ELBO=36.181667, ESS=1.399 (0s)\n",
      "epoch=49, step=7, EUBO=513.534851, ELBO=-6.561842, ESS=1.450 (0s)\n",
      "epoch=49, step=8, EUBO=527.112305, ELBO=131.720978, ESS=1.412 (0s)\n",
      "epoch=49, step=9, EUBO=528.910461, ELBO=73.433006, ESS=1.317 (0s)\n",
      "epoch=50, step=0, EUBO=531.134338, ELBO=66.416412, ESS=1.356 (0s)\n",
      "epoch=50, step=1, EUBO=526.217346, ELBO=25.081884, ESS=1.443 (0s)\n",
      "epoch=50, step=2, EUBO=536.591553, ELBO=103.575348, ESS=1.460 (0s)\n",
      "epoch=50, step=3, EUBO=540.307373, ELBO=141.541153, ESS=1.369 (0s)\n",
      "epoch=50, step=4, EUBO=528.245117, ELBO=129.055496, ESS=1.399 (0s)\n",
      "epoch=50, step=5, EUBO=533.484619, ELBO=38.991455, ESS=1.377 (0s)\n",
      "epoch=50, step=6, EUBO=530.968811, ELBO=21.786428, ESS=1.295 (0s)\n",
      "epoch=50, step=7, EUBO=536.493286, ELBO=172.533554, ESS=1.477 (0s)\n",
      "epoch=50, step=8, EUBO=530.954346, ELBO=168.247269, ESS=1.393 (0s)\n",
      "epoch=50, step=9, EUBO=532.981567, ELBO=127.780357, ESS=1.484 (0s)\n",
      "epoch=51, step=0, EUBO=525.751221, ELBO=107.774040, ESS=1.407 (0s)\n",
      "epoch=51, step=1, EUBO=534.105774, ELBO=190.072571, ESS=1.451 (0s)\n",
      "epoch=51, step=2, EUBO=530.324585, ELBO=72.935020, ESS=1.300 (0s)\n",
      "epoch=51, step=3, EUBO=530.005127, ELBO=110.344048, ESS=1.453 (0s)\n",
      "epoch=51, step=4, EUBO=533.828064, ELBO=112.331825, ESS=1.453 (0s)\n",
      "epoch=51, step=5, EUBO=533.785095, ELBO=211.503082, ESS=1.486 (0s)\n",
      "epoch=51, step=6, EUBO=533.340393, ELBO=218.967529, ESS=1.466 (0s)\n",
      "epoch=51, step=7, EUBO=537.893738, ELBO=206.462051, ESS=1.329 (0s)\n",
      "epoch=51, step=8, EUBO=530.830139, ELBO=84.533516, ESS=1.286 (0s)\n",
      "epoch=51, step=9, EUBO=535.275085, ELBO=280.229004, ESS=1.528 (0s)\n",
      "epoch=52, step=0, EUBO=518.554810, ELBO=73.467278, ESS=1.451 (0s)\n",
      "epoch=52, step=1, EUBO=529.597534, ELBO=195.786972, ESS=1.404 (0s)\n",
      "epoch=52, step=2, EUBO=526.440247, ELBO=74.641129, ESS=1.415 (0s)\n",
      "epoch=52, step=3, EUBO=538.772278, ELBO=287.705902, ESS=1.468 (0s)\n",
      "epoch=52, step=4, EUBO=537.189026, ELBO=271.032379, ESS=1.547 (0s)\n",
      "epoch=52, step=5, EUBO=528.591736, ELBO=131.850082, ESS=1.448 (0s)\n",
      "epoch=52, step=6, EUBO=523.747437, ELBO=222.647522, ESS=1.555 (0s)\n",
      "epoch=52, step=7, EUBO=534.432068, ELBO=190.553513, ESS=1.524 (0s)\n",
      "epoch=52, step=8, EUBO=530.151062, ELBO=241.243866, ESS=1.462 (0s)\n",
      "epoch=52, step=9, EUBO=537.310547, ELBO=324.536743, ESS=1.512 (0s)\n",
      "epoch=53, step=0, EUBO=535.414612, ELBO=224.144958, ESS=1.545 (0s)\n",
      "epoch=53, step=1, EUBO=534.665588, ELBO=263.453613, ESS=1.418 (0s)\n",
      "epoch=53, step=2, EUBO=532.596619, ELBO=237.907196, ESS=1.583 (0s)\n",
      "epoch=53, step=3, EUBO=536.573486, ELBO=220.766525, ESS=1.466 (0s)\n",
      "epoch=53, step=4, EUBO=538.036560, ELBO=300.083893, ESS=1.605 (0s)\n",
      "epoch=53, step=5, EUBO=531.490173, ELBO=275.190033, ESS=1.590 (0s)\n",
      "epoch=53, step=6, EUBO=540.578857, ELBO=323.926971, ESS=1.546 (0s)\n",
      "epoch=53, step=7, EUBO=528.875977, ELBO=230.666199, ESS=1.536 (0s)\n",
      "epoch=53, step=8, EUBO=529.783752, ELBO=261.660980, ESS=1.539 (0s)\n",
      "epoch=53, step=9, EUBO=527.956238, ELBO=211.946213, ESS=1.490 (0s)\n",
      "epoch=54, step=0, EUBO=531.165710, ELBO=241.595566, ESS=1.648 (0s)\n",
      "epoch=54, step=1, EUBO=533.967896, ELBO=328.046082, ESS=1.620 (0s)\n",
      "epoch=54, step=2, EUBO=529.245605, ELBO=282.352539, ESS=1.680 (0s)\n",
      "epoch=54, step=3, EUBO=530.859680, ELBO=247.986984, ESS=1.545 (0s)\n",
      "epoch=54, step=4, EUBO=535.482727, ELBO=279.847839, ESS=1.527 (0s)\n",
      "epoch=54, step=5, EUBO=537.516174, ELBO=313.511230, ESS=1.546 (0s)\n",
      "epoch=54, step=6, EUBO=538.338562, ELBO=328.303131, ESS=1.636 (0s)\n",
      "epoch=54, step=7, EUBO=536.960510, ELBO=307.700226, ESS=1.647 (0s)\n",
      "epoch=54, step=8, EUBO=538.630554, ELBO=310.032135, ESS=1.594 (0s)\n",
      "epoch=54, step=9, EUBO=530.419312, ELBO=317.201263, ESS=1.710 (0s)\n",
      "epoch=55, step=0, EUBO=537.541016, ELBO=351.579590, ESS=1.660 (0s)\n",
      "epoch=55, step=1, EUBO=538.291077, ELBO=340.057526, ESS=1.623 (0s)\n",
      "epoch=55, step=2, EUBO=539.009705, ELBO=283.326660, ESS=1.673 (0s)\n",
      "epoch=55, step=3, EUBO=534.346558, ELBO=267.203186, ESS=1.584 (0s)\n",
      "epoch=55, step=4, EUBO=535.983826, ELBO=339.941315, ESS=1.684 (0s)\n",
      "epoch=55, step=5, EUBO=538.068726, ELBO=334.747192, ESS=1.552 (0s)\n",
      "epoch=55, step=6, EUBO=534.378357, ELBO=368.993652, ESS=1.689 (0s)\n",
      "epoch=55, step=7, EUBO=537.186707, ELBO=304.818207, ESS=1.684 (0s)\n",
      "epoch=55, step=8, EUBO=539.070129, ELBO=352.613861, ESS=1.676 (0s)\n",
      "epoch=55, step=9, EUBO=534.546814, ELBO=318.735535, ESS=1.568 (0s)\n",
      "epoch=56, step=0, EUBO=536.764893, ELBO=400.313904, ESS=1.699 (0s)\n",
      "epoch=56, step=1, EUBO=536.446228, ELBO=354.896362, ESS=1.781 (0s)\n",
      "epoch=56, step=2, EUBO=540.876770, ELBO=365.202026, ESS=1.626 (0s)\n",
      "epoch=56, step=3, EUBO=540.726074, ELBO=352.576324, ESS=1.643 (0s)\n",
      "epoch=56, step=4, EUBO=539.193420, ELBO=334.725922, ESS=1.701 (0s)\n",
      "epoch=56, step=5, EUBO=528.247192, ELBO=366.775940, ESS=1.858 (0s)\n",
      "epoch=56, step=6, EUBO=538.081787, ELBO=354.370697, ESS=1.666 (0s)\n",
      "epoch=56, step=7, EUBO=533.071777, ELBO=322.386017, ESS=1.636 (0s)\n",
      "epoch=56, step=8, EUBO=537.002441, ELBO=394.103699, ESS=1.764 (0s)\n",
      "epoch=56, step=9, EUBO=530.901550, ELBO=329.892517, ESS=1.597 (0s)\n",
      "epoch=57, step=0, EUBO=537.969299, ELBO=365.411682, ESS=1.564 (0s)\n",
      "epoch=57, step=1, EUBO=538.992004, ELBO=352.633270, ESS=1.789 (0s)\n",
      "epoch=57, step=2, EUBO=538.756775, ELBO=377.341461, ESS=1.569 (0s)\n",
      "epoch=57, step=3, EUBO=535.275208, ELBO=377.041351, ESS=1.716 (0s)\n",
      "epoch=57, step=4, EUBO=540.523132, ELBO=423.739288, ESS=1.732 (0s)\n",
      "epoch=57, step=5, EUBO=536.485107, ELBO=404.043365, ESS=1.572 (0s)\n",
      "epoch=57, step=6, EUBO=537.618103, ELBO=376.054962, ESS=1.715 (0s)\n",
      "epoch=57, step=7, EUBO=531.183472, ELBO=369.491394, ESS=1.875 (0s)\n",
      "epoch=57, step=8, EUBO=540.187195, ELBO=386.606018, ESS=1.720 (0s)\n",
      "epoch=57, step=9, EUBO=539.322876, ELBO=376.353973, ESS=1.776 (0s)\n",
      "epoch=58, step=0, EUBO=535.149353, ELBO=376.524597, ESS=1.733 (0s)\n",
      "epoch=58, step=1, EUBO=542.176208, ELBO=412.604370, ESS=1.768 (0s)\n",
      "epoch=58, step=2, EUBO=544.475403, ELBO=451.112091, ESS=1.867 (0s)\n",
      "epoch=58, step=3, EUBO=532.315369, ELBO=333.545471, ESS=1.591 (0s)\n",
      "epoch=58, step=4, EUBO=532.648438, ELBO=372.745972, ESS=1.743 (0s)\n",
      "epoch=58, step=5, EUBO=540.796875, ELBO=403.145386, ESS=1.680 (0s)\n",
      "epoch=58, step=6, EUBO=538.270447, ELBO=422.697174, ESS=1.909 (0s)\n",
      "epoch=58, step=7, EUBO=540.755981, ELBO=431.234222, ESS=1.731 (0s)\n",
      "epoch=58, step=8, EUBO=536.077454, ELBO=409.607300, ESS=1.830 (0s)\n",
      "epoch=58, step=9, EUBO=543.043640, ELBO=442.574402, ESS=1.903 (0s)\n",
      "epoch=59, step=0, EUBO=543.707703, ELBO=444.548126, ESS=1.911 (0s)\n",
      "epoch=59, step=1, EUBO=538.344727, ELBO=416.346069, ESS=1.846 (0s)\n",
      "epoch=59, step=2, EUBO=538.886536, ELBO=401.150879, ESS=1.808 (0s)\n",
      "epoch=59, step=3, EUBO=523.376526, ELBO=324.289612, ESS=1.721 (0s)\n",
      "epoch=59, step=4, EUBO=539.947693, ELBO=405.881683, ESS=1.802 (0s)\n",
      "epoch=59, step=5, EUBO=538.711609, ELBO=381.814362, ESS=1.820 (0s)\n",
      "epoch=59, step=6, EUBO=541.326294, ELBO=463.976013, ESS=1.976 (0s)\n",
      "epoch=59, step=7, EUBO=541.423218, ELBO=451.018982, ESS=1.842 (0s)\n",
      "epoch=59, step=8, EUBO=542.447388, ELBO=444.624207, ESS=1.770 (0s)\n",
      "epoch=59, step=9, EUBO=536.520081, ELBO=408.430939, ESS=1.962 (0s)\n",
      "epoch=60, step=0, EUBO=539.488403, ELBO=401.324524, ESS=1.735 (0s)\n",
      "epoch=60, step=1, EUBO=541.660278, ELBO=438.388824, ESS=1.845 (0s)\n",
      "epoch=60, step=2, EUBO=540.462341, ELBO=425.405396, ESS=2.022 (0s)\n",
      "epoch=60, step=3, EUBO=542.903503, ELBO=461.367462, ESS=1.815 (0s)\n",
      "epoch=60, step=4, EUBO=541.578247, ELBO=451.313141, ESS=1.970 (0s)\n",
      "epoch=60, step=5, EUBO=537.897278, ELBO=438.107147, ESS=2.029 (0s)\n",
      "epoch=60, step=6, EUBO=538.798218, ELBO=426.047455, ESS=2.003 (0s)\n",
      "epoch=60, step=7, EUBO=538.345093, ELBO=411.592560, ESS=1.821 (0s)\n",
      "epoch=60, step=8, EUBO=532.197632, ELBO=408.900574, ESS=1.854 (0s)\n",
      "epoch=60, step=9, EUBO=540.974060, ELBO=451.122559, ESS=1.924 (0s)\n",
      "epoch=61, step=0, EUBO=539.508423, ELBO=422.017487, ESS=1.926 (0s)\n",
      "epoch=61, step=1, EUBO=537.312744, ELBO=433.871399, ESS=2.109 (0s)\n",
      "epoch=61, step=2, EUBO=541.123596, ELBO=450.317261, ESS=1.884 (0s)\n",
      "epoch=61, step=3, EUBO=542.427551, ELBO=457.743103, ESS=1.943 (0s)\n",
      "epoch=61, step=4, EUBO=541.520874, ELBO=455.716034, ESS=1.870 (0s)\n",
      "epoch=61, step=5, EUBO=539.833801, ELBO=433.041351, ESS=1.928 (0s)\n",
      "epoch=61, step=6, EUBO=536.269409, ELBO=452.510651, ESS=1.819 (0s)\n",
      "epoch=61, step=7, EUBO=536.767761, ELBO=424.325562, ESS=1.917 (0s)\n",
      "epoch=61, step=8, EUBO=543.933411, ELBO=474.257477, ESS=2.017 (0s)\n",
      "epoch=61, step=9, EUBO=541.366211, ELBO=460.048615, ESS=1.963 (0s)\n",
      "epoch=62, step=0, EUBO=535.098450, ELBO=457.837189, ESS=2.091 (0s)\n",
      "epoch=62, step=1, EUBO=537.966553, ELBO=452.455383, ESS=2.067 (0s)\n",
      "epoch=62, step=2, EUBO=538.262756, ELBO=433.263275, ESS=1.797 (0s)\n",
      "epoch=62, step=3, EUBO=537.158997, ELBO=443.537598, ESS=1.965 (0s)\n",
      "epoch=62, step=4, EUBO=542.140259, ELBO=479.099915, ESS=1.974 (0s)\n",
      "epoch=62, step=5, EUBO=541.917786, ELBO=482.592163, ESS=2.236 (0s)\n",
      "epoch=62, step=6, EUBO=541.627380, ELBO=432.337189, ESS=1.809 (0s)\n",
      "epoch=62, step=7, EUBO=538.890625, ELBO=478.472321, ESS=2.092 (0s)\n",
      "epoch=62, step=8, EUBO=539.773865, ELBO=468.246704, ESS=2.022 (0s)\n",
      "epoch=62, step=9, EUBO=542.170227, ELBO=466.966705, ESS=2.072 (0s)\n",
      "epoch=63, step=0, EUBO=541.715698, ELBO=483.229492, ESS=2.103 (0s)\n",
      "epoch=63, step=1, EUBO=543.513000, ELBO=487.179047, ESS=2.243 (0s)\n",
      "epoch=63, step=2, EUBO=540.366455, ELBO=485.515289, ESS=2.193 (0s)\n",
      "epoch=63, step=3, EUBO=536.228333, ELBO=425.084747, ESS=2.004 (0s)\n",
      "epoch=63, step=4, EUBO=542.272339, ELBO=461.315918, ESS=2.113 (0s)\n",
      "epoch=63, step=5, EUBO=541.278687, ELBO=459.430847, ESS=1.951 (0s)\n",
      "epoch=63, step=6, EUBO=542.899353, ELBO=488.739594, ESS=2.069 (0s)\n",
      "epoch=63, step=7, EUBO=544.116150, ELBO=466.999054, ESS=2.158 (0s)\n",
      "epoch=63, step=8, EUBO=538.598572, ELBO=453.031006, ESS=2.173 (0s)\n",
      "epoch=63, step=9, EUBO=540.161682, ELBO=478.232025, ESS=2.257 (0s)\n",
      "epoch=64, step=0, EUBO=543.069214, ELBO=465.390930, ESS=2.056 (0s)\n",
      "epoch=64, step=1, EUBO=541.327820, ELBO=476.622559, ESS=2.063 (0s)\n",
      "epoch=64, step=2, EUBO=541.224731, ELBO=477.239441, ESS=2.211 (0s)\n",
      "epoch=64, step=3, EUBO=541.129883, ELBO=478.780731, ESS=1.944 (0s)\n",
      "epoch=64, step=4, EUBO=543.073608, ELBO=483.459625, ESS=2.182 (0s)\n",
      "epoch=64, step=5, EUBO=540.549622, ELBO=482.417633, ESS=2.070 (0s)\n",
      "epoch=64, step=6, EUBO=539.042114, ELBO=448.978973, ESS=2.225 (0s)\n",
      "epoch=64, step=7, EUBO=542.035217, ELBO=481.587921, ESS=2.226 (0s)\n",
      "epoch=64, step=8, EUBO=542.232910, ELBO=471.486389, ESS=2.186 (0s)\n",
      "epoch=64, step=9, EUBO=543.550598, ELBO=491.118439, ESS=2.265 (0s)\n",
      "epoch=65, step=0, EUBO=540.102905, ELBO=475.393585, ESS=2.195 (0s)\n",
      "epoch=65, step=1, EUBO=543.332947, ELBO=497.259521, ESS=2.374 (0s)\n",
      "epoch=65, step=2, EUBO=536.869873, ELBO=465.156006, ESS=2.160 (0s)\n",
      "epoch=65, step=3, EUBO=543.542542, ELBO=497.643646, ESS=2.273 (0s)\n",
      "epoch=65, step=4, EUBO=543.758667, ELBO=484.903961, ESS=2.330 (0s)\n",
      "epoch=65, step=5, EUBO=540.236145, ELBO=479.936462, ESS=2.181 (0s)\n",
      "epoch=65, step=6, EUBO=542.934509, ELBO=492.686554, ESS=2.310 (0s)\n",
      "epoch=65, step=7, EUBO=537.937317, ELBO=469.532104, ESS=2.276 (0s)\n",
      "epoch=65, step=8, EUBO=540.280518, ELBO=476.980530, ESS=2.479 (0s)\n",
      "epoch=65, step=9, EUBO=543.914978, ELBO=493.272400, ESS=2.480 (0s)\n",
      "epoch=66, step=0, EUBO=540.371765, ELBO=473.329010, ESS=2.378 (0s)\n",
      "epoch=66, step=1, EUBO=540.774231, ELBO=490.874054, ESS=2.355 (0s)\n",
      "epoch=66, step=2, EUBO=541.113281, ELBO=490.992462, ESS=2.253 (0s)\n",
      "epoch=66, step=3, EUBO=543.271484, ELBO=497.828949, ESS=2.420 (0s)\n",
      "epoch=66, step=4, EUBO=542.923462, ELBO=500.917023, ESS=2.371 (0s)\n",
      "epoch=66, step=5, EUBO=544.724670, ELBO=499.173126, ESS=2.474 (0s)\n",
      "epoch=66, step=6, EUBO=539.913879, ELBO=480.442017, ESS=2.273 (0s)\n",
      "epoch=66, step=7, EUBO=544.106140, ELBO=513.044128, ESS=2.465 (0s)\n",
      "epoch=66, step=8, EUBO=539.847351, ELBO=486.219757, ESS=2.332 (0s)\n",
      "epoch=66, step=9, EUBO=543.471436, ELBO=494.915771, ESS=2.503 (0s)\n",
      "epoch=67, step=0, EUBO=542.203125, ELBO=497.263763, ESS=2.447 (0s)\n",
      "epoch=67, step=1, EUBO=543.767700, ELBO=505.949677, ESS=2.294 (0s)\n",
      "epoch=67, step=2, EUBO=541.592834, ELBO=485.215912, ESS=2.455 (0s)\n",
      "epoch=67, step=3, EUBO=542.128601, ELBO=502.734650, ESS=2.396 (0s)\n",
      "epoch=67, step=4, EUBO=542.382812, ELBO=493.270233, ESS=2.385 (0s)\n",
      "epoch=67, step=5, EUBO=543.148010, ELBO=503.553741, ESS=2.517 (0s)\n",
      "epoch=67, step=6, EUBO=544.764221, ELBO=511.901306, ESS=2.712 (0s)\n",
      "epoch=67, step=7, EUBO=541.885132, ELBO=487.060333, ESS=2.407 (0s)\n",
      "epoch=67, step=8, EUBO=543.236389, ELBO=497.026245, ESS=2.417 (0s)\n",
      "epoch=67, step=9, EUBO=539.226624, ELBO=486.391266, ESS=2.354 (0s)\n",
      "epoch=68, step=0, EUBO=543.460083, ELBO=491.949158, ESS=2.349 (0s)\n",
      "epoch=68, step=1, EUBO=542.244812, ELBO=508.507324, ESS=2.727 (0s)\n",
      "epoch=68, step=2, EUBO=541.092224, ELBO=488.705841, ESS=2.600 (0s)\n",
      "epoch=68, step=3, EUBO=541.833435, ELBO=495.859924, ESS=2.270 (0s)\n",
      "epoch=68, step=4, EUBO=543.923828, ELBO=506.106354, ESS=2.731 (0s)\n",
      "epoch=68, step=5, EUBO=543.575195, ELBO=502.184906, ESS=2.575 (0s)\n",
      "epoch=68, step=6, EUBO=541.142273, ELBO=494.239471, ESS=2.514 (0s)\n",
      "epoch=68, step=7, EUBO=542.984070, ELBO=506.961273, ESS=2.658 (0s)\n",
      "epoch=68, step=8, EUBO=543.830627, ELBO=504.451996, ESS=2.469 (0s)\n",
      "epoch=68, step=9, EUBO=545.148010, ELBO=522.717224, ESS=2.636 (0s)\n",
      "epoch=69, step=0, EUBO=543.286682, ELBO=505.859131, ESS=2.821 (0s)\n",
      "epoch=69, step=1, EUBO=540.000671, ELBO=493.416199, ESS=2.548 (0s)\n",
      "epoch=69, step=2, EUBO=544.392395, ELBO=512.138489, ESS=2.616 (0s)\n",
      "epoch=69, step=3, EUBO=544.141541, ELBO=508.155273, ESS=2.743 (0s)\n",
      "epoch=69, step=4, EUBO=543.685486, ELBO=500.432648, ESS=2.403 (0s)\n",
      "epoch=69, step=5, EUBO=542.069214, ELBO=493.713654, ESS=2.568 (0s)\n",
      "epoch=69, step=6, EUBO=544.765015, ELBO=511.326752, ESS=2.556 (0s)\n",
      "epoch=69, step=7, EUBO=543.450439, ELBO=510.690613, ESS=2.776 (0s)\n",
      "epoch=69, step=8, EUBO=543.800171, ELBO=516.601868, ESS=2.850 (0s)\n",
      "epoch=69, step=9, EUBO=544.715576, ELBO=516.709412, ESS=2.883 (0s)\n",
      "epoch=70, step=0, EUBO=543.624023, ELBO=513.162415, ESS=2.703 (0s)\n",
      "epoch=70, step=1, EUBO=544.152832, ELBO=519.340271, ESS=2.903 (0s)\n",
      "epoch=70, step=2, EUBO=541.164246, ELBO=505.284515, ESS=2.593 (0s)\n",
      "epoch=70, step=3, EUBO=542.992737, ELBO=500.132751, ESS=2.789 (0s)\n",
      "epoch=70, step=4, EUBO=543.652100, ELBO=514.179626, ESS=2.872 (0s)\n",
      "epoch=70, step=5, EUBO=540.502747, ELBO=507.393036, ESS=2.889 (0s)\n",
      "epoch=70, step=6, EUBO=544.830872, ELBO=521.768311, ESS=3.033 (0s)\n",
      "epoch=70, step=7, EUBO=542.392029, ELBO=505.519867, ESS=2.702 (0s)\n",
      "epoch=70, step=8, EUBO=542.958984, ELBO=507.477325, ESS=2.962 (0s)\n",
      "epoch=70, step=9, EUBO=541.888794, ELBO=506.889008, ESS=2.935 (0s)\n",
      "epoch=71, step=0, EUBO=543.775818, ELBO=506.398804, ESS=2.895 (0s)\n",
      "epoch=71, step=1, EUBO=541.789917, ELBO=512.921326, ESS=2.946 (0s)\n",
      "epoch=71, step=2, EUBO=542.252258, ELBO=503.624756, ESS=2.629 (0s)\n",
      "epoch=71, step=3, EUBO=543.609497, ELBO=518.680237, ESS=3.072 (0s)\n",
      "epoch=71, step=4, EUBO=543.166443, ELBO=515.549500, ESS=3.001 (0s)\n",
      "epoch=71, step=5, EUBO=544.330444, ELBO=519.761597, ESS=3.226 (0s)\n",
      "epoch=71, step=6, EUBO=543.650635, ELBO=515.585938, ESS=2.822 (0s)\n",
      "epoch=71, step=7, EUBO=543.950623, ELBO=520.111755, ESS=2.917 (0s)\n",
      "epoch=71, step=8, EUBO=543.661011, ELBO=511.666931, ESS=2.985 (0s)\n",
      "epoch=71, step=9, EUBO=544.915039, ELBO=524.698059, ESS=2.983 (0s)\n",
      "epoch=72, step=0, EUBO=542.787231, ELBO=507.835236, ESS=2.715 (0s)\n",
      "epoch=72, step=1, EUBO=544.817261, ELBO=524.563477, ESS=2.764 (0s)\n",
      "epoch=72, step=2, EUBO=543.868103, ELBO=517.228027, ESS=3.096 (0s)\n",
      "epoch=72, step=3, EUBO=542.296082, ELBO=512.059692, ESS=2.946 (0s)\n",
      "epoch=72, step=4, EUBO=544.633484, ELBO=526.139038, ESS=3.215 (0s)\n",
      "epoch=72, step=5, EUBO=544.778259, ELBO=528.824341, ESS=3.458 (0s)\n",
      "epoch=72, step=6, EUBO=543.469177, ELBO=518.734802, ESS=3.328 (0s)\n",
      "epoch=72, step=7, EUBO=543.566956, ELBO=522.770752, ESS=3.142 (0s)\n",
      "epoch=72, step=8, EUBO=545.085144, ELBO=522.829590, ESS=3.380 (0s)\n",
      "epoch=72, step=9, EUBO=542.741272, ELBO=521.476257, ESS=3.234 (0s)\n",
      "epoch=73, step=0, EUBO=544.071716, ELBO=525.117432, ESS=3.126 (0s)\n",
      "epoch=73, step=1, EUBO=543.585022, ELBO=524.405090, ESS=3.233 (0s)\n",
      "epoch=73, step=2, EUBO=544.081787, ELBO=524.025574, ESS=3.083 (0s)\n",
      "epoch=73, step=3, EUBO=544.121643, ELBO=526.282471, ESS=3.424 (0s)\n",
      "epoch=73, step=4, EUBO=543.106812, ELBO=518.079468, ESS=3.239 (0s)\n",
      "epoch=73, step=5, EUBO=543.504700, ELBO=518.264221, ESS=3.268 (0s)\n",
      "epoch=73, step=6, EUBO=541.953247, ELBO=519.569153, ESS=3.395 (0s)\n",
      "epoch=73, step=7, EUBO=543.182556, ELBO=524.592712, ESS=3.206 (0s)\n",
      "epoch=73, step=8, EUBO=544.325195, ELBO=524.759644, ESS=3.284 (0s)\n",
      "epoch=73, step=9, EUBO=543.462158, ELBO=515.899292, ESS=3.063 (0s)\n",
      "epoch=74, step=0, EUBO=544.572937, ELBO=527.579102, ESS=3.565 (0s)\n",
      "epoch=74, step=1, EUBO=543.684753, ELBO=522.618774, ESS=3.338 (0s)\n",
      "epoch=74, step=2, EUBO=542.817932, ELBO=522.071716, ESS=3.227 (0s)\n",
      "epoch=74, step=3, EUBO=545.035767, ELBO=526.678833, ESS=3.308 (0s)\n",
      "epoch=74, step=4, EUBO=541.793091, ELBO=517.028442, ESS=3.387 (0s)\n",
      "epoch=74, step=5, EUBO=544.438843, ELBO=528.079041, ESS=3.429 (0s)\n",
      "epoch=74, step=6, EUBO=544.471558, ELBO=529.657654, ESS=3.576 (0s)\n",
      "epoch=74, step=7, EUBO=541.980164, ELBO=519.279968, ESS=3.533 (0s)\n",
      "epoch=74, step=8, EUBO=544.478455, ELBO=524.883423, ESS=3.394 (0s)\n",
      "epoch=74, step=9, EUBO=542.925171, ELBO=526.067383, ESS=3.513 (0s)\n",
      "epoch=75, step=0, EUBO=544.336182, ELBO=529.345276, ESS=3.512 (0s)\n",
      "epoch=75, step=1, EUBO=542.054688, ELBO=521.198059, ESS=3.438 (0s)\n",
      "epoch=75, step=2, EUBO=544.507507, ELBO=528.639404, ESS=3.463 (0s)\n",
      "epoch=75, step=3, EUBO=544.331848, ELBO=528.382324, ESS=3.578 (0s)\n",
      "epoch=75, step=4, EUBO=544.505249, ELBO=528.391846, ESS=3.390 (0s)\n",
      "epoch=75, step=5, EUBO=544.108765, ELBO=530.114990, ESS=3.597 (0s)\n",
      "epoch=75, step=6, EUBO=543.812500, ELBO=528.574585, ESS=3.315 (0s)\n",
      "epoch=75, step=7, EUBO=544.158997, ELBO=526.036316, ESS=3.722 (0s)\n",
      "epoch=75, step=8, EUBO=543.830017, ELBO=528.891785, ESS=3.514 (0s)\n",
      "epoch=75, step=9, EUBO=543.722473, ELBO=526.253845, ESS=3.449 (0s)\n",
      "epoch=76, step=0, EUBO=544.401001, ELBO=530.235291, ESS=3.655 (0s)\n",
      "epoch=76, step=1, EUBO=545.104309, ELBO=533.254700, ESS=3.954 (0s)\n",
      "epoch=76, step=2, EUBO=544.474121, ELBO=531.539001, ESS=3.509 (0s)\n",
      "epoch=76, step=3, EUBO=544.801147, ELBO=535.627747, ESS=3.750 (0s)\n",
      "epoch=76, step=4, EUBO=544.158875, ELBO=532.216614, ESS=3.708 (0s)\n",
      "epoch=76, step=5, EUBO=543.004089, ELBO=521.872314, ESS=3.328 (0s)\n",
      "epoch=76, step=6, EUBO=544.548401, ELBO=532.104919, ESS=3.928 (0s)\n",
      "epoch=76, step=7, EUBO=545.017578, ELBO=533.884888, ESS=3.799 (0s)\n",
      "epoch=76, step=8, EUBO=543.679810, ELBO=531.742981, ESS=3.830 (0s)\n",
      "epoch=76, step=9, EUBO=544.017517, ELBO=527.732422, ESS=4.013 (0s)\n",
      "epoch=77, step=0, EUBO=544.198669, ELBO=530.061523, ESS=3.919 (0s)\n",
      "epoch=77, step=1, EUBO=542.675171, ELBO=529.883545, ESS=3.796 (0s)\n",
      "epoch=77, step=2, EUBO=544.453430, ELBO=532.140991, ESS=3.834 (0s)\n",
      "epoch=77, step=3, EUBO=543.905701, ELBO=532.574463, ESS=3.934 (0s)\n",
      "epoch=77, step=4, EUBO=543.778503, ELBO=526.056702, ESS=3.800 (0s)\n",
      "epoch=77, step=5, EUBO=544.776184, ELBO=535.955078, ESS=3.888 (0s)\n",
      "epoch=77, step=6, EUBO=544.341370, ELBO=532.327148, ESS=4.121 (0s)\n",
      "epoch=77, step=7, EUBO=544.616455, ELBO=534.614807, ESS=3.789 (0s)\n",
      "epoch=77, step=8, EUBO=544.091736, ELBO=532.970947, ESS=4.112 (0s)\n",
      "epoch=77, step=9, EUBO=543.931458, ELBO=533.143921, ESS=4.112 (0s)\n",
      "epoch=78, step=0, EUBO=544.105530, ELBO=531.676697, ESS=3.967 (0s)\n",
      "epoch=78, step=1, EUBO=544.868469, ELBO=534.759705, ESS=4.022 (0s)\n",
      "epoch=78, step=2, EUBO=544.489502, ELBO=532.599182, ESS=4.213 (0s)\n",
      "epoch=78, step=3, EUBO=544.858032, ELBO=534.987488, ESS=4.030 (0s)\n",
      "epoch=78, step=4, EUBO=543.064026, ELBO=531.522400, ESS=4.254 (0s)\n",
      "epoch=78, step=5, EUBO=544.530273, ELBO=532.832825, ESS=4.148 (0s)\n",
      "epoch=78, step=6, EUBO=544.729980, ELBO=536.897705, ESS=4.015 (0s)\n",
      "epoch=78, step=7, EUBO=544.685364, ELBO=535.531494, ESS=4.466 (0s)\n",
      "epoch=78, step=8, EUBO=544.140442, ELBO=534.645752, ESS=3.841 (0s)\n",
      "epoch=78, step=9, EUBO=543.846802, ELBO=531.588989, ESS=3.916 (0s)\n",
      "epoch=79, step=0, EUBO=543.571655, ELBO=529.319031, ESS=4.341 (0s)\n",
      "epoch=79, step=1, EUBO=544.732483, ELBO=536.697266, ESS=4.370 (0s)\n",
      "epoch=79, step=2, EUBO=544.139587, ELBO=530.662781, ESS=4.046 (0s)\n",
      "epoch=79, step=3, EUBO=544.039246, ELBO=536.090820, ESS=4.359 (0s)\n",
      "epoch=79, step=4, EUBO=543.980591, ELBO=532.301636, ESS=4.199 (0s)\n",
      "epoch=79, step=5, EUBO=544.300171, ELBO=534.319214, ESS=4.061 (0s)\n",
      "epoch=79, step=6, EUBO=544.563354, ELBO=538.244812, ESS=4.479 (0s)\n",
      "epoch=79, step=7, EUBO=544.804077, ELBO=537.459900, ESS=4.391 (0s)\n",
      "epoch=79, step=8, EUBO=544.174744, ELBO=536.333923, ESS=4.098 (0s)\n",
      "epoch=79, step=9, EUBO=544.785461, ELBO=538.183899, ESS=4.258 (0s)\n",
      "epoch=80, step=0, EUBO=544.475403, ELBO=534.861755, ESS=4.754 (0s)\n",
      "epoch=80, step=1, EUBO=544.272827, ELBO=536.366272, ESS=4.533 (0s)\n",
      "epoch=80, step=2, EUBO=544.032593, ELBO=532.220642, ESS=4.354 (0s)\n",
      "epoch=80, step=3, EUBO=544.402588, ELBO=537.451477, ESS=4.647 (0s)\n",
      "epoch=80, step=4, EUBO=543.405090, ELBO=530.877808, ESS=4.320 (0s)\n",
      "epoch=80, step=5, EUBO=545.016602, ELBO=538.414429, ESS=4.779 (0s)\n",
      "epoch=80, step=6, EUBO=543.969055, ELBO=534.060364, ESS=4.096 (0s)\n",
      "epoch=80, step=7, EUBO=545.058411, ELBO=538.667542, ESS=4.781 (0s)\n",
      "epoch=80, step=8, EUBO=544.992004, ELBO=538.346497, ESS=4.393 (0s)\n",
      "epoch=80, step=9, EUBO=545.057922, ELBO=540.722412, ESS=4.750 (0s)\n",
      "epoch=81, step=0, EUBO=544.346924, ELBO=534.652771, ESS=4.285 (0s)\n",
      "epoch=81, step=1, EUBO=544.776062, ELBO=539.864929, ESS=4.868 (0s)\n",
      "epoch=81, step=2, EUBO=544.610474, ELBO=539.663940, ESS=4.753 (0s)\n",
      "epoch=81, step=3, EUBO=543.813416, ELBO=533.427429, ESS=4.351 (0s)\n",
      "epoch=81, step=4, EUBO=544.273315, ELBO=537.767273, ESS=4.615 (0s)\n",
      "epoch=81, step=5, EUBO=545.098755, ELBO=540.987793, ESS=4.787 (0s)\n",
      "epoch=81, step=6, EUBO=544.911072, ELBO=537.469666, ESS=4.657 (0s)\n",
      "epoch=81, step=7, EUBO=544.210083, ELBO=534.301086, ESS=4.785 (0s)\n",
      "epoch=81, step=8, EUBO=544.676636, ELBO=537.960083, ESS=4.686 (0s)\n",
      "epoch=81, step=9, EUBO=544.581604, ELBO=539.858643, ESS=5.156 (0s)\n",
      "epoch=82, step=0, EUBO=544.969971, ELBO=539.553040, ESS=4.805 (0s)\n",
      "epoch=82, step=1, EUBO=544.902954, ELBO=539.197815, ESS=4.769 (0s)\n",
      "epoch=82, step=2, EUBO=545.157715, ELBO=539.914856, ESS=4.760 (0s)\n",
      "epoch=82, step=3, EUBO=543.702820, ELBO=534.899292, ESS=4.846 (0s)\n",
      "epoch=82, step=4, EUBO=544.607849, ELBO=538.492615, ESS=4.898 (0s)\n",
      "epoch=82, step=5, EUBO=544.859680, ELBO=538.643188, ESS=4.484 (0s)\n",
      "epoch=82, step=6, EUBO=544.600159, ELBO=538.628967, ESS=4.783 (0s)\n",
      "epoch=82, step=7, EUBO=544.202881, ELBO=536.406860, ESS=4.754 (0s)\n",
      "epoch=82, step=8, EUBO=545.089111, ELBO=540.177002, ESS=5.282 (0s)\n",
      "epoch=82, step=9, EUBO=544.770752, ELBO=537.050476, ESS=4.611 (0s)\n",
      "epoch=83, step=0, EUBO=544.854736, ELBO=541.026794, ESS=5.117 (0s)\n",
      "epoch=83, step=1, EUBO=544.711548, ELBO=537.865173, ESS=5.060 (0s)\n",
      "epoch=83, step=2, EUBO=545.111877, ELBO=540.817200, ESS=4.912 (0s)\n",
      "epoch=83, step=3, EUBO=544.410217, ELBO=537.441406, ESS=4.867 (0s)\n",
      "epoch=83, step=4, EUBO=543.535461, ELBO=537.000549, ESS=5.067 (0s)\n",
      "epoch=83, step=5, EUBO=543.694153, ELBO=537.576599, ESS=5.183 (0s)\n",
      "epoch=83, step=6, EUBO=545.027039, ELBO=539.613831, ESS=5.055 (0s)\n",
      "epoch=83, step=7, EUBO=544.466125, ELBO=538.424133, ESS=4.800 (0s)\n",
      "epoch=83, step=8, EUBO=544.749695, ELBO=539.444031, ESS=5.072 (0s)\n",
      "epoch=83, step=9, EUBO=544.865845, ELBO=540.112122, ESS=5.181 (0s)\n",
      "epoch=84, step=0, EUBO=544.875000, ELBO=541.159180, ESS=5.360 (0s)\n",
      "epoch=84, step=1, EUBO=544.481140, ELBO=539.334900, ESS=5.045 (0s)\n",
      "epoch=84, step=2, EUBO=545.026184, ELBO=541.760193, ESS=5.111 (0s)\n",
      "epoch=84, step=3, EUBO=544.714294, ELBO=541.001465, ESS=5.184 (0s)\n",
      "epoch=84, step=4, EUBO=544.718262, ELBO=539.761169, ESS=4.935 (0s)\n",
      "epoch=84, step=5, EUBO=544.494934, ELBO=537.331970, ESS=4.683 (0s)\n",
      "epoch=84, step=6, EUBO=543.951721, ELBO=538.374146, ESS=5.411 (0s)\n",
      "epoch=84, step=7, EUBO=544.455017, ELBO=539.555298, ESS=5.165 (0s)\n",
      "epoch=84, step=8, EUBO=544.571960, ELBO=541.047974, ESS=5.405 (0s)\n",
      "epoch=84, step=9, EUBO=544.836487, ELBO=539.990845, ESS=5.177 (0s)\n",
      "epoch=85, step=0, EUBO=544.776550, ELBO=540.506226, ESS=5.475 (0s)\n",
      "epoch=85, step=1, EUBO=544.230286, ELBO=537.347656, ESS=5.107 (0s)\n",
      "epoch=85, step=2, EUBO=544.417236, ELBO=539.656372, ESS=4.912 (0s)\n",
      "epoch=85, step=3, EUBO=544.544922, ELBO=540.175415, ESS=5.266 (0s)\n",
      "epoch=85, step=4, EUBO=544.777283, ELBO=540.398010, ESS=5.182 (0s)\n",
      "epoch=85, step=5, EUBO=544.783447, ELBO=541.501099, ESS=5.649 (0s)\n",
      "epoch=85, step=6, EUBO=544.851562, ELBO=540.508789, ESS=5.367 (0s)\n",
      "epoch=85, step=7, EUBO=545.013611, ELBO=542.023010, ESS=5.757 (0s)\n",
      "epoch=85, step=8, EUBO=544.473389, ELBO=539.888916, ESS=5.151 (0s)\n",
      "epoch=85, step=9, EUBO=544.820923, ELBO=540.881470, ESS=5.343 (0s)\n",
      "epoch=86, step=0, EUBO=544.266724, ELBO=538.948059, ESS=5.293 (0s)\n",
      "epoch=86, step=1, EUBO=544.638733, ELBO=540.827026, ESS=5.353 (0s)\n",
      "epoch=86, step=2, EUBO=544.730042, ELBO=539.861694, ESS=5.305 (0s)\n",
      "epoch=86, step=3, EUBO=544.388977, ELBO=539.741699, ESS=5.338 (0s)\n",
      "epoch=86, step=4, EUBO=544.755188, ELBO=541.758179, ESS=5.578 (0s)\n",
      "epoch=86, step=5, EUBO=544.976929, ELBO=541.915466, ESS=5.680 (0s)\n",
      "epoch=86, step=6, EUBO=544.223206, ELBO=538.869690, ESS=5.374 (0s)\n",
      "epoch=86, step=7, EUBO=544.260132, ELBO=539.354980, ESS=5.136 (0s)\n",
      "epoch=86, step=8, EUBO=544.904785, ELBO=542.650513, ESS=5.921 (0s)\n",
      "epoch=86, step=9, EUBO=544.944824, ELBO=541.354431, ESS=5.717 (0s)\n",
      "epoch=87, step=0, EUBO=544.252808, ELBO=537.775208, ESS=5.064 (0s)\n",
      "epoch=87, step=1, EUBO=544.757446, ELBO=540.904297, ESS=5.702 (0s)\n",
      "epoch=87, step=2, EUBO=544.866699, ELBO=541.459229, ESS=5.922 (0s)\n",
      "epoch=87, step=3, EUBO=544.900818, ELBO=541.134521, ESS=5.429 (0s)\n",
      "epoch=87, step=4, EUBO=544.989258, ELBO=542.632019, ESS=5.458 (0s)\n",
      "epoch=87, step=5, EUBO=544.767395, ELBO=541.543945, ESS=5.638 (0s)\n",
      "epoch=87, step=6, EUBO=544.663269, ELBO=540.160217, ESS=5.633 (0s)\n",
      "epoch=87, step=7, EUBO=545.069153, ELBO=542.381531, ESS=5.864 (0s)\n",
      "epoch=87, step=8, EUBO=544.807312, ELBO=541.745361, ESS=5.711 (0s)\n",
      "epoch=87, step=9, EUBO=544.956482, ELBO=542.345398, ESS=5.703 (0s)\n",
      "epoch=88, step=0, EUBO=545.062012, ELBO=541.695679, ESS=5.891 (0s)\n",
      "epoch=88, step=1, EUBO=543.992126, ELBO=538.553650, ESS=5.451 (0s)\n",
      "epoch=88, step=2, EUBO=544.871277, ELBO=542.645142, ESS=5.737 (0s)\n",
      "epoch=88, step=3, EUBO=544.778625, ELBO=542.015564, ESS=5.906 (0s)\n",
      "epoch=88, step=4, EUBO=544.880798, ELBO=542.348755, ESS=5.841 (0s)\n",
      "epoch=88, step=5, EUBO=544.573364, ELBO=540.537354, ESS=5.828 (0s)\n",
      "epoch=88, step=6, EUBO=545.034058, ELBO=542.782593, ESS=5.693 (0s)\n",
      "epoch=88, step=7, EUBO=545.006226, ELBO=542.469055, ESS=5.761 (0s)\n",
      "epoch=88, step=8, EUBO=544.562317, ELBO=541.491638, ESS=5.830 (0s)\n",
      "epoch=88, step=9, EUBO=544.885315, ELBO=542.816284, ESS=5.923 (0s)\n",
      "epoch=89, step=0, EUBO=544.930298, ELBO=541.690063, ESS=5.891 (0s)\n",
      "epoch=89, step=1, EUBO=544.472168, ELBO=540.895325, ESS=5.694 (0s)\n",
      "epoch=89, step=2, EUBO=544.634460, ELBO=540.952393, ESS=5.666 (0s)\n",
      "epoch=89, step=3, EUBO=544.987915, ELBO=542.684021, ESS=5.829 (0s)\n",
      "epoch=89, step=4, EUBO=544.678528, ELBO=541.415161, ESS=5.743 (0s)\n",
      "epoch=89, step=5, EUBO=544.708923, ELBO=541.736328, ESS=5.645 (0s)\n",
      "epoch=89, step=6, EUBO=544.960754, ELBO=542.151184, ESS=6.036 (0s)\n",
      "epoch=89, step=7, EUBO=544.552673, ELBO=541.578491, ESS=5.569 (0s)\n",
      "epoch=89, step=8, EUBO=545.119507, ELBO=543.423584, ESS=6.084 (0s)\n",
      "epoch=89, step=9, EUBO=544.837891, ELBO=542.439575, ESS=6.089 (0s)\n",
      "epoch=90, step=0, EUBO=544.898987, ELBO=542.678711, ESS=6.113 (0s)\n",
      "epoch=90, step=1, EUBO=544.735046, ELBO=541.823669, ESS=6.018 (0s)\n",
      "epoch=90, step=2, EUBO=544.581238, ELBO=541.612549, ESS=5.959 (0s)\n",
      "epoch=90, step=3, EUBO=544.960083, ELBO=542.726685, ESS=6.037 (0s)\n",
      "epoch=90, step=4, EUBO=544.631958, ELBO=541.418396, ESS=6.184 (0s)\n",
      "epoch=90, step=5, EUBO=544.913269, ELBO=542.365601, ESS=6.135 (0s)\n",
      "epoch=90, step=6, EUBO=544.701233, ELBO=542.317932, ESS=6.072 (0s)\n",
      "epoch=90, step=7, EUBO=544.540710, ELBO=541.663940, ESS=6.488 (0s)\n",
      "epoch=90, step=8, EUBO=544.858826, ELBO=543.010681, ESS=6.043 (0s)\n",
      "epoch=90, step=9, EUBO=544.878479, ELBO=542.150208, ESS=6.148 (0s)\n",
      "epoch=91, step=0, EUBO=544.890747, ELBO=542.933533, ESS=5.904 (0s)\n",
      "epoch=91, step=1, EUBO=544.758301, ELBO=542.496277, ESS=6.124 (0s)\n",
      "epoch=91, step=2, EUBO=545.138916, ELBO=543.309082, ESS=6.267 (0s)\n",
      "epoch=91, step=3, EUBO=544.638184, ELBO=541.661621, ESS=5.904 (0s)\n",
      "epoch=91, step=4, EUBO=545.097290, ELBO=543.495544, ESS=6.655 (0s)\n",
      "epoch=91, step=5, EUBO=544.923401, ELBO=542.889038, ESS=6.304 (0s)\n",
      "epoch=91, step=6, EUBO=544.460388, ELBO=541.850159, ESS=5.722 (0s)\n",
      "epoch=91, step=7, EUBO=544.456177, ELBO=542.146179, ESS=6.026 (0s)\n",
      "epoch=91, step=8, EUBO=544.861755, ELBO=542.950378, ESS=6.578 (0s)\n",
      "epoch=91, step=9, EUBO=544.730408, ELBO=541.360596, ESS=6.197 (0s)\n",
      "epoch=92, step=0, EUBO=544.812866, ELBO=542.955994, ESS=6.258 (0s)\n",
      "epoch=92, step=1, EUBO=544.991638, ELBO=543.511658, ESS=6.608 (0s)\n",
      "epoch=92, step=2, EUBO=544.451172, ELBO=541.801880, ESS=6.545 (0s)\n",
      "epoch=92, step=3, EUBO=544.929932, ELBO=542.923645, ESS=6.277 (0s)\n",
      "epoch=92, step=4, EUBO=544.557312, ELBO=541.796448, ESS=5.980 (0s)\n",
      "epoch=92, step=5, EUBO=544.920837, ELBO=542.719177, ESS=5.978 (0s)\n",
      "epoch=92, step=6, EUBO=544.691101, ELBO=542.293396, ESS=6.276 (0s)\n",
      "epoch=92, step=7, EUBO=544.857666, ELBO=543.185913, ESS=6.265 (0s)\n",
      "epoch=92, step=8, EUBO=544.859131, ELBO=542.731812, ESS=6.016 (0s)\n",
      "epoch=92, step=9, EUBO=544.910645, ELBO=543.504761, ESS=6.391 (0s)\n",
      "epoch=93, step=0, EUBO=544.719910, ELBO=542.716309, ESS=6.386 (0s)\n",
      "epoch=93, step=1, EUBO=544.774658, ELBO=542.344910, ESS=5.959 (0s)\n",
      "epoch=93, step=2, EUBO=544.694763, ELBO=542.304321, ESS=6.101 (0s)\n",
      "epoch=93, step=3, EUBO=544.941772, ELBO=543.608215, ESS=6.707 (0s)\n",
      "epoch=93, step=4, EUBO=544.720520, ELBO=543.033997, ESS=6.578 (0s)\n",
      "epoch=93, step=5, EUBO=544.772400, ELBO=542.714783, ESS=6.486 (0s)\n",
      "epoch=93, step=6, EUBO=545.058289, ELBO=543.651062, ESS=6.468 (0s)\n",
      "epoch=93, step=7, EUBO=544.805908, ELBO=543.089050, ESS=6.795 (0s)\n",
      "epoch=93, step=8, EUBO=544.694458, ELBO=542.593750, ESS=6.481 (0s)\n",
      "epoch=93, step=9, EUBO=544.670593, ELBO=543.221130, ESS=6.236 (0s)\n",
      "epoch=94, step=0, EUBO=544.881531, ELBO=543.233276, ESS=6.219 (0s)\n",
      "epoch=94, step=1, EUBO=544.400391, ELBO=541.695374, ESS=6.011 (0s)\n",
      "epoch=94, step=2, EUBO=544.926086, ELBO=543.427551, ESS=6.475 (0s)\n",
      "epoch=94, step=3, EUBO=544.877563, ELBO=542.877502, ESS=6.651 (0s)\n",
      "epoch=94, step=4, EUBO=544.905701, ELBO=543.721191, ESS=6.630 (0s)\n",
      "epoch=94, step=5, EUBO=544.845825, ELBO=542.721924, ESS=6.401 (0s)\n",
      "epoch=94, step=6, EUBO=544.875549, ELBO=543.409180, ESS=6.331 (0s)\n",
      "epoch=94, step=7, EUBO=545.128235, ELBO=543.564819, ESS=6.855 (0s)\n",
      "epoch=94, step=8, EUBO=544.765625, ELBO=543.210632, ESS=6.691 (0s)\n",
      "epoch=94, step=9, EUBO=544.765076, ELBO=542.522156, ESS=6.623 (0s)\n",
      "epoch=95, step=0, EUBO=544.769104, ELBO=543.426453, ESS=7.067 (0s)\n",
      "epoch=95, step=1, EUBO=544.959351, ELBO=543.134338, ESS=6.533 (0s)\n",
      "epoch=95, step=2, EUBO=544.691711, ELBO=542.536133, ESS=6.422 (0s)\n",
      "epoch=95, step=3, EUBO=544.934998, ELBO=543.877625, ESS=6.803 (0s)\n",
      "epoch=95, step=4, EUBO=544.636841, ELBO=542.958984, ESS=6.838 (0s)\n",
      "epoch=95, step=5, EUBO=544.716492, ELBO=542.756470, ESS=5.929 (0s)\n",
      "epoch=95, step=6, EUBO=544.642639, ELBO=542.730164, ESS=6.455 (0s)\n",
      "epoch=95, step=7, EUBO=544.955994, ELBO=543.708435, ESS=6.682 (0s)\n",
      "epoch=95, step=8, EUBO=544.925110, ELBO=543.547485, ESS=6.491 (0s)\n",
      "epoch=95, step=9, EUBO=544.720093, ELBO=542.962280, ESS=6.518 (0s)\n",
      "epoch=96, step=0, EUBO=544.929688, ELBO=543.867859, ESS=6.815 (0s)\n",
      "epoch=96, step=1, EUBO=544.787170, ELBO=542.854980, ESS=6.304 (0s)\n",
      "epoch=96, step=2, EUBO=544.991089, ELBO=543.484497, ESS=6.603 (0s)\n",
      "epoch=96, step=3, EUBO=544.896423, ELBO=543.724670, ESS=6.753 (0s)\n",
      "epoch=96, step=4, EUBO=544.515442, ELBO=542.443909, ESS=6.703 (0s)\n",
      "epoch=96, step=5, EUBO=544.850037, ELBO=543.620117, ESS=6.595 (0s)\n",
      "epoch=96, step=6, EUBO=544.920105, ELBO=543.581177, ESS=6.582 (0s)\n",
      "epoch=96, step=7, EUBO=544.986877, ELBO=543.681458, ESS=6.609 (0s)\n",
      "epoch=96, step=8, EUBO=544.897400, ELBO=543.335266, ESS=6.543 (0s)\n",
      "epoch=96, step=9, EUBO=544.552429, ELBO=542.753052, ESS=6.536 (0s)\n",
      "epoch=97, step=0, EUBO=544.814453, ELBO=543.700012, ESS=6.914 (0s)\n",
      "epoch=97, step=1, EUBO=544.779663, ELBO=543.236816, ESS=6.665 (0s)\n",
      "epoch=97, step=2, EUBO=544.876587, ELBO=544.039612, ESS=6.834 (0s)\n",
      "epoch=97, step=3, EUBO=544.801392, ELBO=543.226990, ESS=7.085 (0s)\n",
      "epoch=97, step=4, EUBO=544.750183, ELBO=543.026855, ESS=6.893 (0s)\n",
      "epoch=97, step=5, EUBO=544.566956, ELBO=542.815430, ESS=6.512 (0s)\n",
      "epoch=97, step=6, EUBO=544.741455, ELBO=543.113647, ESS=6.847 (0s)\n",
      "epoch=97, step=7, EUBO=544.698120, ELBO=543.143799, ESS=6.788 (0s)\n",
      "epoch=97, step=8, EUBO=544.819824, ELBO=543.866699, ESS=6.916 (0s)\n",
      "epoch=97, step=9, EUBO=544.585754, ELBO=543.288879, ESS=6.742 (0s)\n",
      "epoch=98, step=0, EUBO=544.683289, ELBO=543.286316, ESS=6.633 (0s)\n",
      "epoch=98, step=1, EUBO=544.858765, ELBO=543.881287, ESS=6.892 (0s)\n",
      "epoch=98, step=2, EUBO=544.662659, ELBO=543.322205, ESS=6.752 (0s)\n",
      "epoch=98, step=3, EUBO=544.842407, ELBO=543.608948, ESS=6.953 (0s)\n",
      "epoch=98, step=4, EUBO=544.914612, ELBO=543.822815, ESS=6.958 (0s)\n",
      "epoch=98, step=5, EUBO=544.794739, ELBO=543.585388, ESS=7.041 (0s)\n",
      "epoch=98, step=6, EUBO=544.812073, ELBO=543.755493, ESS=6.789 (0s)\n",
      "epoch=98, step=7, EUBO=544.918091, ELBO=543.555786, ESS=6.687 (0s)\n",
      "epoch=98, step=8, EUBO=544.600952, ELBO=542.798279, ESS=6.648 (0s)\n",
      "epoch=98, step=9, EUBO=544.903137, ELBO=543.608765, ESS=6.732 (0s)\n",
      "epoch=99, step=0, EUBO=544.983215, ELBO=544.016724, ESS=6.969 (0s)\n",
      "epoch=99, step=1, EUBO=544.904907, ELBO=543.861572, ESS=6.976 (0s)\n",
      "epoch=99, step=2, EUBO=544.778076, ELBO=543.564087, ESS=6.709 (0s)\n",
      "epoch=99, step=3, EUBO=544.395020, ELBO=542.747742, ESS=6.580 (0s)\n",
      "epoch=99, step=4, EUBO=544.812927, ELBO=543.469849, ESS=6.719 (0s)\n",
      "epoch=99, step=5, EUBO=544.739380, ELBO=543.462341, ESS=6.932 (0s)\n",
      "epoch=99, step=6, EUBO=544.862183, ELBO=543.774597, ESS=6.887 (0s)\n",
      "epoch=99, step=7, EUBO=544.925781, ELBO=544.019775, ESS=7.137 (0s)\n",
      "epoch=99, step=8, EUBO=544.743958, ELBO=543.675781, ESS=7.054 (0s)\n",
      "epoch=99, step=9, EUBO=544.758362, ELBO=543.707458, ESS=7.208 (0s)\n",
      "epoch=100, step=0, EUBO=544.854492, ELBO=543.706421, ESS=6.660 (0s)\n",
      "epoch=100, step=1, EUBO=544.877197, ELBO=544.103760, ESS=7.082 (0s)\n",
      "epoch=100, step=2, EUBO=544.786926, ELBO=543.578674, ESS=6.839 (0s)\n",
      "epoch=100, step=3, EUBO=544.824890, ELBO=544.156006, ESS=7.331 (0s)\n",
      "epoch=100, step=4, EUBO=544.961060, ELBO=544.004211, ESS=7.035 (0s)\n",
      "epoch=100, step=5, EUBO=544.854675, ELBO=543.906738, ESS=7.133 (0s)\n",
      "epoch=100, step=6, EUBO=544.946289, ELBO=544.015320, ESS=7.270 (0s)\n",
      "epoch=100, step=7, EUBO=544.763855, ELBO=543.801697, ESS=7.139 (0s)\n",
      "epoch=100, step=8, EUBO=544.768005, ELBO=543.170349, ESS=6.980 (0s)\n",
      "epoch=100, step=9, EUBO=544.502930, ELBO=543.232239, ESS=6.783 (0s)\n",
      "epoch=101, step=0, EUBO=544.903809, ELBO=544.313477, ESS=7.348 (0s)\n",
      "epoch=101, step=1, EUBO=544.740662, ELBO=543.531067, ESS=6.951 (0s)\n",
      "epoch=101, step=2, EUBO=544.847107, ELBO=543.563477, ESS=6.936 (0s)\n",
      "epoch=101, step=3, EUBO=544.721252, ELBO=543.410339, ESS=6.889 (0s)\n",
      "epoch=101, step=4, EUBO=544.805115, ELBO=543.721069, ESS=6.978 (0s)\n",
      "epoch=101, step=5, EUBO=544.847290, ELBO=543.826477, ESS=7.101 (0s)\n",
      "epoch=101, step=6, EUBO=544.952820, ELBO=544.163086, ESS=7.131 (0s)\n",
      "epoch=101, step=7, EUBO=544.747070, ELBO=543.776733, ESS=7.000 (0s)\n",
      "epoch=101, step=8, EUBO=544.770386, ELBO=543.125305, ESS=6.773 (0s)\n",
      "epoch=101, step=9, EUBO=544.800537, ELBO=543.868530, ESS=7.009 (0s)\n",
      "epoch=102, step=0, EUBO=544.804626, ELBO=543.816162, ESS=7.164 (0s)\n",
      "epoch=102, step=1, EUBO=544.800354, ELBO=543.824341, ESS=7.134 (0s)\n",
      "epoch=102, step=2, EUBO=544.951294, ELBO=543.966248, ESS=7.578 (0s)\n",
      "epoch=102, step=3, EUBO=544.888123, ELBO=543.845276, ESS=7.222 (0s)\n",
      "epoch=102, step=4, EUBO=544.936096, ELBO=543.878296, ESS=7.093 (0s)\n",
      "epoch=102, step=5, EUBO=544.914246, ELBO=544.143799, ESS=7.477 (0s)\n",
      "epoch=102, step=6, EUBO=544.868958, ELBO=543.976318, ESS=6.876 (0s)\n",
      "epoch=102, step=7, EUBO=544.795715, ELBO=543.939453, ESS=6.993 (0s)\n",
      "epoch=102, step=8, EUBO=544.854004, ELBO=543.691040, ESS=6.748 (0s)\n",
      "epoch=102, step=9, EUBO=544.772705, ELBO=543.590515, ESS=7.044 (0s)\n",
      "epoch=103, step=0, EUBO=544.762878, ELBO=543.596619, ESS=6.879 (0s)\n",
      "epoch=103, step=1, EUBO=544.666199, ELBO=543.709900, ESS=7.030 (0s)\n",
      "epoch=103, step=2, EUBO=544.850769, ELBO=543.860352, ESS=7.323 (0s)\n",
      "epoch=103, step=3, EUBO=544.851685, ELBO=544.123047, ESS=7.458 (0s)\n",
      "epoch=103, step=4, EUBO=544.969666, ELBO=544.250549, ESS=7.194 (0s)\n",
      "epoch=103, step=5, EUBO=544.873291, ELBO=543.936462, ESS=7.261 (0s)\n",
      "epoch=103, step=6, EUBO=544.720642, ELBO=544.055786, ESS=7.169 (0s)\n",
      "epoch=103, step=7, EUBO=544.971375, ELBO=543.926392, ESS=7.327 (0s)\n",
      "epoch=103, step=8, EUBO=544.764221, ELBO=543.760376, ESS=7.127 (0s)\n",
      "epoch=103, step=9, EUBO=544.677979, ELBO=543.668884, ESS=7.405 (0s)\n",
      "epoch=104, step=0, EUBO=544.943176, ELBO=544.174500, ESS=7.294 (0s)\n",
      "epoch=104, step=1, EUBO=544.767700, ELBO=543.518005, ESS=6.839 (0s)\n",
      "epoch=104, step=2, EUBO=544.826294, ELBO=544.034119, ESS=6.994 (0s)\n",
      "epoch=104, step=3, EUBO=544.956604, ELBO=544.092468, ESS=6.887 (0s)\n",
      "epoch=104, step=4, EUBO=544.877502, ELBO=544.240173, ESS=7.300 (0s)\n",
      "epoch=104, step=5, EUBO=544.706238, ELBO=543.670593, ESS=7.029 (0s)\n",
      "epoch=104, step=6, EUBO=544.851501, ELBO=543.985718, ESS=7.133 (0s)\n",
      "epoch=104, step=7, EUBO=544.666077, ELBO=543.652954, ESS=6.903 (0s)\n",
      "epoch=104, step=8, EUBO=544.842224, ELBO=544.295593, ESS=7.808 (0s)\n",
      "epoch=104, step=9, EUBO=544.747803, ELBO=543.808167, ESS=7.144 (0s)\n",
      "epoch=105, step=0, EUBO=544.933960, ELBO=544.011963, ESS=7.361 (0s)\n",
      "epoch=105, step=1, EUBO=544.867126, ELBO=544.070129, ESS=7.421 (0s)\n",
      "epoch=105, step=2, EUBO=544.856262, ELBO=544.202393, ESS=7.583 (0s)\n",
      "epoch=105, step=3, EUBO=544.757812, ELBO=543.757751, ESS=7.088 (0s)\n",
      "epoch=105, step=4, EUBO=544.988098, ELBO=544.393005, ESS=7.219 (0s)\n",
      "epoch=105, step=5, EUBO=544.683350, ELBO=543.891541, ESS=6.947 (0s)\n",
      "epoch=105, step=6, EUBO=544.772034, ELBO=543.861694, ESS=7.148 (0s)\n",
      "epoch=105, step=7, EUBO=544.960327, ELBO=544.479126, ESS=7.835 (0s)\n",
      "epoch=105, step=8, EUBO=544.718018, ELBO=543.231079, ESS=6.934 (0s)\n",
      "epoch=105, step=9, EUBO=544.754578, ELBO=543.877380, ESS=7.087 (0s)\n",
      "epoch=106, step=0, EUBO=544.840637, ELBO=544.161682, ESS=7.525 (0s)\n",
      "epoch=106, step=1, EUBO=544.637207, ELBO=543.657227, ESS=6.950 (0s)\n",
      "epoch=106, step=2, EUBO=544.738525, ELBO=544.047424, ESS=7.061 (0s)\n",
      "epoch=106, step=3, EUBO=545.017822, ELBO=544.340088, ESS=7.189 (0s)\n",
      "epoch=106, step=4, EUBO=544.908020, ELBO=544.171814, ESS=7.290 (0s)\n",
      "epoch=106, step=5, EUBO=544.807739, ELBO=544.044128, ESS=7.315 (0s)\n",
      "epoch=106, step=6, EUBO=544.541016, ELBO=543.131958, ESS=6.860 (0s)\n",
      "epoch=106, step=7, EUBO=544.899841, ELBO=544.217041, ESS=7.189 (0s)\n",
      "epoch=106, step=8, EUBO=544.940430, ELBO=544.329102, ESS=7.311 (0s)\n",
      "epoch=106, step=9, EUBO=544.924011, ELBO=544.495483, ESS=7.740 (0s)\n",
      "epoch=107, step=0, EUBO=544.851868, ELBO=544.232239, ESS=7.552 (0s)\n",
      "epoch=107, step=1, EUBO=544.889587, ELBO=544.263794, ESS=7.179 (0s)\n",
      "epoch=107, step=2, EUBO=544.630310, ELBO=544.006470, ESS=7.365 (0s)\n",
      "epoch=107, step=3, EUBO=545.029907, ELBO=544.372803, ESS=7.428 (0s)\n",
      "epoch=107, step=4, EUBO=544.791687, ELBO=544.083252, ESS=7.441 (0s)\n",
      "epoch=107, step=5, EUBO=544.774109, ELBO=544.086853, ESS=7.302 (0s)\n",
      "epoch=107, step=6, EUBO=544.738525, ELBO=543.706604, ESS=7.120 (0s)\n",
      "epoch=107, step=7, EUBO=544.891541, ELBO=544.127197, ESS=7.347 (0s)\n",
      "epoch=107, step=8, EUBO=544.833801, ELBO=544.199829, ESS=7.221 (0s)\n",
      "epoch=107, step=9, EUBO=544.845947, ELBO=543.957825, ESS=7.289 (0s)\n",
      "epoch=108, step=0, EUBO=544.859375, ELBO=544.353455, ESS=7.564 (0s)\n",
      "epoch=108, step=1, EUBO=544.584900, ELBO=543.864868, ESS=7.056 (0s)\n",
      "epoch=108, step=2, EUBO=544.895691, ELBO=544.234619, ESS=7.702 (0s)\n",
      "epoch=108, step=3, EUBO=544.767212, ELBO=544.028748, ESS=7.334 (0s)\n",
      "epoch=108, step=4, EUBO=544.829285, ELBO=544.055237, ESS=7.528 (0s)\n",
      "epoch=108, step=5, EUBO=544.937195, ELBO=544.235901, ESS=7.619 (0s)\n",
      "epoch=108, step=6, EUBO=544.765686, ELBO=543.995056, ESS=7.409 (0s)\n",
      "epoch=108, step=7, EUBO=544.811462, ELBO=544.127808, ESS=7.531 (0s)\n",
      "epoch=108, step=8, EUBO=544.927917, ELBO=544.373413, ESS=7.556 (0s)\n",
      "epoch=108, step=9, EUBO=544.754700, ELBO=543.906555, ESS=7.255 (0s)\n",
      "epoch=109, step=0, EUBO=544.784729, ELBO=544.031616, ESS=7.517 (0s)\n",
      "epoch=109, step=1, EUBO=544.946716, ELBO=544.156250, ESS=7.413 (0s)\n",
      "epoch=109, step=2, EUBO=544.930847, ELBO=543.985168, ESS=7.333 (0s)\n",
      "epoch=109, step=3, EUBO=544.741455, ELBO=544.156311, ESS=7.389 (0s)\n",
      "epoch=109, step=4, EUBO=544.900818, ELBO=544.313477, ESS=7.673 (0s)\n",
      "epoch=109, step=5, EUBO=544.657227, ELBO=543.817017, ESS=7.449 (0s)\n",
      "epoch=109, step=6, EUBO=544.788879, ELBO=544.012817, ESS=7.264 (0s)\n",
      "epoch=109, step=7, EUBO=544.854492, ELBO=544.292664, ESS=7.580 (0s)\n",
      "epoch=109, step=8, EUBO=544.830688, ELBO=543.992676, ESS=7.293 (0s)\n",
      "epoch=109, step=9, EUBO=544.925049, ELBO=544.351379, ESS=7.409 (0s)\n",
      "epoch=110, step=0, EUBO=544.828552, ELBO=544.271240, ESS=7.227 (0s)\n",
      "epoch=110, step=1, EUBO=544.843811, ELBO=544.109192, ESS=7.420 (0s)\n",
      "epoch=110, step=2, EUBO=544.703247, ELBO=544.054626, ESS=7.319 (0s)\n",
      "epoch=110, step=3, EUBO=544.882263, ELBO=544.236328, ESS=7.470 (0s)\n",
      "epoch=110, step=4, EUBO=544.851868, ELBO=544.143616, ESS=7.550 (0s)\n",
      "epoch=110, step=5, EUBO=544.723083, ELBO=544.057007, ESS=7.343 (0s)\n",
      "epoch=110, step=6, EUBO=544.869568, ELBO=543.856995, ESS=7.425 (0s)\n",
      "epoch=110, step=7, EUBO=544.812744, ELBO=543.821228, ESS=7.288 (0s)\n",
      "epoch=110, step=8, EUBO=544.825623, ELBO=544.261841, ESS=7.587 (0s)\n",
      "epoch=110, step=9, EUBO=545.007385, ELBO=544.580383, ESS=7.728 (0s)\n",
      "epoch=111, step=0, EUBO=544.811646, ELBO=544.024231, ESS=7.142 (0s)\n",
      "epoch=111, step=1, EUBO=544.790894, ELBO=544.000916, ESS=6.994 (0s)\n",
      "epoch=111, step=2, EUBO=544.733398, ELBO=543.974731, ESS=7.062 (0s)\n",
      "epoch=111, step=3, EUBO=544.860046, ELBO=543.940674, ESS=7.397 (0s)\n",
      "epoch=111, step=4, EUBO=544.991821, ELBO=544.273376, ESS=7.627 (0s)\n",
      "epoch=111, step=5, EUBO=544.904236, ELBO=544.241150, ESS=7.315 (0s)\n",
      "epoch=111, step=6, EUBO=544.756653, ELBO=544.181213, ESS=7.539 (0s)\n",
      "epoch=111, step=7, EUBO=544.936218, ELBO=544.361084, ESS=7.732 (0s)\n",
      "epoch=111, step=8, EUBO=544.712036, ELBO=544.179138, ESS=7.672 (0s)\n",
      "epoch=111, step=9, EUBO=544.753784, ELBO=544.158813, ESS=7.460 (0s)\n",
      "epoch=112, step=0, EUBO=544.690308, ELBO=544.083679, ESS=7.888 (0s)\n",
      "epoch=112, step=1, EUBO=544.698608, ELBO=543.931213, ESS=7.462 (0s)\n",
      "epoch=112, step=2, EUBO=544.845398, ELBO=544.284180, ESS=7.634 (0s)\n",
      "epoch=112, step=3, EUBO=544.740051, ELBO=543.885132, ESS=7.348 (0s)\n",
      "epoch=112, step=4, EUBO=544.811401, ELBO=544.296631, ESS=7.625 (0s)\n",
      "epoch=112, step=5, EUBO=544.836365, ELBO=544.302307, ESS=7.500 (0s)\n",
      "epoch=112, step=6, EUBO=544.934143, ELBO=544.311646, ESS=7.604 (0s)\n",
      "epoch=112, step=7, EUBO=544.747986, ELBO=544.130859, ESS=7.632 (0s)\n",
      "epoch=112, step=8, EUBO=544.920166, ELBO=544.300232, ESS=7.851 (0s)\n",
      "epoch=112, step=9, EUBO=544.807861, ELBO=544.111572, ESS=7.342 (0s)\n",
      "epoch=113, step=0, EUBO=544.819458, ELBO=544.195374, ESS=7.528 (0s)\n",
      "epoch=113, step=1, EUBO=544.744507, ELBO=544.018372, ESS=7.263 (0s)\n",
      "epoch=113, step=2, EUBO=544.741882, ELBO=544.203796, ESS=7.589 (0s)\n",
      "epoch=113, step=3, EUBO=544.746033, ELBO=544.247009, ESS=7.848 (0s)\n",
      "epoch=113, step=4, EUBO=544.746460, ELBO=544.140930, ESS=7.737 (0s)\n",
      "epoch=113, step=5, EUBO=544.866211, ELBO=544.200378, ESS=7.523 (0s)\n",
      "epoch=113, step=6, EUBO=544.830994, ELBO=544.076172, ESS=7.310 (0s)\n",
      "epoch=113, step=7, EUBO=544.909668, ELBO=544.390442, ESS=7.553 (0s)\n",
      "epoch=113, step=8, EUBO=544.857971, ELBO=544.238831, ESS=7.323 (0s)\n",
      "epoch=113, step=9, EUBO=544.908630, ELBO=544.265198, ESS=7.693 (0s)\n",
      "epoch=114, step=0, EUBO=544.778687, ELBO=544.138123, ESS=7.463 (0s)\n",
      "epoch=114, step=1, EUBO=544.851624, ELBO=544.430908, ESS=7.853 (0s)\n",
      "epoch=114, step=2, EUBO=544.869385, ELBO=544.356689, ESS=7.525 (0s)\n",
      "epoch=114, step=3, EUBO=544.839783, ELBO=544.200623, ESS=7.656 (0s)\n",
      "epoch=114, step=4, EUBO=544.778748, ELBO=544.293762, ESS=7.646 (0s)\n",
      "epoch=114, step=5, EUBO=544.593201, ELBO=543.983887, ESS=7.482 (0s)\n",
      "epoch=114, step=6, EUBO=544.771423, ELBO=544.151550, ESS=7.455 (0s)\n",
      "epoch=114, step=7, EUBO=544.809265, ELBO=544.223022, ESS=7.624 (0s)\n"
     ]
    },
    {
     "ename": "KeyboardInterrupt",
     "evalue": "",
     "output_type": "error",
     "traceback": [
      "\u001b[0;31m---------------------------------------------------------------------------\u001b[0m",
      "\u001b[0;31mKeyboardInterrupt\u001b[0m                         Traceback (most recent call last)",
      "\u001b[0;32m<ipython-input-10-371075c1ae3a>\u001b[0m in \u001b[0;36m<module>\u001b[0;34m\u001b[0m\n\u001b[1;32m     12\u001b[0m         \u001b[0mbatch_Xs\u001b[0m \u001b[0;34m=\u001b[0m \u001b[0mshuffler\u001b[0m\u001b[0;34m(\u001b[0m\u001b[0mbatch_Xs\u001b[0m\u001b[0;34m,\u001b[0m \u001b[0mN\u001b[0m\u001b[0;34m,\u001b[0m \u001b[0mD\u001b[0m\u001b[0;34m,\u001b[0m \u001b[0mBATCH_SIZE\u001b[0m\u001b[0;34m)\u001b[0m\u001b[0;34m\u001b[0m\u001b[0m\n\u001b[1;32m     13\u001b[0m         \u001b[0mbatch_Xs\u001b[0m \u001b[0;34m=\u001b[0m \u001b[0mbatch_Xs\u001b[0m\u001b[0;34m.\u001b[0m\u001b[0mcuda\u001b[0m\u001b[0;34m(\u001b[0m\u001b[0;34m)\u001b[0m\u001b[0;34m\u001b[0m\u001b[0m\n\u001b[0;32m---> 14\u001b[0;31m         \u001b[0meubo\u001b[0m\u001b[0;34m,\u001b[0m \u001b[0melbo\u001b[0m\u001b[0;34m,\u001b[0m \u001b[0mess\u001b[0m \u001b[0;34m=\u001b[0m \u001b[0moneshot\u001b[0m\u001b[0;34m(\u001b[0m\u001b[0mbatch_Xs\u001b[0m\u001b[0;34m,\u001b[0m \u001b[0mN\u001b[0m\u001b[0;34m,\u001b[0m \u001b[0mD\u001b[0m\u001b[0;34m,\u001b[0m \u001b[0mNUM_SAMPLES\u001b[0m\u001b[0;34m,\u001b[0m \u001b[0mBATCH_SIZE\u001b[0m\u001b[0;34m)\u001b[0m\u001b[0;34m\u001b[0m\u001b[0m\n\u001b[0m\u001b[1;32m     15\u001b[0m         \u001b[0meubo\u001b[0m\u001b[0;34m.\u001b[0m\u001b[0mbackward\u001b[0m\u001b[0;34m(\u001b[0m\u001b[0;34m)\u001b[0m\u001b[0;34m\u001b[0m\u001b[0m\n\u001b[1;32m     16\u001b[0m         \u001b[0moptimizer\u001b[0m\u001b[0;34m.\u001b[0m\u001b[0mstep\u001b[0m\u001b[0;34m(\u001b[0m\u001b[0;34m)\u001b[0m\u001b[0;34m\u001b[0m\u001b[0m\n",
      "\u001b[0;32m<ipython-input-8-9bcf165f9203>\u001b[0m in \u001b[0;36moneshot\u001b[0;34m(x, N, D, num_samples, batch_size)\u001b[0m\n\u001b[1;32m     26\u001b[0m         \u001b[0mdata\u001b[0m \u001b[0;34m=\u001b[0m \u001b[0mx\u001b[0m\u001b[0;34m.\u001b[0m\u001b[0mview\u001b[0m\u001b[0;34m(\u001b[0m\u001b[0mbatch_size\u001b[0m\u001b[0;34m*\u001b[0m\u001b[0mN\u001b[0m\u001b[0;34m,\u001b[0m \u001b[0;34m-\u001b[0m\u001b[0;36m1\u001b[0m\u001b[0;34m)\u001b[0m\u001b[0;34m\u001b[0m\u001b[0m\n\u001b[1;32m     27\u001b[0m         \u001b[0mq_mean\u001b[0m\u001b[0;34m,\u001b[0m \u001b[0mq_sigma\u001b[0m\u001b[0;34m,\u001b[0m \u001b[0mmus\u001b[0m\u001b[0;34m,\u001b[0m \u001b[0mlog_q\u001b[0m \u001b[0;34m=\u001b[0m \u001b[0menc_global\u001b[0m\u001b[0;34m(\u001b[0m\u001b[0mdata\u001b[0m\u001b[0;34m,\u001b[0m \u001b[0mN\u001b[0m\u001b[0;34m,\u001b[0m \u001b[0mD\u001b[0m\u001b[0;34m,\u001b[0m \u001b[0mbatch_size\u001b[0m\u001b[0;34m)\u001b[0m\u001b[0;34m\u001b[0m\u001b[0m\n\u001b[0;32m---> 28\u001b[0;31m         \u001b[0mlog_p\u001b[0m \u001b[0;34m=\u001b[0m \u001b[0mlog_joints\u001b[0m\u001b[0;34m(\u001b[0m\u001b[0mx\u001b[0m\u001b[0;34m,\u001b[0m \u001b[0mq_mean\u001b[0m\u001b[0;34m,\u001b[0m \u001b[0mq_sigma\u001b[0m\u001b[0;34m,\u001b[0m \u001b[0mmus\u001b[0m\u001b[0;34m,\u001b[0m \u001b[0mN\u001b[0m\u001b[0;34m,\u001b[0m \u001b[0mD\u001b[0m\u001b[0;34m,\u001b[0m \u001b[0mprior_mean\u001b[0m\u001b[0;34m,\u001b[0m \u001b[0mprior_sigma\u001b[0m\u001b[0;34m,\u001b[0m \u001b[0mbatch_size\u001b[0m\u001b[0;34m)\u001b[0m\u001b[0;34m\u001b[0m\u001b[0m\n\u001b[0m\u001b[1;32m     29\u001b[0m         \u001b[0mlog_weights\u001b[0m\u001b[0;34m[\u001b[0m\u001b[0ml\u001b[0m\u001b[0;34m]\u001b[0m \u001b[0;34m=\u001b[0m \u001b[0mlog_p\u001b[0m \u001b[0;34m-\u001b[0m \u001b[0mlog_q\u001b[0m\u001b[0;34m\u001b[0m\u001b[0m\n\u001b[1;32m     30\u001b[0m \u001b[0;34m\u001b[0m\u001b[0m\n",
      "\u001b[0;32m<ipython-input-8-9bcf165f9203>\u001b[0m in \u001b[0;36mlog_joints\u001b[0;34m(x, q_mean, q_sigma, mus, N, D, prior_mean, prior_sigma, batch_size)\u001b[0m\n\u001b[1;32m     16\u001b[0m         \u001b[0mxbk\u001b[0m \u001b[0;34m=\u001b[0m \u001b[0mxb\u001b[0m \u001b[0;34m-\u001b[0m \u001b[0mmus\u001b[0m\u001b[0;34m[\u001b[0m\u001b[0mb\u001b[0m\u001b[0;34m]\u001b[0m\u001b[0;34m\u001b[0m\u001b[0m\n\u001b[1;32m     17\u001b[0m         \u001b[0mu\u001b[0m\u001b[0;34m,\u001b[0m \u001b[0mlog_q\u001b[0m \u001b[0;34m=\u001b[0m \u001b[0menc_circle\u001b[0m\u001b[0;34m(\u001b[0m\u001b[0mxbk\u001b[0m\u001b[0;34m,\u001b[0m \u001b[0;36m1\u001b[0m\u001b[0;34m)\u001b[0m\u001b[0;34m\u001b[0m\u001b[0m\n\u001b[0;32m---> 18\u001b[0;31m         \u001b[0mmu\u001b[0m\u001b[0;34m,\u001b[0m \u001b[0mlog_p_x\u001b[0m \u001b[0;34m=\u001b[0m \u001b[0mdec_circle\u001b[0m\u001b[0;34m(\u001b[0m\u001b[0mu\u001b[0m\u001b[0;34m,\u001b[0m \u001b[0mxbk\u001b[0m\u001b[0;34m,\u001b[0m \u001b[0;36m1\u001b[0m\u001b[0;34m)\u001b[0m\u001b[0;34m\u001b[0m\u001b[0m\n\u001b[0m\u001b[1;32m     19\u001b[0m         \u001b[0mlog_p_xs\u001b[0m\u001b[0;34m[\u001b[0m\u001b[0mb\u001b[0m\u001b[0;34m]\u001b[0m \u001b[0;34m+=\u001b[0m \u001b[0mlog_p_x\u001b[0m\u001b[0;34m.\u001b[0m\u001b[0msum\u001b[0m\u001b[0;34m(\u001b[0m\u001b[0;34m)\u001b[0m\u001b[0;34m\u001b[0m\u001b[0m\n\u001b[1;32m     20\u001b[0m     \u001b[0;32mreturn\u001b[0m \u001b[0mlog_p_xs\u001b[0m \u001b[0;34m+\u001b[0m \u001b[0mlog_pr\u001b[0m\u001b[0;34m\u001b[0m\u001b[0m\n",
      "\u001b[0;32m~/.conda/envs/dev/lib/python3.6/site-packages/torch/nn/modules/module.py\u001b[0m in \u001b[0;36m__call__\u001b[0;34m(self, *input, **kwargs)\u001b[0m\n\u001b[1;32m    487\u001b[0m             \u001b[0mresult\u001b[0m \u001b[0;34m=\u001b[0m \u001b[0mself\u001b[0m\u001b[0;34m.\u001b[0m\u001b[0m_slow_forward\u001b[0m\u001b[0;34m(\u001b[0m\u001b[0;34m*\u001b[0m\u001b[0minput\u001b[0m\u001b[0;34m,\u001b[0m \u001b[0;34m**\u001b[0m\u001b[0mkwargs\u001b[0m\u001b[0;34m)\u001b[0m\u001b[0;34m\u001b[0m\u001b[0m\n\u001b[1;32m    488\u001b[0m         \u001b[0;32melse\u001b[0m\u001b[0;34m:\u001b[0m\u001b[0;34m\u001b[0m\u001b[0m\n\u001b[0;32m--> 489\u001b[0;31m             \u001b[0mresult\u001b[0m \u001b[0;34m=\u001b[0m \u001b[0mself\u001b[0m\u001b[0;34m.\u001b[0m\u001b[0mforward\u001b[0m\u001b[0;34m(\u001b[0m\u001b[0;34m*\u001b[0m\u001b[0minput\u001b[0m\u001b[0;34m,\u001b[0m \u001b[0;34m**\u001b[0m\u001b[0mkwargs\u001b[0m\u001b[0;34m)\u001b[0m\u001b[0;34m\u001b[0m\u001b[0m\n\u001b[0m\u001b[1;32m    490\u001b[0m         \u001b[0;32mfor\u001b[0m \u001b[0mhook\u001b[0m \u001b[0;32min\u001b[0m \u001b[0mself\u001b[0m\u001b[0;34m.\u001b[0m\u001b[0m_forward_hooks\u001b[0m\u001b[0;34m.\u001b[0m\u001b[0mvalues\u001b[0m\u001b[0;34m(\u001b[0m\u001b[0;34m)\u001b[0m\u001b[0;34m:\u001b[0m\u001b[0;34m\u001b[0m\u001b[0m\n\u001b[1;32m    491\u001b[0m             \u001b[0mhook_result\u001b[0m \u001b[0;34m=\u001b[0m \u001b[0mhook\u001b[0m\u001b[0;34m(\u001b[0m\u001b[0mself\u001b[0m\u001b[0;34m,\u001b[0m \u001b[0minput\u001b[0m\u001b[0;34m,\u001b[0m \u001b[0mresult\u001b[0m\u001b[0;34m)\u001b[0m\u001b[0;34m\u001b[0m\u001b[0m\n",
      "\u001b[0;32m<ipython-input-4-94488a66a5d8>\u001b[0m in \u001b[0;36mforward\u001b[0;34m(self, u, obs, num_samples)\u001b[0m\n\u001b[1;32m     39\u001b[0m \u001b[0;34m\u001b[0m\u001b[0m\n\u001b[1;32m     40\u001b[0m     \u001b[0;32mdef\u001b[0m \u001b[0mforward\u001b[0m\u001b[0;34m(\u001b[0m\u001b[0mself\u001b[0m\u001b[0;34m,\u001b[0m \u001b[0mu\u001b[0m\u001b[0;34m,\u001b[0m \u001b[0mobs\u001b[0m\u001b[0;34m,\u001b[0m \u001b[0mnum_samples\u001b[0m\u001b[0;34m)\u001b[0m\u001b[0;34m:\u001b[0m\u001b[0;34m\u001b[0m\u001b[0m\n\u001b[0;32m---> 41\u001b[0;31m         \u001b[0mmu\u001b[0m \u001b[0;34m=\u001b[0m \u001b[0mself\u001b[0m\u001b[0;34m.\u001b[0m\u001b[0mdec_mu\u001b[0m\u001b[0;34m(\u001b[0m\u001b[0mu\u001b[0m\u001b[0;34m)\u001b[0m \u001b[0;31m# (S, B, K) -> (S, B, O)\u001b[0m\u001b[0;34m\u001b[0m\u001b[0m\n\u001b[0m\u001b[1;32m     42\u001b[0m         \u001b[0mNk\u001b[0m \u001b[0;34m=\u001b[0m \u001b[0mmu\u001b[0m\u001b[0;34m.\u001b[0m\u001b[0mshape\u001b[0m\u001b[0;34m[\u001b[0m\u001b[0;36m1\u001b[0m\u001b[0;34m]\u001b[0m\u001b[0;34m\u001b[0m\u001b[0m\n\u001b[1;32m     43\u001b[0m         \u001b[0mp_x\u001b[0m \u001b[0;34m=\u001b[0m \u001b[0mNormal\u001b[0m\u001b[0;34m(\u001b[0m\u001b[0mmu\u001b[0m\u001b[0;34m,\u001b[0m \u001b[0mself\u001b[0m\u001b[0;34m.\u001b[0m\u001b[0mx_sigma\u001b[0m\u001b[0;34m.\u001b[0m\u001b[0munsqueeze\u001b[0m\u001b[0;34m(\u001b[0m\u001b[0;36m0\u001b[0m\u001b[0;34m)\u001b[0m\u001b[0;34m.\u001b[0m\u001b[0munsqueeze\u001b[0m\u001b[0;34m(\u001b[0m\u001b[0;36m0\u001b[0m\u001b[0;34m)\u001b[0m\u001b[0;34m.\u001b[0m\u001b[0mrepeat\u001b[0m\u001b[0;34m(\u001b[0m\u001b[0mnum_samples\u001b[0m\u001b[0;34m,\u001b[0m \u001b[0mNk\u001b[0m\u001b[0;34m,\u001b[0m \u001b[0;36m1\u001b[0m\u001b[0;34m)\u001b[0m\u001b[0;34m)\u001b[0m \u001b[0;31m# (S, B, O)\u001b[0m\u001b[0;34m\u001b[0m\u001b[0m\n",
      "\u001b[0;32m~/.conda/envs/dev/lib/python3.6/site-packages/torch/nn/modules/module.py\u001b[0m in \u001b[0;36m__call__\u001b[0;34m(self, *input, **kwargs)\u001b[0m\n\u001b[1;32m    487\u001b[0m             \u001b[0mresult\u001b[0m \u001b[0;34m=\u001b[0m \u001b[0mself\u001b[0m\u001b[0;34m.\u001b[0m\u001b[0m_slow_forward\u001b[0m\u001b[0;34m(\u001b[0m\u001b[0;34m*\u001b[0m\u001b[0minput\u001b[0m\u001b[0;34m,\u001b[0m \u001b[0;34m**\u001b[0m\u001b[0mkwargs\u001b[0m\u001b[0;34m)\u001b[0m\u001b[0;34m\u001b[0m\u001b[0m\n\u001b[1;32m    488\u001b[0m         \u001b[0;32melse\u001b[0m\u001b[0;34m:\u001b[0m\u001b[0;34m\u001b[0m\u001b[0m\n\u001b[0;32m--> 489\u001b[0;31m             \u001b[0mresult\u001b[0m \u001b[0;34m=\u001b[0m \u001b[0mself\u001b[0m\u001b[0;34m.\u001b[0m\u001b[0mforward\u001b[0m\u001b[0;34m(\u001b[0m\u001b[0;34m*\u001b[0m\u001b[0minput\u001b[0m\u001b[0;34m,\u001b[0m \u001b[0;34m**\u001b[0m\u001b[0mkwargs\u001b[0m\u001b[0;34m)\u001b[0m\u001b[0;34m\u001b[0m\u001b[0m\n\u001b[0m\u001b[1;32m    490\u001b[0m         \u001b[0;32mfor\u001b[0m \u001b[0mhook\u001b[0m \u001b[0;32min\u001b[0m \u001b[0mself\u001b[0m\u001b[0;34m.\u001b[0m\u001b[0m_forward_hooks\u001b[0m\u001b[0;34m.\u001b[0m\u001b[0mvalues\u001b[0m\u001b[0;34m(\u001b[0m\u001b[0;34m)\u001b[0m\u001b[0;34m:\u001b[0m\u001b[0;34m\u001b[0m\u001b[0m\n\u001b[1;32m    491\u001b[0m             \u001b[0mhook_result\u001b[0m \u001b[0;34m=\u001b[0m \u001b[0mhook\u001b[0m\u001b[0;34m(\u001b[0m\u001b[0mself\u001b[0m\u001b[0;34m,\u001b[0m \u001b[0minput\u001b[0m\u001b[0;34m,\u001b[0m \u001b[0mresult\u001b[0m\u001b[0;34m)\u001b[0m\u001b[0;34m\u001b[0m\u001b[0m\n",
      "\u001b[0;32m~/.conda/envs/dev/lib/python3.6/site-packages/torch/nn/modules/container.py\u001b[0m in \u001b[0;36mforward\u001b[0;34m(self, input)\u001b[0m\n\u001b[1;32m     90\u001b[0m     \u001b[0;32mdef\u001b[0m \u001b[0mforward\u001b[0m\u001b[0;34m(\u001b[0m\u001b[0mself\u001b[0m\u001b[0;34m,\u001b[0m \u001b[0minput\u001b[0m\u001b[0;34m)\u001b[0m\u001b[0;34m:\u001b[0m\u001b[0;34m\u001b[0m\u001b[0m\n\u001b[1;32m     91\u001b[0m         \u001b[0;32mfor\u001b[0m \u001b[0mmodule\u001b[0m \u001b[0;32min\u001b[0m \u001b[0mself\u001b[0m\u001b[0;34m.\u001b[0m\u001b[0m_modules\u001b[0m\u001b[0;34m.\u001b[0m\u001b[0mvalues\u001b[0m\u001b[0;34m(\u001b[0m\u001b[0;34m)\u001b[0m\u001b[0;34m:\u001b[0m\u001b[0;34m\u001b[0m\u001b[0m\n\u001b[0;32m---> 92\u001b[0;31m             \u001b[0minput\u001b[0m \u001b[0;34m=\u001b[0m \u001b[0mmodule\u001b[0m\u001b[0;34m(\u001b[0m\u001b[0minput\u001b[0m\u001b[0;34m)\u001b[0m\u001b[0;34m\u001b[0m\u001b[0m\n\u001b[0m\u001b[1;32m     93\u001b[0m         \u001b[0;32mreturn\u001b[0m \u001b[0minput\u001b[0m\u001b[0;34m\u001b[0m\u001b[0m\n\u001b[1;32m     94\u001b[0m \u001b[0;34m\u001b[0m\u001b[0m\n",
      "\u001b[0;32m~/.conda/envs/dev/lib/python3.6/site-packages/torch/nn/modules/module.py\u001b[0m in \u001b[0;36m__call__\u001b[0;34m(self, *input, **kwargs)\u001b[0m\n\u001b[1;32m    487\u001b[0m             \u001b[0mresult\u001b[0m \u001b[0;34m=\u001b[0m \u001b[0mself\u001b[0m\u001b[0;34m.\u001b[0m\u001b[0m_slow_forward\u001b[0m\u001b[0;34m(\u001b[0m\u001b[0;34m*\u001b[0m\u001b[0minput\u001b[0m\u001b[0;34m,\u001b[0m \u001b[0;34m**\u001b[0m\u001b[0mkwargs\u001b[0m\u001b[0;34m)\u001b[0m\u001b[0;34m\u001b[0m\u001b[0m\n\u001b[1;32m    488\u001b[0m         \u001b[0;32melse\u001b[0m\u001b[0;34m:\u001b[0m\u001b[0;34m\u001b[0m\u001b[0m\n\u001b[0;32m--> 489\u001b[0;31m             \u001b[0mresult\u001b[0m \u001b[0;34m=\u001b[0m \u001b[0mself\u001b[0m\u001b[0;34m.\u001b[0m\u001b[0mforward\u001b[0m\u001b[0;34m(\u001b[0m\u001b[0;34m*\u001b[0m\u001b[0minput\u001b[0m\u001b[0;34m,\u001b[0m \u001b[0;34m**\u001b[0m\u001b[0mkwargs\u001b[0m\u001b[0;34m)\u001b[0m\u001b[0;34m\u001b[0m\u001b[0m\n\u001b[0m\u001b[1;32m    490\u001b[0m         \u001b[0;32mfor\u001b[0m \u001b[0mhook\u001b[0m \u001b[0;32min\u001b[0m \u001b[0mself\u001b[0m\u001b[0;34m.\u001b[0m\u001b[0m_forward_hooks\u001b[0m\u001b[0;34m.\u001b[0m\u001b[0mvalues\u001b[0m\u001b[0;34m(\u001b[0m\u001b[0;34m)\u001b[0m\u001b[0;34m:\u001b[0m\u001b[0;34m\u001b[0m\u001b[0m\n\u001b[1;32m    491\u001b[0m             \u001b[0mhook_result\u001b[0m \u001b[0;34m=\u001b[0m \u001b[0mhook\u001b[0m\u001b[0;34m(\u001b[0m\u001b[0mself\u001b[0m\u001b[0;34m,\u001b[0m \u001b[0minput\u001b[0m\u001b[0;34m,\u001b[0m \u001b[0mresult\u001b[0m\u001b[0;34m)\u001b[0m\u001b[0;34m\u001b[0m\u001b[0m\n",
      "\u001b[0;32m~/.conda/envs/dev/lib/python3.6/site-packages/torch/nn/modules/linear.py\u001b[0m in \u001b[0;36mforward\u001b[0;34m(self, input)\u001b[0m\n\u001b[1;32m     65\u001b[0m     \u001b[0;34m@\u001b[0m\u001b[0mweak_script_method\u001b[0m\u001b[0;34m\u001b[0m\u001b[0m\n\u001b[1;32m     66\u001b[0m     \u001b[0;32mdef\u001b[0m \u001b[0mforward\u001b[0m\u001b[0;34m(\u001b[0m\u001b[0mself\u001b[0m\u001b[0;34m,\u001b[0m \u001b[0minput\u001b[0m\u001b[0;34m)\u001b[0m\u001b[0;34m:\u001b[0m\u001b[0;34m\u001b[0m\u001b[0m\n\u001b[0;32m---> 67\u001b[0;31m         \u001b[0;32mreturn\u001b[0m \u001b[0mF\u001b[0m\u001b[0;34m.\u001b[0m\u001b[0mlinear\u001b[0m\u001b[0;34m(\u001b[0m\u001b[0minput\u001b[0m\u001b[0;34m,\u001b[0m \u001b[0mself\u001b[0m\u001b[0;34m.\u001b[0m\u001b[0mweight\u001b[0m\u001b[0;34m,\u001b[0m \u001b[0mself\u001b[0m\u001b[0;34m.\u001b[0m\u001b[0mbias\u001b[0m\u001b[0;34m)\u001b[0m\u001b[0;34m\u001b[0m\u001b[0m\n\u001b[0m\u001b[1;32m     68\u001b[0m \u001b[0;34m\u001b[0m\u001b[0m\n\u001b[1;32m     69\u001b[0m     \u001b[0;32mdef\u001b[0m \u001b[0mextra_repr\u001b[0m\u001b[0;34m(\u001b[0m\u001b[0mself\u001b[0m\u001b[0;34m)\u001b[0m\u001b[0;34m:\u001b[0m\u001b[0;34m\u001b[0m\u001b[0m\n",
      "\u001b[0;32m~/.conda/envs/dev/lib/python3.6/site-packages/torch/nn/functional.py\u001b[0m in \u001b[0;36mlinear\u001b[0;34m(input, weight, bias)\u001b[0m\n\u001b[1;32m   1352\u001b[0m         \u001b[0mret\u001b[0m \u001b[0;34m=\u001b[0m \u001b[0mtorch\u001b[0m\u001b[0;34m.\u001b[0m\u001b[0maddmm\u001b[0m\u001b[0;34m(\u001b[0m\u001b[0mtorch\u001b[0m\u001b[0;34m.\u001b[0m\u001b[0mjit\u001b[0m\u001b[0;34m.\u001b[0m\u001b[0m_unwrap_optional\u001b[0m\u001b[0;34m(\u001b[0m\u001b[0mbias\u001b[0m\u001b[0;34m)\u001b[0m\u001b[0;34m,\u001b[0m \u001b[0minput\u001b[0m\u001b[0;34m,\u001b[0m \u001b[0mweight\u001b[0m\u001b[0;34m.\u001b[0m\u001b[0mt\u001b[0m\u001b[0;34m(\u001b[0m\u001b[0;34m)\u001b[0m\u001b[0;34m)\u001b[0m\u001b[0;34m\u001b[0m\u001b[0m\n\u001b[1;32m   1353\u001b[0m     \u001b[0;32melse\u001b[0m\u001b[0;34m:\u001b[0m\u001b[0;34m\u001b[0m\u001b[0m\n\u001b[0;32m-> 1354\u001b[0;31m         \u001b[0moutput\u001b[0m \u001b[0;34m=\u001b[0m \u001b[0minput\u001b[0m\u001b[0;34m.\u001b[0m\u001b[0mmatmul\u001b[0m\u001b[0;34m(\u001b[0m\u001b[0mweight\u001b[0m\u001b[0;34m.\u001b[0m\u001b[0mt\u001b[0m\u001b[0;34m(\u001b[0m\u001b[0;34m)\u001b[0m\u001b[0;34m)\u001b[0m\u001b[0;34m\u001b[0m\u001b[0m\n\u001b[0m\u001b[1;32m   1355\u001b[0m         \u001b[0;32mif\u001b[0m \u001b[0mbias\u001b[0m \u001b[0;32mis\u001b[0m \u001b[0;32mnot\u001b[0m \u001b[0;32mNone\u001b[0m\u001b[0;34m:\u001b[0m\u001b[0;34m\u001b[0m\u001b[0m\n\u001b[1;32m   1356\u001b[0m             \u001b[0moutput\u001b[0m \u001b[0;34m+=\u001b[0m \u001b[0mtorch\u001b[0m\u001b[0;34m.\u001b[0m\u001b[0mjit\u001b[0m\u001b[0;34m.\u001b[0m\u001b[0m_unwrap_optional\u001b[0m\u001b[0;34m(\u001b[0m\u001b[0mbias\u001b[0m\u001b[0;34m)\u001b[0m\u001b[0;34m\u001b[0m\u001b[0m\n",
      "\u001b[0;31mKeyboardInterrupt\u001b[0m: "
     ]
    }
   ],
   "source": [
    "EUBOs = []\n",
    "ELBOs = []\n",
    "num_batches = int((Xs.shape[0] / BATCH_SIZE))\n",
    "for epoch in range(NUM_EPOCHS):\n",
    "    indices = torch.randperm(num_seqs)\n",
    "    for step in range(num_batches):\n",
    "        time_start = time.time()\n",
    "        optimizer.zero_grad()\n",
    "        batch_indices = indices[step*BATCH_SIZE : (step+1)*BATCH_SIZE]\n",
    "        batch_Xs = Xs[batch_indices]\n",
    "        batch_Mus = Mus[batch_indices]\n",
    "        batch_Xs = shuffler(batch_Xs, N, D, BATCH_SIZE)\n",
    "        batch_Xs = batch_Xs.cuda()\n",
    "        eubo, elbo, ess = oneshot(batch_Xs, N, D, NUM_SAMPLES, BATCH_SIZE)\n",
    "        eubo.backward()\n",
    "        optimizer.step()\n",
    "        EUBOs.append(eubo.item())\n",
    "        ELBOs.append(elbo.item())\n",
    "        time_end = time.time()\n",
    "        print('epoch=%d, step=%d, EUBO=%f, ELBO=%f, ESS=%.3f (%ds)' % (epoch, step, eubo, elbo, ess, time_end - time_start))"
   ]
  },
  {
   "cell_type": "code",
   "execution_count": 17,
   "metadata": {},
   "outputs": [
    {
     "data": {
      "image/png": "[encoded data removed]",
      "text/plain": [
       "<Figure size 360x360 with 1 Axes>"
      ]
     },
     "metadata": {
      "needs_background": "light"
     },
     "output_type": "display_data"
    },
    {
     "data": {
      "image/png": "[encoded data removed]",
      "text/plain": [
       "<Figure size 360x360 with 1 Axes>"
      ]
     },
     "metadata": {
      "needs_background": "light"
     },
     "output_type": "display_data"
    },
    {
     "data": {
      "image/png": "[encoded data removed]",
      "text/plain": [
       "<Figure size 360x360 with 1 Axes>"
      ]
     },
     "metadata": {
      "needs_background": "light"
     },
     "output_type": "display_data"
    },
    {
     "data": {
      "image/png": "[encoded data removed]",
      "text/plain": [
       "<Figure size 360x360 with 1 Axes>"
      ]
     },
     "metadata": {
      "needs_background": "light"
     },
     "output_type": "display_data"
    },
    {
     "data": {
      "image/png": "[encoded data removed]",
      "text/plain": [
       "<Figure size 360x360 with 1 Axes>"
      ]
     },
     "metadata": {
      "needs_background": "light"
     },
     "output_type": "display_data"
    },
    {
     "data": {
      "image/png": "[encoded data removed]",
      "text/plain": [
       "<Figure size 360x360 with 1 Axes>"
      ]
     },
     "metadata": {
      "needs_background": "light"
     },
     "output_type": "display_data"
    },
    {
     "data": {
      "image/png": "[encoded data removed]",
      "text/plain": [
       "<Figure size 360x360 with 1 Axes>"
      ]
     },
     "metadata": {
      "needs_background": "light"
     },
     "output_type": "display_data"
    },
    {
     "data": {
      "image/png": "[encoded data removed]",
      "text/plain": [
       "<Figure size 360x360 with 1 Axes>"
      ]
     },
     "metadata": {
      "needs_background": "light"
     },
     "output_type": "display_data"
    },
    {
     "data": {
      "image/png": "[encoded data removed]",
      "text/plain": [
       "<Figure size 360x360 with 1 Axes>"
      ]
     },
     "metadata": {
      "needs_background": "light"
     },
     "output_type": "display_data"
    },
    {
     "data": {
      "image/png": "[encoded data removed]",
      "text/plain": [
       "<Figure size 360x360 with 1 Axes>"
      ]
     },
     "metadata": {
      "needs_background": "light"
     },
     "output_type": "display_data"
    },
    {
     "data": {
      "image/png": "[encoded data removed]",
      "text/plain": [
       "<Figure size 360x360 with 1 Axes>"
      ]
     },
     "metadata": {
      "needs_background": "light"
     },
     "output_type": "display_data"
    },
    {
     "data": {
      "image/png": "[encoded data removed]",
      "text/plain": [
       "<Figure size 360x360 with 1 Axes>"
      ]
     },
     "metadata": {
      "needs_background": "light"
     },
     "output_type": "display_data"
    },
    {
     "data": {
      "image/png": "[encoded data removed]",
      "text/plain": [
       "<Figure size 360x360 with 1 Axes>"
      ]
     },
     "metadata": {
      "needs_background": "light"
     },
     "output_type": "display_data"
    },
    {
     "data": {
      "image/png": "[encoded data removed]",
      "text/plain": [
       "<Figure size 360x360 with 1 Axes>"
      ]
     },
     "metadata": {
      "needs_background": "light"
     },
     "output_type": "display_data"
    },
    {
     "data": {
      "image/png": "[encoded data removed]",
      "text/plain": [
       "<Figure size 360x360 with 1 Axes>"
      ]
     },
     "metadata": {
      "needs_background": "light"
     },
     "output_type": "display_data"
    },
    {
     "data": {
      "image/png": "[encoded data removed]",
      "text/plain": [
       "<Figure size 360x360 with 1 Axes>"
      ]
     },
     "metadata": {
      "needs_background": "light"
     },
     "output_type": "display_data"
    },
    {
     "data": {
      "image/png": "[encoded data removed]",
      "text/plain": [
       "<Figure size 360x360 with 1 Axes>"
      ]
     },
     "metadata": {
      "needs_background": "light"
     },
     "output_type": "display_data"
    },
    {
     "data": {
      "image/png": "[encoded data removed]",
      "text/plain": [
       "<Figure size 360x360 with 1 Axes>"
      ]
     },
     "metadata": {
      "needs_background": "light"
     },
     "output_type": "display_data"
    },
    {
     "data": {
      "image/png": "[encoded data removed]",
      "text/plain": [
       "<Figure size 360x360 with 1 Axes>"
      ]
     },
     "metadata": {
      "needs_background": "light"
     },
     "output_type": "display_data"
    },
    {
     "data": {
      "image/png": "[encoded data removed]",
      "text/plain": [
       "<Figure size 360x360 with 1 Axes>"
      ]
     },
     "metadata": {
      "needs_background": "light"
     },
     "output_type": "display_data"
    },
    {
     "data": {
      "image/png": "[encoded data removed]",
      "text/plain": [
       "<Figure size 360x360 with 1 Axes>"
      ]
     },
     "metadata": {
      "needs_background": "light"
     },
     "output_type": "display_data"
    },
    {
     "data": {
      "image/png": "[encoded data removed]",
      "text/plain": [
       "<Figure size 360x360 with 1 Axes>"
      ]
     },
     "metadata": {
      "needs_background": "light"
     },
     "output_type": "display_data"
    },
    {
     "data": {
      "image/png": "[encoded data removed]",
      "text/plain": [
       "<Figure size 360x360 with 1 Axes>"
      ]
     },
     "metadata": {
      "needs_background": "light"
     },
     "output_type": "display_data"
    },
    {
     "data": {
      "image/png": "[encoded data removed]",
      "text/plain": [
       "<Figure size 360x360 with 1 Axes>"
      ]
     },
     "metadata": {
      "needs_background": "light"
     },
     "output_type": "display_data"
    },
    {
     "data": {
      "image/png": "[encoded data removed]",
      "text/plain": [
       "<Figure size 360x360 with 1 Axes>"
      ]
     },
     "metadata": {
      "needs_background": "light"
     },
     "output_type": "display_data"
    },
    {
     "data": {
      "image/png": "[encoded data removed]",
      "text/plain": [
       "<Figure size 360x360 with 1 Axes>"
      ]
     },
     "metadata": {
      "needs_background": "light"
     },
     "output_type": "display_data"
    },
    {
     "data": {
      "image/png": "[encoded data removed]",
      "text/plain": [
       "<Figure size 360x360 with 1 Axes>"
      ]
     },
     "metadata": {
      "needs_background": "light"
     },
     "output_type": "display_data"
    },
    {
     "data": {
      "image/png": "[encoded data removed]",
      "text/plain": [
       "<Figure size 360x360 with 1 Axes>"
      ]
     },
     "metadata": {
      "needs_background": "light"
     },
     "output_type": "display_data"
    },
    {
     "data": {
      "image/png": "[encoded data removed]",
      "text/plain": [
       "<Figure size 360x360 with 1 Axes>"
      ]
     },
     "metadata": {
      "needs_background": "light"
     },
     "output_type": "display_data"
    },
    {
     "data": {
      "image/png": "[encoded data removed]",
      "text/plain": [
       "<Figure size 360x360 with 1 Axes>"
      ]
     },
     "metadata": {
      "needs_background": "light"
     },
     "output_type": "display_data"
    },
    {
     "data": {
      "image/png": "[encoded data removed]",
      "text/plain": [
       "<Figure size 360x360 with 1 Axes>"
      ]
     },
     "metadata": {
      "needs_background": "light"
     },
     "output_type": "display_data"
    },
    {
     "data": {
      "image/png": "[encoded data removed]",
      "text/plain": [
       "<Figure size 360x360 with 1 Axes>"
      ]
     },
     "metadata": {
      "needs_background": "light"
     },
     "output_type": "display_data"
    },
    {
     "data": {
      "image/png": "[encoded data removed]",
      "text/plain": [
       "<Figure size 360x360 with 1 Axes>"
      ]
     },
     "metadata": {
      "needs_background": "light"
     },
     "output_type": "display_data"
    },
    {
     "data": {
      "image/png": "[encoded data removed]",
      "text/plain": [
       "<Figure size 360x360 with 1 Axes>"
      ]
     },
     "metadata": {
      "needs_background": "light"
     },
     "output_type": "display_data"
    },
    {
     "data": {
      "image/png": "[encoded data removed]",
      "text/plain": [
       "<Figure size 360x360 with 1 Axes>"
      ]
     },
     "metadata": {
      "needs_background": "light"
     },
     "output_type": "display_data"
    },
    {
     "data": {
      "image/png": "[encoded data removed]",
      "text/plain": [
       "<Figure size 360x360 with 1 Axes>"
      ]
     },
     "metadata": {
      "needs_background": "light"
     },
     "output_type": "display_data"
    },
    {
     "data": {
      "image/png": "[encoded data removed]",
      "text/plain": [
       "<Figure size 360x360 with 1 Axes>"
      ]
     },
     "metadata": {
      "needs_background": "light"
     },
     "output_type": "display_data"
    },
    {
     "data": {
      "image/png": "[encoded data removed]",
      "text/plain": [
       "<Figure size 360x360 with 1 Axes>"
      ]
     },
     "metadata": {
      "needs_background": "light"
     },
     "output_type": "display_data"
    },
    {
     "data": {
      "image/png": "[encoded data removed]",
      "text/plain": [
       "<Figure size 360x360 with 1 Axes>"
      ]
     },
     "metadata": {
      "needs_background": "light"
     },
     "output_type": "display_data"
    },
    {
     "data": {
      "image/png": "[encoded data removed]",
      "text/plain": [
       "<Figure size 360x360 with 1 Axes>"
      ]
     },
     "metadata": {
      "needs_background": "light"
     },
     "output_type": "display_data"
    },
    {
     "data": {
      "image/png": "[encoded data removed]",
      "text/plain": [
       "<Figure size 360x360 with 1 Axes>"
      ]
     },
     "metadata": {
      "needs_background": "light"
     },
     "output_type": "display_data"
    },
    {
     "data": {
      "image/png": "[encoded data removed]",
      "text/plain": [
       "<Figure size 360x360 with 1 Axes>"
      ]
     },
     "metadata": {
      "needs_background": "light"
     },
     "output_type": "display_data"
    },
    {
     "data": {
      "image/png": "[encoded data removed]",
      "text/plain": [
       "<Figure size 360x360 with 1 Axes>"
      ]
     },
     "metadata": {
      "needs_background": "light"
     },
     "output_type": "display_data"
    },
    {
     "data": {
      "image/png": "[encoded data removed]",
      "text/plain": [
       "<Figure size 360x360 with 1 Axes>"
      ]
     },
     "metadata": {
      "needs_background": "light"
     },
     "output_type": "display_data"
    },
    {
     "data": {
      "image/png": "[encoded data removed]",
      "text/plain": [
       "<Figure size 360x360 with 1 Axes>"
      ]
     },
     "metadata": {
      "needs_background": "light"
     },
     "output_type": "display_data"
    },
    {
     "data": {
      "image/png": "[encoded data removed]",
      "text/plain": [
       "<Figure size 360x360 with 1 Axes>"
      ]
     },
     "metadata": {
      "needs_background": "light"
     },
     "output_type": "display_data"
    },
    {
     "data": {
      "image/png": "[encoded data removed]",
      "text/plain": [
       "<Figure size 360x360 with 1 Axes>"
      ]
     },
     "metadata": {
      "needs_background": "light"
     },
     "output_type": "display_data"
    },
    {
     "data": {
      "image/png": "[encoded data removed]",
      "text/plain": [
       "<Figure size 360x360 with 1 Axes>"
      ]
     },
     "metadata": {
      "needs_background": "light"
     },
     "output_type": "display_data"
    },
    {
     "data": {
      "image/png": "[encoded data removed]",
      "text/plain": [
       "<Figure size 360x360 with 1 Axes>"
      ]
     },
     "metadata": {
      "needs_background": "light"
     },
     "output_type": "display_data"
    },
    {
     "data": {
      "image/png": "[encoded data removed]",
      "text/plain": [
       "<Figure size 360x360 with 1 Axes>"
      ]
     },
     "metadata": {
      "needs_background": "light"
     },
     "output_type": "display_data"
    }
   ],
   "source": [
    "BATCH_SIZE = 50\n",
    "batch_indices = indices[0*BATCH_SIZE : (0+1)*BATCH_SIZE]\n",
    "batch_Xs = Xs[batch_indices]\n",
    "batch_Mus = Mus[batch_indices]\n",
    "data = batch_Xs.view(BATCH_SIZE*N, -1).cuda()\n",
    "q_mean, q_sigma, mus, log_q = enc_global(data, N, D, BATCH_SIZE)\n",
    "infer_mus = mus.cpu().data.numpy()\n",
    "for p in range(BATCH_SIZE):\n",
    "    fig = plt.figure(figsize=(5,5))\n",
    "    ax1 = fig.add_subplot(1,1,1)\n",
    "    ax1.set_xlim([-4,4])\n",
    "    ax1.set_ylim([-4,4])\n",
    "    x = batch_Xs[p]\n",
    "    mu = batch_Mus[p]\n",
    "    ax1.scatter(batch_Mus[p, 0].data.numpy(), batch_Mus[p, 1].data.numpy(), c='r')\n",
    "    ax1.scatter(infer_mus[p, 0], infer_mus[p, 1], c='k')"
   ]
  },
  {
   "cell_type": "code",
   "execution_count": null,
   "metadata": {},
   "outputs": [],
   "source": []
  }
 ],
 "metadata": {
  "kernelspec": {
   "display_name": "Python 3",
   "language": "python",
   "name": "python3"
  },
  "language_info": {
   "codemirror_mode": {
    "name": "ipython",
    "version": 3
   },
   "file_extension": ".py",
   "mimetype": "text/x-python",
   "name": "python",
   "nbconvert_exporter": "python",
   "pygments_lexer": "ipython3",
   "version": "3.6.6"
  }
 },
 "nbformat": 4,
 "nbformat_minor": 2
}
