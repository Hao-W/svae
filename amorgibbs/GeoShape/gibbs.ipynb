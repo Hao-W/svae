{
 "cells": [
  {
   "cell_type": "code",
   "execution_count": 68,
   "metadata": {},
   "outputs": [],
   "source": [
    "%matplotlib inline\n",
    "import numpy as np\n",
    "import torch.nn as nn\n",
    "import torch.nn.functional as F\n",
    "import matplotlib.pyplot as plt\n",
    "from plots import *\n",
    "from kls import *\n",
    "from torch.distributions.normal import Normal\n",
    "from torch.distributions.one_hot_categorical import OneHotCategorical as cat\n",
    "from torch.distributions.beta import Beta\n",
    "from torch.distributions.uniform import Uniform\n",
    "from torch.distributions.relaxed_categorical import RelaxedOneHotCategorical as rcat\n",
    "\n",
    "from torch import logsumexp\n",
    "import sys\n",
    "import time\n",
    "import datetime\n",
    "import math"
   ]
  },
  {
   "cell_type": "code",
   "execution_count": 99,
   "metadata": {},
   "outputs": [],
   "source": [
    "Xs = torch.from_numpy(np.load('Shapes2.npy')).float()\n",
    "Mus = torch.from_numpy(np.load('Mus2.npy')).float()\n",
    "Xs = Xs.transpose(1,0)\n",
    "\n",
    "N, D = Xs.shape\n",
    "K = 4\n",
    "## Model Parameters\n",
    "NUM_SAMPLES = 10\n",
    "NUM_HIDDEN = 32\n",
    "NUM_LATENTS = 2\n",
    "NUM_OBS = D\n",
    "NUM_EPOCHS = 25000\n",
    "LEARNING_RATE = 1e-4\n",
    "CUDA = False\n",
    "PATH = 'circles'"
   ]
  },
  {
   "cell_type": "code",
   "execution_count": 100,
   "metadata": {},
   "outputs": [],
   "source": [
    "class Encoder(nn.Module):\n",
    "    def __init__(self, num_obs= NUM_OBS,\n",
    "                       num_hidden=NUM_HIDDEN,\n",
    "                       num_latents=NUM_LATENTS):\n",
    "        super(self.__class__, self).__init__()\n",
    "        self.enc_h = nn.Sequential(\n",
    "            nn.Linear(num_obs, num_hidden),\n",
    "            nn.Tanh())\n",
    "        self.enc_log_u_a = nn.Sequential(\n",
    "            nn.Linear(num_hidden, int(0.5*num_hidden)),\n",
    "            nn.Tanh(),\n",
    "            nn.Linear(int(0.5*num_hidden), num_latents))\n",
    "        self.enc_log_u_b = nn.Sequential(\n",
    "            nn.Linear(num_hidden, int(0.5*num_hidden)),\n",
    "            nn.Tanh(),\n",
    "            nn.Linear(int(0.5*num_hidden), num_latents))\n",
    "\n",
    "    def forward(self, obs, num_samples):\n",
    "        h = self.enc_h(obs) # (B, H)\n",
    "        a = torch.exp(self.enc_log_u_a(h)) # (B, 2)\n",
    "        b = torch.exp(self.enc_log_u_b(h)) # (B, 2)\n",
    "        q_u = Beta(a, b)\n",
    "        u = q_u.sample((num_samples,)) # (S, B, 2)\n",
    "        log_q_u = q_u.log_prob(u).sum(-1)\n",
    "        return u, log_q_u\n",
    "    \n",
    "    \n",
    "class Decoder(nn.Module):\n",
    "    def __init__(self, num_obs=D,\n",
    "                       num_hidden=NUM_HIDDEN,\n",
    "                       num_latents=NUM_LATENTS):\n",
    "        super(self.__class__, self).__init__()\n",
    "\n",
    "        self.x_sigma = 0.01 * torch.ones(num_obs)\n",
    "        self.dec_mu = nn.Sequential(\n",
    "            nn.Linear(num_latents, num_hidden),\n",
    "            nn.Tanh(),\n",
    "            nn.Linear(num_hidden, num_obs))\n",
    "\n",
    "    def forward(self, u, obs, num_samples):\n",
    "        mu = self.dec_mu(u) # (S, B, K) -> (S, B, O)\n",
    "        Nk = obs.shape[0]\n",
    "        p_x = Normal(mu, self.x_sigma.repeat(num_samples, Nk, 1)) # (S, B, O)\n",
    "        log_p_x = p_x.log_prob(obs).sum(-1) # (S, B)\n",
    "        return mu, log_p_x"
   ]
  },
  {
   "cell_type": "code",
   "execution_count": 104,
   "metadata": {},
   "outputs": [],
   "source": [
    "        \n",
    "def initialize():\n",
    "    enc_circle = Encoder()\n",
    "    dec_circle = Decoder()\n",
    "    \n",
    "    enc_square = Encoder()\n",
    "    dec_square = Decoder()\n",
    "    \n",
    "    enc_triangle = Encoder()\n",
    "    dec_triangle = Decoder()\n",
    "    \n",
    "    enc_cross = Encoder()\n",
    "    dec_cross = Decoder()\n",
    "    return enc_circle, dec_circle, enc_square, dec_square, enc_triangle, dec_triangle, enc_cross, dec_cross\n",
    "enc_circle, dec_circle, enc_square, dec_square, enc_triangle, dec_triangle, enc_cross, dec_cross = initialize()"
   ]
  },
  {
   "cell_type": "code",
   "execution_count": 105,
   "metadata": {},
   "outputs": [],
   "source": [
    "enc_circle.load_state_dict(torch.load('VAE/enc-circle'))\n",
    "enc_square.load_state_dict(torch.load('VAE/enc-square'))\n",
    "enc_triangle.load_state_dict(torch.load('VAE/enc-triangle'))\n",
    "enc_cross.load_state_dict(torch.load('VAE/enc-cross'))\n",
    "\n",
    "dec_circle.load_state_dict(torch.load('VAE/dec-circle'))\n",
    "dec_square.load_state_dict(torch.load('VAE/dec-square'))\n",
    "dec_triangle.load_state_dict(torch.load('VAE/dec-triangle'))\n",
    "dec_cross.load_state_dict(torch.load('VAE/dec-cross'))"
   ]
  },
  {
   "cell_type": "code",
   "execution_count": 106,
   "metadata": {},
   "outputs": [],
   "source": [
    "def init_means():\n",
    "    return Normal(torch.zeros((K, D)), torch.ones((K, D))).sample()\n",
    "def E_step(X, mus, N, K, D):\n",
    "    log_gammas = torch.zeros((K, N))\n",
    "    for k in range(K):\n",
    "        if k == 0:\n",
    "            Xk = X - mus[k]\n",
    "            u, log_q = enc_circle(Xk, 1)\n",
    "            mu, log_p_x = dec_circle(u, Xk, 1)\n",
    "            log_gammas[k] = log_p_x[0]\n",
    "        elif k == 1:\n",
    "            Xk = X - mus[k]\n",
    "            u, log_q = enc_square(Xk, 1)\n",
    "            mu, log_p_x = dec_square(u, Xk, 1)\n",
    "            log_gammas[k] = log_p_x[0]\n",
    "        elif k == 2:\n",
    "            Xk = X - mus[k]\n",
    "            u, log_q = enc_triangle(Xk, 1)\n",
    "            mu, log_p_x = dec_triangle(u, Xk, 1)\n",
    "            log_gammas[k] = log_p_x[0]\n",
    "        else:\n",
    "            Xk = X - mus[k]\n",
    "            u, log_q = enc_cross(Xk, 1)\n",
    "            mu, log_p_x = dec_cross(u, Xk, 1)\n",
    "            log_gammas[k] = log_p_x[0]\n",
    "    log_pis = log_gammas - logsumexp(log_gammas, 0)\n",
    "    log_pis = log_pis.transpose(0,1)\n",
    "    Z = rcat(temperature=torch.Tensor([0.066]), logits = log_pis).sample()\n",
    "    return Z, log_pis\n",
    "\n",
    "def M_step(X, Z, N, K, D):\n",
    "    labels = Z.argmax(-1)\n",
    "    mus = torch.zeros((K, D))\n",
    "    for k in range(K):\n",
    "        labels_k = labels == k\n",
    "        if labels_k.sum().item() == 0:\n",
    "            continue\n",
    "        else:\n",
    "            mus[k] = Xs[labels_k].mean(0)\n",
    "    return mus "
   ]
  },
  {
   "cell_type": "code",
   "execution_count": 107,
   "metadata": {},
   "outputs": [],
   "source": [
    "mus = init_means()\n",
    "for i in range(1000):\n",
    "    Z, log_pis = E_step(Xs, mus, N, K, D)\n",
    "    mus = M_step(Xs, Z, N, K, D)"
   ]
  },
  {
   "cell_type": "code",
   "execution_count": 108,
   "metadata": {},
   "outputs": [
    {
     "data": {
      "image/png": "[encoded data removed]",
      "text/plain": [
       "<Figure size 864x360 with 2 Axes>"
      ]
     },
     "metadata": {
      "needs_background": "light"
     },
     "output_type": "display_data"
    }
   ],
   "source": [
    "colors = ['red', 'blue', 'green', 'gold']\n",
    "fig = plt.figure(figsize=(12,5))\n",
    "ax1 = fig.add_subplot(1,2,1)\n",
    "ax2 = fig.add_subplot(1,2,2)\n",
    "ax1.scatter(Mus[:, 0].data.numpy(), Mus[:, 1].data.numpy())\n",
    "ax1.scatter(mus[:, 0].data.numpy(), mus[:, 1].data.numpy(), c='r')\n",
    "for k in range(K):  \n",
    "    labels = Z.argmax(-1)\n",
    "    labels_k = labels == k\n",
    "    Xk = Xs[labels_k]\n",
    "    ax2.scatter(Xk[:,0].data.numpy(), Xk[:,1].data.numpy(), c=colors[k])"
   ]
  },
  {
   "cell_type": "code",
   "execution_count": null,
   "metadata": {},
   "outputs": [],
   "source": [
    "\n",
    "mus = init_means()\n",
    "Z, log_pis = E_step(Xs, mus, N, K, D)\n",
    "\n",
    "labels = Z.argmax(-1)\n",
    "mus = torch.zeros((K, D))\n",
    "for k in range(K):\n",
    "    labels_k = labels == k\n",
    "    if labels_k.sum().item() == 0:\n",
    "        continue\n",
    "    else:\n",
    "        mus[k] = Xs[labels_k].mean(0)"
   ]
  },
  {
   "cell_type": "code",
   "execution_count": null,
   "metadata": {},
   "outputs": [],
   "source": [
    "mus"
   ]
  },
  {
   "cell_type": "code",
   "execution_count": null,
   "metadata": {},
   "outputs": [],
   "source": [
    "labels = Z.argmax(-1)"
   ]
  },
  {
   "cell_type": "code",
   "execution_count": null,
   "metadata": {},
   "outputs": [],
   "source": [
    "lk = labels == 2"
   ]
  },
  {
   "cell_type": "code",
   "execution_count": null,
   "metadata": {},
   "outputs": [],
   "source": []
  },
  {
   "cell_type": "code",
   "execution_count": null,
   "metadata": {},
   "outputs": [],
   "source": []
  }
 ],
 "metadata": {
  "kernelspec": {
   "display_name": "Python 3",
   "language": "python",
   "name": "python3"
  },
  "language_info": {
   "codemirror_mode": {
    "name": "ipython",
    "version": 3
   },
   "file_extension": ".py",
   "mimetype": "text/x-python",
   "name": "python",
   "nbconvert_exporter": "python",
   "pygments_lexer": "ipython3",
   "version": "3.6.6"
  }
 },
 "nbformat": 4,
 "nbformat_minor": 2
}
