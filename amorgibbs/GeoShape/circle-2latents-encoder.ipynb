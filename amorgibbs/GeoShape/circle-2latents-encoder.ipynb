{
 "cells": [
  {
   "cell_type": "code",
   "execution_count": null,
   "metadata": {},
   "outputs": [],
   "source": [
    "%matplotlib inline\n",
    "import numpy as np\n",
    "import torch.nn as nn\n",
    "import torch.nn.functional as F\n",
    "import matplotlib.pyplot as plt\n",
    "from plots import *\n",
    "from kls import *\n",
    "from torch.distributions.normal import Normal\n",
    "from torch.distributions.one_hot_categorical import OneHotCategorical as cat\n",
    "from torch.distributions.beta import Beta\n",
    "from torch.distributions.uniform import Uniform\n",
    "from torch.distributions.relaxed_categorical import RelaxedOneHotCategorical as rcat\n",
    "from torch import logsumexp\n",
    "import sys\n",
    "import time\n",
    "import datetime\n",
    "import math"
   ]
  },
  {
   "cell_type": "code",
   "execution_count": null,
   "metadata": {},
   "outputs": [],
   "source": [
    "Xs = torch.from_numpy(np.load('circles/obs.npy')).float()\n",
    "Xs = Xs.transpose(1,0)\n",
    "\n",
    "N = Xs.shape[0]\n",
    "D = 2\n",
    "## Model Parameters\n",
    "NUM_SAMPLES = 10\n",
    "NUM_HIDDEN = 64\n",
    "NUM_STROKES = 1\n",
    "NUM_LATENTS = 2\n",
    "NUM_OBS = D\n",
    "SGD_STEPS = 25000\n",
    "LEARNING_RATE = 1e-4\n",
    "CUDA = False\n",
    "PATH = 'circles'"
   ]
  },
  {
   "cell_type": "code",
   "execution_count": null,
   "metadata": {},
   "outputs": [],
   "source": [
    "class Encoder(nn.Module):\n",
    "    def __init__(self, num_obs= D,\n",
    "                       num_hidden=NUM_HIDDEN,\n",
    "                       num_strokes=NUM_STROKES,\n",
    "                       num_latents=NUM_LATENTS):\n",
    "        super(self.__class__, self).__init__()\n",
    "        self.enc_h = nn.Sequential(\n",
    "            nn.Linear(num_obs, num_hidden),\n",
    "            nn.Tanh())\n",
    "        self.enc_log_u_a = nn.Sequential(\n",
    "            nn.Linear(num_hidden, int(0.5*num_hidden+0.5*num_strokes)),\n",
    "            nn.Tanh(),\n",
    "            nn.Linear(int(0.5*num_hidden+0.5*num_strokes), num_latents))\n",
    "        self.enc_log_u_b = nn.Sequential(\n",
    "            nn.Linear(num_hidden, int(0.5*num_hidden+0.5*num_strokes)),\n",
    "            nn.Tanh(),\n",
    "            nn.Linear(int(0.5*num_hidden+0.5*num_strokes), num_latents))\n",
    "\n",
    "    def forward(self, obs, num_samples):\n",
    "        h = self.enc_h(obs) # (B, H)\n",
    "        a = torch.exp(self.enc_log_u_a(h)) # (B, 2)\n",
    "        b = torch.exp(self.enc_log_u_b(h)) # (B, 2)\n",
    "        q_u = Beta(a, b)\n",
    "        u = q_u.sample((num_samples,)) # (S, B, 2)\n",
    "        log_q_u = q_u.log_prob(u).sum(-1)\n",
    "        return u, log_q_u\n",
    "    \n",
    "    \n",
    "class Decoder(nn.Module):\n",
    "    def __init__(self, num_obs=NUM_OBS,\n",
    "                       num_hidden=NUM_HIDDEN,\n",
    "                       num_strokes=NUM_STROKES,\n",
    "                       num_latents=NUM_LATENTS):\n",
    "        super(self.__class__, self).__init__()\n",
    "\n",
    "        self.x_sigma = 0.01 * torch.ones((N, num_obs))\n",
    "        self.dec_mu = nn.Sequential(\n",
    "            nn.Linear(num_latents, num_hidden),\n",
    "            nn.Tanh(),\n",
    "            nn.Linear(num_hidden, num_obs))\n",
    "\n",
    "    def forward(self, u, obs, num_samples):\n",
    "        mu = self.dec_mu(u) # (S, B, K+1) -> (S, B, O)\n",
    "        p_x = Normal(mu, self.x_sigma.repeat(num_samples, 1, 1)) # (S, B, O)\n",
    "        log_p_x = p_x.log_prob(obs).sum(-1) # (S, B)\n",
    "        return mu, log_p_x"
   ]
  },
  {
   "cell_type": "code",
   "execution_count": null,
   "metadata": {},
   "outputs": [],
   "source": [
    "def weights_init(m):\n",
    "    classname = m.__class__.__name__\n",
    "    if classname.find('Linear') != -1:\n",
    "        m.weight.data.normal_(0.0, 1e-2)     \n",
    "        \n",
    "def initialize():\n",
    "    enc = Encoder()\n",
    "    dec = Decoder()\n",
    "#     enc.apply(weights_init)\n",
    "    opt1 =  torch.optim.Adam(list(enc.parameters()),lr=LEARNING_RATE, betas=(0.9, 0.99)) \n",
    "    opt2 = torch.optim.Adam(list(dec.parameters()),lr=LEARNING_RATE, betas=(0.9, 0.99))\n",
    "    return enc, dec, opt1, opt2\n",
    "enc, dec, opt1, opt2 = initialize()"
   ]
  },
  {
   "cell_type": "code",
   "execution_count": null,
   "metadata": {},
   "outputs": [],
   "source": [
    "def oneshot(x, N, D, num_samples, num_strokes):\n",
    "    log_p_xs = torch.zeros((num_samples, N))\n",
    "    log_prs = torch.zeros((num_samples, N))\n",
    "    X_mus = torch.zeros((num_samples, N, D))\n",
    "    u, log_q = enc(x, num_samples)\n",
    "    mu, log_p_x = dec(u, x, num_samples)\n",
    "    pr_u = Uniform(torch.zeros(N, NUM_LATENTS), torch.ones(N, NUM_LATENTS))\n",
    "    log_pr_u = pr_u.log_prob(u).sum(-1)\n",
    "    log_weights = (log_pr_u + log_p_x - log_q)\n",
    "    weights = torch.exp(log_weights - logsumexp(log_weights, 0)).detach()\n",
    "    eubo = torch.mul(weights, log_weights).sum(0).mean()\n",
    "    elbo = log_weights.mean(0).mean()\n",
    "\n",
    "    return eubo, elbo, mu, u"
   ]
  },
  {
   "cell_type": "code",
   "execution_count": null,
   "metadata": {},
   "outputs": [],
   "source": [
    "ELBOs = []\n",
    "EUBOs = []\n",
    "time_start = time.time()\n",
    "\n",
    "for step in range(SGD_STEPS):\n",
    "    indices = torch.randperm(N)\n",
    "    Xs_shuffle = Xs[indices]\n",
    "    opt1.zero_grad()\n",
    "    eubo, elbo, mu, u = oneshot(Xs_shuffle, N, D, NUM_SAMPLES, NUM_STROKES)\n",
    "    eubo.backward()\n",
    "    opt1.step()\n",
    "    opt2.zero_grad()\n",
    "    eubo, elbo, mu, u = oneshot(Xs_shuffle, N, D, NUM_SAMPLES, NUM_STROKES)\n",
    "    (-elbo).backward()\n",
    "    opt2.step()\n",
    "    \n",
    "    ELBOs.append(elbo.item())\n",
    "    EUBOs.append(eubo.item())\n",
    "    \n",
    "    if step%100 == 0:\n",
    "        time_end = time.time()  \n",
    "        print('SGDstep=%d, EUBO=%.3f, ELBO=%.3f (%ds)' % (step, eubo, elbo, time_end - time_start))\n",
    "        time_start = time.time()\n"
   ]
  },
  {
   "cell_type": "code",
   "execution_count": null,
   "metadata": {},
   "outputs": [],
   "source": [
    "eubo, elbo, mu, u = oneshot(Xs, N, D, NUM_SAMPLES, NUM_STROKES)"
   ]
  },
  {
   "cell_type": "code",
   "execution_count": null,
   "metadata": {},
   "outputs": [],
   "source": [
    "log_p_"
   ]
  },
  {
   "cell_type": "code",
   "execution_count": null,
   "metadata": {},
   "outputs": [],
   "source": [
    "T = 80\n",
    "fig = plt.figure(figsize=(12,5))\n",
    "ax1 = fig.add_subplot(1,2,1)\n",
    "ax2 = fig.add_subplot(1,2,2)   \n",
    "\n",
    "ax1.scatter(Xs[:T, 0].data.numpy(), Xs[:T, 1].data.numpy())\n",
    "ax1.set_xlim([-2,2])\n",
    "ax1.set_ylim([-2,2])\n",
    "ax1.set_title('data')\n",
    "\n",
    "uu = u.mean(0)\n",
    "ax2.plot(uu[:T, 0].data.numpy(), 'go')\n",
    "ax2.plot(uu[:T, 1].data.numpy(), 'go')"
   ]
  },
  {
   "cell_type": "code",
   "execution_count": null,
   "metadata": {},
   "outputs": [],
   "source": []
  }
 ],
 "metadata": {
  "kernelspec": {
   "display_name": "Python 3",
   "language": "python",
   "name": "python3"
  },
  "language_info": {
   "codemirror_mode": {
    "name": "ipython",
    "version": 3
   },
   "file_extension": ".py",
   "mimetype": "text/x-python",
   "name": "python",
   "nbconvert_exporter": "python",
   "pygments_lexer": "ipython3",
   "version": "3.6.6"
  }
 },
 "nbformat": 4,
 "nbformat_minor": 2
}
