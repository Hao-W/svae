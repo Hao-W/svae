{
 "cells": [
  {
   "cell_type": "code",
   "execution_count": 1,
   "metadata": {},
   "outputs": [],
   "source": [
    "%matplotlib inline\n",
    "import numpy as np\n",
    "import torch.nn as nn\n",
    "import torch.nn.functional as F\n",
    "import matplotlib.pyplot as plt\n",
    "from plots import *\n",
    "from kls import *\n",
    "from torch.distributions.normal import Normal\n",
    "from torch.distributions.one_hot_categorical import OneHotCategorical as cat\n",
    "from torch.distributions.beta import Beta\n",
    "from torch.distributions.uniform import Uniform\n",
    "from torch.distributions.relaxed_categorical import RelaxedOneHotCategorical as rcat\n",
    "from torch import logsumexp\n",
    "import sys\n",
    "import time\n",
    "import datetime\n",
    "import math"
   ]
  },
  {
   "cell_type": "code",
   "execution_count": 2,
   "metadata": {},
   "outputs": [],
   "source": [
    "Xs = torch.from_numpy(np.load('crosses/obs-50.npy')).float()\n",
    "Mus = torch.from_numpy(np.load('crosses/mus-50.npy')).float()\n",
    "\n",
    "B, N, D = Xs.shape\n",
    "\n",
    "## Model Parameters\n",
    "NUM_SAMPLES = 10\n",
    "NUM_HIDDEN = 32\n",
    "NUM_LATENTS = 2\n",
    "NUM_OBS = D\n",
    "NUM_EPOCHS = 100\n",
    "LEARNING_RATE = 1e-4\n",
    "CUDA = False\n",
    "PATH = 'circles'"
   ]
  },
  {
   "cell_type": "code",
   "execution_count": 3,
   "metadata": {},
   "outputs": [],
   "source": [
    "class Encoder(nn.Module):\n",
    "    def __init__(self, num_obs= NUM_OBS,\n",
    "                       num_hidden=NUM_HIDDEN,\n",
    "                       num_latents=NUM_LATENTS):\n",
    "        super(self.__class__, self).__init__()\n",
    "        self.enc_h = nn.Sequential(\n",
    "            nn.Linear(num_obs, num_hidden),\n",
    "            nn.Tanh())\n",
    "        self.enc_mu = nn.Sequential(\n",
    "            nn.Linear(num_hidden, int(0.5*num_hidden)),\n",
    "            nn.Tanh(),\n",
    "            nn.Linear(int(0.5*num_hidden), num_latents))\n",
    "        self.enc_log_sigma = nn.Sequential(\n",
    "            nn.Linear(num_hidden, int(0.5*num_hidden)),\n",
    "            nn.Tanh(),\n",
    "            nn.Linear(int(0.5*num_hidden), num_latents))\n",
    "\n",
    "    def forward(self, obs, num_samples):\n",
    "        h = self.enc_h(obs) # (B, H)\n",
    "        mu = self.enc_mu(h) # (B, 2)\n",
    "        sigma = torch.exp(self.enc_log_sigma(h)) # (B, 2)\n",
    "        q_u = Normal(mu, sigma)\n",
    "        u = q_u.sample((num_samples,)) # (S, B, 2)\n",
    "        log_q_u = q_u.log_prob(u).sum(-1)\n",
    "        return u, log_q_u\n",
    "    \n",
    "    \n",
    "class Decoder(nn.Module):\n",
    "    def __init__(self, num_obs=D,\n",
    "                       num_hidden=NUM_HIDDEN,\n",
    "                       num_latents=NUM_LATENTS):\n",
    "        super(self.__class__, self).__init__()\n",
    "\n",
    "        self.x_sigma = 0.01 * torch.ones((N, num_obs))\n",
    "        self.dec_mu = nn.Sequential(\n",
    "            nn.Linear(num_latents, num_hidden),\n",
    "            nn.Tanh(),\n",
    "            nn.Linear(num_hidden, num_obs))\n",
    "\n",
    "    def forward(self, u, obs, num_samples):\n",
    "        mu = self.dec_mu(u) # (S, B, K) -> (S, B, O)\n",
    "        p_x = Normal(mu, self.x_sigma.repeat(num_samples, 1, 1)) # (S, B, O)\n",
    "        log_p_x = p_x.log_prob(obs).sum(-1) # (S, B)\n",
    "        return mu, log_p_x"
   ]
  },
  {
   "cell_type": "code",
   "execution_count": 4,
   "metadata": {},
   "outputs": [],
   "source": [
    "def weights_init(m):\n",
    "    classname = m.__class__.__name__\n",
    "    if classname.find('Linear') != -1:\n",
    "        m.weight.data.normal_(0.0, 1e-2)     \n",
    "        \n",
    "def initialize():\n",
    "    enc = Encoder()\n",
    "    dec = Decoder()\n",
    "#     enc.apply(weights_init)\n",
    "    opt1 =  torch.optim.Adam(list(enc.parameters()),lr=LEARNING_RATE, betas=(0.9, 0.99)) \n",
    "    opt2 = torch.optim.Adam(list(dec.parameters()),lr=LEARNING_RATE, betas=(0.9, 0.99))\n",
    "    return enc, dec, opt1, opt2\n",
    "enc, dec, opt1, opt2 = initialize()"
   ]
  },
  {
   "cell_type": "code",
   "execution_count": 5,
   "metadata": {},
   "outputs": [],
   "source": [
    "def oneshot(x, mean, N, D, num_samples):\n",
    "    data = x - mean\n",
    "\n",
    "    u, log_q = enc(data, num_samples)\n",
    "    mu, log_p_x = dec(u, data, num_samples)\n",
    "    pr_u = Normal(torch.zeros(N, NUM_LATENTS), torch.ones(N, NUM_LATENTS))\n",
    "    log_pr_u = pr_u.log_prob(u).sum(-1)\n",
    "    log_weights = (log_pr_u + log_p_x - log_q)\n",
    "    weights = torch.exp(log_weights - logsumexp(log_weights, 0)).detach()\n",
    "    eubo = torch.mul(weights, log_weights).sum(0).mean()\n",
    "    elbo = log_weights.mean(0).mean()\n",
    "\n",
    "    return eubo, elbo, mu, u"
   ]
  },
  {
   "cell_type": "code",
   "execution_count": 6,
   "metadata": {},
   "outputs": [
    {
     "name": "stdout",
     "output_type": "stream",
     "text": [
      "epoch=0, EUBO=-38.799, ELBO=-167.660 (15s)\n",
      "epoch=1, EUBO=-1.996, ELBO=-65.108 (14s)\n",
      "epoch=2, EUBO=-1.385, ELBO=-28.889 (14s)\n",
      "epoch=3, EUBO=-1.492, ELBO=-18.876 (14s)\n",
      "epoch=4, EUBO=1.308, ELBO=-2.890 (14s)\n",
      "epoch=5, EUBO=0.669, ELBO=-3.770 (14s)\n"
     ]
    },
    {
     "ename": "KeyboardInterrupt",
     "evalue": "",
     "output_type": "error",
     "traceback": [
      "\u001b[0;31m---------------------------------------------------------------------------\u001b[0m",
      "\u001b[0;31mKeyboardInterrupt\u001b[0m                         Traceback (most recent call last)",
      "\u001b[0;32m<ipython-input-6-94295ed5a2db>\u001b[0m in \u001b[0;36m<module>\u001b[0;34m\u001b[0m\n\u001b[1;32m     15\u001b[0m         \u001b[0mopt2\u001b[0m\u001b[0;34m.\u001b[0m\u001b[0mzero_grad\u001b[0m\u001b[0;34m(\u001b[0m\u001b[0;34m)\u001b[0m\u001b[0;34m\u001b[0m\u001b[0m\n\u001b[1;32m     16\u001b[0m         \u001b[0meubo\u001b[0m\u001b[0;34m,\u001b[0m \u001b[0melbo\u001b[0m\u001b[0;34m,\u001b[0m \u001b[0mmu\u001b[0m\u001b[0;34m,\u001b[0m \u001b[0mu\u001b[0m \u001b[0;34m=\u001b[0m \u001b[0moneshot\u001b[0m\u001b[0;34m(\u001b[0m\u001b[0mX_shuffle\u001b[0m\u001b[0;34m,\u001b[0m \u001b[0mmean\u001b[0m\u001b[0;34m,\u001b[0m \u001b[0mN\u001b[0m\u001b[0;34m,\u001b[0m \u001b[0mD\u001b[0m\u001b[0;34m,\u001b[0m \u001b[0mNUM_SAMPLES\u001b[0m\u001b[0;34m)\u001b[0m\u001b[0;34m\u001b[0m\u001b[0m\n\u001b[0;32m---> 17\u001b[0;31m         \u001b[0;34m(\u001b[0m\u001b[0;34m-\u001b[0m\u001b[0melbo\u001b[0m\u001b[0;34m)\u001b[0m\u001b[0;34m.\u001b[0m\u001b[0mbackward\u001b[0m\u001b[0;34m(\u001b[0m\u001b[0;34m)\u001b[0m\u001b[0;34m\u001b[0m\u001b[0m\n\u001b[0m\u001b[1;32m     18\u001b[0m         \u001b[0mopt2\u001b[0m\u001b[0;34m.\u001b[0m\u001b[0mstep\u001b[0m\u001b[0;34m(\u001b[0m\u001b[0;34m)\u001b[0m\u001b[0;34m\u001b[0m\u001b[0m\n\u001b[1;32m     19\u001b[0m \u001b[0;34m\u001b[0m\u001b[0m\n",
      "\u001b[0;32m~/.conda/envs/dev/lib/python3.6/site-packages/torch/tensor.py\u001b[0m in \u001b[0;36mbackward\u001b[0;34m(self, gradient, retain_graph, create_graph)\u001b[0m\n\u001b[1;32m    100\u001b[0m                 \u001b[0mproducts\u001b[0m\u001b[0;34m.\u001b[0m \u001b[0mDefaults\u001b[0m \u001b[0mto\u001b[0m\u001b[0;31m \u001b[0m\u001b[0;31m`\u001b[0m\u001b[0;31m`\u001b[0m\u001b[0;32mFalse\u001b[0m\u001b[0;31m`\u001b[0m\u001b[0;31m`\u001b[0m\u001b[0;34m.\u001b[0m\u001b[0;34m\u001b[0m\u001b[0m\n\u001b[1;32m    101\u001b[0m         \"\"\"\n\u001b[0;32m--> 102\u001b[0;31m         \u001b[0mtorch\u001b[0m\u001b[0;34m.\u001b[0m\u001b[0mautograd\u001b[0m\u001b[0;34m.\u001b[0m\u001b[0mbackward\u001b[0m\u001b[0;34m(\u001b[0m\u001b[0mself\u001b[0m\u001b[0;34m,\u001b[0m \u001b[0mgradient\u001b[0m\u001b[0;34m,\u001b[0m \u001b[0mretain_graph\u001b[0m\u001b[0;34m,\u001b[0m \u001b[0mcreate_graph\u001b[0m\u001b[0;34m)\u001b[0m\u001b[0;34m\u001b[0m\u001b[0m\n\u001b[0m\u001b[1;32m    103\u001b[0m \u001b[0;34m\u001b[0m\u001b[0m\n\u001b[1;32m    104\u001b[0m     \u001b[0;32mdef\u001b[0m \u001b[0mregister_hook\u001b[0m\u001b[0;34m(\u001b[0m\u001b[0mself\u001b[0m\u001b[0;34m,\u001b[0m \u001b[0mhook\u001b[0m\u001b[0;34m)\u001b[0m\u001b[0;34m:\u001b[0m\u001b[0;34m\u001b[0m\u001b[0m\n",
      "\u001b[0;32m~/.conda/envs/dev/lib/python3.6/site-packages/torch/autograd/__init__.py\u001b[0m in \u001b[0;36mbackward\u001b[0;34m(tensors, grad_tensors, retain_graph, create_graph, grad_variables)\u001b[0m\n\u001b[1;32m     88\u001b[0m     Variable._execution_engine.run_backward(\n\u001b[1;32m     89\u001b[0m         \u001b[0mtensors\u001b[0m\u001b[0;34m,\u001b[0m \u001b[0mgrad_tensors\u001b[0m\u001b[0;34m,\u001b[0m \u001b[0mretain_graph\u001b[0m\u001b[0;34m,\u001b[0m \u001b[0mcreate_graph\u001b[0m\u001b[0;34m,\u001b[0m\u001b[0;34m\u001b[0m\u001b[0m\n\u001b[0;32m---> 90\u001b[0;31m         allow_unreachable=True)  # allow_unreachable flag\n\u001b[0m\u001b[1;32m     91\u001b[0m \u001b[0;34m\u001b[0m\u001b[0m\n\u001b[1;32m     92\u001b[0m \u001b[0;34m\u001b[0m\u001b[0m\n",
      "\u001b[0;31mKeyboardInterrupt\u001b[0m: "
     ]
    }
   ],
   "source": [
    "ELBOs = []\n",
    "EUBOs = []\n",
    "time_start = time.time()\n",
    "\n",
    "for epoch in range(NUM_EPOCHS):\n",
    "    for b in range(B):\n",
    "        X = Xs[b]\n",
    "        mean = Mus[b]\n",
    "        indices = torch.randperm(N)\n",
    "        X_shuffle = X[indices]\n",
    "        opt1.zero_grad()\n",
    "        eubo, elbo, mu, u = oneshot(X_shuffle, mean, N, D, NUM_SAMPLES)\n",
    "        eubo.backward()\n",
    "        opt1.step()\n",
    "        opt2.zero_grad()\n",
    "        eubo, elbo, mu, u = oneshot(X_shuffle, mean, N, D, NUM_SAMPLES)\n",
    "        (-elbo).backward()\n",
    "        opt2.step()\n",
    "    \n",
    "        ELBOs.append(elbo.item())\n",
    "        EUBOs.append(eubo.item())\n",
    "    \n",
    "\n",
    "    time_end = time.time()  \n",
    "    print('epoch=%d, EUBO=%.3f, ELBO=%.3f (%ds)' % (epoch, eubo, elbo, time_end - time_start))\n",
    "    time_start = time.time()\n"
   ]
  },
  {
   "cell_type": "code",
   "execution_count": null,
   "metadata": {},
   "outputs": [],
   "source": [
    "torch.save(enc.state_dict(), 'VAE/enc-cross')\n",
    "torch.save(dec.state_dict(), 'VAE/dec-cross')"
   ]
  },
  {
   "cell_type": "code",
   "execution_count": null,
   "metadata": {},
   "outputs": [],
   "source": [
    "P = 4\n",
    "eubo, elbo, mu, u = oneshot(Xs[P], Mus[P], N, D, NUM_SAMPLES)"
   ]
  },
  {
   "cell_type": "code",
   "execution_count": null,
   "metadata": {},
   "outputs": [],
   "source": [
    "T = 80\n",
    "fig = plt.figure(figsize=(18,5))\n",
    "ax1 = fig.add_subplot(1,3,1)\n",
    "ax2 = fig.add_subplot(1,3,2)   \n",
    "ax3 = fig.add_subplot(1,3,3)\n",
    "ax1.scatter(Xs[P,:T, 0].data.numpy(), Xs[P, :T, 1].data.numpy())\n",
    "ax1.set_xlim([-2,2])\n",
    "ax1.set_ylim([-2,2])\n",
    "ax1.set_title('data')\n",
    "\n",
    "uu = u.mean(0)\n",
    "ax2.plot(uu[:T, 0].data.numpy(), 'go')\n",
    "ax2.plot(uu[:T, 1].data.numpy(), 'ro')\n",
    "\n",
    "ax3.scatter(uu[:T, 0].data.numpy(), uu[:T, 1].data.numpy())"
   ]
  },
  {
   "cell_type": "code",
   "execution_count": null,
   "metadata": {},
   "outputs": [],
   "source": []
  }
 ],
 "metadata": {
  "kernelspec": {
   "display_name": "Python 3",
   "language": "python",
   "name": "python3"
  },
  "language_info": {
   "codemirror_mode": {
    "name": "ipython",
    "version": 3
   },
   "file_extension": ".py",
   "mimetype": "text/x-python",
   "name": "python",
   "nbconvert_exporter": "python",
   "pygments_lexer": "ipython3",
   "version": "3.6.6"
  }
 },
 "nbformat": 4,
 "nbformat_minor": 2
}
