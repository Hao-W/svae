{
 "cells": [
  {
   "cell_type": "code",
   "execution_count": 1,
   "metadata": {},
   "outputs": [],
   "source": [
    "%matplotlib inline\n",
    "import matplotlib.pyplot as plt\n",
    "import torch\n",
    "import numpy as np\n",
    "import math\n",
    "# from generate_geoshape import *"
   ]
  },
  {
   "cell_type": "code",
   "execution_count": 16,
   "metadata": {},
   "outputs": [],
   "source": [
    "def square(N, rad, thick, period, noise_dist):\n",
    "    if noise_dist == 'uniform':\n",
    "        noise = np.random.uniform(-thick / 2., thick / 2., N)\n",
    "    elif noise_dist == 'gaussian':\n",
    "        noise = np.random.normal(0.0, thick, N)\n",
    "    else:\n",
    "        print('error : noise distribution undefined...either uniform or gaussian')\n",
    "        return None\n",
    "    \n",
    "    pts_edge = int((N / period) / 4.)\n",
    "    bottom_x = np.linspace(-rad, rad, pts_edge)\n",
    "    bottom_y = np.ones(pts_edge) * (-rad)\n",
    "    bottom_x = np.tile(bottom_x, period)\n",
    "    bottom_y = np.tile(bottom_y, period) + noise[:int(N/4.)]\n",
    "    \n",
    "    left_x = np.ones(pts_edge) * (-rad)\n",
    "    left_y = np.linspace(-rad, rad, pts_edge)\n",
    "    left_x = np.tile(left_x, period) + noise[int(N/4.) : int(N/2.)]\n",
    "    left_y = np.tile(left_y, period)\n",
    "    \n",
    "    top_x = np.linspace(-rad, rad, pts_edge)\n",
    "    top_y = np.ones(pts_edge) * (rad)\n",
    "    top_x = np.tile(top_x, period)\n",
    "    top_y = np.tile(top_y, period) + noise[int(N/2.) : int(N*3/4.)]\n",
    "    \n",
    "    right_x = np.ones(pts_edge) * (rad)\n",
    "    right_y = np.linspace(-rad, rad, pts_edge)\n",
    "    right_x = np.tile(right_x, period) + noise[int(N*3/4.) :]\n",
    "    right_y = np.tile(right_y, period)\n",
    "\n",
    "    x = np.concatenate((bottom_x, left_x, top_x, right_x), 0)\n",
    "    y = np.concatenate((bottom_y, left_y, top_y, right_y), 0)\n",
    "    pos = np.concatenate((x[None,:], y[None, :]), 0)\n",
    "#     fig = plt.figure(figsize=(5,5))\n",
    "#     ax = fig.add_subplot(1,1,1)\n",
    "#     ax.scatter(x, y)    \n",
    "    \n",
    "    return pos\n",
    "\n",
    "def cross(N, rad, thick, period, noise_dist):\n",
    "    if noise_dist == 'uniform':\n",
    "        noise = np.random.uniform(-thick / 2., thick / 2., N)\n",
    "    elif noise_dist == 'gaussian':\n",
    "        noise = np.random.normal(0.0, thick, N)\n",
    "    else:\n",
    "        print('error : noise distribution undefined...either uniform or gaussian')\n",
    "        return None\n",
    "    \n",
    "    rotate = np.array([[np.cos(math.pi/4.), - np.sin(math.pi/4.)], [np.sin(math.pi/4.), np.cos(math.pi/4.)]])\n",
    "    pts_edge = int((N / period) / 2.)\n",
    "    vertical_x = np.zeros(pts_edge)\n",
    "    vertical_y = np.linspace(-rad, rad, pts_edge)\n",
    "    vertical_x = np.tile(vertical_x, period) + noise[: int(N/2.)]\n",
    "    vertical_y = np.tile(vertical_y, period)\n",
    "    \n",
    "    horizontal_y = np.zeros(pts_edge)\n",
    "    horizontal_x = np.linspace(-rad, rad, pts_edge)\n",
    "    horizontal_x = np.tile(horizontal_x, period)\n",
    "    horizontal_y = np.tile(horizontal_y, period) + noise[int(N/2.):]\n",
    "    \n",
    "    x = np.concatenate((vertical_x, horizontal_x), 0)\n",
    "    y = np.concatenate((vertical_y, horizontal_y), 0)\n",
    "    pos = np.concatenate((x[None, :], y[None, :]), 0)\n",
    "    pos = np.dot(rotate, pos)\n",
    "#     fig = plt.figure(figsize=(5,5))\n",
    "#     ax = fig.add_subplot(1,1,1)\n",
    "#     ax.scatter(pos[0], pos[1])    \n",
    "    return pos\n",
    "\n",
    "def triangle(N, rad, thick, period, noise_dist='uniform'):\n",
    "    if noise_dist == 'uniform':\n",
    "        noise = np.random.uniform(-thick / 2., thick / 2., N)\n",
    "    elif noise_dist == 'gaussian':\n",
    "        noise = np.random.normal(0.0, thick, N)\n",
    "    else:\n",
    "        print('error : noise distribution undefined...either uniform or gaussian')\n",
    "        return None\n",
    "    \n",
    "    right_rotate = np.array([[np.cos(math.pi/6.), - np.sin(math.pi/6.)], [np.sin(math.pi/6.), np.cos(math.pi/6.)]])\n",
    "    left_rotate = np.array([[np.cos(math.pi/6.), np.sin(math.pi/6.)], [- np.sin(math.pi/6.), np.cos(math.pi/6.)]])\n",
    "    \n",
    "    pts_edge = int((N / period ) / 3.)\n",
    "    bottom_x = np.linspace(-rad, rad, pts_edge)\n",
    "    bottom_y = np.zeros(pts_edge)\n",
    "    bottom_x = np.tile(bottom_x, period)\n",
    "    bottom_y = np.tile(bottom_y, period) + noise[:pts_edge*period]\n",
    "    bottom_pos = np.concatenate((bottom_x[None, :], bottom_y[None, :]), 0)\n",
    "    \n",
    "    left_x = np.zeros(pts_edge)\n",
    "    left_y = np.linspace(0, 2*rad, pts_edge)\n",
    "    left_x = np.tile(left_x, period) + noise[pts_edge*period:pts_edge*period*2]\n",
    "    left_y = np.tile(left_y, period)    \n",
    "    left_pos = np.concatenate((left_x[None, :], left_y[None, :]), 0)\n",
    "    left_pos = np.dot(left_rotate, left_pos)\n",
    "    left_pos[0] = left_pos[0] - rad\n",
    "    \n",
    "    right_x = np.zeros(pts_edge)\n",
    "    right_y = np.linspace(0, 2*rad, pts_edge)\n",
    "    right_x = np.tile(right_x, period) + noise[pts_edge*period*2:pts_edge*period*3]\n",
    "    right_y = np.tile(right_y, period)\n",
    "    right_pos = np.concatenate((right_x[None, :], right_y[None, :]), 0)\n",
    "    right_pos = np.dot(right_rotate, right_pos) \n",
    "    right_pos[0] = right_pos[0] + rad\n",
    "    \n",
    "    pos = np.concatenate((bottom_pos, left_pos, right_pos), -1)\n",
    "    pos[1] = pos[1] - rad * np.sqrt(3) /2 \n",
    "#     fig = plt.figure(figsize=(5,5))\n",
    "#     ax = fig.add_subplot(1,1,1)\n",
    "#     ax.scatter(pos[0], pos[1])  \n",
    "    return pos"
   ]
  },
  {
   "cell_type": "code",
   "execution_count": 17,
   "metadata": {},
   "outputs": [],
   "source": [
    "N = 60\n",
    "period = 1\n",
    "rad = 0.5\n",
    "thick = 0.01\n",
    "# pos = square(N, rad, thick, period, noise_dist='gaussian')\n",
    "# np.save('squares/obs.npy', pos)\n",
    "# pos = cross(N, rad, thick, period, noise_dist='gaussian')\n",
    "pos = triangle(N, rad, thick, period, noise_dist='gaussian')"
   ]
  },
  {
   "cell_type": "code",
   "execution_count": 20,
   "metadata": {},
   "outputs": [
    {
     "data": {
      "text/plain": [
       "<matplotlib.collections.PathCollection at 0x7f8b67543748>"
      ]
     },
     "execution_count": 20,
     "metadata": {},
     "output_type": "execute_result"
    },
    {
     "data": {
      "image/png": "[encoded data removed]",
      "text/plain": [
       "<Figure size 360x360 with 1 Axes>"
      ]
     },
     "metadata": {},
     "output_type": "display_data"
    }
   ],
   "source": [
    "thick = 0.01\n",
    "noise_dist = 'gaussian'\n",
    "rad = 0.5\n",
    "N = 60\n",
    "# Mus = np.array([[-3, -1], [-2, -0.5], [-1, -2], [-3.5, -3]])\n",
    "Mus = np.zeros((3,2))\n",
    "pos_s = square(N, rad, thick, period, noise_dist)+ Mus[0][:, None]\n",
    "pos_x = cross(N, rad+0.3, thick, period, noise_dist)+ Mus[1][:, None]\n",
    "pos_t = triangle(N, rad, thick, period, noise_dist)+ Mus[2][:, None]\n",
    "pos = np.concatenate((pos_s, pos_x, pos_t), 1)\n",
    "\n",
    "fig = plt.figure(figsize=(5,5))\n",
    "ax = fig.add_subplot(1,1,1)\n",
    "ax.scatter(pos[0], pos[1])    \n"
   ]
  },
  {
   "cell_type": "code",
   "execution_count": 24,
   "metadata": {},
   "outputs": [],
   "source": [
    "thick = 0.01\n",
    "noise_dist = 'gaussian'\n",
    "N = 60\n",
    "K = 3\n",
    "D = 2\n",
    "num_seqs = 1000\n",
    "Mus = np.zeros((num_seqs, K, D))\n",
    "Zs = np.zeros((num_seqs, N*K, K))\n",
    "Pos = np.zeros((num_seqs, N*K, D))\n",
    "\n",
    "area = np.array([[1,1], [-1,1], [-1,-1], [1, -1]])\n",
    "for n in range(num_seqs):\n",
    "    np.random.shuffle(area)\n",
    "    mu = np.zeros((K,2))\n",
    "    for k in range(K):\n",
    "        mu[k] = np.random.uniform(1.0, 2.0, 2) * area[k]\n",
    "    pos_s = square(N, rad, thick, period, noise_dist)+ mu[0][:, None]\n",
    "    pos_x = cross(N, rad+0.3, thick, period, noise_dist)+ mu[1][:, None]\n",
    "    pos_t = triangle(N, rad, thick, period, noise_dist)+ mu[2][:, None]\n",
    "    pos = np.concatenate((pos_s, pos_x, pos_t), 1)\n",
    "    zs = np.tile(np.array([1, 0, 0]), (N, 1))\n",
    "    zx = np.tile(np.array([0, 1, 0]), (N, 1))\n",
    "    zt = np.tile(np.array([0, 0, 1]), (N, 1))\n",
    "    Z = np.concatenate((zs, zx, zt), 0)\n",
    "    Mus[n] = mu\n",
    "    Zs[n] = Z\n",
    "    \n",
    "    Pos[n] = np.transpose(pos)\n",
    "    \n",
    "np.save('trishapes/Shapes.npy', Pos)\n",
    "np.save('trishapes/Mus.npy', Mus)\n",
    "np.save('trishapes/Zs.npy', Zs)"
   ]
  },
  {
   "cell_type": "code",
   "execution_count": 63,
   "metadata": {},
   "outputs": [],
   "source": [
    "thick = 0.01\n",
    "noise_dist = 'gaussian'\n",
    "N = 60\n",
    "K = 3\n",
    "D = 2\n",
    "num_seqs = 1000\n",
    "Mus = np.zeros((num_seqs, K, D))\n",
    "Zs = np.zeros((num_seqs, N*K, K))\n",
    "Pos = np.zeros((num_seqs, N*K, D))\n",
    "\n",
    "area = np.array([[1,1], [-1,1], [-1,-1], [1, -1]])\n",
    "\n",
    "np.random.shuffle(area)\n",
    "mu = np.zeros((K,2))\n",
    "for k in range(K):\n",
    "    mu[k] = np.random.uniform(0.5, 1.0, 2) * area[k]\n",
    "pos_s = square(N, rad, thick, period, noise_dist)+ mu[0][:, None]\n",
    "pos_x = cross(N, rad+0.3, thick, period, noise_dist)+ mu[1][:, None]\n",
    "pos_t = triangle(N, rad, thick, period, noise_dist)+ mu[2][:, None]\n",
    "pos = np.concatenate((pos_s, pos_x, pos_t), 1)"
   ]
  },
  {
   "cell_type": "code",
   "execution_count": 64,
   "metadata": {},
   "outputs": [
    {
     "data": {
      "image/png": "[encoded data removed]",
      "text/plain": [
       "<Figure size 360x360 with 1 Axes>"
      ]
     },
     "metadata": {},
     "output_type": "display_data"
    }
   ],
   "source": [
    "fig = plt.figure(figsize=(5,5))\n",
    "ax = fig.add_subplot(1,1,1)\n",
    "ax.scatter(pos[0], pos[1])    \n",
    "ax.set_aspect('equal')"
   ]
  },
  {
   "cell_type": "code",
   "execution_count": 40,
   "metadata": {},
   "outputs": [
    {
     "data": {
      "text/plain": [
       "array([[1, 0, 0, 0],\n",
       "       [1, 0, 0, 0],\n",
       "       [1, 0, 0, 0],\n",
       "       [1, 0, 0, 0],\n",
       "       [1, 0, 0, 0]])"
      ]
     },
     "execution_count": 40,
     "metadata": {},
     "output_type": "execute_result"
    }
   ],
   "source": [
    "np.tile(np.array([1, 0, 0, 0]), (5, 1))"
   ]
  },
  {
   "cell_type": "code",
   "execution_count": null,
   "metadata": {},
   "outputs": [],
   "source": []
  }
 ],
 "metadata": {
  "kernelspec": {
   "display_name": "Python 3",
   "language": "python",
   "name": "python3"
  },
  "language_info": {
   "codemirror_mode": {
    "name": "ipython",
    "version": 3
   },
   "file_extension": ".py",
   "mimetype": "text/x-python",
   "name": "python",
   "nbconvert_exporter": "python",
   "pygments_lexer": "ipython3",
   "version": "3.6.7"
  }
 },
 "nbformat": 4,
 "nbformat_minor": 2
}
