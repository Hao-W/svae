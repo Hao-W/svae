{
 "cells": [
  {
   "cell_type": "code",
   "execution_count": 1,
   "metadata": {},
   "outputs": [],
   "source": [
    "%matplotlib inline\n",
    "import matplotlib.pyplot as plt\n",
    "import torch\n",
    "import numpy as np\n",
    "import math\n",
    "# from generate_geoshape import *"
   ]
  },
  {
   "cell_type": "code",
   "execution_count": 7,
   "metadata": {},
   "outputs": [],
   "source": [
    "N = 50\n",
    "thick = 0.1\n",
    "bound = 5.0\n",
    "rad = 1.0\n",
    "noise_dist = 'uniform'\n",
    "period = 2"
   ]
  },
  {
   "cell_type": "code",
   "execution_count": 8,
   "metadata": {},
   "outputs": [],
   "source": [
    "# pos = sim_shapes(bound, N, rad, thick, period, noise_dist='uniform')"
   ]
  },
  {
   "cell_type": "code",
   "execution_count": 9,
   "metadata": {},
   "outputs": [],
   "source": [
    "def circle(N, rad, thick, period=1.0, noise_dist='uniform'):\n",
    "    rads = np.ones(N) * rad\n",
    "    if noise_dist == 'uniform':\n",
    "        noise = np.random.uniform(-thick / 2., thick / 2., N)\n",
    "    elif noise_dist == 'gau6ssian':\n",
    "        noise = np.random.normal(0.0, thick, N)\n",
    "    else:\n",
    "        print('error : noise distribution undefined...either uniform or gaussian')\n",
    "        return None\n",
    "    rads = rads + noise\n",
    "    angles = np.linspace(0, period * 2 * math.pi, N, endpoint=False)\n",
    "    x = np.cos(angles) * rads\n",
    "    y = np.sin(angles) * rads\n",
    "    pos = np.concatenate((x[None,:], y[None, :]), 0)\n",
    "    return pos"
   ]
  },
  {
   "cell_type": "code",
   "execution_count": 14,
   "metadata": {},
   "outputs": [],
   "source": [
    "def sim_cirlces(num_seqs, N, rad, thick, period=1.0, noise_dist='uniform'):\n",
    "    Pos = np.zeros((num_seqs, 2, N))\n",
    "    Mus = np.zeros((num_seqs, 2))\n",
    "    Rads = np.zeros(num_seqs)\n",
    "    for i in range(num_seqs):\n",
    "        pos = circle(N, rad, thick, period, noise_dist='uniform')\n",
    "        mu = np.random.uniform(-2, 2, 2)\n",
    "        Pos[i] = mu[:, None] + pos\n",
    "        Mus[i] = mu\n",
    "        Rads[i] = rad\n",
    "#         fig = plt.figure(figsize=(5,5))\n",
    "#         ax = fig.add_subplot(1,1,1)\n",
    "#         ax.scatter(Pos[i, 0], Pos[i,1])\n",
    "#         ax.set_xlim([-3,3])\n",
    "#         ax.set_ylim([-3,3])\n",
    "    return Pos, Mus, Rads"
   ]
  },
  {
   "cell_type": "code",
   "execution_count": 16,
   "metadata": {},
   "outputs": [],
   "source": [
    "num_seqs = 1000\n",
    "Pos, Mus, Rads = sim_cirlces(num_seqs, N, rad, thick, period=1.0, noise_dist='uniform')\n",
    "np.save('circles/obs.npy', Pos)\n",
    "np.save('circles/mus.npy', Mus)\n",
    "np.save('circles/rads.npy', Rads)"
   ]
  },
  {
   "cell_type": "code",
   "execution_count": null,
   "metadata": {},
   "outputs": [],
   "source": [
    "def square(N, rad, thick, period=1.0, noise_dist='uniform'):\n",
    "    if noise_dist == 'uniform':\n",
    "        noise = np.random.uniform(-thick / 2., thick / 2., N)\n",
    "    elif noise_dist == 'gaussian':\n",
    "        noise = np.random.normal(0.0, thick, N)\n",
    "    else:\n",
    "        print('error : noise distribution undefined...either uniform or gaussian')\n",
    "        return None\n",
    "    \n",
    "    pts_edge = int((N / period) / 4.)\n",
    "    bottom_x = np.linspace(-rad, rad, pts_edge)\n",
    "    bottom_y = np.ones(pts_edge) * (-rad)\n",
    "    bottom_x = np.tile(bottom_x, period)\n",
    "    bottom_y = np.tile(bottom_y, period) + noise[:int(N/4.)]\n",
    "    \n",
    "    left_x = np.ones(pts_edge) * (-rad)\n",
    "    left_y = np.linspace(-rad, rad, pts_edge)\n",
    "    left_x = np.tile(left_x, period) + noise[int(N/4.) : int(N/2.)]\n",
    "    left_y = np.tile(left_y, period)\n",
    "    \n",
    "    top_x = np.linspace(-rad, rad, pts_edge)\n",
    "    top_y = np.ones(pts_edge) * (rad)\n",
    "    top_x = np.tile(top_x, period)\n",
    "    top_y = np.tile(top_y, period) + noise[int(N/2.) : int(N*3/4.)]\n",
    "    \n",
    "    right_x = np.ones(pts_edge) * (rad)\n",
    "    right_y = np.linspace(-rad, rad, pts_edge)\n",
    "    right_x = np.tile(right_x, period) + noise[int(N*3/4.) :]\n",
    "    right_y = np.tile(right_y, period)\n",
    "\n",
    "    x = np.concatenate((bottom_x, left_x, top_x, right_x), 0)\n",
    "    y = np.concatenate((bottom_y, left_y, top_y, right_y), 0)\n",
    "    pos = np.concatenate((x[None,:], y[None, :]), 0)\n",
    "#     fig = plt.figure(figsize=(5,5))\n",
    "#     ax = fig.add_subplot(1,1,1)\n",
    "#     ax.scatter(x, y)    \n",
    "    \n",
    "    return pos"
   ]
  },
  {
   "cell_type": "code",
   "execution_count": null,
   "metadata": {},
   "outputs": [],
   "source": [
    "pos = square(N, rad, thick, period, noise_dist='uniform')"
   ]
  },
  {
   "cell_type": "code",
   "execution_count": null,
   "metadata": {},
   "outputs": [],
   "source": [
    "def cross(N, rad, thick, period, noise_dist='uniform'):\n",
    "    if noise_dist == 'uniform':\n",
    "        noise = np.random.uniform(-thick / 2., thick / 2., N)\n",
    "    elif noise_dist == 'gaussian':\n",
    "        noise = np.random.normal(0.0, thick, N)\n",
    "    else:\n",
    "        print('error : noise distribution undefined...either uniform or gaussian')\n",
    "        return None\n",
    "    \n",
    "    rotate = np.array([[np.cos(math.pi/4.), - np.sin(math.pi/4.)], [np.sin(math.pi/4.), np.cos(math.pi/4.)]])\n",
    "    pts_edge = int((N / period) / 2.)\n",
    "    vertical_x = np.zeros(pts_edge)\n",
    "    vertical_y = np.linspace(-rad, rad, pts_edge)\n",
    "    vertical_x = np.tile(vertical_x, period) + noise[: int(N/2.)]\n",
    "    vertical_y = np.tile(vertical_y, period)\n",
    "    \n",
    "    horizontal_y = np.zeros(pts_edge)\n",
    "    horizontal_x = np.linspace(-rad, rad, pts_edge)\n",
    "    horizontal_x = np.tile(horizontal_x, period)\n",
    "    horizontal_y = np.tile(horizontal_y, period) + noise[int(N/2.):]\n",
    "    \n",
    "    x = np.concatenate((vertical_x, horizontal_x), 0)\n",
    "    y = np.concatenate((vertical_y, horizontal_y), 0)\n",
    "    pos = np.concatenate((x[None, :], y[None, :]), 0)\n",
    "    pos = np.dot(rotate, pos)\n",
    "#     fig = plt.figure(figsize=(5,5))\n",
    "#     ax = fig.add_subplot(1,1,1)\n",
    "#     ax.scatter(pos[0], pos[1])    \n",
    "    return pos"
   ]
  },
  {
   "cell_type": "code",
   "execution_count": null,
   "metadata": {},
   "outputs": [],
   "source": [
    "pos = cross(N, rad* np.sqrt(2), thick, period, noise_dist='uniform')"
   ]
  },
  {
   "cell_type": "code",
   "execution_count": null,
   "metadata": {},
   "outputs": [],
   "source": [
    "def triangle(N, rad, thick, period, noise_dist='uniform'):\n",
    "    if noise_dist == 'uniform':\n",
    "        noise = np.random.uniform(-thick / 2., thick / 2., N)\n",
    "    elif noise_dist == 'gaussian':\n",
    "        noise = np.random.normal(0.0, thick, N)\n",
    "    else:\n",
    "        print('error : noise distribution undefined...either uniform or gaussian')\n",
    "        return None\n",
    "    \n",
    "    right_rotate = np.array([[np.cos(math.pi/6.), - np.sin(math.pi/6.)], [np.sin(math.pi/6.), np.cos(math.pi/6.)]])\n",
    "    left_rotate = np.array([[np.cos(math.pi/6.), np.sin(math.pi/6.)], [- np.sin(math.pi/6.), np.cos(math.pi/6.)]])\n",
    "    \n",
    "    pts_edge = int((N / period ) / 3.)\n",
    "    bottom_x = np.linspace(-rad, rad, pts_edge)\n",
    "    bottom_y = np.zeros(pts_edge)\n",
    "    bottom_x = np.tile(bottom_x, period)\n",
    "    bottom_y = np.tile(bottom_y, period) + noise[:pts_edge*period]\n",
    "    bottom_pos = np.concatenate((bottom_x[None, :], bottom_y[None, :]), 0)\n",
    "    \n",
    "    left_x = np.zeros(pts_edge)\n",
    "    left_y = np.linspace(0, 2*rad, pts_edge)\n",
    "    left_x = np.tile(left_x, period) + noise[pts_edge*period:pts_edge*period*2]\n",
    "    left_y = np.tile(left_y, period)    \n",
    "    left_pos = np.concatenate((left_x[None, :], left_y[None, :]), 0)\n",
    "    left_pos = np.dot(left_rotate, left_pos)\n",
    "    left_pos[0] = left_pos[0] - rad\n",
    "    \n",
    "    right_x = np.zeros(pts_edge)\n",
    "    right_y = np.linspace(0, 2*rad, pts_edge)\n",
    "    right_x = np.tile(right_x, period) + noise[pts_edge*period*2:pts_edge*period*3]\n",
    "    right_y = np.tile(right_y, period)\n",
    "    right_pos = np.concatenate((right_x[None, :], right_y[None, :]), 0)\n",
    "    right_pos = np.dot(right_rotate, right_pos) \n",
    "    right_pos[0] = right_pos[0] + rad\n",
    "    \n",
    "    pos = np.concatenate((bottom_pos, left_pos, right_pos), -1)\n",
    "    pos[1] = pos[1] - rad * np.sqrt(3) /2 \n",
    "#     fig = plt.figure(figsize=(5,5))\n",
    "#     ax = fig.add_subplot(1,1,1)\n",
    "#     ax.scatter(pos[0], pos[1])  \n",
    "    return pos"
   ]
  },
  {
   "cell_type": "code",
   "execution_count": null,
   "metadata": {},
   "outputs": [],
   "source": [
    "pos = triangle(N, rad, thick, period, noise_dist='uniform')"
   ]
  },
  {
   "cell_type": "code",
   "execution_count": null,
   "metadata": {},
   "outputs": [],
   "source": []
  },
  {
   "cell_type": "code",
   "execution_count": null,
   "metadata": {},
   "outputs": [],
   "source": []
  },
  {
   "cell_type": "code",
   "execution_count": null,
   "metadata": {},
   "outputs": [],
   "source": []
  }
 ],
 "metadata": {
  "kernelspec": {
   "display_name": "Python 3",
   "language": "python",
   "name": "python3"
  },
  "language_info": {
   "codemirror_mode": {
    "name": "ipython",
    "version": 3
   },
   "file_extension": ".py",
   "mimetype": "text/x-python",
   "name": "python",
   "nbconvert_exporter": "python",
   "pygments_lexer": "ipython3",
   "version": "3.6.6"
  }
 },
 "nbformat": 4,
 "nbformat_minor": 2
}
