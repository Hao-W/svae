{
 "cells": [
  {
   "cell_type": "code",
   "execution_count": 1,
   "metadata": {},
   "outputs": [],
   "source": [
    "%matplotlib inline\n",
    "import numpy as np\n",
    "import torch.nn as nn\n",
    "import torch.nn.functional as F\n",
    "import matplotlib.pyplot as plt\n",
    "from plots import *\n",
    "from kls import *\n",
    "from torch.distributions.normal import Normal\n",
    "from torch.distributions.one_hot_categorical import OneHotCategorical as cat\n",
    "from torch.distributions.beta import Beta\n",
    "from torch.distributions.uniform import Uniform\n",
    "from torch.distributions.relaxed_categorical import RelaxedOneHotCategorical as rcat\n",
    "from torch import logsumexp\n",
    "import sys\n",
    "import time\n",
    "import datetime\n",
    "import math"
   ]
  },
  {
   "cell_type": "code",
   "execution_count": 2,
   "metadata": {},
   "outputs": [],
   "source": [
    "Xs = torch.from_numpy(np.load('circles/obs.npy')).float()\n",
    "Xs = Xs.transpose(1,0)\n",
    "\n",
    "N = Xs.shape[0]\n",
    "D = 2\n",
    "## Model Parameters\n",
    "NUM_SAMPLES = 10\n",
    "NUM_HIDDEN = 64\n",
    "NUM_STROKES = 1\n",
    "NUM_LATENTS = 2\n",
    "NUM_OBS = D\n",
    "SGD_STEPS = 25000\n",
    "LEARNING_RATE = 1e-4\n",
    "CUDA = False\n",
    "PATH = 'circles'"
   ]
  },
  {
   "cell_type": "code",
   "execution_count": 3,
   "metadata": {},
   "outputs": [],
   "source": [
    "class Encoder(nn.Module):\n",
    "    def __init__(self, num_obs= D,\n",
    "                       num_hidden=NUM_HIDDEN,\n",
    "                       num_strokes=NUM_STROKES,\n",
    "                       num_latents=NUM_LATENTS):\n",
    "        super(self.__class__, self).__init__()\n",
    "        self.enc_h = nn.Sequential(\n",
    "            nn.Linear(num_obs, num_hidden),\n",
    "            nn.Tanh())\n",
    "        self.enc_log_v = nn.Linear(num_hidden, num_strokes)\n",
    "        self.enc_log_u_a = nn.Sequential(\n",
    "            nn.Linear(num_hidden + num_strokes, int(0.5*num_hidden + num_strokes)),\n",
    "            nn.Tanh(),\n",
    "            nn.Linear(int(0.5*num_hidden + num_strokes), num_latents))\n",
    "        self.enc_log_u_b = nn.Sequential(\n",
    "            nn.Linear(num_hidden + num_strokes, int(0.5*num_hidden + num_strokes)),\n",
    "            nn.Tanh(),\n",
    "            nn.Linear(int(0.5*num_hidden + num_strokes), num_latents))\n",
    "\n",
    "    def forward(self, obs, num_samples):\n",
    "        h = self.enc_h(obs) # (B, H)\n",
    "        q_v = rcat(temperature=torch.Tensor([0.66]), logits=self.enc_log_v(h))\n",
    "        v = q_v.sample((num_samples,)) # (S, B, K)\n",
    "        log_q_v = q_v.log_prob(v)\n",
    "        h_v = torch.cat((h.repeat(num_samples,1,1), v), -1)\n",
    "        a = torch.exp(self.enc_log_u_a(h_v)) # (S, B, 1)\n",
    "        b = torch.exp(self.enc_log_u_b(h_v)) # (S, B, 1)\n",
    "        q_u = Beta(a, b)\n",
    "        u = q_u.sample() # (S, B, 1)\n",
    "        log_q_u = q_u.log_prob(u).sum(-1)\n",
    "        return u, v, log_q_v + log_q_u\n",
    "    \n",
    "    \n",
    "class Decoder(nn.Module):\n",
    "    def __init__(self, num_obs=NUM_OBS,\n",
    "                       num_hidden=NUM_HIDDEN,\n",
    "                       num_strokes=NUM_STROKES,\n",
    "                       num_latents=NUM_LATENTS):\n",
    "        super(self.__class__, self).__init__()\n",
    "\n",
    "        self.x_sigma = 0.01 * torch.ones((N, num_obs))\n",
    "        self.dec_mu = nn.Sequential(\n",
    "            nn.Linear(num_latents, num_hidden),\n",
    "            nn.Tanh(),\n",
    "            nn.Linear(num_hidden, num_obs))\n",
    "\n",
    "    def forward(self, u, v, obs, num_samples):\n",
    "        mu = self.dec_mu(u) # (S, B, K+1) -> (S, B, O)\n",
    "        p_x = Normal(mu, self.x_sigma.repeat(num_samples, 1, 1)) # (S, B, O)\n",
    "        log_p_x = p_x.log_prob(obs).sum(-1) # (S, B)\n",
    "        return mu, log_p_x"
   ]
  },
  {
   "cell_type": "code",
   "execution_count": 4,
   "metadata": {},
   "outputs": [],
   "source": [
    "def weights_init(m):\n",
    "    classname = m.__class__.__name__\n",
    "    if classname.find('Linear') != -1:\n",
    "        m.weight.data.normal_(0.0, 1e-2)     \n",
    "        \n",
    "def initialize():\n",
    "    enc = Encoder()\n",
    "    dec = Decoder()\n",
    "#     enc.apply(weights_init)\n",
    "    opt1 =  torch.optim.Adam(list(enc.parameters()),lr=LEARNING_RATE, betas=(0.9, 0.99)) \n",
    "    opt2 = torch.optim.Adam(list(dec.parameters()),lr=LEARNING_RATE, betas=(0.9, 0.99))\n",
    "    return enc, dec, opt1, opt2\n",
    "enc, dec, opt1, opt2 = initialize()"
   ]
  },
  {
   "cell_type": "code",
   "execution_count": null,
   "metadata": {},
   "outputs": [],
   "source": [
    "def oneshot(x, N, D, num_samples, num_strokes):\n",
    "    log_p_xs = torch.zeros((num_samples, N))\n",
    "    log_prs = torch.zeros((num_samples, N))\n",
    "    X_mus = torch.zeros((num_samples, N, D))\n",
    "    u, v, log_q = enc(x, num_samples)\n",
    "    mu, log_p_x = dec(u, v, x, num_samples)\n",
    "    pr_u = Uniform(torch.zeros(N, NUM_LATENTS), torch.ones(N, NUM_LATENTS))\n",
    "    log_pr_u = pr_u.log_prob(u).sum(-1)\n",
    "    pr_v = rcat(temperature=torch.Tensor([0.66]), probs=torch.ones(num_strokes)*(1./ num_strokes))\n",
    "    log_pr_v = pr_v.log_prob(v)\n",
    "    log_weights = (log_pr_v + log_pr_u + log_p_x - log_q)\n",
    "    weights = torch.exp(log_weights - logsumexp(log_weights, 0)).detach()\n",
    "    eubo = torch.mul(weights, log_weights).sum(0).mean()\n",
    "    elbo = log_weights.mean(0).mean()\n",
    "\n",
    "    return eubo, elbo, mu, u, v"
   ]
  },
  {
   "cell_type": "code",
   "execution_count": null,
   "metadata": {},
   "outputs": [
    {
     "name": "stdout",
     "output_type": "stream",
     "text": [
      "SGDstep=0, EUBO=-4345.371, ELBO=-5196.475 (0s)\n",
      "SGDstep=100, EUBO=-3634.867, ELBO=-4486.538 (6s)\n",
      "SGDstep=200, EUBO=-2546.388, ELBO=-3431.880 (2s)\n",
      "SGDstep=300, EUBO=-1771.319, ELBO=-2526.037 (2s)\n",
      "SGDstep=400, EUBO=-1233.794, ELBO=-1734.951 (2s)\n",
      "SGDstep=500, EUBO=-848.599, ELBO=-1247.458 (2s)\n",
      "SGDstep=600, EUBO=-561.517, ELBO=-883.395 (2s)\n",
      "SGDstep=700, EUBO=-363.203, ELBO=-629.481 (2s)\n",
      "SGDstep=800, EUBO=-230.020, ELBO=-471.402 (2s)\n",
      "SGDstep=900, EUBO=-144.070, ELBO=-363.482 (2s)\n",
      "SGDstep=1000, EUBO=-94.557, ELBO=-273.519 (2s)\n",
      "SGDstep=1100, EUBO=-65.577, ELBO=-227.589 (2s)\n",
      "SGDstep=1200, EUBO=-47.165, ELBO=-173.406 (2s)\n",
      "SGDstep=1300, EUBO=-33.415, ELBO=-129.951 (2s)\n",
      "SGDstep=1400, EUBO=-24.949, ELBO=-109.328 (2s)\n",
      "SGDstep=1500, EUBO=-18.035, ELBO=-84.573 (2s)\n",
      "SGDstep=1600, EUBO=-13.625, ELBO=-67.836 (2s)\n",
      "SGDstep=1700, EUBO=-9.751, ELBO=-56.903 (2s)\n",
      "SGDstep=1800, EUBO=-7.063, ELBO=-49.228 (2s)\n",
      "SGDstep=1900, EUBO=-5.986, ELBO=-40.655 (2s)\n",
      "SGDstep=2000, EUBO=-4.396, ELBO=-33.448 (2s)\n",
      "SGDstep=2100, EUBO=-4.010, ELBO=-29.468 (2s)\n",
      "SGDstep=2200, EUBO=-3.724, ELBO=-27.138 (2s)\n",
      "SGDstep=2300, EUBO=-2.501, ELBO=-23.608 (2s)\n",
      "SGDstep=2400, EUBO=-2.728, ELBO=-23.791 (2s)\n",
      "SGDstep=2500, EUBO=-3.424, ELBO=-24.371 (2s)\n",
      "SGDstep=2600, EUBO=-3.380, ELBO=-20.869 (2s)\n",
      "SGDstep=2700, EUBO=-2.236, ELBO=-19.046 (2s)\n",
      "SGDstep=2800, EUBO=-1.516, ELBO=-17.295 (2s)\n",
      "SGDstep=2900, EUBO=-1.625, ELBO=-17.221 (2s)\n",
      "SGDstep=3000, EUBO=-1.718, ELBO=-16.807 (2s)\n",
      "SGDstep=3100, EUBO=-2.525, ELBO=-20.134 (2s)\n",
      "SGDstep=3200, EUBO=-2.548, ELBO=-18.468 (2s)\n"
     ]
    }
   ],
   "source": [
    "ELBOs = []\n",
    "EUBOs = []\n",
    "time_start = time.time()\n",
    "\n",
    "for step in range(SGD_STEPS):\n",
    "    indices = torch.randperm(N)\n",
    "    Xs_shuffle = Xs[indices]\n",
    "    opt1.zero_grad()\n",
    "    eubo, elbo, mu, u, v = oneshot(Xs_shuffle, N, D, NUM_SAMPLES, NUM_STROKES)\n",
    "    eubo.backward()\n",
    "    opt1.step()\n",
    "    opt2.zero_grad()\n",
    "    eubo, elbo, mu, u, v = oneshot(Xs_shuffle, N, D, NUM_SAMPLES, NUM_STROKES)\n",
    "    (-elbo).backward()\n",
    "    opt2.step()\n",
    "    \n",
    "    ELBOs.append(elbo.item())\n",
    "    EUBOs.append(eubo.item())\n",
    "    \n",
    "    if step%100 == 0:\n",
    "        time_end = time.time()  \n",
    "        print('SGDstep=%d, EUBO=%.3f, ELBO=%.3f (%ds)' % (step, eubo, elbo, time_end - time_start))\n",
    "        time_start = time.time()"
   ]
  },
  {
   "cell_type": "code",
   "execution_count": null,
   "metadata": {},
   "outputs": [],
   "source": [
    "eubo, elbo, mu, u, v = oneshot(Xs, N, D, NUM_SAMPLES, NUM_STROKES)"
   ]
  },
  {
   "cell_type": "code",
   "execution_count": null,
   "metadata": {},
   "outputs": [],
   "source": [
    "T = 40\n",
    "fig = plt.figure(figsize=(18,5))\n",
    "ax1 = fig.add_subplot(1,3,1)\n",
    "ax2 = fig.add_subplot(1,3,2)   \n",
    "ax3 = fig.add_subplot(1,3,3)   \n",
    "\n",
    "ax1.scatter(Xs[:T, 0].data.numpy(), Xs[:T, 1].data.numpy())\n",
    "ax1.set_xlim([-3,3])\n",
    "ax1.set_ylim([-3,3])\n",
    "ax1.set_title('data')\n",
    "          \n",
    "vv = v.mean(0).argmax(-1)\n",
    "ax2.plot(vv[:T].data.numpy(), 'ro')\n",
    "ax2.set_title('stroke category')\n",
    "\n",
    "uu = u.mean(0)\n",
    "ax3.plot(uu[:T, 0].data.numpy(), 'go')\n",
    "ax3.plot(uu[:T, 1].data.numpy(), 'go')"
   ]
  },
  {
   "cell_type": "code",
   "execution_count": null,
   "metadata": {},
   "outputs": [],
   "source": [
    "v.shape"
   ]
  },
  {
   "cell_type": "code",
   "execution_count": null,
   "metadata": {},
   "outputs": [],
   "source": [
    "T = 20\n",
    "plt.scatter(Xs[:T, 0].data.numpy(), Xs[:T, 1].data.numpy())\n",
    "plt.xlim([-3,3])\n",
    "plt.ylim([-3,3])"
   ]
  },
  {
   "cell_type": "code",
   "execution_count": null,
   "metadata": {},
   "outputs": [],
   "source": [
    "for s in range(NUM_SAMPLES):\n",
    "    fig = plt.figure(figsize=(12,5))\n",
    "    ax1 = fig.add_subplot(1,2,1)\n",
    "    ax2 = fig.add_subplot(1,2,2)   \n",
    "    ax1.scatter(mu[s, :, 0].data.numpy(), mu[s, :, 1].data.numpy())\n",
    "#     ax2.scatter(Xs_shuffle[:, 0].data.numpy(), Xs_shuffle[:, 1].data.numpy())\n",
    "    ax1.set_xlim([-3,3])\n",
    "    ax1.set_ylim([-3,3])\n"
   ]
  },
  {
   "cell_type": "code",
   "execution_count": null,
   "metadata": {},
   "outputs": [],
   "source": [
    "a = torch.linspace(0.0, 0.2, 100)[:, None]\n",
    "angles = dec.dec_angles(a) \n",
    "rads = dec.dec_rad(a)\n",
    "x_mus = angles * rads\n",
    "\n",
    "fig = plt.figure(figsize=(5,5))\n",
    "ax1 = fig.add_subplot(1,1,1)\n",
    "ax1.scatter(x_mus[:, 0].data.numpy(), x_mus[:, 1].data.numpy())\n",
    "ax1.set_xlim([-3,3])\n",
    "ax1.set_ylim([-3,3])"
   ]
  },
  {
   "cell_type": "code",
   "execution_count": null,
   "metadata": {},
   "outputs": [],
   "source": []
  }
 ],
 "metadata": {
  "kernelspec": {
   "display_name": "Python 3",
   "language": "python",
   "name": "python3"
  },
  "language_info": {
   "codemirror_mode": {
    "name": "ipython",
    "version": 3
   },
   "file_extension": ".py",
   "mimetype": "text/x-python",
   "name": "python",
   "nbconvert_exporter": "python",
   "pygments_lexer": "ipython3",
   "version": "3.6.6"
  }
 },
 "nbformat": 4,
 "nbformat_minor": 2
}
