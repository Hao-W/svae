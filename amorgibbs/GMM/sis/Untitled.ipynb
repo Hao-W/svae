{
 "cells": [
  {
   "cell_type": "code",
   "execution_count": 2,
   "metadata": {},
   "outputs": [],
   "source": [
    "from torch.distributions.categorical import Categorical\n",
    "import torch\n",
    "import torch.nn.functional as F"
   ]
  },
  {
   "cell_type": "code",
   "execution_count": 34,
   "metadata": {},
   "outputs": [],
   "source": [
    "aa = torch.randn((10, 5))"
   ]
  },
  {
   "cell_type": "code",
   "execution_count": 35,
   "metadata": {},
   "outputs": [],
   "source": [
    "bb = F.softmax(aa, -1)\n",
    "ancesters = Categorical(bb).sample((5,))\n",
    "dd = torch.arange(50).view(5, 10)"
   ]
  },
  {
   "cell_type": "code",
   "execution_count": 37,
   "metadata": {},
   "outputs": [
    {
     "data": {
      "text/plain": [
       "tensor([[ 0,  1,  2,  3,  4,  5,  6,  7,  8,  9],\n",
       "        [10, 11, 12, 13, 14, 15, 16, 17, 18, 19],\n",
       "        [20, 21, 22, 23, 24, 25, 26, 27, 28, 29],\n",
       "        [30, 31, 32, 33, 34, 35, 36, 37, 38, 39],\n",
       "        [40, 41, 42, 43, 44, 45, 46, 47, 48, 49]])"
      ]
     },
     "execution_count": 37,
     "metadata": {},
     "output_type": "execute_result"
    }
   ],
   "source": [
    "dd."
   ]
  },
  {
   "cell_type": "code",
   "execution_count": 38,
   "metadata": {},
   "outputs": [
    {
     "data": {
      "text/plain": [
       "tensor([[4, 3, 4, 2, 1, 3, 0, 3, 4, 1],\n",
       "        [4, 1, 0, 2, 2, 3, 3, 4, 1, 1],\n",
       "        [4, 3, 2, 0, 2, 1, 0, 4, 2, 1],\n",
       "        [4, 1, 0, 1, 1, 3, 4, 1, 2, 2],\n",
       "        [0, 4, 0, 0, 1, 4, 2, 4, 2, 1]])"
      ]
     },
     "execution_count": 38,
     "metadata": {},
     "output_type": "execute_result"
    }
   ],
   "source": [
    "ancesters"
   ]
  },
  {
   "cell_type": "code",
   "execution_count": 41,
   "metadata": {},
   "outputs": [
    {
     "data": {
      "text/plain": [
       "tensor([[40, 31, 42, 23, 14, 35,  6, 37, 48, 19],\n",
       "        [40, 11,  2, 23, 24, 35, 36, 47, 18, 19],\n",
       "        [40, 31, 22,  3, 24, 15,  6, 47, 28, 19],\n",
       "        [40, 11,  2, 13, 14, 35, 46, 17, 28, 29],\n",
       "        [ 0, 41,  2,  3, 14, 45, 26, 47, 28, 19]])"
      ]
     },
     "execution_count": 41,
     "metadata": {},
     "output_type": "execute_result"
    }
   ],
   "source": [
    "torch.gather(dd, 0, ancesters)"
   ]
  },
  {
   "cell_type": "code",
   "execution_count": 40,
   "metadata": {},
   "outputs": [
    {
     "data": {
      "text/plain": [
       "tensor([[40, 40, 40, 40,  0],\n",
       "        [31, 11, 31, 11, 41],\n",
       "        [42,  2, 22,  2,  2],\n",
       "        [23, 23,  3, 13,  3],\n",
       "        [14, 24, 24, 14, 14],\n",
       "        [35, 35, 15, 35, 45],\n",
       "        [ 6, 36,  6, 46, 26],\n",
       "        [37, 47, 47, 17, 47],\n",
       "        [48, 18, 28, 28, 28],\n",
       "        [19, 19, 19, 29, 19]])"
      ]
     },
     "execution_count": 40,
     "metadata": {},
     "output_type": "execute_result"
    }
   ],
   "source": [
    "torch.gather(dd.transpose(0,1), 1, ancesters.transpose(0,1))"
   ]
  },
  {
   "cell_type": "code",
   "execution_count": null,
   "metadata": {},
   "outputs": [],
   "source": []
  }
 ],
 "metadata": {
  "kernelspec": {
   "display_name": "Python 3",
   "language": "python",
   "name": "python3"
  },
  "language_info": {
   "codemirror_mode": {
    "name": "ipython",
    "version": 3
   },
   "file_extension": ".py",
   "mimetype": "text/x-python",
   "name": "python",
   "nbconvert_exporter": "python",
   "pygments_lexer": "ipython3",
   "version": "3.6.7"
  }
 },
 "nbformat": 4,
 "nbformat_minor": 2
}
