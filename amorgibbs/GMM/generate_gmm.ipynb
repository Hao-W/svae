{
 "cells": [
  {
   "cell_type": "code",
   "execution_count": 5,
   "metadata": {},
   "outputs": [],
   "source": [
    "import numpy as np\n",
    "import torch\n",
    "import matplotlib.pyplot as plt\n",
    "%matplotlib inline\n",
    "from data_gmm import *\n",
    "from plots import *\n",
    "import math\n",
    "from torch.distributions.uniform import Uniform"
   ]
  },
  {
   "cell_type": "code",
   "execution_count": 6,
   "metadata": {},
   "outputs": [
    {
     "name": "stdout",
     "output_type": "stream",
     "text": [
      "0\n",
      "100\n",
      "200\n",
      "300\n",
      "400\n",
      "500\n",
      "600\n",
      "700\n",
      "800\n",
      "900\n",
      "1000\n",
      "1100\n",
      "1200\n",
      "1300\n",
      "1400\n",
      "1500\n",
      "1600\n",
      "1700\n",
      "1800\n",
      "1900\n"
     ]
    }
   ],
   "source": [
    "T = 50\n",
    "K = 4\n",
    "D = 2\n",
    "num_seqs = 2000\n",
    "radius =  5.0\n",
    "Ys = np.zeros((num_seqs, T, D))\n",
    "Zs_true = np.zeros((num_seqs, T, K))\n",
    "Mus = np.zeros((num_seqs, K, D))\n",
    "Covs = np.zeros((num_seqs, K, D)) ## diagonal covarince\n",
    "boundary = 8.0\n",
    "for n in range(num_seqs):\n",
    "    ind = Uniform(0, 2*math.pi).sample().item()\n",
    "    Y, mus_true, sigmas_true, Z, Pi = sampling_gmm_uniform(T, K, D, boundary)\n",
    "#     covs_full = torch.zeros((K, D, D))\n",
    "#     for k in range(K):\n",
    "#         covs_full[k] = torch.diag(sigmas_true[k])\n",
    "#     plot_clusters(Y, mus_true, covs_full, K)\n",
    "    Ys[n] = Y.data.numpy()\n",
    "    Zs_true[n] = Z.data.numpy()\n",
    "    Mus[n] = mus_true.data.numpy()\n",
    "    Covs[n] = sigmas_true.data.numpy()\n",
    "    if n % 100 == 0:\n",
    "        print(n)"
   ]
  },
  {
   "cell_type": "code",
   "execution_count": 7,
   "metadata": {},
   "outputs": [],
   "source": [
    "np.save('gmm_dataset2/sequences', Ys)\n",
    "np.save('gmm_dataset2/states', Zs_true)\n",
    "np.save('gmm_dataset2/means', Mus)\n",
    "np.save('gmm_dataset2/sigmas', Covs)\n",
    "np.save('gmm_dataset2/init', Pi.data.numpy())"
   ]
  },
  {
   "cell_type": "code",
   "execution_count": null,
   "metadata": {},
   "outputs": [],
   "source": [
    "plot_clusters(Y, mus_true, covs_true)"
   ]
  },
  {
   "cell_type": "code",
   "execution_count": null,
   "metadata": {},
   "outputs": [],
   "source": [
    "samples = Gamma(torch.ones(D)*3, torch.ones(D)*3).sample((1000,))"
   ]
  },
  {
   "cell_type": "code",
   "execution_count": null,
   "metadata": {},
   "outputs": [],
   "source": [
    "plt.scatter(1./ torch.sqrt(samples).data.numpy()[:, 0], 1. / torch.sqrt(samples).data.numpy()[:, 1])\n",
    "plt.xlim([0, 10])\n",
    "plt.ylim([0, 10])"
   ]
  },
  {
   "cell_type": "code",
   "execution_count": null,
   "metadata": {},
   "outputs": [],
   "source": [
    "mus_true = torch.zeros((K, D)).float()\n",
    "for k in range(K):\n",
    "    if k == 0 :\n",
    "    mus_true[k] = Uniform(0, boundary).sample((2,)) * torch.from_numpy(np.random.choice([-1, 1], 2)).float()\n"
   ]
  },
  {
   "cell_type": "code",
   "execution_count": null,
   "metadata": {},
   "outputs": [],
   "source": [
    "torch.norm(mus_true - next_mus, dim=-1)"
   ]
  },
  {
   "cell_type": "code",
   "execution_count": null,
   "metadata": {},
   "outputs": [],
   "source": [
    "torch.norm(next_mus)"
   ]
  },
  {
   "cell_type": "code",
   "execution_count": null,
   "metadata": {},
   "outputs": [],
   "source": []
  }
 ],
 "metadata": {
  "kernelspec": {
   "display_name": "Python 3",
   "language": "python",
   "name": "python3"
  },
  "language_info": {
   "codemirror_mode": {
    "name": "ipython",
    "version": 3
   },
   "file_extension": ".py",
   "mimetype": "text/x-python",
   "name": "python",
   "nbconvert_exporter": "python",
   "pygments_lexer": "ipython3",
   "version": "3.6.6"
  }
 },
 "nbformat": 4,
 "nbformat_minor": 2
}
