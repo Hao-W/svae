{
 "cells": [
  {
   "cell_type": "code",
   "execution_count": 1,
   "metadata": {},
   "outputs": [],
   "source": [
    "import torch\n",
    "from torch.distributions.multivariate_normal import MultivariateNormal\n",
    "from torch.distributions.multinomial import Multinomial\n",
    "import matplotlib.pyplot as plt\n",
    "from matplotlib.patches import Ellipse\n",
    "import sys\n",
    "sys.path.append('/home/hao/Research/probtorch/')\n",
    "import probtorch\n",
    "from probtorch.util import log_sum_exp\n",
    "from util_hmm_pytorch import *\n",
    "from util_data import *\n",
    "import numpy as np\n",
    "\n",
    "# output_notebook()"
   ]
  },
  {
   "cell_type": "code",
   "execution_count": 26,
   "metadata": {},
   "outputs": [],
   "source": [
    "K = 4\n",
    "N = 500\n",
    "D = 2\n",
    "# Y = sampling()\n",
    "# plot_samples(Y)\n",
    "# Y = torch.from_numpy(Y)\n",
    "iterations = 100\n",
    "T = 500\n",
    "dt = 1\n",
    "Boundary = 6 ## unit box is amplified by this value, centered at origin\n",
    "signal_noise_ratio = 0.2 # the noise is multiplied by this param\n",
    "\n",
    "init_state = np.random.random(4) * 8\n",
    "# init_state = np.array([0,0,0.2,-0.1])\n",
    "Y, A_true, STATE = generate_data(T, dt, init_state, Boundary, signal_noise_ratio)\n",
    "Y = torch.from_numpy(Y).float()\n",
    "N, D = Y.shape"
   ]
  },
  {
   "cell_type": "code",
   "execution_count": 32,
   "metadata": {},
   "outputs": [],
   "source": [
    "## prior\n",
    "alpha_init_0 = torch.ones(K)\n",
    "# L = torch.ones((K, K))  / (2 *(K-1))\n",
    "# alpha_trans_0 = torch.cat((torch.cat((torch.eye(4)*0.5, torch.ones((4, K-4)) * (0.5 / (K-4))), 1),\\\n",
    "# torch.ones((K-4, K)) * (1.0 / K)), 0).double()\n",
    "alpha_trans_0 = torch.ones((K, K))\n",
    "m_0 = Y.mean(0)\n",
    "beta_0 = 1.0\n",
    "nu_0 = 4.0\n",
    "W_0 =  (nu_0-D-1) * torch.mm((Y - m_0).transpose(0,1), (Y - m_0)) / (N)\n",
    "cov = torch.from_numpy(np.cov(Y.transpose(0,1))).float()\n",
    "## plot transition prior\n",
    "# a = alpha_trans_0.data.numpy()"
   ]
  },
  {
   "cell_type": "code",
   "execution_count": 33,
   "metadata": {},
   "outputs": [],
   "source": [
    "alpha_init_hat = alpha_init_0\n",
    "alpha_trans_hat = alpha_trans_0\n",
    "m_ks = MultivariateNormal(m_0, cov).sample((K,))\n",
    "beta_ks = torch.ones(K) * beta_0\n",
    "nu_ks = torch.ones(K) * nu_0\n",
    "W_ks = W_0.repeat(K, 1, 1)\n",
    "# cov_ks = np.tile(cov,(K,1,1)) "
   ]
  },
  {
   "cell_type": "code",
   "execution_count": 34,
   "metadata": {},
   "outputs": [
    {
     "name": "stdout",
     "output_type": "stream",
     "text": [
      "Iteration:1\n",
      "Iteration:2\n",
      "Iteration:3\n",
      "Iteration:4\n",
      "Iteration:5\n",
      "Iteration:6\n",
      "Iteration:7\n",
      "Iteration:8\n",
      "Iteration:9\n",
      "Iteration:10\n",
      "Iteration:11\n",
      "Iteration:12\n",
      "Iteration:13\n",
      "Iteration:14\n",
      "Iteration:15\n",
      "Iteration:16\n",
      "Iteration:17\n",
      "Iteration:18\n",
      "Iteration:19\n",
      "Iteration:20\n",
      "Iteration:21\n",
      "Iteration:22\n",
      "Iteration:23\n",
      "Iteration:24\n",
      "Iteration:25\n",
      "Iteration:26\n",
      "Iteration:27\n",
      "Iteration:28\n",
      "Iteration:29\n",
      "Iteration:30\n",
      "Iteration:31\n",
      "Iteration:32\n",
      "Iteration:33\n",
      "Iteration:34\n",
      "Iteration:35\n",
      "Iteration:36\n",
      "Iteration:37\n",
      "Iteration:38\n",
      "Iteration:39\n",
      "Iteration:40\n",
      "Iteration:41\n",
      "Iteration:42\n",
      "Iteration:43\n",
      "Iteration:44\n",
      "Iteration:45\n",
      "Iteration:46\n",
      "Iteration:47\n",
      "Iteration:48\n",
      "Iteration:49\n",
      "Iteration:50\n",
      "Iteration:51\n",
      "Iteration:52\n",
      "Iteration:53\n",
      "Iteration:54\n",
      "Iteration:55\n",
      "Iteration:56\n",
      "Iteration:57\n",
      "Iteration:58\n",
      "Iteration:59\n",
      "Iteration:60\n",
      "Iteration:61\n",
      "Iteration:62\n",
      "Iteration:63\n",
      "Iteration:64\n",
      "Iteration:65\n",
      "Iteration:66\n",
      "Iteration:67\n",
      "Iteration:68\n",
      "Iteration:69\n",
      "Iteration:70\n",
      "Iteration:71\n",
      "Iteration:72\n",
      "Iteration:73\n",
      "Iteration:74\n",
      "Iteration:75\n",
      "Iteration:76\n",
      "Iteration:77\n",
      "Iteration:78\n",
      "Iteration:79\n",
      "Iteration:80\n",
      "Iteration:81\n",
      "Iteration:82\n",
      "Iteration:83\n",
      "Iteration:84\n",
      "Iteration:85\n",
      "Iteration:86\n",
      "Iteration:87\n",
      "Iteration:88\n",
      "Iteration:89\n",
      "Iteration:90\n",
      "Iteration:91\n",
      "Iteration:92\n",
      "Iteration:93\n",
      "Iteration:94\n",
      "Iteration:95\n",
      "Iteration:96\n",
      "Iteration:97\n",
      "Iteration:98\n",
      "Iteration:99\n",
      "Iteration:100\n"
     ]
    }
   ],
   "source": [
    "epoch_elbos = []\n",
    "for i in range(iterations):\n",
    "    ## VBE step\n",
    "    log_gammas, log_eta = vbE_step(alpha_init_hat, alpha_trans_hat, nu_ks, W_ks, m_ks, beta_ks, Y, N, D, K)\n",
    "    N_ks, Y_ks, S_ks = stats(log_gammas, Y, D, K)\n",
    "    ## VBM step\n",
    "    alpha_init_hat, alpha_trans_hat, nu_ks, W_ks, m_ks, beta_ks, cov_ks = vbM_step(log_eta, alpha_init_0, alpha_trans_0, nu_0, W_0, m_0, beta_0, N_ks, Y_ks, S_ks, N, D, K)\n",
    "#     ## elbokl_niw(nu_0, W_0, nu_ks, W_ks, D, K)\n",
    "#     epoch_elbo = elbo(log_gammas, log_eta, alpha_init_0, alpha_trans_0, nu_0, W_0, m_0, beta_0, N_ks, Y_ks, S_ks, alpha_init_hat, alpha_trans_hat, nu_ks, W_ks, m_ks, beta_ks, Y, N, D, K)\n",
    "#     epoch_elbos.append(epoch_elbo)\n",
    "    print('Iteration:%d' % (i+1))\n",
    "# # final_covs = cov_ks ## mean of inverse wishart\n",
    "# # final_mus = m_ks ## mean of gaussian"
   ]
  },
  {
   "cell_type": "code",
   "execution_count": 22,
   "metadata": {},
   "outputs": [],
   "source": [
    "a = output_transition(alpha_trans_hat)\n",
    "# fig=plt.figure(figsize=(8, 8))\n",
    "# fig.add_subplot(1, 2, 1)\n",
    "# plt.imshow(a, cmap='viridis', vmin=0, vmax=1.0)\n",
    "# # fig.add_subplot(1, 2, 2)\n",
    "# plt.imshow(A_true, cmap='viridis', vmin=0, vmax=1)"
   ]
  },
  {
   "cell_type": "code",
   "execution_count": 35,
   "metadata": {},
   "outputs": [
    {
     "ename": "RuntimeError",
     "evalue": "invalid argument 2: invalid multinomial distribution (encountering probability entry < 0) at /opt/conda/conda-bld/pytorch_1544174967633/work/aten/src/TH/generic/THTensorRandom.cpp:298",
     "output_type": "error",
     "traceback": [
      "\u001b[0;31m---------------------------------------------------------------------------\u001b[0m",
      "\u001b[0;31mRuntimeError\u001b[0m                              Traceback (most recent call last)",
      "\u001b[0;32m<ipython-input-35-a988734c3c39>\u001b[0m in \u001b[0;36m<module>\u001b[0;34m()\u001b[0m\n\u001b[1;32m      2\u001b[0m \u001b[0mfinal_init_prob\u001b[0m \u001b[0;34m=\u001b[0m \u001b[0malpha_init_hat\u001b[0m \u001b[0;34m/\u001b[0m \u001b[0malpha_init_hat\u001b[0m\u001b[0;34m.\u001b[0m\u001b[0msum\u001b[0m\u001b[0;34m(\u001b[0m\u001b[0;34m)\u001b[0m\u001b[0;34m\u001b[0m\u001b[0;34m\u001b[0m\u001b[0m\n\u001b[1;32m      3\u001b[0m \u001b[0minit_obj\u001b[0m \u001b[0;34m=\u001b[0m \u001b[0mMultinomial\u001b[0m\u001b[0;34m(\u001b[0m\u001b[0;36m1\u001b[0m\u001b[0;34m,\u001b[0m \u001b[0mfinal_init_prob\u001b[0m\u001b[0;34m)\u001b[0m\u001b[0;34m\u001b[0m\u001b[0;34m\u001b[0m\u001b[0m\n\u001b[0;32m----> 4\u001b[0;31m \u001b[0minit_hidden\u001b[0m \u001b[0;34m=\u001b[0m \u001b[0mtorch\u001b[0m\u001b[0;34m.\u001b[0m\u001b[0mnonzero\u001b[0m\u001b[0;34m(\u001b[0m\u001b[0minit_obj\u001b[0m\u001b[0;34m.\u001b[0m\u001b[0msample\u001b[0m\u001b[0;34m(\u001b[0m\u001b[0;34m)\u001b[0m\u001b[0;34m)\u001b[0m\u001b[0;34m.\u001b[0m\u001b[0mitem\u001b[0m\u001b[0;34m(\u001b[0m\u001b[0;34m)\u001b[0m\u001b[0;34m\u001b[0m\u001b[0;34m\u001b[0m\u001b[0m\n\u001b[0m\u001b[1;32m      5\u001b[0m \u001b[0;31m## transition matrix\u001b[0m\u001b[0;34m\u001b[0m\u001b[0;34m\u001b[0m\u001b[0;34m\u001b[0m\u001b[0m\n\u001b[1;32m      6\u001b[0m \u001b[0mA\u001b[0m \u001b[0;34m=\u001b[0m \u001b[0;34m(\u001b[0m\u001b[0malpha_trans_hat\u001b[0m\u001b[0;34m.\u001b[0m\u001b[0mtranspose\u001b[0m\u001b[0;34m(\u001b[0m\u001b[0;36m0\u001b[0m\u001b[0;34m,\u001b[0m\u001b[0;36m1\u001b[0m\u001b[0;34m)\u001b[0m \u001b[0;34m/\u001b[0m \u001b[0malpha_trans_hat\u001b[0m\u001b[0;34m.\u001b[0m\u001b[0msum\u001b[0m\u001b[0;34m(\u001b[0m\u001b[0;36m1\u001b[0m\u001b[0;34m)\u001b[0m\u001b[0;34m)\u001b[0m\u001b[0;34m.\u001b[0m\u001b[0mtranspose\u001b[0m\u001b[0;34m(\u001b[0m\u001b[0;36m0\u001b[0m\u001b[0;34m,\u001b[0m\u001b[0;36m1\u001b[0m\u001b[0;34m)\u001b[0m\u001b[0;34m\u001b[0m\u001b[0;34m\u001b[0m\u001b[0m\n",
      "\u001b[0;32m~/anaconda3/envs/dev/lib/python3.6/site-packages/torch/distributions/multinomial.py\u001b[0m in \u001b[0;36msample\u001b[0;34m(self, sample_shape)\u001b[0m\n\u001b[1;32m     89\u001b[0m     \u001b[0;32mdef\u001b[0m \u001b[0msample\u001b[0m\u001b[0;34m(\u001b[0m\u001b[0mself\u001b[0m\u001b[0;34m,\u001b[0m \u001b[0msample_shape\u001b[0m\u001b[0;34m=\u001b[0m\u001b[0mtorch\u001b[0m\u001b[0;34m.\u001b[0m\u001b[0mSize\u001b[0m\u001b[0;34m(\u001b[0m\u001b[0;34m)\u001b[0m\u001b[0;34m)\u001b[0m\u001b[0;34m:\u001b[0m\u001b[0;34m\u001b[0m\u001b[0;34m\u001b[0m\u001b[0m\n\u001b[1;32m     90\u001b[0m         \u001b[0msample_shape\u001b[0m \u001b[0;34m=\u001b[0m \u001b[0mtorch\u001b[0m\u001b[0;34m.\u001b[0m\u001b[0mSize\u001b[0m\u001b[0;34m(\u001b[0m\u001b[0msample_shape\u001b[0m\u001b[0;34m)\u001b[0m\u001b[0;34m\u001b[0m\u001b[0;34m\u001b[0m\u001b[0m\n\u001b[0;32m---> 91\u001b[0;31m         \u001b[0msamples\u001b[0m \u001b[0;34m=\u001b[0m \u001b[0mself\u001b[0m\u001b[0;34m.\u001b[0m\u001b[0m_categorical\u001b[0m\u001b[0;34m.\u001b[0m\u001b[0msample\u001b[0m\u001b[0;34m(\u001b[0m\u001b[0mtorch\u001b[0m\u001b[0;34m.\u001b[0m\u001b[0mSize\u001b[0m\u001b[0;34m(\u001b[0m\u001b[0;34m(\u001b[0m\u001b[0mself\u001b[0m\u001b[0;34m.\u001b[0m\u001b[0mtotal_count\u001b[0m\u001b[0;34m,\u001b[0m\u001b[0;34m)\u001b[0m\u001b[0;34m)\u001b[0m \u001b[0;34m+\u001b[0m \u001b[0msample_shape\u001b[0m\u001b[0;34m)\u001b[0m\u001b[0;34m\u001b[0m\u001b[0;34m\u001b[0m\u001b[0m\n\u001b[0m\u001b[1;32m     92\u001b[0m         \u001b[0;31m# samples.shape is (total_count, sample_shape, batch_shape), need to change it to\u001b[0m\u001b[0;34m\u001b[0m\u001b[0;34m\u001b[0m\u001b[0;34m\u001b[0m\u001b[0m\n\u001b[1;32m     93\u001b[0m         \u001b[0;31m# (sample_shape, batch_shape, total_count)\u001b[0m\u001b[0;34m\u001b[0m\u001b[0;34m\u001b[0m\u001b[0;34m\u001b[0m\u001b[0m\n",
      "\u001b[0;32m~/anaconda3/envs/dev/lib/python3.6/site-packages/torch/distributions/categorical.py\u001b[0m in \u001b[0;36msample\u001b[0;34m(self, sample_shape)\u001b[0m\n\u001b[1;32m    108\u001b[0m         \u001b[0;32melse\u001b[0m\u001b[0;34m:\u001b[0m\u001b[0;34m\u001b[0m\u001b[0;34m\u001b[0m\u001b[0m\n\u001b[1;32m    109\u001b[0m             \u001b[0mprobs_2d\u001b[0m \u001b[0;34m=\u001b[0m \u001b[0mprobs\u001b[0m\u001b[0;34m.\u001b[0m\u001b[0mcontiguous\u001b[0m\u001b[0;34m(\u001b[0m\u001b[0;34m)\u001b[0m\u001b[0;34m.\u001b[0m\u001b[0mview\u001b[0m\u001b[0;34m(\u001b[0m\u001b[0;34m-\u001b[0m\u001b[0;36m1\u001b[0m\u001b[0;34m,\u001b[0m \u001b[0mself\u001b[0m\u001b[0;34m.\u001b[0m\u001b[0m_num_events\u001b[0m\u001b[0;34m)\u001b[0m\u001b[0;34m\u001b[0m\u001b[0;34m\u001b[0m\u001b[0m\n\u001b[0;32m--> 110\u001b[0;31m         \u001b[0msample_2d\u001b[0m \u001b[0;34m=\u001b[0m \u001b[0mtorch\u001b[0m\u001b[0;34m.\u001b[0m\u001b[0mmultinomial\u001b[0m\u001b[0;34m(\u001b[0m\u001b[0mprobs_2d\u001b[0m\u001b[0;34m,\u001b[0m \u001b[0;36m1\u001b[0m\u001b[0;34m,\u001b[0m \u001b[0;32mTrue\u001b[0m\u001b[0;34m)\u001b[0m\u001b[0;34m\u001b[0m\u001b[0;34m\u001b[0m\u001b[0m\n\u001b[0m\u001b[1;32m    111\u001b[0m         \u001b[0;32mreturn\u001b[0m \u001b[0msample_2d\u001b[0m\u001b[0;34m.\u001b[0m\u001b[0mcontiguous\u001b[0m\u001b[0;34m(\u001b[0m\u001b[0;34m)\u001b[0m\u001b[0;34m.\u001b[0m\u001b[0mview\u001b[0m\u001b[0;34m(\u001b[0m\u001b[0msample_shape\u001b[0m\u001b[0;34m)\u001b[0m\u001b[0;34m\u001b[0m\u001b[0;34m\u001b[0m\u001b[0m\n\u001b[1;32m    112\u001b[0m \u001b[0;34m\u001b[0m\u001b[0m\n",
      "\u001b[0;31mRuntimeError\u001b[0m: invalid argument 2: invalid multinomial distribution (encountering probability entry < 0) at /opt/conda/conda-bld/pytorch_1544174967633/work/aten/src/TH/generic/THTensorRandom.cpp:298"
     ]
    }
   ],
   "source": [
    "## sample from initial distribution\n",
    "final_init_prob = alpha_init_hat / alpha_init_hat.sum()\n",
    "init_obj = Multinomial(1, final_init_prob)\n",
    "init_hidden = torch.nonzero(init_obj.sample()).item()\n",
    "## transition matrix\n",
    "A = (alpha_trans_hat.transpose(0,1) / alpha_trans_hat.sum(1)).transpose(0,1)\n",
    "plt.imshow(A)\n",
    "plt.colorbar()"
   ]
  },
  {
   "cell_type": "code",
   "execution_count": null,
   "metadata": {},
   "outputs": [],
   "source": [
    "plt.scatter(m_ks[:,0], m_ks[:,1])"
   ]
  },
  {
   "cell_type": "code",
   "execution_count": null,
   "metadata": {},
   "outputs": [],
   "source": []
  },
  {
   "cell_type": "code",
   "execution_count": 19,
   "metadata": {},
   "outputs": [
    {
     "data": {
      "text/plain": [
       "tensor([[0.8780, 0.0512, 0.0039, 0.0669],\n",
       "        [0.0960, 0.6640, 0.0080, 0.2320],\n",
       "        [0.2500, 0.2500, 0.2500, 0.2500],\n",
       "        [0.1278, 0.2180, 0.0075, 0.6466]])"
      ]
     },
     "execution_count": 19,
     "metadata": {},
     "output_type": "execute_result"
    }
   ],
   "source": [
    "A"
   ]
  },
  {
   "cell_type": "code",
   "execution_count": null,
   "metadata": {},
   "outputs": [],
   "source": []
  },
  {
   "cell_type": "code",
   "execution_count": null,
   "metadata": {},
   "outputs": [],
   "source": []
  },
  {
   "cell_type": "code",
   "execution_count": null,
   "metadata": {},
   "outputs": [],
   "source": []
  }
 ],
 "metadata": {
  "kernelspec": {
   "display_name": "Python 3",
   "language": "python",
   "name": "python3"
  },
  "language_info": {
   "codemirror_mode": {
    "name": "ipython",
    "version": 3
   },
   "file_extension": ".py",
   "mimetype": "text/x-python",
   "name": "python",
   "nbconvert_exporter": "python",
   "pygments_lexer": "ipython3",
   "version": "3.6.7"
  }
 },
 "nbformat": 4,
 "nbformat_minor": 2
}
