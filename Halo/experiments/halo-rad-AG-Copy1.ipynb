{
 "cells": [
  {
   "cell_type": "code",
   "execution_count": 1,
   "metadata": {},
   "outputs": [
    {
     "name": "stdout",
     "output_type": "stream",
     "text": [
      "probtorch: 0.0+5a2c637 torch: 1.1.0 cuda: True\n"
     ]
    }
   ],
   "source": [
    "%matplotlib inline\n",
    "%run ../../import_envs.py\n",
    "print('probtorch:', probtorch.__version__, \n",
    "      'torch:', torch.__version__, \n",
    "      'cuda:', torch.cuda.is_available())"
   ]
  },
  {
   "cell_type": "code",
   "execution_count": 2,
   "metadata": {},
   "outputs": [],
   "source": [
    "## Load dataset\n",
    "data_path = \"../../../rings_varying_radius\"\n",
    "Data = torch.from_numpy(np.load(data_path + '/obs.npy')).float()\n",
    "NUM_DATASETS, N, D = Data.shape\n",
    "K = 3 ## number of clusters\n",
    "SAMPLE_SIZE = 10\n",
    "NUM_HIDDEN_GLOBAL = 128\n",
    "NUM_HIDDEN_LOCAL = 128\n",
    "NUM_STATS = 128\n",
    "\n",
    "MCMC_SIZE = 10\n",
    "BATCH_SIZE = 20\n",
    "NUM_EPOCHS = 500\n",
    "LEARNING_RATE = 1e-4\n",
    "\n",
    "CUDA = torch.cuda.is_available()\n",
    "PATH = 'AG-rad-20k-v2'\n",
    "DEVICE = torch.device('cuda:0')\n",
    "\n",
    "noise_sigma = torch.ones(1) * 0.2\n",
    "if CUDA:\n",
    "    noise_sigma = noise_sigma.cuda().to(DEVICE)\n",
    "Train_Params = (NUM_EPOCHS, NUM_DATASETS, SAMPLE_SIZE, BATCH_SIZE, CUDA, DEVICE, PATH)\n",
    "Model_Params = (noise_sigma, N, K, D, MCMC_SIZE)"
   ]
  },
  {
   "cell_type": "code",
   "execution_count": 3,
   "metadata": {},
   "outputs": [],
   "source": [
    "from local_enc import *\n",
    "from global_oneshot import *\n",
    "from global_mu_rad import *\n",
    "## if reparameterize continuous variables\n",
    "Reparameterized = False\n",
    "# initialization\n",
    "oneshot_eta = Oneshot_eta(K, D, NUM_HIDDEN_GLOBAL, NUM_STATS, CUDA, DEVICE, Reparameterized)\n",
    "enc_z = Enc_z(K, D, NUM_HIDDEN_LOCAL, CUDA, DEVICE)\n",
    "enc_eta = Enc_eta(K, D, NUM_HIDDEN_GLOBAL, NUM_STATS, CUDA, DEVICE, Reparameterized)\n",
    "if CUDA:\n",
    "    oneshot_eta.cuda().to(DEVICE)\n",
    "    enc_z.cuda().to(DEVICE)\n",
    "    enc_eta.cuda().to(DEVICE)\n",
    "\n",
    "models = (oneshot_eta, enc_eta, enc_z)"
   ]
  },
  {
   "cell_type": "code",
   "execution_count": null,
   "metadata": {},
   "outputs": [],
   "source": [
    "# enc_z.load_state_dict(torch.load(\"../weights/enc-z-ep-rad-init-eta\"))\n",
    "# enc_eta.load_state_dict(torch.load(\"../weights/enc-mu-ep-rad-init-eta\"))\n",
    "# oneshot_eta.load_state_dict(torch.load(\"../weights/oneshot-mu-ep-rad-init-eta\"))"
   ]
  },
  {
   "cell_type": "code",
   "execution_count": null,
   "metadata": {},
   "outputs": [],
   "source": [
    "from ag_ep_rad import *\n",
    "optimizer =  torch.optim.Adam(list(oneshot_eta.parameters())+list(enc_eta.parameters())+list(enc_z.parameters()),lr=LEARNING_RATE, betas=(0.9, 0.99))\n",
    "train(models, EUBO_init_eta, optimizer, Data, Model_Params, Train_Params)"
   ]
  },
  {
   "cell_type": "code",
   "execution_count": null,
   "metadata": {},
   "outputs": [],
   "source": [
    "torch.save(enc_z.state_dict(), \"../weights/enc-z-rad-%s\" % PATH)\n",
    "torch.save(enc_eta.state_dict(), \"../weights/enc-eta-rad-%s\" % PATH)\n",
    "torch.save(oneshot_eta.state_dict(), \"../weights/oneshot-eta-rad-%s\" % PATH)"
   ]
  },
  {
   "cell_type": "code",
   "execution_count": null,
   "metadata": {},
   "outputs": [],
   "source": [
    "def test(models, objective, Data, Model_Params, Train_Params):\n",
    "    (NUM_EPOCHS, NUM_DATASETS, S, B, CUDA, device, path) = Train_Params\n",
    "    SubTrain_Params = (device, S, B) + Model_Params\n",
    "    ##(N, K, D, mcmc_size) = Model_Params\n",
    "    indices = torch.arange(NUM_DATASETS)\n",
    "    step = 2\n",
    "    batch_indices = indices[step*B : (step+1)*B]\n",
    "    obs = Data[batch_indices]\n",
    "    obs = shuffler(obs).repeat(S, 1, 1, 1)\n",
    "    if CUDA:\n",
    "        obs =obs.cuda().to(device)\n",
    "    _, _, reused = objective(models, obs, SubTrain_Params)\n",
    "    return obs, reused\n",
    "\n",
    "def plot_samples_v2(obs, q_mu, q_z, K, PATH):\n",
    "    colors = ['#33BBEE', '#AA3377', '#228833']\n",
    "    gs = gridspec.GridSpec(int(BATCH_SIZE_TEST / 5), 5)\n",
    "    gs.update(left=0.0 , bottom=0.0, right=1.0, top=1.0, wspace=0, hspace=0)\n",
    "    fig = plt.figure(figsize=(20,20))\n",
    "    xs = obs[0].cpu()\n",
    "    batch_size, N, D = xs.shape\n",
    "    E_mu = q_mu['means'].dist.loc.mean(0).cpu().data.numpy()\n",
    "    Std_mu = q_mu['means'].dist.scale.mean(0).cpu().data.numpy()\n",
    "    E_z = q_z['zs'].dist.probs.mean(0).cpu().data.numpy()\n",
    "    for b in range(batch_size):\n",
    "        ax = fig.add_subplot(gs[int(b/5), int(b%5)])\n",
    "        assignments = E_z[b].argmax(-1)\n",
    "        for k in range(K):\n",
    "            cov_k = np.diag(Std_mu[b, k]**2)\n",
    "            xk = xs[b][np.where(assignments == k)]\n",
    "            ax.scatter(xk[:, 0], xk[:, 1], c=colors[k], alpha=0.2)\n",
    "            plot_cov_ellipse(cov=cov_k, pos=E_mu[b, k], nstd=2, ax=ax, alpha=1.0, color=colors[k])\n",
    "        ax.set_ylim([-7, 7])\n",
    "        ax.set_xlim([-7, 7])\n",
    "        ax.set_xticks([])\n",
    "        ax.set_yticks([])\n",
    "    plt.savefig('../results/modes-' + PATH + '.svg')"
   ]
  },
  {
   "cell_type": "code",
   "execution_count": null,
   "metadata": {},
   "outputs": [],
   "source": [
    "from ag_ep_rad import *\n",
    "\n",
    "BATCH_SIZE_TEST = 25\n",
    "Train_Params_Test = (NUM_EPOCHS, NUM_DATASETS, 10, BATCH_SIZE_TEST, CUDA, DEVICE, PATH)\n",
    "Model_Params_Test = (noise_sigma, N, K, D, 10)\n",
    "obs,reused = test(models, EUBO_init_eta, Data, Model_Params_Test, Train_Params_Test)\n",
    "(q_mu, _, q_z, _) = reused"
   ]
  },
  {
   "cell_type": "code",
   "execution_count": null,
   "metadata": {},
   "outputs": [],
   "source": [
    "%time plot_samples_v2(obs, q_mu, q_z, K, PATH)"
   ]
  },
  {
   "cell_type": "code",
   "execution_count": null,
   "metadata": {},
   "outputs": [],
   "source": [
    "BATCH_SIZE_TEST = 10\n",
    "Train_Params_Test = (NUM_EPOCHS, NUM_DATASETS, SAMPLE_SIZE, BATCH_SIZE_TEST, CUDA, DEVICE, PATH)\n",
    "Model_Params_Test = (noise_sigma, N, K, D, 10)\n",
    "obs, reused = test(models, EUBO_init_eta, Data, Model_Params_Test, Train_Params_Test)\n",
    "(q_mu, _, q_z, _) = reused\n",
    "%time plot_samples_v2(obs, q_mu, q_z, K, PATH)"
   ]
  },
  {
   "cell_type": "code",
   "execution_count": null,
   "metadata": {},
   "outputs": [],
   "source": [
    "BATCH_SIZE_TEST = 10\n",
    "Train_Params_Test = (NUM_EPOCHS, NUM_DATASETS, 50, BATCH_SIZE_TEST, CUDA, DEVICE, PATH)\n",
    "Model_Params_Test = (noise_sigma, N, K, D, 15)\n",
    "obs, metric_step, reused = test(models, EUBO_init_eta, Data, Model_Params_Test, Train_Params_Test)\n",
    "(q_mu, _, q_z, _) = reused\n",
    "%time plot_samples_v2(obs, q_mu, q_z, K, PATH)"
   ]
  },
  {
   "cell_type": "code",
   "execution_count": null,
   "metadata": {},
   "outputs": [],
   "source": []
  }
 ],
 "metadata": {
  "kernelspec": {
   "display_name": "Python 3",
   "language": "python",
   "name": "python3"
  },
  "language_info": {
   "codemirror_mode": {
    "name": "ipython",
    "version": 3
   },
   "file_extension": ".py",
   "mimetype": "text/x-python",
   "name": "python",
   "nbconvert_exporter": "python",
   "pygments_lexer": "ipython3",
   "version": "3.7.3"
  }
 },
 "nbformat": 4,
 "nbformat_minor": 2
}
