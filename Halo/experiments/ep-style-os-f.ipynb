{
 "cells": [
  {
   "cell_type": "code",
   "execution_count": 1,
   "metadata": {},
   "outputs": [
    {
     "name": "stdout",
     "output_type": "stream",
     "text": [
      "probtorch: 0.0+5a2c637 torch: 0.4.1 cuda: True\n"
     ]
    }
   ],
   "source": [
    "%matplotlib inline\n",
    "%run ../../import_envs.py\n",
    "print('probtorch:', probtorch.__version__, \n",
    "      'torch:', torch.__version__, \n",
    "      'cuda:', torch.cuda.is_available())"
   ]
  },
  {
   "cell_type": "code",
   "execution_count": 2,
   "metadata": {},
   "outputs": [],
   "source": [
    "## Load dataset\n",
    "data_path = \"../rings_fixed_radius\"\n",
    "Data = torch.from_numpy(np.load(data_path + '/obs.npy')).float()\n",
    "FIXED_RADIUS = 1.5\n",
    "\n",
    "NUM_DATASETS, N, D = Data.shape\n",
    "K = 3 ## number of clusters\n",
    "SAMPLE_SIZE = 10\n",
    "NUM_HIDDEN_GLOBAL = 8\n",
    "NUM_HIDDEN_LOCAL = 64\n",
    "NUM_STATS = 16\n",
    "\n",
    "MCMC_SIZE = 10\n",
    "BATCH_SIZE = 20\n",
    "NUM_EPOCHS = 1000\n",
    "LEARNING_RATE = 1e-4\n",
    "PRIOR_FLAG = False\n",
    "ONLY_FORWARD = True\n",
    "CUDA = torch.cuda.is_available()\n",
    "PATH = 'ep-onlyf-%dsteps-%dsamples' % (MCMC_SIZE, SAMPLE_SIZE)\n",
    "DEVICE = torch.device('cuda:1')\n",
    "\n",
    "obs_rad = torch.ones(1) * FIXED_RADIUS\n",
    "noise_sigma = torch.ones(1) * 0.05\n",
    "if CUDA:\n",
    "    obs_rad = obs_rad.cuda().to(DEVICE)\n",
    "    noise_sigma = noise_sigma.cuda().to(DEVICE)\n",
    "Train_Params = (NUM_EPOCHS, NUM_DATASETS, SAMPLE_SIZE, BATCH_SIZE, CUDA, DEVICE, PATH)\n",
    "Model_Params = (obs_rad, noise_sigma, N, K, D, MCMC_SIZE, PRIOR_FLAG, ONLY_FORWARD)"
   ]
  },
  {
   "cell_type": "code",
   "execution_count": 3,
   "metadata": {},
   "outputs": [],
   "source": [
    "from local_enc import *\n",
    "from global_oneshot import *\n",
    "from global_enc import *\n",
    "## if reparameterize continuous variables\n",
    "Reparameterized = False\n",
    "# initialization\n",
    "enc_z = Enc_z(K, D, NUM_HIDDEN_LOCAL, CUDA, DEVICE)\n",
    "enc_eta = Enc_mu(K, D, NUM_HIDDEN_GLOBAL, NUM_STATS, CUDA, DEVICE, Reparameterized)\n",
    "if CUDA:\n",
    "    enc_z.cuda().to(DEVICE)\n",
    "    enc_eta.cuda().to(DEVICE)\n",
    "if PRIOR_FLAG:\n",
    "    optimizer =  torch.optim.Adam(list(enc_eta.parameters())+list(enc_z.parameters()),lr=LEARNING_RATE, betas=(0.9, 0.99))\n",
    "    models = (enc_eta, enc_z)\n",
    "else:\n",
    "    oneshot_eta = Oneshot_mu(K, D, NUM_HIDDEN_GLOBAL, NUM_STATS, CUDA, DEVICE, Reparameterized)\n",
    "    if CUDA:\n",
    "        oneshot_eta.cuda().to(DEVICE)\n",
    "    optimizer =  torch.optim.Adam(list(oneshot_eta.parameters())+list(enc_eta.parameters())+list(enc_z.parameters()),lr=LEARNING_RATE, betas=(0.9, 0.99))\n",
    "    models = (oneshot_eta, enc_eta, enc_z)"
   ]
  },
  {
   "cell_type": "code",
   "execution_count": null,
   "metadata": {},
   "outputs": [
    {
     "name": "stdout",
     "output_type": "stream",
     "text": [
      "epoch: 0\\1000 (26s),  symKL_DB_eta: 250691.314,  symKL_DB_z: 176464.750,  loss: -167381.188,  ess: 2.140\n",
      "epoch: 1\\1000 (26s),  symKL_DB_eta: 238708.322,  symKL_DB_z: 176772.908,  loss: -154984.423,  ess: 2.154\n",
      "epoch: 2\\1000 (26s),  symKL_DB_eta: 221759.499,  symKL_DB_z: 177079.631,  loss: -143491.819,  ess: 2.180\n",
      "epoch: 3\\1000 (26s),  symKL_DB_eta: 199695.606,  symKL_DB_z: 175031.881,  loss: -133132.605,  ess: 2.213\n",
      "epoch: 4\\1000 (26s),  symKL_DB_eta: 175460.592,  symKL_DB_z: 172076.405,  loss: -122710.675,  ess: 2.250\n",
      "epoch: 5\\1000 (26s),  symKL_DB_eta: 150715.672,  symKL_DB_z: 168337.454,  loss: -113289.351,  ess: 2.295\n",
      "epoch: 6\\1000 (26s),  symKL_DB_eta: 127510.824,  symKL_DB_z: 164329.736,  loss: -104418.787,  ess: 2.348\n",
      "epoch: 7\\1000 (26s),  symKL_DB_eta: 106666.779,  symKL_DB_z: 158661.002,  loss: -95777.132,  ess: 2.407\n",
      "epoch: 8\\1000 (26s),  symKL_DB_eta: 88675.807,  symKL_DB_z: 150908.695,  loss: -88625.642,  ess: 2.470\n",
      "epoch: 9\\1000 (26s),  symKL_DB_eta: 74410.445,  symKL_DB_z: 143232.470,  loss: -81513.998,  ess: 2.540\n",
      "epoch: 10\\1000 (26s),  symKL_DB_eta: 62894.999,  symKL_DB_z: 134511.529,  loss: -75535.633,  ess: 2.615\n",
      "epoch: 11\\1000 (26s),  symKL_DB_eta: 54823.489,  symKL_DB_z: 125418.474,  loss: -70287.636,  ess: 2.693\n",
      "epoch: 12\\1000 (26s),  symKL_DB_eta: 49110.926,  symKL_DB_z: 116263.086,  loss: -65150.771,  ess: 2.773\n",
      "epoch: 13\\1000 (26s),  symKL_DB_eta: 45278.199,  symKL_DB_z: 106946.131,  loss: -60747.159,  ess: 2.857\n",
      "epoch: 14\\1000 (26s),  symKL_DB_eta: 42635.522,  symKL_DB_z: 97521.903,  loss: -56950.804,  ess: 2.940\n",
      "epoch: 15\\1000 (26s),  symKL_DB_eta: 40686.355,  symKL_DB_z: 88247.327,  loss: -53839.817,  ess: 3.022\n",
      "epoch: 16\\1000 (26s),  symKL_DB_eta: 40486.580,  symKL_DB_z: 79826.022,  loss: -50172.641,  ess: 3.102\n",
      "epoch: 17\\1000 (26s),  symKL_DB_eta: 39950.842,  symKL_DB_z: 71863.485,  loss: -47613.734,  ess: 3.182\n",
      "epoch: 18\\1000 (26s),  symKL_DB_eta: 41111.684,  symKL_DB_z: 65015.002,  loss: -44505.584,  ess: 3.259\n",
      "epoch: 19\\1000 (26s),  symKL_DB_eta: 41701.074,  symKL_DB_z: 58523.341,  loss: -42228.086,  ess: 3.333\n",
      "epoch: 20\\1000 (26s),  symKL_DB_eta: 42617.585,  symKL_DB_z: 52671.971,  loss: -39301.129,  ess: 3.401\n",
      "epoch: 21\\1000 (26s),  symKL_DB_eta: 43991.974,  symKL_DB_z: 47633.724,  loss: -36972.559,  ess: 3.468\n",
      "epoch: 22\\1000 (26s),  symKL_DB_eta: 45787.752,  symKL_DB_z: 43349.632,  loss: -34550.727,  ess: 3.529\n",
      "epoch: 23\\1000 (26s),  symKL_DB_eta: 45595.968,  symKL_DB_z: 39310.931,  loss: -32471.933,  ess: 3.584\n",
      "epoch: 24\\1000 (26s),  symKL_DB_eta: 45607.592,  symKL_DB_z: 35667.829,  loss: -30806.976,  ess: 3.635\n",
      "epoch: 25\\1000 (26s),  symKL_DB_eta: 44383.305,  symKL_DB_z: 32627.834,  loss: -29163.006,  ess: 3.684\n",
      "epoch: 26\\1000 (26s),  symKL_DB_eta: 43830.424,  symKL_DB_z: 29853.730,  loss: -27869.430,  ess: 3.726\n",
      "epoch: 27\\1000 (26s),  symKL_DB_eta: 43809.736,  symKL_DB_z: 27675.576,  loss: -26115.081,  ess: 3.766\n",
      "epoch: 28\\1000 (26s),  symKL_DB_eta: 43280.914,  symKL_DB_z: 25484.562,  loss: -24800.824,  ess: 3.806\n",
      "epoch: 29\\1000 (26s),  symKL_DB_eta: 42355.145,  symKL_DB_z: 23641.583,  loss: -23665.822,  ess: 3.846\n",
      "epoch: 30\\1000 (26s),  symKL_DB_eta: 41723.416,  symKL_DB_z: 21968.418,  loss: -22353.389,  ess: 3.869\n",
      "epoch: 31\\1000 (26s),  symKL_DB_eta: 40293.701,  symKL_DB_z: 20581.911,  loss: -21552.217,  ess: 3.900\n",
      "epoch: 32\\1000 (26s),  symKL_DB_eta: 39966.213,  symKL_DB_z: 19292.710,  loss: -20615.812,  ess: 3.932\n",
      "epoch: 33\\1000 (26s),  symKL_DB_eta: 38020.936,  symKL_DB_z: 18033.390,  loss: -19809.137,  ess: 3.954\n",
      "epoch: 34\\1000 (26s),  symKL_DB_eta: 36160.648,  symKL_DB_z: 16944.225,  loss: -19291.755,  ess: 3.976\n",
      "epoch: 35\\1000 (26s),  symKL_DB_eta: 35151.681,  symKL_DB_z: 16151.863,  loss: -18171.608,  ess: 3.994\n"
     ]
    }
   ],
   "source": [
    "from ag_ep import *\n",
    "train(models, EUBO_init_eta, optimizer, Data, Model_Params, Train_Params)"
   ]
  },
  {
   "cell_type": "code",
   "execution_count": null,
   "metadata": {},
   "outputs": [],
   "source": [
    "torch.save(enc_z.state_dict(), \"../weights/enc-z-%s\" % PATH)\n",
    "torch.save(enc_mu.state_dict(), \"../weights/enc-mu-%s\" % PATH)\n",
    "torch.save(oneshot_mu.state_dict(), \"../weights/oneshot-mu-%s\" % PATH)"
   ]
  },
  {
   "cell_type": "code",
   "execution_count": null,
   "metadata": {},
   "outputs": [],
   "source": [
    "BATCH_SIZE_TEST = 50\n",
    "RESAMPLE=True\n",
    "DETACH=True\n",
    "obs, metric_step, reused = test(models, EUBO_init_eta, Data, Model_Params, Train_Params)\n",
    "(q_mu, _, q_z, _) = reused"
   ]
  },
  {
   "cell_type": "code",
   "execution_count": null,
   "metadata": {},
   "outputs": [],
   "source": [
    "%time plot_samples(obs, q_mu, q_z, K, PATH)"
   ]
  },
  {
   "cell_type": "code",
   "execution_count": null,
   "metadata": {},
   "outputs": [],
   "source": [
    "incremental_gap = symkls_test.cpu().data.numpy()[1:]\n",
    "M = incremental_gap.shape[0]\n",
    "overall_gap = np.zeros(M)\n",
    "for m in range(M):\n",
    "    overall_gap[m] = incremental_gap[:m+1].sum()"
   ]
  },
  {
   "cell_type": "code",
   "execution_count": null,
   "metadata": {},
   "outputs": [],
   "source": [
    "fig = plt.figure(figsize=(12,6))\n",
    "ax = fig.add_subplot(111)\n",
    "plt.yscale(\"log\")\n",
    "ax.plot(incremental_gap, label=\"incremental gap\")\n",
    "ax.plot(overall_gap, label='overall gap')\n",
    "ax.legend(fontsize=14)\n",
    "ax.set_xlabel('Steps')"
   ]
  },
  {
   "cell_type": "code",
   "execution_count": null,
   "metadata": {},
   "outputs": [],
   "source": []
  }
 ],
 "metadata": {
  "kernelspec": {
   "display_name": "Python 3",
   "language": "python",
   "name": "python3"
  },
  "language_info": {
   "codemirror_mode": {
    "name": "ipython",
    "version": 3
   },
   "file_extension": ".py",
   "mimetype": "text/x-python",
   "name": "python",
   "nbconvert_exporter": "python",
   "pygments_lexer": "ipython3",
   "version": "3.6.6"
  }
 },
 "nbformat": 4,
 "nbformat_minor": 2
}
