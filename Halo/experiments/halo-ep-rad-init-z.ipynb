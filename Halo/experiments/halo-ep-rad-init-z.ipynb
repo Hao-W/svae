{
 "cells": [
  {
   "cell_type": "code",
   "execution_count": 1,
   "metadata": {},
   "outputs": [
    {
     "name": "stdout",
     "output_type": "stream",
     "text": [
      "probtorch: 0.0+5a2c637 torch: 1.1.0 cuda: True\n"
     ]
    }
   ],
   "source": [
    "%matplotlib inline\n",
    "%run ../../import_envs.py\n",
    "print('probtorch:', probtorch.__version__, \n",
    "      'torch:', torch.__version__, \n",
    "      'cuda:', torch.cuda.is_available())"
   ]
  },
  {
   "cell_type": "code",
   "execution_count": 2,
   "metadata": {},
   "outputs": [],
   "source": [
    "## Load dataset\n",
    "data_path = \"../../../rings_varying_radius_c2k\"\n",
    "Data = torch.from_numpy(np.load(data_path + '/obs.npy')).float()\n",
    "NUM_DATASETS, N, D = Data.shape\n",
    "K = 3 ## number of clusters\n",
    "SAMPLE_SIZE = 10\n",
    "NUM_HIDDEN_GLOBAL = 64\n",
    "NUM_HIDDEN_LOCAL = 64\n",
    "NUM_STATS = 64\n",
    "\n",
    "MCMC_SIZE = 20\n",
    "BATCH_SIZE = 20\n",
    "NUM_EPOCHS = 1000\n",
    "LEARNING_RATE = 1e-3\n",
    "\n",
    "CUDA = torch.cuda.is_available()\n",
    "PATH = 'ep-rad-init-z'\n",
    "DEVICE = torch.device('cuda:1')\n",
    "\n",
    "noise_sigma = torch.ones(1) * 0.05\n",
    "if CUDA:\n",
    "    noise_sigma = noise_sigma.cuda().to(DEVICE)\n",
    "Train_Params = (NUM_EPOCHS, NUM_DATASETS, SAMPLE_SIZE, BATCH_SIZE, CUDA, DEVICE, PATH)\n",
    "Model_Params = (noise_sigma, N, K, D, MCMC_SIZE)"
   ]
  },
  {
   "cell_type": "code",
   "execution_count": 3,
   "metadata": {},
   "outputs": [],
   "source": [
    "from local_enc import *\n",
    "from global_enc import *\n",
    "## if reparameterize continuous variables\n",
    "Reparameterized = False\n",
    "# initialization\n",
    "enc_z = Enc_z(K, D, NUM_HIDDEN_LOCAL, CUDA, DEVICE)\n",
    "enc_eta = Enc_eta(K, D, NUM_HIDDEN_GLOBAL, NUM_STATS, CUDA, DEVICE, Reparameterized)\n",
    "if CUDA:\n",
    "    enc_z.cuda().to(DEVICE)\n",
    "    enc_eta.cuda().to(DEVICE)\n",
    "\n",
    "optimizer =  torch.optim.Adam(list(enc_eta.parameters())+list(enc_z.parameters()),lr=LEARNING_RATE, betas=(0.9, 0.99))\n",
    "models = (enc_eta, enc_eta, enc_z)"
   ]
  },
  {
   "cell_type": "code",
   "execution_count": 5,
   "metadata": {},
   "outputs": [],
   "source": [
    "# enc_z.load_state_dict(torch.load(\"../weights/enc-z-%s\" % PATH))\n",
    "# enc_eta.load_state_dict(torch.load(\"../weights/enc-eta-%s\" % PATH))"
   ]
  },
  {
   "cell_type": "code",
   "execution_count": null,
   "metadata": {},
   "outputs": [
    {
     "name": "stdout",
     "output_type": "stream",
     "text": [
      "epoch: 0\\1000 (37s),  symKL_DB_eta: 234572.757,  symKL_DB_z: 240909.941,  gap: 475202.346,  loss: -75683.978,  ess: 2.412\n",
      "epoch: 1\\1000 (37s),  symKL_DB_eta: 38256.592,  symKL_DB_z: 144029.878,  gap: 182225.429,  loss: -32540.310,  ess: 3.012\n",
      "epoch: 2\\1000 (37s),  symKL_DB_eta: 19355.364,  symKL_DB_z: 74662.693,  gap: 93955.724,  loss: -25875.742,  ess: 3.532\n",
      "epoch: 3\\1000 (37s),  symKL_DB_eta: 15931.586,  symKL_DB_z: 42253.854,  gap: 58121.659,  loss: -21348.657,  ess: 3.903\n",
      "epoch: 4\\1000 (37s),  symKL_DB_eta: 16452.032,  symKL_DB_z: 28227.887,  gap: 44625.822,  loss: -22227.835,  ess: 4.135\n",
      "epoch: 5\\1000 (37s),  symKL_DB_eta: 17026.549,  symKL_DB_z: 20265.137,  gap: 37241.428,  loss: -22375.533,  ess: 4.282\n",
      "epoch: 6\\1000 (37s),  symKL_DB_eta: 17186.813,  symKL_DB_z: 15254.022,  gap: 32387.743,  loss: -22203.215,  ess: 4.388\n",
      "epoch: 7\\1000 (37s),  symKL_DB_eta: 16878.576,  symKL_DB_z: 12085.701,  gap: 28903.164,  loss: -22867.592,  ess: 4.456\n",
      "epoch: 8\\1000 (37s),  symKL_DB_eta: 16290.264,  symKL_DB_z: 9398.525,  gap: 25634.936,  loss: -22701.744,  ess: 4.540\n",
      "epoch: 9\\1000 (37s),  symKL_DB_eta: 16564.802,  symKL_DB_z: 7663.980,  gap: 24147.483,  loss: -22577.760,  ess: 4.585\n",
      "epoch: 10\\1000 (37s),  symKL_DB_eta: 15525.728,  symKL_DB_z: 5964.600,  gap: 21419.682,  loss: -22421.542,  ess: 4.664\n",
      "epoch: 11\\1000 (37s),  symKL_DB_eta: 14989.053,  symKL_DB_z: 4876.637,  gap: 19770.305,  loss: -22429.935,  ess: 4.715\n",
      "epoch: 12\\1000 (37s),  symKL_DB_eta: 13819.117,  symKL_DB_z: 3860.550,  gap: 17610.966,  loss: -21813.190,  ess: 4.756\n"
     ]
    }
   ],
   "source": [
    "from ag_ep_rad import *\n",
    "train(models, EUBO_init_z, optimizer, Data, Model_Params, Train_Params)"
   ]
  },
  {
   "cell_type": "code",
   "execution_count": null,
   "metadata": {},
   "outputs": [],
   "source": [
    "torch.save(enc_z.state_dict(), \"../weights/enc-z-%s\" % PATH)\n",
    "torch.save(enc_eta.state_dict(), \"../weights/enc-eta-%s\" % PATH)"
   ]
  },
  {
   "cell_type": "code",
   "execution_count": null,
   "metadata": {},
   "outputs": [],
   "source": [
    "from ag_ep_rad import *\n",
    "\n",
    "BATCH_SIZE_TEST = 25\n",
    "Train_Params_Test = (NUM_EPOCHS, NUM_DATASETS, SAMPLE_SIZE, BATCH_SIZE_TEST, CUDA, DEVICE, PATH)\n",
    "Model_Params_Test = (noise_sigma, N, K, D, 10)\n",
    "obs, metric_step, reused = test(models, EUBO_init_z, Data, Model_Params_Test, Train_Params_Test)\n",
    "(q_mu, _, q_z, _) = reused"
   ]
  },
  {
   "cell_type": "code",
   "execution_count": null,
   "metadata": {},
   "outputs": [],
   "source": [
    "%time plot_samples(obs, q_mu, q_z, K, PATH)"
   ]
  },
  {
   "cell_type": "code",
   "execution_count": null,
   "metadata": {},
   "outputs": [],
   "source": [
    "incremental_gap = symkls_test.cpu().data.numpy()[1:]\n",
    "M = incremental_gap.shape[0]\n",
    "overall_gap = np.zeros(M)\n",
    "for m in range(M):\n",
    "    overall_gap[m] = incremental_gap[:m+1].sum()"
   ]
  },
  {
   "cell_type": "code",
   "execution_count": null,
   "metadata": {},
   "outputs": [],
   "source": [
    "fig = plt.figure(figsize=(12,6))\n",
    "ax = fig.add_subplot(111)\n",
    "plt.yscale(\"log\")\n",
    "ax.plot(incremental_gap, label=\"incremental gap\")\n",
    "ax.plot(overall_gap, label='overall gap')\n",
    "ax.legend(fontsize=14)\n",
    "ax.set_xlabel('Steps')"
   ]
  },
  {
   "cell_type": "code",
   "execution_count": null,
   "metadata": {},
   "outputs": [],
   "source": []
  }
 ],
 "metadata": {
  "kernelspec": {
   "display_name": "Python 3",
   "language": "python",
   "name": "python3"
  },
  "language_info": {
   "codemirror_mode": {
    "name": "ipython",
    "version": 3
   },
   "file_extension": ".py",
   "mimetype": "text/x-python",
   "name": "python",
   "nbconvert_exporter": "python",
   "pygments_lexer": "ipython3",
   "version": "3.7.3"
  }
 },
 "nbformat": 4,
 "nbformat_minor": 2
}
