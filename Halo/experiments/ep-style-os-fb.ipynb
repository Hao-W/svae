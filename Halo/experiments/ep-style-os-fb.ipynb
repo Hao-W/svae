{
 "cells": [
  {
   "cell_type": "code",
   "execution_count": 1,
   "metadata": {},
   "outputs": [
    {
     "name": "stdout",
     "output_type": "stream",
     "text": [
      "probtorch: 0.0+5a2c637 torch: 0.4.1 cuda: True\n"
     ]
    }
   ],
   "source": [
    "%matplotlib inline\n",
    "%run ../../import_envs.py\n",
    "print('probtorch:', probtorch.__version__, \n",
    "      'torch:', torch.__version__, \n",
    "      'cuda:', torch.cuda.is_available())"
   ]
  },
  {
   "cell_type": "code",
   "execution_count": 2,
   "metadata": {},
   "outputs": [],
   "source": [
    "## Load dataset\n",
    "data_path = \"../rings_fixed_radius\"\n",
    "Data = torch.from_numpy(np.load(data_path + '/obs.npy')).float()\n",
    "FIXED_RADIUS = 1.5\n",
    "\n",
    "NUM_DATASETS, N, D = Data.shape\n",
    "K = 3 ## number of clusters\n",
    "SAMPLE_SIZE = 10\n",
    "NUM_HIDDEN_GLOBAL = 8\n",
    "NUM_HIDDEN_LOCAL = 64\n",
    "NUM_STATS = 16\n",
    "\n",
    "MCMC_SIZE = 10\n",
    "BATCH_SIZE = 20\n",
    "NUM_EPOCHS = 1000\n",
    "LEARNING_RATE = 1e-4\n",
    "PRIOR_FLAG = False\n",
    "ONLY_FORWARD = False\n",
    "CUDA = torch.cuda.is_available()\n",
    "PATH = 'ep-fb-%dsteps-%dsamples' % (MCMC_SIZE, SAMPLE_SIZE)\n",
    "DEVICE = torch.device('cuda:1')\n",
    "\n",
    "obs_rad = torch.ones(1) * FIXED_RADIUS\n",
    "noise_sigma = torch.ones(1) * 0.05\n",
    "if CUDA:\n",
    "    obs_rad = obs_rad.cuda().to(DEVICE)\n",
    "    noise_sigma = noise_sigma.cuda().to(DEVICE)\n",
    "Train_Params = (NUM_EPOCHS, NUM_DATASETS, SAMPLE_SIZE, BATCH_SIZE, CUDA, DEVICE, PATH)\n",
    "Model_Params = (obs_rad, noise_sigma, N, K, D, MCMC_SIZE, PRIOR_FLAG, ONLY_FORWARD)"
   ]
  },
  {
   "cell_type": "code",
   "execution_count": 3,
   "metadata": {},
   "outputs": [],
   "source": [
    "from local_enc import *\n",
    "from global_oneshot import *\n",
    "from global_enc import *\n",
    "## if reparameterize continuous variables\n",
    "Reparameterized = False\n",
    "# initialization\n",
    "enc_z = Enc_z(K, D, NUM_HIDDEN_LOCAL, CUDA, DEVICE)\n",
    "enc_eta = Enc_mu(K, D, NUM_HIDDEN_GLOBAL, NUM_STATS, CUDA, DEVICE, Reparameterized)\n",
    "if CUDA:\n",
    "    enc_z.cuda().to(DEVICE)\n",
    "    enc_eta.cuda().to(DEVICE)\n",
    "if PRIOR_FLAG:\n",
    "    optimizer =  torch.optim.Adam(list(enc_eta.parameters())+list(enc_z.parameters()),lr=LEARNING_RATE, betas=(0.9, 0.99))\n",
    "    models = (enc_eta, enc_z)\n",
    "else:\n",
    "    oneshot_eta = Oneshot_mu(K, D, NUM_HIDDEN_GLOBAL, NUM_STATS, CUDA, DEVICE, Reparameterized)\n",
    "    if CUDA:\n",
    "        oneshot_eta.cuda().to(DEVICE)\n",
    "    optimizer =  torch.optim.Adam(list(oneshot_eta.parameters())+list(enc_eta.parameters())+list(enc_z.parameters()),lr=LEARNING_RATE, betas=(0.9, 0.99))\n",
    "    models = (oneshot_eta, enc_eta, enc_z)"
   ]
  },
  {
   "cell_type": "code",
   "execution_count": null,
   "metadata": {},
   "outputs": [
    {
     "name": "stdout",
     "output_type": "stream",
     "text": [
      "epoch: 0\\1000 (24s),  symKL_DB_eta: 235488.273,  symKL_DB_z: 169303.587,  loss: -347392.881,  ess: 2.139\n",
      "epoch: 1\\1000 (26s),  symKL_DB_eta: 218600.557,  symKL_DB_z: 165981.990,  loss: -327459.471,  ess: 2.145\n",
      "epoch: 2\\1000 (26s),  symKL_DB_eta: 206454.978,  symKL_DB_z: 165648.992,  loss: -310840.471,  ess: 2.158\n",
      "epoch: 3\\1000 (26s),  symKL_DB_eta: 193342.526,  symKL_DB_z: 164416.325,  loss: -294517.473,  ess: 2.178\n",
      "epoch: 4\\1000 (26s),  symKL_DB_eta: 178438.327,  symKL_DB_z: 162865.580,  loss: -280529.595,  ess: 2.204\n",
      "epoch: 5\\1000 (26s),  symKL_DB_eta: 161643.426,  symKL_DB_z: 161403.451,  loss: -267412.717,  ess: 2.234\n",
      "epoch: 6\\1000 (26s),  symKL_DB_eta: 143830.083,  symKL_DB_z: 158435.402,  loss: -254499.714,  ess: 2.271\n",
      "epoch: 7\\1000 (26s),  symKL_DB_eta: 128181.818,  symKL_DB_z: 156072.142,  loss: -240578.599,  ess: 2.315\n",
      "epoch: 8\\1000 (26s),  symKL_DB_eta: 114546.987,  symKL_DB_z: 150693.813,  loss: -229935.473,  ess: 2.364\n",
      "epoch: 9\\1000 (26s),  symKL_DB_eta: 102993.814,  symKL_DB_z: 145124.305,  loss: -218132.583,  ess: 2.421\n",
      "epoch: 10\\1000 (26s),  symKL_DB_eta: 95040.827,  symKL_DB_z: 138221.655,  loss: -206702.916,  ess: 2.482\n",
      "epoch: 11\\1000 (26s),  symKL_DB_eta: 88192.967,  symKL_DB_z: 131237.884,  loss: -194008.487,  ess: 2.548\n",
      "epoch: 12\\1000 (26s),  symKL_DB_eta: 81615.817,  symKL_DB_z: 123013.445,  loss: -182252.292,  ess: 2.619\n",
      "epoch: 13\\1000 (26s),  symKL_DB_eta: 76107.325,  symKL_DB_z: 114791.045,  loss: -170994.580,  ess: 2.695\n",
      "epoch: 14\\1000 (26s),  symKL_DB_eta: 70144.206,  symKL_DB_z: 106398.016,  loss: -159498.520,  ess: 2.771\n",
      "epoch: 15\\1000 (26s),  symKL_DB_eta: 65265.062,  symKL_DB_z: 98139.310,  loss: -147768.266,  ess: 2.852\n",
      "epoch: 16\\1000 (26s),  symKL_DB_eta: 60997.479,  symKL_DB_z: 90150.349,  loss: -137128.698,  ess: 2.933\n",
      "epoch: 17\\1000 (26s),  symKL_DB_eta: 57665.118,  symKL_DB_z: 82255.559,  loss: -128055.999,  ess: 3.013\n",
      "epoch: 18\\1000 (26s),  symKL_DB_eta: 54507.619,  symKL_DB_z: 75377.133,  loss: -117992.510,  ess: 3.093\n",
      "epoch: 19\\1000 (26s),  symKL_DB_eta: 52824.044,  symKL_DB_z: 68497.031,  loss: -108947.550,  ess: 3.172\n",
      "epoch: 20\\1000 (26s),  symKL_DB_eta: 51656.771,  symKL_DB_z: 62718.873,  loss: -101242.328,  ess: 3.250\n",
      "epoch: 21\\1000 (26s),  symKL_DB_eta: 51241.330,  symKL_DB_z: 57106.301,  loss: -93169.195,  ess: 3.322\n",
      "epoch: 22\\1000 (26s),  symKL_DB_eta: 50568.966,  symKL_DB_z: 52103.988,  loss: -86891.946,  ess: 3.390\n",
      "epoch: 23\\1000 (26s),  symKL_DB_eta: 49702.145,  symKL_DB_z: 47640.428,  loss: -81257.136,  ess: 3.452\n",
      "epoch: 24\\1000 (26s),  symKL_DB_eta: 48923.168,  symKL_DB_z: 43606.753,  loss: -76522.585,  ess: 3.508\n",
      "epoch: 25\\1000 (26s),  symKL_DB_eta: 47842.624,  symKL_DB_z: 40018.857,  loss: -71332.611,  ess: 3.564\n",
      "epoch: 26\\1000 (26s),  symKL_DB_eta: 46326.368,  symKL_DB_z: 36697.757,  loss: -68002.880,  ess: 3.616\n",
      "epoch: 27\\1000 (26s),  symKL_DB_eta: 44008.617,  symKL_DB_z: 33684.188,  loss: -63929.891,  ess: 3.662\n",
      "epoch: 28\\1000 (26s),  symKL_DB_eta: 42557.707,  symKL_DB_z: 31006.095,  loss: -59747.030,  ess: 3.706\n",
      "epoch: 29\\1000 (26s),  symKL_DB_eta: 41792.773,  symKL_DB_z: 28712.736,  loss: -57327.830,  ess: 3.740\n",
      "epoch: 30\\1000 (26s),  symKL_DB_eta: 39690.740,  symKL_DB_z: 26443.182,  loss: -54555.203,  ess: 3.781\n",
      "epoch: 31\\1000 (26s),  symKL_DB_eta: 37983.997,  symKL_DB_z: 24388.619,  loss: -52285.732,  ess: 3.820\n",
      "epoch: 32\\1000 (26s),  symKL_DB_eta: 36833.271,  symKL_DB_z: 22631.362,  loss: -50119.050,  ess: 3.855\n",
      "epoch: 33\\1000 (26s),  symKL_DB_eta: 35336.292,  symKL_DB_z: 21062.624,  loss: -47073.892,  ess: 3.886\n",
      "epoch: 34\\1000 (26s),  symKL_DB_eta: 34270.813,  symKL_DB_z: 19577.754,  loss: -45471.882,  ess: 3.920\n",
      "epoch: 35\\1000 (26s),  symKL_DB_eta: 33367.919,  symKL_DB_z: 18310.138,  loss: -44177.980,  ess: 3.943\n",
      "epoch: 36\\1000 (26s),  symKL_DB_eta: 31869.027,  symKL_DB_z: 17012.311,  loss: -43086.911,  ess: 3.972\n"
     ]
    }
   ],
   "source": [
    "from ag_ep import *\n",
    "train(models, EUBO_init_eta, optimizer, Data, Model_Params, Train_Params)"
   ]
  },
  {
   "cell_type": "code",
   "execution_count": null,
   "metadata": {},
   "outputs": [],
   "source": [
    "torch.save(enc_z.state_dict(), \"../weights/enc-z-%s\" % PATH)\n",
    "torch.save(enc_mu.state_dict(), \"../weights/enc-mu-%s\" % PATH)\n",
    "torch.save(oneshot_mu.state_dict(), \"../weights/oneshot-mu-%s\" % PATH)"
   ]
  },
  {
   "cell_type": "code",
   "execution_count": null,
   "metadata": {},
   "outputs": [],
   "source": [
    "BATCH_SIZE_TEST = 50\n",
    "RESAMPLE=True\n",
    "DETACH=True\n",
    "obs, metric_step, reused = test(models, EUBO_init_eta, Data, Model_Params, Train_Params)\n",
    "(q_mu, _, q_z, _) = reused"
   ]
  },
  {
   "cell_type": "code",
   "execution_count": null,
   "metadata": {},
   "outputs": [],
   "source": [
    "%time plot_samples(obs, q_mu, q_z, K, PATH)"
   ]
  },
  {
   "cell_type": "code",
   "execution_count": null,
   "metadata": {},
   "outputs": [],
   "source": [
    "incremental_gap = symkls_test.cpu().data.numpy()[1:]\n",
    "M = incremental_gap.shape[0]\n",
    "overall_gap = np.zeros(M)\n",
    "for m in range(M):\n",
    "    overall_gap[m] = incremental_gap[:m+1].sum()"
   ]
  },
  {
   "cell_type": "code",
   "execution_count": null,
   "metadata": {},
   "outputs": [],
   "source": [
    "fig = plt.figure(figsize=(12,6))\n",
    "ax = fig.add_subplot(111)\n",
    "plt.yscale(\"log\")\n",
    "ax.plot(incremental_gap, label=\"incremental gap\")\n",
    "ax.plot(overall_gap, label='overall gap')\n",
    "ax.legend(fontsize=14)\n",
    "ax.set_xlabel('Steps')"
   ]
  },
  {
   "cell_type": "code",
   "execution_count": null,
   "metadata": {},
   "outputs": [],
   "source": []
  }
 ],
 "metadata": {
  "kernelspec": {
   "display_name": "Python 3",
   "language": "python",
   "name": "python3"
  },
  "language_info": {
   "codemirror_mode": {
    "name": "ipython",
    "version": 3
   },
   "file_extension": ".py",
   "mimetype": "text/x-python",
   "name": "python",
   "nbconvert_exporter": "python",
   "pygments_lexer": "ipython3",
   "version": "3.6.6"
  }
 },
 "nbformat": 4,
 "nbformat_minor": 2
}
