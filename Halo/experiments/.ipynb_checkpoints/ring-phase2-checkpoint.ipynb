{
 "cells": [
  {
   "cell_type": "code",
   "execution_count": 19,
   "metadata": {},
   "outputs": [
    {
     "name": "stdout",
     "output_type": "stream",
     "text": [
      "probtorch: 0.0+5a2c637 torch: 1.0.0 cuda: True\n"
     ]
    }
   ],
   "source": [
    "%matplotlib inline\n",
    "%run ../../import_envs.py\n",
    "print('probtorch:', probtorch.__version__, \n",
    "      'torch:', torch.__version__, \n",
    "      'cuda:', torch.cuda.is_available())"
   ]
  },
  {
   "cell_type": "code",
   "execution_count": 20,
   "metadata": {},
   "outputs": [],
   "source": [
    "## Load dataset\n",
    "data_path = \"../../../Rings_2D\"\n",
    "OB = torch.from_numpy(np.load(data_path + '/ob.npy')).float()\n",
    "STATE = torch.from_numpy(np.load(data_path + '/state.npy')).float()\n",
    "MU = torch.from_numpy(np.load(data_path + '/mu.npy')).float()\n",
    "RADI = torch.from_numpy(np.load(data_path + '/radi.npy')).float()\n",
    "ANGLE = torch.from_numpy(np.load(data_path + '/angle.npy')).float()\n",
    "\n",
    "NUM_DATASETS, N, D = OB.shape\n",
    "SAMPLE_SIZE = 10\n",
    "BATCH_SIZE = 20\n",
    "NUM_BATCHES = int((NUM_DATASETS / BATCH_SIZE))\n",
    "NUM_EPOCHS = 200\n",
    "NUM_HIDDEN = 32\n",
    "LEARNING_RATE = 1e-3\n",
    "CUDA = torch.cuda.is_available()\n",
    "DEVICE = 0\n",
    "\n",
    "\n",
    "RECON_SIGMA = torch.ones(1) * 0.05\n",
    "RADI = torch.ones(1) * 2.0\n",
    "lg2pi = torch.log(torch.ones(1) * 2 * math.pi)\n",
    "\n",
    "PATH = 'ag-phase2'"
   ]
  },
  {
   "cell_type": "code",
   "execution_count": null,
   "metadata": {},
   "outputs": [],
   "source": [
    "from local_enc_angle_vonmises import *\n",
    "from True_decoder import *\n",
    "\n",
    "enc_angle = Enc_angle(D, NUM_HIDDEN, CUDA, DEVICE)\n",
    "dec_x = Dec_x(RADI, RECON_SIGMA, CUDA, DEVICE)\n",
    "\n",
    "if CUDA:\n",
    "    with torch.cuda.device(DEVICE):\n",
    "        enc_angle.cuda()\n",
    "optimizer =  torch.optim.Adam(list(enc_angle.parameters()), lr=LEARNING_RATE, betas=(0.9, 0.99))"
   ]
  },
  {
   "cell_type": "code",
   "execution_count": 4,
   "metadata": {},
   "outputs": [],
   "source": [
    "from von_mises import *"
   ]
  },
  {
   "cell_type": "code",
   "execution_count": 29,
   "metadata": {},
   "outputs": [],
   "source": [
    "vonmises = VonMises(torch.ones(1), torch.ones(1)* 1e-3)"
   ]
  },
  {
   "cell_type": "code",
   "execution_count": 30,
   "metadata": {},
   "outputs": [
    {
     "data": {
      "text/plain": [
       "<matplotlib.collections.PathCollection at 0x7f4dbd4496a0>"
      ]
     },
     "execution_count": 30,
     "metadata": {},
     "output_type": "execute_result"
    },
    {
     "data": {
      "image/png": "[encoded data removed]",
      "text/plain": [
       "<Figure size 432x288 with 1 Axes>"
      ]
     },
     "metadata": {},
     "output_type": "display_data"
    }
   ],
   "source": [
    "N = 1000\n",
    "samples = vonmises.sample((N,))\n",
    "pdfs = vonmises.log_prob(samples).exp()\n",
    "\n",
    "plt.scatter(samples.data.numpy(), pdfs.data.numpy())"
   ]
  },
  {
   "cell_type": "code",
   "execution_count": null,
   "metadata": {},
   "outputs": [],
   "source": [
    "import torch.nn.functional as F\n",
    "def Update_angle(enc_angle, dec_x, ob, state, mu):\n",
    "    q_angle, p_angle = enc_angle(ob, state, mu)\n",
    "    log_q_angle = q_angle['angles'].log_prob.sum(-1)\n",
    "    log_p_angle = p_angle['angles'].log_prob.sum(-1)\n",
    "    angle = q_angle['angles'].value * 2 * math.pi\n",
    "    log_recon = dec_x.forward(ob, state, angle, mu, idw_flag=False)\n",
    "    log_w_f = log_recon + log_p_angle - log_q_angle\n",
    "    w = F.softmax(log_w_f, 0).detach()\n",
    "    eubo = (w * log_w_f).sum(0).sum(-1).mean()\n",
    "    ess = (1. / (w**2).sum(0)).mean()\n",
    "    return eubo, ess, q_angle"
   ]
  },
  {
   "cell_type": "code",
   "execution_count": null,
   "metadata": {},
   "outputs": [],
   "source": [
    "for epoch in range(NUM_EPOCHS):\n",
    "    time_start = time.time()\n",
    "    EUBO = 0.0\n",
    "    ESS = 0.0\n",
    "    indices = torch.randperm(NUM_DATASETS)\n",
    "    for step in range(NUM_BATCHES):\n",
    "        optimizer.zero_grad()\n",
    "        batch_indices = indices[step*BATCH_SIZE : (step+1)*BATCH_SIZE]\n",
    "        ob = OB[batch_indices]\n",
    "        state = STATE[batch_indices]\n",
    "        mu = MU[batch_indices].repeat(SAMPLE_SIZE, 1, 1, 1)\n",
    "        embed = shuffler(torch.cat((ob, state), -1)).repeat(SAMPLE_SIZE, 1, 1, 1)\n",
    "        if CUDA:\n",
    "            with torch.cuda.device(DEVICE):  \n",
    "                embed =embed.cuda()\n",
    "                mu = mu.cuda()\n",
    "        ob = embed[:, :, :, :2]\n",
    "        state = embed[:, :, :, 2:]\n",
    "        eubo, ess, _ = Update_angle(enc_angle, dec_x, ob, state, mu)\n",
    "        ## gradient step\n",
    "        eubo.backward()\n",
    "        optimizer.step()  \n",
    "        EUBO += eubo.detach()\n",
    "        ESS += ess.detach()\n",
    "    time_end = time.time()\n",
    "    print('epoch=%d, eubo=%.4f, ess=%.4f (%ds)' % (epoch, EUBO / NUM_BATCHES, ESS / NUM_BATCHES, time_end - time_start))"
   ]
  },
  {
   "cell_type": "code",
   "execution_count": null,
   "metadata": {},
   "outputs": [],
   "source": [
    "indices = torch.randperm(NUM_DATASETS)\n",
    "batch_indices = indices[0*BATCH_SIZE : (0+1)*BATCH_SIZE]\n",
    "ob = OB[batch_indices]\n",
    "state = STATE[batch_indices]\n",
    "mu = MU[batch_indices].repeat(SAMPLE_SIZE, 1, 1, 1)\n",
    "angle_true = ANGLE[batch_indices]\n",
    "embed = shuffler(torch.cat((ob, state, angle_true), -1)).repeat(SAMPLE_SIZE, 1, 1, 1)\n",
    "if CUDA:\n",
    "    with torch.cuda.device(DEVICE):  \n",
    "        embed =embed.cuda()\n",
    "        mu = mu.cuda()\n",
    "ob = embed[:, :, :, :2]\n",
    "state = embed[:, :, :, 2:-1]\n",
    "angle_true = embed[:, :, :, -1].unsqueeze(-1)\n",
    "eubo, ess, q_angle = Update_angle(enc_angle, dec_x, ob, state, mu)\n",
    "angle = q_angle['angles'].value * 2 * math.pi\n",
    "plot_angles(angle, angle_true, 15)"
   ]
  },
  {
   "cell_type": "code",
   "execution_count": null,
   "metadata": {},
   "outputs": [],
   "source": []
  },
  {
   "cell_type": "code",
   "execution_count": null,
   "metadata": {},
   "outputs": [],
   "source": []
  }
 ],
 "metadata": {
  "kernelspec": {
   "display_name": "Python 3",
   "language": "python",
   "name": "python3"
  },
  "language_info": {
   "codemirror_mode": {
    "name": "ipython",
    "version": 3
   },
   "file_extension": ".py",
   "mimetype": "text/x-python",
   "name": "python",
   "nbconvert_exporter": "python",
   "pygments_lexer": "ipython3",
   "version": "3.6.7"
  }
 },
 "nbformat": 4,
 "nbformat_minor": 2
}
