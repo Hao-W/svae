{
 "cells": [
  {
   "cell_type": "code",
   "execution_count": 1,
   "metadata": {},
   "outputs": [
    {
     "name": "stdout",
     "output_type": "stream",
     "text": [
      "probtorch: 0.0+5a2c637 torch: 1.1.0 cuda: True\n"
     ]
    }
   ],
   "source": [
    "%matplotlib inline\n",
    "%run ../../import_envs.py\n",
    "print('probtorch:', probtorch.__version__, \n",
    "      'torch:', torch.__version__, \n",
    "      'cuda:', torch.cuda.is_available())"
   ]
  },
  {
   "cell_type": "code",
   "execution_count": 2,
   "metadata": {},
   "outputs": [],
   "source": [
    "## Load dataset\n",
    "data_path = \"../../../rings_varying_radius_c2k\"\n",
    "Data = torch.from_numpy(np.load(data_path + '/obs.npy')).float()\n",
    "NUM_DATASETS, N, D = Data.shape\n",
    "K = 3 ## number of clusters\n",
    "SAMPLE_SIZE = 1\n",
    "MCMC_SIZE = 10\n",
    "BATCH_SIZE = 20\n",
    "NUM_EPOCHS = 1000"
   ]
  },
  {
   "cell_type": "code",
   "execution_count": 5,
   "metadata": {},
   "outputs": [],
   "source": [
    "def Gibbs_z(self, obs, obs_mu, radi, noise_sigma, K):\n",
    "    S, B, N, D = obs.shape\n",
    "    K = obs_mu.shape[-2]\n",
    "    obs_mu_expand = obs_mu.unsqueeze(-2).repeat(1, 1, 1, N, 1) # S * B * K * N * D\n",
    "    obs_expand = obs.unsqueeze(2).repeat(1, 1, K, 1, 1) #  S * B * K * N * D\n",
    "    distance = ((obs_expand - obs_mu_expand)**2).sum(-1).sqrt()\n",
    "    obs_dist = Normal(radi.repeat(1, 1, 1, N),  noise_sigma.repeat(sample_size, batch_size, K, N))\n",
    "    log_distance = (obs_dist.log_prob(distance) - (2*math.pi*distance).log()).transpose(-1, -2) + self.prior_pi.log() # S * B * N * K\n",
    "\n",
    "    q_pi = F.softmax(log_distance, -1)\n",
    "    q = probtorch.Trace()\n",
    "    p = probtorch.Trace()\n",
    "    z = cat(q_pi).sample()\n",
    "    _ = q.variable(cat, probs=q_pi, value=z, name='zs')\n",
    "    _ = p.variable(cat, probs=self.prior_pi, value=z, name='zs')\n",
    "    return q, p\n",
    "\n",
    "def sample_prior(self, N, sample_size, batch_size):\n",
    "    p_init_z = cat(self.prior_pi)\n",
    "    state = p_init_z.sample((sample_size, batch_size, N,))\n",
    "    return state\n",
    "\n",
    "def Gibbs_mu(obs, state, K, D):\n",
    "    stat1 = state.sum(-2)\n",
    "    stat1[stat1 == 0.0] = 1.0\n",
    "    states_expand = states.unsqueeze(-1).repeat(1, 1, 1, 1, D)\n",
    "    obs_expand = obs.unsqueeze(-1).repeat(1, 1, 1, 1, K).transpose(-1, -2)\n",
    "    stat2 = (states_expand * obs_expand).sum(2) #  S * B * K * D\n",
    "    mu = stat2 / stat1.unsqueeze(-1).repeat(1, 1, 1, D)\n",
    "    return mu\n",
    "\n",
    "def Gibbs_radi(obs, state, obs_mu):\n",
    "    S, B, N, D = obs.shape\n",
    "    K = state.shape[-1]\n",
    "    obs_mu_expand = obs_mu.unsqueeze(-2).repeat(1, 1, 1, N, 1) # S * B * K * N * D\n",
    "    obs_expand = obs.unsqueeze(2).repeat(1, 1, K, 1, 1) #  S * B * K * N * D\n",
    "    radi = ((obs_expand - obs_mu_expand)**2).sum(-1).sqrt().mean(-1).unsqueeze(-1) # S * B * K * 1\n",
    "    return radi"
   ]
  },
  {
   "cell_type": "code",
   "execution_count": null,
   "metadata": {},
   "outputs": [],
   "source": [
    "BATCH_SIZE_TEST = 25\n",
    "Train_Params_Test = (NUM_EPOCHS, NUM_DATASETS, SAMPLE_SIZE, BATCH_SIZE_TEST, CUDA, DEVICE, PATH)\n",
    "Model_Params_Test = (noise_sigma, N, K, D, 50)\n",
    "obs, metric_step, reused = test(models, EUBO_init_z_sanity, Data, Model_Params_Test, Train_Params_Test)\n",
    "(q_mu, _, q_z, _) = reused"
   ]
  },
  {
   "cell_type": "code",
   "execution_count": null,
   "metadata": {},
   "outputs": [],
   "source": [
    "%time plot_samples(obs, q_mu, q_z, K, PATH)"
   ]
  },
  {
   "cell_type": "code",
   "execution_count": null,
   "metadata": {},
   "outputs": [],
   "source": [
    "incremental_gap = symkls_test.cpu().data.numpy()[1:]\n",
    "M = incremental_gap.shape[0]\n",
    "overall_gap = np.zeros(M)\n",
    "for m in range(M):\n",
    "    overall_gap[m] = incremental_gap[:m+1].sum()"
   ]
  },
  {
   "cell_type": "code",
   "execution_count": null,
   "metadata": {},
   "outputs": [],
   "source": [
    "fig = plt.figure(figsize=(12,6))\n",
    "ax = fig.add_subplot(111)\n",
    "plt.yscale(\"log\")\n",
    "ax.plot(incremental_gap, label=\"incremental gap\")\n",
    "ax.plot(overall_gap, label='overall gap')\n",
    "ax.legend(fontsize=14)\n",
    "ax.set_xlabel('Steps')"
   ]
  },
  {
   "cell_type": "code",
   "execution_count": null,
   "metadata": {},
   "outputs": [],
   "source": []
  }
 ],
 "metadata": {
  "kernelspec": {
   "display_name": "Python 3",
   "language": "python",
   "name": "python3"
  },
  "language_info": {
   "codemirror_mode": {
    "name": "ipython",
    "version": 3
   },
   "file_extension": ".py",
   "mimetype": "text/x-python",
   "name": "python",
   "nbconvert_exporter": "python",
   "pygments_lexer": "ipython3",
   "version": "3.7.3"
  }
 },
 "nbformat": 4,
 "nbformat_minor": 2
}
