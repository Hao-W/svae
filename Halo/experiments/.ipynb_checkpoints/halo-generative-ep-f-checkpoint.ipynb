{
 "cells": [
  {
   "cell_type": "code",
   "execution_count": 1,
   "metadata": {},
   "outputs": [
    {
     "name": "stdout",
     "output_type": "stream",
     "text": [
      "probtorch: 0.0+5a2c637 torch: 0.4.1 cuda: True\n"
     ]
    }
   ],
   "source": [
    "%matplotlib inline\n",
    "%run ../../import_envs.py\n",
    "print('probtorch:', probtorch.__version__, \n",
    "      'torch:', torch.__version__, \n",
    "      'cuda:', torch.cuda.is_available())\n",
    "\n",
    "from training_v2 import *"
   ]
  },
  {
   "cell_type": "code",
   "execution_count": 2,
   "metadata": {},
   "outputs": [],
   "source": [
    "## Load dataset\n",
    "data_path = \"../../../rings_fixed_radius_c2k\"\n",
    "Data = torch.from_numpy(np.load(data_path + '/obs.npy')).float()\n",
    "FIXED_RADIUS = 1.5\n",
    "\n",
    "NUM_DATASETS, N, D = Data.shape\n",
    "K = 3 ## number of clusters\n",
    "SAMPLE_SIZE = 10\n",
    "NUM_HIDDEN_GLOBAL = 8\n",
    "NUM_HIDDEN_LOCAL = 64\n",
    "NUM_HIDDEN_DEC = 64\n",
    "NUM_STATS = 16\n",
    "\n",
    "MCMC_SIZE = 1\n",
    "BATCH_SIZE = 20\n",
    "NUM_EPOCHS = 1000\n",
    "LEARNING_RATE = 1e-3\n",
    "CUDA = torch.cuda.is_available()\n",
    "PATH = 'halo-ep-generative-%dsteps-%dsamples' % (MCMC_SIZE, SAMPLE_SIZE)\n",
    "DEVICE = torch.device('cuda:1')\n",
    "\n",
    "obs_rad = torch.ones(1) * FIXED_RADIUS\n",
    "noise_sigma = torch.ones(1) * 0.05\n",
    "if CUDA:\n",
    "    obs_rad = obs_rad.cuda().to(DEVICE)\n",
    "    noise_sigma = noise_sigma.cuda().to(DEVICE)\n",
    "Train_Params = (NUM_EPOCHS, NUM_DATASETS, SAMPLE_SIZE, BATCH_SIZE, CUDA, DEVICE, PATH)\n",
    "Model_Params = (obs_rad, noise_sigma, N, K, D, MCMC_SIZE)"
   ]
  },
  {
   "cell_type": "code",
   "execution_count": 3,
   "metadata": {},
   "outputs": [],
   "source": [
    "from local_enc import *\n",
    "from global_oneshot import *\n",
    "from global_enc import *\n",
    "from decoder import *\n",
    "## if reparameterize continuous variables\n",
    "Reparameterized = False\n",
    "# initialization\n",
    "dec_x = Dec_x(D, NUM_HIDDEN_DEC, CUDA, DEVICE, Reparameterized)\n",
    "enc_z = Enc_z(K, D, NUM_HIDDEN_LOCAL, CUDA, DEVICE)\n",
    "enc_eta = Enc_mu(K, D, NUM_HIDDEN_GLOBAL, NUM_STATS, CUDA, DEVICE, Reparameterized)\n",
    "oneshot_eta = Oneshot_mu(K, D, NUM_HIDDEN_GLOBAL, NUM_STATS, CUDA, DEVICE, Reparameterized)\n",
    "if CUDA:\n",
    "    dec_x.cuda().to(DEVICE)\n",
    "    enc_z.cuda().to(DEVICE)\n",
    "    enc_eta.cuda().to(DEVICE)\n",
    "    oneshot_eta.cuda().to(DEVICE)\n",
    "        \n",
    "optimizer_enc =  torch.optim.Adam(list(oneshot_eta.parameters())+list(enc_eta.parameters())+list(enc_z.parameters()),lr=LEARNING_RATE, betas=(0.9, 0.99))\n",
    "optimizer_dec =  torch.optim.Adam(list(dec_x.parameters()),lr=LEARNING_RATE, betas=(0.9, 0.99))\n",
    "\n",
    "models = (oneshot_eta, enc_eta, enc_z, dec_x)"
   ]
  },
  {
   "cell_type": "code",
   "execution_count": 4,
   "metadata": {},
   "outputs": [],
   "source": [
    "# dec_x.load_state_dict(torch.load(\"../weights/dec-x-%s\" % PATH))\n",
    "# enc_z.load_state_dict(torch.load(\"../weights/enc-z-%s\" % PATH))\n",
    "# enc_eta.load_state_dict(torch.load(\"../weights/enc-mu-%s\" % PATH))\n",
    "# oneshot_eta.load_state_dict(torch.load(\"../weights/oneshot-mu-%s\" % PATH))"
   ]
  },
  {
   "cell_type": "code",
   "execution_count": 5,
   "metadata": {},
   "outputs": [
    {
     "name": "stdout",
     "output_type": "stream",
     "text": [
      "epoch: 0\\1000 (11s),  symKL_DB_eta: 79.853,  symKL_DB_z: 228.393,  gap: 95.421,  loss: 1101.505,  ess: 1.894\n",
      "epoch: 1\\1000 (11s),  symKL_DB_eta: 211.487,  symKL_DB_z: 227.595,  gap: 175.597,  loss: 905.712,  ess: 1.867\n",
      "epoch: 2\\1000 (11s),  symKL_DB_eta: 444.432,  symKL_DB_z: 227.725,  gap: 292.060,  loss: 721.060,  ess: 1.852\n",
      "epoch: 3\\1000 (11s),  symKL_DB_eta: 879.709,  symKL_DB_z: 227.251,  gap: 465.978,  loss: 421.749,  ess: 1.859\n",
      "epoch: 4\\1000 (11s),  symKL_DB_eta: 1152.559,  symKL_DB_z: 227.423,  gap: 551.768,  loss: 114.693,  ess: 1.877\n",
      "epoch: 5\\1000 (11s),  symKL_DB_eta: 981.624,  symKL_DB_z: 227.196,  gap: 467.186,  loss: 233.734,  ess: 1.882\n",
      "epoch: 6\\1000 (11s),  symKL_DB_eta: 902.715,  symKL_DB_z: 227.097,  gap: 439.543,  loss: 280.688,  ess: 1.865\n",
      "epoch: 7\\1000 (12s),  symKL_DB_eta: 1217.530,  symKL_DB_z: 227.580,  gap: 536.041,  loss: -68.695,  ess: 1.897\n",
      "epoch: 8\\1000 (11s),  symKL_DB_eta: 1178.527,  symKL_DB_z: 227.729,  gap: 504.294,  loss: -100.872,  ess: 1.951\n",
      "epoch: 9\\1000 (11s),  symKL_DB_eta: 1081.455,  symKL_DB_z: 227.437,  gap: 454.396,  loss: -84.434,  ess: 1.949\n",
      "epoch: 10\\1000 (11s),  symKL_DB_eta: 1239.661,  symKL_DB_z: 227.469,  gap: 492.825,  loss: -264.970,  ess: 1.956\n",
      "epoch: 11\\1000 (11s),  symKL_DB_eta: 1254.314,  symKL_DB_z: 227.546,  gap: 490.293,  loss: -248.068,  ess: 1.965\n",
      "epoch: 12\\1000 (11s),  symKL_DB_eta: 1287.677,  symKL_DB_z: 227.228,  gap: 495.075,  loss: -272.868,  ess: 1.933\n",
      "epoch: 13\\1000 (11s),  symKL_DB_eta: 1100.902,  symKL_DB_z: 227.397,  gap: 436.026,  loss: -20.984,  ess: 1.912\n",
      "epoch: 14\\1000 (11s),  symKL_DB_eta: 888.174,  symKL_DB_z: 227.408,  gap: 354.001,  loss: 148.281,  ess: 1.892\n",
      "epoch: 15\\1000 (11s),  symKL_DB_eta: 601.691,  symKL_DB_z: 227.449,  gap: 244.044,  loss: 299.893,  ess: 1.866\n",
      "epoch: 16\\1000 (11s),  symKL_DB_eta: 350.526,  symKL_DB_z: 227.435,  gap: 158.320,  loss: 303.092,  ess: 1.872\n",
      "epoch: 17\\1000 (11s),  symKL_DB_eta: 270.205,  symKL_DB_z: 227.353,  gap: 134.409,  loss: 166.290,  ess: 1.894\n",
      "epoch: 18\\1000 (11s),  symKL_DB_eta: 432.175,  symKL_DB_z: 227.376,  gap: 178.221,  loss: -65.143,  ess: 1.876\n",
      "epoch: 19\\1000 (11s),  symKL_DB_eta: 629.776,  symKL_DB_z: 227.396,  gap: 215.374,  loss: -321.869,  ess: 1.867\n",
      "epoch: 20\\1000 (10s),  symKL_DB_eta: 457.829,  symKL_DB_z: 227.558,  gap: 176.528,  loss: -302.912,  ess: 1.876\n",
      "epoch: 21\\1000 (10s),  symKL_DB_eta: 280.309,  symKL_DB_z: 227.555,  gap: 120.518,  loss: -52.630,  ess: 1.901\n",
      "epoch: 22\\1000 (10s),  symKL_DB_eta: 149.004,  symKL_DB_z: 227.130,  gap: 87.163,  loss: 79.379,  ess: 1.907\n",
      "epoch: 23\\1000 (11s),  symKL_DB_eta: 90.903,  symKL_DB_z: 227.627,  gap: 72.805,  loss: 191.236,  ess: 1.922\n",
      "epoch: 24\\1000 (11s),  symKL_DB_eta: 60.361,  symKL_DB_z: 227.082,  gap: 68.309,  loss: -14.926,  ess: 1.927\n",
      "epoch: 25\\1000 (11s),  symKL_DB_eta: 45.346,  symKL_DB_z: 227.682,  gap: 65.435,  loss: 10.379,  ess: 1.936\n",
      "epoch: 26\\1000 (11s),  symKL_DB_eta: 68.090,  symKL_DB_z: 227.572,  gap: 70.773,  loss: -410.807,  ess: 1.925\n",
      "epoch: 27\\1000 (11s),  symKL_DB_eta: 50.556,  symKL_DB_z: 227.278,  gap: 67.024,  loss: -558.122,  ess: 1.930\n",
      "epoch: 28\\1000 (11s),  symKL_DB_eta: 41.582,  symKL_DB_z: 227.254,  gap: 65.147,  loss: -729.111,  ess: 1.940\n",
      "epoch: 29\\1000 (11s),  symKL_DB_eta: 38.765,  symKL_DB_z: 227.907,  gap: 63.720,  loss: -557.695,  ess: 1.942\n",
      "epoch: 30\\1000 (11s),  symKL_DB_eta: 35.794,  symKL_DB_z: 227.310,  gap: 62.449,  loss: -670.516,  ess: 1.946\n",
      "epoch: 31\\1000 (11s),  symKL_DB_eta: 33.756,  symKL_DB_z: 227.414,  gap: 61.322,  loss: -439.222,  ess: 1.951\n",
      "epoch: 32\\1000 (11s),  symKL_DB_eta: 33.412,  symKL_DB_z: 227.354,  gap: 60.390,  loss: -37.428,  ess: 1.954\n",
      "epoch: 33\\1000 (10s),  symKL_DB_eta: 33.309,  symKL_DB_z: 227.500,  gap: 60.176,  loss: -53.540,  ess: 1.955\n",
      "epoch: 34\\1000 (10s),  symKL_DB_eta: 33.434,  symKL_DB_z: 227.333,  gap: 60.728,  loss: -378.284,  ess: 1.957\n",
      "epoch: 35\\1000 (10s),  symKL_DB_eta: 33.103,  symKL_DB_z: 227.474,  gap: 60.956,  loss: -643.444,  ess: 1.952\n",
      "epoch: 36\\1000 (10s),  symKL_DB_eta: 33.769,  symKL_DB_z: 227.203,  gap: 61.933,  loss: -946.983,  ess: 1.958\n",
      "epoch: 37\\1000 (10s),  symKL_DB_eta: 33.530,  symKL_DB_z: 227.364,  gap: 62.021,  loss: -1061.641,  ess: 1.945\n",
      "epoch: 38\\1000 (10s),  symKL_DB_eta: 33.324,  symKL_DB_z: 227.248,  gap: 61.269,  loss: -790.100,  ess: 1.955\n",
      "epoch: 39\\1000 (11s),  symKL_DB_eta: 33.462,  symKL_DB_z: 227.263,  gap: 61.447,  loss: -798.731,  ess: 1.950\n",
      "epoch: 40\\1000 (11s),  symKL_DB_eta: 33.399,  symKL_DB_z: 227.516,  gap: 61.890,  loss: -1076.022,  ess: 1.956\n",
      "epoch: 41\\1000 (11s),  symKL_DB_eta: 33.437,  symKL_DB_z: 226.569,  gap: 62.258,  loss: -1371.843,  ess: 1.954\n"
     ]
    },
    {
     "ename": "KeyboardInterrupt",
     "evalue": "",
     "output_type": "error",
     "traceback": [
      "\u001b[0;31m---------------------------------------------------------------------------\u001b[0m",
      "\u001b[0;31mKeyboardInterrupt\u001b[0m                         Traceback (most recent call last)",
      "\u001b[0;32m<ipython-input-5-ee778c12f7c4>\u001b[0m in \u001b[0;36m<module>\u001b[0;34m()\u001b[0m\n\u001b[1;32m      1\u001b[0m \u001b[0;32mfrom\u001b[0m \u001b[0mag_ep_v2\u001b[0m \u001b[0;32mimport\u001b[0m \u001b[0;34m*\u001b[0m\u001b[0;34m\u001b[0m\u001b[0m\n\u001b[0;32m----> 2\u001b[0;31m \u001b[0mtrain_v2\u001b[0m\u001b[0;34m(\u001b[0m\u001b[0mmodels\u001b[0m\u001b[0;34m,\u001b[0m \u001b[0mEUBO_init_eta_v2\u001b[0m\u001b[0;34m,\u001b[0m \u001b[0moptimizer_enc\u001b[0m\u001b[0;34m,\u001b[0m \u001b[0moptimizer_dec\u001b[0m\u001b[0;34m,\u001b[0m \u001b[0mData\u001b[0m\u001b[0;34m,\u001b[0m \u001b[0mModel_Params\u001b[0m\u001b[0;34m,\u001b[0m \u001b[0mTrain_Params\u001b[0m\u001b[0;34m)\u001b[0m\u001b[0;34m\u001b[0m\u001b[0m\n\u001b[0m",
      "\u001b[0;32m~/Research/amortized/Halo/training_v2.py\u001b[0m in \u001b[0;36mtrain_v2\u001b[0;34m(models, objective, optimizer_enc, optimizer_dec, data, Model_Params, Train_Params)\u001b[0m\n\u001b[1;32m     24\u001b[0m             \u001b[0mloss\u001b[0m\u001b[0;34m,\u001b[0m \u001b[0mmetric_step\u001b[0m\u001b[0;34m,\u001b[0m \u001b[0mreused\u001b[0m \u001b[0;34m=\u001b[0m \u001b[0mobjective\u001b[0m\u001b[0;34m(\u001b[0m\u001b[0mmodels\u001b[0m\u001b[0;34m,\u001b[0m \u001b[0mobs\u001b[0m\u001b[0;34m,\u001b[0m \u001b[0mSubTrain_Params\u001b[0m\u001b[0;34m,\u001b[0m \u001b[0mp_flag\u001b[0m\u001b[0;34m=\u001b[0m\u001b[0;32mFalse\u001b[0m\u001b[0;34m)\u001b[0m\u001b[0;34m\u001b[0m\u001b[0m\n\u001b[1;32m     25\u001b[0m             \u001b[0;31m## gradient step\u001b[0m\u001b[0;34m\u001b[0m\u001b[0;34m\u001b[0m\u001b[0m\n\u001b[0;32m---> 26\u001b[0;31m             \u001b[0mloss\u001b[0m\u001b[0;34m.\u001b[0m\u001b[0mbackward\u001b[0m\u001b[0;34m(\u001b[0m\u001b[0;34m)\u001b[0m\u001b[0;34m\u001b[0m\u001b[0m\n\u001b[0m\u001b[1;32m     27\u001b[0m             \u001b[0moptimizer_enc\u001b[0m\u001b[0;34m.\u001b[0m\u001b[0mstep\u001b[0m\u001b[0;34m(\u001b[0m\u001b[0;34m)\u001b[0m\u001b[0;34m\u001b[0m\u001b[0m\n\u001b[1;32m     28\u001b[0m             \u001b[0;31m## update generative network\u001b[0m\u001b[0;34m\u001b[0m\u001b[0;34m\u001b[0m\u001b[0m\n",
      "\u001b[0;32m~/anaconda3/lib/python3.6/site-packages/torch/tensor.py\u001b[0m in \u001b[0;36mbackward\u001b[0;34m(self, gradient, retain_graph, create_graph)\u001b[0m\n\u001b[1;32m     91\u001b[0m                 \u001b[0mproducts\u001b[0m\u001b[0;34m.\u001b[0m \u001b[0mDefaults\u001b[0m \u001b[0mto\u001b[0m\u001b[0;31m \u001b[0m\u001b[0;31m`\u001b[0m\u001b[0;31m`\u001b[0m\u001b[0;32mFalse\u001b[0m\u001b[0;31m`\u001b[0m\u001b[0;31m`\u001b[0m\u001b[0;34m.\u001b[0m\u001b[0;34m\u001b[0m\u001b[0m\n\u001b[1;32m     92\u001b[0m         \"\"\"\n\u001b[0;32m---> 93\u001b[0;31m         \u001b[0mtorch\u001b[0m\u001b[0;34m.\u001b[0m\u001b[0mautograd\u001b[0m\u001b[0;34m.\u001b[0m\u001b[0mbackward\u001b[0m\u001b[0;34m(\u001b[0m\u001b[0mself\u001b[0m\u001b[0;34m,\u001b[0m \u001b[0mgradient\u001b[0m\u001b[0;34m,\u001b[0m \u001b[0mretain_graph\u001b[0m\u001b[0;34m,\u001b[0m \u001b[0mcreate_graph\u001b[0m\u001b[0;34m)\u001b[0m\u001b[0;34m\u001b[0m\u001b[0m\n\u001b[0m\u001b[1;32m     94\u001b[0m \u001b[0;34m\u001b[0m\u001b[0m\n\u001b[1;32m     95\u001b[0m     \u001b[0;32mdef\u001b[0m \u001b[0mregister_hook\u001b[0m\u001b[0;34m(\u001b[0m\u001b[0mself\u001b[0m\u001b[0;34m,\u001b[0m \u001b[0mhook\u001b[0m\u001b[0;34m)\u001b[0m\u001b[0;34m:\u001b[0m\u001b[0;34m\u001b[0m\u001b[0m\n",
      "\u001b[0;32m~/anaconda3/lib/python3.6/site-packages/torch/autograd/__init__.py\u001b[0m in \u001b[0;36mbackward\u001b[0;34m(tensors, grad_tensors, retain_graph, create_graph, grad_variables)\u001b[0m\n\u001b[1;32m     88\u001b[0m     Variable._execution_engine.run_backward(\n\u001b[1;32m     89\u001b[0m         \u001b[0mtensors\u001b[0m\u001b[0;34m,\u001b[0m \u001b[0mgrad_tensors\u001b[0m\u001b[0;34m,\u001b[0m \u001b[0mretain_graph\u001b[0m\u001b[0;34m,\u001b[0m \u001b[0mcreate_graph\u001b[0m\u001b[0;34m,\u001b[0m\u001b[0;34m\u001b[0m\u001b[0m\n\u001b[0;32m---> 90\u001b[0;31m         allow_unreachable=True)  # allow_unreachable flag\n\u001b[0m\u001b[1;32m     91\u001b[0m \u001b[0;34m\u001b[0m\u001b[0m\n\u001b[1;32m     92\u001b[0m \u001b[0;34m\u001b[0m\u001b[0m\n",
      "\u001b[0;31mKeyboardInterrupt\u001b[0m: "
     ]
    }
   ],
   "source": [
    "from ag_ep_v2 import *\n",
    "train_v2(models, EUBO_init_eta_v2, optimizer_enc, optimizer_dec, Data, Model_Params, Train_Params)"
   ]
  },
  {
   "cell_type": "code",
   "execution_count": null,
   "metadata": {},
   "outputs": [],
   "source": [
    "torch.save(dec_x.state_dict(), \"../weights/dec-x-%s\" % PATH)\n",
    "torch.save(enc_z.state_dict(), \"../weights/enc-z-%s\" % PATH)\n",
    "torch.save(enc_eta.state_dict(), \"../weights/enc-mu-%s\" % PATH)\n",
    "torch.save(oneshot_eta.state_dict(), \"../weights/oneshot-mu-%s\" % PATH)"
   ]
  },
  {
   "cell_type": "code",
   "execution_count": null,
   "metadata": {},
   "outputs": [],
   "source": [
    "def test_v2(models, objective, Data, Model_Params, Train_Params):\n",
    "    (NUM_EPOCHS, NUM_DATASETS, S, B, CUDA, device, path) = Train_Params\n",
    "    SubTrain_Params = (device, S, B) + Model_Params\n",
    "    ##(N, K, D, mcmc_size) = Model_Params\n",
    "    indices = torch.randperm(NUM_DATASETS)\n",
    "    batch_indices = indices[0*B : (0+1)*B]\n",
    "    obs = Data[batch_indices]\n",
    "    obs = shuffler(obs).repeat(S, 1, 1, 1)\n",
    "    if CUDA:\n",
    "        obs =obs.cuda().to(device)\n",
    "    loss, metric_step, reused = objective(models, obs, SubTrain_Params, p_flag=False)\n",
    "    return obs, metric_step, reused\n"
   ]
  },
  {
   "cell_type": "code",
   "execution_count": null,
   "metadata": {},
   "outputs": [],
   "source": [
    "BATCH_SIZE_TEST = 50\n",
    "from ag_ep_v2 import *\n",
    "Train_Params_Test = (NUM_EPOCHS, NUM_DATASETS, SAMPLE_SIZE, BATCH_SIZE_TEST, CUDA, DEVICE, PATH)\n",
    "\n",
    "obs, metric_step, reused = test_v2(models, EUBO_init_eta_v2, Data, Model_Params, Train_Params_Test)\n",
    "(q_mu, _, q_z, _, x_recon) = reused"
   ]
  },
  {
   "cell_type": "code",
   "execution_count": null,
   "metadata": {},
   "outputs": [],
   "source": [
    "def plot_samples(obs, x_recon, K, PATH):\n",
    "    colors = ['r', 'b', 'g']\n",
    "\n",
    "    fig = plt.figure(figsize=(25,50))\n",
    "    xs = obs[0].cpu().data.numpy()\n",
    "    xs_recon = obs[0].cpu().data.numpy()\n",
    "    batch_size, N, D = xs.shape\n",
    "#     E_mu = q_mu['means'].dist.loc[0].cpu().data.numpy()\n",
    "#     Std_mu = q_mu['means'].dist.scale[0].cpu().data.numpy()\n",
    "#     E_z = q_z['zs'].dist.probs[0].cpu().data.numpy()\n",
    "    for b in range(batch_size):\n",
    "        ax = fig.add_subplot(int(batch_size / 5), 5, b+1)\n",
    "        ax.scatter(xs[b, :, 0], xs[b, :, 1], c='k', alpha=0.2)\n",
    "        ax.scatter(xs_recon[b, :, 0], xs_recon[b, :, 1], c='r')\n",
    "        ax.set_ylim([-7, 7])\n",
    "        ax.set_xlim([-7, 7])"
   ]
  },
  {
   "cell_type": "code",
   "execution_count": null,
   "metadata": {},
   "outputs": [],
   "source": [
    "%time plot_samples(obs, x_recon, K, PATH)"
   ]
  },
  {
   "cell_type": "code",
   "execution_count": null,
   "metadata": {},
   "outputs": [],
   "source": [
    "incremental_gap = symkls_test.cpu().data.numpy()[1:]\n",
    "M = incremental_gap.shape[0]\n",
    "overall_gap = np.zeros(M)\n",
    "for m in range(M):\n",
    "    overall_gap[m] = incremental_gap[:m+1].sum()"
   ]
  },
  {
   "cell_type": "code",
   "execution_count": null,
   "metadata": {},
   "outputs": [],
   "source": [
    "fig = plt.figure(figsize=(12,6))\n",
    "ax = fig.add_subplot(111)\n",
    "plt.yscale(\"log\")\n",
    "ax.plot(incremental_gap, label=\"incremental gap\")\n",
    "ax.plot(overall_gap, label='overall gap')\n",
    "ax.legend(fontsize=14)\n",
    "ax.set_xlabel('Steps')"
   ]
  },
  {
   "cell_type": "code",
   "execution_count": null,
   "metadata": {},
   "outputs": [],
   "source": []
  }
 ],
 "metadata": {
  "kernelspec": {
   "display_name": "Python 3",
   "language": "python",
   "name": "python3"
  },
  "language_info": {
   "codemirror_mode": {
    "name": "ipython",
    "version": 3
   },
   "file_extension": ".py",
   "mimetype": "text/x-python",
   "name": "python",
   "nbconvert_exporter": "python",
   "pygments_lexer": "ipython3",
   "version": "3.7.3"
  }
 },
 "nbformat": 4,
 "nbformat_minor": 2
}
