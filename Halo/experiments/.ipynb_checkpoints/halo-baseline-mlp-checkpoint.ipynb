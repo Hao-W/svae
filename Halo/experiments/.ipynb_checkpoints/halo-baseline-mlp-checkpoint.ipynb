{
 "cells": [
  {
   "cell_type": "code",
   "execution_count": 1,
   "metadata": {},
   "outputs": [
    {
     "name": "stdout",
     "output_type": "stream",
     "text": [
      "probtorch: 0.0+5a2c637 torch: 1.1.0 cuda: True\n"
     ]
    }
   ],
   "source": [
    "%matplotlib inline\n",
    "%run ../../import_envs.py\n",
    "print('probtorch:', probtorch.__version__, \n",
    "      'torch:', torch.__version__, \n",
    "      'cuda:', torch.cuda.is_available())"
   ]
  },
  {
   "cell_type": "code",
   "execution_count": 2,
   "metadata": {},
   "outputs": [],
   "source": [
    "## Load dataset\n",
    "data_path = \"../rings_fixed_radius\"\n",
    "Data = torch.from_numpy(np.load(data_path + '/obs.npy')).float()\n",
    "FIXED_RADIUS = 1.5\n",
    "\n",
    "NUM_DATASETS, N, D = Data.shape\n",
    "K = 3 ## number of clusters\n",
    "SAMPLE_SIZE = 10\n",
    "NUM_HIDDEN_GLOBAL = 8\n",
    "NUM_HIDDEN_LOCAL = 64\n",
    "NUM_STATS = 16\n",
    "\n",
    "MCMC_SIZE = 10\n",
    "BATCH_SIZE = 20\n",
    "NUM_EPOCHS = 300\n",
    "LEARNING_RATE = 1e-4\n",
    "CUDA = torch.cuda.is_available()\n",
    "PATH = 'baseline-mlp-%dsamples' % (SAMPLE_SIZE)\n",
    "DEVICE = torch.device('cuda:0')\n",
    "\n",
    "obs_rad = torch.ones(1) * FIXED_RADIUS\n",
    "noise_sigma = torch.ones(1) * 0.05\n",
    "if CUDA:\n",
    "    obs_rad = obs_rad.cuda().to(DEVICE)\n",
    "    noise_sigma = noise_sigma.cuda().to(DEVICE)\n",
    "Train_Params = (NUM_EPOCHS, NUM_DATASETS, SAMPLE_SIZE, BATCH_SIZE, CUDA, DEVICE, PATH)\n",
    "Model_Params = (obs_rad, noise_sigma, N, K, D)"
   ]
  },
  {
   "cell_type": "code",
   "execution_count": 3,
   "metadata": {},
   "outputs": [],
   "source": [
    "from local_enc import *\n",
    "from global_oneshot import *\n",
    "## if reparameterize continuous variables\n",
    "Reparameterized = False\n",
    "# initialization\n",
    "enc_z = Enc_z(K, D, NUM_HIDDEN_LOCAL, CUDA, DEVICE)\n",
    "if CUDA:\n",
    "    enc_z.cuda().to(DEVICE)\n",
    "oneshot_eta = Oneshot_mu(K, D, NUM_HIDDEN_GLOBAL, NUM_STATS, CUDA, DEVICE, Reparameterized)\n",
    "if CUDA:\n",
    "    oneshot_eta.cuda().to(DEVICE)\n",
    "optimizer =  torch.optim.Adam(list(oneshot_eta.parameters())+list(enc_z.parameters()),lr=LEARNING_RATE, betas=(0.9, 0.99))\n",
    "models = (oneshot_eta, enc_z)"
   ]
  },
  {
   "cell_type": "code",
   "execution_count": 4,
   "metadata": {},
   "outputs": [
    {
     "name": "stdout",
     "output_type": "stream",
     "text": [
      "epoch: 0\\300 (13s),  eubo: -574259.451,  elbo: -683248.312,  ess: 1.000\n",
      "epoch: 1\\300 (12s),  eubo: -540529.708,  elbo: -629727.488,  ess: 1.000\n",
      "epoch: 2\\300 (12s),  eubo: -470686.329,  elbo: -583130.063,  ess: 1.000\n",
      "epoch: 3\\300 (12s),  eubo: -366132.606,  elbo: -515104.378,  ess: 1.000\n",
      "epoch: 4\\300 (13s),  eubo: -301749.546,  elbo: -460880.130,  ess: 1.000\n",
      "epoch: 5\\300 (12s),  eubo: -277432.896,  elbo: -436589.056,  ess: 1.000\n",
      "epoch: 6\\300 (12s),  eubo: -253024.658,  elbo: -404020.403,  ess: 1.000\n",
      "epoch: 7\\300 (13s),  eubo: -238112.624,  elbo: -370260.445,  ess: 1.000\n",
      "epoch: 8\\300 (12s),  eubo: -221224.857,  elbo: -331508.528,  ess: 1.000\n",
      "epoch: 9\\300 (15s),  eubo: -204577.673,  elbo: -303430.360,  ess: 1.000\n",
      "epoch: 10\\300 (15s),  eubo: -190382.779,  elbo: -290934.071,  ess: 1.000\n",
      "epoch: 11\\300 (15s),  eubo: -178348.096,  elbo: -281591.398,  ess: 1.000\n",
      "epoch: 12\\300 (15s),  eubo: -158473.150,  elbo: -270557.786,  ess: 1.000\n",
      "epoch: 13\\300 (15s),  eubo: -136055.517,  elbo: -254453.713,  ess: 1.000\n",
      "epoch: 14\\300 (15s),  eubo: -129167.435,  elbo: -253087.443,  ess: 1.000\n",
      "epoch: 15\\300 (16s),  eubo: -109931.754,  elbo: -233704.087,  ess: 1.000\n",
      "epoch: 16\\300 (14s),  eubo: -106044.556,  elbo: -227642.835,  ess: 1.000\n",
      "epoch: 17\\300 (16s),  eubo: -96361.531,  elbo: -209350.357,  ess: 1.000\n",
      "epoch: 18\\300 (15s),  eubo: -92842.364,  elbo: -199486.669,  ess: 1.000\n",
      "epoch: 19\\300 (15s),  eubo: -88851.209,  elbo: -194993.675,  ess: 1.001\n",
      "epoch: 20\\300 (16s),  eubo: -92844.662,  elbo: -201472.699,  ess: 1.000\n",
      "epoch: 21\\300 (15s),  eubo: -89927.885,  elbo: -198373.338,  ess: 1.000\n",
      "epoch: 22\\300 (15s),  eubo: -85451.409,  elbo: -192589.330,  ess: 1.000\n",
      "epoch: 23\\300 (15s),  eubo: -81534.086,  elbo: -178950.807,  ess: 1.001\n",
      "epoch: 24\\300 (15s),  eubo: -84849.663,  elbo: -183311.487,  ess: 1.000\n",
      "epoch: 25\\300 (16s),  eubo: -82661.447,  elbo: -179026.850,  ess: 1.000\n",
      "epoch: 26\\300 (13s),  eubo: -78858.115,  elbo: -172891.680,  ess: 1.000\n",
      "epoch: 27\\300 (13s),  eubo: -83185.194,  elbo: -180176.460,  ess: 1.000\n",
      "epoch: 28\\300 (13s),  eubo: -83130.504,  elbo: -176731.067,  ess: 1.000\n",
      "epoch: 29\\300 (12s),  eubo: -80494.844,  elbo: -172985.119,  ess: 1.001\n",
      "epoch: 30\\300 (12s),  eubo: -78190.164,  elbo: -168507.389,  ess: 1.000\n",
      "epoch: 31\\300 (12s),  eubo: -76853.879,  elbo: -166321.671,  ess: 1.001\n",
      "epoch: 32\\300 (12s),  eubo: -76602.907,  elbo: -158766.420,  ess: 1.001\n",
      "epoch: 33\\300 (13s),  eubo: -80721.290,  elbo: -168670.083,  ess: 1.000\n",
      "epoch: 34\\300 (13s),  eubo: -77379.649,  elbo: -163134.870,  ess: 1.000\n",
      "epoch: 35\\300 (12s),  eubo: -79115.229,  elbo: -162433.615,  ess: 1.000\n",
      "epoch: 36\\300 (12s),  eubo: -83633.339,  elbo: -173006.354,  ess: 1.000\n",
      "epoch: 37\\300 (12s),  eubo: -80922.385,  elbo: -167282.362,  ess: 1.000\n",
      "epoch: 38\\300 (12s),  eubo: -76109.254,  elbo: -160485.425,  ess: 1.000\n",
      "epoch: 39\\300 (12s),  eubo: -75616.295,  elbo: -160476.433,  ess: 1.000\n",
      "epoch: 40\\300 (12s),  eubo: -75954.101,  elbo: -157840.966,  ess: 1.001\n",
      "epoch: 41\\300 (12s),  eubo: -73965.252,  elbo: -151249.413,  ess: 1.000\n",
      "epoch: 42\\300 (12s),  eubo: -78535.231,  elbo: -162057.476,  ess: 1.000\n",
      "epoch: 43\\300 (12s),  eubo: -72370.930,  elbo: -151392.881,  ess: 1.000\n",
      "epoch: 44\\300 (12s),  eubo: -74129.484,  elbo: -151405.518,  ess: 1.000\n",
      "epoch: 45\\300 (13s),  eubo: -73457.328,  elbo: -153244.538,  ess: 1.000\n",
      "epoch: 46\\300 (12s),  eubo: -75584.222,  elbo: -154328.086,  ess: 1.000\n",
      "epoch: 47\\300 (12s),  eubo: -74214.710,  elbo: -151668.475,  ess: 1.001\n",
      "epoch: 48\\300 (12s),  eubo: -72873.930,  elbo: -148796.976,  ess: 1.000\n",
      "epoch: 49\\300 (12s),  eubo: -72023.530,  elbo: -147141.607,  ess: 1.000\n",
      "epoch: 50\\300 (12s),  eubo: -71325.512,  elbo: -146478.467,  ess: 1.000\n",
      "epoch: 51\\300 (13s),  eubo: -69272.498,  elbo: -142516.554,  ess: 1.000\n",
      "epoch: 52\\300 (12s),  eubo: -69722.502,  elbo: -141621.569,  ess: 1.000\n",
      "epoch: 53\\300 (13s),  eubo: -69427.033,  elbo: -137260.369,  ess: 1.000\n",
      "epoch: 54\\300 (12s),  eubo: -68552.175,  elbo: -137138.661,  ess: 1.000\n",
      "epoch: 55\\300 (12s),  eubo: -69090.233,  elbo: -138234.031,  ess: 1.000\n",
      "epoch: 56\\300 (13s),  eubo: -64271.193,  elbo: -127993.007,  ess: 1.000\n",
      "epoch: 57\\300 (12s),  eubo: -67741.423,  elbo: -134724.578,  ess: 1.000\n",
      "epoch: 58\\300 (12s),  eubo: -66754.616,  elbo: -134394.749,  ess: 1.000\n",
      "epoch: 59\\300 (12s),  eubo: -65874.200,  elbo: -132745.608,  ess: 1.000\n",
      "epoch: 60\\300 (12s),  eubo: -64764.020,  elbo: -131204.789,  ess: 1.000\n",
      "epoch: 61\\300 (12s),  eubo: -66688.108,  elbo: -133209.370,  ess: 1.000\n",
      "epoch: 62\\300 (12s),  eubo: -68984.353,  elbo: -138293.566,  ess: 1.001\n",
      "epoch: 63\\300 (13s),  eubo: -64025.562,  elbo: -129048.394,  ess: 1.000\n",
      "epoch: 64\\300 (12s),  eubo: -63080.925,  elbo: -128947.474,  ess: 1.000\n",
      "epoch: 65\\300 (12s),  eubo: -62832.200,  elbo: -124095.259,  ess: 1.000\n",
      "epoch: 66\\300 (13s),  eubo: -62301.434,  elbo: -123591.322,  ess: 1.000\n",
      "epoch: 67\\300 (13s),  eubo: -62731.697,  elbo: -124491.576,  ess: 1.000\n",
      "epoch: 68\\300 (12s),  eubo: -62373.702,  elbo: -122260.440,  ess: 1.000\n",
      "epoch: 69\\300 (12s),  eubo: -63390.052,  elbo: -125149.636,  ess: 1.000\n",
      "epoch: 70\\300 (12s),  eubo: -61442.107,  elbo: -122743.443,  ess: 1.000\n",
      "epoch: 71\\300 (13s),  eubo: -62916.628,  elbo: -122797.193,  ess: 1.001\n",
      "epoch: 72\\300 (12s),  eubo: -60734.702,  elbo: -119359.087,  ess: 1.000\n",
      "epoch: 73\\300 (12s),  eubo: -58035.750,  elbo: -114380.230,  ess: 1.000\n",
      "epoch: 74\\300 (12s),  eubo: -62425.304,  elbo: -121483.120,  ess: 1.000\n",
      "epoch: 75\\300 (13s),  eubo: -59966.892,  elbo: -117353.906,  ess: 1.000\n",
      "epoch: 76\\300 (12s),  eubo: -61678.603,  elbo: -121135.143,  ess: 1.000\n",
      "epoch: 77\\300 (13s),  eubo: -59183.239,  elbo: -115450.540,  ess: 1.000\n",
      "epoch: 78\\300 (12s),  eubo: -56657.201,  elbo: -110968.682,  ess: 1.000\n",
      "epoch: 79\\300 (12s),  eubo: -60100.606,  elbo: -114102.411,  ess: 1.001\n",
      "epoch: 80\\300 (12s),  eubo: -58614.574,  elbo: -118939.598,  ess: 1.000\n",
      "epoch: 81\\300 (12s),  eubo: -55137.301,  elbo: -111685.836,  ess: 1.000\n",
      "epoch: 82\\300 (12s),  eubo: -59697.425,  elbo: -119524.854,  ess: 1.000\n",
      "epoch: 83\\300 (13s),  eubo: -58547.326,  elbo: -117023.042,  ess: 1.000\n",
      "epoch: 84\\300 (13s),  eubo: -56294.426,  elbo: -111805.922,  ess: 1.000\n",
      "epoch: 85\\300 (12s),  eubo: -55789.611,  elbo: -112386.925,  ess: 1.000\n",
      "epoch: 86\\300 (12s),  eubo: -57238.020,  elbo: -116277.995,  ess: 1.000\n",
      "epoch: 87\\300 (12s),  eubo: -54579.185,  elbo: -110781.849,  ess: 1.001\n",
      "epoch: 88\\300 (13s),  eubo: -57228.575,  elbo: -114912.827,  ess: 1.001\n",
      "epoch: 89\\300 (12s),  eubo: -53530.058,  elbo: -108029.674,  ess: 1.000\n",
      "epoch: 90\\300 (12s),  eubo: -54422.021,  elbo: -111349.764,  ess: 1.001\n",
      "epoch: 91\\300 (12s),  eubo: -53620.491,  elbo: -108839.744,  ess: 1.000\n",
      "epoch: 92\\300 (12s),  eubo: -55073.248,  elbo: -112289.226,  ess: 1.000\n",
      "epoch: 93\\300 (12s),  eubo: -55090.087,  elbo: -115706.729,  ess: 1.000\n",
      "epoch: 94\\300 (12s),  eubo: -53176.519,  elbo: -109638.816,  ess: 1.000\n",
      "epoch: 95\\300 (13s),  eubo: -51937.194,  elbo: -104470.525,  ess: 1.000\n",
      "epoch: 96\\300 (12s),  eubo: -54133.170,  elbo: -109327.441,  ess: 1.000\n",
      "epoch: 97\\300 (12s),  eubo: -54387.211,  elbo: -111090.104,  ess: 1.000\n",
      "epoch: 98\\300 (13s),  eubo: -54261.739,  elbo: -111132.431,  ess: 1.000\n",
      "epoch: 99\\300 (12s),  eubo: -56338.474,  elbo: -113655.882,  ess: 1.000\n",
      "epoch: 100\\300 (12s),  eubo: -56602.662,  elbo: -112834.762,  ess: 1.000\n",
      "epoch: 101\\300 (12s),  eubo: -54165.535,  elbo: -111695.791,  ess: 1.000\n",
      "epoch: 102\\300 (12s),  eubo: -53626.434,  elbo: -107041.468,  ess: 1.001\n",
      "epoch: 103\\300 (13s),  eubo: -53252.124,  elbo: -110920.293,  ess: 1.000\n",
      "epoch: 104\\300 (12s),  eubo: -50780.014,  elbo: -104837.959,  ess: 1.000\n",
      "epoch: 105\\300 (12s),  eubo: -53761.918,  elbo: -109525.812,  ess: 1.000\n"
     ]
    },
    {
     "name": "stderr",
     "output_type": "stream",
     "text": [
      "ERROR:root:Internal Python error in the inspect module.\n",
      "Below is the traceback from this internal error.\n",
      "\n"
     ]
    },
    {
     "name": "stdout",
     "output_type": "stream",
     "text": [
      "Traceback (most recent call last):\n",
      "  File \"/home/hao/anaconda3/lib/python3.7/site-packages/IPython/core/interactiveshell.py\", line 3296, in run_code\n",
      "    exec(code_obj, self.user_global_ns, self.user_ns)\n",
      "  File \"<ipython-input-4-d96b46a7abe2>\", line 2, in <module>\n",
      "    train(models, EP, optimizer, Data, Model_Params, Train_Params)\n",
      "  File \"../training.py\", line 24, in train\n",
      "    loss, metric_step, reused = objective(models, obs, SubTrain_Params)\n",
      "  File \"../objectives/os_ep.py\", line 19, in EP\n",
      "    q_z, p_z = enc_z.forward(obs, obs_mu, obs_rad, noise_sigma, N, K, sample_size, batch_size)\n",
      "  File \"../models/local_enc.py\", line 26, in forward\n",
      "    data_ck = torch.cat((obs, obs_mu[:, :, k, :].unsqueeze(-2).repeat(1,1,N,1), obs_rad.repeat(sample_size, batch_size, N, 1)), -1)\n",
      "KeyboardInterrupt\n",
      "\n",
      "During handling of the above exception, another exception occurred:\n",
      "\n",
      "Traceback (most recent call last):\n",
      "  File \"/home/hao/anaconda3/lib/python3.7/site-packages/IPython/core/interactiveshell.py\", line 2033, in showtraceback\n",
      "    stb = value._render_traceback_()\n",
      "AttributeError: 'KeyboardInterrupt' object has no attribute '_render_traceback_'\n",
      "\n",
      "During handling of the above exception, another exception occurred:\n",
      "\n",
      "Traceback (most recent call last):\n",
      "  File \"/home/hao/anaconda3/lib/python3.7/site-packages/IPython/core/ultratb.py\", line 1095, in get_records\n",
      "    return _fixed_getinnerframes(etb, number_of_lines_of_context, tb_offset)\n",
      "  File \"/home/hao/anaconda3/lib/python3.7/site-packages/IPython/core/ultratb.py\", line 313, in wrapped\n",
      "    return f(*args, **kwargs)\n",
      "  File \"/home/hao/anaconda3/lib/python3.7/site-packages/IPython/core/ultratb.py\", line 347, in _fixed_getinnerframes\n",
      "    records = fix_frame_records_filenames(inspect.getinnerframes(etb, context))\n",
      "  File \"/home/hao/anaconda3/lib/python3.7/inspect.py\", line 1502, in getinnerframes\n",
      "    frameinfo = (tb.tb_frame,) + getframeinfo(tb, context)\n",
      "  File \"/home/hao/anaconda3/lib/python3.7/inspect.py\", line 1460, in getframeinfo\n",
      "    filename = getsourcefile(frame) or getfile(frame)\n",
      "  File \"/home/hao/anaconda3/lib/python3.7/inspect.py\", line 696, in getsourcefile\n",
      "    if getattr(getmodule(object, filename), '__loader__', None) is not None:\n",
      "  File \"/home/hao/anaconda3/lib/python3.7/inspect.py\", line 742, in getmodule\n",
      "    os.path.realpath(f)] = module.__name__\n",
      "AttributeError: module has no attribute '__name__'\n"
     ]
    },
    {
     "ename": "KeyboardInterrupt",
     "evalue": "",
     "output_type": "error",
     "traceback": [
      "\u001b[0;31m---------------------------------------------------------------------------\u001b[0m"
     ]
    }
   ],
   "source": [
    "from os_ep import *\n",
    "train(models, EP, optimizer, Data, Model_Params, Train_Params)"
   ]
  },
  {
   "cell_type": "code",
   "execution_count": null,
   "metadata": {},
   "outputs": [],
   "source": [
    "torch.save(enc_z.state_dict(), \"../weights/enc-z-%s\" % PATH)\n",
    "torch.save(oneshot_eta.state_dict(), \"../weights/oneshot-eta-%s\" % PATH)"
   ]
  },
  {
   "cell_type": "code",
   "execution_count": null,
   "metadata": {},
   "outputs": [],
   "source": [
    "BATCH_SIZE_TEST = 50\n",
    "Train_Params_Test = (NUM_EPOCHS, NUM_DATASETS, SAMPLE_SIZE, BATCH_SIZE_TEST, CUDA, DEVICE, PATH)\n",
    "obs, metric_step, reused = test(models, EP, Data, Model_Params, Train_Params_Test)\n",
    "(q_mu, _, q_z, _) = reused"
   ]
  },
  {
   "cell_type": "code",
   "execution_count": null,
   "metadata": {},
   "outputs": [],
   "source": [
    "%time plot_samples(obs, q_mu, q_z, K, PATH)"
   ]
  },
  {
   "cell_type": "code",
   "execution_count": null,
   "metadata": {},
   "outputs": [],
   "source": [
    "incremental_gap = symkls_test.cpu().data.numpy()[1:]\n",
    "M = incremental_gap.shape[0]\n",
    "overall_gap = np.zeros(M)\n",
    "for m in range(M):\n",
    "    overall_gap[m] = incremental_gap[:m+1].sum()"
   ]
  },
  {
   "cell_type": "code",
   "execution_count": null,
   "metadata": {},
   "outputs": [],
   "source": [
    "fig = plt.figure(figsize=(12,6))\n",
    "ax = fig.add_subplot(111)\n",
    "plt.yscale(\"log\")\n",
    "ax.plot(incremental_gap, label=\"incremental gap\")\n",
    "ax.plot(overall_gap, label='overall gap')\n",
    "ax.legend(fontsize=14)\n",
    "ax.set_xlabel('Steps')"
   ]
  },
  {
   "cell_type": "code",
   "execution_count": null,
   "metadata": {},
   "outputs": [],
   "source": []
  }
 ],
 "metadata": {
  "kernelspec": {
   "display_name": "Python 3",
   "language": "python",
   "name": "python3"
  },
  "language_info": {
   "codemirror_mode": {
    "name": "ipython",
    "version": 3
   },
   "file_extension": ".py",
   "mimetype": "text/x-python",
   "name": "python",
   "nbconvert_exporter": "python",
   "pygments_lexer": "ipython3",
   "version": "3.7.3"
  }
 },
 "nbformat": 4,
 "nbformat_minor": 2
}
