{
 "cells": [
  {
   "cell_type": "code",
   "execution_count": 1,
   "metadata": {},
   "outputs": [
    {
     "name": "stdout",
     "output_type": "stream",
     "text": [
      "probtorch: 0.0+5a2c637 torch: 1.1.0 cuda: True\n"
     ]
    }
   ],
   "source": [
    "%matplotlib inline\n",
    "%run ../../import_envs.py\n",
    "print('probtorch:', probtorch.__version__, \n",
    "      'torch:', torch.__version__, \n",
    "      'cuda:', torch.cuda.is_available())"
   ]
  },
  {
   "cell_type": "code",
   "execution_count": 2,
   "metadata": {},
   "outputs": [],
   "source": [
    "## Load dataset\n",
    "data_path = \"../../../rings_varying_radius\"\n",
    "Data = torch.from_numpy(np.load(data_path + '/obs.npy')).float()\n",
    "NUM_DATASETS, N, D = Data.shape\n",
    "K = 3 ## number of clusters\n",
    "SAMPLE_SIZE = 10\n",
    "NUM_HIDDEN_GLOBAL = 128\n",
    "NUM_HIDDEN_LOCAL = 128\n",
    "NUM_STATS = 128\n",
    "\n",
    "MCMC_SIZE = 10\n",
    "BATCH_SIZE = 20\n",
    "NUM_EPOCHS = 500\n",
    "LEARNING_RATE = 1e-3\n",
    "\n",
    "CUDA = torch.cuda.is_available()\n",
    "PATH = 'AG-rad-20k-beta'\n",
    "DEVICE = torch.device('cuda:1')\n",
    "\n",
    "noise_sigma = torch.ones(1) * 0.05\n",
    "if CUDA:\n",
    "    noise_sigma = noise_sigma.cuda().to(DEVICE)\n",
    "Train_Params = (NUM_EPOCHS, NUM_DATASETS, SAMPLE_SIZE, BATCH_SIZE, CUDA, DEVICE, PATH)\n",
    "Model_Params = (noise_sigma, N, K, D, MCMC_SIZE)"
   ]
  },
  {
   "cell_type": "code",
   "execution_count": 3,
   "metadata": {},
   "outputs": [],
   "source": [
    "from local_enc_eta import *\n",
    "from global_oneshot_eta_v3 import *\n",
    "from global_enc_eta_v3 import *\n",
    "# initialization\n",
    "oneshot_eta = Oneshot_eta(K, D, NUM_HIDDEN_GLOBAL, NUM_STATS, CUDA, DEVICE)\n",
    "enc_z = Enc_z(K, D, NUM_HIDDEN_LOCAL, CUDA, DEVICE)\n",
    "enc_eta = Enc_eta(K, D, NUM_HIDDEN_GLOBAL, NUM_STATS, CUDA, DEVICE)\n",
    "if CUDA:\n",
    "    oneshot_eta.cuda().to(DEVICE)\n",
    "    enc_z.cuda().to(DEVICE)\n",
    "    enc_eta.cuda().to(DEVICE)\n",
    "\n",
    "models = (oneshot_eta, enc_eta, enc_z)"
   ]
  },
  {
   "cell_type": "code",
   "execution_count": null,
   "metadata": {},
   "outputs": [
    {
     "name": "stdout",
     "output_type": "stream",
     "text": [
      "epoch: 0\\500 (232s),  symKL_DB_eta: 2344.378,  symKL_DB_z: 8078.599,  gap: 10367.488,  loss: -2267.807,  ess: 4.159\n",
      "epoch: 1\\500 (232s),  symKL_DB_eta: 1703.869,  symKL_DB_z: 986.943,  gap: 2652.383,  loss: -2502.197,  ess: 4.745\n",
      "epoch: 2\\500 (231s),  symKL_DB_eta: 1591.801,  symKL_DB_z: 997.914,  gap: 2552.474,  loss: -2205.964,  ess: 4.723\n"
     ]
    }
   ],
   "source": [
    "from ag_ep_rad_v3 import *\n",
    "optimizer =  torch.optim.Adam(list(oneshot_eta.parameters())+list(enc_eta.parameters())+list(enc_z.parameters()),lr=LEARNING_RATE, betas=(0.9, 0.99))\n",
    "train(models, EUBO, optimizer, Data, Model_Params, Train_Params)"
   ]
  },
  {
   "cell_type": "code",
   "execution_count": null,
   "metadata": {},
   "outputs": [],
   "source": [
    "# torch.save(enc_z.state_dict(), \"../weights/enc-z-rad-%s\" % PATH)\n",
    "# torch.save(enc_eta.state_dict(), \"../weights/enc-eta-rad-%s\" % PATH)\n",
    "# torch.save(oneshot_eta.state_dict(), \"../weights/oneshot-eta-rad-%s\" % PATH)"
   ]
  },
  {
   "cell_type": "code",
   "execution_count": null,
   "metadata": {},
   "outputs": [],
   "source": [
    "from forward_backward_rad import *\n",
    "MAX_MCMC_STEPS = 24\n",
    "SAMPLE_SIZE = 10\n",
    "BATCH_SIZE = 5\n",
    "Vis_Interval = 6\n",
    "##\n",
    "colors = ['r', 'b', 'g']\n",
    "gs = gridspec.GridSpec(BATCH_SIZE, 2+int(MAX_MCMC_STEPS / Vis_Interval))\n",
    "gs.update(left=0.0 , bottom=0.0, right=1.0, top=1.0, wspace=0, hspace=0)\n",
    "fig = plt.figure(figsize=(15,15))\n",
    "\n",
    "indices = torch.arange(NUM_DATASETS)\n",
    "step = 13\n",
    "batch_indices = indices[step*BATCH_SIZE : (step+1)*BATCH_SIZE]\n",
    "obs = Data[batch_indices]\n",
    "obs = shuffler(obs).repeat(SAMPLE_SIZE, 1, 1, 1)\n",
    "if CUDA:\n",
    "    obs =obs.cuda().to(DEVICE)\n",
    "    \n",
    "xs = obs[0].cpu().data.numpy()    \n",
    "for b in range(BATCH_SIZE):\n",
    "    xb = xs[b]\n",
    "    ax = fig.add_subplot(gs[b, 0])\n",
    "    ax.scatter(xb[:, 0], xb[:, 1], c='k')\n",
    "    ax.set_ylim([-12, 12])\n",
    "    ax.set_xlim([-12, 12])\n",
    "    ax.set_xticks([])\n",
    "    ax.set_yticks([])\n",
    "    if b == 0:\n",
    "        ax.set_title('Data', fontsize=30)\n",
    "        \n",
    "(oneshot_eta, enc_eta, enc_z) = models\n",
    "q_eta, p_eta = oneshot_eta(obs, K)\n",
    "obs_mu = q_eta['means'].value\n",
    "obs_rad = q_eta['radi'].value\n",
    "q_z, p_z = enc_z.forward(obs, obs_mu, obs_rad, noise_sigma, 1.0)\n",
    "state = q_z['zs'].value\n",
    "E_z = q_z['zs'].dist.probs.mean(0).cpu().data.numpy()\n",
    "E_mu = q_eta['means'].dist.loc.mean(0).cpu().data.numpy()\n",
    "for b in range(BATCH_SIZE):\n",
    "    ax = fig.add_subplot(gs[b, 1])\n",
    "    xb = xs[b]\n",
    "    zb = E_z[b]\n",
    "    mu = E_mu[b].reshape(K, D)\n",
    "    assignments = zb.argmax(-1)\n",
    "    for k in range(K):\n",
    "        xk = xb[np.where(assignments == k)]\n",
    "        ax.scatter(xk[:, 0], xk[:, 1], c=colors[k])\n",
    "    ax.set_ylim([-12, 12])\n",
    "    ax.set_xlim([-12, 12])\n",
    "    ax.set_xticks([])\n",
    "    ax.set_yticks([])\n",
    "    if b == 0:\n",
    "        ax.set_title('Step 0', fontsize=30)\n",
    "        \n",
    "for m in range(MAX_MCMC_STEPS):\n",
    "    q_eta, p_eta = enc_eta(obs, state)\n",
    "    obs_mu, obs_rad, log_w_eta_f, log_w_eta_b  = Incremental_eta(q_eta, p_eta, obs, state, noise_sigma, obs_mu, obs_rad)\n",
    "    q_z, p_z = enc_z.forward(obs, obs_mu, obs_rad, noise_sigma, temperature=1.0)\n",
    "    state, log_w_z_f, log_w_z_b = Incremental_z(q_z, p_z, obs, obs_mu, obs_rad, noise_sigma, state)\n",
    "    E_z = q_z['zs'].dist.probs.mean(0).cpu().data.numpy()\n",
    "    E_mu = q_eta['means'].dist.loc.mean(0).cpu().data.numpy()\n",
    "    if (m+1) % Vis_Interval == 0:\n",
    "        for b in range(BATCH_SIZE):\n",
    "            ax = fig.add_subplot(gs[b, 1 + int((m+1)/Vis_Interval)])\n",
    "            xb = xs[b]\n",
    "            zb = E_z[b]\n",
    "            mu = E_mu[b].reshape(K, D)\n",
    "            assignments = zb.argmax(-1)\n",
    "            for k in range(K):\n",
    "                xk = xb[np.where(assignments == k)]\n",
    "                ax.scatter(xk[:, 0], xk[:, 1], c=colors[k])\n",
    "            ax.set_ylim([-12, 12])\n",
    "            ax.set_xlim([-12, 12])\n",
    "            ax.set_xticks([])\n",
    "            ax.set_yticks([])\n",
    "            if b == 0:\n",
    "                ax.set_title('Step %d' % (m+1), fontsize=30)        "
   ]
  },
  {
   "cell_type": "code",
   "execution_count": null,
   "metadata": {},
   "outputs": [],
   "source": [
    "radi = (q_eta['radi'].dist.concentration[0].cpu().data.numpy() / q_eta['radi'].dist.rate[0].cpu().data.numpy())[-1]\n",
    "mu = q_eta['means'].dist.loc[0].cpu().data.numpy()[-1]\n",
    "fig = plt.figure(figsize=(10,10))\n",
    "ax = fig.add_subplot(111)\n",
    "ax.scatter(xb[:, 0], xb[:, 1], c='k')\n",
    "ax.set_xlim([-10, 5])\n",
    "ax.set_ylim([-8, 7])\n",
    "samples = np.linspace(0, 2*math.pi, 100, endpoint=False)\n",
    "xcoor = np.cos(samples)\n",
    "ycoor = np.sin(samples)\n",
    "for k in range(K):\n",
    "    xcoork = xcoor * radi[k] + mu[k, 0]\n",
    "    ycoork = ycoor * radi[k] + mu[k, 1]\n",
    "    ax.scatter(xcoork, ycoork)"
   ]
  },
  {
   "cell_type": "code",
   "execution_count": null,
   "metadata": {},
   "outputs": [],
   "source": [
    "from ag_ep_rad import *\n",
    "\n",
    "BATCH_SIZE_TEST = 25\n",
    "Train_Params_Test = (NUM_EPOCHS, NUM_DATASETS, 10, BATCH_SIZE_TEST, CUDA, DEVICE, PATH)\n",
    "Model_Params_Test = (noise_sigma, N, K, D, 20)\n",
    "obs,reused = test(models, EUBO, Data, Model_Params_Test, Train_Params_Test)\n",
    "(q_mu, _, q_z, _) = reused"
   ]
  },
  {
   "cell_type": "code",
   "execution_count": null,
   "metadata": {},
   "outputs": [],
   "source": [
    "%time plot_samples_v2(obs, q_mu, q_z, K, PATH)"
   ]
  },
  {
   "cell_type": "code",
   "execution_count": null,
   "metadata": {},
   "outputs": [],
   "source": []
  }
 ],
 "metadata": {
  "kernelspec": {
   "display_name": "Python 3",
   "language": "python",
   "name": "python3"
  },
  "language_info": {
   "codemirror_mode": {
    "name": "ipython",
    "version": 3
   },
   "file_extension": ".py",
   "mimetype": "text/x-python",
   "name": "python",
   "nbconvert_exporter": "python",
   "pygments_lexer": "ipython3",
   "version": "3.6.6"
  }
 },
 "nbformat": 4,
 "nbformat_minor": 2
}
