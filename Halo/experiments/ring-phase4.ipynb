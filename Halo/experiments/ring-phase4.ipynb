{
 "cells": [
  {
   "cell_type": "code",
   "execution_count": 1,
   "metadata": {},
   "outputs": [
    {
     "name": "stdout",
     "output_type": "stream",
     "text": [
      "probtorch: 0.0+5a2c637 torch: 0.4.1 cuda: True\n"
     ]
    }
   ],
   "source": [
    "%matplotlib inline\n",
    "%run ../../import_envs.py\n",
    "print('probtorch:', probtorch.__version__, \n",
    "      'torch:', torch.__version__, \n",
    "      'cuda:', torch.cuda.is_available())"
   ]
  },
  {
   "cell_type": "code",
   "execution_count": 2,
   "metadata": {},
   "outputs": [],
   "source": [
    "## Load dataset\n",
    "data_path = \"../../../Rings_2D\"\n",
    "OB = torch.from_numpy(np.load(data_path + '/ob.npy')).float()\n",
    "STATE = torch.from_numpy(np.load(data_path + '/state.npy')).float()\n",
    "MU = torch.from_numpy(np.load(data_path + '/mu.npy')).float()\n",
    "ANGLE = torch.from_numpy(np.load(data_path + '/angle.npy')).float()\n",
    "\n",
    "NUM_DATASETS, N, D = OB.shape\n",
    "K = 3\n",
    "MCMC_SIZE = 10\n",
    "SAMPLE_SIZE = 10\n",
    "BATCH_SIZE = 20\n",
    "NUM_BATCHES = int((NUM_DATASETS / BATCH_SIZE))\n",
    "NUM_EPOCHS = 100\n",
    "NUM_HIDDEN = 32\n",
    "NUM_NSS = 8\n",
    "LEARNING_RATE = 1e-3\n",
    "CUDA = torch.cuda.is_available()\n",
    "DEVICE = 0\n",
    "\n",
    "RECON_SIGMA = torch.ones(1) * 0.1\n",
    "RADI = torch.ones(1) * 2.0\n",
    "lg2pi = torch.log(torch.ones(1) * 2 * math.pi)\n",
    "PATH = 'ag-phase4'"
   ]
  },
  {
   "cell_type": "code",
   "execution_count": 3,
   "metadata": {},
   "outputs": [],
   "source": [
    "from global_oneshot_mu import *\n",
    "from global_enc_mu import *\n",
    "from local_gibbs_state import *\n",
    "from local_enc_angle import *\n",
    "from True_decoder import *\n",
    "# initialization\n",
    "oneshot_mu = Oneshot_mu_angle(K, D, NUM_HIDDEN, NUM_NSS, CUDA, DEVICE)\n",
    "enc_mu = Enc_mu(D, NUM_HIDDEN, NUM_NSS, CUDA, DEVICE)\n",
    "gibbs_state = Gibbs_state(K, CUDA, DEVICE)\n",
    "enc_angle = Enc_angle(D, NUM_HIDDEN, CUDA, DEVICE)\n",
    "dec_x = Dec_x(RADI, RECON_SIGMA, CUDA, DEVICE)\n",
    "if CUDA:\n",
    "    with torch.cuda.device(DEVICE):\n",
    "        oneshot_mu.cuda()\n",
    "        enc_mu.cuda()\n",
    "        enc_angle.cuda()\n",
    "#         gibbs_state.cuda()\n",
    "#         dec_x.cuda()\n",
    "optimizer =  torch.optim.Adam(list(oneshot_mu.parameters())+list(enc_mu.parameters())+list(enc_angle.parameters()),lr=LEARNING_RATE, betas=(0.9, 0.99))\n",
    "\n",
    "models = (oneshot_mu, gibbs_state, enc_mu, enc_angle, dec_x)"
   ]
  },
  {
   "cell_type": "code",
   "execution_count": 4,
   "metadata": {},
   "outputs": [],
   "source": [
    "# enc_angle.load_state_dict(torch.load('../results/enc-angle-' + PATH))\n",
    "# oneshot_mu.load_state_dict(torch.load('../results/oneshot-mu-' + PATH))\n",
    "# enc_mu.load_state_dict(torch.load('../results/enc-mu-' + PATH))"
   ]
  },
  {
   "cell_type": "code",
   "execution_count": null,
   "metadata": {},
   "outputs": [],
   "source": [
    "from ag_ep_dec import *\n",
    "for epoch in range(NUM_EPOCHS):\n",
    "    time_start = time.time()\n",
    "    ELBO = 0.0\n",
    "    EUBO = 0.0\n",
    "    ESS = 0.0\n",
    "    indices = torch.randperm(NUM_DATASETS)\n",
    "    for step in range(NUM_BATCHES):\n",
    "        optimizer.zero_grad()\n",
    "        batch_indices = indices[step*BATCH_SIZE : (step+1)*BATCH_SIZE]\n",
    "        ob = OB[batch_indices]\n",
    "        ob = shuffler(ob).repeat(SAMPLE_SIZE, 1, 1, 1)\n",
    "        if CUDA:\n",
    "            with torch.cuda.device(DEVICE):\n",
    "                ob = ob.cuda()\n",
    "        eubo, elbo, ess = AG_dec(models, ob, K, MCMC_SIZE, DEVICE)\n",
    "        eubo.backward()\n",
    "        optimizer.step()                     \n",
    "        ELBO += elbo.detach()\n",
    "        EUBO += eubo.detach()\n",
    "        ESS += ess\n",
    "    time_end = time.time()\n",
    "    print('epoch=%d, eubo=%.4f, elbo=%.4f, ess=%.4f (%ds)' % (epoch,  EUBO / NUM_BATCHES, ELBO / NUM_BATCHES, ESS / NUM_BATCHES, time_end - time_start))"
   ]
  },
  {
   "cell_type": "code",
   "execution_count": null,
   "metadata": {},
   "outputs": [],
   "source": [
    "LEARNING_RATE = 1e-4\n",
    "\n",
    "optimizer2 =  torch.optim.Adam(list(oneshot_mu.parameters())+list(enc_mu.parameters())+list(enc_angle.parameters()),lr=LEARNING_RATE, betas=(0.9, 0.99))\n",
    "NUM_EPOCHS = 500\n",
    "\n",
    "for epoch in range(NUM_EPOCHS):\n",
    "    time_start = time.time()\n",
    "    ELBO = 0.0\n",
    "    EUBO = 0.0\n",
    "    ESS = 0.0\n",
    "    indices = torch.randperm(NUM_DATASETS)\n",
    "    for step in range(NUM_BATCHES):\n",
    "        optimizer.zero_grad()\n",
    "        batch_indices = indices[step*BATCH_SIZE : (step+1)*BATCH_SIZE]\n",
    "        ob = OB[batch_indices]\n",
    "        ob = shuffler(ob).repeat(SAMPLE_SIZE, 1, 1, 1)\n",
    "        if CUDA:\n",
    "            with torch.cuda.device(DEVICE):\n",
    "                ob = ob.cuda()\n",
    "        eubo, elbo, ess = AG_dec(models, ob, K, MCMC_SIZE, DEVICE)\n",
    "        eubo.backward()\n",
    "        optimizer2.step()                     \n",
    "        ELBO += elbo.detach()\n",
    "        EUBO += eubo.detach()\n",
    "        ESS += ess\n",
    "    time_end = time.time()\n",
    "    print('epoch=%d, eubo=%.4f, elbo=%.4f, ess=%.4f (%ds)' % (epoch,  EUBO / NUM_BATCHES, ELBO / NUM_BATCHES, ESS / NUM_BATCHES, time_end - time_start))"
   ]
  },
  {
   "cell_type": "code",
   "execution_count": null,
   "metadata": {},
   "outputs": [],
   "source": [
    "# torch.save(enc_angle.state_dict(), '../results/enc-angle-' + PATH)\n",
    "# torch.save(oneshot_mu.state_dict(), '../results/oneshot-mu-' + PATH)\n",
    "# torch.save(enc_mu.state_dict(), '../results/enc-mu-' + PATH)"
   ]
  },
  {
   "cell_type": "code",
   "execution_count": null,
   "metadata": {},
   "outputs": [],
   "source": [
    "def plot_samples(ob, mu, state, K, PATH):\n",
    "    colors = ['r', 'b', 'g', 'm', 'y']\n",
    "    fig = plt.figure(figsize=(25,20))\n",
    "    B, N, D = ob.shape\n",
    "    for b in range(B):\n",
    "        ax = fig.add_subplot(int(B / 5), 5, b+1)\n",
    "        assignments = state[b].argmax(-1)\n",
    "        for k in range(K):\n",
    "            ob_k = ob[b][np.where(assignments == k)]\n",
    "            ax.scatter(ob_k[:, 0], ob_k[:, 1], c=colors[k], alpha=0.8)\n",
    "            ax.set_ylim([-10, 10])\n",
    "            ax.set_xlim([-10, 10])\n",
    "            ax.scatter(mu[b, k, 0], mu[b, k, 1], c=colors[k])\n",
    "#     plt.savefig('../results/modes-' + PATH + '.svg')"
   ]
  },
  {
   "cell_type": "code",
   "execution_count": null,
   "metadata": {},
   "outputs": [],
   "source": [
    "from forward_backward_dec import *\n",
    "indices = torch.randperm(NUM_DATASETS)\n",
    "batch_indices = indices[0*BATCH_SIZE : (0+1)*BATCH_SIZE]\n",
    "ob = OB[batch_indices]\n",
    "ob = shuffler(ob).repeat(SAMPLE_SIZE, 1, 1, 1)\n",
    "if CUDA:\n",
    "    with torch.cuda.device(DEVICE):\n",
    "        ob = ob.cuda()\n",
    "(oneshot_mu, gibbs_state, enc_mu, enc_angle, dec_x) = models\n",
    "state, angle, mu, w, eubo, elbo, _, _ = oneshot(oneshot_mu, gibbs_state, dec_x, ob, K)\n",
    "for m in range(50):\n",
    "    if m == 0:\n",
    "        state = resample(state, w, idw_flag=False) ## resample state\n",
    "    else:\n",
    "        state = resample(state, w_state, idw_flag=True)\n",
    "    ## update mu\n",
    "    mu, w_mu, eubo_mu, elbo_mu, q_mu, _  = Update_mu(enc_mu, dec_x, ob, state, angle, mu, K)\n",
    "    mu = resample(mu, w_mu, idw_flag=True)\n",
    "    ##update angle\n",
    "    angle, w_angle, eubo_angle, elbo_angle, q_angle, _ = Update_angle(enc_angle, dec_x, ob, state, mu, angle)\n",
    "    angle = resample(angle, w_angle, idw_flag=True)\n",
    "    ## update z\n",
    "    state, w_state, eubo_state, elbo_state, q_state, _ = Update_state(gibbs_state, dec_x, ob, angle, mu, state)"
   ]
  },
  {
   "cell_type": "code",
   "execution_count": null,
   "metadata": {},
   "outputs": [],
   "source": [
    "E_mu = q_mu['means'].dist.loc[0].cpu().data.numpy()\n",
    "E_state = q_state['zs'].dist.probs[0].cpu().data.numpy()\n",
    "test_ob = ob[0].cpu().data.numpy()\n",
    "\n",
    "plot_samples(test_ob, E_mu, E_state, K, PATH)"
   ]
  },
  {
   "cell_type": "code",
   "execution_count": null,
   "metadata": {},
   "outputs": [],
   "source": []
  }
 ],
 "metadata": {
  "kernelspec": {
   "display_name": "Python 3",
   "language": "python",
   "name": "python3"
  },
  "language_info": {
   "codemirror_mode": {
    "name": "ipython",
    "version": 3
   },
   "file_extension": ".py",
   "mimetype": "text/x-python",
   "name": "python",
   "nbconvert_exporter": "python",
   "pygments_lexer": "ipython3",
   "version": "3.6.6"
  }
 },
 "nbformat": 4,
 "nbformat_minor": 2
}
