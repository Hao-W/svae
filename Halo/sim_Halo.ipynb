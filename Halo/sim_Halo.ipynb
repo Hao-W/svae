{
 "cells": [
  {
   "cell_type": "code",
   "execution_count": 1,
   "metadata": {},
   "outputs": [],
   "source": [
    "%matplotlib inline\n",
    "import matplotlib.pyplot as plt\n",
    "import torch\n",
    "from plots import *\n",
    "import numpy as np\n",
    "import math\n",
    "from generate_rings import *\n",
    "plt.rcParams.update({'figure.max_open_warning': 0})"
   ]
  },
  {
   "cell_type": "code",
   "execution_count": 7,
   "metadata": {},
   "outputs": [],
   "source": [
    "num_seqs = 2000\n",
    "N = 100\n",
    "period = 4\n",
    "bound = 7.0\n",
    "K = 3\n",
    "D = 2\n",
    "radius = 1.5\n",
    "noise_std = 0.05\n",
    "rad_low = 1.0\n",
    "rad_high = 3.0"
   ]
  },
  {
   "cell_type": "code",
   "execution_count": 3,
   "metadata": {},
   "outputs": [],
   "source": [
    "# ## fixed radius\n",
    "# OBS = np.zeros((num_seqs, N*K, D))\n",
    "# STATES = np.zeros((num_seqs, N*K, K))\n",
    "# OBS_MU = np.zeros((num_seqs, K, D))\n",
    "# for n in range(num_seqs):\n",
    "#     obs, states, obs_mu = rings_fixed_rad(K, bound, N, radius, period, noise_std)\n",
    "#     OBS[n] = obs\n",
    "#     STATES[n] = states\n",
    "#     OBS_MU[n] = obs_mu\n",
    "# #     plot_rings(obs, states, K, bound)"
   ]
  },
  {
   "cell_type": "code",
   "execution_count": 4,
   "metadata": {},
   "outputs": [],
   "source": [
    "# path = \"../../rings_fixed_radius_c2k\"\n",
    "# np.save(path + '/obs', OBS)\n",
    "# np.save(path + '/states', STATES)\n",
    "# np.save(path + '/obs_mu', OBS_MU)"
   ]
  },
  {
   "cell_type": "code",
   "execution_count": 8,
   "metadata": {},
   "outputs": [],
   "source": [
    "OBS = np.zeros((num_seqs, N*K, D))\n",
    "STATES = np.zeros((num_seqs, N*K, K))\n",
    "OBS_MU = np.zeros((num_seqs, K, D))\n",
    "OBS_RAD = np.zeros((num_seqs, K, 1))\n",
    "for n in range(num_seqs):\n",
    "    obs, states, obs_mu, obs_rad = rings(K, bound, N, rad_low, rad_high, period, noise_std)\n",
    "    OBS[n] = obs\n",
    "    STATES[n] = states\n",
    "    OBS_MU[n] = obs_mu\n",
    "    OBS_RAD[n] = obs_rad\n",
    "#     plot_rings(obs, states, K, bound)"
   ]
  },
  {
   "cell_type": "code",
   "execution_count": 10,
   "metadata": {},
   "outputs": [],
   "source": [
    "path = \"../../rings_varying_radius_c2k\"\n",
    "np.save(path + '/obs', OBS)\n",
    "# np.save(path + '/states', STATES)\n",
    "# np.save(path + '/obs_mu', OBS_MU)\n",
    "# np.save(path + '/obs_rad', OBS_RAD)"
   ]
  },
  {
   "cell_type": "code",
   "execution_count": null,
   "metadata": {},
   "outputs": [],
   "source": []
  }
 ],
 "metadata": {
  "kernelspec": {
   "display_name": "Python 3",
   "language": "python",
   "name": "python3"
  },
  "language_info": {
   "codemirror_mode": {
    "name": "ipython",
    "version": 3
   },
   "file_extension": ".py",
   "mimetype": "text/x-python",
   "name": "python",
   "nbconvert_exporter": "python",
   "pygments_lexer": "ipython3",
   "version": "3.7.3"
  }
 },
 "nbformat": 4,
 "nbformat_minor": 2
}
