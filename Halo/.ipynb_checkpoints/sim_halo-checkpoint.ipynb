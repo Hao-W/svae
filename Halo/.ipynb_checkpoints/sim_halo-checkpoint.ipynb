{
 "cells": [
  {
   "cell_type": "code",
   "execution_count": 1,
   "metadata": {},
   "outputs": [],
   "source": [
    "%matplotlib inline\n",
    "import matplotlib.pyplot as plt\n",
    "import torch\n",
    "from plots import *\n",
    "import numpy as np\n",
    "import math\n",
    "from generate_rings import *\n",
    "plt.rcParams.update({'figure.max_open_warning': 0})"
   ]
  },
  {
   "cell_type": "code",
   "execution_count": 20,
   "metadata": {},
   "outputs": [],
   "source": [
    "num_seqs = 10000\n",
    "N = 100\n",
    "period = 2\n",
    "bound = 10\n",
    "K = 4\n",
    "D = 2\n",
    "radius = 2.0\n",
    "noise_std = 0.1\n",
    "rad_low = 0.8\n",
    "rad_high = 1.0"
   ]
  },
  {
   "cell_type": "code",
   "execution_count": 21,
   "metadata": {},
   "outputs": [],
   "source": [
    "def ring_fixed_rad(N, period, radius, noise_std):\n",
    "    rads = np.ones(N) * radius\n",
    "    noise = np.random.normal(0.0, noise_std, N)\n",
    "    rads = rads + noise\n",
    "    angles = np.linspace(0, period * 2 * math.pi, N, endpoint=False)\n",
    "    x = np.cos(angles) * rads\n",
    "    y = np.sin(angles) * rads\n",
    "    pos = np.concatenate((x[:, None], y[:, None]), -1)\n",
    "    return pos\n",
    "\n",
    "def rings_fixed_rad(K, bound, N, radius, period, noise_std):\n",
    "    obs = []\n",
    "    states = []\n",
    "    mus = np.random.normal(0, 4.0, (K, 2))\n",
    "#     mus = np.random.uniform(-bound + radius, bound-radius, (K, 2))\n",
    "    for k in range(K):\n",
    "        pos = ring_fixed_rad(N, period, radius, noise_std)\n",
    "        state = np.zeros(K)\n",
    "        state[k] = 1\n",
    "        pos = pos + mus[k]\n",
    "        obs.append(pos)\n",
    "        states.append(np.tile(state, (N, 1)))\n",
    "    return np.concatenate(obs, 0), np.concatenate(states, 0), mus\n"
   ]
  },
  {
   "cell_type": "code",
   "execution_count": 22,
   "metadata": {},
   "outputs": [],
   "source": [
    "## fixed radius\n",
    "OBS = np.zeros((num_seqs, N*K, D))\n",
    "STATES = np.zeros((num_seqs, N*K, K))\n",
    "OBS_MU = np.zeros((num_seqs, K, D))\n",
    "for n in range(num_seqs):\n",
    "    obs, states, obs_mu = rings_fixed_rad(K, bound, N, radius, period, noise_std)\n",
    "    OBS[n] = obs\n",
    "    STATES[n] = states\n",
    "    OBS_MU[n] = obs_mu\n",
    "#     plot_rings(obs, states, K, bound)"
   ]
  },
  {
   "cell_type": "code",
   "execution_count": 23,
   "metadata": {},
   "outputs": [],
   "source": [
    "path = \"../../rings_fixed_radius\"\n",
    "np.save(path + '/obs', OBS)"
   ]
  },
  {
   "cell_type": "code",
   "execution_count": 5,
   "metadata": {},
   "outputs": [],
   "source": [
    "# OBS = np.zeros((num_seqs, N*K, D))\n",
    "# STATES = np.zeros((num_seqs, N*K, K))\n",
    "# OBS_MU = np.zeros((num_seqs, K, D))\n",
    "# OBS_RAD = np.zeros((num_seqs, K, 1))\n",
    "# for n in range(num_seqs):\n",
    "#     obs, states, obs_mu, obs_rad = rings(K, bound, N, rad_low, rad_high, period, noise_std)\n",
    "#     OBS[n] = obs\n",
    "#     STATES[n] = states\n",
    "#     OBS_MU[n] = obs_mu\n",
    "#     OBS_RAD[n] = obs_rad\n",
    "# #     plot_rings(obs, states, K, bound)"
   ]
  },
  {
   "cell_type": "code",
   "execution_count": 6,
   "metadata": {},
   "outputs": [],
   "source": [
    "\n",
    "# path = \"../../rings_varying_radius\"\n",
    "# np.save(path + '/obs', OBS)\n",
    "# np.save(path + '/states', STATES)\n",
    "# np.save(path + '/obs_mu', OBS_MU)\n",
    "# np.save(path + '/obs_rad', OBS_RAD)"
   ]
  },
  {
   "cell_type": "code",
   "execution_count": null,
   "metadata": {},
   "outputs": [],
   "source": []
  }
 ],
 "metadata": {
  "kernelspec": {
   "display_name": "Python 3",
   "language": "python",
   "name": "python3"
  },
  "language_info": {
   "codemirror_mode": {
    "name": "ipython",
    "version": 3
   },
   "file_extension": ".py",
   "mimetype": "text/x-python",
   "name": "python",
   "nbconvert_exporter": "python",
   "pygments_lexer": "ipython3",
   "version": "3.7.3"
  }
 },
 "nbformat": 4,
 "nbformat_minor": 2
}
