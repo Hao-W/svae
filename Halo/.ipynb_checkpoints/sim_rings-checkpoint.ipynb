{
 "cells": [
  {
   "cell_type": "code",
   "execution_count": 2,
   "metadata": {},
   "outputs": [],
   "source": [
    "%matplotlib inline\n",
    "from sim_rings import *"
   ]
  },
  {
   "cell_type": "code",
   "execution_count": 3,
   "metadata": {},
   "outputs": [],
   "source": [
    "path = \"../../Rings_2D\"\n",
    "\n",
    "num_seqs =5000\n",
    "N = 100\n",
    "period = 1\n",
    "bound = 10\n",
    "K = 3\n",
    "D = 2\n",
    "radi = 2.0\n",
    "noise_std = 0.1\n",
    "center_std = 4.0\n",
    "fixed_radi = True\n",
    "collapsed_noise = False"
   ]
  },
  {
   "cell_type": "code",
   "execution_count": 4,
   "metadata": {},
   "outputs": [],
   "source": [
    "rings_obj = Rings(N, K, period, bound, center_std, noise_std, radi, fixed_radi, collapsed_noise)"
   ]
  },
  {
   "cell_type": "code",
   "execution_count": 5,
   "metadata": {},
   "outputs": [],
   "source": [
    "# rings_obj.visual_data(num_seqs)\n",
    "rings_obj.sim_save_data(num_seqs, path)"
   ]
  },
  {
   "cell_type": "code",
   "execution_count": null,
   "metadata": {},
   "outputs": [],
   "source": [
    "POS = np.zeros((num_seqs, N, 2))\n",
    "for i in range(num_seqs):\n",
    "    pos, _, _ = rings_obj.sim_one_ring()\n",
    "    POS[i] = pos\n",
    "np.save('../../single_rings/ob', POS)"
   ]
  },
  {
   "cell_type": "code",
   "execution_count": null,
   "metadata": {},
   "outputs": [],
   "source": []
  },
  {
   "cell_type": "code",
   "execution_count": null,
   "metadata": {},
   "outputs": [],
   "source": []
  }
 ],
 "metadata": {
  "kernelspec": {
   "display_name": "Python 3",
   "language": "python",
   "name": "python3"
  },
  "language_info": {
   "codemirror_mode": {
    "name": "ipython",
    "version": 3
   },
   "file_extension": ".py",
   "mimetype": "text/x-python",
   "name": "python",
   "nbconvert_exporter": "python",
   "pygments_lexer": "ipython3",
   "version": "3.6.6"
  }
 },
 "nbformat": 4,
 "nbformat_minor": 2
}
