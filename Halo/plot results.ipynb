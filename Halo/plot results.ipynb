{
 "cells": [
  {
   "cell_type": "code",
   "execution_count": 2,
   "metadata": {},
   "outputs": [],
   "source": [
    "%matplotlib inline\n",
    "import matplotlib.pyplot as plt\n",
    "import torch\n",
    "import numpy as np\n",
    "import pandas as pd"
   ]
  },
  {
   "cell_type": "code",
   "execution_count": 5,
   "metadata": {},
   "outputs": [],
   "source": [
    "PATH = 'ag-sis-mu-adapt-20steps'\n",
    "df = pd.read_csv('results/log-%s.txt' % PATH, sep='\\t')\n",
    "SAMPLE_SIZE = 10"
   ]
  },
  {
   "cell_type": "code",
   "execution_count": 6,
   "metadata": {},
   "outputs": [
    {
     "data": {
      "text/html": [
       "<div>\n",
       "<style scoped>\n",
       "    .dataframe tbody tr th:only-of-type {\n",
       "        vertical-align: middle;\n",
       "    }\n",
       "\n",
       "    .dataframe tbody tr th {\n",
       "        vertical-align: top;\n",
       "    }\n",
       "\n",
       "    .dataframe thead th {\n",
       "        text-align: right;\n",
       "    }\n",
       "</style>\n",
       "<table border=\"1\" class=\"dataframe\">\n",
       "  <thead>\n",
       "    <tr style=\"text-align: right;\">\n",
       "      <th></th>\n",
       "      <th>EUBO</th>\n",
       "      <th>ELBO</th>\n",
       "      <th>ESS</th>\n",
       "    </tr>\n",
       "  </thead>\n",
       "  <tbody>\n",
       "    <tr>\n",
       "      <th>0</th>\n",
       "      <td>-77059.404</td>\n",
       "      <td>-198680.365</td>\n",
       "      <td>1.122</td>\n",
       "    </tr>\n",
       "    <tr>\n",
       "      <th>1</th>\n",
       "      <td>-10757.574</td>\n",
       "      <td>-28681.233</td>\n",
       "      <td>1.559</td>\n",
       "    </tr>\n",
       "    <tr>\n",
       "      <th>2</th>\n",
       "      <td>-806.184</td>\n",
       "      <td>-5552.229</td>\n",
       "      <td>2.540</td>\n",
       "    </tr>\n",
       "    <tr>\n",
       "      <th>3</th>\n",
       "      <td>-613.599</td>\n",
       "      <td>-3916.909</td>\n",
       "      <td>3.161</td>\n",
       "    </tr>\n",
       "    <tr>\n",
       "      <th>4</th>\n",
       "      <td>-618.854</td>\n",
       "      <td>-3662.221</td>\n",
       "      <td>3.344</td>\n",
       "    </tr>\n",
       "    <tr>\n",
       "      <th>5</th>\n",
       "      <td>-622.964</td>\n",
       "      <td>-3486.108</td>\n",
       "      <td>3.431</td>\n",
       "    </tr>\n",
       "    <tr>\n",
       "      <th>6</th>\n",
       "      <td>-805.197</td>\n",
       "      <td>-3638.630</td>\n",
       "      <td>3.404</td>\n",
       "    </tr>\n",
       "    <tr>\n",
       "      <th>7</th>\n",
       "      <td>-900.402</td>\n",
       "      <td>-3703.638</td>\n",
       "      <td>3.507</td>\n",
       "    </tr>\n",
       "    <tr>\n",
       "      <th>8</th>\n",
       "      <td>-987.815</td>\n",
       "      <td>-3742.219</td>\n",
       "      <td>3.480</td>\n",
       "    </tr>\n",
       "    <tr>\n",
       "      <th>9</th>\n",
       "      <td>-1060.588</td>\n",
       "      <td>-3792.005</td>\n",
       "      <td>3.474</td>\n",
       "    </tr>\n",
       "    <tr>\n",
       "      <th>10</th>\n",
       "      <td>-1073.442</td>\n",
       "      <td>-3767.637</td>\n",
       "      <td>3.536</td>\n",
       "    </tr>\n",
       "    <tr>\n",
       "      <th>11</th>\n",
       "      <td>-1286.126</td>\n",
       "      <td>-3996.215</td>\n",
       "      <td>3.527</td>\n",
       "    </tr>\n",
       "  </tbody>\n",
       "</table>\n",
       "</div>"
      ],
      "text/plain": [
       "         EUBO        ELBO    ESS\n",
       "0  -77059.404 -198680.365  1.122\n",
       "1  -10757.574  -28681.233  1.559\n",
       "2    -806.184   -5552.229  2.540\n",
       "3    -613.599   -3916.909  3.161\n",
       "4    -618.854   -3662.221  3.344\n",
       "5    -622.964   -3486.108  3.431\n",
       "6    -805.197   -3638.630  3.404\n",
       "7    -900.402   -3703.638  3.507\n",
       "8    -987.815   -3742.219  3.480\n",
       "9   -1060.588   -3792.005  3.474\n",
       "10  -1073.442   -3767.637  3.536\n",
       "11  -1286.126   -3996.215  3.527"
      ]
     },
     "execution_count": 6,
     "metadata": {},
     "output_type": "execute_result"
    }
   ],
   "source": [
    "df"
   ]
  },
  {
   "cell_type": "code",
   "execution_count": 14,
   "metadata": {},
   "outputs": [],
   "source": [
    "def plot_results_ag(df):\n",
    "    fig = plt.figure(figsize=(10, 10))\n",
    "    fig.tight_layout()\n",
    "    ax1 = fig.add_subplot(2, 1, 1)\n",
    "    ax2 = fig.add_subplot(2, 1, 2)\n",
    "    ax1.plot(df['EUBO'].values, 'r', label='EUBOs')\n",
    "    ax1.plot(df['ELBO'].values, 'b', label='ELBOs')\n",
    "#     ax1.set_yscale('log')\n",
    "    ax1.tick_params(labelsize=18)\n",
    "\n",
    "    ax2.plot(df['ESS'].values / SAMPLE_SIZE, 'm', label='ESS')\n",
    "    ax1.set_ylim([-5000, -1000])\n",
    "    ax1.legend()\n",
    "    ax2.legend()\n",
    "    ax2.tick_params(labelsize=18)\n",
    "    ax2.set_ylim([0,1])\n",
    "    plt.savefig('train_' + PATH + '.svg')"
   ]
  },
  {
   "cell_type": "code",
   "execution_count": 15,
   "metadata": {},
   "outputs": [
    {
     "data": {
      "image/png": "[encoded data removed]",
      "text/plain": [
       "<Figure size 720x720 with 2 Axes>"
      ]
     },
     "metadata": {},
     "output_type": "display_data"
    }
   ],
   "source": [
    "plot_results_ag(df)"
   ]
  },
  {
   "cell_type": "code",
   "execution_count": 5,
   "metadata": {},
   "outputs": [
    {
     "data": {
      "text/plain": [
       "array(['2.671', '3.403', '3.906', ..., '5.687', '5.691', '5.689'],\n",
       "      dtype=object)"
      ]
     },
     "execution_count": 5,
     "metadata": {},
     "output_type": "execute_result"
    }
   ],
   "source": [
    "df['ESS'].values"
   ]
  },
  {
   "cell_type": "code",
   "execution_count": null,
   "metadata": {},
   "outputs": [],
   "source": []
  }
 ],
 "metadata": {
  "kernelspec": {
   "display_name": "Python 3",
   "language": "python",
   "name": "python3"
  },
  "language_info": {
   "codemirror_mode": {
    "name": "ipython",
    "version": 3
   },
   "file_extension": ".py",
   "mimetype": "text/x-python",
   "name": "python",
   "nbconvert_exporter": "python",
   "pygments_lexer": "ipython3",
   "version": "3.6.7"
  }
 },
 "nbformat": 4,
 "nbformat_minor": 2
}
