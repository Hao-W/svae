{
 "cells": [
  {
   "cell_type": "code",
   "execution_count": 1,
   "metadata": {},
   "outputs": [
    {
     "name": "stdout",
     "output_type": "stream",
     "text": [
      "probtorch: 0.0+5a2c637 torch: 1.0.0 cuda: True\n"
     ]
    }
   ],
   "source": [
    "%matplotlib inline\n",
    "%run ../../path_import.py\n",
    "import numpy as np\n",
    "import matplotlib.pyplot as plt\n",
    "from plots import *\n",
    "from utils import *\n",
    "from training import *\n",
    "from model_mu_rad import *\n",
    "import time\n",
    "import probtorch\n",
    "print('probtorch:', probtorch.__version__, \n",
    "      'torch:', torch.__version__, \n",
    "      'cuda:', torch.cuda.is_available())"
   ]
  },
  {
   "cell_type": "code",
   "execution_count": null,
   "metadata": {},
   "outputs": [],
   "source": [
    "Data = torch.from_numpy(np.load('../rings_varying_radius/obs.npy')).float()\n",
    "## Data Parameters\n",
    "N = 300\n",
    "K = 3\n",
    "D = 2\n",
    "\n",
    "## Model Parameters\n",
    "MCMC_SIZE = 10\n",
    "SAMPLE_SIZE = 10\n",
    "NUM_HIDDEN_GLOBAL = 8\n",
    "NUM_HIDDEN_LOCAL = 64\n",
    "STAT_SIZE = 8\n",
    "NUM_LATENTS =  D\n",
    "## Training Parameters\n",
    "BATCH_SIZE = 20\n",
    "NUM_EPOCHS = 200\n",
    "LEARNING_RATE = 1e-3\n",
    "CUDA = torch.cuda.is_available()\n",
    "PATH = 'ag-mu-rad-idw-v1'\n",
    "DEVICE = torch.device('cuda:0')"
   ]
  },
  {
   "cell_type": "code",
   "execution_count": null,
   "metadata": {},
   "outputs": [],
   "source": [
    "enc_mu_rad, enc_z, optimizer = initialize(NUM_HIDDEN_GLOBAL, STAT_SIZE, NUM_HIDDEN_LOCAL, K, D, CUDA, DEVICE, LEARNING_RATE)"
   ]
  },
  {
   "cell_type": "code",
   "execution_count": null,
   "metadata": {},
   "outputs": [],
   "source": [
    "train_rad(Eubo_rad, enc_mu_rad, enc_z, optimizer, Data, K, NUM_EPOCHS, MCMC_SIZE, SAMPLE_SIZE, BATCH_SIZE, PATH, CUDA, DEVICE)"
   ]
  },
  {
   "cell_type": "code",
   "execution_count": null,
   "metadata": {},
   "outputs": [],
   "source": [
    "BATCH_SIZE_TEST = 50\n",
    "def sample_single_batch(num_seqs, Xs, sample_size, batch_size, CUDA, device):\n",
    "    indices = torch.randperm(num_seqs)\n",
    "    batch_indices = indices[0*batch_size : (0+1)*batch_size]\n",
    "    obs = Xs[batch_indices]\n",
    "    obs = shuffler(obs).repeat(sample_size, 1, 1, 1)\n",
    "    if CUDA:\n",
    "        obs = obs.cuda().to(device)\n",
    "    return obs\n",
    "\n",
    "def test(enc_mu_rad, enc_z, obs, N, K, D, mcmc_size, sample_size, batch_size, noise_sigma, device):\n",
    "    \"\"\"\n",
    "    initialize z\n",
    "    learn both mean and radius\n",
    "\n",
    "    \"\"\"\n",
    "    p_init_z = cat(enc_z.prior_pi)\n",
    "    states = p_init_z.sample((sample_size, batch_size, N,))\n",
    "    log_p_z = p_init_z.log_prob(states)## S * B * N\n",
    "    log_q_z = p_init_z.log_prob(states)\n",
    "\n",
    "    for m in range(mcmc_size):\n",
    "        if m != 0:\n",
    "            states = resample_states(states, weights_local)\n",
    "        q_eta, p_eta = enc_mu_rad(obs, states, K, sample_size, batch_size)\n",
    "        log_q_eta = q_eta['means'].log_prob.sum(-1) + q_eta['radius'].log_prob.sum(-1)\n",
    "        log_p_eta = p_eta['means'].log_prob.sum(-1) + p_eta['radius'].log_prob.sum(-1)\n",
    "        obs_mu = q_eta['means'].value\n",
    "        obs_rad = q_eta['radius'].value\n",
    "        log_obs_k = True_Log_likelihood(obs, states, obs_mu, obs_rad, K, D, noise_sigma, device, cluster_flag=True)\n",
    "        log_weights_global = log_obs_k + log_p_eta - log_q_eta\n",
    "        weights_global = F.softmax(log_weights_global, 0).detach()\n",
    "        ## resample mu\n",
    "        obs_mu, obs_rad = resample_eta(obs_mu, obs_rad, weights_global)\n",
    "        ## update z -- cluster assignments\n",
    "        q_z, p_z = enc_z(obs, obs_mu, obs_rad, N, sample_size, batch_size, noise_sigma, device)\n",
    "        log_p_z = p_z['zs'].log_prob\n",
    "        log_q_z = q_z['zs'].log_prob ## S * B * N\n",
    "        states = q_z['zs'].value\n",
    "        log_obs_n = True_Log_likelihood(obs, states, obs_mu, obs_rad, K, D, noise_sigma, device, cluster_flag=False)\n",
    "        log_weights_local = log_obs_n + log_p_z - log_q_z\n",
    "        weights_local = F.softmax(log_weights_local, 0).detach()\n",
    "\n",
    "    return q_eta, q_z\n",
    "\n",
    "def plot_samples(obs, q_eta, q_z, K, batch_size, PATH):\n",
    "    colors = ['r', 'b', 'g']\n",
    "    fig = plt.figure(figsize=(25,50))\n",
    "    xs = obs[0].cpu()\n",
    "    mu_mu = q_eta['means'].dist.loc[0].cpu().data.numpy()\n",
    "    mu_sigma = q_eta['means'].dist.scale[0].cpu().data.numpy()\n",
    "    zs = q_z['zs'].dist.probs[0].cpu().data.numpy()\n",
    "    for b in range(batch_size):\n",
    "        ax = fig.add_subplot(int(batch_size / 5), 5, b+1)\n",
    "        x = xs[b]\n",
    "        z = zs[b]\n",
    "        mu_mu_b = mu_mu[b]\n",
    "        mu_sigma_b = mu_sigma[b]\n",
    "        assignments = z.argmax(-1)\n",
    "        for k in range(K):\n",
    "            cov_k = np.diag(mu_sigma_b[k]**2)\n",
    "            xk = x[np.where(assignments == k)]\n",
    "            ax.scatter(xk[:, 0], xk[:, 1], c=colors[k], alpha=0.2)\n",
    "            plot_cov_ellipse(cov=cov_k, pos=mu_mu_b[k], nstd=2, ax=ax, alpha=1.0, color=colors[k])\n",
    "        ax.set_ylim([-8, 8])\n",
    "        ax.set_xlim([-8, 8])\n",
    "    plt.savefig('results/modes-' + PATH + '.svg')\n",
    "    \n",
    "obs = sample_single_batch(NUM_SEQS, Xs, SAMPLE_SIZE, BATCH_SIZE_TEST, CUDA, DEVICE)\n",
    "q_eta, q_z = test(enc_mu_rad, enc_z, obs, N, K, D, 100, SAMPLE_SIZE, BATCH_SIZE_TEST, noise_sigma=0.05, device=DEVICE)\n",
    "%time plot_samples(obs, q_eta, q_z, K, BATCH_SIZE_TEST, PATH)"
   ]
  },
  {
   "cell_type": "code",
   "execution_count": null,
   "metadata": {},
   "outputs": [],
   "source": []
  }
 ],
 "metadata": {
  "kernelspec": {
   "display_name": "Python 3",
   "language": "python",
   "name": "python3"
  },
  "language_info": {
   "codemirror_mode": {
    "name": "ipython",
    "version": 3
   },
   "file_extension": ".py",
   "mimetype": "text/x-python",
   "name": "python",
   "nbconvert_exporter": "python",
   "pygments_lexer": "ipython3",
   "version": "3.6.7"
  }
 },
 "nbformat": 4,
 "nbformat_minor": 2
}
