{
 "cells": [
  {
   "cell_type": "code",
   "execution_count": 1,
   "metadata": {},
   "outputs": [
    {
     "name": "stdout",
     "output_type": "stream",
     "text": [
      "probtorch: 0.0+5a2c637 torch: 1.1.0 cuda: True\n"
     ]
    }
   ],
   "source": [
    "%matplotlib inline\n",
    "%run ../../path_import.py\n",
    "import numpy as np\n",
    "import matplotlib.pyplot as plt\n",
    "from plots import *\n",
    "from utils import *\n",
    "from training import *\n",
    "from model_mu_reparam import *\n",
    "import time\n",
    "import probtorch\n",
    "print('probtorch:', probtorch.__version__, \n",
    "      'torch:', torch.__version__, \n",
    "      'cuda:', torch.cuda.is_available())"
   ]
  },
  {
   "cell_type": "code",
   "execution_count": 2,
   "metadata": {},
   "outputs": [],
   "source": [
    "Data = torch.from_numpy(np.load('../rings_fixed_radius/obs.npy')).float()\n",
    "## Data Parameters\n",
    "N = 300\n",
    "K = 3\n",
    "D = 2\n",
    "FIXED_RADIUS = 1.5\n",
    "## Model Parameters\n",
    "MCMC_SIZE = 20\n",
    "SAMPLE_SIZE = 10\n",
    "NUM_HIDDEN_GLOBAL = 8\n",
    "NUM_HIDDEN_LOCAL = 64\n",
    "STAT_SIZE = 8\n",
    "NUM_LATENTS =  D\n",
    "## Training Parameters\n",
    "BATCH_SIZE = 20\n",
    "NUM_EPOCHS = 500\n",
    "LEARNING_RATE =  1e-4\n",
    "CUDA = torch.cuda.is_available()\n",
    "PATH = 'ag-pr-%dsteps-%dsamples' % (MCMC_SIZE, SAMPLE_SIZE)\n",
    "DEVICE = torch.device('cuda:1')"
   ]
  },
  {
   "cell_type": "code",
   "execution_count": 3,
   "metadata": {},
   "outputs": [],
   "source": [
    "enc_mu = Enc_mu(K, D, num_hidden=NUM_HIDDEN_GLOBAL, num_stats=STAT_SIZE, CUDA=CUDA, device=DEVICE)\n",
    "enc_z = Gibbs_z(K, CUDA, DEVICE)\n",
    "obs_rad = torch.ones(1) * FIXED_RADIUS\n",
    "noise_sigma = torch.ones(1) * 0.05\n",
    "if CUDA:\n",
    "    enc_mu.cuda().to(DEVICE)\n",
    "    obs_rad = obs_rad.cuda().to(DEVICE)\n",
    "    noise_sigma =noise_sigma.cuda().to(DEVICE)\n",
    "optimizer =  torch.optim.Adam(list(enc_mu.parameters()),lr=LEARNING_RATE, betas=(0.9, 0.99))"
   ]
  },
  {
   "cell_type": "code",
   "execution_count": 4,
   "metadata": {},
   "outputs": [
    {
     "name": "stdout",
     "output_type": "stream",
     "text": [
      "epoch=0, SymKL=5036228.815, EUBO=2225981.018, ELBO=-3442372.277, ESS=1.011 (24s)\n",
      "epoch=1, SymKL=4474226.440, EUBO=2242505.022, ELBO=-2860054.135, ESS=1.011 (24s)\n",
      "epoch=2, SymKL=4126933.175, EUBO=2335275.186, ELBO=-2424715.504, ESS=1.010 (24s)\n",
      "epoch=3, SymKL=3747915.817, EUBO=2300822.002, ELBO=-2065433.500, ESS=1.010 (27s)\n",
      "epoch=4, SymKL=3496760.500, EUBO=2376184.799, ELBO=-1748210.606, ESS=1.010 (28s)\n",
      "epoch=5, SymKL=3223459.428, EUBO=2360270.570, ELBO=-1484493.321, ESS=1.009 (28s)\n",
      "epoch=6, SymKL=3082903.783, EUBO=2449713.900, ELBO=-1261850.817, ESS=1.010 (28s)\n",
      "epoch=7, SymKL=2915921.685, EUBO=2475740.515, ELBO=-1069607.538, ESS=1.008 (28s)\n",
      "epoch=8, SymKL=2745984.862, EUBO=2470410.178, ELBO=-907111.262, ESS=1.007 (28s)\n",
      "epoch=9, SymKL=2648881.401, EUBO=2508951.339, ELBO=-770010.191, ESS=1.007 (28s)\n",
      "epoch=10, SymKL=2542817.576, EUBO=2517899.991, ELBO=-656331.748, ESS=1.007 (28s)\n",
      "epoch=11, SymKL=2442981.639, EUBO=2504248.317, ELBO=-561570.201, ESS=1.007 (28s)\n",
      "epoch=12, SymKL=2402296.040, EUBO=2544277.402, ELBO=-487161.689, ESS=1.006 (28s)\n",
      "epoch=13, SymKL=2329935.315, EUBO=2526543.396, ELBO=-427860.139, ESS=1.007 (29s)\n",
      "epoch=14, SymKL=2282229.445, EUBO=2524714.083, ELBO=-381374.903, ESS=1.006 (28s)\n",
      "epoch=15, SymKL=2271425.364, EUBO=2560234.460, ELBO=-345979.406, ESS=1.007 (28s)\n",
      "epoch=16, SymKL=2242252.604, EUBO=2556173.814, ELBO=-320290.279, ESS=1.008 (28s)\n"
     ]
    },
    {
     "ename": "KeyboardInterrupt",
     "evalue": "",
     "output_type": "error",
     "traceback": [
      "\u001b[0;31m---------------------------------------------------------------------------\u001b[0m",
      "\u001b[0;31mKeyboardInterrupt\u001b[0m                         Traceback (most recent call last)",
      "\u001b[0;32m<ipython-input-4-c471eceb64cc>\u001b[0m in \u001b[0;36m<module>\u001b[0;34m\u001b[0m\n\u001b[1;32m      1\u001b[0m \u001b[0mRESAMPLE\u001b[0m\u001b[0;34m=\u001b[0m\u001b[0;32mTrue\u001b[0m\u001b[0;34m\u001b[0m\u001b[0;34m\u001b[0m\u001b[0m\n\u001b[1;32m      2\u001b[0m \u001b[0mDETACH\u001b[0m\u001b[0;34m=\u001b[0m\u001b[0;32mTrue\u001b[0m\u001b[0;34m\u001b[0m\u001b[0;34m\u001b[0m\u001b[0m\n\u001b[0;32m----> 3\u001b[0;31m \u001b[0mtrain_mu\u001b[0m\u001b[0;34m(\u001b[0m\u001b[0mEubo_cfz_pr_eta\u001b[0m\u001b[0;34m,\u001b[0m \u001b[0menc_mu\u001b[0m\u001b[0;34m,\u001b[0m \u001b[0menc_z\u001b[0m\u001b[0;34m,\u001b[0m \u001b[0moptimizer\u001b[0m\u001b[0;34m,\u001b[0m \u001b[0mData\u001b[0m\u001b[0;34m,\u001b[0m \u001b[0mobs_rad\u001b[0m\u001b[0;34m,\u001b[0m \u001b[0mnoise_sigma\u001b[0m\u001b[0;34m,\u001b[0m \u001b[0mK\u001b[0m\u001b[0;34m,\u001b[0m \u001b[0mNUM_EPOCHS\u001b[0m\u001b[0;34m,\u001b[0m \u001b[0mMCMC_SIZE\u001b[0m\u001b[0;34m,\u001b[0m \u001b[0mSAMPLE_SIZE\u001b[0m\u001b[0;34m,\u001b[0m \u001b[0mBATCH_SIZE\u001b[0m\u001b[0;34m,\u001b[0m \u001b[0mPATH\u001b[0m\u001b[0;34m,\u001b[0m \u001b[0mCUDA\u001b[0m\u001b[0;34m,\u001b[0m \u001b[0mDEVICE\u001b[0m\u001b[0;34m,\u001b[0m \u001b[0mRESAMPLE\u001b[0m\u001b[0;34m=\u001b[0m\u001b[0mRESAMPLE\u001b[0m\u001b[0;34m,\u001b[0m \u001b[0mDETACH\u001b[0m\u001b[0;34m=\u001b[0m\u001b[0mDETACH\u001b[0m\u001b[0;34m)\u001b[0m\u001b[0;34m\u001b[0m\u001b[0;34m\u001b[0m\u001b[0m\n\u001b[0m",
      "\u001b[0;32m~/Research/amortized/Halo/amorgibbs/training.py\u001b[0m in \u001b[0;36mtrain_mu\u001b[0;34m(Eubo, enc_mu, enc_z, optimizer, Data, obs_rad, noise_sigma, K, num_epochs, mcmc_size, sample_size, batch_size, PATH, CUDA, device, RESAMPLE, DETACH)\u001b[0m\n\u001b[1;32m     25\u001b[0m             \u001b[0;32mif\u001b[0m \u001b[0mCUDA\u001b[0m\u001b[0;34m:\u001b[0m\u001b[0;34m\u001b[0m\u001b[0;34m\u001b[0m\u001b[0m\n\u001b[1;32m     26\u001b[0m                 \u001b[0mobs\u001b[0m \u001b[0;34m=\u001b[0m \u001b[0mobs\u001b[0m\u001b[0;34m.\u001b[0m\u001b[0mcuda\u001b[0m\u001b[0;34m(\u001b[0m\u001b[0;34m)\u001b[0m\u001b[0;34m.\u001b[0m\u001b[0mto\u001b[0m\u001b[0;34m(\u001b[0m\u001b[0mdevice\u001b[0m\u001b[0;34m)\u001b[0m\u001b[0;34m\u001b[0m\u001b[0;34m\u001b[0m\u001b[0m\n\u001b[0;32m---> 27\u001b[0;31m             \u001b[0msymkls\u001b[0m\u001b[0;34m,\u001b[0m \u001b[0meubos\u001b[0m\u001b[0;34m,\u001b[0m \u001b[0melbos\u001b[0m\u001b[0;34m,\u001b[0m \u001b[0messs\u001b[0m\u001b[0;34m,\u001b[0m \u001b[0m_\u001b[0m\u001b[0;34m,\u001b[0m \u001b[0m_\u001b[0m\u001b[0;34m,\u001b[0m \u001b[0m_\u001b[0m\u001b[0;34m,\u001b[0m \u001b[0m_\u001b[0m \u001b[0;34m=\u001b[0m \u001b[0mEubo\u001b[0m\u001b[0;34m(\u001b[0m\u001b[0menc_mu\u001b[0m\u001b[0;34m,\u001b[0m \u001b[0menc_z\u001b[0m\u001b[0;34m,\u001b[0m \u001b[0mobs\u001b[0m\u001b[0;34m,\u001b[0m \u001b[0mobs_rad\u001b[0m\u001b[0;34m,\u001b[0m \u001b[0mnoise_sigma\u001b[0m\u001b[0;34m,\u001b[0m \u001b[0mN\u001b[0m\u001b[0;34m,\u001b[0m \u001b[0mK\u001b[0m\u001b[0;34m,\u001b[0m \u001b[0mD\u001b[0m\u001b[0;34m,\u001b[0m \u001b[0mmcmc_size\u001b[0m\u001b[0;34m,\u001b[0m \u001b[0msample_size\u001b[0m\u001b[0;34m,\u001b[0m \u001b[0mbatch_size\u001b[0m\u001b[0;34m,\u001b[0m \u001b[0mdevice\u001b[0m\u001b[0;34m,\u001b[0m \u001b[0mRESAMPLE\u001b[0m\u001b[0;34m,\u001b[0m \u001b[0mDETACH\u001b[0m\u001b[0;34m=\u001b[0m\u001b[0mDETACH\u001b[0m\u001b[0;34m)\u001b[0m\u001b[0;34m\u001b[0m\u001b[0;34m\u001b[0m\u001b[0m\n\u001b[0m\u001b[1;32m     28\u001b[0m             \u001b[0msymkls\u001b[0m\u001b[0;34m.\u001b[0m\u001b[0mmean\u001b[0m\u001b[0;34m(\u001b[0m\u001b[0;34m)\u001b[0m\u001b[0;34m.\u001b[0m\u001b[0mbackward\u001b[0m\u001b[0;34m(\u001b[0m\u001b[0;34m)\u001b[0m\u001b[0;34m\u001b[0m\u001b[0;34m\u001b[0m\u001b[0m\n\u001b[1;32m     29\u001b[0m             \u001b[0moptimizer\u001b[0m\u001b[0;34m.\u001b[0m\u001b[0mstep\u001b[0m\u001b[0;34m(\u001b[0m\u001b[0;34m)\u001b[0m\u001b[0;34m\u001b[0m\u001b[0;34m\u001b[0m\u001b[0m\n",
      "\u001b[0;32m~/Research/amortized/Halo/amorgibbs/eubo.py\u001b[0m in \u001b[0;36mEubo_cfz_pr_eta\u001b[0;34m(enc_mu, gibbs_z, obs, obs_rad, noise_sigma, N, K, D, mcmc_size, sample_size, batch_size, device, RESAMPLE, DETACH)\u001b[0m\n\u001b[1;32m     79\u001b[0m         \u001b[0;31m## update mu\u001b[0m\u001b[0;34m\u001b[0m\u001b[0;34m\u001b[0m\u001b[0;34m\u001b[0m\u001b[0m\n\u001b[1;32m     80\u001b[0m         \u001b[0mq_eta\u001b[0m\u001b[0;34m,\u001b[0m \u001b[0mp_eta\u001b[0m \u001b[0;34m=\u001b[0m \u001b[0menc_mu\u001b[0m\u001b[0;34m(\u001b[0m\u001b[0mobs\u001b[0m\u001b[0;34m,\u001b[0m \u001b[0mstate\u001b[0m\u001b[0;34m,\u001b[0m \u001b[0mK\u001b[0m\u001b[0;34m,\u001b[0m \u001b[0msample_size\u001b[0m\u001b[0;34m,\u001b[0m \u001b[0mbatch_size\u001b[0m\u001b[0;34m)\u001b[0m\u001b[0;34m\u001b[0m\u001b[0;34m\u001b[0m\u001b[0m\n\u001b[0;32m---> 81\u001b[0;31m         \u001b[0msymkl\u001b[0m\u001b[0;34m,\u001b[0m \u001b[0meubo_eta\u001b[0m\u001b[0;34m,\u001b[0m \u001b[0melbo_eta\u001b[0m\u001b[0;34m,\u001b[0m \u001b[0mess_eta\u001b[0m\u001b[0;34m,\u001b[0m \u001b[0mweights_eta\u001b[0m\u001b[0;34m,\u001b[0m \u001b[0mobs_mu\u001b[0m \u001b[0;34m=\u001b[0m \u001b[0mIncremental_eta\u001b[0m\u001b[0;34m(\u001b[0m\u001b[0mq_eta\u001b[0m\u001b[0;34m,\u001b[0m \u001b[0mp_eta\u001b[0m\u001b[0;34m,\u001b[0m \u001b[0mobs\u001b[0m\u001b[0;34m,\u001b[0m \u001b[0mstate\u001b[0m\u001b[0;34m,\u001b[0m \u001b[0mK\u001b[0m\u001b[0;34m,\u001b[0m \u001b[0mD\u001b[0m\u001b[0;34m,\u001b[0m \u001b[0mobs_mu\u001b[0m\u001b[0;34m,\u001b[0m \u001b[0mobs_rad\u001b[0m\u001b[0;34m,\u001b[0m \u001b[0mnoise_sigma\u001b[0m\u001b[0;34m,\u001b[0m \u001b[0mDETACH\u001b[0m\u001b[0;34m=\u001b[0m\u001b[0mDETACH\u001b[0m\u001b[0;34m)\u001b[0m\u001b[0;34m\u001b[0m\u001b[0;34m\u001b[0m\u001b[0m\n\u001b[0m\u001b[1;32m     82\u001b[0m         \u001b[0;32mif\u001b[0m \u001b[0mRESAMPLE\u001b[0m\u001b[0;34m:\u001b[0m\u001b[0;34m\u001b[0m\u001b[0;34m\u001b[0m\u001b[0m\n\u001b[1;32m     83\u001b[0m             \u001b[0mobs_mu\u001b[0m \u001b[0;34m=\u001b[0m \u001b[0mresample_mu\u001b[0m\u001b[0;34m(\u001b[0m\u001b[0mobs_mu\u001b[0m\u001b[0;34m,\u001b[0m \u001b[0mweights_eta\u001b[0m\u001b[0;34m)\u001b[0m\u001b[0;34m\u001b[0m\u001b[0;34m\u001b[0m\u001b[0m\n",
      "\u001b[0;32m~/Research/amortized/Halo/amorgibbs/forward_backward.py\u001b[0m in \u001b[0;36mIncremental_eta\u001b[0;34m(q_eta, p_eta, obs, state, K, D, obs_mu_prev, obs_rad, noise_sigma, DETACH)\u001b[0m\n\u001b[1;32m     19\u001b[0m     \u001b[0;31m## backward\u001b[0m\u001b[0;34m\u001b[0m\u001b[0;34m\u001b[0m\u001b[0;34m\u001b[0m\u001b[0m\n\u001b[1;32m     20\u001b[0m     \u001b[0mlog_p_eta_prev\u001b[0m \u001b[0;34m=\u001b[0m \u001b[0mNormal\u001b[0m\u001b[0;34m(\u001b[0m\u001b[0mp_eta\u001b[0m\u001b[0;34m[\u001b[0m\u001b[0;34m'means'\u001b[0m\u001b[0;34m]\u001b[0m\u001b[0;34m.\u001b[0m\u001b[0mdist\u001b[0m\u001b[0;34m.\u001b[0m\u001b[0mloc\u001b[0m\u001b[0;34m,\u001b[0m \u001b[0mp_eta\u001b[0m\u001b[0;34m[\u001b[0m\u001b[0;34m'means'\u001b[0m\u001b[0;34m]\u001b[0m\u001b[0;34m.\u001b[0m\u001b[0mdist\u001b[0m\u001b[0;34m.\u001b[0m\u001b[0mscale\u001b[0m\u001b[0;34m)\u001b[0m\u001b[0;34m.\u001b[0m\u001b[0mlog_prob\u001b[0m\u001b[0;34m(\u001b[0m\u001b[0mobs_mu_prev\u001b[0m\u001b[0;34m)\u001b[0m\u001b[0;34m.\u001b[0m\u001b[0msum\u001b[0m\u001b[0;34m(\u001b[0m\u001b[0;34m-\u001b[0m\u001b[0;36m1\u001b[0m\u001b[0;34m)\u001b[0m\u001b[0;34m\u001b[0m\u001b[0;34m\u001b[0m\u001b[0m\n\u001b[0;32m---> 21\u001b[0;31m     \u001b[0mlog_q_eta_prev\u001b[0m \u001b[0;34m=\u001b[0m \u001b[0mNormal\u001b[0m\u001b[0;34m(\u001b[0m\u001b[0mq_eta\u001b[0m\u001b[0;34m[\u001b[0m\u001b[0;34m'means'\u001b[0m\u001b[0;34m]\u001b[0m\u001b[0;34m.\u001b[0m\u001b[0mdist\u001b[0m\u001b[0;34m.\u001b[0m\u001b[0mloc\u001b[0m\u001b[0;34m,\u001b[0m \u001b[0mq_eta\u001b[0m\u001b[0;34m[\u001b[0m\u001b[0;34m'means'\u001b[0m\u001b[0;34m]\u001b[0m\u001b[0;34m.\u001b[0m\u001b[0mdist\u001b[0m\u001b[0;34m.\u001b[0m\u001b[0mscale\u001b[0m\u001b[0;34m)\u001b[0m\u001b[0;34m.\u001b[0m\u001b[0mlog_prob\u001b[0m\u001b[0;34m(\u001b[0m\u001b[0mobs_mu_prev\u001b[0m\u001b[0;34m)\u001b[0m\u001b[0;34m.\u001b[0m\u001b[0msum\u001b[0m\u001b[0;34m(\u001b[0m\u001b[0;34m-\u001b[0m\u001b[0;36m1\u001b[0m\u001b[0;34m)\u001b[0m\u001b[0;34m\u001b[0m\u001b[0;34m\u001b[0m\u001b[0m\n\u001b[0m\u001b[1;32m     22\u001b[0m     \u001b[0mlog_obs_prev\u001b[0m \u001b[0;34m=\u001b[0m \u001b[0mTrue_Log_likelihood\u001b[0m\u001b[0;34m(\u001b[0m\u001b[0mobs\u001b[0m\u001b[0;34m,\u001b[0m \u001b[0mstate\u001b[0m\u001b[0;34m,\u001b[0m \u001b[0mobs_mu_prev\u001b[0m\u001b[0;34m,\u001b[0m \u001b[0mobs_rad\u001b[0m\u001b[0;34m,\u001b[0m \u001b[0mnoise_sigma\u001b[0m\u001b[0;34m,\u001b[0m \u001b[0mK\u001b[0m\u001b[0;34m,\u001b[0m \u001b[0mD\u001b[0m\u001b[0;34m,\u001b[0m \u001b[0mcluster_flag\u001b[0m\u001b[0;34m=\u001b[0m\u001b[0;32mTrue\u001b[0m\u001b[0;34m,\u001b[0m \u001b[0mfixed_radius\u001b[0m\u001b[0;34m=\u001b[0m\u001b[0;32mTrue\u001b[0m\u001b[0;34m)\u001b[0m\u001b[0;34m\u001b[0m\u001b[0;34m\u001b[0m\u001b[0m\n\u001b[1;32m     23\u001b[0m     \u001b[0mlog_ratio_backward\u001b[0m \u001b[0;34m=\u001b[0m \u001b[0mlog_obs_prev\u001b[0m \u001b[0;34m+\u001b[0m \u001b[0mlog_p_eta_prev\u001b[0m \u001b[0;34m-\u001b[0m \u001b[0mlog_q_eta_prev\u001b[0m\u001b[0;34m\u001b[0m\u001b[0;34m\u001b[0m\u001b[0m\n",
      "\u001b[0;31mKeyboardInterrupt\u001b[0m: "
     ]
    }
   ],
   "source": [
    "RESAMPLE=True\n",
    "DETACH=True\n",
    "train_mu(Eubo_cfz_pr_z, enc_mu, enc_z, optimizer, Data, obs_rad, noise_sigma, K, NUM_EPOCHS, MCMC_SIZE, SAMPLE_SIZE, BATCH_SIZE, PATH, CUDA, DEVICE, RESAMPLE=RESAMPLE, DETACH=DETACH)"
   ]
  },
  {
   "cell_type": "code",
   "execution_count": null,
   "metadata": {},
   "outputs": [],
   "source": [
    "torch.save(enc_mu.state_dict(), \"../weights/enc-mu-%s\" % PATH)\n",
    "# torch.save(enc_z.state_dict(), \"../weights/enc-z-%s\" % PATH)"
   ]
  },
  {
   "cell_type": "code",
   "execution_count": null,
   "metadata": {},
   "outputs": [],
   "source": [
    "BATCH_SIZE_TEST = 50\n",
    "obs, q_mu, q_z, symkls_test, eubos_test, elbos_test = test(Eubo_cfz_init_eta, enc_mu, enc_z, Data, obs_rad, noise_sigma, K, 10, SAMPLE_SIZE, BATCH_SIZE_TEST, CUDA, DEVICE, RESAMPLE, DETACH=DETACH)\n",
    "%time plot_samples(obs, q_mu, q_z, K, PATH)"
   ]
  },
  {
   "cell_type": "code",
   "execution_count": null,
   "metadata": {},
   "outputs": [],
   "source": [
    "incremental_gap = symkls_test.cpu().data.numpy()[1:]\n",
    "M = incremental_gap.shape[0]\n",
    "overall_gap = np.zeros(M)\n",
    "for m in range(M):\n",
    "    overall_gap[m] = incremental_gap[:m+1].sum()"
   ]
  },
  {
   "cell_type": "code",
   "execution_count": null,
   "metadata": {},
   "outputs": [],
   "source": [
    "fig = plt.figure(figsize=(12,6))\n",
    "ax = fig.add_subplot(111)\n",
    "plt.yscale(\"log\")\n",
    "ax.plot(incremental_gap, label=\"incremental gap\")\n",
    "ax.plot(overall_gap, label='overall gap')\n",
    "ax.legend(fontsize=14)\n",
    "ax.set_xlabel('Steps')"
   ]
  },
  {
   "cell_type": "code",
   "execution_count": null,
   "metadata": {},
   "outputs": [],
   "source": []
  }
 ],
 "metadata": {
  "kernelspec": {
   "display_name": "Python 3",
   "language": "python",
   "name": "python3"
  },
  "language_info": {
   "codemirror_mode": {
    "name": "ipython",
    "version": 3
   },
   "file_extension": ".py",
   "mimetype": "text/x-python",
   "name": "python",
   "nbconvert_exporter": "python",
   "pygments_lexer": "ipython3",
   "version": "3.7.3"
  }
 },
 "nbformat": 4,
 "nbformat_minor": 2
}
