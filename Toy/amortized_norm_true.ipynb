{
 "cells": [
  {
   "cell_type": "code",
   "execution_count": 20,
   "metadata": {},
   "outputs": [
    {
     "name": "stdout",
     "output_type": "stream",
     "text": [
      "probtorch: 0.0+5a2c637 torch: 0.5.0a0+3bb8c5e cuda: True\n"
     ]
    }
   ],
   "source": [
    "import numpy as np\n",
    "import torch.nn as nn\n",
    "import torch.nn.functional as F\n",
    "import matplotlib.pyplot as plt\n",
    "%matplotlib inline\n",
    "from gmm_dataset import *\n",
    "from util_hmm_variational_gibbs import *\n",
    "from util_plots import *\n",
    "from scipy.stats import invwishart, dirichlet\n",
    "from torch.distributions.dirichlet import Dirichlet\n",
    "sys.path.append('/home/hao/Research/probtorch/')\n",
    "from probtorch.util import expand_inputs\n",
    "import probtorch\n",
    "print('probtorch:', probtorch.__version__, \n",
    "      'torch:', torch.__version__, \n",
    "      'cuda:', torch.cuda.is_available())"
   ]
  },
  {
   "cell_type": "code",
   "execution_count": 21,
   "metadata": {},
   "outputs": [],
   "source": [
    "T = 30\n",
    "K = 3\n",
    "D = 2\n",
    "num_particles_rws = 50\n",
    "mcmc_steps = 2\n",
    "num_particles_smc = 30\n",
    "NUM_HIDDEN = 128\n",
    "NUM_LATENTS = K*K\n",
    "NUM_OBS = 2 * K\n",
    "# training parameters\n",
    "NUM_SAMPLES = 1\n",
    "# BATCH_SIZE = 100\n",
    "NUM_EPOCHS = 80\n",
    "LEARNING_RATE = 1e-3\n",
    "CUDA = False\n",
    "\n",
    "RESTORE = False"
   ]
  },
  {
   "cell_type": "code",
   "execution_count": 22,
   "metadata": {},
   "outputs": [
    {
     "data": {
      "image/png": "[encoded data removed]",
      "text/plain": [
       "<Figure size 288x288 with 1 Axes>"
      ]
     },
     "metadata": {},
     "output_type": "display_data"
    }
   ],
   "source": [
    "Xs, mu_true, cov_true, Zs_true, Pi_true, A_true = sampling_hmm(T, K, D)\n",
    "plot_samples(Xs.data.numpy(), mu_true.data.numpy(), cov_true.data.numpy())\n",
    "Y = Xs"
   ]
  },
  {
   "cell_type": "code",
   "execution_count": 23,
   "metadata": {},
   "outputs": [],
   "source": [
    "## return samples in order to compute the weights and \n",
    "class Encoder(nn.Module):\n",
    "    def __init__(self, num_obs=NUM_OBS,\n",
    "                       num_hidden=NUM_HIDDEN,\n",
    "                       num_latents=NUM_LATENTS):\n",
    "        super(self.__class__, self).__init__()\n",
    "        self.enc_hidden = nn.Sequential(\n",
    "            nn.Linear(num_obs, num_hidden),\n",
    "            nn.ReLU(),\n",
    "            nn.Linear(num_hidden, num_hidden),\n",
    "            nn.ReLU())\n",
    "        self.latent_dir = nn.Sequential(\n",
    "            nn.Linear(num_hidden, num_latents))\n",
    "        \n",
    "    def forward(self, obs, num_particles):\n",
    "        A_samples = torch.zeros((K, K))\n",
    "        hidden = self.enc_hidden(obs)\n",
    "        latents_dirs = torch.exp(self.latent_dir(hidden)).sum(0).view(K, K)\n",
    "        latents_dirs_norm = latents_dirs / latents_dirs.sum() * (T-1)\n",
    "        for k in range(K):\n",
    "            A_samples[k] = Dirichlet(latents_dirs_norm[k]).sample()\n",
    "        return latents_dirs_norm, A_samples"
   ]
  },
  {
   "cell_type": "code",
   "execution_count": 24,
   "metadata": {},
   "outputs": [],
   "source": [
    "def initialize():\n",
    "    enc = Encoder()\n",
    "    if CUDA:\n",
    "        enc.cuda()\n",
    "    optimizer =  torch.optim.Adam(list(enc.parameters()),lr=LEARNING_RATE)    \n",
    "    return enc, optimizer\n",
    "\n",
    "alpha_init_0, alpha_trans_0, m_0, beta_0, nu_0, W_0 = pirors(Y, T, D, K)\n",
    "enc, optimizer = initialize()\n",
    "## initialization\n",
    "# cov_ks = torch.zeros((K, D, D))\n",
    "# mu_ks = torch.zeros((K, D))\n",
    "# for k in range(K):\n",
    "# ## sample mu_k and Sigma_k randomly\n",
    "#     cov_ks[k] = torch.from_numpy(invwishart.rvs(df=nu_0, scale=W_0.data.numpy())).float()\n",
    "#     mu_ks[k] = MultivariateNormal(loc=m_0, covariance_matrix=cov_ks[k] / beta_0).sample()\n",
    "# Pi = Dirichlet(alpha_init_0).sample()\n",
    "# A_samples = initial_trans(alpha_trans_0, K)"
   ]
  },
  {
   "cell_type": "code",
   "execution_count": null,
   "metadata": {},
   "outputs": [
    {
     "name": "stdout",
     "output_type": "stream",
     "text": [
      "epoch : 0, KL : 5.267386, loss_infer : -2.914855 (43s)\n",
      "epoch : 1, KL : 5.004850, loss_infer : -3.964167 (43s)\n",
      "epoch : 2, KL : 4.718925, loss_infer : -3.619146 (43s)\n",
      "epoch : 3, KL : 4.354506, loss_infer : -2.086236 (43s)\n",
      "epoch : 4, KL : 4.120155, loss_infer : -1.522557 (43s)\n",
      "epoch : 5, KL : 3.956549, loss_infer : -1.393750 (43s)\n",
      "epoch : 6, KL : 3.716486, loss_infer : -3.115009 (43s)\n",
      "epoch : 7, KL : 3.379955, loss_infer : -3.760072 (43s)\n",
      "epoch : 8, KL : 3.194972, loss_infer : -2.877061 (43s)\n",
      "epoch : 9, KL : 2.968087, loss_infer : -4.748078 (43s)\n",
      "epoch : 10, KL : 2.739328, loss_infer : -4.628841 (43s)\n",
      "epoch : 11, KL : 2.517862, loss_infer : -3.923955 (43s)\n",
      "epoch : 12, KL : 2.348000, loss_infer : -2.392671 (43s)\n",
      "epoch : 13, KL : 2.029716, loss_infer : -4.590868 (43s)\n",
      "epoch : 14, KL : 1.853231, loss_infer : -2.317251 (43s)\n",
      "epoch : 15, KL : 1.685183, loss_infer : -3.781603 (43s)\n",
      "epoch : 16, KL : 1.521153, loss_infer : -4.249825 (43s)\n",
      "epoch : 17, KL : 1.382743, loss_infer : -4.557587 (43s)\n",
      "epoch : 18, KL : 1.227173, loss_infer : -4.692822 (43s)\n",
      "epoch : 19, KL : 1.086950, loss_infer : -2.405716 (44s)\n",
      "epoch : 20, KL : 0.961417, loss_infer : -4.290090 (44s)\n",
      "epoch : 21, KL : 0.850806, loss_infer : -5.499010 (43s)\n",
      "epoch : 22, KL : 0.807395, loss_infer : -4.211425 (43s)\n",
      "epoch : 23, KL : 0.750725, loss_infer : -4.701094 (43s)\n",
      "epoch : 24, KL : 0.732982, loss_infer : -3.992922 (43s)\n",
      "epoch : 25, KL : 0.750899, loss_infer : -5.566642 (43s)\n",
      "epoch : 26, KL : 0.742609, loss_infer : -5.543838 (44s)\n",
      "epoch : 27, KL : 0.779342, loss_infer : -5.848639 (43s)\n",
      "epoch : 28, KL : 0.792003, loss_infer : -5.552543 (43s)\n",
      "epoch : 29, KL : 0.829896, loss_infer : -6.402107 (43s)\n",
      "epoch : 30, KL : 0.929639, loss_infer : -5.793514 (43s)\n",
      "epoch : 31, KL : 0.990119, loss_infer : -6.204286 (43s)\n",
      "epoch : 32, KL : 1.075338, loss_infer : -5.384101 (43s)\n",
      "epoch : 33, KL : 1.152366, loss_infer : -6.121958 (43s)\n",
      "epoch : 34, KL : 1.194267, loss_infer : -5.469105 (43s)\n",
      "epoch : 35, KL : 1.229842, loss_infer : -4.092100 (43s)\n",
      "epoch : 36, KL : 1.390745, loss_infer : -5.722395 (43s)\n",
      "epoch : 37, KL : 1.450540, loss_infer : -4.718952 (43s)\n",
      "epoch : 38, KL : 1.452151, loss_infer : -6.913892 (43s)\n",
      "epoch : 39, KL : 1.475204, loss_infer : -5.669767 (43s)\n",
      "epoch : 40, KL : 1.459574, loss_infer : -7.572818 (43s)\n",
      "epoch : 41, KL : 1.525163, loss_infer : -5.849059 (43s)\n",
      "epoch : 42, KL : 1.509192, loss_infer : -6.052760 (43s)\n",
      "epoch : 43, KL : 1.502456, loss_infer : -1.793601 (43s)\n",
      "epoch : 44, KL : 1.496251, loss_infer : -2.586018 (43s)\n",
      "epoch : 45, KL : 1.475647, loss_infer : -6.078764 (43s)\n",
      "epoch : 46, KL : 1.457682, loss_infer : -5.751449 (43s)\n",
      "epoch : 47, KL : 1.460632, loss_infer : -8.038586 (43s)\n",
      "epoch : 48, KL : 1.565684, loss_infer : -6.414599 (43s)\n",
      "epoch : 49, KL : 1.582202, loss_infer : -4.898464 (43s)\n",
      "epoch : 50, KL : 1.611084, loss_infer : -4.728368 (43s)\n",
      "epoch : 51, KL : 1.713063, loss_infer : -6.677195 (43s)\n",
      "epoch : 52, KL : 1.674053, loss_infer : -5.905210 (43s)\n",
      "epoch : 53, KL : 1.674057, loss_infer : -6.349225 (43s)\n",
      "epoch : 54, KL : 1.683016, loss_infer : -6.113031 (43s)\n",
      "epoch : 55, KL : 1.711412, loss_infer : -5.793628 (43s)\n",
      "epoch : 56, KL : 1.816435, loss_infer : -6.358260 (43s)\n",
      "epoch : 57, KL : 1.802463, loss_infer : -6.612703 (43s)\n",
      "epoch : 58, KL : 1.767197, loss_infer : -8.351182 (43s)\n",
      "epoch : 59, KL : 1.823151, loss_infer : -6.479427 (43s)\n",
      "epoch : 60, KL : 1.785795, loss_infer : -5.035670 (43s)\n",
      "epoch : 61, KL : 1.777571, loss_infer : -5.789226 (43s)\n",
      "epoch : 62, KL : 1.729954, loss_infer : -4.909621 (43s)\n",
      "epoch : 63, KL : 1.675417, loss_infer : -7.518303 (43s)\n",
      "epoch : 64, KL : 1.702951, loss_infer : -4.378081 (43s)\n",
      "epoch : 65, KL : 1.592564, loss_infer : -1.470367 (43s)\n",
      "epoch : 66, KL : 1.588618, loss_infer : -6.041869 (43s)\n",
      "epoch : 67, KL : 1.613255, loss_infer : -5.622682 (43s)\n",
      "epoch : 68, KL : 1.521159, loss_infer : -6.698165 (43s)\n",
      "epoch : 69, KL : 1.539290, loss_infer : -5.285767 (43s)\n",
      "epoch : 70, KL : 1.620195, loss_infer : -5.698644 (43s)\n",
      "epoch : 71, KL : 1.680359, loss_infer : -3.937038 (43s)\n",
      "epoch : 72, KL : 1.755889, loss_infer : -6.772264 (43s)\n",
      "epoch : 73, KL : 1.811939, loss_infer : -3.306437 (43s)\n"
     ]
    }
   ],
   "source": [
    "KLs = []\n",
    "KL_ests = []\n",
    "log_p_conds = []\n",
    "log_qs = []\n",
    "ESSs = []\n",
    "\n",
    "Pi = Pi_true\n",
    "mu_ks = mu_true\n",
    "cov_ks = cov_true\n",
    "# Z_ret = Zs_true\n",
    "# Z_ret_pairwise = torch.cat((Z_ret[:T-1].unsqueeze(0), Z_ret[1:].unsqueeze(0)), 0).transpose(0, 1).contiguous().view(T-1, 2*K)\n",
    "\n",
    "for epoch in range(NUM_EPOCHS):\n",
    "    time_start = time.time()\n",
    "    optimizer.zero_grad()\n",
    "    log_weights_rws = torch.zeros(num_particles_rws)\n",
    "    log_qs = torch.zeros(num_particles_rws)\n",
    "    kl = 0.0\n",
    "    for l in range(num_particles_rws):\n",
    "#         A_samples = initial_trans(alpha_trans_0, K)\n",
    "        A_samples = A_true\n",
    "        Zs, log_weights, log_normalizer = smc_hmm(Pi, A_samples, mu_ks, cov_ks, Y, T, D, K, num_particles_smc)\n",
    "        Z_ret = resampling_smc(Zs, log_weights)\n",
    "        log_weight_rws = log_normalizer\n",
    "        Z_ret_pairwise = torch.cat((Z_ret[:T-1].unsqueeze(0), Z_ret[1:].unsqueeze(0)), 0).transpose(0, 1).contiguous().view(T-1, 2*K)\n",
    "        for m in range(mcmc_steps):\n",
    "            A_prev = A_samples\n",
    "            latents_dirs, A_samples = enc(Z_ret_pairwise, 1)\n",
    "            log_p_joint_curr = log_joint(alpha_init_0, alpha_trans_0, nu_0, W_0, m_0, beta_0, Z_ret, Pi, A_samples, mu_ks, cov_ks, Y, T, D, K).detach().item()\n",
    "#             log_p_joint_prev = log_joint(alpha_init_0, alpha_trans_0, nu_0, W_0, m_0, beta_0, Z_ret, Pi, A_prev, mu_ks, cov_ks, Y, T, D, K).detach().item() \n",
    "            log_p_smc = log_joint_smc(Z_ret, Pi, A_samples, mu_ks, cov_ks, Y, T, D, K)\n",
    "            log_q_curr = log_q_hmm(latents_dirs, A_samples, K, num_particles=1).detach()\n",
    "            log_q_prev = log_q_hmm(latents_dirs, A_prev, K,num_particles=1).detach()\n",
    "            \n",
    "            Zs, log_weights, log_normalizer = csmc_hmm(Z_ret, Pi, A_samples, mu_ks, cov_ks, Y, T, D, K, num_particles_smc)\n",
    "            Z_ret = resampling_smc(Zs, log_weights)\n",
    "            Z_ret_pairwise = torch.cat((Z_ret[:T-1].unsqueeze(0), Z_ret[1:].unsqueeze(0)), 0).transpose(0, 1).contiguous().view(T-1, 2*K)\n",
    "\n",
    "            log_weight_rws += log_p_joint_curr - log_p_smc - log_q_curr + log_q_prev + log_normalizer\n",
    "              \n",
    "        log_weights_rws[l] = log_weight_rws.detach()     \n",
    "\n",
    "  \n",
    "        alpha_trans_hat = alpha_trans_0 + pairwise(Z_ret, T).sum(0)\n",
    "        kl += kl_dirichlets(alpha_trans_0, latents_dirs, Z_ret, T, K)      \n",
    "        log_qs[l] = log_q_hmm(latents_dirs, A_samples, K, num_particles=1)   \n",
    "    kl /= num_particles_rws\n",
    "        \n",
    "    log_weights_rws = log_weights_rws - log_sum_exp(log_weights_rws)\n",
    "    weights_rws = torch.exp(log_weights_rws)\n",
    "    ess = (1. / (weights_rws ** 2 ).sum()).item()\n",
    "    loss_infer = - torch.mul(weights_rws, log_qs).sum()\n",
    "#     kl_est = torch.mul(weights_rws, log_p_conds - log_qs).sum().detach().item()\n",
    "    loss_infer.backward()\n",
    "    KLs.append(kl.item())\n",
    "#     KL_ests.append(kl_est)\n",
    "    ESSs.append(ess)\n",
    "    optimizer.step()\n",
    "#     A_samples = A_samples.detach()\n",
    "    time_end = time.time()\n",
    "    print('epoch : %d, KL : %f, loss_infer : %f (%ds)' % (epoch, kl, loss_infer, time_end - time_start))"
   ]
  },
  {
   "cell_type": "code",
   "execution_count": 7,
   "metadata": {},
   "outputs": [],
   "source": [
    "# plot_kl_est(np.array(KLs))"
   ]
  },
  {
   "cell_type": "code",
   "execution_count": 8,
   "metadata": {},
   "outputs": [
    {
     "data": {
      "text/plain": [
       "tensor([[3.3333, 1.3333, 1.3333],\n",
       "        [1.3333, 1.3333, 1.3333],\n",
       "        [0.3333, 1.3333, 0.3333]])"
      ]
     },
     "execution_count": 8,
     "metadata": {},
     "output_type": "execute_result"
    }
   ],
   "source": [
    "alpha_trans_0 + pairwise(Zs_true, T).sum(0)"
   ]
  },
  {
   "cell_type": "code",
   "execution_count": 14,
   "metadata": {},
   "outputs": [
    {
     "name": "stdout",
     "output_type": "stream",
     "text": [
      "variational : \n",
      "tensor([[1.9489, 0.4415, 0.7086],\n",
      "        [1.0214, 1.3750, 1.2484],\n",
      "        [0.3909, 1.4219, 0.4436]], grad_fn=<MulBackward>)\n",
      "conjugate posterior :\n",
      "tensor([[3.3333, 1.3333, 1.3333],\n",
      "        [1.3333, 1.3333, 1.3333],\n",
      "        [0.3333, 1.3333, 0.3333]])\n"
     ]
    }
   ],
   "source": [
    "learned_dicichlet_post = latents_dirs\n",
    "true_dirichlet_post = alpha_trans_0 + pairwise(Zs_true, T).sum(0)\n",
    "print('variational : ')\n",
    "print(learned_dicichlet_post)\n",
    "print('conjugate posterior :')\n",
    "print(true_dirichlet_post)"
   ]
  },
  {
   "cell_type": "code",
   "execution_count": 10,
   "metadata": {},
   "outputs": [
    {
     "data": {
      "text/plain": [
       "[<matplotlib.lines.Line2D at 0x7f59c0fcbb38>]"
      ]
     },
     "execution_count": 10,
     "metadata": {},
     "output_type": "execute_result"
    },
    {
     "data": {
      "image/png": "[encoded data removed]",
      "text/plain": [
       "<Figure size 432x288 with 1 Axes>"
      ]
     },
     "metadata": {},
     "output_type": "display_data"
    }
   ],
   "source": [
    "plt.plot(np.array(ESSs) / num_particles_rws)"
   ]
  },
  {
   "cell_type": "code",
   "execution_count": null,
   "metadata": {},
   "outputs": [],
   "source": []
  }
 ],
 "metadata": {
  "kernelspec": {
   "display_name": "Python 3",
   "language": "python",
   "name": "python3"
  },
  "language_info": {
   "codemirror_mode": {
    "name": "ipython",
    "version": 3
   },
   "file_extension": ".py",
   "mimetype": "text/x-python",
   "name": "python",
   "nbconvert_exporter": "python",
   "pygments_lexer": "ipython3",
   "version": "3.6.6"
  }
 },
 "nbformat": 4,
 "nbformat_minor": 2
}
