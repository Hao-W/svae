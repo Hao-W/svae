{
 "cells": [
  {
   "cell_type": "code",
   "execution_count": 1,
   "metadata": {},
   "outputs": [
    {
     "name": "stdout",
     "output_type": "stream",
     "text": [
      "probtorch: 0.0+5a2c637 torch: 0.5.0a0+3bb8c5e cuda: True\n"
     ]
    }
   ],
   "source": [
    "import numpy as np\n",
    "import torch.nn as nn\n",
    "import torch.nn.functional as F\n",
    "import matplotlib.pyplot as plt\n",
    "%matplotlib inline\n",
    "from util_data import *\n",
    "from util_hmm_variational_gibbs import *\n",
    "from util_plots import *\n",
    "from scipy.stats import invwishart, dirichlet\n",
    "from torch.distributions.dirichlet import Dirichlet\n",
    "sys.path.append('/home/hao/Research/probtorch/')\n",
    "from probtorch.util import expand_inputs\n",
    "import probtorch\n",
    "print('probtorch:', probtorch.__version__, \n",
    "      'torch:', torch.__version__, \n",
    "      'cuda:', torch.cuda.is_available())\n",
    "# output_notebook()"
   ]
  },
  {
   "cell_type": "code",
   "execution_count": 2,
   "metadata": {},
   "outputs": [],
   "source": [
    "## Dataset parameters\n",
    "num_series = 1\n",
    "T = 50\n",
    "K = 4\n",
    "D = 2\n",
    "dt = 10\n",
    "Boundary = 30\n",
    "noise_ratio = 0.5\n",
    "\n",
    "## Model Parameters\n",
    "num_particles_rws = 50\n",
    "mcmc_steps = 1\n",
    "num_particles_smc = 30\n",
    "NUM_HIDDEN = 128\n",
    "NUM_LATENTS = K*K\n",
    "NUM_OBS = 2 * K\n",
    "\n",
    "NUM_EPOCHS = 80\n",
    "LEARNING_RATE = 1e-3\n",
    "CUDA = False"
   ]
  },
  {
   "cell_type": "code",
   "execution_count": 10,
   "metadata": {},
   "outputs": [
    {
     "data": {
      "image/png": "[encoded data removed]",
      "text/plain": [
       "<Figure size 288x288 with 1 Axes>"
      ]
     },
     "metadata": {},
     "output_type": "display_data"
    }
   ],
   "source": [
    "noise_cov = np.array([[1, 0], [0, 1]]) * noise_ratio\n",
    "init_v = np.random.random(2) * np.random.choice([-1,1], size=2)\n",
    "v_norm = ((init_v ** 2 ).sum()) ** 0.5 ## compute norm for each initial velocity\n",
    "init_v = init_v / v_norm * dt ## to make the velocity lying on a circle\n",
    "\n",
    "STATE, Disp, A_true, Zs_true = generate_seq(T, dt, Boundary, init_v, noise_cov)\n",
    "## true global variables\n",
    "cov_true = np.tile(noise_cov, (K, 1, 1))\n",
    "dirs = np.array([[1, 1], [1, -1], [-1, -1], [-1, 1]])\n",
    "mu_true = np.tile(np.absolute(init_v), (K, 1)) * dirs\n",
    "Pi_true = np.ones(K) * (1/K)\n",
    "\n",
    "plot_clusters(Disp, mu_true, cov_true, K)\n",
    "Zs_true = torch.from_numpy(Zs_true).float()\n",
    "cov_ks = torch.from_numpy(cov_true).float()\n",
    "mu_ks = torch.from_numpy(mu_true).float()\n",
    "Pi = torch.from_numpy(Pi_true).float()\n",
    "A_init = torch.from_numpy(A_true).float()\n",
    "## piror of A\n",
    "alpha_trans_0 = initial_trans_prior(K)\n",
    "## Y\n",
    "Y = torch.from_numpy(Disp).float()"
   ]
  },
  {
   "cell_type": "code",
   "execution_count": 11,
   "metadata": {},
   "outputs": [],
   "source": [
    "A_samples = A_init\n",
    "Zs, log_weights, log_normalizer = smc_hmm(Pi, A_samples, mu_ks, cov_ks, Y, T, D, K, num_particles_smc)"
   ]
  },
  {
   "cell_type": "code",
   "execution_count": null,
   "metadata": {},
   "outputs": [],
   "source": [
    "## return samples in order to compute the weights and \n",
    "class Encoder(nn.Module):\n",
    "    def __init__(self, num_obs=NUM_OBS,\n",
    "                       num_hidden=NUM_HIDDEN,\n",
    "                       num_latents=NUM_LATENTS):\n",
    "        super(self.__class__, self).__init__()\n",
    "        self.enc_hidden = nn.Sequential(\n",
    "            nn.Linear(num_obs, num_hidden),\n",
    "            nn.ReLU(),\n",
    "            nn.Linear(num_hidden, num_hidden),\n",
    "            nn.ReLU())\n",
    "        self.latent_dir = nn.Sequential(\n",
    "            nn.Linear(num_hidden, num_latents))\n",
    "        \n",
    "    def forward(self, obs, num_particles):\n",
    "        A_samples = torch.zeros((K, K))\n",
    "        hidden = self.enc_hidden(obs)\n",
    "        latents_dirs = torch.exp(self.latent_dir(hidden)).sum(0).view(K, K)\n",
    "        latents_dirs_norm = latents_dirs / latents_dirs.sum() * (T-1)\n",
    "        for k in range(K):\n",
    "            A_samples[k] = Dirichlet(latents_dirs_norm[k]).sample()\n",
    "        return latents_dirs_norm, A_samples"
   ]
  },
  {
   "cell_type": "code",
   "execution_count": null,
   "metadata": {},
   "outputs": [],
   "source": []
  },
  {
   "cell_type": "code",
   "execution_count": null,
   "metadata": {},
   "outputs": [],
   "source": [
    "def initialize():\n",
    "    enc = Encoder()\n",
    "    if CUDA:\n",
    "        enc.cuda()\n",
    "    optimizer =  torch.optim.Adam(list(enc.parameters()),lr=LEARNING_RATE)    \n",
    "    return enc, optimizer\n",
    "enc, optimizer = initialize()"
   ]
  },
  {
   "cell_type": "code",
   "execution_count": null,
   "metadata": {},
   "outputs": [],
   "source": [
    "KLs = []\n",
    "EUBOs = []\n",
    "log_p_conds = []\n",
    "log_qs = []\n",
    "ESSs = []\n",
    "# Z_ret = Zs_true\n",
    "# Z_ret_pairwise = torch.cat((Z_ret[:T-1].unsqueeze(0), Z_ret[1:].unsqueeze(0)), 0).transpose(0, 1).contiguous().view(T-1, 2*K)\n",
    "for epoch in range(NUM_EPOCHS):\n",
    "    time_start = time.time()\n",
    "    optimizer.zero_grad()\n",
    "    loss_infer, eubo, kl, ess = rws(enc, A_init, alpha_trans_0, Pi, mu_ks, cov_ks, Y, T, D, K, num_particles_rws, num_particles_smc, mcmc_steps)\n",
    "#     kl_est = torch.mul(weights_rws, log_p_conds - log_qs).sum().detach().item()\n",
    "    loss_infer.backward()\n",
    "    KLs.append(kl.item())\n",
    "    EUBOs.append(eubo)\n",
    "    ESSs.append(ess)\n",
    "    optimizer.step()\n",
    "#     A_samples = A_samples.detach()\n",
    "    time_end = time.time()\n",
    "    print('epoch : %d, eubo : %f, KL : %f (%ds)' % (epoch, eubo, kl, time_end - time_start))"
   ]
  },
  {
   "cell_type": "code",
   "execution_count": null,
   "metadata": {},
   "outputs": [],
   "source": [
    "learned_dicichlet_post = latents_dirs\n",
    "true_dirichlet_post = alpha_trans_0 + pairwise(Zs_true, T).sum(0)\n",
    "print('variational : ')\n",
    "print(learned_dicichlet_post)\n",
    "print('conjugate posterior :')\n",
    "print(true_dirichlet_post)"
   ]
  },
  {
   "cell_type": "code",
   "execution_count": null,
   "metadata": {},
   "outputs": [],
   "source": [
    "plt.plot(np.array(ESSs) / num_particles_rws)"
   ]
  },
  {
   "cell_type": "code",
   "execution_count": null,
   "metadata": {},
   "outputs": [],
   "source": [
    "norm(init_v)"
   ]
  },
  {
   "cell_type": "code",
   "execution_count": null,
   "metadata": {},
   "outputs": [],
   "source": [
    "init_v"
   ]
  },
  {
   "cell_type": "code",
   "execution_count": null,
   "metadata": {},
   "outputs": [],
   "source": []
  },
  {
   "cell_type": "code",
   "execution_count": null,
   "metadata": {},
   "outputs": [],
   "source": []
  }
 ],
 "metadata": {
  "kernelspec": {
   "display_name": "Python 3",
   "language": "python",
   "name": "python3"
  },
  "language_info": {
   "codemirror_mode": {
    "name": "ipython",
    "version": 3
   },
   "file_extension": ".py",
   "mimetype": "text/x-python",
   "name": "python",
   "nbconvert_exporter": "python",
   "pygments_lexer": "ipython3",
   "version": "3.6.6"
  }
 },
 "nbformat": 4,
 "nbformat_minor": 2
}
