{
 "cells": [
  {
   "cell_type": "code",
   "execution_count": 1,
   "metadata": {},
   "outputs": [],
   "source": [
    "import numpy as np\n",
    "import torch\n",
    "import matplotlib.pyplot as plt\n",
    "%matplotlib inline\n",
    "from gmm_dataset import *\n",
    "from util_hmm_gibbs import *\n",
    "from util_plots import *\n",
    "from scipy.stats import invwishart\n",
    "from torch.distributions.dirichlet import Dirichlet"
   ]
  },
  {
   "cell_type": "code",
   "execution_count": 2,
   "metadata": {},
   "outputs": [],
   "source": [
    "Xs, mus_true, covs_true = sampling_hmm()"
   ]
  },
  {
   "cell_type": "code",
   "execution_count": 3,
   "metadata": {},
   "outputs": [
    {
     "data": {
      "image/png": "[encoded data removed]",
      "text/plain": [
       "<Figure size 288x288 with 1 Axes>"
      ]
     },
     "metadata": {},
     "output_type": "display_data"
    }
   ],
   "source": [
    "plot_samples(Xs, mus_true, covs_true)\n",
    "Y = torch.from_numpy(Xs).float()"
   ]
  },
  {
   "cell_type": "code",
   "execution_count": 4,
   "metadata": {},
   "outputs": [],
   "source": [
    "T = 100\n",
    "K = 3\n",
    "D = 2\n",
    "num_particles=50\n",
    "iterations = 100\n",
    "alpha_init_0, alpha_trans_0, m_0, beta_0, nu_0, W_0 = pirors(Y, T, D, K)"
   ]
  },
  {
   "cell_type": "code",
   "execution_count": 5,
   "metadata": {},
   "outputs": [],
   "source": [
    "## initialization\n",
    "cov_ks = torch.zeros((K, D, D))\n",
    "mu_ks = torch.zeros((K, D))\n",
    "for k in range(K):\n",
    "## sample mu_k and Sigma_k randomly\n",
    "    cov_ks[k] = torch.from_numpy(invwishart.rvs(df=nu_0, scale=W_0.data.numpy())).float()\n",
    "    mu_ks[k] = MultivariateNormal(loc=m_0, covariance_matrix=cov_ks[k] / beta_0).sample()\n",
    "Pi = Dirichlet(alpha_init_0).sample()\n",
    "\n",
    "A = torch.zeros((T, K)).float()\n",
    "for k in range(K):\n",
    "    A[k] = Dirichlet(alpha_trans_0[k]).sample()"
   ]
  },
  {
   "cell_type": "code",
   "execution_count": null,
   "metadata": {},
   "outputs": [],
   "source": [
    "LLs = torch.zeros(iterations)\n",
    "for it in range(iterations):\n",
    "    Zs, log_weights = smc_hmm(Pi, A, mu_ks, cov_ks, Y, T, D, K, num_particles)\n",
    "    z_argmax = torch.max(log_weights[-1, :], 0)[1].item()\n",
    "    Zs_max = Zs[:, z_argmax, :]\n",
    "#     Zs = gibbs_local(Pi, A, mu_ks, cov_ks, Y, T, D, K)\n",
    "    N_ks, Y_ks, S_ks = stats(Zs_max, Y, D, K)\n",
    "    Pi, A, mu_ks, cov_ks = gibbs_global(Zs_max, alpha_init_0, alpha_trans_0, nu_0, W_0, m_0, beta_0, N_ks, Y_ks, S_ks, T, D, K)\n",
    "    LLs[it] = log_joint(alpha_init_0, alpha_trans_0, nu_0, W_0, m_0, beta_0, Zs_max, Pi, A, mu_ks, cov_ks, Y, T, D, K).item()"
   ]
  },
  {
   "cell_type": "code",
   "execution_count": null,
   "metadata": {},
   "outputs": [],
   "source": [
    "plt.plot(LLs.data.numpy())"
   ]
  },
  {
   "cell_type": "code",
   "execution_count": null,
   "metadata": {},
   "outputs": [],
   "source": [
    "plot_clusters(Xs, mu_ks.data.numpy(), cov_ks.data.numpy())"
   ]
  },
  {
   "cell_type": "code",
   "execution_count": null,
   "metadata": {},
   "outputs": [],
   "source": [
    "# ## Gibbs\n",
    "# LLs = torch.zeros(iterations)\n",
    "# for it in range(iterations):\n",
    "#     Zs = gibbs_local(Pi, A, mu_ks, cov_ks, Y, T, D, K)\n",
    "#     N_ks, Y_ks, S_ks = stats(Zs, Y, D, K)\n",
    "#     Pi, A, mu_ks, cov_ks = gibbs_global(Zs, alpha_init_0, alpha_trans_0, nu_0, W_0, m_0, beta_0, N_ks, Y_ks, S_ks, T, D, K)\n",
    "#     LLs[it] = log_joint(alpha_init_0, alpha_trans_0, nu_0, W_0, m_0, beta_0, Zs, Pi, A, mu_ks, cov_ks, Y, T, D, K).item()"
   ]
  }
 ],
 "metadata": {
  "kernelspec": {
   "display_name": "Python 3",
   "language": "python",
   "name": "python3"
  },
  "language_info": {
   "codemirror_mode": {
    "name": "ipython",
    "version": 3
   },
   "file_extension": ".py",
   "mimetype": "text/x-python",
   "name": "python",
   "nbconvert_exporter": "python",
   "pygments_lexer": "ipython3",
   "version": "3.6.6"
  }
 },
 "nbformat": 4,
 "nbformat_minor": 2
}
