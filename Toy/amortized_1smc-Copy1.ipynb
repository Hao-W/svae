{
 "cells": [
  {
   "cell_type": "code",
   "execution_count": 2,
   "metadata": {},
   "outputs": [
    {
     "name": "stdout",
     "output_type": "stream",
     "text": [
      "probtorch: 0.0+5a2c637 torch: 0.5.0a0+3bb8c5e cuda: True\n"
     ]
    }
   ],
   "source": [
    "import numpy as np\n",
    "import torch.nn as nn\n",
    "import torch.nn.functional as F\n",
    "import matplotlib.pyplot as plt\n",
    "%matplotlib inline\n",
    "from gmm_dataset import *\n",
    "from util_hmm_variational_gibbs import *\n",
    "from util_plots import *\n",
    "from scipy.stats import invwishart, dirichlet\n",
    "from torch.distributions.dirichlet import Dirichlet\n",
    "sys.path.append('/home/hao/Research/probtorch/')\n",
    "from probtorch.util import expand_inputs\n",
    "import probtorch\n",
    "print('probtorch:', probtorch.__version__, \n",
    "      'torch:', torch.__version__, \n",
    "      'cuda:', torch.cuda.is_available())"
   ]
  },
  {
   "cell_type": "code",
   "execution_count": 3,
   "metadata": {},
   "outputs": [],
   "source": [
    "T = 100\n",
    "K = 3\n",
    "D = 2\n",
    "num_particles_rws = 50\n",
    "mcmc_steps = 1\n",
    "num_particles_smc = 50\n",
    "NUM_HIDDEN = 256\n",
    "NUM_LATENTS = K*K\n",
    "NUM_OBS = T * K\n",
    "# training parameters\n",
    "NUM_SAMPLES = 1\n",
    "# BATCH_SIZE = 100\n",
    "NUM_EPOCHS = 40\n",
    "LEARNING_RATE = 1e-3\n",
    "CUDA = False\n",
    "\n",
    "RESTORE = False"
   ]
  },
  {
   "cell_type": "code",
   "execution_count": 4,
   "metadata": {},
   "outputs": [
    {
     "data": {
      "image/png": "[encoded data removed]",
      "text/plain": [
       "<Figure size 288x288 with 1 Axes>"
      ]
     },
     "metadata": {},
     "output_type": "display_data"
    }
   ],
   "source": [
    "Xs, mu_true, cov_true, Zs_true, Pi_true, A_true = sampling_hmm(T, K, D)\n",
    "plot_samples(Xs.data.numpy(), mu_true.data.numpy(), cov_true.data.numpy())\n",
    "Y = Xs"
   ]
  },
  {
   "cell_type": "code",
   "execution_count": 5,
   "metadata": {},
   "outputs": [],
   "source": [
    "## return samples in order to compute the weights and \n",
    "class Encoder(nn.Module):\n",
    "    def __init__(self, num_obs=NUM_OBS,\n",
    "                       num_hidden=NUM_HIDDEN,\n",
    "                       num_latents=NUM_LATENTS):\n",
    "        super(self.__class__, self).__init__()\n",
    "        self.enc_hidden = nn.Sequential(\n",
    "            nn.Linear(num_obs, num_hidden),\n",
    "            nn.ReLU(),\n",
    "            nn.Linear(num_hidden, num_hidden),\n",
    "            nn.ReLU(),\n",
    "            nn.Linear(num_hidden, num_hidden),\n",
    "            nn.ReLU())\n",
    "        self.latent_dir = nn.Sequential(\n",
    "            nn.Linear(num_hidden, num_latents))\n",
    "        \n",
    "    def forward(self, obs, num_particles=1):\n",
    "        A_samples = torch.zeros((K, num_particles, K))\n",
    "        hidden = self.enc_hidden(obs)\n",
    "        latents_dirs = torch.exp(self.latent_dir(hidden).view(K, K))\n",
    "        for k in range(K):\n",
    "            A_samples[k] = Dirichlet(latents_dirs[k]).sample((num_particles,))\n",
    "        return latents_dirs, A_samples"
   ]
  },
  {
   "cell_type": "code",
   "execution_count": 6,
   "metadata": {},
   "outputs": [],
   "source": [
    "def initialize():\n",
    "    enc = Encoder()\n",
    "    if CUDA:\n",
    "        enc.cuda()\n",
    "    optimizer =  torch.optim.Adam(list(enc.parameters()),lr=LEARNING_RATE)    \n",
    "    return enc, optimizer\n",
    "\n",
    "alpha_init_0, alpha_trans_0, m_0, beta_0, nu_0, W_0 = pirors(Y, T, D, K)\n",
    "enc, optimizer = initialize()\n",
    "## initialization\n",
    "cov_ks = torch.zeros((K, D, D))\n",
    "mu_ks = torch.zeros((K, D))\n",
    "for k in range(K):\n",
    "## sample mu_k and Sigma_k randomly\n",
    "    cov_ks[k] = torch.from_numpy(invwishart.rvs(df=nu_0, scale=W_0.data.numpy())).float()\n",
    "    mu_ks[k] = MultivariateNormal(loc=m_0, covariance_matrix=cov_ks[k] / beta_0).sample()\n",
    "Pi = Dirichlet(alpha_init_0).sample()\n",
    "A_samples = initial_trans(alpha_trans_0, K)"
   ]
  },
  {
   "cell_type": "code",
   "execution_count": 8,
   "metadata": {},
   "outputs": [
    {
     "name": "stdout",
     "output_type": "stream",
     "text": [
      "epoch : 0, KL : 8.543331, kl_est : 1.760073\n",
      "epoch : 1, KL : 14.796677, kl_est : -32.425236\n",
      "epoch : 2, KL : 11.602369, kl_est : -14.693318\n",
      "epoch : 3, KL : 6.852869, kl_est : 4.048211\n",
      "epoch : 4, KL : 8.953491, kl_est : -5.557538\n",
      "epoch : 5, KL : 9.273111, kl_est : -10.399015\n",
      "epoch : 6, KL : 8.467936, kl_est : -8.260195\n",
      "epoch : 7, KL : 6.699897, kl_est : 1.003553\n",
      "epoch : 8, KL : 8.822951, kl_est : 1.405248\n",
      "epoch : 9, KL : 13.610994, kl_est : -11.717591\n",
      "epoch : 10, KL : 7.883563, kl_est : -1.528966\n",
      "epoch : 11, KL : 15.812363, kl_est : -13.009917\n",
      "epoch : 12, KL : 6.488145, kl_est : -3.495138\n",
      "epoch : 13, KL : 12.878614, kl_est : -7.225792\n",
      "epoch : 14, KL : 17.147022, kl_est : -2.105236\n",
      "epoch : 15, KL : 7.203506, kl_est : -3.216754\n",
      "epoch : 16, KL : 22.435354, kl_est : -22.442465\n",
      "epoch : 17, KL : 6.220808, kl_est : 2.403211\n",
      "epoch : 18, KL : 21.971893, kl_est : -37.277290\n",
      "epoch : 19, KL : 18.533398, kl_est : -10.902710\n",
      "epoch : 20, KL : 9.520770, kl_est : -4.030931\n",
      "epoch : 21, KL : 6.868782, kl_est : -6.883629\n",
      "epoch : 22, KL : 9.785440, kl_est : -3.564789\n",
      "epoch : 23, KL : 11.149529, kl_est : -5.043090\n",
      "epoch : 24, KL : 7.479718, kl_est : -7.030668\n",
      "epoch : 25, KL : 7.677477, kl_est : -2.953260\n",
      "epoch : 26, KL : 10.824160, kl_est : 1.057401\n",
      "epoch : 27, KL : 6.859359, kl_est : 2.036211\n",
      "epoch : 28, KL : 6.969163, kl_est : 1.058455\n",
      "epoch : 29, KL : 8.957327, kl_est : -2.514465\n",
      "epoch : 30, KL : 5.372929, kl_est : -5.254417\n",
      "epoch : 31, KL : 4.729205, kl_est : 0.429856\n",
      "epoch : 32, KL : 17.961239, kl_est : -28.610542\n",
      "epoch : 33, KL : 19.963459, kl_est : -45.506073\n",
      "epoch : 34, KL : 4.847302, kl_est : 1.199386\n",
      "epoch : 35, KL : 21.121599, kl_est : -10.339891\n",
      "epoch : 36, KL : 5.817303, kl_est : -0.873303\n",
      "epoch : 37, KL : 17.635569, kl_est : -24.042395\n",
      "epoch : 38, KL : 10.008121, kl_est : -31.949642\n",
      "epoch : 39, KL : 3.471333, kl_est : 2.901797\n"
     ]
    }
   ],
   "source": [
    "KLs = []\n",
    "KL_ests = []\n",
    "log_p_conds = []\n",
    "log_qs = []\n",
    "ESSs = []\n",
    "#     Y, mu_true, cov_true, Zs_true, Pi_true, A_true = sampling_hmm(T, K, D)\n",
    "Pi = Pi_true\n",
    "mu_ks = mu_true\n",
    "cov_ks = cov_true\n",
    "Z_ret = Zs_true\n",
    "\n",
    "for epoch in range(NUM_EPOCHS):\n",
    "    optimizer.zero_grad()\n",
    "\n",
    "    \n",
    "    Zs, log_weights, log_normalizer = smc_hmm(Pi, A_samples, mu_ks, cov_ks, Y, T, D, K, num_particles_smc)\n",
    "    # draw a sample from the sample set \n",
    "    Z_ret = resampling_smc(Zs, log_weights)\n",
    "    latents_dirs, A_samples_new = enc(Z_ret.contiguous().view(-1, T*K), num_particles_rws)\n",
    "    loss_inference, kl, kl_est, ess= inclusive_kl(A_samples_new, latents_dirs, alpha_init_0, alpha_trans_0, nu_0, W_0, m_0, beta_0, Z_ret, Pi, mu_ks, cov_ks, Y, T, D, K, num_particles_rws)\n",
    "        \n",
    "    loss_inference.backward()\n",
    "    KLs.append(kl.item())\n",
    "    KL_ests.append(kl_est)\n",
    "    ESSs.append(ess)\n",
    "    optimizer.step()\n",
    "    \n",
    "#     latents_dirs, A_samples = enc(Z_ret.contiguous().view(-1, T*K), 1)\n",
    "    A_samples = initial_trans(alpha_trans_0, K)\n",
    "    print('epoch : %d, KL : %f, kl_est : %f' % (epoch, kl, kl_est))"
   ]
  },
  {
   "cell_type": "code",
   "execution_count": 21,
   "metadata": {},
   "outputs": [
    {
     "data": {
      "image/png": "[encoded data removed]",
      "text/plain": [
       "<Figure size 576x576 with 1 Axes>"
      ]
     },
     "metadata": {},
     "output_type": "display_data"
    }
   ],
   "source": [
    "plot_kl_est(np.array(KLs), np.array(KL_ests))"
   ]
  },
  {
   "cell_type": "code",
   "execution_count": 22,
   "metadata": {},
   "outputs": [
    {
     "name": "stdout",
     "output_type": "stream",
     "text": [
      "variational : \n",
      "tensor([[26.5289,  0.5587,  1.9668],\n",
      "        [ 1.8127, 11.3190,  2.5823],\n",
      "        [ 1.0213,  2.6391, 30.1144]], grad_fn=<ExpBackward>)\n",
      "conjugate posterior :\n",
      "tensor([[28.3333,  0.3333,  4.3333],\n",
      "        [ 3.3333, 14.3333,  3.3333],\n",
      "        [ 1.3333,  6.3333, 40.3333]])\n"
     ]
    }
   ],
   "source": [
    "learned_dicichlet_post = latents_dirs\n",
    "true_dirichlet_post = alpha_trans_0 + pairwise(Z_ret, T).sum(0)\n",
    "print('variational : ')\n",
    "print(learned_dicichlet_post)\n",
    "print('conjugate posterior :')\n",
    "print(true_dirichlet_post)"
   ]
  },
  {
   "cell_type": "code",
   "execution_count": 23,
   "metadata": {},
   "outputs": [
    {
     "data": {
      "text/plain": [
       "[<matplotlib.lines.Line2D at 0x7fe6a0134978>]"
      ]
     },
     "execution_count": 23,
     "metadata": {},
     "output_type": "execute_result"
    },
    {
     "data": {
      "image/png": "[encoded data removed]",
      "text/plain": [
       "<Figure size 432x288 with 1 Axes>"
      ]
     },
     "metadata": {},
     "output_type": "display_data"
    }
   ],
   "source": [
    "plt.plot(np.array(ESSs) / num_particles_rws)"
   ]
  },
  {
   "cell_type": "code",
   "execution_count": 10,
   "metadata": {},
   "outputs": [
    {
     "data": {
      "text/plain": [
       "tensor(0)"
      ]
     },
     "execution_count": 10,
     "metadata": {},
     "output_type": "execute_result"
    }
   ],
   "source": [
    "from torch.distributions.categorical import Categorical\n",
    "Categorical(torch.Tensor([1/2, 1/2])).sample()"
   ]
  },
  {
   "cell_type": "code",
   "execution_count": 11,
   "metadata": {},
   "outputs": [],
   "source": [
    "a = torch.Tensor([1,2,3,4,5])"
   ]
  },
  {
   "cell_type": "code",
   "execution_count": 12,
   "metadata": {},
   "outputs": [
    {
     "data": {
      "text/plain": [
       "tensor([1., 2., 3., 4.])"
      ]
     },
     "execution_count": 12,
     "metadata": {},
     "output_type": "execute_result"
    }
   ],
   "source": [
    "a[:-1]"
   ]
  },
  {
   "cell_type": "code",
   "execution_count": null,
   "metadata": {},
   "outputs": [],
   "source": []
  }
 ],
 "metadata": {
  "kernelspec": {
   "display_name": "Python 3",
   "language": "python",
   "name": "python3"
  },
  "language_info": {
   "codemirror_mode": {
    "name": "ipython",
    "version": 3
   },
   "file_extension": ".py",
   "mimetype": "text/x-python",
   "name": "python",
   "nbconvert_exporter": "python",
   "pygments_lexer": "ipython3",
   "version": "3.6.5"
  }
 },
 "nbformat": 4,
 "nbformat_minor": 2
}
