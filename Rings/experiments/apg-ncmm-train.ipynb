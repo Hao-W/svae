{
 "cells": [
  {
   "cell_type": "code",
   "execution_count": 1,
   "metadata": {},
   "outputs": [
    {
     "name": "stdout",
     "output_type": "stream",
     "text": [
      "probtorch: 0.0+5a2c637 torch: 1.0.0 cuda: True\n"
     ]
    }
   ],
   "source": [
    "%matplotlib inline\n",
    "%run ../../import_envs.py\n",
    "print('probtorch:', probtorch.__version__, \n",
    "      'torch:', torch.__version__, \n",
    "      'cuda:', torch.cuda.is_available())"
   ]
  },
  {
   "cell_type": "code",
   "execution_count": 2,
   "metadata": {},
   "outputs": [],
   "source": [
    "## Load dataset\n",
    "data_path = \"../../../rings_10size\"\n",
    "Data = []\n",
    "for i in range(10):\n",
    "    data = torch.from_numpy(np.load(data_path + '/ob_%d.npy' % (((i+1)*10 + 20) * 4))).float()\n",
    "    Data.append(data)\n",
    "## Hyper Parameters\n",
    "MCMC_STEPS = 10\n",
    "## Train Parameters\n",
    "NUM_EPOCHS = 500\n",
    "K = 4\n",
    "D = 2\n",
    "SAMPLE_SIZE = 10\n",
    "BATCH_SIZE = 10\n",
    "CUDA = torch.cuda.is_available()\n",
    "DEVICE = 1\n",
    "RECON_SIGMA = torch.ones(1) * 0.2\n",
    "# lg2pi = torch.log(torch.ones(1) * 2 * math.pi)\n",
    "PATH = 'apg-%d' % SAMPLE_SIZE\n",
    "## MOdel Parameters\n",
    "NUM_HIDDEN_LOCAL = 64\n",
    "NUM_HIDDEN = 32\n",
    "NUM_NSS = 8\n",
    "LEARNING_RATE = 1e-4\n",
    "Train_Params = (NUM_EPOCHS, K, D, SAMPLE_SIZE, BATCH_SIZE, CUDA, DEVICE, PATH)"
   ]
  },
  {
   "cell_type": "code",
   "execution_count": 3,
   "metadata": {},
   "outputs": [],
   "source": [
    "from model_operations import Init_models, Save_models\n",
    "models, optimizer = Init_models(K, D, NUM_HIDDEN, NUM_HIDDEN_LOCAL, NUM_NSS, RECON_SIGMA, CUDA, DEVICE, LEARNING_RATE, RESTORE=False, PATH=PATH)\n",
    "(os_mu, f_state, f_angle, f_mu, b_state, b_angle, b_mu, dec_x) = models"
   ]
  },
  {
   "cell_type": "code",
   "execution_count": null,
   "metadata": {},
   "outputs": [
    {
     "name": "stdout",
     "output_type": "stream",
     "text": [
      "epoch=0\\500, data order=tensor([0, 4, 2, 7, 8, 5, 6, 3, 1, 9])\n",
      "Completed  in (548s),  phi_loss: 183.198,  theta_loss: 20594.532,  ess: 1.238\n",
      "epoch=1\\500, data order=tensor([9, 5, 2, 1, 3, 7, 8, 4, 0, 6])\n",
      "Completed  in (553s),  phi_loss: -368.608,  theta_loss: 6987.545,  ess: 1.575\n",
      "epoch=2\\500, data order=tensor([0, 7, 8, 3, 6, 1, 9, 2, 4, 5])\n",
      "Completed  in (550s),  phi_loss: -620.369,  theta_loss: 4296.661,  ess: 1.926\n",
      "epoch=3\\500, data order=tensor([3, 6, 4, 8, 0, 1, 9, 5, 7, 2])\n",
      "Completed  in (542s),  phi_loss: -708.103,  theta_loss: 3313.259,  ess: 2.057\n",
      "epoch=4\\500, data order=tensor([2, 6, 7, 3, 9, 1, 4, 8, 5, 0])\n",
      "Completed  in (543s),  phi_loss: -731.596,  theta_loss: 2814.137,  ess: 2.067\n",
      "epoch=5\\500, data order=tensor([2, 9, 5, 1, 7, 4, 0, 3, 6, 8])\n",
      "Completed  in (524s),  phi_loss: -752.479,  theta_loss: 2538.420,  ess: 2.091\n",
      "epoch=6\\500, data order=tensor([8, 9, 4, 3, 6, 0, 2, 1, 7, 5])\n",
      "Completed  in (548s),  phi_loss: -789.948,  theta_loss: 2434.139,  ess: 2.114\n",
      "epoch=7\\500, data order=tensor([0, 7, 4, 6, 9, 3, 1, 8, 5, 2])\n",
      "Completed  in (535s),  phi_loss: -825.735,  theta_loss: 2351.885,  ess: 2.150\n",
      "epoch=8\\500, data order=tensor([7, 4, 8, 9, 1, 6, 2, 0, 5, 3])\n",
      "Completed  in (531s),  phi_loss: -850.109,  theta_loss: 2280.753,  ess: 2.215\n",
      "epoch=9\\500, data order=tensor([1, 3, 7, 0, 9, 5, 6, 2, 8, 4])\n",
      "Completed  in (540s),  phi_loss: -877.618,  theta_loss: 2201.699,  ess: 2.249\n",
      "epoch=10\\500, data order=tensor([4, 5, 9, 0, 2, 3, 7, 1, 6, 8])\n"
     ]
    }
   ],
   "source": [
    "from apg import APG\n",
    "train(models, APG, optimizer, Data, MCMC_STEPS, Train_Params)"
   ]
  },
  {
   "cell_type": "code",
   "execution_count": null,
   "metadata": {},
   "outputs": [],
   "source": [
    "Save_models(models, PATH)"
   ]
  },
  {
   "cell_type": "code",
   "execution_count": null,
   "metadata": {},
   "outputs": [],
   "source": []
  }
 ],
 "metadata": {
  "kernelspec": {
   "display_name": "Python 3",
   "language": "python",
   "name": "python3"
  },
  "language_info": {
   "codemirror_mode": {
    "name": "ipython",
    "version": 3
   },
   "file_extension": ".py",
   "mimetype": "text/x-python",
   "name": "python",
   "nbconvert_exporter": "python",
   "pygments_lexer": "ipython3",
   "version": "3.6.7"
  }
 },
 "nbformat": 4,
 "nbformat_minor": 2
}
