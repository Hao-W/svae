{
 "cells": [
  {
   "cell_type": "code",
   "execution_count": null,
   "metadata": {},
   "outputs": [],
   "source": [
    "%matplotlib inline\n",
    "%run ../../import_envs.py\n",
    "print('probtorch:', probtorch.__version__, \n",
    "      'torch:', torch.__version__, \n",
    "      'cuda:', torch.cuda.is_available())"
   ]
  },
  {
   "cell_type": "code",
   "execution_count": null,
   "metadata": {},
   "outputs": [],
   "source": [
    "## Load dataset\n",
    "K = 3\n",
    "N_c, N_s, N_t = 70, 72, 72\n",
    "N = N_c+N_s+N_t\n",
    "data_path = data_dir + \"ncmm/shapes_c=%d_s=%d_t=%d\" % (N_c, N_s, N_t)\n",
    "Data = []\n",
    "data = torch.from_numpy(np.load(data_path + '/ob.npy')).float()\n",
    "Data.append(data)\n",
    "## Hyper Parameters\n",
    "MCMC_STEPS = 10\n",
    "## Train Parameters\n",
    "NUM_EPOCHS = 500\n",
    "\n",
    "D = 2\n",
    "SAMPLE_SIZE = 10\n",
    "BATCH_SIZE = 40\n",
    "CUDA = torch.cuda.is_available()\n",
    "DEVICE = 1\n",
    "RECON_SIGMA = torch.ones(1) * 0.2\n",
    "# lg2pi = torch.log(torch.ones(1) * 2 * math.pi)\n",
    "PATH = 'apg-shapes-%dpts-%dsamples' % (N, SAMPLE_SIZE)\n",
    "## MOdel Parameters\n",
    "NUM_HIDDEN_LOCAL = 64\n",
    "NUM_HIDDEN = 32\n",
    "NUM_NSS = 8\n",
    "LEARNING_RATE = 5 * 1e-4\n",
    "Train_Params = (NUM_EPOCHS, K, D, SAMPLE_SIZE, BATCH_SIZE, CUDA, DEVICE, PATH)"
   ]
  },
  {
   "cell_type": "code",
   "execution_count": null,
   "metadata": {},
   "outputs": [],
   "source": [
    "from model_operations_shapes import Init_models, Save_models\n",
    "models, optimizer = Init_models(K, D, NUM_HIDDEN, NUM_HIDDEN_LOCAL, NUM_NSS, RECON_SIGMA, CUDA, DEVICE, LEARNING_RATE, RESTORE=False, PATH=PATH)\n",
    "(os_mu, f_state, f_angle, f_mu, b_state, b_angle, b_mu, dec_x) = models"
   ]
  },
  {
   "cell_type": "code",
   "execution_count": null,
   "metadata": {},
   "outputs": [],
   "source": [
    "from apg import APG\n",
    "train(models, APG, optimizer, Data, MCMC_STEPS, Train_Params)"
   ]
  },
  {
   "cell_type": "code",
   "execution_count": null,
   "metadata": {},
   "outputs": [],
   "source": [
    "Save_models(models, PATH)"
   ]
  },
  {
   "cell_type": "code",
   "execution_count": null,
   "metadata": {},
   "outputs": [],
   "source": []
  }
 ],
 "metadata": {
  "kernelspec": {
   "display_name": "Python 3",
   "language": "python",
   "name": "python3"
  },
  "language_info": {
   "codemirror_mode": {
    "name": "ipython",
    "version": 3
   },
   "file_extension": ".py",
   "mimetype": "text/x-python",
   "name": "python",
   "nbconvert_exporter": "python",
   "pygments_lexer": "ipython3",
   "version": "3.6.7"
  }
 },
 "nbformat": 4,
 "nbformat_minor": 2
}
