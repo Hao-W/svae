{
 "cells": [
  {
   "cell_type": "code",
   "execution_count": 1,
   "metadata": {},
   "outputs": [
    {
     "name": "stdout",
     "output_type": "stream",
     "text": [
      "probtorch: 0.0+5a2c637 torch: 1.0.0 cuda: True\n"
     ]
    }
   ],
   "source": [
    "%matplotlib inline\n",
    "%run ../../import_envs.py\n",
    "print('probtorch:', probtorch.__version__, \n",
    "      'torch:', torch.__version__, \n",
    "      'cuda:', torch.cuda.is_available())"
   ]
  },
  {
   "cell_type": "code",
   "execution_count": 2,
   "metadata": {},
   "outputs": [],
   "source": [
    "## Load dataset\n",
    "data_path = \"../../../Rings_P3\"\n",
    "OB = torch.from_numpy(np.load(data_path + '/ob.npy')).float()\n",
    "# STATE = torch.from_numpy(np.load(data_path + '/state.npy')).float()\n",
    "# MU = torch.from_numpy(np.load(data_path + '/mu.npy')).float()\n",
    "# ANGLE = torch.from_numpy(np.load(data_path + '/angle.npy')).float()\n",
    "\n",
    "NUM_DATASETS, N, D = OB.shape\n",
    "K = 4\n",
    "MCMC_SIZE = 10\n",
    "SAMPLE_SIZE = 10\n",
    "BATCH_SIZE = 20\n",
    "NUM_EPOCHS = 300\n",
    "NUM_HIDDEN_LOCAL = 64\n",
    "NUM_HIDDEN = 32\n",
    "NUM_NSS = 8\n",
    "LEARNING_RATE = 1e-4\n",
    "CUDA = torch.cuda.is_available()\n",
    "DEVICE = 0\n",
    "\n",
    "RECON_SIGMA = torch.ones(1) * 0.3\n",
    "RADI = torch.ones(1) * 2.0\n",
    "lg2pi = torch.log(torch.ones(1) * 2 * math.pi)\n",
    "PATH = 'ag-4rings-p3'"
   ]
  },
  {
   "cell_type": "code",
   "execution_count": 3,
   "metadata": {},
   "outputs": [],
   "source": [
    "from global_oneshot_mu import *\n",
    "from local_oneshot_state import *\n",
    "from local_enc_angle import *\n",
    "from global_enc_mu import *\n",
    "from decoder_semi import *\n",
    "# initialization\n",
    "oneshot_mu = Oneshot_mu(K, D, NUM_HIDDEN, NUM_NSS, CUDA, DEVICE)\n",
    "oneshot_state = Oneshot_state(K, D, NUM_HIDDEN_LOCAL, CUDA, DEVICE)\n",
    "enc_angle = Enc_angle(D, NUM_HIDDEN, CUDA, DEVICE)\n",
    "enc_mu = Enc_mu(K, D, NUM_HIDDEN, NUM_NSS, CUDA, DEVICE)\n",
    "dec_x = Dec_x(D, NUM_HIDDEN, RECON_SIGMA, CUDA, DEVICE)\n",
    "if CUDA:\n",
    "    with torch.cuda.device(DEVICE):\n",
    "        oneshot_mu.cuda()\n",
    "        oneshot_state.cuda()\n",
    "        enc_angle.cuda()\n",
    "        enc_mu.cuda()\n",
    "        dec_x.cuda()\n",
    "optimizer =  torch.optim.Adam(list(dec_x.parameters())+list(oneshot_mu.parameters())+list(oneshot_state.parameters())+list(enc_mu.parameters())+list(enc_angle.parameters()),lr=LEARNING_RATE, betas=(0.9, 0.99))\n",
    "\n",
    "models = (oneshot_mu, oneshot_state, enc_angle, enc_mu, dec_x)"
   ]
  },
  {
   "cell_type": "code",
   "execution_count": 4,
   "metadata": {},
   "outputs": [],
   "source": [
    "oneshot_mu.load_state_dict(torch.load('../results/oneshot-mu-' + PATH))\n",
    "oneshot_state.load_state_dict(torch.load('../results/oneshot-state-' + PATH))\n",
    "enc_angle.load_state_dict(torch.load('../results/enc-angle-' + PATH))\n",
    "enc_mu.load_state_dict(torch.load('../results/enc-mu-' + PATH))\n",
    "dec_x.load_state_dict(torch.load('../results/dec-x-' + PATH))"
   ]
  },
  {
   "cell_type": "code",
   "execution_count": null,
   "metadata": {},
   "outputs": [
    {
     "name": "stdout",
     "output_type": "stream",
     "text": [
      "epoch=0, eubo=-36054.4492, elbo=-42181.1172, ess=4.0018 (319s)\n",
      "epoch=1, eubo=-35744.2656, elbo=-41808.0469, ess=4.0359 (323s)\n",
      "epoch=2, eubo=-35607.2930, elbo=-41618.5820, ess=4.0523 (323s)\n",
      "epoch=3, eubo=-35560.7070, elbo=-41560.2578, ess=4.0749 (323s)\n",
      "epoch=4, eubo=-35472.8242, elbo=-41417.2617, ess=4.0827 (323s)\n",
      "epoch=5, eubo=-35389.5273, elbo=-41270.4805, ess=4.0995 (322s)\n",
      "epoch=6, eubo=-35355.0469, elbo=-41182.5391, ess=4.1073 (324s)\n",
      "epoch=7, eubo=-35316.0234, elbo=-41094.5664, ess=4.1237 (328s)\n",
      "epoch=8, eubo=-35321.5273, elbo=-41024.3477, ess=4.1333 (325s)\n",
      "epoch=9, eubo=-35302.6289, elbo=-40927.3320, ess=4.1420 (325s)\n",
      "epoch=10, eubo=-35234.9414, elbo=-40839.0664, ess=4.1559 (326s)\n",
      "epoch=11, eubo=-35257.7812, elbo=-40802.0547, ess=4.1672 (326s)\n",
      "epoch=12, eubo=-35198.0664, elbo=-40714.9531, ess=4.1820 (326s)\n",
      "epoch=13, eubo=-35226.9805, elbo=-40685.2500, ess=4.1877 (325s)\n",
      "epoch=14, eubo=-35182.4258, elbo=-40590.6172, ess=4.1946 (325s)\n",
      "epoch=15, eubo=-35148.3242, elbo=-40558.4805, ess=4.2062 (326s)\n",
      "epoch=16, eubo=-35129.6523, elbo=-40527.0664, ess=4.2192 (325s)\n",
      "epoch=17, eubo=-35104.1172, elbo=-40427.0352, ess=4.2180 (326s)\n"
     ]
    }
   ],
   "source": [
    "train(models, optimizer, OB, NUM_EPOCHS, MCMC_SIZE, SAMPLE_SIZE, BATCH_SIZE, K, CUDA, DEVICE, PATH)"
   ]
  },
  {
   "cell_type": "code",
   "execution_count": null,
   "metadata": {},
   "outputs": [],
   "source": [
    "BATCH_SIZE = 5\n",
    "MCMC_STEPS = 20 ## 12 is maximum mcmc steps\n",
    "VIS_INTERVAL = 4\n",
    "FS = 25\n",
    "TITLE_FS = 20\n",
    "OB_MS = 1.0\n",
    "MU_MARKER = 'X'\n",
    "MU_MS = 100\n",
    "OPACITY = 0.8\n",
    "BOUND = 10\n",
    "COLORS = ['#EE7733', 'm', '#0077BB', '#009988']\n",
    "##\n",
    "DATA_PTR = 5\n",
    "\n",
    "plot_obj = Plot_MC(BATCH_SIZE, MCMC_STEPS, VIS_INTERVAL, FS, TITLE_FS, OB_MS, MU_MARKER, MU_MS, OPACITY, BOUND, COLORS, CUDA, DEVICE)\n",
    "plot_obj.plot_results(models, OB, K, DATA_PTR)\n",
    "plt.savefig('samples.png')"
   ]
  },
  {
   "cell_type": "code",
   "execution_count": null,
   "metadata": {},
   "outputs": [],
   "source": [
    "torch.save(enc_angle.state_dict(), '../results/enc-angle-' + PATH)\n",
    "torch.save(oneshot_mu.state_dict(), '../results/oneshot-mu-' + PATH)\n",
    "torch.save(oneshot_state.state_dict(), '../results/oneshot-state-' + PATH)\n",
    "torch.save(enc_mu.state_dict(), '../results/enc-mu-' + PATH)\n",
    "torch.save(dec_x.state_dict(), '../results/dec-x-' + PATH)"
   ]
  },
  {
   "cell_type": "code",
   "execution_count": null,
   "metadata": {},
   "outputs": [],
   "source": []
  }
 ],
 "metadata": {
  "kernelspec": {
   "display_name": "Python 3",
   "language": "python",
   "name": "python3"
  },
  "language_info": {
   "codemirror_mode": {
    "name": "ipython",
    "version": 3
   },
   "file_extension": ".py",
   "mimetype": "text/x-python",
   "name": "python",
   "nbconvert_exporter": "python",
   "pygments_lexer": "ipython3",
   "version": "3.6.7"
  }
 },
 "nbformat": 4,
 "nbformat_minor": 2
}
