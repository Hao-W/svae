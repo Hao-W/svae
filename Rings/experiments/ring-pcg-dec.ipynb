{
 "cells": [
  {
   "cell_type": "code",
   "execution_count": 2,
   "metadata": {},
   "outputs": [
    {
     "name": "stdout",
     "output_type": "stream",
     "text": [
      "probtorch: 0.0+5a2c637 torch: 1.0.0 cuda: True\n"
     ]
    }
   ],
   "source": [
    "%matplotlib inline\n",
    "%run ../../import_envs.py\n",
    "print('probtorch:', probtorch.__version__, \n",
    "      'torch:', torch.__version__, \n",
    "      'cuda:', torch.cuda.is_available())"
   ]
  },
  {
   "cell_type": "code",
   "execution_count": 3,
   "metadata": {},
   "outputs": [],
   "source": [
    "## Load dataset\n",
    "data_path = \"../../../Rings_2D\"\n",
    "OB = torch.from_numpy(np.load(data_path + '/ob.npy')).float()\n",
    "STATE = torch.from_numpy(np.load(data_path + '/state.npy')).float()\n",
    "MU = torch.from_numpy(np.load(data_path + '/mu.npy')).float()\n",
    "ANGLE = torch.from_numpy(np.load(data_path + '/angle.npy')).float()\n",
    "\n",
    "NUM_DATASETS, N, D = OB.shape\n",
    "K = 3\n",
    "MCMC_SIZE = 1\n",
    "SAMPLE_SIZE = 10\n",
    "BATCH_SIZE = 20\n",
    "NUM_EPOCHS = 300\n",
    "NUM_HIDDEN_LOCAL = 64\n",
    "NUM_HIDDEN = 32\n",
    "NUM_NSS = 8\n",
    "LEARNING_RATE = 1e-4\n",
    "CUDA = torch.cuda.is_available()\n",
    "DEVICE = 1\n",
    "\n",
    "RECON_SIGMA = torch.ones(1) * 0.3\n",
    "RADI = torch.ones(1) * 2.0\n",
    "lg2pi = torch.log(torch.ones(1) * 2 * math.pi)\n",
    "PATH = 'ag-dec-semi'"
   ]
  },
  {
   "cell_type": "code",
   "execution_count": 4,
   "metadata": {},
   "outputs": [],
   "source": [
    "from global_oneshot_mu import *\n",
    "from local_oneshot_state import *\n",
    "from local_enc_angle import *\n",
    "from global_enc_mu import *\n",
    "from decoder_semi import *\n",
    "# initialization\n",
    "oneshot_mu = Oneshot_mu(K, D, NUM_HIDDEN, NUM_NSS, CUDA, DEVICE)\n",
    "oneshot_state = Oneshot_state(K, D, NUM_HIDDEN_LOCAL, CUDA, DEVICE)\n",
    "enc_angle = Enc_angle(D, NUM_HIDDEN, CUDA, DEVICE)\n",
    "enc_mu = Enc_mu(K, D, NUM_HIDDEN, NUM_NSS, CUDA, DEVICE)\n",
    "dec_x = Dec_x(D, NUM_HIDDEN, RECON_SIGMA, CUDA, DEVICE)\n",
    "if CUDA:\n",
    "    with torch.cuda.device(DEVICE):\n",
    "        oneshot_mu.cuda()\n",
    "        oneshot_state.cuda()\n",
    "        enc_angle.cuda()\n",
    "        enc_mu.cuda()\n",
    "        dec_x.cuda()\n",
    "optimizer =  torch.optim.Adam(list(dec_x.parameters())+list(oneshot_mu.parameters())+list(oneshot_state.parameters())+list(enc_mu.parameters())+list(enc_angle.parameters()),lr=LEARNING_RATE, betas=(0.9, 0.99))\n",
    "\n",
    "models = (oneshot_mu, oneshot_state, enc_angle, enc_mu, dec_x)"
   ]
  },
  {
   "cell_type": "code",
   "execution_count": null,
   "metadata": {},
   "outputs": [],
   "source": [
    "# oneshot_mu.load_state_dict(torch.load('../results/oneshot-mu-' + PATH))\n",
    "# oneshot_state.load_state_dict(torch.load('../results/oneshot-state-' + PATH))\n",
    "# enc_angle.load_state_dict(torch.load('../results/enc-angle-' + PATH))\n",
    "# enc_mu.load_state_dict(torch.load('../results/enc-mu-' + PATH))\n",
    "# dec_x.load_state_dict(torch.load('../results/dec-x-' + PATH))"
   ]
  },
  {
   "cell_type": "code",
   "execution_count": null,
   "metadata": {},
   "outputs": [],
   "source": [
    "train(models, optimizer, OB, NUM_EPOCHS, MCMC_SIZE, SAMPLE_SIZE, BATCH_SIZE, K, CUDA, DEVICE, PATH)"
   ]
  },
  {
   "cell_type": "code",
   "execution_count": null,
   "metadata": {},
   "outputs": [],
   "source": [
    "BATCH_SIZE = 5\n",
    "MCMC_STEPS = 10 ## 12 is maximum mcmc steps\n",
    "VIS_INTERVAL = 2\n",
    "FS = 25\n",
    "TITLE_FS = 20\n",
    "OB_MS = 5.0\n",
    "MU_MARKER = 'X'\n",
    "MU_MS = 100\n",
    "OPACITY = 0.8\n",
    "BOUND = 10\n",
    "COLORS = ['#EE7733', 'm', '#0077BB', '#009988']\n",
    "##\n",
    "DATA_PTR = 5\n",
    "\n",
    "plot_obj = Plot_MC(BATCH_SIZE, MCMC_STEPS, VIS_INTERVAL, FS, TITLE_FS, OB_MS, MU_MARKER, MU_MS, OPACITY, BOUND, COLORS, CUDA, DEVICE)\n",
    "plot_obj.plot_results(models, OB, K, DATA_PTR)"
   ]
  },
  {
   "cell_type": "code",
   "execution_count": null,
   "metadata": {},
   "outputs": [],
   "source": [
    "# torch.save(enc_angle.state_dict(), '../results/enc-angle-' + PATH)\n",
    "# torch.save(oneshot_mu.state_dict(), '../results/oneshot-mu-' + PATH)\n",
    "# torch.save(oneshot_state.state_dict(), '../results/oneshot-state-' + PATH)\n",
    "# torch.save(enc_mu.state_dict(), '../results/enc-mu-' + PATH)\n",
    "# torch.save(dec_x.state_dict(), '../results/dec-x-' + PATH)"
   ]
  },
  {
   "cell_type": "code",
   "execution_count": null,
   "metadata": {},
   "outputs": [],
   "source": []
  }
 ],
 "metadata": {
  "kernelspec": {
   "display_name": "Python 3",
   "language": "python",
   "name": "python3"
  },
  "language_info": {
   "codemirror_mode": {
    "name": "ipython",
    "version": 3
   },
   "file_extension": ".py",
   "mimetype": "text/x-python",
   "name": "python",
   "nbconvert_exporter": "python",
   "pygments_lexer": "ipython3",
   "version": "3.6.7"
  }
 },
 "nbformat": 4,
 "nbformat_minor": 2
}
