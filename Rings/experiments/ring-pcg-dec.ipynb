{
 "cells": [
  {
   "cell_type": "code",
   "execution_count": 1,
   "metadata": {},
   "outputs": [
    {
     "name": "stdout",
     "output_type": "stream",
     "text": [
      "probtorch: 0.0+5a2c637 torch: 1.0.0 cuda: True\n"
     ]
    }
   ],
   "source": [
    "%matplotlib inline\n",
    "%run ../../import_envs.py\n",
    "print('probtorch:', probtorch.__version__, \n",
    "      'torch:', torch.__version__, \n",
    "      'cuda:', torch.cuda.is_available())"
   ]
  },
  {
   "cell_type": "code",
   "execution_count": 2,
   "metadata": {},
   "outputs": [],
   "source": [
    "## Load dataset\n",
    "data_path = \"../../../Rings_2D\"\n",
    "OB = torch.from_numpy(np.load(data_path + '/ob.npy')).float()\n",
    "STATE = torch.from_numpy(np.load(data_path + '/state.npy')).float()\n",
    "MU = torch.from_numpy(np.load(data_path + '/mu.npy')).float()\n",
    "ANGLE = torch.from_numpy(np.load(data_path + '/angle.npy')).float()\n",
    "\n",
    "NUM_DATASETS, N, D = OB.shape\n",
    "K = 4\n",
    "MCMC_SIZE = 10\n",
    "SAMPLE_SIZE = 10\n",
    "BATCH_SIZE = 20\n",
    "NUM_EPOCHS = 500\n",
    "NUM_HIDDEN_LOCAL = 64\n",
    "NUM_HIDDEN = 32\n",
    "NUM_NSS = 8\n",
    "LEARNING_RATE = 1e-4\n",
    "CUDA = torch.cuda.is_available()\n",
    "DEVICE = 1\n",
    "\n",
    "RECON_SIGMA = torch.ones(1) * 0.1\n",
    "RADI = torch.ones(1) * 2.0\n",
    "lg2pi = torch.log(torch.ones(1) * 2 * math.pi)\n",
    "PATH = 'ag-4rings-2RUN'"
   ]
  },
  {
   "cell_type": "code",
   "execution_count": 3,
   "metadata": {},
   "outputs": [],
   "source": [
    "from global_oneshot_mu import *\n",
    "from local_oneshot_state import *\n",
    "from local_enc_angle import *\n",
    "from global_enc_mu import *\n",
    "from decoder_semi import *\n",
    "# initialization\n",
    "oneshot_mu = Oneshot_mu(K, D, NUM_HIDDEN, NUM_NSS, CUDA, DEVICE)\n",
    "oneshot_state = Oneshot_state(K, D, NUM_HIDDEN_LOCAL, CUDA, DEVICE)\n",
    "enc_angle = Enc_angle(D, NUM_HIDDEN, CUDA, DEVICE)\n",
    "enc_mu = Enc_mu(K, D, NUM_HIDDEN, NUM_NSS, CUDA, DEVICE)\n",
    "dec_x = Dec_x(D, NUM_HIDDEN, RECON_SIGMA, CUDA, DEVICE)\n",
    "if CUDA:\n",
    "    with torch.cuda.device(DEVICE):\n",
    "        oneshot_mu.cuda()\n",
    "        oneshot_state.cuda()\n",
    "        enc_angle.cuda()\n",
    "        enc_mu.cuda()\n",
    "        dec_x.cuda()\n",
    "optimizer =  torch.optim.Adam(list(dec_x.parameters())+list(oneshot_mu.parameters())+list(oneshot_state.parameters())+list(enc_mu.parameters())+list(enc_angle.parameters()),lr=LEARNING_RATE, betas=(0.9, 0.99))\n",
    "\n",
    "models = (oneshot_mu, oneshot_state, enc_angle, enc_mu, dec_x)"
   ]
  },
  {
   "cell_type": "code",
   "execution_count": 5,
   "metadata": {},
   "outputs": [],
   "source": [
    "# oneshot_mu.load_state_dict(torch.load('../results/oneshot-mu-' + PATH))\n",
    "# oneshot_state.load_state_dict(torch.load('../results/oneshot-state-' + PATH))\n",
    "# enc_angle.load_state_dict(torch.load('../results/enc-angle-' + PATH))\n",
    "# enc_mu.load_state_dict(torch.load('../results/enc-mu-' + PATH))\n",
    "# dec_x.load_state_dict(torch.load('../results/dec-x-' + PATH))"
   ]
  },
  {
   "cell_type": "code",
   "execution_count": null,
   "metadata": {},
   "outputs": [
    {
     "name": "stdout",
     "output_type": "stream",
     "text": [
      "epoch=0, eubo=-110200.1094, elbo=-141930.9688, ess=2.9490 (322s)\n",
      "epoch=1, eubo=-109768.5938, elbo=-145552.9375, ess=2.8145 (321s)\n",
      "epoch=2, eubo=-109833.9844, elbo=-147008.3750, ess=2.7603 (322s)\n",
      "epoch=3, eubo=-108692.6562, elbo=-145906.6875, ess=2.7502 (319s)\n",
      "epoch=4, eubo=-108597.2031, elbo=-146651.1406, ess=2.7222 (318s)\n",
      "epoch=5, eubo=-108678.1641, elbo=-146698.6562, ess=2.7167 (317s)\n",
      "epoch=6, eubo=-108825.2422, elbo=-147038.1562, ess=2.6997 (317s)\n",
      "epoch=7, eubo=-108326.9766, elbo=-146572.8594, ess=2.7065 (318s)\n",
      "epoch=8, eubo=-108242.0625, elbo=-146280.2969, ess=2.7046 (318s)\n",
      "epoch=9, eubo=-107942.9766, elbo=-145362.4531, ess=2.7012 (319s)\n",
      "epoch=10, eubo=-107979.6953, elbo=-145552.1094, ess=2.7114 (320s)\n",
      "epoch=11, eubo=-108269.8359, elbo=-145573.3906, ess=2.7211 (319s)\n"
     ]
    }
   ],
   "source": [
    "train(models, optimizer, OB, NUM_EPOCHS, MCMC_SIZE, SAMPLE_SIZE, BATCH_SIZE, K, CUDA, DEVICE, PATH)"
   ]
  },
  {
   "cell_type": "code",
   "execution_count": null,
   "metadata": {},
   "outputs": [],
   "source": [
    "BATCH_SIZE = 5\n",
    "MCMC_STEPS = 20 ## 12 is maximum mcmc steps\n",
    "VIS_INTERVAL = 4\n",
    "FS = 25\n",
    "TITLE_FS = 20\n",
    "OB_MS = 1.0\n",
    "MU_MARKER = 'X'\n",
    "MU_MS = 100\n",
    "OPACITY = 0.8\n",
    "BOUND = 10\n",
    "COLORS = ['#EE7733', 'm', '#0077BB', '#009988']\n",
    "##\n",
    "DATA_PTR = 54\n",
    "\n",
    "plot_obj = Plot_MC(BATCH_SIZE, MCMC_STEPS, VIS_INTERVAL, FS, TITLE_FS, OB_MS, MU_MARKER, MU_MS, OPACITY, BOUND, COLORS, CUDA, DEVICE)\n",
    "plot_obj.plot_results(models, OB, K, DATA_PTR)"
   ]
  },
  {
   "cell_type": "code",
   "execution_count": null,
   "metadata": {},
   "outputs": [],
   "source": [
    "torch.save(enc_angle.state_dict(), '../results/enc-angle-' + PATH)\n",
    "torch.save(oneshot_mu.state_dict(), '../results/oneshot-mu-' + PATH)\n",
    "torch.save(oneshot_state.state_dict(), '../results/oneshot-state-' + PATH)\n",
    "torch.save(enc_mu.state_dict(), '../results/enc-mu-' + PATH)\n",
    "torch.save(dec_x.state_dict(), '../results/dec-x-' + PATH)"
   ]
  },
  {
   "cell_type": "code",
   "execution_count": null,
   "metadata": {},
   "outputs": [],
   "source": []
  }
 ],
 "metadata": {
  "kernelspec": {
   "display_name": "Python 3",
   "language": "python",
   "name": "python3"
  },
  "language_info": {
   "codemirror_mode": {
    "name": "ipython",
    "version": 3
   },
   "file_extension": ".py",
   "mimetype": "text/x-python",
   "name": "python",
   "nbconvert_exporter": "python",
   "pygments_lexer": "ipython3",
   "version": "3.6.7"
  }
 },
 "nbformat": 4,
 "nbformat_minor": 2
}
