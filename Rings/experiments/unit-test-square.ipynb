{
 "cells": [
  {
   "cell_type": "code",
   "execution_count": null,
   "metadata": {},
   "outputs": [],
   "source": [
    "%matplotlib inline\n",
    "%run ../../import_envs.py\n",
    "print('probtorch:', probtorch.__version__, \n",
    "      'torch:', torch.__version__, \n",
    "      'cuda:', torch.cuda.is_available())"
   ]
  },
  {
   "cell_type": "code",
   "execution_count": null,
   "metadata": {},
   "outputs": [],
   "source": [
    "## Load dataset\n",
    "K = 4\n",
    "N = 64\n",
    "data_path = data_dir + \"ncmm/squares_%d\" % N\n",
    "\n",
    "OB = torch.from_numpy(np.load(data_path + '/ob_%d.npy' % (N * K))).float()\n",
    "MU = torch.from_numpy(np.load(data_path + '/mu_%d.npy' % (N * K))).float()\n",
    "ANGLE = torch.from_numpy(np.load(data_path + '/angle_%d.npy' % (N * K))).float()\n",
    "STATE = torch.from_numpy(np.load(data_path + '/state_%d.npy' % (N * K))).float()\n",
    "## Hyper Parameters\n",
    "NUM_DATASETS = OB.shape[0]\n",
    "\n",
    "## Train Parameters\n",
    "NUM_EPOCHS = 500\n",
    "\n",
    "D = 2\n",
    "SAMPLE_SIZE = 10\n",
    "BATCH_SIZE = 20\n",
    "NUM_BATCHES = int((NUM_DATASETS / BATCH_SIZE))\n",
    "\n",
    "CUDA = torch.cuda.is_available()\n",
    "DEVICE = 1\n",
    "RECON_SIGMA = torch.ones(1) * 0.2\n",
    "# lg2pi = torch.log(torch.ones(1) * 2 * math.pi)\n",
    "PATH = 'dec-%dpts-%dsamples' % (N*K, SAMPLE_SIZE)\n",
    "## MOdel Parameters\n",
    "NUM_HIDDEN_LOCAL = 64\n",
    "NUM_HIDDEN = 32\n",
    "NUM_NSS = 8\n",
    "LEARNING_RATE = 1e-3\n",
    "Train_Params = (NUM_EPOCHS, K, D, SAMPLE_SIZE, BATCH_SIZE, CUDA, DEVICE, PATH)"
   ]
  },
  {
   "cell_type": "code",
   "execution_count": null,
   "metadata": {},
   "outputs": [],
   "source": [
    "from decoder_semi_v2 import *\n",
    "dec_x = Dec_x(D, NUM_HIDDEN, RECON_SIGMA, CUDA, DEVICE)\n",
    "if CUDA:\n",
    "    with torch.cuda.device(DEVICE):\n",
    "        dec_x.cuda()\n",
    "optimizer =  torch.optim.Adam(list(dec_x.parameters()),lr=LEARNING_RATE, betas=(0.9, 0.99))"
   ]
  },
  {
   "cell_type": "code",
   "execution_count": null,
   "metadata": {},
   "outputs": [],
   "source": [
    "for epoch in range(NUM_EPOCHS):\n",
    "    time_start = time.time()\n",
    "    LOSS = 0.0\n",
    "    indices = torch.randperm(NUM_DATASETS)\n",
    "    for step in range(NUM_BATCHES):\n",
    "        optimizer.zero_grad()\n",
    "        batch_indices = indices[step*BATCH_SIZE : (step+1)*BATCH_SIZE]\n",
    "        ob = OB[batch_indices]\n",
    "        state = STATE[batch_indices]\n",
    "        mu = MU[batch_indices]\n",
    "        angle = ANGLE[batch_indices]\n",
    "        \n",
    "#         labels = state.argmax(-1).unsqueeze(-1).repeat(1, 1, D)\n",
    "#         mu_copy = torch.gather(mu, 1, labels)\n",
    "        ob_embedding = torch.cat((ob, state, angle), -1)\n",
    "\n",
    "        ob_embedding = shuffler(ob_embedding).repeat(SAMPLE_SIZE, 1, 1, 1)\n",
    "        mu = mu.repeat(SAMPLE_SIZE, 1, 1, 1)\n",
    "        if CUDA:\n",
    "            with torch.cuda.device(DEVICE):\n",
    "                ob_embedding =ob_embedding.cuda()\n",
    "                mu = mu.cuda()\n",
    "        ob = ob_embedding[:, :, :, :2]\n",
    "        state = ob_embedding[:, :, :, 2:-1]\n",
    "        angle = ob_embedding[:, :, :, -1].unsqueeze(-1)\n",
    "        p = dec_x(ob, state, angle, mu)\n",
    "        loss =  - p['likelihood'].log_prob.sum()\n",
    "        ## gradient step\n",
    "        loss.backward()\n",
    "        optimizer.step()  \n",
    "        LOSS += loss\n",
    "    time_end = time.time()\n",
    "    print('epoch=%d, loss=%.4f (%ds)' % (epoch, LOSS / NUM_BATCHES, time_end - time_start))"
   ]
  },
  {
   "cell_type": "code",
   "execution_count": null,
   "metadata": {},
   "outputs": [],
   "source": [
    "import matplotlib.gridspec as gridspec\n",
    "import matplotlib.pyplot as plt\n",
    "\n",
    "def plot_recon(recon, path, page_width, bound):\n",
    "    B, N, D = recon.shape\n",
    "    gs = gridspec.GridSpec(int(B / 5), 5)\n",
    "    gs.update(left=0.0 , bottom=0.0, right=1.0, top=1.0, wspace=0, hspace=0)\n",
    "    fig = plt.figure(figsize=(page_width,page_width*4/5))\n",
    "    for b in range(B):\n",
    "        ax = fig.add_subplot(gs[int(b / 5), int(b % 5)])\n",
    "        ax.scatter(recon[b, :, 0], recon[b, :, 1], s=5)\n",
    "        ax.set_xticks([])\n",
    "        ax.set_yticks([])\n",
    "        ax.set_ylim(-bound, bound)\n",
    "        ax.set_xlim(-bound, bound)\n",
    "    \n",
    "indices = torch.randperm(NUM_DATASETS)\n",
    "batch_indices = indices[0*BATCH_SIZE : (0+1)*BATCH_SIZE]\n",
    "ob = OB[batch_indices]\n",
    "state = STATE[batch_indices]\n",
    "mu = MU[batch_indices]\n",
    "angle = ANGLE[batch_indices]\n",
    "\n",
    "\n",
    "ob_embedding = torch.cat((ob, state, angle), -1)\n",
    "ob_embedding = shuffler(ob_embedding).repeat(SAMPLE_SIZE, 1, 1, 1)\n",
    "mu = mu.repeat(SAMPLE_SIZE, 1, 1, 1)\n",
    "if CUDA:\n",
    "    with torch.cuda.device(DEVICE):\n",
    "        ob_embedding =ob_embedding.cuda()\n",
    "        mu = mu.cuda()\n",
    "ob = ob_embedding[:, :, :, :2]\n",
    "state = ob_embedding[:, :, :, 2:-1]\n",
    "angle = ob_embedding[:, :, :, -1].unsqueeze(-1)\n",
    "p = dec_x(ob, state, angle, mu)\n",
    "\n",
    "recon_mu = p['likelihood'].dist.loc[0].cpu().data.numpy()\n",
    "plot_recon(recon_mu, PATH, 15, 10)"
   ]
  },
  {
   "cell_type": "code",
   "execution_count": null,
   "metadata": {},
   "outputs": [],
   "source": [
    "plot_recon(ob[0].cpu().data.numpy(), PATH, 15, 10)"
   ]
  },
  {
   "cell_type": "code",
   "execution_count": null,
   "metadata": {},
   "outputs": [],
   "source": []
  }
 ],
 "metadata": {
  "kernelspec": {
   "display_name": "Python 3",
   "language": "python",
   "name": "python3"
  },
  "language_info": {
   "codemirror_mode": {
    "name": "ipython",
    "version": 3
   },
   "file_extension": ".py",
   "mimetype": "text/x-python",
   "name": "python",
   "nbconvert_exporter": "python",
   "pygments_lexer": "ipython3",
   "version": "3.6.7"
  }
 },
 "nbformat": 4,
 "nbformat_minor": 2
}
