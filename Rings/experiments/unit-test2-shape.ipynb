{
 "cells": [
  {
   "cell_type": "code",
   "execution_count": null,
   "metadata": {},
   "outputs": [],
   "source": [
    "%matplotlib inline\n",
    "%run ../../import_envs.py\n",
    "print('probtorch:', probtorch.__version__, \n",
    "      'torch:', torch.__version__, \n",
    "      'cuda:', torch.cuda.is_available())"
   ]
  },
  {
   "cell_type": "code",
   "execution_count": null,
   "metadata": {},
   "outputs": [],
   "source": [
    "## Load dataset\n",
    "K = 3\n",
    "N_c, N_s, N_t = 70, 72, 72\n",
    "N = N_c+N_s+N_t\n",
    "data_path = data_dir + \"ncmm/shapes_c=%d_s=%d_t=%d\" % (N_c, N_s, N_t)\n",
    "\n",
    "OB = torch.from_numpy(np.load(data_path + '/ob.npy')).float()\n",
    "MU = torch.from_numpy(np.load(data_path + '/mu.npy')).float()\n",
    "ANGLE = torch.from_numpy(np.load(data_path + '/angle.npy')).float()\n",
    "# STATE = torch.from_numpy(np.load(data_path + '/state.npy')).float()\n",
    "## Hyper Parameters\n",
    "NUM_DATASETS = OB.shape[0]\n",
    "\n",
    "## Train Parameters\n",
    "NUM_EPOCHS = 500\n",
    "\n",
    "D = 2\n",
    "SAMPLE_SIZE = 10\n",
    "BATCH_SIZE = 20\n",
    "NUM_BATCHES = int((NUM_DATASETS / BATCH_SIZE))\n",
    "\n",
    "CUDA = torch.cuda.is_available()\n",
    "DEVICE = 1\n",
    "RECON_SIGMA = torch.ones(1) * 0.2\n",
    "# lg2pi = torch.log(torch.ones(1) * 2 * math.pi)\n",
    "PATH = 'dec-%dpts-%dsamples' % (N_c+N_s+N_t, SAMPLE_SIZE)\n",
    "## MOdel Parameters\n",
    "NUM_HIDDEN_LOCAL = 64\n",
    "NUM_HIDDEN = 32\n",
    "NUM_NSS = 8\n",
    "LEARNING_RATE = 1e-3\n",
    "Train_Params = (NUM_EPOCHS, K, D, SAMPLE_SIZE, BATCH_SIZE, CUDA, DEVICE, PATH)"
   ]
  },
  {
   "cell_type": "code",
   "execution_count": null,
   "metadata": {},
   "outputs": [],
   "source": [
    "from decoder_shapes import *\n",
    "from local_oneshot_state_shapes import *\n",
    "from local_enc_angle import *\n",
    "dec_x = Dec_x(D, NUM_HIDDEN, RECON_SIGMA, CUDA, DEVICE)\n",
    "f_angle = Enc_angle(D, NUM_HIDDEN, CUDA, DEVICE)\n",
    "f_state = Oneshot_state(K, D, NUM_HIDDEN_LOCAL, CUDA, DEVICE)\n",
    "\n",
    "if CUDA:\n",
    "    with torch.cuda.device(DEVICE):\n",
    "        dec_x.cuda()\n",
    "        f_angle.cuda()\n",
    "        f_state.cuda()\n",
    "        \n",
    "optimizer =  torch.optim.Adam(list(f_angle.parameters())+list(f_state.parameters())+list(dec_x.parameters()),lr=LEARNING_RATE, betas=(0.9, 0.99))"
   ]
  },
  {
   "cell_type": "code",
   "execution_count": null,
   "metadata": {},
   "outputs": [],
   "source": [
    "for epoch in range(NUM_EPOCHS):\n",
    "    time_start = time.time()\n",
    "    LOSS = 0.0\n",
    "    indices = torch.randperm(NUM_DATASETS)\n",
    "    for step in range(NUM_BATCHES):\n",
    "        optimizer.zero_grad()\n",
    "        batch_indices = indices[step*BATCH_SIZE : (step+1)*BATCH_SIZE]\n",
    "        ob = OB[batch_indices]\n",
    "#         state = STATE[batch_indices]\n",
    "        mu = MU[batch_indices]\n",
    "#         angle = ANGLE[batch_indices]\n",
    "#         ob_embedding = torch.cat((ob, angle), -1)\n",
    "#         ob_embedding = shuffler(ob_embedding).repeat(SAMPLE_SIZE, 1, 1, 1)\n",
    "        ob = shuffler(ob).repeat(SAMPLE_SIZE, 1, 1, 1)\n",
    "        mu = mu.repeat(SAMPLE_SIZE, 1, 1, 1)\n",
    "        if CUDA:\n",
    "            with torch.cuda.device(DEVICE):\n",
    "                ob =ob.cuda()\n",
    "                mu = mu.cuda()\n",
    "        q_state, p_state = f_state.forward(ob, mu, K)\n",
    "        log_p_state = p_state['states'].log_prob\n",
    "        log_q_state = q_state['states'].log_prob\n",
    "        state = q_state['states'].value ## S * B * N * K\n",
    "        q_angle, p_angle = f_angle(ob, state, mu)\n",
    "        log_q_angle = q_angle['angles'].log_prob.sum(-1)\n",
    "        log_p_angle = p_angle['angles'].log_prob.sum(-1)\n",
    "        angle = q_angle['angles'].value * 2 * math.pi\n",
    "        p = dec_x(ob, state, angle, mu)\n",
    "        ll = p['likelihood'].log_prob.sum(-1) ## S * B * N\n",
    "        log_w =  ll.detach() + log_p_state + log_p_angle - log_q_state - log_q_angle\n",
    "        w = F.softmax(log_w, 0).detach()\n",
    "        loss_phi = (w * log_w).sum(0).mean()\n",
    "        loss_theta = -ll.sum(-1).mean()\n",
    "        ## gradient step\n",
    "        loss_phi.backward(retain_graph=True)\n",
    "        loss_theta.backward()\n",
    "        optimizer.step()  \n",
    "        LOSS += loss_theta.detach()\n",
    "    if epoch % 1 == 0:\n",
    "        time_end = time.time()\n",
    "        print('epoch=%d, loss=%.4f (%ds)' % (epoch, LOSS / NUM_BATCHES, time_end - time_start))\n",
    "        time_start = time.time()"
   ]
  },
  {
   "cell_type": "code",
   "execution_count": null,
   "metadata": {},
   "outputs": [],
   "source": [
    "import matplotlib.gridspec as gridspec\n",
    "import matplotlib.pyplot as plt\n",
    "from plots import plot_final_samples\n",
    "    \n",
    "indices = torch.randperm(NUM_DATASETS)\n",
    "batch_indices = indices[0*BATCH_SIZE : (0+1)*BATCH_SIZE]\n",
    "ob = OB[batch_indices]\n",
    "mu = MU[batch_indices]\n",
    "\n",
    "ob = shuffler(ob).repeat(SAMPLE_SIZE, 1, 1, 1)\n",
    "mu = mu.repeat(SAMPLE_SIZE, 1, 1, 1)\n",
    "if CUDA:\n",
    "    with torch.cuda.device(DEVICE):\n",
    "        ob =ob.cuda()\n",
    "        mu = mu.cuda()\n",
    "q_state, p_state = f_state.forward(ob, mu, K)\n",
    "log_p_state = p_state['states'].log_prob\n",
    "log_q_state = q_state['states'].log_prob\n",
    "state = q_state['states'].value ## S * B * N * K\n",
    "p = dec_x(ob, state, angle, mu)\n",
    "\n",
    "E_state =  q_state['states'].dist.probs[0].cpu().data.numpy()\n",
    "recon_mu = p['likelihood'].dist.loc[0].cpu().data.numpy()\n",
    "plot_final_samples(recon_mu, mu[0].cpu().data.numpy(), E_state, K, PATH)"
   ]
  },
  {
   "cell_type": "code",
   "execution_count": null,
   "metadata": {},
   "outputs": [],
   "source": [
    "plot_final_samples(ob[0].cpu().data.numpy(), mu[0].cpu().data.numpy(), E_state, K, PATH)"
   ]
  },
  {
   "cell_type": "code",
   "execution_count": null,
   "metadata": {},
   "outputs": [],
   "source": []
  }
 ],
 "metadata": {
  "kernelspec": {
   "display_name": "Python 3",
   "language": "python",
   "name": "python3"
  },
  "language_info": {
   "codemirror_mode": {
    "name": "ipython",
    "version": 3
   },
   "file_extension": ".py",
   "mimetype": "text/x-python",
   "name": "python",
   "nbconvert_exporter": "python",
   "pygments_lexer": "ipython3",
   "version": "3.6.7"
  }
 },
 "nbformat": 4,
 "nbformat_minor": 2
}
