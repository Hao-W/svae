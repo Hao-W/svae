{
 "cells": [
  {
   "cell_type": "code",
   "execution_count": null,
   "metadata": {},
   "outputs": [],
   "source": [
    "%matplotlib inline\n",
    "%run ../../import_envs.py\n",
    "print('probtorch:', probtorch.__version__, \n",
    "      'torch:', torch.__version__, \n",
    "      'cuda:', torch.cuda.is_available())"
   ]
  },
  {
   "cell_type": "code",
   "execution_count": null,
   "metadata": {},
   "outputs": [],
   "source": [
    "K = 4\n",
    "\n",
    "## Load dataset\n",
    "data_path = \"../../../rings_10size\"\n",
    "Data = []\n",
    "for i in range(10):\n",
    "    data = torch.from_numpy(np.load(data_path + '/ob_%d.npy' % (((i+1)*10 + 20) * K))).float()\n",
    "    Data.append(data)\n",
    "D = 2\n",
    "NUM_HIDDEN_LOCAL = 64\n",
    "NUM_HIDDEN = 32\n",
    "NUM_NSS = 8\n",
    "CUDA = torch.cuda.is_available()\n",
    "DEVICE = 0\n",
    "\n",
    "RECON_SIGMA = torch.ones(1) * 0.3\n",
    "RADI = torch.ones(1) * 2.0\n",
    "lg2pi = torch.log(torch.ones(1) * 2 * math.pi)\n",
    "PATH = 'ag-rings-%d' % 10"
   ]
  },
  {
   "cell_type": "code",
   "execution_count": null,
   "metadata": {},
   "outputs": [],
   "source": [
    "from model_operations import Init_models\n",
    "models, optimzier = Init_models(K, D, NUM_HIDDEN, NUM_HIDDEN_LOCAL, NUM_NSS, RECON_SIGMA, CUDA, DEVICE, lr=1e-4, RESTORE=False, PATH=PATH)"
   ]
  },
  {
   "cell_type": "code",
   "execution_count": null,
   "metadata": {},
   "outputs": [],
   "source": [
    "from testing import Eval\n",
    "from viz_mc import Viz_MC\n",
    "from apg import APG_test\n",
    "\n",
    "BATCH_SIZE = 5\n",
    "MCMC_STEPS = 20 ## 12 is maximum mcmc steps\n",
    "Viz_INTERVAL = 4\n",
    "FS = 25\n",
    "TITLE_FS = 20\n",
    "OB_MS = 2.0\n",
    "MU_MARKER = 'X'\n",
    "MU_MS = 100\n",
    "OPACITY = 0.8\n",
    "BOUND = 10\n",
    "COLORS = ['#EE7733', 'm', '#0077BB', '#009988']\n",
    "##\n",
    "DATA_PTR = 5\n",
    "\n",
    "evaluator = Eval(models, K, D, 1, BATCH_SIZE, MCMC_STEPS, CUDA, DEVICE)\n",
    "visualizer = Viz_MC(K, MCMC_STEPS, Viz_INTERVAL, FS, TITLE_FS, OB_MS, MU_MARKER, MU_MS, OPACITY, BOUND, COLORS)\n",
    "\n",
    "# plot_obj.plot_chains(Data, DATA_PTR)"
   ]
  },
  {
   "cell_type": "code",
   "execution_count": null,
   "metadata": {},
   "outputs": [],
   "source": [
    "Metrics = evaluator.Test_uniform(APG_test, Data, DATA_PTR)\n",
    "visualizer.Plot_chains(Metrics['samples'], Metrics['data'])"
   ]
  },
  {
   "cell_type": "code",
   "execution_count": null,
   "metadata": {},
   "outputs": [],
   "source": []
  }
 ],
 "metadata": {
  "kernelspec": {
   "display_name": "Python 3",
   "language": "python",
   "name": "python3"
  },
  "language_info": {
   "codemirror_mode": {
    "name": "ipython",
    "version": 3
   },
   "file_extension": ".py",
   "mimetype": "text/x-python",
   "name": "python",
   "nbconvert_exporter": "python",
   "pygments_lexer": "ipython3",
   "version": "3.6.7"
  }
 },
 "nbformat": 4,
 "nbformat_minor": 2
}
