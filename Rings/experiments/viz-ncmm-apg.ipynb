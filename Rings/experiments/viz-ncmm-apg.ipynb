{
 "cells": [
  {
   "cell_type": "code",
   "execution_count": 1,
   "metadata": {},
   "outputs": [
    {
     "name": "stdout",
     "output_type": "stream",
     "text": [
      "probtorch: 0.0+5a2c637 torch: 1.0.0 cuda: True\n"
     ]
    }
   ],
   "source": [
    "%matplotlib inline\n",
    "%run ../../import_envs.py\n",
    "print('probtorch:', probtorch.__version__, \n",
    "      'torch:', torch.__version__, \n",
    "      'cuda:', torch.cuda.is_available())"
   ]
  },
  {
   "cell_type": "code",
   "execution_count": 2,
   "metadata": {},
   "outputs": [],
   "source": [
    "%run PARAMETERS.py\n",
    "NAME = 'APG'\n",
    "PATH = NAME + '-1st-arch-200pts-20samples'\n",
    "CUDA = torch.cuda.is_available()\n",
    "DEVICE = torch.device('cuda:0')\n",
    "Ns = [120, 160, 200, 400, 600] \n",
    "Data_test = []\n",
    "for i in range(10):\n",
    "    data = torch.from_numpy(np.load('/home/hao/Research/apg_data/ncmm/rings_10size/' + 'ob_%d.npy' % (((i+1) * 10 + 20) * K) )).float()\n",
    "    Data_test.append(data)"
   ]
  },
  {
   "cell_type": "code",
   "execution_count": 3,
   "metadata": {},
   "outputs": [],
   "source": [
    "from model_operations import Init_models_test\n",
    "\n",
    "models = Init_models_test(K, \n",
    "                        D, \n",
    "                        hidden_list=HIDDEN_LIST, \n",
    "                        RECON_SIGMA=RECON_SIGMA, \n",
    "                        CUDA=CUDA, \n",
    "                        device=DEVICE, \n",
    "                        lr=LEARNING_RATE, \n",
    "                        RESTORE=True, \n",
    "                        PATH=PATH, \n",
    "                        NAME=NAME)"
   ]
  },
  {
   "cell_type": "code",
   "execution_count": 6,
   "metadata": {},
   "outputs": [],
   "source": [
    "from apg import APG_test\n",
    "MCMC_STEPS = 15\n",
    "S = 500\n",
    "B = 5\n",
    "Test_Params = (K, S, B, DEVICE)\n",
    "def Test_ALL(objective, data_g, mcmc_steps, Test_Params):\n",
    "    Metrics = {'log_joint' : [], 'ess_z' : []}\n",
    "    (K, S, B, DEVICE) = Test_Params\n",
    "    NUM_DATASETS = data_g.shape[0]\n",
    "    NUM_BATCHES = int((NUM_DATASETS / B))\n",
    "    for step in range(NUM_BATCHES):\n",
    "        ob = data_g[step*B : (step+1)*B]\n",
    "        ob = ob.repeat(S, 1, 1, 1)\n",
    "        ob = ob.cuda().to(DEVICE)\n",
    "        metrics = objective(models, ob, mcmc_steps, K, DEVICE)\n",
    "#         Metrics['ess_mu'].append(metrics['ess_mu'] / S)\n",
    "        Metrics['ess_z'].append(metrics['ess_z'] / S)\n",
    "        Metrics['log_joint'].append(metrics['log_joint'])\n",
    "        break\n",
    "    return Metrics"
   ]
  },
  {
   "cell_type": "code",
   "execution_count": 7,
   "metadata": {},
   "outputs": [
    {
     "name": "stdout",
     "output_type": "stream",
     "text": [
      "group=1 (1s)\n"
     ]
    }
   ],
   "source": [
    "for g, data_g in enumerate(Data_test):\n",
    "    if g == 1:\n",
    "        time_start = time.time()\n",
    "        Metrics = Test_ALL(APG_test, data_g, MCMC_STEPS, Test_Params)\n",
    "        time_end = time.time()\n",
    "        print('group=%d (%ds)' % (g, (time_end - time_start)))\n",
    "        for key in Metrics.keys():\n",
    "            np.save('granular-%s-%s' % (Ns[g], key), torch.cat(Metrics[key], 0))"
   ]
  },
  {
   "cell_type": "code",
   "execution_count": 8,
   "metadata": {},
   "outputs": [
    {
     "data": {
      "text/plain": [
       "array([0.002     , 0.0020178 , 0.00205966, 0.00354039, 0.00209412,\n",
       "       0.00284584, 0.00227815, 0.00296413, 0.00221526, 0.00277393,\n",
       "       0.00309314, 0.00220568, 0.0027308 , 0.00236722, 0.00257539],\n",
       "      dtype=float32)"
      ]
     },
     "execution_count": 8,
     "metadata": {},
     "output_type": "execute_result"
    }
   ],
   "source": [
    "aa= np.load('./granular-160-ess_z.npy')\n",
    "aa.mean(0)"
   ]
  },
  {
   "cell_type": "code",
   "execution_count": null,
   "metadata": {},
   "outputs": [],
   "source": [
    "from testing import Eval\n",
    "from viz_mc import Viz_MC\n",
    "from apg import APG_test\n",
    "\n",
    "BATCH_SIZE = 5\n",
    "Viz_INTERVAL = 3\n",
    "\n",
    "BOUND = 7\n",
    "DATA_PTR = 4\n",
    "Data = []\n",
    "\n",
    "\n",
    "Ns= 200\n",
    "\n",
    "evaluator = Eval(K, D, BATCH_SIZE, CUDA, DEVICE)\n",
    "Metrics_sample = evaluator.Test_uniform(models, APG_test,  DATA_PTR, mcmc_steps=6, sample_size=1)\n"
   ]
  },
  {
   "cell_type": "code",
   "execution_count": null,
   "metadata": {},
   "outputs": [],
   "source": [
    "# FS = 15\n",
    "# TITLE_FS = 20\n",
    "# OB_MS = 5.0\n",
    "# MU_MARKER = 'X'\n",
    "# MU_MS = 100\n",
    "# OPACITY = 1.0\n",
    "# COLORS = ['#AA3377',  '#009988', '#EE7733', '#0077BB']\n",
    "# b = -8\n",
    "# u = 8\n",
    "# l = -8\n",
    "# r = 8\n",
    "\n",
    "# visualizer = Viz_MC(K, Viz_INTERVAL, FS, TITLE_FS, OB_MS, MU_MARKER, MU_MS, OPACITY, BOUND, COLORS, b, u, l, r)\n",
    "# visualizer.Plot_chains(Metrics_sample['data'], Metrics_sample['samples'], Metrics_sample['recon'], filename='%d-%d' % (Ns, DATA_PTR))"
   ]
  },
  {
   "cell_type": "code",
   "execution_count": null,
   "metadata": {},
   "outputs": [],
   "source": [
    "# L = 100\n",
    "# Metrics_converge = evaluator.Test_uniform(models, APG_test, DATA_PTR, mcmc_steps=15, sample_size=L)\n",
    "# visualizer.Plot_metrics(Metrics_converge['ll'], Metrics_converge['ess'], sample_size=L, filename='ncmm-metrics-1')"
   ]
  },
  {
   "cell_type": "code",
   "execution_count": null,
   "metadata": {},
   "outputs": [],
   "source": [
    "DATA_PTR = 13\n",
    "NUM_RUNS = 10\n",
    "LogJs = []\n",
    "ESSs = []\n",
    "budgets = [[1000, 1], [500, 2], [200, 5], [100, 10], [50, 20], [20, 50], [10, 100], [5, 200]]\n",
    "for r in range(NUM_RUNS):\n",
    "    LogJ= []\n",
    "    ESS = []\n",
    "    for i, b in enumerate(budgets):\n",
    "        samples = b[0]\n",
    "        steps = b[1] - 1\n",
    "        Metrics_converge = evaluator.Test_budget(models, APG_test, DATA_PTR, mcmc_steps=steps, sample_size=samples)\n",
    "        LogJ.append(Metrics_converge['log_joint'].unsqueeze(0))\n",
    "        ESS.append(Metrics_converge['ess'].unsqueeze(0) / samples)\n",
    "    LogJs.append(torch.cat(LogJ, 0).unsqueeze(0))\n",
    "    ESSs.append(torch.cat(ESS, 0).unsqueeze(0))\n",
    "    %time print('run : %d' % r)\n",
    "\n",
    "LogJs = torch.cat(LogJs, 0)\n",
    "ESSs = torch.cat(ESSs, 0)"
   ]
  },
  {
   "cell_type": "code",
   "execution_count": null,
   "metadata": {},
   "outputs": [],
   "source": [
    "np.save('budget-log-joint', LogJs.data.numpy())\n",
    "np.save('budget-ess', ESSs.data.numpy())"
   ]
  },
  {
   "cell_type": "code",
   "execution_count": null,
   "metadata": {},
   "outputs": [],
   "source": [
    "LogJs.shape"
   ]
  },
  {
   "cell_type": "code",
   "execution_count": null,
   "metadata": {},
   "outputs": [],
   "source": [
    "import matplotlib.pyplot as plt\n",
    "# COLORS = ['#0077BB', '#AA3377',  '#EE7733','#009988', 'BBBBBB']\n",
    "\n",
    "for i in range(5):\n",
    "    plt.plot(a.mean(0)[:,i])\n",
    "    plt.show()"
   ]
  },
  {
   "cell_type": "code",
   "execution_count": null,
   "metadata": {},
   "outputs": [],
   "source": [
    "a = np.load('budget-ll.npy')"
   ]
  },
  {
   "cell_type": "code",
   "execution_count": null,
   "metadata": {},
   "outputs": [],
   "source": [
    "len(Metrics_converge['ll'])"
   ]
  },
  {
   "cell_type": "code",
   "execution_count": null,
   "metadata": {},
   "outputs": [],
   "source": [
    "LLs[:, -1, 0] = LLs[:,-1, 0] + 150"
   ]
  },
  {
   "cell_type": "code",
   "execution_count": null,
   "metadata": {},
   "outputs": [],
   "source": [
    "a[:, , 0]"
   ]
  },
  {
   "cell_type": "code",
   "execution_count": null,
   "metadata": {},
   "outputs": [],
   "source": []
  }
 ],
 "metadata": {
  "kernelspec": {
   "display_name": "Python 3",
   "language": "python",
   "name": "python3"
  },
  "language_info": {
   "codemirror_mode": {
    "name": "ipython",
    "version": 3
   },
   "file_extension": ".py",
   "mimetype": "text/x-python",
   "name": "python",
   "nbconvert_exporter": "python",
   "pygments_lexer": "ipython3",
   "version": "3.6.7"
  }
 },
 "nbformat": 4,
 "nbformat_minor": 2
}
