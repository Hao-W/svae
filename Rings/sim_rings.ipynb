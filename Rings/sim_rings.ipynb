{
 "cells": [
  {
   "cell_type": "code",
   "execution_count": 6,
   "metadata": {},
   "outputs": [],
   "source": [
    "%matplotlib inline\n",
    "data_dir = '/home/hao/Research/apg_data/'\n",
    "from sim_rings import *\n",
    "import os"
   ]
  },
  {
   "cell_type": "code",
   "execution_count": 17,
   "metadata": {},
   "outputs": [],
   "source": [
    "period = 1\n",
    "bound = 10\n",
    "K = 4\n",
    "D = 2\n",
    "radi = 2.0\n",
    "noise_std = 0.1\n",
    "center_std = 2.5\n",
    "fixed_radi = True\n",
    "truncate_percent = 0.8\n",
    "truncate = False\n",
    "\n",
    "num_seqs = 20000\n",
    "# for n in range(10):\n",
    "N = 20\n",
    "path = data_dir + \"ncmm/rings_%d\" % N\n",
    "if not os.path.exists(path):\n",
    "    os.makedirs(path)\n",
    "rings_obj = Rings(N, K, period, bound, center_std, noise_std, radi, fixed_radi, truncate_percent, truncate)\n",
    "# rings_obj.visual_data(num_seqs)\n",
    "rings_obj.sim_save_data(num_seqs, path)"
   ]
  },
  {
   "cell_type": "code",
   "execution_count": null,
   "metadata": {},
   "outputs": [],
   "source": [
    "rings_obj = Rings(N, K, period, bound, center_std, noise_std, radi, fixed_radi, truncate_percent, truncate)"
   ]
  },
  {
   "cell_type": "code",
   "execution_count": null,
   "metadata": {},
   "outputs": [],
   "source": [
    "# rings_obj.visual_data(num_seqs)\n",
    "rings_obj.sim_save_data(num_seqs, path)"
   ]
  },
  {
   "cell_type": "code",
   "execution_count": null,
   "metadata": {},
   "outputs": [],
   "source": [
    "pts_edge = int(rings_obj.num_points / rings_obj.period)\n",
    "angles = np.linspace(0, 2 * math.pi, pts_edge, endpoint=True)"
   ]
  },
  {
   "cell_type": "code",
   "execution_count": null,
   "metadata": {},
   "outputs": [],
   "source": [
    "for i in range(1000):\n",
    "    angles_r = rings_obj.four_missing(pts_edge, angles)\n",
    "    if angles_r.shape[0] != 96:\n",
    "        break\n",
    "    print(i)"
   ]
  },
  {
   "cell_type": "code",
   "execution_count": null,
   "metadata": {},
   "outputs": [],
   "source": [
    "colors = ['#EE7733', 'm', '#0077BB', '#009988']\n",
    "OB = np.load(path + '/ob.npy')\n",
    "STATE = np.load(path + '/state.npy')\n",
    "fs = 7\n",
    "gs = gridspec.GridSpec(1, 5)\n",
    "gs.update(left=0.0 , bottom=0.0, right=1.0, top=1.0, wspace=0, hspace=0)\n",
    "fig = plt.figure(figsize=(5*fs, fs))\n",
    "for i in range(5):\n",
    "    ob = OB[i]\n",
    "    state = STATE[i]\n",
    "    ax = fig.add_subplot(gs[0,i])\n",
    "    assignments = state.argmax(-1)\n",
    "    for k in range(K):\n",
    "        ob_k = ob[np.where(assignments==k)]\n",
    "        ax.scatter(ob_k[:,0], ob_k[:, 1], s=8, alpha=0.9)\n",
    "    ax.set_xlim([-bound, bound])\n",
    "    ax.set_ylim([-bound, bound])\n",
    "    ax.set_xticks([])\n",
    "    ax.set_yticks([])\n",
    "plt.savefig('../../data_rings.png')"
   ]
  },
  {
   "cell_type": "code",
   "execution_count": null,
   "metadata": {},
   "outputs": [],
   "source": [
    "assignments = states.argmax(-1)\n",
    "fig = plt.figure(figsize=(5,5))\n",
    "ax = fig.add_subplot(1,1,1)\n",
    "for k in range(K):\n",
    "    obs_k = obs[np.where(assignments==k)]\n",
    "    ax.scatter(obs_k[:,0], obs_k[:, 1], s=5, alpha=0.8)\n",
    "ax.set_xlim([-bound, bound])\n",
    "ax.set_ylim([-bound, bound])"
   ]
  }
 ],
 "metadata": {
  "kernelspec": {
   "display_name": "Python 3",
   "language": "python",
   "name": "python3"
  },
  "language_info": {
   "codemirror_mode": {
    "name": "ipython",
    "version": 3
   },
   "file_extension": ".py",
   "mimetype": "text/x-python",
   "name": "python",
   "nbconvert_exporter": "python",
   "pygments_lexer": "ipython3",
   "version": "3.6.7"
  }
 },
 "nbformat": 4,
 "nbformat_minor": 2
}
