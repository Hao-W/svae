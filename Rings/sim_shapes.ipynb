{
 "cells": [
  {
   "cell_type": "code",
   "execution_count": 1,
   "metadata": {},
   "outputs": [],
   "source": [
    "%matplotlib inline\n",
    "data_dir = '/home/hao/Research/apg_data/'\n",
    "from sim_shapes import *\n",
    "import os"
   ]
  },
  {
   "cell_type": "code",
   "execution_count": 3,
   "metadata": {},
   "outputs": [],
   "source": [
    "period = 2\n",
    "bound = 8\n",
    "K = 3\n",
    "D = 2\n",
    "radi = 2.0\n",
<<<<<<< HEAD
    "noise_std = 0.05\n",
    "center_std = 2.5\n",
    "\n",
    "num_seqs = 20000\n",
    "PTs = (70, 72, 72) ## number of points for one circle, square, triangle, respectively\n",
=======
    "noise_std = 0.1\n",
    "center_std = 2.5\n",
    "\n",
    "num_seqs = 20000\n",
    "PTs = (60, 64, 60) ## number of points for one circle, square, triangle, respectively\n",
>>>>>>> 275993c21a43e1a2593cc2771950a4fa33b00d4c
    "path = data_dir + \"ncmm/shapes_c=%d_s=%d_t=%d\" % (PTs[0], PTs[1], PTs[2])\n",
    "if not os.path.exists(path):\n",
    "    os.makedirs(path)\n",
    "shapes = Shapes(PTs, K, period, bound, center_std, noise_std, radi)\n",
    "# shapes.visual_data(num_seqs)\n",
    "shapes.sim_save_data(num_seqs, path)"
   ]
  },
  {
   "cell_type": "code",
   "execution_count": null,
   "metadata": {},
   "outputs": [],
   "source": []
  }
 ],
 "metadata": {
  "kernelspec": {
   "display_name": "Python 3",
   "language": "python",
   "name": "python3"
  },
  "language_info": {
   "codemirror_mode": {
    "name": "ipython",
    "version": 3
   },
   "file_extension": ".py",
   "mimetype": "text/x-python",
   "name": "python",
   "nbconvert_exporter": "python",
   "pygments_lexer": "ipython3",
   "version": "3.6.7"
  }
 },
 "nbformat": 4,
 "nbformat_minor": 2
}
