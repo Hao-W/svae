{
 "cells": [
  {
   "cell_type": "code",
   "execution_count": 1,
   "metadata": {},
   "outputs": [],
   "source": [
    "%matplotlib inline\n",
    "data_dir = '/home/hao/Research/apg_data/'\n",
    "from sim_squares import *\n",
    "import os"
   ]
  },
  {
   "cell_type": "code",
   "execution_count": 2,
   "metadata": {},
   "outputs": [],
   "source": [
    "period = 2\n",
    "bound = 10\n",
    "K = 4\n",
    "D = 2\n",
    "radi = 2.0\n",
    "noise_std = 0.1\n",
    "center_std = 2.5\n",
    "fixed_radi = True\n",
    "\n",
    "num_seqs = 2000\n",
    "# for n in range(10):\n",
    "N = 64\n",
    "path = data_dir + \"ncmm/squares_%d\" % N\n",
    "if not os.path.exists(path):\n",
    "    os.makedirs(path)\n",
    "squares_obj = Squares(N, K, period, bound, center_std, noise_std, radi, fixed_radi)\n",
    "# squares_obj.visual_data(num_seqs)\n",
    "squares_obj.sim_save_data(num_seqs, path)"
   ]
  }
 ],
 "metadata": {
  "kernelspec": {
   "display_name": "Python 3",
   "language": "python",
   "name": "python3"
  },
  "language_info": {
   "codemirror_mode": {
    "name": "ipython",
    "version": 3
   },
   "file_extension": ".py",
   "mimetype": "text/x-python",
   "name": "python",
   "nbconvert_exporter": "python",
   "pygments_lexer": "ipython3",
   "version": "3.6.7"
  }
 },
 "nbformat": 4,
 "nbformat_minor": 2
}
